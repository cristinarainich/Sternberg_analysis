{
  "nbformat": 4,
  "nbformat_minor": 0,
  "metadata": {
    "colab": {
      "name": "EEG dataset.ipynb",
      "provenance": [],
      "authorship_tag": "ABX9TyNxdM+Fi4g/ROoBKs1qTNvk",
      "include_colab_link": true
    },
    "kernelspec": {
      "name": "python3",
      "display_name": "Python 3"
    },
    "language_info": {
      "name": "python"
    }
  },
  "cells": [
    {
      "cell_type": "markdown",
      "metadata": {
        "id": "view-in-github",
        "colab_type": "text"
      },
      "source": [
        "<a href=\"https://colab.research.google.com/github/cristinarainich/Sternberg_analysis/blob/main/EEG_dataset.ipynb\" target=\"_parent\"><img src=\"https://colab.research.google.com/assets/colab-badge.svg\" alt=\"Open In Colab\"/></a>"
      ]
    },
    {
      "cell_type": "code",
      "execution_count": 1,
      "metadata": {
        "colab": {
          "base_uri": "https://localhost:8080/"
        },
        "id": "bBLEkbBZcXOV",
        "outputId": "f4d3be38-00e3-4e91-ef91-5981b5168366"
      },
      "outputs": [
        {
          "output_type": "stream",
          "name": "stdout",
          "text": [
            "Populating the interactive namespace from numpy and matplotlib\n"
          ]
        }
      ],
      "source": [
        "import pandas as pd\n",
        "import numpy as np\n",
        "from pathlib import Path\n",
        "import pylab as pl\n",
        "import seaborn\n",
        "import re\n",
        "%pylab inline"
      ]
    },
    {
      "cell_type": "code",
      "source": [
        "from google.colab import drive\n",
        "drive.mount('/content/drive')"
      ],
      "metadata": {
        "colab": {
          "base_uri": "https://localhost:8080/"
        },
        "id": "2xZm-UFAdDDy",
        "outputId": "562c9728-0351-4993-eada-06bb17bf5f52"
      },
      "execution_count": 2,
      "outputs": [
        {
          "output_type": "stream",
          "name": "stdout",
          "text": [
            "Drive already mounted at /content/drive; to attempt to forcibly remount, call drive.mount(\"/content/drive\", force_remount=True).\n"
          ]
        }
      ]
    },
    {
      "cell_type": "code",
      "source": [
        "working_path = Path('/content/drive/MyDrive/CoganLab')"
      ],
      "metadata": {
        "id": "Rfwe05B_dGt6"
      },
      "execution_count": 3,
      "outputs": []
    },
    {
      "cell_type": "code",
      "source": [
        "eeg = pd.read_csv(\n",
        "    working_path.joinpath('eeg_all.csv'),\n",
        "    index_col=None\n",
        ")"
      ],
      "metadata": {
        "id": "fNJuVyYndSa8"
      },
      "execution_count": 4,
      "outputs": []
    },
    {
      "cell_type": "markdown",
      "source": [
        "## Preprocessing"
      ],
      "metadata": {
        "id": "Pfp9Ml3dAwDY"
      }
    },
    {
      "cell_type": "code",
      "source": [
        "eeg.columns"
      ],
      "metadata": {
        "colab": {
          "base_uri": "https://localhost:8080/"
        },
        "id": "aDnZ4J50dTy6",
        "outputId": "88e7c178-06b0-4e83-e987-cb477083bff3"
      },
      "execution_count": 5,
      "outputs": [
        {
          "output_type": "execute_result",
          "data": {
            "text/plain": [
              "Index(['Unnamed: 0', 'Trial', 'Subject', 'Block', 'ProbeType', 'ProbeTypeName',\n",
              "       'StimulusCategory', 'ListenCue', 'ReactionTime', 'KeyCode', 'Response',\n",
              "       'ResponseCorrect', 'Omission', 'StimulusAudioStart',\n",
              "       'StimulusAlignedTrigger', 'DelayPeriodOnset', 'MaintenancePeriodOnset',\n",
              "       'ProbeCueOnset', 'ProbeAudioStart', 'ProbeAlignedTrigger',\n",
              "       'TriggerValueCondition', 'StimulusSounds_idx', 'StimulusSounds_name',\n",
              "       'ProbeCategory', 'ProbeSound_idx', 'ProbeSound_name'],\n",
              "      dtype='object')"
            ]
          },
          "metadata": {},
          "execution_count": 5
        }
      ]
    },
    {
      "cell_type": "code",
      "source": [
        "eeg = eeg.loc[:, eeg.columns != 'Unnamed: 0'] # some extra column appeared while uploading data"
      ],
      "metadata": {
        "id": "D-vQ_gq1eVIN"
      },
      "execution_count": 6,
      "outputs": []
    },
    {
      "cell_type": "code",
      "source": [
        "eeg.isnull().sum()"
      ],
      "metadata": {
        "colab": {
          "base_uri": "https://localhost:8080/"
        },
        "id": "6VBGyrO7efts",
        "outputId": "6f39567a-3cc9-47a1-d697-a6e38edc99ae"
      },
      "execution_count": 7,
      "outputs": [
        {
          "output_type": "execute_result",
          "data": {
            "text/plain": [
              "Trial                       0\n",
              "Subject                     0\n",
              "Block                       0\n",
              "ProbeType                   0\n",
              "ProbeTypeName               0\n",
              "StimulusCategory            0\n",
              "ListenCue                   0\n",
              "ReactionTime              100\n",
              "KeyCode                     0\n",
              "Response                    0\n",
              "ResponseCorrect             0\n",
              "Omission                    0\n",
              "StimulusAudioStart          0\n",
              "StimulusAlignedTrigger      0\n",
              "DelayPeriodOnset            0\n",
              "MaintenancePeriodOnset      0\n",
              "ProbeCueOnset               0\n",
              "ProbeAudioStart             0\n",
              "ProbeAlignedTrigger         0\n",
              "TriggerValueCondition       0\n",
              "StimulusSounds_idx          0\n",
              "StimulusSounds_name         0\n",
              "ProbeCategory               0\n",
              "ProbeSound_idx              0\n",
              "ProbeSound_name             0\n",
              "dtype: int64"
            ]
          },
          "metadata": {},
          "execution_count": 7
        }
      ]
    },
    {
      "cell_type": "code",
      "source": [
        "eeg.head()"
      ],
      "metadata": {
        "colab": {
          "base_uri": "https://localhost:8080/",
          "height": 473
        },
        "id": "DPf_NE66d1vL",
        "outputId": "76dfb9f6-dea5-4b18-c040-d5f6b779b6a3"
      },
      "execution_count": 8,
      "outputs": [
        {
          "output_type": "execute_result",
          "data": {
            "text/plain": [
              "   Trial Subject  Block  ProbeType    ProbeTypeName StimulusCategory  \\\n",
              "0      0      E2      1          1  out_of_sequence       High Words   \n",
              "1      1      E2      1          2      in_sequence    Low Non-words   \n",
              "2      2      E2      1          2      in_sequence        Low Words   \n",
              "3      3      E2      1          2      in_sequence       High Words   \n",
              "4      4      E2      1          1  out_of_sequence    Low Non-words   \n",
              "\n",
              "     ListenCue  ReactionTime       KeyCode     Response  ...  \\\n",
              "0  5404.814769           NaN  2.Left3.Left  No Response  ...   \n",
              "1  5418.047203      1.282162        2.Left          Yes  ...   \n",
              "2  5431.062824      0.987854        2.Left          Yes  ...   \n",
              "3  5447.795252      1.588743        2.Left          Yes  ...   \n",
              "4  5461.111022      1.184043        3.Left           No  ...   \n",
              "\n",
              "   MaintenancePeriodOnset ProbeCueOnset ProbeAudioStart ProbeAlignedTrigger  \\\n",
              "0             5411.364574   5413.680791     5414.747383         5414.747408   \n",
              "1             5424.596991   5426.929894     5427.996527         5427.996549   \n",
              "2             5441.612599   5443.962166     5445.028782         5445.028767   \n",
              "3             5454.344797   5456.677918     5457.744597         5457.744578   \n",
              "4             5469.660532   5472.110369     5473.176951         5473.176957   \n",
              "\n",
              "   TriggerValueCondition              StimulusSounds_idx  \\\n",
              "0                    101                [6, 7, 8, 4, 10]   \n",
              "1                    104            [39, 32, 35, 37, 38]   \n",
              "2                    103  [[27 23 22 24 25 29 26 28 30]]   \n",
              "3                    101                 [2, 5, 8, 4, 6]   \n",
              "4                    104        [[34 35 36 40 39 33 37]]   \n",
              "\n",
              "                                 StimulusSounds_name   ProbeCategory  \\\n",
              "0  [array(['mon.wav'], dtype='<U7'), array(['pcn....       Low Words   \n",
              "1  [array(['yuf.wav'], dtype='<U7'), array(['JcG....   Low Non-words   \n",
              "2  [[array(['tub.wav'], dtype='<U7')]\\n [array(['...       Low Words   \n",
              "3  [array(['fEl.wav'], dtype='<U7'), array(['lEr....      High Words   \n",
              "4  [[array(['gWT.wav'], dtype='<U7')]\\n [array(['...  High Non-Words   \n",
              "\n",
              "   ProbeSound_idx  ProbeSound_name  \n",
              "0              21          Sur.wav  \n",
              "1              38          ycG.wav  \n",
              "2              30          yuT.wav  \n",
              "3               5          lEr.wav  \n",
              "4              13          g@n.wav  \n",
              "\n",
              "[5 rows x 25 columns]"
            ],
            "text/html": [
              "\n",
              "  <div id=\"df-41714278-49bf-40a6-8148-c6ca813af484\">\n",
              "    <div class=\"colab-df-container\">\n",
              "      <div>\n",
              "<style scoped>\n",
              "    .dataframe tbody tr th:only-of-type {\n",
              "        vertical-align: middle;\n",
              "    }\n",
              "\n",
              "    .dataframe tbody tr th {\n",
              "        vertical-align: top;\n",
              "    }\n",
              "\n",
              "    .dataframe thead th {\n",
              "        text-align: right;\n",
              "    }\n",
              "</style>\n",
              "<table border=\"1\" class=\"dataframe\">\n",
              "  <thead>\n",
              "    <tr style=\"text-align: right;\">\n",
              "      <th></th>\n",
              "      <th>Trial</th>\n",
              "      <th>Subject</th>\n",
              "      <th>Block</th>\n",
              "      <th>ProbeType</th>\n",
              "      <th>ProbeTypeName</th>\n",
              "      <th>StimulusCategory</th>\n",
              "      <th>ListenCue</th>\n",
              "      <th>ReactionTime</th>\n",
              "      <th>KeyCode</th>\n",
              "      <th>Response</th>\n",
              "      <th>...</th>\n",
              "      <th>MaintenancePeriodOnset</th>\n",
              "      <th>ProbeCueOnset</th>\n",
              "      <th>ProbeAudioStart</th>\n",
              "      <th>ProbeAlignedTrigger</th>\n",
              "      <th>TriggerValueCondition</th>\n",
              "      <th>StimulusSounds_idx</th>\n",
              "      <th>StimulusSounds_name</th>\n",
              "      <th>ProbeCategory</th>\n",
              "      <th>ProbeSound_idx</th>\n",
              "      <th>ProbeSound_name</th>\n",
              "    </tr>\n",
              "  </thead>\n",
              "  <tbody>\n",
              "    <tr>\n",
              "      <th>0</th>\n",
              "      <td>0</td>\n",
              "      <td>E2</td>\n",
              "      <td>1</td>\n",
              "      <td>1</td>\n",
              "      <td>out_of_sequence</td>\n",
              "      <td>High Words</td>\n",
              "      <td>5404.814769</td>\n",
              "      <td>NaN</td>\n",
              "      <td>2.Left3.Left</td>\n",
              "      <td>No Response</td>\n",
              "      <td>...</td>\n",
              "      <td>5411.364574</td>\n",
              "      <td>5413.680791</td>\n",
              "      <td>5414.747383</td>\n",
              "      <td>5414.747408</td>\n",
              "      <td>101</td>\n",
              "      <td>[6, 7, 8, 4, 10]</td>\n",
              "      <td>[array(['mon.wav'], dtype='&lt;U7'), array(['pcn....</td>\n",
              "      <td>Low Words</td>\n",
              "      <td>21</td>\n",
              "      <td>Sur.wav</td>\n",
              "    </tr>\n",
              "    <tr>\n",
              "      <th>1</th>\n",
              "      <td>1</td>\n",
              "      <td>E2</td>\n",
              "      <td>1</td>\n",
              "      <td>2</td>\n",
              "      <td>in_sequence</td>\n",
              "      <td>Low Non-words</td>\n",
              "      <td>5418.047203</td>\n",
              "      <td>1.282162</td>\n",
              "      <td>2.Left</td>\n",
              "      <td>Yes</td>\n",
              "      <td>...</td>\n",
              "      <td>5424.596991</td>\n",
              "      <td>5426.929894</td>\n",
              "      <td>5427.996527</td>\n",
              "      <td>5427.996549</td>\n",
              "      <td>104</td>\n",
              "      <td>[39, 32, 35, 37, 38]</td>\n",
              "      <td>[array(['yuf.wav'], dtype='&lt;U7'), array(['JcG....</td>\n",
              "      <td>Low Non-words</td>\n",
              "      <td>38</td>\n",
              "      <td>ycG.wav</td>\n",
              "    </tr>\n",
              "    <tr>\n",
              "      <th>2</th>\n",
              "      <td>2</td>\n",
              "      <td>E2</td>\n",
              "      <td>1</td>\n",
              "      <td>2</td>\n",
              "      <td>in_sequence</td>\n",
              "      <td>Low Words</td>\n",
              "      <td>5431.062824</td>\n",
              "      <td>0.987854</td>\n",
              "      <td>2.Left</td>\n",
              "      <td>Yes</td>\n",
              "      <td>...</td>\n",
              "      <td>5441.612599</td>\n",
              "      <td>5443.962166</td>\n",
              "      <td>5445.028782</td>\n",
              "      <td>5445.028767</td>\n",
              "      <td>103</td>\n",
              "      <td>[[27 23 22 24 25 29 26 28 30]]</td>\n",
              "      <td>[[array(['tub.wav'], dtype='&lt;U7')]\\n [array(['...</td>\n",
              "      <td>Low Words</td>\n",
              "      <td>30</td>\n",
              "      <td>yuT.wav</td>\n",
              "    </tr>\n",
              "    <tr>\n",
              "      <th>3</th>\n",
              "      <td>3</td>\n",
              "      <td>E2</td>\n",
              "      <td>1</td>\n",
              "      <td>2</td>\n",
              "      <td>in_sequence</td>\n",
              "      <td>High Words</td>\n",
              "      <td>5447.795252</td>\n",
              "      <td>1.588743</td>\n",
              "      <td>2.Left</td>\n",
              "      <td>Yes</td>\n",
              "      <td>...</td>\n",
              "      <td>5454.344797</td>\n",
              "      <td>5456.677918</td>\n",
              "      <td>5457.744597</td>\n",
              "      <td>5457.744578</td>\n",
              "      <td>101</td>\n",
              "      <td>[2, 5, 8, 4, 6]</td>\n",
              "      <td>[array(['fEl.wav'], dtype='&lt;U7'), array(['lEr....</td>\n",
              "      <td>High Words</td>\n",
              "      <td>5</td>\n",
              "      <td>lEr.wav</td>\n",
              "    </tr>\n",
              "    <tr>\n",
              "      <th>4</th>\n",
              "      <td>4</td>\n",
              "      <td>E2</td>\n",
              "      <td>1</td>\n",
              "      <td>1</td>\n",
              "      <td>out_of_sequence</td>\n",
              "      <td>Low Non-words</td>\n",
              "      <td>5461.111022</td>\n",
              "      <td>1.184043</td>\n",
              "      <td>3.Left</td>\n",
              "      <td>No</td>\n",
              "      <td>...</td>\n",
              "      <td>5469.660532</td>\n",
              "      <td>5472.110369</td>\n",
              "      <td>5473.176951</td>\n",
              "      <td>5473.176957</td>\n",
              "      <td>104</td>\n",
              "      <td>[[34 35 36 40 39 33 37]]</td>\n",
              "      <td>[[array(['gWT.wav'], dtype='&lt;U7')]\\n [array(['...</td>\n",
              "      <td>High Non-Words</td>\n",
              "      <td>13</td>\n",
              "      <td>g@n.wav</td>\n",
              "    </tr>\n",
              "  </tbody>\n",
              "</table>\n",
              "<p>5 rows × 25 columns</p>\n",
              "</div>\n",
              "      <button class=\"colab-df-convert\" onclick=\"convertToInteractive('df-41714278-49bf-40a6-8148-c6ca813af484')\"\n",
              "              title=\"Convert this dataframe to an interactive table.\"\n",
              "              style=\"display:none;\">\n",
              "        \n",
              "  <svg xmlns=\"http://www.w3.org/2000/svg\" height=\"24px\"viewBox=\"0 0 24 24\"\n",
              "       width=\"24px\">\n",
              "    <path d=\"M0 0h24v24H0V0z\" fill=\"none\"/>\n",
              "    <path d=\"M18.56 5.44l.94 2.06.94-2.06 2.06-.94-2.06-.94-.94-2.06-.94 2.06-2.06.94zm-11 1L8.5 8.5l.94-2.06 2.06-.94-2.06-.94L8.5 2.5l-.94 2.06-2.06.94zm10 10l.94 2.06.94-2.06 2.06-.94-2.06-.94-.94-2.06-.94 2.06-2.06.94z\"/><path d=\"M17.41 7.96l-1.37-1.37c-.4-.4-.92-.59-1.43-.59-.52 0-1.04.2-1.43.59L10.3 9.45l-7.72 7.72c-.78.78-.78 2.05 0 2.83L4 21.41c.39.39.9.59 1.41.59.51 0 1.02-.2 1.41-.59l7.78-7.78 2.81-2.81c.8-.78.8-2.07 0-2.86zM5.41 20L4 18.59l7.72-7.72 1.47 1.35L5.41 20z\"/>\n",
              "  </svg>\n",
              "      </button>\n",
              "      \n",
              "  <style>\n",
              "    .colab-df-container {\n",
              "      display:flex;\n",
              "      flex-wrap:wrap;\n",
              "      gap: 12px;\n",
              "    }\n",
              "\n",
              "    .colab-df-convert {\n",
              "      background-color: #E8F0FE;\n",
              "      border: none;\n",
              "      border-radius: 50%;\n",
              "      cursor: pointer;\n",
              "      display: none;\n",
              "      fill: #1967D2;\n",
              "      height: 32px;\n",
              "      padding: 0 0 0 0;\n",
              "      width: 32px;\n",
              "    }\n",
              "\n",
              "    .colab-df-convert:hover {\n",
              "      background-color: #E2EBFA;\n",
              "      box-shadow: 0px 1px 2px rgba(60, 64, 67, 0.3), 0px 1px 3px 1px rgba(60, 64, 67, 0.15);\n",
              "      fill: #174EA6;\n",
              "    }\n",
              "\n",
              "    [theme=dark] .colab-df-convert {\n",
              "      background-color: #3B4455;\n",
              "      fill: #D2E3FC;\n",
              "    }\n",
              "\n",
              "    [theme=dark] .colab-df-convert:hover {\n",
              "      background-color: #434B5C;\n",
              "      box-shadow: 0px 1px 3px 1px rgba(0, 0, 0, 0.15);\n",
              "      filter: drop-shadow(0px 1px 2px rgba(0, 0, 0, 0.3));\n",
              "      fill: #FFFFFF;\n",
              "    }\n",
              "  </style>\n",
              "\n",
              "      <script>\n",
              "        const buttonEl =\n",
              "          document.querySelector('#df-41714278-49bf-40a6-8148-c6ca813af484 button.colab-df-convert');\n",
              "        buttonEl.style.display =\n",
              "          google.colab.kernel.accessAllowed ? 'block' : 'none';\n",
              "\n",
              "        async function convertToInteractive(key) {\n",
              "          const element = document.querySelector('#df-41714278-49bf-40a6-8148-c6ca813af484');\n",
              "          const dataTable =\n",
              "            await google.colab.kernel.invokeFunction('convertToInteractive',\n",
              "                                                     [key], {});\n",
              "          if (!dataTable) return;\n",
              "\n",
              "          const docLinkHtml = 'Like what you see? Visit the ' +\n",
              "            '<a target=\"_blank\" href=https://colab.research.google.com/notebooks/data_table.ipynb>data table notebook</a>'\n",
              "            + ' to learn more about interactive tables.';\n",
              "          element.innerHTML = '';\n",
              "          dataTable['output_type'] = 'display_data';\n",
              "          await google.colab.output.renderOutput(dataTable, element);\n",
              "          const docLink = document.createElement('div');\n",
              "          docLink.innerHTML = docLinkHtml;\n",
              "          element.appendChild(docLink);\n",
              "        }\n",
              "      </script>\n",
              "    </div>\n",
              "  </div>\n",
              "  "
            ]
          },
          "metadata": {},
          "execution_count": 8
        }
      ]
    },
    {
      "cell_type": "code",
      "source": [
        "eeg.shape"
      ],
      "metadata": {
        "colab": {
          "base_uri": "https://localhost:8080/"
        },
        "id": "MRX8xbp-gbaf",
        "outputId": "63397d29-a4ad-4841-b3c0-14dc1c2e21da"
      },
      "execution_count": 9,
      "outputs": [
        {
          "output_type": "execute_result",
          "data": {
            "text/plain": [
              "(5568, 25)"
            ]
          },
          "metadata": {},
          "execution_count": 9
        }
      ]
    },
    {
      "cell_type": "code",
      "source": [
        "eeg_subset = eeg[[\n",
        "                 'Trial', 'Subject', 'Block', 'ProbeType', 'ProbeSound_idx',\n",
        "                 'ProbeTypeName', 'StimulusCategory', 'ReactionTime', 'KeyCode',\n",
        "                 'Response', 'ResponseCorrect', 'Omission', 'ProbeCategory',\n",
        "                  'StimulusSounds_name', 'ProbeSound_name', 'StimulusSounds_idx'                 \n",
        "]]"
      ],
      "metadata": {
        "id": "fxX0ACMwejo8"
      },
      "execution_count": 10,
      "outputs": []
    },
    {
      "cell_type": "code",
      "source": [
        "eeg_subset.head()"
      ],
      "metadata": {
        "colab": {
          "base_uri": "https://localhost:8080/",
          "height": 337
        },
        "id": "qsryPPIPfftS",
        "outputId": "856e167a-269e-4fd8-ded1-b07dc70fa956"
      },
      "execution_count": 11,
      "outputs": [
        {
          "output_type": "execute_result",
          "data": {
            "text/plain": [
              "   Trial Subject  Block  ProbeType  ProbeSound_idx    ProbeTypeName  \\\n",
              "0      0      E2      1          1              21  out_of_sequence   \n",
              "1      1      E2      1          2              38      in_sequence   \n",
              "2      2      E2      1          2              30      in_sequence   \n",
              "3      3      E2      1          2               5      in_sequence   \n",
              "4      4      E2      1          1              13  out_of_sequence   \n",
              "\n",
              "  StimulusCategory  ReactionTime       KeyCode     Response  ResponseCorrect  \\\n",
              "0       High Words           NaN  2.Left3.Left  No Response                0   \n",
              "1    Low Non-words      1.282162        2.Left          Yes                1   \n",
              "2        Low Words      0.987854        2.Left          Yes                1   \n",
              "3       High Words      1.588743        2.Left          Yes                1   \n",
              "4    Low Non-words      1.184043        3.Left           No                1   \n",
              "\n",
              "      Omission   ProbeCategory  \\\n",
              "0  No Response       Low Words   \n",
              "1    Responded   Low Non-words   \n",
              "2    Responded       Low Words   \n",
              "3    Responded      High Words   \n",
              "4    Responded  High Non-Words   \n",
              "\n",
              "                                 StimulusSounds_name ProbeSound_name  \\\n",
              "0  [array(['mon.wav'], dtype='<U7'), array(['pcn....         Sur.wav   \n",
              "1  [array(['yuf.wav'], dtype='<U7'), array(['JcG....         ycG.wav   \n",
              "2  [[array(['tub.wav'], dtype='<U7')]\\n [array(['...         yuT.wav   \n",
              "3  [array(['fEl.wav'], dtype='<U7'), array(['lEr....         lEr.wav   \n",
              "4  [[array(['gWT.wav'], dtype='<U7')]\\n [array(['...         g@n.wav   \n",
              "\n",
              "               StimulusSounds_idx  \n",
              "0                [6, 7, 8, 4, 10]  \n",
              "1            [39, 32, 35, 37, 38]  \n",
              "2  [[27 23 22 24 25 29 26 28 30]]  \n",
              "3                 [2, 5, 8, 4, 6]  \n",
              "4        [[34 35 36 40 39 33 37]]  "
            ],
            "text/html": [
              "\n",
              "  <div id=\"df-d6bd3979-c892-4250-994f-e4535fbe157a\">\n",
              "    <div class=\"colab-df-container\">\n",
              "      <div>\n",
              "<style scoped>\n",
              "    .dataframe tbody tr th:only-of-type {\n",
              "        vertical-align: middle;\n",
              "    }\n",
              "\n",
              "    .dataframe tbody tr th {\n",
              "        vertical-align: top;\n",
              "    }\n",
              "\n",
              "    .dataframe thead th {\n",
              "        text-align: right;\n",
              "    }\n",
              "</style>\n",
              "<table border=\"1\" class=\"dataframe\">\n",
              "  <thead>\n",
              "    <tr style=\"text-align: right;\">\n",
              "      <th></th>\n",
              "      <th>Trial</th>\n",
              "      <th>Subject</th>\n",
              "      <th>Block</th>\n",
              "      <th>ProbeType</th>\n",
              "      <th>ProbeSound_idx</th>\n",
              "      <th>ProbeTypeName</th>\n",
              "      <th>StimulusCategory</th>\n",
              "      <th>ReactionTime</th>\n",
              "      <th>KeyCode</th>\n",
              "      <th>Response</th>\n",
              "      <th>ResponseCorrect</th>\n",
              "      <th>Omission</th>\n",
              "      <th>ProbeCategory</th>\n",
              "      <th>StimulusSounds_name</th>\n",
              "      <th>ProbeSound_name</th>\n",
              "      <th>StimulusSounds_idx</th>\n",
              "    </tr>\n",
              "  </thead>\n",
              "  <tbody>\n",
              "    <tr>\n",
              "      <th>0</th>\n",
              "      <td>0</td>\n",
              "      <td>E2</td>\n",
              "      <td>1</td>\n",
              "      <td>1</td>\n",
              "      <td>21</td>\n",
              "      <td>out_of_sequence</td>\n",
              "      <td>High Words</td>\n",
              "      <td>NaN</td>\n",
              "      <td>2.Left3.Left</td>\n",
              "      <td>No Response</td>\n",
              "      <td>0</td>\n",
              "      <td>No Response</td>\n",
              "      <td>Low Words</td>\n",
              "      <td>[array(['mon.wav'], dtype='&lt;U7'), array(['pcn....</td>\n",
              "      <td>Sur.wav</td>\n",
              "      <td>[6, 7, 8, 4, 10]</td>\n",
              "    </tr>\n",
              "    <tr>\n",
              "      <th>1</th>\n",
              "      <td>1</td>\n",
              "      <td>E2</td>\n",
              "      <td>1</td>\n",
              "      <td>2</td>\n",
              "      <td>38</td>\n",
              "      <td>in_sequence</td>\n",
              "      <td>Low Non-words</td>\n",
              "      <td>1.282162</td>\n",
              "      <td>2.Left</td>\n",
              "      <td>Yes</td>\n",
              "      <td>1</td>\n",
              "      <td>Responded</td>\n",
              "      <td>Low Non-words</td>\n",
              "      <td>[array(['yuf.wav'], dtype='&lt;U7'), array(['JcG....</td>\n",
              "      <td>ycG.wav</td>\n",
              "      <td>[39, 32, 35, 37, 38]</td>\n",
              "    </tr>\n",
              "    <tr>\n",
              "      <th>2</th>\n",
              "      <td>2</td>\n",
              "      <td>E2</td>\n",
              "      <td>1</td>\n",
              "      <td>2</td>\n",
              "      <td>30</td>\n",
              "      <td>in_sequence</td>\n",
              "      <td>Low Words</td>\n",
              "      <td>0.987854</td>\n",
              "      <td>2.Left</td>\n",
              "      <td>Yes</td>\n",
              "      <td>1</td>\n",
              "      <td>Responded</td>\n",
              "      <td>Low Words</td>\n",
              "      <td>[[array(['tub.wav'], dtype='&lt;U7')]\\n [array(['...</td>\n",
              "      <td>yuT.wav</td>\n",
              "      <td>[[27 23 22 24 25 29 26 28 30]]</td>\n",
              "    </tr>\n",
              "    <tr>\n",
              "      <th>3</th>\n",
              "      <td>3</td>\n",
              "      <td>E2</td>\n",
              "      <td>1</td>\n",
              "      <td>2</td>\n",
              "      <td>5</td>\n",
              "      <td>in_sequence</td>\n",
              "      <td>High Words</td>\n",
              "      <td>1.588743</td>\n",
              "      <td>2.Left</td>\n",
              "      <td>Yes</td>\n",
              "      <td>1</td>\n",
              "      <td>Responded</td>\n",
              "      <td>High Words</td>\n",
              "      <td>[array(['fEl.wav'], dtype='&lt;U7'), array(['lEr....</td>\n",
              "      <td>lEr.wav</td>\n",
              "      <td>[2, 5, 8, 4, 6]</td>\n",
              "    </tr>\n",
              "    <tr>\n",
              "      <th>4</th>\n",
              "      <td>4</td>\n",
              "      <td>E2</td>\n",
              "      <td>1</td>\n",
              "      <td>1</td>\n",
              "      <td>13</td>\n",
              "      <td>out_of_sequence</td>\n",
              "      <td>Low Non-words</td>\n",
              "      <td>1.184043</td>\n",
              "      <td>3.Left</td>\n",
              "      <td>No</td>\n",
              "      <td>1</td>\n",
              "      <td>Responded</td>\n",
              "      <td>High Non-Words</td>\n",
              "      <td>[[array(['gWT.wav'], dtype='&lt;U7')]\\n [array(['...</td>\n",
              "      <td>g@n.wav</td>\n",
              "      <td>[[34 35 36 40 39 33 37]]</td>\n",
              "    </tr>\n",
              "  </tbody>\n",
              "</table>\n",
              "</div>\n",
              "      <button class=\"colab-df-convert\" onclick=\"convertToInteractive('df-d6bd3979-c892-4250-994f-e4535fbe157a')\"\n",
              "              title=\"Convert this dataframe to an interactive table.\"\n",
              "              style=\"display:none;\">\n",
              "        \n",
              "  <svg xmlns=\"http://www.w3.org/2000/svg\" height=\"24px\"viewBox=\"0 0 24 24\"\n",
              "       width=\"24px\">\n",
              "    <path d=\"M0 0h24v24H0V0z\" fill=\"none\"/>\n",
              "    <path d=\"M18.56 5.44l.94 2.06.94-2.06 2.06-.94-2.06-.94-.94-2.06-.94 2.06-2.06.94zm-11 1L8.5 8.5l.94-2.06 2.06-.94-2.06-.94L8.5 2.5l-.94 2.06-2.06.94zm10 10l.94 2.06.94-2.06 2.06-.94-2.06-.94-.94-2.06-.94 2.06-2.06.94z\"/><path d=\"M17.41 7.96l-1.37-1.37c-.4-.4-.92-.59-1.43-.59-.52 0-1.04.2-1.43.59L10.3 9.45l-7.72 7.72c-.78.78-.78 2.05 0 2.83L4 21.41c.39.39.9.59 1.41.59.51 0 1.02-.2 1.41-.59l7.78-7.78 2.81-2.81c.8-.78.8-2.07 0-2.86zM5.41 20L4 18.59l7.72-7.72 1.47 1.35L5.41 20z\"/>\n",
              "  </svg>\n",
              "      </button>\n",
              "      \n",
              "  <style>\n",
              "    .colab-df-container {\n",
              "      display:flex;\n",
              "      flex-wrap:wrap;\n",
              "      gap: 12px;\n",
              "    }\n",
              "\n",
              "    .colab-df-convert {\n",
              "      background-color: #E8F0FE;\n",
              "      border: none;\n",
              "      border-radius: 50%;\n",
              "      cursor: pointer;\n",
              "      display: none;\n",
              "      fill: #1967D2;\n",
              "      height: 32px;\n",
              "      padding: 0 0 0 0;\n",
              "      width: 32px;\n",
              "    }\n",
              "\n",
              "    .colab-df-convert:hover {\n",
              "      background-color: #E2EBFA;\n",
              "      box-shadow: 0px 1px 2px rgba(60, 64, 67, 0.3), 0px 1px 3px 1px rgba(60, 64, 67, 0.15);\n",
              "      fill: #174EA6;\n",
              "    }\n",
              "\n",
              "    [theme=dark] .colab-df-convert {\n",
              "      background-color: #3B4455;\n",
              "      fill: #D2E3FC;\n",
              "    }\n",
              "\n",
              "    [theme=dark] .colab-df-convert:hover {\n",
              "      background-color: #434B5C;\n",
              "      box-shadow: 0px 1px 3px 1px rgba(0, 0, 0, 0.15);\n",
              "      filter: drop-shadow(0px 1px 2px rgba(0, 0, 0, 0.3));\n",
              "      fill: #FFFFFF;\n",
              "    }\n",
              "  </style>\n",
              "\n",
              "      <script>\n",
              "        const buttonEl =\n",
              "          document.querySelector('#df-d6bd3979-c892-4250-994f-e4535fbe157a button.colab-df-convert');\n",
              "        buttonEl.style.display =\n",
              "          google.colab.kernel.accessAllowed ? 'block' : 'none';\n",
              "\n",
              "        async function convertToInteractive(key) {\n",
              "          const element = document.querySelector('#df-d6bd3979-c892-4250-994f-e4535fbe157a');\n",
              "          const dataTable =\n",
              "            await google.colab.kernel.invokeFunction('convertToInteractive',\n",
              "                                                     [key], {});\n",
              "          if (!dataTable) return;\n",
              "\n",
              "          const docLinkHtml = 'Like what you see? Visit the ' +\n",
              "            '<a target=\"_blank\" href=https://colab.research.google.com/notebooks/data_table.ipynb>data table notebook</a>'\n",
              "            + ' to learn more about interactive tables.';\n",
              "          element.innerHTML = '';\n",
              "          dataTable['output_type'] = 'display_data';\n",
              "          await google.colab.output.renderOutput(dataTable, element);\n",
              "          const docLink = document.createElement('div');\n",
              "          docLink.innerHTML = docLinkHtml;\n",
              "          element.appendChild(docLink);\n",
              "        }\n",
              "      </script>\n",
              "    </div>\n",
              "  </div>\n",
              "  "
            ]
          },
          "metadata": {},
          "execution_count": 11
        }
      ]
    },
    {
      "cell_type": "code",
      "source": [
        "eeg_subset[eeg_subset['Response'] == 'No Response']"
      ],
      "metadata": {
        "colab": {
          "base_uri": "https://localhost:8080/",
          "height": 641
        },
        "id": "ePM8emtmflo9",
        "outputId": "bf75af46-0a79-49be-82ef-bb5e6b05e0d0"
      },
      "execution_count": 12,
      "outputs": [
        {
          "output_type": "execute_result",
          "data": {
            "text/plain": [
              "      Trial Subject  Block  ProbeType  ProbeSound_idx    ProbeTypeName  \\\n",
              "0         0      E2      1          1              21  out_of_sequence   \n",
              "63       63      E2      2          2              11      in_sequence   \n",
              "74       74      E2      3          2               6      in_sequence   \n",
              "298     106      E3      4          1              11  out_of_sequence   \n",
              "310     118      E3      4          1               6  out_of_sequence   \n",
              "...     ...     ...    ...        ...             ...              ...   \n",
              "5064     72     E30      3          1              33  out_of_sequence   \n",
              "5131    139     E30      5          1              16  out_of_sequence   \n",
              "5159    167     E30      6          1              37  out_of_sequence   \n",
              "5332    148     E31      5          1              19  out_of_sequence   \n",
              "5513    137     E33      5          1              14  out_of_sequence   \n",
              "\n",
              "     StimulusCategory  ReactionTime       KeyCode     Response  \\\n",
              "0          High Words           NaN  2.Left3.Left  No Response   \n",
              "63     High Non-Words           NaN  2.Left3.Left  No Response   \n",
              "74         High Words           NaN  2.Left3.Left  No Response   \n",
              "298    High Non-Words           NaN  2.Left3.Left  No Response   \n",
              "310         Low Words           NaN  2.Left3.Left  No Response   \n",
              "...               ...           ...           ...          ...   \n",
              "5064   High Non-Words           NaN  2.Left3.Left  No Response   \n",
              "5131   High Non-Words           NaN  2.Left3.Left  No Response   \n",
              "5159   High Non-Words           NaN  2.Left3.Left  No Response   \n",
              "5332    Low Non-words           NaN  2.Left3.Left  No Response   \n",
              "5513    Low Non-words           NaN  2.Left3.Left  No Response   \n",
              "\n",
              "      ResponseCorrect     Omission   ProbeCategory  \\\n",
              "0                   0  No Response       Low Words   \n",
              "63                  0  No Response  High Non-Words   \n",
              "74                  0  No Response      High Words   \n",
              "298                 0  No Response  High Non-Words   \n",
              "310                 0  No Response      High Words   \n",
              "...               ...          ...             ...   \n",
              "5064                0  No Response   Low Non-Words   \n",
              "5131                0  No Response  High Non-Words   \n",
              "5159                0  No Response   Low Non-Words   \n",
              "5332                0  No Response  High Non-Words   \n",
              "5513                0  No Response  High Non-Words   \n",
              "\n",
              "                                    StimulusSounds_name ProbeSound_name  \\\n",
              "0     [array(['mon.wav'], dtype='<U7'), array(['pcn....         Sur.wav   \n",
              "63    [[array(['kEl.wav'], dtype='<U7')]\\n [array(['...         Rin.wav   \n",
              "74    [[array(['wIC.wav'], dtype='<U7')]\\n [array(['...         mon.wav   \n",
              "298   [[array(['pun.wav'], dtype='<U7')]\\n [array(['...         Rin.wav   \n",
              "310   [[array(['Sur.wav'], dtype='<U7')]\\n [array(['...         mon.wav   \n",
              "...                                                 ...             ...   \n",
              "5064  [[array(['paon.wav'], dtype='<U8')]\\n [array([...       gawth.wav   \n",
              "5131  [[array(['rihn.wav'], dtype='<U8')]\\n [array([...        paon.wav   \n",
              "5159  [array(['rehl.wav'], dtype='<U8'), array(['sao...        wehz.wav   \n",
              "5332  [[array(['kuv.wav'], dtype='<U7')]\\n [array(['...        rihn.wav   \n",
              "5513  [[array(['gawth.wav'], dtype='<U9')]\\n [array(...        kehl.wav   \n",
              "\n",
              "                  StimulusSounds_idx  \n",
              "0                   [6, 7, 8, 4, 10]  \n",
              "63                      [[14 11 17]]  \n",
              "74                      [[10  6  9]]  \n",
              "298                     [[18 20 14]]  \n",
              "310   [[21 27 24 22 30 26 28 23 29]]  \n",
              "...                              ...  \n",
              "5064        [[16 12 15 19 13 17 20]]  \n",
              "5131  [[19 15 18 11 13 14 12 17 20]]  \n",
              "5159            [18, 20, 16, 19, 17]  \n",
              "5332  [[35 32 40 34 38 39 37 33 31]]  \n",
              "5513  [[33 31 35 34 37 32 39 38 36]]  \n",
              "\n",
              "[100 rows x 16 columns]"
            ],
            "text/html": [
              "\n",
              "  <div id=\"df-172fd0bc-d28c-4038-8473-781a20f7bc36\">\n",
              "    <div class=\"colab-df-container\">\n",
              "      <div>\n",
              "<style scoped>\n",
              "    .dataframe tbody tr th:only-of-type {\n",
              "        vertical-align: middle;\n",
              "    }\n",
              "\n",
              "    .dataframe tbody tr th {\n",
              "        vertical-align: top;\n",
              "    }\n",
              "\n",
              "    .dataframe thead th {\n",
              "        text-align: right;\n",
              "    }\n",
              "</style>\n",
              "<table border=\"1\" class=\"dataframe\">\n",
              "  <thead>\n",
              "    <tr style=\"text-align: right;\">\n",
              "      <th></th>\n",
              "      <th>Trial</th>\n",
              "      <th>Subject</th>\n",
              "      <th>Block</th>\n",
              "      <th>ProbeType</th>\n",
              "      <th>ProbeSound_idx</th>\n",
              "      <th>ProbeTypeName</th>\n",
              "      <th>StimulusCategory</th>\n",
              "      <th>ReactionTime</th>\n",
              "      <th>KeyCode</th>\n",
              "      <th>Response</th>\n",
              "      <th>ResponseCorrect</th>\n",
              "      <th>Omission</th>\n",
              "      <th>ProbeCategory</th>\n",
              "      <th>StimulusSounds_name</th>\n",
              "      <th>ProbeSound_name</th>\n",
              "      <th>StimulusSounds_idx</th>\n",
              "    </tr>\n",
              "  </thead>\n",
              "  <tbody>\n",
              "    <tr>\n",
              "      <th>0</th>\n",
              "      <td>0</td>\n",
              "      <td>E2</td>\n",
              "      <td>1</td>\n",
              "      <td>1</td>\n",
              "      <td>21</td>\n",
              "      <td>out_of_sequence</td>\n",
              "      <td>High Words</td>\n",
              "      <td>NaN</td>\n",
              "      <td>2.Left3.Left</td>\n",
              "      <td>No Response</td>\n",
              "      <td>0</td>\n",
              "      <td>No Response</td>\n",
              "      <td>Low Words</td>\n",
              "      <td>[array(['mon.wav'], dtype='&lt;U7'), array(['pcn....</td>\n",
              "      <td>Sur.wav</td>\n",
              "      <td>[6, 7, 8, 4, 10]</td>\n",
              "    </tr>\n",
              "    <tr>\n",
              "      <th>63</th>\n",
              "      <td>63</td>\n",
              "      <td>E2</td>\n",
              "      <td>2</td>\n",
              "      <td>2</td>\n",
              "      <td>11</td>\n",
              "      <td>in_sequence</td>\n",
              "      <td>High Non-Words</td>\n",
              "      <td>NaN</td>\n",
              "      <td>2.Left3.Left</td>\n",
              "      <td>No Response</td>\n",
              "      <td>0</td>\n",
              "      <td>No Response</td>\n",
              "      <td>High Non-Words</td>\n",
              "      <td>[[array(['kEl.wav'], dtype='&lt;U7')]\\n [array(['...</td>\n",
              "      <td>Rin.wav</td>\n",
              "      <td>[[14 11 17]]</td>\n",
              "    </tr>\n",
              "    <tr>\n",
              "      <th>74</th>\n",
              "      <td>74</td>\n",
              "      <td>E2</td>\n",
              "      <td>3</td>\n",
              "      <td>2</td>\n",
              "      <td>6</td>\n",
              "      <td>in_sequence</td>\n",
              "      <td>High Words</td>\n",
              "      <td>NaN</td>\n",
              "      <td>2.Left3.Left</td>\n",
              "      <td>No Response</td>\n",
              "      <td>0</td>\n",
              "      <td>No Response</td>\n",
              "      <td>High Words</td>\n",
              "      <td>[[array(['wIC.wav'], dtype='&lt;U7')]\\n [array(['...</td>\n",
              "      <td>mon.wav</td>\n",
              "      <td>[[10  6  9]]</td>\n",
              "    </tr>\n",
              "    <tr>\n",
              "      <th>298</th>\n",
              "      <td>106</td>\n",
              "      <td>E3</td>\n",
              "      <td>4</td>\n",
              "      <td>1</td>\n",
              "      <td>11</td>\n",
              "      <td>out_of_sequence</td>\n",
              "      <td>High Non-Words</td>\n",
              "      <td>NaN</td>\n",
              "      <td>2.Left3.Left</td>\n",
              "      <td>No Response</td>\n",
              "      <td>0</td>\n",
              "      <td>No Response</td>\n",
              "      <td>High Non-Words</td>\n",
              "      <td>[[array(['pun.wav'], dtype='&lt;U7')]\\n [array(['...</td>\n",
              "      <td>Rin.wav</td>\n",
              "      <td>[[18 20 14]]</td>\n",
              "    </tr>\n",
              "    <tr>\n",
              "      <th>310</th>\n",
              "      <td>118</td>\n",
              "      <td>E3</td>\n",
              "      <td>4</td>\n",
              "      <td>1</td>\n",
              "      <td>6</td>\n",
              "      <td>out_of_sequence</td>\n",
              "      <td>Low Words</td>\n",
              "      <td>NaN</td>\n",
              "      <td>2.Left3.Left</td>\n",
              "      <td>No Response</td>\n",
              "      <td>0</td>\n",
              "      <td>No Response</td>\n",
              "      <td>High Words</td>\n",
              "      <td>[[array(['Sur.wav'], dtype='&lt;U7')]\\n [array(['...</td>\n",
              "      <td>mon.wav</td>\n",
              "      <td>[[21 27 24 22 30 26 28 23 29]]</td>\n",
              "    </tr>\n",
              "    <tr>\n",
              "      <th>...</th>\n",
              "      <td>...</td>\n",
              "      <td>...</td>\n",
              "      <td>...</td>\n",
              "      <td>...</td>\n",
              "      <td>...</td>\n",
              "      <td>...</td>\n",
              "      <td>...</td>\n",
              "      <td>...</td>\n",
              "      <td>...</td>\n",
              "      <td>...</td>\n",
              "      <td>...</td>\n",
              "      <td>...</td>\n",
              "      <td>...</td>\n",
              "      <td>...</td>\n",
              "      <td>...</td>\n",
              "      <td>...</td>\n",
              "    </tr>\n",
              "    <tr>\n",
              "      <th>5064</th>\n",
              "      <td>72</td>\n",
              "      <td>E30</td>\n",
              "      <td>3</td>\n",
              "      <td>1</td>\n",
              "      <td>33</td>\n",
              "      <td>out_of_sequence</td>\n",
              "      <td>High Non-Words</td>\n",
              "      <td>NaN</td>\n",
              "      <td>2.Left3.Left</td>\n",
              "      <td>No Response</td>\n",
              "      <td>0</td>\n",
              "      <td>No Response</td>\n",
              "      <td>Low Non-Words</td>\n",
              "      <td>[[array(['paon.wav'], dtype='&lt;U8')]\\n [array([...</td>\n",
              "      <td>gawth.wav</td>\n",
              "      <td>[[16 12 15 19 13 17 20]]</td>\n",
              "    </tr>\n",
              "    <tr>\n",
              "      <th>5131</th>\n",
              "      <td>139</td>\n",
              "      <td>E30</td>\n",
              "      <td>5</td>\n",
              "      <td>1</td>\n",
              "      <td>16</td>\n",
              "      <td>out_of_sequence</td>\n",
              "      <td>High Non-Words</td>\n",
              "      <td>NaN</td>\n",
              "      <td>2.Left3.Left</td>\n",
              "      <td>No Response</td>\n",
              "      <td>0</td>\n",
              "      <td>No Response</td>\n",
              "      <td>High Non-Words</td>\n",
              "      <td>[[array(['rihn.wav'], dtype='&lt;U8')]\\n [array([...</td>\n",
              "      <td>paon.wav</td>\n",
              "      <td>[[19 15 18 11 13 14 12 17 20]]</td>\n",
              "    </tr>\n",
              "    <tr>\n",
              "      <th>5159</th>\n",
              "      <td>167</td>\n",
              "      <td>E30</td>\n",
              "      <td>6</td>\n",
              "      <td>1</td>\n",
              "      <td>37</td>\n",
              "      <td>out_of_sequence</td>\n",
              "      <td>High Non-Words</td>\n",
              "      <td>NaN</td>\n",
              "      <td>2.Left3.Left</td>\n",
              "      <td>No Response</td>\n",
              "      <td>0</td>\n",
              "      <td>No Response</td>\n",
              "      <td>Low Non-Words</td>\n",
              "      <td>[array(['rehl.wav'], dtype='&lt;U8'), array(['sao...</td>\n",
              "      <td>wehz.wav</td>\n",
              "      <td>[18, 20, 16, 19, 17]</td>\n",
              "    </tr>\n",
              "    <tr>\n",
              "      <th>5332</th>\n",
              "      <td>148</td>\n",
              "      <td>E31</td>\n",
              "      <td>5</td>\n",
              "      <td>1</td>\n",
              "      <td>19</td>\n",
              "      <td>out_of_sequence</td>\n",
              "      <td>Low Non-words</td>\n",
              "      <td>NaN</td>\n",
              "      <td>2.Left3.Left</td>\n",
              "      <td>No Response</td>\n",
              "      <td>0</td>\n",
              "      <td>No Response</td>\n",
              "      <td>High Non-Words</td>\n",
              "      <td>[[array(['kuv.wav'], dtype='&lt;U7')]\\n [array(['...</td>\n",
              "      <td>rihn.wav</td>\n",
              "      <td>[[35 32 40 34 38 39 37 33 31]]</td>\n",
              "    </tr>\n",
              "    <tr>\n",
              "      <th>5513</th>\n",
              "      <td>137</td>\n",
              "      <td>E33</td>\n",
              "      <td>5</td>\n",
              "      <td>1</td>\n",
              "      <td>14</td>\n",
              "      <td>out_of_sequence</td>\n",
              "      <td>Low Non-words</td>\n",
              "      <td>NaN</td>\n",
              "      <td>2.Left3.Left</td>\n",
              "      <td>No Response</td>\n",
              "      <td>0</td>\n",
              "      <td>No Response</td>\n",
              "      <td>High Non-Words</td>\n",
              "      <td>[[array(['gawth.wav'], dtype='&lt;U9')]\\n [array(...</td>\n",
              "      <td>kehl.wav</td>\n",
              "      <td>[[33 31 35 34 37 32 39 38 36]]</td>\n",
              "    </tr>\n",
              "  </tbody>\n",
              "</table>\n",
              "<p>100 rows × 16 columns</p>\n",
              "</div>\n",
              "      <button class=\"colab-df-convert\" onclick=\"convertToInteractive('df-172fd0bc-d28c-4038-8473-781a20f7bc36')\"\n",
              "              title=\"Convert this dataframe to an interactive table.\"\n",
              "              style=\"display:none;\">\n",
              "        \n",
              "  <svg xmlns=\"http://www.w3.org/2000/svg\" height=\"24px\"viewBox=\"0 0 24 24\"\n",
              "       width=\"24px\">\n",
              "    <path d=\"M0 0h24v24H0V0z\" fill=\"none\"/>\n",
              "    <path d=\"M18.56 5.44l.94 2.06.94-2.06 2.06-.94-2.06-.94-.94-2.06-.94 2.06-2.06.94zm-11 1L8.5 8.5l.94-2.06 2.06-.94-2.06-.94L8.5 2.5l-.94 2.06-2.06.94zm10 10l.94 2.06.94-2.06 2.06-.94-2.06-.94-.94-2.06-.94 2.06-2.06.94z\"/><path d=\"M17.41 7.96l-1.37-1.37c-.4-.4-.92-.59-1.43-.59-.52 0-1.04.2-1.43.59L10.3 9.45l-7.72 7.72c-.78.78-.78 2.05 0 2.83L4 21.41c.39.39.9.59 1.41.59.51 0 1.02-.2 1.41-.59l7.78-7.78 2.81-2.81c.8-.78.8-2.07 0-2.86zM5.41 20L4 18.59l7.72-7.72 1.47 1.35L5.41 20z\"/>\n",
              "  </svg>\n",
              "      </button>\n",
              "      \n",
              "  <style>\n",
              "    .colab-df-container {\n",
              "      display:flex;\n",
              "      flex-wrap:wrap;\n",
              "      gap: 12px;\n",
              "    }\n",
              "\n",
              "    .colab-df-convert {\n",
              "      background-color: #E8F0FE;\n",
              "      border: none;\n",
              "      border-radius: 50%;\n",
              "      cursor: pointer;\n",
              "      display: none;\n",
              "      fill: #1967D2;\n",
              "      height: 32px;\n",
              "      padding: 0 0 0 0;\n",
              "      width: 32px;\n",
              "    }\n",
              "\n",
              "    .colab-df-convert:hover {\n",
              "      background-color: #E2EBFA;\n",
              "      box-shadow: 0px 1px 2px rgba(60, 64, 67, 0.3), 0px 1px 3px 1px rgba(60, 64, 67, 0.15);\n",
              "      fill: #174EA6;\n",
              "    }\n",
              "\n",
              "    [theme=dark] .colab-df-convert {\n",
              "      background-color: #3B4455;\n",
              "      fill: #D2E3FC;\n",
              "    }\n",
              "\n",
              "    [theme=dark] .colab-df-convert:hover {\n",
              "      background-color: #434B5C;\n",
              "      box-shadow: 0px 1px 3px 1px rgba(0, 0, 0, 0.15);\n",
              "      filter: drop-shadow(0px 1px 2px rgba(0, 0, 0, 0.3));\n",
              "      fill: #FFFFFF;\n",
              "    }\n",
              "  </style>\n",
              "\n",
              "      <script>\n",
              "        const buttonEl =\n",
              "          document.querySelector('#df-172fd0bc-d28c-4038-8473-781a20f7bc36 button.colab-df-convert');\n",
              "        buttonEl.style.display =\n",
              "          google.colab.kernel.accessAllowed ? 'block' : 'none';\n",
              "\n",
              "        async function convertToInteractive(key) {\n",
              "          const element = document.querySelector('#df-172fd0bc-d28c-4038-8473-781a20f7bc36');\n",
              "          const dataTable =\n",
              "            await google.colab.kernel.invokeFunction('convertToInteractive',\n",
              "                                                     [key], {});\n",
              "          if (!dataTable) return;\n",
              "\n",
              "          const docLinkHtml = 'Like what you see? Visit the ' +\n",
              "            '<a target=\"_blank\" href=https://colab.research.google.com/notebooks/data_table.ipynb>data table notebook</a>'\n",
              "            + ' to learn more about interactive tables.';\n",
              "          element.innerHTML = '';\n",
              "          dataTable['output_type'] = 'display_data';\n",
              "          await google.colab.output.renderOutput(dataTable, element);\n",
              "          const docLink = document.createElement('div');\n",
              "          docLink.innerHTML = docLinkHtml;\n",
              "          element.appendChild(docLink);\n",
              "        }\n",
              "      </script>\n",
              "    </div>\n",
              "  </div>\n",
              "  "
            ]
          },
          "metadata": {},
          "execution_count": 12
        }
      ]
    },
    {
      "cell_type": "code",
      "source": [
        "# deleting all the trials with no responses\n",
        "eeg_clean = eeg_subset[eeg_subset['Response'] != 'No Response']"
      ],
      "metadata": {
        "id": "LLRIHr1dgy2O"
      },
      "execution_count": 13,
      "outputs": []
    },
    {
      "cell_type": "code",
      "source": [
        "eeg_clean.isnull().sum()"
      ],
      "metadata": {
        "colab": {
          "base_uri": "https://localhost:8080/"
        },
        "id": "9PgqA7qzhawe",
        "outputId": "9469ae72-3062-4ff3-b96f-6f9a649f89e4"
      },
      "execution_count": 14,
      "outputs": [
        {
          "output_type": "execute_result",
          "data": {
            "text/plain": [
              "Trial                  0\n",
              "Subject                0\n",
              "Block                  0\n",
              "ProbeType              0\n",
              "ProbeSound_idx         0\n",
              "ProbeTypeName          0\n",
              "StimulusCategory       0\n",
              "ReactionTime           0\n",
              "KeyCode                0\n",
              "Response               0\n",
              "ResponseCorrect        0\n",
              "Omission               0\n",
              "ProbeCategory          0\n",
              "StimulusSounds_name    0\n",
              "ProbeSound_name        0\n",
              "StimulusSounds_idx     0\n",
              "dtype: int64"
            ]
          },
          "metadata": {},
          "execution_count": 14
        }
      ]
    },
    {
      "cell_type": "code",
      "source": [
        "# creating CorrPercentage variable\n",
        "eeg_clean['CorrPercentage'] = np.nan\n",
        "subjects = eeg_clean['Subject'].unique().tolist()\n",
        "length = eeg_clean.groupby(['Subject'])['Trial'].count() # number of trials per subject\n",
        "correct = eeg_clean.groupby(['Subject'])['ResponseCorrect'].sum() # sum of correct answers per subject\n",
        "for subj in subjects:\n",
        "  value = correct[subj] / length[subj]\n",
        "  eeg_clean.loc[eeg_clean['Subject'] == subj, 'CorrPercentage'] = value"
      ],
      "metadata": {
        "id": "RuSPKzpUlw6h",
        "colab": {
          "base_uri": "https://localhost:8080/"
        },
        "outputId": "0b46c5eb-2e35-4beb-e37a-f83ad14032f3"
      },
      "execution_count": 15,
      "outputs": [
        {
          "output_type": "stream",
          "name": "stderr",
          "text": [
            "/usr/local/lib/python3.7/dist-packages/ipykernel_launcher.py:2: SettingWithCopyWarning: \n",
            "A value is trying to be set on a copy of a slice from a DataFrame.\n",
            "Try using .loc[row_indexer,col_indexer] = value instead\n",
            "\n",
            "See the caveats in the documentation: https://pandas.pydata.org/pandas-docs/stable/user_guide/indexing.html#returning-a-view-versus-a-copy\n",
            "  \n",
            "/usr/local/lib/python3.7/dist-packages/pandas/core/indexing.py:1817: SettingWithCopyWarning: \n",
            "A value is trying to be set on a copy of a slice from a DataFrame.\n",
            "Try using .loc[row_indexer,col_indexer] = value instead\n",
            "\n",
            "See the caveats in the documentation: https://pandas.pydata.org/pandas-docs/stable/user_guide/indexing.html#returning-a-view-versus-a-copy\n",
            "  self._setitem_single_column(loc, value, pi)\n"
          ]
        }
      ]
    },
    {
      "cell_type": "code",
      "source": [
        "# check if any of the subject is less than 75 % accurate\n",
        "(eeg_clean.groupby(['Subject'])['CorrPercentage'].first() < 0.75).any()"
      ],
      "metadata": {
        "colab": {
          "base_uri": "https://localhost:8080/"
        },
        "id": "LMs5soNFo2bZ",
        "outputId": "e458e95e-5100-4b71-d547-4f0145c06def"
      },
      "execution_count": 16,
      "outputs": [
        {
          "output_type": "execute_result",
          "data": {
            "text/plain": [
              "False"
            ]
          },
          "metadata": {},
          "execution_count": 16
        }
      ]
    },
    {
      "cell_type": "code",
      "source": [
        "# stndardize reaction time with no regard to the subject\n",
        "rt = eeg_clean['ReactionTime'].values\n",
        "eeg_clean['stdRT'] = (rt - rt.mean())/rt.std()\n",
        "# standardization = lambda x: (x - x.mean()) / x.std()\n",
        "# lcvs_standard = lcvs.groupby([\"object_id\", \"passband\"])[[\"flux\"]].transform(standardization)"
      ],
      "metadata": {
        "colab": {
          "base_uri": "https://localhost:8080/"
        },
        "id": "qzCAYkqvsCWv",
        "outputId": "a3b112e8-4231-4f7b-e8d0-1885fa556d77"
      },
      "execution_count": 17,
      "outputs": [
        {
          "output_type": "stream",
          "name": "stderr",
          "text": [
            "/usr/local/lib/python3.7/dist-packages/ipykernel_launcher.py:3: SettingWithCopyWarning: \n",
            "A value is trying to be set on a copy of a slice from a DataFrame.\n",
            "Try using .loc[row_indexer,col_indexer] = value instead\n",
            "\n",
            "See the caveats in the documentation: https://pandas.pydata.org/pandas-docs/stable/user_guide/indexing.html#returning-a-view-versus-a-copy\n",
            "  This is separate from the ipykernel package so we can avoid doing imports until\n"
          ]
        }
      ]
    },
    {
      "cell_type": "code",
      "source": [
        "pl.figure(figsize = (20, 10))\n",
        "seaborn.displot(eeg_clean['ReactionTime'])\n",
        "seaborn.displot(eeg_clean['stdRT']);"
      ],
      "metadata": {
        "colab": {
          "base_uri": "https://localhost:8080/",
          "height": 738
        },
        "id": "HSvfmXYTrOTT",
        "outputId": "b05b2383-c41d-4053-8e71-55e5c11f5f06"
      },
      "execution_count": 18,
      "outputs": [
        {
          "output_type": "display_data",
          "data": {
            "text/plain": [
              "<Figure size 1440x720 with 0 Axes>"
            ]
          },
          "metadata": {}
        },
        {
          "output_type": "display_data",
          "data": {
            "text/plain": [
              "<Figure size 360x360 with 1 Axes>"
            ],
            "image/png": "[encoded data removed]"
          },
          "metadata": {
            "needs_background": "light"
          }
        },
        {
          "output_type": "display_data",
          "data": {
            "text/plain": [
              "<Figure size 360x360 with 1 Axes>"
            ],
            "image/png": "[encoded data removed]"
          },
          "metadata": {
            "needs_background": "light"
          }
        }
      ]
    },
    {
      "cell_type": "code",
      "source": [
        "pl.figure(figsize = (7, 7))\n",
        "ax = seaborn.boxplot(y=\"ReactionTime\", data=eeg_clean)\n",
        "pl.title(\"Distribution of RT values\");"
      ],
      "metadata": {
        "colab": {
          "base_uri": "https://localhost:8080/",
          "height": 431
        },
        "id": "pQcSocU4yXjl",
        "outputId": "35fb1669-8b3d-41e5-fffa-dcf1ec47f8fb"
      },
      "execution_count": 19,
      "outputs": [
        {
          "output_type": "display_data",
          "data": {
            "text/plain": [
              "<Figure size 504x504 with 1 Axes>"
            ],
            "image/png": "[encoded data removed]"
          },
          "metadata": {
            "needs_background": "light"
          }
        }
      ]
    },
    {
      "cell_type": "code",
      "source": [
        "# calculating relative position of the word in the list\n",
        "# pos for only in seqence trials: probe sound index and stimulus sound index\n",
        "# beginning middle or end\n",
        "\n",
        "# making values in df more 'handy'\n",
        "whole_list = eeg_clean['StimulusSounds_idx'].values\n",
        "new_sound_idx = []\n",
        "for i in whole_list:\n",
        "  new_sound_idx.append(\n",
        "      [int(s) for s in re.findall(r'\\b\\d+\\b', i)]\n",
        "  )\n",
        "eeg_clean['StimulusSounds_idx'] = new_sound_idx # substitute string type to list with numbers"
      ],
      "metadata": {
        "id": "X3nm375WmHrA",
        "colab": {
          "base_uri": "https://localhost:8080/"
        },
        "outputId": "6aea40ed-89a4-4d36-8570-99d804e24098"
      },
      "execution_count": 26,
      "outputs": [
        {
          "output_type": "stream",
          "name": "stderr",
          "text": [
            "/usr/local/lib/python3.7/dist-packages/ipykernel_launcher.py:12: SettingWithCopyWarning: \n",
            "A value is trying to be set on a copy of a slice from a DataFrame.\n",
            "Try using .loc[row_indexer,col_indexer] = value instead\n",
            "\n",
            "See the caveats in the documentation: https://pandas.pydata.org/pandas-docs/stable/user_guide/indexing.html#returning-a-view-versus-a-copy\n",
            "  if sys.path[0] == '':\n"
          ]
        }
      ]
    },
    {
      "cell_type": "code",
      "source": [
        "# checking the length of word lists presented\n",
        "compare = []\n",
        "for i in new_sound_idx:\n",
        "  length = len(i)\n",
        "  if length not in compare:\n",
        "    compare.append(length)\n",
        "print(compare)"
      ],
      "metadata": {
        "colab": {
          "base_uri": "https://localhost:8080/"
        },
        "id": "B_ptCGycpidb",
        "outputId": "04b8f341-c165-453b-db69-4052273ac41b"
      },
      "execution_count": 33,
      "outputs": [
        {
          "output_type": "stream",
          "name": "stdout",
          "text": [
            "[5, 9, 7, 3]\n"
          ]
        }
      ]
    },
    {
      "cell_type": "code",
      "source": [
        "positions = [] # for the new 'position' column in df\n",
        "# 1 - beginning, 2 - middle, 3 - end\n",
        "ind = eeg_clean['ProbeSound_idx'].values\n",
        "in_out = eeg_clean['ProbeTypeName'].values\n",
        "for i in range(0, len(ind)):\n",
        "  if in_out[i] == 'in_sequence': # if it is in sequence\n",
        "    if ind[i] in new_sound_idx[i]:\n",
        "      # for length of the list 3\n",
        "      if len(new_sound_idx[i]) == 3:\n",
        "        if new_sound_idx[i].index(ind[i]) == 0:\n",
        "          positions.append(1) # beginning \n",
        "        elif new_sound_idx[i].index(ind[i]) == 1:\n",
        "          positions.append(2) # middle\n",
        "        elif new_sound_idx[i].index(ind[i]) == 2:\n",
        "          positions.append(3) # end\n",
        "      \n",
        "      # for length of the list 5\n",
        "      ## revise!\n",
        "      elif len(new_sound_idx[i]) == 5:\n",
        "        if new_sound_idx[i].index(ind[i]) in [0, 1]:\n",
        "          positions.append(1) # beginning \n",
        "        elif new_sound_idx[i].index(ind[i]) == 2:\n",
        "          positions.append(2) # middle\n",
        "        elif new_sound_idx[i].index(ind[i]) in [3, 4]:\n",
        "          positions.append(3) # end\n",
        "\n",
        "      # for length of the list 7\n",
        "      elif len(new_sound_idx[i]) == 7:\n",
        "        if new_sound_idx[i].index(ind[i]) in [0, 1]:\n",
        "          positions.append(1) # beginning \n",
        "        elif new_sound_idx[i].index(ind[i]) in [2, 3, 4]:\n",
        "          positions.append(2) # middle\n",
        "        elif new_sound_idx[i].index(ind[i]) in [5, 6]:\n",
        "          positions.append(3) # end\n",
        "      \n",
        "      # for length of the list 9\n",
        "      elif len(new_sound_idx[i]) == 9:\n",
        "        if new_sound_idx[i].index(ind[i]) in [0, 1, 2]:\n",
        "          positions.append(1) # beginning \n",
        "        elif new_sound_idx[i].index(ind[i]) in [3, 4, 5]:\n",
        "          positions.append(2) # middle\n",
        "        elif new_sound_idx[i].index(ind[i]) in [6, 7, 8]:\n",
        "          positions.append(3) # end\n",
        "    else:\n",
        "      print('Check', i)\n",
        "      break  \n",
        "  elif in_out[i] == 'out_of_sequence':\n",
        "    positions.append(0) # if it is out of sequence it is not in the list\n",
        "  else:\n",
        "    print('Check', i)\n",
        "    break"
      ],
      "metadata": {
        "id": "z7ure2sOozBR"
      },
      "execution_count": 46,
      "outputs": []
    },
    {
      "cell_type": "code",
      "source": [
        "length = []\n",
        "for i in eeg_clean.StimulusSounds_idx:\n",
        "  length.append(len(i))"
      ],
      "metadata": {
        "colab": {
          "base_uri": "https://localhost:8080/"
        },
        "id": "eqOmf2Ae82CJ",
        "outputId": "63ca4bed-c8fd-4aa7-cc95-0155e7ee6038"
      },
      "execution_count": 153,
      "outputs": [
        {
          "output_type": "stream",
          "name": "stdout",
          "text": [
            "[5, 9, 5, 7, 9, 3, 7, 7, 7, 5, 9, 9, 9, 9, 3, 3, 7, 3, 9, 5, 7, 7, 3, 3, 7, 5, 3, 9, 3, 5, 5, 9, 3, 7, 5, 7, 7, 5, 5, 3, 7, 9, 7, 9, 7, 3, 3, 5, 9, 7, 5, 5, 3, 3, 7, 9, 9, 3, 9, 9, 5, 5, 3, 3, 9, 7, 7, 3, 7, 5, 7, 3, 3, 7, 9, 9, 7, 3, 9, 7, 5, 7, 5, 9, 9, 3, 5, 5, 9, 9, 5, 5, 5, 7, 9, 3, 3, 9, 5, 9, 7, 5, 5, 3, 7, 5, 7, 3, 3, 7, 7, 5, 3, 5, 7, 9, 5, 9, 3, 7, 9, 9, 3, 9, 5, 5, 5, 7, 9, 5, 7, 3, 9, 5, 7, 9, 9, 3, 9, 3, 5, 3, 7, 5, 5, 9, 5, 7, 7, 7, 3, 3, 9, 9, 3, 3, 7, 7, 3, 7, 7, 9, 5, 9, 5, 5, 9, 7, 7, 5, 3, 9, 5, 5, 3, 5, 7, 7, 9, 9, 9, 9, 3, 5, 3, 7, 3, 3, 3, 5, 5, 9, 5, 7, 9, 3, 7, 7, 7, 5, 9, 9, 9, 9, 3, 3, 7, 3, 9, 5, 7, 7, 3, 3, 7, 5, 3, 9, 3, 5, 5, 9, 3, 7, 5, 7, 7, 5, 5, 3, 7, 9, 7, 9, 7, 3, 3, 5, 9, 7, 5, 5, 3, 3, 7, 9, 9, 3, 9, 9, 5, 5, 3, 3, 3, 9, 7, 7, 3, 7, 5, 7, 3, 3, 3, 7, 9, 9, 7, 3, 9, 7, 5, 7, 5, 9, 9, 3, 5, 5, 9, 9, 5, 5, 5, 7, 9, 3, 3, 9, 5, 9, 7, 5, 5, 7, 5, 7, 3, 3, 7, 7, 5, 3, 5, 7, 5, 9, 3, 7, 9, 9, 3, 9, 5, 5, 5, 7, 9, 5, 7, 3, 9, 5, 7, 9, 9, 3, 9, 3, 5, 3, 7, 5, 5, 9, 5, 7, 7, 7, 3, 3, 9, 9, 3, 3, 7, 7, 3, 7, 7, 9, 5, 9, 5, 5, 9, 7, 7, 5, 3, 9, 5, 5, 3, 5, 7, 7, 9, 9, 9, 9, 3, 5, 3, 7, 3, 3, 3, 5, 5, 9, 5, 7, 9, 3, 7, 7, 7, 5, 9, 9, 9, 9, 3, 3, 7, 3, 9, 5, 7, 7, 3, 3, 7, 5, 3, 9, 3, 5, 5, 9, 3, 7, 5, 7, 7, 5, 5, 3, 7, 9, 7, 9, 7, 3, 5, 9, 7, 5, 5, 3, 3, 7, 9, 9, 3, 9, 9, 5, 5, 3, 3, 3, 9, 7, 7, 3, 7, 5, 3, 3, 3, 7, 9, 9, 7, 3, 9, 7, 5, 7, 5, 9, 9, 3, 5, 5, 9, 5, 5, 5, 7, 9, 3, 3, 9, 5, 9, 7, 5, 3, 7, 5, 7, 3, 3, 7, 7, 5, 3, 5, 7, 9, 5, 3, 7, 9, 9, 3, 9, 5, 5, 5, 7, 9, 5, 7, 3, 9, 5, 7, 9, 9, 3, 9, 3, 5, 7, 5, 5, 9, 5, 7, 7, 7, 3, 3, 9, 3, 3, 7, 7, 3, 7, 7, 9, 5, 9, 5, 5, 9, 7, 7, 5, 3, 9, 5, 5, 3, 7, 7, 9, 9, 9, 9, 3, 5, 3, 7, 3, 3, 9, 5, 3, 9, 7, 3, 7, 5, 9, 7, 5, 7, 9, 3, 5, 5, 3, 9, 3, 5, 7, 3, 3, 9, 9, 7, 5, 7, 7, 9, 3, 5, 5, 5, 9, 3, 3, 7, 9, 7, 3, 9, 5, 5, 5, 7, 3, 7, 3, 7, 7, 9, 7, 9, 3, 9, 9, 3, 3, 5, 9, 5, 7, 3, 3, 9, 9, 7, 7, 5, 5, 3, 3, 7, 3, 5, 7, 3, 7, 5, 9, 9, 5, 5, 9, 9, 7, 3, 7, 5, 7, 5, 3, 9, 9, 3, 5, 7, 5, 5, 9, 9, 7, 3, 9, 7, 3, 9, 5, 9, 9, 7, 3, 7, 7, 9, 3, 3, 3, 5, 5, 7, 5, 5, 7, 3, 5, 9, 3, 3, 7, 3, 5, 9, 3, 7, 9, 7, 9, 7, 5, 5, 5, 5, 3, 9, 7, 7, 3, 9, 3, 3, 7, 9, 5, 5, 7, 9, 3, 5, 9, 7, 7, 7, 7, 3, 5, 3, 9, 5, 7, 9, 9, 5, 5, 9, 3, 5, 7, 3, 5, 7, 3, 3, 5, 3, 9, 9, 7, 9, 5, 5, 9, 5, 7, 9, 3, 7, 7, 7, 5, 9, 9, 9, 9, 3, 3, 7, 3, 9, 5, 7, 7, 3, 3, 7, 5, 3, 9, 3, 5, 5, 9, 3, 7, 5, 7, 7, 5, 5, 3, 7, 9, 7, 9, 7, 3, 3, 5, 9, 7, 5, 5, 3, 3, 7, 9, 9, 9, 9, 5, 5, 3, 3, 3, 9, 7, 7, 3, 7, 5, 7, 3, 3, 3, 7, 9, 9, 7, 3, 9, 7, 5, 7, 5, 9, 9, 3, 5, 5, 9, 9, 5, 5, 5, 7, 9, 3, 3, 9, 5, 9, 7, 5, 5, 3, 7, 5, 7, 3, 3, 7, 7, 5, 3, 5, 7, 9, 5, 9, 3, 7, 9, 9, 3, 9, 5, 5, 5, 7, 9, 5, 7, 3, 9, 5, 7, 9, 9, 3, 9, 3, 5, 3, 7, 5, 5, 9, 5, 7, 7, 7, 3, 3, 9, 9, 3, 3, 7, 7, 3, 7, 7, 9, 5, 9, 5, 5, 9, 7, 7, 5, 3, 9, 5, 5, 3, 5, 7, 7, 9, 9, 9, 9, 3, 5, 3, 7, 3, 3, 3, 5, 5, 9, 5, 7, 9, 3, 7, 7, 7, 5, 9, 9, 9, 9, 3, 3, 9, 5, 7, 7, 3, 3, 9, 3, 5, 5, 9, 3, 7, 5, 7, 7, 5, 5, 3, 7, 9, 7, 9, 7, 3, 3, 5, 9, 7, 5, 5, 3, 3, 7, 9, 9, 3, 9, 9, 5, 5, 3, 3, 3, 9, 7, 7, 3, 7, 5, 7, 3, 3, 3, 7, 9, 9, 7, 3, 9, 7, 5, 7, 5, 9, 9, 3, 5, 5, 9, 9, 5, 5, 5, 7, 9, 3, 3, 9, 5, 9, 7, 5, 5, 3, 7, 5, 7, 3, 3, 7, 7, 5, 3, 5, 7, 9, 5, 9, 3, 7, 9, 9, 3, 9, 5, 5, 5, 7, 9, 5, 7, 3, 9, 5, 7, 9, 9, 3, 9, 3, 5, 3, 7, 5, 5, 9, 5, 7, 7, 7, 3, 3, 9, 3, 3, 7, 7, 3, 7, 7, 9, 5, 9, 5, 5, 9, 7, 7, 5, 3, 9, 5, 5, 3, 5, 7, 7, 9, 9, 9, 9, 3, 5, 3, 7, 3, 3, 3, 5, 5, 9, 5, 7, 9, 3, 7, 7, 7, 5, 9, 9, 9, 9, 3, 3, 7, 3, 9, 5, 7, 7, 3, 3, 7, 5, 3, 9, 3, 5, 5, 9, 3, 7, 5, 7, 7, 5, 5, 3, 7, 9, 7, 9, 7, 3, 3, 5, 9, 7, 5, 5, 3, 3, 7, 9, 9, 3, 9, 9, 5, 5, 3, 3, 3, 9, 7, 7, 3, 7, 5, 7, 3, 3, 3, 7, 9, 9, 7, 3, 9, 7, 5, 7, 5, 9, 9, 3, 5, 5, 9, 9, 5, 5, 5, 7, 9, 3, 3, 9, 5, 9, 7, 5, 5, 3, 7, 5, 7, 3, 3, 7, 7, 5, 3, 5, 7, 9, 5, 9, 3, 7, 9, 9, 3, 9, 5, 5, 5, 7, 9, 5, 7, 3, 9, 5, 7, 9, 9, 3, 9, 3, 5, 3, 7, 5, 5, 9, 5, 7, 7, 7, 3, 3, 9, 9, 3, 3, 7, 7, 3, 7, 7, 9, 5, 9, 5, 5, 9, 7, 7, 5, 3, 9, 5, 5, 3, 5, 7, 7, 9, 9, 9, 9, 3, 5, 3, 7, 3, 3, 3, 5, 5, 9, 5, 7, 9, 3, 7, 7, 7, 5, 9, 9, 9, 9, 3, 3, 7, 3, 9, 5, 7, 7, 3, 3, 7, 5, 3, 9, 3, 5, 5, 9, 3, 7, 5, 7, 7, 5, 5, 3, 7, 9, 7, 9, 7, 3, 3, 5, 9, 7, 5, 5, 3, 3, 7, 9, 9, 3, 9, 9, 5, 5, 3, 3, 3, 9, 7, 7, 3, 7, 5, 7, 3, 3, 3, 7, 9, 9, 7, 3, 9, 7, 5, 7, 5, 9, 9, 3, 5, 5, 9, 9, 5, 5, 5, 7, 9, 3, 3, 9, 5, 9, 7, 5, 5, 3, 7, 5, 7, 3, 3, 7, 7, 5, 3, 5, 7, 9, 5, 9, 3, 7, 9, 9, 3, 9, 5, 5, 5, 7, 9, 5, 7, 3, 9, 5, 7, 9, 9, 3, 9, 3, 5, 3, 7, 5, 5, 9, 5, 7, 7, 7, 3, 3, 9, 9, 3, 3, 7, 7, 3, 7, 7, 9, 5, 9, 5, 5, 9, 7, 7, 5, 3, 9, 5, 5, 3, 5, 7, 7, 9, 9, 9, 9, 3, 5, 3, 7, 3, 3, 3, 5, 5, 9, 5, 7, 9, 3, 7, 7, 7, 9, 9, 9, 9, 3, 3, 7, 3, 9, 5, 7, 7, 3, 3, 7, 5, 3, 9, 5, 5, 9, 3, 7, 5, 7, 7, 5, 5, 3, 7, 9, 7, 9, 7, 3, 3, 5, 9, 7, 5, 5, 3, 3, 7, 9, 9, 3, 9, 9, 5, 5, 3, 3, 3, 9, 7, 7, 3, 7, 5, 7, 3, 3, 3, 7, 9, 9, 7, 3, 9, 7, 5, 7, 5, 9, 9, 3, 5, 5, 9, 9, 5, 5, 5, 7, 9, 3, 3, 9, 5, 9, 7, 5, 5, 3, 7, 5, 7, 3, 3, 7, 7, 5, 3, 5, 7, 9, 5, 9, 3, 7, 9, 9, 3, 9, 5, 5, 5, 7, 9, 5, 7, 3, 9, 5, 7, 9, 9, 3, 9, 3, 5, 3, 7, 5, 5, 9, 5, 7, 7, 7, 3, 3, 9, 9, 3, 3, 7, 7, 3, 7, 7, 9, 5, 9, 5, 5, 9, 7, 7, 5, 3, 9, 5, 5, 3, 5, 7, 7, 9, 9, 9, 9, 3, 5, 3, 7, 3, 3, 3, 5, 5, 9, 5, 7, 9, 3, 7, 7, 7, 5, 9, 9, 9, 9, 3, 3, 7, 3, 9, 5, 7, 7, 3, 3, 7, 5, 3, 9, 3, 5, 5, 9, 3, 7, 5, 7, 7, 5, 5, 3, 7, 9, 7, 9, 7, 3, 3, 5, 9, 7, 5, 3, 3, 7, 9, 9, 3, 9, 9, 5, 5, 3, 3, 3, 9, 7, 7, 3, 7, 5, 7, 3, 3, 3, 7, 9, 9, 7, 3, 9, 7, 5, 7, 5, 9, 9, 3, 5, 5, 9, 9, 5, 5, 5, 7, 9, 3, 3, 9, 5, 9, 7, 5, 5, 3, 7, 5, 7, 3, 3, 7, 7, 5, 3, 5, 7, 9, 5, 9, 3, 7, 9, 9, 3, 9, 5, 5, 5, 7, 9, 5, 7, 3, 9, 5, 7, 9, 9, 3, 9, 3, 5, 3, 7, 5, 5, 9, 5, 7, 7, 7, 3, 3, 9, 9, 3, 3, 7, 7, 3, 7, 7, 9, 5, 9, 5, 5, 9, 7, 7, 5, 3, 9, 5, 5, 3, 5, 7, 7, 9, 9, 9, 9, 3, 5, 3, 7, 3, 3, 3, 5, 5, 9, 5, 7, 9, 3, 7, 7, 7, 5, 9, 9, 9, 9, 3, 3, 7, 3, 9, 5, 7, 7, 3, 3, 7, 5, 3, 9, 3, 5, 5, 9, 3, 7, 5, 7, 7, 5, 5, 3, 7, 9, 7, 9, 7, 3, 3, 5, 9, 7, 5, 5, 3, 3, 7, 9, 9, 3, 9, 9, 5, 5, 3, 3, 3, 9, 7, 7, 3, 7, 5, 7, 3, 3, 3, 7, 9, 9, 7, 3, 9, 7, 5, 7, 5, 9, 9, 3, 5, 5, 9, 9, 5, 5, 5, 7, 9, 3, 3, 9, 5, 9, 7, 5, 5, 3, 7, 5, 7, 3, 3, 7, 7, 5, 3, 5, 7, 9, 5, 9, 3, 7, 9, 9, 3, 9, 5, 5, 5, 7, 9, 5, 7, 3, 9, 5, 7, 9, 9, 3, 9, 3, 5, 3, 7, 5, 5, 9, 5, 7, 7, 7, 3, 3, 9, 9, 3, 3, 7, 7, 3, 7, 7, 9, 5, 9, 5, 5, 9, 7, 7, 5, 3, 9, 5, 5, 3, 5, 7, 7, 9, 9, 9, 9, 3, 5, 3, 7, 3, 3, 3, 9, 5, 3, 9, 5, 7, 3, 5, 9, 7, 5, 7, 9, 3, 5, 5, 3, 9, 3, 5, 3, 3, 9, 9, 7, 5, 7, 7, 9, 3, 5, 5, 5, 9, 3, 3, 7, 9, 3, 9, 5, 5, 5, 7, 3, 7, 3, 7, 7, 9, 7, 9, 3, 9, 9, 3, 3, 5, 9, 5, 7, 3, 3, 9, 9, 7, 7, 5, 5, 3, 3, 7, 3, 5, 7, 3, 7, 5, 9, 9, 5, 5, 9, 9, 7, 3, 7, 5, 7, 5, 3, 9, 9, 3, 5, 7, 5, 5, 9, 7, 3, 9, 7, 3, 9, 5, 9, 7, 7, 9, 3, 3, 3, 5, 5, 7, 5, 7, 3, 5, 9, 3, 3, 7, 3, 5, 9, 3, 7, 9, 7, 7, 5, 5, 9, 7, 3, 9, 3, 3, 7, 5, 5, 7, 9, 3, 5, 9, 7, 7, 7, 7, 3, 5, 3, 7, 9, 9, 5, 5, 9, 3, 5, 7, 3, 3, 3, 5, 9, 9, 7, 9, 9, 7, 9, 9, 3, 3, 5, 5, 9, 5, 5, 9, 3, 3, 9, 3, 7, 9, 5, 7, 7, 9, 7, 5, 3, 5, 7, 3, 3, 7, 7, 5, 5, 7, 7, 7, 3, 5, 9, 9, 5, 3, 3, 3, 9, 9, 7, 3, 5, 3, 3, 9, 5, 3, 9, 9, 5, 5, 5, 7, 7, 9, 7, 5, 7, 7, 9, 3, 3, 3, 3, 5, 7, 9, 5, 7, 7, 7, 3, 9, 3, 9, 5, 3, 9, 5, 5, 9, 3, 9, 7, 9, 7, 5, 5, 9, 9, 3, 7, 9, 3, 7, 9, 3, 5, 5, 3, 7, 3, 9, 5, 5, 5, 9, 5, 3, 5, 3, 7, 7, 7, 5, 3, 7, 9, 9, 7, 3, 3, 7, 9, 3, 5, 7, 5, 5, 9, 5, 7, 5, 3, 7, 5, 9, 9, 3, 9, 9, 9, 5, 7, 3, 9, 5, 3, 3, 7, 5, 5, 7, 5, 7, 9, 7, 3, 7, 5, 9, 5, 3, 7, 7, 5, 5, 3, 9, 9, 3, 7, 7, 9, 3, 9, 5, 3, 9, 3, 9, 3, 5, 5, 9, 5, 7, 9, 3, 7, 7, 7, 5, 9, 9, 9, 9, 3, 3, 7, 3, 9, 5, 7, 7, 3, 3, 7, 5, 3, 9, 3, 5, 5, 9, 3, 7, 5, 7, 7, 5, 5, 3, 7, 9, 7, 9, 7, 3, 3, 5, 9, 7, 5, 5, 3, 3, 7, 9, 9, 3, 9, 9, 5, 5, 3, 3, 3, 9, 7, 7, 3, 7, 5, 7, 3, 3, 3, 7, 9, 9, 7, 3, 9, 7, 5, 7, 5, 9, 9, 3, 5, 5, 9, 9, 5, 5, 5, 7, 9, 3, 3, 9, 5, 9, 7, 5, 5, 3, 7, 5, 7, 3, 3, 7, 7, 5, 3, 5, 7, 9, 5, 9, 3, 7, 9, 9, 3, 9, 5, 5, 5, 7, 9, 5, 7, 3, 9, 5, 7, 9, 9, 3, 9, 3, 5, 3, 7, 5, 5, 9, 5, 7, 7, 7, 3, 3, 9, 9, 3, 3, 7, 7, 3, 7, 7, 9, 5, 9, 5, 5, 9, 7, 7, 5, 3, 9, 5, 5, 3, 5, 7, 7, 9, 9, 9, 9, 3, 5, 3, 7, 3, 3, 3, 5, 5, 9, 5, 7, 9, 3, 7, 7, 7, 5, 9, 9, 9, 9, 3, 3, 7, 3, 9, 5, 7, 7, 3, 3, 7, 5, 3, 3, 5, 5, 9, 3, 7, 5, 7, 7, 5, 3, 7, 9, 7, 9, 3, 3, 5, 9, 7, 5, 5, 3, 3, 7, 9, 9, 3, 9, 9, 5, 3, 3, 3, 9, 7, 7, 3, 7, 5, 7, 3, 3, 3, 7, 9, 9, 7, 3, 9, 7, 5, 7, 5, 9, 3, 5, 5, 9, 9, 5, 5, 5, 7, 9, 3, 3, 9, 5, 9, 7, 5, 5, 5, 7, 3, 3, 7, 7, 5, 3, 5, 7, 9, 5, 9, 3, 7, 9, 3, 9, 5, 5, 5, 7, 9, 5, 7, 9, 5, 7, 9, 9, 3, 9, 3, 5, 3, 7, 5, 5, 9, 5, 7, 7, 3, 3, 9, 9, 3, 3, 7, 7, 3, 7, 7, 9, 5, 9, 5, 5, 9, 7, 7, 3, 5, 5, 3, 7, 7, 9, 9, 9, 9, 3, 5, 3, 7, 3, 3, 5, 5, 9, 5, 7, 9, 3, 7, 7, 7, 5, 9, 9, 9, 9, 3, 3, 7, 3, 9, 5, 7, 7, 3, 3, 7, 5, 3, 9, 3, 5, 5, 9, 3, 7, 5, 7, 7, 5, 5, 3, 7, 9, 7, 9, 7, 3, 3, 5, 9, 7, 5, 5, 3, 3, 7, 9, 9, 3, 9, 9, 5, 5, 3, 3, 3, 9, 7, 7, 3, 7, 5, 7, 3, 3, 3, 7, 9, 9, 7, 3, 9, 7, 5, 7, 5, 9, 9, 3, 5, 5, 9, 9, 5, 5, 5, 7, 9, 3, 3, 9, 5, 9, 7, 5, 5, 3, 7, 5, 7, 3, 3, 7, 7, 5, 3, 5, 7, 9, 5, 9, 3, 7, 9, 9, 3, 9, 5, 5, 5, 7, 9, 5, 7, 3, 9, 5, 7, 9, 9, 3, 9, 3, 5, 3, 7, 5, 5, 9, 5, 7, 7, 7, 3, 3, 9, 9, 3, 3, 7, 7, 3, 7, 7, 9, 5, 9, 5, 5, 9, 7, 7, 5, 3, 9, 5, 5, 3, 5, 7, 7, 9, 9, 9, 9, 3, 5, 3, 7, 3, 3, 3, 5, 5, 9, 5, 7, 9, 3, 7, 7, 7, 5, 9, 9, 9, 9, 3, 3, 7, 3, 9, 5, 7, 7, 3, 3, 7, 5, 3, 9, 3, 5, 5, 9, 3, 7, 5, 7, 7, 5, 5, 3, 7, 9, 7, 9, 7, 3, 3, 5, 9, 7, 5, 5, 3, 3, 7, 9, 9, 3, 9, 9, 5, 5, 3, 3, 3, 9, 7, 7, 3, 7, 5, 7, 3, 3, 3, 7, 9, 9, 3, 9, 7, 5, 7, 5, 9, 9, 3, 5, 5, 9, 9, 5, 5, 5, 7, 9, 3, 3, 9, 5, 9, 7, 5, 5, 3, 7, 5, 3, 3, 7, 7, 5, 3, 5, 7, 9, 5, 9, 3, 7, 9, 9, 3, 9, 5, 5, 5, 7, 9, 5, 7, 3, 9, 5, 7, 9, 9, 3, 9, 3, 5, 3, 7, 5, 5, 9, 5, 7, 7, 7, 3, 3, 9, 9, 3, 3, 7, 7, 3, 7, 7, 9, 5, 9, 5, 5, 9, 7, 7, 5, 3, 9, 5, 5, 3, 5, 7, 7, 9, 9, 9, 9, 3, 5, 3, 7, 3, 3, 3, 9, 5, 3, 9, 5, 7, 3, 7, 5, 9, 7, 5, 7, 9, 3, 5, 5, 3, 9, 3, 5, 7, 3, 3, 9, 9, 7, 5, 7, 7, 9, 3, 5, 5, 5, 9, 3, 3, 7, 9, 7, 3, 9, 5, 5, 5, 7, 3, 7, 3, 7, 9, 7, 9, 3, 9, 9, 3, 5, 9, 5, 7, 3, 3, 9, 9, 7, 7, 5, 5, 3, 3, 7, 3, 5, 7, 3, 7, 5, 9, 9, 5, 5, 9, 9, 9, 7, 3, 7, 5, 7, 5, 3, 9, 9, 3, 5, 7, 5, 9, 9, 7, 3, 9, 3, 9, 5, 9, 9, 7, 3, 7, 7, 9, 3, 3, 3, 5, 5, 7, 5, 5, 7, 3, 5, 9, 3, 3, 7, 3, 5, 9, 3, 7, 9, 7, 9, 7, 5, 5, 5, 5, 3, 9, 7, 7, 3, 9, 3, 3, 7, 9, 5, 5, 7, 9, 3, 5, 9, 7, 7, 7, 7, 3, 5, 3, 9, 5, 7, 9, 9, 5, 5, 9, 3, 5, 7, 5, 7, 3, 3, 5, 3, 9, 9, 7, 9, 5, 5, 9, 5, 7, 9, 3, 7, 7, 7, 5, 9, 9, 9, 9, 3, 3, 7, 3, 9, 5, 7, 7, 3, 3, 7, 5, 3, 9, 3, 5, 5, 9, 3, 7, 5, 7, 7, 5, 5, 3, 7, 9, 7, 9, 7, 3, 3, 5, 9, 7, 5, 5, 3, 3, 7, 9, 9, 3, 9, 9, 5, 5, 3, 3, 3, 9, 7, 7, 3, 7, 5, 7, 3, 3, 3, 7, 9, 9, 7, 3, 9, 7, 5, 7, 9, 9, 3, 5, 5, 9, 9, 5, 5, 5, 7, 9, 3, 3, 9, 5, 9, 7, 5, 5, 3, 7, 5, 7, 3, 3, 7, 7, 5, 3, 5, 7, 9, 5, 9, 3, 7, 9, 9, 3, 9, 5, 5, 5, 7, 9, 5, 7, 3, 9, 5, 7, 9, 9, 3, 9, 3, 5, 3, 7, 5, 5, 9, 5, 7, 7, 7, 3, 3, 9, 9, 3, 3, 7, 7, 3, 7, 7, 9, 5, 9, 5, 5, 9, 7, 7, 5, 3, 9, 5, 5, 3, 5, 7, 7, 9, 9, 9, 9, 3, 5, 3, 7, 3, 3, 3, 5, 5, 9, 5, 7, 9, 3, 7, 7, 7, 5, 9, 9, 9, 9, 3, 3, 7, 3, 9, 5, 7, 7, 3, 3, 7, 5, 3, 9, 3, 5, 5, 9, 3, 7, 5, 7, 7, 5, 5, 3, 7, 9, 7, 9, 7, 3, 3, 5, 9, 7, 5, 5, 3, 3, 7, 9, 9, 3, 9, 9, 5, 5, 3, 3, 3, 9, 7, 7, 3, 7, 5, 7, 3, 3, 3, 7, 9, 9, 7, 3, 9, 7, 5, 7, 5, 9, 9, 3, 5, 5, 9, 9, 5, 5, 5, 7, 9, 3, 3, 9, 5, 9, 7, 5, 3, 7, 5, 7, 3, 3, 7, 7, 5, 3, 5, 7, 9, 5, 9, 3, 7, 9, 9, 3, 9, 5, 5, 5, 7, 9, 5, 7, 3, 9, 5, 7, 9, 9, 3, 9, 3, 5, 3, 7, 5, 5, 9, 5, 7, 7, 7, 3, 3, 9, 9, 3, 3, 7, 3, 7, 7, 9, 5, 9, 5, 5, 9, 7, 7, 5, 3, 9, 5, 5, 3, 5, 7, 7, 9, 9, 9, 9, 3, 5, 3, 7, 3, 3, 3, 5, 5, 9, 5, 7, 9, 3, 7, 7, 7, 5, 9, 9, 9, 9, 3, 3, 7, 3, 9, 5, 7, 7, 3, 3, 7, 5, 3, 9, 3, 5, 5, 9, 3, 7, 5, 7, 7, 5, 5, 3, 7, 9, 7, 9, 7, 3, 3, 5, 9, 7, 5, 5, 3, 3, 7, 9, 9, 3, 9, 9, 5, 5, 3, 3, 3, 9, 7, 7, 3, 7, 5, 7, 3, 3, 3, 7, 9, 9, 7, 3, 9, 7, 5, 7, 5, 9, 9, 3, 5, 5, 9, 9, 5, 5, 5, 7, 9, 3, 3, 9, 5, 9, 7, 5, 5, 3, 7, 5, 7, 3, 3, 7, 7, 5, 3, 5, 7, 9, 5, 9, 3, 7, 9, 9, 3, 9, 5, 5, 5, 7, 9, 5, 7, 3, 9, 5, 7, 9, 9, 3, 9, 3, 5, 7, 5, 5, 9, 5, 7, 7, 7, 3, 3, 9, 9, 3, 7, 7, 3, 7, 7, 9, 5, 9, 5, 5, 9, 7, 7, 5, 3, 9, 5, 5, 3, 5, 7, 7, 9, 9, 9, 9, 3, 5, 3, 7, 3, 3, 3, 5, 5, 9, 5, 7, 9, 3, 7, 7, 7, 5, 9, 9, 9, 9, 3, 3, 7, 3, 9, 5, 7, 7, 3, 3, 7, 5, 3, 9, 3, 5, 5, 9, 3, 7, 5, 7, 7, 5, 5, 3, 7, 9, 7, 9, 7, 3, 3, 5, 9, 7, 5, 5, 3, 3, 7, 9, 9, 3, 9, 9, 5, 5, 3, 3, 3, 9, 7, 7, 3, 7, 5, 7, 3, 3, 3, 7, 9, 9, 7, 3, 9, 7, 5, 7, 5, 9, 9, 3, 5, 5, 9, 9, 5, 5, 5, 7, 9, 3, 3, 9, 5, 9, 7, 5, 5, 3, 7, 5, 7, 3, 3, 7, 7, 5, 3, 5, 7, 9, 5, 9, 3, 7, 9, 9, 3, 9, 5, 5, 5, 7, 9, 5, 7, 3, 9, 5, 7, 9, 9, 3, 9, 3, 5, 3, 7, 5, 5, 9, 5, 7, 7, 7, 3, 3, 9, 9, 3, 3, 7, 7, 3, 7, 7, 9, 5, 9, 5, 5, 9, 7, 7, 5, 3, 9, 5, 5, 3, 5, 7, 9, 9, 9, 9, 3, 5, 3, 7, 3, 3, 3, 5, 5, 9, 5, 7, 9, 3, 7, 7, 7, 5, 9, 9, 9, 9, 3, 3, 7, 3, 9, 5, 7, 7, 3, 3, 7, 5, 3, 9, 3, 5, 5, 9, 3, 7, 5, 7, 7, 5, 5, 3, 7, 9, 7, 9, 7, 3, 3, 5, 9, 7, 5, 5, 3, 3, 7, 9, 9, 3, 9, 9, 5, 5, 3, 3, 3, 9, 7, 7, 3, 7, 5, 7, 3, 3, 3, 7, 9, 9, 7, 3, 9, 7, 5, 7, 5, 9, 9, 3, 5, 5, 9, 9, 5, 5, 7, 9, 3, 3, 9, 5, 9, 7, 5, 5, 3, 7, 5, 7, 3, 3, 7, 7, 5, 3, 5, 7, 9, 5, 9, 3, 7, 9, 9, 9, 5, 5, 5, 7, 9, 5, 7, 3, 9, 5, 7, 9, 9, 3, 9, 3, 5, 3, 7, 5, 5, 9, 5, 7, 7, 7, 3, 3, 9, 9, 3, 3, 7, 7, 3, 7, 7, 9, 5, 9, 5, 5, 9, 7, 7, 5, 3, 9, 5, 5, 3, 5, 7, 7, 9, 9, 9, 9, 3, 5, 3, 7, 3, 3, 3, 5, 5, 9, 5, 7, 9, 3, 7, 7, 7, 5, 9, 9, 9, 3, 3, 7, 3, 9, 5, 7, 7, 3, 7, 5, 3, 9, 3, 5, 5, 9, 3, 7, 5, 7, 7, 5, 5, 3, 7, 9, 7, 9, 7, 3, 3, 5, 9, 7, 5, 5, 3, 7, 9, 9, 3, 9, 9, 5, 5, 3, 3, 3, 9, 7, 7, 3, 7, 5, 7, 3, 3, 3, 7, 9, 9, 7, 9, 7, 5, 7, 5, 9, 9, 3, 5, 5, 9, 9, 5, 5, 5, 7, 9, 3, 3, 9, 5, 9, 7, 5, 5, 3, 7, 7, 3, 3, 7, 7, 5, 3, 5, 7, 9, 5, 9, 3, 7, 9, 9, 3, 9, 5, 5, 5, 7, 9, 5, 7, 3, 9, 5, 7, 9, 3, 9, 3, 5, 3, 7, 5, 5, 9, 7, 7, 7, 3, 3, 9, 9, 3, 7, 7, 3, 7, 7, 9, 5, 9, 5, 5, 9, 7, 7, 5, 9, 5, 5, 3, 5, 7, 7, 9, 9, 9, 3, 3, 7, 3, 3, 3, 5, 5, 9, 5, 7, 9, 3, 7, 7, 7, 5, 9, 9, 9, 9, 3, 3, 7, 3, 9, 5, 7, 7, 3, 3, 7, 5, 3, 9, 3, 5, 5, 9, 3, 7, 5, 7, 7, 5, 5, 3, 7, 9, 7, 9, 7, 3, 3, 5, 9, 7, 5, 5, 3, 3, 7, 9, 9, 3, 9, 9, 5, 5, 3, 3, 3, 9, 7, 7, 3, 7, 5, 7, 3, 3, 3, 7, 9, 9, 7, 3, 9, 7, 5, 7, 5, 9, 9, 3, 5, 5, 9, 9, 5, 5, 5, 7, 9, 3, 3, 9, 5, 9, 7, 5, 5, 3, 7, 5, 7, 3, 3, 7, 7, 5, 3, 5, 7, 9, 5, 9, 3, 7, 9, 9, 3, 9, 5, 5, 5, 7, 9, 5, 7, 3, 9, 5, 7, 9, 9, 3, 9, 3, 5, 3, 7, 5, 9, 5, 7, 7, 7, 3, 3, 9, 9, 3, 3, 7, 7, 3, 7, 7, 9, 5, 9, 5, 5, 9, 7, 7, 5, 3, 9, 5, 5, 3, 5, 7, 7, 9, 9, 9, 9, 3, 5, 3, 7, 3, 3, 3, 5, 5, 9, 5, 7, 9, 3, 7, 7, 7, 5, 9, 9, 9, 9, 3, 3, 7, 3, 9, 5, 7, 7, 3, 7, 5, 3, 9, 3, 5, 5, 9, 3, 7, 5, 7, 7, 5, 5, 3, 7, 9, 7, 9, 7, 3, 3, 5, 9, 7, 5, 5, 3, 3, 7, 9, 9, 3, 9, 9, 5, 5, 3, 3, 3, 9, 7, 7, 3, 7, 5, 7, 3, 3, 3, 7, 9, 9, 7, 3, 9, 7, 5, 7, 5, 9, 3, 5, 5, 9, 9, 5, 5, 5, 7, 9, 3, 3, 9, 5, 9, 7, 5, 5, 3, 7, 5, 7, 3, 7, 7, 5, 3, 5, 7, 9, 5, 9, 3, 7, 9, 9, 3, 9, 5, 5, 5, 7, 9, 5, 7, 3, 9, 5, 7, 9, 9, 3, 9, 3, 5, 3, 7, 5, 5, 9, 5, 7, 7, 7, 3, 3, 9, 9, 3, 3, 7, 3, 7, 7, 9, 5, 9, 5, 5, 9, 7, 7, 5, 3, 9, 5, 5, 3, 5, 7, 7, 9, 9, 9, 9, 3, 5, 3, 7, 3, 3, 3, 5, 5, 9, 5, 7, 9, 3, 7, 7, 7, 5, 9, 9, 9, 9, 3, 3, 7, 3, 9, 5, 7, 7, 3, 3, 7, 5, 3, 9, 3, 5, 5, 9, 3, 7, 5, 7, 7, 5, 5, 3, 7, 9, 7, 9, 7, 3, 3, 5, 9, 7, 5, 3, 3, 7, 9, 9, 3, 9, 9, 5, 5, 3, 3, 3, 9, 7, 7, 3, 7, 5, 3, 3, 3, 7, 9, 9, 7, 3, 9, 7, 5, 7, 5, 9, 9, 3, 5, 5, 9, 9, 5, 5, 5, 7, 9, 3, 3, 9, 5, 9, 7, 5, 5, 3, 7, 5, 7, 3, 3, 7, 7, 5, 3, 5, 7, 9, 5, 9, 3, 7, 9, 9, 3, 9, 5, 5, 5, 7, 9, 5, 7, 3, 9, 5, 7, 9, 3, 9, 3, 5, 3, 7, 5, 5, 9, 5, 7, 7, 7, 3, 3, 9, 9, 3, 3, 7, 7, 3, 7, 7, 9, 5, 9, 5, 9, 7, 7, 5, 3, 9, 5, 5, 3, 5, 7, 7, 9, 9, 9, 9, 3, 5, 3, 7, 3, 3, 3, 5, 5, 9, 5, 7, 9, 3, 7, 7, 7, 5, 9, 9, 9, 9, 3, 3, 7, 3, 9, 5, 7, 7, 3, 3, 7, 5, 3, 9, 3, 5, 5, 9, 3, 7, 5, 7, 7, 5, 5, 3, 7, 9, 7, 9, 7, 3, 3, 5, 9, 7, 5, 5, 3, 3, 7, 9, 9, 3, 9, 9, 5, 5, 3, 3, 3, 9, 7, 7, 3, 7, 5, 7, 3, 3, 3, 7, 9, 9, 7, 3, 9, 7, 5, 7, 5, 9, 9, 3, 5, 5, 9, 9, 5, 5, 5, 7, 9, 3, 3, 9, 5, 9, 7, 5, 5, 3, 7, 5, 7, 3, 3, 7, 7, 5, 3, 5, 7, 9, 5, 9, 3, 7, 9, 9, 3, 9, 5, 5, 5, 7, 9, 5, 7, 3, 9, 5, 7, 9, 9, 3, 9, 3, 5, 3, 7, 5, 5, 5, 7, 7, 7, 3, 3, 9, 9, 3, 3, 7, 7, 3, 7, 7, 9, 5, 9, 5, 5, 9, 7, 7, 5, 3, 9, 5, 5, 3, 5, 7, 7, 9, 9, 9, 9, 3, 5, 3, 7, 3, 3, 3, 9, 9, 5, 5, 9, 3, 9, 7, 5, 3, 3, 5, 5, 3, 9, 3, 7, 9, 9, 7, 7, 3, 3, 9, 7, 5, 5, 5, 7, 3, 7, 7, 3, 5, 3, 7, 5, 9, 5, 9, 7, 3, 7, 5, 3, 5, 9, 7, 7, 9, 7, 7, 5, 5, 3, 9, 3, 3, 9, 9, 9, 5, 3, 7, 9, 3, 9, 3, 3, 9, 5, 5, 5, 3, 9, 3, 5, 7, 7, 7, 3, 3, 9, 9, 7, 9, 3, 5, 7, 5, 5, 7, 5, 7, 9, 7, 5, 5, 9, 7, 3, 9, 5, 3, 3, 5, 5, 7, 7, 9, 7, 7, 7, 3, 9, 9, 5, 9, 5, 3, 3, 3, 5, 3, 9, 9, 7, 7, 3, 9, 7, 9, 5, 5, 3, 3, 5, 9, 5, 5, 7, 3, 9, 3, 3, 7, 7, 3, 9, 7, 9, 3, 7, 7, 5, 5, 9, 7, 5, 9, 7, 9, 9, 9, 7, 3, 5, 3, 5, 5, 3, 7, 9, 5, 3, 5, 7, 5, 7, 3, 3, 3, 5, 9, 7, 7, 7, 9, 9, 3, 5]\n"
          ]
        }
      ]
    },
    {
      "cell_type": "code",
      "source": [
        "eeg_clean['Position'] = positions\n",
        "eeg_clean['Length'] = length"
      ],
      "metadata": {
        "id": "zt0Su6eoplmU",
        "colab": {
          "base_uri": "https://localhost:8080/"
        },
        "outputId": "15be3551-d391-4a53-f113-0beeb67fe8ea"
      },
      "execution_count": 156,
      "outputs": [
        {
          "output_type": "stream",
          "name": "stderr",
          "text": [
            "/usr/local/lib/python3.7/dist-packages/ipykernel_launcher.py:1: SettingWithCopyWarning: \n",
            "A value is trying to be set on a copy of a slice from a DataFrame.\n",
            "Try using .loc[row_indexer,col_indexer] = value instead\n",
            "\n",
            "See the caveats in the documentation: https://pandas.pydata.org/pandas-docs/stable/user_guide/indexing.html#returning-a-view-versus-a-copy\n",
            "  \"\"\"Entry point for launching an IPython kernel.\n",
            "/usr/local/lib/python3.7/dist-packages/ipykernel_launcher.py:2: SettingWithCopyWarning: \n",
            "A value is trying to be set on a copy of a slice from a DataFrame.\n",
            "Try using .loc[row_indexer,col_indexer] = value instead\n",
            "\n",
            "See the caveats in the documentation: https://pandas.pydata.org/pandas-docs/stable/user_guide/indexing.html#returning-a-view-versus-a-copy\n",
            "  \n"
          ]
        }
      ]
    },
    {
      "cell_type": "code",
      "source": [
        "# types in ProbeCategory column differ in case\n",
        "# here we make them lowrcase\n",
        "new_probe = []\n",
        "for i in eeg_clean.ProbeCategory.values:\n",
        "  new_probe.append(i.lower())\n",
        "eeg_clean['ProbeCategory'] = new_probe"
      ],
      "metadata": {
        "colab": {
          "base_uri": "https://localhost:8080/"
        },
        "id": "35pV89GXcyyP",
        "outputId": "5e3eb7fc-2609-4981-f1c9-598395312b8b"
      },
      "execution_count": 296,
      "outputs": [
        {
          "output_type": "stream",
          "name": "stderr",
          "text": [
            "/usr/local/lib/python3.7/dist-packages/ipykernel_launcher.py:6: SettingWithCopyWarning: \n",
            "A value is trying to be set on a copy of a slice from a DataFrame.\n",
            "Try using .loc[row_indexer,col_indexer] = value instead\n",
            "\n",
            "See the caveats in the documentation: https://pandas.pydata.org/pandas-docs/stable/user_guide/indexing.html#returning-a-view-versus-a-copy\n",
            "  \n"
          ]
        }
      ]
    },
    {
      "cell_type": "code",
      "source": [
        "eeg_clean"
      ],
      "metadata": {
        "colab": {
          "base_uri": "https://localhost:8080/",
          "height": 835
        },
        "id": "F_hst05IpG7e",
        "outputId": "a696d9b3-86cf-4cc3-eeec-e239ef45a801"
      },
      "execution_count": 297,
      "outputs": [
        {
          "output_type": "execute_result",
          "data": {
            "text/plain": [
              "      Trial Subject  Block  ProbeType  ProbeSound_idx    ProbeTypeName  \\\n",
              "1         1      E2      1          2              38      in_sequence   \n",
              "2         2      E2      1          2              30      in_sequence   \n",
              "3         3      E2      1          2               5      in_sequence   \n",
              "4         4      E2      1          1              13  out_of_sequence   \n",
              "5         5      E2      1          2              16      in_sequence   \n",
              "...     ...     ...    ...        ...             ...              ...   \n",
              "5563    187     E33      6          2               5      in_sequence   \n",
              "5564    188     E33      6          2              40      in_sequence   \n",
              "5565    189     E33      6          2              31      in_sequence   \n",
              "5566    190     E33      6          2              19      in_sequence   \n",
              "5567    191     E33      6          2              36      in_sequence   \n",
              "\n",
              "     StimulusCategory  ReactionTime KeyCode Response  ResponseCorrect  \\\n",
              "1       Low Non-words      1.282162  2.Left      Yes                1   \n",
              "2           Low Words      0.987854  2.Left      Yes                1   \n",
              "3          High Words      1.588743  2.Left      Yes                1   \n",
              "4       Low Non-words      1.184043  3.Left       No                1   \n",
              "5      High Non-Words      1.566338  2.Left      Yes                1   \n",
              "...               ...           ...     ...      ...              ...   \n",
              "5563       High Words      0.675257  2.Left      Yes                1   \n",
              "5564    Low Non-words      1.023468  2.Left      Yes                1   \n",
              "5565    Low Non-words      1.132745  2.Left      Yes                1   \n",
              "5566   High Non-Words      0.676137  2.Left      Yes                1   \n",
              "5567    Low Non-words      0.649415  2.Left      Yes                1   \n",
              "\n",
              "       Omission   ProbeCategory  \\\n",
              "1     Responded   low non-words   \n",
              "2     Responded       low words   \n",
              "3     Responded      high words   \n",
              "4     Responded  high non-words   \n",
              "5     Responded  high non-words   \n",
              "...         ...             ...   \n",
              "5563  Responded      high words   \n",
              "5564  Responded   low non-words   \n",
              "5565  Responded   low non-words   \n",
              "5566  Responded  high non-words   \n",
              "5567  Responded   low non-words   \n",
              "\n",
              "                                    StimulusSounds_name ProbeSound_name  \\\n",
              "1     [array(['yuf.wav'], dtype='<U7'), array(['JcG....         ycG.wav   \n",
              "2     [[array(['tub.wav'], dtype='<U7')]\\n [array(['...         yuT.wav   \n",
              "3     [array(['fEl.wav'], dtype='<U7'), array(['lEr....         lEr.wav   \n",
              "4     [[array(['gWT.wav'], dtype='<U7')]\\n [array(['...         g@n.wav   \n",
              "5     [[array(['g@n.wav'], dtype='<U7')]\\n [array(['...         kYl.wav   \n",
              "...                                                 ...             ...   \n",
              "5563  [[array(['debt.wav'], dtype='<U8')]\\n [array([...        lair.wav   \n",
              "5564  [[array(['deech.wav'], dtype='<U9')]\\n [array(...       zerth.wav   \n",
              "5565  [[array(['deech.wav'], dtype='<U9')]\\n [array(...       deech.wav   \n",
              "5566  [[array(['rehl.wav'], dtype='<U8')]\\n [array([...        rihn.wav   \n",
              "5567  [array(['yuwf.wav'], dtype='<U8'), array(['ver...        vern.wav   \n",
              "\n",
              "                        StimulusSounds_idx  CorrPercentage     stdRT  \\\n",
              "1                     [39, 32, 35, 37, 38]        0.888889  0.401952   \n",
              "2     [27, 23, 22, 24, 25, 29, 26, 28, 30]        0.888889 -0.401598   \n",
              "3                          [2, 5, 8, 4, 6]        0.888889  1.239013   \n",
              "4             [34, 35, 36, 40, 39, 33, 37]        0.888889  0.134058   \n",
              "5     [13, 15, 16, 20, 11, 18, 12, 19, 17]        0.888889  1.177841   \n",
              "...                                    ...             ...       ...   \n",
              "5563                 [2, 8, 7, 6, 9, 5, 1]        0.958115 -1.255086   \n",
              "5564  [31, 39, 32, 35, 40, 36, 33, 34, 37]        0.958115 -0.304362   \n",
              "5565  [31, 36, 33, 37, 35, 34, 32, 40, 38]        0.958115 -0.006003   \n",
              "5566                          [18, 19, 13]        0.958115 -1.252682   \n",
              "5567                  [39, 36, 34, 40, 38]        0.958115 -1.325642   \n",
              "\n",
              "      Position  Length  \n",
              "1            3       5  \n",
              "2            3       9  \n",
              "3            1       5  \n",
              "4            0       7  \n",
              "5            1       9  \n",
              "...        ...     ...  \n",
              "5563         3       7  \n",
              "5564         2       9  \n",
              "5565         1       9  \n",
              "5566         2       3  \n",
              "5567         1       5  \n",
              "\n",
              "[5468 rows x 20 columns]"
            ],
            "text/html": [
              "\n",
              "  <div id=\"df-da5f2e67-4865-431d-aab1-73f1699aae93\">\n",
              "    <div class=\"colab-df-container\">\n",
              "      <div>\n",
              "<style scoped>\n",
              "    .dataframe tbody tr th:only-of-type {\n",
              "        vertical-align: middle;\n",
              "    }\n",
              "\n",
              "    .dataframe tbody tr th {\n",
              "        vertical-align: top;\n",
              "    }\n",
              "\n",
              "    .dataframe thead th {\n",
              "        text-align: right;\n",
              "    }\n",
              "</style>\n",
              "<table border=\"1\" class=\"dataframe\">\n",
              "  <thead>\n",
              "    <tr style=\"text-align: right;\">\n",
              "      <th></th>\n",
              "      <th>Trial</th>\n",
              "      <th>Subject</th>\n",
              "      <th>Block</th>\n",
              "      <th>ProbeType</th>\n",
              "      <th>ProbeSound_idx</th>\n",
              "      <th>ProbeTypeName</th>\n",
              "      <th>StimulusCategory</th>\n",
              "      <th>ReactionTime</th>\n",
              "      <th>KeyCode</th>\n",
              "      <th>Response</th>\n",
              "      <th>ResponseCorrect</th>\n",
              "      <th>Omission</th>\n",
              "      <th>ProbeCategory</th>\n",
              "      <th>StimulusSounds_name</th>\n",
              "      <th>ProbeSound_name</th>\n",
              "      <th>StimulusSounds_idx</th>\n",
              "      <th>CorrPercentage</th>\n",
              "      <th>stdRT</th>\n",
              "      <th>Position</th>\n",
              "      <th>Length</th>\n",
              "    </tr>\n",
              "  </thead>\n",
              "  <tbody>\n",
              "    <tr>\n",
              "      <th>1</th>\n",
              "      <td>1</td>\n",
              "      <td>E2</td>\n",
              "      <td>1</td>\n",
              "      <td>2</td>\n",
              "      <td>38</td>\n",
              "      <td>in_sequence</td>\n",
              "      <td>Low Non-words</td>\n",
              "      <td>1.282162</td>\n",
              "      <td>2.Left</td>\n",
              "      <td>Yes</td>\n",
              "      <td>1</td>\n",
              "      <td>Responded</td>\n",
              "      <td>low non-words</td>\n",
              "      <td>[array(['yuf.wav'], dtype='&lt;U7'), array(['JcG....</td>\n",
              "      <td>ycG.wav</td>\n",
              "      <td>[39, 32, 35, 37, 38]</td>\n",
              "      <td>0.888889</td>\n",
              "      <td>0.401952</td>\n",
              "      <td>3</td>\n",
              "      <td>5</td>\n",
              "    </tr>\n",
              "    <tr>\n",
              "      <th>2</th>\n",
              "      <td>2</td>\n",
              "      <td>E2</td>\n",
              "      <td>1</td>\n",
              "      <td>2</td>\n",
              "      <td>30</td>\n",
              "      <td>in_sequence</td>\n",
              "      <td>Low Words</td>\n",
              "      <td>0.987854</td>\n",
              "      <td>2.Left</td>\n",
              "      <td>Yes</td>\n",
              "      <td>1</td>\n",
              "      <td>Responded</td>\n",
              "      <td>low words</td>\n",
              "      <td>[[array(['tub.wav'], dtype='&lt;U7')]\\n [array(['...</td>\n",
              "      <td>yuT.wav</td>\n",
              "      <td>[27, 23, 22, 24, 25, 29, 26, 28, 30]</td>\n",
              "      <td>0.888889</td>\n",
              "      <td>-0.401598</td>\n",
              "      <td>3</td>\n",
              "      <td>9</td>\n",
              "    </tr>\n",
              "    <tr>\n",
              "      <th>3</th>\n",
              "      <td>3</td>\n",
              "      <td>E2</td>\n",
              "      <td>1</td>\n",
              "      <td>2</td>\n",
              "      <td>5</td>\n",
              "      <td>in_sequence</td>\n",
              "      <td>High Words</td>\n",
              "      <td>1.588743</td>\n",
              "      <td>2.Left</td>\n",
              "      <td>Yes</td>\n",
              "      <td>1</td>\n",
              "      <td>Responded</td>\n",
              "      <td>high words</td>\n",
              "      <td>[array(['fEl.wav'], dtype='&lt;U7'), array(['lEr....</td>\n",
              "      <td>lEr.wav</td>\n",
              "      <td>[2, 5, 8, 4, 6]</td>\n",
              "      <td>0.888889</td>\n",
              "      <td>1.239013</td>\n",
              "      <td>1</td>\n",
              "      <td>5</td>\n",
              "    </tr>\n",
              "    <tr>\n",
              "      <th>4</th>\n",
              "      <td>4</td>\n",
              "      <td>E2</td>\n",
              "      <td>1</td>\n",
              "      <td>1</td>\n",
              "      <td>13</td>\n",
              "      <td>out_of_sequence</td>\n",
              "      <td>Low Non-words</td>\n",
              "      <td>1.184043</td>\n",
              "      <td>3.Left</td>\n",
              "      <td>No</td>\n",
              "      <td>1</td>\n",
              "      <td>Responded</td>\n",
              "      <td>high non-words</td>\n",
              "      <td>[[array(['gWT.wav'], dtype='&lt;U7')]\\n [array(['...</td>\n",
              "      <td>g@n.wav</td>\n",
              "      <td>[34, 35, 36, 40, 39, 33, 37]</td>\n",
              "      <td>0.888889</td>\n",
              "      <td>0.134058</td>\n",
              "      <td>0</td>\n",
              "      <td>7</td>\n",
              "    </tr>\n",
              "    <tr>\n",
              "      <th>5</th>\n",
              "      <td>5</td>\n",
              "      <td>E2</td>\n",
              "      <td>1</td>\n",
              "      <td>2</td>\n",
              "      <td>16</td>\n",
              "      <td>in_sequence</td>\n",
              "      <td>High Non-Words</td>\n",
              "      <td>1.566338</td>\n",
              "      <td>2.Left</td>\n",
              "      <td>Yes</td>\n",
              "      <td>1</td>\n",
              "      <td>Responded</td>\n",
              "      <td>high non-words</td>\n",
              "      <td>[[array(['g@n.wav'], dtype='&lt;U7')]\\n [array(['...</td>\n",
              "      <td>kYl.wav</td>\n",
              "      <td>[13, 15, 16, 20, 11, 18, 12, 19, 17]</td>\n",
              "      <td>0.888889</td>\n",
              "      <td>1.177841</td>\n",
              "      <td>1</td>\n",
              "      <td>9</td>\n",
              "    </tr>\n",
              "    <tr>\n",
              "      <th>...</th>\n",
              "      <td>...</td>\n",
              "      <td>...</td>\n",
              "      <td>...</td>\n",
              "      <td>...</td>\n",
              "      <td>...</td>\n",
              "      <td>...</td>\n",
              "      <td>...</td>\n",
              "      <td>...</td>\n",
              "      <td>...</td>\n",
              "      <td>...</td>\n",
              "      <td>...</td>\n",
              "      <td>...</td>\n",
              "      <td>...</td>\n",
              "      <td>...</td>\n",
              "      <td>...</td>\n",
              "      <td>...</td>\n",
              "      <td>...</td>\n",
              "      <td>...</td>\n",
              "      <td>...</td>\n",
              "      <td>...</td>\n",
              "    </tr>\n",
              "    <tr>\n",
              "      <th>5563</th>\n",
              "      <td>187</td>\n",
              "      <td>E33</td>\n",
              "      <td>6</td>\n",
              "      <td>2</td>\n",
              "      <td>5</td>\n",
              "      <td>in_sequence</td>\n",
              "      <td>High Words</td>\n",
              "      <td>0.675257</td>\n",
              "      <td>2.Left</td>\n",
              "      <td>Yes</td>\n",
              "      <td>1</td>\n",
              "      <td>Responded</td>\n",
              "      <td>high words</td>\n",
              "      <td>[[array(['debt.wav'], dtype='&lt;U8')]\\n [array([...</td>\n",
              "      <td>lair.wav</td>\n",
              "      <td>[2, 8, 7, 6, 9, 5, 1]</td>\n",
              "      <td>0.958115</td>\n",
              "      <td>-1.255086</td>\n",
              "      <td>3</td>\n",
              "      <td>7</td>\n",
              "    </tr>\n",
              "    <tr>\n",
              "      <th>5564</th>\n",
              "      <td>188</td>\n",
              "      <td>E33</td>\n",
              "      <td>6</td>\n",
              "      <td>2</td>\n",
              "      <td>40</td>\n",
              "      <td>in_sequence</td>\n",
              "      <td>Low Non-words</td>\n",
              "      <td>1.023468</td>\n",
              "      <td>2.Left</td>\n",
              "      <td>Yes</td>\n",
              "      <td>1</td>\n",
              "      <td>Responded</td>\n",
              "      <td>low non-words</td>\n",
              "      <td>[[array(['deech.wav'], dtype='&lt;U9')]\\n [array(...</td>\n",
              "      <td>zerth.wav</td>\n",
              "      <td>[31, 39, 32, 35, 40, 36, 33, 34, 37]</td>\n",
              "      <td>0.958115</td>\n",
              "      <td>-0.304362</td>\n",
              "      <td>2</td>\n",
              "      <td>9</td>\n",
              "    </tr>\n",
              "    <tr>\n",
              "      <th>5565</th>\n",
              "      <td>189</td>\n",
              "      <td>E33</td>\n",
              "      <td>6</td>\n",
              "      <td>2</td>\n",
              "      <td>31</td>\n",
              "      <td>in_sequence</td>\n",
              "      <td>Low Non-words</td>\n",
              "      <td>1.132745</td>\n",
              "      <td>2.Left</td>\n",
              "      <td>Yes</td>\n",
              "      <td>1</td>\n",
              "      <td>Responded</td>\n",
              "      <td>low non-words</td>\n",
              "      <td>[[array(['deech.wav'], dtype='&lt;U9')]\\n [array(...</td>\n",
              "      <td>deech.wav</td>\n",
              "      <td>[31, 36, 33, 37, 35, 34, 32, 40, 38]</td>\n",
              "      <td>0.958115</td>\n",
              "      <td>-0.006003</td>\n",
              "      <td>1</td>\n",
              "      <td>9</td>\n",
              "    </tr>\n",
              "    <tr>\n",
              "      <th>5566</th>\n",
              "      <td>190</td>\n",
              "      <td>E33</td>\n",
              "      <td>6</td>\n",
              "      <td>2</td>\n",
              "      <td>19</td>\n",
              "      <td>in_sequence</td>\n",
              "      <td>High Non-Words</td>\n",
              "      <td>0.676137</td>\n",
              "      <td>2.Left</td>\n",
              "      <td>Yes</td>\n",
              "      <td>1</td>\n",
              "      <td>Responded</td>\n",
              "      <td>high non-words</td>\n",
              "      <td>[[array(['rehl.wav'], dtype='&lt;U8')]\\n [array([...</td>\n",
              "      <td>rihn.wav</td>\n",
              "      <td>[18, 19, 13]</td>\n",
              "      <td>0.958115</td>\n",
              "      <td>-1.252682</td>\n",
              "      <td>2</td>\n",
              "      <td>3</td>\n",
              "    </tr>\n",
              "    <tr>\n",
              "      <th>5567</th>\n",
              "      <td>191</td>\n",
              "      <td>E33</td>\n",
              "      <td>6</td>\n",
              "      <td>2</td>\n",
              "      <td>36</td>\n",
              "      <td>in_sequence</td>\n",
              "      <td>Low Non-words</td>\n",
              "      <td>0.649415</td>\n",
              "      <td>2.Left</td>\n",
              "      <td>Yes</td>\n",
              "      <td>1</td>\n",
              "      <td>Responded</td>\n",
              "      <td>low non-words</td>\n",
              "      <td>[array(['yuwf.wav'], dtype='&lt;U8'), array(['ver...</td>\n",
              "      <td>vern.wav</td>\n",
              "      <td>[39, 36, 34, 40, 38]</td>\n",
              "      <td>0.958115</td>\n",
              "      <td>-1.325642</td>\n",
              "      <td>1</td>\n",
              "      <td>5</td>\n",
              "    </tr>\n",
              "  </tbody>\n",
              "</table>\n",
              "<p>5468 rows × 20 columns</p>\n",
              "</div>\n",
              "      <button class=\"colab-df-convert\" onclick=\"convertToInteractive('df-da5f2e67-4865-431d-aab1-73f1699aae93')\"\n",
              "              title=\"Convert this dataframe to an interactive table.\"\n",
              "              style=\"display:none;\">\n",
              "        \n",
              "  <svg xmlns=\"http://www.w3.org/2000/svg\" height=\"24px\"viewBox=\"0 0 24 24\"\n",
              "       width=\"24px\">\n",
              "    <path d=\"M0 0h24v24H0V0z\" fill=\"none\"/>\n",
              "    <path d=\"M18.56 5.44l.94 2.06.94-2.06 2.06-.94-2.06-.94-.94-2.06-.94 2.06-2.06.94zm-11 1L8.5 8.5l.94-2.06 2.06-.94-2.06-.94L8.5 2.5l-.94 2.06-2.06.94zm10 10l.94 2.06.94-2.06 2.06-.94-2.06-.94-.94-2.06-.94 2.06-2.06.94z\"/><path d=\"M17.41 7.96l-1.37-1.37c-.4-.4-.92-.59-1.43-.59-.52 0-1.04.2-1.43.59L10.3 9.45l-7.72 7.72c-.78.78-.78 2.05 0 2.83L4 21.41c.39.39.9.59 1.41.59.51 0 1.02-.2 1.41-.59l7.78-7.78 2.81-2.81c.8-.78.8-2.07 0-2.86zM5.41 20L4 18.59l7.72-7.72 1.47 1.35L5.41 20z\"/>\n",
              "  </svg>\n",
              "      </button>\n",
              "      \n",
              "  <style>\n",
              "    .colab-df-container {\n",
              "      display:flex;\n",
              "      flex-wrap:wrap;\n",
              "      gap: 12px;\n",
              "    }\n",
              "\n",
              "    .colab-df-convert {\n",
              "      background-color: #E8F0FE;\n",
              "      border: none;\n",
              "      border-radius: 50%;\n",
              "      cursor: pointer;\n",
              "      display: none;\n",
              "      fill: #1967D2;\n",
              "      height: 32px;\n",
              "      padding: 0 0 0 0;\n",
              "      width: 32px;\n",
              "    }\n",
              "\n",
              "    .colab-df-convert:hover {\n",
              "      background-color: #E2EBFA;\n",
              "      box-shadow: 0px 1px 2px rgba(60, 64, 67, 0.3), 0px 1px 3px 1px rgba(60, 64, 67, 0.15);\n",
              "      fill: #174EA6;\n",
              "    }\n",
              "\n",
              "    [theme=dark] .colab-df-convert {\n",
              "      background-color: #3B4455;\n",
              "      fill: #D2E3FC;\n",
              "    }\n",
              "\n",
              "    [theme=dark] .colab-df-convert:hover {\n",
              "      background-color: #434B5C;\n",
              "      box-shadow: 0px 1px 3px 1px rgba(0, 0, 0, 0.15);\n",
              "      filter: drop-shadow(0px 1px 2px rgba(0, 0, 0, 0.3));\n",
              "      fill: #FFFFFF;\n",
              "    }\n",
              "  </style>\n",
              "\n",
              "      <script>\n",
              "        const buttonEl =\n",
              "          document.querySelector('#df-da5f2e67-4865-431d-aab1-73f1699aae93 button.colab-df-convert');\n",
              "        buttonEl.style.display =\n",
              "          google.colab.kernel.accessAllowed ? 'block' : 'none';\n",
              "\n",
              "        async function convertToInteractive(key) {\n",
              "          const element = document.querySelector('#df-da5f2e67-4865-431d-aab1-73f1699aae93');\n",
              "          const dataTable =\n",
              "            await google.colab.kernel.invokeFunction('convertToInteractive',\n",
              "                                                     [key], {});\n",
              "          if (!dataTable) return;\n",
              "\n",
              "          const docLinkHtml = 'Like what you see? Visit the ' +\n",
              "            '<a target=\"_blank\" href=https://colab.research.google.com/notebooks/data_table.ipynb>data table notebook</a>'\n",
              "            + ' to learn more about interactive tables.';\n",
              "          element.innerHTML = '';\n",
              "          dataTable['output_type'] = 'display_data';\n",
              "          await google.colab.output.renderOutput(dataTable, element);\n",
              "          const docLink = document.createElement('div');\n",
              "          docLink.innerHTML = docLinkHtml;\n",
              "          element.appendChild(docLink);\n",
              "        }\n",
              "      </script>\n",
              "    </div>\n",
              "  </div>\n",
              "  "
            ]
          },
          "metadata": {},
          "execution_count": 297
        }
      ]
    },
    {
      "cell_type": "code",
      "source": [
        "# check for outliers outside \n",
        "eeg_no_outliers = eeg_clean.copy()\n",
        "q75 = np.percentile(eeg_no_outliers['ReactionTime'], 75)\n",
        "q25 = np.percentile(eeg_no_outliers['ReactionTime'], 25)\n",
        "inter_qr = q75 - q25\n",
        "upper = q75 + (inter_qr*1.5)\n",
        "lower = q25 - (inter_qr*1.5)\n",
        "col_new = []\n",
        "for value in eeg_no_outliers['ReactionTime'].values:\n",
        "  if value < lower:\n",
        "    col_new.append(np.nan)\n",
        "  elif value > upper:\n",
        "    col_new.append(np.nan)\n",
        "  else:\n",
        "    col_new.append(value)\n",
        "eeg_no_outliers['ReactionTime'] = col_new"
      ],
      "metadata": {
        "id": "LpbhVktS6jay"
      },
      "execution_count": 298,
      "outputs": []
    },
    {
      "cell_type": "code",
      "source": [
        "print(eeg_no_outliers.isnull().sum()['ReactionTime'])\n",
        "# drop outliers\n",
        "eeg_no_outliers = eeg_no_outliers.dropna()\n",
        "print(eeg_no_outliers.isnull().sum()['ReactionTime'])"
      ],
      "metadata": {
        "colab": {
          "base_uri": "https://localhost:8080/"
        },
        "id": "-BIfdPVvub1A",
        "outputId": "0d5a5aff-6491-4323-c6b7-4d8118c3ad4c"
      },
      "execution_count": 299,
      "outputs": [
        {
          "output_type": "stream",
          "name": "stdout",
          "text": [
            "134\n",
            "0\n"
          ]
        }
      ]
    },
    {
      "cell_type": "code",
      "source": [
        "pl.figure(figsize = (7, 7))\n",
        "ax = seaborn.boxplot(y=\"ReactionTime\", data=eeg_no_outliers)\n",
        "pl.title(\"Distribution of RT values without outliers\");"
      ],
      "metadata": {
        "colab": {
          "base_uri": "https://localhost:8080/",
          "height": 427
        },
        "id": "1Q0vIVC8ucW_",
        "outputId": "abe6d85a-9292-47a3-c074-2b7f59b67feb"
      },
      "execution_count": 300,
      "outputs": [
        {
          "output_type": "display_data",
          "data": {
            "text/plain": [
              "<Figure size 504x504 with 1 Axes>"
            ],
            "image/png": "[encoded data removed]"
          },
          "metadata": {}
        }
      ]
    },
    {
      "cell_type": "code",
      "source": [
        "# upper plot - with outliers, lower plot - without\n",
        "pl.figure(figsize = (20, 10))\n",
        "seaborn.displot(eeg_clean['ReactionTime'])\n",
        "seaborn.displot(eeg_no_outliers['ReactionTime']);"
      ],
      "metadata": {
        "colab": {
          "base_uri": "https://localhost:8080/",
          "height": 730
        },
        "id": "WpyloaRoukc7",
        "outputId": "d60f187c-3d89-4565-be38-07727cb3efae"
      },
      "execution_count": 301,
      "outputs": [
        {
          "output_type": "display_data",
          "data": {
            "text/plain": [
              "<Figure size 1440x720 with 0 Axes>"
            ]
          },
          "metadata": {}
        },
        {
          "output_type": "display_data",
          "data": {
            "text/plain": [
              "<Figure size 360x360 with 1 Axes>"
            ],
            "image/png": "[encoded data removed]"
          },
          "metadata": {}
        },
        {
          "output_type": "display_data",
          "data": {
            "text/plain": [
              "<Figure size 360x360 with 1 Axes>"
            ],
            "image/png": "[encoded data removed]"
          },
          "metadata": {}
        }
      ]
    },
    {
      "cell_type": "markdown",
      "source": [
        "There are two datasets now: eeg_clean - with outliers in RT, eeg_no_outliers - without"
      ],
      "metadata": {
        "id": "3yW3yluWBtea"
      }
    },
    {
      "cell_type": "markdown",
      "source": [
        "## Plotting the accuracy across conditions"
      ],
      "metadata": {
        "id": "qRQVlwGuvACi"
      }
    },
    {
      "cell_type": "code",
      "source": [
        "eeg_clean.head()"
      ],
      "metadata": {
        "colab": {
          "base_uri": "https://localhost:8080/",
          "height": 444
        },
        "id": "ofCfnP4ovGr2",
        "outputId": "71e6449c-4c83-47cc-e7aa-80aff9f3357e"
      },
      "execution_count": 234,
      "outputs": [
        {
          "output_type": "execute_result",
          "data": {
            "text/plain": [
              "   Trial Subject  Block  ProbeType  ProbeSound_idx    ProbeTypeName  \\\n",
              "1      1      E2      1          2              38      in_sequence   \n",
              "2      2      E2      1          2              30      in_sequence   \n",
              "3      3      E2      1          2               5      in_sequence   \n",
              "4      4      E2      1          1              13  out_of_sequence   \n",
              "5      5      E2      1          2              16      in_sequence   \n",
              "\n",
              "  StimulusCategory  ReactionTime KeyCode Response  ResponseCorrect   Omission  \\\n",
              "1    Low Non-words      1.282162  2.Left      Yes                1  Responded   \n",
              "2        Low Words      0.987854  2.Left      Yes                1  Responded   \n",
              "3       High Words      1.588743  2.Left      Yes                1  Responded   \n",
              "4    Low Non-words      1.184043  3.Left       No                1  Responded   \n",
              "5   High Non-Words      1.566338  2.Left      Yes                1  Responded   \n",
              "\n",
              "    ProbeCategory                                StimulusSounds_name  \\\n",
              "1   low non-words  [array(['yuf.wav'], dtype='<U7'), array(['JcG....   \n",
              "2       low words  [[array(['tub.wav'], dtype='<U7')]\\n [array(['...   \n",
              "3      high words  [array(['fEl.wav'], dtype='<U7'), array(['lEr....   \n",
              "4  high non-words  [[array(['gWT.wav'], dtype='<U7')]\\n [array(['...   \n",
              "5  high non-words  [[array(['g@n.wav'], dtype='<U7')]\\n [array(['...   \n",
              "\n",
              "  ProbeSound_name                    StimulusSounds_idx  CorrPercentage  \\\n",
              "1         ycG.wav                  [39, 32, 35, 37, 38]        0.888889   \n",
              "2         yuT.wav  [27, 23, 22, 24, 25, 29, 26, 28, 30]        0.888889   \n",
              "3         lEr.wav                       [2, 5, 8, 4, 6]        0.888889   \n",
              "4         g@n.wav          [34, 35, 36, 40, 39, 33, 37]        0.888889   \n",
              "5         kYl.wav  [13, 15, 16, 20, 11, 18, 12, 19, 17]        0.888889   \n",
              "\n",
              "      stdRT  Position  Length  \n",
              "1  0.401952         3       5  \n",
              "2 -0.401598         3       9  \n",
              "3  1.239013         1       5  \n",
              "4  0.134058         0       7  \n",
              "5  1.177841         1       9  "
            ],
            "text/html": [
              "\n",
              "  <div id=\"df-3f5ecc3a-0fff-48fa-9d37-8e6f23966c7c\">\n",
              "    <div class=\"colab-df-container\">\n",
              "      <div>\n",
              "<style scoped>\n",
              "    .dataframe tbody tr th:only-of-type {\n",
              "        vertical-align: middle;\n",
              "    }\n",
              "\n",
              "    .dataframe tbody tr th {\n",
              "        vertical-align: top;\n",
              "    }\n",
              "\n",
              "    .dataframe thead th {\n",
              "        text-align: right;\n",
              "    }\n",
              "</style>\n",
              "<table border=\"1\" class=\"dataframe\">\n",
              "  <thead>\n",
              "    <tr style=\"text-align: right;\">\n",
              "      <th></th>\n",
              "      <th>Trial</th>\n",
              "      <th>Subject</th>\n",
              "      <th>Block</th>\n",
              "      <th>ProbeType</th>\n",
              "      <th>ProbeSound_idx</th>\n",
              "      <th>ProbeTypeName</th>\n",
              "      <th>StimulusCategory</th>\n",
              "      <th>ReactionTime</th>\n",
              "      <th>KeyCode</th>\n",
              "      <th>Response</th>\n",
              "      <th>ResponseCorrect</th>\n",
              "      <th>Omission</th>\n",
              "      <th>ProbeCategory</th>\n",
              "      <th>StimulusSounds_name</th>\n",
              "      <th>ProbeSound_name</th>\n",
              "      <th>StimulusSounds_idx</th>\n",
              "      <th>CorrPercentage</th>\n",
              "      <th>stdRT</th>\n",
              "      <th>Position</th>\n",
              "      <th>Length</th>\n",
              "    </tr>\n",
              "  </thead>\n",
              "  <tbody>\n",
              "    <tr>\n",
              "      <th>1</th>\n",
              "      <td>1</td>\n",
              "      <td>E2</td>\n",
              "      <td>1</td>\n",
              "      <td>2</td>\n",
              "      <td>38</td>\n",
              "      <td>in_sequence</td>\n",
              "      <td>Low Non-words</td>\n",
              "      <td>1.282162</td>\n",
              "      <td>2.Left</td>\n",
              "      <td>Yes</td>\n",
              "      <td>1</td>\n",
              "      <td>Responded</td>\n",
              "      <td>low non-words</td>\n",
              "      <td>[array(['yuf.wav'], dtype='&lt;U7'), array(['JcG....</td>\n",
              "      <td>ycG.wav</td>\n",
              "      <td>[39, 32, 35, 37, 38]</td>\n",
              "      <td>0.888889</td>\n",
              "      <td>0.401952</td>\n",
              "      <td>3</td>\n",
              "      <td>5</td>\n",
              "    </tr>\n",
              "    <tr>\n",
              "      <th>2</th>\n",
              "      <td>2</td>\n",
              "      <td>E2</td>\n",
              "      <td>1</td>\n",
              "      <td>2</td>\n",
              "      <td>30</td>\n",
              "      <td>in_sequence</td>\n",
              "      <td>Low Words</td>\n",
              "      <td>0.987854</td>\n",
              "      <td>2.Left</td>\n",
              "      <td>Yes</td>\n",
              "      <td>1</td>\n",
              "      <td>Responded</td>\n",
              "      <td>low words</td>\n",
              "      <td>[[array(['tub.wav'], dtype='&lt;U7')]\\n [array(['...</td>\n",
              "      <td>yuT.wav</td>\n",
              "      <td>[27, 23, 22, 24, 25, 29, 26, 28, 30]</td>\n",
              "      <td>0.888889</td>\n",
              "      <td>-0.401598</td>\n",
              "      <td>3</td>\n",
              "      <td>9</td>\n",
              "    </tr>\n",
              "    <tr>\n",
              "      <th>3</th>\n",
              "      <td>3</td>\n",
              "      <td>E2</td>\n",
              "      <td>1</td>\n",
              "      <td>2</td>\n",
              "      <td>5</td>\n",
              "      <td>in_sequence</td>\n",
              "      <td>High Words</td>\n",
              "      <td>1.588743</td>\n",
              "      <td>2.Left</td>\n",
              "      <td>Yes</td>\n",
              "      <td>1</td>\n",
              "      <td>Responded</td>\n",
              "      <td>high words</td>\n",
              "      <td>[array(['fEl.wav'], dtype='&lt;U7'), array(['lEr....</td>\n",
              "      <td>lEr.wav</td>\n",
              "      <td>[2, 5, 8, 4, 6]</td>\n",
              "      <td>0.888889</td>\n",
              "      <td>1.239013</td>\n",
              "      <td>1</td>\n",
              "      <td>5</td>\n",
              "    </tr>\n",
              "    <tr>\n",
              "      <th>4</th>\n",
              "      <td>4</td>\n",
              "      <td>E2</td>\n",
              "      <td>1</td>\n",
              "      <td>1</td>\n",
              "      <td>13</td>\n",
              "      <td>out_of_sequence</td>\n",
              "      <td>Low Non-words</td>\n",
              "      <td>1.184043</td>\n",
              "      <td>3.Left</td>\n",
              "      <td>No</td>\n",
              "      <td>1</td>\n",
              "      <td>Responded</td>\n",
              "      <td>high non-words</td>\n",
              "      <td>[[array(['gWT.wav'], dtype='&lt;U7')]\\n [array(['...</td>\n",
              "      <td>g@n.wav</td>\n",
              "      <td>[34, 35, 36, 40, 39, 33, 37]</td>\n",
              "      <td>0.888889</td>\n",
              "      <td>0.134058</td>\n",
              "      <td>0</td>\n",
              "      <td>7</td>\n",
              "    </tr>\n",
              "    <tr>\n",
              "      <th>5</th>\n",
              "      <td>5</td>\n",
              "      <td>E2</td>\n",
              "      <td>1</td>\n",
              "      <td>2</td>\n",
              "      <td>16</td>\n",
              "      <td>in_sequence</td>\n",
              "      <td>High Non-Words</td>\n",
              "      <td>1.566338</td>\n",
              "      <td>2.Left</td>\n",
              "      <td>Yes</td>\n",
              "      <td>1</td>\n",
              "      <td>Responded</td>\n",
              "      <td>high non-words</td>\n",
              "      <td>[[array(['g@n.wav'], dtype='&lt;U7')]\\n [array(['...</td>\n",
              "      <td>kYl.wav</td>\n",
              "      <td>[13, 15, 16, 20, 11, 18, 12, 19, 17]</td>\n",
              "      <td>0.888889</td>\n",
              "      <td>1.177841</td>\n",
              "      <td>1</td>\n",
              "      <td>9</td>\n",
              "    </tr>\n",
              "  </tbody>\n",
              "</table>\n",
              "</div>\n",
              "      <button class=\"colab-df-convert\" onclick=\"convertToInteractive('df-3f5ecc3a-0fff-48fa-9d37-8e6f23966c7c')\"\n",
              "              title=\"Convert this dataframe to an interactive table.\"\n",
              "              style=\"display:none;\">\n",
              "        \n",
              "  <svg xmlns=\"http://www.w3.org/2000/svg\" height=\"24px\"viewBox=\"0 0 24 24\"\n",
              "       width=\"24px\">\n",
              "    <path d=\"M0 0h24v24H0V0z\" fill=\"none\"/>\n",
              "    <path d=\"M18.56 5.44l.94 2.06.94-2.06 2.06-.94-2.06-.94-.94-2.06-.94 2.06-2.06.94zm-11 1L8.5 8.5l.94-2.06 2.06-.94-2.06-.94L8.5 2.5l-.94 2.06-2.06.94zm10 10l.94 2.06.94-2.06 2.06-.94-2.06-.94-.94-2.06-.94 2.06-2.06.94z\"/><path d=\"M17.41 7.96l-1.37-1.37c-.4-.4-.92-.59-1.43-.59-.52 0-1.04.2-1.43.59L10.3 9.45l-7.72 7.72c-.78.78-.78 2.05 0 2.83L4 21.41c.39.39.9.59 1.41.59.51 0 1.02-.2 1.41-.59l7.78-7.78 2.81-2.81c.8-.78.8-2.07 0-2.86zM5.41 20L4 18.59l7.72-7.72 1.47 1.35L5.41 20z\"/>\n",
              "  </svg>\n",
              "      </button>\n",
              "      \n",
              "  <style>\n",
              "    .colab-df-container {\n",
              "      display:flex;\n",
              "      flex-wrap:wrap;\n",
              "      gap: 12px;\n",
              "    }\n",
              "\n",
              "    .colab-df-convert {\n",
              "      background-color: #E8F0FE;\n",
              "      border: none;\n",
              "      border-radius: 50%;\n",
              "      cursor: pointer;\n",
              "      display: none;\n",
              "      fill: #1967D2;\n",
              "      height: 32px;\n",
              "      padding: 0 0 0 0;\n",
              "      width: 32px;\n",
              "    }\n",
              "\n",
              "    .colab-df-convert:hover {\n",
              "      background-color: #E2EBFA;\n",
              "      box-shadow: 0px 1px 2px rgba(60, 64, 67, 0.3), 0px 1px 3px 1px rgba(60, 64, 67, 0.15);\n",
              "      fill: #174EA6;\n",
              "    }\n",
              "\n",
              "    [theme=dark] .colab-df-convert {\n",
              "      background-color: #3B4455;\n",
              "      fill: #D2E3FC;\n",
              "    }\n",
              "\n",
              "    [theme=dark] .colab-df-convert:hover {\n",
              "      background-color: #434B5C;\n",
              "      box-shadow: 0px 1px 3px 1px rgba(0, 0, 0, 0.15);\n",
              "      filter: drop-shadow(0px 1px 2px rgba(0, 0, 0, 0.3));\n",
              "      fill: #FFFFFF;\n",
              "    }\n",
              "  </style>\n",
              "\n",
              "      <script>\n",
              "        const buttonEl =\n",
              "          document.querySelector('#df-3f5ecc3a-0fff-48fa-9d37-8e6f23966c7c button.colab-df-convert');\n",
              "        buttonEl.style.display =\n",
              "          google.colab.kernel.accessAllowed ? 'block' : 'none';\n",
              "\n",
              "        async function convertToInteractive(key) {\n",
              "          const element = document.querySelector('#df-3f5ecc3a-0fff-48fa-9d37-8e6f23966c7c');\n",
              "          const dataTable =\n",
              "            await google.colab.kernel.invokeFunction('convertToInteractive',\n",
              "                                                     [key], {});\n",
              "          if (!dataTable) return;\n",
              "\n",
              "          const docLinkHtml = 'Like what you see? Visit the ' +\n",
              "            '<a target=\"_blank\" href=https://colab.research.google.com/notebooks/data_table.ipynb>data table notebook</a>'\n",
              "            + ' to learn more about interactive tables.';\n",
              "          element.innerHTML = '';\n",
              "          dataTable['output_type'] = 'display_data';\n",
              "          await google.colab.output.renderOutput(dataTable, element);\n",
              "          const docLink = document.createElement('div');\n",
              "          docLink.innerHTML = docLinkHtml;\n",
              "          element.appendChild(docLink);\n",
              "        }\n",
              "      </script>\n",
              "    </div>\n",
              "  </div>\n",
              "  "
            ]
          },
          "metadata": {},
          "execution_count": 234
        }
      ]
    },
    {
      "cell_type": "code",
      "source": [
        "seaborn.set()"
      ],
      "metadata": {
        "id": "zplN_Nsw0Fuv"
      },
      "execution_count": 159,
      "outputs": []
    },
    {
      "cell_type": "code",
      "source": [
        "eeg_clean.groupby(['ProbeCategory'])['ResponseCorrect'].mean().plot(\n",
        "    legend=True, title = 'Mean Acc across conditions'\n",
        "    );"
      ],
      "metadata": {
        "colab": {
          "base_uri": "https://localhost:8080/",
          "height": 301
        },
        "id": "QNJ6zA44yc3L",
        "outputId": "ddda4fd9-fa7c-4171-9474-9e57de2fb93d"
      },
      "execution_count": 236,
      "outputs": [
        {
          "output_type": "display_data",
          "data": {
            "text/plain": [
              "<Figure size 432x288 with 1 Axes>"
            ],
            "image/png": "[encoded data removed]"
          },
          "metadata": {}
        }
      ]
    },
    {
      "cell_type": "code",
      "source": [
        "eeg_clean.groupby(['Subject'])['ResponseCorrect'].mean().plot(\n",
        "    legend=True, title = 'Mean Acc across subjects'\n",
        "    );"
      ],
      "metadata": {
        "colab": {
          "base_uri": "https://localhost:8080/",
          "height": 301
        },
        "id": "vUlUNArdy6Zr",
        "outputId": "9cd27b7c-7f9e-4572-e0e5-ea722328a4ce"
      },
      "execution_count": 237,
      "outputs": [
        {
          "output_type": "display_data",
          "data": {
            "text/plain": [
              "<Figure size 432x288 with 1 Axes>"
            ],
            "image/png": "[encoded data removed]"
          },
          "metadata": {}
        }
      ]
    },
    {
      "cell_type": "code",
      "source": [
        "# percentages of correct responses for different conditions\n",
        "# acc = correct trials in this cond / all trials in this cond\n",
        "acc_count = lambda v: sum(v) / v.count()\n",
        "pl.figure()\n",
        "subset = eeg_clean.groupby(['ProbeCategory', 'Length'])[['ResponseCorrect']].apply(\n",
        "    acc_count\n",
        ").reset_index()\n",
        "for i in subset.ProbeCategory.unique():\n",
        "  x = subset[subset['ProbeCategory'] == i]\n",
        "  pl.plot(x.Length, x.ResponseCorrect)\n",
        "pl.xticks(x.Length)\n",
        "pl.xlabel('List length')\n",
        "pl.ylabel('Acc')\n",
        "pl.legend(subset.ProbeCategory.unique())\n",
        "pl.title('Acc across conditions and line length');  "
      ],
      "metadata": {
        "colab": {
          "base_uri": "https://localhost:8080/",
          "height": 301
        },
        "id": "CdDaLW2O1Y4p",
        "outputId": "9e342db9-8931-4ad0-860b-53d6450fc7fe"
      },
      "execution_count": 306,
      "outputs": [
        {
          "output_type": "display_data",
          "data": {
            "text/plain": [
              "<Figure size 432x288 with 1 Axes>"
            ],
            "image/png": "[encoded data removed]"
          },
          "metadata": {}
        }
      ]
    },
    {
      "cell_type": "code",
      "source": [
        "words_nonwords = subset.copy()\n",
        "new_names = [] \n",
        "names = words_nonwords.ProbeCategory.values\n",
        "for i in names:\n",
        "  if 'non-words' in i:\n",
        "    new_names.append('NW')\n",
        "  elif 'words' in i:\n",
        "    new_names.append('W')\n",
        "  else:\n",
        "    print('Check', i)\n",
        "    break\n",
        "words_nonwords['ProbeCategory'] = new_names\n",
        "\n",
        "pl.figure()\n",
        "words_nonwords = words_nonwords.groupby(['ProbeCategory', 'Length'])[['ResponseCorrect']].apply(\n",
        "    acc_count\n",
        "). reset_index()\n",
        "for i in words_nonwords.ProbeCategory.unique():\n",
        "  x = words_nonwords[words_nonwords['ProbeCategory'] == i]\n",
        "  pl.plot(x.Length, x.ResponseCorrect)\n",
        "pl.xticks(x.Length)\n",
        "pl.xlabel('List length')\n",
        "pl.ylabel('Acc')\n",
        "pl.legend(words_nonwords.ProbeCategory.unique())\n",
        "pl.title('Words vs. non-words');  "
      ],
      "metadata": {
        "colab": {
          "base_uri": "https://localhost:8080/",
          "height": 301
        },
        "id": "szgi_Q-vGbsj",
        "outputId": "b30cf076-f2ca-4a3e-db27-5cb0c29717cf"
      },
      "execution_count": 307,
      "outputs": [
        {
          "output_type": "display_data",
          "data": {
            "text/plain": [
              "<Figure size 432x288 with 1 Axes>"
            ],
            "image/png": "[encoded data removed]"
          },
          "metadata": {}
        }
      ]
    },
    {
      "cell_type": "code",
      "source": [
        "high_low = subset.copy()\n",
        "new_names = [] \n",
        "names = high_low.ProbeCategory.values\n",
        "for i in names:\n",
        "  if 'low' in i:\n",
        "    new_names.append('L')\n",
        "  elif 'high' in i:\n",
        "    new_names.append('H')\n",
        "  else:\n",
        "    print('Check', i)\n",
        "    break\n",
        "high_low['ProbeCategory'] = new_names\n",
        "\n",
        "pl.figure()\n",
        "high_low = high_low.groupby(['ProbeCategory', 'Length'])[['ResponseCorrect']].apply(\n",
        "    acc_count\n",
        "). reset_index()\n",
        "for i in high_low.ProbeCategory.unique():\n",
        "  x = high_low[high_low['ProbeCategory'] == i]\n",
        "  pl.plot(x.Length, x.ResponseCorrect)\n",
        "pl.xticks(x.Length)\n",
        "pl.xlabel('List length')\n",
        "pl.ylabel('Acc')\n",
        "pl.legend(high_low.ProbeCategory.unique())\n",
        "pl.title('High vs. Low');  "
      ],
      "metadata": {
        "colab": {
          "base_uri": "https://localhost:8080/",
          "height": 301
        },
        "id": "UdRdJvZdCwwh",
        "outputId": "e66c0042-8b30-4cbf-9166-e0cb21da2e61"
      },
      "execution_count": 308,
      "outputs": [
        {
          "output_type": "display_data",
          "data": {
            "text/plain": [
              "<Figure size 432x288 with 1 Axes>"
            ],
            "image/png": "[encoded data removed]"
          },
          "metadata": {}
        }
      ]
    },
    {
      "cell_type": "code",
      "source": [
        "# plotting categories across condition when the probe is in sequence\n",
        "subset = eeg_clean[eeg_clean['ProbeType'] == 2]\n",
        "acc_count = lambda v: sum(v) / v.count()\n",
        "pl.figure()\n",
        "subset = subset.groupby(['ProbeCategory', 'Length'])[['ResponseCorrect']].apply(\n",
        "    acc_count\n",
        ").reset_index()\n",
        "for i in subset.ProbeCategory.unique():\n",
        "  x = subset[subset['ProbeCategory'] == i]\n",
        "  pl.plot(x.Length, x.ResponseCorrect)\n",
        "pl.xticks(x.Length)\n",
        "pl.xlabel('List length')\n",
        "pl.ylabel('Acc')\n",
        "pl.legend(subset.ProbeCategory.unique())\n",
        "pl.title('Acc across conditions and line length only In seq');  "
      ],
      "metadata": {
        "colab": {
          "base_uri": "https://localhost:8080/",
          "height": 301
        },
        "id": "LmXZNCRzejeh",
        "outputId": "cbe69874-08d2-49ec-aee4-851821832faa"
      },
      "execution_count": 243,
      "outputs": [
        {
          "output_type": "display_data",
          "data": {
            "text/plain": [
              "<Figure size 432x288 with 1 Axes>"
            ],
            "image/png": "[encoded data removed]"
          },
          "metadata": {}
        }
      ]
    },
    {
      "cell_type": "code",
      "source": [
        "# probe type 2 = in seq, 1 = out of seq\n",
        "subset = eeg_clean.groupby(['ProbeType', 'ProbeCategory', 'Length'])[['ResponseCorrect']].mean().reset_index()\n",
        "probe_words = subset.copy()\n",
        "new_cat = []\n",
        "cat = probe_words.ProbeCategory.values\n",
        "for i in cat:\n",
        "  if 'non-words' in i:\n",
        "    new_cat.append('NW')\n",
        "  elif 'words' in i:\n",
        "    new_cat.append('W')\n",
        "  else:\n",
        "    print(\"Check\")\n",
        "probe_words['ProbeCategory'] = new_cat\n",
        "\n",
        "probe_words = probe_words.groupby(['ProbeType', 'ProbeCategory', 'Length'])[['ResponseCorrect']].mean().reset_index()\n",
        "for i in probe_words.ProbeType.unique():\n",
        "  for j in probe_words.ProbeCategory.unique():\n",
        "    x = probe_words[(probe_words['ProbeType'] == i) & (probe_words['ProbeCategory'] == j)]\n",
        "    pl.plot(x.Length, x.ResponseCorrect, label = (i, j))\n",
        "pl.xticks(x.Length)\n",
        "pl.xlabel('List length')\n",
        "pl.ylabel('Acc')\n",
        "pl.legend()\n",
        "pl.title('Words/Non-words and Probe/No probe');"
      ],
      "metadata": {
        "colab": {
          "base_uri": "https://localhost:8080/",
          "height": 301
        },
        "id": "rBTYuPeIlAD_",
        "outputId": "2ffd5f04-c180-4f6d-c96a-36ce1ce98587"
      },
      "execution_count": 276,
      "outputs": [
        {
          "output_type": "display_data",
          "data": {
            "text/plain": [
              "<Figure size 432x288 with 1 Axes>"
            ],
            "image/png": "[encoded data removed]"
          },
          "metadata": {}
        }
      ]
    },
    {
      "cell_type": "code",
      "source": [
        "subset = eeg_clean.groupby(['ProbeType', 'ProbeCategory', 'Length'])[['ResponseCorrect']].mean().reset_index()\n",
        "probe_words = subset.copy()\n",
        "new_cat = []\n",
        "cat = probe_words.ProbeCategory.values\n",
        "for i in cat:\n",
        "  if 'high' in i:\n",
        "    new_cat.append('H')\n",
        "  elif 'low' in i:\n",
        "    new_cat.append('L')\n",
        "  else:\n",
        "    print(\"Check\")\n",
        "probe_words['ProbeCategory'] = new_cat\n",
        "\n",
        "probe_words = probe_words.groupby(['ProbeType', 'ProbeCategory', 'Length'])[['ResponseCorrect']].mean().reset_index()\n",
        "for i in probe_words.ProbeType.unique():\n",
        "  for j in probe_words.ProbeCategory.unique():\n",
        "    x = probe_words[(probe_words['ProbeType'] == i) & (probe_words['ProbeCategory'] == j)]\n",
        "    pl.plot(x.Length, x.ResponseCorrect, label = (i, j))\n",
        "pl.xticks(x.Length)\n",
        "pl.xlabel('List length')\n",
        "pl.ylabel('Acc')\n",
        "pl.legend()\n",
        "pl.title('High/Low and Probe(2)/No probe(1)');"
      ],
      "metadata": {
        "colab": {
          "base_uri": "https://localhost:8080/",
          "height": 301
        },
        "id": "lJSs2TFFnPQV",
        "outputId": "3988cebe-1bd4-4869-e2ff-834330508305"
      },
      "execution_count": 278,
      "outputs": [
        {
          "output_type": "display_data",
          "data": {
            "text/plain": [
              "<Figure size 432x288 with 1 Axes>"
            ],
            "image/png": "[encoded data removed]"
          },
          "metadata": {}
        }
      ]
    },
    {
      "cell_type": "code",
      "source": [
        "subset = eeg_clean.groupby(['Position', 'Length'])[['ResponseCorrect']].mean().reset_index()\n",
        "for i in subset.Position.unique():\n",
        "  x = subset[subset['Position'] == i]\n",
        "  pl.plot(x.Length, x.ResponseCorrect)\n",
        "pl.xticks(x.Length)\n",
        "pl.xlabel('List length')\n",
        "pl.ylabel('Acc')\n",
        "pl.legend(subset.Position.unique())\n",
        "pl.title('Position vs. Length');"
      ],
      "metadata": {
        "colab": {
          "base_uri": "https://localhost:8080/",
          "height": 301
        },
        "id": "UvIuMqbPnaQ4",
        "outputId": "2996d897-624f-4050-efa0-8729c09e9c34"
      },
      "execution_count": 285,
      "outputs": [
        {
          "output_type": "display_data",
          "data": {
            "text/plain": [
              "<Figure size 432x288 with 1 Axes>"
            ],
            "image/png": "[encoded data removed]"
          },
          "metadata": {}
        }
      ]
    },
    {
      "cell_type": "code",
      "source": [
        "subset = eeg_clean.groupby(['Position', 'Length', 'ProbeCategory'])[['ResponseCorrect']].mean().reset_index()\n",
        "pos_words = subset.copy()\n",
        "new_cat = []\n",
        "cat = pos_words.ProbeCategory.values\n",
        "for i in cat:\n",
        "  if 'non-words' in i:\n",
        "    new_cat.append('NW')\n",
        "  elif 'words' in i:\n",
        "    new_cat.append('W')\n",
        "  else:\n",
        "    print(\"Check\")\n",
        "pos_words['ProbeCategory'] = new_cat\n",
        "\n",
        "pos_words = pos_words.groupby(['Position', 'ProbeCategory', 'Length'])[['ResponseCorrect']].mean().reset_index()\n",
        "\n",
        "for i in pos_words.Position.unique():\n",
        "  for j in pos_words.ProbeCategory.unique():\n",
        "    x = pos_words[(pos_words['Position'] == i) & (pos_words['ProbeCategory'] == j)]\n",
        "    if j == 'NW':\n",
        "      pl.plot(x.Length, x.ResponseCorrect, '--', label = (i, j))\n",
        "    elif j == 'W':\n",
        "      pl.plot(x.Length, x.ResponseCorrect, label = (i, j))\n",
        "pl.xticks(x.Length)\n",
        "pl.xlabel('List length')\n",
        "pl.ylabel('Acc')\n",
        "pl.legend()\n",
        "pl.title('Position vs. W/NW vs. Length');"
      ],
      "metadata": {
        "colab": {
          "base_uri": "https://localhost:8080/",
          "height": 301
        },
        "id": "Zuiz6UVKoiU6",
        "outputId": "c8116892-34f0-474d-98f6-ec428f64d988"
      },
      "execution_count": 295,
      "outputs": [
        {
          "output_type": "display_data",
          "data": {
            "text/plain": [
              "<Figure size 432x288 with 1 Axes>"
            ],
            "image/png": "[encoded data removed]"
          },
          "metadata": {}
        }
      ]
    },
    {
      "cell_type": "markdown",
      "source": [
        "## Plotting the RT across conditions"
      ],
      "metadata": {
        "id": "rJE4DGilvEJj"
      }
    },
    {
      "cell_type": "code",
      "source": [
        "eeg_no_outliers.head()"
      ],
      "metadata": {
        "id": "0f90UdmSvGqR",
        "outputId": "93c699bc-469c-43ff-88a1-8bfbe9b93b7f",
        "colab": {
          "base_uri": "https://localhost:8080/",
          "height": 444
        }
      },
      "execution_count": 302,
      "outputs": [
        {
          "output_type": "execute_result",
          "data": {
            "text/plain": [
              "   Trial Subject  Block  ProbeType  ProbeSound_idx    ProbeTypeName  \\\n",
              "1      1      E2      1          2              38      in_sequence   \n",
              "2      2      E2      1          2              30      in_sequence   \n",
              "3      3      E2      1          2               5      in_sequence   \n",
              "4      4      E2      1          1              13  out_of_sequence   \n",
              "5      5      E2      1          2              16      in_sequence   \n",
              "\n",
              "  StimulusCategory  ReactionTime KeyCode Response  ResponseCorrect   Omission  \\\n",
              "1    Low Non-words      1.282162  2.Left      Yes                1  Responded   \n",
              "2        Low Words      0.987854  2.Left      Yes                1  Responded   \n",
              "3       High Words      1.588743  2.Left      Yes                1  Responded   \n",
              "4    Low Non-words      1.184043  3.Left       No                1  Responded   \n",
              "5   High Non-Words      1.566338  2.Left      Yes                1  Responded   \n",
              "\n",
              "    ProbeCategory                                StimulusSounds_name  \\\n",
              "1   low non-words  [array(['yuf.wav'], dtype='<U7'), array(['JcG....   \n",
              "2       low words  [[array(['tub.wav'], dtype='<U7')]\\n [array(['...   \n",
              "3      high words  [array(['fEl.wav'], dtype='<U7'), array(['lEr....   \n",
              "4  high non-words  [[array(['gWT.wav'], dtype='<U7')]\\n [array(['...   \n",
              "5  high non-words  [[array(['g@n.wav'], dtype='<U7')]\\n [array(['...   \n",
              "\n",
              "  ProbeSound_name                    StimulusSounds_idx  CorrPercentage  \\\n",
              "1         ycG.wav                  [39, 32, 35, 37, 38]        0.888889   \n",
              "2         yuT.wav  [27, 23, 22, 24, 25, 29, 26, 28, 30]        0.888889   \n",
              "3         lEr.wav                       [2, 5, 8, 4, 6]        0.888889   \n",
              "4         g@n.wav          [34, 35, 36, 40, 39, 33, 37]        0.888889   \n",
              "5         kYl.wav  [13, 15, 16, 20, 11, 18, 12, 19, 17]        0.888889   \n",
              "\n",
              "      stdRT  Position  Length  \n",
              "1  0.401952         3       5  \n",
              "2 -0.401598         3       9  \n",
              "3  1.239013         1       5  \n",
              "4  0.134058         0       7  \n",
              "5  1.177841         1       9  "
            ],
            "text/html": [
              "\n",
              "  <div id=\"df-a5341264-6f43-46ce-a933-9a465f335877\">\n",
              "    <div class=\"colab-df-container\">\n",
              "      <div>\n",
              "<style scoped>\n",
              "    .dataframe tbody tr th:only-of-type {\n",
              "        vertical-align: middle;\n",
              "    }\n",
              "\n",
              "    .dataframe tbody tr th {\n",
              "        vertical-align: top;\n",
              "    }\n",
              "\n",
              "    .dataframe thead th {\n",
              "        text-align: right;\n",
              "    }\n",
              "</style>\n",
              "<table border=\"1\" class=\"dataframe\">\n",
              "  <thead>\n",
              "    <tr style=\"text-align: right;\">\n",
              "      <th></th>\n",
              "      <th>Trial</th>\n",
              "      <th>Subject</th>\n",
              "      <th>Block</th>\n",
              "      <th>ProbeType</th>\n",
              "      <th>ProbeSound_idx</th>\n",
              "      <th>ProbeTypeName</th>\n",
              "      <th>StimulusCategory</th>\n",
              "      <th>ReactionTime</th>\n",
              "      <th>KeyCode</th>\n",
              "      <th>Response</th>\n",
              "      <th>ResponseCorrect</th>\n",
              "      <th>Omission</th>\n",
              "      <th>ProbeCategory</th>\n",
              "      <th>StimulusSounds_name</th>\n",
              "      <th>ProbeSound_name</th>\n",
              "      <th>StimulusSounds_idx</th>\n",
              "      <th>CorrPercentage</th>\n",
              "      <th>stdRT</th>\n",
              "      <th>Position</th>\n",
              "      <th>Length</th>\n",
              "    </tr>\n",
              "  </thead>\n",
              "  <tbody>\n",
              "    <tr>\n",
              "      <th>1</th>\n",
              "      <td>1</td>\n",
              "      <td>E2</td>\n",
              "      <td>1</td>\n",
              "      <td>2</td>\n",
              "      <td>38</td>\n",
              "      <td>in_sequence</td>\n",
              "      <td>Low Non-words</td>\n",
              "      <td>1.282162</td>\n",
              "      <td>2.Left</td>\n",
              "      <td>Yes</td>\n",
              "      <td>1</td>\n",
              "      <td>Responded</td>\n",
              "      <td>low non-words</td>\n",
              "      <td>[array(['yuf.wav'], dtype='&lt;U7'), array(['JcG....</td>\n",
              "      <td>ycG.wav</td>\n",
              "      <td>[39, 32, 35, 37, 38]</td>\n",
              "      <td>0.888889</td>\n",
              "      <td>0.401952</td>\n",
              "      <td>3</td>\n",
              "      <td>5</td>\n",
              "    </tr>\n",
              "    <tr>\n",
              "      <th>2</th>\n",
              "      <td>2</td>\n",
              "      <td>E2</td>\n",
              "      <td>1</td>\n",
              "      <td>2</td>\n",
              "      <td>30</td>\n",
              "      <td>in_sequence</td>\n",
              "      <td>Low Words</td>\n",
              "      <td>0.987854</td>\n",
              "      <td>2.Left</td>\n",
              "      <td>Yes</td>\n",
              "      <td>1</td>\n",
              "      <td>Responded</td>\n",
              "      <td>low words</td>\n",
              "      <td>[[array(['tub.wav'], dtype='&lt;U7')]\\n [array(['...</td>\n",
              "      <td>yuT.wav</td>\n",
              "      <td>[27, 23, 22, 24, 25, 29, 26, 28, 30]</td>\n",
              "      <td>0.888889</td>\n",
              "      <td>-0.401598</td>\n",
              "      <td>3</td>\n",
              "      <td>9</td>\n",
              "    </tr>\n",
              "    <tr>\n",
              "      <th>3</th>\n",
              "      <td>3</td>\n",
              "      <td>E2</td>\n",
              "      <td>1</td>\n",
              "      <td>2</td>\n",
              "      <td>5</td>\n",
              "      <td>in_sequence</td>\n",
              "      <td>High Words</td>\n",
              "      <td>1.588743</td>\n",
              "      <td>2.Left</td>\n",
              "      <td>Yes</td>\n",
              "      <td>1</td>\n",
              "      <td>Responded</td>\n",
              "      <td>high words</td>\n",
              "      <td>[array(['fEl.wav'], dtype='&lt;U7'), array(['lEr....</td>\n",
              "      <td>lEr.wav</td>\n",
              "      <td>[2, 5, 8, 4, 6]</td>\n",
              "      <td>0.888889</td>\n",
              "      <td>1.239013</td>\n",
              "      <td>1</td>\n",
              "      <td>5</td>\n",
              "    </tr>\n",
              "    <tr>\n",
              "      <th>4</th>\n",
              "      <td>4</td>\n",
              "      <td>E2</td>\n",
              "      <td>1</td>\n",
              "      <td>1</td>\n",
              "      <td>13</td>\n",
              "      <td>out_of_sequence</td>\n",
              "      <td>Low Non-words</td>\n",
              "      <td>1.184043</td>\n",
              "      <td>3.Left</td>\n",
              "      <td>No</td>\n",
              "      <td>1</td>\n",
              "      <td>Responded</td>\n",
              "      <td>high non-words</td>\n",
              "      <td>[[array(['gWT.wav'], dtype='&lt;U7')]\\n [array(['...</td>\n",
              "      <td>g@n.wav</td>\n",
              "      <td>[34, 35, 36, 40, 39, 33, 37]</td>\n",
              "      <td>0.888889</td>\n",
              "      <td>0.134058</td>\n",
              "      <td>0</td>\n",
              "      <td>7</td>\n",
              "    </tr>\n",
              "    <tr>\n",
              "      <th>5</th>\n",
              "      <td>5</td>\n",
              "      <td>E2</td>\n",
              "      <td>1</td>\n",
              "      <td>2</td>\n",
              "      <td>16</td>\n",
              "      <td>in_sequence</td>\n",
              "      <td>High Non-Words</td>\n",
              "      <td>1.566338</td>\n",
              "      <td>2.Left</td>\n",
              "      <td>Yes</td>\n",
              "      <td>1</td>\n",
              "      <td>Responded</td>\n",
              "      <td>high non-words</td>\n",
              "      <td>[[array(['g@n.wav'], dtype='&lt;U7')]\\n [array(['...</td>\n",
              "      <td>kYl.wav</td>\n",
              "      <td>[13, 15, 16, 20, 11, 18, 12, 19, 17]</td>\n",
              "      <td>0.888889</td>\n",
              "      <td>1.177841</td>\n",
              "      <td>1</td>\n",
              "      <td>9</td>\n",
              "    </tr>\n",
              "  </tbody>\n",
              "</table>\n",
              "</div>\n",
              "      <button class=\"colab-df-convert\" onclick=\"convertToInteractive('df-a5341264-6f43-46ce-a933-9a465f335877')\"\n",
              "              title=\"Convert this dataframe to an interactive table.\"\n",
              "              style=\"display:none;\">\n",
              "        \n",
              "  <svg xmlns=\"http://www.w3.org/2000/svg\" height=\"24px\"viewBox=\"0 0 24 24\"\n",
              "       width=\"24px\">\n",
              "    <path d=\"M0 0h24v24H0V0z\" fill=\"none\"/>\n",
              "    <path d=\"M18.56 5.44l.94 2.06.94-2.06 2.06-.94-2.06-.94-.94-2.06-.94 2.06-2.06.94zm-11 1L8.5 8.5l.94-2.06 2.06-.94-2.06-.94L8.5 2.5l-.94 2.06-2.06.94zm10 10l.94 2.06.94-2.06 2.06-.94-2.06-.94-.94-2.06-.94 2.06-2.06.94z\"/><path d=\"M17.41 7.96l-1.37-1.37c-.4-.4-.92-.59-1.43-.59-.52 0-1.04.2-1.43.59L10.3 9.45l-7.72 7.72c-.78.78-.78 2.05 0 2.83L4 21.41c.39.39.9.59 1.41.59.51 0 1.02-.2 1.41-.59l7.78-7.78 2.81-2.81c.8-.78.8-2.07 0-2.86zM5.41 20L4 18.59l7.72-7.72 1.47 1.35L5.41 20z\"/>\n",
              "  </svg>\n",
              "      </button>\n",
              "      \n",
              "  <style>\n",
              "    .colab-df-container {\n",
              "      display:flex;\n",
              "      flex-wrap:wrap;\n",
              "      gap: 12px;\n",
              "    }\n",
              "\n",
              "    .colab-df-convert {\n",
              "      background-color: #E8F0FE;\n",
              "      border: none;\n",
              "      border-radius: 50%;\n",
              "      cursor: pointer;\n",
              "      display: none;\n",
              "      fill: #1967D2;\n",
              "      height: 32px;\n",
              "      padding: 0 0 0 0;\n",
              "      width: 32px;\n",
              "    }\n",
              "\n",
              "    .colab-df-convert:hover {\n",
              "      background-color: #E2EBFA;\n",
              "      box-shadow: 0px 1px 2px rgba(60, 64, 67, 0.3), 0px 1px 3px 1px rgba(60, 64, 67, 0.15);\n",
              "      fill: #174EA6;\n",
              "    }\n",
              "\n",
              "    [theme=dark] .colab-df-convert {\n",
              "      background-color: #3B4455;\n",
              "      fill: #D2E3FC;\n",
              "    }\n",
              "\n",
              "    [theme=dark] .colab-df-convert:hover {\n",
              "      background-color: #434B5C;\n",
              "      box-shadow: 0px 1px 3px 1px rgba(0, 0, 0, 0.15);\n",
              "      filter: drop-shadow(0px 1px 2px rgba(0, 0, 0, 0.3));\n",
              "      fill: #FFFFFF;\n",
              "    }\n",
              "  </style>\n",
              "\n",
              "      <script>\n",
              "        const buttonEl =\n",
              "          document.querySelector('#df-a5341264-6f43-46ce-a933-9a465f335877 button.colab-df-convert');\n",
              "        buttonEl.style.display =\n",
              "          google.colab.kernel.accessAllowed ? 'block' : 'none';\n",
              "\n",
              "        async function convertToInteractive(key) {\n",
              "          const element = document.querySelector('#df-a5341264-6f43-46ce-a933-9a465f335877');\n",
              "          const dataTable =\n",
              "            await google.colab.kernel.invokeFunction('convertToInteractive',\n",
              "                                                     [key], {});\n",
              "          if (!dataTable) return;\n",
              "\n",
              "          const docLinkHtml = 'Like what you see? Visit the ' +\n",
              "            '<a target=\"_blank\" href=https://colab.research.google.com/notebooks/data_table.ipynb>data table notebook</a>'\n",
              "            + ' to learn more about interactive tables.';\n",
              "          element.innerHTML = '';\n",
              "          dataTable['output_type'] = 'display_data';\n",
              "          await google.colab.output.renderOutput(dataTable, element);\n",
              "          const docLink = document.createElement('div');\n",
              "          docLink.innerHTML = docLinkHtml;\n",
              "          element.appendChild(docLink);\n",
              "        }\n",
              "      </script>\n",
              "    </div>\n",
              "  </div>\n",
              "  "
            ]
          },
          "metadata": {},
          "execution_count": 302
        }
      ]
    },
    {
      "cell_type": "code",
      "source": [
        "subset = eeg_no_outliers.groupby(['ProbeCategory', 'Length'])[['ReactionTime']].mean().reset_index()\n",
        "pl.figure()\n",
        "for i in subset.ProbeCategory.unique():\n",
        "  x = subset[subset['ProbeCategory'] == i]\n",
        "  pl.plot(x.Length, x.ReactionTime)\n",
        "pl.xticks(x.Length)\n",
        "pl.xlabel('List length')\n",
        "pl.ylabel('RT')\n",
        "pl.legend(subset.ProbeCategory.unique())\n",
        "pl.title('RT across conditions and line length');  "
      ],
      "metadata": {
        "id": "jq4btTz-vYxh",
        "outputId": "63d82a51-46e7-4358-b56f-678b75a9726a",
        "colab": {
          "base_uri": "https://localhost:8080/",
          "height": 301
        }
      },
      "execution_count": 309,
      "outputs": [
        {
          "output_type": "display_data",
          "data": {
            "text/plain": [
              "<Figure size 432x288 with 1 Axes>"
            ],
            "image/png": "[encoded data removed]"
          },
          "metadata": {}
        }
      ]
    },
    {
      "cell_type": "code",
      "source": [
        "words_nonwords = subset.copy()\n",
        "new_names = [] \n",
        "names = words_nonwords.ProbeCategory.values\n",
        "for i in names:\n",
        "  if 'non-words' in i:\n",
        "    new_names.append('NW')\n",
        "  elif 'words' in i:\n",
        "    new_names.append('W')\n",
        "  else:\n",
        "    print('Check', i)\n",
        "    break\n",
        "words_nonwords['ProbeCategory'] = new_names\n",
        "\n",
        "pl.figure()\n",
        "words_nonwords = words_nonwords.groupby(['ProbeCategory', 'Length'])[['ReactionTime']].mean().reset_index()\n",
        "for i in words_nonwords.ProbeCategory.unique():\n",
        "  x = words_nonwords[words_nonwords['ProbeCategory'] == i]\n",
        "  pl.plot(x.Length, x.ReactionTime)\n",
        "pl.xticks(x.Length)\n",
        "pl.xlabel('List length')\n",
        "pl.ylabel('RT')\n",
        "pl.legend(words_nonwords.ProbeCategory.unique())\n",
        "pl.title('Words vs. non-words');  "
      ],
      "metadata": {
        "id": "2619W69AwB8d",
        "outputId": "12514845-4f03-4e71-cf63-76049da3ad90",
        "colab": {
          "base_uri": "https://localhost:8080/",
          "height": 301
        }
      },
      "execution_count": 311,
      "outputs": [
        {
          "output_type": "display_data",
          "data": {
            "text/plain": [
              "<Figure size 432x288 with 1 Axes>"
            ],
            "image/png": "[encoded data removed]"
          },
          "metadata": {}
        }
      ]
    },
    {
      "cell_type": "code",
      "source": [
        "high_low = subset.copy()\n",
        "new_names = [] \n",
        "names = high_low.ProbeCategory.values\n",
        "for i in names:\n",
        "  if 'low' in i:\n",
        "    new_names.append('L')\n",
        "  elif 'high' in i:\n",
        "    new_names.append('H')\n",
        "  else:\n",
        "    print('Check', i)\n",
        "    break\n",
        "high_low['ProbeCategory'] = new_names\n",
        "\n",
        "pl.figure()\n",
        "high_low = high_low.groupby(['ProbeCategory', 'Length'])[['ReactionTime']].mean().reset_index()\n",
        "for i in high_low.ProbeCategory.unique():\n",
        "  x = high_low[high_low['ProbeCategory'] == i]\n",
        "  pl.plot(x.Length, x.ReactionTime)\n",
        "pl.xticks(x.Length)\n",
        "pl.xlabel('List length')\n",
        "pl.ylabel('RT')\n",
        "pl.legend(high_low.ProbeCategory.unique())\n",
        "pl.title('High vs. Low');  "
      ],
      "metadata": {
        "id": "xCNNHyXXwH8F",
        "outputId": "edfcde52-1d3f-4c97-dcde-5240b2f291c8",
        "colab": {
          "base_uri": "https://localhost:8080/",
          "height": 301
        }
      },
      "execution_count": 313,
      "outputs": [
        {
          "output_type": "display_data",
          "data": {
            "text/plain": [
              "<Figure size 432x288 with 1 Axes>"
            ],
            "image/png": "[encoded data removed]"
          },
          "metadata": {}
        }
      ]
    },
    {
      "cell_type": "code",
      "source": [
        "# plotting categories across condition when the probe is in sequence\n",
        "subset = eeg_no_outliers[eeg_no_outliers['ProbeType'] == 2]\n",
        "pl.figure()\n",
        "subset = subset.groupby(['ProbeCategory', 'Length'])[['ReactionTime']].mean().reset_index()\n",
        "for i in subset.ProbeCategory.unique():\n",
        "  x = subset[subset['ProbeCategory'] == i]\n",
        "  pl.plot(x.Length, x.ReactionTime)\n",
        "pl.xticks(x.Length)\n",
        "pl.xlabel('List length')\n",
        "pl.ylabel('RT')\n",
        "pl.legend(subset.ProbeCategory.unique())\n",
        "pl.title('RT across conditions and line length only In seq');"
      ],
      "metadata": {
        "id": "e1kP78j2wOV1",
        "outputId": "102535ce-eb07-4dbf-9cbb-c6747a112d97",
        "colab": {
          "base_uri": "https://localhost:8080/",
          "height": 301
        }
      },
      "execution_count": 314,
      "outputs": [
        {
          "output_type": "display_data",
          "data": {
            "text/plain": [
              "<Figure size 432x288 with 1 Axes>"
            ],
            "image/png": "[encoded data removed]"
          },
          "metadata": {}
        }
      ]
    }
  ]
}