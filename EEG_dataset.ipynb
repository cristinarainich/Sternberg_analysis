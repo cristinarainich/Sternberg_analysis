{
  "nbformat": 4,
  "nbformat_minor": 0,
  "metadata": {
    "colab": {
      "name": "EEG dataset.ipynb",
      "provenance": [],
      "authorship_tag": "ABX9TyMVAN6Dn5YIdya6He5ing55",
      "include_colab_link": true
    },
    "kernelspec": {
      "name": "python3",
      "display_name": "Python 3"
    },
    "language_info": {
      "name": "python"
    }
  },
  "cells": [
    {
      "cell_type": "markdown",
      "metadata": {
        "id": "view-in-github",
        "colab_type": "text"
      },
      "source": [
        "<a href=\"https://colab.research.google.com/github/cristinarainich/Sternberg_analysis/blob/main/EEG_dataset.ipynb\" target=\"_parent\"><img src=\"https://colab.research.google.com/assets/colab-badge.svg\" alt=\"Open In Colab\"/></a>"
      ]
    },
    {
      "cell_type": "code",
      "execution_count": 225,
      "metadata": {
        "colab": {
          "base_uri": "https://localhost:8080/"
        },
        "id": "bBLEkbBZcXOV",
        "outputId": "e68d79b6-9726-416a-8d10-c325dcf90c3b"
      },
      "outputs": [
        {
          "output_type": "stream",
          "name": "stdout",
          "text": [
            "Populating the interactive namespace from numpy and matplotlib\n"
          ]
        }
      ],
      "source": [
        "import pandas as pd\n",
        "import numpy as np\n",
        "from pathlib import Path\n",
        "import pylab as pl\n",
        "import seaborn\n",
        "import re\n",
        "%pylab inline"
      ]
    },
    {
      "cell_type": "code",
      "source": [
        "from google.colab import drive\n",
        "drive.mount('/content/drive')"
      ],
      "metadata": {
        "colab": {
          "base_uri": "https://localhost:8080/"
        },
        "id": "2xZm-UFAdDDy",
        "outputId": "6b18b6ba-30af-4dfc-8189-e62bcd400d2c"
      },
      "execution_count": 2,
      "outputs": [
        {
          "output_type": "stream",
          "name": "stdout",
          "text": [
            "Mounted at /content/drive\n"
          ]
        }
      ]
    },
    {
      "cell_type": "code",
      "source": [
        "working_path = Path('/content/drive/MyDrive/CoganLab')"
      ],
      "metadata": {
        "id": "Rfwe05B_dGt6"
      },
      "execution_count": 3,
      "outputs": []
    },
    {
      "cell_type": "code",
      "source": [
        "eeg = pd.read_csv(\n",
        "    working_path.joinpath('eeg_all.csv'),\n",
        "    index_col=None\n",
        ")"
      ],
      "metadata": {
        "id": "fNJuVyYndSa8"
      },
      "execution_count": 4,
      "outputs": []
    },
    {
      "cell_type": "markdown",
      "source": [
        "## Preprocessing"
      ],
      "metadata": {
        "id": "Pfp9Ml3dAwDY"
      }
    },
    {
      "cell_type": "code",
      "source": [
        "eeg.columns"
      ],
      "metadata": {
        "colab": {
          "base_uri": "https://localhost:8080/"
        },
        "id": "aDnZ4J50dTy6",
        "outputId": "0f77eb9c-c741-49a1-ecb9-411b4d3e5e7c"
      },
      "execution_count": 5,
      "outputs": [
        {
          "output_type": "execute_result",
          "data": {
            "text/plain": [
              "Index(['Unnamed: 0', 'Trial', 'Subject', 'Block', 'ProbeType', 'ProbeTypeName',\n",
              "       'StimulusCategory', 'ListenCue', 'ReactionTime', 'KeyCode', 'Response',\n",
              "       'ResponseCorrect', 'Omission', 'StimulusAudioStart',\n",
              "       'StimulusAlignedTrigger', 'DelayPeriodOnset', 'MaintenancePeriodOnset',\n",
              "       'ProbeCueOnset', 'ProbeAudioStart', 'ProbeAlignedTrigger',\n",
              "       'TriggerValueCondition', 'StimulusSounds_idx', 'StimulusSounds_name',\n",
              "       'ProbeCategory', 'ProbeSound_idx', 'ProbeSound_name'],\n",
              "      dtype='object')"
            ]
          },
          "metadata": {},
          "execution_count": 5
        }
      ]
    },
    {
      "cell_type": "code",
      "source": [
        "eeg = eeg.loc[:, eeg.columns != 'Unnamed: 0'] # some extra column appeared while uploading data"
      ],
      "metadata": {
        "id": "D-vQ_gq1eVIN"
      },
      "execution_count": 6,
      "outputs": []
    },
    {
      "cell_type": "code",
      "source": [
        "eeg.isnull().sum()"
      ],
      "metadata": {
        "colab": {
          "base_uri": "https://localhost:8080/"
        },
        "id": "6VBGyrO7efts",
        "outputId": "3693251a-731b-4380-ad06-2ebbfa1099de"
      },
      "execution_count": 7,
      "outputs": [
        {
          "output_type": "execute_result",
          "data": {
            "text/plain": [
              "Trial                       0\n",
              "Subject                     0\n",
              "Block                       0\n",
              "ProbeType                   0\n",
              "ProbeTypeName               0\n",
              "StimulusCategory            0\n",
              "ListenCue                   0\n",
              "ReactionTime              100\n",
              "KeyCode                     0\n",
              "Response                    0\n",
              "ResponseCorrect             0\n",
              "Omission                    0\n",
              "StimulusAudioStart          0\n",
              "StimulusAlignedTrigger      0\n",
              "DelayPeriodOnset            0\n",
              "MaintenancePeriodOnset      0\n",
              "ProbeCueOnset               0\n",
              "ProbeAudioStart             0\n",
              "ProbeAlignedTrigger         0\n",
              "TriggerValueCondition       0\n",
              "StimulusSounds_idx          0\n",
              "StimulusSounds_name         0\n",
              "ProbeCategory               0\n",
              "ProbeSound_idx              0\n",
              "ProbeSound_name             0\n",
              "dtype: int64"
            ]
          },
          "metadata": {},
          "execution_count": 7
        }
      ]
    },
    {
      "cell_type": "code",
      "source": [
        "eeg.head()"
      ],
      "metadata": {
        "colab": {
          "base_uri": "https://localhost:8080/",
          "height": 473
        },
        "id": "DPf_NE66d1vL",
        "outputId": "651f1d45-2b99-4503-c9fb-9c0da050cc98"
      },
      "execution_count": 8,
      "outputs": [
        {
          "output_type": "execute_result",
          "data": {
            "text/plain": [
              "   Trial Subject  Block  ProbeType    ProbeTypeName StimulusCategory  \\\n",
              "0      0      E2      1          1  out_of_sequence       High Words   \n",
              "1      1      E2      1          2      in_sequence    Low Non-words   \n",
              "2      2      E2      1          2      in_sequence        Low Words   \n",
              "3      3      E2      1          2      in_sequence       High Words   \n",
              "4      4      E2      1          1  out_of_sequence    Low Non-words   \n",
              "\n",
              "     ListenCue  ReactionTime       KeyCode     Response  ...  \\\n",
              "0  5404.814769           NaN  2.Left3.Left  No Response  ...   \n",
              "1  5418.047203      1.282162        2.Left          Yes  ...   \n",
              "2  5431.062824      0.987854        2.Left          Yes  ...   \n",
              "3  5447.795252      1.588743        2.Left          Yes  ...   \n",
              "4  5461.111022      1.184043        3.Left           No  ...   \n",
              "\n",
              "   MaintenancePeriodOnset ProbeCueOnset ProbeAudioStart ProbeAlignedTrigger  \\\n",
              "0             5411.364574   5413.680791     5414.747383         5414.747408   \n",
              "1             5424.596991   5426.929894     5427.996527         5427.996549   \n",
              "2             5441.612599   5443.962166     5445.028782         5445.028767   \n",
              "3             5454.344797   5456.677918     5457.744597         5457.744578   \n",
              "4             5469.660532   5472.110369     5473.176951         5473.176957   \n",
              "\n",
              "   TriggerValueCondition              StimulusSounds_idx  \\\n",
              "0                    101                [6, 7, 8, 4, 10]   \n",
              "1                    104            [39, 32, 35, 37, 38]   \n",
              "2                    103  [[27 23 22 24 25 29 26 28 30]]   \n",
              "3                    101                 [2, 5, 8, 4, 6]   \n",
              "4                    104        [[34 35 36 40 39 33 37]]   \n",
              "\n",
              "                                 StimulusSounds_name   ProbeCategory  \\\n",
              "0  [array(['mon.wav'], dtype='<U7'), array(['pcn....       Low Words   \n",
              "1  [array(['yuf.wav'], dtype='<U7'), array(['JcG....   Low Non-words   \n",
              "2  [[array(['tub.wav'], dtype='<U7')]\\n [array(['...       Low Words   \n",
              "3  [array(['fEl.wav'], dtype='<U7'), array(['lEr....      High Words   \n",
              "4  [[array(['gWT.wav'], dtype='<U7')]\\n [array(['...  High Non-Words   \n",
              "\n",
              "   ProbeSound_idx  ProbeSound_name  \n",
              "0              21          Sur.wav  \n",
              "1              38          ycG.wav  \n",
              "2              30          yuT.wav  \n",
              "3               5          lEr.wav  \n",
              "4              13          g@n.wav  \n",
              "\n",
              "[5 rows x 25 columns]"
            ],
            "text/html": [
              "\n",
              "  <div id=\"df-7ead92db-b268-4725-8cec-bdf38a04fadf\">\n",
              "    <div class=\"colab-df-container\">\n",
              "      <div>\n",
              "<style scoped>\n",
              "    .dataframe tbody tr th:only-of-type {\n",
              "        vertical-align: middle;\n",
              "    }\n",
              "\n",
              "    .dataframe tbody tr th {\n",
              "        vertical-align: top;\n",
              "    }\n",
              "\n",
              "    .dataframe thead th {\n",
              "        text-align: right;\n",
              "    }\n",
              "</style>\n",
              "<table border=\"1\" class=\"dataframe\">\n",
              "  <thead>\n",
              "    <tr style=\"text-align: right;\">\n",
              "      <th></th>\n",
              "      <th>Trial</th>\n",
              "      <th>Subject</th>\n",
              "      <th>Block</th>\n",
              "      <th>ProbeType</th>\n",
              "      <th>ProbeTypeName</th>\n",
              "      <th>StimulusCategory</th>\n",
              "      <th>ListenCue</th>\n",
              "      <th>ReactionTime</th>\n",
              "      <th>KeyCode</th>\n",
              "      <th>Response</th>\n",
              "      <th>...</th>\n",
              "      <th>MaintenancePeriodOnset</th>\n",
              "      <th>ProbeCueOnset</th>\n",
              "      <th>ProbeAudioStart</th>\n",
              "      <th>ProbeAlignedTrigger</th>\n",
              "      <th>TriggerValueCondition</th>\n",
              "      <th>StimulusSounds_idx</th>\n",
              "      <th>StimulusSounds_name</th>\n",
              "      <th>ProbeCategory</th>\n",
              "      <th>ProbeSound_idx</th>\n",
              "      <th>ProbeSound_name</th>\n",
              "    </tr>\n",
              "  </thead>\n",
              "  <tbody>\n",
              "    <tr>\n",
              "      <th>0</th>\n",
              "      <td>0</td>\n",
              "      <td>E2</td>\n",
              "      <td>1</td>\n",
              "      <td>1</td>\n",
              "      <td>out_of_sequence</td>\n",
              "      <td>High Words</td>\n",
              "      <td>5404.814769</td>\n",
              "      <td>NaN</td>\n",
              "      <td>2.Left3.Left</td>\n",
              "      <td>No Response</td>\n",
              "      <td>...</td>\n",
              "      <td>5411.364574</td>\n",
              "      <td>5413.680791</td>\n",
              "      <td>5414.747383</td>\n",
              "      <td>5414.747408</td>\n",
              "      <td>101</td>\n",
              "      <td>[6, 7, 8, 4, 10]</td>\n",
              "      <td>[array(['mon.wav'], dtype='&lt;U7'), array(['pcn....</td>\n",
              "      <td>Low Words</td>\n",
              "      <td>21</td>\n",
              "      <td>Sur.wav</td>\n",
              "    </tr>\n",
              "    <tr>\n",
              "      <th>1</th>\n",
              "      <td>1</td>\n",
              "      <td>E2</td>\n",
              "      <td>1</td>\n",
              "      <td>2</td>\n",
              "      <td>in_sequence</td>\n",
              "      <td>Low Non-words</td>\n",
              "      <td>5418.047203</td>\n",
              "      <td>1.282162</td>\n",
              "      <td>2.Left</td>\n",
              "      <td>Yes</td>\n",
              "      <td>...</td>\n",
              "      <td>5424.596991</td>\n",
              "      <td>5426.929894</td>\n",
              "      <td>5427.996527</td>\n",
              "      <td>5427.996549</td>\n",
              "      <td>104</td>\n",
              "      <td>[39, 32, 35, 37, 38]</td>\n",
              "      <td>[array(['yuf.wav'], dtype='&lt;U7'), array(['JcG....</td>\n",
              "      <td>Low Non-words</td>\n",
              "      <td>38</td>\n",
              "      <td>ycG.wav</td>\n",
              "    </tr>\n",
              "    <tr>\n",
              "      <th>2</th>\n",
              "      <td>2</td>\n",
              "      <td>E2</td>\n",
              "      <td>1</td>\n",
              "      <td>2</td>\n",
              "      <td>in_sequence</td>\n",
              "      <td>Low Words</td>\n",
              "      <td>5431.062824</td>\n",
              "      <td>0.987854</td>\n",
              "      <td>2.Left</td>\n",
              "      <td>Yes</td>\n",
              "      <td>...</td>\n",
              "      <td>5441.612599</td>\n",
              "      <td>5443.962166</td>\n",
              "      <td>5445.028782</td>\n",
              "      <td>5445.028767</td>\n",
              "      <td>103</td>\n",
              "      <td>[[27 23 22 24 25 29 26 28 30]]</td>\n",
              "      <td>[[array(['tub.wav'], dtype='&lt;U7')]\\n [array(['...</td>\n",
              "      <td>Low Words</td>\n",
              "      <td>30</td>\n",
              "      <td>yuT.wav</td>\n",
              "    </tr>\n",
              "    <tr>\n",
              "      <th>3</th>\n",
              "      <td>3</td>\n",
              "      <td>E2</td>\n",
              "      <td>1</td>\n",
              "      <td>2</td>\n",
              "      <td>in_sequence</td>\n",
              "      <td>High Words</td>\n",
              "      <td>5447.795252</td>\n",
              "      <td>1.588743</td>\n",
              "      <td>2.Left</td>\n",
              "      <td>Yes</td>\n",
              "      <td>...</td>\n",
              "      <td>5454.344797</td>\n",
              "      <td>5456.677918</td>\n",
              "      <td>5457.744597</td>\n",
              "      <td>5457.744578</td>\n",
              "      <td>101</td>\n",
              "      <td>[2, 5, 8, 4, 6]</td>\n",
              "      <td>[array(['fEl.wav'], dtype='&lt;U7'), array(['lEr....</td>\n",
              "      <td>High Words</td>\n",
              "      <td>5</td>\n",
              "      <td>lEr.wav</td>\n",
              "    </tr>\n",
              "    <tr>\n",
              "      <th>4</th>\n",
              "      <td>4</td>\n",
              "      <td>E2</td>\n",
              "      <td>1</td>\n",
              "      <td>1</td>\n",
              "      <td>out_of_sequence</td>\n",
              "      <td>Low Non-words</td>\n",
              "      <td>5461.111022</td>\n",
              "      <td>1.184043</td>\n",
              "      <td>3.Left</td>\n",
              "      <td>No</td>\n",
              "      <td>...</td>\n",
              "      <td>5469.660532</td>\n",
              "      <td>5472.110369</td>\n",
              "      <td>5473.176951</td>\n",
              "      <td>5473.176957</td>\n",
              "      <td>104</td>\n",
              "      <td>[[34 35 36 40 39 33 37]]</td>\n",
              "      <td>[[array(['gWT.wav'], dtype='&lt;U7')]\\n [array(['...</td>\n",
              "      <td>High Non-Words</td>\n",
              "      <td>13</td>\n",
              "      <td>g@n.wav</td>\n",
              "    </tr>\n",
              "  </tbody>\n",
              "</table>\n",
              "<p>5 rows × 25 columns</p>\n",
              "</div>\n",
              "      <button class=\"colab-df-convert\" onclick=\"convertToInteractive('df-7ead92db-b268-4725-8cec-bdf38a04fadf')\"\n",
              "              title=\"Convert this dataframe to an interactive table.\"\n",
              "              style=\"display:none;\">\n",
              "        \n",
              "  <svg xmlns=\"http://www.w3.org/2000/svg\" height=\"24px\"viewBox=\"0 0 24 24\"\n",
              "       width=\"24px\">\n",
              "    <path d=\"M0 0h24v24H0V0z\" fill=\"none\"/>\n",
              "    <path d=\"M18.56 5.44l.94 2.06.94-2.06 2.06-.94-2.06-.94-.94-2.06-.94 2.06-2.06.94zm-11 1L8.5 8.5l.94-2.06 2.06-.94-2.06-.94L8.5 2.5l-.94 2.06-2.06.94zm10 10l.94 2.06.94-2.06 2.06-.94-2.06-.94-.94-2.06-.94 2.06-2.06.94z\"/><path d=\"M17.41 7.96l-1.37-1.37c-.4-.4-.92-.59-1.43-.59-.52 0-1.04.2-1.43.59L10.3 9.45l-7.72 7.72c-.78.78-.78 2.05 0 2.83L4 21.41c.39.39.9.59 1.41.59.51 0 1.02-.2 1.41-.59l7.78-7.78 2.81-2.81c.8-.78.8-2.07 0-2.86zM5.41 20L4 18.59l7.72-7.72 1.47 1.35L5.41 20z\"/>\n",
              "  </svg>\n",
              "      </button>\n",
              "      \n",
              "  <style>\n",
              "    .colab-df-container {\n",
              "      display:flex;\n",
              "      flex-wrap:wrap;\n",
              "      gap: 12px;\n",
              "    }\n",
              "\n",
              "    .colab-df-convert {\n",
              "      background-color: #E8F0FE;\n",
              "      border: none;\n",
              "      border-radius: 50%;\n",
              "      cursor: pointer;\n",
              "      display: none;\n",
              "      fill: #1967D2;\n",
              "      height: 32px;\n",
              "      padding: 0 0 0 0;\n",
              "      width: 32px;\n",
              "    }\n",
              "\n",
              "    .colab-df-convert:hover {\n",
              "      background-color: #E2EBFA;\n",
              "      box-shadow: 0px 1px 2px rgba(60, 64, 67, 0.3), 0px 1px 3px 1px rgba(60, 64, 67, 0.15);\n",
              "      fill: #174EA6;\n",
              "    }\n",
              "\n",
              "    [theme=dark] .colab-df-convert {\n",
              "      background-color: #3B4455;\n",
              "      fill: #D2E3FC;\n",
              "    }\n",
              "\n",
              "    [theme=dark] .colab-df-convert:hover {\n",
              "      background-color: #434B5C;\n",
              "      box-shadow: 0px 1px 3px 1px rgba(0, 0, 0, 0.15);\n",
              "      filter: drop-shadow(0px 1px 2px rgba(0, 0, 0, 0.3));\n",
              "      fill: #FFFFFF;\n",
              "    }\n",
              "  </style>\n",
              "\n",
              "      <script>\n",
              "        const buttonEl =\n",
              "          document.querySelector('#df-7ead92db-b268-4725-8cec-bdf38a04fadf button.colab-df-convert');\n",
              "        buttonEl.style.display =\n",
              "          google.colab.kernel.accessAllowed ? 'block' : 'none';\n",
              "\n",
              "        async function convertToInteractive(key) {\n",
              "          const element = document.querySelector('#df-7ead92db-b268-4725-8cec-bdf38a04fadf');\n",
              "          const dataTable =\n",
              "            await google.colab.kernel.invokeFunction('convertToInteractive',\n",
              "                                                     [key], {});\n",
              "          if (!dataTable) return;\n",
              "\n",
              "          const docLinkHtml = 'Like what you see? Visit the ' +\n",
              "            '<a target=\"_blank\" href=https://colab.research.google.com/notebooks/data_table.ipynb>data table notebook</a>'\n",
              "            + ' to learn more about interactive tables.';\n",
              "          element.innerHTML = '';\n",
              "          dataTable['output_type'] = 'display_data';\n",
              "          await google.colab.output.renderOutput(dataTable, element);\n",
              "          const docLink = document.createElement('div');\n",
              "          docLink.innerHTML = docLinkHtml;\n",
              "          element.appendChild(docLink);\n",
              "        }\n",
              "      </script>\n",
              "    </div>\n",
              "  </div>\n",
              "  "
            ]
          },
          "metadata": {},
          "execution_count": 8
        }
      ]
    },
    {
      "cell_type": "code",
      "source": [
        "eeg.shape"
      ],
      "metadata": {
        "colab": {
          "base_uri": "https://localhost:8080/"
        },
        "id": "MRX8xbp-gbaf",
        "outputId": "88733dad-e6fe-4a32-e9ba-7ab4f9b16811"
      },
      "execution_count": 9,
      "outputs": [
        {
          "output_type": "execute_result",
          "data": {
            "text/plain": [
              "(5568, 25)"
            ]
          },
          "metadata": {},
          "execution_count": 9
        }
      ]
    },
    {
      "cell_type": "code",
      "source": [
        "eeg_subset = eeg[[\n",
        "                 'Trial', 'Subject', 'Block', 'ProbeType', 'ProbeSound_idx',\n",
        "                 'ProbeTypeName', 'StimulusCategory', 'ReactionTime', 'KeyCode',\n",
        "                 'Response', 'ResponseCorrect', 'Omission', 'ProbeCategory',\n",
        "                  'StimulusSounds_name', 'ProbeSound_name', 'StimulusSounds_idx'                 \n",
        "]]"
      ],
      "metadata": {
        "id": "fxX0ACMwejo8"
      },
      "execution_count": 31,
      "outputs": []
    },
    {
      "cell_type": "code",
      "source": [
        "eeg_subset.head()"
      ],
      "metadata": {
        "colab": {
          "base_uri": "https://localhost:8080/",
          "height": 337
        },
        "id": "qsryPPIPfftS",
        "outputId": "24fde83f-d33b-49b8-aed2-6bac436a59ca"
      },
      "execution_count": 32,
      "outputs": [
        {
          "output_type": "execute_result",
          "data": {
            "text/plain": [
              "   Trial Subject  Block  ProbeType  ProbeSound_idx    ProbeTypeName  \\\n",
              "0      0      E2      1          1              21  out_of_sequence   \n",
              "1      1      E2      1          2              38      in_sequence   \n",
              "2      2      E2      1          2              30      in_sequence   \n",
              "3      3      E2      1          2               5      in_sequence   \n",
              "4      4      E2      1          1              13  out_of_sequence   \n",
              "\n",
              "  StimulusCategory  ReactionTime       KeyCode     Response  ResponseCorrect  \\\n",
              "0       High Words           NaN  2.Left3.Left  No Response                0   \n",
              "1    Low Non-words      1.282162        2.Left          Yes                1   \n",
              "2        Low Words      0.987854        2.Left          Yes                1   \n",
              "3       High Words      1.588743        2.Left          Yes                1   \n",
              "4    Low Non-words      1.184043        3.Left           No                1   \n",
              "\n",
              "      Omission   ProbeCategory  \\\n",
              "0  No Response       Low Words   \n",
              "1    Responded   Low Non-words   \n",
              "2    Responded       Low Words   \n",
              "3    Responded      High Words   \n",
              "4    Responded  High Non-Words   \n",
              "\n",
              "                                 StimulusSounds_name ProbeSound_name  \\\n",
              "0  [array(['mon.wav'], dtype='<U7'), array(['pcn....         Sur.wav   \n",
              "1  [array(['yuf.wav'], dtype='<U7'), array(['JcG....         ycG.wav   \n",
              "2  [[array(['tub.wav'], dtype='<U7')]\\n [array(['...         yuT.wav   \n",
              "3  [array(['fEl.wav'], dtype='<U7'), array(['lEr....         lEr.wav   \n",
              "4  [[array(['gWT.wav'], dtype='<U7')]\\n [array(['...         g@n.wav   \n",
              "\n",
              "               StimulusSounds_idx  \n",
              "0                [6, 7, 8, 4, 10]  \n",
              "1            [39, 32, 35, 37, 38]  \n",
              "2  [[27 23 22 24 25 29 26 28 30]]  \n",
              "3                 [2, 5, 8, 4, 6]  \n",
              "4        [[34 35 36 40 39 33 37]]  "
            ],
            "text/html": [
              "\n",
              "  <div id=\"df-6ba981ed-8f8c-486a-979a-977c5a64cd4b\">\n",
              "    <div class=\"colab-df-container\">\n",
              "      <div>\n",
              "<style scoped>\n",
              "    .dataframe tbody tr th:only-of-type {\n",
              "        vertical-align: middle;\n",
              "    }\n",
              "\n",
              "    .dataframe tbody tr th {\n",
              "        vertical-align: top;\n",
              "    }\n",
              "\n",
              "    .dataframe thead th {\n",
              "        text-align: right;\n",
              "    }\n",
              "</style>\n",
              "<table border=\"1\" class=\"dataframe\">\n",
              "  <thead>\n",
              "    <tr style=\"text-align: right;\">\n",
              "      <th></th>\n",
              "      <th>Trial</th>\n",
              "      <th>Subject</th>\n",
              "      <th>Block</th>\n",
              "      <th>ProbeType</th>\n",
              "      <th>ProbeSound_idx</th>\n",
              "      <th>ProbeTypeName</th>\n",
              "      <th>StimulusCategory</th>\n",
              "      <th>ReactionTime</th>\n",
              "      <th>KeyCode</th>\n",
              "      <th>Response</th>\n",
              "      <th>ResponseCorrect</th>\n",
              "      <th>Omission</th>\n",
              "      <th>ProbeCategory</th>\n",
              "      <th>StimulusSounds_name</th>\n",
              "      <th>ProbeSound_name</th>\n",
              "      <th>StimulusSounds_idx</th>\n",
              "    </tr>\n",
              "  </thead>\n",
              "  <tbody>\n",
              "    <tr>\n",
              "      <th>0</th>\n",
              "      <td>0</td>\n",
              "      <td>E2</td>\n",
              "      <td>1</td>\n",
              "      <td>1</td>\n",
              "      <td>21</td>\n",
              "      <td>out_of_sequence</td>\n",
              "      <td>High Words</td>\n",
              "      <td>NaN</td>\n",
              "      <td>2.Left3.Left</td>\n",
              "      <td>No Response</td>\n",
              "      <td>0</td>\n",
              "      <td>No Response</td>\n",
              "      <td>Low Words</td>\n",
              "      <td>[array(['mon.wav'], dtype='&lt;U7'), array(['pcn....</td>\n",
              "      <td>Sur.wav</td>\n",
              "      <td>[6, 7, 8, 4, 10]</td>\n",
              "    </tr>\n",
              "    <tr>\n",
              "      <th>1</th>\n",
              "      <td>1</td>\n",
              "      <td>E2</td>\n",
              "      <td>1</td>\n",
              "      <td>2</td>\n",
              "      <td>38</td>\n",
              "      <td>in_sequence</td>\n",
              "      <td>Low Non-words</td>\n",
              "      <td>1.282162</td>\n",
              "      <td>2.Left</td>\n",
              "      <td>Yes</td>\n",
              "      <td>1</td>\n",
              "      <td>Responded</td>\n",
              "      <td>Low Non-words</td>\n",
              "      <td>[array(['yuf.wav'], dtype='&lt;U7'), array(['JcG....</td>\n",
              "      <td>ycG.wav</td>\n",
              "      <td>[39, 32, 35, 37, 38]</td>\n",
              "    </tr>\n",
              "    <tr>\n",
              "      <th>2</th>\n",
              "      <td>2</td>\n",
              "      <td>E2</td>\n",
              "      <td>1</td>\n",
              "      <td>2</td>\n",
              "      <td>30</td>\n",
              "      <td>in_sequence</td>\n",
              "      <td>Low Words</td>\n",
              "      <td>0.987854</td>\n",
              "      <td>2.Left</td>\n",
              "      <td>Yes</td>\n",
              "      <td>1</td>\n",
              "      <td>Responded</td>\n",
              "      <td>Low Words</td>\n",
              "      <td>[[array(['tub.wav'], dtype='&lt;U7')]\\n [array(['...</td>\n",
              "      <td>yuT.wav</td>\n",
              "      <td>[[27 23 22 24 25 29 26 28 30]]</td>\n",
              "    </tr>\n",
              "    <tr>\n",
              "      <th>3</th>\n",
              "      <td>3</td>\n",
              "      <td>E2</td>\n",
              "      <td>1</td>\n",
              "      <td>2</td>\n",
              "      <td>5</td>\n",
              "      <td>in_sequence</td>\n",
              "      <td>High Words</td>\n",
              "      <td>1.588743</td>\n",
              "      <td>2.Left</td>\n",
              "      <td>Yes</td>\n",
              "      <td>1</td>\n",
              "      <td>Responded</td>\n",
              "      <td>High Words</td>\n",
              "      <td>[array(['fEl.wav'], dtype='&lt;U7'), array(['lEr....</td>\n",
              "      <td>lEr.wav</td>\n",
              "      <td>[2, 5, 8, 4, 6]</td>\n",
              "    </tr>\n",
              "    <tr>\n",
              "      <th>4</th>\n",
              "      <td>4</td>\n",
              "      <td>E2</td>\n",
              "      <td>1</td>\n",
              "      <td>1</td>\n",
              "      <td>13</td>\n",
              "      <td>out_of_sequence</td>\n",
              "      <td>Low Non-words</td>\n",
              "      <td>1.184043</td>\n",
              "      <td>3.Left</td>\n",
              "      <td>No</td>\n",
              "      <td>1</td>\n",
              "      <td>Responded</td>\n",
              "      <td>High Non-Words</td>\n",
              "      <td>[[array(['gWT.wav'], dtype='&lt;U7')]\\n [array(['...</td>\n",
              "      <td>g@n.wav</td>\n",
              "      <td>[[34 35 36 40 39 33 37]]</td>\n",
              "    </tr>\n",
              "  </tbody>\n",
              "</table>\n",
              "</div>\n",
              "      <button class=\"colab-df-convert\" onclick=\"convertToInteractive('df-6ba981ed-8f8c-486a-979a-977c5a64cd4b')\"\n",
              "              title=\"Convert this dataframe to an interactive table.\"\n",
              "              style=\"display:none;\">\n",
              "        \n",
              "  <svg xmlns=\"http://www.w3.org/2000/svg\" height=\"24px\"viewBox=\"0 0 24 24\"\n",
              "       width=\"24px\">\n",
              "    <path d=\"M0 0h24v24H0V0z\" fill=\"none\"/>\n",
              "    <path d=\"M18.56 5.44l.94 2.06.94-2.06 2.06-.94-2.06-.94-.94-2.06-.94 2.06-2.06.94zm-11 1L8.5 8.5l.94-2.06 2.06-.94-2.06-.94L8.5 2.5l-.94 2.06-2.06.94zm10 10l.94 2.06.94-2.06 2.06-.94-2.06-.94-.94-2.06-.94 2.06-2.06.94z\"/><path d=\"M17.41 7.96l-1.37-1.37c-.4-.4-.92-.59-1.43-.59-.52 0-1.04.2-1.43.59L10.3 9.45l-7.72 7.72c-.78.78-.78 2.05 0 2.83L4 21.41c.39.39.9.59 1.41.59.51 0 1.02-.2 1.41-.59l7.78-7.78 2.81-2.81c.8-.78.8-2.07 0-2.86zM5.41 20L4 18.59l7.72-7.72 1.47 1.35L5.41 20z\"/>\n",
              "  </svg>\n",
              "      </button>\n",
              "      \n",
              "  <style>\n",
              "    .colab-df-container {\n",
              "      display:flex;\n",
              "      flex-wrap:wrap;\n",
              "      gap: 12px;\n",
              "    }\n",
              "\n",
              "    .colab-df-convert {\n",
              "      background-color: #E8F0FE;\n",
              "      border: none;\n",
              "      border-radius: 50%;\n",
              "      cursor: pointer;\n",
              "      display: none;\n",
              "      fill: #1967D2;\n",
              "      height: 32px;\n",
              "      padding: 0 0 0 0;\n",
              "      width: 32px;\n",
              "    }\n",
              "\n",
              "    .colab-df-convert:hover {\n",
              "      background-color: #E2EBFA;\n",
              "      box-shadow: 0px 1px 2px rgba(60, 64, 67, 0.3), 0px 1px 3px 1px rgba(60, 64, 67, 0.15);\n",
              "      fill: #174EA6;\n",
              "    }\n",
              "\n",
              "    [theme=dark] .colab-df-convert {\n",
              "      background-color: #3B4455;\n",
              "      fill: #D2E3FC;\n",
              "    }\n",
              "\n",
              "    [theme=dark] .colab-df-convert:hover {\n",
              "      background-color: #434B5C;\n",
              "      box-shadow: 0px 1px 3px 1px rgba(0, 0, 0, 0.15);\n",
              "      filter: drop-shadow(0px 1px 2px rgba(0, 0, 0, 0.3));\n",
              "      fill: #FFFFFF;\n",
              "    }\n",
              "  </style>\n",
              "\n",
              "      <script>\n",
              "        const buttonEl =\n",
              "          document.querySelector('#df-6ba981ed-8f8c-486a-979a-977c5a64cd4b button.colab-df-convert');\n",
              "        buttonEl.style.display =\n",
              "          google.colab.kernel.accessAllowed ? 'block' : 'none';\n",
              "\n",
              "        async function convertToInteractive(key) {\n",
              "          const element = document.querySelector('#df-6ba981ed-8f8c-486a-979a-977c5a64cd4b');\n",
              "          const dataTable =\n",
              "            await google.colab.kernel.invokeFunction('convertToInteractive',\n",
              "                                                     [key], {});\n",
              "          if (!dataTable) return;\n",
              "\n",
              "          const docLinkHtml = 'Like what you see? Visit the ' +\n",
              "            '<a target=\"_blank\" href=https://colab.research.google.com/notebooks/data_table.ipynb>data table notebook</a>'\n",
              "            + ' to learn more about interactive tables.';\n",
              "          element.innerHTML = '';\n",
              "          dataTable['output_type'] = 'display_data';\n",
              "          await google.colab.output.renderOutput(dataTable, element);\n",
              "          const docLink = document.createElement('div');\n",
              "          docLink.innerHTML = docLinkHtml;\n",
              "          element.appendChild(docLink);\n",
              "        }\n",
              "      </script>\n",
              "    </div>\n",
              "  </div>\n",
              "  "
            ]
          },
          "metadata": {},
          "execution_count": 32
        }
      ]
    },
    {
      "cell_type": "code",
      "source": [
        "eeg_subset[eeg_subset['Response'] == 'No Response']"
      ],
      "metadata": {
        "colab": {
          "base_uri": "https://localhost:8080/",
          "height": 641
        },
        "id": "ePM8emtmflo9",
        "outputId": "422ff2ef-a2ab-43d8-d7e6-d1c06d46297a"
      },
      "execution_count": 33,
      "outputs": [
        {
          "output_type": "execute_result",
          "data": {
            "text/plain": [
              "      Trial Subject  Block  ProbeType  ProbeSound_idx    ProbeTypeName  \\\n",
              "0         0      E2      1          1              21  out_of_sequence   \n",
              "63       63      E2      2          2              11      in_sequence   \n",
              "74       74      E2      3          2               6      in_sequence   \n",
              "298     106      E3      4          1              11  out_of_sequence   \n",
              "310     118      E3      4          1               6  out_of_sequence   \n",
              "...     ...     ...    ...        ...             ...              ...   \n",
              "5064     72     E30      3          1              33  out_of_sequence   \n",
              "5131    139     E30      5          1              16  out_of_sequence   \n",
              "5159    167     E30      6          1              37  out_of_sequence   \n",
              "5332    148     E31      5          1              19  out_of_sequence   \n",
              "5513    137     E33      5          1              14  out_of_sequence   \n",
              "\n",
              "     StimulusCategory  ReactionTime       KeyCode     Response  \\\n",
              "0          High Words           NaN  2.Left3.Left  No Response   \n",
              "63     High Non-Words           NaN  2.Left3.Left  No Response   \n",
              "74         High Words           NaN  2.Left3.Left  No Response   \n",
              "298    High Non-Words           NaN  2.Left3.Left  No Response   \n",
              "310         Low Words           NaN  2.Left3.Left  No Response   \n",
              "...               ...           ...           ...          ...   \n",
              "5064   High Non-Words           NaN  2.Left3.Left  No Response   \n",
              "5131   High Non-Words           NaN  2.Left3.Left  No Response   \n",
              "5159   High Non-Words           NaN  2.Left3.Left  No Response   \n",
              "5332    Low Non-words           NaN  2.Left3.Left  No Response   \n",
              "5513    Low Non-words           NaN  2.Left3.Left  No Response   \n",
              "\n",
              "      ResponseCorrect     Omission   ProbeCategory  \\\n",
              "0                   0  No Response       Low Words   \n",
              "63                  0  No Response  High Non-Words   \n",
              "74                  0  No Response      High Words   \n",
              "298                 0  No Response  High Non-Words   \n",
              "310                 0  No Response      High Words   \n",
              "...               ...          ...             ...   \n",
              "5064                0  No Response   Low Non-Words   \n",
              "5131                0  No Response  High Non-Words   \n",
              "5159                0  No Response   Low Non-Words   \n",
              "5332                0  No Response  High Non-Words   \n",
              "5513                0  No Response  High Non-Words   \n",
              "\n",
              "                                    StimulusSounds_name ProbeSound_name  \\\n",
              "0     [array(['mon.wav'], dtype='<U7'), array(['pcn....         Sur.wav   \n",
              "63    [[array(['kEl.wav'], dtype='<U7')]\\n [array(['...         Rin.wav   \n",
              "74    [[array(['wIC.wav'], dtype='<U7')]\\n [array(['...         mon.wav   \n",
              "298   [[array(['pun.wav'], dtype='<U7')]\\n [array(['...         Rin.wav   \n",
              "310   [[array(['Sur.wav'], dtype='<U7')]\\n [array(['...         mon.wav   \n",
              "...                                                 ...             ...   \n",
              "5064  [[array(['paon.wav'], dtype='<U8')]\\n [array([...       gawth.wav   \n",
              "5131  [[array(['rihn.wav'], dtype='<U8')]\\n [array([...        paon.wav   \n",
              "5159  [array(['rehl.wav'], dtype='<U8'), array(['sao...        wehz.wav   \n",
              "5332  [[array(['kuv.wav'], dtype='<U7')]\\n [array(['...        rihn.wav   \n",
              "5513  [[array(['gawth.wav'], dtype='<U9')]\\n [array(...        kehl.wav   \n",
              "\n",
              "                  StimulusSounds_idx  \n",
              "0                   [6, 7, 8, 4, 10]  \n",
              "63                      [[14 11 17]]  \n",
              "74                      [[10  6  9]]  \n",
              "298                     [[18 20 14]]  \n",
              "310   [[21 27 24 22 30 26 28 23 29]]  \n",
              "...                              ...  \n",
              "5064        [[16 12 15 19 13 17 20]]  \n",
              "5131  [[19 15 18 11 13 14 12 17 20]]  \n",
              "5159            [18, 20, 16, 19, 17]  \n",
              "5332  [[35 32 40 34 38 39 37 33 31]]  \n",
              "5513  [[33 31 35 34 37 32 39 38 36]]  \n",
              "\n",
              "[100 rows x 16 columns]"
            ],
            "text/html": [
              "\n",
              "  <div id=\"df-830a7319-ffb1-43bc-b7da-0a217ead858b\">\n",
              "    <div class=\"colab-df-container\">\n",
              "      <div>\n",
              "<style scoped>\n",
              "    .dataframe tbody tr th:only-of-type {\n",
              "        vertical-align: middle;\n",
              "    }\n",
              "\n",
              "    .dataframe tbody tr th {\n",
              "        vertical-align: top;\n",
              "    }\n",
              "\n",
              "    .dataframe thead th {\n",
              "        text-align: right;\n",
              "    }\n",
              "</style>\n",
              "<table border=\"1\" class=\"dataframe\">\n",
              "  <thead>\n",
              "    <tr style=\"text-align: right;\">\n",
              "      <th></th>\n",
              "      <th>Trial</th>\n",
              "      <th>Subject</th>\n",
              "      <th>Block</th>\n",
              "      <th>ProbeType</th>\n",
              "      <th>ProbeSound_idx</th>\n",
              "      <th>ProbeTypeName</th>\n",
              "      <th>StimulusCategory</th>\n",
              "      <th>ReactionTime</th>\n",
              "      <th>KeyCode</th>\n",
              "      <th>Response</th>\n",
              "      <th>ResponseCorrect</th>\n",
              "      <th>Omission</th>\n",
              "      <th>ProbeCategory</th>\n",
              "      <th>StimulusSounds_name</th>\n",
              "      <th>ProbeSound_name</th>\n",
              "      <th>StimulusSounds_idx</th>\n",
              "    </tr>\n",
              "  </thead>\n",
              "  <tbody>\n",
              "    <tr>\n",
              "      <th>0</th>\n",
              "      <td>0</td>\n",
              "      <td>E2</td>\n",
              "      <td>1</td>\n",
              "      <td>1</td>\n",
              "      <td>21</td>\n",
              "      <td>out_of_sequence</td>\n",
              "      <td>High Words</td>\n",
              "      <td>NaN</td>\n",
              "      <td>2.Left3.Left</td>\n",
              "      <td>No Response</td>\n",
              "      <td>0</td>\n",
              "      <td>No Response</td>\n",
              "      <td>Low Words</td>\n",
              "      <td>[array(['mon.wav'], dtype='&lt;U7'), array(['pcn....</td>\n",
              "      <td>Sur.wav</td>\n",
              "      <td>[6, 7, 8, 4, 10]</td>\n",
              "    </tr>\n",
              "    <tr>\n",
              "      <th>63</th>\n",
              "      <td>63</td>\n",
              "      <td>E2</td>\n",
              "      <td>2</td>\n",
              "      <td>2</td>\n",
              "      <td>11</td>\n",
              "      <td>in_sequence</td>\n",
              "      <td>High Non-Words</td>\n",
              "      <td>NaN</td>\n",
              "      <td>2.Left3.Left</td>\n",
              "      <td>No Response</td>\n",
              "      <td>0</td>\n",
              "      <td>No Response</td>\n",
              "      <td>High Non-Words</td>\n",
              "      <td>[[array(['kEl.wav'], dtype='&lt;U7')]\\n [array(['...</td>\n",
              "      <td>Rin.wav</td>\n",
              "      <td>[[14 11 17]]</td>\n",
              "    </tr>\n",
              "    <tr>\n",
              "      <th>74</th>\n",
              "      <td>74</td>\n",
              "      <td>E2</td>\n",
              "      <td>3</td>\n",
              "      <td>2</td>\n",
              "      <td>6</td>\n",
              "      <td>in_sequence</td>\n",
              "      <td>High Words</td>\n",
              "      <td>NaN</td>\n",
              "      <td>2.Left3.Left</td>\n",
              "      <td>No Response</td>\n",
              "      <td>0</td>\n",
              "      <td>No Response</td>\n",
              "      <td>High Words</td>\n",
              "      <td>[[array(['wIC.wav'], dtype='&lt;U7')]\\n [array(['...</td>\n",
              "      <td>mon.wav</td>\n",
              "      <td>[[10  6  9]]</td>\n",
              "    </tr>\n",
              "    <tr>\n",
              "      <th>298</th>\n",
              "      <td>106</td>\n",
              "      <td>E3</td>\n",
              "      <td>4</td>\n",
              "      <td>1</td>\n",
              "      <td>11</td>\n",
              "      <td>out_of_sequence</td>\n",
              "      <td>High Non-Words</td>\n",
              "      <td>NaN</td>\n",
              "      <td>2.Left3.Left</td>\n",
              "      <td>No Response</td>\n",
              "      <td>0</td>\n",
              "      <td>No Response</td>\n",
              "      <td>High Non-Words</td>\n",
              "      <td>[[array(['pun.wav'], dtype='&lt;U7')]\\n [array(['...</td>\n",
              "      <td>Rin.wav</td>\n",
              "      <td>[[18 20 14]]</td>\n",
              "    </tr>\n",
              "    <tr>\n",
              "      <th>310</th>\n",
              "      <td>118</td>\n",
              "      <td>E3</td>\n",
              "      <td>4</td>\n",
              "      <td>1</td>\n",
              "      <td>6</td>\n",
              "      <td>out_of_sequence</td>\n",
              "      <td>Low Words</td>\n",
              "      <td>NaN</td>\n",
              "      <td>2.Left3.Left</td>\n",
              "      <td>No Response</td>\n",
              "      <td>0</td>\n",
              "      <td>No Response</td>\n",
              "      <td>High Words</td>\n",
              "      <td>[[array(['Sur.wav'], dtype='&lt;U7')]\\n [array(['...</td>\n",
              "      <td>mon.wav</td>\n",
              "      <td>[[21 27 24 22 30 26 28 23 29]]</td>\n",
              "    </tr>\n",
              "    <tr>\n",
              "      <th>...</th>\n",
              "      <td>...</td>\n",
              "      <td>...</td>\n",
              "      <td>...</td>\n",
              "      <td>...</td>\n",
              "      <td>...</td>\n",
              "      <td>...</td>\n",
              "      <td>...</td>\n",
              "      <td>...</td>\n",
              "      <td>...</td>\n",
              "      <td>...</td>\n",
              "      <td>...</td>\n",
              "      <td>...</td>\n",
              "      <td>...</td>\n",
              "      <td>...</td>\n",
              "      <td>...</td>\n",
              "      <td>...</td>\n",
              "    </tr>\n",
              "    <tr>\n",
              "      <th>5064</th>\n",
              "      <td>72</td>\n",
              "      <td>E30</td>\n",
              "      <td>3</td>\n",
              "      <td>1</td>\n",
              "      <td>33</td>\n",
              "      <td>out_of_sequence</td>\n",
              "      <td>High Non-Words</td>\n",
              "      <td>NaN</td>\n",
              "      <td>2.Left3.Left</td>\n",
              "      <td>No Response</td>\n",
              "      <td>0</td>\n",
              "      <td>No Response</td>\n",
              "      <td>Low Non-Words</td>\n",
              "      <td>[[array(['paon.wav'], dtype='&lt;U8')]\\n [array([...</td>\n",
              "      <td>gawth.wav</td>\n",
              "      <td>[[16 12 15 19 13 17 20]]</td>\n",
              "    </tr>\n",
              "    <tr>\n",
              "      <th>5131</th>\n",
              "      <td>139</td>\n",
              "      <td>E30</td>\n",
              "      <td>5</td>\n",
              "      <td>1</td>\n",
              "      <td>16</td>\n",
              "      <td>out_of_sequence</td>\n",
              "      <td>High Non-Words</td>\n",
              "      <td>NaN</td>\n",
              "      <td>2.Left3.Left</td>\n",
              "      <td>No Response</td>\n",
              "      <td>0</td>\n",
              "      <td>No Response</td>\n",
              "      <td>High Non-Words</td>\n",
              "      <td>[[array(['rihn.wav'], dtype='&lt;U8')]\\n [array([...</td>\n",
              "      <td>paon.wav</td>\n",
              "      <td>[[19 15 18 11 13 14 12 17 20]]</td>\n",
              "    </tr>\n",
              "    <tr>\n",
              "      <th>5159</th>\n",
              "      <td>167</td>\n",
              "      <td>E30</td>\n",
              "      <td>6</td>\n",
              "      <td>1</td>\n",
              "      <td>37</td>\n",
              "      <td>out_of_sequence</td>\n",
              "      <td>High Non-Words</td>\n",
              "      <td>NaN</td>\n",
              "      <td>2.Left3.Left</td>\n",
              "      <td>No Response</td>\n",
              "      <td>0</td>\n",
              "      <td>No Response</td>\n",
              "      <td>Low Non-Words</td>\n",
              "      <td>[array(['rehl.wav'], dtype='&lt;U8'), array(['sao...</td>\n",
              "      <td>wehz.wav</td>\n",
              "      <td>[18, 20, 16, 19, 17]</td>\n",
              "    </tr>\n",
              "    <tr>\n",
              "      <th>5332</th>\n",
              "      <td>148</td>\n",
              "      <td>E31</td>\n",
              "      <td>5</td>\n",
              "      <td>1</td>\n",
              "      <td>19</td>\n",
              "      <td>out_of_sequence</td>\n",
              "      <td>Low Non-words</td>\n",
              "      <td>NaN</td>\n",
              "      <td>2.Left3.Left</td>\n",
              "      <td>No Response</td>\n",
              "      <td>0</td>\n",
              "      <td>No Response</td>\n",
              "      <td>High Non-Words</td>\n",
              "      <td>[[array(['kuv.wav'], dtype='&lt;U7')]\\n [array(['...</td>\n",
              "      <td>rihn.wav</td>\n",
              "      <td>[[35 32 40 34 38 39 37 33 31]]</td>\n",
              "    </tr>\n",
              "    <tr>\n",
              "      <th>5513</th>\n",
              "      <td>137</td>\n",
              "      <td>E33</td>\n",
              "      <td>5</td>\n",
              "      <td>1</td>\n",
              "      <td>14</td>\n",
              "      <td>out_of_sequence</td>\n",
              "      <td>Low Non-words</td>\n",
              "      <td>NaN</td>\n",
              "      <td>2.Left3.Left</td>\n",
              "      <td>No Response</td>\n",
              "      <td>0</td>\n",
              "      <td>No Response</td>\n",
              "      <td>High Non-Words</td>\n",
              "      <td>[[array(['gawth.wav'], dtype='&lt;U9')]\\n [array(...</td>\n",
              "      <td>kehl.wav</td>\n",
              "      <td>[[33 31 35 34 37 32 39 38 36]]</td>\n",
              "    </tr>\n",
              "  </tbody>\n",
              "</table>\n",
              "<p>100 rows × 16 columns</p>\n",
              "</div>\n",
              "      <button class=\"colab-df-convert\" onclick=\"convertToInteractive('df-830a7319-ffb1-43bc-b7da-0a217ead858b')\"\n",
              "              title=\"Convert this dataframe to an interactive table.\"\n",
              "              style=\"display:none;\">\n",
              "        \n",
              "  <svg xmlns=\"http://www.w3.org/2000/svg\" height=\"24px\"viewBox=\"0 0 24 24\"\n",
              "       width=\"24px\">\n",
              "    <path d=\"M0 0h24v24H0V0z\" fill=\"none\"/>\n",
              "    <path d=\"M18.56 5.44l.94 2.06.94-2.06 2.06-.94-2.06-.94-.94-2.06-.94 2.06-2.06.94zm-11 1L8.5 8.5l.94-2.06 2.06-.94-2.06-.94L8.5 2.5l-.94 2.06-2.06.94zm10 10l.94 2.06.94-2.06 2.06-.94-2.06-.94-.94-2.06-.94 2.06-2.06.94z\"/><path d=\"M17.41 7.96l-1.37-1.37c-.4-.4-.92-.59-1.43-.59-.52 0-1.04.2-1.43.59L10.3 9.45l-7.72 7.72c-.78.78-.78 2.05 0 2.83L4 21.41c.39.39.9.59 1.41.59.51 0 1.02-.2 1.41-.59l7.78-7.78 2.81-2.81c.8-.78.8-2.07 0-2.86zM5.41 20L4 18.59l7.72-7.72 1.47 1.35L5.41 20z\"/>\n",
              "  </svg>\n",
              "      </button>\n",
              "      \n",
              "  <style>\n",
              "    .colab-df-container {\n",
              "      display:flex;\n",
              "      flex-wrap:wrap;\n",
              "      gap: 12px;\n",
              "    }\n",
              "\n",
              "    .colab-df-convert {\n",
              "      background-color: #E8F0FE;\n",
              "      border: none;\n",
              "      border-radius: 50%;\n",
              "      cursor: pointer;\n",
              "      display: none;\n",
              "      fill: #1967D2;\n",
              "      height: 32px;\n",
              "      padding: 0 0 0 0;\n",
              "      width: 32px;\n",
              "    }\n",
              "\n",
              "    .colab-df-convert:hover {\n",
              "      background-color: #E2EBFA;\n",
              "      box-shadow: 0px 1px 2px rgba(60, 64, 67, 0.3), 0px 1px 3px 1px rgba(60, 64, 67, 0.15);\n",
              "      fill: #174EA6;\n",
              "    }\n",
              "\n",
              "    [theme=dark] .colab-df-convert {\n",
              "      background-color: #3B4455;\n",
              "      fill: #D2E3FC;\n",
              "    }\n",
              "\n",
              "    [theme=dark] .colab-df-convert:hover {\n",
              "      background-color: #434B5C;\n",
              "      box-shadow: 0px 1px 3px 1px rgba(0, 0, 0, 0.15);\n",
              "      filter: drop-shadow(0px 1px 2px rgba(0, 0, 0, 0.3));\n",
              "      fill: #FFFFFF;\n",
              "    }\n",
              "  </style>\n",
              "\n",
              "      <script>\n",
              "        const buttonEl =\n",
              "          document.querySelector('#df-830a7319-ffb1-43bc-b7da-0a217ead858b button.colab-df-convert');\n",
              "        buttonEl.style.display =\n",
              "          google.colab.kernel.accessAllowed ? 'block' : 'none';\n",
              "\n",
              "        async function convertToInteractive(key) {\n",
              "          const element = document.querySelector('#df-830a7319-ffb1-43bc-b7da-0a217ead858b');\n",
              "          const dataTable =\n",
              "            await google.colab.kernel.invokeFunction('convertToInteractive',\n",
              "                                                     [key], {});\n",
              "          if (!dataTable) return;\n",
              "\n",
              "          const docLinkHtml = 'Like what you see? Visit the ' +\n",
              "            '<a target=\"_blank\" href=https://colab.research.google.com/notebooks/data_table.ipynb>data table notebook</a>'\n",
              "            + ' to learn more about interactive tables.';\n",
              "          element.innerHTML = '';\n",
              "          dataTable['output_type'] = 'display_data';\n",
              "          await google.colab.output.renderOutput(dataTable, element);\n",
              "          const docLink = document.createElement('div');\n",
              "          docLink.innerHTML = docLinkHtml;\n",
              "          element.appendChild(docLink);\n",
              "        }\n",
              "      </script>\n",
              "    </div>\n",
              "  </div>\n",
              "  "
            ]
          },
          "metadata": {},
          "execution_count": 33
        }
      ]
    },
    {
      "cell_type": "code",
      "source": [
        "# deleting all the trials with no responses\n",
        "eeg_clean = eeg_subset[eeg_subset['Response'] != 'No Response']"
      ],
      "metadata": {
        "id": "LLRIHr1dgy2O"
      },
      "execution_count": 34,
      "outputs": []
    },
    {
      "cell_type": "code",
      "source": [
        "eeg_clean.isnull().sum()"
      ],
      "metadata": {
        "colab": {
          "base_uri": "https://localhost:8080/"
        },
        "id": "9PgqA7qzhawe",
        "outputId": "56cd9baa-8655-4da0-ead9-48aa0d8c563e"
      },
      "execution_count": 35,
      "outputs": [
        {
          "output_type": "execute_result",
          "data": {
            "text/plain": [
              "Trial                  0\n",
              "Subject                0\n",
              "Block                  0\n",
              "ProbeType              0\n",
              "ProbeSound_idx         0\n",
              "ProbeTypeName          0\n",
              "StimulusCategory       0\n",
              "ReactionTime           0\n",
              "KeyCode                0\n",
              "Response               0\n",
              "ResponseCorrect        0\n",
              "Omission               0\n",
              "ProbeCategory          0\n",
              "StimulusSounds_name    0\n",
              "ProbeSound_name        0\n",
              "StimulusSounds_idx     0\n",
              "dtype: int64"
            ]
          },
          "metadata": {},
          "execution_count": 35
        }
      ]
    },
    {
      "cell_type": "code",
      "source": [
        "# creating CorrPercentage variable\n",
        "eeg_clean['CorrPercentage'] = np.nan\n",
        "subjects = eeg_clean['Subject'].unique().tolist()\n",
        "length = eeg_clean.groupby(['Subject'])['Trial'].count() # number of trials per subject\n",
        "correct = eeg_clean.groupby(['Subject'])['ResponseCorrect'].sum() # sum of correct answers per subject\n",
        "for subj in subjects:\n",
        "  value = correct[subj] / length[subj]\n",
        "  eeg_clean.loc[eeg_clean['Subject'] == subj, 'CorrPercentage'] = value"
      ],
      "metadata": {
        "id": "RuSPKzpUlw6h"
      },
      "execution_count": null,
      "outputs": []
    },
    {
      "cell_type": "code",
      "source": [
        "# check if any of the subject is less than 75 % accurate\n",
        "(eeg_clean.groupby(['Subject'])['CorrPercentage'].first() < 0.75).any()"
      ],
      "metadata": {
        "id": "LMs5soNFo2bZ",
        "outputId": "250f571a-32f9-4e41-a435-fe062e8e9e32",
        "colab": {
          "base_uri": "https://localhost:8080/"
        }
      },
      "execution_count": 89,
      "outputs": [
        {
          "output_type": "execute_result",
          "data": {
            "text/plain": [
              "False"
            ]
          },
          "metadata": {},
          "execution_count": 89
        }
      ]
    },
    {
      "cell_type": "code",
      "source": [
        "# stndardize reaction time with no regard to the subject\n",
        "rt = eeg_clean['ReactionTime'].values\n",
        "eeg_clean['stdRT'] = (rt - rt.mean())/rt.std()\n",
        "# standardization = lambda x: (x - x.mean()) / x.std()\n",
        "# lcvs_standard = lcvs.groupby([\"object_id\", \"passband\"])[[\"flux\"]].transform(standardization)"
      ],
      "metadata": {
        "id": "qzCAYkqvsCWv",
        "outputId": "694b7edd-8e40-4b6c-fda5-98ea0e1054a5",
        "colab": {
          "base_uri": "https://localhost:8080/"
        }
      },
      "execution_count": 100,
      "outputs": [
        {
          "output_type": "stream",
          "name": "stderr",
          "text": [
            "/usr/local/lib/python3.7/dist-packages/ipykernel_launcher.py:3: SettingWithCopyWarning: \n",
            "A value is trying to be set on a copy of a slice from a DataFrame.\n",
            "Try using .loc[row_indexer,col_indexer] = value instead\n",
            "\n",
            "See the caveats in the documentation: https://pandas.pydata.org/pandas-docs/stable/user_guide/indexing.html#returning-a-view-versus-a-copy\n",
            "  This is separate from the ipykernel package so we can avoid doing imports until\n"
          ]
        }
      ]
    },
    {
      "cell_type": "code",
      "source": [
        "pl.figure(figsize = (20, 10))\n",
        "seaborn.displot(eeg_clean['ReactionTime'])\n",
        "seaborn.displot(eeg_clean['stdRT']);"
      ],
      "metadata": {
        "id": "HSvfmXYTrOTT",
        "outputId": "023ebf48-918b-40cf-e157-036d4aad7bc8",
        "colab": {
          "base_uri": "https://localhost:8080/",
          "height": 738
        }
      },
      "execution_count": 118,
      "outputs": [
        {
          "output_type": "display_data",
          "data": {
            "text/plain": [
              "<Figure size 1440x720 with 0 Axes>"
            ]
          },
          "metadata": {}
        },
        {
          "output_type": "display_data",
          "data": {
            "text/plain": [
              "<Figure size 360x360 with 1 Axes>"
            ],
            "image/png": "[encoded data removed]"
          },
          "metadata": {
            "needs_background": "light"
          }
        },
        {
          "output_type": "display_data",
          "data": {
            "text/plain": [
              "<Figure size 360x360 with 1 Axes>"
            ],
            "image/png": "[encoded data removed]"
          },
          "metadata": {
            "needs_background": "light"
          }
        }
      ]
    },
    {
      "cell_type": "code",
      "source": [
        "pl.figure(figsize = (7, 7))\n",
        "ax = seaborn.boxplot(y=\"ReactionTime\", data=eeg_clean)\n",
        "pl.title(\"Distribution of RT values\");"
      ],
      "metadata": {
        "id": "pQcSocU4yXjl",
        "outputId": "ab6f05cd-1775-4d8b-b86e-54ed93d76713",
        "colab": {
          "base_uri": "https://localhost:8080/",
          "height": 431
        }
      },
      "execution_count": 163,
      "outputs": [
        {
          "output_type": "display_data",
          "data": {
            "text/plain": [
              "<Figure size 504x504 with 1 Axes>"
            ],
            "image/png": "[encoded data removed]"
          },
          "metadata": {
            "needs_background": "light"
          }
        }
      ]
    },
    {
      "cell_type": "code",
      "source": [
        "# check for outliers outside \n",
        "eeg_no_outliers = eeg_clean.copy()\n",
        "q75 = np.percentile(eeg_no_outliers['ReactionTime'], 75)\n",
        "q25 = np.percentile(eeg_no_outliers['ReactionTime'], 25)\n",
        "inter_qr = q75 - q25\n",
        "upper = q75 + (inter_qr*1.5)\n",
        "lower = q25 - (inter_qr*1.5)\n",
        "col_new = []\n",
        "for value in eeg_no_outliers['ReactionTime'].values:\n",
        "  if value < lower:\n",
        "    col_new.append(np.nan)\n",
        "  elif value > upper:\n",
        "    col_new.append(np.nan)\n",
        "  else:\n",
        "    col_new.append(value)\n",
        "eeg_no_outliers['ReactionTime'] = col_new"
      ],
      "metadata": {
        "id": "LpbhVktS6jay"
      },
      "execution_count": 171,
      "outputs": []
    },
    {
      "cell_type": "code",
      "source": [
        "eeg_no_outliers.isnull().sum()['ReactionTime']"
      ],
      "metadata": {
        "id": "ILsYoGOq93kQ",
        "outputId": "6f13bb05-9205-444e-d3cb-3e2a40e6a037",
        "colab": {
          "base_uri": "https://localhost:8080/"
        }
      },
      "execution_count": 172,
      "outputs": [
        {
          "output_type": "execute_result",
          "data": {
            "text/plain": [
              "134"
            ]
          },
          "metadata": {},
          "execution_count": 172
        }
      ]
    },
    {
      "cell_type": "code",
      "source": [
        "# drop outliers\n",
        "eeg_no_outliers = eeg_no_outliers.dropna()"
      ],
      "metadata": {
        "id": "EzAbbiBw98qk"
      },
      "execution_count": 173,
      "outputs": []
    },
    {
      "cell_type": "code",
      "source": [
        "eeg_no_outliers.isnull().sum()['ReactionTime']"
      ],
      "metadata": {
        "id": "HVENDwz8-NSq",
        "outputId": "7bc52275-cf51-4771-c1c2-03070a78b9dc",
        "colab": {
          "base_uri": "https://localhost:8080/"
        }
      },
      "execution_count": 174,
      "outputs": [
        {
          "output_type": "execute_result",
          "data": {
            "text/plain": [
              "0"
            ]
          },
          "metadata": {},
          "execution_count": 174
        }
      ]
    },
    {
      "cell_type": "code",
      "source": [
        "pl.figure(figsize = (7, 7))\n",
        "ax = seaborn.boxplot(y=\"ReactionTime\", data=eeg_no_outliers)\n",
        "pl.title(\"Distribution of RT values without outliers\");"
      ],
      "metadata": {
        "id": "kaP0H3y6_GWl",
        "outputId": "6d1a0908-5f12-4908-869b-7f089fbc7694",
        "colab": {
          "base_uri": "https://localhost:8080/",
          "height": 431
        }
      },
      "execution_count": 175,
      "outputs": [
        {
          "output_type": "display_data",
          "data": {
            "text/plain": [
              "<Figure size 504x504 with 1 Axes>"
            ],
            "image/png": "[encoded data removed]"
          },
          "metadata": {
            "needs_background": "light"
          }
        }
      ]
    },
    {
      "cell_type": "code",
      "source": [
        "# upper plot - with outliers, lower plot - without\n",
        "pl.figure(figsize = (20, 10))\n",
        "seaborn.displot(eeg_clean['ReactionTime'])\n",
        "seaborn.displot(eeg_no_outliers['ReactionTime']);"
      ],
      "metadata": {
        "id": "X4Z5-wA2_2RM",
        "outputId": "8d7ed3eb-aa00-49c4-a1dc-c611c37e517b",
        "colab": {
          "base_uri": "https://localhost:8080/",
          "height": 738
        }
      },
      "execution_count": 176,
      "outputs": [
        {
          "output_type": "display_data",
          "data": {
            "text/plain": [
              "<Figure size 1440x720 with 0 Axes>"
            ]
          },
          "metadata": {}
        },
        {
          "output_type": "display_data",
          "data": {
            "text/plain": [
              "<Figure size 360x360 with 1 Axes>"
            ],
            "image/png": "[encoded data removed]"
          },
          "metadata": {
            "needs_background": "light"
          }
        },
        {
          "output_type": "display_data",
          "data": {
            "text/plain": [
              "<Figure size 360x360 with 1 Axes>"
            ],
            "image/png": "[encoded data removed]"
          },
          "metadata": {
            "needs_background": "light"
          }
        }
      ]
    },
    {
      "cell_type": "markdown",
      "source": [
        "There are two datasets now: eeg_clean - with outliers in RT, eeg_no_outliers - without"
      ],
      "metadata": {
        "id": "3yW3yluWBtea"
      }
    },
    {
      "cell_type": "code",
      "source": [
        "# calculating relative position of the word in the list\n",
        "# pos for only in seqence trials: probe sound index and stimulus sound index\n",
        "# beginning middle or end\n",
        "\n",
        "# making values in df more 'handy'\n",
        "whole_list = eeg_clean['StimulusSounds_idx'].values\n",
        "new_pos = []\n",
        "for i in whole_list:\n",
        "  new_pos.append(\n",
        "      [int(s) for s in re.findall(r'\\b\\d+\\b', i)]\n",
        "  )\n",
        "eeg_clean['StimulusSounds_idx'] = new_pos # substitute string type to list with numbers"
      ],
      "metadata": {
        "id": "X3nm375WmHrA"
      },
      "execution_count": 236,
      "outputs": []
    },
    {
      "cell_type": "code",
      "source": [
        "eeg_clean['Position'] = "
      ],
      "metadata": {
        "id": "zt0Su6eoplmU"
      },
      "execution_count": null,
      "outputs": []
    },
    {
      "cell_type": "code",
      "source": [
        "positions = [] # for the new 'position' column in df\n",
        "ind = eeg_clean['ProbeSound_idx'].values\n",
        "in_out = eeg_clean['ProbeTypeName'].values\n",
        "for i in ind:\n",
        "  if in_out[ind.index(i)] == 'in_sequence':\n",
        "    if i in new_pos[(ind.index(i)]:\n",
        "  else:\n",
        "    positions.append(0)"
      ],
      "metadata": {
        "id": "z7ure2sOozBR"
      },
      "execution_count": 249,
      "outputs": []
    },
    {
      "cell_type": "code",
      "source": [
        "in_out[0]"
      ],
      "metadata": {
        "id": "Lyg4XVP-q4IP",
        "outputId": "99638a42-61ea-49f6-c09c-272b8492b809",
        "colab": {
          "base_uri": "https://localhost:8080/",
          "height": 35
        }
      },
      "execution_count": 252,
      "outputs": [
        {
          "output_type": "execute_result",
          "data": {
            "text/plain": [
              "'in_sequence'"
            ],
            "application/vnd.google.colaboratory.intrinsic+json": {
              "type": "string"
            }
          },
          "metadata": {},
          "execution_count": 252
        }
      ]
    },
    {
      "cell_type": "markdown",
      "source": [
        "Correct percentage = sum(trial correct)/length \n",
        "4 conditions + in/out of sequence. Contrasts: words vs non words, high neighbourhood vs low neighbourhood, correct vs incorrect. Position of probe in a seq (probe sound idx \n"
      ],
      "metadata": {
        "id": "qBipTIG8jK7E"
      }
    },
    {
      "cell_type": "code",
      "source": [
        "eeg_clean"
      ],
      "metadata": {
        "id": "F_hst05IpG7e",
        "outputId": "de67e6a8-1033-4681-ecdc-b8ed275fcebd",
        "colab": {
          "base_uri": "https://localhost:8080/",
          "height": 835
        }
      },
      "execution_count": 240,
      "outputs": [
        {
          "output_type": "execute_result",
          "data": {
            "text/plain": [
              "      Trial Subject  Block  ProbeType  ProbeSound_idx    ProbeTypeName  \\\n",
              "1         1      E2      1          2              38      in_sequence   \n",
              "2         2      E2      1          2              30      in_sequence   \n",
              "3         3      E2      1          2               5      in_sequence   \n",
              "4         4      E2      1          1              13  out_of_sequence   \n",
              "5         5      E2      1          2              16      in_sequence   \n",
              "...     ...     ...    ...        ...             ...              ...   \n",
              "5563    187     E33      6          2               5      in_sequence   \n",
              "5564    188     E33      6          2              40      in_sequence   \n",
              "5565    189     E33      6          2              31      in_sequence   \n",
              "5566    190     E33      6          2              19      in_sequence   \n",
              "5567    191     E33      6          2              36      in_sequence   \n",
              "\n",
              "     StimulusCategory  ReactionTime KeyCode Response  ResponseCorrect  \\\n",
              "1       Low Non-words      1.282162  2.Left      Yes                1   \n",
              "2           Low Words      0.987854  2.Left      Yes                1   \n",
              "3          High Words      1.588743  2.Left      Yes                1   \n",
              "4       Low Non-words      1.184043  3.Left       No                1   \n",
              "5      High Non-Words      1.566338  2.Left      Yes                1   \n",
              "...               ...           ...     ...      ...              ...   \n",
              "5563       High Words      0.675257  2.Left      Yes                1   \n",
              "5564    Low Non-words      1.023468  2.Left      Yes                1   \n",
              "5565    Low Non-words      1.132745  2.Left      Yes                1   \n",
              "5566   High Non-Words      0.676137  2.Left      Yes                1   \n",
              "5567    Low Non-words      0.649415  2.Left      Yes                1   \n",
              "\n",
              "       Omission   ProbeCategory  \\\n",
              "1     Responded   Low Non-words   \n",
              "2     Responded       Low Words   \n",
              "3     Responded      High Words   \n",
              "4     Responded  High Non-Words   \n",
              "5     Responded  High Non-Words   \n",
              "...         ...             ...   \n",
              "5563  Responded      High Words   \n",
              "5564  Responded   Low Non-words   \n",
              "5565  Responded   Low Non-words   \n",
              "5566  Responded  High Non-Words   \n",
              "5567  Responded   Low Non-words   \n",
              "\n",
              "                                    StimulusSounds_name ProbeSound_name  \\\n",
              "1     [array(['yuf.wav'], dtype='<U7'), array(['JcG....         ycG.wav   \n",
              "2     [[array(['tub.wav'], dtype='<U7')]\\n [array(['...         yuT.wav   \n",
              "3     [array(['fEl.wav'], dtype='<U7'), array(['lEr....         lEr.wav   \n",
              "4     [[array(['gWT.wav'], dtype='<U7')]\\n [array(['...         g@n.wav   \n",
              "5     [[array(['g@n.wav'], dtype='<U7')]\\n [array(['...         kYl.wav   \n",
              "...                                                 ...             ...   \n",
              "5563  [[array(['debt.wav'], dtype='<U8')]\\n [array([...        lair.wav   \n",
              "5564  [[array(['deech.wav'], dtype='<U9')]\\n [array(...       zerth.wav   \n",
              "5565  [[array(['deech.wav'], dtype='<U9')]\\n [array(...       deech.wav   \n",
              "5566  [[array(['rehl.wav'], dtype='<U8')]\\n [array([...        rihn.wav   \n",
              "5567  [array(['yuwf.wav'], dtype='<U8'), array(['ver...        vern.wav   \n",
              "\n",
              "                        StimulusSounds_idx  CorrPercentage     stdRT  \n",
              "1                     [39, 32, 35, 37, 38]        0.888889  0.401952  \n",
              "2     [27, 23, 22, 24, 25, 29, 26, 28, 30]        0.888889 -0.401598  \n",
              "3                          [2, 5, 8, 4, 6]        0.888889  1.239013  \n",
              "4             [34, 35, 36, 40, 39, 33, 37]        0.888889  0.134058  \n",
              "5     [13, 15, 16, 20, 11, 18, 12, 19, 17]        0.888889  1.177841  \n",
              "...                                    ...             ...       ...  \n",
              "5563                 [2, 8, 7, 6, 9, 5, 1]        0.958115 -1.255086  \n",
              "5564  [31, 39, 32, 35, 40, 36, 33, 34, 37]        0.958115 -0.304362  \n",
              "5565  [31, 36, 33, 37, 35, 34, 32, 40, 38]        0.958115 -0.006003  \n",
              "5566                          [18, 19, 13]        0.958115 -1.252682  \n",
              "5567                  [39, 36, 34, 40, 38]        0.958115 -1.325642  \n",
              "\n",
              "[5468 rows x 18 columns]"
            ],
            "text/html": [
              "\n",
              "  <div id=\"df-077c7258-e0a6-4ee9-8ed6-4d749a4ba6b1\">\n",
              "    <div class=\"colab-df-container\">\n",
              "      <div>\n",
              "<style scoped>\n",
              "    .dataframe tbody tr th:only-of-type {\n",
              "        vertical-align: middle;\n",
              "    }\n",
              "\n",
              "    .dataframe tbody tr th {\n",
              "        vertical-align: top;\n",
              "    }\n",
              "\n",
              "    .dataframe thead th {\n",
              "        text-align: right;\n",
              "    }\n",
              "</style>\n",
              "<table border=\"1\" class=\"dataframe\">\n",
              "  <thead>\n",
              "    <tr style=\"text-align: right;\">\n",
              "      <th></th>\n",
              "      <th>Trial</th>\n",
              "      <th>Subject</th>\n",
              "      <th>Block</th>\n",
              "      <th>ProbeType</th>\n",
              "      <th>ProbeSound_idx</th>\n",
              "      <th>ProbeTypeName</th>\n",
              "      <th>StimulusCategory</th>\n",
              "      <th>ReactionTime</th>\n",
              "      <th>KeyCode</th>\n",
              "      <th>Response</th>\n",
              "      <th>ResponseCorrect</th>\n",
              "      <th>Omission</th>\n",
              "      <th>ProbeCategory</th>\n",
              "      <th>StimulusSounds_name</th>\n",
              "      <th>ProbeSound_name</th>\n",
              "      <th>StimulusSounds_idx</th>\n",
              "      <th>CorrPercentage</th>\n",
              "      <th>stdRT</th>\n",
              "    </tr>\n",
              "  </thead>\n",
              "  <tbody>\n",
              "    <tr>\n",
              "      <th>1</th>\n",
              "      <td>1</td>\n",
              "      <td>E2</td>\n",
              "      <td>1</td>\n",
              "      <td>2</td>\n",
              "      <td>38</td>\n",
              "      <td>in_sequence</td>\n",
              "      <td>Low Non-words</td>\n",
              "      <td>1.282162</td>\n",
              "      <td>2.Left</td>\n",
              "      <td>Yes</td>\n",
              "      <td>1</td>\n",
              "      <td>Responded</td>\n",
              "      <td>Low Non-words</td>\n",
              "      <td>[array(['yuf.wav'], dtype='&lt;U7'), array(['JcG....</td>\n",
              "      <td>ycG.wav</td>\n",
              "      <td>[39, 32, 35, 37, 38]</td>\n",
              "      <td>0.888889</td>\n",
              "      <td>0.401952</td>\n",
              "    </tr>\n",
              "    <tr>\n",
              "      <th>2</th>\n",
              "      <td>2</td>\n",
              "      <td>E2</td>\n",
              "      <td>1</td>\n",
              "      <td>2</td>\n",
              "      <td>30</td>\n",
              "      <td>in_sequence</td>\n",
              "      <td>Low Words</td>\n",
              "      <td>0.987854</td>\n",
              "      <td>2.Left</td>\n",
              "      <td>Yes</td>\n",
              "      <td>1</td>\n",
              "      <td>Responded</td>\n",
              "      <td>Low Words</td>\n",
              "      <td>[[array(['tub.wav'], dtype='&lt;U7')]\\n [array(['...</td>\n",
              "      <td>yuT.wav</td>\n",
              "      <td>[27, 23, 22, 24, 25, 29, 26, 28, 30]</td>\n",
              "      <td>0.888889</td>\n",
              "      <td>-0.401598</td>\n",
              "    </tr>\n",
              "    <tr>\n",
              "      <th>3</th>\n",
              "      <td>3</td>\n",
              "      <td>E2</td>\n",
              "      <td>1</td>\n",
              "      <td>2</td>\n",
              "      <td>5</td>\n",
              "      <td>in_sequence</td>\n",
              "      <td>High Words</td>\n",
              "      <td>1.588743</td>\n",
              "      <td>2.Left</td>\n",
              "      <td>Yes</td>\n",
              "      <td>1</td>\n",
              "      <td>Responded</td>\n",
              "      <td>High Words</td>\n",
              "      <td>[array(['fEl.wav'], dtype='&lt;U7'), array(['lEr....</td>\n",
              "      <td>lEr.wav</td>\n",
              "      <td>[2, 5, 8, 4, 6]</td>\n",
              "      <td>0.888889</td>\n",
              "      <td>1.239013</td>\n",
              "    </tr>\n",
              "    <tr>\n",
              "      <th>4</th>\n",
              "      <td>4</td>\n",
              "      <td>E2</td>\n",
              "      <td>1</td>\n",
              "      <td>1</td>\n",
              "      <td>13</td>\n",
              "      <td>out_of_sequence</td>\n",
              "      <td>Low Non-words</td>\n",
              "      <td>1.184043</td>\n",
              "      <td>3.Left</td>\n",
              "      <td>No</td>\n",
              "      <td>1</td>\n",
              "      <td>Responded</td>\n",
              "      <td>High Non-Words</td>\n",
              "      <td>[[array(['gWT.wav'], dtype='&lt;U7')]\\n [array(['...</td>\n",
              "      <td>g@n.wav</td>\n",
              "      <td>[34, 35, 36, 40, 39, 33, 37]</td>\n",
              "      <td>0.888889</td>\n",
              "      <td>0.134058</td>\n",
              "    </tr>\n",
              "    <tr>\n",
              "      <th>5</th>\n",
              "      <td>5</td>\n",
              "      <td>E2</td>\n",
              "      <td>1</td>\n",
              "      <td>2</td>\n",
              "      <td>16</td>\n",
              "      <td>in_sequence</td>\n",
              "      <td>High Non-Words</td>\n",
              "      <td>1.566338</td>\n",
              "      <td>2.Left</td>\n",
              "      <td>Yes</td>\n",
              "      <td>1</td>\n",
              "      <td>Responded</td>\n",
              "      <td>High Non-Words</td>\n",
              "      <td>[[array(['g@n.wav'], dtype='&lt;U7')]\\n [array(['...</td>\n",
              "      <td>kYl.wav</td>\n",
              "      <td>[13, 15, 16, 20, 11, 18, 12, 19, 17]</td>\n",
              "      <td>0.888889</td>\n",
              "      <td>1.177841</td>\n",
              "    </tr>\n",
              "    <tr>\n",
              "      <th>...</th>\n",
              "      <td>...</td>\n",
              "      <td>...</td>\n",
              "      <td>...</td>\n",
              "      <td>...</td>\n",
              "      <td>...</td>\n",
              "      <td>...</td>\n",
              "      <td>...</td>\n",
              "      <td>...</td>\n",
              "      <td>...</td>\n",
              "      <td>...</td>\n",
              "      <td>...</td>\n",
              "      <td>...</td>\n",
              "      <td>...</td>\n",
              "      <td>...</td>\n",
              "      <td>...</td>\n",
              "      <td>...</td>\n",
              "      <td>...</td>\n",
              "      <td>...</td>\n",
              "    </tr>\n",
              "    <tr>\n",
              "      <th>5563</th>\n",
              "      <td>187</td>\n",
              "      <td>E33</td>\n",
              "      <td>6</td>\n",
              "      <td>2</td>\n",
              "      <td>5</td>\n",
              "      <td>in_sequence</td>\n",
              "      <td>High Words</td>\n",
              "      <td>0.675257</td>\n",
              "      <td>2.Left</td>\n",
              "      <td>Yes</td>\n",
              "      <td>1</td>\n",
              "      <td>Responded</td>\n",
              "      <td>High Words</td>\n",
              "      <td>[[array(['debt.wav'], dtype='&lt;U8')]\\n [array([...</td>\n",
              "      <td>lair.wav</td>\n",
              "      <td>[2, 8, 7, 6, 9, 5, 1]</td>\n",
              "      <td>0.958115</td>\n",
              "      <td>-1.255086</td>\n",
              "    </tr>\n",
              "    <tr>\n",
              "      <th>5564</th>\n",
              "      <td>188</td>\n",
              "      <td>E33</td>\n",
              "      <td>6</td>\n",
              "      <td>2</td>\n",
              "      <td>40</td>\n",
              "      <td>in_sequence</td>\n",
              "      <td>Low Non-words</td>\n",
              "      <td>1.023468</td>\n",
              "      <td>2.Left</td>\n",
              "      <td>Yes</td>\n",
              "      <td>1</td>\n",
              "      <td>Responded</td>\n",
              "      <td>Low Non-words</td>\n",
              "      <td>[[array(['deech.wav'], dtype='&lt;U9')]\\n [array(...</td>\n",
              "      <td>zerth.wav</td>\n",
              "      <td>[31, 39, 32, 35, 40, 36, 33, 34, 37]</td>\n",
              "      <td>0.958115</td>\n",
              "      <td>-0.304362</td>\n",
              "    </tr>\n",
              "    <tr>\n",
              "      <th>5565</th>\n",
              "      <td>189</td>\n",
              "      <td>E33</td>\n",
              "      <td>6</td>\n",
              "      <td>2</td>\n",
              "      <td>31</td>\n",
              "      <td>in_sequence</td>\n",
              "      <td>Low Non-words</td>\n",
              "      <td>1.132745</td>\n",
              "      <td>2.Left</td>\n",
              "      <td>Yes</td>\n",
              "      <td>1</td>\n",
              "      <td>Responded</td>\n",
              "      <td>Low Non-words</td>\n",
              "      <td>[[array(['deech.wav'], dtype='&lt;U9')]\\n [array(...</td>\n",
              "      <td>deech.wav</td>\n",
              "      <td>[31, 36, 33, 37, 35, 34, 32, 40, 38]</td>\n",
              "      <td>0.958115</td>\n",
              "      <td>-0.006003</td>\n",
              "    </tr>\n",
              "    <tr>\n",
              "      <th>5566</th>\n",
              "      <td>190</td>\n",
              "      <td>E33</td>\n",
              "      <td>6</td>\n",
              "      <td>2</td>\n",
              "      <td>19</td>\n",
              "      <td>in_sequence</td>\n",
              "      <td>High Non-Words</td>\n",
              "      <td>0.676137</td>\n",
              "      <td>2.Left</td>\n",
              "      <td>Yes</td>\n",
              "      <td>1</td>\n",
              "      <td>Responded</td>\n",
              "      <td>High Non-Words</td>\n",
              "      <td>[[array(['rehl.wav'], dtype='&lt;U8')]\\n [array([...</td>\n",
              "      <td>rihn.wav</td>\n",
              "      <td>[18, 19, 13]</td>\n",
              "      <td>0.958115</td>\n",
              "      <td>-1.252682</td>\n",
              "    </tr>\n",
              "    <tr>\n",
              "      <th>5567</th>\n",
              "      <td>191</td>\n",
              "      <td>E33</td>\n",
              "      <td>6</td>\n",
              "      <td>2</td>\n",
              "      <td>36</td>\n",
              "      <td>in_sequence</td>\n",
              "      <td>Low Non-words</td>\n",
              "      <td>0.649415</td>\n",
              "      <td>2.Left</td>\n",
              "      <td>Yes</td>\n",
              "      <td>1</td>\n",
              "      <td>Responded</td>\n",
              "      <td>Low Non-words</td>\n",
              "      <td>[array(['yuwf.wav'], dtype='&lt;U8'), array(['ver...</td>\n",
              "      <td>vern.wav</td>\n",
              "      <td>[39, 36, 34, 40, 38]</td>\n",
              "      <td>0.958115</td>\n",
              "      <td>-1.325642</td>\n",
              "    </tr>\n",
              "  </tbody>\n",
              "</table>\n",
              "<p>5468 rows × 18 columns</p>\n",
              "</div>\n",
              "      <button class=\"colab-df-convert\" onclick=\"convertToInteractive('df-077c7258-e0a6-4ee9-8ed6-4d749a4ba6b1')\"\n",
              "              title=\"Convert this dataframe to an interactive table.\"\n",
              "              style=\"display:none;\">\n",
              "        \n",
              "  <svg xmlns=\"http://www.w3.org/2000/svg\" height=\"24px\"viewBox=\"0 0 24 24\"\n",
              "       width=\"24px\">\n",
              "    <path d=\"M0 0h24v24H0V0z\" fill=\"none\"/>\n",
              "    <path d=\"M18.56 5.44l.94 2.06.94-2.06 2.06-.94-2.06-.94-.94-2.06-.94 2.06-2.06.94zm-11 1L8.5 8.5l.94-2.06 2.06-.94-2.06-.94L8.5 2.5l-.94 2.06-2.06.94zm10 10l.94 2.06.94-2.06 2.06-.94-2.06-.94-.94-2.06-.94 2.06-2.06.94z\"/><path d=\"M17.41 7.96l-1.37-1.37c-.4-.4-.92-.59-1.43-.59-.52 0-1.04.2-1.43.59L10.3 9.45l-7.72 7.72c-.78.78-.78 2.05 0 2.83L4 21.41c.39.39.9.59 1.41.59.51 0 1.02-.2 1.41-.59l7.78-7.78 2.81-2.81c.8-.78.8-2.07 0-2.86zM5.41 20L4 18.59l7.72-7.72 1.47 1.35L5.41 20z\"/>\n",
              "  </svg>\n",
              "      </button>\n",
              "      \n",
              "  <style>\n",
              "    .colab-df-container {\n",
              "      display:flex;\n",
              "      flex-wrap:wrap;\n",
              "      gap: 12px;\n",
              "    }\n",
              "\n",
              "    .colab-df-convert {\n",
              "      background-color: #E8F0FE;\n",
              "      border: none;\n",
              "      border-radius: 50%;\n",
              "      cursor: pointer;\n",
              "      display: none;\n",
              "      fill: #1967D2;\n",
              "      height: 32px;\n",
              "      padding: 0 0 0 0;\n",
              "      width: 32px;\n",
              "    }\n",
              "\n",
              "    .colab-df-convert:hover {\n",
              "      background-color: #E2EBFA;\n",
              "      box-shadow: 0px 1px 2px rgba(60, 64, 67, 0.3), 0px 1px 3px 1px rgba(60, 64, 67, 0.15);\n",
              "      fill: #174EA6;\n",
              "    }\n",
              "\n",
              "    [theme=dark] .colab-df-convert {\n",
              "      background-color: #3B4455;\n",
              "      fill: #D2E3FC;\n",
              "    }\n",
              "\n",
              "    [theme=dark] .colab-df-convert:hover {\n",
              "      background-color: #434B5C;\n",
              "      box-shadow: 0px 1px 3px 1px rgba(0, 0, 0, 0.15);\n",
              "      filter: drop-shadow(0px 1px 2px rgba(0, 0, 0, 0.3));\n",
              "      fill: #FFFFFF;\n",
              "    }\n",
              "  </style>\n",
              "\n",
              "      <script>\n",
              "        const buttonEl =\n",
              "          document.querySelector('#df-077c7258-e0a6-4ee9-8ed6-4d749a4ba6b1 button.colab-df-convert');\n",
              "        buttonEl.style.display =\n",
              "          google.colab.kernel.accessAllowed ? 'block' : 'none';\n",
              "\n",
              "        async function convertToInteractive(key) {\n",
              "          const element = document.querySelector('#df-077c7258-e0a6-4ee9-8ed6-4d749a4ba6b1');\n",
              "          const dataTable =\n",
              "            await google.colab.kernel.invokeFunction('convertToInteractive',\n",
              "                                                     [key], {});\n",
              "          if (!dataTable) return;\n",
              "\n",
              "          const docLinkHtml = 'Like what you see? Visit the ' +\n",
              "            '<a target=\"_blank\" href=https://colab.research.google.com/notebooks/data_table.ipynb>data table notebook</a>'\n",
              "            + ' to learn more about interactive tables.';\n",
              "          element.innerHTML = '';\n",
              "          dataTable['output_type'] = 'display_data';\n",
              "          await google.colab.output.renderOutput(dataTable, element);\n",
              "          const docLink = document.createElement('div');\n",
              "          docLink.innerHTML = docLinkHtml;\n",
              "          element.appendChild(docLink);\n",
              "        }\n",
              "      </script>\n",
              "    </div>\n",
              "  </div>\n",
              "  "
            ]
          },
          "metadata": {},
          "execution_count": 240
        }
      ]
    },
    {
      "cell_type": "code",
      "source": [
        "pl.figure()\n",
        "#seaborn.catplot(y=\"CorrPercentage\", hue=\"StimulusCategory\", kind=\"point\", data=eeg_clean.groupby(['Subject'])['CorrPercentage'])\n",
        "#pl.plot(eeg_clean[eeg_clean['StimulusCategory'] == 'High Non-Words']['CorrPercentage'])\n",
        "seaborn.catplot(eeg_clean.groupby(['Subject'])['CorrPercentage'])"
      ],
      "metadata": {
        "id": "DHOVEIKcDutT",
        "outputId": "7bc7b2f8-9e1d-44a5-f536-ba655925121b",
        "colab": {
          "base_uri": "https://localhost:8080/",
          "height": 417
        }
      },
      "execution_count": 188,
      "outputs": [
        {
          "output_type": "stream",
          "name": "stderr",
          "text": [
            "/usr/local/lib/python3.7/dist-packages/seaborn/_decorators.py:43: FutureWarning: Pass the following variable as a keyword arg: x. From version 0.12, the only valid positional argument will be `data`, and passing other arguments without an explicit keyword will result in an error or misinterpretation.\n",
            "  FutureWarning\n"
          ]
        },
        {
          "output_type": "error",
          "ename": "AttributeError",
          "evalue": "ignored",
          "traceback": [
            "\u001b[0;31m---------------------------------------------------------------------------\u001b[0m",
            "\u001b[0;31mAttributeError\u001b[0m                            Traceback (most recent call last)",
            "\u001b[0;32m<ipython-input-188-17161c6bcd18>\u001b[0m in \u001b[0;36m<module>\u001b[0;34m()\u001b[0m\n\u001b[1;32m      2\u001b[0m \u001b[0;31m#seaborn.catplot(y=\"CorrPercentage\", hue=\"StimulusCategory\", kind=\"point\", data=eeg_clean.groupby(['Subject'])['CorrPercentage'])\u001b[0m\u001b[0;34m\u001b[0m\u001b[0;34m\u001b[0m\u001b[0;34m\u001b[0m\u001b[0m\n\u001b[1;32m      3\u001b[0m \u001b[0;31m#pl.plot(eeg_clean[eeg_clean['StimulusCategory'] == 'High Non-Words']['CorrPercentage'])\u001b[0m\u001b[0;34m\u001b[0m\u001b[0;34m\u001b[0m\u001b[0;34m\u001b[0m\u001b[0m\n\u001b[0;32m----> 4\u001b[0;31m \u001b[0mseaborn\u001b[0m\u001b[0;34m.\u001b[0m\u001b[0mcatplot\u001b[0m\u001b[0;34m(\u001b[0m\u001b[0meeg_clean\u001b[0m\u001b[0;34m.\u001b[0m\u001b[0mgroupby\u001b[0m\u001b[0;34m(\u001b[0m\u001b[0;34m[\u001b[0m\u001b[0;34m'Subject'\u001b[0m\u001b[0;34m]\u001b[0m\u001b[0;34m)\u001b[0m\u001b[0;34m[\u001b[0m\u001b[0;34m'CorrPercentage'\u001b[0m\u001b[0;34m]\u001b[0m\u001b[0;34m)\u001b[0m\u001b[0;34m\u001b[0m\u001b[0;34m\u001b[0m\u001b[0m\n\u001b[0m",
            "\u001b[0;32m/usr/local/lib/python3.7/dist-packages/seaborn/_decorators.py\u001b[0m in \u001b[0;36minner_f\u001b[0;34m(*args, **kwargs)\u001b[0m\n\u001b[1;32m     44\u001b[0m             )\n\u001b[1;32m     45\u001b[0m         \u001b[0mkwargs\u001b[0m\u001b[0;34m.\u001b[0m\u001b[0mupdate\u001b[0m\u001b[0;34m(\u001b[0m\u001b[0;34m{\u001b[0m\u001b[0mk\u001b[0m\u001b[0;34m:\u001b[0m \u001b[0marg\u001b[0m \u001b[0;32mfor\u001b[0m \u001b[0mk\u001b[0m\u001b[0;34m,\u001b[0m \u001b[0marg\u001b[0m \u001b[0;32min\u001b[0m \u001b[0mzip\u001b[0m\u001b[0;34m(\u001b[0m\u001b[0msig\u001b[0m\u001b[0;34m.\u001b[0m\u001b[0mparameters\u001b[0m\u001b[0;34m,\u001b[0m \u001b[0margs\u001b[0m\u001b[0;34m)\u001b[0m\u001b[0;34m}\u001b[0m\u001b[0;34m)\u001b[0m\u001b[0;34m\u001b[0m\u001b[0;34m\u001b[0m\u001b[0m\n\u001b[0;32m---> 46\u001b[0;31m         \u001b[0;32mreturn\u001b[0m \u001b[0mf\u001b[0m\u001b[0;34m(\u001b[0m\u001b[0;34m**\u001b[0m\u001b[0mkwargs\u001b[0m\u001b[0;34m)\u001b[0m\u001b[0;34m\u001b[0m\u001b[0;34m\u001b[0m\u001b[0m\n\u001b[0m\u001b[1;32m     47\u001b[0m     \u001b[0;32mreturn\u001b[0m \u001b[0minner_f\u001b[0m\u001b[0;34m\u001b[0m\u001b[0;34m\u001b[0m\u001b[0m\n\u001b[1;32m     48\u001b[0m \u001b[0;34m\u001b[0m\u001b[0m\n",
            "\u001b[0;32m/usr/local/lib/python3.7/dist-packages/seaborn/categorical.py\u001b[0m in \u001b[0;36mcatplot\u001b[0;34m(x, y, hue, data, row, col, col_wrap, estimator, ci, n_boot, units, seed, order, hue_order, row_order, col_order, kind, height, aspect, orient, color, palette, legend, legend_out, sharex, sharey, margin_titles, facet_kws, **kwargs)\u001b[0m\n\u001b[1;32m   3790\u001b[0m     \u001b[0mp\u001b[0m \u001b[0;34m=\u001b[0m \u001b[0m_CategoricalPlotter\u001b[0m\u001b[0;34m(\u001b[0m\u001b[0;34m)\u001b[0m\u001b[0;34m\u001b[0m\u001b[0;34m\u001b[0m\u001b[0m\n\u001b[1;32m   3791\u001b[0m     \u001b[0mp\u001b[0m\u001b[0;34m.\u001b[0m\u001b[0mrequire_numeric\u001b[0m \u001b[0;34m=\u001b[0m \u001b[0mplotter_class\u001b[0m\u001b[0;34m.\u001b[0m\u001b[0mrequire_numeric\u001b[0m\u001b[0;34m\u001b[0m\u001b[0;34m\u001b[0m\u001b[0m\n\u001b[0;32m-> 3792\u001b[0;31m     \u001b[0mp\u001b[0m\u001b[0;34m.\u001b[0m\u001b[0mestablish_variables\u001b[0m\u001b[0;34m(\u001b[0m\u001b[0mx_\u001b[0m\u001b[0;34m,\u001b[0m \u001b[0my_\u001b[0m\u001b[0;34m,\u001b[0m \u001b[0mhue\u001b[0m\u001b[0;34m,\u001b[0m \u001b[0mdata\u001b[0m\u001b[0;34m,\u001b[0m \u001b[0morient\u001b[0m\u001b[0;34m,\u001b[0m \u001b[0morder\u001b[0m\u001b[0;34m,\u001b[0m \u001b[0mhue_order\u001b[0m\u001b[0;34m)\u001b[0m\u001b[0;34m\u001b[0m\u001b[0;34m\u001b[0m\u001b[0m\n\u001b[0m\u001b[1;32m   3793\u001b[0m     if (\n\u001b[1;32m   3794\u001b[0m         \u001b[0morder\u001b[0m \u001b[0;32mis\u001b[0m \u001b[0;32mnot\u001b[0m \u001b[0;32mNone\u001b[0m\u001b[0;34m\u001b[0m\u001b[0;34m\u001b[0m\u001b[0m\n",
            "\u001b[0;32m/usr/local/lib/python3.7/dist-packages/seaborn/categorical.py\u001b[0m in \u001b[0;36mestablish_variables\u001b[0;34m(self, x, y, hue, data, orient, order, hue_order, units)\u001b[0m\n\u001b[1;32m    155\u001b[0m             \u001b[0;31m# Figure out the plotting orientation\u001b[0m\u001b[0;34m\u001b[0m\u001b[0;34m\u001b[0m\u001b[0;34m\u001b[0m\u001b[0m\n\u001b[1;32m    156\u001b[0m             orient = infer_orient(\n\u001b[0;32m--> 157\u001b[0;31m                 \u001b[0mx\u001b[0m\u001b[0;34m,\u001b[0m \u001b[0my\u001b[0m\u001b[0;34m,\u001b[0m \u001b[0morient\u001b[0m\u001b[0;34m,\u001b[0m \u001b[0mrequire_numeric\u001b[0m\u001b[0;34m=\u001b[0m\u001b[0mself\u001b[0m\u001b[0;34m.\u001b[0m\u001b[0mrequire_numeric\u001b[0m\u001b[0;34m\u001b[0m\u001b[0;34m\u001b[0m\u001b[0m\n\u001b[0m\u001b[1;32m    158\u001b[0m             )\n\u001b[1;32m    159\u001b[0m \u001b[0;34m\u001b[0m\u001b[0m\n",
            "\u001b[0;32m/usr/local/lib/python3.7/dist-packages/seaborn/_core.py\u001b[0m in \u001b[0;36minfer_orient\u001b[0;34m(x, y, orient, require_numeric)\u001b[0m\n\u001b[1;32m   1309\u001b[0m     \"\"\"\n\u001b[1;32m   1310\u001b[0m \u001b[0;34m\u001b[0m\u001b[0m\n\u001b[0;32m-> 1311\u001b[0;31m     \u001b[0mx_type\u001b[0m \u001b[0;34m=\u001b[0m \u001b[0;32mNone\u001b[0m \u001b[0;32mif\u001b[0m \u001b[0mx\u001b[0m \u001b[0;32mis\u001b[0m \u001b[0;32mNone\u001b[0m \u001b[0;32melse\u001b[0m \u001b[0mvariable_type\u001b[0m\u001b[0;34m(\u001b[0m\u001b[0mx\u001b[0m\u001b[0;34m)\u001b[0m\u001b[0;34m\u001b[0m\u001b[0;34m\u001b[0m\u001b[0m\n\u001b[0m\u001b[1;32m   1312\u001b[0m     \u001b[0my_type\u001b[0m \u001b[0;34m=\u001b[0m \u001b[0;32mNone\u001b[0m \u001b[0;32mif\u001b[0m \u001b[0my\u001b[0m \u001b[0;32mis\u001b[0m \u001b[0;32mNone\u001b[0m \u001b[0;32melse\u001b[0m \u001b[0mvariable_type\u001b[0m\u001b[0;34m(\u001b[0m\u001b[0my\u001b[0m\u001b[0;34m)\u001b[0m\u001b[0;34m\u001b[0m\u001b[0;34m\u001b[0m\u001b[0m\n\u001b[1;32m   1313\u001b[0m \u001b[0;34m\u001b[0m\u001b[0m\n",
            "\u001b[0;32m/usr/local/lib/python3.7/dist-packages/seaborn/_core.py\u001b[0m in \u001b[0;36mvariable_type\u001b[0;34m(vector, boolean_type)\u001b[0m\n\u001b[1;32m   1227\u001b[0m \u001b[0;34m\u001b[0m\u001b[0m\n\u001b[1;32m   1228\u001b[0m     \u001b[0;31m# Special-case all-na data, which is always \"numeric\"\u001b[0m\u001b[0;34m\u001b[0m\u001b[0;34m\u001b[0m\u001b[0;34m\u001b[0m\u001b[0m\n\u001b[0;32m-> 1229\u001b[0;31m     \u001b[0;32mif\u001b[0m \u001b[0mpd\u001b[0m\u001b[0;34m.\u001b[0m\u001b[0misna\u001b[0m\u001b[0;34m(\u001b[0m\u001b[0mvector\u001b[0m\u001b[0;34m)\u001b[0m\u001b[0;34m.\u001b[0m\u001b[0mall\u001b[0m\u001b[0;34m(\u001b[0m\u001b[0;34m)\u001b[0m\u001b[0;34m:\u001b[0m\u001b[0;34m\u001b[0m\u001b[0;34m\u001b[0m\u001b[0m\n\u001b[0m\u001b[1;32m   1230\u001b[0m         \u001b[0;32mreturn\u001b[0m \u001b[0;34m\"numeric\"\u001b[0m\u001b[0;34m\u001b[0m\u001b[0;34m\u001b[0m\u001b[0m\n\u001b[1;32m   1231\u001b[0m \u001b[0;34m\u001b[0m\u001b[0m\n",
            "\u001b[0;31mAttributeError\u001b[0m: 'bool' object has no attribute 'all'"
          ]
        },
        {
          "output_type": "display_data",
          "data": {
            "text/plain": [
              "<Figure size 432x288 with 0 Axes>"
            ]
          },
          "metadata": {}
        }
      ]
    },
    {
      "cell_type": "code",
      "source": [
        "# percentages of correct responses for different conditions \n",
        "eeg_clean.groupby(['Subject', 'StimulusCategory'])[['ResponseCorrect']].apply(\n",
        "    lambda v: sum(v) / v.count()\n",
        ")"
      ],
      "metadata": {
        "id": "1REUZTEPD9fx",
        "outputId": "74f746ab-a5f3-4dd4-b5be-2095bf4bc3fe",
        "colab": {
          "base_uri": "https://localhost:8080/",
          "height": 455
        }
      },
      "execution_count": 209,
      "outputs": [
        {
          "output_type": "execute_result",
          "data": {
            "text/plain": [
              "                          ResponseCorrect\n",
              "Subject StimulusCategory                 \n",
              "E10     High Non-Words           0.891304\n",
              "        High Words               0.916667\n",
              "        Low Non-words            0.937500\n",
              "        Low Words                0.937500\n",
              "E11     High Non-Words           0.916667\n",
              "...                                   ...\n",
              "E8      Low Words                0.937500\n",
              "E9      High Non-Words           0.937500\n",
              "        High Words               0.875000\n",
              "        Low Non-words            0.937500\n",
              "        Low Words                0.937500\n",
              "\n",
              "[116 rows x 1 columns]"
            ],
            "text/html": [
              "\n",
              "  <div id=\"df-2297f32e-9d3a-493f-867a-4cf419b35547\">\n",
              "    <div class=\"colab-df-container\">\n",
              "      <div>\n",
              "<style scoped>\n",
              "    .dataframe tbody tr th:only-of-type {\n",
              "        vertical-align: middle;\n",
              "    }\n",
              "\n",
              "    .dataframe tbody tr th {\n",
              "        vertical-align: top;\n",
              "    }\n",
              "\n",
              "    .dataframe thead th {\n",
              "        text-align: right;\n",
              "    }\n",
              "</style>\n",
              "<table border=\"1\" class=\"dataframe\">\n",
              "  <thead>\n",
              "    <tr style=\"text-align: right;\">\n",
              "      <th></th>\n",
              "      <th></th>\n",
              "      <th>ResponseCorrect</th>\n",
              "    </tr>\n",
              "    <tr>\n",
              "      <th>Subject</th>\n",
              "      <th>StimulusCategory</th>\n",
              "      <th></th>\n",
              "    </tr>\n",
              "  </thead>\n",
              "  <tbody>\n",
              "    <tr>\n",
              "      <th rowspan=\"4\" valign=\"top\">E10</th>\n",
              "      <th>High Non-Words</th>\n",
              "      <td>0.891304</td>\n",
              "    </tr>\n",
              "    <tr>\n",
              "      <th>High Words</th>\n",
              "      <td>0.916667</td>\n",
              "    </tr>\n",
              "    <tr>\n",
              "      <th>Low Non-words</th>\n",
              "      <td>0.937500</td>\n",
              "    </tr>\n",
              "    <tr>\n",
              "      <th>Low Words</th>\n",
              "      <td>0.937500</td>\n",
              "    </tr>\n",
              "    <tr>\n",
              "      <th>E11</th>\n",
              "      <th>High Non-Words</th>\n",
              "      <td>0.916667</td>\n",
              "    </tr>\n",
              "    <tr>\n",
              "      <th>...</th>\n",
              "      <th>...</th>\n",
              "      <td>...</td>\n",
              "    </tr>\n",
              "    <tr>\n",
              "      <th>E8</th>\n",
              "      <th>Low Words</th>\n",
              "      <td>0.937500</td>\n",
              "    </tr>\n",
              "    <tr>\n",
              "      <th rowspan=\"4\" valign=\"top\">E9</th>\n",
              "      <th>High Non-Words</th>\n",
              "      <td>0.937500</td>\n",
              "    </tr>\n",
              "    <tr>\n",
              "      <th>High Words</th>\n",
              "      <td>0.875000</td>\n",
              "    </tr>\n",
              "    <tr>\n",
              "      <th>Low Non-words</th>\n",
              "      <td>0.937500</td>\n",
              "    </tr>\n",
              "    <tr>\n",
              "      <th>Low Words</th>\n",
              "      <td>0.937500</td>\n",
              "    </tr>\n",
              "  </tbody>\n",
              "</table>\n",
              "<p>116 rows × 1 columns</p>\n",
              "</div>\n",
              "      <button class=\"colab-df-convert\" onclick=\"convertToInteractive('df-2297f32e-9d3a-493f-867a-4cf419b35547')\"\n",
              "              title=\"Convert this dataframe to an interactive table.\"\n",
              "              style=\"display:none;\">\n",
              "        \n",
              "  <svg xmlns=\"http://www.w3.org/2000/svg\" height=\"24px\"viewBox=\"0 0 24 24\"\n",
              "       width=\"24px\">\n",
              "    <path d=\"M0 0h24v24H0V0z\" fill=\"none\"/>\n",
              "    <path d=\"M18.56 5.44l.94 2.06.94-2.06 2.06-.94-2.06-.94-.94-2.06-.94 2.06-2.06.94zm-11 1L8.5 8.5l.94-2.06 2.06-.94-2.06-.94L8.5 2.5l-.94 2.06-2.06.94zm10 10l.94 2.06.94-2.06 2.06-.94-2.06-.94-.94-2.06-.94 2.06-2.06.94z\"/><path d=\"M17.41 7.96l-1.37-1.37c-.4-.4-.92-.59-1.43-.59-.52 0-1.04.2-1.43.59L10.3 9.45l-7.72 7.72c-.78.78-.78 2.05 0 2.83L4 21.41c.39.39.9.59 1.41.59.51 0 1.02-.2 1.41-.59l7.78-7.78 2.81-2.81c.8-.78.8-2.07 0-2.86zM5.41 20L4 18.59l7.72-7.72 1.47 1.35L5.41 20z\"/>\n",
              "  </svg>\n",
              "      </button>\n",
              "      \n",
              "  <style>\n",
              "    .colab-df-container {\n",
              "      display:flex;\n",
              "      flex-wrap:wrap;\n",
              "      gap: 12px;\n",
              "    }\n",
              "\n",
              "    .colab-df-convert {\n",
              "      background-color: #E8F0FE;\n",
              "      border: none;\n",
              "      border-radius: 50%;\n",
              "      cursor: pointer;\n",
              "      display: none;\n",
              "      fill: #1967D2;\n",
              "      height: 32px;\n",
              "      padding: 0 0 0 0;\n",
              "      width: 32px;\n",
              "    }\n",
              "\n",
              "    .colab-df-convert:hover {\n",
              "      background-color: #E2EBFA;\n",
              "      box-shadow: 0px 1px 2px rgba(60, 64, 67, 0.3), 0px 1px 3px 1px rgba(60, 64, 67, 0.15);\n",
              "      fill: #174EA6;\n",
              "    }\n",
              "\n",
              "    [theme=dark] .colab-df-convert {\n",
              "      background-color: #3B4455;\n",
              "      fill: #D2E3FC;\n",
              "    }\n",
              "\n",
              "    [theme=dark] .colab-df-convert:hover {\n",
              "      background-color: #434B5C;\n",
              "      box-shadow: 0px 1px 3px 1px rgba(0, 0, 0, 0.15);\n",
              "      filter: drop-shadow(0px 1px 2px rgba(0, 0, 0, 0.3));\n",
              "      fill: #FFFFFF;\n",
              "    }\n",
              "  </style>\n",
              "\n",
              "      <script>\n",
              "        const buttonEl =\n",
              "          document.querySelector('#df-2297f32e-9d3a-493f-867a-4cf419b35547 button.colab-df-convert');\n",
              "        buttonEl.style.display =\n",
              "          google.colab.kernel.accessAllowed ? 'block' : 'none';\n",
              "\n",
              "        async function convertToInteractive(key) {\n",
              "          const element = document.querySelector('#df-2297f32e-9d3a-493f-867a-4cf419b35547');\n",
              "          const dataTable =\n",
              "            await google.colab.kernel.invokeFunction('convertToInteractive',\n",
              "                                                     [key], {});\n",
              "          if (!dataTable) return;\n",
              "\n",
              "          const docLinkHtml = 'Like what you see? Visit the ' +\n",
              "            '<a target=\"_blank\" href=https://colab.research.google.com/notebooks/data_table.ipynb>data table notebook</a>'\n",
              "            + ' to learn more about interactive tables.';\n",
              "          element.innerHTML = '';\n",
              "          dataTable['output_type'] = 'display_data';\n",
              "          await google.colab.output.renderOutput(dataTable, element);\n",
              "          const docLink = document.createElement('div');\n",
              "          docLink.innerHTML = docLinkHtml;\n",
              "          element.appendChild(docLink);\n",
              "        }\n",
              "      </script>\n",
              "    </div>\n",
              "  </div>\n",
              "  "
            ]
          },
          "metadata": {},
          "execution_count": 209
        }
      ]
    },
    {
      "cell_type": "code",
      "source": [
        ""
      ],
      "metadata": {
        "id": "gYxhh0MPKZhA"
      },
      "execution_count": null,
      "outputs": []
    }
  ]
}