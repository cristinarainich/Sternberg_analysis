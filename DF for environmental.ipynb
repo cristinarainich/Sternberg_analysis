{
  "nbformat": 4,
  "nbformat_minor": 0,
  "metadata": {
    "colab": {
      "name": "Environmental. Dataframes.ipynb",
      "provenance": [],
      "toc_visible": true,
      "authorship_tag": "ABX9TyM/4pHT7zu7nu8l4GZaikvO",
      "include_colab_link": true
    },
    "kernelspec": {
      "name": "python3",
      "display_name": "Python 3"
    },
    "language_info": {
      "name": "python"
    }
  },
  "cells": [
    {
      "cell_type": "markdown",
      "metadata": {
        "id": "view-in-github",
        "colab_type": "text"
      },
      "source": [
        "<a href=\"https://colab.research.google.com/github/cristinarainich/Sternberg_analysis/blob/main/DF%20for%20environmental.ipynb\" target=\"_parent\"><img src=\"https://colab.research.google.com/assets/colab-badge.svg\" alt=\"Open In Colab\"/></a>"
      ]
    },
    {
      "cell_type": "markdown",
      "source": [
        "## Imports"
      ],
      "metadata": {
        "id": "YpvNzPralrdX"
      }
    },
    {
      "cell_type": "markdown",
      "source": [
        "Updated 27/06 14:46"
      ],
      "metadata": {
        "id": "fRRNc9hozjsq"
      }
    },
    {
      "cell_type": "code",
      "execution_count": 1,
      "metadata": {
        "id": "3h5n2BsXgd_A"
      },
      "outputs": [],
      "source": [
        "import pandas as pd\n",
        "import numpy as np\n",
        "import pylab as pl\n",
        "import scipy.io\n",
        "from pathlib import Path"
      ]
    },
    {
      "cell_type": "code",
      "source": [
        "from google.colab import drive\n",
        "drive.mount('/content/gdrive')"
      ],
      "metadata": {
        "colab": {
          "base_uri": "https://localhost:8080/"
        },
        "id": "I5Vp26ukgrGq",
        "outputId": "c34e6638-39c8-444e-ff58-4466a5d2c748"
      },
      "execution_count": 2,
      "outputs": [
        {
          "output_type": "stream",
          "name": "stdout",
          "text": [
            "Mounted at /content/gdrive\n"
          ]
        }
      ]
    },
    {
      "cell_type": "code",
      "source": [
        "working_path = Path('/content/gdrive/MyDrive/CoganLab/Environmental')"
      ],
      "metadata": {
        "id": "XSxCJCVjgtfi"
      },
      "execution_count": 3,
      "outputs": []
    },
    {
      "cell_type": "code",
      "source": [
        "!ls /content/gdrive/MyDrive/CoganLab/Environmental"
      ],
      "metadata": {
        "id": "Ean4VEuNJXzv",
        "outputId": "54ebd9c4-9598-42dd-a751-33d70b92a328",
        "colab": {
          "base_uri": "https://localhost:8080/"
        }
      },
      "execution_count": 4,
      "outputs": [
        {
          "output_type": "stream",
          "name": "stdout",
          "text": [
            " D29_Block_1_TrialData.mat\t  D86_Block_1_TrialData.mat\n",
            " D64_Block_1_TrialData.mat\t  D87_Block_1_TrialData.mat\n",
            " D65_Block_1_TrialData_1.mat\t  D90_Block_1_TrialData.mat\n",
            " D65_Block_1_TrialData.mat\t  eeg_envir.csv\n",
            "'D71_Block_1_TrialData (1).mat'   eeg_envir_processed.csv\n",
            "'D73_Block_1_TrialData (2).mat'   Environmental_Subject.mat\n",
            "'D77_Block_1_TrialData (1).mat'   healthy\n",
            " D80_Block_1_TrialData.mat\t  ieeg_envir.csv\n",
            " D81_Block_1_TrialData.mat\t  ieeg_envir_processed.csv\n",
            " D84_Block_1_TrialData.mat\t  stimuli\n",
            " D85_Block_1_TrialData.mat\n"
          ]
        }
      ]
    },
    {
      "cell_type": "code",
      "source": [
        "# Patients\n",
        "ieeg = scipy.io.loadmat(\n",
        "    working_path.joinpath('Environmental_Subject.mat')\n",
        "    )\n",
        "\n",
        "subj1 = scipy.io.loadmat(\n",
        "    working_path.joinpath('D65_Block_1_TrialData.mat')\n",
        "    )\n",
        "\n",
        "subj65 = scipy.io.loadmat(\n",
        "    working_path.joinpath('D65_Block_1_TrialData_1.mat')\n",
        "    )\n",
        "\n",
        "subj64 = scipy.io.loadmat(\n",
        "    working_path.joinpath('D64_Block_1_TrialData.mat')\n",
        ")\n",
        "subj73 = scipy.io.loadmat(\n",
        "    working_path.joinpath('D73_Block_1_TrialData (2).mat')\n",
        "    )\n",
        "subj77 = scipy.io.loadmat(\n",
        "    working_path.joinpath('D77_Block_1_TrialData (1).mat')\n",
        "    )\n",
        "subj80 = scipy.io.loadmat(\n",
        "    working_path.joinpath('D80_Block_1_TrialData.mat')\n",
        "    )\n",
        "subj81 = scipy.io.loadmat(\n",
        "    working_path.joinpath('D81_Block_1_TrialData.mat')\n",
        "    )\n",
        "subj84 = scipy.io.loadmat(\n",
        "    working_path.joinpath('D84_Block_1_TrialData.mat')\n",
        "    )\n",
        "subj85 = scipy.io.loadmat(\n",
        "    working_path.joinpath('D85_Block_1_TrialData.mat')\n",
        "    )\n",
        "subj86 = scipy.io.loadmat(\n",
        "    working_path.joinpath('D86_Block_1_TrialData.mat')\n",
        "    )\n",
        "subj87 = scipy.io.loadmat(\n",
        "    working_path.joinpath('D87_Block_1_TrialData.mat')\n",
        "    )\n",
        "subj90 = scipy.io.loadmat(\n",
        "    working_path.joinpath('D90_Block_1_TrialData.mat')\n",
        "    )\n"
      ],
      "metadata": {
        "id": "F_VMS1EkgvK5"
      },
      "execution_count": 7,
      "outputs": []
    },
    {
      "cell_type": "code",
      "source": [
        "working_path = Path('/content/gdrive/MyDrive/CoganLab/Environmental/healthy')"
      ],
      "metadata": {
        "id": "O0-zz-NsewOV"
      },
      "execution_count": null,
      "outputs": []
    },
    {
      "cell_type": "code",
      "source": [
        "# healthy\n",
        "files = []\n",
        "begin = 'E'\n",
        "end = '_Block_1_TrialData.mat'\n",
        "files.append(begin + '32' + end)\n",
        "for i in range(34, 47):\n",
        "  files.append(begin + str(i) + end)"
      ],
      "metadata": {
        "id": "-d_XluCJXidr"
      },
      "execution_count": null,
      "outputs": []
    },
    {
      "cell_type": "code",
      "source": [
        "files[0]"
      ],
      "metadata": {
        "id": "SIN8V10Ie6gM"
      },
      "execution_count": null,
      "outputs": []
    },
    {
      "cell_type": "code",
      "source": [
        "eeg = []\n",
        "for i in files:\n",
        "  subset = scipy.io.loadmat(\n",
        "      working_path.joinpath(i)\n",
        "  )\n",
        "  eeg.append(subset)"
      ],
      "metadata": {
        "id": "vOupvS0MYjbt"
      },
      "execution_count": null,
      "outputs": []
    },
    {
      "cell_type": "markdown",
      "source": [
        "#Working with stimuli"
      ],
      "metadata": {
        "id": "4TXoMEgdW9cj"
      }
    },
    {
      "cell_type": "code",
      "source": [
        "working_path = Path('/content/gdrive/MyDrive/CoganLab/Environmental/stimuli')"
      ],
      "metadata": {
        "id": "9N5rDPdvW_Nb"
      },
      "execution_count": 53,
      "outputs": []
    },
    {
      "cell_type": "code",
      "source": [
        "!ls /content/gdrive/MyDrive/CoganLab/Environmental/stimuli"
      ],
      "metadata": {
        "id": "JpqQTpHkXBcz",
        "outputId": "abbd966a-ac5b-4474-efc0-8b8e31a70931",
        "colab": {
          "base_uri": "https://localhost:8080/"
        }
      },
      "execution_count": 54,
      "outputs": [
        {
          "output_type": "stream",
          "name": "stdout",
          "text": [
            "ieeg_envir.csv\t\t  proposed_nw3.mat\t  proposed_w3.mat\n",
            "ieeg_envir_processed.csv  proposed_nw.mat\t  proposed_w.mat\n",
            "imaginability.txt\t  proposed_w2.mat\t  untrn_nw.mat\n",
            "proposed_nw3_global.mat   proposed_w3_global.mat  untrn_w.mat\n"
          ]
        }
      ]
    },
    {
      "cell_type": "code",
      "source": [
        "stimuli_words = scipy.io.loadmat(\n",
        "    working_path.joinpath('proposed_w3.mat')\n",
        ")"
      ],
      "metadata": {
        "id": "xeu87X-LXBfK"
      },
      "execution_count": 55,
      "outputs": []
    },
    {
      "cell_type": "code",
      "source": [
        "columns = stimuli_words['proposed_w'].dtype.names\n",
        "stim_words = pd.DataFrame(columns=columns)\n",
        "for i in range(0, stimuli_words['proposed_w'].shape[1]):\n",
        "  values = []\n",
        "  subset = stimuli_words['proposed_w'][0][i]\n",
        "  for name in columns:\n",
        "    values.append(subset[name])\n",
        "  stim_words.loc[len(stim_words.index)] = values"
      ],
      "metadata": {
        "id": "R39wSkRRXBhl"
      },
      "execution_count": 56,
      "outputs": []
    },
    {
      "cell_type": "code",
      "source": [
        "stimuli = []\n",
        "for i in stim_words.Word.values:\n",
        "  stimuli.append(i[0])\n",
        "\n",
        "freq = []\n",
        "for i in stim_words.SFreq.values:\n",
        "  freq.append(i[0][0])\n",
        "\n",
        "imagine = []\n",
        "for i in stim_words.imaginability.values:\n",
        "  imagine.append(i[0][0])\n",
        "\n",
        "category = []\n",
        "for i in range(0, 24):\n",
        "  category.append('word')"
      ],
      "metadata": {
        "id": "Wjp4axIDXBjy"
      },
      "execution_count": 57,
      "outputs": []
    },
    {
      "cell_type": "code",
      "source": [
        "columns = ['Category', 'Stimulus', 'Frequency', 'Imaginability']\n",
        "words = pd.DataFrame(columns=columns)\n",
        "words['Category'] = category\n",
        "words['Stimulus'] = stimuli\n",
        "words['Frequency'] = freq\n",
        "words['Imaginability'] = imagine"
      ],
      "metadata": {
        "id": "BEYWzNOLXGhC"
      },
      "execution_count": 58,
      "outputs": []
    },
    {
      "cell_type": "code",
      "source": [
        "stimuli_nonwords = scipy.io.loadmat(\n",
        "    working_path.joinpath('proposed_nw3.mat')\n",
        ")"
      ],
      "metadata": {
        "id": "7JwhTUOnXHwC"
      },
      "execution_count": 59,
      "outputs": []
    },
    {
      "cell_type": "code",
      "source": [
        "columns = stimuli_nonwords['proposed_nw'].dtype.names\n",
        "stim_nonwords = pd.DataFrame(columns=columns)\n",
        "for i in range(0, stimuli_nonwords['proposed_nw'].shape[1]):\n",
        "  values = []\n",
        "  subset = stimuli_nonwords['proposed_nw'][0][i]\n",
        "  for name in columns:\n",
        "    values.append(subset[name])\n",
        "  stim_nonwords.loc[len(stim_nonwords.index)] = values"
      ],
      "metadata": {
        "id": "S1RxZF_BXI8K"
      },
      "execution_count": 60,
      "outputs": []
    },
    {
      "cell_type": "code",
      "source": [
        "stimuli = []\n",
        "for i in stim_nonwords.Word.values:\n",
        "  stimuli.append(i[0])\n",
        "\n",
        "freq = []\n",
        "for i in stim_nonwords.SFreq.values:\n",
        "  freq.append(i[0][0])\n",
        "\n",
        "category = []\n",
        "for i in range(0, 24):\n",
        "  category.append('nonword')"
      ],
      "metadata": {
        "id": "xdlJwCTfXI-6"
      },
      "execution_count": 61,
      "outputs": []
    },
    {
      "cell_type": "code",
      "source": [
        "columns = ['Category', 'Stimulus', 'Frequency', 'Imaginability']\n",
        "nonwords = pd.DataFrame(columns=columns)\n",
        "nonwords['Category'] = category\n",
        "nonwords['Stimulus'] = stimuli\n",
        "nonwords['Frequency'] = freq\n",
        "nonwords['Imaginability'] = np.nan"
      ],
      "metadata": {
        "id": "QGVe-GMOXMFi"
      },
      "execution_count": 62,
      "outputs": []
    },
    {
      "cell_type": "code",
      "source": [
        "all_stim = pd.concat([words, nonwords])"
      ],
      "metadata": {
        "id": "79WXJ8YbXNvi"
      },
      "execution_count": 63,
      "outputs": []
    },
    {
      "cell_type": "markdown",
      "source": [
        "# iEEG dataset"
      ],
      "metadata": {
        "id": "HWwi_enRmivH"
      }
    },
    {
      "cell_type": "code",
      "source": [
        "data_ieeg = ieeg['Subject']\n",
        "print('Number of subjects in iEEG dataset is', data_ieeg.shape[1])"
      ],
      "metadata": {
        "colab": {
          "base_uri": "https://localhost:8080/"
        },
        "id": "dCpYgP4ZJxcy",
        "outputId": "08c06c57-5293-493f-9c73-2a0b4e834b62"
      },
      "execution_count": 9,
      "outputs": [
        {
          "output_type": "stream",
          "name": "stdout",
          "text": [
            "Number of subjects in iEEG dataset is 19\n"
          ]
        }
      ]
    },
    {
      "cell_type": "code",
      "source": [
        "subjects_ieeg = [] # subject numbers\n",
        "for i in data_ieeg['Name'][0]:\n",
        "  subjects_ieeg.append(i[0])\n",
        "print(subjects_ieeg)"
      ],
      "metadata": {
        "id": "JjFdOE5WJyIR",
        "colab": {
          "base_uri": "https://localhost:8080/"
        },
        "outputId": "2e3032c8-a732-47f9-ff09-1d8a97b4fe84"
      },
      "execution_count": 10,
      "outputs": [
        {
          "output_type": "stream",
          "name": "stdout",
          "text": [
            "['D27', 'D28', 'D30', 'D31', 'D32', 'D35', 'D37', 'D38', 'D39', 'D41', 'D42', 'D47', 'D53', 'D54', 'D55', 'D57', 'D63', 'D69', 'D71']\n"
          ]
        }
      ]
    },
    {
      "cell_type": "code",
      "source": [
        "columns = []\n",
        "for i in range(0, data_ieeg.shape[1]):\n",
        "  actual = data_ieeg[0][i]['trialInfo'][0][0].dtype.names\n",
        "  for name in actual:\n",
        "    if name not in columns:\n",
        "      columns.append(name)"
      ],
      "metadata": {
        "id": "czxi7jh-wS7V"
      },
      "execution_count": 11,
      "outputs": []
    },
    {
      "cell_type": "code",
      "source": [
        "def get_to_df(data):\n",
        "  df = pd.DataFrame(columns=columns)\n",
        "  df['Trial'] = np.nan\n",
        "  df['Subject'] = np.nan\n",
        "\n",
        "  for i in range(0, data.shape[1]):\n",
        "    # for each subject\n",
        "    subset = data[0][i]\n",
        "    subject = subset['Name'][0]\n",
        "    print(subset['Task'])\n",
        "    print(subject)\n",
        "    for trial in range(0, subset['trialInfo'].shape[1]):\n",
        "      # for each trial\n",
        "      sub = subset['trialInfo'][0][trial]\n",
        "      dtype = sub.dtype.names\n",
        "      values = []\n",
        "      for name in columns:\n",
        "        if name in dtype:\n",
        "          values.append(sub[name])\n",
        "        else:\n",
        "          values.append(np.nan)\n",
        "      values.append(str(trial)) # adding a trial number\n",
        "      values.append(subject)\n",
        "      df.loc[len(df.index)] = values\n",
        "  return df"
      ],
      "metadata": {
        "id": "WKEnfX2zmrDX"
      },
      "execution_count": 12,
      "outputs": []
    },
    {
      "cell_type": "code",
      "source": [
        "ieeg = get_to_df(data_ieeg)"
      ],
      "metadata": {
        "colab": {
          "base_uri": "https://localhost:8080/"
        },
        "id": "lgJnrW6Ru58L",
        "outputId": "1c168443-443b-436f-e47e-581f9b36d97a"
      },
      "execution_count": 13,
      "outputs": [
        {
          "output_type": "stream",
          "name": "stdout",
          "text": [
            "['Environmental_Sternberg']\n",
            "D27\n",
            "['Environmental_Sternberg']\n",
            "D28\n",
            "['Environmental_Sternberg']\n",
            "D30\n",
            "['Environmental_Sternberg']\n",
            "D31\n",
            "['Environmental_Sternberg']\n",
            "D32\n",
            "['Environmental_Sternberg']\n",
            "D35\n",
            "['Environmental_Sternberg']\n",
            "D37\n",
            "['Environmental_Sternberg']\n",
            "D38\n",
            "['Environmental_Sternberg']\n",
            "D39\n",
            "['Environmental_Sternberg']\n",
            "D41\n",
            "['Environmental_Sternberg']\n",
            "D42\n",
            "['Environmental_Sternberg']\n",
            "D47\n",
            "['Environmental_Sternberg']\n",
            "D53\n",
            "['Environmental_Sternberg']\n",
            "D54\n",
            "['Environmental_Sternberg']\n",
            "D55\n",
            "['Environmental_Sternberg']\n",
            "D57\n",
            "['Environmental_Sternberg']\n",
            "D63\n",
            "['Environmental_Sternberg']\n",
            "D69\n",
            "[]\n",
            "D71\n"
          ]
        }
      ]
    },
    {
      "cell_type": "code",
      "source": [
        "# adding subjects D64\n",
        "df_64 = pd.DataFrame(columns=columns)\n",
        "df_64['Trial'] = np.nan\n",
        "df_64['Subject'] = np.nan\n",
        "for trial in range(0, subj64['trialInfo'].shape[1]):\n",
        "  # for each trial\n",
        "  values = []\n",
        "  subset = subj64['trialInfo'][0][trial]\n",
        "  dtype = subset.dtype.names\n",
        "  for name in columns:\n",
        "    if name in dtype:\n",
        "      values.append(subset[name])\n",
        "    else:\n",
        "      values.append(np.nan)\n",
        "  values.append(str(trial)) # adding a trial number\n",
        "  values.append('D64')\n",
        "  df_64.loc[len(df_64.index)] = values"
      ],
      "metadata": {
        "id": "yfyxCD_o5aSp"
      },
      "execution_count": 14,
      "outputs": []
    },
    {
      "cell_type": "code",
      "source": [
        "# adding subjects D65\n",
        "df_65 = pd.DataFrame(columns=columns)\n",
        "df_65['Trial'] = np.nan\n",
        "df_65['Subject'] = np.nan\n",
        "for trial in range(0, subj1['trialInfo'].shape[1]):\n",
        "  # for each trial\n",
        "  values = []\n",
        "  subset = subj1['trialInfo'][0][trial]\n",
        "  dtype = subset.dtype.names\n",
        "  for name in columns:\n",
        "    if name in dtype:\n",
        "      values.append(subset[name])\n",
        "    else:\n",
        "      values.append(np.nan)\n",
        "  values.append(str(trial)) # adding a trial number\n",
        "  values.append('D65')\n",
        "  df_65.loc[len(df_65.index)] = values\n",
        "  i = 96\n",
        "for trial in range(0, subj65['trialInfo'].shape[1]):\n",
        "  # for each trial\n",
        "  values = []\n",
        "  subset = subj65['trialInfo'][0][trial]\n",
        "  dtype = subset.dtype.names\n",
        "  for name in columns:\n",
        "    if name in dtype:\n",
        "      values.append(subset[name])\n",
        "    else:\n",
        "      values.append(np.nan)\n",
        "  values.append(str(i)) # adding a trial number\n",
        "  values.append('D65')\n",
        "  i += 1\n",
        "  df_65.loc[len(df_65.index)] = values"
      ],
      "metadata": {
        "id": "cUsYed4q7Y4k"
      },
      "execution_count": 15,
      "outputs": []
    },
    {
      "cell_type": "code",
      "source": [
        "ieeg = pd.concat([ieeg, df_64])\n",
        "ieeg = pd.concat([ieeg, df_65])"
      ],
      "metadata": {
        "id": "6Zhiczksm_Oa"
      },
      "execution_count": 16,
      "outputs": []
    },
    {
      "cell_type": "code",
      "source": [
        "# adding subject 73\n",
        "df_73 = pd.DataFrame(columns=columns)\n",
        "df_73['Trial'] = np.nan\n",
        "df_73['Subject'] = np.nan\n",
        "for trial in range(0, subj73['trialInfo'].shape[1]):\n",
        "  # for each trial\n",
        "  values = []\n",
        "  subset = subj73['trialInfo'][0][trial]\n",
        "  dtype = subset.dtype.names\n",
        "  for name in columns:\n",
        "    if name in dtype:\n",
        "      values.append(subset[name])\n",
        "    else:\n",
        "      values.append(np.nan)\n",
        "  values.append(str(trial)) # adding a trial number\n",
        "  values.append('D73')\n",
        "  df_73.loc[len(df_73.index)] = values"
      ],
      "metadata": {
        "id": "RFJAOBZ5Jijr"
      },
      "execution_count": 17,
      "outputs": []
    },
    {
      "cell_type": "code",
      "source": [
        "# adding subject 77\n",
        "df_77 = pd.DataFrame(columns=columns)\n",
        "df_77['Trial'] = np.nan\n",
        "df_77['Subject'] = np.nan\n",
        "for trial in range(0, subj77['trialInfo'].shape[1]):\n",
        "  # for each trial\n",
        "  values = []\n",
        "  subset = subj77['trialInfo'][0][trial]\n",
        "  dtype = subset.dtype.names\n",
        "  for name in columns:\n",
        "    if name in dtype:\n",
        "      values.append(subset[name])\n",
        "    else:\n",
        "      values.append(np.nan)\n",
        "  values.append(str(trial)) # adding a trial number\n",
        "  values.append('D77')\n",
        "  df_77.loc[len(df_77.index)] = values"
      ],
      "metadata": {
        "id": "A2K9bUd_Jkl1"
      },
      "execution_count": 18,
      "outputs": []
    },
    {
      "cell_type": "code",
      "source": [
        "ieeg = pd.concat([ieeg, df_73])\n",
        "ieeg = pd.concat([ieeg, df_77])"
      ],
      "metadata": {
        "id": "rJXPZt0wJ6yh"
      },
      "execution_count": 19,
      "outputs": []
    },
    {
      "cell_type": "code",
      "source": [
        "# adding subject 80\n",
        "df_80 = pd.DataFrame(columns=columns)\n",
        "df_80['Trial'] = np.nan\n",
        "df_80['Subject'] = np.nan\n",
        "for trial in range(0, subj80['trialInfo'].shape[1]):\n",
        "  # for each trial\n",
        "  values = []\n",
        "  subset = subj80['trialInfo'][0][trial]\n",
        "  dtype = subset.dtype.names\n",
        "  for name in columns:\n",
        "    if name in dtype:\n",
        "      values.append(subset[name])\n",
        "    else:\n",
        "      values.append(np.nan)\n",
        "  values.append(str(trial)) # adding a trial number\n",
        "  values.append('D80')\n",
        "  df_80.loc[len(df_80.index)] = values"
      ],
      "metadata": {
        "id": "wofbxXq9YW60"
      },
      "execution_count": 20,
      "outputs": []
    },
    {
      "cell_type": "code",
      "source": [
        "# adding subject 81\n",
        "df_81 = pd.DataFrame(columns=columns)\n",
        "df_81['Trial'] = np.nan\n",
        "df_81['Subject'] = np.nan\n",
        "for trial in range(0, subj81['trialInfo'].shape[1]):\n",
        "  # for each trial\n",
        "  values = []\n",
        "  subset = subj81['trialInfo'][0][trial]\n",
        "  dtype = subset.dtype.names\n",
        "  for name in columns:\n",
        "    if name in dtype:\n",
        "      values.append(subset[name])\n",
        "    else:\n",
        "      values.append(np.nan)\n",
        "  values.append(str(trial)) # adding a trial number\n",
        "  values.append('D81')\n",
        "  df_81.loc[len(df_81.index)] = values"
      ],
      "metadata": {
        "id": "6qs44WzAYZ2b"
      },
      "execution_count": 21,
      "outputs": []
    },
    {
      "cell_type": "code",
      "source": [
        "# adding subject 84\n",
        "df_84 = pd.DataFrame(columns=columns)\n",
        "df_84['Trial'] = np.nan\n",
        "df_84['Subject'] = np.nan\n",
        "for trial in range(0, subj84['trialInfo'].shape[1]):\n",
        "  # for each trial\n",
        "  values = []\n",
        "  subset = subj84['trialInfo'][0][trial]\n",
        "  dtype = subset.dtype.names\n",
        "  for name in columns:\n",
        "    if name in dtype:\n",
        "      values.append(subset[name])\n",
        "    else:\n",
        "      values.append(np.nan)\n",
        "  values.append(str(trial)) # adding a trial number\n",
        "  values.append('D84')\n",
        "  df_84.loc[len(df_84.index)] = values"
      ],
      "metadata": {
        "id": "zz4gxnWXYoCU"
      },
      "execution_count": 22,
      "outputs": []
    },
    {
      "cell_type": "code",
      "source": [
        "# adding subject 85\n",
        "df_85 = pd.DataFrame(columns=columns)\n",
        "df_85['Trial'] = np.nan\n",
        "df_85['Subject'] = np.nan\n",
        "for trial in range(0, subj85['trialInfo'].shape[1]):\n",
        "  # for each trial\n",
        "  values = []\n",
        "  subset = subj85['trialInfo'][0][trial]\n",
        "  dtype = subset.dtype.names\n",
        "  for name in columns:\n",
        "    if name in dtype:\n",
        "      values.append(subset[name])\n",
        "    else:\n",
        "      values.append(np.nan)\n",
        "  values.append(str(trial)) # adding a trial number\n",
        "  values.append('D85')\n",
        "  df_85.loc[len(df_85.index)] = values"
      ],
      "metadata": {
        "id": "8I4dm_NSYvUN"
      },
      "execution_count": 23,
      "outputs": []
    },
    {
      "cell_type": "code",
      "source": [
        "# adding subject 86\n",
        "df_86 = pd.DataFrame(columns=columns)\n",
        "df_86['Trial'] = np.nan\n",
        "df_86['Subject'] = np.nan\n",
        "for trial in range(0, subj86['trialInfo'].shape[1]):\n",
        "  # for each trial\n",
        "  values = []\n",
        "  subset = subj86['trialInfo'][0][trial]\n",
        "  dtype = subset.dtype.names\n",
        "  for name in columns:\n",
        "    if name in dtype:\n",
        "      values.append(subset[name])\n",
        "    else:\n",
        "      values.append(np.nan)\n",
        "  values.append(str(trial)) # adding a trial number\n",
        "  values.append('D86')\n",
        "  df_86.loc[len(df_86.index)] = values"
      ],
      "metadata": {
        "id": "8c0-zDANYw60"
      },
      "execution_count": 24,
      "outputs": []
    },
    {
      "cell_type": "code",
      "source": [
        "# adding subject 87\n",
        "df_87 = pd.DataFrame(columns=columns)\n",
        "df_87['Trial'] = np.nan\n",
        "df_87['Subject'] = np.nan\n",
        "for trial in range(0, subj87['trialInfo'].shape[1]):\n",
        "  # for each trial\n",
        "  values = []\n",
        "  subset = subj87['trialInfo'][0][trial]\n",
        "  dtype = subset.dtype.names\n",
        "  for name in columns:\n",
        "    if name in dtype:\n",
        "      values.append(subset[name])\n",
        "    else:\n",
        "      values.append(np.nan)\n",
        "  values.append(str(trial)) # adding a trial number\n",
        "  values.append('D87')\n",
        "  df_87.loc[len(df_87.index)] = values"
      ],
      "metadata": {
        "id": "C-6X4Nu7YxD6"
      },
      "execution_count": 25,
      "outputs": []
    },
    {
      "cell_type": "code",
      "source": [
        "# adding subject 90\n",
        "df_90 = pd.DataFrame(columns=columns)\n",
        "df_90['Trial'] = np.nan\n",
        "df_90['Subject'] = np.nan\n",
        "for trial in range(0, subj90['trialInfo'].shape[1]):\n",
        "  # for each trial\n",
        "  values = []\n",
        "  subset = subj90['trialInfo'][0][trial]\n",
        "  dtype = subset.dtype.names\n",
        "  for name in columns:\n",
        "    if name in dtype:\n",
        "      values.append(subset[name])\n",
        "    else:\n",
        "      values.append(np.nan)\n",
        "  values.append(str(trial)) # adding a trial number\n",
        "  values.append('D90')\n",
        "  df_90.loc[len(df_90.index)] = values"
      ],
      "metadata": {
        "id": "SqW9hOPE4Z7u"
      },
      "execution_count": 26,
      "outputs": []
    },
    {
      "cell_type": "code",
      "source": [
        "ieeg = pd.concat([ieeg, df_80])\n",
        "ieeg = pd.concat([ieeg, df_81])\n",
        "ieeg = pd.concat([ieeg, df_84])\n",
        "ieeg = pd.concat([ieeg, df_85])\n",
        "ieeg = pd.concat([ieeg, df_86])\n",
        "ieeg = pd.concat([ieeg, df_87])\n",
        "ieeg = pd.concat([ieeg, df_90])"
      ],
      "metadata": {
        "id": "J8_d0yyLZBh0"
      },
      "execution_count": 27,
      "outputs": []
    },
    {
      "cell_type": "code",
      "source": [
        "ieeg.groupby(['Subject'])['Trial'].count()"
      ],
      "metadata": {
        "colab": {
          "base_uri": "https://localhost:8080/"
        },
        "id": "bKrqsbG0m5Oo",
        "outputId": "d8bd2213-1548-49f7-ca05-0450f44b76fb"
      },
      "execution_count": 28,
      "outputs": [
        {
          "output_type": "execute_result",
          "data": {
            "text/plain": [
              "Subject\n",
              "D27    160\n",
              "D28    120\n",
              "D30    168\n",
              "D31    168\n",
              "D32    168\n",
              "D35    168\n",
              "D37    168\n",
              "D38    160\n",
              "D39    168\n",
              "D41    168\n",
              "D42    168\n",
              "D47    168\n",
              "D53    168\n",
              "D54    168\n",
              "D55    168\n",
              "D57    168\n",
              "D63    168\n",
              "D64    168\n",
              "D65    168\n",
              "D69    168\n",
              "D71    168\n",
              "D73    168\n",
              "D77    168\n",
              "D80    168\n",
              "D81    168\n",
              "D84    168\n",
              "D85    168\n",
              "D86    168\n",
              "D87    168\n",
              "D90    168\n",
              "Name: Trial, dtype: int64"
            ]
          },
          "metadata": {},
          "execution_count": 28
        }
      ]
    },
    {
      "cell_type": "code",
      "source": [
        "# saving ieeg dataset\n",
        "working_path = Path('/content/gdrive/MyDrive/CoganLab/Environmental')\n",
        "ieeg.to_csv(\n",
        "    Path(working_path).joinpath('ieeg_envir.csv')\n",
        ")"
      ],
      "metadata": {
        "id": "RFxIg5Mti16Q"
      },
      "execution_count": 29,
      "outputs": []
    },
    {
      "cell_type": "markdown",
      "source": [
        "# Preprocessing of iEEG dataset"
      ],
      "metadata": {
        "id": "SJe2YeU3i4vA"
      }
    },
    {
      "cell_type": "code",
      "source": [
        "ieeg = pd.read_csv(\n",
        "    working_path.joinpath('ieeg_envir.csv')\n",
        "    )"
      ],
      "metadata": {
        "id": "ta-Fpn3pi9II"
      },
      "execution_count": null,
      "outputs": []
    },
    {
      "cell_type": "code",
      "source": [
        "ieeg.Subject.unique()"
      ],
      "metadata": {
        "id": "ZcPS6oEomJDB",
        "outputId": "1521139a-9435-4064-bf0c-07e489f8183e",
        "colab": {
          "base_uri": "https://localhost:8080/"
        }
      },
      "execution_count": 30,
      "outputs": [
        {
          "output_type": "execute_result",
          "data": {
            "text/plain": [
              "array(['D27', 'D28', 'D30', 'D31', 'D32', 'D35', 'D37', 'D38', 'D39',\n",
              "       'D41', 'D42', 'D47', 'D53', 'D54', 'D55', 'D57', 'D63', 'D69',\n",
              "       'D71', 'D64', 'D65', 'D73', 'D77', 'D80', 'D81', 'D84', 'D85',\n",
              "       'D86', 'D87', 'D90'], dtype=object)"
            ]
          },
          "metadata": {},
          "execution_count": 30
        }
      ]
    },
    {
      "cell_type": "code",
      "source": [
        "ieeg_ = ieeg[['block', 'ProbeType', 'StimlusCategory',\n",
        "       'ReactionTime', 'Resp', 'RespCorrect', 'Omission',\n",
        "       'stimulusSounds_idx', 'stimulusSounds_name', 'ProbeCategory', 'probeSound_idx',\n",
        "       'probeSound_name', 'StimulusCategory', 'Trial',\n",
        "       'Subject']]"
      ],
      "metadata": {
        "id": "_EGtPfoqm_a_"
      },
      "execution_count": 31,
      "outputs": []
    },
    {
      "cell_type": "code",
      "source": [
        "# looks like D27 performed Neighbourhood here\n",
        "# let's exclude them\n",
        "ieeg_ = ieeg_[ieeg_['Subject'] != 'D27']"
      ],
      "metadata": {
        "id": "NI_nJMkbte9V"
      },
      "execution_count": 32,
      "outputs": []
    },
    {
      "cell_type": "code",
      "source": [
        "ieeg_ = ieeg_.drop(['Omission', 'ProbeType'], axis=1)"
      ],
      "metadata": {
        "id": "PuXihCvYt3mr"
      },
      "execution_count": 33,
      "outputs": []
    },
    {
      "cell_type": "code",
      "source": [
        "# working on the columns to make them more convinient to use\n",
        "block = ieeg_.block.values\n",
        "new_block = []\n",
        "for i in block:\n",
        "  while type(i) is np.ndarray:\n",
        "    i = i[0]\n",
        "  new_block.append(i)"
      ],
      "metadata": {
        "id": "gFOIOerGuao2"
      },
      "execution_count": 34,
      "outputs": []
    },
    {
      "cell_type": "code",
      "source": [
        "rt = ieeg_.ReactionTime.values\n",
        "new_rt = []\n",
        "for i in rt:\n",
        "  while type(i) is np.ndarray:\n",
        "    i = i[0]\n",
        "  new_rt.append(i)"
      ],
      "metadata": {
        "id": "VD7CpZ3AuraG"
      },
      "execution_count": 35,
      "outputs": []
    },
    {
      "cell_type": "code",
      "source": [
        "acc = ieeg_.RespCorrect.values\n",
        "new_acc = []\n",
        "for i in acc:\n",
        "  while type(i) is np.ndarray:\n",
        "    i = i[0]\n",
        "  new_acc.append(i)"
      ],
      "metadata": {
        "id": "1SklYD0lvaYe"
      },
      "execution_count": 36,
      "outputs": []
    },
    {
      "cell_type": "code",
      "source": [
        "resp = ieeg_.Resp.values\n",
        "new_resp = []\n",
        "for i in resp:\n",
        "  while type(i) is np.ndarray:\n",
        "    i = i[0]\n",
        "  new_resp.append(i)"
      ],
      "metadata": {
        "id": "4ryfJAVVvun9"
      },
      "execution_count": 37,
      "outputs": []
    },
    {
      "cell_type": "code",
      "source": [
        "probe = ieeg_.ProbeCategory.values\n",
        "new_probe = []\n",
        "for i in probe:\n",
        "  while type(i) is np.ndarray:\n",
        "    i = i[0]\n",
        "  new_probe.append(i)"
      ],
      "metadata": {
        "id": "zsWDIlAiv11t"
      },
      "execution_count": 38,
      "outputs": []
    },
    {
      "cell_type": "code",
      "source": [
        "probe_idx = ieeg_.probeSound_idx.values\n",
        "new_probe_idx = []\n",
        "for i in probe_idx:\n",
        "  while type(i) is np.ndarray:\n",
        "    i = i[0]\n",
        "  new_probe_idx.append(i)"
      ],
      "metadata": {
        "id": "408-8UxUwDNB"
      },
      "execution_count": 39,
      "outputs": []
    },
    {
      "cell_type": "code",
      "source": [
        "stim_idx = ieeg_.stimulusSounds_idx.values\n",
        "new_stim_idx = []\n",
        "for i in stim_idx:\n",
        "  new_i = i[0][0].tolist()\n",
        "  element = []\n",
        "  for j in new_i:\n",
        "    element.append(j[0])\n",
        "  new_stim_idx.append(element)"
      ],
      "metadata": {
        "id": "d-LuQ6iwwKBC"
      },
      "execution_count": 40,
      "outputs": []
    },
    {
      "cell_type": "code",
      "source": [
        "probe_name = ieeg_.probeSound_name.values\n",
        "new_probe_name = []\n",
        "for i in probe_name:\n",
        "  while type(i) is np.ndarray:\n",
        "    i = i[0]\n",
        "  new_probe_name.append(i)"
      ],
      "metadata": {
        "id": "jHYghYY6yC0f"
      },
      "execution_count": 41,
      "outputs": []
    },
    {
      "cell_type": "code",
      "source": [
        "stim_name = ieeg_.stimulusSounds_name.values\n",
        "new_stim_name = []\n",
        "for i in stim_name:\n",
        "  new_i = i[0][0].tolist()\n",
        "  element = []\n",
        "  for j in new_i:\n",
        "    new_j = j[0][0]\n",
        "    if type(new_j) is np.str_:\n",
        "      element.append(new_j)\n",
        "    else:\n",
        "      element.append(new_j[0])\n",
        "  new_stim_name.append(element)"
      ],
      "metadata": {
        "id": "s-SNSqUhx64H"
      },
      "execution_count": 42,
      "outputs": []
    },
    {
      "cell_type": "code",
      "source": [
        "stim1 = ieeg_.StimlusCategory.values\n",
        "stim2 = ieeg_.StimulusCategory.values\n",
        "new_stim = []\n",
        "for i in range(0, ieeg_.shape[0]):\n",
        "  if type(stim1[i]) is np.ndarray:\n",
        "    element = stim1[i][0][0][0]\n",
        "    new_stim.append(element)\n",
        "  elif type(stim2[i]) is np.ndarray:\n",
        "    element = stim2[i][0][0][0]\n",
        "    new_stim.append(element)\n",
        "  else:\n",
        "    print(stim1[i], stim2[i])\n",
        "    break"
      ],
      "metadata": {
        "id": "rZljVc4AzSti"
      },
      "execution_count": 43,
      "outputs": []
    },
    {
      "cell_type": "code",
      "source": [
        "ieeg_['block'] = new_block\n",
        "ieeg_['ReactionTime'] = new_rt\n",
        "ieeg_['RespCorrect'] = new_acc\n",
        "ieeg_['Resp'] = new_resp\n",
        "ieeg_['ProbeCategory'] = new_probe\n",
        "ieeg_['probeSound_idx'] = new_probe_idx\n",
        "ieeg_['stimulusSounds_idx'] = new_stim_idx\n",
        "ieeg_['probeSound_name'] = new_probe_name\n",
        "ieeg_['stimulusSounds_name'] = new_stim_name\n",
        "ieeg_['StimulusCategory'] = new_stim\n",
        "ieeg_ = ieeg_.drop('StimlusCategory', axis=1)"
      ],
      "metadata": {
        "id": "9q_ZIgM0zQd6"
      },
      "execution_count": 44,
      "outputs": []
    },
    {
      "cell_type": "code",
      "source": [
        "length = []\n",
        "for i in ieeg_.stimulusSounds_idx.values:\n",
        "  if len(i) not in length:\n",
        "    length.append(len(i))\n",
        "print(length)"
      ],
      "metadata": {
        "id": "jutG_uG2uyGW",
        "outputId": "efbe391e-6ecc-4e41-d0c2-0199a68dd480",
        "colab": {
          "base_uri": "https://localhost:8080/"
        }
      },
      "execution_count": 45,
      "outputs": [
        {
          "output_type": "stream",
          "name": "stdout",
          "text": [
            "[3, 7, 9, 5]\n"
          ]
        }
      ]
    },
    {
      "cell_type": "code",
      "source": [
        "length = []\n",
        "for i in ieeg_.stimulusSounds_idx.values:\n",
        "  length.append(len(i))\n",
        "ieeg_['Length'] = length"
      ],
      "metadata": {
        "id": "wE4oJND2bO-i"
      },
      "execution_count": 46,
      "outputs": []
    },
    {
      "cell_type": "code",
      "source": [
        "words = []\n",
        "nonwords = []\n",
        "environment = []\n",
        "for i in ieeg_.StimulusCategory.values:\n",
        "  if i == 'nonwords':\n",
        "    words.append(0)\n",
        "    nonwords.append(1)\n",
        "    environment.append(0)\n",
        "  elif i == 'words':\n",
        "    words.append(1)\n",
        "    nonwords.append(0)\n",
        "    environment.append(0)\n",
        "  elif i == 'environment':\n",
        "    words.append(0)\n",
        "    nonwords.append(0)\n",
        "    environment.append(1)"
      ],
      "metadata": {
        "id": "d7mhMiHCbPAf"
      },
      "execution_count": 47,
      "outputs": []
    },
    {
      "cell_type": "code",
      "source": [
        "ieeg_['Words'] = words\n",
        "ieeg_['Nonwords'] = nonwords\n",
        "ieeg_['Environment'] = environment"
      ],
      "metadata": {
        "id": "33LjtxPPbPEj"
      },
      "execution_count": 48,
      "outputs": []
    },
    {
      "cell_type": "code",
      "source": [
        "ieeg_.groupby(['Subject'])['RespCorrect'].mean()"
      ],
      "metadata": {
        "id": "9OBrS4nVQjOe",
        "outputId": "bf820ef6-ec0f-48dd-8a3f-26aecc8a927f",
        "colab": {
          "base_uri": "https://localhost:8080/"
        }
      },
      "execution_count": 49,
      "outputs": [
        {
          "output_type": "execute_result",
          "data": {
            "text/plain": [
              "Subject\n",
              "D28    0.750000\n",
              "D30    0.785714\n",
              "D31    0.815476\n",
              "D32    0.779762\n",
              "D35    0.833333\n",
              "D37    0.672619\n",
              "D38    0.800000\n",
              "D39    0.755952\n",
              "D41    0.428571\n",
              "D42    0.875000\n",
              "D47    0.791667\n",
              "D53    0.851190\n",
              "D54    0.488095\n",
              "D55    0.839286\n",
              "D57    0.880952\n",
              "D63    0.738095\n",
              "D64    0.803571\n",
              "D65    0.642857\n",
              "D69    0.732143\n",
              "D71    0.821429\n",
              "D73    0.773810\n",
              "D77    0.779762\n",
              "D80    0.845238\n",
              "D81    0.833333\n",
              "D84    0.613095\n",
              "D85    0.470238\n",
              "D86    0.696429\n",
              "D87    0.767857\n",
              "D90    0.732143\n",
              "Name: RespCorrect, dtype: float64"
            ]
          },
          "metadata": {},
          "execution_count": 49
        }
      ]
    },
    {
      "cell_type": "code",
      "source": [
        "# it looks like D28 has the very weird categories and sounds recorded\n",
        "ieeg_ = ieeg_[ieeg_['Subject'] != 'D28']\n",
        "ieeg_ = ieeg_[ieeg_['Subject'] != 'D30']\n",
        "ieeg_ = ieeg_[ieeg_['Subject'] != 'D31']\n",
        "ieeg_ = ieeg_[ieeg_['Subject'] != 'D37']\n",
        "ieeg_ = ieeg_[ieeg_['Subject'] != 'D41']\n",
        "ieeg_ = ieeg_[ieeg_['Subject'] != 'D54']\n",
        "ieeg_ = ieeg_[ieeg_['Subject'] != 'D65']\n",
        "ieeg_ = ieeg_[ieeg_['Subject'] != 'D85']\n",
        "ieeg_ = ieeg_[ieeg_['Subject'] != 'D84']"
      ],
      "metadata": {
        "id": "LyX5DA2DPvU2"
      },
      "execution_count": 50,
      "outputs": []
    },
    {
      "cell_type": "code",
      "source": [
        "new_stim = []\n",
        "for i in all_stim.Stimulus.values:\n",
        "  new_stim.append(i + '.wav')\n",
        "all_stim['Stimulus'] = new_stim"
      ],
      "metadata": {
        "id": "JLVyev92VX_L"
      },
      "execution_count": 65,
      "outputs": []
    },
    {
      "cell_type": "code",
      "source": [
        "category = ieeg_.StimulusCategory.values.tolist()\n",
        "probe = ieeg_.probeSound_name.values\n",
        "stimuli = ieeg_.stimulusSounds_name.values\n",
        "standard = all_stim[all_stim['Category'] == 'word']['Stimulus'].values.tolist()\n",
        "standard_freq = all_stim[all_stim['Category'] == 'word']['Frequency'].values.tolist()\n",
        "standard_imag = all_stim[all_stim['Category'] == 'word']['Imaginability'].values.tolist()\n",
        "\n",
        "\n",
        "stim_freq = []\n",
        "stim_imag = []\n",
        "probe_freq = []\n",
        "probe_imag = []\n",
        "\n",
        "for i in range(0, ieeg_.shape[0]):\n",
        "  if category[i] == 'words':\n",
        "    for name in standard:\n",
        "      if probe[i] == name:\n",
        "        freq = standard_freq[standard.index(name)]\n",
        "        imag = standard_imag[standard.index(name)]\n",
        "        probe_freq.append(freq)\n",
        "        probe_imag.append(imag)\n",
        "\n",
        "    values_freq = []\n",
        "    values_imag = []\n",
        "    for lis in stimuli[i]:\n",
        "      for name in standard:\n",
        "        if lis == name:\n",
        "          freq = standard_freq[standard.index(name)]\n",
        "          imag = standard_imag[standard.index(name)]\n",
        "          values_freq.append(freq)\n",
        "          values_imag.append(imag)\n",
        "    stim_freq.append(values_freq)\n",
        "    stim_imag.append(values_imag)\n",
        "\n",
        "  else:\n",
        "    stim_freq.append(np.nan)\n",
        "    stim_imag.append(np.nan)\n",
        "    probe_freq.append(np.nan)\n",
        "    probe_imag.append(np.nan)"
      ],
      "metadata": {
        "id": "Q6-jO_KTbWGS"
      },
      "execution_count": 66,
      "outputs": []
    },
    {
      "cell_type": "code",
      "source": [
        "print(ieeg_.shape)\n",
        "print(len(stim_freq))\n",
        "print(len(stim_imag))\n",
        "print(len(probe_freq))\n",
        "print(len(probe_imag))"
      ],
      "metadata": {
        "id": "6DoL907EPJ0m",
        "outputId": "964e9d0f-bd98-4ddb-a370-fd7532f1c005",
        "colab": {
          "base_uri": "https://localhost:8080/"
        }
      },
      "execution_count": 67,
      "outputs": [
        {
          "output_type": "stream",
          "name": "stdout",
          "text": [
            "(3352, 16)\n",
            "3352\n",
            "3352\n",
            "3352\n",
            "3352\n"
          ]
        }
      ]
    },
    {
      "cell_type": "code",
      "source": [
        "ieeg_['ProbeFreq'] = probe_freq\n",
        "ieeg_['ProbeImag'] = probe_imag\n",
        "ieeg_['StimFreq'] = stim_freq\n",
        "ieeg_['StimImag'] = stim_imag"
      ],
      "metadata": {
        "id": "GFteuOALPDMf"
      },
      "execution_count": 68,
      "outputs": []
    },
    {
      "cell_type": "code",
      "source": [
        "ieeg_.to_csv(\n",
        "    Path(working_path).joinpath('ieeg_envir_processed.csv')\n",
        ")"
      ],
      "metadata": {
        "id": "1EZBCIRgV-Lx"
      },
      "execution_count": 69,
      "outputs": []
    },
    {
      "cell_type": "markdown",
      "source": [
        "# EEG dataset"
      ],
      "metadata": {
        "id": "df3nNGE2gsJ5"
      }
    },
    {
      "cell_type": "code",
      "source": [
        "subjects = []\n",
        "for i in files:\n",
        "  subjects.append(i[:3])"
      ],
      "metadata": {
        "id": "d8218jDljnpn"
      },
      "execution_count": null,
      "outputs": []
    },
    {
      "cell_type": "code",
      "source": [
        "columns = []\n",
        "for subject in eeg:\n",
        "  # for each subject\n",
        "  actual = subject['trialInfo'][0][0].dtype.names\n",
        "  for name in actual:\n",
        "    if name not in columns:\n",
        "      columns.append(name)"
      ],
      "metadata": {
        "id": "v1WkEI1thpyC"
      },
      "execution_count": null,
      "outputs": []
    },
    {
      "cell_type": "code",
      "source": [
        "df_ = pd.DataFrame(columns=columns)\n",
        "df_['Trial'] = np.nan\n",
        "df_['Subject'] = np.nan\n",
        "for subject in eeg:\n",
        "  for trial in range(0, subject['trialInfo'].shape[1]):\n",
        "    # for each trial\n",
        "    values = []\n",
        "    subset = subject['trialInfo'][0][trial]\n",
        "    dtype = subset.dtype.names\n",
        "    for name in columns:\n",
        "      if name in dtype:\n",
        "        values.append(subset[name])\n",
        "      else:\n",
        "        print('check')\n",
        "        values.append(np.nan)\n",
        "    values.append(str(trial))\n",
        "    values.append(subjects[eeg.index(subject)])\n",
        "    df_.loc[len(df_.index)] = values"
      ],
      "metadata": {
        "id": "MKfDSgYNhfmc"
      },
      "execution_count": null,
      "outputs": []
    },
    {
      "cell_type": "code",
      "source": [
        "eeg = df_.copy()"
      ],
      "metadata": {
        "id": "rHNN0svMif0U"
      },
      "execution_count": null,
      "outputs": []
    },
    {
      "cell_type": "code",
      "source": [
        "eeg.groupby(['Subject'])['Trial'].count()"
      ],
      "metadata": {
        "colab": {
          "base_uri": "https://localhost:8080/"
        },
        "id": "USSdTDoskujK",
        "outputId": "0ab67b3b-25a8-47c5-d6b2-e670e09646ca"
      },
      "execution_count": null,
      "outputs": [
        {
          "output_type": "execute_result",
          "data": {
            "text/plain": [
              "Subject\n",
              "E32    216\n",
              "E34    216\n",
              "E35    216\n",
              "E36    216\n",
              "E37    216\n",
              "E38    216\n",
              "E39    216\n",
              "E40    184\n",
              "E41    216\n",
              "E42    216\n",
              "E43    216\n",
              "E44    216\n",
              "E45    216\n",
              "E46    216\n",
              "Name: Trial, dtype: int64"
            ]
          },
          "metadata": {},
          "execution_count": 44
        }
      ]
    },
    {
      "cell_type": "code",
      "source": [
        "# saving eeg file\n",
        "eeg.to_csv(\n",
        "    Path(working_path).joinpath('eeg_envir.csv')\n",
        ")"
      ],
      "metadata": {
        "id": "PlyCOaq7jQFg"
      },
      "execution_count": null,
      "outputs": []
    },
    {
      "cell_type": "markdown",
      "source": [
        "#Preprocessing of EEG dataset"
      ],
      "metadata": {
        "id": "xWJEpfDOWBX-"
      }
    },
    {
      "cell_type": "code",
      "source": [
        "eeg = pd.read_csv(\n",
        "    working_path.joinpath('eeg_envir.csv')\n",
        "    )"
      ],
      "metadata": {
        "id": "ASN5PhIbjoGY"
      },
      "execution_count": null,
      "outputs": []
    },
    {
      "cell_type": "code",
      "source": [
        "eeg.Subject.unique()"
      ],
      "metadata": {
        "id": "U39iGHv8WEAH",
        "outputId": "b9c054de-b486-49f5-b3f1-a2bf76051826",
        "colab": {
          "base_uri": "https://localhost:8080/"
        }
      },
      "execution_count": null,
      "outputs": [
        {
          "output_type": "execute_result",
          "data": {
            "text/plain": [
              "array(['E32', 'E34', 'E35', 'E36', 'E37', 'E38', 'E39', 'E40', 'E41',\n",
              "       'E42', 'E43', 'E44', 'E45', 'E46'], dtype=object)"
            ]
          },
          "metadata": {},
          "execution_count": 46
        }
      ]
    },
    {
      "cell_type": "code",
      "source": [
        "len(eeg.Subject.unique())"
      ],
      "metadata": {
        "id": "ExbUkq_-WNf9",
        "outputId": "f2e5b61e-8d80-46aa-d4cb-155b21ca9a42",
        "colab": {
          "base_uri": "https://localhost:8080/"
        }
      },
      "execution_count": null,
      "outputs": [
        {
          "output_type": "execute_result",
          "data": {
            "text/plain": [
              "14"
            ]
          },
          "metadata": {},
          "execution_count": 48
        }
      ]
    },
    {
      "cell_type": "code",
      "source": [
        "eeg_ = eeg[[\n",
        "    'block', 'StimulusCategory', 'ReactionTime',\n",
        "       'Resp', 'RespCorrect', 'stimulusSounds_idx',\n",
        "       'ProbeCategory', 'probeSound_idx',\n",
        "       'Trial', 'Subject', 'stimulusSounds_name', 'probeSound_name'\n",
        "]]"
      ],
      "metadata": {
        "id": "lWt9sfQIWKF1"
      },
      "execution_count": null,
      "outputs": []
    },
    {
      "cell_type": "markdown",
      "source": [
        "Getting rid of additional lists containing lists"
      ],
      "metadata": {
        "id": "b-CeaAGuWRAF"
      }
    },
    {
      "cell_type": "code",
      "source": [
        "block = eeg_.block.values\n",
        "new_block = []\n",
        "for i in block:\n",
        "  while type(i) is np.ndarray:\n",
        "    i = i[0]\n",
        "  new_block.append(i)"
      ],
      "metadata": {
        "id": "jg7wxjdxWNiM"
      },
      "execution_count": null,
      "outputs": []
    },
    {
      "cell_type": "code",
      "source": [
        "stim_cat = eeg_.StimulusCategory.values\n",
        "new_stim = []\n",
        "for i in stim_cat:\n",
        "  if 'environment' in i:\n",
        "    new_stim.append('environment')\n",
        "  elif 'nonwords' in i:\n",
        "    new_stim.append('nonwords')\n",
        "  elif 'words' in i:\n",
        "    new_stim.append('words')"
      ],
      "metadata": {
        "id": "6nxrRdonWNkc"
      },
      "execution_count": null,
      "outputs": []
    },
    {
      "cell_type": "code",
      "source": [
        "rt = eeg_.ReactionTime.values\n",
        "new_rt = []\n",
        "for i in rt:\n",
        "  while type(i) is np.ndarray:\n",
        "    i = i[0]\n",
        "  new_rt.append(i)"
      ],
      "metadata": {
        "id": "IhSi3WnLWWPV"
      },
      "execution_count": null,
      "outputs": []
    },
    {
      "cell_type": "code",
      "source": [
        "acc = eeg_.RespCorrect.values\n",
        "new_acc = []\n",
        "for i in acc:\n",
        "  while type(i) is np.ndarray:\n",
        "    i = i[0]\n",
        "  new_acc.append(i)"
      ],
      "metadata": {
        "id": "MuDuNjJUWNmt"
      },
      "execution_count": null,
      "outputs": []
    },
    {
      "cell_type": "code",
      "source": [
        "resp = eeg_.Resp.values\n",
        "new_resp = []\n",
        "for i in resp:\n",
        "  while type(i) is np.ndarray:\n",
        "    i = i[0]\n",
        "  new_resp.append(i)"
      ],
      "metadata": {
        "id": "-oL5z10jWafF"
      },
      "execution_count": null,
      "outputs": []
    },
    {
      "cell_type": "code",
      "source": [
        "probe = eeg_.ProbeCategory.values\n",
        "new_probe = []\n",
        "for i in probe:\n",
        "  while type(i) is np.ndarray:\n",
        "    i = i[0]\n",
        "  new_probe.append(i)"
      ],
      "metadata": {
        "id": "M6vWFDx8WddM"
      },
      "execution_count": null,
      "outputs": []
    },
    {
      "cell_type": "code",
      "source": [
        "probe_idx = eeg_.probeSound_idx.values\n",
        "new_probe_idx = []\n",
        "for i in probe_idx:\n",
        "  while type(i) is np.ndarray:\n",
        "    i = i[0]\n",
        "  new_probe_idx.append(i)"
      ],
      "metadata": {
        "id": "iy2udWp4Wdfb"
      },
      "execution_count": null,
      "outputs": []
    },
    {
      "cell_type": "code",
      "source": [
        "stim_idx = eeg_.stimulusSounds_idx.values\n",
        "new_stim_idx = []\n",
        "for i in stim_idx:\n",
        "  new_i = i[0][0].tolist()\n",
        "  element = []\n",
        "  for j in new_i:\n",
        "    element.append(j[0])\n",
        "  new_stim_idx.append(element)"
      ],
      "metadata": {
        "id": "KMtTk9VeWdhz"
      },
      "execution_count": null,
      "outputs": []
    },
    {
      "cell_type": "code",
      "source": [
        "eeg_['block'] = new_block\n",
        "eeg_['StimulusCategory'] = new_stim\n",
        "eeg_['ReactionTime'] = new_rt\n",
        "eeg_['RespCorrect'] = new_acc\n",
        "eeg_['Resp'] = new_resp\n",
        "eeg_['ProbeCategory'] = new_probe\n",
        "eeg_['probeSound_idx'] = new_probe_idx\n",
        "eeg_['stimulusSounds_idx'] = new_stim_idx"
      ],
      "metadata": {
        "id": "k3FOqiJYWhg0",
        "outputId": "a7fd3d88-af38-4800-b9fc-c54bbbc74c7a",
        "colab": {
          "base_uri": "https://localhost:8080/"
        }
      },
      "execution_count": null,
      "outputs": [
        {
          "output_type": "stream",
          "name": "stderr",
          "text": [
            "<ipython-input-58-ea534a877bb7>:1: SettingWithCopyWarning: \n",
            "A value is trying to be set on a copy of a slice from a DataFrame.\n",
            "Try using .loc[row_indexer,col_indexer] = value instead\n",
            "\n",
            "See the caveats in the documentation: https://pandas.pydata.org/pandas-docs/stable/user_guide/indexing.html#returning-a-view-versus-a-copy\n",
            "  eeg_['block'] = new_block\n",
            "<ipython-input-58-ea534a877bb7>:2: SettingWithCopyWarning: \n",
            "A value is trying to be set on a copy of a slice from a DataFrame.\n",
            "Try using .loc[row_indexer,col_indexer] = value instead\n",
            "\n",
            "See the caveats in the documentation: https://pandas.pydata.org/pandas-docs/stable/user_guide/indexing.html#returning-a-view-versus-a-copy\n",
            "  eeg_['StimulusCategory'] = new_stim\n",
            "<ipython-input-58-ea534a877bb7>:3: SettingWithCopyWarning: \n",
            "A value is trying to be set on a copy of a slice from a DataFrame.\n",
            "Try using .loc[row_indexer,col_indexer] = value instead\n",
            "\n",
            "See the caveats in the documentation: https://pandas.pydata.org/pandas-docs/stable/user_guide/indexing.html#returning-a-view-versus-a-copy\n",
            "  eeg_['ReactionTime'] = new_rt\n",
            "<ipython-input-58-ea534a877bb7>:4: SettingWithCopyWarning: \n",
            "A value is trying to be set on a copy of a slice from a DataFrame.\n",
            "Try using .loc[row_indexer,col_indexer] = value instead\n",
            "\n",
            "See the caveats in the documentation: https://pandas.pydata.org/pandas-docs/stable/user_guide/indexing.html#returning-a-view-versus-a-copy\n",
            "  eeg_['RespCorrect'] = new_acc\n",
            "<ipython-input-58-ea534a877bb7>:5: SettingWithCopyWarning: \n",
            "A value is trying to be set on a copy of a slice from a DataFrame.\n",
            "Try using .loc[row_indexer,col_indexer] = value instead\n",
            "\n",
            "See the caveats in the documentation: https://pandas.pydata.org/pandas-docs/stable/user_guide/indexing.html#returning-a-view-versus-a-copy\n",
            "  eeg_['Resp'] = new_resp\n",
            "<ipython-input-58-ea534a877bb7>:6: SettingWithCopyWarning: \n",
            "A value is trying to be set on a copy of a slice from a DataFrame.\n",
            "Try using .loc[row_indexer,col_indexer] = value instead\n",
            "\n",
            "See the caveats in the documentation: https://pandas.pydata.org/pandas-docs/stable/user_guide/indexing.html#returning-a-view-versus-a-copy\n",
            "  eeg_['ProbeCategory'] = new_probe\n",
            "<ipython-input-58-ea534a877bb7>:7: SettingWithCopyWarning: \n",
            "A value is trying to be set on a copy of a slice from a DataFrame.\n",
            "Try using .loc[row_indexer,col_indexer] = value instead\n",
            "\n",
            "See the caveats in the documentation: https://pandas.pydata.org/pandas-docs/stable/user_guide/indexing.html#returning-a-view-versus-a-copy\n",
            "  eeg_['probeSound_idx'] = new_probe_idx\n",
            "<ipython-input-58-ea534a877bb7>:8: SettingWithCopyWarning: \n",
            "A value is trying to be set on a copy of a slice from a DataFrame.\n",
            "Try using .loc[row_indexer,col_indexer] = value instead\n",
            "\n",
            "See the caveats in the documentation: https://pandas.pydata.org/pandas-docs/stable/user_guide/indexing.html#returning-a-view-versus-a-copy\n",
            "  eeg_['stimulusSounds_idx'] = new_stim_idx\n"
          ]
        }
      ]
    },
    {
      "cell_type": "code",
      "source": [
        "length = []\n",
        "for i in eeg_.stimulusSounds_idx.values:\n",
        "  if len(i) not in length:\n",
        "    length.append(len(i))\n",
        "print(length)"
      ],
      "metadata": {
        "id": "G4_mN3dAWj1V",
        "outputId": "cad76065-dc80-4a1c-f424-b0e47ef29be6",
        "colab": {
          "base_uri": "https://localhost:8080/"
        }
      },
      "execution_count": null,
      "outputs": [
        {
          "output_type": "stream",
          "name": "stdout",
          "text": [
            "[3, 7, 9, 5]\n"
          ]
        }
      ]
    },
    {
      "cell_type": "code",
      "source": [
        "length = []\n",
        "for i in eeg_.stimulusSounds_idx.values:\n",
        "  length.append(len(i))\n",
        "eeg_['Length'] = length"
      ],
      "metadata": {
        "id": "OrtdvxaPWj98",
        "outputId": "fdaa7a84-2752-49b0-9bb8-02888ed70d1d",
        "colab": {
          "base_uri": "https://localhost:8080/"
        }
      },
      "execution_count": null,
      "outputs": [
        {
          "output_type": "stream",
          "name": "stderr",
          "text": [
            "<ipython-input-60-d50296b58efb>:4: SettingWithCopyWarning: \n",
            "A value is trying to be set on a copy of a slice from a DataFrame.\n",
            "Try using .loc[row_indexer,col_indexer] = value instead\n",
            "\n",
            "See the caveats in the documentation: https://pandas.pydata.org/pandas-docs/stable/user_guide/indexing.html#returning-a-view-versus-a-copy\n",
            "  eeg_['Length'] = length\n"
          ]
        }
      ]
    },
    {
      "cell_type": "code",
      "source": [
        "words = []\n",
        "nonwords = []\n",
        "environment = []\n",
        "for i in eeg_.StimulusCategory.values:\n",
        "  if i == 'nonwords':\n",
        "    words.append(0)\n",
        "    nonwords.append(1)\n",
        "    environment.append(0)\n",
        "  elif i == 'words':\n",
        "    words.append(1)\n",
        "    nonwords.append(0)\n",
        "    environment.append(0)\n",
        "  elif i == 'environment':\n",
        "    words.append(0)\n",
        "    nonwords.append(0)\n",
        "    environment.append(1)"
      ],
      "metadata": {
        "id": "msUsBDxGWlPE"
      },
      "execution_count": null,
      "outputs": []
    },
    {
      "cell_type": "code",
      "source": [
        "eeg_['Words'] = words\n",
        "eeg_['Nonwords'] = nonwords\n",
        "eeg_['Environment'] = environment"
      ],
      "metadata": {
        "id": "VpBlzVF0Wmkc",
        "outputId": "720525ce-729d-4deb-c2bb-2f0da3ec081a",
        "colab": {
          "base_uri": "https://localhost:8080/"
        }
      },
      "execution_count": null,
      "outputs": [
        {
          "output_type": "stream",
          "name": "stderr",
          "text": [
            "<ipython-input-62-3c31c9b484ea>:1: SettingWithCopyWarning: \n",
            "A value is trying to be set on a copy of a slice from a DataFrame.\n",
            "Try using .loc[row_indexer,col_indexer] = value instead\n",
            "\n",
            "See the caveats in the documentation: https://pandas.pydata.org/pandas-docs/stable/user_guide/indexing.html#returning-a-view-versus-a-copy\n",
            "  eeg_['Words'] = words\n",
            "<ipython-input-62-3c31c9b484ea>:2: SettingWithCopyWarning: \n",
            "A value is trying to be set on a copy of a slice from a DataFrame.\n",
            "Try using .loc[row_indexer,col_indexer] = value instead\n",
            "\n",
            "See the caveats in the documentation: https://pandas.pydata.org/pandas-docs/stable/user_guide/indexing.html#returning-a-view-versus-a-copy\n",
            "  eeg_['Nonwords'] = nonwords\n",
            "<ipython-input-62-3c31c9b484ea>:3: SettingWithCopyWarning: \n",
            "A value is trying to be set on a copy of a slice from a DataFrame.\n",
            "Try using .loc[row_indexer,col_indexer] = value instead\n",
            "\n",
            "See the caveats in the documentation: https://pandas.pydata.org/pandas-docs/stable/user_guide/indexing.html#returning-a-view-versus-a-copy\n",
            "  eeg_['Environment'] = environment\n"
          ]
        }
      ]
    },
    {
      "cell_type": "code",
      "source": [
        "probe_names = eeg_.probeSound_name.values\n",
        "new_probe_names = []\n",
        "for name in probe_names:\n",
        "  name = name[0][0][0]\n",
        "  new_probe_names.append(name)"
      ],
      "metadata": {
        "id": "-8aj5vtHWqjT"
      },
      "execution_count": null,
      "outputs": []
    },
    {
      "cell_type": "code",
      "source": [
        "stimulus_names = eeg_.stimulusSounds_name.values\n",
        "new_stim_names = []\n",
        "for name in stimulus_names:\n",
        "  name = name[0][0]\n",
        "  new_name = []\n",
        "  for j in name:\n",
        "    new_name.append(j[0][0])\n",
        "  new_stim_names.append(new_name)"
      ],
      "metadata": {
        "id": "fdDosPjjdgTa"
      },
      "execution_count": null,
      "outputs": []
    },
    {
      "cell_type": "code",
      "source": [
        "new_new_stim_names = []\n",
        "for element in new_stim_names:\n",
        "  new_element = []\n",
        "  for name in element:\n",
        "    new_element.append(name[:-4])\n",
        "  new_new_stim_names.append(new_element)"
      ],
      "metadata": {
        "id": "b7dytnJRjHLH"
      },
      "execution_count": null,
      "outputs": []
    },
    {
      "cell_type": "code",
      "source": [
        "new_new_probe_names = []\n",
        "for i in new_probe_names:\n",
        "  new_new_probe_names.append(i[:-4])"
      ],
      "metadata": {
        "id": "iP9FYg-vjNwH"
      },
      "execution_count": null,
      "outputs": []
    },
    {
      "cell_type": "code",
      "source": [
        "eeg_['stimulusSounds_name'] = new_new_stim_names\n",
        "eeg_['probeSound_name'] = new_new_probe_names"
      ],
      "metadata": {
        "id": "a-lsps3_WuCj",
        "outputId": "22e739f4-f0ce-46a7-930e-5ef0df663e75",
        "colab": {
          "base_uri": "https://localhost:8080/"
        }
      },
      "execution_count": null,
      "outputs": [
        {
          "output_type": "stream",
          "name": "stderr",
          "text": [
            "<ipython-input-67-a747f04adf7e>:1: SettingWithCopyWarning: \n",
            "A value is trying to be set on a copy of a slice from a DataFrame.\n",
            "Try using .loc[row_indexer,col_indexer] = value instead\n",
            "\n",
            "See the caveats in the documentation: https://pandas.pydata.org/pandas-docs/stable/user_guide/indexing.html#returning-a-view-versus-a-copy\n",
            "  eeg_['stimulusSounds_name'] = new_new_stim_names\n",
            "<ipython-input-67-a747f04adf7e>:2: SettingWithCopyWarning: \n",
            "A value is trying to be set on a copy of a slice from a DataFrame.\n",
            "Try using .loc[row_indexer,col_indexer] = value instead\n",
            "\n",
            "See the caveats in the documentation: https://pandas.pydata.org/pandas-docs/stable/user_guide/indexing.html#returning-a-view-versus-a-copy\n",
            "  eeg_['probeSound_name'] = new_new_probe_names\n"
          ]
        }
      ]
    },
    {
      "cell_type": "markdown",
      "source": [
        "**Adding frequency and imaginabilty scores**"
      ],
      "metadata": {
        "id": "1o0b794bWx6j"
      }
    },
    {
      "cell_type": "code",
      "source": [
        "category = eeg_.StimulusCategory.values.tolist()\n",
        "probe = eeg_.probeSound_name.values\n",
        "stimuli = eeg_.stimulusSounds_name.values\n",
        "standard = all_stim[all_stim['Category'] == 'word']['Stimulus'].values.tolist()\n",
        "standard_freq = all_stim[all_stim['Category'] == 'word']['Frequency'].values.tolist()\n",
        "standard_imag = all_stim[all_stim['Category'] == 'word']['Imaginability'].values.tolist()\n",
        "\n",
        "stim_freq = []\n",
        "stim_imag = []\n",
        "probe_freq = []\n",
        "probe_imag = []\n",
        "\n",
        "for i in range(0, eeg_.shape[0]):\n",
        "  if category[i] == 'words':\n",
        "    for name in standard:\n",
        "      if probe[i] == name:\n",
        "        freq = standard_freq[standard.index(name)]\n",
        "        imag = standard_imag[standard.index(name)]\n",
        "        probe_freq.append(freq)\n",
        "        probe_imag.append(imag)\n",
        "\n",
        "    values_freq = []\n",
        "    values_imag = []\n",
        "    for lis in stimuli[i]:\n",
        "      for name in standard:\n",
        "        if lis == name:\n",
        "          freq = standard_freq[standard.index(name)]\n",
        "          imag = standard_imag[standard.index(name)]\n",
        "          values_freq.append(freq)\n",
        "          values_imag.append(imag)\n",
        "    stim_freq.append(values_freq)\n",
        "    stim_imag.append(values_imag)\n",
        "\n",
        "  else:\n",
        "    stim_freq.append(np.nan)\n",
        "    stim_imag.append(np.nan)\n",
        "    probe_freq.append(np.nan)\n",
        "    probe_imag.append(np.nan)"
      ],
      "metadata": {
        "id": "HFlzddZvWwbE"
      },
      "execution_count": null,
      "outputs": []
    },
    {
      "cell_type": "code",
      "source": [
        "print(eeg_.shape)\n",
        "print(len(stim_freq))\n",
        "print(len(stim_imag))\n",
        "print(len(probe_freq))\n",
        "print(len(probe_imag))"
      ],
      "metadata": {
        "id": "jztwIV7BW0Mz",
        "outputId": "b0ac4f09-2141-4505-fe94-f73f1e9cf7c2",
        "colab": {
          "base_uri": "https://localhost:8080/"
        }
      },
      "execution_count": null,
      "outputs": [
        {
          "output_type": "stream",
          "name": "stdout",
          "text": [
            "(2992, 16)\n",
            "2992\n",
            "2992\n",
            "2992\n",
            "2992\n"
          ]
        }
      ]
    },
    {
      "cell_type": "code",
      "source": [
        "eeg_['ProbeFreq'] = probe_freq\n",
        "eeg_['ProbeImag'] = probe_imag\n",
        "eeg_['StimFreq'] = stim_freq\n",
        "eeg_['StimImag'] = stim_imag"
      ],
      "metadata": {
        "id": "uNiFGOeVW1lF",
        "outputId": "e3a8dcdf-e8bf-4304-8bd6-0be56f23a179",
        "colab": {
          "base_uri": "https://localhost:8080/"
        }
      },
      "execution_count": null,
      "outputs": [
        {
          "output_type": "stream",
          "name": "stderr",
          "text": [
            "<ipython-input-70-c1691c97d5de>:1: SettingWithCopyWarning: \n",
            "A value is trying to be set on a copy of a slice from a DataFrame.\n",
            "Try using .loc[row_indexer,col_indexer] = value instead\n",
            "\n",
            "See the caveats in the documentation: https://pandas.pydata.org/pandas-docs/stable/user_guide/indexing.html#returning-a-view-versus-a-copy\n",
            "  eeg_['ProbeFreq'] = probe_freq\n",
            "<ipython-input-70-c1691c97d5de>:2: SettingWithCopyWarning: \n",
            "A value is trying to be set on a copy of a slice from a DataFrame.\n",
            "Try using .loc[row_indexer,col_indexer] = value instead\n",
            "\n",
            "See the caveats in the documentation: https://pandas.pydata.org/pandas-docs/stable/user_guide/indexing.html#returning-a-view-versus-a-copy\n",
            "  eeg_['ProbeImag'] = probe_imag\n",
            "<ipython-input-70-c1691c97d5de>:3: SettingWithCopyWarning: \n",
            "A value is trying to be set on a copy of a slice from a DataFrame.\n",
            "Try using .loc[row_indexer,col_indexer] = value instead\n",
            "\n",
            "See the caveats in the documentation: https://pandas.pydata.org/pandas-docs/stable/user_guide/indexing.html#returning-a-view-versus-a-copy\n",
            "  eeg_['StimFreq'] = stim_freq\n",
            "<ipython-input-70-c1691c97d5de>:4: SettingWithCopyWarning: \n",
            "A value is trying to be set on a copy of a slice from a DataFrame.\n",
            "Try using .loc[row_indexer,col_indexer] = value instead\n",
            "\n",
            "See the caveats in the documentation: https://pandas.pydata.org/pandas-docs/stable/user_guide/indexing.html#returning-a-view-versus-a-copy\n",
            "  eeg_['StimImag'] = stim_imag\n"
          ]
        }
      ]
    },
    {
      "cell_type": "code",
      "source": [
        "# saving the file\n",
        "eeg_.to_csv(\n",
        "    Path(working_path).joinpath('eeg_envir_processed.csv')\n",
        ")"
      ],
      "metadata": {
        "id": "I7HqA22bl9X4"
      },
      "execution_count": null,
      "outputs": []
    }
  ]
}