{
  "nbformat": 4,
  "nbformat_minor": 0,
  "metadata": {
    "colab": {
      "name": "Preprocessing of datasets. Environmental.ipynb",
      "provenance": [],
      "toc_visible": true,
      "authorship_tag": "ABX9TyOh2gy50q4TMp03PGlGMPsP",
      "include_colab_link": true
    },
    "kernelspec": {
      "name": "python3",
      "display_name": "Python 3"
    },
    "language_info": {
      "name": "python"
    }
  },
  "cells": [
    {
      "cell_type": "markdown",
      "metadata": {
        "id": "view-in-github",
        "colab_type": "text"
      },
      "source": [
        "<a href=\"https://colab.research.google.com/github/cristinarainich/Sternberg_analysis/blob/main/Preprocessing_of_datasets_Environmental.ipynb\" target=\"_parent\"><img src=\"https://colab.research.google.com/assets/colab-badge.svg\" alt=\"Open In Colab\"/></a>"
      ]
    },
    {
      "cell_type": "markdown",
      "source": [
        "## Imports"
      ],
      "metadata": {
        "id": "F2tl2W5Bv4Ap"
      }
    },
    {
      "cell_type": "code",
      "execution_count": 93,
      "metadata": {
        "id": "DLPLa_SbUFiC",
        "outputId": "b1a73b65-d309-4511-911f-dcddf58a7439",
        "colab": {
          "base_uri": "https://localhost:8080/"
        }
      },
      "outputs": [
        {
          "output_type": "stream",
          "name": "stderr",
          "text": [
            "/usr/local/lib/python3.7/dist-packages/statsmodels/tools/_testing.py:19: FutureWarning: pandas.util.testing is deprecated. Use the functions in the public API at pandas.testing instead.\n",
            "  import pandas.util.testing as tm\n"
          ]
        },
        {
          "output_type": "stream",
          "name": "stdout",
          "text": [
            "Populating the interactive namespace from numpy and matplotlib\n"
          ]
        }
      ],
      "source": [
        "import pandas as pd\n",
        "import numpy as np\n",
        "from pathlib import Path\n",
        "import pylab as pl\n",
        "import seaborn as sns\n",
        "import re\n",
        "from scipy import stats\n",
        "import scipy.io\n",
        "import statsmodels.api as sm\n",
        "from statsmodels.stats.anova import anova_lm\n",
        "from statsmodels.formula.api import ols\n",
        "from scipy.stats import f_oneway\n",
        "from scipy.stats import shapiro\n",
        "from scipy.stats import normaltest\n",
        "from scipy.stats import boxcox\n",
        "%pylab inline"
      ]
    },
    {
      "cell_type": "code",
      "source": [
        "from google.colab import drive\n",
        "drive.mount('/content/gdrive')"
      ],
      "metadata": {
        "colab": {
          "base_uri": "https://localhost:8080/"
        },
        "id": "YiRadHQbUMTS",
        "outputId": "0b1a7457-6245-4e6b-c611-29f1aaf73153"
      },
      "execution_count": 2,
      "outputs": [
        {
          "output_type": "stream",
          "name": "stdout",
          "text": [
            "Mounted at /content/gdrive\n"
          ]
        }
      ]
    },
    {
      "cell_type": "code",
      "source": [
        "sns.set()"
      ],
      "metadata": {
        "id": "0TLSuhOVu6lY"
      },
      "execution_count": 3,
      "outputs": []
    },
    {
      "cell_type": "code",
      "source": [
        "working_path = Path('/content/gdrive/MyDrive/CoganLab/Environmental/healthy')"
      ],
      "metadata": {
        "id": "mm3QDqncUMmB"
      },
      "execution_count": 4,
      "outputs": []
    },
    {
      "cell_type": "code",
      "source": [
        "!ls /content/gdrive/MyDrive/CoganLab/Environmental/healthy"
      ],
      "metadata": {
        "colab": {
          "base_uri": "https://localhost:8080/"
        },
        "id": "Upts3ZetlXs8",
        "outputId": "1a58fbee-3ca1-4687-a586-f51b5f64ba6c"
      },
      "execution_count": 5,
      "outputs": [
        {
          "output_type": "stream",
          "name": "stdout",
          "text": [
            "E32_Block_1_TrialData.mat  E39_Block_1_TrialData.mat  E45_Block_1_TrialData.mat\n",
            "E34_Block_1_TrialData.mat  E40_Block_1_TrialData.mat  E46_Block_1_TrialData.mat\n",
            "E35_Block_1_TrialData.mat  E41_Block_1_TrialData.mat  eeg_envir.csv\n",
            "E36_Block_1_TrialData.mat  E42_Block_1_TrialData.mat  ieeg_envir.csv\n",
            "E37_Block_1_TrialData.mat  E43_Block_1_TrialData.mat\n",
            "E38_Block_1_TrialData.mat  E44_Block_1_TrialData.mat\n"
          ]
        }
      ]
    },
    {
      "cell_type": "code",
      "source": [
        "eeg = pd.read_csv(\n",
        "    working_path.joinpath('eeg_envir.csv'),\n",
        "    index_col=None\n",
        ")\n",
        "ieeg = pd.read_csv(\n",
        "    working_path.joinpath('ieeg_envir.csv'),\n",
        "    index_col=None\n",
        ")"
      ],
      "metadata": {
        "id": "9HyjeuE6lj3z"
      },
      "execution_count": 69,
      "outputs": []
    },
    {
      "cell_type": "code",
      "source": [
        "# checking significance with ttests\n",
        "def ttest(x, y):\n",
        "  if len(x) == len(y):\n",
        "    return stats.ttest_ind(x, y, equal_var = True)\n",
        "  else:\n",
        "    return stats.ttest_ind(x, y, equal_var = False)"
      ],
      "metadata": {
        "id": "6V6Il10RQ_BB"
      },
      "execution_count": 91,
      "outputs": []
    },
    {
      "cell_type": "markdown",
      "source": [
        "## iEEG"
      ],
      "metadata": {
        "id": "AHSle4eEUO2B"
      }
    },
    {
      "cell_type": "code",
      "source": [
        "ieeg.shape"
      ],
      "metadata": {
        "colab": {
          "base_uri": "https://localhost:8080/"
        },
        "id": "JYIoXXn4ltUl",
        "outputId": "3d2a40fe-9eee-4387-a5a6-7310d5990441"
      },
      "execution_count": 7,
      "outputs": [
        {
          "output_type": "execute_result",
          "data": {
            "text/plain": [
              "(3464, 28)"
            ]
          },
          "metadata": {},
          "execution_count": 7
        }
      ]
    },
    {
      "cell_type": "code",
      "source": [
        "ieeg[~ieeg['ProbeType'].isnull()].Subject.unique()"
      ],
      "metadata": {
        "colab": {
          "base_uri": "https://localhost:8080/"
        },
        "id": "_xOWS1lzUSyY",
        "outputId": "79af122f-c7c3-4001-c998-0991f70280fe"
      },
      "execution_count": 8,
      "outputs": [
        {
          "output_type": "execute_result",
          "data": {
            "text/plain": [
              "array(['D27'], dtype=object)"
            ]
          },
          "metadata": {},
          "execution_count": 8
        }
      ]
    },
    {
      "cell_type": "code",
      "source": [
        "ieeg[~ieeg['ProbeType'].isnull()].shape"
      ],
      "metadata": {
        "colab": {
          "base_uri": "https://localhost:8080/"
        },
        "id": "hWdh4IYhUUBY",
        "outputId": "4952c522-4741-4ed9-df2d-fc4ee1b3aaae"
      },
      "execution_count": 9,
      "outputs": [
        {
          "output_type": "execute_result",
          "data": {
            "text/plain": [
              "(160, 28)"
            ]
          },
          "metadata": {},
          "execution_count": 9
        }
      ]
    },
    {
      "cell_type": "code",
      "source": [
        "ieeg_preprocess = ieeg[ieeg['ProbeType'].isnull()]"
      ],
      "metadata": {
        "id": "WN9khwKTUV_g"
      },
      "execution_count": 10,
      "outputs": []
    },
    {
      "cell_type": "code",
      "source": [
        "ieeg_preprocess.shape"
      ],
      "metadata": {
        "colab": {
          "base_uri": "https://localhost:8080/"
        },
        "id": "-vHBXFuEUXGI",
        "outputId": "13b8b8cf-b9e1-41c1-8b04-e4b71f041622"
      },
      "execution_count": 11,
      "outputs": [
        {
          "output_type": "execute_result",
          "data": {
            "text/plain": [
              "(3304, 28)"
            ]
          },
          "metadata": {},
          "execution_count": 11
        }
      ]
    },
    {
      "cell_type": "code",
      "source": [
        "ieeg_ = ieeg_preprocess[[\n",
        "    'block', 'StimlusCategory',\n",
        "       'ReactionTime', 'KeyCode', 'Resp', 'RespCorrect',\n",
        "       'stimulusSounds_idx', 'ProbeCategory', 'probeSound_idx',\n",
        "       'StimulusCategory', 'Trial',\n",
        "       'Subject'\n",
        "]]"
      ],
      "metadata": {
        "id": "BniQR_6XUYGi"
      },
      "execution_count": 12,
      "outputs": []
    },
    {
      "cell_type": "code",
      "source": [
        "# getting rid of additional lists\n",
        "values = []\n",
        "col = ieeg_.block.values\n",
        "for i in col:\n",
        "  values.append(i[1:2])\n",
        "ieeg_['block'] = values"
      ],
      "metadata": {
        "id": "91Bvl0qAUZXR",
        "outputId": "538e17eb-e64a-4e89-bc38-81dd8f41d982",
        "colab": {
          "base_uri": "https://localhost:8080/"
        }
      },
      "execution_count": 13,
      "outputs": [
        {
          "output_type": "stream",
          "name": "stderr",
          "text": [
            "/usr/local/lib/python3.7/dist-packages/ipykernel_launcher.py:6: SettingWithCopyWarning: \n",
            "A value is trying to be set on a copy of a slice from a DataFrame.\n",
            "Try using .loc[row_indexer,col_indexer] = value instead\n",
            "\n",
            "See the caveats in the documentation: https://pandas.pydata.org/pandas-docs/stable/user_guide/indexing.html#returning-a-view-versus-a-copy\n",
            "  \n"
          ]
        }
      ]
    },
    {
      "cell_type": "code",
      "source": [
        "values = []\n",
        "col = ieeg_.ReactionTime.values\n",
        "for i in col:\n",
        "  values.append(float(i[1:-1]))\n",
        "ieeg_['ReactionTime'] = values"
      ],
      "metadata": {
        "id": "3t4znDPXo9PL",
        "outputId": "e372cc96-1cfc-4cf2-f222-476be3029f69",
        "colab": {
          "base_uri": "https://localhost:8080/"
        }
      },
      "execution_count": 14,
      "outputs": [
        {
          "output_type": "stream",
          "name": "stderr",
          "text": [
            "/usr/local/lib/python3.7/dist-packages/ipykernel_launcher.py:5: SettingWithCopyWarning: \n",
            "A value is trying to be set on a copy of a slice from a DataFrame.\n",
            "Try using .loc[row_indexer,col_indexer] = value instead\n",
            "\n",
            "See the caveats in the documentation: https://pandas.pydata.org/pandas-docs/stable/user_guide/indexing.html#returning-a-view-versus-a-copy\n",
            "  \"\"\"\n"
          ]
        }
      ]
    },
    {
      "cell_type": "code",
      "source": [
        "values = []\n",
        "col = ieeg_.KeyCode.values\n",
        "for i in col:\n",
        "  if i == '[nan]':\n",
        "    values.append(np.nan)\n",
        "  else:\n",
        "    values.append(int(i[1:-1]))\n",
        "ieeg_['KeyCode'] = values"
      ],
      "metadata": {
        "id": "A_R4O8x7pE4D",
        "outputId": "29dcbb46-baf5-4772-cf3c-a851fb9d6a92",
        "colab": {
          "base_uri": "https://localhost:8080/"
        }
      },
      "execution_count": 15,
      "outputs": [
        {
          "output_type": "stream",
          "name": "stderr",
          "text": [
            "/usr/local/lib/python3.7/dist-packages/ipykernel_launcher.py:8: SettingWithCopyWarning: \n",
            "A value is trying to be set on a copy of a slice from a DataFrame.\n",
            "Try using .loc[row_indexer,col_indexer] = value instead\n",
            "\n",
            "See the caveats in the documentation: https://pandas.pydata.org/pandas-docs/stable/user_guide/indexing.html#returning-a-view-versus-a-copy\n",
            "  \n"
          ]
        }
      ]
    },
    {
      "cell_type": "code",
      "source": [
        "values = []\n",
        "col = ieeg_.RespCorrect.values\n",
        "for i in col:\n",
        "  values.append(int(i[1:-1]))\n",
        "ieeg_['RespCorrect'] = values"
      ],
      "metadata": {
        "id": "7-oalSWhpsnc",
        "outputId": "0014cbdf-f3f8-4a6e-a11c-4e44e745229f",
        "colab": {
          "base_uri": "https://localhost:8080/"
        }
      },
      "execution_count": 16,
      "outputs": [
        {
          "output_type": "stream",
          "name": "stderr",
          "text": [
            "/usr/local/lib/python3.7/dist-packages/ipykernel_launcher.py:5: SettingWithCopyWarning: \n",
            "A value is trying to be set on a copy of a slice from a DataFrame.\n",
            "Try using .loc[row_indexer,col_indexer] = value instead\n",
            "\n",
            "See the caveats in the documentation: https://pandas.pydata.org/pandas-docs/stable/user_guide/indexing.html#returning-a-view-versus-a-copy\n",
            "  \"\"\"\n"
          ]
        }
      ]
    },
    {
      "cell_type": "code",
      "source": [
        "values = []\n",
        "col = ieeg_.stimulusSounds_idx.values\n",
        "for i in col:\n",
        "  values.append(int(i[1:-1]))\n",
        "ieeg_['stimulusSounds_idx'] = values"
      ],
      "metadata": {
        "id": "tte3rh3qp4Fc",
        "outputId": "6b4d87bf-09a9-4ad7-f014-63e1146ef1fd",
        "colab": {
          "base_uri": "https://localhost:8080/"
        }
      },
      "execution_count": 17,
      "outputs": [
        {
          "output_type": "stream",
          "name": "stderr",
          "text": [
            "/usr/local/lib/python3.7/dist-packages/ipykernel_launcher.py:5: SettingWithCopyWarning: \n",
            "A value is trying to be set on a copy of a slice from a DataFrame.\n",
            "Try using .loc[row_indexer,col_indexer] = value instead\n",
            "\n",
            "See the caveats in the documentation: https://pandas.pydata.org/pandas-docs/stable/user_guide/indexing.html#returning-a-view-versus-a-copy\n",
            "  \"\"\"\n"
          ]
        }
      ]
    },
    {
      "cell_type": "code",
      "source": [
        "values = []\n",
        "col = ieeg_.ProbeCategory.values\n",
        "for i in col:\n",
        "  values.append(int(i[1:-1]))\n",
        "ieeg_['ProbeCategory'] = values"
      ],
      "metadata": {
        "id": "MDpHRTxyp4LW",
        "outputId": "5b444fdf-4803-4723-dac5-476dbdbf7f64",
        "colab": {
          "base_uri": "https://localhost:8080/"
        }
      },
      "execution_count": 18,
      "outputs": [
        {
          "output_type": "stream",
          "name": "stderr",
          "text": [
            "/usr/local/lib/python3.7/dist-packages/ipykernel_launcher.py:5: SettingWithCopyWarning: \n",
            "A value is trying to be set on a copy of a slice from a DataFrame.\n",
            "Try using .loc[row_indexer,col_indexer] = value instead\n",
            "\n",
            "See the caveats in the documentation: https://pandas.pydata.org/pandas-docs/stable/user_guide/indexing.html#returning-a-view-versus-a-copy\n",
            "  \"\"\"\n"
          ]
        }
      ]
    },
    {
      "cell_type": "code",
      "source": [
        "values = []\n",
        "col = ieeg_.probeSound_idx.values\n",
        "for i in col:\n",
        "  values.append(int(i[1:-1]))\n",
        "ieeg_['probeSound_idx'] = values"
      ],
      "metadata": {
        "id": "0_gTdb5Dp4RU",
        "outputId": "c2bc1d1c-15f0-42c8-c8e7-372898bdf551",
        "colab": {
          "base_uri": "https://localhost:8080/"
        }
      },
      "execution_count": 19,
      "outputs": [
        {
          "output_type": "stream",
          "name": "stderr",
          "text": [
            "/usr/local/lib/python3.7/dist-packages/ipykernel_launcher.py:5: SettingWithCopyWarning: \n",
            "A value is trying to be set on a copy of a slice from a DataFrame.\n",
            "Try using .loc[row_indexer,col_indexer] = value instead\n",
            "\n",
            "See the caveats in the documentation: https://pandas.pydata.org/pandas-docs/stable/user_guide/indexing.html#returning-a-view-versus-a-copy\n",
            "  \"\"\"\n"
          ]
        }
      ]
    },
    {
      "cell_type": "markdown",
      "source": [
        "Uniting two columns for stimulus category"
      ],
      "metadata": {
        "id": "w03pihXbp_9s"
      }
    },
    {
      "cell_type": "code",
      "source": [
        "ieeg_.head()"
      ],
      "metadata": {
        "id": "-81fhX78oQiA",
        "outputId": "703f4aad-3fa8-4cc8-d527-734c1675b3f7",
        "colab": {
          "base_uri": "https://localhost:8080/",
          "height": 206
        }
      },
      "execution_count": 20,
      "outputs": [
        {
          "output_type": "execute_result",
          "data": {
            "text/plain": [
              "    block StimlusCategory  ReactionTime  KeyCode Resp  RespCorrect  \\\n",
              "160     1        nonwords      0.990436     39.0   No            1   \n",
              "161     1           words      1.302180     37.0  Yes            1   \n",
              "162     1     environment      1.432630     37.0  Yes            1   \n",
              "163     1     environment      1.160734     37.0  Yes            1   \n",
              "164     1     environment      0.845712     37.0  Yes            1   \n",
              "\n",
              "     stimulusSounds_idx  ProbeCategory  probeSound_idx StimulusCategory  \\\n",
              "160                   3              0              14              NaN   \n",
              "161                  16              1              11              NaN   \n",
              "162                  17              1               7              NaN   \n",
              "163                  17              1              13              NaN   \n",
              "164                  16              1               3              NaN   \n",
              "\n",
              "     Trial Subject  \n",
              "160      0     D28  \n",
              "161      1     D28  \n",
              "162      2     D28  \n",
              "163      3     D28  \n",
              "164      4     D28  "
            ],
            "text/html": [
              "\n",
              "  <div id=\"df-09b93c79-0748-44e5-8bf5-6690793ca137\">\n",
              "    <div class=\"colab-df-container\">\n",
              "      <div>\n",
              "<style scoped>\n",
              "    .dataframe tbody tr th:only-of-type {\n",
              "        vertical-align: middle;\n",
              "    }\n",
              "\n",
              "    .dataframe tbody tr th {\n",
              "        vertical-align: top;\n",
              "    }\n",
              "\n",
              "    .dataframe thead th {\n",
              "        text-align: right;\n",
              "    }\n",
              "</style>\n",
              "<table border=\"1\" class=\"dataframe\">\n",
              "  <thead>\n",
              "    <tr style=\"text-align: right;\">\n",
              "      <th></th>\n",
              "      <th>block</th>\n",
              "      <th>StimlusCategory</th>\n",
              "      <th>ReactionTime</th>\n",
              "      <th>KeyCode</th>\n",
              "      <th>Resp</th>\n",
              "      <th>RespCorrect</th>\n",
              "      <th>stimulusSounds_idx</th>\n",
              "      <th>ProbeCategory</th>\n",
              "      <th>probeSound_idx</th>\n",
              "      <th>StimulusCategory</th>\n",
              "      <th>Trial</th>\n",
              "      <th>Subject</th>\n",
              "    </tr>\n",
              "  </thead>\n",
              "  <tbody>\n",
              "    <tr>\n",
              "      <th>160</th>\n",
              "      <td>1</td>\n",
              "      <td>nonwords</td>\n",
              "      <td>0.990436</td>\n",
              "      <td>39.0</td>\n",
              "      <td>No</td>\n",
              "      <td>1</td>\n",
              "      <td>3</td>\n",
              "      <td>0</td>\n",
              "      <td>14</td>\n",
              "      <td>NaN</td>\n",
              "      <td>0</td>\n",
              "      <td>D28</td>\n",
              "    </tr>\n",
              "    <tr>\n",
              "      <th>161</th>\n",
              "      <td>1</td>\n",
              "      <td>words</td>\n",
              "      <td>1.302180</td>\n",
              "      <td>37.0</td>\n",
              "      <td>Yes</td>\n",
              "      <td>1</td>\n",
              "      <td>16</td>\n",
              "      <td>1</td>\n",
              "      <td>11</td>\n",
              "      <td>NaN</td>\n",
              "      <td>1</td>\n",
              "      <td>D28</td>\n",
              "    </tr>\n",
              "    <tr>\n",
              "      <th>162</th>\n",
              "      <td>1</td>\n",
              "      <td>environment</td>\n",
              "      <td>1.432630</td>\n",
              "      <td>37.0</td>\n",
              "      <td>Yes</td>\n",
              "      <td>1</td>\n",
              "      <td>17</td>\n",
              "      <td>1</td>\n",
              "      <td>7</td>\n",
              "      <td>NaN</td>\n",
              "      <td>2</td>\n",
              "      <td>D28</td>\n",
              "    </tr>\n",
              "    <tr>\n",
              "      <th>163</th>\n",
              "      <td>1</td>\n",
              "      <td>environment</td>\n",
              "      <td>1.160734</td>\n",
              "      <td>37.0</td>\n",
              "      <td>Yes</td>\n",
              "      <td>1</td>\n",
              "      <td>17</td>\n",
              "      <td>1</td>\n",
              "      <td>13</td>\n",
              "      <td>NaN</td>\n",
              "      <td>3</td>\n",
              "      <td>D28</td>\n",
              "    </tr>\n",
              "    <tr>\n",
              "      <th>164</th>\n",
              "      <td>1</td>\n",
              "      <td>environment</td>\n",
              "      <td>0.845712</td>\n",
              "      <td>37.0</td>\n",
              "      <td>Yes</td>\n",
              "      <td>1</td>\n",
              "      <td>16</td>\n",
              "      <td>1</td>\n",
              "      <td>3</td>\n",
              "      <td>NaN</td>\n",
              "      <td>4</td>\n",
              "      <td>D28</td>\n",
              "    </tr>\n",
              "  </tbody>\n",
              "</table>\n",
              "</div>\n",
              "      <button class=\"colab-df-convert\" onclick=\"convertToInteractive('df-09b93c79-0748-44e5-8bf5-6690793ca137')\"\n",
              "              title=\"Convert this dataframe to an interactive table.\"\n",
              "              style=\"display:none;\">\n",
              "        \n",
              "  <svg xmlns=\"http://www.w3.org/2000/svg\" height=\"24px\"viewBox=\"0 0 24 24\"\n",
              "       width=\"24px\">\n",
              "    <path d=\"M0 0h24v24H0V0z\" fill=\"none\"/>\n",
              "    <path d=\"M18.56 5.44l.94 2.06.94-2.06 2.06-.94-2.06-.94-.94-2.06-.94 2.06-2.06.94zm-11 1L8.5 8.5l.94-2.06 2.06-.94-2.06-.94L8.5 2.5l-.94 2.06-2.06.94zm10 10l.94 2.06.94-2.06 2.06-.94-2.06-.94-.94-2.06-.94 2.06-2.06.94z\"/><path d=\"M17.41 7.96l-1.37-1.37c-.4-.4-.92-.59-1.43-.59-.52 0-1.04.2-1.43.59L10.3 9.45l-7.72 7.72c-.78.78-.78 2.05 0 2.83L4 21.41c.39.39.9.59 1.41.59.51 0 1.02-.2 1.41-.59l7.78-7.78 2.81-2.81c.8-.78.8-2.07 0-2.86zM5.41 20L4 18.59l7.72-7.72 1.47 1.35L5.41 20z\"/>\n",
              "  </svg>\n",
              "      </button>\n",
              "      \n",
              "  <style>\n",
              "    .colab-df-container {\n",
              "      display:flex;\n",
              "      flex-wrap:wrap;\n",
              "      gap: 12px;\n",
              "    }\n",
              "\n",
              "    .colab-df-convert {\n",
              "      background-color: #E8F0FE;\n",
              "      border: none;\n",
              "      border-radius: 50%;\n",
              "      cursor: pointer;\n",
              "      display: none;\n",
              "      fill: #1967D2;\n",
              "      height: 32px;\n",
              "      padding: 0 0 0 0;\n",
              "      width: 32px;\n",
              "    }\n",
              "\n",
              "    .colab-df-convert:hover {\n",
              "      background-color: #E2EBFA;\n",
              "      box-shadow: 0px 1px 2px rgba(60, 64, 67, 0.3), 0px 1px 3px 1px rgba(60, 64, 67, 0.15);\n",
              "      fill: #174EA6;\n",
              "    }\n",
              "\n",
              "    [theme=dark] .colab-df-convert {\n",
              "      background-color: #3B4455;\n",
              "      fill: #D2E3FC;\n",
              "    }\n",
              "\n",
              "    [theme=dark] .colab-df-convert:hover {\n",
              "      background-color: #434B5C;\n",
              "      box-shadow: 0px 1px 3px 1px rgba(0, 0, 0, 0.15);\n",
              "      filter: drop-shadow(0px 1px 2px rgba(0, 0, 0, 0.3));\n",
              "      fill: #FFFFFF;\n",
              "    }\n",
              "  </style>\n",
              "\n",
              "      <script>\n",
              "        const buttonEl =\n",
              "          document.querySelector('#df-09b93c79-0748-44e5-8bf5-6690793ca137 button.colab-df-convert');\n",
              "        buttonEl.style.display =\n",
              "          google.colab.kernel.accessAllowed ? 'block' : 'none';\n",
              "\n",
              "        async function convertToInteractive(key) {\n",
              "          const element = document.querySelector('#df-09b93c79-0748-44e5-8bf5-6690793ca137');\n",
              "          const dataTable =\n",
              "            await google.colab.kernel.invokeFunction('convertToInteractive',\n",
              "                                                     [key], {});\n",
              "          if (!dataTable) return;\n",
              "\n",
              "          const docLinkHtml = 'Like what you see? Visit the ' +\n",
              "            '<a target=\"_blank\" href=https://colab.research.google.com/notebooks/data_table.ipynb>data table notebook</a>'\n",
              "            + ' to learn more about interactive tables.';\n",
              "          element.innerHTML = '';\n",
              "          dataTable['output_type'] = 'display_data';\n",
              "          await google.colab.output.renderOutput(dataTable, element);\n",
              "          const docLink = document.createElement('div');\n",
              "          docLink.innerHTML = docLinkHtml;\n",
              "          element.appendChild(docLink);\n",
              "        }\n",
              "      </script>\n",
              "    </div>\n",
              "  </div>\n",
              "  "
            ]
          },
          "metadata": {},
          "execution_count": 20
        }
      ]
    },
    {
      "cell_type": "code",
      "source": [
        "stim1 = ieeg_.StimlusCategory.values\n",
        "stim2 = ieeg_.StimulusCategory.values"
      ],
      "metadata": {
        "id": "WaI-QvropEJh"
      },
      "execution_count": 21,
      "outputs": []
    },
    {
      "cell_type": "code",
      "source": [
        "categories = []\n",
        "for i in range(0, ieeg_.shape[0]):\n",
        "  if pd.isna(stim1[i]) is True:\n",
        "    if pd.isna(stim2[i]) is False:\n",
        "      categories.append(stim2[i])\n",
        "    else:\n",
        "      print('Check')\n",
        "  elif pd.isna(stim1[i]) is False:\n",
        "    if pd.isna(stim2[i]) is True:\n",
        "      categories.append(stim1[i])\n",
        "    else:\n",
        "      print('Check')  "
      ],
      "metadata": {
        "id": "WJScIpsnqMHU"
      },
      "execution_count": 22,
      "outputs": []
    },
    {
      "cell_type": "code",
      "source": [
        "ieeg_['StimulusCategory'] = categories"
      ],
      "metadata": {
        "id": "kESYrLtQqjiX",
        "outputId": "f2e843d6-71c5-4bb6-a9b0-3f854134d6df",
        "colab": {
          "base_uri": "https://localhost:8080/"
        }
      },
      "execution_count": 23,
      "outputs": [
        {
          "output_type": "stream",
          "name": "stderr",
          "text": [
            "/usr/local/lib/python3.7/dist-packages/ipykernel_launcher.py:1: SettingWithCopyWarning: \n",
            "A value is trying to be set on a copy of a slice from a DataFrame.\n",
            "Try using .loc[row_indexer,col_indexer] = value instead\n",
            "\n",
            "See the caveats in the documentation: https://pandas.pydata.org/pandas-docs/stable/user_guide/indexing.html#returning-a-view-versus-a-copy\n",
            "  \"\"\"Entry point for launching an IPython kernel.\n"
          ]
        }
      ]
    },
    {
      "cell_type": "code",
      "source": [
        "ieeg_ = ieeg_.loc[:, ieeg_.columns != 'StimlusCategory']"
      ],
      "metadata": {
        "id": "GSYJnUx4ub7O"
      },
      "execution_count": 24,
      "outputs": []
    },
    {
      "cell_type": "markdown",
      "source": [
        "iEEG dataset has 'None' responses in the column 'Resp'. Reaction times corresponding to these trial are identical and either 2500 ms or 4000 ms. This is our No response trials, that we will treat as incorrect in Accuracy analysis and will get rid of them for RT analysis."
      ],
      "metadata": {
        "id": "fosg2qlAvHfn"
      }
    },
    {
      "cell_type": "code",
      "source": [
        "sns.distplot(ieeg_[ieeg_['Resp'] == 'None']['ReactionTime'])\n",
        "pl.title('Distribution of None trial in iEEG dataset');\n",
        "ieeg_[ieeg_['Resp'] == 'None']['ReactionTime'].count()"
      ],
      "metadata": {
        "id": "9q6XjM42uCkb",
        "outputId": "5033f859-1bc1-458f-d8c9-c3631d7e707e",
        "colab": {
          "base_uri": "https://localhost:8080/",
          "height": 373
        }
      },
      "execution_count": 25,
      "outputs": [
        {
          "output_type": "stream",
          "name": "stderr",
          "text": [
            "/usr/local/lib/python3.7/dist-packages/seaborn/distributions.py:2619: FutureWarning: `distplot` is a deprecated function and will be removed in a future version. Please adapt your code to use either `displot` (a figure-level function with similar flexibility) or `histplot` (an axes-level function for histograms).\n",
            "  warnings.warn(msg, FutureWarning)\n"
          ]
        },
        {
          "output_type": "execute_result",
          "data": {
            "text/plain": [
              "227"
            ]
          },
          "metadata": {},
          "execution_count": 25
        },
        {
          "output_type": "display_data",
          "data": {
            "text/plain": [
              "<Figure size 432x288 with 1 Axes>"
            ],
            "image/png": "[encoded data removed]"
          },
          "metadata": {}
        }
      ]
    },
    {
      "cell_type": "code",
      "source": [
        "print(\n",
        "    'Accuracy without \"No response\" trials',\n",
        "    ieeg_[ieeg_['Resp'] != 'None'].RespCorrect.mean()\n",
        ")\n",
        "print(\n",
        "    'Accuracy with \"No response\" trials',\n",
        "    ieeg_.RespCorrect.mean()\n",
        ")"
      ],
      "metadata": {
        "id": "378YPQp3zrf4",
        "outputId": "42876c0b-e6ec-4f9e-b714-071c36751fe0",
        "colab": {
          "base_uri": "https://localhost:8080/"
        }
      },
      "execution_count": 26,
      "outputs": [
        {
          "output_type": "stream",
          "name": "stdout",
          "text": [
            "Accuracy without \"No response\" trials 0.8199545011374716\n",
            "Accuracy with \"No response\" trials 0.7636198547215496\n"
          ]
        }
      ]
    },
    {
      "cell_type": "code",
      "source": [
        "print('Shape of the dataset with no response trials', ieeg_.shape)\n",
        "print('Shape of the dataset without no response trials', ieeg_[ieeg_['Resp'] != 'None'].shape)"
      ],
      "metadata": {
        "id": "WAFWEUaZ0DW5",
        "outputId": "cc145be0-bc47-489a-d93b-73633c794a98",
        "colab": {
          "base_uri": "https://localhost:8080/"
        }
      },
      "execution_count": 27,
      "outputs": [
        {
          "output_type": "stream",
          "name": "stdout",
          "text": [
            "Shape of the dataset with no response trials (3304, 11)\n",
            "Shape of the dataset without no response trials (3077, 11)\n"
          ]
        }
      ]
    },
    {
      "cell_type": "code",
      "source": [
        "checkset = ieeg_.groupby(['Subject'])[['RespCorrect']].apply(\n",
        "    lambda x: x.sum()/x.count()\n",
        ")\n",
        "checkset[checkset['RespCorrect'] < 0.70]"
      ],
      "metadata": {
        "id": "YtVAbP5xxa-i",
        "outputId": "6228c14e-4ad1-40fc-f7b8-197e1aef99bb",
        "colab": {
          "base_uri": "https://localhost:8080/",
          "height": 175
        }
      },
      "execution_count": 28,
      "outputs": [
        {
          "output_type": "execute_result",
          "data": {
            "text/plain": [
              "         RespCorrect\n",
              "Subject             \n",
              "D37         0.672619\n",
              "D41         0.428571\n",
              "D54         0.488095"
            ],
            "text/html": [
              "\n",
              "  <div id=\"df-ded1ac4f-9694-4a9b-aa8d-eae4c5d09d54\">\n",
              "    <div class=\"colab-df-container\">\n",
              "      <div>\n",
              "<style scoped>\n",
              "    .dataframe tbody tr th:only-of-type {\n",
              "        vertical-align: middle;\n",
              "    }\n",
              "\n",
              "    .dataframe tbody tr th {\n",
              "        vertical-align: top;\n",
              "    }\n",
              "\n",
              "    .dataframe thead th {\n",
              "        text-align: right;\n",
              "    }\n",
              "</style>\n",
              "<table border=\"1\" class=\"dataframe\">\n",
              "  <thead>\n",
              "    <tr style=\"text-align: right;\">\n",
              "      <th></th>\n",
              "      <th>RespCorrect</th>\n",
              "    </tr>\n",
              "    <tr>\n",
              "      <th>Subject</th>\n",
              "      <th></th>\n",
              "    </tr>\n",
              "  </thead>\n",
              "  <tbody>\n",
              "    <tr>\n",
              "      <th>D37</th>\n",
              "      <td>0.672619</td>\n",
              "    </tr>\n",
              "    <tr>\n",
              "      <th>D41</th>\n",
              "      <td>0.428571</td>\n",
              "    </tr>\n",
              "    <tr>\n",
              "      <th>D54</th>\n",
              "      <td>0.488095</td>\n",
              "    </tr>\n",
              "  </tbody>\n",
              "</table>\n",
              "</div>\n",
              "      <button class=\"colab-df-convert\" onclick=\"convertToInteractive('df-ded1ac4f-9694-4a9b-aa8d-eae4c5d09d54')\"\n",
              "              title=\"Convert this dataframe to an interactive table.\"\n",
              "              style=\"display:none;\">\n",
              "        \n",
              "  <svg xmlns=\"http://www.w3.org/2000/svg\" height=\"24px\"viewBox=\"0 0 24 24\"\n",
              "       width=\"24px\">\n",
              "    <path d=\"M0 0h24v24H0V0z\" fill=\"none\"/>\n",
              "    <path d=\"M18.56 5.44l.94 2.06.94-2.06 2.06-.94-2.06-.94-.94-2.06-.94 2.06-2.06.94zm-11 1L8.5 8.5l.94-2.06 2.06-.94-2.06-.94L8.5 2.5l-.94 2.06-2.06.94zm10 10l.94 2.06.94-2.06 2.06-.94-2.06-.94-.94-2.06-.94 2.06-2.06.94z\"/><path d=\"M17.41 7.96l-1.37-1.37c-.4-.4-.92-.59-1.43-.59-.52 0-1.04.2-1.43.59L10.3 9.45l-7.72 7.72c-.78.78-.78 2.05 0 2.83L4 21.41c.39.39.9.59 1.41.59.51 0 1.02-.2 1.41-.59l7.78-7.78 2.81-2.81c.8-.78.8-2.07 0-2.86zM5.41 20L4 18.59l7.72-7.72 1.47 1.35L5.41 20z\"/>\n",
              "  </svg>\n",
              "      </button>\n",
              "      \n",
              "  <style>\n",
              "    .colab-df-container {\n",
              "      display:flex;\n",
              "      flex-wrap:wrap;\n",
              "      gap: 12px;\n",
              "    }\n",
              "\n",
              "    .colab-df-convert {\n",
              "      background-color: #E8F0FE;\n",
              "      border: none;\n",
              "      border-radius: 50%;\n",
              "      cursor: pointer;\n",
              "      display: none;\n",
              "      fill: #1967D2;\n",
              "      height: 32px;\n",
              "      padding: 0 0 0 0;\n",
              "      width: 32px;\n",
              "    }\n",
              "\n",
              "    .colab-df-convert:hover {\n",
              "      background-color: #E2EBFA;\n",
              "      box-shadow: 0px 1px 2px rgba(60, 64, 67, 0.3), 0px 1px 3px 1px rgba(60, 64, 67, 0.15);\n",
              "      fill: #174EA6;\n",
              "    }\n",
              "\n",
              "    [theme=dark] .colab-df-convert {\n",
              "      background-color: #3B4455;\n",
              "      fill: #D2E3FC;\n",
              "    }\n",
              "\n",
              "    [theme=dark] .colab-df-convert:hover {\n",
              "      background-color: #434B5C;\n",
              "      box-shadow: 0px 1px 3px 1px rgba(0, 0, 0, 0.15);\n",
              "      filter: drop-shadow(0px 1px 2px rgba(0, 0, 0, 0.3));\n",
              "      fill: #FFFFFF;\n",
              "    }\n",
              "  </style>\n",
              "\n",
              "      <script>\n",
              "        const buttonEl =\n",
              "          document.querySelector('#df-ded1ac4f-9694-4a9b-aa8d-eae4c5d09d54 button.colab-df-convert');\n",
              "        buttonEl.style.display =\n",
              "          google.colab.kernel.accessAllowed ? 'block' : 'none';\n",
              "\n",
              "        async function convertToInteractive(key) {\n",
              "          const element = document.querySelector('#df-ded1ac4f-9694-4a9b-aa8d-eae4c5d09d54');\n",
              "          const dataTable =\n",
              "            await google.colab.kernel.invokeFunction('convertToInteractive',\n",
              "                                                     [key], {});\n",
              "          if (!dataTable) return;\n",
              "\n",
              "          const docLinkHtml = 'Like what you see? Visit the ' +\n",
              "            '<a target=\"_blank\" href=https://colab.research.google.com/notebooks/data_table.ipynb>data table notebook</a>'\n",
              "            + ' to learn more about interactive tables.';\n",
              "          element.innerHTML = '';\n",
              "          dataTable['output_type'] = 'display_data';\n",
              "          await google.colab.output.renderOutput(dataTable, element);\n",
              "          const docLink = document.createElement('div');\n",
              "          docLink.innerHTML = docLinkHtml;\n",
              "          element.appendChild(docLink);\n",
              "        }\n",
              "      </script>\n",
              "    </div>\n",
              "  </div>\n",
              "  "
            ]
          },
          "metadata": {},
          "execution_count": 28
        }
      ]
    },
    {
      "cell_type": "code",
      "source": [
        "ieeg_ = ieeg_[\n",
        "    (ieeg_['Subject'] != 'D37') &\n",
        "    (ieeg_['Subject'] != 'D41') &\n",
        "    (ieeg_['Subject'] != 'D54')    \n",
        "]"
      ],
      "metadata": {
        "id": "iq9IKUsW0vz6"
      },
      "execution_count": 29,
      "outputs": []
    },
    {
      "cell_type": "code",
      "source": [
        "print(\n",
        "    'Accuracy without \"No response\" trials',\n",
        "    ieeg_[ieeg_['Resp'] != 'None'].RespCorrect.mean()\n",
        ")\n",
        "print(\n",
        "    'Accuracy with \"No response\" trials',\n",
        "    ieeg_.RespCorrect.mean()\n",
        ")"
      ],
      "metadata": {
        "id": "OTIbwGY02iFs",
        "outputId": "54f3e4b8-4240-43fa-8967-994a33d88b25",
        "colab": {
          "base_uri": "https://localhost:8080/"
        }
      },
      "execution_count": 30,
      "outputs": [
        {
          "output_type": "stream",
          "name": "stdout",
          "text": [
            "Accuracy without \"No response\" trials 0.8371057513914657\n",
            "Accuracy with \"No response\" trials 0.8057142857142857\n"
          ]
        }
      ]
    },
    {
      "cell_type": "code",
      "source": [
        "sns.distplot(ieeg_[ieeg_['Resp'] != 'None'].ReactionTime)\n",
        "pl.title('RT distribution iEEG');\n",
        "print(\n",
        "    'Mean', ieeg_[ieeg_['Resp'] != 'None'].ReactionTime.mean(),\n",
        "    'Max', ieeg_[ieeg_['Resp'] != 'None'].ReactionTime.max(),\n",
        "    'Min', ieeg_[ieeg_['Resp'] != 'None'].ReactionTime.min()\n",
        ")"
      ],
      "metadata": {
        "id": "8w53A2DK0KRJ",
        "outputId": "3416ac39-40b1-4b6f-cfd8-05847c02b85f",
        "colab": {
          "base_uri": "https://localhost:8080/",
          "height": 373
        }
      },
      "execution_count": 31,
      "outputs": [
        {
          "output_type": "stream",
          "name": "stdout",
          "text": [
            "Mean 1.1499551733654916 Max 3.85388986 Min 0.28821655\n"
          ]
        },
        {
          "output_type": "stream",
          "name": "stderr",
          "text": [
            "/usr/local/lib/python3.7/dist-packages/seaborn/distributions.py:2619: FutureWarning: `distplot` is a deprecated function and will be removed in a future version. Please adapt your code to use either `displot` (a figure-level function with similar flexibility) or `histplot` (an axes-level function for histograms).\n",
            "  warnings.warn(msg, FutureWarning)\n"
          ]
        },
        {
          "output_type": "display_data",
          "data": {
            "text/plain": [
              "<Figure size 432x288 with 1 Axes>"
            ],
            "image/png": "[encoded data removed]"
          },
          "metadata": {}
        }
      ]
    },
    {
      "cell_type": "code",
      "source": [
        "ieeg_[(ieeg_['Resp'] != 'None') & (ieeg_['ReactionTime'] > 2.5)]"
      ],
      "metadata": {
        "id": "1gg6gxeN25Bd",
        "outputId": "2ca53044-07f8-48d2-cf52-f30bdeb76f80",
        "colab": {
          "base_uri": "https://localhost:8080/",
          "height": 300
        }
      },
      "execution_count": 32,
      "outputs": [
        {
          "output_type": "execute_result",
          "data": {
            "text/plain": [
              "    block  ReactionTime  KeyCode Resp  RespCorrect  stimulusSounds_idx  \\\n",
              "293     1      3.009802     37.0  Yes            1                  10   \n",
              "317     2      2.618975     39.0   No            1                  14   \n",
              "320     2      3.319305     39.0   No            0                   2   \n",
              "383     5      2.919165     37.0  Yes            0                  12   \n",
              "384     5      2.841524     37.0  Yes            1                   1   \n",
              "399     5      2.972747     37.0  Yes            1                   4   \n",
              "432     7      2.595327     37.0  Yes            0                  16   \n",
              "578     6      3.853890     39.0   No            0                   7   \n",
              "\n",
              "     ProbeCategory  probeSound_idx StimulusCategory  Trial Subject  \n",
              "293              1              10         nonwords     13     D30  \n",
              "317              0               2      environment     37     D30  \n",
              "320              1               9         nonwords     40     D30  \n",
              "383              0               2         nonwords    103     D30  \n",
              "384              1              10            words    104     D30  \n",
              "399              1               4         nonwords    119     D30  \n",
              "432              0               8            words    152     D30  \n",
              "578              1               9      environment    130     D31  "
            ],
            "text/html": [
              "\n",
              "  <div id=\"df-ad440d82-32ea-415b-9b1b-ad29f0f1aa13\">\n",
              "    <div class=\"colab-df-container\">\n",
              "      <div>\n",
              "<style scoped>\n",
              "    .dataframe tbody tr th:only-of-type {\n",
              "        vertical-align: middle;\n",
              "    }\n",
              "\n",
              "    .dataframe tbody tr th {\n",
              "        vertical-align: top;\n",
              "    }\n",
              "\n",
              "    .dataframe thead th {\n",
              "        text-align: right;\n",
              "    }\n",
              "</style>\n",
              "<table border=\"1\" class=\"dataframe\">\n",
              "  <thead>\n",
              "    <tr style=\"text-align: right;\">\n",
              "      <th></th>\n",
              "      <th>block</th>\n",
              "      <th>ReactionTime</th>\n",
              "      <th>KeyCode</th>\n",
              "      <th>Resp</th>\n",
              "      <th>RespCorrect</th>\n",
              "      <th>stimulusSounds_idx</th>\n",
              "      <th>ProbeCategory</th>\n",
              "      <th>probeSound_idx</th>\n",
              "      <th>StimulusCategory</th>\n",
              "      <th>Trial</th>\n",
              "      <th>Subject</th>\n",
              "    </tr>\n",
              "  </thead>\n",
              "  <tbody>\n",
              "    <tr>\n",
              "      <th>293</th>\n",
              "      <td>1</td>\n",
              "      <td>3.009802</td>\n",
              "      <td>37.0</td>\n",
              "      <td>Yes</td>\n",
              "      <td>1</td>\n",
              "      <td>10</td>\n",
              "      <td>1</td>\n",
              "      <td>10</td>\n",
              "      <td>nonwords</td>\n",
              "      <td>13</td>\n",
              "      <td>D30</td>\n",
              "    </tr>\n",
              "    <tr>\n",
              "      <th>317</th>\n",
              "      <td>2</td>\n",
              "      <td>2.618975</td>\n",
              "      <td>39.0</td>\n",
              "      <td>No</td>\n",
              "      <td>1</td>\n",
              "      <td>14</td>\n",
              "      <td>0</td>\n",
              "      <td>2</td>\n",
              "      <td>environment</td>\n",
              "      <td>37</td>\n",
              "      <td>D30</td>\n",
              "    </tr>\n",
              "    <tr>\n",
              "      <th>320</th>\n",
              "      <td>2</td>\n",
              "      <td>3.319305</td>\n",
              "      <td>39.0</td>\n",
              "      <td>No</td>\n",
              "      <td>0</td>\n",
              "      <td>2</td>\n",
              "      <td>1</td>\n",
              "      <td>9</td>\n",
              "      <td>nonwords</td>\n",
              "      <td>40</td>\n",
              "      <td>D30</td>\n",
              "    </tr>\n",
              "    <tr>\n",
              "      <th>383</th>\n",
              "      <td>5</td>\n",
              "      <td>2.919165</td>\n",
              "      <td>37.0</td>\n",
              "      <td>Yes</td>\n",
              "      <td>0</td>\n",
              "      <td>12</td>\n",
              "      <td>0</td>\n",
              "      <td>2</td>\n",
              "      <td>nonwords</td>\n",
              "      <td>103</td>\n",
              "      <td>D30</td>\n",
              "    </tr>\n",
              "    <tr>\n",
              "      <th>384</th>\n",
              "      <td>5</td>\n",
              "      <td>2.841524</td>\n",
              "      <td>37.0</td>\n",
              "      <td>Yes</td>\n",
              "      <td>1</td>\n",
              "      <td>1</td>\n",
              "      <td>1</td>\n",
              "      <td>10</td>\n",
              "      <td>words</td>\n",
              "      <td>104</td>\n",
              "      <td>D30</td>\n",
              "    </tr>\n",
              "    <tr>\n",
              "      <th>399</th>\n",
              "      <td>5</td>\n",
              "      <td>2.972747</td>\n",
              "      <td>37.0</td>\n",
              "      <td>Yes</td>\n",
              "      <td>1</td>\n",
              "      <td>4</td>\n",
              "      <td>1</td>\n",
              "      <td>4</td>\n",
              "      <td>nonwords</td>\n",
              "      <td>119</td>\n",
              "      <td>D30</td>\n",
              "    </tr>\n",
              "    <tr>\n",
              "      <th>432</th>\n",
              "      <td>7</td>\n",
              "      <td>2.595327</td>\n",
              "      <td>37.0</td>\n",
              "      <td>Yes</td>\n",
              "      <td>0</td>\n",
              "      <td>16</td>\n",
              "      <td>0</td>\n",
              "      <td>8</td>\n",
              "      <td>words</td>\n",
              "      <td>152</td>\n",
              "      <td>D30</td>\n",
              "    </tr>\n",
              "    <tr>\n",
              "      <th>578</th>\n",
              "      <td>6</td>\n",
              "      <td>3.853890</td>\n",
              "      <td>39.0</td>\n",
              "      <td>No</td>\n",
              "      <td>0</td>\n",
              "      <td>7</td>\n",
              "      <td>1</td>\n",
              "      <td>9</td>\n",
              "      <td>environment</td>\n",
              "      <td>130</td>\n",
              "      <td>D31</td>\n",
              "    </tr>\n",
              "  </tbody>\n",
              "</table>\n",
              "</div>\n",
              "      <button class=\"colab-df-convert\" onclick=\"convertToInteractive('df-ad440d82-32ea-415b-9b1b-ad29f0f1aa13')\"\n",
              "              title=\"Convert this dataframe to an interactive table.\"\n",
              "              style=\"display:none;\">\n",
              "        \n",
              "  <svg xmlns=\"http://www.w3.org/2000/svg\" height=\"24px\"viewBox=\"0 0 24 24\"\n",
              "       width=\"24px\">\n",
              "    <path d=\"M0 0h24v24H0V0z\" fill=\"none\"/>\n",
              "    <path d=\"M18.56 5.44l.94 2.06.94-2.06 2.06-.94-2.06-.94-.94-2.06-.94 2.06-2.06.94zm-11 1L8.5 8.5l.94-2.06 2.06-.94-2.06-.94L8.5 2.5l-.94 2.06-2.06.94zm10 10l.94 2.06.94-2.06 2.06-.94-2.06-.94-.94-2.06-.94 2.06-2.06.94z\"/><path d=\"M17.41 7.96l-1.37-1.37c-.4-.4-.92-.59-1.43-.59-.52 0-1.04.2-1.43.59L10.3 9.45l-7.72 7.72c-.78.78-.78 2.05 0 2.83L4 21.41c.39.39.9.59 1.41.59.51 0 1.02-.2 1.41-.59l7.78-7.78 2.81-2.81c.8-.78.8-2.07 0-2.86zM5.41 20L4 18.59l7.72-7.72 1.47 1.35L5.41 20z\"/>\n",
              "  </svg>\n",
              "      </button>\n",
              "      \n",
              "  <style>\n",
              "    .colab-df-container {\n",
              "      display:flex;\n",
              "      flex-wrap:wrap;\n",
              "      gap: 12px;\n",
              "    }\n",
              "\n",
              "    .colab-df-convert {\n",
              "      background-color: #E8F0FE;\n",
              "      border: none;\n",
              "      border-radius: 50%;\n",
              "      cursor: pointer;\n",
              "      display: none;\n",
              "      fill: #1967D2;\n",
              "      height: 32px;\n",
              "      padding: 0 0 0 0;\n",
              "      width: 32px;\n",
              "    }\n",
              "\n",
              "    .colab-df-convert:hover {\n",
              "      background-color: #E2EBFA;\n",
              "      box-shadow: 0px 1px 2px rgba(60, 64, 67, 0.3), 0px 1px 3px 1px rgba(60, 64, 67, 0.15);\n",
              "      fill: #174EA6;\n",
              "    }\n",
              "\n",
              "    [theme=dark] .colab-df-convert {\n",
              "      background-color: #3B4455;\n",
              "      fill: #D2E3FC;\n",
              "    }\n",
              "\n",
              "    [theme=dark] .colab-df-convert:hover {\n",
              "      background-color: #434B5C;\n",
              "      box-shadow: 0px 1px 3px 1px rgba(0, 0, 0, 0.15);\n",
              "      filter: drop-shadow(0px 1px 2px rgba(0, 0, 0, 0.3));\n",
              "      fill: #FFFFFF;\n",
              "    }\n",
              "  </style>\n",
              "\n",
              "      <script>\n",
              "        const buttonEl =\n",
              "          document.querySelector('#df-ad440d82-32ea-415b-9b1b-ad29f0f1aa13 button.colab-df-convert');\n",
              "        buttonEl.style.display =\n",
              "          google.colab.kernel.accessAllowed ? 'block' : 'none';\n",
              "\n",
              "        async function convertToInteractive(key) {\n",
              "          const element = document.querySelector('#df-ad440d82-32ea-415b-9b1b-ad29f0f1aa13');\n",
              "          const dataTable =\n",
              "            await google.colab.kernel.invokeFunction('convertToInteractive',\n",
              "                                                     [key], {});\n",
              "          if (!dataTable) return;\n",
              "\n",
              "          const docLinkHtml = 'Like what you see? Visit the ' +\n",
              "            '<a target=\"_blank\" href=https://colab.research.google.com/notebooks/data_table.ipynb>data table notebook</a>'\n",
              "            + ' to learn more about interactive tables.';\n",
              "          element.innerHTML = '';\n",
              "          dataTable['output_type'] = 'display_data';\n",
              "          await google.colab.output.renderOutput(dataTable, element);\n",
              "          const docLink = document.createElement('div');\n",
              "          docLink.innerHTML = docLinkHtml;\n",
              "          element.appendChild(docLink);\n",
              "        }\n",
              "      </script>\n",
              "    </div>\n",
              "  </div>\n",
              "  "
            ]
          },
          "metadata": {},
          "execution_count": 32
        }
      ]
    },
    {
      "cell_type": "markdown",
      "source": [
        "## EEG dataset"
      ],
      "metadata": {
        "id": "ZunKiHz-23cn"
      }
    },
    {
      "cell_type": "code",
      "source": [
        "eeg.columns"
      ],
      "metadata": {
        "id": "GMaiddES4M4e",
        "outputId": "037677c5-f908-47b5-b11d-0cd1f5d7ebc2",
        "colab": {
          "base_uri": "https://localhost:8080/"
        }
      },
      "execution_count": 70,
      "outputs": [
        {
          "output_type": "execute_result",
          "data": {
            "text/plain": [
              "Index(['Unnamed: 0', 'block', 'StimulusCategory', 'ReactionTime', 'KeyCode',\n",
              "       'Resp', 'RespCorrect', 'stimulusAudioStart', 'stimulusAlignedTrigger',\n",
              "       'probeAudioStart', 'probeAlignedTrigger', 'stimulusSounds_idx',\n",
              "       'stimulusSounds_name', 'ProbeCategory', 'probeSound_idx',\n",
              "       'probeSound_name', 'responseAlignedTrigger', 'trialOrder_All',\n",
              "       'ListenCueOnset', 'MaintenancePeriodOnset', 'ProbeCueOnset', 'Trial',\n",
              "       'Subject'],\n",
              "      dtype='object')"
            ]
          },
          "metadata": {},
          "execution_count": 70
        }
      ]
    },
    {
      "cell_type": "code",
      "source": [
        "eeg_ = eeg[[\n",
        "    'block', 'StimulusCategory', 'ReactionTime', 'KeyCode',\n",
        "       'Resp', 'RespCorrect', 'stimulusSounds_idx',\n",
        "       'ProbeCategory', 'probeSound_idx',\n",
        "       'Trial', 'Subject'\n",
        "]]"
      ],
      "metadata": {
        "id": "ui7BELqGMsc4"
      },
      "execution_count": 71,
      "outputs": []
    },
    {
      "cell_type": "code",
      "source": [
        "# getting rid of additional lists\n",
        "values = []\n",
        "col = eeg_.block.values\n",
        "for i in col:\n",
        "  values.append(int(i[1:-1]))\n",
        "eeg_['block'] = values"
      ],
      "metadata": {
        "id": "OGLHn5rBM97-",
        "outputId": "6ce6ddee-fce5-4106-a4fa-f7dfecb5dfc5",
        "colab": {
          "base_uri": "https://localhost:8080/"
        }
      },
      "execution_count": 72,
      "outputs": [
        {
          "output_type": "stream",
          "name": "stderr",
          "text": [
            "/usr/local/lib/python3.7/dist-packages/ipykernel_launcher.py:6: SettingWithCopyWarning: \n",
            "A value is trying to be set on a copy of a slice from a DataFrame.\n",
            "Try using .loc[row_indexer,col_indexer] = value instead\n",
            "\n",
            "See the caveats in the documentation: https://pandas.pydata.org/pandas-docs/stable/user_guide/indexing.html#returning-a-view-versus-a-copy\n",
            "  \n"
          ]
        }
      ]
    },
    {
      "cell_type": "code",
      "source": [
        "values = []\n",
        "col = eeg_.ReactionTime.values\n",
        "for i in col:\n",
        "  values.append(float(i[1:-1]))\n",
        "eeg_['ReactionTime'] = values"
      ],
      "metadata": {
        "id": "pJ8RnsBtNHs6",
        "outputId": "4bbb30d0-f4a8-4428-cdde-8adcf0201ebb",
        "colab": {
          "base_uri": "https://localhost:8080/"
        }
      },
      "execution_count": 73,
      "outputs": [
        {
          "output_type": "stream",
          "name": "stderr",
          "text": [
            "/usr/local/lib/python3.7/dist-packages/ipykernel_launcher.py:5: SettingWithCopyWarning: \n",
            "A value is trying to be set on a copy of a slice from a DataFrame.\n",
            "Try using .loc[row_indexer,col_indexer] = value instead\n",
            "\n",
            "See the caveats in the documentation: https://pandas.pydata.org/pandas-docs/stable/user_guide/indexing.html#returning-a-view-versus-a-copy\n",
            "  \"\"\"\n"
          ]
        }
      ]
    },
    {
      "cell_type": "code",
      "source": [
        "values = []\n",
        "col = eeg_.RespCorrect.values\n",
        "for i in col:\n",
        "  values.append(int(i[1:-1]))\n",
        "eeg_['RespCorrect'] = values"
      ],
      "metadata": {
        "id": "fZbNOYk1NILq",
        "outputId": "9b4e570c-dfe7-43d3-d4f0-fcf08e85c552",
        "colab": {
          "base_uri": "https://localhost:8080/"
        }
      },
      "execution_count": 74,
      "outputs": [
        {
          "output_type": "stream",
          "name": "stderr",
          "text": [
            "/usr/local/lib/python3.7/dist-packages/ipykernel_launcher.py:5: SettingWithCopyWarning: \n",
            "A value is trying to be set on a copy of a slice from a DataFrame.\n",
            "Try using .loc[row_indexer,col_indexer] = value instead\n",
            "\n",
            "See the caveats in the documentation: https://pandas.pydata.org/pandas-docs/stable/user_guide/indexing.html#returning-a-view-versus-a-copy\n",
            "  \"\"\"\n"
          ]
        }
      ]
    },
    {
      "cell_type": "code",
      "source": [
        "values = []\n",
        "col = eeg_.stimulusSounds_idx.values\n",
        "for i in col:\n",
        "  values.append(int(i[1:-1]))\n",
        "eeg_['stimulusSounds_idx'] = values"
      ],
      "metadata": {
        "id": "Wkf6DqpyNOz7",
        "outputId": "9c17728d-4440-4d07-e3ae-45735615d564",
        "colab": {
          "base_uri": "https://localhost:8080/"
        }
      },
      "execution_count": 75,
      "outputs": [
        {
          "output_type": "stream",
          "name": "stderr",
          "text": [
            "/usr/local/lib/python3.7/dist-packages/ipykernel_launcher.py:5: SettingWithCopyWarning: \n",
            "A value is trying to be set on a copy of a slice from a DataFrame.\n",
            "Try using .loc[row_indexer,col_indexer] = value instead\n",
            "\n",
            "See the caveats in the documentation: https://pandas.pydata.org/pandas-docs/stable/user_guide/indexing.html#returning-a-view-versus-a-copy\n",
            "  \"\"\"\n"
          ]
        }
      ]
    },
    {
      "cell_type": "code",
      "source": [
        "values = []\n",
        "col = eeg_.ProbeCategory.values\n",
        "for i in col:\n",
        "  values.append(int(i[1:-1]))\n",
        "eeg_['ProbeCategory'] = values"
      ],
      "metadata": {
        "id": "0qGueWLMNO4M",
        "outputId": "5aebf780-f464-4b3c-fb72-4fdea5dc4b3e",
        "colab": {
          "base_uri": "https://localhost:8080/"
        }
      },
      "execution_count": 76,
      "outputs": [
        {
          "output_type": "stream",
          "name": "stderr",
          "text": [
            "/usr/local/lib/python3.7/dist-packages/ipykernel_launcher.py:5: SettingWithCopyWarning: \n",
            "A value is trying to be set on a copy of a slice from a DataFrame.\n",
            "Try using .loc[row_indexer,col_indexer] = value instead\n",
            "\n",
            "See the caveats in the documentation: https://pandas.pydata.org/pandas-docs/stable/user_guide/indexing.html#returning-a-view-versus-a-copy\n",
            "  \"\"\"\n"
          ]
        }
      ]
    },
    {
      "cell_type": "code",
      "source": [
        "values = []\n",
        "col = eeg_.probeSound_idx.values\n",
        "for i in col:\n",
        "  values.append(int(i[1:-1]))\n",
        "eeg_['probeSound_idx'] = values"
      ],
      "metadata": {
        "id": "8PH0TJRqNUFZ",
        "outputId": "c92ea00c-92c1-44c1-efc1-a0996fdaa101",
        "colab": {
          "base_uri": "https://localhost:8080/"
        }
      },
      "execution_count": 77,
      "outputs": [
        {
          "output_type": "stream",
          "name": "stderr",
          "text": [
            "/usr/local/lib/python3.7/dist-packages/ipykernel_launcher.py:5: SettingWithCopyWarning: \n",
            "A value is trying to be set on a copy of a slice from a DataFrame.\n",
            "Try using .loc[row_indexer,col_indexer] = value instead\n",
            "\n",
            "See the caveats in the documentation: https://pandas.pydata.org/pandas-docs/stable/user_guide/indexing.html#returning-a-view-versus-a-copy\n",
            "  \"\"\"\n"
          ]
        }
      ]
    },
    {
      "cell_type": "markdown",
      "source": [
        "Preprocessing the data"
      ],
      "metadata": {
        "id": "g4gmNxzONqHZ"
      }
    },
    {
      "cell_type": "code",
      "source": [
        "print(\n",
        "    'Accuracy without \"No response\" trials',\n",
        "    eeg_[eeg_['Resp'] != 'None'].RespCorrect.mean()\n",
        ")\n",
        "print(\n",
        "    'Accuracy with \"No response\" trials',\n",
        "    eeg_.RespCorrect.mean()\n",
        ")"
      ],
      "metadata": {
        "id": "QwsFH4SANex1",
        "outputId": "9f94fb49-4939-4b33-fb4c-8c3eac7e7f34",
        "colab": {
          "base_uri": "https://localhost:8080/"
        }
      },
      "execution_count": 78,
      "outputs": [
        {
          "output_type": "stream",
          "name": "stdout",
          "text": [
            "Accuracy without \"No response\" trials 0.8842105263157894\n",
            "Accuracy with \"No response\" trials 0.8703208556149733\n"
          ]
        }
      ]
    },
    {
      "cell_type": "code",
      "source": [
        "print('Shape of the dataset with no response trials', eeg_.shape)\n",
        "print('Shape of the dataset without no response trials', eeg_[eeg_['Resp'] != 'None'].shape)"
      ],
      "metadata": {
        "id": "f87PgpwBNhMJ",
        "outputId": "eab33f4d-ae34-4bf4-b458-c2f05171eba9",
        "colab": {
          "base_uri": "https://localhost:8080/"
        }
      },
      "execution_count": 79,
      "outputs": [
        {
          "output_type": "stream",
          "name": "stdout",
          "text": [
            "Shape of the dataset with no response trials (2992, 11)\n",
            "Shape of the dataset without no response trials (2945, 11)\n"
          ]
        }
      ]
    },
    {
      "cell_type": "code",
      "source": [
        "eeg_[eeg_['Resp'] == 'None'].shape"
      ],
      "metadata": {
        "id": "HWkJlyHiNtMT",
        "outputId": "6db5129a-15c9-4c82-d9c9-a0dcf6cbe60a",
        "colab": {
          "base_uri": "https://localhost:8080/"
        }
      },
      "execution_count": 80,
      "outputs": [
        {
          "output_type": "execute_result",
          "data": {
            "text/plain": [
              "(47, 11)"
            ]
          },
          "metadata": {},
          "execution_count": 80
        }
      ]
    },
    {
      "cell_type": "code",
      "source": [
        "eeg_.head()"
      ],
      "metadata": {
        "id": "q84dRm9xPH9T",
        "outputId": "4b0bfd41-8cc6-40d2-a93f-6bdd4cf4f83b",
        "colab": {
          "base_uri": "https://localhost:8080/",
          "height": 206
        }
      },
      "execution_count": 81,
      "outputs": [
        {
          "output_type": "execute_result",
          "data": {
            "text/plain": [
              "   block StimulusCategory  ReactionTime KeyCode Resp  RespCorrect  \\\n",
              "0      1         nonwords      1.160933  3.Left   No            1   \n",
              "1      1      environment      0.962195  2.Left  Yes            1   \n",
              "2      1            words      0.847072  2.Left  Yes            1   \n",
              "3      1         nonwords      1.023422  2.Left  Yes            1   \n",
              "4      1         nonwords      1.607325  2.Left  Yes            1   \n",
              "\n",
              "   stimulusSounds_idx  ProbeCategory  probeSound_idx  Trial Subject  \n",
              "0                  58              0              72      0     E32  \n",
              "1                  23              1              23      1     E32  \n",
              "2                  31              1              31      2     E32  \n",
              "3                  62              1              67      3     E32  \n",
              "4                  56              1              68      4     E32  "
            ],
            "text/html": [
              "\n",
              "  <div id=\"df-1b53febf-98d3-4bd4-b39f-3d4ccb608e9d\">\n",
              "    <div class=\"colab-df-container\">\n",
              "      <div>\n",
              "<style scoped>\n",
              "    .dataframe tbody tr th:only-of-type {\n",
              "        vertical-align: middle;\n",
              "    }\n",
              "\n",
              "    .dataframe tbody tr th {\n",
              "        vertical-align: top;\n",
              "    }\n",
              "\n",
              "    .dataframe thead th {\n",
              "        text-align: right;\n",
              "    }\n",
              "</style>\n",
              "<table border=\"1\" class=\"dataframe\">\n",
              "  <thead>\n",
              "    <tr style=\"text-align: right;\">\n",
              "      <th></th>\n",
              "      <th>block</th>\n",
              "      <th>StimulusCategory</th>\n",
              "      <th>ReactionTime</th>\n",
              "      <th>KeyCode</th>\n",
              "      <th>Resp</th>\n",
              "      <th>RespCorrect</th>\n",
              "      <th>stimulusSounds_idx</th>\n",
              "      <th>ProbeCategory</th>\n",
              "      <th>probeSound_idx</th>\n",
              "      <th>Trial</th>\n",
              "      <th>Subject</th>\n",
              "    </tr>\n",
              "  </thead>\n",
              "  <tbody>\n",
              "    <tr>\n",
              "      <th>0</th>\n",
              "      <td>1</td>\n",
              "      <td>nonwords</td>\n",
              "      <td>1.160933</td>\n",
              "      <td>3.Left</td>\n",
              "      <td>No</td>\n",
              "      <td>1</td>\n",
              "      <td>58</td>\n",
              "      <td>0</td>\n",
              "      <td>72</td>\n",
              "      <td>0</td>\n",
              "      <td>E32</td>\n",
              "    </tr>\n",
              "    <tr>\n",
              "      <th>1</th>\n",
              "      <td>1</td>\n",
              "      <td>environment</td>\n",
              "      <td>0.962195</td>\n",
              "      <td>2.Left</td>\n",
              "      <td>Yes</td>\n",
              "      <td>1</td>\n",
              "      <td>23</td>\n",
              "      <td>1</td>\n",
              "      <td>23</td>\n",
              "      <td>1</td>\n",
              "      <td>E32</td>\n",
              "    </tr>\n",
              "    <tr>\n",
              "      <th>2</th>\n",
              "      <td>1</td>\n",
              "      <td>words</td>\n",
              "      <td>0.847072</td>\n",
              "      <td>2.Left</td>\n",
              "      <td>Yes</td>\n",
              "      <td>1</td>\n",
              "      <td>31</td>\n",
              "      <td>1</td>\n",
              "      <td>31</td>\n",
              "      <td>2</td>\n",
              "      <td>E32</td>\n",
              "    </tr>\n",
              "    <tr>\n",
              "      <th>3</th>\n",
              "      <td>1</td>\n",
              "      <td>nonwords</td>\n",
              "      <td>1.023422</td>\n",
              "      <td>2.Left</td>\n",
              "      <td>Yes</td>\n",
              "      <td>1</td>\n",
              "      <td>62</td>\n",
              "      <td>1</td>\n",
              "      <td>67</td>\n",
              "      <td>3</td>\n",
              "      <td>E32</td>\n",
              "    </tr>\n",
              "    <tr>\n",
              "      <th>4</th>\n",
              "      <td>1</td>\n",
              "      <td>nonwords</td>\n",
              "      <td>1.607325</td>\n",
              "      <td>2.Left</td>\n",
              "      <td>Yes</td>\n",
              "      <td>1</td>\n",
              "      <td>56</td>\n",
              "      <td>1</td>\n",
              "      <td>68</td>\n",
              "      <td>4</td>\n",
              "      <td>E32</td>\n",
              "    </tr>\n",
              "  </tbody>\n",
              "</table>\n",
              "</div>\n",
              "      <button class=\"colab-df-convert\" onclick=\"convertToInteractive('df-1b53febf-98d3-4bd4-b39f-3d4ccb608e9d')\"\n",
              "              title=\"Convert this dataframe to an interactive table.\"\n",
              "              style=\"display:none;\">\n",
              "        \n",
              "  <svg xmlns=\"http://www.w3.org/2000/svg\" height=\"24px\"viewBox=\"0 0 24 24\"\n",
              "       width=\"24px\">\n",
              "    <path d=\"M0 0h24v24H0V0z\" fill=\"none\"/>\n",
              "    <path d=\"M18.56 5.44l.94 2.06.94-2.06 2.06-.94-2.06-.94-.94-2.06-.94 2.06-2.06.94zm-11 1L8.5 8.5l.94-2.06 2.06-.94-2.06-.94L8.5 2.5l-.94 2.06-2.06.94zm10 10l.94 2.06.94-2.06 2.06-.94-2.06-.94-.94-2.06-.94 2.06-2.06.94z\"/><path d=\"M17.41 7.96l-1.37-1.37c-.4-.4-.92-.59-1.43-.59-.52 0-1.04.2-1.43.59L10.3 9.45l-7.72 7.72c-.78.78-.78 2.05 0 2.83L4 21.41c.39.39.9.59 1.41.59.51 0 1.02-.2 1.41-.59l7.78-7.78 2.81-2.81c.8-.78.8-2.07 0-2.86zM5.41 20L4 18.59l7.72-7.72 1.47 1.35L5.41 20z\"/>\n",
              "  </svg>\n",
              "      </button>\n",
              "      \n",
              "  <style>\n",
              "    .colab-df-container {\n",
              "      display:flex;\n",
              "      flex-wrap:wrap;\n",
              "      gap: 12px;\n",
              "    }\n",
              "\n",
              "    .colab-df-convert {\n",
              "      background-color: #E8F0FE;\n",
              "      border: none;\n",
              "      border-radius: 50%;\n",
              "      cursor: pointer;\n",
              "      display: none;\n",
              "      fill: #1967D2;\n",
              "      height: 32px;\n",
              "      padding: 0 0 0 0;\n",
              "      width: 32px;\n",
              "    }\n",
              "\n",
              "    .colab-df-convert:hover {\n",
              "      background-color: #E2EBFA;\n",
              "      box-shadow: 0px 1px 2px rgba(60, 64, 67, 0.3), 0px 1px 3px 1px rgba(60, 64, 67, 0.15);\n",
              "      fill: #174EA6;\n",
              "    }\n",
              "\n",
              "    [theme=dark] .colab-df-convert {\n",
              "      background-color: #3B4455;\n",
              "      fill: #D2E3FC;\n",
              "    }\n",
              "\n",
              "    [theme=dark] .colab-df-convert:hover {\n",
              "      background-color: #434B5C;\n",
              "      box-shadow: 0px 1px 3px 1px rgba(0, 0, 0, 0.15);\n",
              "      filter: drop-shadow(0px 1px 2px rgba(0, 0, 0, 0.3));\n",
              "      fill: #FFFFFF;\n",
              "    }\n",
              "  </style>\n",
              "\n",
              "      <script>\n",
              "        const buttonEl =\n",
              "          document.querySelector('#df-1b53febf-98d3-4bd4-b39f-3d4ccb608e9d button.colab-df-convert');\n",
              "        buttonEl.style.display =\n",
              "          google.colab.kernel.accessAllowed ? 'block' : 'none';\n",
              "\n",
              "        async function convertToInteractive(key) {\n",
              "          const element = document.querySelector('#df-1b53febf-98d3-4bd4-b39f-3d4ccb608e9d');\n",
              "          const dataTable =\n",
              "            await google.colab.kernel.invokeFunction('convertToInteractive',\n",
              "                                                     [key], {});\n",
              "          if (!dataTable) return;\n",
              "\n",
              "          const docLinkHtml = 'Like what you see? Visit the ' +\n",
              "            '<a target=\"_blank\" href=https://colab.research.google.com/notebooks/data_table.ipynb>data table notebook</a>'\n",
              "            + ' to learn more about interactive tables.';\n",
              "          element.innerHTML = '';\n",
              "          dataTable['output_type'] = 'display_data';\n",
              "          await google.colab.output.renderOutput(dataTable, element);\n",
              "          const docLink = document.createElement('div');\n",
              "          docLink.innerHTML = docLinkHtml;\n",
              "          element.appendChild(docLink);\n",
              "        }\n",
              "      </script>\n",
              "    </div>\n",
              "  </div>\n",
              "  "
            ]
          },
          "metadata": {},
          "execution_count": 81
        }
      ]
    },
    {
      "cell_type": "code",
      "source": [
        "sns.distplot(eeg_[eeg_['Resp'] == 'None']['ReactionTime'])\n",
        "pl.title('Distribution of None trial in iEEG dataset');"
      ],
      "metadata": {
        "id": "x4D9SB2bNevb",
        "outputId": "1723108a-5372-4d71-e051-5dcaf539d334",
        "colab": {
          "base_uri": "https://localhost:8080/",
          "height": 356
        }
      },
      "execution_count": 82,
      "outputs": [
        {
          "output_type": "stream",
          "name": "stderr",
          "text": [
            "/usr/local/lib/python3.7/dist-packages/seaborn/distributions.py:2619: FutureWarning: `distplot` is a deprecated function and will be removed in a future version. Please adapt your code to use either `displot` (a figure-level function with similar flexibility) or `histplot` (an axes-level function for histograms).\n",
            "  warnings.warn(msg, FutureWarning)\n"
          ]
        },
        {
          "output_type": "display_data",
          "data": {
            "text/plain": [
              "<Figure size 432x288 with 1 Axes>"
            ],
            "image/png": "[encoded data removed]"
          },
          "metadata": {}
        }
      ]
    },
    {
      "cell_type": "code",
      "source": [
        "checkset = eeg_.groupby(['Subject'])[['RespCorrect']].apply(\n",
        "    lambda x: x.sum()/x.count()\n",
        ")\n",
        "checkset[checkset['RespCorrect'] < 0.70]"
      ],
      "metadata": {
        "id": "JMkogzKsNja0",
        "outputId": "8d5726a9-d3b7-4856-e8a0-416daa4a8c79",
        "colab": {
          "base_uri": "https://localhost:8080/",
          "height": 81
        }
      },
      "execution_count": 83,
      "outputs": [
        {
          "output_type": "execute_result",
          "data": {
            "text/plain": [
              "Empty DataFrame\n",
              "Columns: [RespCorrect]\n",
              "Index: []"
            ],
            "text/html": [
              "\n",
              "  <div id=\"df-e9052bab-474d-47ea-9a60-fa57b6d4f81d\">\n",
              "    <div class=\"colab-df-container\">\n",
              "      <div>\n",
              "<style scoped>\n",
              "    .dataframe tbody tr th:only-of-type {\n",
              "        vertical-align: middle;\n",
              "    }\n",
              "\n",
              "    .dataframe tbody tr th {\n",
              "        vertical-align: top;\n",
              "    }\n",
              "\n",
              "    .dataframe thead th {\n",
              "        text-align: right;\n",
              "    }\n",
              "</style>\n",
              "<table border=\"1\" class=\"dataframe\">\n",
              "  <thead>\n",
              "    <tr style=\"text-align: right;\">\n",
              "      <th></th>\n",
              "      <th>RespCorrect</th>\n",
              "    </tr>\n",
              "    <tr>\n",
              "      <th>Subject</th>\n",
              "      <th></th>\n",
              "    </tr>\n",
              "  </thead>\n",
              "  <tbody>\n",
              "  </tbody>\n",
              "</table>\n",
              "</div>\n",
              "      <button class=\"colab-df-convert\" onclick=\"convertToInteractive('df-e9052bab-474d-47ea-9a60-fa57b6d4f81d')\"\n",
              "              title=\"Convert this dataframe to an interactive table.\"\n",
              "              style=\"display:none;\">\n",
              "        \n",
              "  <svg xmlns=\"http://www.w3.org/2000/svg\" height=\"24px\"viewBox=\"0 0 24 24\"\n",
              "       width=\"24px\">\n",
              "    <path d=\"M0 0h24v24H0V0z\" fill=\"none\"/>\n",
              "    <path d=\"M18.56 5.44l.94 2.06.94-2.06 2.06-.94-2.06-.94-.94-2.06-.94 2.06-2.06.94zm-11 1L8.5 8.5l.94-2.06 2.06-.94-2.06-.94L8.5 2.5l-.94 2.06-2.06.94zm10 10l.94 2.06.94-2.06 2.06-.94-2.06-.94-.94-2.06-.94 2.06-2.06.94z\"/><path d=\"M17.41 7.96l-1.37-1.37c-.4-.4-.92-.59-1.43-.59-.52 0-1.04.2-1.43.59L10.3 9.45l-7.72 7.72c-.78.78-.78 2.05 0 2.83L4 21.41c.39.39.9.59 1.41.59.51 0 1.02-.2 1.41-.59l7.78-7.78 2.81-2.81c.8-.78.8-2.07 0-2.86zM5.41 20L4 18.59l7.72-7.72 1.47 1.35L5.41 20z\"/>\n",
              "  </svg>\n",
              "      </button>\n",
              "      \n",
              "  <style>\n",
              "    .colab-df-container {\n",
              "      display:flex;\n",
              "      flex-wrap:wrap;\n",
              "      gap: 12px;\n",
              "    }\n",
              "\n",
              "    .colab-df-convert {\n",
              "      background-color: #E8F0FE;\n",
              "      border: none;\n",
              "      border-radius: 50%;\n",
              "      cursor: pointer;\n",
              "      display: none;\n",
              "      fill: #1967D2;\n",
              "      height: 32px;\n",
              "      padding: 0 0 0 0;\n",
              "      width: 32px;\n",
              "    }\n",
              "\n",
              "    .colab-df-convert:hover {\n",
              "      background-color: #E2EBFA;\n",
              "      box-shadow: 0px 1px 2px rgba(60, 64, 67, 0.3), 0px 1px 3px 1px rgba(60, 64, 67, 0.15);\n",
              "      fill: #174EA6;\n",
              "    }\n",
              "\n",
              "    [theme=dark] .colab-df-convert {\n",
              "      background-color: #3B4455;\n",
              "      fill: #D2E3FC;\n",
              "    }\n",
              "\n",
              "    [theme=dark] .colab-df-convert:hover {\n",
              "      background-color: #434B5C;\n",
              "      box-shadow: 0px 1px 3px 1px rgba(0, 0, 0, 0.15);\n",
              "      filter: drop-shadow(0px 1px 2px rgba(0, 0, 0, 0.3));\n",
              "      fill: #FFFFFF;\n",
              "    }\n",
              "  </style>\n",
              "\n",
              "      <script>\n",
              "        const buttonEl =\n",
              "          document.querySelector('#df-e9052bab-474d-47ea-9a60-fa57b6d4f81d button.colab-df-convert');\n",
              "        buttonEl.style.display =\n",
              "          google.colab.kernel.accessAllowed ? 'block' : 'none';\n",
              "\n",
              "        async function convertToInteractive(key) {\n",
              "          const element = document.querySelector('#df-e9052bab-474d-47ea-9a60-fa57b6d4f81d');\n",
              "          const dataTable =\n",
              "            await google.colab.kernel.invokeFunction('convertToInteractive',\n",
              "                                                     [key], {});\n",
              "          if (!dataTable) return;\n",
              "\n",
              "          const docLinkHtml = 'Like what you see? Visit the ' +\n",
              "            '<a target=\"_blank\" href=https://colab.research.google.com/notebooks/data_table.ipynb>data table notebook</a>'\n",
              "            + ' to learn more about interactive tables.';\n",
              "          element.innerHTML = '';\n",
              "          dataTable['output_type'] = 'display_data';\n",
              "          await google.colab.output.renderOutput(dataTable, element);\n",
              "          const docLink = document.createElement('div');\n",
              "          docLink.innerHTML = docLinkHtml;\n",
              "          element.appendChild(docLink);\n",
              "        }\n",
              "      </script>\n",
              "    </div>\n",
              "  </div>\n",
              "  "
            ]
          },
          "metadata": {},
          "execution_count": 83
        }
      ]
    },
    {
      "cell_type": "code",
      "source": [
        "sns.distplot(eeg_[eeg_['Resp'] != 'None'].ReactionTime)\n",
        "pl.title('RT distribution iEEG');\n",
        "print(\n",
        "    'Mean', eeg_[eeg_['Resp'] != 'None'].ReactionTime.mean(),\n",
        "    'Max', eeg_[eeg_['Resp'] != 'None'].ReactionTime.max(),\n",
        "    'Min', eeg_[eeg_['Resp'] != 'None'].ReactionTime.min()\n",
        ")"
      ],
      "metadata": {
        "id": "tWxg8K0tNojc",
        "outputId": "41d84f01-63ef-4576-c01a-0bcca21ae697",
        "colab": {
          "base_uri": "https://localhost:8080/",
          "height": 373
        }
      },
      "execution_count": 85,
      "outputs": [
        {
          "output_type": "stream",
          "name": "stderr",
          "text": [
            "/usr/local/lib/python3.7/dist-packages/seaborn/distributions.py:2619: FutureWarning: `distplot` is a deprecated function and will be removed in a future version. Please adapt your code to use either `displot` (a figure-level function with similar flexibility) or `histplot` (an axes-level function for histograms).\n",
            "  warnings.warn(msg, FutureWarning)\n"
          ]
        },
        {
          "output_type": "stream",
          "name": "stdout",
          "text": [
            "Mean 0.9929041114329372 Max 2.44919808 Min 0.39225969\n"
          ]
        },
        {
          "output_type": "display_data",
          "data": {
            "text/plain": [
              "<Figure size 432x288 with 1 Axes>"
            ],
            "image/png": "[encoded data removed]"
          },
          "metadata": {}
        }
      ]
    },
    {
      "cell_type": "markdown",
      "source": [
        "## Accuracy plots. EEG"
      ],
      "metadata": {
        "id": "d4Cae6O3Qf1i"
      }
    },
    {
      "cell_type": "code",
      "source": [
        "sns.barplot(x='StimulusCategory', y='RespCorrect', data = eeg_)\n",
        "pl.title('The effect of stim category on accuracy');\n",
        "print('NW vs W')\n",
        "x, y = eeg_[eeg_['StimulusCategory'] == 'nonwords']['RespCorrect'], eeg_[eeg_['StimulusCategory'] == 'words']['RespCorrect']\n",
        "print(ttest(x,y))\n",
        "print('NW vs Environment')\n",
        "x, y = eeg_[eeg_['StimulusCategory'] == 'nonwords']['RespCorrect'], eeg_[eeg_['StimulusCategory'] == 'environment']['RespCorrect']\n",
        "print(ttest(x,y))\n",
        "print('W vs Environment')\n",
        "x, y = eeg_[eeg_['StimulusCategory'] == 'environment']['RespCorrect'], eeg_[eeg_['StimulusCategory'] == 'words']['RespCorrect']\n",
        "print(ttest(x,y))"
      ],
      "metadata": {
        "id": "IxMl81L5Qs2p",
        "outputId": "817bc273-6fbd-4dfd-b22e-2f42575531b8",
        "colab": {
          "base_uri": "https://localhost:8080/",
          "height": 405
        }
      },
      "execution_count": 94,
      "outputs": [
        {
          "output_type": "stream",
          "name": "stdout",
          "text": [
            "NW vs W\n",
            "Ttest_indResult(statistic=-0.4284474906807684, pvalue=0.6683716818900234)\n",
            "NW vs Environment\n",
            "Ttest_indResult(statistic=0.2554350291355636, pvalue=0.798413506113592)\n",
            "W vs Environment\n",
            "Ttest_indResult(statistic=-0.6841461130546627, pvalue=0.4939625083085617)\n"
          ]
        },
        {
          "output_type": "display_data",
          "data": {
            "text/plain": [
              "<Figure size 432x288 with 1 Axes>"
            ],
            "image/png": "[encoded data removed]"
          },
          "metadata": {
            "needs_background": "light"
          }
        }
      ]
    },
    {
      "cell_type": "code",
      "source": [
        "sns.barplot(x='ProbeCategory', y='RespCorrect', data = eeg_)\n",
        "pl.title('The effect of probe category on accuracy');\n",
        "print('0 vs 1')\n",
        "x, y = eeg_[eeg_['ProbeCategory'] == 0]['RespCorrect'], eeg_[eeg_['ProbeCategory'] == 1]['RespCorrect']\n",
        "print(ttest(x,y))"
      ],
      "metadata": {
        "id": "3Tbp8fotT85G",
        "outputId": "25316691-7ed3-4a15-c935-f4dbc67e600d",
        "colab": {
          "base_uri": "https://localhost:8080/",
          "height": 336
        }
      },
      "execution_count": 101,
      "outputs": [
        {
          "output_type": "stream",
          "name": "stdout",
          "text": [
            "0 vs 1\n",
            "Ttest_indResult(statistic=-3.255935675875266, pvalue=0.0011430205875872846)\n"
          ]
        },
        {
          "output_type": "display_data",
          "data": {
            "text/plain": [
              "<Figure size 432x288 with 1 Axes>"
            ],
            "image/png": "[encoded data removed]"
          },
          "metadata": {
            "needs_background": "light"
          }
        }
      ]
    },
    {
      "cell_type": "code",
      "source": [
        "eeg_no_nones = eeg_[eeg_['Resp'] != 'None']\n",
        "sns.barplot(x='StimulusCategory', y='ReactionTime', data = eeg_no_nones)\n",
        "pl.title('The effect of stim category on RT');\n",
        "print('NW vs W')\n",
        "x, y = eeg_no_nones[eeg_no_nones['StimulusCategory'] == 'nonwords']['ReactionTime'], eeg_no_nones[eeg_no_nones['StimulusCategory'] == 'words']['ReactionTime']\n",
        "print(ttest(x,y))\n",
        "print('NW vs Environment')\n",
        "x, y = eeg_no_nones[eeg_no_nones['StimulusCategory'] == 'nonwords']['ReactionTime'], eeg_no_nones[eeg_no_nones['StimulusCategory'] == 'environment']['ReactionTime']\n",
        "print(ttest(x,y))\n",
        "print('W vs Environment')\n",
        "x, y = eeg_no_nones[eeg_no_nones['StimulusCategory'] == 'environment']['ReactionTime'], eeg_no_nones[eeg_no_nones['StimulusCategory'] == 'words']['ReactionTime']\n",
        "print(ttest(x,y))"
      ],
      "metadata": {
        "id": "9nUIfMpnRt2H",
        "outputId": "aeb586e1-54ef-432e-cb8e-c7721b20918e",
        "colab": {
          "base_uri": "https://localhost:8080/",
          "height": 405
        }
      },
      "execution_count": 95,
      "outputs": [
        {
          "output_type": "stream",
          "name": "stdout",
          "text": [
            "NW vs W\n",
            "Ttest_indResult(statistic=1.4175576266968544, pvalue=0.1564786424891116)\n",
            "NW vs Environment\n",
            "Ttest_indResult(statistic=0.6911049314570566, pvalue=0.48958161573610814)\n",
            "W vs Environment\n",
            "Ttest_indResult(statistic=0.70557677153618, pvalue=0.48053567710421374)\n"
          ]
        },
        {
          "output_type": "display_data",
          "data": {
            "text/plain": [
              "<Figure size 432x288 with 1 Axes>"
            ],
            "image/png": "[encoded data removed]"
          },
          "metadata": {
            "needs_background": "light"
          }
        }
      ]
    },
    {
      "cell_type": "code",
      "source": [
        "sns.barplot(x='ProbeCategory', y='ReactionTime', data = eeg_no_nones)\n",
        "pl.title('The effect of probe category on RT');\n",
        "print('0 vs 1')\n",
        "x, y = eeg_no_nones[eeg_no_nones['ProbeCategory'] == 0]['ReactionTime'], eeg_no_nones[eeg_no_nones['ProbeCategory'] == 1]['ReactionTime']\n",
        "print(ttest(x,y))"
      ],
      "metadata": {
        "id": "qPJcHpBgUPmI",
        "outputId": "211b10b0-9379-4b0a-beb6-c5906be9d44b",
        "colab": {
          "base_uri": "https://localhost:8080/",
          "height": 336
        }
      },
      "execution_count": 106,
      "outputs": [
        {
          "output_type": "stream",
          "name": "stdout",
          "text": [
            "0 vs 1\n",
            "Ttest_indResult(statistic=5.467147264673293, pvalue=4.9621422878254886e-08)\n"
          ]
        },
        {
          "output_type": "display_data",
          "data": {
            "text/plain": [
              "<Figure size 432x288 with 1 Axes>"
            ],
            "image/png": "[encoded data removed]"
          },
          "metadata": {
            "needs_background": "light"
          }
        }
      ]
    },
    {
      "cell_type": "code",
      "source": [
        "sns.barplot(x='StimulusCategory', y='RespCorrect', hue='ProbeCategory', data = eeg_)\n",
        "pl.title('The interaction b/w probe and stimulus category Accuracy');"
      ],
      "metadata": {
        "id": "x5VVbyuhUPxF",
        "outputId": "e30f23a7-7251-4f12-9e6c-16c2e2343913",
        "colab": {
          "base_uri": "https://localhost:8080/",
          "height": 301
        }
      },
      "execution_count": 104,
      "outputs": [
        {
          "output_type": "display_data",
          "data": {
            "text/plain": [
              "<Figure size 432x288 with 1 Axes>"
            ],
            "image/png": "[encoded data removed]"
          },
          "metadata": {
            "needs_background": "light"
          }
        }
      ]
    },
    {
      "cell_type": "code",
      "source": [
        "print('0 vs 1')\n",
        "print('Nonwords')\n",
        "subset = eeg_[eeg_['StimulusCategory'] == 'nonwords']\n",
        "x, y = subset[subset['ProbeCategory'] == 0][['RespCorrect']], subset[subset['ProbeCategory'] == 1][['RespCorrect']]\n",
        "print(ttest(x,y))\n",
        "print('Environment')\n",
        "subset = eeg_[eeg_['StimulusCategory'] == 'environment']\n",
        "x, y = subset[subset['ProbeCategory'] == 0][['RespCorrect']], subset[subset['ProbeCategory'] == 1][['RespCorrect']]\n",
        "print(ttest(x,y))\n",
        "print('Words')\n",
        "subset = eeg_[eeg_['StimulusCategory'] == 'words']\n",
        "x, y = subset[subset['ProbeCategory'] == 0][['RespCorrect']], subset[subset['ProbeCategory'] == 1][['RespCorrect']]\n",
        "print(ttest(x,y))\n",
        "print('')\n",
        "print('NW vs W vs E')\n",
        "print('ProbeType 0')\n",
        "subset = eeg_[eeg_['ProbeCategory'] == 0]\n",
        "x, y = subset[subset['StimulusCategory'] == 'words'][['RespCorrect']], subset[subset['StimulusCategory'] == 'nonwords'][['RespCorrect']]\n",
        "print('W vs NW', ttest(x,y))\n",
        "x, y = subset[subset['StimulusCategory'] == 'words'][['RespCorrect']], subset[subset['StimulusCategory'] == 'environment'][['RespCorrect']]\n",
        "print('W vs E', ttest(x,y))\n",
        "x, y = subset[subset['StimulusCategory'] == 'environment'][['RespCorrect']], subset[subset['StimulusCategory'] == 'nonwords'][['RespCorrect']]\n",
        "print('NW vs E', ttest(x,y))\n",
        "\n",
        "print('ProbeType 1')\n",
        "subset = eeg_[eeg_['ProbeCategory'] == 1]\n",
        "x, y = subset[subset['StimulusCategory'] == 'words'][['RespCorrect']], subset[subset['StimulusCategory'] == 'nonwords'][['RespCorrect']]\n",
        "print('W vs NW', ttest(x,y))\n",
        "x, y = subset[subset['StimulusCategory'] == 'words'][['RespCorrect']], subset[subset['StimulusCategory'] == 'environment'][['RespCorrect']]\n",
        "print('W vs E', ttest(x,y))\n",
        "x, y = subset[subset['StimulusCategory'] == 'environment'][['RespCorrect']], subset[subset['StimulusCategory'] == 'nonwords'][['RespCorrect']]\n",
        "print('NW vs E', ttest(x,y))"
      ],
      "metadata": {
        "id": "_srhikZfUjOf",
        "outputId": "3eb59af9-7043-4970-b7ab-c889d5d32af2",
        "colab": {
          "base_uri": "https://localhost:8080/"
        }
      },
      "execution_count": 105,
      "outputs": [
        {
          "output_type": "stream",
          "name": "stdout",
          "text": [
            "0 vs 1\n",
            "Nonwords\n",
            "Ttest_indResult(statistic=array([-1.66955544]), pvalue=array([0.09532619]))\n",
            "Environment\n",
            "Ttest_indResult(statistic=array([-0.72983297]), pvalue=array([0.46566446]))\n",
            "Words\n",
            "Ttest_indResult(statistic=array([-3.28801405]), pvalue=array([0.00104629]))\n",
            "\n",
            "NW vs W vs E\n",
            "ProbeType 0\n",
            "W vs NW Ttest_indResult(statistic=array([-0.43890204]), pvalue=array([0.66082771]))\n",
            "W vs E Ttest_indResult(statistic=array([-0.70808498]), pvalue=array([0.47905815]))\n",
            "NW vs E Ttest_indResult(statistic=array([0.26922055]), pvalue=array([0.78781573]))\n",
            "ProbeType 1\n",
            "W vs NW Ttest_indResult(statistic=array([1.18578064]), pvalue=array([0.23599518]))\n",
            "W vs E Ttest_indResult(statistic=array([1.85698522]), pvalue=array([0.06361519]))\n",
            "NW vs E Ttest_indResult(statistic=array([-0.67171276]), pvalue=array([0.50192317]))\n"
          ]
        }
      ]
    },
    {
      "cell_type": "code",
      "source": [
        "sns.barplot(x='StimulusCategory', y='ReactionTime', hue='ProbeCategory', data = eeg_no_nones)\n",
        "pl.title('The interaction b/w probe and stimulus category RT');"
      ],
      "metadata": {
        "id": "OukcPbRTVj8o",
        "outputId": "e7dd1de1-b588-4906-c0ff-bb6c270d6448",
        "colab": {
          "base_uri": "https://localhost:8080/",
          "height": 301
        }
      },
      "execution_count": 107,
      "outputs": [
        {
          "output_type": "display_data",
          "data": {
            "text/plain": [
              "<Figure size 432x288 with 1 Axes>"
            ],
            "image/png": "[encoded data removed]"
          },
          "metadata": {
            "needs_background": "light"
          }
        }
      ]
    },
    {
      "cell_type": "code",
      "source": [
        "print('0 vs 1')\n",
        "print('Nonwords')\n",
        "subset = eeg_no_nones[eeg_no_nones['StimulusCategory'] == 'nonwords']\n",
        "x, y = subset[subset['ProbeCategory'] == 0][['ReactionTime']], subset[subset['ProbeCategory'] == 1][['ReactionTime']]\n",
        "print(ttest(x,y))\n",
        "print('Environment')\n",
        "subset = eeg_no_nones[eeg_no_nones['StimulusCategory'] == 'environment']\n",
        "x, y = subset[subset['ProbeCategory'] == 0][['ReactionTime']], subset[subset['ProbeCategory'] == 1][['ReactionTime']]\n",
        "print(ttest(x,y))\n",
        "print('Words')\n",
        "subset = eeg_[eeg_['StimulusCategory'] == 'words']\n",
        "x, y = subset[subset['ProbeCategory'] == 0][['ReactionTime']], subset[subset['ProbeCategory'] == 1][['ReactionTime']]\n",
        "print(ttest(x,y))\n",
        "print('')\n",
        "print('NW vs W vs E')\n",
        "print('ProbeType 0')\n",
        "subset = eeg_no_nones[eeg_no_nones['ProbeCategory'] == 0]\n",
        "x, y = subset[subset['StimulusCategory'] == 'words'][['ReactionTime']], subset[subset['StimulusCategory'] == 'nonwords'][['ReactionTime']]\n",
        "print('W vs NW', ttest(x,y))\n",
        "x, y = subset[subset['StimulusCategory'] == 'words'][['ReactionTime']], subset[subset['StimulusCategory'] == 'environment'][['ReactionTime']]\n",
        "print('W vs E', ttest(x,y))\n",
        "x, y = subset[subset['StimulusCategory'] == 'environment'][['ReactionTime']], subset[subset['StimulusCategory'] == 'nonwords'][['ReactionTime']]\n",
        "print('NW vs E', ttest(x,y))\n",
        "\n",
        "print('ProbeType 1')\n",
        "subset = eeg_no_nones[eeg_no_nones['ProbeCategory'] == 1]\n",
        "x, y = subset[subset['StimulusCategory'] == 'words'][['ReactionTime']], subset[subset['StimulusCategory'] == 'nonwords'][['ReactionTime']]\n",
        "print('W vs NW', ttest(x,y))\n",
        "x, y = subset[subset['StimulusCategory'] == 'words'][['ReactionTime']], subset[subset['StimulusCategory'] == 'environment'][['ReactionTime']]\n",
        "print('W vs E', ttest(x,y))\n",
        "x, y = subset[subset['StimulusCategory'] == 'environment'][['ReactionTime']], subset[subset['StimulusCategory'] == 'nonwords'][['ReactionTime']]\n",
        "print('NW vs E', ttest(x,y))"
      ],
      "metadata": {
        "id": "HkFw0rD_VkEf"
      },
      "execution_count": null,
      "outputs": []
    },
    {
      "cell_type": "markdown",
      "source": [
        "## Accuracy plots. iEEG"
      ],
      "metadata": {
        "id": "wkJoKUSEQj1R"
      }
    },
    {
      "cell_type": "code",
      "source": [
        "sns.barplot(x='StimulusCategory', y='RespCorrect', data = ieeg_)\n",
        "pl.title('The effect of stim category on accuracy');\n",
        "print('NW vs W')\n",
        "x, y = ieeg_[ieeg_['StimulusCategory'] == 'nonwords']['RespCorrect'], ieeg_[ieeg_['StimulusCategory'] == 'words']['RespCorrect']\n",
        "print(ttest(x,y))\n",
        "print('NW vs Environment')\n",
        "x, y = ieeg_[ieeg_['StimulusCategory'] == 'nonwords']['RespCorrect'], ieeg_[ieeg_['StimulusCategory'] == 'environment']['RespCorrect']\n",
        "print(ttest(x,y))\n",
        "print('W vs Environment')\n",
        "x, y = ieeg_[ieeg_['StimulusCategory'] == 'environment']['RespCorrect'], ieeg_[ieeg_['StimulusCategory'] == 'words']['RespCorrect']\n",
        "print(ttest(x,y))"
      ],
      "metadata": {
        "id": "LGTKoYyfShad",
        "outputId": "0e08ecd5-a6d7-431b-8f2b-2db87045e3a9",
        "colab": {
          "base_uri": "https://localhost:8080/",
          "height": 405
        }
      },
      "execution_count": 108,
      "outputs": [
        {
          "output_type": "stream",
          "name": "stdout",
          "text": [
            "NW vs W\n",
            "Ttest_indResult(statistic=-1.33276703600682, pvalue=0.18277195121259818)\n",
            "NW vs Environment\n",
            "Ttest_indResult(statistic=1.9547055849256902, pvalue=0.05076665380139636)\n",
            "W vs Environment\n",
            "Ttest_indResult(statistic=-3.281640271071744, pvalue=0.0010513284448771408)\n"
          ]
        },
        {
          "output_type": "display_data",
          "data": {
            "text/plain": [
              "<Figure size 432x288 with 1 Axes>"
            ],
            "image/png": "[encoded data removed]"
          },
          "metadata": {
            "needs_background": "light"
          }
        }
      ]
    },
    {
      "cell_type": "code",
      "source": [
        "ieeg_no_nones = ieeg_[ieeg_['Resp'] != 'None']\n",
        "sns.barplot(x='StimulusCategory', y='ReactionTime', data = ieeg_no_nones)\n",
        "pl.title('The effect of stim category on accuracy');\n",
        "print('NW vs W')\n",
        "x, y = ieeg_no_nones[ieeg_no_nones['StimulusCategory'] == 'nonwords']['ReactionTime'], ieeg_no_nones[ieeg_no_nones['StimulusCategory'] == 'words']['ReactionTime']\n",
        "print(ttest(x,y))\n",
        "print('NW vs Environment')\n",
        "x, y = ieeg_no_nones[ieeg_no_nones['StimulusCategory'] == 'nonwords']['ReactionTime'], ieeg_no_nones[ieeg_no_nones['StimulusCategory'] == 'environment']['ReactionTime']\n",
        "print(ttest(x,y))\n",
        "print('W vs Environment')\n",
        "x, y = ieeg_no_nones[ieeg_no_nones['StimulusCategory'] == 'environment']['ReactionTime'], ieeg_no_nones[ieeg_no_nones['StimulusCategory'] == 'words']['ReactionTime']\n",
        "print(ttest(x,y))"
      ],
      "metadata": {
        "id": "rGz6FW27V_WG",
        "outputId": "94546e26-439b-4d64-e3fe-9637c600faba",
        "colab": {
          "base_uri": "https://localhost:8080/",
          "height": 405
        }
      },
      "execution_count": 109,
      "outputs": [
        {
          "output_type": "stream",
          "name": "stdout",
          "text": [
            "NW vs W\n",
            "Ttest_indResult(statistic=1.3045545471130275, pvalue=0.192211304346207)\n",
            "NW vs Environment\n",
            "Ttest_indResult(statistic=-2.268332245067961, pvalue=0.023428038116147094)\n",
            "W vs Environment\n",
            "Ttest_indResult(statistic=3.590955475682147, pvalue=0.0003385530741545358)\n"
          ]
        },
        {
          "output_type": "display_data",
          "data": {
            "text/plain": [
              "<Figure size 432x288 with 1 Axes>"
            ],
            "image/png": "[encoded data removed]"
          },
          "metadata": {
            "needs_background": "light"
          }
        }
      ]
    },
    {
      "cell_type": "code",
      "source": [
        "sns.barplot(x='ProbeCategory', y='RespCorrect', data = ieeg_)\n",
        "pl.title('The effect of probe category on accuracy');\n",
        "print('0 vs 1')\n",
        "x, y = ieeg_[ieeg_['ProbeCategory'] == 0]['RespCorrect'], ieeg_[ieeg_['ProbeCategory'] == 1]['RespCorrect']\n",
        "print(ttest(x,y))"
      ],
      "metadata": {
        "id": "grwQ-7xiWVdg",
        "outputId": "69c59e43-2968-4c02-910f-d8f448eacee9",
        "colab": {
          "base_uri": "https://localhost:8080/",
          "height": 336
        }
      },
      "execution_count": 111,
      "outputs": [
        {
          "output_type": "stream",
          "name": "stdout",
          "text": [
            "0 vs 1\n",
            "Ttest_indResult(statistic=-5.4723193205178955, pvalue=4.834994200097224e-08)\n"
          ]
        },
        {
          "output_type": "display_data",
          "data": {
            "text/plain": [
              "<Figure size 432x288 with 1 Axes>"
            ],
            "image/png": "[encoded data removed]"
          },
          "metadata": {
            "needs_background": "light"
          }
        }
      ]
    },
    {
      "cell_type": "code",
      "source": [
        "sns.barplot(x='ProbeCategory', y='ReactionTime', data = ieeg_no_nones)\n",
        "pl.title('The effect of probe category on RT');\n",
        "print('0 vs 1')\n",
        "x, y = ieeg_no_nones[ieeg_no_nones['ProbeCategory'] == 0]['ReactionTime'], ieeg_no_nones[ieeg_no_nones['ProbeCategory'] == 1]['ReactionTime']\n",
        "print(ttest(x,y))"
      ],
      "metadata": {
        "id": "xTEB3pz4WXe_",
        "outputId": "7cfcb3c3-198f-4d92-86e2-2b0344838dcb",
        "colab": {
          "base_uri": "https://localhost:8080/",
          "height": 336
        }
      },
      "execution_count": 110,
      "outputs": [
        {
          "output_type": "stream",
          "name": "stdout",
          "text": [
            "0 vs 1\n",
            "Ttest_indResult(statistic=3.3064161710005484, pvalue=0.0009573788548153214)\n"
          ]
        },
        {
          "output_type": "display_data",
          "data": {
            "text/plain": [
              "<Figure size 432x288 with 1 Axes>"
            ],
            "image/png": "[encoded data removed]"
          },
          "metadata": {
            "needs_background": "light"
          }
        }
      ]
    },
    {
      "cell_type": "code",
      "source": [
        "sns.barplot(x='StimulusCategory', y='RespCorrect', hue='ProbeCategory', data = ieeg_)\n",
        "pl.title('The interaction b/w probe and stimulus category Accuracy');"
      ],
      "metadata": {
        "id": "6WTjNoaUWiF_",
        "outputId": "63103789-cfbd-481c-ae70-6042b2bdc5b3",
        "colab": {
          "base_uri": "https://localhost:8080/",
          "height": 301
        }
      },
      "execution_count": 113,
      "outputs": [
        {
          "output_type": "display_data",
          "data": {
            "text/plain": [
              "<Figure size 432x288 with 1 Axes>"
            ],
            "image/png": "[encoded data removed]"
          },
          "metadata": {
            "needs_background": "light"
          }
        }
      ]
    },
    {
      "cell_type": "code",
      "source": [
        "print('0 vs 1')\n",
        "print('Nonwords')\n",
        "subset = ieeg_[ieeg_['StimulusCategory'] == 'nonwords']\n",
        "x, y = subset[subset['ProbeCategory'] == 0][['RespCorrect']], subset[subset['ProbeCategory'] == 1][['RespCorrect']]\n",
        "print(ttest(x,y))\n",
        "print('Environment')\n",
        "subset = ieeg_[ieeg_['StimulusCategory'] == 'environment']\n",
        "x, y = subset[subset['ProbeCategory'] == 0][['RespCorrect']], subset[subset['ProbeCategory'] == 1][['RespCorrect']]\n",
        "print(ttest(x,y))\n",
        "print('Words')\n",
        "subset = ieeg_[ieeg_['StimulusCategory'] == 'words']\n",
        "x, y = subset[subset['ProbeCategory'] == 0][['RespCorrect']], subset[subset['ProbeCategory'] == 1][['RespCorrect']]\n",
        "print(ttest(x,y))\n",
        "print('')\n",
        "print('NW vs W vs E')\n",
        "print('ProbeType 0')\n",
        "subset = ieeg_[ieeg_['ProbeCategory'] == 0]\n",
        "x, y = subset[subset['StimulusCategory'] == 'words'][['RespCorrect']], subset[subset['StimulusCategory'] == 'nonwords'][['RespCorrect']]\n",
        "print('W vs NW', ttest(x,y))\n",
        "x, y = subset[subset['StimulusCategory'] == 'words'][['RespCorrect']], subset[subset['StimulusCategory'] == 'environment'][['RespCorrect']]\n",
        "print('W vs E', ttest(x,y))\n",
        "x, y = subset[subset['StimulusCategory'] == 'environment'][['RespCorrect']], subset[subset['StimulusCategory'] == 'nonwords'][['RespCorrect']]\n",
        "print('NW vs E', ttest(x,y))\n",
        "\n",
        "print('ProbeType 1')\n",
        "subset = ieeg_[ieeg_['ProbeCategory'] == 1]\n",
        "x, y = subset[subset['StimulusCategory'] == 'words'][['RespCorrect']], subset[subset['StimulusCategory'] == 'nonwords'][['RespCorrect']]\n",
        "print('W vs NW', ttest(x,y))\n",
        "x, y = subset[subset['StimulusCategory'] == 'words'][['RespCorrect']], subset[subset['StimulusCategory'] == 'environment'][['RespCorrect']]\n",
        "print('W vs E', ttest(x,y))\n",
        "x, y = subset[subset['StimulusCategory'] == 'environment'][['RespCorrect']], subset[subset['StimulusCategory'] == 'nonwords'][['RespCorrect']]\n",
        "print('NW vs E', ttest(x,y))"
      ],
      "metadata": {
        "id": "8MTPDSzOWiIk",
        "outputId": "c179df2a-cc74-4c30-f2fa-30e279a4e68d",
        "colab": {
          "base_uri": "https://localhost:8080/"
        }
      },
      "execution_count": 116,
      "outputs": [
        {
          "output_type": "stream",
          "name": "stdout",
          "text": [
            "0 vs 1\n",
            "Nonwords\n",
            "Ttest_indResult(statistic=array([-1.26920503]), pvalue=array([0.20468448]))\n",
            "Environment\n",
            "Ttest_indResult(statistic=array([-4.01973387]), pvalue=array([6.30797129e-05]))\n",
            "Words\n",
            "Ttest_indResult(statistic=array([-4.23802791]), pvalue=array([2.49831899e-05]))\n",
            "\n",
            "NW vs W vs E\n",
            "ProbeType 0\n",
            "W vs NW Ttest_indResult(statistic=array([-0.4442395]), pvalue=array([0.65697323]))\n",
            "W vs E Ttest_indResult(statistic=array([2.22314849]), pvalue=array([0.02644715]))\n",
            "NW vs E Ttest_indResult(statistic=array([-2.68450705]), pvalue=array([0.00739311]))\n",
            "ProbeType 1\n",
            "W vs NW Ttest_indResult(statistic=array([2.5559769]), pvalue=array([0.01075158]))\n",
            "W vs E Ttest_indResult(statistic=array([2.50296304]), pvalue=array([0.01248996]))\n",
            "NW vs E Ttest_indResult(statistic=array([0.05961015]), pvalue=array([0.95247886]))\n"
          ]
        }
      ]
    },
    {
      "cell_type": "code",
      "source": [
        "sns.barplot(x='StimulusCategory', y='ReactionTime', hue='ProbeCategory', data = ieeg_no_nones)\n",
        "pl.title('The interaction b/w probe and stimulus category RT');"
      ],
      "metadata": {
        "id": "9MFNRZAaWiQk",
        "outputId": "238091c9-27ef-4ecd-b6dd-d76a44c32145",
        "colab": {
          "base_uri": "https://localhost:8080/",
          "height": 301
        }
      },
      "execution_count": 112,
      "outputs": [
        {
          "output_type": "display_data",
          "data": {
            "text/plain": [
              "<Figure size 432x288 with 1 Axes>"
            ],
            "image/png": "[encoded data removed]"
          },
          "metadata": {
            "needs_background": "light"
          }
        }
      ]
    },
    {
      "cell_type": "code",
      "source": [
        "print('0 vs 1')\n",
        "print('Nonwords')\n",
        "subset = ieeg_no_nones[ieeg_no_nones['StimulusCategory'] == 'nonwords']\n",
        "x, y = subset[subset['ProbeCategory'] == 0][['ReactionTime']], subset[subset['ProbeCategory'] == 1][['ReactionTime']]\n",
        "print(ttest(x,y))\n",
        "print('Environment')\n",
        "subset = ieeg_no_nones[ieeg_no_nones['StimulusCategory'] == 'environment']\n",
        "x, y = subset[subset['ProbeCategory'] == 0][['ReactionTime']], subset[subset['ProbeCategory'] == 1][['ReactionTime']]\n",
        "print(ttest(x,y))\n",
        "print('Words')\n",
        "subset = eeg_[eeg_['StimulusCategory'] == 'words']\n",
        "x, y = subset[subset['ProbeCategory'] == 0][['ReactionTime']], subset[subset['ProbeCategory'] == 1][['ReactionTime']]\n",
        "print(ttest(x,y))\n",
        "print('')\n",
        "print('NW vs W vs E')\n",
        "print('ProbeType 0')\n",
        "subset = ieeg_no_nones[ieeg_no_nones['ProbeCategory'] == 0]\n",
        "x, y = subset[subset['StimulusCategory'] == 'words'][['ReactionTime']], subset[subset['StimulusCategory'] == 'nonwords'][['ReactionTime']]\n",
        "print('W vs NW', ttest(x,y))\n",
        "x, y = subset[subset['StimulusCategory'] == 'words'][['ReactionTime']], subset[subset['StimulusCategory'] == 'environment'][['ReactionTime']]\n",
        "print('W vs E', ttest(x,y))\n",
        "x, y = subset[subset['StimulusCategory'] == 'environment'][['ReactionTime']], subset[subset['StimulusCategory'] == 'nonwords'][['ReactionTime']]\n",
        "print('NW vs E', ttest(x,y))\n",
        "\n",
        "print('ProbeType 1')\n",
        "subset = ieeg_no_nones[ieeg_no_nones['ProbeCategory'] == 1]\n",
        "x, y = subset[subset['StimulusCategory'] == 'words'][['ReactionTime']], subset[subset['StimulusCategory'] == 'nonwords'][['ReactionTime']]\n",
        "print('W vs NW', ttest(x,y))\n",
        "x, y = subset[subset['StimulusCategory'] == 'words'][['ReactionTime']], subset[subset['StimulusCategory'] == 'environment'][['ReactionTime']]\n",
        "print('W vs E', ttest(x,y))\n",
        "x, y = subset[subset['StimulusCategory'] == 'environment'][['ReactionTime']], subset[subset['StimulusCategory'] == 'nonwords'][['ReactionTime']]\n",
        "print('NW vs E', ttest(x,y))"
      ],
      "metadata": {
        "id": "RwS65dTLWiS8",
        "outputId": "375402b3-449b-45d4-8dea-3b7a12fc127a",
        "colab": {
          "base_uri": "https://localhost:8080/"
        }
      },
      "execution_count": 114,
      "outputs": [
        {
          "output_type": "stream",
          "name": "stdout",
          "text": [
            "0 vs 1\n",
            "Nonwords\n",
            "Ttest_indResult(statistic=array([1.25920067]), pvalue=array([0.20828174]))\n",
            "Environment\n",
            "Ttest_indResult(statistic=array([2.01863981]), pvalue=array([0.04382627]))\n",
            "Words\n",
            "Ttest_indResult(statistic=array([3.56736019]), pvalue=array([0.00037801]))\n",
            "\n",
            "NW vs W vs E\n",
            "ProbeType 0\n",
            "W vs NW Ttest_indResult(statistic=array([-0.33013611]), pvalue=array([0.74137413]))\n",
            "W vs E Ttest_indResult(statistic=array([-2.42561111]), pvalue=array([0.01548781]))\n",
            "NW vs E Ttest_indResult(statistic=array([2.0665242]), pvalue=array([0.03907204]))\n",
            "ProbeType 1\n",
            "W vs NW Ttest_indResult(statistic=array([-1.48654885]), pvalue=array([0.13748458]))\n",
            "W vs E Ttest_indResult(statistic=array([-2.69061565]), pvalue=array([0.00726362]))\n",
            "NW vs E Ttest_indResult(statistic=array([1.1937202]), pvalue=array([0.23290088]))\n"
          ]
        }
      ]
    }
  ]
}