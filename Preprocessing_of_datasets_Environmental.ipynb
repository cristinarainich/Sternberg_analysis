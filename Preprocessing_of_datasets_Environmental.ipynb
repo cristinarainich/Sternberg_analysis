{
  "nbformat": 4,
  "nbformat_minor": 0,
  "metadata": {
    "colab": {
      "name": "Preprocessing of datasets. Environmental.ipynb",
      "provenance": [],
      "toc_visible": true,
      "authorship_tag": "ABX9TyPEQO5pyVGMN7sXZqPH1Nkl",
      "include_colab_link": true
    },
    "kernelspec": {
      "name": "python3",
      "display_name": "Python 3"
    },
    "language_info": {
      "name": "python"
    }
  },
  "cells": [
    {
      "cell_type": "markdown",
      "metadata": {
        "id": "view-in-github",
        "colab_type": "text"
      },
      "source": [
        "<a href=\"https://colab.research.google.com/github/cristinarainich/Sternberg_analysis/blob/main/Preprocessing_of_datasets_Environmental.ipynb\" target=\"_parent\"><img src=\"https://colab.research.google.com/assets/colab-badge.svg\" alt=\"Open In Colab\"/></a>"
      ]
    },
    {
      "cell_type": "markdown",
      "source": [
        "## Imports"
      ],
      "metadata": {
        "id": "F2tl2W5Bv4Ap"
      }
    },
    {
      "cell_type": "code",
      "execution_count": 1,
      "metadata": {
        "id": "DLPLa_SbUFiC",
        "outputId": "c4443885-4e5e-4bc8-a015-defeaccfe597",
        "colab": {
          "base_uri": "https://localhost:8080/"
        }
      },
      "outputs": [
        {
          "output_type": "stream",
          "name": "stderr",
          "text": [
            "/usr/local/lib/python3.7/dist-packages/statsmodels/tools/_testing.py:19: FutureWarning: pandas.util.testing is deprecated. Use the functions in the public API at pandas.testing instead.\n",
            "  import pandas.util.testing as tm\n"
          ]
        },
        {
          "output_type": "stream",
          "name": "stdout",
          "text": [
            "Populating the interactive namespace from numpy and matplotlib\n"
          ]
        }
      ],
      "source": [
        "import pandas as pd\n",
        "import numpy as np\n",
        "from pathlib import Path\n",
        "import pylab as pl\n",
        "import seaborn as sns\n",
        "import re\n",
        "from scipy import stats\n",
        "import scipy.io\n",
        "import statsmodels.api as sm\n",
        "from statsmodels.stats.anova import anova_lm\n",
        "from statsmodels.formula.api import ols\n",
        "from scipy.stats import f_oneway\n",
        "from scipy.stats import shapiro\n",
        "from scipy.stats import normaltest\n",
        "from scipy.stats import boxcox\n",
        "%pylab inline"
      ]
    },
    {
      "cell_type": "code",
      "source": [
        "from google.colab import drive\n",
        "drive.mount('/content/gdrive')"
      ],
      "metadata": {
        "colab": {
          "base_uri": "https://localhost:8080/"
        },
        "id": "YiRadHQbUMTS",
        "outputId": "285f8116-ab8c-46c6-ed72-08859fb5595c"
      },
      "execution_count": 2,
      "outputs": [
        {
          "output_type": "stream",
          "name": "stdout",
          "text": [
            "Mounted at /content/gdrive\n"
          ]
        }
      ]
    },
    {
      "cell_type": "code",
      "source": [
        "sns.set()"
      ],
      "metadata": {
        "id": "0TLSuhOVu6lY"
      },
      "execution_count": 3,
      "outputs": []
    },
    {
      "cell_type": "code",
      "source": [
        "!pip install -q pymer4"
      ],
      "metadata": {
        "colab": {
          "base_uri": "https://localhost:8080/"
        },
        "id": "4cwTR33P7zOv",
        "outputId": "cd0cd37b-ab56-4a57-f918-654af6f473c8"
      },
      "execution_count": 4,
      "outputs": [
        {
          "output_type": "stream",
          "name": "stdout",
          "text": [
            "\u001b[?25l\r\u001b[K     |█████▌                          | 10 kB 18.0 MB/s eta 0:00:01\r\u001b[K     |███████████                     | 20 kB 4.5 MB/s eta 0:00:01\r\u001b[K     |████████████████▋               | 30 kB 3.9 MB/s eta 0:00:01\r\u001b[K     |██████████████████████▏         | 40 kB 3.7 MB/s eta 0:00:01\r\u001b[K     |███████████████████████████▊    | 51 kB 2.5 MB/s eta 0:00:01\r\u001b[K     |████████████████████████████████| 59 kB 1.8 MB/s \n",
            "\u001b[?25h"
          ]
        }
      ]
    },
    {
      "cell_type": "code",
      "source": [
        "from pymer4.models import Lmer\n",
        "import statsmodels.api as sm\n",
        "import statsmodels.formula.api as smf"
      ],
      "metadata": {
        "id": "i2gVqRdq7zY_"
      },
      "execution_count": 5,
      "outputs": []
    },
    {
      "cell_type": "code",
      "source": [
        "\n",
        "!pip install -q statsmodels"
      ],
      "metadata": {
        "id": "KmjEdakr70l4"
      },
      "execution_count": 6,
      "outputs": []
    },
    {
      "cell_type": "code",
      "source": [
        "# Install R and Rpy2\n",
        "!apt-get install r-base\n",
        "!pip install -q rpy2\n",
        "\n",
        "# Install LMER packages (THIS TAKES ABOUT 3~5 minutes)\n",
        "packnames = ('lme4', 'lmerTest', 'emmeans', \"geepack\")\n",
        "from rpy2.robjects.packages import importr\n",
        "from rpy2.robjects.vectors import StrVector\n",
        "utils = importr(\"utils\")\n",
        "utils.chooseCRANmirror(ind=1)\n",
        "utils.install_packages(StrVector(packnames))"
      ],
      "metadata": {
        "colab": {
          "base_uri": "https://localhost:8080/"
        },
        "id": "bjCVhqOx7383",
        "outputId": "5d82dd78-c009-4029-d52b-3ebeee7df0e9"
      },
      "execution_count": 7,
      "outputs": [
        {
          "output_type": "stream",
          "name": "stdout",
          "text": [
            "Reading package lists... Done\n",
            "Building dependency tree       \n",
            "Reading state information... Done\n",
            "r-base is already the newest version (4.2.1-1.1804.0).\n",
            "The following package was automatically installed and is no longer required:\n",
            "  libnvidia-common-460\n",
            "Use 'apt autoremove' to remove it.\n",
            "0 upgraded, 0 newly installed, 0 to remove and 19 not upgraded.\n"
          ]
        },
        {
          "output_type": "stream",
          "name": "stderr",
          "text": [
            "R[write to console]: Installing packages into ‘/usr/local/lib/R/site-library’\n",
            "(as ‘lib’ is unspecified)\n",
            "\n",
            "R[write to console]: also installing the dependencies ‘minqa’, ‘nloptr’, ‘Rcpp’, ‘RcppEigen’, ‘numDeriv’, ‘estimability’, ‘mvtnorm’, ‘xtable’\n",
            "\n",
            "\n",
            "R[write to console]: trying URL 'https://cloud.r-project.org/src/contrib/minqa_1.2.4.tar.gz'\n",
            "\n",
            "R[write to console]: Content type 'application/x-gzip'\n",
            "R[write to console]:  length 53548 bytes (52 KB)\n",
            "\n",
            "R[write to console]: =\n",
            "R[write to console]: =\n",
            "R[write to console]: =\n",
            "R[write to console]: =\n",
            "R[write to console]: =\n",
            "R[write to console]: =\n",
            "R[write to console]: =\n",
            "R[write to console]: =\n",
            "R[write to console]: =\n",
            "R[write to console]: =\n",
            "R[write to console]: =\n",
            "R[write to console]: =\n",
            "R[write to console]: =\n",
            "R[write to console]: =\n",
            "R[write to console]: =\n",
            "R[write to console]: =\n",
            "R[write to console]: =\n",
            "R[write to console]: =\n",
            "R[write to console]: =\n",
            "R[write to console]: =\n",
            "R[write to console]: =\n",
            "R[write to console]: =\n",
            "R[write to console]: =\n",
            "R[write to console]: =\n",
            "R[write to console]: =\n",
            "R[write to console]: =\n",
            "R[write to console]: =\n",
            "R[write to console]: =\n",
            "R[write to console]: =\n",
            "R[write to console]: =\n",
            "R[write to console]: =\n",
            "R[write to console]: =\n",
            "R[write to console]: =\n",
            "R[write to console]: =\n",
            "R[write to console]: =\n",
            "R[write to console]: =\n",
            "R[write to console]: =\n",
            "R[write to console]: =\n",
            "R[write to console]: =\n",
            "R[write to console]: =\n",
            "R[write to console]: =\n",
            "R[write to console]: =\n",
            "R[write to console]: =\n",
            "R[write to console]: =\n",
            "R[write to console]: =\n",
            "R[write to console]: =\n",
            "R[write to console]: =\n",
            "R[write to console]: =\n",
            "R[write to console]: =\n",
            "R[write to console]: =\n",
            "R[write to console]: \n",
            "\n",
            "R[write to console]: downloaded 52 KB\n",
            "\n",
            "\n",
            "R[write to console]: trying URL 'https://cloud.r-project.org/src/contrib/nloptr_2.0.3.tar.gz'\n",
            "\n",
            "R[write to console]: Content type 'application/x-gzip'\n",
            "R[write to console]:  length 2219877 bytes (2.1 MB)\n",
            "\n",
            "R[write to console]: =\n",
            "R[write to console]: =\n",
            "R[write to console]: =\n",
            "R[write to console]: =\n",
            "R[write to console]: =\n",
            "R[write to console]: =\n",
            "R[write to console]: =\n",
            "R[write to console]: =\n",
            "R[write to console]: =\n",
            "R[write to console]: =\n",
            "R[write to console]: =\n",
            "R[write to console]: =\n",
            "R[write to console]: =\n",
            "R[write to console]: =\n",
            "R[write to console]: =\n",
            "R[write to console]: =\n",
            "R[write to console]: =\n",
            "R[write to console]: =\n",
            "R[write to console]: =\n",
            "R[write to console]: =\n",
            "R[write to console]: =\n",
            "R[write to console]: =\n",
            "R[write to console]: =\n",
            "R[write to console]: =\n",
            "R[write to console]: =\n",
            "R[write to console]: =\n",
            "R[write to console]: =\n",
            "R[write to console]: =\n",
            "R[write to console]: =\n",
            "R[write to console]: =\n",
            "R[write to console]: =\n",
            "R[write to console]: =\n",
            "R[write to console]: =\n",
            "R[write to console]: =\n",
            "R[write to console]: =\n",
            "R[write to console]: =\n",
            "R[write to console]: =\n",
            "R[write to console]: =\n",
            "R[write to console]: =\n",
            "R[write to console]: =\n",
            "R[write to console]: =\n",
            "R[write to console]: =\n",
            "R[write to console]: =\n",
            "R[write to console]: =\n",
            "R[write to console]: =\n",
            "R[write to console]: =\n",
            "R[write to console]: =\n",
            "R[write to console]: =\n",
            "R[write to console]: =\n",
            "R[write to console]: =\n",
            "R[write to console]: \n",
            "\n",
            "R[write to console]: downloaded 2.1 MB\n",
            "\n",
            "\n",
            "R[write to console]: trying URL 'https://cloud.r-project.org/src/contrib/Rcpp_1.0.9.tar.gz'\n",
            "\n",
            "R[write to console]: Content type 'application/x-gzip'\n",
            "R[write to console]:  length 2957812 bytes (2.8 MB)\n",
            "\n",
            "R[write to console]: =\n",
            "R[write to console]: =\n",
            "R[write to console]: =\n",
            "R[write to console]: =\n",
            "R[write to console]: =\n",
            "R[write to console]: =\n",
            "R[write to console]: =\n",
            "R[write to console]: =\n",
            "R[write to console]: =\n",
            "R[write to console]: =\n",
            "R[write to console]: =\n",
            "R[write to console]: =\n",
            "R[write to console]: =\n",
            "R[write to console]: =\n",
            "R[write to console]: =\n",
            "R[write to console]: =\n",
            "R[write to console]: =\n",
            "R[write to console]: =\n",
            "R[write to console]: =\n",
            "R[write to console]: =\n",
            "R[write to console]: =\n",
            "R[write to console]: =\n",
            "R[write to console]: =\n",
            "R[write to console]: =\n",
            "R[write to console]: =\n",
            "R[write to console]: =\n",
            "R[write to console]: =\n",
            "R[write to console]: =\n",
            "R[write to console]: =\n",
            "R[write to console]: =\n",
            "R[write to console]: =\n",
            "R[write to console]: =\n",
            "R[write to console]: =\n",
            "R[write to console]: =\n",
            "R[write to console]: =\n",
            "R[write to console]: =\n",
            "R[write to console]: =\n",
            "R[write to console]: =\n",
            "R[write to console]: =\n",
            "R[write to console]: =\n",
            "R[write to console]: =\n",
            "R[write to console]: =\n",
            "R[write to console]: =\n",
            "R[write to console]: =\n",
            "R[write to console]: =\n",
            "R[write to console]: =\n",
            "R[write to console]: =\n",
            "R[write to console]: =\n",
            "R[write to console]: =\n",
            "R[write to console]: =\n",
            "R[write to console]: \n",
            "\n",
            "R[write to console]: downloaded 2.8 MB\n",
            "\n",
            "\n",
            "R[write to console]: trying URL 'https://cloud.r-project.org/src/contrib/RcppEigen_0.3.3.9.2.tar.gz'\n",
            "\n",
            "R[write to console]: Content type 'application/x-gzip'\n",
            "R[write to console]:  length 1476004 bytes (1.4 MB)\n",
            "\n",
            "R[write to console]: =\n",
            "R[write to console]: =\n",
            "R[write to console]: =\n",
            "R[write to console]: =\n",
            "R[write to console]: =\n",
            "R[write to console]: =\n",
            "R[write to console]: =\n",
            "R[write to console]: =\n",
            "R[write to console]: =\n",
            "R[write to console]: =\n",
            "R[write to console]: =\n",
            "R[write to console]: =\n",
            "R[write to console]: =\n",
            "R[write to console]: =\n",
            "R[write to console]: =\n",
            "R[write to console]: =\n",
            "R[write to console]: =\n",
            "R[write to console]: =\n",
            "R[write to console]: =\n",
            "R[write to console]: =\n",
            "R[write to console]: =\n",
            "R[write to console]: =\n",
            "R[write to console]: =\n",
            "R[write to console]: =\n",
            "R[write to console]: =\n",
            "R[write to console]: =\n",
            "R[write to console]: =\n",
            "R[write to console]: =\n",
            "R[write to console]: =\n",
            "R[write to console]: =\n",
            "R[write to console]: =\n",
            "R[write to console]: =\n",
            "R[write to console]: =\n",
            "R[write to console]: =\n",
            "R[write to console]: =\n",
            "R[write to console]: =\n",
            "R[write to console]: =\n",
            "R[write to console]: =\n",
            "R[write to console]: =\n",
            "R[write to console]: =\n",
            "R[write to console]: =\n",
            "R[write to console]: =\n",
            "R[write to console]: =\n",
            "R[write to console]: =\n",
            "R[write to console]: =\n",
            "R[write to console]: =\n",
            "R[write to console]: =\n",
            "R[write to console]: =\n",
            "R[write to console]: =\n",
            "R[write to console]: =\n",
            "R[write to console]: \n",
            "\n",
            "R[write to console]: downloaded 1.4 MB\n",
            "\n",
            "\n",
            "R[write to console]: trying URL 'https://cloud.r-project.org/src/contrib/numDeriv_2016.8-1.1.tar.gz'\n",
            "\n",
            "R[write to console]: Content type 'application/x-gzip'\n",
            "R[write to console]:  length 76053 bytes (74 KB)\n",
            "\n",
            "R[write to console]: =\n",
            "R[write to console]: =\n",
            "R[write to console]: =\n",
            "R[write to console]: =\n",
            "R[write to console]: =\n",
            "R[write to console]: =\n",
            "R[write to console]: =\n",
            "R[write to console]: =\n",
            "R[write to console]: =\n",
            "R[write to console]: =\n",
            "R[write to console]: =\n",
            "R[write to console]: =\n",
            "R[write to console]: =\n",
            "R[write to console]: =\n",
            "R[write to console]: =\n",
            "R[write to console]: =\n",
            "R[write to console]: =\n",
            "R[write to console]: =\n",
            "R[write to console]: =\n",
            "R[write to console]: =\n",
            "R[write to console]: =\n",
            "R[write to console]: =\n",
            "R[write to console]: =\n",
            "R[write to console]: =\n",
            "R[write to console]: =\n",
            "R[write to console]: =\n",
            "R[write to console]: =\n",
            "R[write to console]: =\n",
            "R[write to console]: =\n",
            "R[write to console]: =\n",
            "R[write to console]: =\n",
            "R[write to console]: =\n",
            "R[write to console]: =\n",
            "R[write to console]: =\n",
            "R[write to console]: =\n",
            "R[write to console]: =\n",
            "R[write to console]: =\n",
            "R[write to console]: =\n",
            "R[write to console]: =\n",
            "R[write to console]: =\n",
            "R[write to console]: =\n",
            "R[write to console]: =\n",
            "R[write to console]: =\n",
            "R[write to console]: =\n",
            "R[write to console]: =\n",
            "R[write to console]: =\n",
            "R[write to console]: =\n",
            "R[write to console]: =\n",
            "R[write to console]: =\n",
            "R[write to console]: =\n",
            "R[write to console]: \n",
            "\n",
            "R[write to console]: downloaded 74 KB\n",
            "\n",
            "\n",
            "R[write to console]: trying URL 'https://cloud.r-project.org/src/contrib/estimability_1.4.1.tar.gz'\n",
            "\n",
            "R[write to console]: Content type 'application/x-gzip'\n",
            "R[write to console]:  length 10606 bytes (10 KB)\n",
            "\n",
            "R[write to console]: =\n",
            "R[write to console]: =\n",
            "R[write to console]: =\n",
            "R[write to console]: =\n",
            "R[write to console]: =\n",
            "R[write to console]: =\n",
            "R[write to console]: =\n",
            "R[write to console]: =\n",
            "R[write to console]: =\n",
            "R[write to console]: =\n",
            "R[write to console]: =\n",
            "R[write to console]: =\n",
            "R[write to console]: =\n",
            "R[write to console]: =\n",
            "R[write to console]: =\n",
            "R[write to console]: =\n",
            "R[write to console]: =\n",
            "R[write to console]: =\n",
            "R[write to console]: =\n",
            "R[write to console]: =\n",
            "R[write to console]: =\n",
            "R[write to console]: =\n",
            "R[write to console]: =\n",
            "R[write to console]: =\n",
            "R[write to console]: =\n",
            "R[write to console]: =\n",
            "R[write to console]: =\n",
            "R[write to console]: =\n",
            "R[write to console]: =\n",
            "R[write to console]: =\n",
            "R[write to console]: =\n",
            "R[write to console]: =\n",
            "R[write to console]: =\n",
            "R[write to console]: =\n",
            "R[write to console]: =\n",
            "R[write to console]: =\n",
            "R[write to console]: =\n",
            "R[write to console]: =\n",
            "R[write to console]: =\n",
            "R[write to console]: =\n",
            "R[write to console]: =\n",
            "R[write to console]: =\n",
            "R[write to console]: =\n",
            "R[write to console]: =\n",
            "R[write to console]: =\n",
            "R[write to console]: =\n",
            "R[write to console]: =\n",
            "R[write to console]: =\n",
            "R[write to console]: =\n",
            "R[write to console]: =\n",
            "R[write to console]: \n",
            "\n",
            "R[write to console]: downloaded 10 KB\n",
            "\n",
            "\n",
            "R[write to console]: trying URL 'https://cloud.r-project.org/src/contrib/mvtnorm_1.1-3.tar.gz'\n",
            "\n",
            "R[write to console]: Content type 'application/x-gzip'\n",
            "R[write to console]:  length 166421 bytes (162 KB)\n",
            "\n",
            "R[write to console]: =\n",
            "R[write to console]: =\n",
            "R[write to console]: =\n",
            "R[write to console]: =\n",
            "R[write to console]: =\n",
            "R[write to console]: =\n",
            "R[write to console]: =\n",
            "R[write to console]: =\n",
            "R[write to console]: =\n",
            "R[write to console]: =\n",
            "R[write to console]: =\n",
            "R[write to console]: =\n",
            "R[write to console]: =\n",
            "R[write to console]: =\n",
            "R[write to console]: =\n",
            "R[write to console]: =\n",
            "R[write to console]: =\n",
            "R[write to console]: =\n",
            "R[write to console]: =\n",
            "R[write to console]: =\n",
            "R[write to console]: =\n",
            "R[write to console]: =\n",
            "R[write to console]: =\n",
            "R[write to console]: =\n",
            "R[write to console]: =\n",
            "R[write to console]: =\n",
            "R[write to console]: =\n",
            "R[write to console]: =\n",
            "R[write to console]: =\n",
            "R[write to console]: =\n",
            "R[write to console]: =\n",
            "R[write to console]: =\n",
            "R[write to console]: =\n",
            "R[write to console]: =\n",
            "R[write to console]: =\n",
            "R[write to console]: =\n",
            "R[write to console]: =\n",
            "R[write to console]: =\n",
            "R[write to console]: =\n",
            "R[write to console]: =\n",
            "R[write to console]: =\n",
            "R[write to console]: =\n",
            "R[write to console]: =\n",
            "R[write to console]: =\n",
            "R[write to console]: =\n",
            "R[write to console]: =\n",
            "R[write to console]: =\n",
            "R[write to console]: =\n",
            "R[write to console]: =\n",
            "R[write to console]: =\n",
            "R[write to console]: \n",
            "\n",
            "R[write to console]: downloaded 162 KB\n",
            "\n",
            "\n",
            "R[write to console]: trying URL 'https://cloud.r-project.org/src/contrib/xtable_1.8-4.tar.gz'\n",
            "\n",
            "R[write to console]: Content type 'application/x-gzip'\n",
            "R[write to console]:  length 564589 bytes (551 KB)\n",
            "\n",
            "R[write to console]: =\n",
            "R[write to console]: =\n",
            "R[write to console]: =\n",
            "R[write to console]: =\n",
            "R[write to console]: =\n",
            "R[write to console]: =\n",
            "R[write to console]: =\n",
            "R[write to console]: =\n",
            "R[write to console]: =\n",
            "R[write to console]: =\n",
            "R[write to console]: =\n",
            "R[write to console]: =\n",
            "R[write to console]: =\n",
            "R[write to console]: =\n",
            "R[write to console]: =\n",
            "R[write to console]: =\n",
            "R[write to console]: =\n",
            "R[write to console]: =\n",
            "R[write to console]: =\n",
            "R[write to console]: =\n",
            "R[write to console]: =\n",
            "R[write to console]: =\n",
            "R[write to console]: =\n",
            "R[write to console]: =\n",
            "R[write to console]: =\n",
            "R[write to console]: =\n",
            "R[write to console]: =\n",
            "R[write to console]: =\n",
            "R[write to console]: =\n",
            "R[write to console]: =\n",
            "R[write to console]: =\n",
            "R[write to console]: =\n",
            "R[write to console]: =\n",
            "R[write to console]: =\n",
            "R[write to console]: =\n",
            "R[write to console]: =\n",
            "R[write to console]: =\n",
            "R[write to console]: =\n",
            "R[write to console]: =\n",
            "R[write to console]: =\n",
            "R[write to console]: =\n",
            "R[write to console]: =\n",
            "R[write to console]: =\n",
            "R[write to console]: =\n",
            "R[write to console]: =\n",
            "R[write to console]: =\n",
            "R[write to console]: =\n",
            "R[write to console]: =\n",
            "R[write to console]: =\n",
            "R[write to console]: =\n",
            "R[write to console]: \n",
            "\n",
            "R[write to console]: downloaded 551 KB\n",
            "\n",
            "\n",
            "R[write to console]: trying URL 'https://cloud.r-project.org/src/contrib/lme4_1.1-30.tar.gz'\n",
            "\n",
            "R[write to console]: Content type 'application/x-gzip'\n",
            "R[write to console]:  length 3307884 bytes (3.2 MB)\n",
            "\n",
            "R[write to console]: =\n",
            "R[write to console]: =\n",
            "R[write to console]: =\n",
            "R[write to console]: =\n",
            "R[write to console]: =\n",
            "R[write to console]: =\n",
            "R[write to console]: =\n",
            "R[write to console]: =\n",
            "R[write to console]: =\n",
            "R[write to console]: =\n",
            "R[write to console]: =\n",
            "R[write to console]: =\n",
            "R[write to console]: =\n",
            "R[write to console]: =\n",
            "R[write to console]: =\n",
            "R[write to console]: =\n",
            "R[write to console]: =\n",
            "R[write to console]: =\n",
            "R[write to console]: =\n",
            "R[write to console]: =\n",
            "R[write to console]: =\n",
            "R[write to console]: =\n",
            "R[write to console]: =\n",
            "R[write to console]: =\n",
            "R[write to console]: =\n",
            "R[write to console]: =\n",
            "R[write to console]: =\n",
            "R[write to console]: =\n",
            "R[write to console]: =\n",
            "R[write to console]: =\n",
            "R[write to console]: =\n",
            "R[write to console]: =\n",
            "R[write to console]: =\n",
            "R[write to console]: =\n",
            "R[write to console]: =\n",
            "R[write to console]: =\n",
            "R[write to console]: =\n",
            "R[write to console]: =\n",
            "R[write to console]: =\n",
            "R[write to console]: =\n",
            "R[write to console]: =\n",
            "R[write to console]: =\n",
            "R[write to console]: =\n",
            "R[write to console]: =\n",
            "R[write to console]: =\n",
            "R[write to console]: =\n",
            "R[write to console]: =\n",
            "R[write to console]: =\n",
            "R[write to console]: =\n",
            "R[write to console]: =\n",
            "R[write to console]: \n",
            "\n",
            "R[write to console]: downloaded 3.2 MB\n",
            "\n",
            "\n",
            "R[write to console]: trying URL 'https://cloud.r-project.org/src/contrib/lmerTest_3.1-3.tar.gz'\n",
            "\n",
            "R[write to console]: Content type 'application/x-gzip'\n",
            "R[write to console]:  length 195633 bytes (191 KB)\n",
            "\n",
            "R[write to console]: =\n",
            "R[write to console]: =\n",
            "R[write to console]: =\n",
            "R[write to console]: =\n",
            "R[write to console]: =\n",
            "R[write to console]: =\n",
            "R[write to console]: =\n",
            "R[write to console]: =\n",
            "R[write to console]: =\n",
            "R[write to console]: =\n",
            "R[write to console]: =\n",
            "R[write to console]: =\n",
            "R[write to console]: =\n",
            "R[write to console]: =\n",
            "R[write to console]: =\n",
            "R[write to console]: =\n",
            "R[write to console]: =\n",
            "R[write to console]: =\n",
            "R[write to console]: =\n",
            "R[write to console]: =\n",
            "R[write to console]: =\n",
            "R[write to console]: =\n",
            "R[write to console]: =\n",
            "R[write to console]: =\n",
            "R[write to console]: =\n",
            "R[write to console]: =\n",
            "R[write to console]: =\n",
            "R[write to console]: =\n",
            "R[write to console]: =\n",
            "R[write to console]: =\n",
            "R[write to console]: =\n",
            "R[write to console]: =\n",
            "R[write to console]: =\n",
            "R[write to console]: =\n",
            "R[write to console]: =\n",
            "R[write to console]: =\n",
            "R[write to console]: =\n",
            "R[write to console]: =\n",
            "R[write to console]: =\n",
            "R[write to console]: =\n",
            "R[write to console]: =\n",
            "R[write to console]: =\n",
            "R[write to console]: =\n",
            "R[write to console]: =\n",
            "R[write to console]: =\n",
            "R[write to console]: =\n",
            "R[write to console]: =\n",
            "R[write to console]: =\n",
            "R[write to console]: =\n",
            "R[write to console]: =\n",
            "R[write to console]: \n",
            "\n",
            "R[write to console]: downloaded 191 KB\n",
            "\n",
            "\n",
            "R[write to console]: trying URL 'https://cloud.r-project.org/src/contrib/emmeans_1.7.5.tar.gz'\n",
            "\n",
            "R[write to console]: Content type 'application/x-gzip'\n",
            "R[write to console]:  length 1380265 bytes (1.3 MB)\n",
            "\n",
            "R[write to console]: =\n",
            "R[write to console]: =\n",
            "R[write to console]: =\n",
            "R[write to console]: =\n",
            "R[write to console]: =\n",
            "R[write to console]: =\n",
            "R[write to console]: =\n",
            "R[write to console]: =\n",
            "R[write to console]: =\n",
            "R[write to console]: =\n",
            "R[write to console]: =\n",
            "R[write to console]: =\n",
            "R[write to console]: =\n",
            "R[write to console]: =\n",
            "R[write to console]: =\n",
            "R[write to console]: =\n",
            "R[write to console]: =\n",
            "R[write to console]: =\n",
            "R[write to console]: =\n",
            "R[write to console]: =\n",
            "R[write to console]: =\n",
            "R[write to console]: =\n",
            "R[write to console]: =\n",
            "R[write to console]: =\n",
            "R[write to console]: =\n",
            "R[write to console]: =\n",
            "R[write to console]: =\n",
            "R[write to console]: =\n",
            "R[write to console]: =\n",
            "R[write to console]: =\n",
            "R[write to console]: =\n",
            "R[write to console]: =\n",
            "R[write to console]: =\n",
            "R[write to console]: =\n",
            "R[write to console]: =\n",
            "R[write to console]: =\n",
            "R[write to console]: =\n",
            "R[write to console]: =\n",
            "R[write to console]: =\n",
            "R[write to console]: =\n",
            "R[write to console]: =\n",
            "R[write to console]: =\n",
            "R[write to console]: =\n",
            "R[write to console]: =\n",
            "R[write to console]: =\n",
            "R[write to console]: =\n",
            "R[write to console]: =\n",
            "R[write to console]: =\n",
            "R[write to console]: =\n",
            "R[write to console]: =\n",
            "R[write to console]: \n",
            "\n",
            "R[write to console]: downloaded 1.3 MB\n",
            "\n",
            "\n",
            "R[write to console]: trying URL 'https://cloud.r-project.org/src/contrib/geepack_1.3.4.tar.gz'\n",
            "\n",
            "R[write to console]: Content type 'application/x-gzip'\n",
            "R[write to console]:  length 397359 bytes (388 KB)\n",
            "\n",
            "R[write to console]: =\n",
            "R[write to console]: =\n",
            "R[write to console]: =\n",
            "R[write to console]: =\n",
            "R[write to console]: =\n",
            "R[write to console]: =\n",
            "R[write to console]: =\n",
            "R[write to console]: =\n",
            "R[write to console]: =\n",
            "R[write to console]: =\n",
            "R[write to console]: =\n",
            "R[write to console]: =\n",
            "R[write to console]: =\n",
            "R[write to console]: =\n",
            "R[write to console]: =\n",
            "R[write to console]: =\n",
            "R[write to console]: =\n",
            "R[write to console]: =\n",
            "R[write to console]: =\n",
            "R[write to console]: =\n",
            "R[write to console]: =\n",
            "R[write to console]: =\n",
            "R[write to console]: =\n",
            "R[write to console]: =\n",
            "R[write to console]: =\n",
            "R[write to console]: =\n",
            "R[write to console]: =\n",
            "R[write to console]: =\n",
            "R[write to console]: =\n",
            "R[write to console]: =\n",
            "R[write to console]: =\n",
            "R[write to console]: =\n",
            "R[write to console]: =\n",
            "R[write to console]: =\n",
            "R[write to console]: =\n",
            "R[write to console]: =\n",
            "R[write to console]: =\n",
            "R[write to console]: =\n",
            "R[write to console]: =\n",
            "R[write to console]: =\n",
            "R[write to console]: =\n",
            "R[write to console]: =\n",
            "R[write to console]: =\n",
            "R[write to console]: =\n",
            "R[write to console]: =\n",
            "R[write to console]: =\n",
            "R[write to console]: =\n",
            "R[write to console]: =\n",
            "R[write to console]: =\n",
            "R[write to console]: =\n",
            "R[write to console]: \n",
            "\n",
            "R[write to console]: downloaded 388 KB\n",
            "\n",
            "\n",
            "R[write to console]: \n",
            "\n",
            "R[write to console]: \n",
            "R[write to console]: The downloaded source packages are in\n",
            "\t‘/tmp/RtmprMBPVm/downloaded_packages’\n",
            "R[write to console]: \n",
            "R[write to console]: \n",
            "\n"
          ]
        },
        {
          "output_type": "execute_result",
          "data": {
            "text/plain": [
              "<rpy2.rinterface_lib.sexp.NULLType object at 0x7f998dc000f0> [RTYPES.NILSXP]"
            ]
          },
          "metadata": {},
          "execution_count": 7
        }
      ]
    },
    {
      "cell_type": "code",
      "source": [
        "%load_ext rpy2.ipython"
      ],
      "metadata": {
        "id": "wZtW6fWz79Un"
      },
      "execution_count": 8,
      "outputs": []
    },
    {
      "cell_type": "code",
      "source": [
        "%%R \n",
        "library(lme4)\n",
        "library(lmerTest)"
      ],
      "metadata": {
        "colab": {
          "base_uri": "https://localhost:8080/"
        },
        "id": "f656ydUL79ex",
        "outputId": "26b00270-38e9-4fb1-8a27-dcc9cec95a38"
      },
      "execution_count": 9,
      "outputs": [
        {
          "output_type": "stream",
          "name": "stderr",
          "text": [
            "R[write to console]: Loading required package: Matrix\n",
            "\n",
            "R[write to console]: \n",
            "Attaching package: ‘lmerTest’\n",
            "\n",
            "\n",
            "R[write to console]: The following object is masked from ‘package:lme4’:\n",
            "\n",
            "    lmer\n",
            "\n",
            "\n",
            "R[write to console]: The following object is masked from ‘package:stats’:\n",
            "\n",
            "    step\n",
            "\n",
            "\n"
          ]
        }
      ]
    },
    {
      "cell_type": "code",
      "source": [
        "working_path = Path('/content/gdrive/MyDrive/CoganLab/Environmental')"
      ],
      "metadata": {
        "id": "mm3QDqncUMmB"
      },
      "execution_count": 10,
      "outputs": []
    },
    {
      "cell_type": "code",
      "source": [
        "!ls /content/gdrive/MyDrive/CoganLab/Environmental"
      ],
      "metadata": {
        "colab": {
          "base_uri": "https://localhost:8080/"
        },
        "id": "Upts3ZetlXs8",
        "outputId": "e78960be-cc69-4b68-d950-644d67e41649"
      },
      "execution_count": 11,
      "outputs": [
        {
          "output_type": "stream",
          "name": "stdout",
          "text": [
            "D64_Block_1_TrialData.mat    eeg_envir.csv\t\tieeg_envir.csv\n",
            "D65_Block_1_TrialData_1.mat  Environmental_Subject.mat\n",
            "D65_Block_1_TrialData.mat    healthy\n"
          ]
        }
      ]
    },
    {
      "cell_type": "code",
      "source": [
        "eeg = pd.read_csv(\n",
        "    working_path.joinpath('eeg_envir.csv'),\n",
        "    index_col=None\n",
        ")\n",
        "ieeg = pd.read_csv(\n",
        "    working_path.joinpath('ieeg_envir.csv'),\n",
        "    index_col=None\n",
        ")"
      ],
      "metadata": {
        "id": "9HyjeuE6lj3z"
      },
      "execution_count": 198,
      "outputs": []
    },
    {
      "cell_type": "code",
      "source": [
        "# checking significance with ttests\n",
        "def ttest(x, y):\n",
        "  if len(x) == len(y):\n",
        "    return stats.ttest_ind(x, y, equal_var = True)\n",
        "  else:\n",
        "    return stats.ttest_ind(x, y, equal_var = False)"
      ],
      "metadata": {
        "id": "6V6Il10RQ_BB"
      },
      "execution_count": 98,
      "outputs": []
    },
    {
      "cell_type": "markdown",
      "source": [
        "## iEEG dataset"
      ],
      "metadata": {
        "id": "AHSle4eEUO2B"
      }
    },
    {
      "cell_type": "code",
      "source": [
        "ieeg.shape"
      ],
      "metadata": {
        "colab": {
          "base_uri": "https://localhost:8080/"
        },
        "id": "JYIoXXn4ltUl",
        "outputId": "6bd74526-956e-46cb-fee5-1d2b9e707d5c"
      },
      "execution_count": 199,
      "outputs": [
        {
          "output_type": "execute_result",
          "data": {
            "text/plain": [
              "(3464, 28)"
            ]
          },
          "metadata": {},
          "execution_count": 199
        }
      ]
    },
    {
      "cell_type": "code",
      "source": [
        "ieeg[~ieeg['ProbeType'].isnull()].Subject.unique()"
      ],
      "metadata": {
        "colab": {
          "base_uri": "https://localhost:8080/"
        },
        "id": "_xOWS1lzUSyY",
        "outputId": "4e808963-c63c-490f-a7cd-01870ae9a440"
      },
      "execution_count": 200,
      "outputs": [
        {
          "output_type": "execute_result",
          "data": {
            "text/plain": [
              "array(['D27'], dtype=object)"
            ]
          },
          "metadata": {},
          "execution_count": 200
        }
      ]
    },
    {
      "cell_type": "code",
      "source": [
        "ieeg[~ieeg['ProbeType'].isnull()].shape"
      ],
      "metadata": {
        "colab": {
          "base_uri": "https://localhost:8080/"
        },
        "id": "hWdh4IYhUUBY",
        "outputId": "44490ede-2433-4079-873d-ce7b1fe39c44"
      },
      "execution_count": 201,
      "outputs": [
        {
          "output_type": "execute_result",
          "data": {
            "text/plain": [
              "(160, 28)"
            ]
          },
          "metadata": {},
          "execution_count": 201
        }
      ]
    },
    {
      "cell_type": "code",
      "source": [
        "ieeg_preprocess = ieeg[ieeg['ProbeType'].isnull()]"
      ],
      "metadata": {
        "id": "WN9khwKTUV_g"
      },
      "execution_count": 202,
      "outputs": []
    },
    {
      "cell_type": "code",
      "source": [
        "ieeg_preprocess.shape"
      ],
      "metadata": {
        "colab": {
          "base_uri": "https://localhost:8080/"
        },
        "id": "-vHBXFuEUXGI",
        "outputId": "baf3fc6d-95df-4bdb-cc48-4b0e207b823c"
      },
      "execution_count": 203,
      "outputs": [
        {
          "output_type": "execute_result",
          "data": {
            "text/plain": [
              "(3304, 28)"
            ]
          },
          "metadata": {},
          "execution_count": 203
        }
      ]
    },
    {
      "cell_type": "code",
      "source": [
        "ieeg_ = ieeg_preprocess[[\n",
        "    'block', 'StimlusCategory',\n",
        "       'ReactionTime', 'Resp', 'RespCorrect',\n",
        "       'stimulusSounds_idx', 'ProbeCategory', 'probeSound_idx',\n",
        "       'StimulusCategory', 'Trial',\n",
        "       'Subject'\n",
        "]]"
      ],
      "metadata": {
        "id": "BniQR_6XUYGi"
      },
      "execution_count": 204,
      "outputs": []
    },
    {
      "cell_type": "markdown",
      "source": [
        "For now all the columns contain lists within lists."
      ],
      "metadata": {
        "id": "bWlVfeiWd7Sq"
      }
    },
    {
      "cell_type": "code",
      "source": [
        "block = ieeg_.block.values\n",
        "new_block = []\n",
        "for i in block:\n",
        "  new_block.append(i[10])"
      ],
      "metadata": {
        "id": "dP_hAgy4gNmW"
      },
      "execution_count": 205,
      "outputs": []
    },
    {
      "cell_type": "code",
      "source": [
        "stim_cat = ieeg_.StimlusCategory.values\n",
        "new_stim = []\n",
        "for i in stim_cat:\n",
        "  if pd.isna(i) is True:\n",
        "    new_stim.append(i)\n",
        "  elif 'environment' in i:\n",
        "    new_stim.append('environment')\n",
        "  elif 'nonwords' in i:\n",
        "    new_stim.append('nonwords')\n",
        "  elif 'words' in i:\n",
        "    new_stim.append('words')\n",
        "  else:\n",
        "    new_stim.append(i)"
      ],
      "metadata": {
        "id": "st5LSWdfi1I8"
      },
      "execution_count": 207,
      "outputs": []
    },
    {
      "cell_type": "code",
      "source": [
        "stim_cat1 = ieeg_.StimulusCategory.values\n",
        "new_stim1 = []\n",
        "for i in stim_cat1:\n",
        "  if pd.isna(i) is True:\n",
        "    new_stim1.append(i)\n",
        "  elif 'environment' in i:\n",
        "    new_stim1.append('environment')\n",
        "  elif 'nonwords' in i:\n",
        "    new_stim1.append('nonwords')\n",
        "  elif 'words' in i:\n",
        "    new_stim1.append('words')\n",
        "  else:\n",
        "    new_stim1.append(i)"
      ],
      "metadata": {
        "id": "gEiEcxISkQ6m"
      },
      "execution_count": 208,
      "outputs": []
    },
    {
      "cell_type": "code",
      "source": [
        "rt = ieeg_.ReactionTime.values\n",
        "new_rt = []\n",
        "for i in rt:\n",
        "  new_i = i.replace('[[array([[', '')\n",
        "  new_i = new_i.replace(']])]]', '')\n",
        "  new_rt.append(float(new_i))"
      ],
      "metadata": {
        "id": "JeKbTbIskTLG"
      },
      "execution_count": 209,
      "outputs": []
    },
    {
      "cell_type": "code",
      "source": [
        "acc = ieeg_.RespCorrect.values\n",
        "new_acc = []\n",
        "for i in acc:\n",
        "  if '1' in i:\n",
        "    new_acc.append(1)\n",
        "  elif '0' in i:\n",
        "    new_acc.append(0)"
      ],
      "metadata": {
        "id": "ogtJbd5tl3Za"
      },
      "execution_count": 210,
      "outputs": []
    },
    {
      "cell_type": "code",
      "source": [
        "resp = ieeg_.Resp.values\n",
        "new_resp = []\n",
        "for i in resp:\n",
        "  if 'None' in i:\n",
        "    new_resp.append('None')\n",
        "  elif 'Yes' in i:\n",
        "    new_resp.append('Yes')\n",
        "  elif 'No' in i:\n",
        "    new_resp.append('No')"
      ],
      "metadata": {
        "id": "DoySHD0tnn6U"
      },
      "execution_count": 211,
      "outputs": []
    },
    {
      "cell_type": "code",
      "source": [
        "probe = ieeg_.ProbeCategory.values\n",
        "new_probe = []\n",
        "for i in probe:\n",
        "  if '1' in i:\n",
        "    new_probe.append(1)\n",
        "  elif '0' in i:\n",
        "    new_probe.append(0)"
      ],
      "metadata": {
        "id": "SmF3CwDvn-sF"
      },
      "execution_count": 212,
      "outputs": []
    },
    {
      "cell_type": "code",
      "source": [
        "probe_idx = ieeg_.probeSound_idx.values\n",
        "new_probe_idx = []\n",
        "for i in probe_idx:\n",
        "  new_i = i.replace('[[array([[', '')\n",
        "  new_i = new_i.replace(']], dtype=uint8)]]', '')\n",
        "  new_probe_idx.append(int(new_i))"
      ],
      "metadata": {
        "id": "bzPp4oYdTiAU"
      },
      "execution_count": 213,
      "outputs": []
    },
    {
      "cell_type": "code",
      "source": [
        "stim_idx = ieeg_.stimulusSounds_idx.values\n",
        "new_stim_idx = []\n",
        "for i in stim_idx:\n",
        "  new_i = i.replace('[[array([[', '')\n",
        "  new_i = new_i.replace(']], dtype=uint8)]]', '')\n",
        "  new_stim_idx.append(re.findall(r'\\d+', new_i))"
      ],
      "metadata": {
        "id": "fM3aI4F8oHRk"
      },
      "execution_count": 214,
      "outputs": []
    },
    {
      "cell_type": "markdown",
      "source": [
        "Uniting two columns for stimulus category"
      ],
      "metadata": {
        "id": "w03pihXbp_9s"
      }
    },
    {
      "cell_type": "code",
      "source": [
        "ieeg_['block'] = new_block\n",
        "ieeg_['StimlusCategory'] = new_stim\n",
        "ieeg_['StimulusCategory'] = new_stim1\n",
        "ieeg_['ReactionTime'] = new_rt\n",
        "ieeg_['RespCorrect'] = new_acc\n",
        "ieeg_['Resp'] = new_resp\n",
        "ieeg_['ProbeCategory'] = new_probe\n",
        "ieeg_['probeSound_idx'] = new_probe_idx\n",
        "ieeg_['stimulusSounds_idx'] = new_stim_idx"
      ],
      "metadata": {
        "id": "N9ZpNHmbGBv5",
        "outputId": "14b6ac6a-fd91-43f3-b229-39fc74b310ce",
        "colab": {
          "base_uri": "https://localhost:8080/"
        }
      },
      "execution_count": 215,
      "outputs": [
        {
          "output_type": "stream",
          "name": "stderr",
          "text": [
            "/usr/local/lib/python3.7/dist-packages/ipykernel_launcher.py:1: SettingWithCopyWarning: \n",
            "A value is trying to be set on a copy of a slice from a DataFrame.\n",
            "Try using .loc[row_indexer,col_indexer] = value instead\n",
            "\n",
            "See the caveats in the documentation: https://pandas.pydata.org/pandas-docs/stable/user_guide/indexing.html#returning-a-view-versus-a-copy\n",
            "  \"\"\"Entry point for launching an IPython kernel.\n",
            "/usr/local/lib/python3.7/dist-packages/ipykernel_launcher.py:2: SettingWithCopyWarning: \n",
            "A value is trying to be set on a copy of a slice from a DataFrame.\n",
            "Try using .loc[row_indexer,col_indexer] = value instead\n",
            "\n",
            "See the caveats in the documentation: https://pandas.pydata.org/pandas-docs/stable/user_guide/indexing.html#returning-a-view-versus-a-copy\n",
            "  \n",
            "/usr/local/lib/python3.7/dist-packages/ipykernel_launcher.py:3: SettingWithCopyWarning: \n",
            "A value is trying to be set on a copy of a slice from a DataFrame.\n",
            "Try using .loc[row_indexer,col_indexer] = value instead\n",
            "\n",
            "See the caveats in the documentation: https://pandas.pydata.org/pandas-docs/stable/user_guide/indexing.html#returning-a-view-versus-a-copy\n",
            "  This is separate from the ipykernel package so we can avoid doing imports until\n",
            "/usr/local/lib/python3.7/dist-packages/ipykernel_launcher.py:4: SettingWithCopyWarning: \n",
            "A value is trying to be set on a copy of a slice from a DataFrame.\n",
            "Try using .loc[row_indexer,col_indexer] = value instead\n",
            "\n",
            "See the caveats in the documentation: https://pandas.pydata.org/pandas-docs/stable/user_guide/indexing.html#returning-a-view-versus-a-copy\n",
            "  after removing the cwd from sys.path.\n",
            "/usr/local/lib/python3.7/dist-packages/ipykernel_launcher.py:5: SettingWithCopyWarning: \n",
            "A value is trying to be set on a copy of a slice from a DataFrame.\n",
            "Try using .loc[row_indexer,col_indexer] = value instead\n",
            "\n",
            "See the caveats in the documentation: https://pandas.pydata.org/pandas-docs/stable/user_guide/indexing.html#returning-a-view-versus-a-copy\n",
            "  \"\"\"\n",
            "/usr/local/lib/python3.7/dist-packages/ipykernel_launcher.py:6: SettingWithCopyWarning: \n",
            "A value is trying to be set on a copy of a slice from a DataFrame.\n",
            "Try using .loc[row_indexer,col_indexer] = value instead\n",
            "\n",
            "See the caveats in the documentation: https://pandas.pydata.org/pandas-docs/stable/user_guide/indexing.html#returning-a-view-versus-a-copy\n",
            "  \n",
            "/usr/local/lib/python3.7/dist-packages/ipykernel_launcher.py:7: SettingWithCopyWarning: \n",
            "A value is trying to be set on a copy of a slice from a DataFrame.\n",
            "Try using .loc[row_indexer,col_indexer] = value instead\n",
            "\n",
            "See the caveats in the documentation: https://pandas.pydata.org/pandas-docs/stable/user_guide/indexing.html#returning-a-view-versus-a-copy\n",
            "  import sys\n",
            "/usr/local/lib/python3.7/dist-packages/ipykernel_launcher.py:8: SettingWithCopyWarning: \n",
            "A value is trying to be set on a copy of a slice from a DataFrame.\n",
            "Try using .loc[row_indexer,col_indexer] = value instead\n",
            "\n",
            "See the caveats in the documentation: https://pandas.pydata.org/pandas-docs/stable/user_guide/indexing.html#returning-a-view-versus-a-copy\n",
            "  \n",
            "/usr/local/lib/python3.7/dist-packages/ipykernel_launcher.py:9: SettingWithCopyWarning: \n",
            "A value is trying to be set on a copy of a slice from a DataFrame.\n",
            "Try using .loc[row_indexer,col_indexer] = value instead\n",
            "\n",
            "See the caveats in the documentation: https://pandas.pydata.org/pandas-docs/stable/user_guide/indexing.html#returning-a-view-versus-a-copy\n",
            "  if __name__ == '__main__':\n"
          ]
        }
      ]
    },
    {
      "cell_type": "code",
      "source": [
        "stim1 = ieeg_.StimlusCategory.values\n",
        "stim2 = ieeg_.StimulusCategory.values"
      ],
      "metadata": {
        "id": "WaI-QvropEJh"
      },
      "execution_count": 216,
      "outputs": []
    },
    {
      "cell_type": "code",
      "source": [
        "categories = []\n",
        "for i in range(0, ieeg_.shape[0]):\n",
        "  if pd.isna(stim1[i]) is True:\n",
        "    if pd.isna(stim2[i]) is False:\n",
        "      categories.append(stim2[i])\n",
        "    else:\n",
        "      print('Check')\n",
        "  elif pd.isna(stim1[i]) is False:\n",
        "    if pd.isna(stim2[i]) is True:\n",
        "      categories.append(stim1[i])\n",
        "    else:\n",
        "      print('Check')  "
      ],
      "metadata": {
        "id": "WJScIpsnqMHU"
      },
      "execution_count": 217,
      "outputs": []
    },
    {
      "cell_type": "code",
      "source": [
        "ieeg_['StimulusCategory'] = categories"
      ],
      "metadata": {
        "id": "kESYrLtQqjiX",
        "outputId": "b06718fb-556c-48b7-b494-e4a5bd42e317",
        "colab": {
          "base_uri": "https://localhost:8080/"
        }
      },
      "execution_count": 218,
      "outputs": [
        {
          "output_type": "stream",
          "name": "stderr",
          "text": [
            "/usr/local/lib/python3.7/dist-packages/ipykernel_launcher.py:1: SettingWithCopyWarning: \n",
            "A value is trying to be set on a copy of a slice from a DataFrame.\n",
            "Try using .loc[row_indexer,col_indexer] = value instead\n",
            "\n",
            "See the caveats in the documentation: https://pandas.pydata.org/pandas-docs/stable/user_guide/indexing.html#returning-a-view-versus-a-copy\n",
            "  \"\"\"Entry point for launching an IPython kernel.\n"
          ]
        }
      ]
    },
    {
      "cell_type": "code",
      "source": [
        "ieeg_ = ieeg_.loc[:, ieeg_.columns != 'StimlusCategory']"
      ],
      "metadata": {
        "id": "GSYJnUx4ub7O"
      },
      "execution_count": 219,
      "outputs": []
    },
    {
      "cell_type": "code",
      "source": [
        "# checking what are the list lengths for stimuli\n",
        "length = []\n",
        "for i in ieeg_.stimulusSounds_idx.values:\n",
        "  if len(i) not in length:\n",
        "    length.append(len(i))\n",
        "print(length)"
      ],
      "metadata": {
        "colab": {
          "base_uri": "https://localhost:8080/"
        },
        "id": "56XsD3OyX9Wz",
        "outputId": "16857cdd-2241-424c-9e99-66f5aa2db176"
      },
      "execution_count": 220,
      "outputs": [
        {
          "output_type": "stream",
          "name": "stdout",
          "text": [
            "[3, 7, 9, 5]\n"
          ]
        }
      ]
    },
    {
      "cell_type": "code",
      "source": [
        "length = []\n",
        "for i in ieeg_.stimulusSounds_idx.values:\n",
        "  length.append(len(i))\n",
        "ieeg_['Length'] = length"
      ],
      "metadata": {
        "id": "UWNyjRHUYH7R"
      },
      "execution_count": 221,
      "outputs": []
    },
    {
      "cell_type": "code",
      "source": [
        "words = []\n",
        "nonwords = []\n",
        "environment = []\n",
        "for i in ieeg_.StimulusCategory.values:\n",
        "  if i == 'nonwords':\n",
        "    words.append(0)\n",
        "    nonwords.append(1)\n",
        "    environment.append(0)\n",
        "  elif i == 'words':\n",
        "    words.append(1)\n",
        "    nonwords.append(0)\n",
        "    environment.append(0)\n",
        "  elif i == 'environment':\n",
        "    words.append(0)\n",
        "    nonwords.append(0)\n",
        "    environment.append(1)"
      ],
      "metadata": {
        "id": "-81fhX78oQiA"
      },
      "execution_count": 222,
      "outputs": []
    },
    {
      "cell_type": "code",
      "source": [
        "ieeg_['Words'] = words\n",
        "ieeg_['Nonwords'] = nonwords\n",
        "ieeg_['Environment'] = environment"
      ],
      "metadata": {
        "id": "s_xzc93cZ6Hc"
      },
      "execution_count": 223,
      "outputs": []
    },
    {
      "cell_type": "markdown",
      "source": [
        "iEEG dataset has 'None' responses in the column 'Resp'. Reaction times corresponding to these trial are identical and either 2500 ms or 4000 ms. This is our No response trials, that we will treat as incorrect in Accuracy analysis and will get rid of them for RT analysis."
      ],
      "metadata": {
        "id": "fosg2qlAvHfn"
      }
    },
    {
      "cell_type": "code",
      "source": [
        "ieeg_.groupby(['Subject'])['Trial'].count()"
      ],
      "metadata": {
        "colab": {
          "base_uri": "https://localhost:8080/"
        },
        "id": "KzcIDiJeeOV4",
        "outputId": "102bb0bf-8a7e-4473-8f49-17dff976a2a8"
      },
      "execution_count": 224,
      "outputs": [
        {
          "output_type": "execute_result",
          "data": {
            "text/plain": [
              "Subject\n",
              "D28    120\n",
              "D30    168\n",
              "D31    168\n",
              "D32    168\n",
              "D35    168\n",
              "D37    168\n",
              "D38    160\n",
              "D39    168\n",
              "D41    168\n",
              "D42    168\n",
              "D47    168\n",
              "D53    168\n",
              "D54    168\n",
              "D55    168\n",
              "D57    168\n",
              "D63    168\n",
              "D64    168\n",
              "D65    168\n",
              "D69    168\n",
              "D71    168\n",
              "Name: Trial, dtype: int64"
            ]
          },
          "metadata": {},
          "execution_count": 224
        }
      ]
    },
    {
      "cell_type": "code",
      "source": [
        "ieeg_.head()"
      ],
      "metadata": {
        "colab": {
          "base_uri": "https://localhost:8080/",
          "height": 206
        },
        "id": "STrv_PvLjgah",
        "outputId": "702c7e0d-367b-4bae-a8e3-9b9731de6a39"
      },
      "execution_count": 225,
      "outputs": [
        {
          "output_type": "execute_result",
          "data": {
            "text/plain": [
              "    block  ReactionTime Resp  RespCorrect               stimulusSounds_idx  \\\n",
              "160     1      0.990436   No            1                       [3, 7, 15]   \n",
              "161     1      1.302180  Yes            1        [16, 7, 14, 13, 9, 11, 6]   \n",
              "162     1      1.432630  Yes            1  [17, 15, 13, 5, 9, 10, 7, 6, 1]   \n",
              "163     1      1.160734  Yes            1                      [17, 1, 13]   \n",
              "164     1      0.845712  Yes            1        [16, 7, 10, 15, 12, 3, 2]   \n",
              "\n",
              "     ProbeCategory  probeSound_idx StimulusCategory  Trial Subject  Length  \\\n",
              "160              0              14         nonwords      0     D28       3   \n",
              "161              1              11            words      1     D28       7   \n",
              "162              1               7      environment      2     D28       9   \n",
              "163              1              13      environment      3     D28       3   \n",
              "164              1               3      environment      4     D28       7   \n",
              "\n",
              "     Words  Nonwords  Environment  \n",
              "160      0         1            0  \n",
              "161      1         0            0  \n",
              "162      0         0            1  \n",
              "163      0         0            1  \n",
              "164      0         0            1  "
            ],
            "text/html": [
              "\n",
              "  <div id=\"df-19bcdf64-831e-476e-bad0-cd57ec644e2d\">\n",
              "    <div class=\"colab-df-container\">\n",
              "      <div>\n",
              "<style scoped>\n",
              "    .dataframe tbody tr th:only-of-type {\n",
              "        vertical-align: middle;\n",
              "    }\n",
              "\n",
              "    .dataframe tbody tr th {\n",
              "        vertical-align: top;\n",
              "    }\n",
              "\n",
              "    .dataframe thead th {\n",
              "        text-align: right;\n",
              "    }\n",
              "</style>\n",
              "<table border=\"1\" class=\"dataframe\">\n",
              "  <thead>\n",
              "    <tr style=\"text-align: right;\">\n",
              "      <th></th>\n",
              "      <th>block</th>\n",
              "      <th>ReactionTime</th>\n",
              "      <th>Resp</th>\n",
              "      <th>RespCorrect</th>\n",
              "      <th>stimulusSounds_idx</th>\n",
              "      <th>ProbeCategory</th>\n",
              "      <th>probeSound_idx</th>\n",
              "      <th>StimulusCategory</th>\n",
              "      <th>Trial</th>\n",
              "      <th>Subject</th>\n",
              "      <th>Length</th>\n",
              "      <th>Words</th>\n",
              "      <th>Nonwords</th>\n",
              "      <th>Environment</th>\n",
              "    </tr>\n",
              "  </thead>\n",
              "  <tbody>\n",
              "    <tr>\n",
              "      <th>160</th>\n",
              "      <td>1</td>\n",
              "      <td>0.990436</td>\n",
              "      <td>No</td>\n",
              "      <td>1</td>\n",
              "      <td>[3, 7, 15]</td>\n",
              "      <td>0</td>\n",
              "      <td>14</td>\n",
              "      <td>nonwords</td>\n",
              "      <td>0</td>\n",
              "      <td>D28</td>\n",
              "      <td>3</td>\n",
              "      <td>0</td>\n",
              "      <td>1</td>\n",
              "      <td>0</td>\n",
              "    </tr>\n",
              "    <tr>\n",
              "      <th>161</th>\n",
              "      <td>1</td>\n",
              "      <td>1.302180</td>\n",
              "      <td>Yes</td>\n",
              "      <td>1</td>\n",
              "      <td>[16, 7, 14, 13, 9, 11, 6]</td>\n",
              "      <td>1</td>\n",
              "      <td>11</td>\n",
              "      <td>words</td>\n",
              "      <td>1</td>\n",
              "      <td>D28</td>\n",
              "      <td>7</td>\n",
              "      <td>1</td>\n",
              "      <td>0</td>\n",
              "      <td>0</td>\n",
              "    </tr>\n",
              "    <tr>\n",
              "      <th>162</th>\n",
              "      <td>1</td>\n",
              "      <td>1.432630</td>\n",
              "      <td>Yes</td>\n",
              "      <td>1</td>\n",
              "      <td>[17, 15, 13, 5, 9, 10, 7, 6, 1]</td>\n",
              "      <td>1</td>\n",
              "      <td>7</td>\n",
              "      <td>environment</td>\n",
              "      <td>2</td>\n",
              "      <td>D28</td>\n",
              "      <td>9</td>\n",
              "      <td>0</td>\n",
              "      <td>0</td>\n",
              "      <td>1</td>\n",
              "    </tr>\n",
              "    <tr>\n",
              "      <th>163</th>\n",
              "      <td>1</td>\n",
              "      <td>1.160734</td>\n",
              "      <td>Yes</td>\n",
              "      <td>1</td>\n",
              "      <td>[17, 1, 13]</td>\n",
              "      <td>1</td>\n",
              "      <td>13</td>\n",
              "      <td>environment</td>\n",
              "      <td>3</td>\n",
              "      <td>D28</td>\n",
              "      <td>3</td>\n",
              "      <td>0</td>\n",
              "      <td>0</td>\n",
              "      <td>1</td>\n",
              "    </tr>\n",
              "    <tr>\n",
              "      <th>164</th>\n",
              "      <td>1</td>\n",
              "      <td>0.845712</td>\n",
              "      <td>Yes</td>\n",
              "      <td>1</td>\n",
              "      <td>[16, 7, 10, 15, 12, 3, 2]</td>\n",
              "      <td>1</td>\n",
              "      <td>3</td>\n",
              "      <td>environment</td>\n",
              "      <td>4</td>\n",
              "      <td>D28</td>\n",
              "      <td>7</td>\n",
              "      <td>0</td>\n",
              "      <td>0</td>\n",
              "      <td>1</td>\n",
              "    </tr>\n",
              "  </tbody>\n",
              "</table>\n",
              "</div>\n",
              "      <button class=\"colab-df-convert\" onclick=\"convertToInteractive('df-19bcdf64-831e-476e-bad0-cd57ec644e2d')\"\n",
              "              title=\"Convert this dataframe to an interactive table.\"\n",
              "              style=\"display:none;\">\n",
              "        \n",
              "  <svg xmlns=\"http://www.w3.org/2000/svg\" height=\"24px\"viewBox=\"0 0 24 24\"\n",
              "       width=\"24px\">\n",
              "    <path d=\"M0 0h24v24H0V0z\" fill=\"none\"/>\n",
              "    <path d=\"M18.56 5.44l.94 2.06.94-2.06 2.06-.94-2.06-.94-.94-2.06-.94 2.06-2.06.94zm-11 1L8.5 8.5l.94-2.06 2.06-.94-2.06-.94L8.5 2.5l-.94 2.06-2.06.94zm10 10l.94 2.06.94-2.06 2.06-.94-2.06-.94-.94-2.06-.94 2.06-2.06.94z\"/><path d=\"M17.41 7.96l-1.37-1.37c-.4-.4-.92-.59-1.43-.59-.52 0-1.04.2-1.43.59L10.3 9.45l-7.72 7.72c-.78.78-.78 2.05 0 2.83L4 21.41c.39.39.9.59 1.41.59.51 0 1.02-.2 1.41-.59l7.78-7.78 2.81-2.81c.8-.78.8-2.07 0-2.86zM5.41 20L4 18.59l7.72-7.72 1.47 1.35L5.41 20z\"/>\n",
              "  </svg>\n",
              "      </button>\n",
              "      \n",
              "  <style>\n",
              "    .colab-df-container {\n",
              "      display:flex;\n",
              "      flex-wrap:wrap;\n",
              "      gap: 12px;\n",
              "    }\n",
              "\n",
              "    .colab-df-convert {\n",
              "      background-color: #E8F0FE;\n",
              "      border: none;\n",
              "      border-radius: 50%;\n",
              "      cursor: pointer;\n",
              "      display: none;\n",
              "      fill: #1967D2;\n",
              "      height: 32px;\n",
              "      padding: 0 0 0 0;\n",
              "      width: 32px;\n",
              "    }\n",
              "\n",
              "    .colab-df-convert:hover {\n",
              "      background-color: #E2EBFA;\n",
              "      box-shadow: 0px 1px 2px rgba(60, 64, 67, 0.3), 0px 1px 3px 1px rgba(60, 64, 67, 0.15);\n",
              "      fill: #174EA6;\n",
              "    }\n",
              "\n",
              "    [theme=dark] .colab-df-convert {\n",
              "      background-color: #3B4455;\n",
              "      fill: #D2E3FC;\n",
              "    }\n",
              "\n",
              "    [theme=dark] .colab-df-convert:hover {\n",
              "      background-color: #434B5C;\n",
              "      box-shadow: 0px 1px 3px 1px rgba(0, 0, 0, 0.15);\n",
              "      filter: drop-shadow(0px 1px 2px rgba(0, 0, 0, 0.3));\n",
              "      fill: #FFFFFF;\n",
              "    }\n",
              "  </style>\n",
              "\n",
              "      <script>\n",
              "        const buttonEl =\n",
              "          document.querySelector('#df-19bcdf64-831e-476e-bad0-cd57ec644e2d button.colab-df-convert');\n",
              "        buttonEl.style.display =\n",
              "          google.colab.kernel.accessAllowed ? 'block' : 'none';\n",
              "\n",
              "        async function convertToInteractive(key) {\n",
              "          const element = document.querySelector('#df-19bcdf64-831e-476e-bad0-cd57ec644e2d');\n",
              "          const dataTable =\n",
              "            await google.colab.kernel.invokeFunction('convertToInteractive',\n",
              "                                                     [key], {});\n",
              "          if (!dataTable) return;\n",
              "\n",
              "          const docLinkHtml = 'Like what you see? Visit the ' +\n",
              "            '<a target=\"_blank\" href=https://colab.research.google.com/notebooks/data_table.ipynb>data table notebook</a>'\n",
              "            + ' to learn more about interactive tables.';\n",
              "          element.innerHTML = '';\n",
              "          dataTable['output_type'] = 'display_data';\n",
              "          await google.colab.output.renderOutput(dataTable, element);\n",
              "          const docLink = document.createElement('div');\n",
              "          docLink.innerHTML = docLinkHtml;\n",
              "          element.appendChild(docLink);\n",
              "        }\n",
              "      </script>\n",
              "    </div>\n",
              "  </div>\n",
              "  "
            ]
          },
          "metadata": {},
          "execution_count": 225
        }
      ]
    },
    {
      "cell_type": "code",
      "source": [
        "ieeg_ = ieeg_[ieeg_['Subject'] != 'D28']"
      ],
      "metadata": {
        "id": "_6lfeo8_fW_M"
      },
      "execution_count": 226,
      "outputs": []
    },
    {
      "cell_type": "code",
      "source": [
        "sns.distplot(ieeg_[ieeg_['Resp'] == 'None']['ReactionTime'])\n",
        "pl.title('Distribution of None trial in iEEG dataset');\n",
        "ieeg_[ieeg_['Resp'] == 'None']['ReactionTime'].count()"
      ],
      "metadata": {
        "id": "9q6XjM42uCkb",
        "outputId": "91202e85-55b6-4e4a-9b34-27629a3cf531",
        "colab": {
          "base_uri": "https://localhost:8080/",
          "height": 376
        }
      },
      "execution_count": 228,
      "outputs": [
        {
          "output_type": "stream",
          "name": "stderr",
          "text": [
            "/usr/local/lib/python3.7/dist-packages/seaborn/distributions.py:2619: FutureWarning: `distplot` is a deprecated function and will be removed in a future version. Please adapt your code to use either `displot` (a figure-level function with similar flexibility) or `histplot` (an axes-level function for histograms).\n",
            "  warnings.warn(msg, FutureWarning)\n"
          ]
        },
        {
          "output_type": "execute_result",
          "data": {
            "text/plain": [
              "216"
            ]
          },
          "metadata": {},
          "execution_count": 228
        },
        {
          "output_type": "display_data",
          "data": {
            "text/plain": [
              "<Figure size 432x288 with 1 Axes>"
            ],
            "image/png": "[encoded data removed]"
          },
          "metadata": {}
        }
      ]
    },
    {
      "cell_type": "code",
      "source": [
        "ieeg_[ieeg_['ReactionTime'] > 3.5].Subject.unique()"
      ],
      "metadata": {
        "id": "3A4pYgr1G2ha",
        "outputId": "6ce33169-ccad-4a18-8c19-6cf245ddbef4",
        "colab": {
          "base_uri": "https://localhost:8080/"
        }
      },
      "execution_count": 229,
      "outputs": [
        {
          "output_type": "execute_result",
          "data": {
            "text/plain": [
              "array(['D30', 'D31'], dtype=object)"
            ]
          },
          "metadata": {},
          "execution_count": 229
        }
      ]
    },
    {
      "cell_type": "code",
      "source": [
        "idx1 = ieeg_[(ieeg_['Subject'] == 'D30') & (ieeg_['ReactionTime'] > 2.4)].index"
      ],
      "metadata": {
        "id": "v_7pEr7vHw9k"
      },
      "execution_count": 236,
      "outputs": []
    },
    {
      "cell_type": "code",
      "source": [
        "idx2 = ieeg_[(ieeg_['Subject'] == 'D31') & (ieeg_['ReactionTime'] > 2.4)].index"
      ],
      "metadata": {
        "id": "YbC1d0_pH4zk"
      },
      "execution_count": 235,
      "outputs": []
    },
    {
      "cell_type": "code",
      "source": [
        "ind = []\n",
        "for i in idx1:\n",
        "  ind.append(i)\n",
        "for i in idx2:\n",
        "  ind.append(i)"
      ],
      "metadata": {
        "id": "fK1GPUn2HAmy"
      },
      "execution_count": 241,
      "outputs": []
    },
    {
      "cell_type": "code",
      "source": [
        "ieeg_ = ieeg_.drop(ind)"
      ],
      "metadata": {
        "id": "AF9_MPdUky_-"
      },
      "execution_count": 246,
      "outputs": []
    },
    {
      "cell_type": "code",
      "source": [
        "print(\n",
        "    'Accuracy without \"No response\" trials',\n",
        "    ieeg_[ieeg_['Resp'] != 'None'].RespCorrect.mean()\n",
        ")\n",
        "print(\n",
        "    'Accuracy with \"No response\" trials',\n",
        "    ieeg_.RespCorrect.mean()\n",
        ")"
      ],
      "metadata": {
        "id": "378YPQp3zrf4",
        "outputId": "f5e37362-a9b4-4997-c599-9e06bcb96760",
        "colab": {
          "base_uri": "https://localhost:8080/"
        }
      },
      "execution_count": 248,
      "outputs": [
        {
          "output_type": "stream",
          "name": "stdout",
          "text": [
            "Accuracy without \"No response\" trials 0.8205474822575194\n",
            "Accuracy with \"No response\" trials 0.7666561414587938\n"
          ]
        }
      ]
    },
    {
      "cell_type": "code",
      "source": [
        "print('Shape of the dataset with no response trials', ieeg_.shape)\n",
        "print('Shape of the dataset without no response trials', ieeg_[ieeg_['Resp'] != 'None'].shape)"
      ],
      "metadata": {
        "id": "WAFWEUaZ0DW5",
        "outputId": "fc9dcc39-742a-415e-f2d9-a9d11d6c577a",
        "colab": {
          "base_uri": "https://localhost:8080/"
        }
      },
      "execution_count": 249,
      "outputs": [
        {
          "output_type": "stream",
          "name": "stdout",
          "text": [
            "Shape of the dataset with no response trials (3167, 14)\n",
            "Shape of the dataset without no response trials (2959, 14)\n"
          ]
        }
      ]
    },
    {
      "cell_type": "code",
      "source": [
        "checkset = ieeg_.groupby(['Subject'])[['RespCorrect']].apply(\n",
        "    lambda x: x.sum()/x.count()\n",
        ")\n",
        "checkset[checkset['RespCorrect'] < 0.70]"
      ],
      "metadata": {
        "id": "YtVAbP5xxa-i",
        "outputId": "d215fe30-8cd3-4fda-a8a5-904c26a4f893",
        "colab": {
          "base_uri": "https://localhost:8080/",
          "height": 175
        }
      },
      "execution_count": 250,
      "outputs": [
        {
          "output_type": "execute_result",
          "data": {
            "text/plain": [
              "         RespCorrect\n",
              "Subject             \n",
              "D37         0.672619\n",
              "D41         0.428571\n",
              "D54         0.488095"
            ],
            "text/html": [
              "\n",
              "  <div id=\"df-9e4af246-c6b4-41fb-a0a8-4620f9e54a73\">\n",
              "    <div class=\"colab-df-container\">\n",
              "      <div>\n",
              "<style scoped>\n",
              "    .dataframe tbody tr th:only-of-type {\n",
              "        vertical-align: middle;\n",
              "    }\n",
              "\n",
              "    .dataframe tbody tr th {\n",
              "        vertical-align: top;\n",
              "    }\n",
              "\n",
              "    .dataframe thead th {\n",
              "        text-align: right;\n",
              "    }\n",
              "</style>\n",
              "<table border=\"1\" class=\"dataframe\">\n",
              "  <thead>\n",
              "    <tr style=\"text-align: right;\">\n",
              "      <th></th>\n",
              "      <th>RespCorrect</th>\n",
              "    </tr>\n",
              "    <tr>\n",
              "      <th>Subject</th>\n",
              "      <th></th>\n",
              "    </tr>\n",
              "  </thead>\n",
              "  <tbody>\n",
              "    <tr>\n",
              "      <th>D37</th>\n",
              "      <td>0.672619</td>\n",
              "    </tr>\n",
              "    <tr>\n",
              "      <th>D41</th>\n",
              "      <td>0.428571</td>\n",
              "    </tr>\n",
              "    <tr>\n",
              "      <th>D54</th>\n",
              "      <td>0.488095</td>\n",
              "    </tr>\n",
              "  </tbody>\n",
              "</table>\n",
              "</div>\n",
              "      <button class=\"colab-df-convert\" onclick=\"convertToInteractive('df-9e4af246-c6b4-41fb-a0a8-4620f9e54a73')\"\n",
              "              title=\"Convert this dataframe to an interactive table.\"\n",
              "              style=\"display:none;\">\n",
              "        \n",
              "  <svg xmlns=\"http://www.w3.org/2000/svg\" height=\"24px\"viewBox=\"0 0 24 24\"\n",
              "       width=\"24px\">\n",
              "    <path d=\"M0 0h24v24H0V0z\" fill=\"none\"/>\n",
              "    <path d=\"M18.56 5.44l.94 2.06.94-2.06 2.06-.94-2.06-.94-.94-2.06-.94 2.06-2.06.94zm-11 1L8.5 8.5l.94-2.06 2.06-.94-2.06-.94L8.5 2.5l-.94 2.06-2.06.94zm10 10l.94 2.06.94-2.06 2.06-.94-2.06-.94-.94-2.06-.94 2.06-2.06.94z\"/><path d=\"M17.41 7.96l-1.37-1.37c-.4-.4-.92-.59-1.43-.59-.52 0-1.04.2-1.43.59L10.3 9.45l-7.72 7.72c-.78.78-.78 2.05 0 2.83L4 21.41c.39.39.9.59 1.41.59.51 0 1.02-.2 1.41-.59l7.78-7.78 2.81-2.81c.8-.78.8-2.07 0-2.86zM5.41 20L4 18.59l7.72-7.72 1.47 1.35L5.41 20z\"/>\n",
              "  </svg>\n",
              "      </button>\n",
              "      \n",
              "  <style>\n",
              "    .colab-df-container {\n",
              "      display:flex;\n",
              "      flex-wrap:wrap;\n",
              "      gap: 12px;\n",
              "    }\n",
              "\n",
              "    .colab-df-convert {\n",
              "      background-color: #E8F0FE;\n",
              "      border: none;\n",
              "      border-radius: 50%;\n",
              "      cursor: pointer;\n",
              "      display: none;\n",
              "      fill: #1967D2;\n",
              "      height: 32px;\n",
              "      padding: 0 0 0 0;\n",
              "      width: 32px;\n",
              "    }\n",
              "\n",
              "    .colab-df-convert:hover {\n",
              "      background-color: #E2EBFA;\n",
              "      box-shadow: 0px 1px 2px rgba(60, 64, 67, 0.3), 0px 1px 3px 1px rgba(60, 64, 67, 0.15);\n",
              "      fill: #174EA6;\n",
              "    }\n",
              "\n",
              "    [theme=dark] .colab-df-convert {\n",
              "      background-color: #3B4455;\n",
              "      fill: #D2E3FC;\n",
              "    }\n",
              "\n",
              "    [theme=dark] .colab-df-convert:hover {\n",
              "      background-color: #434B5C;\n",
              "      box-shadow: 0px 1px 3px 1px rgba(0, 0, 0, 0.15);\n",
              "      filter: drop-shadow(0px 1px 2px rgba(0, 0, 0, 0.3));\n",
              "      fill: #FFFFFF;\n",
              "    }\n",
              "  </style>\n",
              "\n",
              "      <script>\n",
              "        const buttonEl =\n",
              "          document.querySelector('#df-9e4af246-c6b4-41fb-a0a8-4620f9e54a73 button.colab-df-convert');\n",
              "        buttonEl.style.display =\n",
              "          google.colab.kernel.accessAllowed ? 'block' : 'none';\n",
              "\n",
              "        async function convertToInteractive(key) {\n",
              "          const element = document.querySelector('#df-9e4af246-c6b4-41fb-a0a8-4620f9e54a73');\n",
              "          const dataTable =\n",
              "            await google.colab.kernel.invokeFunction('convertToInteractive',\n",
              "                                                     [key], {});\n",
              "          if (!dataTable) return;\n",
              "\n",
              "          const docLinkHtml = 'Like what you see? Visit the ' +\n",
              "            '<a target=\"_blank\" href=https://colab.research.google.com/notebooks/data_table.ipynb>data table notebook</a>'\n",
              "            + ' to learn more about interactive tables.';\n",
              "          element.innerHTML = '';\n",
              "          dataTable['output_type'] = 'display_data';\n",
              "          await google.colab.output.renderOutput(dataTable, element);\n",
              "          const docLink = document.createElement('div');\n",
              "          docLink.innerHTML = docLinkHtml;\n",
              "          element.appendChild(docLink);\n",
              "        }\n",
              "      </script>\n",
              "    </div>\n",
              "  </div>\n",
              "  "
            ]
          },
          "metadata": {},
          "execution_count": 250
        }
      ]
    },
    {
      "cell_type": "code",
      "source": [
        "ieeg_ = ieeg_[\n",
        "    (ieeg_['Subject'] != 'D37') &\n",
        "    (ieeg_['Subject'] != 'D41') &\n",
        "    (ieeg_['Subject'] != 'D54')    \n",
        "]"
      ],
      "metadata": {
        "id": "iq9IKUsW0vz6"
      },
      "execution_count": 251,
      "outputs": []
    },
    {
      "cell_type": "code",
      "source": [
        "print(\n",
        "    'Accuracy without \"No response\" trials',\n",
        "    ieeg_[ieeg_['Resp'] != 'None'].RespCorrect.mean()\n",
        ")\n",
        "print(\n",
        "    'Accuracy with \"No response\" trials',\n",
        "    ieeg_.RespCorrect.mean()\n",
        ")"
      ],
      "metadata": {
        "id": "OTIbwGY02iFs",
        "outputId": "264a406b-4bf3-42c1-aa38-9336625e707c",
        "colab": {
          "base_uri": "https://localhost:8080/"
        }
      },
      "execution_count": 252,
      "outputs": [
        {
          "output_type": "stream",
          "name": "stdout",
          "text": [
            "Accuracy without \"No response\" trials 0.8385719829258829\n",
            "Accuracy with \"No response\" trials 0.8114907998497934\n"
          ]
        }
      ]
    },
    {
      "cell_type": "code",
      "source": [
        "sns.distplot(ieeg_[ieeg_['Resp'] != 'None'].ReactionTime)\n",
        "pl.title('RT distribution iEEG');\n",
        "print(\n",
        "    'Mean', ieeg_[ieeg_['Resp'] != 'None'].ReactionTime.mean(),\n",
        "    'Max', ieeg_[ieeg_['Resp'] != 'None'].ReactionTime.max(),\n",
        "    'Min', ieeg_[ieeg_['Resp'] != 'None'].ReactionTime.min()\n",
        ")"
      ],
      "metadata": {
        "id": "8w53A2DK0KRJ",
        "outputId": "fa47e65d-6f7b-4d78-f659-58f519451c1b",
        "colab": {
          "base_uri": "https://localhost:8080/",
          "height": 376
        }
      },
      "execution_count": 253,
      "outputs": [
        {
          "output_type": "stream",
          "name": "stderr",
          "text": [
            "/usr/local/lib/python3.7/dist-packages/seaborn/distributions.py:2619: FutureWarning: `distplot` is a deprecated function and will be removed in a future version. Please adapt your code to use either `displot` (a figure-level function with similar flexibility) or `histplot` (an axes-level function for histograms).\n",
            "  warnings.warn(msg, FutureWarning)\n"
          ]
        },
        {
          "output_type": "stream",
          "name": "stdout",
          "text": [
            "Mean 1.14655908774156 Max 2.47119832 Min 0.28821655\n"
          ]
        },
        {
          "output_type": "display_data",
          "data": {
            "text/plain": [
              "<Figure size 432x288 with 1 Axes>"
            ],
            "image/png": "[encoded data removed]"
          },
          "metadata": {}
        }
      ]
    },
    {
      "cell_type": "code",
      "source": [
        "values = []\n",
        "for i in ieeg_[ieeg_['Resp'] != 'None'].Subject.unique():\n",
        "  subset = ieeg_[ieeg_['Resp'] != 'None']\n",
        "  subset = subset[subset['Subject'] == i]\n",
        "  q75 = np.percentile(subset['ReactionTime'], 75)\n",
        "  q25 = np.percentile(subset['ReactionTime'], 25)\n",
        "  inter_qr = q75 - q25\n",
        "  upper = q75 + (inter_qr*3)\n",
        "  lower = q25 - (inter_qr*3)\n",
        "  index = 0\n",
        "  for val in subset.ReactionTime.values:\n",
        "    if val < lower:\n",
        "      values.append((i, val))\n",
        "      index += 1\n",
        "    elif val > upper:\n",
        "      values.append((i, val))\n",
        "      index += 1\n",
        "  print(i, index)"
      ],
      "metadata": {
        "colab": {
          "base_uri": "https://localhost:8080/"
        },
        "id": "u9LnzCfm5Gf8",
        "outputId": "f6ce8e90-479b-48b0-f397-03dde424256c"
      },
      "execution_count": 254,
      "outputs": [
        {
          "output_type": "stream",
          "name": "stdout",
          "text": [
            "D30 1\n",
            "D31 0\n",
            "D32 0\n",
            "D35 2\n",
            "D38 7\n",
            "D39 3\n",
            "D42 0\n",
            "D47 0\n",
            "D53 1\n",
            "D55 3\n",
            "D57 0\n",
            "D63 0\n",
            "D69 1\n",
            "D71 3\n",
            "D64 0\n",
            "D65 0\n"
          ]
        }
      ]
    },
    {
      "cell_type": "code",
      "source": [
        "len(values)"
      ],
      "metadata": {
        "colab": {
          "base_uri": "https://localhost:8080/"
        },
        "id": "hVXFFgqj6U89",
        "outputId": "058b7d2d-3a0b-4c76-a202-1fbe467f5b5b"
      },
      "execution_count": 255,
      "outputs": [
        {
          "output_type": "execute_result",
          "data": {
            "text/plain": [
              "21"
            ]
          },
          "metadata": {},
          "execution_count": 255
        }
      ]
    },
    {
      "cell_type": "markdown",
      "source": [
        "## EEG dataset"
      ],
      "metadata": {
        "id": "ZunKiHz-23cn"
      }
    },
    {
      "cell_type": "code",
      "source": [
        "eeg.Subject.unique()"
      ],
      "metadata": {
        "id": "0MvV7CPxNBre",
        "outputId": "c6906d79-cb1a-4bb4-d67a-74191cb7d206",
        "colab": {
          "base_uri": "https://localhost:8080/"
        }
      },
      "execution_count": 133,
      "outputs": [
        {
          "output_type": "execute_result",
          "data": {
            "text/plain": [
              "array(['E32', 'E34', 'E35', 'E36', 'E37', 'E38', 'E39', 'E40', 'E41',\n",
              "       'E42', 'E43', 'E44', 'E45', 'E46'], dtype=object)"
            ]
          },
          "metadata": {},
          "execution_count": 133
        }
      ]
    },
    {
      "cell_type": "code",
      "source": [
        "eeg.columns"
      ],
      "metadata": {
        "id": "GMaiddES4M4e",
        "outputId": "56f86b69-2e28-4851-9972-a78d829ad1df",
        "colab": {
          "base_uri": "https://localhost:8080/"
        }
      },
      "execution_count": 134,
      "outputs": [
        {
          "output_type": "execute_result",
          "data": {
            "text/plain": [
              "Index(['Unnamed: 0', 'block', 'StimulusCategory', 'ReactionTime', 'KeyCode',\n",
              "       'Resp', 'RespCorrect', 'stimulusAudioStart', 'stimulusAlignedTrigger',\n",
              "       'probeAudioStart', 'probeAlignedTrigger', 'stimulusSounds_idx',\n",
              "       'stimulusSounds_name', 'ProbeCategory', 'probeSound_idx',\n",
              "       'probeSound_name', 'responseAlignedTrigger', 'trialOrder_All',\n",
              "       'ListenCueOnset', 'MaintenancePeriodOnset', 'ProbeCueOnset', 'Trial',\n",
              "       'Subject'],\n",
              "      dtype='object')"
            ]
          },
          "metadata": {},
          "execution_count": 134
        }
      ]
    },
    {
      "cell_type": "code",
      "source": [
        "eeg_ = eeg[[\n",
        "    'block', 'StimulusCategory', 'ReactionTime',\n",
        "       'Resp', 'RespCorrect', 'stimulusSounds_idx',\n",
        "       'ProbeCategory', 'probeSound_idx',\n",
        "       'Trial', 'Subject'\n",
        "]]"
      ],
      "metadata": {
        "id": "ui7BELqGMsc4"
      },
      "execution_count": 135,
      "outputs": []
    },
    {
      "cell_type": "code",
      "source": [
        "len(eeg.Subject.unique())"
      ],
      "metadata": {
        "colab": {
          "base_uri": "https://localhost:8080/"
        },
        "id": "zBgmlNEAmlo5",
        "outputId": "e7d02505-1570-436c-c58e-7d4f1079f23f"
      },
      "execution_count": 136,
      "outputs": [
        {
          "output_type": "execute_result",
          "data": {
            "text/plain": [
              "14"
            ]
          },
          "metadata": {},
          "execution_count": 136
        }
      ]
    },
    {
      "cell_type": "markdown",
      "source": [
        "Getting rid of additional lists containing lists"
      ],
      "metadata": {
        "id": "kiqLEYTGbPvP"
      }
    },
    {
      "cell_type": "code",
      "source": [
        "block = eeg_.block.values\n",
        "new_block = []\n",
        "for i in block:\n",
        "  new_block.append(i[10])"
      ],
      "metadata": {
        "id": "OGLHn5rBM97-"
      },
      "execution_count": 138,
      "outputs": []
    },
    {
      "cell_type": "code",
      "source": [
        "stim_cat = eeg_.StimulusCategory.values\n",
        "new_stim = []\n",
        "for i in stim_cat:\n",
        "  if 'environment' in i:\n",
        "    new_stim.append('environment')\n",
        "  elif 'nonwords' in i:\n",
        "    new_stim.append('nonwords')\n",
        "  elif 'words' in i:\n",
        "    new_stim.append('words')"
      ],
      "metadata": {
        "id": "fZbNOYk1NILq"
      },
      "execution_count": 150,
      "outputs": []
    },
    {
      "cell_type": "code",
      "source": [
        "rt = eeg_.ReactionTime.values\n",
        "new_rt = []\n",
        "for i in rt:\n",
        "  new_i = i.replace('[[array([[', '')\n",
        "  new_i = new_i.replace(']])]]', '')\n",
        "  new_rt.append(float(new_i))"
      ],
      "metadata": {
        "id": "Wkf6DqpyNOz7"
      },
      "execution_count": 143,
      "outputs": []
    },
    {
      "cell_type": "code",
      "source": [
        "acc = eeg_.RespCorrect.values\n",
        "new_acc = []\n",
        "for i in acc:\n",
        "  if '1' in i:\n",
        "    new_acc.append(1)\n",
        "  elif '0' in i:\n",
        "    new_acc.append(0)"
      ],
      "metadata": {
        "id": "0qGueWLMNO4M"
      },
      "execution_count": 144,
      "outputs": []
    },
    {
      "cell_type": "code",
      "source": [
        "resp = eeg_.Resp.values\n",
        "new_resp = []\n",
        "for i in resp:\n",
        "  if 'None' in i:\n",
        "    new_resp.append('None')\n",
        "  elif 'Yes' in i:\n",
        "    new_resp.append('Yes')\n",
        "  elif 'No' in i:\n",
        "    new_resp.append('No')"
      ],
      "metadata": {
        "id": "8PH0TJRqNUFZ"
      },
      "execution_count": 145,
      "outputs": []
    },
    {
      "cell_type": "code",
      "source": [
        "probe = eeg_.ProbeCategory.values\n",
        "new_probe = []\n",
        "for i in probe:\n",
        "  if '1' in i:\n",
        "    new_probe.append(1)\n",
        "  elif '0' in i:\n",
        "    new_probe.append(0)"
      ],
      "metadata": {
        "id": "ThxYiVZ-bHuR"
      },
      "execution_count": 146,
      "outputs": []
    },
    {
      "cell_type": "code",
      "source": [
        "probe_idx = eeg_.probeSound_idx.values\n",
        "new_probe_idx = []\n",
        "for i in probe_idx:\n",
        "  new_i = i.replace('[[array([[', '')\n",
        "  new_i = new_i.replace(']], dtype=uint8)]]', '')\n",
        "  new_probe_idx.append(int(new_i))"
      ],
      "metadata": {
        "id": "zO8tFQp_bH2F"
      },
      "execution_count": 147,
      "outputs": []
    },
    {
      "cell_type": "code",
      "source": [
        "stim_idx = eeg_.stimulusSounds_idx.values\n",
        "new_stim_idx = []\n",
        "for i in stim_idx:\n",
        "  new_i = i.replace('[[array([[', '')\n",
        "  new_i = new_i.replace(']], dtype=uint8)]]', '')\n",
        "  new_stim_idx.append(re.findall(r'\\d+', new_i))"
      ],
      "metadata": {
        "id": "5QmzLcslbKVe"
      },
      "execution_count": 148,
      "outputs": []
    },
    {
      "cell_type": "code",
      "source": [
        "eeg_['block'] = new_block\n",
        "eeg_['StimulusCategory'] = new_stim\n",
        "eeg_['ReactionTime'] = new_rt\n",
        "eeg_['RespCorrect'] = new_acc\n",
        "eeg_['Resp'] = new_resp\n",
        "eeg_['ProbeCategory'] = new_probe\n",
        "eeg_['probeSound_idx'] = new_probe_idx\n",
        "eeg_['stimulusSounds_idx'] = new_stim_idx"
      ],
      "metadata": {
        "colab": {
          "base_uri": "https://localhost:8080/"
        },
        "id": "UQ-qPXfIbNvu",
        "outputId": "9217d2ec-8e23-4443-a823-78ef729ceaf2"
      },
      "execution_count": 151,
      "outputs": [
        {
          "output_type": "stream",
          "name": "stderr",
          "text": [
            "/usr/local/lib/python3.7/dist-packages/ipykernel_launcher.py:1: SettingWithCopyWarning: \n",
            "A value is trying to be set on a copy of a slice from a DataFrame.\n",
            "Try using .loc[row_indexer,col_indexer] = value instead\n",
            "\n",
            "See the caveats in the documentation: https://pandas.pydata.org/pandas-docs/stable/user_guide/indexing.html#returning-a-view-versus-a-copy\n",
            "  \"\"\"Entry point for launching an IPython kernel.\n",
            "/usr/local/lib/python3.7/dist-packages/ipykernel_launcher.py:2: SettingWithCopyWarning: \n",
            "A value is trying to be set on a copy of a slice from a DataFrame.\n",
            "Try using .loc[row_indexer,col_indexer] = value instead\n",
            "\n",
            "See the caveats in the documentation: https://pandas.pydata.org/pandas-docs/stable/user_guide/indexing.html#returning-a-view-versus-a-copy\n",
            "  \n",
            "/usr/local/lib/python3.7/dist-packages/ipykernel_launcher.py:3: SettingWithCopyWarning: \n",
            "A value is trying to be set on a copy of a slice from a DataFrame.\n",
            "Try using .loc[row_indexer,col_indexer] = value instead\n",
            "\n",
            "See the caveats in the documentation: https://pandas.pydata.org/pandas-docs/stable/user_guide/indexing.html#returning-a-view-versus-a-copy\n",
            "  This is separate from the ipykernel package so we can avoid doing imports until\n",
            "/usr/local/lib/python3.7/dist-packages/ipykernel_launcher.py:4: SettingWithCopyWarning: \n",
            "A value is trying to be set on a copy of a slice from a DataFrame.\n",
            "Try using .loc[row_indexer,col_indexer] = value instead\n",
            "\n",
            "See the caveats in the documentation: https://pandas.pydata.org/pandas-docs/stable/user_guide/indexing.html#returning-a-view-versus-a-copy\n",
            "  after removing the cwd from sys.path.\n",
            "/usr/local/lib/python3.7/dist-packages/ipykernel_launcher.py:5: SettingWithCopyWarning: \n",
            "A value is trying to be set on a copy of a slice from a DataFrame.\n",
            "Try using .loc[row_indexer,col_indexer] = value instead\n",
            "\n",
            "See the caveats in the documentation: https://pandas.pydata.org/pandas-docs/stable/user_guide/indexing.html#returning-a-view-versus-a-copy\n",
            "  \"\"\"\n",
            "/usr/local/lib/python3.7/dist-packages/ipykernel_launcher.py:6: SettingWithCopyWarning: \n",
            "A value is trying to be set on a copy of a slice from a DataFrame.\n",
            "Try using .loc[row_indexer,col_indexer] = value instead\n",
            "\n",
            "See the caveats in the documentation: https://pandas.pydata.org/pandas-docs/stable/user_guide/indexing.html#returning-a-view-versus-a-copy\n",
            "  \n",
            "/usr/local/lib/python3.7/dist-packages/ipykernel_launcher.py:7: SettingWithCopyWarning: \n",
            "A value is trying to be set on a copy of a slice from a DataFrame.\n",
            "Try using .loc[row_indexer,col_indexer] = value instead\n",
            "\n",
            "See the caveats in the documentation: https://pandas.pydata.org/pandas-docs/stable/user_guide/indexing.html#returning-a-view-versus-a-copy\n",
            "  import sys\n",
            "/usr/local/lib/python3.7/dist-packages/ipykernel_launcher.py:8: SettingWithCopyWarning: \n",
            "A value is trying to be set on a copy of a slice from a DataFrame.\n",
            "Try using .loc[row_indexer,col_indexer] = value instead\n",
            "\n",
            "See the caveats in the documentation: https://pandas.pydata.org/pandas-docs/stable/user_guide/indexing.html#returning-a-view-versus-a-copy\n",
            "  \n"
          ]
        }
      ]
    },
    {
      "cell_type": "code",
      "source": [
        "length = []\n",
        "for i in eeg_.stimulusSounds_idx.values:\n",
        "  if len(i) not in length:\n",
        "    length.append(len(i))\n",
        "print(length)"
      ],
      "metadata": {
        "colab": {
          "base_uri": "https://localhost:8080/"
        },
        "id": "v9RAMCaWb-4I",
        "outputId": "7adc9fa8-696b-4b75-86a8-f8720232b168"
      },
      "execution_count": 153,
      "outputs": [
        {
          "output_type": "stream",
          "name": "stdout",
          "text": [
            "[3, 7, 9, 5]\n"
          ]
        }
      ]
    },
    {
      "cell_type": "code",
      "source": [
        "length = []\n",
        "for i in eeg_.stimulusSounds_idx.values:\n",
        "  length.append(len(i))\n",
        "eeg_['Length'] = length"
      ],
      "metadata": {
        "colab": {
          "base_uri": "https://localhost:8080/"
        },
        "id": "s1FwL0AhcZ5R",
        "outputId": "f5674032-0ed7-4fe8-f0da-6ff21799d2a6"
      },
      "execution_count": 154,
      "outputs": [
        {
          "output_type": "stream",
          "name": "stderr",
          "text": [
            "/usr/local/lib/python3.7/dist-packages/ipykernel_launcher.py:4: SettingWithCopyWarning: \n",
            "A value is trying to be set on a copy of a slice from a DataFrame.\n",
            "Try using .loc[row_indexer,col_indexer] = value instead\n",
            "\n",
            "See the caveats in the documentation: https://pandas.pydata.org/pandas-docs/stable/user_guide/indexing.html#returning-a-view-versus-a-copy\n",
            "  after removing the cwd from sys.path.\n"
          ]
        }
      ]
    },
    {
      "cell_type": "code",
      "source": [
        "words = []\n",
        "nonwords = []\n",
        "environment = []\n",
        "for i in eeg_.StimulusCategory.values:\n",
        "  if i == 'nonwords':\n",
        "    words.append(0)\n",
        "    nonwords.append(1)\n",
        "    environment.append(0)\n",
        "  elif i == 'words':\n",
        "    words.append(1)\n",
        "    nonwords.append(0)\n",
        "    environment.append(0)\n",
        "  elif i == 'environment':\n",
        "    words.append(0)\n",
        "    nonwords.append(0)\n",
        "    environment.append(1)"
      ],
      "metadata": {
        "id": "Uc616LGldMsb"
      },
      "execution_count": 156,
      "outputs": []
    },
    {
      "cell_type": "code",
      "source": [
        "eeg_['Words'] = words\n",
        "eeg_['Nonwords'] = nonwords\n",
        "eeg_['Environment'] = environment"
      ],
      "metadata": {
        "colab": {
          "base_uri": "https://localhost:8080/"
        },
        "id": "zC4gS3MqcqkR",
        "outputId": "eca66fa3-f73b-4e1d-9cd7-4277c0562bb9"
      },
      "execution_count": 157,
      "outputs": [
        {
          "output_type": "stream",
          "name": "stderr",
          "text": [
            "/usr/local/lib/python3.7/dist-packages/ipykernel_launcher.py:1: SettingWithCopyWarning: \n",
            "A value is trying to be set on a copy of a slice from a DataFrame.\n",
            "Try using .loc[row_indexer,col_indexer] = value instead\n",
            "\n",
            "See the caveats in the documentation: https://pandas.pydata.org/pandas-docs/stable/user_guide/indexing.html#returning-a-view-versus-a-copy\n",
            "  \"\"\"Entry point for launching an IPython kernel.\n",
            "/usr/local/lib/python3.7/dist-packages/ipykernel_launcher.py:2: SettingWithCopyWarning: \n",
            "A value is trying to be set on a copy of a slice from a DataFrame.\n",
            "Try using .loc[row_indexer,col_indexer] = value instead\n",
            "\n",
            "See the caveats in the documentation: https://pandas.pydata.org/pandas-docs/stable/user_guide/indexing.html#returning-a-view-versus-a-copy\n",
            "  \n",
            "/usr/local/lib/python3.7/dist-packages/ipykernel_launcher.py:3: SettingWithCopyWarning: \n",
            "A value is trying to be set on a copy of a slice from a DataFrame.\n",
            "Try using .loc[row_indexer,col_indexer] = value instead\n",
            "\n",
            "See the caveats in the documentation: https://pandas.pydata.org/pandas-docs/stable/user_guide/indexing.html#returning-a-view-versus-a-copy\n",
            "  This is separate from the ipykernel package so we can avoid doing imports until\n"
          ]
        }
      ]
    },
    {
      "cell_type": "markdown",
      "source": [
        "Preprocessing the data"
      ],
      "metadata": {
        "id": "g4gmNxzONqHZ"
      }
    },
    {
      "cell_type": "code",
      "source": [
        "print(\n",
        "    'Accuracy without \"No response\" trials',\n",
        "    eeg_[eeg_['Resp'] != 'None'].RespCorrect.mean()\n",
        ")\n",
        "print(\n",
        "    'Accuracy with \"No response\" trials',\n",
        "    eeg_.RespCorrect.mean()\n",
        ")"
      ],
      "metadata": {
        "id": "QwsFH4SANex1",
        "outputId": "a7290b5f-d7a3-495d-f3bf-fdba2dcf6f0b",
        "colab": {
          "base_uri": "https://localhost:8080/"
        }
      },
      "execution_count": 159,
      "outputs": [
        {
          "output_type": "stream",
          "name": "stdout",
          "text": [
            "Accuracy without \"No response\" trials 0.8842105263157894\n",
            "Accuracy with \"No response\" trials 0.8703208556149733\n"
          ]
        }
      ]
    },
    {
      "cell_type": "code",
      "source": [
        "print('Shape of the dataset with no response trials', eeg_.shape)\n",
        "print('Shape of the dataset without no response trials', eeg_[eeg_['Resp'] != 'None'].shape)"
      ],
      "metadata": {
        "id": "f87PgpwBNhMJ",
        "outputId": "593e9987-199d-41fe-d776-c7a45c0b627a",
        "colab": {
          "base_uri": "https://localhost:8080/"
        }
      },
      "execution_count": 160,
      "outputs": [
        {
          "output_type": "stream",
          "name": "stdout",
          "text": [
            "Shape of the dataset with no response trials (2992, 14)\n",
            "Shape of the dataset without no response trials (2945, 14)\n"
          ]
        }
      ]
    },
    {
      "cell_type": "code",
      "source": [
        "eeg_[eeg_['Resp'] == 'None']"
      ],
      "metadata": {
        "id": "HWkJlyHiNtMT",
        "outputId": "18b58218-53a2-4484-fb38-1843e015e65c",
        "colab": {
          "base_uri": "https://localhost:8080/",
          "height": 1000
        }
      },
      "execution_count": 161,
      "outputs": [
        {
          "output_type": "execute_result",
          "data": {
            "text/plain": [
              "     block StimulusCategory  ReactionTime  Resp  RespCorrect  \\\n",
              "83       4      environment      2.500023  None            0   \n",
              "124      6            words      2.500035  None            0   \n",
              "172      8            words      2.500041  None            0   \n",
              "272      3            words      2.500027  None            0   \n",
              "317      5      environment      2.500004  None            0   \n",
              "533      5      environment      2.500035  None            0   \n",
              "555      6      environment      2.500013  None            0   \n",
              "571      6         nonwords      2.500020  None            0   \n",
              "583      7      environment      2.500035  None            0   \n",
              "588      7            words      2.500002  None            0   \n",
              "594      7      environment      2.500013  None            0   \n",
              "743      4      environment      2.500006  None            0   \n",
              "864      1         nonwords      2.500032  None            0   \n",
              "877      1         nonwords      2.500023  None            0   \n",
              "956      4      environment      2.500017  None            0   \n",
              "996      6      environment      2.500010  None            0   \n",
              "1344     3         nonwords      2.500008  None            0   \n",
              "1433     6      environment      2.500012  None            0   \n",
              "1501     9      environment      2.500006  None            0   \n",
              "1595     4      environment      2.500022  None            0   \n",
              "1623     5            words      2.500033  None            0   \n",
              "1642     6      environment      2.500063  None            0   \n",
              "1680     8      environment      2.500012  None            0   \n",
              "1681     8            words      2.500027  None            0   \n",
              "1682     8         nonwords      2.500025  None            0   \n",
              "1683     8      environment      2.500021  None            0   \n",
              "1684     8         nonwords      2.500027  None            0   \n",
              "1685     8      environment      2.500016  None            0   \n",
              "1686     8            words      2.500046  None            0   \n",
              "1687     8         nonwords      2.500058  None            0   \n",
              "1688     8            words      2.500017  None            0   \n",
              "1689     8      environment      2.500003  None            0   \n",
              "1690     8            words      2.500032  None            0   \n",
              "1691     8            words      2.500028  None            0   \n",
              "1692     8         nonwords      2.500007  None            0   \n",
              "1693     8            words      2.500021  None            0   \n",
              "1694     8      environment      2.500002  None            0   \n",
              "1695     8            words      2.500007  None            0   \n",
              "2135     1      environment      2.500025  None            0   \n",
              "2165     2      environment      2.500017  None            0   \n",
              "2221     4         nonwords      2.500021  None            0   \n",
              "2776     1         nonwords      2.500009  None            0   \n",
              "2888     5      environment      2.500033  None            0   \n",
              "2931     7      environment      2.500019  None            0   \n",
              "2979     9      environment      2.500014  None            0   \n",
              "2982     9         nonwords      2.500004  None            0   \n",
              "2987     9      environment      2.500005  None            0   \n",
              "\n",
              "                        stimulusSounds_idx  ProbeCategory  probeSound_idx  \\\n",
              "83                       [3, 21, 1, 12, 2]              1               2   \n",
              "124           [41, 42, 48, 39, 36, 33, 29]              0              37   \n",
              "172           [28, 30, 46, 31, 32, 45, 34]              1              28   \n",
              "272                           [44, 41, 30]              0              33   \n",
              "317                             [14, 3, 7]              1               7   \n",
              "533                [7, 8, 14, 3, 4, 9, 17]              1               8   \n",
              "555              [5, 21, 15, 10, 4, 18, 8]              1              21   \n",
              "571           [69, 61, 51, 67, 70, 59, 65]              1              69   \n",
              "583             [8, 6, 18, 20, 23, 13, 12]              1              18   \n",
              "588   [33, 36, 28, 47, 29, 27, 31, 35, 37]              0              39   \n",
              "594               [4, 19, 8, 1, 9, 21, 12]              0              16   \n",
              "743      [3, 7, 10, 24, 16, 4, 21, 15, 12]              0               9   \n",
              "864                   [68, 69, 64, 59, 54]              0              71   \n",
              "877                           [62, 55, 60]              0              71   \n",
              "956                      [5, 13, 3, 9, 10]              1               5   \n",
              "996                   [10, 17, 23, 11, 14]              0              16   \n",
              "1344  [61, 49, 72, 55, 68, 57, 59, 67, 50]              1              57   \n",
              "1433       [23, 5, 16, 3, 21, 8, 7, 9, 11]              1               7   \n",
              "1501                   [21, 23, 5, 19, 11]              1              19   \n",
              "1595                           [22, 7, 11]              0              15   \n",
              "1623          [26, 40, 30, 44, 43, 32, 35]              1              40   \n",
              "1642            [20, 10, 22, 4, 7, 23, 16]              1              10   \n",
              "1680                    [9, 11, 7, 24, 17]              0               3   \n",
              "1681  [37, 44, 34, 45, 41, 25, 26, 40, 48]              1              25   \n",
              "1682          [67, 61, 53, 59, 71, 49, 55]              1              67   \n",
              "1683           [18, 11, 1, 17, 14, 13, 16]              1              11   \n",
              "1684                  [60, 51, 53, 63, 57]              0              52   \n",
              "1685                     [6, 5, 22, 15, 2]              1               5   \n",
              "1686                          [37, 47, 42]              0              34   \n",
              "1687  [49, 51, 65, 52, 68, 69, 62, 66, 64]              0              71   \n",
              "1688                          [43, 36, 39]              1              36   \n",
              "1689              [4, 6, 22, 7, 8, 21, 10]              0              17   \n",
              "1690                  [35, 32, 28, 42, 40]              1              42   \n",
              "1691  [41, 34, 29, 26, 33, 38, 48, 46, 35]              0              31   \n",
              "1692                          [69, 53, 58]              0              55   \n",
              "1693                  [31, 38, 25, 34, 40]              0              26   \n",
              "1694       [3, 2, 13, 14, 9, 4, 6, 24, 19]              0              23   \n",
              "1695          [48, 46, 45, 36, 41, 29, 40]              1              48   \n",
              "2135                   [22, 12, 18, 10, 5]              0               2   \n",
              "2165                   [22, 16, 13, 7, 15]              0              24   \n",
              "2221                          [51, 69, 49]              1              49   \n",
              "2776                  [56, 64, 58, 59, 54]              0              51   \n",
              "2888     [1, 17, 15, 6, 13, 4, 22, 23, 12]              0              18   \n",
              "2931                            [15, 3, 9]              1               3   \n",
              "2979                     [12, 20, 3, 6, 1]              1               1   \n",
              "2982                          [63, 69, 55]              0              71   \n",
              "2987                   [5, 23, 21, 17, 20]              0              13   \n",
              "\n",
              "      Trial Subject  Length  Words  Nonwords  Environment  \n",
              "83       83     E32       5      0         0            1  \n",
              "124     124     E32       7      1         0            0  \n",
              "172     172     E32       7      1         0            0  \n",
              "272      56     E34       3      1         0            0  \n",
              "317     101     E34       3      0         0            1  \n",
              "533     101     E35       7      0         0            1  \n",
              "555     123     E35       7      0         0            1  \n",
              "571     139     E35       7      0         1            0  \n",
              "583     151     E35       7      0         0            1  \n",
              "588     156     E35       9      1         0            0  \n",
              "594     162     E35       7      0         0            1  \n",
              "743      95     E36       9      0         0            1  \n",
              "864       0     E37       5      0         1            0  \n",
              "877      13     E37       3      0         1            0  \n",
              "956      92     E37       5      0         0            1  \n",
              "996     132     E37       5      0         0            1  \n",
              "1344     48     E39       9      0         1            0  \n",
              "1433    137     E39       9      0         0            1  \n",
              "1501    205     E39       5      0         0            1  \n",
              "1595     83     E40       3      0         0            1  \n",
              "1623    111     E40       7      1         0            0  \n",
              "1642    130     E40       7      0         0            1  \n",
              "1680    168     E40       5      0         0            1  \n",
              "1681    169     E40       9      1         0            0  \n",
              "1682    170     E40       7      0         1            0  \n",
              "1683    171     E40       7      0         0            1  \n",
              "1684    172     E40       5      0         1            0  \n",
              "1685    173     E40       5      0         0            1  \n",
              "1686    174     E40       3      1         0            0  \n",
              "1687    175     E40       9      0         1            0  \n",
              "1688    176     E40       3      1         0            0  \n",
              "1689    177     E40       7      0         0            1  \n",
              "1690    178     E40       5      1         0            0  \n",
              "1691    179     E40       9      1         0            0  \n",
              "1692    180     E40       3      0         1            0  \n",
              "1693    181     E40       5      1         0            0  \n",
              "1694    182     E40       9      0         0            1  \n",
              "1695    183     E40       7      1         0            0  \n",
              "2135      7     E43       5      0         0            1  \n",
              "2165     37     E43       5      0         0            1  \n",
              "2221     93     E43       3      0         1            0  \n",
              "2776      0     E46       5      0         1            0  \n",
              "2888    112     E46       9      0         0            1  \n",
              "2931    155     E46       3      0         0            1  \n",
              "2979    203     E46       5      0         0            1  \n",
              "2982    206     E46       3      0         1            0  \n",
              "2987    211     E46       5      0         0            1  "
            ],
            "text/html": [
              "\n",
              "  <div id=\"df-02cd5dd0-1a9f-43e9-8f9d-e6b68e9d9e3e\">\n",
              "    <div class=\"colab-df-container\">\n",
              "      <div>\n",
              "<style scoped>\n",
              "    .dataframe tbody tr th:only-of-type {\n",
              "        vertical-align: middle;\n",
              "    }\n",
              "\n",
              "    .dataframe tbody tr th {\n",
              "        vertical-align: top;\n",
              "    }\n",
              "\n",
              "    .dataframe thead th {\n",
              "        text-align: right;\n",
              "    }\n",
              "</style>\n",
              "<table border=\"1\" class=\"dataframe\">\n",
              "  <thead>\n",
              "    <tr style=\"text-align: right;\">\n",
              "      <th></th>\n",
              "      <th>block</th>\n",
              "      <th>StimulusCategory</th>\n",
              "      <th>ReactionTime</th>\n",
              "      <th>Resp</th>\n",
              "      <th>RespCorrect</th>\n",
              "      <th>stimulusSounds_idx</th>\n",
              "      <th>ProbeCategory</th>\n",
              "      <th>probeSound_idx</th>\n",
              "      <th>Trial</th>\n",
              "      <th>Subject</th>\n",
              "      <th>Length</th>\n",
              "      <th>Words</th>\n",
              "      <th>Nonwords</th>\n",
              "      <th>Environment</th>\n",
              "    </tr>\n",
              "  </thead>\n",
              "  <tbody>\n",
              "    <tr>\n",
              "      <th>83</th>\n",
              "      <td>4</td>\n",
              "      <td>environment</td>\n",
              "      <td>2.500023</td>\n",
              "      <td>None</td>\n",
              "      <td>0</td>\n",
              "      <td>[3, 21, 1, 12, 2]</td>\n",
              "      <td>1</td>\n",
              "      <td>2</td>\n",
              "      <td>83</td>\n",
              "      <td>E32</td>\n",
              "      <td>5</td>\n",
              "      <td>0</td>\n",
              "      <td>0</td>\n",
              "      <td>1</td>\n",
              "    </tr>\n",
              "    <tr>\n",
              "      <th>124</th>\n",
              "      <td>6</td>\n",
              "      <td>words</td>\n",
              "      <td>2.500035</td>\n",
              "      <td>None</td>\n",
              "      <td>0</td>\n",
              "      <td>[41, 42, 48, 39, 36, 33, 29]</td>\n",
              "      <td>0</td>\n",
              "      <td>37</td>\n",
              "      <td>124</td>\n",
              "      <td>E32</td>\n",
              "      <td>7</td>\n",
              "      <td>1</td>\n",
              "      <td>0</td>\n",
              "      <td>0</td>\n",
              "    </tr>\n",
              "    <tr>\n",
              "      <th>172</th>\n",
              "      <td>8</td>\n",
              "      <td>words</td>\n",
              "      <td>2.500041</td>\n",
              "      <td>None</td>\n",
              "      <td>0</td>\n",
              "      <td>[28, 30, 46, 31, 32, 45, 34]</td>\n",
              "      <td>1</td>\n",
              "      <td>28</td>\n",
              "      <td>172</td>\n",
              "      <td>E32</td>\n",
              "      <td>7</td>\n",
              "      <td>1</td>\n",
              "      <td>0</td>\n",
              "      <td>0</td>\n",
              "    </tr>\n",
              "    <tr>\n",
              "      <th>272</th>\n",
              "      <td>3</td>\n",
              "      <td>words</td>\n",
              "      <td>2.500027</td>\n",
              "      <td>None</td>\n",
              "      <td>0</td>\n",
              "      <td>[44, 41, 30]</td>\n",
              "      <td>0</td>\n",
              "      <td>33</td>\n",
              "      <td>56</td>\n",
              "      <td>E34</td>\n",
              "      <td>3</td>\n",
              "      <td>1</td>\n",
              "      <td>0</td>\n",
              "      <td>0</td>\n",
              "    </tr>\n",
              "    <tr>\n",
              "      <th>317</th>\n",
              "      <td>5</td>\n",
              "      <td>environment</td>\n",
              "      <td>2.500004</td>\n",
              "      <td>None</td>\n",
              "      <td>0</td>\n",
              "      <td>[14, 3, 7]</td>\n",
              "      <td>1</td>\n",
              "      <td>7</td>\n",
              "      <td>101</td>\n",
              "      <td>E34</td>\n",
              "      <td>3</td>\n",
              "      <td>0</td>\n",
              "      <td>0</td>\n",
              "      <td>1</td>\n",
              "    </tr>\n",
              "    <tr>\n",
              "      <th>533</th>\n",
              "      <td>5</td>\n",
              "      <td>environment</td>\n",
              "      <td>2.500035</td>\n",
              "      <td>None</td>\n",
              "      <td>0</td>\n",
              "      <td>[7, 8, 14, 3, 4, 9, 17]</td>\n",
              "      <td>1</td>\n",
              "      <td>8</td>\n",
              "      <td>101</td>\n",
              "      <td>E35</td>\n",
              "      <td>7</td>\n",
              "      <td>0</td>\n",
              "      <td>0</td>\n",
              "      <td>1</td>\n",
              "    </tr>\n",
              "    <tr>\n",
              "      <th>555</th>\n",
              "      <td>6</td>\n",
              "      <td>environment</td>\n",
              "      <td>2.500013</td>\n",
              "      <td>None</td>\n",
              "      <td>0</td>\n",
              "      <td>[5, 21, 15, 10, 4, 18, 8]</td>\n",
              "      <td>1</td>\n",
              "      <td>21</td>\n",
              "      <td>123</td>\n",
              "      <td>E35</td>\n",
              "      <td>7</td>\n",
              "      <td>0</td>\n",
              "      <td>0</td>\n",
              "      <td>1</td>\n",
              "    </tr>\n",
              "    <tr>\n",
              "      <th>571</th>\n",
              "      <td>6</td>\n",
              "      <td>nonwords</td>\n",
              "      <td>2.500020</td>\n",
              "      <td>None</td>\n",
              "      <td>0</td>\n",
              "      <td>[69, 61, 51, 67, 70, 59, 65]</td>\n",
              "      <td>1</td>\n",
              "      <td>69</td>\n",
              "      <td>139</td>\n",
              "      <td>E35</td>\n",
              "      <td>7</td>\n",
              "      <td>0</td>\n",
              "      <td>1</td>\n",
              "      <td>0</td>\n",
              "    </tr>\n",
              "    <tr>\n",
              "      <th>583</th>\n",
              "      <td>7</td>\n",
              "      <td>environment</td>\n",
              "      <td>2.500035</td>\n",
              "      <td>None</td>\n",
              "      <td>0</td>\n",
              "      <td>[8, 6, 18, 20, 23, 13, 12]</td>\n",
              "      <td>1</td>\n",
              "      <td>18</td>\n",
              "      <td>151</td>\n",
              "      <td>E35</td>\n",
              "      <td>7</td>\n",
              "      <td>0</td>\n",
              "      <td>0</td>\n",
              "      <td>1</td>\n",
              "    </tr>\n",
              "    <tr>\n",
              "      <th>588</th>\n",
              "      <td>7</td>\n",
              "      <td>words</td>\n",
              "      <td>2.500002</td>\n",
              "      <td>None</td>\n",
              "      <td>0</td>\n",
              "      <td>[33, 36, 28, 47, 29, 27, 31, 35, 37]</td>\n",
              "      <td>0</td>\n",
              "      <td>39</td>\n",
              "      <td>156</td>\n",
              "      <td>E35</td>\n",
              "      <td>9</td>\n",
              "      <td>1</td>\n",
              "      <td>0</td>\n",
              "      <td>0</td>\n",
              "    </tr>\n",
              "    <tr>\n",
              "      <th>594</th>\n",
              "      <td>7</td>\n",
              "      <td>environment</td>\n",
              "      <td>2.500013</td>\n",
              "      <td>None</td>\n",
              "      <td>0</td>\n",
              "      <td>[4, 19, 8, 1, 9, 21, 12]</td>\n",
              "      <td>0</td>\n",
              "      <td>16</td>\n",
              "      <td>162</td>\n",
              "      <td>E35</td>\n",
              "      <td>7</td>\n",
              "      <td>0</td>\n",
              "      <td>0</td>\n",
              "      <td>1</td>\n",
              "    </tr>\n",
              "    <tr>\n",
              "      <th>743</th>\n",
              "      <td>4</td>\n",
              "      <td>environment</td>\n",
              "      <td>2.500006</td>\n",
              "      <td>None</td>\n",
              "      <td>0</td>\n",
              "      <td>[3, 7, 10, 24, 16, 4, 21, 15, 12]</td>\n",
              "      <td>0</td>\n",
              "      <td>9</td>\n",
              "      <td>95</td>\n",
              "      <td>E36</td>\n",
              "      <td>9</td>\n",
              "      <td>0</td>\n",
              "      <td>0</td>\n",
              "      <td>1</td>\n",
              "    </tr>\n",
              "    <tr>\n",
              "      <th>864</th>\n",
              "      <td>1</td>\n",
              "      <td>nonwords</td>\n",
              "      <td>2.500032</td>\n",
              "      <td>None</td>\n",
              "      <td>0</td>\n",
              "      <td>[68, 69, 64, 59, 54]</td>\n",
              "      <td>0</td>\n",
              "      <td>71</td>\n",
              "      <td>0</td>\n",
              "      <td>E37</td>\n",
              "      <td>5</td>\n",
              "      <td>0</td>\n",
              "      <td>1</td>\n",
              "      <td>0</td>\n",
              "    </tr>\n",
              "    <tr>\n",
              "      <th>877</th>\n",
              "      <td>1</td>\n",
              "      <td>nonwords</td>\n",
              "      <td>2.500023</td>\n",
              "      <td>None</td>\n",
              "      <td>0</td>\n",
              "      <td>[62, 55, 60]</td>\n",
              "      <td>0</td>\n",
              "      <td>71</td>\n",
              "      <td>13</td>\n",
              "      <td>E37</td>\n",
              "      <td>3</td>\n",
              "      <td>0</td>\n",
              "      <td>1</td>\n",
              "      <td>0</td>\n",
              "    </tr>\n",
              "    <tr>\n",
              "      <th>956</th>\n",
              "      <td>4</td>\n",
              "      <td>environment</td>\n",
              "      <td>2.500017</td>\n",
              "      <td>None</td>\n",
              "      <td>0</td>\n",
              "      <td>[5, 13, 3, 9, 10]</td>\n",
              "      <td>1</td>\n",
              "      <td>5</td>\n",
              "      <td>92</td>\n",
              "      <td>E37</td>\n",
              "      <td>5</td>\n",
              "      <td>0</td>\n",
              "      <td>0</td>\n",
              "      <td>1</td>\n",
              "    </tr>\n",
              "    <tr>\n",
              "      <th>996</th>\n",
              "      <td>6</td>\n",
              "      <td>environment</td>\n",
              "      <td>2.500010</td>\n",
              "      <td>None</td>\n",
              "      <td>0</td>\n",
              "      <td>[10, 17, 23, 11, 14]</td>\n",
              "      <td>0</td>\n",
              "      <td>16</td>\n",
              "      <td>132</td>\n",
              "      <td>E37</td>\n",
              "      <td>5</td>\n",
              "      <td>0</td>\n",
              "      <td>0</td>\n",
              "      <td>1</td>\n",
              "    </tr>\n",
              "    <tr>\n",
              "      <th>1344</th>\n",
              "      <td>3</td>\n",
              "      <td>nonwords</td>\n",
              "      <td>2.500008</td>\n",
              "      <td>None</td>\n",
              "      <td>0</td>\n",
              "      <td>[61, 49, 72, 55, 68, 57, 59, 67, 50]</td>\n",
              "      <td>1</td>\n",
              "      <td>57</td>\n",
              "      <td>48</td>\n",
              "      <td>E39</td>\n",
              "      <td>9</td>\n",
              "      <td>0</td>\n",
              "      <td>1</td>\n",
              "      <td>0</td>\n",
              "    </tr>\n",
              "    <tr>\n",
              "      <th>1433</th>\n",
              "      <td>6</td>\n",
              "      <td>environment</td>\n",
              "      <td>2.500012</td>\n",
              "      <td>None</td>\n",
              "      <td>0</td>\n",
              "      <td>[23, 5, 16, 3, 21, 8, 7, 9, 11]</td>\n",
              "      <td>1</td>\n",
              "      <td>7</td>\n",
              "      <td>137</td>\n",
              "      <td>E39</td>\n",
              "      <td>9</td>\n",
              "      <td>0</td>\n",
              "      <td>0</td>\n",
              "      <td>1</td>\n",
              "    </tr>\n",
              "    <tr>\n",
              "      <th>1501</th>\n",
              "      <td>9</td>\n",
              "      <td>environment</td>\n",
              "      <td>2.500006</td>\n",
              "      <td>None</td>\n",
              "      <td>0</td>\n",
              "      <td>[21, 23, 5, 19, 11]</td>\n",
              "      <td>1</td>\n",
              "      <td>19</td>\n",
              "      <td>205</td>\n",
              "      <td>E39</td>\n",
              "      <td>5</td>\n",
              "      <td>0</td>\n",
              "      <td>0</td>\n",
              "      <td>1</td>\n",
              "    </tr>\n",
              "    <tr>\n",
              "      <th>1595</th>\n",
              "      <td>4</td>\n",
              "      <td>environment</td>\n",
              "      <td>2.500022</td>\n",
              "      <td>None</td>\n",
              "      <td>0</td>\n",
              "      <td>[22, 7, 11]</td>\n",
              "      <td>0</td>\n",
              "      <td>15</td>\n",
              "      <td>83</td>\n",
              "      <td>E40</td>\n",
              "      <td>3</td>\n",
              "      <td>0</td>\n",
              "      <td>0</td>\n",
              "      <td>1</td>\n",
              "    </tr>\n",
              "    <tr>\n",
              "      <th>1623</th>\n",
              "      <td>5</td>\n",
              "      <td>words</td>\n",
              "      <td>2.500033</td>\n",
              "      <td>None</td>\n",
              "      <td>0</td>\n",
              "      <td>[26, 40, 30, 44, 43, 32, 35]</td>\n",
              "      <td>1</td>\n",
              "      <td>40</td>\n",
              "      <td>111</td>\n",
              "      <td>E40</td>\n",
              "      <td>7</td>\n",
              "      <td>1</td>\n",
              "      <td>0</td>\n",
              "      <td>0</td>\n",
              "    </tr>\n",
              "    <tr>\n",
              "      <th>1642</th>\n",
              "      <td>6</td>\n",
              "      <td>environment</td>\n",
              "      <td>2.500063</td>\n",
              "      <td>None</td>\n",
              "      <td>0</td>\n",
              "      <td>[20, 10, 22, 4, 7, 23, 16]</td>\n",
              "      <td>1</td>\n",
              "      <td>10</td>\n",
              "      <td>130</td>\n",
              "      <td>E40</td>\n",
              "      <td>7</td>\n",
              "      <td>0</td>\n",
              "      <td>0</td>\n",
              "      <td>1</td>\n",
              "    </tr>\n",
              "    <tr>\n",
              "      <th>1680</th>\n",
              "      <td>8</td>\n",
              "      <td>environment</td>\n",
              "      <td>2.500012</td>\n",
              "      <td>None</td>\n",
              "      <td>0</td>\n",
              "      <td>[9, 11, 7, 24, 17]</td>\n",
              "      <td>0</td>\n",
              "      <td>3</td>\n",
              "      <td>168</td>\n",
              "      <td>E40</td>\n",
              "      <td>5</td>\n",
              "      <td>0</td>\n",
              "      <td>0</td>\n",
              "      <td>1</td>\n",
              "    </tr>\n",
              "    <tr>\n",
              "      <th>1681</th>\n",
              "      <td>8</td>\n",
              "      <td>words</td>\n",
              "      <td>2.500027</td>\n",
              "      <td>None</td>\n",
              "      <td>0</td>\n",
              "      <td>[37, 44, 34, 45, 41, 25, 26, 40, 48]</td>\n",
              "      <td>1</td>\n",
              "      <td>25</td>\n",
              "      <td>169</td>\n",
              "      <td>E40</td>\n",
              "      <td>9</td>\n",
              "      <td>1</td>\n",
              "      <td>0</td>\n",
              "      <td>0</td>\n",
              "    </tr>\n",
              "    <tr>\n",
              "      <th>1682</th>\n",
              "      <td>8</td>\n",
              "      <td>nonwords</td>\n",
              "      <td>2.500025</td>\n",
              "      <td>None</td>\n",
              "      <td>0</td>\n",
              "      <td>[67, 61, 53, 59, 71, 49, 55]</td>\n",
              "      <td>1</td>\n",
              "      <td>67</td>\n",
              "      <td>170</td>\n",
              "      <td>E40</td>\n",
              "      <td>7</td>\n",
              "      <td>0</td>\n",
              "      <td>1</td>\n",
              "      <td>0</td>\n",
              "    </tr>\n",
              "    <tr>\n",
              "      <th>1683</th>\n",
              "      <td>8</td>\n",
              "      <td>environment</td>\n",
              "      <td>2.500021</td>\n",
              "      <td>None</td>\n",
              "      <td>0</td>\n",
              "      <td>[18, 11, 1, 17, 14, 13, 16]</td>\n",
              "      <td>1</td>\n",
              "      <td>11</td>\n",
              "      <td>171</td>\n",
              "      <td>E40</td>\n",
              "      <td>7</td>\n",
              "      <td>0</td>\n",
              "      <td>0</td>\n",
              "      <td>1</td>\n",
              "    </tr>\n",
              "    <tr>\n",
              "      <th>1684</th>\n",
              "      <td>8</td>\n",
              "      <td>nonwords</td>\n",
              "      <td>2.500027</td>\n",
              "      <td>None</td>\n",
              "      <td>0</td>\n",
              "      <td>[60, 51, 53, 63, 57]</td>\n",
              "      <td>0</td>\n",
              "      <td>52</td>\n",
              "      <td>172</td>\n",
              "      <td>E40</td>\n",
              "      <td>5</td>\n",
              "      <td>0</td>\n",
              "      <td>1</td>\n",
              "      <td>0</td>\n",
              "    </tr>\n",
              "    <tr>\n",
              "      <th>1685</th>\n",
              "      <td>8</td>\n",
              "      <td>environment</td>\n",
              "      <td>2.500016</td>\n",
              "      <td>None</td>\n",
              "      <td>0</td>\n",
              "      <td>[6, 5, 22, 15, 2]</td>\n",
              "      <td>1</td>\n",
              "      <td>5</td>\n",
              "      <td>173</td>\n",
              "      <td>E40</td>\n",
              "      <td>5</td>\n",
              "      <td>0</td>\n",
              "      <td>0</td>\n",
              "      <td>1</td>\n",
              "    </tr>\n",
              "    <tr>\n",
              "      <th>1686</th>\n",
              "      <td>8</td>\n",
              "      <td>words</td>\n",
              "      <td>2.500046</td>\n",
              "      <td>None</td>\n",
              "      <td>0</td>\n",
              "      <td>[37, 47, 42]</td>\n",
              "      <td>0</td>\n",
              "      <td>34</td>\n",
              "      <td>174</td>\n",
              "      <td>E40</td>\n",
              "      <td>3</td>\n",
              "      <td>1</td>\n",
              "      <td>0</td>\n",
              "      <td>0</td>\n",
              "    </tr>\n",
              "    <tr>\n",
              "      <th>1687</th>\n",
              "      <td>8</td>\n",
              "      <td>nonwords</td>\n",
              "      <td>2.500058</td>\n",
              "      <td>None</td>\n",
              "      <td>0</td>\n",
              "      <td>[49, 51, 65, 52, 68, 69, 62, 66, 64]</td>\n",
              "      <td>0</td>\n",
              "      <td>71</td>\n",
              "      <td>175</td>\n",
              "      <td>E40</td>\n",
              "      <td>9</td>\n",
              "      <td>0</td>\n",
              "      <td>1</td>\n",
              "      <td>0</td>\n",
              "    </tr>\n",
              "    <tr>\n",
              "      <th>1688</th>\n",
              "      <td>8</td>\n",
              "      <td>words</td>\n",
              "      <td>2.500017</td>\n",
              "      <td>None</td>\n",
              "      <td>0</td>\n",
              "      <td>[43, 36, 39]</td>\n",
              "      <td>1</td>\n",
              "      <td>36</td>\n",
              "      <td>176</td>\n",
              "      <td>E40</td>\n",
              "      <td>3</td>\n",
              "      <td>1</td>\n",
              "      <td>0</td>\n",
              "      <td>0</td>\n",
              "    </tr>\n",
              "    <tr>\n",
              "      <th>1689</th>\n",
              "      <td>8</td>\n",
              "      <td>environment</td>\n",
              "      <td>2.500003</td>\n",
              "      <td>None</td>\n",
              "      <td>0</td>\n",
              "      <td>[4, 6, 22, 7, 8, 21, 10]</td>\n",
              "      <td>0</td>\n",
              "      <td>17</td>\n",
              "      <td>177</td>\n",
              "      <td>E40</td>\n",
              "      <td>7</td>\n",
              "      <td>0</td>\n",
              "      <td>0</td>\n",
              "      <td>1</td>\n",
              "    </tr>\n",
              "    <tr>\n",
              "      <th>1690</th>\n",
              "      <td>8</td>\n",
              "      <td>words</td>\n",
              "      <td>2.500032</td>\n",
              "      <td>None</td>\n",
              "      <td>0</td>\n",
              "      <td>[35, 32, 28, 42, 40]</td>\n",
              "      <td>1</td>\n",
              "      <td>42</td>\n",
              "      <td>178</td>\n",
              "      <td>E40</td>\n",
              "      <td>5</td>\n",
              "      <td>1</td>\n",
              "      <td>0</td>\n",
              "      <td>0</td>\n",
              "    </tr>\n",
              "    <tr>\n",
              "      <th>1691</th>\n",
              "      <td>8</td>\n",
              "      <td>words</td>\n",
              "      <td>2.500028</td>\n",
              "      <td>None</td>\n",
              "      <td>0</td>\n",
              "      <td>[41, 34, 29, 26, 33, 38, 48, 46, 35]</td>\n",
              "      <td>0</td>\n",
              "      <td>31</td>\n",
              "      <td>179</td>\n",
              "      <td>E40</td>\n",
              "      <td>9</td>\n",
              "      <td>1</td>\n",
              "      <td>0</td>\n",
              "      <td>0</td>\n",
              "    </tr>\n",
              "    <tr>\n",
              "      <th>1692</th>\n",
              "      <td>8</td>\n",
              "      <td>nonwords</td>\n",
              "      <td>2.500007</td>\n",
              "      <td>None</td>\n",
              "      <td>0</td>\n",
              "      <td>[69, 53, 58]</td>\n",
              "      <td>0</td>\n",
              "      <td>55</td>\n",
              "      <td>180</td>\n",
              "      <td>E40</td>\n",
              "      <td>3</td>\n",
              "      <td>0</td>\n",
              "      <td>1</td>\n",
              "      <td>0</td>\n",
              "    </tr>\n",
              "    <tr>\n",
              "      <th>1693</th>\n",
              "      <td>8</td>\n",
              "      <td>words</td>\n",
              "      <td>2.500021</td>\n",
              "      <td>None</td>\n",
              "      <td>0</td>\n",
              "      <td>[31, 38, 25, 34, 40]</td>\n",
              "      <td>0</td>\n",
              "      <td>26</td>\n",
              "      <td>181</td>\n",
              "      <td>E40</td>\n",
              "      <td>5</td>\n",
              "      <td>1</td>\n",
              "      <td>0</td>\n",
              "      <td>0</td>\n",
              "    </tr>\n",
              "    <tr>\n",
              "      <th>1694</th>\n",
              "      <td>8</td>\n",
              "      <td>environment</td>\n",
              "      <td>2.500002</td>\n",
              "      <td>None</td>\n",
              "      <td>0</td>\n",
              "      <td>[3, 2, 13, 14, 9, 4, 6, 24, 19]</td>\n",
              "      <td>0</td>\n",
              "      <td>23</td>\n",
              "      <td>182</td>\n",
              "      <td>E40</td>\n",
              "      <td>9</td>\n",
              "      <td>0</td>\n",
              "      <td>0</td>\n",
              "      <td>1</td>\n",
              "    </tr>\n",
              "    <tr>\n",
              "      <th>1695</th>\n",
              "      <td>8</td>\n",
              "      <td>words</td>\n",
              "      <td>2.500007</td>\n",
              "      <td>None</td>\n",
              "      <td>0</td>\n",
              "      <td>[48, 46, 45, 36, 41, 29, 40]</td>\n",
              "      <td>1</td>\n",
              "      <td>48</td>\n",
              "      <td>183</td>\n",
              "      <td>E40</td>\n",
              "      <td>7</td>\n",
              "      <td>1</td>\n",
              "      <td>0</td>\n",
              "      <td>0</td>\n",
              "    </tr>\n",
              "    <tr>\n",
              "      <th>2135</th>\n",
              "      <td>1</td>\n",
              "      <td>environment</td>\n",
              "      <td>2.500025</td>\n",
              "      <td>None</td>\n",
              "      <td>0</td>\n",
              "      <td>[22, 12, 18, 10, 5]</td>\n",
              "      <td>0</td>\n",
              "      <td>2</td>\n",
              "      <td>7</td>\n",
              "      <td>E43</td>\n",
              "      <td>5</td>\n",
              "      <td>0</td>\n",
              "      <td>0</td>\n",
              "      <td>1</td>\n",
              "    </tr>\n",
              "    <tr>\n",
              "      <th>2165</th>\n",
              "      <td>2</td>\n",
              "      <td>environment</td>\n",
              "      <td>2.500017</td>\n",
              "      <td>None</td>\n",
              "      <td>0</td>\n",
              "      <td>[22, 16, 13, 7, 15]</td>\n",
              "      <td>0</td>\n",
              "      <td>24</td>\n",
              "      <td>37</td>\n",
              "      <td>E43</td>\n",
              "      <td>5</td>\n",
              "      <td>0</td>\n",
              "      <td>0</td>\n",
              "      <td>1</td>\n",
              "    </tr>\n",
              "    <tr>\n",
              "      <th>2221</th>\n",
              "      <td>4</td>\n",
              "      <td>nonwords</td>\n",
              "      <td>2.500021</td>\n",
              "      <td>None</td>\n",
              "      <td>0</td>\n",
              "      <td>[51, 69, 49]</td>\n",
              "      <td>1</td>\n",
              "      <td>49</td>\n",
              "      <td>93</td>\n",
              "      <td>E43</td>\n",
              "      <td>3</td>\n",
              "      <td>0</td>\n",
              "      <td>1</td>\n",
              "      <td>0</td>\n",
              "    </tr>\n",
              "    <tr>\n",
              "      <th>2776</th>\n",
              "      <td>1</td>\n",
              "      <td>nonwords</td>\n",
              "      <td>2.500009</td>\n",
              "      <td>None</td>\n",
              "      <td>0</td>\n",
              "      <td>[56, 64, 58, 59, 54]</td>\n",
              "      <td>0</td>\n",
              "      <td>51</td>\n",
              "      <td>0</td>\n",
              "      <td>E46</td>\n",
              "      <td>5</td>\n",
              "      <td>0</td>\n",
              "      <td>1</td>\n",
              "      <td>0</td>\n",
              "    </tr>\n",
              "    <tr>\n",
              "      <th>2888</th>\n",
              "      <td>5</td>\n",
              "      <td>environment</td>\n",
              "      <td>2.500033</td>\n",
              "      <td>None</td>\n",
              "      <td>0</td>\n",
              "      <td>[1, 17, 15, 6, 13, 4, 22, 23, 12]</td>\n",
              "      <td>0</td>\n",
              "      <td>18</td>\n",
              "      <td>112</td>\n",
              "      <td>E46</td>\n",
              "      <td>9</td>\n",
              "      <td>0</td>\n",
              "      <td>0</td>\n",
              "      <td>1</td>\n",
              "    </tr>\n",
              "    <tr>\n",
              "      <th>2931</th>\n",
              "      <td>7</td>\n",
              "      <td>environment</td>\n",
              "      <td>2.500019</td>\n",
              "      <td>None</td>\n",
              "      <td>0</td>\n",
              "      <td>[15, 3, 9]</td>\n",
              "      <td>1</td>\n",
              "      <td>3</td>\n",
              "      <td>155</td>\n",
              "      <td>E46</td>\n",
              "      <td>3</td>\n",
              "      <td>0</td>\n",
              "      <td>0</td>\n",
              "      <td>1</td>\n",
              "    </tr>\n",
              "    <tr>\n",
              "      <th>2979</th>\n",
              "      <td>9</td>\n",
              "      <td>environment</td>\n",
              "      <td>2.500014</td>\n",
              "      <td>None</td>\n",
              "      <td>0</td>\n",
              "      <td>[12, 20, 3, 6, 1]</td>\n",
              "      <td>1</td>\n",
              "      <td>1</td>\n",
              "      <td>203</td>\n",
              "      <td>E46</td>\n",
              "      <td>5</td>\n",
              "      <td>0</td>\n",
              "      <td>0</td>\n",
              "      <td>1</td>\n",
              "    </tr>\n",
              "    <tr>\n",
              "      <th>2982</th>\n",
              "      <td>9</td>\n",
              "      <td>nonwords</td>\n",
              "      <td>2.500004</td>\n",
              "      <td>None</td>\n",
              "      <td>0</td>\n",
              "      <td>[63, 69, 55]</td>\n",
              "      <td>0</td>\n",
              "      <td>71</td>\n",
              "      <td>206</td>\n",
              "      <td>E46</td>\n",
              "      <td>3</td>\n",
              "      <td>0</td>\n",
              "      <td>1</td>\n",
              "      <td>0</td>\n",
              "    </tr>\n",
              "    <tr>\n",
              "      <th>2987</th>\n",
              "      <td>9</td>\n",
              "      <td>environment</td>\n",
              "      <td>2.500005</td>\n",
              "      <td>None</td>\n",
              "      <td>0</td>\n",
              "      <td>[5, 23, 21, 17, 20]</td>\n",
              "      <td>0</td>\n",
              "      <td>13</td>\n",
              "      <td>211</td>\n",
              "      <td>E46</td>\n",
              "      <td>5</td>\n",
              "      <td>0</td>\n",
              "      <td>0</td>\n",
              "      <td>1</td>\n",
              "    </tr>\n",
              "  </tbody>\n",
              "</table>\n",
              "</div>\n",
              "      <button class=\"colab-df-convert\" onclick=\"convertToInteractive('df-02cd5dd0-1a9f-43e9-8f9d-e6b68e9d9e3e')\"\n",
              "              title=\"Convert this dataframe to an interactive table.\"\n",
              "              style=\"display:none;\">\n",
              "        \n",
              "  <svg xmlns=\"http://www.w3.org/2000/svg\" height=\"24px\"viewBox=\"0 0 24 24\"\n",
              "       width=\"24px\">\n",
              "    <path d=\"M0 0h24v24H0V0z\" fill=\"none\"/>\n",
              "    <path d=\"M18.56 5.44l.94 2.06.94-2.06 2.06-.94-2.06-.94-.94-2.06-.94 2.06-2.06.94zm-11 1L8.5 8.5l.94-2.06 2.06-.94-2.06-.94L8.5 2.5l-.94 2.06-2.06.94zm10 10l.94 2.06.94-2.06 2.06-.94-2.06-.94-.94-2.06-.94 2.06-2.06.94z\"/><path d=\"M17.41 7.96l-1.37-1.37c-.4-.4-.92-.59-1.43-.59-.52 0-1.04.2-1.43.59L10.3 9.45l-7.72 7.72c-.78.78-.78 2.05 0 2.83L4 21.41c.39.39.9.59 1.41.59.51 0 1.02-.2 1.41-.59l7.78-7.78 2.81-2.81c.8-.78.8-2.07 0-2.86zM5.41 20L4 18.59l7.72-7.72 1.47 1.35L5.41 20z\"/>\n",
              "  </svg>\n",
              "      </button>\n",
              "      \n",
              "  <style>\n",
              "    .colab-df-container {\n",
              "      display:flex;\n",
              "      flex-wrap:wrap;\n",
              "      gap: 12px;\n",
              "    }\n",
              "\n",
              "    .colab-df-convert {\n",
              "      background-color: #E8F0FE;\n",
              "      border: none;\n",
              "      border-radius: 50%;\n",
              "      cursor: pointer;\n",
              "      display: none;\n",
              "      fill: #1967D2;\n",
              "      height: 32px;\n",
              "      padding: 0 0 0 0;\n",
              "      width: 32px;\n",
              "    }\n",
              "\n",
              "    .colab-df-convert:hover {\n",
              "      background-color: #E2EBFA;\n",
              "      box-shadow: 0px 1px 2px rgba(60, 64, 67, 0.3), 0px 1px 3px 1px rgba(60, 64, 67, 0.15);\n",
              "      fill: #174EA6;\n",
              "    }\n",
              "\n",
              "    [theme=dark] .colab-df-convert {\n",
              "      background-color: #3B4455;\n",
              "      fill: #D2E3FC;\n",
              "    }\n",
              "\n",
              "    [theme=dark] .colab-df-convert:hover {\n",
              "      background-color: #434B5C;\n",
              "      box-shadow: 0px 1px 3px 1px rgba(0, 0, 0, 0.15);\n",
              "      filter: drop-shadow(0px 1px 2px rgba(0, 0, 0, 0.3));\n",
              "      fill: #FFFFFF;\n",
              "    }\n",
              "  </style>\n",
              "\n",
              "      <script>\n",
              "        const buttonEl =\n",
              "          document.querySelector('#df-02cd5dd0-1a9f-43e9-8f9d-e6b68e9d9e3e button.colab-df-convert');\n",
              "        buttonEl.style.display =\n",
              "          google.colab.kernel.accessAllowed ? 'block' : 'none';\n",
              "\n",
              "        async function convertToInteractive(key) {\n",
              "          const element = document.querySelector('#df-02cd5dd0-1a9f-43e9-8f9d-e6b68e9d9e3e');\n",
              "          const dataTable =\n",
              "            await google.colab.kernel.invokeFunction('convertToInteractive',\n",
              "                                                     [key], {});\n",
              "          if (!dataTable) return;\n",
              "\n",
              "          const docLinkHtml = 'Like what you see? Visit the ' +\n",
              "            '<a target=\"_blank\" href=https://colab.research.google.com/notebooks/data_table.ipynb>data table notebook</a>'\n",
              "            + ' to learn more about interactive tables.';\n",
              "          element.innerHTML = '';\n",
              "          dataTable['output_type'] = 'display_data';\n",
              "          await google.colab.output.renderOutput(dataTable, element);\n",
              "          const docLink = document.createElement('div');\n",
              "          docLink.innerHTML = docLinkHtml;\n",
              "          element.appendChild(docLink);\n",
              "        }\n",
              "      </script>\n",
              "    </div>\n",
              "  </div>\n",
              "  "
            ]
          },
          "metadata": {},
          "execution_count": 161
        }
      ]
    },
    {
      "cell_type": "code",
      "source": [
        "sns.distplot(eeg_[eeg_['Resp'] == 'None']['ReactionTime'])\n",
        "pl.title('Distribution of None trial in EEG dataset');"
      ],
      "metadata": {
        "id": "x4D9SB2bNevb",
        "outputId": "9929bf64-9d91-4f20-ea0a-c884d07cbf60",
        "colab": {
          "base_uri": "https://localhost:8080/",
          "height": 358
        }
      },
      "execution_count": 163,
      "outputs": [
        {
          "output_type": "stream",
          "name": "stderr",
          "text": [
            "/usr/local/lib/python3.7/dist-packages/seaborn/distributions.py:2619: FutureWarning: `distplot` is a deprecated function and will be removed in a future version. Please adapt your code to use either `displot` (a figure-level function with similar flexibility) or `histplot` (an axes-level function for histograms).\n",
            "  warnings.warn(msg, FutureWarning)\n"
          ]
        },
        {
          "output_type": "display_data",
          "data": {
            "text/plain": [
              "<Figure size 432x288 with 1 Axes>"
            ],
            "image/png": "[encoded data removed]"
          },
          "metadata": {}
        }
      ]
    },
    {
      "cell_type": "code",
      "source": [
        "checkset = eeg_.groupby(['Subject'])[['RespCorrect']].apply(\n",
        "    lambda x: x.sum()/x.count()\n",
        ")\n",
        "checkset[checkset['RespCorrect'] < 0.70]"
      ],
      "metadata": {
        "id": "JMkogzKsNja0",
        "outputId": "828669b1-3d74-4610-efa3-3bedd150b9d1",
        "colab": {
          "base_uri": "https://localhost:8080/",
          "height": 81
        }
      },
      "execution_count": 257,
      "outputs": [
        {
          "output_type": "execute_result",
          "data": {
            "text/plain": [
              "Empty DataFrame\n",
              "Columns: [RespCorrect]\n",
              "Index: []"
            ],
            "text/html": [
              "\n",
              "  <div id=\"df-c236c264-1ed8-4460-9c30-99295b7b3632\">\n",
              "    <div class=\"colab-df-container\">\n",
              "      <div>\n",
              "<style scoped>\n",
              "    .dataframe tbody tr th:only-of-type {\n",
              "        vertical-align: middle;\n",
              "    }\n",
              "\n",
              "    .dataframe tbody tr th {\n",
              "        vertical-align: top;\n",
              "    }\n",
              "\n",
              "    .dataframe thead th {\n",
              "        text-align: right;\n",
              "    }\n",
              "</style>\n",
              "<table border=\"1\" class=\"dataframe\">\n",
              "  <thead>\n",
              "    <tr style=\"text-align: right;\">\n",
              "      <th></th>\n",
              "      <th>RespCorrect</th>\n",
              "    </tr>\n",
              "    <tr>\n",
              "      <th>Subject</th>\n",
              "      <th></th>\n",
              "    </tr>\n",
              "  </thead>\n",
              "  <tbody>\n",
              "  </tbody>\n",
              "</table>\n",
              "</div>\n",
              "      <button class=\"colab-df-convert\" onclick=\"convertToInteractive('df-c236c264-1ed8-4460-9c30-99295b7b3632')\"\n",
              "              title=\"Convert this dataframe to an interactive table.\"\n",
              "              style=\"display:none;\">\n",
              "        \n",
              "  <svg xmlns=\"http://www.w3.org/2000/svg\" height=\"24px\"viewBox=\"0 0 24 24\"\n",
              "       width=\"24px\">\n",
              "    <path d=\"M0 0h24v24H0V0z\" fill=\"none\"/>\n",
              "    <path d=\"M18.56 5.44l.94 2.06.94-2.06 2.06-.94-2.06-.94-.94-2.06-.94 2.06-2.06.94zm-11 1L8.5 8.5l.94-2.06 2.06-.94-2.06-.94L8.5 2.5l-.94 2.06-2.06.94zm10 10l.94 2.06.94-2.06 2.06-.94-2.06-.94-.94-2.06-.94 2.06-2.06.94z\"/><path d=\"M17.41 7.96l-1.37-1.37c-.4-.4-.92-.59-1.43-.59-.52 0-1.04.2-1.43.59L10.3 9.45l-7.72 7.72c-.78.78-.78 2.05 0 2.83L4 21.41c.39.39.9.59 1.41.59.51 0 1.02-.2 1.41-.59l7.78-7.78 2.81-2.81c.8-.78.8-2.07 0-2.86zM5.41 20L4 18.59l7.72-7.72 1.47 1.35L5.41 20z\"/>\n",
              "  </svg>\n",
              "      </button>\n",
              "      \n",
              "  <style>\n",
              "    .colab-df-container {\n",
              "      display:flex;\n",
              "      flex-wrap:wrap;\n",
              "      gap: 12px;\n",
              "    }\n",
              "\n",
              "    .colab-df-convert {\n",
              "      background-color: #E8F0FE;\n",
              "      border: none;\n",
              "      border-radius: 50%;\n",
              "      cursor: pointer;\n",
              "      display: none;\n",
              "      fill: #1967D2;\n",
              "      height: 32px;\n",
              "      padding: 0 0 0 0;\n",
              "      width: 32px;\n",
              "    }\n",
              "\n",
              "    .colab-df-convert:hover {\n",
              "      background-color: #E2EBFA;\n",
              "      box-shadow: 0px 1px 2px rgba(60, 64, 67, 0.3), 0px 1px 3px 1px rgba(60, 64, 67, 0.15);\n",
              "      fill: #174EA6;\n",
              "    }\n",
              "\n",
              "    [theme=dark] .colab-df-convert {\n",
              "      background-color: #3B4455;\n",
              "      fill: #D2E3FC;\n",
              "    }\n",
              "\n",
              "    [theme=dark] .colab-df-convert:hover {\n",
              "      background-color: #434B5C;\n",
              "      box-shadow: 0px 1px 3px 1px rgba(0, 0, 0, 0.15);\n",
              "      filter: drop-shadow(0px 1px 2px rgba(0, 0, 0, 0.3));\n",
              "      fill: #FFFFFF;\n",
              "    }\n",
              "  </style>\n",
              "\n",
              "      <script>\n",
              "        const buttonEl =\n",
              "          document.querySelector('#df-c236c264-1ed8-4460-9c30-99295b7b3632 button.colab-df-convert');\n",
              "        buttonEl.style.display =\n",
              "          google.colab.kernel.accessAllowed ? 'block' : 'none';\n",
              "\n",
              "        async function convertToInteractive(key) {\n",
              "          const element = document.querySelector('#df-c236c264-1ed8-4460-9c30-99295b7b3632');\n",
              "          const dataTable =\n",
              "            await google.colab.kernel.invokeFunction('convertToInteractive',\n",
              "                                                     [key], {});\n",
              "          if (!dataTable) return;\n",
              "\n",
              "          const docLinkHtml = 'Like what you see? Visit the ' +\n",
              "            '<a target=\"_blank\" href=https://colab.research.google.com/notebooks/data_table.ipynb>data table notebook</a>'\n",
              "            + ' to learn more about interactive tables.';\n",
              "          element.innerHTML = '';\n",
              "          dataTable['output_type'] = 'display_data';\n",
              "          await google.colab.output.renderOutput(dataTable, element);\n",
              "          const docLink = document.createElement('div');\n",
              "          docLink.innerHTML = docLinkHtml;\n",
              "          element.appendChild(docLink);\n",
              "        }\n",
              "      </script>\n",
              "    </div>\n",
              "  </div>\n",
              "  "
            ]
          },
          "metadata": {},
          "execution_count": 257
        }
      ]
    },
    {
      "cell_type": "code",
      "source": [
        "sns.distplot(eeg_[eeg_['Resp'] != 'None'].ReactionTime)\n",
        "pl.title('RT distribution EEG');\n",
        "print(\n",
        "    'Mean', eeg_[eeg_['Resp'] != 'None'].ReactionTime.mean(),\n",
        "    'Max', eeg_[eeg_['Resp'] != 'None'].ReactionTime.max(),\n",
        "    'Min', eeg_[eeg_['Resp'] != 'None'].ReactionTime.min()\n",
        ")"
      ],
      "metadata": {
        "id": "tWxg8K0tNojc",
        "outputId": "93c2dd6b-1c64-4d7c-cf65-40b108e3c86f",
        "colab": {
          "base_uri": "https://localhost:8080/",
          "height": 376
        }
      },
      "execution_count": 256,
      "outputs": [
        {
          "output_type": "stream",
          "name": "stderr",
          "text": [
            "/usr/local/lib/python3.7/dist-packages/seaborn/distributions.py:2619: FutureWarning: `distplot` is a deprecated function and will be removed in a future version. Please adapt your code to use either `displot` (a figure-level function with similar flexibility) or `histplot` (an axes-level function for histograms).\n",
            "  warnings.warn(msg, FutureWarning)\n"
          ]
        },
        {
          "output_type": "stream",
          "name": "stdout",
          "text": [
            "Mean 0.9929041114329372 Max 2.44919808 Min 0.39225969\n"
          ]
        },
        {
          "output_type": "display_data",
          "data": {
            "text/plain": [
              "<Figure size 432x288 with 1 Axes>"
            ],
            "image/png": "[encoded data removed]"
          },
          "metadata": {}
        }
      ]
    },
    {
      "cell_type": "code",
      "source": [
        "values = []\n",
        "for i in eeg_[eeg_['Resp'] != 'None'].Subject.unique():\n",
        "  subset = eeg_[eeg_['Resp'] != 'None']\n",
        "  subset = subset[subset['Subject'] == i]\n",
        "  q75 = np.percentile(subset['ReactionTime'], 75)\n",
        "  q25 = np.percentile(subset['ReactionTime'], 25)\n",
        "  inter_qr = q75 - q25\n",
        "  upper = q75 + (inter_qr*3)\n",
        "  lower = q25 - (inter_qr*3)\n",
        "  index = 0\n",
        "  for val in subset.ReactionTime.values:\n",
        "    if val < lower:\n",
        "      values.append((i, val))\n",
        "      index += 1\n",
        "    elif val > upper:\n",
        "      values.append((i, val))\n",
        "      index += 1\n",
        "  print(i, index)"
      ],
      "metadata": {
        "colab": {
          "base_uri": "https://localhost:8080/"
        },
        "id": "teP-2DKw5KJT",
        "outputId": "d8e5af86-a4bf-49a2-f287-1d7b2c006c8f"
      },
      "execution_count": 258,
      "outputs": [
        {
          "output_type": "stream",
          "name": "stdout",
          "text": [
            "E32 3\n",
            "E34 2\n",
            "E35 4\n",
            "E36 8\n",
            "E37 5\n",
            "E38 3\n",
            "E39 0\n",
            "E40 5\n",
            "E41 2\n",
            "E42 1\n",
            "E43 2\n",
            "E44 1\n",
            "E45 5\n",
            "E46 0\n"
          ]
        }
      ]
    },
    {
      "cell_type": "code",
      "source": [
        "len(values)"
      ],
      "metadata": {
        "colab": {
          "base_uri": "https://localhost:8080/"
        },
        "id": "YajJC8q55tXN",
        "outputId": "e0be52db-1941-4aa2-c72b-fe5500d2ecfc"
      },
      "execution_count": 259,
      "outputs": [
        {
          "output_type": "execute_result",
          "data": {
            "text/plain": [
              "41"
            ]
          },
          "metadata": {},
          "execution_count": 259
        }
      ]
    },
    {
      "cell_type": "markdown",
      "source": [
        "## Accuracy plots. EEG"
      ],
      "metadata": {
        "id": "d4Cae6O3Qf1i"
      }
    },
    {
      "cell_type": "code",
      "source": [
        "eeg_.head()"
      ],
      "metadata": {
        "id": "UMb6d-fbpz5k",
        "outputId": "b97f83cf-7bef-4118-d9f3-2c984a069b44",
        "colab": {
          "base_uri": "https://localhost:8080/",
          "height": 206
        }
      },
      "execution_count": 261,
      "outputs": [
        {
          "output_type": "execute_result",
          "data": {
            "text/plain": [
              "  block StimulusCategory  ReactionTime Resp  RespCorrect  \\\n",
              "0     1         nonwords      1.160933   No            1   \n",
              "1     1      environment      0.962195  Yes            1   \n",
              "2     1            words      0.847072  Yes            1   \n",
              "3     1         nonwords      1.023422  Yes            1   \n",
              "4     1         nonwords      1.607325  Yes            1   \n",
              "\n",
              "             stimulusSounds_idx  ProbeCategory  probeSound_idx  Trial Subject  \\\n",
              "0                  [58, 67, 65]              0              72      0     E32   \n",
              "1                   [23, 15, 9]              1              23      1     E32   \n",
              "2                  [31, 46, 48]              1              31      2     E32   \n",
              "3  [62, 55, 51, 59, 64, 67, 70]              1              67      3     E32   \n",
              "4                  [56, 68, 69]              1              68      4     E32   \n",
              "\n",
              "   Length  Words  Nonwords  Environment  \n",
              "0       3      0         1            0  \n",
              "1       3      0         0            1  \n",
              "2       3      1         0            0  \n",
              "3       7      0         1            0  \n",
              "4       3      0         1            0  "
            ],
            "text/html": [
              "\n",
              "  <div id=\"df-1b94c18e-a806-4d75-b88b-2d4f19781129\">\n",
              "    <div class=\"colab-df-container\">\n",
              "      <div>\n",
              "<style scoped>\n",
              "    .dataframe tbody tr th:only-of-type {\n",
              "        vertical-align: middle;\n",
              "    }\n",
              "\n",
              "    .dataframe tbody tr th {\n",
              "        vertical-align: top;\n",
              "    }\n",
              "\n",
              "    .dataframe thead th {\n",
              "        text-align: right;\n",
              "    }\n",
              "</style>\n",
              "<table border=\"1\" class=\"dataframe\">\n",
              "  <thead>\n",
              "    <tr style=\"text-align: right;\">\n",
              "      <th></th>\n",
              "      <th>block</th>\n",
              "      <th>StimulusCategory</th>\n",
              "      <th>ReactionTime</th>\n",
              "      <th>Resp</th>\n",
              "      <th>RespCorrect</th>\n",
              "      <th>stimulusSounds_idx</th>\n",
              "      <th>ProbeCategory</th>\n",
              "      <th>probeSound_idx</th>\n",
              "      <th>Trial</th>\n",
              "      <th>Subject</th>\n",
              "      <th>Length</th>\n",
              "      <th>Words</th>\n",
              "      <th>Nonwords</th>\n",
              "      <th>Environment</th>\n",
              "    </tr>\n",
              "  </thead>\n",
              "  <tbody>\n",
              "    <tr>\n",
              "      <th>0</th>\n",
              "      <td>1</td>\n",
              "      <td>nonwords</td>\n",
              "      <td>1.160933</td>\n",
              "      <td>No</td>\n",
              "      <td>1</td>\n",
              "      <td>[58, 67, 65]</td>\n",
              "      <td>0</td>\n",
              "      <td>72</td>\n",
              "      <td>0</td>\n",
              "      <td>E32</td>\n",
              "      <td>3</td>\n",
              "      <td>0</td>\n",
              "      <td>1</td>\n",
              "      <td>0</td>\n",
              "    </tr>\n",
              "    <tr>\n",
              "      <th>1</th>\n",
              "      <td>1</td>\n",
              "      <td>environment</td>\n",
              "      <td>0.962195</td>\n",
              "      <td>Yes</td>\n",
              "      <td>1</td>\n",
              "      <td>[23, 15, 9]</td>\n",
              "      <td>1</td>\n",
              "      <td>23</td>\n",
              "      <td>1</td>\n",
              "      <td>E32</td>\n",
              "      <td>3</td>\n",
              "      <td>0</td>\n",
              "      <td>0</td>\n",
              "      <td>1</td>\n",
              "    </tr>\n",
              "    <tr>\n",
              "      <th>2</th>\n",
              "      <td>1</td>\n",
              "      <td>words</td>\n",
              "      <td>0.847072</td>\n",
              "      <td>Yes</td>\n",
              "      <td>1</td>\n",
              "      <td>[31, 46, 48]</td>\n",
              "      <td>1</td>\n",
              "      <td>31</td>\n",
              "      <td>2</td>\n",
              "      <td>E32</td>\n",
              "      <td>3</td>\n",
              "      <td>1</td>\n",
              "      <td>0</td>\n",
              "      <td>0</td>\n",
              "    </tr>\n",
              "    <tr>\n",
              "      <th>3</th>\n",
              "      <td>1</td>\n",
              "      <td>nonwords</td>\n",
              "      <td>1.023422</td>\n",
              "      <td>Yes</td>\n",
              "      <td>1</td>\n",
              "      <td>[62, 55, 51, 59, 64, 67, 70]</td>\n",
              "      <td>1</td>\n",
              "      <td>67</td>\n",
              "      <td>3</td>\n",
              "      <td>E32</td>\n",
              "      <td>7</td>\n",
              "      <td>0</td>\n",
              "      <td>1</td>\n",
              "      <td>0</td>\n",
              "    </tr>\n",
              "    <tr>\n",
              "      <th>4</th>\n",
              "      <td>1</td>\n",
              "      <td>nonwords</td>\n",
              "      <td>1.607325</td>\n",
              "      <td>Yes</td>\n",
              "      <td>1</td>\n",
              "      <td>[56, 68, 69]</td>\n",
              "      <td>1</td>\n",
              "      <td>68</td>\n",
              "      <td>4</td>\n",
              "      <td>E32</td>\n",
              "      <td>3</td>\n",
              "      <td>0</td>\n",
              "      <td>1</td>\n",
              "      <td>0</td>\n",
              "    </tr>\n",
              "  </tbody>\n",
              "</table>\n",
              "</div>\n",
              "      <button class=\"colab-df-convert\" onclick=\"convertToInteractive('df-1b94c18e-a806-4d75-b88b-2d4f19781129')\"\n",
              "              title=\"Convert this dataframe to an interactive table.\"\n",
              "              style=\"display:none;\">\n",
              "        \n",
              "  <svg xmlns=\"http://www.w3.org/2000/svg\" height=\"24px\"viewBox=\"0 0 24 24\"\n",
              "       width=\"24px\">\n",
              "    <path d=\"M0 0h24v24H0V0z\" fill=\"none\"/>\n",
              "    <path d=\"M18.56 5.44l.94 2.06.94-2.06 2.06-.94-2.06-.94-.94-2.06-.94 2.06-2.06.94zm-11 1L8.5 8.5l.94-2.06 2.06-.94-2.06-.94L8.5 2.5l-.94 2.06-2.06.94zm10 10l.94 2.06.94-2.06 2.06-.94-2.06-.94-.94-2.06-.94 2.06-2.06.94z\"/><path d=\"M17.41 7.96l-1.37-1.37c-.4-.4-.92-.59-1.43-.59-.52 0-1.04.2-1.43.59L10.3 9.45l-7.72 7.72c-.78.78-.78 2.05 0 2.83L4 21.41c.39.39.9.59 1.41.59.51 0 1.02-.2 1.41-.59l7.78-7.78 2.81-2.81c.8-.78.8-2.07 0-2.86zM5.41 20L4 18.59l7.72-7.72 1.47 1.35L5.41 20z\"/>\n",
              "  </svg>\n",
              "      </button>\n",
              "      \n",
              "  <style>\n",
              "    .colab-df-container {\n",
              "      display:flex;\n",
              "      flex-wrap:wrap;\n",
              "      gap: 12px;\n",
              "    }\n",
              "\n",
              "    .colab-df-convert {\n",
              "      background-color: #E8F0FE;\n",
              "      border: none;\n",
              "      border-radius: 50%;\n",
              "      cursor: pointer;\n",
              "      display: none;\n",
              "      fill: #1967D2;\n",
              "      height: 32px;\n",
              "      padding: 0 0 0 0;\n",
              "      width: 32px;\n",
              "    }\n",
              "\n",
              "    .colab-df-convert:hover {\n",
              "      background-color: #E2EBFA;\n",
              "      box-shadow: 0px 1px 2px rgba(60, 64, 67, 0.3), 0px 1px 3px 1px rgba(60, 64, 67, 0.15);\n",
              "      fill: #174EA6;\n",
              "    }\n",
              "\n",
              "    [theme=dark] .colab-df-convert {\n",
              "      background-color: #3B4455;\n",
              "      fill: #D2E3FC;\n",
              "    }\n",
              "\n",
              "    [theme=dark] .colab-df-convert:hover {\n",
              "      background-color: #434B5C;\n",
              "      box-shadow: 0px 1px 3px 1px rgba(0, 0, 0, 0.15);\n",
              "      filter: drop-shadow(0px 1px 2px rgba(0, 0, 0, 0.3));\n",
              "      fill: #FFFFFF;\n",
              "    }\n",
              "  </style>\n",
              "\n",
              "      <script>\n",
              "        const buttonEl =\n",
              "          document.querySelector('#df-1b94c18e-a806-4d75-b88b-2d4f19781129 button.colab-df-convert');\n",
              "        buttonEl.style.display =\n",
              "          google.colab.kernel.accessAllowed ? 'block' : 'none';\n",
              "\n",
              "        async function convertToInteractive(key) {\n",
              "          const element = document.querySelector('#df-1b94c18e-a806-4d75-b88b-2d4f19781129');\n",
              "          const dataTable =\n",
              "            await google.colab.kernel.invokeFunction('convertToInteractive',\n",
              "                                                     [key], {});\n",
              "          if (!dataTable) return;\n",
              "\n",
              "          const docLinkHtml = 'Like what you see? Visit the ' +\n",
              "            '<a target=\"_blank\" href=https://colab.research.google.com/notebooks/data_table.ipynb>data table notebook</a>'\n",
              "            + ' to learn more about interactive tables.';\n",
              "          element.innerHTML = '';\n",
              "          dataTable['output_type'] = 'display_data';\n",
              "          await google.colab.output.renderOutput(dataTable, element);\n",
              "          const docLink = document.createElement('div');\n",
              "          docLink.innerHTML = docLinkHtml;\n",
              "          element.appendChild(docLink);\n",
              "        }\n",
              "      </script>\n",
              "    </div>\n",
              "  </div>\n",
              "  "
            ]
          },
          "metadata": {},
          "execution_count": 261
        }
      ]
    },
    {
      "cell_type": "code",
      "source": [
        "pl.figure()\n",
        "subset = eeg_.groupby(['StimulusCategory', 'Length'])[['RespCorrect']].mean().reset_index()\n",
        "for i in subset.StimulusCategory.unique():\n",
        "  x = subset[subset['StimulusCategory'] == i]\n",
        "  pl.plot(x.Length, x.RespCorrect)\n",
        "pl.xticks(x.Length)\n",
        "pl.xlabel('List length')\n",
        "pl.ylabel('Acc')\n",
        "pl.legend(subset.StimulusCategory.unique())\n",
        "pl.title('Acc across conditions and line length EEG');\n",
        "\n"
      ],
      "metadata": {
        "id": "32sd4CKSpJAh",
        "outputId": "57a155b4-21c9-4613-bdae-cb713f891fde",
        "colab": {
          "base_uri": "https://localhost:8080/",
          "height": 301
        }
      },
      "execution_count": 264,
      "outputs": [
        {
          "output_type": "display_data",
          "data": {
            "text/plain": [
              "<Figure size 432x288 with 1 Axes>"
            ],
            "image/png": "[encoded data removed]"
          },
          "metadata": {}
        }
      ]
    },
    {
      "cell_type": "code",
      "source": [
        "# ONLY MATCH\n",
        "\n",
        "\n",
        "\n",
        "\n",
        "# ONLY MISMATC"
      ],
      "metadata": {
        "id": "8kGusMgWtE5C"
      },
      "execution_count": null,
      "outputs": []
    },
    {
      "cell_type": "code",
      "source": [
        "sns.barplot(x='StimulusCategory', y='RespCorrect', data = eeg_)\n",
        "pl.title('The effect of stim category on accuracy EEG');\n",
        "print('NW vs W')\n",
        "x, y = eeg_[eeg_['StimulusCategory'] == 'nonwords']['RespCorrect'], eeg_[eeg_['StimulusCategory'] == 'words']['RespCorrect']\n",
        "print(ttest(x,y))\n",
        "print('NW vs Environment')\n",
        "x, y = eeg_[eeg_['StimulusCategory'] == 'nonwords']['RespCorrect'], eeg_[eeg_['StimulusCategory'] == 'environment']['RespCorrect']\n",
        "print(ttest(x,y))\n",
        "print('W vs Environment')\n",
        "x, y = eeg_[eeg_['StimulusCategory'] == 'environment']['RespCorrect'], eeg_[eeg_['StimulusCategory'] == 'words']['RespCorrect']\n",
        "print(ttest(x,y))"
      ],
      "metadata": {
        "id": "IxMl81L5Qs2p",
        "outputId": "34a291f4-f770-4cdd-e307-7fd16dc22bde",
        "colab": {
          "base_uri": "https://localhost:8080/",
          "height": 412
        }
      },
      "execution_count": null,
      "outputs": [
        {
          "output_type": "stream",
          "name": "stdout",
          "text": [
            "NW vs W\n",
            "Ttest_indResult(statistic=-0.4284474906807684, pvalue=0.6683716818900234)\n",
            "NW vs Environment\n",
            "Ttest_indResult(statistic=0.2554350291355636, pvalue=0.798413506113592)\n",
            "W vs Environment\n",
            "Ttest_indResult(statistic=-0.6841461130546627, pvalue=0.4939625083085617)\n"
          ]
        },
        {
          "output_type": "display_data",
          "data": {
            "text/plain": [
              "<Figure size 432x288 with 1 Axes>"
            ],
            "image/png": "[encoded data removed]"
          },
          "metadata": {}
        }
      ]
    },
    {
      "cell_type": "code",
      "source": [
        "sns.barplot(x='ProbeCategory', y='RespCorrect', data = eeg_)\n",
        "pl.title('The effect of probe category on accuracy EEG');\n",
        "print('0 vs 1')\n",
        "x, y = eeg_[eeg_['ProbeCategory'] == 0]['RespCorrect'], eeg_[eeg_['ProbeCategory'] == 1]['RespCorrect']\n",
        "print(ttest(x,y))"
      ],
      "metadata": {
        "id": "3Tbp8fotT85G",
        "outputId": "a6020dbe-d56a-4f43-8f64-0e70f2197f9b",
        "colab": {
          "base_uri": "https://localhost:8080/",
          "height": 338
        }
      },
      "execution_count": null,
      "outputs": [
        {
          "output_type": "stream",
          "name": "stdout",
          "text": [
            "0 vs 1\n",
            "Ttest_indResult(statistic=-3.255935675875266, pvalue=0.0011430205875872846)\n"
          ]
        },
        {
          "output_type": "display_data",
          "data": {
            "text/plain": [
              "<Figure size 432x288 with 1 Axes>"
            ],
            "image/png": "[encoded data removed]"
          },
          "metadata": {}
        }
      ]
    },
    {
      "cell_type": "code",
      "source": [
        "eeg_no_nones = eeg_[eeg_['Resp'] != 'None']\n",
        "sns.barplot(x='StimulusCategory', y='ReactionTime', data = eeg_no_nones)\n",
        "pl.title('The effect of stim category on RT EEG');\n",
        "print('NW vs W')\n",
        "x, y = eeg_no_nones[eeg_no_nones['StimulusCategory'] == 'nonwords']['ReactionTime'], eeg_no_nones[eeg_no_nones['StimulusCategory'] == 'words']['ReactionTime']\n",
        "print(ttest(x,y))\n",
        "print('NW vs Environment')\n",
        "x, y = eeg_no_nones[eeg_no_nones['StimulusCategory'] == 'nonwords']['ReactionTime'], eeg_no_nones[eeg_no_nones['StimulusCategory'] == 'environment']['ReactionTime']\n",
        "print(ttest(x,y))\n",
        "print('W vs Environment')\n",
        "x, y = eeg_no_nones[eeg_no_nones['StimulusCategory'] == 'environment']['ReactionTime'], eeg_no_nones[eeg_no_nones['StimulusCategory'] == 'words']['ReactionTime']\n",
        "print(ttest(x,y))"
      ],
      "metadata": {
        "id": "9nUIfMpnRt2H",
        "outputId": "83a3b313-283b-4eb2-af1a-b75cd06973af",
        "colab": {
          "base_uri": "https://localhost:8080/",
          "height": 412
        }
      },
      "execution_count": null,
      "outputs": [
        {
          "output_type": "stream",
          "name": "stdout",
          "text": [
            "NW vs W\n",
            "Ttest_indResult(statistic=1.4175576266968544, pvalue=0.1564786424891116)\n",
            "NW vs Environment\n",
            "Ttest_indResult(statistic=0.6911049314570566, pvalue=0.48958161573610814)\n",
            "W vs Environment\n",
            "Ttest_indResult(statistic=0.70557677153618, pvalue=0.48053567710421374)\n"
          ]
        },
        {
          "output_type": "display_data",
          "data": {
            "text/plain": [
              "<Figure size 432x288 with 1 Axes>"
            ],
            "image/png": "[encoded data removed]"
          },
          "metadata": {}
        }
      ]
    },
    {
      "cell_type": "code",
      "source": [
        "sns.barplot(x='ProbeCategory', y='ReactionTime', data = eeg_no_nones)\n",
        "pl.title('The effect of probe category on RT EEG');\n",
        "print('0 vs 1')\n",
        "x, y = eeg_no_nones[eeg_no_nones['ProbeCategory'] == 0]['ReactionTime'], eeg_no_nones[eeg_no_nones['ProbeCategory'] == 1]['ReactionTime']\n",
        "print(ttest(x,y))"
      ],
      "metadata": {
        "id": "qPJcHpBgUPmI",
        "outputId": "1c506106-1ddf-43fa-c549-48c33105e6ea",
        "colab": {
          "base_uri": "https://localhost:8080/",
          "height": 338
        }
      },
      "execution_count": null,
      "outputs": [
        {
          "output_type": "stream",
          "name": "stdout",
          "text": [
            "0 vs 1\n",
            "Ttest_indResult(statistic=5.467147264673293, pvalue=4.9621422878254886e-08)\n"
          ]
        },
        {
          "output_type": "display_data",
          "data": {
            "text/plain": [
              "<Figure size 432x288 with 1 Axes>"
            ],
            "image/png": "[encoded data removed]"
          },
          "metadata": {}
        }
      ]
    },
    {
      "cell_type": "code",
      "source": [
        "sns.barplot(x='StimulusCategory', y='RespCorrect', hue='ProbeCategory', data = eeg_)\n",
        "pl.title('The interaction b/w probe and stimulus category Accuracy EEG');"
      ],
      "metadata": {
        "id": "x5VVbyuhUPxF",
        "outputId": "28ab6709-e574-4cda-eab6-aa33e231179e",
        "colab": {
          "base_uri": "https://localhost:8080/",
          "height": 301
        }
      },
      "execution_count": null,
      "outputs": [
        {
          "output_type": "display_data",
          "data": {
            "text/plain": [
              "<Figure size 432x288 with 1 Axes>"
            ],
            "image/png": "[encoded data removed]"
          },
          "metadata": {}
        }
      ]
    },
    {
      "cell_type": "code",
      "source": [
        "print('0 vs 1')\n",
        "print('Nonwords')\n",
        "subset = eeg_[eeg_['StimulusCategory'] == 'nonwords']\n",
        "x, y = subset[subset['ProbeCategory'] == 0][['RespCorrect']], subset[subset['ProbeCategory'] == 1][['RespCorrect']]\n",
        "print(ttest(x,y))\n",
        "print('Environment')\n",
        "subset = eeg_[eeg_['StimulusCategory'] == 'environment']\n",
        "x, y = subset[subset['ProbeCategory'] == 0][['RespCorrect']], subset[subset['ProbeCategory'] == 1][['RespCorrect']]\n",
        "print(ttest(x,y))\n",
        "print('Words')\n",
        "subset = eeg_[eeg_['StimulusCategory'] == 'words']\n",
        "x, y = subset[subset['ProbeCategory'] == 0][['RespCorrect']], subset[subset['ProbeCategory'] == 1][['RespCorrect']]\n",
        "print(ttest(x,y))\n",
        "print('')\n",
        "print('NW vs W vs E')\n",
        "print('ProbeType 0')\n",
        "subset = eeg_[eeg_['ProbeCategory'] == 0]\n",
        "x, y = subset[subset['StimulusCategory'] == 'words'][['RespCorrect']], subset[subset['StimulusCategory'] == 'nonwords'][['RespCorrect']]\n",
        "print('W vs NW', ttest(x,y))\n",
        "x, y = subset[subset['StimulusCategory'] == 'words'][['RespCorrect']], subset[subset['StimulusCategory'] == 'environment'][['RespCorrect']]\n",
        "print('W vs E', ttest(x,y))\n",
        "x, y = subset[subset['StimulusCategory'] == 'environment'][['RespCorrect']], subset[subset['StimulusCategory'] == 'nonwords'][['RespCorrect']]\n",
        "print('NW vs E', ttest(x,y))\n",
        "\n",
        "print('ProbeType 1')\n",
        "subset = eeg_[eeg_['ProbeCategory'] == 1]\n",
        "x, y = subset[subset['StimulusCategory'] == 'words'][['RespCorrect']], subset[subset['StimulusCategory'] == 'nonwords'][['RespCorrect']]\n",
        "print('W vs NW', ttest(x,y))\n",
        "x, y = subset[subset['StimulusCategory'] == 'words'][['RespCorrect']], subset[subset['StimulusCategory'] == 'environment'][['RespCorrect']]\n",
        "print('W vs E', ttest(x,y))\n",
        "x, y = subset[subset['StimulusCategory'] == 'environment'][['RespCorrect']], subset[subset['StimulusCategory'] == 'nonwords'][['RespCorrect']]\n",
        "print('NW vs E', ttest(x,y))"
      ],
      "metadata": {
        "id": "_srhikZfUjOf",
        "outputId": "c386a732-1f6d-4822-df79-76604e4999a3",
        "colab": {
          "base_uri": "https://localhost:8080/"
        }
      },
      "execution_count": null,
      "outputs": [
        {
          "output_type": "stream",
          "name": "stdout",
          "text": [
            "0 vs 1\n",
            "Nonwords\n",
            "Ttest_indResult(statistic=array([-1.66955544]), pvalue=array([0.09532619]))\n",
            "Environment\n",
            "Ttest_indResult(statistic=array([-0.72983297]), pvalue=array([0.46566446]))\n",
            "Words\n",
            "Ttest_indResult(statistic=array([-3.28801405]), pvalue=array([0.00104629]))\n",
            "\n",
            "NW vs W vs E\n",
            "ProbeType 0\n",
            "W vs NW Ttest_indResult(statistic=array([-0.43890204]), pvalue=array([0.66082771]))\n",
            "W vs E Ttest_indResult(statistic=array([-0.70808498]), pvalue=array([0.47905815]))\n",
            "NW vs E Ttest_indResult(statistic=array([0.26922055]), pvalue=array([0.78781573]))\n",
            "ProbeType 1\n",
            "W vs NW Ttest_indResult(statistic=array([1.18578064]), pvalue=array([0.23599518]))\n",
            "W vs E Ttest_indResult(statistic=array([1.85698522]), pvalue=array([0.06361519]))\n",
            "NW vs E Ttest_indResult(statistic=array([-0.67171276]), pvalue=array([0.50192317]))\n"
          ]
        }
      ]
    },
    {
      "cell_type": "code",
      "source": [
        "sns.barplot(x='StimulusCategory', y='ReactionTime', hue='ProbeCategory', data = eeg_no_nones)\n",
        "pl.title('The interaction b/w probe and stimulus category RT EEG');"
      ],
      "metadata": {
        "id": "OukcPbRTVj8o",
        "outputId": "a46ea106-eec8-4590-b579-26bc300b82a7",
        "colab": {
          "base_uri": "https://localhost:8080/",
          "height": 301
        }
      },
      "execution_count": null,
      "outputs": [
        {
          "output_type": "display_data",
          "data": {
            "text/plain": [
              "<Figure size 432x288 with 1 Axes>"
            ],
            "image/png": "[encoded data removed]"
          },
          "metadata": {}
        }
      ]
    },
    {
      "cell_type": "code",
      "source": [
        "print('0 vs 1')\n",
        "print('Nonwords')\n",
        "subset = eeg_no_nones[eeg_no_nones['StimulusCategory'] == 'nonwords']\n",
        "x, y = subset[subset['ProbeCategory'] == 0][['ReactionTime']], subset[subset['ProbeCategory'] == 1][['ReactionTime']]\n",
        "print(ttest(x,y))\n",
        "print('Environment')\n",
        "subset = eeg_no_nones[eeg_no_nones['StimulusCategory'] == 'environment']\n",
        "x, y = subset[subset['ProbeCategory'] == 0][['ReactionTime']], subset[subset['ProbeCategory'] == 1][['ReactionTime']]\n",
        "print(ttest(x,y))\n",
        "print('Words')\n",
        "subset = eeg_[eeg_['StimulusCategory'] == 'words']\n",
        "x, y = subset[subset['ProbeCategory'] == 0][['ReactionTime']], subset[subset['ProbeCategory'] == 1][['ReactionTime']]\n",
        "print(ttest(x,y))\n",
        "print('')\n",
        "print('NW vs W vs E')\n",
        "print('ProbeType 0')\n",
        "subset = eeg_no_nones[eeg_no_nones['ProbeCategory'] == 0]\n",
        "x, y = subset[subset['StimulusCategory'] == 'words'][['ReactionTime']], subset[subset['StimulusCategory'] == 'nonwords'][['ReactionTime']]\n",
        "print('W vs NW', ttest(x,y))\n",
        "x, y = subset[subset['StimulusCategory'] == 'words'][['ReactionTime']], subset[subset['StimulusCategory'] == 'environment'][['ReactionTime']]\n",
        "print('W vs E', ttest(x,y))\n",
        "x, y = subset[subset['StimulusCategory'] == 'environment'][['ReactionTime']], subset[subset['StimulusCategory'] == 'nonwords'][['ReactionTime']]\n",
        "print('NW vs E', ttest(x,y))\n",
        "\n",
        "print('ProbeType 1')\n",
        "subset = eeg_no_nones[eeg_no_nones['ProbeCategory'] == 1]\n",
        "x, y = subset[subset['StimulusCategory'] == 'words'][['ReactionTime']], subset[subset['StimulusCategory'] == 'nonwords'][['ReactionTime']]\n",
        "print('W vs NW', ttest(x,y))\n",
        "x, y = subset[subset['StimulusCategory'] == 'words'][['ReactionTime']], subset[subset['StimulusCategory'] == 'environment'][['ReactionTime']]\n",
        "print('W vs E', ttest(x,y))\n",
        "x, y = subset[subset['StimulusCategory'] == 'environment'][['ReactionTime']], subset[subset['StimulusCategory'] == 'nonwords'][['ReactionTime']]\n",
        "print('NW vs E', ttest(x,y))"
      ],
      "metadata": {
        "id": "HkFw0rD_VkEf",
        "colab": {
          "base_uri": "https://localhost:8080/"
        },
        "outputId": "ac34ef47-1c15-4016-8e34-98bfc83f5482"
      },
      "execution_count": null,
      "outputs": [
        {
          "output_type": "stream",
          "name": "stdout",
          "text": [
            "0 vs 1\n",
            "Nonwords\n",
            "Ttest_indResult(statistic=array([1.97294624]), pvalue=array([0.04878211]))\n",
            "Environment\n",
            "Ttest_indResult(statistic=array([3.51478809]), pvalue=array([0.00046098]))\n",
            "Words\n",
            "Ttest_indResult(statistic=array([3.56736019]), pvalue=array([0.00037801]))\n",
            "\n",
            "NW vs W vs E\n",
            "ProbeType 0\n",
            "W vs NW Ttest_indResult(statistic=array([-0.0633929]), pvalue=array([0.94946653]))\n",
            "W vs E Ttest_indResult(statistic=array([-0.31886219]), pvalue=array([0.74989931]))\n",
            "NW vs E Ttest_indResult(statistic=array([0.25632907]), pvalue=array([0.79775083]))\n",
            "ProbeType 1\n",
            "W vs NW Ttest_indResult(statistic=array([-2.05449426]), pvalue=array([0.04019606]))\n",
            "W vs E Ttest_indResult(statistic=array([-0.70738563]), pvalue=array([0.47949644]))\n",
            "NW vs E Ttest_indResult(statistic=array([-1.33616723]), pvalue=array([0.18180731]))\n"
          ]
        }
      ]
    },
    {
      "cell_type": "markdown",
      "source": [
        "## Accuracy plots. iEEG"
      ],
      "metadata": {
        "id": "wkJoKUSEQj1R"
      }
    },
    {
      "cell_type": "code",
      "source": [
        "sns.barplot(x='StimulusCategory', y='RespCorrect', data = ieeg_no_outliers)\n",
        "pl.title('The effect of stim category on accuracy iEEG');\n",
        "print('NW vs W')\n",
        "x, y = ieeg_no_outliers[ieeg_no_outliers['StimulusCategory'] == 'nonwords']['RespCorrect'], ieeg_no_outliers[ieeg_no_outliers['StimulusCategory'] == 'words']['RespCorrect']\n",
        "print(ttest(x,y))\n",
        "print('NW vs Environment')\n",
        "x, y = ieeg_no_outliers[ieeg_no_outliers['StimulusCategory'] == 'nonwords']['RespCorrect'], ieeg_no_outliers[ieeg_no_outliers['StimulusCategory'] == 'environment']['RespCorrect']\n",
        "print(ttest(x,y))\n",
        "print('W vs Environment')\n",
        "x, y = ieeg_no_outliers[ieeg_no_outliers['StimulusCategory'] == 'environment']['RespCorrect'], ieeg_no_outliers[ieeg_no_outliers['StimulusCategory'] == 'words']['RespCorrect']\n",
        "print(ttest(x,y))"
      ],
      "metadata": {
        "id": "LGTKoYyfShad",
        "outputId": "651fdbbb-a5d2-41fb-933e-8d049ff4d7a5",
        "colab": {
          "base_uri": "https://localhost:8080/",
          "height": 412
        }
      },
      "execution_count": null,
      "outputs": [
        {
          "output_type": "stream",
          "name": "stdout",
          "text": [
            "NW vs W\n",
            "Ttest_indResult(statistic=-1.2996202129993855, pvalue=0.19389319556602957)\n",
            "NW vs Environment\n",
            "Ttest_indResult(statistic=1.9949036662863604, pvalue=0.04619876606585375)\n",
            "W vs Environment\n",
            "Ttest_indResult(statistic=-3.290177767336641, pvalue=0.0010201678996592895)\n"
          ]
        },
        {
          "output_type": "display_data",
          "data": {
            "text/plain": [
              "<Figure size 432x288 with 1 Axes>"
            ],
            "image/png": "[encoded data removed]"
          },
          "metadata": {}
        }
      ]
    },
    {
      "cell_type": "code",
      "source": [
        "ieeg_no_nones = ieeg_no_outliers[ieeg_no_outliers['Resp'] != 'None']\n",
        "sns.barplot(x='StimulusCategory', y='ReactionTime', data = ieeg_no_nones)\n",
        "pl.title('The effect of stim category on RT iEEG');\n",
        "print('NW vs W')\n",
        "x, y = ieeg_no_nones[ieeg_no_nones['StimulusCategory'] == 'nonwords']['ReactionTime'], ieeg_no_nones[ieeg_no_nones['StimulusCategory'] == 'words']['ReactionTime']\n",
        "print(ttest(x,y))\n",
        "print('NW vs Environment')\n",
        "x, y = ieeg_no_nones[ieeg_no_nones['StimulusCategory'] == 'nonwords']['ReactionTime'], ieeg_no_nones[ieeg_no_nones['StimulusCategory'] == 'environment']['ReactionTime']\n",
        "print(ttest(x,y))\n",
        "print('W vs Environment')\n",
        "x, y = ieeg_no_nones[ieeg_no_nones['StimulusCategory'] == 'environment']['ReactionTime'], ieeg_no_nones[ieeg_no_nones['StimulusCategory'] == 'words']['ReactionTime']\n",
        "print(ttest(x,y))"
      ],
      "metadata": {
        "id": "rGz6FW27V_WG",
        "outputId": "90d2037e-76fc-494a-fe1a-e3ff25fe5b2a",
        "colab": {
          "base_uri": "https://localhost:8080/",
          "height": 412
        }
      },
      "execution_count": null,
      "outputs": [
        {
          "output_type": "stream",
          "name": "stdout",
          "text": [
            "NW vs W\n",
            "Ttest_indResult(statistic=1.0644852224716297, pvalue=0.28725179463135897)\n",
            "NW vs Environment\n",
            "Ttest_indResult(statistic=-2.5785949186152948, pvalue=0.010000403169502407)\n",
            "W vs Environment\n",
            "Ttest_indResult(statistic=3.6259768882364973, pvalue=0.0002961043804919181)\n"
          ]
        },
        {
          "output_type": "display_data",
          "data": {
            "text/plain": [
              "<Figure size 432x288 with 1 Axes>"
            ],
            "image/png": "[encoded data removed]"
          },
          "metadata": {}
        }
      ]
    },
    {
      "cell_type": "code",
      "source": [
        "sns.barplot(x='ProbeCategory', y='RespCorrect', data = ieeg_no_outliers)\n",
        "pl.title('The effect of probe category on accuracy iEEG');\n",
        "print('0 vs 1')\n",
        "x, y = ieeg_no_outliers[ieeg_no_outliers['ProbeCategory'] == 0]['RespCorrect'], ieeg_no_outliers[ieeg_no_outliers['ProbeCategory'] == 1]['RespCorrect']\n",
        "print(ttest(x,y))"
      ],
      "metadata": {
        "id": "grwQ-7xiWVdg",
        "outputId": "25928c0d-3010-4d38-8dfe-9dbbf6f5c99a",
        "colab": {
          "base_uri": "https://localhost:8080/",
          "height": 338
        }
      },
      "execution_count": null,
      "outputs": [
        {
          "output_type": "stream",
          "name": "stdout",
          "text": [
            "0 vs 1\n",
            "Ttest_indResult(statistic=-5.471638373124856, pvalue=4.865124138212788e-08)\n"
          ]
        },
        {
          "output_type": "display_data",
          "data": {
            "text/plain": [
              "<Figure size 432x288 with 1 Axes>"
            ],
            "image/png": "[encoded data removed]"
          },
          "metadata": {}
        }
      ]
    },
    {
      "cell_type": "code",
      "source": [
        "sns.barplot(x='ProbeCategory', y='ReactionTime', data = ieeg_no_nones)\n",
        "pl.title('The effect of probe category on RT iEEG');\n",
        "print('0 vs 1')\n",
        "x, y = ieeg_no_nones[ieeg_no_nones['ProbeCategory'] == 0]['ReactionTime'], ieeg_no_nones[ieeg_no_nones['ProbeCategory'] == 1]['ReactionTime']\n",
        "print(ttest(x,y))"
      ],
      "metadata": {
        "id": "xTEB3pz4WXe_",
        "outputId": "a7a5faa0-20f0-4c10-f3d2-e11b051c4216",
        "colab": {
          "base_uri": "https://localhost:8080/",
          "height": 338
        }
      },
      "execution_count": null,
      "outputs": [
        {
          "output_type": "stream",
          "name": "stdout",
          "text": [
            "0 vs 1\n",
            "Ttest_indResult(statistic=3.722077564610176, pvalue=0.00020165552999581963)\n"
          ]
        },
        {
          "output_type": "display_data",
          "data": {
            "text/plain": [
              "<Figure size 432x288 with 1 Axes>"
            ],
            "image/png": "[encoded data removed]"
          },
          "metadata": {}
        }
      ]
    },
    {
      "cell_type": "code",
      "source": [
        "sns.barplot(x='StimulusCategory', y='RespCorrect', hue='ProbeCategory', data = ieeg_no_outliers)\n",
        "pl.title('The interaction b/w probe and stimulus category Accuracy iEEG');"
      ],
      "metadata": {
        "id": "6WTjNoaUWiF_",
        "outputId": "894775e6-c0bb-4a22-cc58-702eb6812785",
        "colab": {
          "base_uri": "https://localhost:8080/",
          "height": 301
        }
      },
      "execution_count": null,
      "outputs": [
        {
          "output_type": "display_data",
          "data": {
            "text/plain": [
              "<Figure size 432x288 with 1 Axes>"
            ],
            "image/png": "[encoded data removed]"
          },
          "metadata": {}
        }
      ]
    },
    {
      "cell_type": "code",
      "source": [
        "print('0 vs 1')\n",
        "print('Nonwords')\n",
        "subset = ieeg_no_outliers[ieeg_no_outliers['StimulusCategory'] == 'nonwords']\n",
        "x, y = subset[subset['ProbeCategory'] == 0][['RespCorrect']], subset[subset['ProbeCategory'] == 1][['RespCorrect']]\n",
        "print(ttest(x,y))\n",
        "print('Environment')\n",
        "subset = ieeg_no_outliers[ieeg_no_outliers['StimulusCategory'] == 'environment']\n",
        "x, y = subset[subset['ProbeCategory'] == 0][['RespCorrect']], subset[subset['ProbeCategory'] == 1][['RespCorrect']]\n",
        "print(ttest(x,y))\n",
        "print('Words')\n",
        "subset = ieeg_no_outliers[ieeg_no_outliers['StimulusCategory'] == 'words']\n",
        "x, y = subset[subset['ProbeCategory'] == 0][['RespCorrect']], subset[subset['ProbeCategory'] == 1][['RespCorrect']]\n",
        "print(ttest(x,y))\n",
        "print('')\n",
        "print('NW vs W vs E')\n",
        "print('ProbeType 0')\n",
        "subset = ieeg_no_outliers[ieeg_no_outliers['ProbeCategory'] == 0]\n",
        "x, y = subset[subset['StimulusCategory'] == 'words'][['RespCorrect']], subset[subset['StimulusCategory'] == 'nonwords'][['RespCorrect']]\n",
        "print('W vs NW', ttest(x,y))\n",
        "x, y = subset[subset['StimulusCategory'] == 'words'][['RespCorrect']], subset[subset['StimulusCategory'] == 'environment'][['RespCorrect']]\n",
        "print('W vs E', ttest(x,y))\n",
        "x, y = subset[subset['StimulusCategory'] == 'environment'][['RespCorrect']], subset[subset['StimulusCategory'] == 'nonwords'][['RespCorrect']]\n",
        "print('NW vs E', ttest(x,y))\n",
        "\n",
        "print('ProbeType 1')\n",
        "subset = ieeg_no_outliers[ieeg_no_outliers['ProbeCategory'] == 1]\n",
        "x, y = subset[subset['StimulusCategory'] == 'words'][['RespCorrect']], subset[subset['StimulusCategory'] == 'nonwords'][['RespCorrect']]\n",
        "print('W vs NW', ttest(x,y))\n",
        "x, y = subset[subset['StimulusCategory'] == 'words'][['RespCorrect']], subset[subset['StimulusCategory'] == 'environment'][['RespCorrect']]\n",
        "print('W vs E', ttest(x,y))\n",
        "x, y = subset[subset['StimulusCategory'] == 'environment'][['RespCorrect']], subset[subset['StimulusCategory'] == 'nonwords'][['RespCorrect']]\n",
        "print('NW vs E', ttest(x,y))"
      ],
      "metadata": {
        "id": "8MTPDSzOWiIk",
        "outputId": "18b08ace-bbad-454f-a9ec-aada3230dc08",
        "colab": {
          "base_uri": "https://localhost:8080/"
        }
      },
      "execution_count": null,
      "outputs": [
        {
          "output_type": "stream",
          "name": "stdout",
          "text": [
            "0 vs 1\n",
            "Nonwords\n",
            "Ttest_indResult(statistic=array([-1.24440166]), pvalue=array([0.21366547]))\n",
            "Environment\n",
            "Ttest_indResult(statistic=array([-4.10785231]), pvalue=array([4.35434242e-05]))\n",
            "Words\n",
            "Ttest_indResult(statistic=array([-4.15906018]), pvalue=array([3.51590302e-05]))\n",
            "\n",
            "NW vs W vs E\n",
            "ProbeType 0\n",
            "W vs NW Ttest_indResult(statistic=array([-0.4443887]), pvalue=array([0.65686564]))\n",
            "W vs E Ttest_indResult(statistic=array([2.30430252]), pvalue=array([0.02142737]))\n",
            "NW vs E Ttest_indResult(statistic=array([-2.76634278]), pvalue=array([0.00578181]))\n",
            "ProbeType 1\n",
            "W vs NW Ttest_indResult(statistic=array([2.49678083]), pvalue=array([0.01271048]))\n",
            "W vs E Ttest_indResult(statistic=array([2.41721629]), pvalue=array([0.01583535]))\n",
            "NW vs E Ttest_indResult(statistic=array([0.08916582]), pvalue=array([0.9289693]))\n"
          ]
        }
      ]
    },
    {
      "cell_type": "code",
      "source": [
        "sns.barplot(x='StimulusCategory', y='ReactionTime', hue='ProbeCategory', data = ieeg_no_nones)\n",
        "pl.title('The interaction b/w probe and stimulus category RT iEEG');"
      ],
      "metadata": {
        "id": "9MFNRZAaWiQk",
        "outputId": "ef7b831a-6b6f-4538-aa84-616d274bd808",
        "colab": {
          "base_uri": "https://localhost:8080/",
          "height": 301
        }
      },
      "execution_count": null,
      "outputs": [
        {
          "output_type": "display_data",
          "data": {
            "text/plain": [
              "<Figure size 432x288 with 1 Axes>"
            ],
            "image/png": "[encoded data removed]"
          },
          "metadata": {}
        }
      ]
    },
    {
      "cell_type": "code",
      "source": [
        "print('0 vs 1')\n",
        "print('Nonwords')\n",
        "subset = ieeg_no_nones[ieeg_no_nones['StimulusCategory'] == 'nonwords']\n",
        "x, y = subset[subset['ProbeCategory'] == 0][['ReactionTime']], subset[subset['ProbeCategory'] == 1][['ReactionTime']]\n",
        "print(ttest(x,y))\n",
        "print('Environment')\n",
        "subset = ieeg_no_nones[ieeg_no_nones['StimulusCategory'] == 'environment']\n",
        "x, y = subset[subset['ProbeCategory'] == 0][['ReactionTime']], subset[subset['ProbeCategory'] == 1][['ReactionTime']]\n",
        "print(ttest(x,y))\n",
        "print('Words')\n",
        "subset = eeg_[eeg_['StimulusCategory'] == 'words']\n",
        "x, y = subset[subset['ProbeCategory'] == 0][['ReactionTime']], subset[subset['ProbeCategory'] == 1][['ReactionTime']]\n",
        "print(ttest(x,y))\n",
        "print('')\n",
        "print('NW vs W vs E')\n",
        "print('ProbeType 0')\n",
        "subset = ieeg_no_nones[ieeg_no_nones['ProbeCategory'] == 0]\n",
        "x, y = subset[subset['StimulusCategory'] == 'words'][['ReactionTime']], subset[subset['StimulusCategory'] == 'nonwords'][['ReactionTime']]\n",
        "print('W vs NW', ttest(x,y))\n",
        "x, y = subset[subset['StimulusCategory'] == 'words'][['ReactionTime']], subset[subset['StimulusCategory'] == 'environment'][['ReactionTime']]\n",
        "print('W vs E', ttest(x,y))\n",
        "x, y = subset[subset['StimulusCategory'] == 'environment'][['ReactionTime']], subset[subset['StimulusCategory'] == 'nonwords'][['ReactionTime']]\n",
        "print('NW vs E', ttest(x,y))\n",
        "\n",
        "print('ProbeType 1')\n",
        "subset = ieeg_no_nones[ieeg_no_nones['ProbeCategory'] == 1]\n",
        "x, y = subset[subset['StimulusCategory'] == 'words'][['ReactionTime']], subset[subset['StimulusCategory'] == 'nonwords'][['ReactionTime']]\n",
        "print('W vs NW', ttest(x,y))\n",
        "x, y = subset[subset['StimulusCategory'] == 'words'][['ReactionTime']], subset[subset['StimulusCategory'] == 'environment'][['ReactionTime']]\n",
        "print('W vs E', ttest(x,y))\n",
        "x, y = subset[subset['StimulusCategory'] == 'environment'][['ReactionTime']], subset[subset['StimulusCategory'] == 'nonwords'][['ReactionTime']]\n",
        "print('NW vs E', ttest(x,y))"
      ],
      "metadata": {
        "id": "RwS65dTLWiS8",
        "outputId": "d2b4b9fb-a72d-482b-d168-877bd2ee8aaf",
        "colab": {
          "base_uri": "https://localhost:8080/"
        }
      },
      "execution_count": null,
      "outputs": [
        {
          "output_type": "stream",
          "name": "stdout",
          "text": [
            "0 vs 1\n",
            "Nonwords\n",
            "Ttest_indResult(statistic=array([1.71709694]), pvalue=array([0.0863044]))\n",
            "Environment\n",
            "Ttest_indResult(statistic=array([2.18410529]), pvalue=array([0.02921843]))\n",
            "Words\n",
            "Ttest_indResult(statistic=array([3.56736019]), pvalue=array([0.00037801]))\n",
            "\n",
            "NW vs W vs E\n",
            "ProbeType 0\n",
            "W vs NW Ttest_indResult(statistic=array([-0.31099129]), pvalue=array([0.75587956]))\n",
            "W vs E Ttest_indResult(statistic=array([-2.46022411]), pvalue=array([0.01408171]))\n",
            "NW vs E Ttest_indResult(statistic=array([2.12552768]), pvalue=array([0.03382278]))\n",
            "ProbeType 1\n",
            "W vs NW Ttest_indResult(statistic=array([-1.17932342]), pvalue=array([0.23858085]))\n",
            "W vs E Ttest_indResult(statistic=array([-2.71154045]), pvalue=array([0.00682448]))\n",
            "NW vs E Ttest_indResult(statistic=array([1.5697685]), pvalue=array([0.11682243]))\n"
          ]
        }
      ]
    },
    {
      "cell_type": "markdown",
      "source": [
        "## Models iEEG"
      ],
      "metadata": {
        "id": "1h2wtnXC7ryB"
      }
    },
    {
      "cell_type": "code",
      "source": [
        "ieeg_.head()"
      ],
      "metadata": {
        "colab": {
          "base_uri": "https://localhost:8080/",
          "height": 206
        },
        "id": "ckgEojw9_oLG",
        "outputId": "4b1370f1-1a3a-4820-91f9-44354909ab38"
      },
      "execution_count": null,
      "outputs": [
        {
          "output_type": "execute_result",
          "data": {
            "text/plain": [
              "    block  ReactionTime  KeyCode Resp  RespCorrect  stimulusSounds_idx  \\\n",
              "160     1      0.990436     39.0   No            1                   3   \n",
              "161     1      1.302180     37.0  Yes            1                  16   \n",
              "162     1      1.432630     37.0  Yes            1                  17   \n",
              "163     1      1.160734     37.0  Yes            1                  17   \n",
              "164     1      0.845712     37.0  Yes            1                  16   \n",
              "\n",
              "     ProbeCategory  probeSound_idx StimulusCategory  Trial Subject  \n",
              "160              0              14         nonwords      0     D28  \n",
              "161              1              11            words      1     D28  \n",
              "162              1               7      environment      2     D28  \n",
              "163              1              13      environment      3     D28  \n",
              "164              1               3      environment      4     D28  "
            ],
            "text/html": [
              "\n",
              "  <div id=\"df-8096abfc-6d10-408a-afea-c3dc9ec842bd\">\n",
              "    <div class=\"colab-df-container\">\n",
              "      <div>\n",
              "<style scoped>\n",
              "    .dataframe tbody tr th:only-of-type {\n",
              "        vertical-align: middle;\n",
              "    }\n",
              "\n",
              "    .dataframe tbody tr th {\n",
              "        vertical-align: top;\n",
              "    }\n",
              "\n",
              "    .dataframe thead th {\n",
              "        text-align: right;\n",
              "    }\n",
              "</style>\n",
              "<table border=\"1\" class=\"dataframe\">\n",
              "  <thead>\n",
              "    <tr style=\"text-align: right;\">\n",
              "      <th></th>\n",
              "      <th>block</th>\n",
              "      <th>ReactionTime</th>\n",
              "      <th>KeyCode</th>\n",
              "      <th>Resp</th>\n",
              "      <th>RespCorrect</th>\n",
              "      <th>stimulusSounds_idx</th>\n",
              "      <th>ProbeCategory</th>\n",
              "      <th>probeSound_idx</th>\n",
              "      <th>StimulusCategory</th>\n",
              "      <th>Trial</th>\n",
              "      <th>Subject</th>\n",
              "    </tr>\n",
              "  </thead>\n",
              "  <tbody>\n",
              "    <tr>\n",
              "      <th>160</th>\n",
              "      <td>1</td>\n",
              "      <td>0.990436</td>\n",
              "      <td>39.0</td>\n",
              "      <td>No</td>\n",
              "      <td>1</td>\n",
              "      <td>3</td>\n",
              "      <td>0</td>\n",
              "      <td>14</td>\n",
              "      <td>nonwords</td>\n",
              "      <td>0</td>\n",
              "      <td>D28</td>\n",
              "    </tr>\n",
              "    <tr>\n",
              "      <th>161</th>\n",
              "      <td>1</td>\n",
              "      <td>1.302180</td>\n",
              "      <td>37.0</td>\n",
              "      <td>Yes</td>\n",
              "      <td>1</td>\n",
              "      <td>16</td>\n",
              "      <td>1</td>\n",
              "      <td>11</td>\n",
              "      <td>words</td>\n",
              "      <td>1</td>\n",
              "      <td>D28</td>\n",
              "    </tr>\n",
              "    <tr>\n",
              "      <th>162</th>\n",
              "      <td>1</td>\n",
              "      <td>1.432630</td>\n",
              "      <td>37.0</td>\n",
              "      <td>Yes</td>\n",
              "      <td>1</td>\n",
              "      <td>17</td>\n",
              "      <td>1</td>\n",
              "      <td>7</td>\n",
              "      <td>environment</td>\n",
              "      <td>2</td>\n",
              "      <td>D28</td>\n",
              "    </tr>\n",
              "    <tr>\n",
              "      <th>163</th>\n",
              "      <td>1</td>\n",
              "      <td>1.160734</td>\n",
              "      <td>37.0</td>\n",
              "      <td>Yes</td>\n",
              "      <td>1</td>\n",
              "      <td>17</td>\n",
              "      <td>1</td>\n",
              "      <td>13</td>\n",
              "      <td>environment</td>\n",
              "      <td>3</td>\n",
              "      <td>D28</td>\n",
              "    </tr>\n",
              "    <tr>\n",
              "      <th>164</th>\n",
              "      <td>1</td>\n",
              "      <td>0.845712</td>\n",
              "      <td>37.0</td>\n",
              "      <td>Yes</td>\n",
              "      <td>1</td>\n",
              "      <td>16</td>\n",
              "      <td>1</td>\n",
              "      <td>3</td>\n",
              "      <td>environment</td>\n",
              "      <td>4</td>\n",
              "      <td>D28</td>\n",
              "    </tr>\n",
              "  </tbody>\n",
              "</table>\n",
              "</div>\n",
              "      <button class=\"colab-df-convert\" onclick=\"convertToInteractive('df-8096abfc-6d10-408a-afea-c3dc9ec842bd')\"\n",
              "              title=\"Convert this dataframe to an interactive table.\"\n",
              "              style=\"display:none;\">\n",
              "        \n",
              "  <svg xmlns=\"http://www.w3.org/2000/svg\" height=\"24px\"viewBox=\"0 0 24 24\"\n",
              "       width=\"24px\">\n",
              "    <path d=\"M0 0h24v24H0V0z\" fill=\"none\"/>\n",
              "    <path d=\"M18.56 5.44l.94 2.06.94-2.06 2.06-.94-2.06-.94-.94-2.06-.94 2.06-2.06.94zm-11 1L8.5 8.5l.94-2.06 2.06-.94-2.06-.94L8.5 2.5l-.94 2.06-2.06.94zm10 10l.94 2.06.94-2.06 2.06-.94-2.06-.94-.94-2.06-.94 2.06-2.06.94z\"/><path d=\"M17.41 7.96l-1.37-1.37c-.4-.4-.92-.59-1.43-.59-.52 0-1.04.2-1.43.59L10.3 9.45l-7.72 7.72c-.78.78-.78 2.05 0 2.83L4 21.41c.39.39.9.59 1.41.59.51 0 1.02-.2 1.41-.59l7.78-7.78 2.81-2.81c.8-.78.8-2.07 0-2.86zM5.41 20L4 18.59l7.72-7.72 1.47 1.35L5.41 20z\"/>\n",
              "  </svg>\n",
              "      </button>\n",
              "      \n",
              "  <style>\n",
              "    .colab-df-container {\n",
              "      display:flex;\n",
              "      flex-wrap:wrap;\n",
              "      gap: 12px;\n",
              "    }\n",
              "\n",
              "    .colab-df-convert {\n",
              "      background-color: #E8F0FE;\n",
              "      border: none;\n",
              "      border-radius: 50%;\n",
              "      cursor: pointer;\n",
              "      display: none;\n",
              "      fill: #1967D2;\n",
              "      height: 32px;\n",
              "      padding: 0 0 0 0;\n",
              "      width: 32px;\n",
              "    }\n",
              "\n",
              "    .colab-df-convert:hover {\n",
              "      background-color: #E2EBFA;\n",
              "      box-shadow: 0px 1px 2px rgba(60, 64, 67, 0.3), 0px 1px 3px 1px rgba(60, 64, 67, 0.15);\n",
              "      fill: #174EA6;\n",
              "    }\n",
              "\n",
              "    [theme=dark] .colab-df-convert {\n",
              "      background-color: #3B4455;\n",
              "      fill: #D2E3FC;\n",
              "    }\n",
              "\n",
              "    [theme=dark] .colab-df-convert:hover {\n",
              "      background-color: #434B5C;\n",
              "      box-shadow: 0px 1px 3px 1px rgba(0, 0, 0, 0.15);\n",
              "      filter: drop-shadow(0px 1px 2px rgba(0, 0, 0, 0.3));\n",
              "      fill: #FFFFFF;\n",
              "    }\n",
              "  </style>\n",
              "\n",
              "      <script>\n",
              "        const buttonEl =\n",
              "          document.querySelector('#df-8096abfc-6d10-408a-afea-c3dc9ec842bd button.colab-df-convert');\n",
              "        buttonEl.style.display =\n",
              "          google.colab.kernel.accessAllowed ? 'block' : 'none';\n",
              "\n",
              "        async function convertToInteractive(key) {\n",
              "          const element = document.querySelector('#df-8096abfc-6d10-408a-afea-c3dc9ec842bd');\n",
              "          const dataTable =\n",
              "            await google.colab.kernel.invokeFunction('convertToInteractive',\n",
              "                                                     [key], {});\n",
              "          if (!dataTable) return;\n",
              "\n",
              "          const docLinkHtml = 'Like what you see? Visit the ' +\n",
              "            '<a target=\"_blank\" href=https://colab.research.google.com/notebooks/data_table.ipynb>data table notebook</a>'\n",
              "            + ' to learn more about interactive tables.';\n",
              "          element.innerHTML = '';\n",
              "          dataTable['output_type'] = 'display_data';\n",
              "          await google.colab.output.renderOutput(dataTable, element);\n",
              "          const docLink = document.createElement('div');\n",
              "          docLink.innerHTML = docLinkHtml;\n",
              "          element.appendChild(docLink);\n",
              "        }\n",
              "      </script>\n",
              "    </div>\n",
              "  </div>\n",
              "  "
            ]
          },
          "metadata": {},
          "execution_count": 140
        }
      ]
    },
    {
      "cell_type": "markdown",
      "source": [
        "Models for accuracy"
      ],
      "metadata": {
        "id": "tI3l5tlI8IWQ"
      }
    },
    {
      "cell_type": "code",
      "source": [
        "%%R -i ieeg_no_outliers\n",
        "comp1<-lmer('RespCorrect ~ StimulusCategory + ProbeCategory + (1|Subject)', data=ieeg_no_outliers)\n",
        "comp2<-lmer('RespCorrect ~ StimulusCategory + ProbeCategory + ProbeCategory:StimulusCategory + (1|Subject)', data=ieeg_no_outliers)\n",
        "anova(comp1, comp2)"
      ],
      "metadata": {
        "colab": {
          "base_uri": "https://localhost:8080/"
        },
        "id": "xsFFq0pA7svL",
        "outputId": "2c1040f0-1336-429c-a5b5-b2dd7bf3cc25"
      },
      "execution_count": null,
      "outputs": [
        {
          "output_type": "stream",
          "name": "stdout",
          "text": [
            "  npar      AIC      BIC    logLik deviance    Chisq Df Pr..Chisq.\n",
            "1    6 2702.103 2737.710 -1345.051 2690.103       NA NA         NA\n",
            "2    8 2700.341 2747.817 -1342.170 2684.341 5.762053  2 0.05607717\n"
          ]
        }
      ]
    },
    {
      "cell_type": "code",
      "source": [
        "tryout1 = Lmer(\n",
        "    'RespCorrect ~ StimulusCategory + ProbeCategory + ProbeCategory:StimulusCategory + (1|Subject)',\n",
        "    data = ieeg_no_outliers\n",
        ")\n",
        "tryout1.fit()"
      ],
      "metadata": {
        "colab": {
          "base_uri": "https://localhost:8080/",
          "height": 570
        },
        "id": "BrH5PPgk8aZz",
        "outputId": "b122066d-cb21-4d24-fbff-4be1f7c61b5c"
      },
      "execution_count": null,
      "outputs": [
        {
          "output_type": "stream",
          "name": "stdout",
          "text": [
            "Formula: RespCorrect~StimulusCategory+ProbeCategory+ProbeCategory:StimulusCategory+(1|Subject)\n",
            "\n",
            "Family: gaussian\t Inference: parametric\n",
            "\n",
            "Number of observations: 2792\t Groups: {'Subject': 17.0}\n",
            "\n",
            "Log-likelihood: -1360.364 \t AIC: 2720.727\n",
            "\n",
            "Random effects:\n",
            "\n",
            "                 Name    Var    Std\n",
            "Subject   (Intercept)  0.001  0.032\n",
            "Residual               0.153  0.391\n",
            "\n",
            "No random effect correlations specified\n",
            "\n",
            "Fixed effects:\n",
            "\n"
          ]
        },
        {
          "output_type": "execute_result",
          "data": {
            "text/plain": [
              "                                        Estimate  2.5_ci  97.5_ci     SE  \\\n",
              "(Intercept)                                0.718   0.680    0.757  0.020   \n",
              "StimulusCategorynonwords                   0.077   0.027    0.127  0.026   \n",
              "StimulusCategorywords                      0.065   0.014    0.115  0.026   \n",
              "ProbeCategory                              0.111   0.061    0.161  0.026   \n",
              "StimulusCategorynonwords:ProbeCategory    -0.080  -0.150   -0.009  0.036   \n",
              "StimulusCategorywords:ProbeCategory       -0.010  -0.081    0.061  0.036   \n",
              "\n",
              "                                              DF  T-stat  P-val  Sig  \n",
              "(Intercept)                              173.115  36.528  0.000  ***  \n",
              "StimulusCategorynonwords                2770.049   3.026  0.002   **  \n",
              "StimulusCategorywords                   2773.162   2.518  0.012    *  \n",
              "ProbeCategory                           2770.083   4.362  0.000  ***  \n",
              "StimulusCategorynonwords:ProbeCategory  2770.287  -2.205  0.028    *  \n",
              "StimulusCategorywords:ProbeCategory     2770.277  -0.272  0.785       "
            ],
            "text/html": [
              "\n",
              "  <div id=\"df-e03d4d7b-ca49-4b5c-b44f-04e3c0692a6f\">\n",
              "    <div class=\"colab-df-container\">\n",
              "      <div>\n",
              "<style scoped>\n",
              "    .dataframe tbody tr th:only-of-type {\n",
              "        vertical-align: middle;\n",
              "    }\n",
              "\n",
              "    .dataframe tbody tr th {\n",
              "        vertical-align: top;\n",
              "    }\n",
              "\n",
              "    .dataframe thead th {\n",
              "        text-align: right;\n",
              "    }\n",
              "</style>\n",
              "<table border=\"1\" class=\"dataframe\">\n",
              "  <thead>\n",
              "    <tr style=\"text-align: right;\">\n",
              "      <th></th>\n",
              "      <th>Estimate</th>\n",
              "      <th>2.5_ci</th>\n",
              "      <th>97.5_ci</th>\n",
              "      <th>SE</th>\n",
              "      <th>DF</th>\n",
              "      <th>T-stat</th>\n",
              "      <th>P-val</th>\n",
              "      <th>Sig</th>\n",
              "    </tr>\n",
              "  </thead>\n",
              "  <tbody>\n",
              "    <tr>\n",
              "      <th>(Intercept)</th>\n",
              "      <td>0.718</td>\n",
              "      <td>0.680</td>\n",
              "      <td>0.757</td>\n",
              "      <td>0.020</td>\n",
              "      <td>173.115</td>\n",
              "      <td>36.528</td>\n",
              "      <td>0.000</td>\n",
              "      <td>***</td>\n",
              "    </tr>\n",
              "    <tr>\n",
              "      <th>StimulusCategorynonwords</th>\n",
              "      <td>0.077</td>\n",
              "      <td>0.027</td>\n",
              "      <td>0.127</td>\n",
              "      <td>0.026</td>\n",
              "      <td>2770.049</td>\n",
              "      <td>3.026</td>\n",
              "      <td>0.002</td>\n",
              "      <td>**</td>\n",
              "    </tr>\n",
              "    <tr>\n",
              "      <th>StimulusCategorywords</th>\n",
              "      <td>0.065</td>\n",
              "      <td>0.014</td>\n",
              "      <td>0.115</td>\n",
              "      <td>0.026</td>\n",
              "      <td>2773.162</td>\n",
              "      <td>2.518</td>\n",
              "      <td>0.012</td>\n",
              "      <td>*</td>\n",
              "    </tr>\n",
              "    <tr>\n",
              "      <th>ProbeCategory</th>\n",
              "      <td>0.111</td>\n",
              "      <td>0.061</td>\n",
              "      <td>0.161</td>\n",
              "      <td>0.026</td>\n",
              "      <td>2770.083</td>\n",
              "      <td>4.362</td>\n",
              "      <td>0.000</td>\n",
              "      <td>***</td>\n",
              "    </tr>\n",
              "    <tr>\n",
              "      <th>StimulusCategorynonwords:ProbeCategory</th>\n",
              "      <td>-0.080</td>\n",
              "      <td>-0.150</td>\n",
              "      <td>-0.009</td>\n",
              "      <td>0.036</td>\n",
              "      <td>2770.287</td>\n",
              "      <td>-2.205</td>\n",
              "      <td>0.028</td>\n",
              "      <td>*</td>\n",
              "    </tr>\n",
              "    <tr>\n",
              "      <th>StimulusCategorywords:ProbeCategory</th>\n",
              "      <td>-0.010</td>\n",
              "      <td>-0.081</td>\n",
              "      <td>0.061</td>\n",
              "      <td>0.036</td>\n",
              "      <td>2770.277</td>\n",
              "      <td>-0.272</td>\n",
              "      <td>0.785</td>\n",
              "      <td></td>\n",
              "    </tr>\n",
              "  </tbody>\n",
              "</table>\n",
              "</div>\n",
              "      <button class=\"colab-df-convert\" onclick=\"convertToInteractive('df-e03d4d7b-ca49-4b5c-b44f-04e3c0692a6f')\"\n",
              "              title=\"Convert this dataframe to an interactive table.\"\n",
              "              style=\"display:none;\">\n",
              "        \n",
              "  <svg xmlns=\"http://www.w3.org/2000/svg\" height=\"24px\"viewBox=\"0 0 24 24\"\n",
              "       width=\"24px\">\n",
              "    <path d=\"M0 0h24v24H0V0z\" fill=\"none\"/>\n",
              "    <path d=\"M18.56 5.44l.94 2.06.94-2.06 2.06-.94-2.06-.94-.94-2.06-.94 2.06-2.06.94zm-11 1L8.5 8.5l.94-2.06 2.06-.94-2.06-.94L8.5 2.5l-.94 2.06-2.06.94zm10 10l.94 2.06.94-2.06 2.06-.94-2.06-.94-.94-2.06-.94 2.06-2.06.94z\"/><path d=\"M17.41 7.96l-1.37-1.37c-.4-.4-.92-.59-1.43-.59-.52 0-1.04.2-1.43.59L10.3 9.45l-7.72 7.72c-.78.78-.78 2.05 0 2.83L4 21.41c.39.39.9.59 1.41.59.51 0 1.02-.2 1.41-.59l7.78-7.78 2.81-2.81c.8-.78.8-2.07 0-2.86zM5.41 20L4 18.59l7.72-7.72 1.47 1.35L5.41 20z\"/>\n",
              "  </svg>\n",
              "      </button>\n",
              "      \n",
              "  <style>\n",
              "    .colab-df-container {\n",
              "      display:flex;\n",
              "      flex-wrap:wrap;\n",
              "      gap: 12px;\n",
              "    }\n",
              "\n",
              "    .colab-df-convert {\n",
              "      background-color: #E8F0FE;\n",
              "      border: none;\n",
              "      border-radius: 50%;\n",
              "      cursor: pointer;\n",
              "      display: none;\n",
              "      fill: #1967D2;\n",
              "      height: 32px;\n",
              "      padding: 0 0 0 0;\n",
              "      width: 32px;\n",
              "    }\n",
              "\n",
              "    .colab-df-convert:hover {\n",
              "      background-color: #E2EBFA;\n",
              "      box-shadow: 0px 1px 2px rgba(60, 64, 67, 0.3), 0px 1px 3px 1px rgba(60, 64, 67, 0.15);\n",
              "      fill: #174EA6;\n",
              "    }\n",
              "\n",
              "    [theme=dark] .colab-df-convert {\n",
              "      background-color: #3B4455;\n",
              "      fill: #D2E3FC;\n",
              "    }\n",
              "\n",
              "    [theme=dark] .colab-df-convert:hover {\n",
              "      background-color: #434B5C;\n",
              "      box-shadow: 0px 1px 3px 1px rgba(0, 0, 0, 0.15);\n",
              "      filter: drop-shadow(0px 1px 2px rgba(0, 0, 0, 0.3));\n",
              "      fill: #FFFFFF;\n",
              "    }\n",
              "  </style>\n",
              "\n",
              "      <script>\n",
              "        const buttonEl =\n",
              "          document.querySelector('#df-e03d4d7b-ca49-4b5c-b44f-04e3c0692a6f button.colab-df-convert');\n",
              "        buttonEl.style.display =\n",
              "          google.colab.kernel.accessAllowed ? 'block' : 'none';\n",
              "\n",
              "        async function convertToInteractive(key) {\n",
              "          const element = document.querySelector('#df-e03d4d7b-ca49-4b5c-b44f-04e3c0692a6f');\n",
              "          const dataTable =\n",
              "            await google.colab.kernel.invokeFunction('convertToInteractive',\n",
              "                                                     [key], {});\n",
              "          if (!dataTable) return;\n",
              "\n",
              "          const docLinkHtml = 'Like what you see? Visit the ' +\n",
              "            '<a target=\"_blank\" href=https://colab.research.google.com/notebooks/data_table.ipynb>data table notebook</a>'\n",
              "            + ' to learn more about interactive tables.';\n",
              "          element.innerHTML = '';\n",
              "          dataTable['output_type'] = 'display_data';\n",
              "          await google.colab.output.renderOutput(dataTable, element);\n",
              "          const docLink = document.createElement('div');\n",
              "          docLink.innerHTML = docLinkHtml;\n",
              "          element.appendChild(docLink);\n",
              "        }\n",
              "      </script>\n",
              "    </div>\n",
              "  </div>\n",
              "  "
            ]
          },
          "metadata": {},
          "execution_count": 125
        }
      ]
    },
    {
      "cell_type": "markdown",
      "source": [
        "Models for RT"
      ],
      "metadata": {
        "id": "LutLOWXM8NLE"
      }
    },
    {
      "cell_type": "code",
      "source": [
        "%%R -i ieeg_no_nones\n",
        "comp1<-lmer('ReactionTime ~ StimulusCategory + ProbeCategory + (1|Subject)', data=ieeg_no_nones)\n",
        "comp2<-lmer('ReactionTime ~ StimulusCategory + ProbeCategory + ProbeCategory:StimulusCategory + (1|Subject)', data=ieeg_no_nones)\n",
        "anova(comp1, comp2)"
      ],
      "metadata": {
        "colab": {
          "base_uri": "https://localhost:8080/"
        },
        "id": "n5KKMghT8Odr",
        "outputId": "e85670bb-1e94-4a34-c1fb-377f305c1554"
      },
      "execution_count": null,
      "outputs": [
        {
          "output_type": "stream",
          "name": "stdout",
          "text": [
            "  npar      AIC      BIC    logLik deviance     Chisq Df Pr..Chisq.\n",
            "1    6 1109.952 1145.329 -548.9761 1097.952        NA NA         NA\n",
            "2    8 1113.466 1160.635 -548.7328 1097.466 0.4865536  2  0.7840545\n"
          ]
        }
      ]
    },
    {
      "cell_type": "code",
      "source": [
        "tryout1 = Lmer(\n",
        "    'ReactionTime ~ StimulusCategory + ProbeCategory + (1|Subject)',\n",
        "    data = ieeg_no_nones\n",
        ")\n",
        "tryout1.fit()"
      ],
      "metadata": {
        "colab": {
          "base_uri": "https://localhost:8080/",
          "height": 507
        },
        "id": "Y5KKWI5S8ay9",
        "outputId": "114e5b4b-6e31-4a02-964a-6719d62b5805"
      },
      "execution_count": null,
      "outputs": [
        {
          "output_type": "stream",
          "name": "stdout",
          "text": [
            "Formula: ReactionTime~StimulusCategory+ProbeCategory+(1|Subject)\n",
            "\n",
            "Family: gaussian\t Inference: parametric\n",
            "\n",
            "Number of observations: 2687\t Groups: {'Subject': 17.0}\n",
            "\n",
            "Log-likelihood: -561.405 \t AIC: 1122.809\n",
            "\n",
            "Random effects:\n",
            "\n",
            "                 Name    Var    Std\n",
            "Subject   (Intercept)  0.051  0.225\n",
            "Residual               0.086  0.293\n",
            "\n",
            "No random effect correlations specified\n",
            "\n",
            "Fixed effects:\n",
            "\n"
          ]
        },
        {
          "output_type": "execute_result",
          "data": {
            "text/plain": [
              "                          Estimate  2.5_ci  97.5_ci     SE        DF  T-stat  \\\n",
              "(Intercept)                  1.213   1.103    1.322  0.056    17.068  21.731   \n",
              "StimulusCategorynonwords    -0.048  -0.075   -0.021  0.014  2667.024  -3.491   \n",
              "StimulusCategorywords       -0.066  -0.094   -0.039  0.014  2667.198  -4.777   \n",
              "ProbeCategory               -0.056  -0.078   -0.034  0.011  2667.027  -4.953   \n",
              "\n",
              "                          P-val  Sig  \n",
              "(Intercept)                 0.0  ***  \n",
              "StimulusCategorynonwords    0.0  ***  \n",
              "StimulusCategorywords       0.0  ***  \n",
              "ProbeCategory               0.0  ***  "
            ],
            "text/html": [
              "\n",
              "  <div id=\"df-6fda7e77-1c5a-4477-83cc-024bb63b29df\">\n",
              "    <div class=\"colab-df-container\">\n",
              "      <div>\n",
              "<style scoped>\n",
              "    .dataframe tbody tr th:only-of-type {\n",
              "        vertical-align: middle;\n",
              "    }\n",
              "\n",
              "    .dataframe tbody tr th {\n",
              "        vertical-align: top;\n",
              "    }\n",
              "\n",
              "    .dataframe thead th {\n",
              "        text-align: right;\n",
              "    }\n",
              "</style>\n",
              "<table border=\"1\" class=\"dataframe\">\n",
              "  <thead>\n",
              "    <tr style=\"text-align: right;\">\n",
              "      <th></th>\n",
              "      <th>Estimate</th>\n",
              "      <th>2.5_ci</th>\n",
              "      <th>97.5_ci</th>\n",
              "      <th>SE</th>\n",
              "      <th>DF</th>\n",
              "      <th>T-stat</th>\n",
              "      <th>P-val</th>\n",
              "      <th>Sig</th>\n",
              "    </tr>\n",
              "  </thead>\n",
              "  <tbody>\n",
              "    <tr>\n",
              "      <th>(Intercept)</th>\n",
              "      <td>1.213</td>\n",
              "      <td>1.103</td>\n",
              "      <td>1.322</td>\n",
              "      <td>0.056</td>\n",
              "      <td>17.068</td>\n",
              "      <td>21.731</td>\n",
              "      <td>0.0</td>\n",
              "      <td>***</td>\n",
              "    </tr>\n",
              "    <tr>\n",
              "      <th>StimulusCategorynonwords</th>\n",
              "      <td>-0.048</td>\n",
              "      <td>-0.075</td>\n",
              "      <td>-0.021</td>\n",
              "      <td>0.014</td>\n",
              "      <td>2667.024</td>\n",
              "      <td>-3.491</td>\n",
              "      <td>0.0</td>\n",
              "      <td>***</td>\n",
              "    </tr>\n",
              "    <tr>\n",
              "      <th>StimulusCategorywords</th>\n",
              "      <td>-0.066</td>\n",
              "      <td>-0.094</td>\n",
              "      <td>-0.039</td>\n",
              "      <td>0.014</td>\n",
              "      <td>2667.198</td>\n",
              "      <td>-4.777</td>\n",
              "      <td>0.0</td>\n",
              "      <td>***</td>\n",
              "    </tr>\n",
              "    <tr>\n",
              "      <th>ProbeCategory</th>\n",
              "      <td>-0.056</td>\n",
              "      <td>-0.078</td>\n",
              "      <td>-0.034</td>\n",
              "      <td>0.011</td>\n",
              "      <td>2667.027</td>\n",
              "      <td>-4.953</td>\n",
              "      <td>0.0</td>\n",
              "      <td>***</td>\n",
              "    </tr>\n",
              "  </tbody>\n",
              "</table>\n",
              "</div>\n",
              "      <button class=\"colab-df-convert\" onclick=\"convertToInteractive('df-6fda7e77-1c5a-4477-83cc-024bb63b29df')\"\n",
              "              title=\"Convert this dataframe to an interactive table.\"\n",
              "              style=\"display:none;\">\n",
              "        \n",
              "  <svg xmlns=\"http://www.w3.org/2000/svg\" height=\"24px\"viewBox=\"0 0 24 24\"\n",
              "       width=\"24px\">\n",
              "    <path d=\"M0 0h24v24H0V0z\" fill=\"none\"/>\n",
              "    <path d=\"M18.56 5.44l.94 2.06.94-2.06 2.06-.94-2.06-.94-.94-2.06-.94 2.06-2.06.94zm-11 1L8.5 8.5l.94-2.06 2.06-.94-2.06-.94L8.5 2.5l-.94 2.06-2.06.94zm10 10l.94 2.06.94-2.06 2.06-.94-2.06-.94-.94-2.06-.94 2.06-2.06.94z\"/><path d=\"M17.41 7.96l-1.37-1.37c-.4-.4-.92-.59-1.43-.59-.52 0-1.04.2-1.43.59L10.3 9.45l-7.72 7.72c-.78.78-.78 2.05 0 2.83L4 21.41c.39.39.9.59 1.41.59.51 0 1.02-.2 1.41-.59l7.78-7.78 2.81-2.81c.8-.78.8-2.07 0-2.86zM5.41 20L4 18.59l7.72-7.72 1.47 1.35L5.41 20z\"/>\n",
              "  </svg>\n",
              "      </button>\n",
              "      \n",
              "  <style>\n",
              "    .colab-df-container {\n",
              "      display:flex;\n",
              "      flex-wrap:wrap;\n",
              "      gap: 12px;\n",
              "    }\n",
              "\n",
              "    .colab-df-convert {\n",
              "      background-color: #E8F0FE;\n",
              "      border: none;\n",
              "      border-radius: 50%;\n",
              "      cursor: pointer;\n",
              "      display: none;\n",
              "      fill: #1967D2;\n",
              "      height: 32px;\n",
              "      padding: 0 0 0 0;\n",
              "      width: 32px;\n",
              "    }\n",
              "\n",
              "    .colab-df-convert:hover {\n",
              "      background-color: #E2EBFA;\n",
              "      box-shadow: 0px 1px 2px rgba(60, 64, 67, 0.3), 0px 1px 3px 1px rgba(60, 64, 67, 0.15);\n",
              "      fill: #174EA6;\n",
              "    }\n",
              "\n",
              "    [theme=dark] .colab-df-convert {\n",
              "      background-color: #3B4455;\n",
              "      fill: #D2E3FC;\n",
              "    }\n",
              "\n",
              "    [theme=dark] .colab-df-convert:hover {\n",
              "      background-color: #434B5C;\n",
              "      box-shadow: 0px 1px 3px 1px rgba(0, 0, 0, 0.15);\n",
              "      filter: drop-shadow(0px 1px 2px rgba(0, 0, 0, 0.3));\n",
              "      fill: #FFFFFF;\n",
              "    }\n",
              "  </style>\n",
              "\n",
              "      <script>\n",
              "        const buttonEl =\n",
              "          document.querySelector('#df-6fda7e77-1c5a-4477-83cc-024bb63b29df button.colab-df-convert');\n",
              "        buttonEl.style.display =\n",
              "          google.colab.kernel.accessAllowed ? 'block' : 'none';\n",
              "\n",
              "        async function convertToInteractive(key) {\n",
              "          const element = document.querySelector('#df-6fda7e77-1c5a-4477-83cc-024bb63b29df');\n",
              "          const dataTable =\n",
              "            await google.colab.kernel.invokeFunction('convertToInteractive',\n",
              "                                                     [key], {});\n",
              "          if (!dataTable) return;\n",
              "\n",
              "          const docLinkHtml = 'Like what you see? Visit the ' +\n",
              "            '<a target=\"_blank\" href=https://colab.research.google.com/notebooks/data_table.ipynb>data table notebook</a>'\n",
              "            + ' to learn more about interactive tables.';\n",
              "          element.innerHTML = '';\n",
              "          dataTable['output_type'] = 'display_data';\n",
              "          await google.colab.output.renderOutput(dataTable, element);\n",
              "          const docLink = document.createElement('div');\n",
              "          docLink.innerHTML = docLinkHtml;\n",
              "          element.appendChild(docLink);\n",
              "        }\n",
              "      </script>\n",
              "    </div>\n",
              "  </div>\n",
              "  "
            ]
          },
          "metadata": {},
          "execution_count": 130
        }
      ]
    },
    {
      "cell_type": "markdown",
      "source": [
        "## Models EEG"
      ],
      "metadata": {
        "id": "gWOIihXg8GSw"
      }
    },
    {
      "cell_type": "markdown",
      "source": [
        "Models for accuracy"
      ],
      "metadata": {
        "id": "WJ0yOFdy8KwQ"
      }
    },
    {
      "cell_type": "code",
      "source": [
        "%%R -i eeg_\n",
        "comp1<-lmer('RespCorrect ~ ProbeCategory + (1|Subject)', data=eeg_)\n",
        "comp2<-lmer('RespCorrect ~ ProbeCategory + StimulusCategory + (1|Subject)', data=eeg_)\n",
        "anova(comp1, comp2)"
      ],
      "metadata": {
        "colab": {
          "base_uri": "https://localhost:8080/"
        },
        "id": "IAtjimIg8Hll",
        "outputId": "41bd0391-1a25-49bf-8a4b-359cd764ac31"
      },
      "execution_count": null,
      "outputs": [
        {
          "output_type": "stream",
          "name": "stderr",
          "text": [
            "WARNING:rpy2.rinterface_lib.callbacks:R[write to console]: refitting model(s) with ML (instead of REML)\n",
            "\n"
          ]
        },
        {
          "output_type": "stream",
          "name": "stdout",
          "text": [
            "  npar      AIC      BIC    logLik deviance     Chisq Df Pr..Chisq.\n",
            "1    4 1957.469 1981.484 -974.7345 1949.469        NA NA         NA\n",
            "2    6 1960.989 1997.011 -974.4944 1948.989 0.4801765  2  0.7865585\n"
          ]
        }
      ]
    },
    {
      "cell_type": "code",
      "source": [
        "tryout1 = Lmer(\n",
        "    'RespCorrect ~ ProbeCategory + (1|Subject)',\n",
        "    data = eeg_\n",
        ")\n",
        "tryout1.fit()"
      ],
      "metadata": {
        "colab": {
          "base_uri": "https://localhost:8080/",
          "height": 444
        },
        "id": "eakuymGg8bOb",
        "outputId": "d2662676-6ecf-480f-db8f-c5deff2bbdd1"
      },
      "execution_count": null,
      "outputs": [
        {
          "output_type": "stream",
          "name": "stdout",
          "text": [
            "Formula: RespCorrect~ProbeCategory+(1|Subject)\n",
            "\n",
            "Family: gaussian\t Inference: parametric\n",
            "\n",
            "Number of observations: 2992\t Groups: {'Subject': 14.0}\n",
            "\n",
            "Log-likelihood: -982.056 \t AIC: 1964.112\n",
            "\n",
            "Random effects:\n",
            "\n",
            "                 Name    Var    Std\n",
            "Subject   (Intercept)  0.001  0.023\n",
            "Residual               0.112  0.335\n",
            "\n",
            "No random effect correlations specified\n",
            "\n",
            "Fixed effects:\n",
            "\n"
          ]
        },
        {
          "output_type": "execute_result",
          "data": {
            "text/plain": [
              "               Estimate  2.5_ci  97.5_ci     SE        DF  T-stat  P-val  Sig\n",
              "(Intercept)        0.85   0.829    0.871  0.011    28.461  79.551  0.000  ***\n",
              "ProbeCategory      0.04   0.016    0.064  0.012  2976.919   3.261  0.001   **"
            ],
            "text/html": [
              "\n",
              "  <div id=\"df-80bbd4b5-263e-495e-a7da-7726822a6dc3\">\n",
              "    <div class=\"colab-df-container\">\n",
              "      <div>\n",
              "<style scoped>\n",
              "    .dataframe tbody tr th:only-of-type {\n",
              "        vertical-align: middle;\n",
              "    }\n",
              "\n",
              "    .dataframe tbody tr th {\n",
              "        vertical-align: top;\n",
              "    }\n",
              "\n",
              "    .dataframe thead th {\n",
              "        text-align: right;\n",
              "    }\n",
              "</style>\n",
              "<table border=\"1\" class=\"dataframe\">\n",
              "  <thead>\n",
              "    <tr style=\"text-align: right;\">\n",
              "      <th></th>\n",
              "      <th>Estimate</th>\n",
              "      <th>2.5_ci</th>\n",
              "      <th>97.5_ci</th>\n",
              "      <th>SE</th>\n",
              "      <th>DF</th>\n",
              "      <th>T-stat</th>\n",
              "      <th>P-val</th>\n",
              "      <th>Sig</th>\n",
              "    </tr>\n",
              "  </thead>\n",
              "  <tbody>\n",
              "    <tr>\n",
              "      <th>(Intercept)</th>\n",
              "      <td>0.85</td>\n",
              "      <td>0.829</td>\n",
              "      <td>0.871</td>\n",
              "      <td>0.011</td>\n",
              "      <td>28.461</td>\n",
              "      <td>79.551</td>\n",
              "      <td>0.000</td>\n",
              "      <td>***</td>\n",
              "    </tr>\n",
              "    <tr>\n",
              "      <th>ProbeCategory</th>\n",
              "      <td>0.04</td>\n",
              "      <td>0.016</td>\n",
              "      <td>0.064</td>\n",
              "      <td>0.012</td>\n",
              "      <td>2976.919</td>\n",
              "      <td>3.261</td>\n",
              "      <td>0.001</td>\n",
              "      <td>**</td>\n",
              "    </tr>\n",
              "  </tbody>\n",
              "</table>\n",
              "</div>\n",
              "      <button class=\"colab-df-convert\" onclick=\"convertToInteractive('df-80bbd4b5-263e-495e-a7da-7726822a6dc3')\"\n",
              "              title=\"Convert this dataframe to an interactive table.\"\n",
              "              style=\"display:none;\">\n",
              "        \n",
              "  <svg xmlns=\"http://www.w3.org/2000/svg\" height=\"24px\"viewBox=\"0 0 24 24\"\n",
              "       width=\"24px\">\n",
              "    <path d=\"M0 0h24v24H0V0z\" fill=\"none\"/>\n",
              "    <path d=\"M18.56 5.44l.94 2.06.94-2.06 2.06-.94-2.06-.94-.94-2.06-.94 2.06-2.06.94zm-11 1L8.5 8.5l.94-2.06 2.06-.94-2.06-.94L8.5 2.5l-.94 2.06-2.06.94zm10 10l.94 2.06.94-2.06 2.06-.94-2.06-.94-.94-2.06-.94 2.06-2.06.94z\"/><path d=\"M17.41 7.96l-1.37-1.37c-.4-.4-.92-.59-1.43-.59-.52 0-1.04.2-1.43.59L10.3 9.45l-7.72 7.72c-.78.78-.78 2.05 0 2.83L4 21.41c.39.39.9.59 1.41.59.51 0 1.02-.2 1.41-.59l7.78-7.78 2.81-2.81c.8-.78.8-2.07 0-2.86zM5.41 20L4 18.59l7.72-7.72 1.47 1.35L5.41 20z\"/>\n",
              "  </svg>\n",
              "      </button>\n",
              "      \n",
              "  <style>\n",
              "    .colab-df-container {\n",
              "      display:flex;\n",
              "      flex-wrap:wrap;\n",
              "      gap: 12px;\n",
              "    }\n",
              "\n",
              "    .colab-df-convert {\n",
              "      background-color: #E8F0FE;\n",
              "      border: none;\n",
              "      border-radius: 50%;\n",
              "      cursor: pointer;\n",
              "      display: none;\n",
              "      fill: #1967D2;\n",
              "      height: 32px;\n",
              "      padding: 0 0 0 0;\n",
              "      width: 32px;\n",
              "    }\n",
              "\n",
              "    .colab-df-convert:hover {\n",
              "      background-color: #E2EBFA;\n",
              "      box-shadow: 0px 1px 2px rgba(60, 64, 67, 0.3), 0px 1px 3px 1px rgba(60, 64, 67, 0.15);\n",
              "      fill: #174EA6;\n",
              "    }\n",
              "\n",
              "    [theme=dark] .colab-df-convert {\n",
              "      background-color: #3B4455;\n",
              "      fill: #D2E3FC;\n",
              "    }\n",
              "\n",
              "    [theme=dark] .colab-df-convert:hover {\n",
              "      background-color: #434B5C;\n",
              "      box-shadow: 0px 1px 3px 1px rgba(0, 0, 0, 0.15);\n",
              "      filter: drop-shadow(0px 1px 2px rgba(0, 0, 0, 0.3));\n",
              "      fill: #FFFFFF;\n",
              "    }\n",
              "  </style>\n",
              "\n",
              "      <script>\n",
              "        const buttonEl =\n",
              "          document.querySelector('#df-80bbd4b5-263e-495e-a7da-7726822a6dc3 button.colab-df-convert');\n",
              "        buttonEl.style.display =\n",
              "          google.colab.kernel.accessAllowed ? 'block' : 'none';\n",
              "\n",
              "        async function convertToInteractive(key) {\n",
              "          const element = document.querySelector('#df-80bbd4b5-263e-495e-a7da-7726822a6dc3');\n",
              "          const dataTable =\n",
              "            await google.colab.kernel.invokeFunction('convertToInteractive',\n",
              "                                                     [key], {});\n",
              "          if (!dataTable) return;\n",
              "\n",
              "          const docLinkHtml = 'Like what you see? Visit the ' +\n",
              "            '<a target=\"_blank\" href=https://colab.research.google.com/notebooks/data_table.ipynb>data table notebook</a>'\n",
              "            + ' to learn more about interactive tables.';\n",
              "          element.innerHTML = '';\n",
              "          dataTable['output_type'] = 'display_data';\n",
              "          await google.colab.output.renderOutput(dataTable, element);\n",
              "          const docLink = document.createElement('div');\n",
              "          docLink.innerHTML = docLinkHtml;\n",
              "          element.appendChild(docLink);\n",
              "        }\n",
              "      </script>\n",
              "    </div>\n",
              "  </div>\n",
              "  "
            ]
          },
          "metadata": {},
          "execution_count": 112
        }
      ]
    },
    {
      "cell_type": "markdown",
      "source": [
        "Models for RT"
      ],
      "metadata": {
        "id": "CrfCe8_b8O20"
      }
    },
    {
      "cell_type": "code",
      "source": [
        "%%R -i eeg_no_nones\n",
        "comp1<-lmer('ReactionTime ~ ProbeCategory + (1|Subject)', data=eeg_no_nones)\n",
        "comp2<-lmer('ReactionTime ~ ProbeCategory + StimulusCategory + (1|Subject)', data=eeg_no_nones)\n",
        "anova(comp1, comp2)"
      ],
      "metadata": {
        "colab": {
          "base_uri": "https://localhost:8080/"
        },
        "id": "mPhNHR2j8O7L",
        "outputId": "f62e2ede-eb64-4e19-a112-06bfe009eb7d"
      },
      "execution_count": null,
      "outputs": [
        {
          "output_type": "stream",
          "name": "stdout",
          "text": [
            "  npar      AIC      BIC    logLik deviance    Chisq Df Pr..Chisq.\n",
            "1    4 228.8364 252.7879 -110.4182 220.8364       NA NA         NA\n",
            "2    6 228.9657 264.8929 -108.4829 216.9657 3.870678  2  0.1443753\n"
          ]
        }
      ]
    },
    {
      "cell_type": "code",
      "source": [
        "tryout1 = Lmer(\n",
        "    'ReactionTime ~ ProbeCategory + (1|Subject)',\n",
        "    data = eeg_no_nones\n",
        ")\n",
        "tryout1.fit()"
      ],
      "metadata": {
        "colab": {
          "base_uri": "https://localhost:8080/",
          "height": 444
        },
        "id": "oo-3owFx8btD",
        "outputId": "263dfb4e-c8f5-43e5-e46b-5b42c42b63a4"
      },
      "execution_count": null,
      "outputs": [
        {
          "output_type": "stream",
          "name": "stdout",
          "text": [
            "Formula: ReactionTime~ProbeCategory+(1|Subject)\n",
            "\n",
            "Family: gaussian\t Inference: parametric\n",
            "\n",
            "Number of observations: 2945\t Groups: {'Subject': 14.0}\n",
            "\n",
            "Log-likelihood: -116.150 \t AIC: 232.299\n",
            "\n",
            "Random effects:\n",
            "\n",
            "                 Name    Var    Std\n",
            "Subject   (Intercept)  0.046  0.214\n",
            "Residual               0.062  0.248\n",
            "\n",
            "No random effect correlations specified\n",
            "\n",
            "Fixed effects:\n",
            "\n"
          ]
        },
        {
          "output_type": "execute_result",
          "data": {
            "text/plain": [
              "               Estimate  2.5_ci  97.5_ci     SE        DF  T-stat  P-val  Sig\n",
              "(Intercept)       1.028   0.915    1.141  0.058    13.168  17.841    0.0  ***\n",
              "ProbeCategory    -0.066  -0.084   -0.048  0.009  2930.004  -7.216    0.0  ***"
            ],
            "text/html": [
              "\n",
              "  <div id=\"df-c91e7297-75d3-47f9-9b9c-16d6bbf7f46c\">\n",
              "    <div class=\"colab-df-container\">\n",
              "      <div>\n",
              "<style scoped>\n",
              "    .dataframe tbody tr th:only-of-type {\n",
              "        vertical-align: middle;\n",
              "    }\n",
              "\n",
              "    .dataframe tbody tr th {\n",
              "        vertical-align: top;\n",
              "    }\n",
              "\n",
              "    .dataframe thead th {\n",
              "        text-align: right;\n",
              "    }\n",
              "</style>\n",
              "<table border=\"1\" class=\"dataframe\">\n",
              "  <thead>\n",
              "    <tr style=\"text-align: right;\">\n",
              "      <th></th>\n",
              "      <th>Estimate</th>\n",
              "      <th>2.5_ci</th>\n",
              "      <th>97.5_ci</th>\n",
              "      <th>SE</th>\n",
              "      <th>DF</th>\n",
              "      <th>T-stat</th>\n",
              "      <th>P-val</th>\n",
              "      <th>Sig</th>\n",
              "    </tr>\n",
              "  </thead>\n",
              "  <tbody>\n",
              "    <tr>\n",
              "      <th>(Intercept)</th>\n",
              "      <td>1.028</td>\n",
              "      <td>0.915</td>\n",
              "      <td>1.141</td>\n",
              "      <td>0.058</td>\n",
              "      <td>13.168</td>\n",
              "      <td>17.841</td>\n",
              "      <td>0.0</td>\n",
              "      <td>***</td>\n",
              "    </tr>\n",
              "    <tr>\n",
              "      <th>ProbeCategory</th>\n",
              "      <td>-0.066</td>\n",
              "      <td>-0.084</td>\n",
              "      <td>-0.048</td>\n",
              "      <td>0.009</td>\n",
              "      <td>2930.004</td>\n",
              "      <td>-7.216</td>\n",
              "      <td>0.0</td>\n",
              "      <td>***</td>\n",
              "    </tr>\n",
              "  </tbody>\n",
              "</table>\n",
              "</div>\n",
              "      <button class=\"colab-df-convert\" onclick=\"convertToInteractive('df-c91e7297-75d3-47f9-9b9c-16d6bbf7f46c')\"\n",
              "              title=\"Convert this dataframe to an interactive table.\"\n",
              "              style=\"display:none;\">\n",
              "        \n",
              "  <svg xmlns=\"http://www.w3.org/2000/svg\" height=\"24px\"viewBox=\"0 0 24 24\"\n",
              "       width=\"24px\">\n",
              "    <path d=\"M0 0h24v24H0V0z\" fill=\"none\"/>\n",
              "    <path d=\"M18.56 5.44l.94 2.06.94-2.06 2.06-.94-2.06-.94-.94-2.06-.94 2.06-2.06.94zm-11 1L8.5 8.5l.94-2.06 2.06-.94-2.06-.94L8.5 2.5l-.94 2.06-2.06.94zm10 10l.94 2.06.94-2.06 2.06-.94-2.06-.94-.94-2.06-.94 2.06-2.06.94z\"/><path d=\"M17.41 7.96l-1.37-1.37c-.4-.4-.92-.59-1.43-.59-.52 0-1.04.2-1.43.59L10.3 9.45l-7.72 7.72c-.78.78-.78 2.05 0 2.83L4 21.41c.39.39.9.59 1.41.59.51 0 1.02-.2 1.41-.59l7.78-7.78 2.81-2.81c.8-.78.8-2.07 0-2.86zM5.41 20L4 18.59l7.72-7.72 1.47 1.35L5.41 20z\"/>\n",
              "  </svg>\n",
              "      </button>\n",
              "      \n",
              "  <style>\n",
              "    .colab-df-container {\n",
              "      display:flex;\n",
              "      flex-wrap:wrap;\n",
              "      gap: 12px;\n",
              "    }\n",
              "\n",
              "    .colab-df-convert {\n",
              "      background-color: #E8F0FE;\n",
              "      border: none;\n",
              "      border-radius: 50%;\n",
              "      cursor: pointer;\n",
              "      display: none;\n",
              "      fill: #1967D2;\n",
              "      height: 32px;\n",
              "      padding: 0 0 0 0;\n",
              "      width: 32px;\n",
              "    }\n",
              "\n",
              "    .colab-df-convert:hover {\n",
              "      background-color: #E2EBFA;\n",
              "      box-shadow: 0px 1px 2px rgba(60, 64, 67, 0.3), 0px 1px 3px 1px rgba(60, 64, 67, 0.15);\n",
              "      fill: #174EA6;\n",
              "    }\n",
              "\n",
              "    [theme=dark] .colab-df-convert {\n",
              "      background-color: #3B4455;\n",
              "      fill: #D2E3FC;\n",
              "    }\n",
              "\n",
              "    [theme=dark] .colab-df-convert:hover {\n",
              "      background-color: #434B5C;\n",
              "      box-shadow: 0px 1px 3px 1px rgba(0, 0, 0, 0.15);\n",
              "      filter: drop-shadow(0px 1px 2px rgba(0, 0, 0, 0.3));\n",
              "      fill: #FFFFFF;\n",
              "    }\n",
              "  </style>\n",
              "\n",
              "      <script>\n",
              "        const buttonEl =\n",
              "          document.querySelector('#df-c91e7297-75d3-47f9-9b9c-16d6bbf7f46c button.colab-df-convert');\n",
              "        buttonEl.style.display =\n",
              "          google.colab.kernel.accessAllowed ? 'block' : 'none';\n",
              "\n",
              "        async function convertToInteractive(key) {\n",
              "          const element = document.querySelector('#df-c91e7297-75d3-47f9-9b9c-16d6bbf7f46c');\n",
              "          const dataTable =\n",
              "            await google.colab.kernel.invokeFunction('convertToInteractive',\n",
              "                                                     [key], {});\n",
              "          if (!dataTable) return;\n",
              "\n",
              "          const docLinkHtml = 'Like what you see? Visit the ' +\n",
              "            '<a target=\"_blank\" href=https://colab.research.google.com/notebooks/data_table.ipynb>data table notebook</a>'\n",
              "            + ' to learn more about interactive tables.';\n",
              "          element.innerHTML = '';\n",
              "          dataTable['output_type'] = 'display_data';\n",
              "          await google.colab.output.renderOutput(dataTable, element);\n",
              "          const docLink = document.createElement('div');\n",
              "          docLink.innerHTML = docLinkHtml;\n",
              "          element.appendChild(docLink);\n",
              "        }\n",
              "      </script>\n",
              "    </div>\n",
              "  </div>\n",
              "  "
            ]
          },
          "metadata": {},
          "execution_count": 132
        }
      ]
    },
    {
      "cell_type": "code",
      "source": [
        ""
      ],
      "metadata": {
        "id": "-bs3HstC_aFL"
      },
      "execution_count": null,
      "outputs": []
    }
  ]
}