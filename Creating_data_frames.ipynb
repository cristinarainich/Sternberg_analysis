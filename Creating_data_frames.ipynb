{
  "nbformat": 4,
  "nbformat_minor": 0,
  "metadata": {
    "colab": {
      "name": "Creating data frames.ipynb",
      "provenance": [],
      "authorship_tag": "ABX9TyMdIjyaqD5bXHqAzWR1TTNw",
      "include_colab_link": true
    },
    "kernelspec": {
      "name": "python3",
      "display_name": "Python 3"
    },
    "language_info": {
      "name": "python"
    }
  },
  "cells": [
    {
      "cell_type": "markdown",
      "metadata": {
        "id": "view-in-github",
        "colab_type": "text"
      },
      "source": [
        "<a href=\"https://colab.research.google.com/github/cristinarainich/Sternberg_analysis/blob/main/Creating_data_frames.ipynb\" target=\"_parent\"><img src=\"https://colab.research.google.com/assets/colab-badge.svg\" alt=\"Open In Colab\"/></a>"
      ]
    },
    {
      "cell_type": "code",
      "source": [
        "import pandas as pd\n",
        "import numpy as np\n",
        "import pylab as pl\n",
        "import scipy.io\n",
        "from pathlib import Path"
      ],
      "metadata": {
        "id": "_sn8ErGMTpmV"
      },
      "execution_count": 1,
      "outputs": []
    },
    {
      "cell_type": "code",
      "execution_count": 2,
      "metadata": {
        "colab": {
          "base_uri": "https://localhost:8080/"
        },
        "id": "45lWkfhaSovC",
        "outputId": "ca10ae14-b10c-47dc-d863-6522869605c6"
      },
      "outputs": [
        {
          "output_type": "stream",
          "name": "stdout",
          "text": [
            "Mounted at /content/gdrive\n"
          ]
        }
      ],
      "source": [
        "from google.colab import drive\n",
        "drive.mount('/content/gdrive')"
      ]
    },
    {
      "cell_type": "code",
      "source": [
        "working_path = Path('/content/gdrive/MyDrive/CoganLab')"
      ],
      "metadata": {
        "id": "mrX83XwU9bje"
      },
      "execution_count": 3,
      "outputs": []
    },
    {
      "cell_type": "code",
      "source": [
        "# controls' data\n",
        "eeg = scipy.io.loadmat(\n",
        "    working_path.joinpath('Subject_NeighborhoodSternberg_EEG_060322.mat')\n",
        "    )\n",
        "# patients' data\n",
        "ieeg = scipy.io.loadmat(\n",
        "    working_path.joinpath('Subject_NeighborhoodSternberg_IEEG_060322.mat')\n",
        "    )\n",
        "new_subject1 = scipy.io.loadmat(\n",
        "    working_path.joinpath('D72_Block_1_TrialData.mat')\n",
        "    )\n",
        "new_subject2 = scipy.io.loadmat(\n",
        "    working_path.joinpath('D73_Block_1_TrialData.mat')\n",
        "    )"
      ],
      "metadata": {
        "id": "HXccOe1y9Vg_"
      },
      "execution_count": 5,
      "outputs": []
    },
    {
      "cell_type": "markdown",
      "source": [
        "## iEEG dataset "
      ],
      "metadata": {
        "id": "euNi0QtEAYb9"
      }
    },
    {
      "cell_type": "code",
      "source": [
        "data_ieeg = ieeg['Subject'] # contains trials for each of the subjects\n",
        "print('Number of subjects in EEG dataset is', data_ieeg.shape[1])"
      ],
      "metadata": {
        "colab": {
          "base_uri": "https://localhost:8080/"
        },
        "id": "hK5oe41V_P7C",
        "outputId": "89fedf0d-f10b-4399-ab5f-43f05a06ef4e"
      },
      "execution_count": 6,
      "outputs": [
        {
          "output_type": "stream",
          "name": "stdout",
          "text": [
            "Number of subjects in EEG dataset is 30\n"
          ]
        }
      ]
    },
    {
      "cell_type": "code",
      "source": [
        "subjects_ieeg = [] # subject numbers\n",
        "for i in data_ieeg['Name'][0]:\n",
        "  subjects_ieeg.append(i[0])"
      ],
      "metadata": {
        "id": "-RR9ScjN_UAs"
      },
      "execution_count": 7,
      "outputs": []
    },
    {
      "cell_type": "code",
      "source": [
        "def get_to_df(data):\n",
        "  # this function reads into .mat file and creates df out of it for all of the trials of one subject\n",
        "  # i'm planning on making it more beautiful later\n",
        "\n",
        "  columns = data[0][1].dtype.names\n",
        "  df = pd.DataFrame(columns=columns)\n",
        "  df['Trial'] = np.nan\n",
        "  df_ = df.copy()\n",
        "  for i in range(0, data.shape[1]): # for each trial number\n",
        "    mdtype = data[0][i].dtype\n",
        "    values = []\n",
        "    for name in mdtype.names:\n",
        "      values.append(data[0][i][name])\n",
        "    values = extra_arrays(values)\n",
        "    values.append(str(i)) # adding a trial number at the end\n",
        "    df_.loc[len(df_.index)] = values\n",
        "  return df_"
      ],
      "metadata": {
        "id": "05sho1lj8g1c"
      },
      "execution_count": 8,
      "outputs": []
    },
    {
      "cell_type": "code",
      "source": [
        "def extra_arrays(x):\n",
        "  # elements have nested structure, i.e. arrays inside the arrays\n",
        "  # below we're getting rid of this depending on the shape of values\n",
        "\n",
        "  values = []\n",
        "  for elem in range(0, len(x)):\n",
        "    var = x[elem]\n",
        "    var = var[0, 0]\n",
        "    if var.shape == (1, 1):\n",
        "      var = var[0, 0]\n",
        "      values.append(var)\n",
        "    elif var.shape == (1,):\n",
        "      values.append(var[0])\n",
        "    elif var.shape == (1, 5):\n",
        "      var = var.tolist()[0]\n",
        "      values.append(var)\n",
        "    elif var.shape == (5, 1):\n",
        "      new = []\n",
        "      for i in var:\n",
        "        i = i[0]\n",
        "        new.append(i)\n",
        "      values.append(new)\n",
        "    else:\n",
        "      values.append(var)\n",
        "  return values"
      ],
      "metadata": {
        "id": "XV7EjrokyEmp"
      },
      "execution_count": 9,
      "outputs": []
    },
    {
      "cell_type": "code",
      "source": [
        "columns_ieeg = data_ieeg['trialInfo'][0, 0][0, 0].dtype.names # name of the variables from trial info\n",
        "final_ieeg = pd.DataFrame(columns=columns_ieeg)\n",
        "final_ieeg['Trial'] = np.nan\n",
        "final_ieeg['Subject'] = np.nan\n",
        "for subj in range(0, data_ieeg['trialInfo'].shape[1]): # for each subject\n",
        "  print(subj)\n",
        "  subj_df = get_to_df(data_ieeg['trialInfo'][0, subj])\n",
        "  subj_df['Subject'] = subjects_ieeg[subj]\n",
        "  final_ieeg = pd.concat([final_ieeg, subj_df], axis = 0)"
      ],
      "metadata": {
        "colab": {
          "base_uri": "https://localhost:8080/"
        },
        "id": "69egTkIFLGeo",
        "outputId": "8bc03b7b-cc83-457c-d51f-198e95ce5d33"
      },
      "execution_count": 10,
      "outputs": [
        {
          "output_type": "stream",
          "name": "stdout",
          "text": [
            "0\n",
            "1\n",
            "2\n",
            "3\n",
            "4\n",
            "5\n",
            "6\n",
            "7\n",
            "8\n",
            "9\n",
            "10\n",
            "11\n",
            "12\n",
            "13\n",
            "14\n",
            "15\n",
            "16\n",
            "17\n",
            "18\n",
            "19\n",
            "20\n",
            "21\n",
            "22\n",
            "23\n",
            "24\n",
            "25\n",
            "26\n",
            "27\n",
            "28\n",
            "29\n"
          ]
        }
      ]
    },
    {
      "cell_type": "code",
      "source": [
        "# D72 subject\n",
        "one_subject = get_to_df(new_subject1['trialInfo'])\n",
        "one_more_subject = get_to_df(new_subject2['trialInfo'])"
      ],
      "metadata": {
        "id": "y8FMu-StUCbn"
      },
      "execution_count": 11,
      "outputs": []
    },
    {
      "cell_type": "code",
      "source": [
        "one_subject['Subject'] = 'D72'\n",
        "one_more_subject['Subject'] = 'D73'"
      ],
      "metadata": {
        "id": "glPM7Pl3ULJe"
      },
      "execution_count": 12,
      "outputs": []
    },
    {
      "cell_type": "code",
      "source": [
        "ieeg = pd.concat([final_ieeg, one_subject])"
      ],
      "metadata": {
        "id": "bU-jYMeWUo8q"
      },
      "execution_count": 13,
      "outputs": []
    },
    {
      "cell_type": "code",
      "source": [
        "ieeg = pd.concat([ieeg, one_more_subject])"
      ],
      "metadata": {
        "id": "nNNayNaWHXr0"
      },
      "execution_count": 14,
      "outputs": []
    },
    {
      "cell_type": "code",
      "source": [
        "len(ieeg.Subject.unique())"
      ],
      "metadata": {
        "id": "PXCtVQeRUwUj",
        "outputId": "6805042b-8867-4d77-f88c-c22214fe8d8c",
        "colab": {
          "base_uri": "https://localhost:8080/"
        }
      },
      "execution_count": 18,
      "outputs": [
        {
          "output_type": "execute_result",
          "data": {
            "text/plain": [
              "32"
            ]
          },
          "metadata": {},
          "execution_count": 18
        }
      ]
    },
    {
      "cell_type": "markdown",
      "source": [
        "## EEG dataset"
      ],
      "metadata": {
        "id": "Vj4jI3yoWFb0"
      }
    },
    {
      "cell_type": "code",
      "source": [
        "data_eeg = eeg['Subject'] # contains trials for each of the subjects\n",
        "print('Number of subjects in EEG dataset is', data_eeg.shape[1])"
      ],
      "metadata": {
        "colab": {
          "base_uri": "https://localhost:8080/"
        },
        "id": "fAvRJcTnBjHm",
        "outputId": "9ecbb1ee-8f84-48d9-8959-892a7da30ae3"
      },
      "execution_count": null,
      "outputs": [
        {
          "output_type": "stream",
          "name": "stdout",
          "text": [
            "Number of subjects in EEG dataset is 29\n"
          ]
        }
      ]
    },
    {
      "cell_type": "code",
      "source": [
        "subjects_eeg = [] # subject numbers\n",
        "for i in range(0, data_eeg.shape[1]):\n",
        "  name = data_eeg[0, i]['Name'][0][0][0]\n",
        "  subjects_eeg.append(name)"
      ],
      "metadata": {
        "id": "K-emRBucWU-0"
      },
      "execution_count": null,
      "outputs": []
    },
    {
      "cell_type": "code",
      "source": [
        "columns_eeg = data_eeg[0, 0]['trialInfo'][0, 0].dtype.names # name of the variables from trial info\n",
        "final_eeg = pd.DataFrame(columns=columns_eeg)\n",
        "final_eeg['Trial'] = np.nan\n",
        "final_eeg['Subject'] = np.nan\n",
        "for subj in range(0, data_eeg.shape[1]): # for each subject\n",
        "  print(subj)\n",
        "  subj_df = get_to_df(data_eeg[0, subj]['trialInfo'][0, 0])\n",
        "  subj_df['Subject'] = subjects_eeg[subj]\n",
        "  final_eeg = pd.concat([final_eeg, subj_df], axis = 0)"
      ],
      "metadata": {
        "colab": {
          "base_uri": "https://localhost:8080/"
        },
        "id": "Gf4XfgEyW90I",
        "outputId": "639c5643-1521-4908-9c2e-8b0918568ff3"
      },
      "execution_count": null,
      "outputs": [
        {
          "output_type": "stream",
          "name": "stdout",
          "text": [
            "0\n",
            "1\n",
            "2\n",
            "3\n",
            "4\n",
            "5\n",
            "6\n",
            "7\n",
            "8\n",
            "9\n",
            "10\n",
            "11\n",
            "12\n",
            "13\n",
            "14\n",
            "15\n",
            "16\n",
            "17\n",
            "18\n",
            "19\n",
            "20\n",
            "21\n",
            "22\n",
            "23\n",
            "24\n",
            "25\n",
            "26\n",
            "27\n",
            "28\n"
          ]
        }
      ]
    },
    {
      "cell_type": "code",
      "source": [
        "final_eeg.columns"
      ],
      "metadata": {
        "colab": {
          "base_uri": "https://localhost:8080/"
        },
        "id": "UeHJ_ZDjaynR",
        "outputId": "c35d4c46-37b0-45f8-aace-27bda7660163"
      },
      "execution_count": null,
      "outputs": [
        {
          "output_type": "execute_result",
          "data": {
            "text/plain": [
              "Index(['Trial', 'Subject', 'Block', 'ProbeType', 'ProbeTypeName',\n",
              "       'StimulusCategory', 'ListenCue', 'ReactionTime', 'KeyCode', 'Response',\n",
              "       'ResponseCorrect', 'Omission', 'StimulusAudioStart',\n",
              "       'StimulusAlignedTrigger', 'DelayPeriodOnset', 'MaintenancePeriodOnset',\n",
              "       'ProbeCueOnset', 'ProbeAudioStart', 'ProbeAlignedTrigger',\n",
              "       'TriggerValueCondition', 'StimulusSounds_idx', 'StimulusSounds_name',\n",
              "       'ProbeCategory', 'ProbeSound_idx', 'ProbeSound_name'],\n",
              "      dtype='object')"
            ]
          },
          "metadata": {},
          "execution_count": 28
        }
      ]
    },
    {
      "cell_type": "code",
      "source": [
        "final_eeg.shape"
      ],
      "metadata": {
        "colab": {
          "base_uri": "https://localhost:8080/"
        },
        "id": "23zLUdofZckD",
        "outputId": "cb6ce0cb-f131-4130-a872-8a6698bae8f1"
      },
      "execution_count": null,
      "outputs": [
        {
          "output_type": "execute_result",
          "data": {
            "text/plain": [
              "(5568, 25)"
            ]
          },
          "metadata": {},
          "execution_count": 30
        }
      ]
    },
    {
      "cell_type": "code",
      "source": [
        "final_eeg.isnull().sum()"
      ],
      "metadata": {
        "colab": {
          "base_uri": "https://localhost:8080/"
        },
        "id": "ERRmbLBbXwEF",
        "outputId": "a6c0f959-f9a9-49ac-892d-c97ea8675a67"
      },
      "execution_count": null,
      "outputs": [
        {
          "output_type": "execute_result",
          "data": {
            "text/plain": [
              "Trial                       0\n",
              "Subject                     0\n",
              "Block                       0\n",
              "ProbeType                   0\n",
              "ProbeTypeName               0\n",
              "StimulusCategory            0\n",
              "ListenCue                   0\n",
              "ReactionTime              100\n",
              "KeyCode                     0\n",
              "Response                    0\n",
              "ResponseCorrect             0\n",
              "Omission                    0\n",
              "StimulusAudioStart          0\n",
              "StimulusAlignedTrigger      0\n",
              "DelayPeriodOnset            0\n",
              "MaintenancePeriodOnset      0\n",
              "ProbeCueOnset               0\n",
              "ProbeAudioStart             0\n",
              "ProbeAlignedTrigger         0\n",
              "TriggerValueCondition       0\n",
              "StimulusSounds_idx          0\n",
              "StimulusSounds_name         0\n",
              "ProbeCategory               0\n",
              "ProbeSound_idx              0\n",
              "ProbeSound_name             0\n",
              "dtype: int64"
            ]
          },
          "metadata": {},
          "execution_count": 31
        }
      ]
    },
    {
      "cell_type": "code",
      "source": [
        "# saving result\n",
        "final_eeg.to_csv(\n",
        "    Path(working_path).joinpath('eeg_all.csv')\n",
        ")\n",
        "ieeg.to_csv(\n",
        "    Path(working_path).joinpath('ieeg_all.csv')\n",
        ")"
      ],
      "metadata": {
        "id": "vh23zNrwadxp"
      },
      "execution_count": 19,
      "outputs": []
    }
  ]
}