{
  "nbformat": 4,
  "nbformat_minor": 0,
  "metadata": {
    "colab": {
      "name": "Creating data frames.ipynb",
      "provenance": [],
      "authorship_tag": "ABX9TyNT1iNKjIgHxQR/99fkzUL5",
      "include_colab_link": true
    },
    "kernelspec": {
      "name": "python3",
      "display_name": "Python 3"
    },
    "language_info": {
      "name": "python"
    }
  },
  "cells": [
    {
      "cell_type": "markdown",
      "metadata": {
        "id": "view-in-github",
        "colab_type": "text"
      },
      "source": [
        "<a href=\"https://colab.research.google.com/github/cristinarainich/Sternberg_analysis/blob/main/Creating_data_frames.ipynb\" target=\"_parent\"><img src=\"https://colab.research.google.com/assets/colab-badge.svg\" alt=\"Open In Colab\"/></a>"
      ]
    },
    {
      "cell_type": "code",
      "source": [
        "import pandas as pd\n",
        "import numpy as np\n",
        "import pylab as pl\n",
        "import scipy.io\n",
        "from pathlib import Path"
      ],
      "metadata": {
        "id": "_sn8ErGMTpmV"
      },
      "execution_count": 1,
      "outputs": []
    },
    {
      "cell_type": "code",
      "execution_count": 2,
      "metadata": {
        "colab": {
          "base_uri": "https://localhost:8080/"
        },
        "id": "45lWkfhaSovC",
        "outputId": "237b95de-54f9-4396-90ce-21c2ff5935b4"
      },
      "outputs": [
        {
          "output_type": "stream",
          "name": "stdout",
          "text": [
            "Mounted at /content/gdrive\n"
          ]
        }
      ],
      "source": [
        "from google.colab import drive\n",
        "drive.mount('/content/gdrive')"
      ]
    },
    {
      "cell_type": "code",
      "source": [
        "working_path = Path('/content/gdrive/MyDrive/CoganLab')"
      ],
      "metadata": {
        "id": "mrX83XwU9bje"
      },
      "execution_count": 3,
      "outputs": []
    },
    {
      "cell_type": "code",
      "source": [
        "# controls' data\n",
        "eeg = scipy.io.loadmat(\n",
        "    working_path.joinpath('Subject_NeighborhoodSternberg_EEG_060322.mat')\n",
        "    )\n",
        "# patients' data\n",
        "ieeg = scipy.io.loadmat(\n",
        "    working_path.joinpath('Subject_NeighborhoodSternberg_IEEG_060322.mat')\n",
        "    )\n",
        "new_subject = scipy.io.loadmat(\n",
        "    working_path.joinpath('D72_Block_1_TrialData.mat')\n",
        "    )"
      ],
      "metadata": {
        "id": "HXccOe1y9Vg_"
      },
      "execution_count": 5,
      "outputs": []
    },
    {
      "cell_type": "markdown",
      "source": [
        "## iEEG dataset "
      ],
      "metadata": {
        "id": "euNi0QtEAYb9"
      }
    },
    {
      "cell_type": "code",
      "source": [
        "data_ieeg = ieeg['Subject'] # contains trials for each of the subjects\n",
        "print('Number of subjects in EEG dataset is', data_ieeg.shape[1])"
      ],
      "metadata": {
        "colab": {
          "base_uri": "https://localhost:8080/"
        },
        "id": "hK5oe41V_P7C",
        "outputId": "45734078-4961-45a2-e65d-11f00f4a3b6c"
      },
      "execution_count": 6,
      "outputs": [
        {
          "output_type": "stream",
          "name": "stdout",
          "text": [
            "Number of subjects in EEG dataset is 30\n"
          ]
        }
      ]
    },
    {
      "cell_type": "code",
      "source": [
        "subjects_ieeg = [] # subject numbers\n",
        "for i in data_ieeg['Name'][0]:\n",
        "  subjects_ieeg.append(i[0])"
      ],
      "metadata": {
        "id": "-RR9ScjN_UAs"
      },
      "execution_count": 7,
      "outputs": []
    },
    {
      "cell_type": "code",
      "source": [
        "def get_to_df(data):\n",
        "  # this function reads into .mat file and creates df out of it for all of the trials of one subject\n",
        "  # i'm planning on making it more beautiful later\n",
        "\n",
        "  columns = data[0][1].dtype.names\n",
        "  df = pd.DataFrame(columns=columns)\n",
        "  df['Trial'] = np.nan\n",
        "  df_ = df.copy()\n",
        "  for i in range(0, data.shape[1]): # for each trial number\n",
        "    mdtype = data[0][i].dtype\n",
        "    values = []\n",
        "    for name in mdtype.names:\n",
        "      values.append(data[0][i][name])\n",
        "    values = extra_arrays(values)\n",
        "    values.append(str(i)) # adding a trial number at the end\n",
        "    df_.loc[len(df_.index)] = values\n",
        "  return df_"
      ],
      "metadata": {
        "id": "05sho1lj8g1c"
      },
      "execution_count": 8,
      "outputs": []
    },
    {
      "cell_type": "code",
      "source": [
        "def extra_arrays(x):\n",
        "  # elements have nested structure, i.e. arrays inside the arrays\n",
        "  # below we're getting rid of this depending on the shape of values\n",
        "\n",
        "  values = []\n",
        "  for elem in range(0, len(x)):\n",
        "    var = x[elem]\n",
        "    var = var[0, 0]\n",
        "    if var.shape == (1, 1):\n",
        "      var = var[0, 0]\n",
        "      values.append(var)\n",
        "    elif var.shape == (1,):\n",
        "      values.append(var[0])\n",
        "    elif var.shape == (1, 5):\n",
        "      var = var.tolist()[0]\n",
        "      values.append(var)\n",
        "    elif var.shape == (5, 1):\n",
        "      new = []\n",
        "      for i in var:\n",
        "        i = i[0]\n",
        "        new.append(i)\n",
        "      values.append(new)\n",
        "    else:\n",
        "      values.append(var)\n",
        "  return values"
      ],
      "metadata": {
        "id": "XV7EjrokyEmp"
      },
      "execution_count": 9,
      "outputs": []
    },
    {
      "cell_type": "code",
      "source": [
        "columns_ieeg = data_ieeg['trialInfo'][0, 0][0, 0].dtype.names # name of the variables from trial info\n",
        "final_ieeg = pd.DataFrame(columns=columns_ieeg)\n",
        "final_ieeg['Trial'] = np.nan\n",
        "final_ieeg['Subject'] = np.nan\n",
        "for subj in range(0, data_ieeg['trialInfo'].shape[1]): # for each subject\n",
        "  print(subj)\n",
        "  subj_df = get_to_df(data_ieeg['trialInfo'][0, subj])\n",
        "  subj_df['Subject'] = subjects_ieeg[subj]\n",
        "  final_ieeg = pd.concat([final_ieeg, subj_df], axis = 0)"
      ],
      "metadata": {
        "colab": {
          "base_uri": "https://localhost:8080/"
        },
        "id": "69egTkIFLGeo",
        "outputId": "0488452c-c8fc-4b4b-af41-973e7113165f"
      },
      "execution_count": 10,
      "outputs": [
        {
          "output_type": "stream",
          "name": "stdout",
          "text": [
            "0\n",
            "1\n",
            "2\n",
            "3\n",
            "4\n",
            "5\n",
            "6\n",
            "7\n",
            "8\n",
            "9\n",
            "10\n",
            "11\n",
            "12\n",
            "13\n",
            "14\n",
            "15\n",
            "16\n",
            "17\n",
            "18\n",
            "19\n",
            "20\n",
            "21\n",
            "22\n",
            "23\n",
            "24\n",
            "25\n",
            "26\n",
            "27\n",
            "28\n",
            "29\n"
          ]
        }
      ]
    },
    {
      "cell_type": "code",
      "source": [
        "# D72 subject\n",
        "last_subject = get_to_df(new_subject['trialInfo'])"
      ],
      "metadata": {
        "id": "y8FMu-StUCbn"
      },
      "execution_count": 14,
      "outputs": []
    },
    {
      "cell_type": "code",
      "source": [
        "last_subject['Subject'] = 'D72'"
      ],
      "metadata": {
        "id": "glPM7Pl3ULJe"
      },
      "execution_count": 15,
      "outputs": []
    },
    {
      "cell_type": "code",
      "source": [
        "ieeg = pd.concat([final_ieeg, last_subject])"
      ],
      "metadata": {
        "id": "bU-jYMeWUo8q"
      },
      "execution_count": 18,
      "outputs": []
    },
    {
      "cell_type": "code",
      "source": [
        "ieeg.head()"
      ],
      "metadata": {
        "id": "PXCtVQeRUwUj",
        "outputId": "a2ff464d-924f-42c9-af2e-874fe461dac0",
        "colab": {
          "base_uri": "https://localhost:8080/",
          "height": 473
        }
      },
      "execution_count": 21,
      "outputs": [
        {
          "output_type": "execute_result",
          "data": {
            "text/plain": [
              "  block ProbeType    ProbeTypeName StimlusCategory  ReactionTime KeyCode Resp  \\\n",
              "0     1         2      in_sequence       Low Words      0.857518      37  Yes   \n",
              "1     1         2      in_sequence      High Words      1.339604      37  Yes   \n",
              "2     1         2      in_sequence  High Non-Words      1.045657      37  Yes   \n",
              "3     1         1  out_of_sequence      High Words      1.497001      39   No   \n",
              "4     1         1  out_of_sequence       Low Words      1.679783      39   No   \n",
              "\n",
              "  RespCorrect   Omission                                 stimulusAudioStart  \\\n",
              "0           1  Responded  [[1303746.2232548245], [1303747.22198163], [13...   \n",
              "1           1  Responded  [[1303755.6904398678], [1303756.689051311], [1...   \n",
              "2           1  Responded  [[1303769.5315112157], [1303770.530119785], [1...   \n",
              "3           1  Responded  [[1303783.0130984494], [1303784.0117098927], [...   \n",
              "4           1  Responded  [1303798.9713094758, 1303799.969971005, 130380...   \n",
              "\n",
              "   ...              stimulusSounds_idx  \\\n",
              "0  ...                  [[29, 25, 30]]   \n",
              "1  ...        [[2, 5, 8, 4, 7, 10, 3]]   \n",
              "2  ...  [[19, 14, 18, 16, 20, 15, 17]]   \n",
              "3  ...  [[10, 2, 7, 9, 1, 8, 6, 5, 4]]   \n",
              "4  ...            [30, 24, 25, 29, 21]   \n",
              "\n",
              "                                 stimulusSounds_name   ProbeCategory  \\\n",
              "0        [[[wash.wav]], [[sure.wav]], [[youth.wav]]]       Low Words   \n",
              "1  [[[debt.wav]], [[lair.wav]], [[seek.wav]], [[g...      High Words   \n",
              "2  [[[rihn.wav]], [[kehl.wav]], [[rehl.wav]], [[p...  High Non-Words   \n",
              "3  [[[witch.wav]], [[debt.wav]], [[pawn.wav]], [[...       Low Words   \n",
              "4  [[youth.wav], [noun.wav], [sure.wav], [wash.wa...      High Words   \n",
              "\n",
              "  probeSound_idx probeSound_name Trial Subject ListenCueTime  \\\n",
              "0             29        wash.wav     0     D23           NaN   \n",
              "1              5        lair.wav     1     D23           NaN   \n",
              "2             16        paon.wav     2     D23           NaN   \n",
              "3             29        wash.wav     3     D23           NaN   \n",
              "4              9        soar.wav     4     D23           NaN   \n",
              "\n",
              "  MaintenancePeriodTime ProbeCueTime  \n",
              "0                   NaN          NaN  \n",
              "1                   NaN          NaN  \n",
              "2                   NaN          NaN  \n",
              "3                   NaN          NaN  \n",
              "4                   NaN          NaN  \n",
              "\n",
              "[5 rows x 24 columns]"
            ],
            "text/html": [
              "\n",
              "  <div id=\"df-7f2fe619-5443-46ee-8544-9c76d54ccb71\">\n",
              "    <div class=\"colab-df-container\">\n",
              "      <div>\n",
              "<style scoped>\n",
              "    .dataframe tbody tr th:only-of-type {\n",
              "        vertical-align: middle;\n",
              "    }\n",
              "\n",
              "    .dataframe tbody tr th {\n",
              "        vertical-align: top;\n",
              "    }\n",
              "\n",
              "    .dataframe thead th {\n",
              "        text-align: right;\n",
              "    }\n",
              "</style>\n",
              "<table border=\"1\" class=\"dataframe\">\n",
              "  <thead>\n",
              "    <tr style=\"text-align: right;\">\n",
              "      <th></th>\n",
              "      <th>block</th>\n",
              "      <th>ProbeType</th>\n",
              "      <th>ProbeTypeName</th>\n",
              "      <th>StimlusCategory</th>\n",
              "      <th>ReactionTime</th>\n",
              "      <th>KeyCode</th>\n",
              "      <th>Resp</th>\n",
              "      <th>RespCorrect</th>\n",
              "      <th>Omission</th>\n",
              "      <th>stimulusAudioStart</th>\n",
              "      <th>...</th>\n",
              "      <th>stimulusSounds_idx</th>\n",
              "      <th>stimulusSounds_name</th>\n",
              "      <th>ProbeCategory</th>\n",
              "      <th>probeSound_idx</th>\n",
              "      <th>probeSound_name</th>\n",
              "      <th>Trial</th>\n",
              "      <th>Subject</th>\n",
              "      <th>ListenCueTime</th>\n",
              "      <th>MaintenancePeriodTime</th>\n",
              "      <th>ProbeCueTime</th>\n",
              "    </tr>\n",
              "  </thead>\n",
              "  <tbody>\n",
              "    <tr>\n",
              "      <th>0</th>\n",
              "      <td>1</td>\n",
              "      <td>2</td>\n",
              "      <td>in_sequence</td>\n",
              "      <td>Low Words</td>\n",
              "      <td>0.857518</td>\n",
              "      <td>37</td>\n",
              "      <td>Yes</td>\n",
              "      <td>1</td>\n",
              "      <td>Responded</td>\n",
              "      <td>[[1303746.2232548245], [1303747.22198163], [13...</td>\n",
              "      <td>...</td>\n",
              "      <td>[[29, 25, 30]]</td>\n",
              "      <td>[[[wash.wav]], [[sure.wav]], [[youth.wav]]]</td>\n",
              "      <td>Low Words</td>\n",
              "      <td>29</td>\n",
              "      <td>wash.wav</td>\n",
              "      <td>0</td>\n",
              "      <td>D23</td>\n",
              "      <td>NaN</td>\n",
              "      <td>NaN</td>\n",
              "      <td>NaN</td>\n",
              "    </tr>\n",
              "    <tr>\n",
              "      <th>1</th>\n",
              "      <td>1</td>\n",
              "      <td>2</td>\n",
              "      <td>in_sequence</td>\n",
              "      <td>High Words</td>\n",
              "      <td>1.339604</td>\n",
              "      <td>37</td>\n",
              "      <td>Yes</td>\n",
              "      <td>1</td>\n",
              "      <td>Responded</td>\n",
              "      <td>[[1303755.6904398678], [1303756.689051311], [1...</td>\n",
              "      <td>...</td>\n",
              "      <td>[[2, 5, 8, 4, 7, 10, 3]]</td>\n",
              "      <td>[[[debt.wav]], [[lair.wav]], [[seek.wav]], [[g...</td>\n",
              "      <td>High Words</td>\n",
              "      <td>5</td>\n",
              "      <td>lair.wav</td>\n",
              "      <td>1</td>\n",
              "      <td>D23</td>\n",
              "      <td>NaN</td>\n",
              "      <td>NaN</td>\n",
              "      <td>NaN</td>\n",
              "    </tr>\n",
              "    <tr>\n",
              "      <th>2</th>\n",
              "      <td>1</td>\n",
              "      <td>2</td>\n",
              "      <td>in_sequence</td>\n",
              "      <td>High Non-Words</td>\n",
              "      <td>1.045657</td>\n",
              "      <td>37</td>\n",
              "      <td>Yes</td>\n",
              "      <td>1</td>\n",
              "      <td>Responded</td>\n",
              "      <td>[[1303769.5315112157], [1303770.530119785], [1...</td>\n",
              "      <td>...</td>\n",
              "      <td>[[19, 14, 18, 16, 20, 15, 17]]</td>\n",
              "      <td>[[[rihn.wav]], [[kehl.wav]], [[rehl.wav]], [[p...</td>\n",
              "      <td>High Non-Words</td>\n",
              "      <td>16</td>\n",
              "      <td>paon.wav</td>\n",
              "      <td>2</td>\n",
              "      <td>D23</td>\n",
              "      <td>NaN</td>\n",
              "      <td>NaN</td>\n",
              "      <td>NaN</td>\n",
              "    </tr>\n",
              "    <tr>\n",
              "      <th>3</th>\n",
              "      <td>1</td>\n",
              "      <td>1</td>\n",
              "      <td>out_of_sequence</td>\n",
              "      <td>High Words</td>\n",
              "      <td>1.497001</td>\n",
              "      <td>39</td>\n",
              "      <td>No</td>\n",
              "      <td>1</td>\n",
              "      <td>Responded</td>\n",
              "      <td>[[1303783.0130984494], [1303784.0117098927], [...</td>\n",
              "      <td>...</td>\n",
              "      <td>[[10, 2, 7, 9, 1, 8, 6, 5, 4]]</td>\n",
              "      <td>[[[witch.wav]], [[debt.wav]], [[pawn.wav]], [[...</td>\n",
              "      <td>Low Words</td>\n",
              "      <td>29</td>\n",
              "      <td>wash.wav</td>\n",
              "      <td>3</td>\n",
              "      <td>D23</td>\n",
              "      <td>NaN</td>\n",
              "      <td>NaN</td>\n",
              "      <td>NaN</td>\n",
              "    </tr>\n",
              "    <tr>\n",
              "      <th>4</th>\n",
              "      <td>1</td>\n",
              "      <td>1</td>\n",
              "      <td>out_of_sequence</td>\n",
              "      <td>Low Words</td>\n",
              "      <td>1.679783</td>\n",
              "      <td>39</td>\n",
              "      <td>No</td>\n",
              "      <td>1</td>\n",
              "      <td>Responded</td>\n",
              "      <td>[1303798.9713094758, 1303799.969971005, 130380...</td>\n",
              "      <td>...</td>\n",
              "      <td>[30, 24, 25, 29, 21]</td>\n",
              "      <td>[[youth.wav], [noun.wav], [sure.wav], [wash.wa...</td>\n",
              "      <td>High Words</td>\n",
              "      <td>9</td>\n",
              "      <td>soar.wav</td>\n",
              "      <td>4</td>\n",
              "      <td>D23</td>\n",
              "      <td>NaN</td>\n",
              "      <td>NaN</td>\n",
              "      <td>NaN</td>\n",
              "    </tr>\n",
              "  </tbody>\n",
              "</table>\n",
              "<p>5 rows × 24 columns</p>\n",
              "</div>\n",
              "      <button class=\"colab-df-convert\" onclick=\"convertToInteractive('df-7f2fe619-5443-46ee-8544-9c76d54ccb71')\"\n",
              "              title=\"Convert this dataframe to an interactive table.\"\n",
              "              style=\"display:none;\">\n",
              "        \n",
              "  <svg xmlns=\"http://www.w3.org/2000/svg\" height=\"24px\"viewBox=\"0 0 24 24\"\n",
              "       width=\"24px\">\n",
              "    <path d=\"M0 0h24v24H0V0z\" fill=\"none\"/>\n",
              "    <path d=\"M18.56 5.44l.94 2.06.94-2.06 2.06-.94-2.06-.94-.94-2.06-.94 2.06-2.06.94zm-11 1L8.5 8.5l.94-2.06 2.06-.94-2.06-.94L8.5 2.5l-.94 2.06-2.06.94zm10 10l.94 2.06.94-2.06 2.06-.94-2.06-.94-.94-2.06-.94 2.06-2.06.94z\"/><path d=\"M17.41 7.96l-1.37-1.37c-.4-.4-.92-.59-1.43-.59-.52 0-1.04.2-1.43.59L10.3 9.45l-7.72 7.72c-.78.78-.78 2.05 0 2.83L4 21.41c.39.39.9.59 1.41.59.51 0 1.02-.2 1.41-.59l7.78-7.78 2.81-2.81c.8-.78.8-2.07 0-2.86zM5.41 20L4 18.59l7.72-7.72 1.47 1.35L5.41 20z\"/>\n",
              "  </svg>\n",
              "      </button>\n",
              "      \n",
              "  <style>\n",
              "    .colab-df-container {\n",
              "      display:flex;\n",
              "      flex-wrap:wrap;\n",
              "      gap: 12px;\n",
              "    }\n",
              "\n",
              "    .colab-df-convert {\n",
              "      background-color: #E8F0FE;\n",
              "      border: none;\n",
              "      border-radius: 50%;\n",
              "      cursor: pointer;\n",
              "      display: none;\n",
              "      fill: #1967D2;\n",
              "      height: 32px;\n",
              "      padding: 0 0 0 0;\n",
              "      width: 32px;\n",
              "    }\n",
              "\n",
              "    .colab-df-convert:hover {\n",
              "      background-color: #E2EBFA;\n",
              "      box-shadow: 0px 1px 2px rgba(60, 64, 67, 0.3), 0px 1px 3px 1px rgba(60, 64, 67, 0.15);\n",
              "      fill: #174EA6;\n",
              "    }\n",
              "\n",
              "    [theme=dark] .colab-df-convert {\n",
              "      background-color: #3B4455;\n",
              "      fill: #D2E3FC;\n",
              "    }\n",
              "\n",
              "    [theme=dark] .colab-df-convert:hover {\n",
              "      background-color: #434B5C;\n",
              "      box-shadow: 0px 1px 3px 1px rgba(0, 0, 0, 0.15);\n",
              "      filter: drop-shadow(0px 1px 2px rgba(0, 0, 0, 0.3));\n",
              "      fill: #FFFFFF;\n",
              "    }\n",
              "  </style>\n",
              "\n",
              "      <script>\n",
              "        const buttonEl =\n",
              "          document.querySelector('#df-7f2fe619-5443-46ee-8544-9c76d54ccb71 button.colab-df-convert');\n",
              "        buttonEl.style.display =\n",
              "          google.colab.kernel.accessAllowed ? 'block' : 'none';\n",
              "\n",
              "        async function convertToInteractive(key) {\n",
              "          const element = document.querySelector('#df-7f2fe619-5443-46ee-8544-9c76d54ccb71');\n",
              "          const dataTable =\n",
              "            await google.colab.kernel.invokeFunction('convertToInteractive',\n",
              "                                                     [key], {});\n",
              "          if (!dataTable) return;\n",
              "\n",
              "          const docLinkHtml = 'Like what you see? Visit the ' +\n",
              "            '<a target=\"_blank\" href=https://colab.research.google.com/notebooks/data_table.ipynb>data table notebook</a>'\n",
              "            + ' to learn more about interactive tables.';\n",
              "          element.innerHTML = '';\n",
              "          dataTable['output_type'] = 'display_data';\n",
              "          await google.colab.output.renderOutput(dataTable, element);\n",
              "          const docLink = document.createElement('div');\n",
              "          docLink.innerHTML = docLinkHtml;\n",
              "          element.appendChild(docLink);\n",
              "        }\n",
              "      </script>\n",
              "    </div>\n",
              "  </div>\n",
              "  "
            ]
          },
          "metadata": {},
          "execution_count": 21
        }
      ]
    },
    {
      "cell_type": "markdown",
      "source": [
        "## EEG dataset"
      ],
      "metadata": {
        "id": "Vj4jI3yoWFb0"
      }
    },
    {
      "cell_type": "code",
      "source": [
        "data_eeg = eeg['Subject'] # contains trials for each of the subjects\n",
        "print('Number of subjects in EEG dataset is', data_eeg.shape[1])"
      ],
      "metadata": {
        "colab": {
          "base_uri": "https://localhost:8080/"
        },
        "id": "fAvRJcTnBjHm",
        "outputId": "9ecbb1ee-8f84-48d9-8959-892a7da30ae3"
      },
      "execution_count": 25,
      "outputs": [
        {
          "output_type": "stream",
          "name": "stdout",
          "text": [
            "Number of subjects in EEG dataset is 29\n"
          ]
        }
      ]
    },
    {
      "cell_type": "code",
      "source": [
        "subjects_eeg = [] # subject numbers\n",
        "for i in range(0, data_eeg.shape[1]):\n",
        "  name = data_eeg[0, i]['Name'][0][0][0]\n",
        "  subjects_eeg.append(name)"
      ],
      "metadata": {
        "id": "K-emRBucWU-0"
      },
      "execution_count": 26,
      "outputs": []
    },
    {
      "cell_type": "code",
      "source": [
        "columns_eeg = data_eeg[0, 0]['trialInfo'][0, 0].dtype.names # name of the variables from trial info\n",
        "final_eeg = pd.DataFrame(columns=columns_eeg)\n",
        "final_eeg['Trial'] = np.nan\n",
        "final_eeg['Subject'] = np.nan\n",
        "for subj in range(0, data_eeg.shape[1]): # for each subject\n",
        "  print(subj)\n",
        "  subj_df = get_to_df(data_eeg[0, subj]['trialInfo'][0, 0])\n",
        "  subj_df['Subject'] = subjects_eeg[subj]\n",
        "  final_eeg = pd.concat([final_eeg, subj_df], axis = 0)"
      ],
      "metadata": {
        "colab": {
          "base_uri": "https://localhost:8080/"
        },
        "id": "Gf4XfgEyW90I",
        "outputId": "639c5643-1521-4908-9c2e-8b0918568ff3"
      },
      "execution_count": 27,
      "outputs": [
        {
          "output_type": "stream",
          "name": "stdout",
          "text": [
            "0\n",
            "1\n",
            "2\n",
            "3\n",
            "4\n",
            "5\n",
            "6\n",
            "7\n",
            "8\n",
            "9\n",
            "10\n",
            "11\n",
            "12\n",
            "13\n",
            "14\n",
            "15\n",
            "16\n",
            "17\n",
            "18\n",
            "19\n",
            "20\n",
            "21\n",
            "22\n",
            "23\n",
            "24\n",
            "25\n",
            "26\n",
            "27\n",
            "28\n"
          ]
        }
      ]
    },
    {
      "cell_type": "code",
      "source": [
        "final_eeg.columns"
      ],
      "metadata": {
        "colab": {
          "base_uri": "https://localhost:8080/"
        },
        "id": "UeHJ_ZDjaynR",
        "outputId": "c35d4c46-37b0-45f8-aace-27bda7660163"
      },
      "execution_count": 28,
      "outputs": [
        {
          "output_type": "execute_result",
          "data": {
            "text/plain": [
              "Index(['Trial', 'Subject', 'Block', 'ProbeType', 'ProbeTypeName',\n",
              "       'StimulusCategory', 'ListenCue', 'ReactionTime', 'KeyCode', 'Response',\n",
              "       'ResponseCorrect', 'Omission', 'StimulusAudioStart',\n",
              "       'StimulusAlignedTrigger', 'DelayPeriodOnset', 'MaintenancePeriodOnset',\n",
              "       'ProbeCueOnset', 'ProbeAudioStart', 'ProbeAlignedTrigger',\n",
              "       'TriggerValueCondition', 'StimulusSounds_idx', 'StimulusSounds_name',\n",
              "       'ProbeCategory', 'ProbeSound_idx', 'ProbeSound_name'],\n",
              "      dtype='object')"
            ]
          },
          "metadata": {},
          "execution_count": 28
        }
      ]
    },
    {
      "cell_type": "code",
      "source": [
        "final_eeg.shape"
      ],
      "metadata": {
        "colab": {
          "base_uri": "https://localhost:8080/"
        },
        "id": "23zLUdofZckD",
        "outputId": "cb6ce0cb-f131-4130-a872-8a6698bae8f1"
      },
      "execution_count": 30,
      "outputs": [
        {
          "output_type": "execute_result",
          "data": {
            "text/plain": [
              "(5568, 25)"
            ]
          },
          "metadata": {},
          "execution_count": 30
        }
      ]
    },
    {
      "cell_type": "code",
      "source": [
        "final_eeg.isnull().sum()"
      ],
      "metadata": {
        "colab": {
          "base_uri": "https://localhost:8080/"
        },
        "id": "ERRmbLBbXwEF",
        "outputId": "a6c0f959-f9a9-49ac-892d-c97ea8675a67"
      },
      "execution_count": 31,
      "outputs": [
        {
          "output_type": "execute_result",
          "data": {
            "text/plain": [
              "Trial                       0\n",
              "Subject                     0\n",
              "Block                       0\n",
              "ProbeType                   0\n",
              "ProbeTypeName               0\n",
              "StimulusCategory            0\n",
              "ListenCue                   0\n",
              "ReactionTime              100\n",
              "KeyCode                     0\n",
              "Response                    0\n",
              "ResponseCorrect             0\n",
              "Omission                    0\n",
              "StimulusAudioStart          0\n",
              "StimulusAlignedTrigger      0\n",
              "DelayPeriodOnset            0\n",
              "MaintenancePeriodOnset      0\n",
              "ProbeCueOnset               0\n",
              "ProbeAudioStart             0\n",
              "ProbeAlignedTrigger         0\n",
              "TriggerValueCondition       0\n",
              "StimulusSounds_idx          0\n",
              "StimulusSounds_name         0\n",
              "ProbeCategory               0\n",
              "ProbeSound_idx              0\n",
              "ProbeSound_name             0\n",
              "dtype: int64"
            ]
          },
          "metadata": {},
          "execution_count": 31
        }
      ]
    },
    {
      "cell_type": "code",
      "source": [
        "# saving result\n",
        "final_eeg.to_csv(\n",
        "    Path(working_path).joinpath('eeg_all.csv')\n",
        ")\n",
        "ieeg.to_csv(\n",
        "    Path(working_path).joinpath('ieeg_all.csv')\n",
        ")"
      ],
      "metadata": {
        "id": "vh23zNrwadxp"
      },
      "execution_count": 32,
      "outputs": []
    }
  ]
}