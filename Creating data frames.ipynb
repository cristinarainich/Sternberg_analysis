{
  "nbformat": 4,
  "nbformat_minor": 0,
  "metadata": {
    "colab": {
      "name": "Creating data frames.ipynb",
      "provenance": [],
      "toc_visible": true,
      "authorship_tag": "ABX9TyMnkFfWvNfCefE14tVQSaq/",
      "include_colab_link": true
    },
    "kernelspec": {
      "name": "python3",
      "display_name": "Python 3"
    },
    "language_info": {
      "name": "python"
    }
  },
  "cells": [
    {
      "cell_type": "markdown",
      "metadata": {
        "id": "view-in-github",
        "colab_type": "text"
      },
      "source": [
        "<a href=\"https://colab.research.google.com/github/cristinarainich/Sternberg_analysis/blob/main/Creating%20data%20frames.ipynb\" target=\"_parent\"><img src=\"https://colab.research.google.com/assets/colab-badge.svg\" alt=\"Open In Colab\"/></a>"
      ]
    },
    {
      "cell_type": "markdown",
      "source": [
        "#Imports and drive access"
      ],
      "metadata": {
        "id": "2-siHlrZyQpY"
      }
    },
    {
      "cell_type": "code",
      "source": [
        "import pandas as pd\n",
        "import numpy as np\n",
        "from pathlib import Path\n",
        "import pylab as pl\n",
        "import seaborn as sns\n",
        "import re\n",
        "from scipy import stats\n",
        "import scipy.io\n",
        "import statsmodels.api as sm\n",
        "from statsmodels.stats.anova import anova_lm\n",
        "from statsmodels.formula.api import ols\n",
        "from scipy.stats import f_oneway\n",
        "from scipy.stats import shapiro\n",
        "from scipy.stats import normaltest\n",
        "from scipy.stats import boxcox\n",
        "%pylab inline"
      ],
      "metadata": {
        "id": "_sn8ErGMTpmV",
        "outputId": "34a6e25b-0235-4dc6-cc6f-a6c597a6e2dd",
        "colab": {
          "base_uri": "https://localhost:8080/"
        }
      },
      "execution_count": 180,
      "outputs": [
        {
          "output_type": "stream",
          "name": "stdout",
          "text": [
            "Populating the interactive namespace from numpy and matplotlib\n"
          ]
        }
      ]
    },
    {
      "cell_type": "code",
      "source": [
        "sns.set()"
      ],
      "metadata": {
        "id": "3OeYiGvHn9Oo"
      },
      "execution_count": 28,
      "outputs": []
    },
    {
      "cell_type": "code",
      "execution_count": 2,
      "metadata": {
        "colab": {
          "base_uri": "https://localhost:8080/"
        },
        "id": "45lWkfhaSovC",
        "outputId": "09a99f53-eaa5-4b58-da9b-5e05eaf410dc"
      },
      "outputs": [
        {
          "output_type": "stream",
          "name": "stdout",
          "text": [
            "Mounted at /content/gdrive\n"
          ]
        }
      ],
      "source": [
        "from google.colab import drive\n",
        "drive.mount('/content/gdrive')"
      ]
    },
    {
      "cell_type": "code",
      "source": [
        "!ls /content/gdrive/MyDrive/CoganLab/Neighbourhood"
      ],
      "metadata": {
        "id": "VGH4aN-iHNIa",
        "outputId": "89c52b12-7bbc-4508-ce4a-88f72ea3869a",
        "colab": {
          "base_uri": "https://localhost:8080/"
        }
      },
      "execution_count": 3,
      "outputs": [
        {
          "output_type": "stream",
          "name": "stdout",
          "text": [
            " D71_Block_1_TrialData.mat\t  eeg_all.csv\n",
            "'D72_Block_1_TrialData (1).mat'   eeg_no_outliers.csv\n",
            " D72_Block_1_TrialData.mat\t  ieeg_all.csv\n",
            "'D73_Block_1_TrialData (1).mat'   ieeg_subset.csv\n",
            " D73_Block_1_TrialData.mat\t  Subject_NeighborhoodSternberg_EEG_060322.mat\n",
            " D77_Block_1_TrialData.mat\t  Subject_NeighborhoodSternberg_IEEG_060322.mat\n",
            " D79_Block_1_TrialData.mat\n"
          ]
        }
      ]
    },
    {
      "cell_type": "code",
      "source": [
        "working_path = Path('/content/gdrive/MyDrive/CoganLab/Neighbourhood')"
      ],
      "metadata": {
        "id": "mrX83XwU9bje"
      },
      "execution_count": 6,
      "outputs": []
    },
    {
      "cell_type": "code",
      "source": [
        "# controls' data\n",
        "eeg = scipy.io.loadmat(\n",
        "    working_path.joinpath('Subject_NeighborhoodSternberg_EEG_060322.mat')\n",
        "    )\n",
        "# patients' data\n",
        "ieeg = scipy.io.loadmat(\n",
        "    working_path.joinpath('Subject_NeighborhoodSternberg_IEEG_060322.mat')\n",
        "    )\n",
        "new_subject72 = scipy.io.loadmat(\n",
        "    working_path.joinpath('D72_Block_1_TrialData.mat')\n",
        "    )\n",
        "new_subject73 = scipy.io.loadmat(\n",
        "    working_path.joinpath('D73_Block_1_TrialData.mat')\n",
        "    )\n",
        "new_subject77 = scipy.io.loadmat(\n",
        "    working_path.joinpath('D77_Block_1_TrialData.mat')\n",
        "    )\n",
        "new_subject79 = scipy.io.loadmat(\n",
        "    working_path.joinpath('D79_Block_1_TrialData.mat')\n",
        "    )"
      ],
      "metadata": {
        "id": "HXccOe1y9Vg_"
      },
      "execution_count": 7,
      "outputs": []
    },
    {
      "cell_type": "markdown",
      "source": [
        "# iEEG dataset "
      ],
      "metadata": {
        "id": "euNi0QtEAYb9"
      }
    },
    {
      "cell_type": "code",
      "source": [
        "data_ieeg = ieeg['Subject'] # contains trials for each of the subjects\n",
        "print('Number of subjects in EEG dataset is', data_ieeg.shape[1])"
      ],
      "metadata": {
        "colab": {
          "base_uri": "https://localhost:8080/"
        },
        "id": "hK5oe41V_P7C",
        "outputId": "59a51177-a211-4b2b-ae86-77f15550ea48"
      },
      "execution_count": 8,
      "outputs": [
        {
          "output_type": "stream",
          "name": "stdout",
          "text": [
            "Number of subjects in EEG dataset is 30\n"
          ]
        }
      ]
    },
    {
      "cell_type": "code",
      "source": [
        "subjects_ieeg = [] # subject numbers\n",
        "for i in data_ieeg['Name'][0]:\n",
        "  subjects_ieeg.append(i[0])"
      ],
      "metadata": {
        "id": "-RR9ScjN_UAs"
      },
      "execution_count": 9,
      "outputs": []
    },
    {
      "cell_type": "code",
      "source": [
        "def get_to_df(data):\n",
        "  # this function reads into .mat file and creates df out of it for all of the trials of one subject\n",
        "  # i'm planning on making it more beautiful later\n",
        "\n",
        "  columns = data[0][1].dtype.names\n",
        "  df = pd.DataFrame(columns=columns)\n",
        "  df['Trial'] = np.nan\n",
        "  df_ = df.copy()\n",
        "  for i in range(0, data.shape[1]): # for each trial number\n",
        "    mdtype = data[0][i].dtype\n",
        "    values = []\n",
        "    for name in mdtype.names:\n",
        "      values.append(data[0][i][name])\n",
        "    values = extra_arrays(values)\n",
        "    values.append(str(i)) # adding a trial number at the end\n",
        "    df_.loc[len(df_.index)] = values\n",
        "  return df_"
      ],
      "metadata": {
        "id": "05sho1lj8g1c"
      },
      "execution_count": 10,
      "outputs": []
    },
    {
      "cell_type": "code",
      "source": [
        "def extra_arrays(x):\n",
        "  # elements have nested structure, i.e. arrays inside the arrays\n",
        "  # below we're getting rid of this depending on the shape of values\n",
        "\n",
        "  values = []\n",
        "  for elem in range(0, len(x)):\n",
        "    var = x[elem]\n",
        "    var = var[0, 0]\n",
        "    if var.shape == (1, 1):\n",
        "      var = var[0, 0]\n",
        "      values.append(var)\n",
        "    elif var.shape == (1,):\n",
        "      values.append(var[0])\n",
        "    elif var.shape == (1, 5):\n",
        "      var = var.tolist()[0]\n",
        "      values.append(var)\n",
        "    elif var.shape == (5, 1):\n",
        "      new = []\n",
        "      for i in var:\n",
        "        i = i[0]\n",
        "        new.append(i)\n",
        "      values.append(new)\n",
        "    else:\n",
        "      values.append(var)\n",
        "  return values"
      ],
      "metadata": {
        "id": "XV7EjrokyEmp"
      },
      "execution_count": 11,
      "outputs": []
    },
    {
      "cell_type": "code",
      "source": [
        "columns_ieeg = data_ieeg['trialInfo'][0, 0][0, 0].dtype.names # name of the variables from trial info\n",
        "final_ieeg = pd.DataFrame(columns=columns_ieeg)\n",
        "final_ieeg['Trial'] = np.nan\n",
        "final_ieeg['Subject'] = np.nan\n",
        "for subj in range(0, data_ieeg['trialInfo'].shape[1]): # for each subject\n",
        "  print(subj)\n",
        "  subj_df = get_to_df(data_ieeg['trialInfo'][0, subj])\n",
        "  subj_df['Subject'] = subjects_ieeg[subj]\n",
        "  final_ieeg = pd.concat([final_ieeg, subj_df], axis = 0)"
      ],
      "metadata": {
        "colab": {
          "base_uri": "https://localhost:8080/"
        },
        "id": "69egTkIFLGeo",
        "outputId": "7f27071d-9c62-4491-957a-636dce6bdf3e"
      },
      "execution_count": 12,
      "outputs": [
        {
          "output_type": "stream",
          "name": "stdout",
          "text": [
            "0\n",
            "1\n",
            "2\n",
            "3\n",
            "4\n",
            "5\n",
            "6\n",
            "7\n",
            "8\n",
            "9\n",
            "10\n",
            "11\n",
            "12\n",
            "13\n",
            "14\n",
            "15\n",
            "16\n",
            "17\n",
            "18\n",
            "19\n",
            "20\n",
            "21\n",
            "22\n",
            "23\n",
            "24\n",
            "25\n",
            "26\n",
            "27\n",
            "28\n",
            "29\n"
          ]
        }
      ]
    },
    {
      "cell_type": "code",
      "source": [
        "# D72 subject\n",
        "d72 = get_to_df(new_subject72['trialInfo'])\n",
        "d73 = get_to_df(new_subject73['trialInfo'])\n",
        "d77 = get_to_df(new_subject77['trialInfo'])\n",
        "d79 = get_to_df(new_subject79['trialInfo'])"
      ],
      "metadata": {
        "id": "y8FMu-StUCbn"
      },
      "execution_count": 14,
      "outputs": []
    },
    {
      "cell_type": "code",
      "source": [
        "d72['Subject'] = 'D72'\n",
        "d73['Subject'] = 'D73'\n",
        "d77['Subject'] = 'D77'\n",
        "d79['Subject'] = 'D79'"
      ],
      "metadata": {
        "id": "glPM7Pl3ULJe"
      },
      "execution_count": 15,
      "outputs": []
    },
    {
      "cell_type": "code",
      "source": [
        "ieeg = pd.concat([final_ieeg, d72])\n",
        "ieeg = pd.concat([ieeg, d73])\n",
        "ieeg = pd.concat([ieeg, d77])\n",
        "ieeg = pd.concat([ieeg, d79])"
      ],
      "metadata": {
        "id": "a_ZagjaNnSGM"
      },
      "execution_count": 16,
      "outputs": []
    },
    {
      "cell_type": "code",
      "source": [
        "len(ieeg.Subject.unique())"
      ],
      "metadata": {
        "id": "PXCtVQeRUwUj",
        "outputId": "0183e518-13b0-4d21-882b-26ea16d69438",
        "colab": {
          "base_uri": "https://localhost:8080/"
        }
      },
      "execution_count": 17,
      "outputs": [
        {
          "output_type": "execute_result",
          "data": {
            "text/plain": [
              "34"
            ]
          },
          "metadata": {},
          "execution_count": 17
        }
      ]
    },
    {
      "cell_type": "code",
      "source": [
        "ieeg.Subject.unique()"
      ],
      "metadata": {
        "id": "wdyfLf4tITPy",
        "outputId": "e16df53c-37d9-4638-9411-22d92a4a467f",
        "colab": {
          "base_uri": "https://localhost:8080/"
        }
      },
      "execution_count": 18,
      "outputs": [
        {
          "output_type": "execute_result",
          "data": {
            "text/plain": [
              "array(['D23', 'D26', 'D27', 'D28', 'D29', 'D30', 'D31', 'D33', 'D34',\n",
              "       'D35', 'D36', 'D38', 'D39', 'D41', 'D42', 'D47', 'D48', 'D49',\n",
              "       'D53', 'D54', 'D55', 'D57', 'D59', 'D61', 'D63', 'D65', 'D68',\n",
              "       'D69', 'D70', 'D71', 'D72', 'D73', 'D77', 'D79'], dtype=object)"
            ]
          },
          "metadata": {},
          "execution_count": 18
        }
      ]
    },
    {
      "cell_type": "code",
      "source": [
        "# saving only ieeg dataset anew\n",
        "ieeg.to_csv(\n",
        "    Path(working_path).joinpath('ieeg_all.csv')\n",
        ")"
      ],
      "metadata": {
        "id": "UPER5cLQIJ-C"
      },
      "execution_count": 19,
      "outputs": []
    },
    {
      "cell_type": "markdown",
      "source": [
        "#Preprocessing iEEG dataset"
      ],
      "metadata": {
        "id": "q3G3NgVin2BZ"
      }
    },
    {
      "cell_type": "code",
      "source": [
        "#ieeg = ieeg.loc[:, ieeg.columns != 'Unnamed: 0'] # some extra column appeared while uploading data"
      ],
      "metadata": {
        "id": "B-OvCFMPn4Qg"
      },
      "execution_count": null,
      "outputs": []
    },
    {
      "cell_type": "code",
      "source": [
        "ieeg.isnull().sum()"
      ],
      "metadata": {
        "id": "sGQ5A9lRvueK",
        "outputId": "1d91db1d-f6b3-4a0e-ed47-d9e1a4c09aa4",
        "colab": {
          "base_uri": "https://localhost:8080/"
        }
      },
      "execution_count": 144,
      "outputs": [
        {
          "output_type": "execute_result",
          "data": {
            "text/plain": [
              "block                       0\n",
              "ProbeType                   0\n",
              "ProbeTypeName               0\n",
              "StimlusCategory             0\n",
              "ReactionTime                0\n",
              "KeyCode                     0\n",
              "Resp                        0\n",
              "RespCorrect                 0\n",
              "Omission                  160\n",
              "stimulusAudioStart          0\n",
              "stimulusAlignedTrigger      0\n",
              "probeAudioStart             0\n",
              "probeAlignedTrigger         0\n",
              "TriggerValue                0\n",
              "stimulusSounds_idx          0\n",
              "stimulusSounds_name         0\n",
              "ProbeCategory               0\n",
              "probeSound_idx              0\n",
              "probeSound_name             0\n",
              "Trial                       0\n",
              "Subject                     0\n",
              "ListenCueTime             953\n",
              "MaintenancePeriodTime     953\n",
              "ProbeCueTime              953\n",
              "dtype: int64"
            ]
          },
          "metadata": {},
          "execution_count": 144
        }
      ]
    },
    {
      "cell_type": "code",
      "source": [
        "ieeg.shape"
      ],
      "metadata": {
        "id": "xyox07hMvzMR",
        "outputId": "3c28f375-ee35-4dce-be5a-9c3ef7ed095f",
        "colab": {
          "base_uri": "https://localhost:8080/"
        }
      },
      "execution_count": 145,
      "outputs": [
        {
          "output_type": "execute_result",
          "data": {
            "text/plain": [
              "(5460, 24)"
            ]
          },
          "metadata": {},
          "execution_count": 145
        }
      ]
    },
    {
      "cell_type": "code",
      "source": [
        "ieeg.Subject.unique()"
      ],
      "metadata": {
        "id": "wxEtY5AXvzOx",
        "outputId": "1aa8a6b7-379d-460a-ca35-6ee458c0509b",
        "colab": {
          "base_uri": "https://localhost:8080/"
        }
      },
      "execution_count": 146,
      "outputs": [
        {
          "output_type": "execute_result",
          "data": {
            "text/plain": [
              "array(['D23', 'D26', 'D27', 'D28', 'D29', 'D30', 'D31', 'D33', 'D34',\n",
              "       'D35', 'D36', 'D38', 'D39', 'D41', 'D42', 'D47', 'D48', 'D49',\n",
              "       'D53', 'D54', 'D55', 'D57', 'D59', 'D61', 'D63', 'D65', 'D68',\n",
              "       'D69', 'D70', 'D71', 'D72', 'D73', 'D77', 'D79'], dtype=object)"
            ]
          },
          "metadata": {},
          "execution_count": 146
        }
      ]
    },
    {
      "cell_type": "code",
      "source": [
        "ieeg.columns"
      ],
      "metadata": {
        "id": "mzyXp4m1vzQ5",
        "outputId": "b8835ffe-ceb4-4e52-9cec-b6eb4f8ff0cb",
        "colab": {
          "base_uri": "https://localhost:8080/"
        }
      },
      "execution_count": 147,
      "outputs": [
        {
          "output_type": "execute_result",
          "data": {
            "text/plain": [
              "Index(['block', 'ProbeType', 'ProbeTypeName', 'StimlusCategory',\n",
              "       'ReactionTime', 'KeyCode', 'Resp', 'RespCorrect', 'Omission',\n",
              "       'stimulusAudioStart', 'stimulusAlignedTrigger', 'probeAudioStart',\n",
              "       'probeAlignedTrigger', 'TriggerValue', 'stimulusSounds_idx',\n",
              "       'stimulusSounds_name', 'ProbeCategory', 'probeSound_idx',\n",
              "       'probeSound_name', 'Trial', 'Subject', 'ListenCueTime',\n",
              "       'MaintenancePeriodTime', 'ProbeCueTime'],\n",
              "      dtype='object')"
            ]
          },
          "metadata": {},
          "execution_count": 147
        }
      ]
    },
    {
      "cell_type": "code",
      "source": [
        "ieeg_subset = ieeg[[\n",
        "                 'Trial', 'Subject', 'block', 'ProbeType', 'probeSound_idx',\n",
        "                 'ProbeTypeName', 'StimlusCategory', 'ReactionTime', 'KeyCode',\n",
        "                 'Resp', 'RespCorrect', 'Omission', 'ProbeCategory',\n",
        "                  'stimulusSounds_idx', 'stimulusSounds_name', 'probeSound_name'              \n",
        "]]"
      ],
      "metadata": {
        "id": "XTnuI12FvzS5"
      },
      "execution_count": 148,
      "outputs": []
    },
    {
      "cell_type": "code",
      "source": [
        "ieeg_subset.head()"
      ],
      "metadata": {
        "id": "_SfA7x9XvzVB",
        "outputId": "ac8cf161-e5ec-4d34-eb58-33077d147fdf",
        "colab": {
          "base_uri": "https://localhost:8080/",
          "height": 444
        }
      },
      "execution_count": 149,
      "outputs": [
        {
          "output_type": "execute_result",
          "data": {
            "text/plain": [
              "  Trial Subject block ProbeType probeSound_idx    ProbeTypeName  \\\n",
              "0     0     D23     1         2             29      in_sequence   \n",
              "1     1     D23     1         2              5      in_sequence   \n",
              "2     2     D23     1         2             16      in_sequence   \n",
              "3     3     D23     1         1             29  out_of_sequence   \n",
              "4     4     D23     1         1              9  out_of_sequence   \n",
              "\n",
              "  StimlusCategory  ReactionTime KeyCode Resp RespCorrect   Omission  \\\n",
              "0       Low Words      0.857518      37  Yes           1  Responded   \n",
              "1      High Words      1.339604      37  Yes           1  Responded   \n",
              "2  High Non-Words      1.045657      37  Yes           1  Responded   \n",
              "3      High Words      1.497001      39   No           1  Responded   \n",
              "4       Low Words      1.679783      39   No           1  Responded   \n",
              "\n",
              "    ProbeCategory              stimulusSounds_idx  \\\n",
              "0       Low Words                  [[29, 25, 30]]   \n",
              "1      High Words        [[2, 5, 8, 4, 7, 10, 3]]   \n",
              "2  High Non-Words  [[19, 14, 18, 16, 20, 15, 17]]   \n",
              "3       Low Words  [[10, 2, 7, 9, 1, 8, 6, 5, 4]]   \n",
              "4      High Words            [30, 24, 25, 29, 21]   \n",
              "\n",
              "                                 stimulusSounds_name probeSound_name  \n",
              "0        [[[wash.wav]], [[sure.wav]], [[youth.wav]]]        wash.wav  \n",
              "1  [[[debt.wav]], [[lair.wav]], [[seek.wav]], [[g...        lair.wav  \n",
              "2  [[[rihn.wav]], [[kehl.wav]], [[rehl.wav]], [[p...        paon.wav  \n",
              "3  [[[witch.wav]], [[debt.wav]], [[pawn.wav]], [[...        wash.wav  \n",
              "4  [[youth.wav], [noun.wav], [sure.wav], [wash.wa...        soar.wav  "
            ],
            "text/html": [
              "\n",
              "  <div id=\"df-6c7e70c9-310e-4f90-9f39-b9d69a1a6d43\">\n",
              "    <div class=\"colab-df-container\">\n",
              "      <div>\n",
              "<style scoped>\n",
              "    .dataframe tbody tr th:only-of-type {\n",
              "        vertical-align: middle;\n",
              "    }\n",
              "\n",
              "    .dataframe tbody tr th {\n",
              "        vertical-align: top;\n",
              "    }\n",
              "\n",
              "    .dataframe thead th {\n",
              "        text-align: right;\n",
              "    }\n",
              "</style>\n",
              "<table border=\"1\" class=\"dataframe\">\n",
              "  <thead>\n",
              "    <tr style=\"text-align: right;\">\n",
              "      <th></th>\n",
              "      <th>Trial</th>\n",
              "      <th>Subject</th>\n",
              "      <th>block</th>\n",
              "      <th>ProbeType</th>\n",
              "      <th>probeSound_idx</th>\n",
              "      <th>ProbeTypeName</th>\n",
              "      <th>StimlusCategory</th>\n",
              "      <th>ReactionTime</th>\n",
              "      <th>KeyCode</th>\n",
              "      <th>Resp</th>\n",
              "      <th>RespCorrect</th>\n",
              "      <th>Omission</th>\n",
              "      <th>ProbeCategory</th>\n",
              "      <th>stimulusSounds_idx</th>\n",
              "      <th>stimulusSounds_name</th>\n",
              "      <th>probeSound_name</th>\n",
              "    </tr>\n",
              "  </thead>\n",
              "  <tbody>\n",
              "    <tr>\n",
              "      <th>0</th>\n",
              "      <td>0</td>\n",
              "      <td>D23</td>\n",
              "      <td>1</td>\n",
              "      <td>2</td>\n",
              "      <td>29</td>\n",
              "      <td>in_sequence</td>\n",
              "      <td>Low Words</td>\n",
              "      <td>0.857518</td>\n",
              "      <td>37</td>\n",
              "      <td>Yes</td>\n",
              "      <td>1</td>\n",
              "      <td>Responded</td>\n",
              "      <td>Low Words</td>\n",
              "      <td>[[29, 25, 30]]</td>\n",
              "      <td>[[[wash.wav]], [[sure.wav]], [[youth.wav]]]</td>\n",
              "      <td>wash.wav</td>\n",
              "    </tr>\n",
              "    <tr>\n",
              "      <th>1</th>\n",
              "      <td>1</td>\n",
              "      <td>D23</td>\n",
              "      <td>1</td>\n",
              "      <td>2</td>\n",
              "      <td>5</td>\n",
              "      <td>in_sequence</td>\n",
              "      <td>High Words</td>\n",
              "      <td>1.339604</td>\n",
              "      <td>37</td>\n",
              "      <td>Yes</td>\n",
              "      <td>1</td>\n",
              "      <td>Responded</td>\n",
              "      <td>High Words</td>\n",
              "      <td>[[2, 5, 8, 4, 7, 10, 3]]</td>\n",
              "      <td>[[[debt.wav]], [[lair.wav]], [[seek.wav]], [[g...</td>\n",
              "      <td>lair.wav</td>\n",
              "    </tr>\n",
              "    <tr>\n",
              "      <th>2</th>\n",
              "      <td>2</td>\n",
              "      <td>D23</td>\n",
              "      <td>1</td>\n",
              "      <td>2</td>\n",
              "      <td>16</td>\n",
              "      <td>in_sequence</td>\n",
              "      <td>High Non-Words</td>\n",
              "      <td>1.045657</td>\n",
              "      <td>37</td>\n",
              "      <td>Yes</td>\n",
              "      <td>1</td>\n",
              "      <td>Responded</td>\n",
              "      <td>High Non-Words</td>\n",
              "      <td>[[19, 14, 18, 16, 20, 15, 17]]</td>\n",
              "      <td>[[[rihn.wav]], [[kehl.wav]], [[rehl.wav]], [[p...</td>\n",
              "      <td>paon.wav</td>\n",
              "    </tr>\n",
              "    <tr>\n",
              "      <th>3</th>\n",
              "      <td>3</td>\n",
              "      <td>D23</td>\n",
              "      <td>1</td>\n",
              "      <td>1</td>\n",
              "      <td>29</td>\n",
              "      <td>out_of_sequence</td>\n",
              "      <td>High Words</td>\n",
              "      <td>1.497001</td>\n",
              "      <td>39</td>\n",
              "      <td>No</td>\n",
              "      <td>1</td>\n",
              "      <td>Responded</td>\n",
              "      <td>Low Words</td>\n",
              "      <td>[[10, 2, 7, 9, 1, 8, 6, 5, 4]]</td>\n",
              "      <td>[[[witch.wav]], [[debt.wav]], [[pawn.wav]], [[...</td>\n",
              "      <td>wash.wav</td>\n",
              "    </tr>\n",
              "    <tr>\n",
              "      <th>4</th>\n",
              "      <td>4</td>\n",
              "      <td>D23</td>\n",
              "      <td>1</td>\n",
              "      <td>1</td>\n",
              "      <td>9</td>\n",
              "      <td>out_of_sequence</td>\n",
              "      <td>Low Words</td>\n",
              "      <td>1.679783</td>\n",
              "      <td>39</td>\n",
              "      <td>No</td>\n",
              "      <td>1</td>\n",
              "      <td>Responded</td>\n",
              "      <td>High Words</td>\n",
              "      <td>[30, 24, 25, 29, 21]</td>\n",
              "      <td>[[youth.wav], [noun.wav], [sure.wav], [wash.wa...</td>\n",
              "      <td>soar.wav</td>\n",
              "    </tr>\n",
              "  </tbody>\n",
              "</table>\n",
              "</div>\n",
              "      <button class=\"colab-df-convert\" onclick=\"convertToInteractive('df-6c7e70c9-310e-4f90-9f39-b9d69a1a6d43')\"\n",
              "              title=\"Convert this dataframe to an interactive table.\"\n",
              "              style=\"display:none;\">\n",
              "        \n",
              "  <svg xmlns=\"http://www.w3.org/2000/svg\" height=\"24px\"viewBox=\"0 0 24 24\"\n",
              "       width=\"24px\">\n",
              "    <path d=\"M0 0h24v24H0V0z\" fill=\"none\"/>\n",
              "    <path d=\"M18.56 5.44l.94 2.06.94-2.06 2.06-.94-2.06-.94-.94-2.06-.94 2.06-2.06.94zm-11 1L8.5 8.5l.94-2.06 2.06-.94-2.06-.94L8.5 2.5l-.94 2.06-2.06.94zm10 10l.94 2.06.94-2.06 2.06-.94-2.06-.94-.94-2.06-.94 2.06-2.06.94z\"/><path d=\"M17.41 7.96l-1.37-1.37c-.4-.4-.92-.59-1.43-.59-.52 0-1.04.2-1.43.59L10.3 9.45l-7.72 7.72c-.78.78-.78 2.05 0 2.83L4 21.41c.39.39.9.59 1.41.59.51 0 1.02-.2 1.41-.59l7.78-7.78 2.81-2.81c.8-.78.8-2.07 0-2.86zM5.41 20L4 18.59l7.72-7.72 1.47 1.35L5.41 20z\"/>\n",
              "  </svg>\n",
              "      </button>\n",
              "      \n",
              "  <style>\n",
              "    .colab-df-container {\n",
              "      display:flex;\n",
              "      flex-wrap:wrap;\n",
              "      gap: 12px;\n",
              "    }\n",
              "\n",
              "    .colab-df-convert {\n",
              "      background-color: #E8F0FE;\n",
              "      border: none;\n",
              "      border-radius: 50%;\n",
              "      cursor: pointer;\n",
              "      display: none;\n",
              "      fill: #1967D2;\n",
              "      height: 32px;\n",
              "      padding: 0 0 0 0;\n",
              "      width: 32px;\n",
              "    }\n",
              "\n",
              "    .colab-df-convert:hover {\n",
              "      background-color: #E2EBFA;\n",
              "      box-shadow: 0px 1px 2px rgba(60, 64, 67, 0.3), 0px 1px 3px 1px rgba(60, 64, 67, 0.15);\n",
              "      fill: #174EA6;\n",
              "    }\n",
              "\n",
              "    [theme=dark] .colab-df-convert {\n",
              "      background-color: #3B4455;\n",
              "      fill: #D2E3FC;\n",
              "    }\n",
              "\n",
              "    [theme=dark] .colab-df-convert:hover {\n",
              "      background-color: #434B5C;\n",
              "      box-shadow: 0px 1px 3px 1px rgba(0, 0, 0, 0.15);\n",
              "      filter: drop-shadow(0px 1px 2px rgba(0, 0, 0, 0.3));\n",
              "      fill: #FFFFFF;\n",
              "    }\n",
              "  </style>\n",
              "\n",
              "      <script>\n",
              "        const buttonEl =\n",
              "          document.querySelector('#df-6c7e70c9-310e-4f90-9f39-b9d69a1a6d43 button.colab-df-convert');\n",
              "        buttonEl.style.display =\n",
              "          google.colab.kernel.accessAllowed ? 'block' : 'none';\n",
              "\n",
              "        async function convertToInteractive(key) {\n",
              "          const element = document.querySelector('#df-6c7e70c9-310e-4f90-9f39-b9d69a1a6d43');\n",
              "          const dataTable =\n",
              "            await google.colab.kernel.invokeFunction('convertToInteractive',\n",
              "                                                     [key], {});\n",
              "          if (!dataTable) return;\n",
              "\n",
              "          const docLinkHtml = 'Like what you see? Visit the ' +\n",
              "            '<a target=\"_blank\" href=https://colab.research.google.com/notebooks/data_table.ipynb>data table notebook</a>'\n",
              "            + ' to learn more about interactive tables.';\n",
              "          element.innerHTML = '';\n",
              "          dataTable['output_type'] = 'display_data';\n",
              "          await google.colab.output.renderOutput(dataTable, element);\n",
              "          const docLink = document.createElement('div');\n",
              "          docLink.innerHTML = docLinkHtml;\n",
              "          element.appendChild(docLink);\n",
              "        }\n",
              "      </script>\n",
              "    </div>\n",
              "  </div>\n",
              "  "
            ]
          },
          "metadata": {},
          "execution_count": 149
        }
      ]
    },
    {
      "cell_type": "code",
      "source": [
        "# check if any of the subjects is less than 75 % accurate\n",
        "checkset = ieeg_subset.groupby(['Subject'])[['RespCorrect']].apply(\n",
        "    lambda x: x.sum()/x.count()\n",
        ")\n",
        "(checkset < 0.75).any()"
      ],
      "metadata": {
        "id": "3SP9P2mpvzXS",
        "outputId": "f7bee5a5-d1a9-438b-ce8b-1330bdea0c42",
        "colab": {
          "base_uri": "https://localhost:8080/"
        }
      },
      "execution_count": 150,
      "outputs": [
        {
          "output_type": "execute_result",
          "data": {
            "text/plain": [
              "RespCorrect    True\n",
              "dtype: bool"
            ]
          },
          "metadata": {},
          "execution_count": 150
        }
      ]
    },
    {
      "cell_type": "code",
      "source": [
        "options_drop = checkset[checkset['RespCorrect'] < 0.75].index\n",
        "checkset = checkset.reset_index()\n",
        "\n",
        "print('The subjects with accuracy less than 75 %')\n",
        "print(options_drop)\n",
        "x = []\n",
        "for i in checkset.Subject.values:\n",
        "  for j in options_drop:\n",
        "    if i == j:\n",
        "      x.append(checkset.loc[checkset['Subject'] == i][['RespCorrect']].values[0][0])\n",
        "print(x)"
      ],
      "metadata": {
        "id": "HZCEd9W9vzZR",
        "outputId": "5d8aabe4-e410-4bb0-c789-f57e410f223c",
        "colab": {
          "base_uri": "https://localhost:8080/"
        }
      },
      "execution_count": 151,
      "outputs": [
        {
          "output_type": "stream",
          "name": "stdout",
          "text": [
            "The subjects with accuracy less than 75 %\n",
            "Index(['D30', 'D33', 'D49', 'D54', 'D61', 'D65', 'D70', 'D77'], dtype='object', name='Subject')\n",
            "[0.70625, 0.6310160427807486, 0.61875, 0.43125, 0.6125, 0.65, 0.71875, 0.725]\n"
          ]
        }
      ]
    },
    {
      "cell_type": "code",
      "source": [
        "ieeg_subset[ieeg_subset['Resp'] == 'No Response']"
      ],
      "metadata": {
        "id": "zOcjcJaLwEhB",
        "outputId": "ccea4ea6-ab56-49bf-e909-7ca926d30af7",
        "colab": {
          "base_uri": "https://localhost:8080/",
          "height": 835
        }
      },
      "execution_count": 152,
      "outputs": [
        {
          "output_type": "execute_result",
          "data": {
            "text/plain": [
              "    Trial Subject block ProbeType probeSound_idx    ProbeTypeName  \\\n",
              "9       9     D23     1         2             39      in_sequence   \n",
              "19     19     D23     1         1             40  out_of_sequence   \n",
              "26     26     D23     1         1             33  out_of_sequence   \n",
              "32     32     D23     2         2             25      in_sequence   \n",
              "97     97     D23     4         1             36  out_of_sequence   \n",
              "..    ...     ...   ...       ...            ...              ...   \n",
              "58     58     D79     2         1             35  out_of_sequence   \n",
              "63     63     D79     2         1             24  out_of_sequence   \n",
              "108   108     D79     4         2             27      in_sequence   \n",
              "120   120     D79     4         2             34      in_sequence   \n",
              "138   138     D79     5         1              1  out_of_sequence   \n",
              "\n",
              "    StimlusCategory  ReactionTime                 KeyCode         Resp  \\\n",
              "9     Low Non-words      2.502478      [[37, 39, 32, 27]]  No Response   \n",
              "19   High Non-Words      2.502283      [[37, 39, 32, 27]]  No Response   \n",
              "26   High Non-Words      2.502340      [[37, 39, 32, 27]]  No Response   \n",
              "32        Low Words      2.502395      [[37, 39, 32, 27]]  No Response   \n",
              "97   High Non-Words      2.502652      [[37, 39, 32, 27]]  No Response   \n",
              "..              ...           ...                     ...          ...   \n",
              "58   High Non-Words      2.501854  [114, 115, 66, 10, 27]  No Response   \n",
              "63       High Words      2.501430  [114, 115, 66, 10, 27]  No Response   \n",
              "108       Low Words      2.501380  [114, 115, 66, 10, 27]  No Response   \n",
              "120   Low Non-words      2.501415  [114, 115, 66, 10, 27]  No Response   \n",
              "138       Low Words      2.501444  [114, 115, 66, 10, 27]  No Response   \n",
              "\n",
              "    RespCorrect     Omission  ProbeCategory  \\\n",
              "9             0  No Response  Low Non-words   \n",
              "19            0  No Response  Low Non-Words   \n",
              "26            0  No Response  Low Non-Words   \n",
              "32            0  No Response      Low Words   \n",
              "97            0  No Response  Low Non-Words   \n",
              "..          ...          ...            ...   \n",
              "58            0  No Response  Low Non-Words   \n",
              "63            0  No Response      Low Words   \n",
              "108           0  No Response      Low Words   \n",
              "120           0  No Response  Low Non-words   \n",
              "138           0  No Response     High Words   \n",
              "\n",
              "                         stimulusSounds_idx  \\\n",
              "9    [[32, 37, 31, 39, 40, 35, 33, 38, 36]]   \n",
              "19           [[17, 19, 18, 13, 15, 12, 16]]   \n",
              "26                           [[13, 18, 14]]   \n",
              "32   [[30, 22, 25, 29, 21, 23, 24, 28, 27]]   \n",
              "97                           [[16, 17, 18]]   \n",
              "..                                      ...   \n",
              "58                     [18, 16, 11, 13, 20]   \n",
              "63                              [[2, 8, 1]]   \n",
              "108                    [30, 21, 27, 25, 28]   \n",
              "120                          [[32, 34, 38]]   \n",
              "138                    [26, 28, 24, 21, 29]   \n",
              "\n",
              "                                   stimulusSounds_name probeSound_name  \n",
              "9    [[[faez.wav]], [[wehz.wav]], [[deech.wav]], [[...        yuwf.wav  \n",
              "19   [[[puwn.wav]], [[rihn.wav]], [[rehl.wav]], [[k...       zerth.wav  \n",
              "26          [[[kawl.wav]], [[rehl.wav]], [[kehl.wav]]]       gawth.wav  \n",
              "32   [[[youth.wav]], [[fudge.wav]], [[sure.wav]], [...        sure.wav  \n",
              "97          [[[paon.wav]], [[puwn.wav]], [[rehl.wav]]]        vern.wav  \n",
              "..                                                 ...             ...  \n",
              "58   [[rehl.wav], [paon.wav], [dehs.wav], [kawl.wav...         kuv.wav  \n",
              "63           [[[debt.wav]], [[seek.wav]], [[cop.wav]]]        noun.wav  \n",
              "108  [[youth.wav], [fog.wav], [tube.wav], [sure.wav...        tube.wav  \n",
              "120        [[[faez.wav]], [[jhong.wav]], [[yong.wav]]]       jhong.wav  \n",
              "138  [[toss.wav], [waif.wav], [noun.wav], [fog.wav]...         cop.wav  \n",
              "\n",
              "[230 rows x 16 columns]"
            ],
            "text/html": [
              "\n",
              "  <div id=\"df-b50da478-622f-464a-81f7-21b52ba161f4\">\n",
              "    <div class=\"colab-df-container\">\n",
              "      <div>\n",
              "<style scoped>\n",
              "    .dataframe tbody tr th:only-of-type {\n",
              "        vertical-align: middle;\n",
              "    }\n",
              "\n",
              "    .dataframe tbody tr th {\n",
              "        vertical-align: top;\n",
              "    }\n",
              "\n",
              "    .dataframe thead th {\n",
              "        text-align: right;\n",
              "    }\n",
              "</style>\n",
              "<table border=\"1\" class=\"dataframe\">\n",
              "  <thead>\n",
              "    <tr style=\"text-align: right;\">\n",
              "      <th></th>\n",
              "      <th>Trial</th>\n",
              "      <th>Subject</th>\n",
              "      <th>block</th>\n",
              "      <th>ProbeType</th>\n",
              "      <th>probeSound_idx</th>\n",
              "      <th>ProbeTypeName</th>\n",
              "      <th>StimlusCategory</th>\n",
              "      <th>ReactionTime</th>\n",
              "      <th>KeyCode</th>\n",
              "      <th>Resp</th>\n",
              "      <th>RespCorrect</th>\n",
              "      <th>Omission</th>\n",
              "      <th>ProbeCategory</th>\n",
              "      <th>stimulusSounds_idx</th>\n",
              "      <th>stimulusSounds_name</th>\n",
              "      <th>probeSound_name</th>\n",
              "    </tr>\n",
              "  </thead>\n",
              "  <tbody>\n",
              "    <tr>\n",
              "      <th>9</th>\n",
              "      <td>9</td>\n",
              "      <td>D23</td>\n",
              "      <td>1</td>\n",
              "      <td>2</td>\n",
              "      <td>39</td>\n",
              "      <td>in_sequence</td>\n",
              "      <td>Low Non-words</td>\n",
              "      <td>2.502478</td>\n",
              "      <td>[[37, 39, 32, 27]]</td>\n",
              "      <td>No Response</td>\n",
              "      <td>0</td>\n",
              "      <td>No Response</td>\n",
              "      <td>Low Non-words</td>\n",
              "      <td>[[32, 37, 31, 39, 40, 35, 33, 38, 36]]</td>\n",
              "      <td>[[[faez.wav]], [[wehz.wav]], [[deech.wav]], [[...</td>\n",
              "      <td>yuwf.wav</td>\n",
              "    </tr>\n",
              "    <tr>\n",
              "      <th>19</th>\n",
              "      <td>19</td>\n",
              "      <td>D23</td>\n",
              "      <td>1</td>\n",
              "      <td>1</td>\n",
              "      <td>40</td>\n",
              "      <td>out_of_sequence</td>\n",
              "      <td>High Non-Words</td>\n",
              "      <td>2.502283</td>\n",
              "      <td>[[37, 39, 32, 27]]</td>\n",
              "      <td>No Response</td>\n",
              "      <td>0</td>\n",
              "      <td>No Response</td>\n",
              "      <td>Low Non-Words</td>\n",
              "      <td>[[17, 19, 18, 13, 15, 12, 16]]</td>\n",
              "      <td>[[[puwn.wav]], [[rihn.wav]], [[rehl.wav]], [[k...</td>\n",
              "      <td>zerth.wav</td>\n",
              "    </tr>\n",
              "    <tr>\n",
              "      <th>26</th>\n",
              "      <td>26</td>\n",
              "      <td>D23</td>\n",
              "      <td>1</td>\n",
              "      <td>1</td>\n",
              "      <td>33</td>\n",
              "      <td>out_of_sequence</td>\n",
              "      <td>High Non-Words</td>\n",
              "      <td>2.502340</td>\n",
              "      <td>[[37, 39, 32, 27]]</td>\n",
              "      <td>No Response</td>\n",
              "      <td>0</td>\n",
              "      <td>No Response</td>\n",
              "      <td>Low Non-Words</td>\n",
              "      <td>[[13, 18, 14]]</td>\n",
              "      <td>[[[kawl.wav]], [[rehl.wav]], [[kehl.wav]]]</td>\n",
              "      <td>gawth.wav</td>\n",
              "    </tr>\n",
              "    <tr>\n",
              "      <th>32</th>\n",
              "      <td>32</td>\n",
              "      <td>D23</td>\n",
              "      <td>2</td>\n",
              "      <td>2</td>\n",
              "      <td>25</td>\n",
              "      <td>in_sequence</td>\n",
              "      <td>Low Words</td>\n",
              "      <td>2.502395</td>\n",
              "      <td>[[37, 39, 32, 27]]</td>\n",
              "      <td>No Response</td>\n",
              "      <td>0</td>\n",
              "      <td>No Response</td>\n",
              "      <td>Low Words</td>\n",
              "      <td>[[30, 22, 25, 29, 21, 23, 24, 28, 27]]</td>\n",
              "      <td>[[[youth.wav]], [[fudge.wav]], [[sure.wav]], [...</td>\n",
              "      <td>sure.wav</td>\n",
              "    </tr>\n",
              "    <tr>\n",
              "      <th>97</th>\n",
              "      <td>97</td>\n",
              "      <td>D23</td>\n",
              "      <td>4</td>\n",
              "      <td>1</td>\n",
              "      <td>36</td>\n",
              "      <td>out_of_sequence</td>\n",
              "      <td>High Non-Words</td>\n",
              "      <td>2.502652</td>\n",
              "      <td>[[37, 39, 32, 27]]</td>\n",
              "      <td>No Response</td>\n",
              "      <td>0</td>\n",
              "      <td>No Response</td>\n",
              "      <td>Low Non-Words</td>\n",
              "      <td>[[16, 17, 18]]</td>\n",
              "      <td>[[[paon.wav]], [[puwn.wav]], [[rehl.wav]]]</td>\n",
              "      <td>vern.wav</td>\n",
              "    </tr>\n",
              "    <tr>\n",
              "      <th>...</th>\n",
              "      <td>...</td>\n",
              "      <td>...</td>\n",
              "      <td>...</td>\n",
              "      <td>...</td>\n",
              "      <td>...</td>\n",
              "      <td>...</td>\n",
              "      <td>...</td>\n",
              "      <td>...</td>\n",
              "      <td>...</td>\n",
              "      <td>...</td>\n",
              "      <td>...</td>\n",
              "      <td>...</td>\n",
              "      <td>...</td>\n",
              "      <td>...</td>\n",
              "      <td>...</td>\n",
              "      <td>...</td>\n",
              "    </tr>\n",
              "    <tr>\n",
              "      <th>58</th>\n",
              "      <td>58</td>\n",
              "      <td>D79</td>\n",
              "      <td>2</td>\n",
              "      <td>1</td>\n",
              "      <td>35</td>\n",
              "      <td>out_of_sequence</td>\n",
              "      <td>High Non-Words</td>\n",
              "      <td>2.501854</td>\n",
              "      <td>[114, 115, 66, 10, 27]</td>\n",
              "      <td>No Response</td>\n",
              "      <td>0</td>\n",
              "      <td>No Response</td>\n",
              "      <td>Low Non-Words</td>\n",
              "      <td>[18, 16, 11, 13, 20]</td>\n",
              "      <td>[[rehl.wav], [paon.wav], [dehs.wav], [kawl.wav...</td>\n",
              "      <td>kuv.wav</td>\n",
              "    </tr>\n",
              "    <tr>\n",
              "      <th>63</th>\n",
              "      <td>63</td>\n",
              "      <td>D79</td>\n",
              "      <td>2</td>\n",
              "      <td>1</td>\n",
              "      <td>24</td>\n",
              "      <td>out_of_sequence</td>\n",
              "      <td>High Words</td>\n",
              "      <td>2.501430</td>\n",
              "      <td>[114, 115, 66, 10, 27]</td>\n",
              "      <td>No Response</td>\n",
              "      <td>0</td>\n",
              "      <td>No Response</td>\n",
              "      <td>Low Words</td>\n",
              "      <td>[[2, 8, 1]]</td>\n",
              "      <td>[[[debt.wav]], [[seek.wav]], [[cop.wav]]]</td>\n",
              "      <td>noun.wav</td>\n",
              "    </tr>\n",
              "    <tr>\n",
              "      <th>108</th>\n",
              "      <td>108</td>\n",
              "      <td>D79</td>\n",
              "      <td>4</td>\n",
              "      <td>2</td>\n",
              "      <td>27</td>\n",
              "      <td>in_sequence</td>\n",
              "      <td>Low Words</td>\n",
              "      <td>2.501380</td>\n",
              "      <td>[114, 115, 66, 10, 27]</td>\n",
              "      <td>No Response</td>\n",
              "      <td>0</td>\n",
              "      <td>No Response</td>\n",
              "      <td>Low Words</td>\n",
              "      <td>[30, 21, 27, 25, 28]</td>\n",
              "      <td>[[youth.wav], [fog.wav], [tube.wav], [sure.wav...</td>\n",
              "      <td>tube.wav</td>\n",
              "    </tr>\n",
              "    <tr>\n",
              "      <th>120</th>\n",
              "      <td>120</td>\n",
              "      <td>D79</td>\n",
              "      <td>4</td>\n",
              "      <td>2</td>\n",
              "      <td>34</td>\n",
              "      <td>in_sequence</td>\n",
              "      <td>Low Non-words</td>\n",
              "      <td>2.501415</td>\n",
              "      <td>[114, 115, 66, 10, 27]</td>\n",
              "      <td>No Response</td>\n",
              "      <td>0</td>\n",
              "      <td>No Response</td>\n",
              "      <td>Low Non-words</td>\n",
              "      <td>[[32, 34, 38]]</td>\n",
              "      <td>[[[faez.wav]], [[jhong.wav]], [[yong.wav]]]</td>\n",
              "      <td>jhong.wav</td>\n",
              "    </tr>\n",
              "    <tr>\n",
              "      <th>138</th>\n",
              "      <td>138</td>\n",
              "      <td>D79</td>\n",
              "      <td>5</td>\n",
              "      <td>1</td>\n",
              "      <td>1</td>\n",
              "      <td>out_of_sequence</td>\n",
              "      <td>Low Words</td>\n",
              "      <td>2.501444</td>\n",
              "      <td>[114, 115, 66, 10, 27]</td>\n",
              "      <td>No Response</td>\n",
              "      <td>0</td>\n",
              "      <td>No Response</td>\n",
              "      <td>High Words</td>\n",
              "      <td>[26, 28, 24, 21, 29]</td>\n",
              "      <td>[[toss.wav], [waif.wav], [noun.wav], [fog.wav]...</td>\n",
              "      <td>cop.wav</td>\n",
              "    </tr>\n",
              "  </tbody>\n",
              "</table>\n",
              "<p>230 rows × 16 columns</p>\n",
              "</div>\n",
              "      <button class=\"colab-df-convert\" onclick=\"convertToInteractive('df-b50da478-622f-464a-81f7-21b52ba161f4')\"\n",
              "              title=\"Convert this dataframe to an interactive table.\"\n",
              "              style=\"display:none;\">\n",
              "        \n",
              "  <svg xmlns=\"http://www.w3.org/2000/svg\" height=\"24px\"viewBox=\"0 0 24 24\"\n",
              "       width=\"24px\">\n",
              "    <path d=\"M0 0h24v24H0V0z\" fill=\"none\"/>\n",
              "    <path d=\"M18.56 5.44l.94 2.06.94-2.06 2.06-.94-2.06-.94-.94-2.06-.94 2.06-2.06.94zm-11 1L8.5 8.5l.94-2.06 2.06-.94-2.06-.94L8.5 2.5l-.94 2.06-2.06.94zm10 10l.94 2.06.94-2.06 2.06-.94-2.06-.94-.94-2.06-.94 2.06-2.06.94z\"/><path d=\"M17.41 7.96l-1.37-1.37c-.4-.4-.92-.59-1.43-.59-.52 0-1.04.2-1.43.59L10.3 9.45l-7.72 7.72c-.78.78-.78 2.05 0 2.83L4 21.41c.39.39.9.59 1.41.59.51 0 1.02-.2 1.41-.59l7.78-7.78 2.81-2.81c.8-.78.8-2.07 0-2.86zM5.41 20L4 18.59l7.72-7.72 1.47 1.35L5.41 20z\"/>\n",
              "  </svg>\n",
              "      </button>\n",
              "      \n",
              "  <style>\n",
              "    .colab-df-container {\n",
              "      display:flex;\n",
              "      flex-wrap:wrap;\n",
              "      gap: 12px;\n",
              "    }\n",
              "\n",
              "    .colab-df-convert {\n",
              "      background-color: #E8F0FE;\n",
              "      border: none;\n",
              "      border-radius: 50%;\n",
              "      cursor: pointer;\n",
              "      display: none;\n",
              "      fill: #1967D2;\n",
              "      height: 32px;\n",
              "      padding: 0 0 0 0;\n",
              "      width: 32px;\n",
              "    }\n",
              "\n",
              "    .colab-df-convert:hover {\n",
              "      background-color: #E2EBFA;\n",
              "      box-shadow: 0px 1px 2px rgba(60, 64, 67, 0.3), 0px 1px 3px 1px rgba(60, 64, 67, 0.15);\n",
              "      fill: #174EA6;\n",
              "    }\n",
              "\n",
              "    [theme=dark] .colab-df-convert {\n",
              "      background-color: #3B4455;\n",
              "      fill: #D2E3FC;\n",
              "    }\n",
              "\n",
              "    [theme=dark] .colab-df-convert:hover {\n",
              "      background-color: #434B5C;\n",
              "      box-shadow: 0px 1px 3px 1px rgba(0, 0, 0, 0.15);\n",
              "      filter: drop-shadow(0px 1px 2px rgba(0, 0, 0, 0.3));\n",
              "      fill: #FFFFFF;\n",
              "    }\n",
              "  </style>\n",
              "\n",
              "      <script>\n",
              "        const buttonEl =\n",
              "          document.querySelector('#df-b50da478-622f-464a-81f7-21b52ba161f4 button.colab-df-convert');\n",
              "        buttonEl.style.display =\n",
              "          google.colab.kernel.accessAllowed ? 'block' : 'none';\n",
              "\n",
              "        async function convertToInteractive(key) {\n",
              "          const element = document.querySelector('#df-b50da478-622f-464a-81f7-21b52ba161f4');\n",
              "          const dataTable =\n",
              "            await google.colab.kernel.invokeFunction('convertToInteractive',\n",
              "                                                     [key], {});\n",
              "          if (!dataTable) return;\n",
              "\n",
              "          const docLinkHtml = 'Like what you see? Visit the ' +\n",
              "            '<a target=\"_blank\" href=https://colab.research.google.com/notebooks/data_table.ipynb>data table notebook</a>'\n",
              "            + ' to learn more about interactive tables.';\n",
              "          element.innerHTML = '';\n",
              "          dataTable['output_type'] = 'display_data';\n",
              "          await google.colab.output.renderOutput(dataTable, element);\n",
              "          const docLink = document.createElement('div');\n",
              "          docLink.innerHTML = docLinkHtml;\n",
              "          element.appendChild(docLink);\n",
              "        }\n",
              "      </script>\n",
              "    </div>\n",
              "  </div>\n",
              "  "
            ]
          },
          "metadata": {},
          "execution_count": 152
        }
      ]
    },
    {
      "cell_type": "code",
      "source": [
        "ieeg_subset[ieeg_subset['Omission'] != 'Responded']\n",
        "# let's keep these NaNs since all the other information is there "
      ],
      "metadata": {
        "id": "4RhPH6RwwIKi",
        "outputId": "a99f5778-9762-4440-f10d-354d06ca4583",
        "colab": {
          "base_uri": "https://localhost:8080/",
          "height": 835
        }
      },
      "execution_count": 153,
      "outputs": [
        {
          "output_type": "execute_result",
          "data": {
            "text/plain": [
              "    Trial Subject block ProbeType probeSound_idx    ProbeTypeName  \\\n",
              "9       9     D23     1         2             39      in_sequence   \n",
              "19     19     D23     1         1             40  out_of_sequence   \n",
              "26     26     D23     1         1             33  out_of_sequence   \n",
              "32     32     D23     2         2             25      in_sequence   \n",
              "97     97     D23     4         1             36  out_of_sequence   \n",
              "..    ...     ...   ...       ...            ...              ...   \n",
              "58     58     D79     2         1             35  out_of_sequence   \n",
              "63     63     D79     2         1             24  out_of_sequence   \n",
              "108   108     D79     4         2             27      in_sequence   \n",
              "120   120     D79     4         2             34      in_sequence   \n",
              "138   138     D79     5         1              1  out_of_sequence   \n",
              "\n",
              "    StimlusCategory  ReactionTime                 KeyCode         Resp  \\\n",
              "9     Low Non-words      2.502478      [[37, 39, 32, 27]]  No Response   \n",
              "19   High Non-Words      2.502283      [[37, 39, 32, 27]]  No Response   \n",
              "26   High Non-Words      2.502340      [[37, 39, 32, 27]]  No Response   \n",
              "32        Low Words      2.502395      [[37, 39, 32, 27]]  No Response   \n",
              "97   High Non-Words      2.502652      [[37, 39, 32, 27]]  No Response   \n",
              "..              ...           ...                     ...          ...   \n",
              "58   High Non-Words      2.501854  [114, 115, 66, 10, 27]  No Response   \n",
              "63       High Words      2.501430  [114, 115, 66, 10, 27]  No Response   \n",
              "108       Low Words      2.501380  [114, 115, 66, 10, 27]  No Response   \n",
              "120   Low Non-words      2.501415  [114, 115, 66, 10, 27]  No Response   \n",
              "138       Low Words      2.501444  [114, 115, 66, 10, 27]  No Response   \n",
              "\n",
              "    RespCorrect     Omission  ProbeCategory  \\\n",
              "9             0  No Response  Low Non-words   \n",
              "19            0  No Response  Low Non-Words   \n",
              "26            0  No Response  Low Non-Words   \n",
              "32            0  No Response      Low Words   \n",
              "97            0  No Response  Low Non-Words   \n",
              "..          ...          ...            ...   \n",
              "58            0  No Response  Low Non-Words   \n",
              "63            0  No Response      Low Words   \n",
              "108           0  No Response      Low Words   \n",
              "120           0  No Response  Low Non-words   \n",
              "138           0  No Response     High Words   \n",
              "\n",
              "                         stimulusSounds_idx  \\\n",
              "9    [[32, 37, 31, 39, 40, 35, 33, 38, 36]]   \n",
              "19           [[17, 19, 18, 13, 15, 12, 16]]   \n",
              "26                           [[13, 18, 14]]   \n",
              "32   [[30, 22, 25, 29, 21, 23, 24, 28, 27]]   \n",
              "97                           [[16, 17, 18]]   \n",
              "..                                      ...   \n",
              "58                     [18, 16, 11, 13, 20]   \n",
              "63                              [[2, 8, 1]]   \n",
              "108                    [30, 21, 27, 25, 28]   \n",
              "120                          [[32, 34, 38]]   \n",
              "138                    [26, 28, 24, 21, 29]   \n",
              "\n",
              "                                   stimulusSounds_name probeSound_name  \n",
              "9    [[[faez.wav]], [[wehz.wav]], [[deech.wav]], [[...        yuwf.wav  \n",
              "19   [[[puwn.wav]], [[rihn.wav]], [[rehl.wav]], [[k...       zerth.wav  \n",
              "26          [[[kawl.wav]], [[rehl.wav]], [[kehl.wav]]]       gawth.wav  \n",
              "32   [[[youth.wav]], [[fudge.wav]], [[sure.wav]], [...        sure.wav  \n",
              "97          [[[paon.wav]], [[puwn.wav]], [[rehl.wav]]]        vern.wav  \n",
              "..                                                 ...             ...  \n",
              "58   [[rehl.wav], [paon.wav], [dehs.wav], [kawl.wav...         kuv.wav  \n",
              "63           [[[debt.wav]], [[seek.wav]], [[cop.wav]]]        noun.wav  \n",
              "108  [[youth.wav], [fog.wav], [tube.wav], [sure.wav...        tube.wav  \n",
              "120        [[[faez.wav]], [[jhong.wav]], [[yong.wav]]]       jhong.wav  \n",
              "138  [[toss.wav], [waif.wav], [noun.wav], [fog.wav]...         cop.wav  \n",
              "\n",
              "[390 rows x 16 columns]"
            ],
            "text/html": [
              "\n",
              "  <div id=\"df-38b60c55-b520-4f3a-ade5-e8ce8e2e6bf9\">\n",
              "    <div class=\"colab-df-container\">\n",
              "      <div>\n",
              "<style scoped>\n",
              "    .dataframe tbody tr th:only-of-type {\n",
              "        vertical-align: middle;\n",
              "    }\n",
              "\n",
              "    .dataframe tbody tr th {\n",
              "        vertical-align: top;\n",
              "    }\n",
              "\n",
              "    .dataframe thead th {\n",
              "        text-align: right;\n",
              "    }\n",
              "</style>\n",
              "<table border=\"1\" class=\"dataframe\">\n",
              "  <thead>\n",
              "    <tr style=\"text-align: right;\">\n",
              "      <th></th>\n",
              "      <th>Trial</th>\n",
              "      <th>Subject</th>\n",
              "      <th>block</th>\n",
              "      <th>ProbeType</th>\n",
              "      <th>probeSound_idx</th>\n",
              "      <th>ProbeTypeName</th>\n",
              "      <th>StimlusCategory</th>\n",
              "      <th>ReactionTime</th>\n",
              "      <th>KeyCode</th>\n",
              "      <th>Resp</th>\n",
              "      <th>RespCorrect</th>\n",
              "      <th>Omission</th>\n",
              "      <th>ProbeCategory</th>\n",
              "      <th>stimulusSounds_idx</th>\n",
              "      <th>stimulusSounds_name</th>\n",
              "      <th>probeSound_name</th>\n",
              "    </tr>\n",
              "  </thead>\n",
              "  <tbody>\n",
              "    <tr>\n",
              "      <th>9</th>\n",
              "      <td>9</td>\n",
              "      <td>D23</td>\n",
              "      <td>1</td>\n",
              "      <td>2</td>\n",
              "      <td>39</td>\n",
              "      <td>in_sequence</td>\n",
              "      <td>Low Non-words</td>\n",
              "      <td>2.502478</td>\n",
              "      <td>[[37, 39, 32, 27]]</td>\n",
              "      <td>No Response</td>\n",
              "      <td>0</td>\n",
              "      <td>No Response</td>\n",
              "      <td>Low Non-words</td>\n",
              "      <td>[[32, 37, 31, 39, 40, 35, 33, 38, 36]]</td>\n",
              "      <td>[[[faez.wav]], [[wehz.wav]], [[deech.wav]], [[...</td>\n",
              "      <td>yuwf.wav</td>\n",
              "    </tr>\n",
              "    <tr>\n",
              "      <th>19</th>\n",
              "      <td>19</td>\n",
              "      <td>D23</td>\n",
              "      <td>1</td>\n",
              "      <td>1</td>\n",
              "      <td>40</td>\n",
              "      <td>out_of_sequence</td>\n",
              "      <td>High Non-Words</td>\n",
              "      <td>2.502283</td>\n",
              "      <td>[[37, 39, 32, 27]]</td>\n",
              "      <td>No Response</td>\n",
              "      <td>0</td>\n",
              "      <td>No Response</td>\n",
              "      <td>Low Non-Words</td>\n",
              "      <td>[[17, 19, 18, 13, 15, 12, 16]]</td>\n",
              "      <td>[[[puwn.wav]], [[rihn.wav]], [[rehl.wav]], [[k...</td>\n",
              "      <td>zerth.wav</td>\n",
              "    </tr>\n",
              "    <tr>\n",
              "      <th>26</th>\n",
              "      <td>26</td>\n",
              "      <td>D23</td>\n",
              "      <td>1</td>\n",
              "      <td>1</td>\n",
              "      <td>33</td>\n",
              "      <td>out_of_sequence</td>\n",
              "      <td>High Non-Words</td>\n",
              "      <td>2.502340</td>\n",
              "      <td>[[37, 39, 32, 27]]</td>\n",
              "      <td>No Response</td>\n",
              "      <td>0</td>\n",
              "      <td>No Response</td>\n",
              "      <td>Low Non-Words</td>\n",
              "      <td>[[13, 18, 14]]</td>\n",
              "      <td>[[[kawl.wav]], [[rehl.wav]], [[kehl.wav]]]</td>\n",
              "      <td>gawth.wav</td>\n",
              "    </tr>\n",
              "    <tr>\n",
              "      <th>32</th>\n",
              "      <td>32</td>\n",
              "      <td>D23</td>\n",
              "      <td>2</td>\n",
              "      <td>2</td>\n",
              "      <td>25</td>\n",
              "      <td>in_sequence</td>\n",
              "      <td>Low Words</td>\n",
              "      <td>2.502395</td>\n",
              "      <td>[[37, 39, 32, 27]]</td>\n",
              "      <td>No Response</td>\n",
              "      <td>0</td>\n",
              "      <td>No Response</td>\n",
              "      <td>Low Words</td>\n",
              "      <td>[[30, 22, 25, 29, 21, 23, 24, 28, 27]]</td>\n",
              "      <td>[[[youth.wav]], [[fudge.wav]], [[sure.wav]], [...</td>\n",
              "      <td>sure.wav</td>\n",
              "    </tr>\n",
              "    <tr>\n",
              "      <th>97</th>\n",
              "      <td>97</td>\n",
              "      <td>D23</td>\n",
              "      <td>4</td>\n",
              "      <td>1</td>\n",
              "      <td>36</td>\n",
              "      <td>out_of_sequence</td>\n",
              "      <td>High Non-Words</td>\n",
              "      <td>2.502652</td>\n",
              "      <td>[[37, 39, 32, 27]]</td>\n",
              "      <td>No Response</td>\n",
              "      <td>0</td>\n",
              "      <td>No Response</td>\n",
              "      <td>Low Non-Words</td>\n",
              "      <td>[[16, 17, 18]]</td>\n",
              "      <td>[[[paon.wav]], [[puwn.wav]], [[rehl.wav]]]</td>\n",
              "      <td>vern.wav</td>\n",
              "    </tr>\n",
              "    <tr>\n",
              "      <th>...</th>\n",
              "      <td>...</td>\n",
              "      <td>...</td>\n",
              "      <td>...</td>\n",
              "      <td>...</td>\n",
              "      <td>...</td>\n",
              "      <td>...</td>\n",
              "      <td>...</td>\n",
              "      <td>...</td>\n",
              "      <td>...</td>\n",
              "      <td>...</td>\n",
              "      <td>...</td>\n",
              "      <td>...</td>\n",
              "      <td>...</td>\n",
              "      <td>...</td>\n",
              "      <td>...</td>\n",
              "      <td>...</td>\n",
              "    </tr>\n",
              "    <tr>\n",
              "      <th>58</th>\n",
              "      <td>58</td>\n",
              "      <td>D79</td>\n",
              "      <td>2</td>\n",
              "      <td>1</td>\n",
              "      <td>35</td>\n",
              "      <td>out_of_sequence</td>\n",
              "      <td>High Non-Words</td>\n",
              "      <td>2.501854</td>\n",
              "      <td>[114, 115, 66, 10, 27]</td>\n",
              "      <td>No Response</td>\n",
              "      <td>0</td>\n",
              "      <td>No Response</td>\n",
              "      <td>Low Non-Words</td>\n",
              "      <td>[18, 16, 11, 13, 20]</td>\n",
              "      <td>[[rehl.wav], [paon.wav], [dehs.wav], [kawl.wav...</td>\n",
              "      <td>kuv.wav</td>\n",
              "    </tr>\n",
              "    <tr>\n",
              "      <th>63</th>\n",
              "      <td>63</td>\n",
              "      <td>D79</td>\n",
              "      <td>2</td>\n",
              "      <td>1</td>\n",
              "      <td>24</td>\n",
              "      <td>out_of_sequence</td>\n",
              "      <td>High Words</td>\n",
              "      <td>2.501430</td>\n",
              "      <td>[114, 115, 66, 10, 27]</td>\n",
              "      <td>No Response</td>\n",
              "      <td>0</td>\n",
              "      <td>No Response</td>\n",
              "      <td>Low Words</td>\n",
              "      <td>[[2, 8, 1]]</td>\n",
              "      <td>[[[debt.wav]], [[seek.wav]], [[cop.wav]]]</td>\n",
              "      <td>noun.wav</td>\n",
              "    </tr>\n",
              "    <tr>\n",
              "      <th>108</th>\n",
              "      <td>108</td>\n",
              "      <td>D79</td>\n",
              "      <td>4</td>\n",
              "      <td>2</td>\n",
              "      <td>27</td>\n",
              "      <td>in_sequence</td>\n",
              "      <td>Low Words</td>\n",
              "      <td>2.501380</td>\n",
              "      <td>[114, 115, 66, 10, 27]</td>\n",
              "      <td>No Response</td>\n",
              "      <td>0</td>\n",
              "      <td>No Response</td>\n",
              "      <td>Low Words</td>\n",
              "      <td>[30, 21, 27, 25, 28]</td>\n",
              "      <td>[[youth.wav], [fog.wav], [tube.wav], [sure.wav...</td>\n",
              "      <td>tube.wav</td>\n",
              "    </tr>\n",
              "    <tr>\n",
              "      <th>120</th>\n",
              "      <td>120</td>\n",
              "      <td>D79</td>\n",
              "      <td>4</td>\n",
              "      <td>2</td>\n",
              "      <td>34</td>\n",
              "      <td>in_sequence</td>\n",
              "      <td>Low Non-words</td>\n",
              "      <td>2.501415</td>\n",
              "      <td>[114, 115, 66, 10, 27]</td>\n",
              "      <td>No Response</td>\n",
              "      <td>0</td>\n",
              "      <td>No Response</td>\n",
              "      <td>Low Non-words</td>\n",
              "      <td>[[32, 34, 38]]</td>\n",
              "      <td>[[[faez.wav]], [[jhong.wav]], [[yong.wav]]]</td>\n",
              "      <td>jhong.wav</td>\n",
              "    </tr>\n",
              "    <tr>\n",
              "      <th>138</th>\n",
              "      <td>138</td>\n",
              "      <td>D79</td>\n",
              "      <td>5</td>\n",
              "      <td>1</td>\n",
              "      <td>1</td>\n",
              "      <td>out_of_sequence</td>\n",
              "      <td>Low Words</td>\n",
              "      <td>2.501444</td>\n",
              "      <td>[114, 115, 66, 10, 27]</td>\n",
              "      <td>No Response</td>\n",
              "      <td>0</td>\n",
              "      <td>No Response</td>\n",
              "      <td>High Words</td>\n",
              "      <td>[26, 28, 24, 21, 29]</td>\n",
              "      <td>[[toss.wav], [waif.wav], [noun.wav], [fog.wav]...</td>\n",
              "      <td>cop.wav</td>\n",
              "    </tr>\n",
              "  </tbody>\n",
              "</table>\n",
              "<p>390 rows × 16 columns</p>\n",
              "</div>\n",
              "      <button class=\"colab-df-convert\" onclick=\"convertToInteractive('df-38b60c55-b520-4f3a-ade5-e8ce8e2e6bf9')\"\n",
              "              title=\"Convert this dataframe to an interactive table.\"\n",
              "              style=\"display:none;\">\n",
              "        \n",
              "  <svg xmlns=\"http://www.w3.org/2000/svg\" height=\"24px\"viewBox=\"0 0 24 24\"\n",
              "       width=\"24px\">\n",
              "    <path d=\"M0 0h24v24H0V0z\" fill=\"none\"/>\n",
              "    <path d=\"M18.56 5.44l.94 2.06.94-2.06 2.06-.94-2.06-.94-.94-2.06-.94 2.06-2.06.94zm-11 1L8.5 8.5l.94-2.06 2.06-.94-2.06-.94L8.5 2.5l-.94 2.06-2.06.94zm10 10l.94 2.06.94-2.06 2.06-.94-2.06-.94-.94-2.06-.94 2.06-2.06.94z\"/><path d=\"M17.41 7.96l-1.37-1.37c-.4-.4-.92-.59-1.43-.59-.52 0-1.04.2-1.43.59L10.3 9.45l-7.72 7.72c-.78.78-.78 2.05 0 2.83L4 21.41c.39.39.9.59 1.41.59.51 0 1.02-.2 1.41-.59l7.78-7.78 2.81-2.81c.8-.78.8-2.07 0-2.86zM5.41 20L4 18.59l7.72-7.72 1.47 1.35L5.41 20z\"/>\n",
              "  </svg>\n",
              "      </button>\n",
              "      \n",
              "  <style>\n",
              "    .colab-df-container {\n",
              "      display:flex;\n",
              "      flex-wrap:wrap;\n",
              "      gap: 12px;\n",
              "    }\n",
              "\n",
              "    .colab-df-convert {\n",
              "      background-color: #E8F0FE;\n",
              "      border: none;\n",
              "      border-radius: 50%;\n",
              "      cursor: pointer;\n",
              "      display: none;\n",
              "      fill: #1967D2;\n",
              "      height: 32px;\n",
              "      padding: 0 0 0 0;\n",
              "      width: 32px;\n",
              "    }\n",
              "\n",
              "    .colab-df-convert:hover {\n",
              "      background-color: #E2EBFA;\n",
              "      box-shadow: 0px 1px 2px rgba(60, 64, 67, 0.3), 0px 1px 3px 1px rgba(60, 64, 67, 0.15);\n",
              "      fill: #174EA6;\n",
              "    }\n",
              "\n",
              "    [theme=dark] .colab-df-convert {\n",
              "      background-color: #3B4455;\n",
              "      fill: #D2E3FC;\n",
              "    }\n",
              "\n",
              "    [theme=dark] .colab-df-convert:hover {\n",
              "      background-color: #434B5C;\n",
              "      box-shadow: 0px 1px 3px 1px rgba(0, 0, 0, 0.15);\n",
              "      filter: drop-shadow(0px 1px 2px rgba(0, 0, 0, 0.3));\n",
              "      fill: #FFFFFF;\n",
              "    }\n",
              "  </style>\n",
              "\n",
              "      <script>\n",
              "        const buttonEl =\n",
              "          document.querySelector('#df-38b60c55-b520-4f3a-ade5-e8ce8e2e6bf9 button.colab-df-convert');\n",
              "        buttonEl.style.display =\n",
              "          google.colab.kernel.accessAllowed ? 'block' : 'none';\n",
              "\n",
              "        async function convertToInteractive(key) {\n",
              "          const element = document.querySelector('#df-38b60c55-b520-4f3a-ade5-e8ce8e2e6bf9');\n",
              "          const dataTable =\n",
              "            await google.colab.kernel.invokeFunction('convertToInteractive',\n",
              "                                                     [key], {});\n",
              "          if (!dataTable) return;\n",
              "\n",
              "          const docLinkHtml = 'Like what you see? Visit the ' +\n",
              "            '<a target=\"_blank\" href=https://colab.research.google.com/notebooks/data_table.ipynb>data table notebook</a>'\n",
              "            + ' to learn more about interactive tables.';\n",
              "          element.innerHTML = '';\n",
              "          dataTable['output_type'] = 'display_data';\n",
              "          await google.colab.output.renderOutput(dataTable, element);\n",
              "          const docLink = document.createElement('div');\n",
              "          docLink.innerHTML = docLinkHtml;\n",
              "          element.appendChild(docLink);\n",
              "        }\n",
              "      </script>\n",
              "    </div>\n",
              "  </div>\n",
              "  "
            ]
          },
          "metadata": {},
          "execution_count": 153
        }
      ]
    },
    {
      "cell_type": "code",
      "source": [
        "print(ieeg_subset[ieeg_subset['Omission'] != 'Responded'].Subject.unique())"
      ],
      "metadata": {
        "id": "BrsVzwTNwNWZ",
        "outputId": "219dfa5b-b5cd-47f0-ebea-1fc51fc2982a",
        "colab": {
          "base_uri": "https://localhost:8080/"
        }
      },
      "execution_count": 154,
      "outputs": [
        {
          "output_type": "stream",
          "name": "stdout",
          "text": [
            "['D23' 'D26' 'D27' 'D28' 'D30' 'D31' 'D33' 'D34' 'D35' 'D36' 'D38' 'D39'\n",
            " 'D41' 'D42' 'D47' 'D48' 'D49' 'D53' 'D54' 'D55' 'D57' 'D59' 'D61' 'D63'\n",
            " 'D65' 'D68' 'D69' 'D70' 'D71' 'D72' 'D73' 'D77' 'D79']\n"
          ]
        }
      ]
    },
    {
      "cell_type": "markdown",
      "source": [
        "Creating additional variables"
      ],
      "metadata": {
        "id": "u1w16cYgwRuA"
      }
    },
    {
      "cell_type": "code",
      "source": [
        "# types in ProbeCategory column differ in case\n",
        "# here we make them lowrcase\n",
        "new_probe = []\n",
        "for i in ieeg_subset.ProbeCategory.values:\n",
        "  new_probe.append(i.lower())\n",
        "ieeg_subset['ProbeCategory'] = new_probe"
      ],
      "metadata": {
        "id": "f4bFTL-TwPnI",
        "outputId": "5f80715f-7e6b-4152-aa37-e1c50c094e69",
        "colab": {
          "base_uri": "https://localhost:8080/"
        }
      },
      "execution_count": 155,
      "outputs": [
        {
          "output_type": "stream",
          "name": "stderr",
          "text": [
            "<ipython-input-155-df1cb0339cf5>:6: SettingWithCopyWarning: \n",
            "A value is trying to be set on a copy of a slice from a DataFrame.\n",
            "Try using .loc[row_indexer,col_indexer] = value instead\n",
            "\n",
            "See the caveats in the documentation: https://pandas.pydata.org/pandas-docs/stable/user_guide/indexing.html#returning-a-view-versus-a-copy\n",
            "  ieeg_subset['ProbeCategory'] = new_probe\n"
          ]
        }
      ]
    },
    {
      "cell_type": "code",
      "source": [
        "ieeg_subset.head()"
      ],
      "metadata": {
        "id": "DAQaX7zYwkQ5",
        "outputId": "7b4888c3-8f89-4cd4-e1dc-03cda227f902",
        "colab": {
          "base_uri": "https://localhost:8080/",
          "height": 444
        }
      },
      "execution_count": 160,
      "outputs": [
        {
          "output_type": "execute_result",
          "data": {
            "text/plain": [
              "  Trial Subject block ProbeType probeSound_idx    ProbeTypeName  \\\n",
              "0     0     D23     1         2             29      in_sequence   \n",
              "1     1     D23     1         2              5      in_sequence   \n",
              "2     2     D23     1         2             16      in_sequence   \n",
              "3     3     D23     1         1             29  out_of_sequence   \n",
              "4     4     D23     1         1              9  out_of_sequence   \n",
              "\n",
              "  StimlusCategory  ReactionTime KeyCode Resp RespCorrect   Omission  \\\n",
              "0       Low Words      0.857518      37  Yes           1  Responded   \n",
              "1      High Words      1.339604      37  Yes           1  Responded   \n",
              "2  High Non-Words      1.045657      37  Yes           1  Responded   \n",
              "3      High Words      1.497001      39   No           1  Responded   \n",
              "4       Low Words      1.679783      39   No           1  Responded   \n",
              "\n",
              "    ProbeCategory              stimulusSounds_idx  \\\n",
              "0       low words                  [[29, 25, 30]]   \n",
              "1      high words        [[2, 5, 8, 4, 7, 10, 3]]   \n",
              "2  high non-words  [[19, 14, 18, 16, 20, 15, 17]]   \n",
              "3       low words  [[10, 2, 7, 9, 1, 8, 6, 5, 4]]   \n",
              "4      high words            [30, 24, 25, 29, 21]   \n",
              "\n",
              "                                 stimulusSounds_name probeSound_name  \n",
              "0        [[[wash.wav]], [[sure.wav]], [[youth.wav]]]        wash.wav  \n",
              "1  [[[debt.wav]], [[lair.wav]], [[seek.wav]], [[g...        lair.wav  \n",
              "2  [[[rihn.wav]], [[kehl.wav]], [[rehl.wav]], [[p...        paon.wav  \n",
              "3  [[[witch.wav]], [[debt.wav]], [[pawn.wav]], [[...        wash.wav  \n",
              "4  [[youth.wav], [noun.wav], [sure.wav], [wash.wa...        soar.wav  "
            ],
            "text/html": [
              "\n",
              "  <div id=\"df-15d8262f-71eb-4b69-aa8a-7e9dffe7a2bb\">\n",
              "    <div class=\"colab-df-container\">\n",
              "      <div>\n",
              "<style scoped>\n",
              "    .dataframe tbody tr th:only-of-type {\n",
              "        vertical-align: middle;\n",
              "    }\n",
              "\n",
              "    .dataframe tbody tr th {\n",
              "        vertical-align: top;\n",
              "    }\n",
              "\n",
              "    .dataframe thead th {\n",
              "        text-align: right;\n",
              "    }\n",
              "</style>\n",
              "<table border=\"1\" class=\"dataframe\">\n",
              "  <thead>\n",
              "    <tr style=\"text-align: right;\">\n",
              "      <th></th>\n",
              "      <th>Trial</th>\n",
              "      <th>Subject</th>\n",
              "      <th>block</th>\n",
              "      <th>ProbeType</th>\n",
              "      <th>probeSound_idx</th>\n",
              "      <th>ProbeTypeName</th>\n",
              "      <th>StimlusCategory</th>\n",
              "      <th>ReactionTime</th>\n",
              "      <th>KeyCode</th>\n",
              "      <th>Resp</th>\n",
              "      <th>RespCorrect</th>\n",
              "      <th>Omission</th>\n",
              "      <th>ProbeCategory</th>\n",
              "      <th>stimulusSounds_idx</th>\n",
              "      <th>stimulusSounds_name</th>\n",
              "      <th>probeSound_name</th>\n",
              "    </tr>\n",
              "  </thead>\n",
              "  <tbody>\n",
              "    <tr>\n",
              "      <th>0</th>\n",
              "      <td>0</td>\n",
              "      <td>D23</td>\n",
              "      <td>1</td>\n",
              "      <td>2</td>\n",
              "      <td>29</td>\n",
              "      <td>in_sequence</td>\n",
              "      <td>Low Words</td>\n",
              "      <td>0.857518</td>\n",
              "      <td>37</td>\n",
              "      <td>Yes</td>\n",
              "      <td>1</td>\n",
              "      <td>Responded</td>\n",
              "      <td>low words</td>\n",
              "      <td>[[29, 25, 30]]</td>\n",
              "      <td>[[[wash.wav]], [[sure.wav]], [[youth.wav]]]</td>\n",
              "      <td>wash.wav</td>\n",
              "    </tr>\n",
              "    <tr>\n",
              "      <th>1</th>\n",
              "      <td>1</td>\n",
              "      <td>D23</td>\n",
              "      <td>1</td>\n",
              "      <td>2</td>\n",
              "      <td>5</td>\n",
              "      <td>in_sequence</td>\n",
              "      <td>High Words</td>\n",
              "      <td>1.339604</td>\n",
              "      <td>37</td>\n",
              "      <td>Yes</td>\n",
              "      <td>1</td>\n",
              "      <td>Responded</td>\n",
              "      <td>high words</td>\n",
              "      <td>[[2, 5, 8, 4, 7, 10, 3]]</td>\n",
              "      <td>[[[debt.wav]], [[lair.wav]], [[seek.wav]], [[g...</td>\n",
              "      <td>lair.wav</td>\n",
              "    </tr>\n",
              "    <tr>\n",
              "      <th>2</th>\n",
              "      <td>2</td>\n",
              "      <td>D23</td>\n",
              "      <td>1</td>\n",
              "      <td>2</td>\n",
              "      <td>16</td>\n",
              "      <td>in_sequence</td>\n",
              "      <td>High Non-Words</td>\n",
              "      <td>1.045657</td>\n",
              "      <td>37</td>\n",
              "      <td>Yes</td>\n",
              "      <td>1</td>\n",
              "      <td>Responded</td>\n",
              "      <td>high non-words</td>\n",
              "      <td>[[19, 14, 18, 16, 20, 15, 17]]</td>\n",
              "      <td>[[[rihn.wav]], [[kehl.wav]], [[rehl.wav]], [[p...</td>\n",
              "      <td>paon.wav</td>\n",
              "    </tr>\n",
              "    <tr>\n",
              "      <th>3</th>\n",
              "      <td>3</td>\n",
              "      <td>D23</td>\n",
              "      <td>1</td>\n",
              "      <td>1</td>\n",
              "      <td>29</td>\n",
              "      <td>out_of_sequence</td>\n",
              "      <td>High Words</td>\n",
              "      <td>1.497001</td>\n",
              "      <td>39</td>\n",
              "      <td>No</td>\n",
              "      <td>1</td>\n",
              "      <td>Responded</td>\n",
              "      <td>low words</td>\n",
              "      <td>[[10, 2, 7, 9, 1, 8, 6, 5, 4]]</td>\n",
              "      <td>[[[witch.wav]], [[debt.wav]], [[pawn.wav]], [[...</td>\n",
              "      <td>wash.wav</td>\n",
              "    </tr>\n",
              "    <tr>\n",
              "      <th>4</th>\n",
              "      <td>4</td>\n",
              "      <td>D23</td>\n",
              "      <td>1</td>\n",
              "      <td>1</td>\n",
              "      <td>9</td>\n",
              "      <td>out_of_sequence</td>\n",
              "      <td>Low Words</td>\n",
              "      <td>1.679783</td>\n",
              "      <td>39</td>\n",
              "      <td>No</td>\n",
              "      <td>1</td>\n",
              "      <td>Responded</td>\n",
              "      <td>high words</td>\n",
              "      <td>[30, 24, 25, 29, 21]</td>\n",
              "      <td>[[youth.wav], [noun.wav], [sure.wav], [wash.wa...</td>\n",
              "      <td>soar.wav</td>\n",
              "    </tr>\n",
              "  </tbody>\n",
              "</table>\n",
              "</div>\n",
              "      <button class=\"colab-df-convert\" onclick=\"convertToInteractive('df-15d8262f-71eb-4b69-aa8a-7e9dffe7a2bb')\"\n",
              "              title=\"Convert this dataframe to an interactive table.\"\n",
              "              style=\"display:none;\">\n",
              "        \n",
              "  <svg xmlns=\"http://www.w3.org/2000/svg\" height=\"24px\"viewBox=\"0 0 24 24\"\n",
              "       width=\"24px\">\n",
              "    <path d=\"M0 0h24v24H0V0z\" fill=\"none\"/>\n",
              "    <path d=\"M18.56 5.44l.94 2.06.94-2.06 2.06-.94-2.06-.94-.94-2.06-.94 2.06-2.06.94zm-11 1L8.5 8.5l.94-2.06 2.06-.94-2.06-.94L8.5 2.5l-.94 2.06-2.06.94zm10 10l.94 2.06.94-2.06 2.06-.94-2.06-.94-.94-2.06-.94 2.06-2.06.94z\"/><path d=\"M17.41 7.96l-1.37-1.37c-.4-.4-.92-.59-1.43-.59-.52 0-1.04.2-1.43.59L10.3 9.45l-7.72 7.72c-.78.78-.78 2.05 0 2.83L4 21.41c.39.39.9.59 1.41.59.51 0 1.02-.2 1.41-.59l7.78-7.78 2.81-2.81c.8-.78.8-2.07 0-2.86zM5.41 20L4 18.59l7.72-7.72 1.47 1.35L5.41 20z\"/>\n",
              "  </svg>\n",
              "      </button>\n",
              "      \n",
              "  <style>\n",
              "    .colab-df-container {\n",
              "      display:flex;\n",
              "      flex-wrap:wrap;\n",
              "      gap: 12px;\n",
              "    }\n",
              "\n",
              "    .colab-df-convert {\n",
              "      background-color: #E8F0FE;\n",
              "      border: none;\n",
              "      border-radius: 50%;\n",
              "      cursor: pointer;\n",
              "      display: none;\n",
              "      fill: #1967D2;\n",
              "      height: 32px;\n",
              "      padding: 0 0 0 0;\n",
              "      width: 32px;\n",
              "    }\n",
              "\n",
              "    .colab-df-convert:hover {\n",
              "      background-color: #E2EBFA;\n",
              "      box-shadow: 0px 1px 2px rgba(60, 64, 67, 0.3), 0px 1px 3px 1px rgba(60, 64, 67, 0.15);\n",
              "      fill: #174EA6;\n",
              "    }\n",
              "\n",
              "    [theme=dark] .colab-df-convert {\n",
              "      background-color: #3B4455;\n",
              "      fill: #D2E3FC;\n",
              "    }\n",
              "\n",
              "    [theme=dark] .colab-df-convert:hover {\n",
              "      background-color: #434B5C;\n",
              "      box-shadow: 0px 1px 3px 1px rgba(0, 0, 0, 0.15);\n",
              "      filter: drop-shadow(0px 1px 2px rgba(0, 0, 0, 0.3));\n",
              "      fill: #FFFFFF;\n",
              "    }\n",
              "  </style>\n",
              "\n",
              "      <script>\n",
              "        const buttonEl =\n",
              "          document.querySelector('#df-15d8262f-71eb-4b69-aa8a-7e9dffe7a2bb button.colab-df-convert');\n",
              "        buttonEl.style.display =\n",
              "          google.colab.kernel.accessAllowed ? 'block' : 'none';\n",
              "\n",
              "        async function convertToInteractive(key) {\n",
              "          const element = document.querySelector('#df-15d8262f-71eb-4b69-aa8a-7e9dffe7a2bb');\n",
              "          const dataTable =\n",
              "            await google.colab.kernel.invokeFunction('convertToInteractive',\n",
              "                                                     [key], {});\n",
              "          if (!dataTable) return;\n",
              "\n",
              "          const docLinkHtml = 'Like what you see? Visit the ' +\n",
              "            '<a target=\"_blank\" href=https://colab.research.google.com/notebooks/data_table.ipynb>data table notebook</a>'\n",
              "            + ' to learn more about interactive tables.';\n",
              "          element.innerHTML = '';\n",
              "          dataTable['output_type'] = 'display_data';\n",
              "          await google.colab.output.renderOutput(dataTable, element);\n",
              "          const docLink = document.createElement('div');\n",
              "          docLink.innerHTML = docLinkHtml;\n",
              "          element.appendChild(docLink);\n",
              "        }\n",
              "      </script>\n",
              "    </div>\n",
              "  </div>\n",
              "  "
            ]
          },
          "metadata": {},
          "execution_count": 160
        }
      ]
    },
    {
      "cell_type": "code",
      "source": [
        "# making values in df more 'handy'\n",
        "whole_list = ieeg_subset['stimulusSounds_idx'].values\n",
        "new_sound_idx = []\n",
        "for i in whole_list:\n",
        "  if type(i) is list:\n",
        "    new_sound_idx.append(i)\n",
        "  elif type(i) is np.ndarray:\n",
        "    new_sound_idx.append(i[0].tolist())\n",
        "  else:\n",
        "    print(type(i))\n",
        "    print(len(new_sound_idx))\n",
        "    break"
      ],
      "metadata": {
        "id": "Umpwza9YwUUg"
      },
      "execution_count": 161,
      "outputs": []
    },
    {
      "cell_type": "code",
      "source": [
        "# checking the length of word lists presented\n",
        "compare = []\n",
        "for i in new_sound_idx:\n",
        "  length = len(i)\n",
        "  if length not in compare:\n",
        "    compare.append(length)\n",
        "print(compare)"
      ],
      "metadata": {
        "id": "G2m2P0B5woGB",
        "outputId": "9f9ec19b-d640-4493-cf9d-7bd35b93036e",
        "colab": {
          "base_uri": "https://localhost:8080/"
        }
      },
      "execution_count": 162,
      "outputs": [
        {
          "output_type": "stream",
          "name": "stdout",
          "text": [
            "[3, 7, 9, 5]\n"
          ]
        }
      ]
    },
    {
      "cell_type": "code",
      "source": [
        "# calculating relative position of the word in the list\n",
        "# pos for only in seqence trials: probe sound index and stimulus sound index\n",
        "# beginning middle or end\n",
        "positions = [] # for the new 'position' column in df\n",
        "# 1 - beginning, 2 - middle, 3 - end\n",
        "ind = ieeg_subset['probeSound_idx'].values\n",
        "in_out = ieeg_subset['ProbeTypeName'].values\n",
        "for i in range(0, len(ind)):\n",
        "  if in_out[i] == 'in_sequence': # if it is in sequence\n",
        "    if ind[i] in new_sound_idx[i]:\n",
        "      # for length of the list 3\n",
        "      if len(new_sound_idx[i]) == 3:\n",
        "        if new_sound_idx[i].index(ind[i]) == 0:\n",
        "          positions.append(1) # beginning \n",
        "        elif new_sound_idx[i].index(ind[i]) == 1:\n",
        "          positions.append(2) # middle\n",
        "        elif new_sound_idx[i].index(ind[i]) == 2:\n",
        "          positions.append(3) # end\n",
        "      \n",
        "      # for length of the list 5\n",
        "      ## revise!\n",
        "      elif len(new_sound_idx[i]) == 5:\n",
        "        if new_sound_idx[i].index(ind[i]) in [0, 1]:\n",
        "          positions.append(1) # beginning \n",
        "        elif new_sound_idx[i].index(ind[i]) == 2:\n",
        "          positions.append(2) # middle\n",
        "        elif new_sound_idx[i].index(ind[i]) in [3, 4]:\n",
        "          positions.append(3) # end\n",
        "\n",
        "      # for length of the list 7\n",
        "      elif len(new_sound_idx[i]) == 7:\n",
        "        if new_sound_idx[i].index(ind[i]) in [0, 1]:\n",
        "          positions.append(1) # beginning \n",
        "        elif new_sound_idx[i].index(ind[i]) in [2, 3, 4]:\n",
        "          positions.append(2) # middle\n",
        "        elif new_sound_idx[i].index(ind[i]) in [5, 6]:\n",
        "          positions.append(3) # end\n",
        "      \n",
        "      # for length of the list 9\n",
        "      elif len(new_sound_idx[i]) == 9:\n",
        "        if new_sound_idx[i].index(ind[i]) in [0, 1, 2]:\n",
        "          positions.append(1) # beginning \n",
        "        elif new_sound_idx[i].index(ind[i]) in [3, 4, 5]:\n",
        "          positions.append(2) # middle\n",
        "        elif new_sound_idx[i].index(ind[i]) in [6, 7, 8]:\n",
        "          positions.append(3) # end\n",
        "    else:\n",
        "      print('Check', i)\n",
        "      break  \n",
        "  elif in_out[i] == 'out_of_sequence':\n",
        "    positions.append(0) # if it is out of sequence it is not in the list\n",
        "  else:\n",
        "    print('Check', i)\n",
        "    break"
      ],
      "metadata": {
        "id": "fX56Rd90wp-D"
      },
      "execution_count": 163,
      "outputs": []
    },
    {
      "cell_type": "code",
      "source": [
        "length = []\n",
        "for i in ieeg_subset.stimulusSounds_idx:\n",
        "  length.append(len(i))"
      ],
      "metadata": {
        "id": "1BLid2itwswQ"
      },
      "execution_count": 164,
      "outputs": []
    },
    {
      "cell_type": "code",
      "source": [
        "ieeg_subset['Position'] = positions\n",
        "ieeg_subset['Length'] = length"
      ],
      "metadata": {
        "id": "8I41qy3lwupA",
        "outputId": "87c09fc9-604d-4e85-e800-9242e2da87df",
        "colab": {
          "base_uri": "https://localhost:8080/"
        }
      },
      "execution_count": 165,
      "outputs": [
        {
          "output_type": "stream",
          "name": "stderr",
          "text": [
            "<ipython-input-165-b7de9913c462>:1: SettingWithCopyWarning: \n",
            "A value is trying to be set on a copy of a slice from a DataFrame.\n",
            "Try using .loc[row_indexer,col_indexer] = value instead\n",
            "\n",
            "See the caveats in the documentation: https://pandas.pydata.org/pandas-docs/stable/user_guide/indexing.html#returning-a-view-versus-a-copy\n",
            "  ieeg_subset['Position'] = positions\n",
            "<ipython-input-165-b7de9913c462>:2: SettingWithCopyWarning: \n",
            "A value is trying to be set on a copy of a slice from a DataFrame.\n",
            "Try using .loc[row_indexer,col_indexer] = value instead\n",
            "\n",
            "See the caveats in the documentation: https://pandas.pydata.org/pandas-docs/stable/user_guide/indexing.html#returning-a-view-versus-a-copy\n",
            "  ieeg_subset['Length'] = length\n"
          ]
        }
      ]
    },
    {
      "cell_type": "code",
      "source": [
        "lex = []\n",
        "phon = []\n",
        "for i in ieeg_subset.ProbeCategory.values:\n",
        "  if 'non-words' in i: # non - words = 0, words = 0\n",
        "    lex.append(0)\n",
        "  elif 'words' in i:\n",
        "    lex.append(1)\n",
        "for i in ieeg_subset.ProbeCategory.values:\n",
        "  if 'low' in i: # high = 0 low = 1 \n",
        "    phon.append(1)\n",
        "  elif 'high' in i:\n",
        "    phon.append(0)\n",
        "print(len(lex))\n",
        "print(len(phon))"
      ],
      "metadata": {
        "id": "azVbly7hwurq",
        "outputId": "c199625f-fce4-47cc-ba5f-6a6dd146e74c",
        "colab": {
          "base_uri": "https://localhost:8080/"
        }
      },
      "execution_count": 166,
      "outputs": [
        {
          "output_type": "stream",
          "name": "stdout",
          "text": [
            "5460\n",
            "5460\n"
          ]
        }
      ]
    },
    {
      "cell_type": "code",
      "source": [
        "ieeg_subset['Lex'] = lex\n",
        "ieeg_subset['Phono'] = phon"
      ],
      "metadata": {
        "id": "umZ3qZ7rwuuX",
        "outputId": "7a68f5a4-6473-4e81-a928-819c62c29444",
        "colab": {
          "base_uri": "https://localhost:8080/"
        }
      },
      "execution_count": 167,
      "outputs": [
        {
          "output_type": "stream",
          "name": "stderr",
          "text": [
            "<ipython-input-167-aefbe34290ea>:1: SettingWithCopyWarning: \n",
            "A value is trying to be set on a copy of a slice from a DataFrame.\n",
            "Try using .loc[row_indexer,col_indexer] = value instead\n",
            "\n",
            "See the caveats in the documentation: https://pandas.pydata.org/pandas-docs/stable/user_guide/indexing.html#returning-a-view-versus-a-copy\n",
            "  ieeg_subset['Lex'] = lex\n",
            "<ipython-input-167-aefbe34290ea>:2: SettingWithCopyWarning: \n",
            "A value is trying to be set on a copy of a slice from a DataFrame.\n",
            "Try using .loc[row_indexer,col_indexer] = value instead\n",
            "\n",
            "See the caveats in the documentation: https://pandas.pydata.org/pandas-docs/stable/user_guide/indexing.html#returning-a-view-versus-a-copy\n",
            "  ieeg_subset['Phono'] = phon\n"
          ]
        }
      ]
    },
    {
      "cell_type": "markdown",
      "source": [
        "## Stats on iEEG"
      ],
      "metadata": {
        "id": "qD8N8V1Gy3mG"
      }
    },
    {
      "cell_type": "code",
      "source": [
        "print('The shape of the iEEG dataset with \"No Response\" trials', ieeg_subset.shape)\n",
        "print('The accuracy', ieeg_subset.RespCorrect.mean())\n",
        "print('The shape of the iEEG dataset without \"No Response\" trials', ieeg_subset[ieeg_subset['Resp'] != 'No Response'].shape)\n",
        "print('The accuracy', ieeg_subset[ieeg_subset['Resp'] != 'No Response'].RespCorrect.mean())"
      ],
      "metadata": {
        "id": "SYdXfKeGw5KX",
        "outputId": "2e11b6c8-d93a-4e28-a33a-195463e3e821",
        "colab": {
          "base_uri": "https://localhost:8080/"
        }
      },
      "execution_count": 187,
      "outputs": [
        {
          "output_type": "stream",
          "name": "stdout",
          "text": [
            "The shape of the iEEG dataset with \"No Response\" trials (5460, 20)\n",
            "The accuracy 0.7882783882783883\n",
            "The shape of the iEEG dataset without \"No Response\" trials (5230, 20)\n",
            "The accuracy 0.822944550669216\n"
          ]
        }
      ]
    },
    {
      "cell_type": "code",
      "source": [
        "checkset = ieeg_subset.groupby(['Subject'])[['RespCorrect']].apply(\n",
        "    lambda x: x.sum()/x.count()\n",
        ")"
      ],
      "metadata": {
        "id": "0DE20ne9zBEO"
      },
      "execution_count": 190,
      "outputs": []
    },
    {
      "cell_type": "code",
      "source": [
        "options_drop1 = checkset[checkset['RespCorrect'] < 0.75].index\n",
        "new1 = checkset.reset_index()\n",
        "print('The subjects with accuracy less than 75 %')\n",
        "print('The dataset with \"No response\" trials')\n",
        "print(options_drop1)\n",
        "x1 = []\n",
        "for i in new1.Subject.values:\n",
        "  for j in options_drop1:\n",
        "    if i == j:\n",
        "      x1.append(new1.loc[new1['Subject'] == i][['RespCorrect']].values[0][0])\n",
        "print(x1)\n",
        "ieeg1 = ieeg[\n",
        "                        (ieeg['Subject'] != 'D30') &\n",
        "                        (ieeg['Subject'] != 'D33') &\n",
        "                        (ieeg['Subject'] != 'D49') &\n",
        "                        (ieeg['Subject'] != 'D54') &\n",
        "                        (ieeg['Subject'] != 'D61') &\n",
        "                        (ieeg['Subject'] != 'D65') &\n",
        "                        (ieeg['Subject'] != 'D70') &\n",
        "                        (ieeg['Subject'] != 'D77')\n",
        "                        ]\n",
        "print('Poor performers', len(options_drop1))\n",
        "print('Accuracy without poor performers', ieeg1.RespCorrect.mean())\n",
        "print('')\n",
        "options_drop1 = checkset[checkset['RespCorrect'] < 0.70].index\n",
        "new2 = checkset.reset_index()\n",
        "print('The subjects with accuracy less than 70 %')\n",
        "print('The dataset with \"No response\" trials')\n",
        "print(options_drop1)\n",
        "x1 = []\n",
        "for i in new2.Subject.values:\n",
        "  for j in options_drop1:\n",
        "    if i == j:\n",
        "      x1.append(new2.loc[new2['Subject'] == i][['RespCorrect']].values[0][0])\n",
        "print(x1)\n",
        "ieeg2 = ieeg[\n",
        "                        (ieeg['Subject'] != 'D33') &\n",
        "                        (ieeg['Subject'] != 'D49') &\n",
        "                        (ieeg['Subject'] != 'D54') &\n",
        "                        (ieeg['Subject'] != 'D61') &\n",
        "                        (ieeg['Subject'] != 'D65')                       \n",
        "                        ]\n",
        "print('Poor performers', len(options_drop1))\n",
        "print('Accuracy without poor performers', ieeg2.RespCorrect.mean())\n",
        "print('')"
      ],
      "metadata": {
        "colab": {
          "base_uri": "https://localhost:8080/"
        },
        "id": "23zLUdofZckD",
        "outputId": "5bee2ed8-a3fc-4f6f-f8a3-4470e1c9c7ef"
      },
      "execution_count": 194,
      "outputs": [
        {
          "output_type": "stream",
          "name": "stdout",
          "text": [
            "The subjects with accuracy less than 75 %\n",
            "The dataset with \"No response\" trials\n",
            "Index(['D30', 'D33', 'D49', 'D54', 'D61', 'D65', 'D70', 'D77'], dtype='object', name='Subject')\n",
            "[0.70625, 0.6310160427807486, 0.61875, 0.43125, 0.6125, 0.65, 0.71875, 0.725]\n",
            "Poor performers 8\n",
            "Accuracy without poor performers 0.8360221526607272\n",
            "\n",
            "The subjects with accuracy less than 70 %\n",
            "The dataset with \"No response\" trials\n",
            "Index(['D33', 'D49', 'D54', 'D61', 'D65'], dtype='object', name='Subject')\n",
            "[0.6310160427807486, 0.61875, 0.43125, 0.6125, 0.65]\n",
            "Poor performers 5\n",
            "Accuracy without poor performers 0.8236563781567019\n",
            "\n"
          ]
        }
      ]
    },
    {
      "cell_type": "code",
      "source": [
        "ieeg2.shape"
      ],
      "metadata": {
        "id": "BDQYYpfWzRsF",
        "outputId": "3c429de5-0285-469a-f776-9307a9182c13",
        "colab": {
          "base_uri": "https://localhost:8080/"
        }
      },
      "execution_count": 195,
      "outputs": [
        {
          "output_type": "execute_result",
          "data": {
            "text/plain": [
              "(4633, 24)"
            ]
          },
          "metadata": {},
          "execution_count": 195
        }
      ]
    },
    {
      "cell_type": "code",
      "source": [
        "print(\n",
        "    'No response trials in the dataset: ',\n",
        "    ieeg2[ieeg2['Resp'] == 'No Response'].shape[0]\n",
        ")"
      ],
      "metadata": {
        "id": "ZXc4GxM1zlMi",
        "outputId": "e9f22892-2a24-49d2-aea3-18ed1e90cc16",
        "colab": {
          "base_uri": "https://localhost:8080/"
        }
      },
      "execution_count": 196,
      "outputs": [
        {
          "output_type": "stream",
          "name": "stdout",
          "text": [
            "No response trials in the dataset:  109\n"
          ]
        }
      ]
    },
    {
      "cell_type": "markdown",
      "source": [
        "Looking into outliers"
      ],
      "metadata": {
        "id": "3nrz0OIN0D_h"
      }
    },
    {
      "cell_type": "code",
      "source": [
        "sns.distplot(ieeg2[ieeg2['Resp'] != 'No Response'][['ReactionTime']].values);"
      ],
      "metadata": {
        "id": "UPWjumfCzlSB",
        "outputId": "b62f8128-203d-4627-cdc4-3e61fbd875e1",
        "colab": {
          "base_uri": "https://localhost:8080/",
          "height": 325
        }
      },
      "execution_count": 197,
      "outputs": [
        {
          "output_type": "stream",
          "name": "stderr",
          "text": [
            "/usr/local/lib/python3.8/dist-packages/seaborn/distributions.py:2619: FutureWarning: `distplot` is a deprecated function and will be removed in a future version. Please adapt your code to use either `displot` (a figure-level function with similar flexibility) or `histplot` (an axes-level function for histograms).\n",
            "  warnings.warn(msg, FutureWarning)\n"
          ]
        },
        {
          "output_type": "display_data",
          "data": {
            "text/plain": [
              "<Figure size 432x288 with 1 Axes>"
            ],
            "image/png": "[encoded data removed]"
          },
          "metadata": {
            "needs_background": "light"
          }
        }
      ]
    },
    {
      "cell_type": "code",
      "source": [
        "print('In seconds')\n",
        "print(\n",
        "    'mean', ieeg2[ieeg2['Resp'] != 'No Response'].ReactionTime.mean(),\n",
        "    'max', ieeg2[ieeg2['Resp'] != 'No Response'].ReactionTime.max(),\n",
        "    'min', ieeg2[ieeg2['Resp'] != 'No Response'].ReactionTime.min())"
      ],
      "metadata": {
        "id": "ifJrF92K0Idp",
        "outputId": "2949c45a-a77d-4912-dbd7-fa940203b71f",
        "colab": {
          "base_uri": "https://localhost:8080/"
        }
      },
      "execution_count": 198,
      "outputs": [
        {
          "output_type": "stream",
          "name": "stdout",
          "text": [
            "In seconds\n",
            "mean 1.1947806766927411 max 26.115354993380606 min 0.016333818435668945\n"
          ]
        }
      ]
    },
    {
      "cell_type": "code",
      "source": [
        "# kicking out all the trials (13) that are below 150 msec, two of the are no response trials\n",
        "ieeg_no_outliers = ieeg2[ieeg2['ReactionTime'] > 0.15]"
      ],
      "metadata": {
        "id": "Nzufnt780IgQ"
      },
      "execution_count": 199,
      "outputs": []
    },
    {
      "cell_type": "code",
      "source": [
        "# kicking out the trial of 26 sec, only 1 \n",
        "ieeg_no_outliers = ieeg_no_outliers[ieeg_no_outliers['ReactionTime'] < 25]"
      ],
      "metadata": {
        "id": "X3jAiJMW0IiQ"
      },
      "execution_count": 200,
      "outputs": []
    },
    {
      "cell_type": "code",
      "source": [
        "for i in ieeg_no_outliers.Subject.unique():\n",
        "  subset = ieeg_no_outliers[ieeg_no_outliers['Subject'] == i]\n",
        "  pl.figure()\n",
        "  sns.distplot(subset[subset['Resp'] != ' No Response'].ReactionTime)\n",
        "  pl.title('RT for ' + i);\n",
        "  print(i, 'Max', subset[subset['Resp'] != ' No Response'].ReactionTime.max(), 'Min', subset[subset['Resp'] != ' No Response'].ReactionTime.min())"
      ],
      "metadata": {
        "id": "LbKNk2lj0Ikn",
        "outputId": "31c8f99f-bcbd-4aac-900b-7f29c7ce824d",
        "colab": {
          "base_uri": "https://localhost:8080/",
          "height": 1000
        }
      },
      "execution_count": 201,
      "outputs": [
        {
          "output_type": "stream",
          "name": "stderr",
          "text": [
            "/usr/local/lib/python3.8/dist-packages/seaborn/distributions.py:2619: FutureWarning: `distplot` is a deprecated function and will be removed in a future version. Please adapt your code to use either `displot` (a figure-level function with similar flexibility) or `histplot` (an axes-level function for histograms).\n",
            "  warnings.warn(msg, FutureWarning)\n"
          ]
        },
        {
          "output_type": "stream",
          "name": "stdout",
          "text": [
            "D23 Max 2.5044814660213888 Min 0.5284106724429876\n"
          ]
        },
        {
          "output_type": "stream",
          "name": "stderr",
          "text": [
            "/usr/local/lib/python3.8/dist-packages/seaborn/distributions.py:2619: FutureWarning: `distplot` is a deprecated function and will be removed in a future version. Please adapt your code to use either `displot` (a figure-level function with similar flexibility) or `histplot` (an axes-level function for histograms).\n",
            "  warnings.warn(msg, FutureWarning)\n"
          ]
        },
        {
          "output_type": "stream",
          "name": "stdout",
          "text": [
            "D26 Max 2.248248639079975 Min 0.7032921151840128\n"
          ]
        },
        {
          "output_type": "stream",
          "name": "stderr",
          "text": [
            "/usr/local/lib/python3.8/dist-packages/seaborn/distributions.py:2619: FutureWarning: `distplot` is a deprecated function and will be removed in a future version. Please adapt your code to use either `displot` (a figure-level function with similar flexibility) or `histplot` (an axes-level function for histograms).\n",
            "  warnings.warn(msg, FutureWarning)\n"
          ]
        },
        {
          "output_type": "stream",
          "name": "stdout",
          "text": [
            "D27 Max 2.5040557351894677 Min 0.8089978282805532\n"
          ]
        },
        {
          "output_type": "stream",
          "name": "stderr",
          "text": [
            "/usr/local/lib/python3.8/dist-packages/seaborn/distributions.py:2619: FutureWarning: `distplot` is a deprecated function and will be removed in a future version. Please adapt your code to use either `displot` (a figure-level function with similar flexibility) or `histplot` (an axes-level function for histograms).\n",
            "  warnings.warn(msg, FutureWarning)\n"
          ]
        },
        {
          "output_type": "stream",
          "name": "stdout",
          "text": [
            "D28 Max 2.5024784363340586 Min 0.5284106724429876\n",
            "D29 Max 2.390633505769074 Min 0.7759903273545206\n"
          ]
        },
        {
          "output_type": "stream",
          "name": "stderr",
          "text": [
            "/usr/local/lib/python3.8/dist-packages/seaborn/distributions.py:2619: FutureWarning: `distplot` is a deprecated function and will be removed in a future version. Please adapt your code to use either `displot` (a figure-level function with similar flexibility) or `histplot` (an axes-level function for histograms).\n",
            "  warnings.warn(msg, FutureWarning)\n",
            "/usr/local/lib/python3.8/dist-packages/seaborn/distributions.py:2619: FutureWarning: `distplot` is a deprecated function and will be removed in a future version. Please adapt your code to use either `displot` (a figure-level function with similar flexibility) or `histplot` (an axes-level function for histograms).\n",
            "  warnings.warn(msg, FutureWarning)\n"
          ]
        },
        {
          "output_type": "stream",
          "name": "stdout",
          "text": [
            "D30 Max 2.5042315841419622 Min 0.6001890921761515\n",
            "D31 Max 2.5029665574547835 Min 1.010608747776132\n"
          ]
        },
        {
          "output_type": "stream",
          "name": "stderr",
          "text": [
            "/usr/local/lib/python3.8/dist-packages/seaborn/distributions.py:2619: FutureWarning: `distplot` is a deprecated function and will be removed in a future version. Please adapt your code to use either `displot` (a figure-level function with similar flexibility) or `histplot` (an axes-level function for histograms).\n",
            "  warnings.warn(msg, FutureWarning)\n",
            "/usr/local/lib/python3.8/dist-packages/seaborn/distributions.py:2619: FutureWarning: `distplot` is a deprecated function and will be removed in a future version. Please adapt your code to use either `displot` (a figure-level function with similar flexibility) or `histplot` (an axes-level function for histograms).\n",
            "  warnings.warn(msg, FutureWarning)\n"
          ]
        },
        {
          "output_type": "stream",
          "name": "stdout",
          "text": [
            "D34 Max 2.5029558130481746 Min 0.33149156073341146\n"
          ]
        },
        {
          "output_type": "stream",
          "name": "stderr",
          "text": [
            "/usr/local/lib/python3.8/dist-packages/seaborn/distributions.py:2619: FutureWarning: `distplot` is a deprecated function and will be removed in a future version. Please adapt your code to use either `displot` (a figure-level function with similar flexibility) or `histplot` (an axes-level function for histograms).\n",
            "  warnings.warn(msg, FutureWarning)\n"
          ]
        },
        {
          "output_type": "stream",
          "name": "stdout",
          "text": [
            "D35 Max 2.50634925061604 Min 0.42535340442555025\n",
            "D36 Max 2.502573014283712 Min 0.5638364125347834\n",
            "D38 Max 2.5024061138974503 Min 0.6113873518770561\n",
            "D39 Max 2.5027801612159237 Min 0.7234540177159943\n"
          ]
        },
        {
          "output_type": "stream",
          "name": "stderr",
          "text": [
            "/usr/local/lib/python3.8/dist-packages/seaborn/distributions.py:2619: FutureWarning: `distplot` is a deprecated function and will be removed in a future version. Please adapt your code to use either `displot` (a figure-level function with similar flexibility) or `histplot` (an axes-level function for histograms).\n",
            "  warnings.warn(msg, FutureWarning)\n",
            "/usr/local/lib/python3.8/dist-packages/seaborn/distributions.py:2619: FutureWarning: `distplot` is a deprecated function and will be removed in a future version. Please adapt your code to use either `displot` (a figure-level function with similar flexibility) or `histplot` (an axes-level function for histograms).\n",
            "  warnings.warn(msg, FutureWarning)\n",
            "/usr/local/lib/python3.8/dist-packages/seaborn/distributions.py:2619: FutureWarning: `distplot` is a deprecated function and will be removed in a future version. Please adapt your code to use either `displot` (a figure-level function with similar flexibility) or `histplot` (an axes-level function for histograms).\n",
            "  warnings.warn(msg, FutureWarning)\n",
            "/usr/local/lib/python3.8/dist-packages/seaborn/distributions.py:2619: FutureWarning: `distplot` is a deprecated function and will be removed in a future version. Please adapt your code to use either `displot` (a figure-level function with similar flexibility) or `histplot` (an axes-level function for histograms).\n",
            "  warnings.warn(msg, FutureWarning)\n"
          ]
        },
        {
          "output_type": "stream",
          "name": "stdout",
          "text": [
            "D41 Max 2.5019888426177204 Min 0.7655674288980663\n",
            "D42 Max 2.5025993096642196 Min 0.8343088356778026\n",
            "D47 Max 2.503154328718665 Min 0.9056599745672429\n",
            "D48 Max 2.50514738484344 Min 0.6624780359707074\n"
          ]
        },
        {
          "output_type": "stream",
          "name": "stderr",
          "text": [
            "/usr/local/lib/python3.8/dist-packages/seaborn/distributions.py:2619: FutureWarning: `distplot` is a deprecated function and will be removed in a future version. Please adapt your code to use either `displot` (a figure-level function with similar flexibility) or `histplot` (an axes-level function for histograms).\n",
            "  warnings.warn(msg, FutureWarning)\n",
            "/usr/local/lib/python3.8/dist-packages/seaborn/distributions.py:2619: FutureWarning: `distplot` is a deprecated function and will be removed in a future version. Please adapt your code to use either `displot` (a figure-level function with similar flexibility) or `histplot` (an axes-level function for histograms).\n",
            "  warnings.warn(msg, FutureWarning)\n",
            "/usr/local/lib/python3.8/dist-packages/seaborn/distributions.py:2619: FutureWarning: `distplot` is a deprecated function and will be removed in a future version. Please adapt your code to use either `displot` (a figure-level function with similar flexibility) or `histplot` (an axes-level function for histograms).\n",
            "  warnings.warn(msg, FutureWarning)\n",
            "/usr/local/lib/python3.8/dist-packages/seaborn/distributions.py:2619: FutureWarning: `distplot` is a deprecated function and will be removed in a future version. Please adapt your code to use either `displot` (a figure-level function with similar flexibility) or `histplot` (an axes-level function for histograms).\n",
            "  warnings.warn(msg, FutureWarning)\n"
          ]
        },
        {
          "output_type": "stream",
          "name": "stdout",
          "text": [
            "D53 Max 2.5029803460929543 Min 0.7813855952117592\n",
            "D55 Max 2.502972317219246 Min 0.6055784318014048\n",
            "D57 Max 2.5020663738250732 Min 0.5506687164306641\n",
            "D59 Max 2.502418279647827 Min 0.7078800201416016\n"
          ]
        },
        {
          "output_type": "stream",
          "name": "stderr",
          "text": [
            "/usr/local/lib/python3.8/dist-packages/seaborn/distributions.py:2619: FutureWarning: `distplot` is a deprecated function and will be removed in a future version. Please adapt your code to use either `displot` (a figure-level function with similar flexibility) or `histplot` (an axes-level function for histograms).\n",
            "  warnings.warn(msg, FutureWarning)\n",
            "/usr/local/lib/python3.8/dist-packages/seaborn/distributions.py:2619: FutureWarning: `distplot` is a deprecated function and will be removed in a future version. Please adapt your code to use either `displot` (a figure-level function with similar flexibility) or `histplot` (an axes-level function for histograms).\n",
            "  warnings.warn(msg, FutureWarning)\n",
            "/usr/local/lib/python3.8/dist-packages/seaborn/distributions.py:2619: FutureWarning: `distplot` is a deprecated function and will be removed in a future version. Please adapt your code to use either `displot` (a figure-level function with similar flexibility) or `histplot` (an axes-level function for histograms).\n",
            "  warnings.warn(msg, FutureWarning)\n",
            "<ipython-input-201-fd3f42b24f4e>:3: RuntimeWarning: More than 20 figures have been opened. Figures created through the pyplot interface (`matplotlib.pyplot.figure`) are retained until explicitly closed and may consume too much memory. (To control this warning, see the rcParam `figure.max_open_warning`).\n",
            "  pl.figure()\n",
            "/usr/local/lib/python3.8/dist-packages/seaborn/distributions.py:2619: FutureWarning: `distplot` is a deprecated function and will be removed in a future version. Please adapt your code to use either `displot` (a figure-level function with similar flexibility) or `histplot` (an axes-level function for histograms).\n",
            "  warnings.warn(msg, FutureWarning)\n",
            "<ipython-input-201-fd3f42b24f4e>:3: RuntimeWarning: More than 20 figures have been opened. Figures created through the pyplot interface (`matplotlib.pyplot.figure`) are retained until explicitly closed and may consume too much memory. (To control this warning, see the rcParam `figure.max_open_warning`).\n",
            "  pl.figure()\n",
            "/usr/local/lib/python3.8/dist-packages/seaborn/distributions.py:2619: FutureWarning: `distplot` is a deprecated function and will be removed in a future version. Please adapt your code to use either `displot` (a figure-level function with similar flexibility) or `histplot` (an axes-level function for histograms).\n",
            "  warnings.warn(msg, FutureWarning)\n"
          ]
        },
        {
          "output_type": "stream",
          "name": "stdout",
          "text": [
            "D63 Max 2.5026211738586426 Min 0.5341362953186035\n",
            "D68 Max 2.5023014545440674 Min 0.45386528968811035\n",
            "D69 Max 2.5028154850006104 Min 0.6867258548736572\n",
            "D70 Max 2.5027525424957275 Min 0.8827483654022217\n"
          ]
        },
        {
          "output_type": "stream",
          "name": "stderr",
          "text": [
            "<ipython-input-201-fd3f42b24f4e>:3: RuntimeWarning: More than 20 figures have been opened. Figures created through the pyplot interface (`matplotlib.pyplot.figure`) are retained until explicitly closed and may consume too much memory. (To control this warning, see the rcParam `figure.max_open_warning`).\n",
            "  pl.figure()\n",
            "/usr/local/lib/python3.8/dist-packages/seaborn/distributions.py:2619: FutureWarning: `distplot` is a deprecated function and will be removed in a future version. Please adapt your code to use either `displot` (a figure-level function with similar flexibility) or `histplot` (an axes-level function for histograms).\n",
            "  warnings.warn(msg, FutureWarning)\n",
            "<ipython-input-201-fd3f42b24f4e>:3: RuntimeWarning: More than 20 figures have been opened. Figures created through the pyplot interface (`matplotlib.pyplot.figure`) are retained until explicitly closed and may consume too much memory. (To control this warning, see the rcParam `figure.max_open_warning`).\n",
            "  pl.figure()\n",
            "/usr/local/lib/python3.8/dist-packages/seaborn/distributions.py:2619: FutureWarning: `distplot` is a deprecated function and will be removed in a future version. Please adapt your code to use either `displot` (a figure-level function with similar flexibility) or `histplot` (an axes-level function for histograms).\n",
            "  warnings.warn(msg, FutureWarning)\n",
            "<ipython-input-201-fd3f42b24f4e>:3: RuntimeWarning: More than 20 figures have been opened. Figures created through the pyplot interface (`matplotlib.pyplot.figure`) are retained until explicitly closed and may consume too much memory. (To control this warning, see the rcParam `figure.max_open_warning`).\n",
            "  pl.figure()\n",
            "/usr/local/lib/python3.8/dist-packages/seaborn/distributions.py:2619: FutureWarning: `distplot` is a deprecated function and will be removed in a future version. Please adapt your code to use either `displot` (a figure-level function with similar flexibility) or `histplot` (an axes-level function for histograms).\n",
            "  warnings.warn(msg, FutureWarning)\n",
            "<ipython-input-201-fd3f42b24f4e>:3: RuntimeWarning: More than 20 figures have been opened. Figures created through the pyplot interface (`matplotlib.pyplot.figure`) are retained until explicitly closed and may consume too much memory. (To control this warning, see the rcParam `figure.max_open_warning`).\n",
            "  pl.figure()\n",
            "/usr/local/lib/python3.8/dist-packages/seaborn/distributions.py:2619: FutureWarning: `distplot` is a deprecated function and will be removed in a future version. Please adapt your code to use either `displot` (a figure-level function with similar flexibility) or `histplot` (an axes-level function for histograms).\n",
            "  warnings.warn(msg, FutureWarning)\n"
          ]
        },
        {
          "output_type": "stream",
          "name": "stdout",
          "text": [
            "D71 Max 2.502472162246704 Min 0.6448314189910889\n",
            "D72 Max 2.502131700515747 Min 0.5349686145782471\n",
            "D73 Max 2.502854347229004 Min 0.4883263111114502\n",
            "D77 Max 2.5020134449005127 Min 0.9331631660461426\n"
          ]
        },
        {
          "output_type": "stream",
          "name": "stderr",
          "text": [
            "<ipython-input-201-fd3f42b24f4e>:3: RuntimeWarning: More than 20 figures have been opened. Figures created through the pyplot interface (`matplotlib.pyplot.figure`) are retained until explicitly closed and may consume too much memory. (To control this warning, see the rcParam `figure.max_open_warning`).\n",
            "  pl.figure()\n",
            "/usr/local/lib/python3.8/dist-packages/seaborn/distributions.py:2619: FutureWarning: `distplot` is a deprecated function and will be removed in a future version. Please adapt your code to use either `displot` (a figure-level function with similar flexibility) or `histplot` (an axes-level function for histograms).\n",
            "  warnings.warn(msg, FutureWarning)\n",
            "<ipython-input-201-fd3f42b24f4e>:3: RuntimeWarning: More than 20 figures have been opened. Figures created through the pyplot interface (`matplotlib.pyplot.figure`) are retained until explicitly closed and may consume too much memory. (To control this warning, see the rcParam `figure.max_open_warning`).\n",
            "  pl.figure()\n",
            "/usr/local/lib/python3.8/dist-packages/seaborn/distributions.py:2619: FutureWarning: `distplot` is a deprecated function and will be removed in a future version. Please adapt your code to use either `displot` (a figure-level function with similar flexibility) or `histplot` (an axes-level function for histograms).\n",
            "  warnings.warn(msg, FutureWarning)\n",
            "<ipython-input-201-fd3f42b24f4e>:3: RuntimeWarning: More than 20 figures have been opened. Figures created through the pyplot interface (`matplotlib.pyplot.figure`) are retained until explicitly closed and may consume too much memory. (To control this warning, see the rcParam `figure.max_open_warning`).\n",
            "  pl.figure()\n",
            "/usr/local/lib/python3.8/dist-packages/seaborn/distributions.py:2619: FutureWarning: `distplot` is a deprecated function and will be removed in a future version. Please adapt your code to use either `displot` (a figure-level function with similar flexibility) or `histplot` (an axes-level function for histograms).\n",
            "  warnings.warn(msg, FutureWarning)\n"
          ]
        },
        {
          "output_type": "stream",
          "name": "stdout",
          "text": [
            "D79 Max 2.501854419708252 Min 0.8440937995910645\n"
          ]
        },
        {
          "output_type": "display_data",
          "data": {
            "text/plain": [
              "<Figure size 432x288 with 1 Axes>"
            ],
            "image/png": "[encoded data removed]"
          },
          "metadata": {
            "needs_background": "light"
          }
        },
        {
          "output_type": "display_data",
          "data": {
            "text/plain": [
              "<Figure size 432x288 with 1 Axes>"
            ],
            "image/png": "[encoded data removed]"
          },
          "metadata": {
            "needs_background": "light"
          }
        },
        {
          "output_type": "display_data",
          "data": {
            "text/plain": [
              "<Figure size 432x288 with 1 Axes>"
            ],
            "image/png": "[encoded data removed]"
          },
          "metadata": {
            "needs_background": "light"
          }
        },
        {
          "output_type": "display_data",
          "data": {
            "text/plain": [
              "<Figure size 432x288 with 1 Axes>"
            ],
            "image/png": "[encoded data removed]"
          },
          "metadata": {
            "needs_background": "light"
          }
        },
        {
          "output_type": "display_data",
          "data": {
            "text/plain": [
              "<Figure size 432x288 with 1 Axes>"
            ],
            "image/png": "[encoded data removed]"
          },
          "metadata": {
            "needs_background": "light"
          }
        },
        {
          "output_type": "display_data",
          "data": {
            "text/plain": [
              "<Figure size 432x288 with 1 Axes>"
            ],
            "image/png": "[encoded data removed]"
          },
          "metadata": {
            "needs_background": "light"
          }
        },
        {
          "output_type": "display_data",
          "data": {
            "text/plain": [
              "<Figure size 432x288 with 1 Axes>"
            ],
            "image/png": "[encoded data removed]"
          },
          "metadata": {
            "needs_background": "light"
          }
        },
        {
          "output_type": "display_data",
          "data": {
            "text/plain": [
              "<Figure size 432x288 with 1 Axes>"
            ],
            "image/png": "[encoded data removed]"
          },
          "metadata": {
            "needs_background": "light"
          }
        },
        {
          "output_type": "display_data",
          "data": {
            "text/plain": [
              "<Figure size 432x288 with 1 Axes>"
            ],
            "image/png": "[encoded data removed]"
          },
          "metadata": {
            "needs_background": "light"
          }
        },
        {
          "output_type": "display_data",
          "data": {
            "text/plain": [
              "<Figure size 432x288 with 1 Axes>"
            ],
            "image/png": "[encoded data removed]"
          },
          "metadata": {
            "needs_background": "light"
          }
        },
        {
          "output_type": "display_data",
          "data": {
            "text/plain": [
              "<Figure size 432x288 with 1 Axes>"
            ],
            "image/png": "[encoded data removed]"
          },
          "metadata": {
            "needs_background": "light"
          }
        },
        {
          "output_type": "display_data",
          "data": {
            "text/plain": [
              "<Figure size 432x288 with 1 Axes>"
            ],
            "image/png": "[encoded data removed]"
          },
          "metadata": {
            "needs_background": "light"
          }
        },
        {
          "output_type": "display_data",
          "data": {
            "text/plain": [
              "<Figure size 432x288 with 1 Axes>"
            ],
            "image/png": "[encoded data removed]"
          },
          "metadata": {
            "needs_background": "light"
          }
        },
        {
          "output_type": "display_data",
          "data": {
            "text/plain": [
              "<Figure size 432x288 with 1 Axes>"
            ],
            "image/png": "[encoded data removed]"
          },
          "metadata": {
            "needs_background": "light"
          }
        },
        {
          "output_type": "display_data",
          "data": {
            "text/plain": [
              "<Figure size 432x288 with 1 Axes>"
            ],
            "image/png": "[encoded data removed]"
          },
          "metadata": {
            "needs_background": "light"
          }
        },
        {
          "output_type": "display_data",
          "data": {
            "text/plain": [
              "<Figure size 432x288 with 1 Axes>"
            ],
            "image/png": "[encoded data removed]"
          },
          "metadata": {
            "needs_background": "light"
          }
        },
        {
          "output_type": "display_data",
          "data": {
            "text/plain": [
              "<Figure size 432x288 with 1 Axes>"
            ],
            "image/png": "[encoded data removed]"
          },
          "metadata": {
            "needs_background": "light"
          }
        },
        {
          "output_type": "display_data",
          "data": {
            "text/plain": [
              "<Figure size 432x288 with 1 Axes>"
            ],
            "image/png": "[encoded data removed]"
          },
          "metadata": {
            "needs_background": "light"
          }
        },
        {
          "output_type": "display_data",
          "data": {
            "text/plain": [
              "<Figure size 432x288 with 1 Axes>"
            ],
            "image/png": "[encoded data removed]"
          },
          "metadata": {
            "needs_background": "light"
          }
        },
        {
          "output_type": "display_data",
          "data": {
            "text/plain": [
              "<Figure size 432x288 with 1 Axes>"
            ],
            "image/png": "[encoded data removed]"
          },
          "metadata": {
            "needs_background": "light"
          }
        },
        {
          "output_type": "display_data",
          "data": {
            "text/plain": [
              "<Figure size 432x288 with 1 Axes>"
            ],
            "image/png": "[encoded data removed]"
          },
          "metadata": {
            "needs_background": "light"
          }
        },
        {
          "output_type": "display_data",
          "data": {
            "text/plain": [
              "<Figure size 432x288 with 1 Axes>"
            ],
            "image/png": "[encoded data removed]"
          },
          "metadata": {
            "needs_background": "light"
          }
        },
        {
          "output_type": "display_data",
          "data": {
            "text/plain": [
              "<Figure size 432x288 with 1 Axes>"
            ],
            "image/png": "[encoded data removed]"
          },
          "metadata": {
            "needs_background": "light"
          }
        },
        {
          "output_type": "display_data",
          "data": {
            "text/plain": [
              "<Figure size 432x288 with 1 Axes>"
            ],
            "image/png": "[encoded data removed]"
          },
          "metadata": {
            "needs_background": "light"
          }
        },
        {
          "output_type": "display_data",
          "data": {
            "text/plain": [
              "<Figure size 432x288 with 1 Axes>"
            ],
            "image/png": "[encoded data removed]"
          },
          "metadata": {
            "needs_background": "light"
          }
        },
        {
          "output_type": "display_data",
          "data": {
            "text/plain": [
              "<Figure size 432x288 with 1 Axes>"
            ],
            "image/png": "[encoded data removed]"
          },
          "metadata": {
            "needs_background": "light"
          }
        },
        {
          "output_type": "display_data",
          "data": {
            "text/plain": [
              "<Figure size 432x288 with 1 Axes>"
            ],
            "image/png": "[encoded data removed]"
          },
          "metadata": {
            "needs_background": "light"
          }
        },
        {
          "output_type": "display_data",
          "data": {
            "text/plain": [
              "<Figure size 432x288 with 1 Axes>"
            ],
            "image/png": "[encoded data removed]"
          },
          "metadata": {
            "needs_background": "light"
          }
        },
        {
          "output_type": "display_data",
          "data": {
            "text/plain": [
              "<Figure size 432x288 with 1 Axes>"
            ],
            "image/png": "[encoded data removed]"
          },
          "metadata": {
            "needs_background": "light"
          }
        }
      ]
    },
    {
      "cell_type": "code",
      "source": [
        "sns.distplot(ieeg_no_outliers[ieeg_no_outliers['Resp'] != 'No Response'].ReactionTime)\n",
        "pl.title('RT distribution without extreme outliers');\n",
        "print(\n",
        "    'Mean', ieeg_no_outliers[ieeg_no_outliers['Resp'] != 'No Response'].ReactionTime.mean(),\n",
        "    'Max', ieeg_no_outliers[ieeg_no_outliers['Resp'] != 'No Response'].ReactionTime.max(),\n",
        "    'Min', ieeg_no_outliers[ieeg_no_outliers['Resp'] != 'No Response'].ReactionTime.min()\n",
        ")"
      ],
      "metadata": {
        "id": "Ot1bGCng0Img",
        "outputId": "24964555-a516-4c4b-b7ae-27295f3d1744",
        "colab": {
          "base_uri": "https://localhost:8080/",
          "height": 373
        }
      },
      "execution_count": 202,
      "outputs": [
        {
          "output_type": "stream",
          "name": "stderr",
          "text": [
            "/usr/local/lib/python3.8/dist-packages/seaborn/distributions.py:2619: FutureWarning: `distplot` is a deprecated function and will be removed in a future version. Please adapt your code to use either `displot` (a figure-level function with similar flexibility) or `histplot` (an axes-level function for histograms).\n",
            "  warnings.warn(msg, FutureWarning)\n"
          ]
        },
        {
          "output_type": "stream",
          "name": "stdout",
          "text": [
            "Mean 1.1920713232503108 Max 2.4904961585998535 Min 0.33149156073341146\n"
          ]
        },
        {
          "output_type": "display_data",
          "data": {
            "text/plain": [
              "<Figure size 432x288 with 1 Axes>"
            ],
            "image/png": "[encoded data removed]"
          },
          "metadata": {
            "needs_background": "light"
          }
        }
      ]
    },
    {
      "cell_type": "code",
      "source": [
        "values = []\n",
        "for i in ieeg_no_outliers.Subject.unique():\n",
        "  subset = ieeg_no_outliers[ieeg_no_outliers['Subject'] == i]\n",
        "  q75 = np.percentile(subset[subset['Resp'] != 'No Response']['ReactionTime'], 75)\n",
        "  q25 = np.percentile(subset[subset['Resp'] != 'No Response']['ReactionTime'], 25)\n",
        "  inter_qr = q75 - q25\n",
        "  upper = q75 + (inter_qr*3)\n",
        "  lower = q25 - (inter_qr*3)\n",
        "  index = 0\n",
        "  for val in subset[subset['Resp'] != 'No Response'].ReactionTime.values:\n",
        "    if val < lower:\n",
        "      values.append((i, val))\n",
        "      index += 1\n",
        "    elif val > upper:\n",
        "      values.append((i, val))\n",
        "      index += 1\n",
        "  print(i, index)"
      ],
      "metadata": {
        "id": "2oNRhrcs0UjB",
        "outputId": "a2260f95-6464-443d-fba7-e67b7e917cd1",
        "colab": {
          "base_uri": "https://localhost:8080/"
        }
      },
      "execution_count": 203,
      "outputs": [
        {
          "output_type": "stream",
          "name": "stdout",
          "text": [
            "D23 0\n",
            "D26 2\n",
            "D27 3\n",
            "D28 0\n",
            "D29 3\n",
            "D30 2\n",
            "D31 0\n",
            "D34 2\n",
            "D35 1\n",
            "D36 0\n",
            "D38 3\n",
            "D39 2\n",
            "D41 0\n",
            "D42 0\n",
            "D47 0\n",
            "D48 3\n",
            "D53 0\n",
            "D55 2\n",
            "D57 0\n",
            "D59 0\n",
            "D63 0\n",
            "D68 1\n",
            "D69 0\n",
            "D70 0\n",
            "D71 3\n",
            "D72 0\n",
            "D73 0\n",
            "D77 0\n",
            "D79 0\n"
          ]
        }
      ]
    },
    {
      "cell_type": "code",
      "source": [
        "len(values)"
      ],
      "metadata": {
        "id": "A-1XW1_R0Xt4",
        "outputId": "6d8ea85e-2306-4474-8345-e4c365d21242",
        "colab": {
          "base_uri": "https://localhost:8080/"
        }
      },
      "execution_count": 204,
      "outputs": [
        {
          "output_type": "execute_result",
          "data": {
            "text/plain": [
              "27"
            ]
          },
          "metadata": {},
          "execution_count": 204
        }
      ]
    },
    {
      "cell_type": "code",
      "source": [
        "print(shapiro(ieeg_no_outliers[ieeg_no_outliers['Resp'] != 'No Response']['ReactionTime'].values))\n",
        "print(normaltest(ieeg_no_outliers[ieeg_no_outliers['Resp'] != 'No Response']['ReactionTime'].values))"
      ],
      "metadata": {
        "id": "mN8bjJQh0a6Y",
        "outputId": "dcc164f8-72b1-44bb-dccf-70b674646f27",
        "colab": {
          "base_uri": "https://localhost:8080/"
        }
      },
      "execution_count": 205,
      "outputs": [
        {
          "output_type": "stream",
          "name": "stdout",
          "text": [
            "ShapiroResult(statistic=0.9559968709945679, pvalue=6.996135430051905e-35)\n",
            "NormaltestResult(statistic=441.2596120492818, pvalue=1.5194719949807615e-96)\n"
          ]
        }
      ]
    },
    {
      "cell_type": "code",
      "source": [
        "fitted_data_, fitted_lambda_ = boxcox(ieeg_no_outliers[ieeg_no_outliers['Resp'] != 'No Response']['ReactionTime'].values)"
      ],
      "metadata": {
        "id": "PP6_Kl_l0beJ"
      },
      "execution_count": 206,
      "outputs": []
    },
    {
      "cell_type": "code",
      "source": [
        "fig, ax = plt.subplots(1, 2)\n",
        "sns.distplot(ieeg_no_outliers[ieeg_no_outliers['Resp'] != 'No Response']['ReactionTime'].values, hist = False, kde = True,\n",
        "            label = \"Non-Normal\", color =\"green\", ax = ax[0])\n",
        " \n",
        "sns.distplot(fitted_data_, hist = False, kde = True,\n",
        "            label = \"Normal\", color =\"green\", ax = ax[1]);"
      ],
      "metadata": {
        "id": "6jycFLR-0dvg",
        "outputId": "0a39f409-6978-4597-85d5-a680bcf822b3",
        "colab": {
          "base_uri": "https://localhost:8080/",
          "height": 357
        }
      },
      "execution_count": 207,
      "outputs": [
        {
          "output_type": "stream",
          "name": "stderr",
          "text": [
            "/usr/local/lib/python3.8/dist-packages/seaborn/distributions.py:2619: FutureWarning: `distplot` is a deprecated function and will be removed in a future version. Please adapt your code to use either `displot` (a figure-level function with similar flexibility) or `kdeplot` (an axes-level function for kernel density plots).\n",
            "  warnings.warn(msg, FutureWarning)\n",
            "/usr/local/lib/python3.8/dist-packages/seaborn/distributions.py:2619: FutureWarning: `distplot` is a deprecated function and will be removed in a future version. Please adapt your code to use either `displot` (a figure-level function with similar flexibility) or `kdeplot` (an axes-level function for kernel density plots).\n",
            "  warnings.warn(msg, FutureWarning)\n"
          ]
        },
        {
          "output_type": "display_data",
          "data": {
            "text/plain": [
              "<Figure size 432x288 with 2 Axes>"
            ],
            "image/png": "[encoded data removed]"
          },
          "metadata": {
            "needs_background": "light"
          }
        }
      ]
    },
    {
      "cell_type": "code",
      "source": [
        "print(shapiro(fitted_data_))\n",
        "print(normaltest(fitted_data_))\n",
        "print(fitted_lambda_)"
      ],
      "metadata": {
        "id": "6mNcwJNZ0hGg",
        "outputId": "9661d5c7-d258-4bba-fef1-261982b2b84d",
        "colab": {
          "base_uri": "https://localhost:8080/"
        }
      },
      "execution_count": 208,
      "outputs": [
        {
          "output_type": "stream",
          "name": "stdout",
          "text": [
            "ShapiroResult(statistic=0.998046338558197, pvalue=1.903061638586223e-05)\n",
            "NormaltestResult(statistic=5.647214038555502, pvalue=0.05939133021291109)\n",
            "-0.032817818771241326\n"
          ]
        }
      ]
    },
    {
      "cell_type": "code",
      "source": [
        "ieeg_no_outliers[ieeg_no_outliers['Resp'] != 'No Response']['stdRT'] = fitted_data_"
      ],
      "metadata": {
        "id": "illpcNg60h7o",
        "outputId": "70572a4f-abc9-4809-8e1d-c79a259d73ad",
        "colab": {
          "base_uri": "https://localhost:8080/"
        }
      },
      "execution_count": 209,
      "outputs": [
        {
          "output_type": "stream",
          "name": "stderr",
          "text": [
            "<ipython-input-209-1ab00667bd79>:1: SettingWithCopyWarning: \n",
            "A value is trying to be set on a copy of a slice from a DataFrame.\n",
            "Try using .loc[row_indexer,col_indexer] = value instead\n",
            "\n",
            "See the caveats in the documentation: https://pandas.pydata.org/pandas-docs/stable/user_guide/indexing.html#returning-a-view-versus-a-copy\n",
            "  ieeg_no_outliers[ieeg_no_outliers['Resp'] != 'No Response']['stdRT'] = fitted_data_\n"
          ]
        }
      ]
    },
    {
      "cell_type": "code",
      "source": [
        "# saving result\n",
        "ieeg_no_outliers.to_csv(\n",
        "    Path(working_path).joinpath('ieeg_processed.csv')\n",
        ")"
      ],
      "metadata": {
        "id": "wjNkXLZd0xwI"
      },
      "execution_count": 211,
      "outputs": []
    },
    {
      "cell_type": "markdown",
      "source": [
        "# EEG dataset"
      ],
      "metadata": {
        "id": "Vj4jI3yoWFb0"
      }
    },
    {
      "cell_type": "code",
      "source": [
        "data_eeg = eeg['Subject'] # contains trials for each of the subjects\n",
        "print('Number of subjects in EEG dataset is', data_eeg.shape[1])"
      ],
      "metadata": {
        "colab": {
          "base_uri": "https://localhost:8080/"
        },
        "id": "fAvRJcTnBjHm",
        "outputId": "22598b4a-4c5d-4173-e509-fd48121543e4"
      },
      "execution_count": 20,
      "outputs": [
        {
          "output_type": "stream",
          "name": "stdout",
          "text": [
            "Number of subjects in EEG dataset is 29\n"
          ]
        }
      ]
    },
    {
      "cell_type": "code",
      "source": [
        "subjects_eeg = [] # subject numbers\n",
        "for i in range(0, data_eeg.shape[1]):\n",
        "  name = data_eeg[0, i]['Name'][0][0][0]\n",
        "  subjects_eeg.append(name)"
      ],
      "metadata": {
        "id": "K-emRBucWU-0"
      },
      "execution_count": 21,
      "outputs": []
    },
    {
      "cell_type": "code",
      "source": [
        "columns_eeg = data_eeg[0, 0]['trialInfo'][0, 0].dtype.names # name of the variables from trial info\n",
        "final_eeg = pd.DataFrame(columns=columns_eeg)\n",
        "final_eeg['Trial'] = np.nan\n",
        "final_eeg['Subject'] = np.nan\n",
        "for subj in range(0, data_eeg.shape[1]): # for each subject\n",
        "  print(subj)\n",
        "  subj_df = get_to_df(data_eeg[0, subj]['trialInfo'][0, 0])\n",
        "  subj_df['Subject'] = subjects_eeg[subj]\n",
        "  final_eeg = pd.concat([final_eeg, subj_df], axis = 0)"
      ],
      "metadata": {
        "colab": {
          "base_uri": "https://localhost:8080/"
        },
        "id": "Gf4XfgEyW90I",
        "outputId": "bf2343ec-299c-442b-ddd8-13184b2d6aca"
      },
      "execution_count": 22,
      "outputs": [
        {
          "output_type": "stream",
          "name": "stdout",
          "text": [
            "0\n",
            "1\n",
            "2\n",
            "3\n",
            "4\n",
            "5\n",
            "6\n",
            "7\n",
            "8\n",
            "9\n",
            "10\n",
            "11\n",
            "12\n",
            "13\n",
            "14\n",
            "15\n",
            "16\n",
            "17\n",
            "18\n",
            "19\n",
            "20\n",
            "21\n",
            "22\n",
            "23\n",
            "24\n",
            "25\n",
            "26\n",
            "27\n",
            "28\n"
          ]
        }
      ]
    },
    {
      "cell_type": "code",
      "source": [
        "final_eeg.columns"
      ],
      "metadata": {
        "colab": {
          "base_uri": "https://localhost:8080/"
        },
        "id": "UeHJ_ZDjaynR",
        "outputId": "ae7aeccf-7392-4e4a-d7dc-c7e8e07a3793"
      },
      "execution_count": 23,
      "outputs": [
        {
          "output_type": "execute_result",
          "data": {
            "text/plain": [
              "Index(['Trial', 'Subject', 'Block', 'ProbeType', 'ProbeTypeName',\n",
              "       'StimulusCategory', 'ListenCue', 'ReactionTime', 'KeyCode', 'Response',\n",
              "       'ResponseCorrect', 'Omission', 'StimulusAudioStart',\n",
              "       'StimulusAlignedTrigger', 'DelayPeriodOnset', 'MaintenancePeriodOnset',\n",
              "       'ProbeCueOnset', 'ProbeAudioStart', 'ProbeAlignedTrigger',\n",
              "       'TriggerValueCondition', 'StimulusSounds_idx', 'StimulusSounds_name',\n",
              "       'ProbeCategory', 'ProbeSound_idx', 'ProbeSound_name'],\n",
              "      dtype='object')"
            ]
          },
          "metadata": {},
          "execution_count": 23
        }
      ]
    },
    {
      "cell_type": "markdown",
      "source": [
        "#Preprocessing EEG dataset"
      ],
      "metadata": {
        "id": "Hnblxufgnp27"
      }
    },
    {
      "cell_type": "code",
      "source": [
        "'''eeg = pd.read_csv(\n",
        "    working_path.joinpath('eeg_all.csv'),\n",
        "    index_col=None\n",
        ")'''"
      ],
      "metadata": {
        "id": "Zfp1bgAmoQm5"
      },
      "execution_count": null,
      "outputs": []
    },
    {
      "cell_type": "code",
      "source": [
        "eeg = final_eeg.copy()"
      ],
      "metadata": {
        "id": "FqrTuKDun1Tg"
      },
      "execution_count": 110,
      "outputs": []
    },
    {
      "cell_type": "code",
      "source": [
        "eeg.columns"
      ],
      "metadata": {
        "id": "D1FHv2T1oK5o",
        "outputId": "1c58b42b-e02a-4b32-8621-d17ebbf83909",
        "colab": {
          "base_uri": "https://localhost:8080/"
        }
      },
      "execution_count": 31,
      "outputs": [
        {
          "output_type": "execute_result",
          "data": {
            "text/plain": [
              "Index(['Trial', 'Subject', 'Block', 'ProbeType', 'ProbeTypeName',\n",
              "       'StimulusCategory', 'ListenCue', 'ReactionTime', 'KeyCode', 'Response',\n",
              "       'ResponseCorrect', 'Omission', 'StimulusAudioStart',\n",
              "       'StimulusAlignedTrigger', 'DelayPeriodOnset', 'MaintenancePeriodOnset',\n",
              "       'ProbeCueOnset', 'ProbeAudioStart', 'ProbeAlignedTrigger',\n",
              "       'TriggerValueCondition', 'StimulusSounds_idx', 'StimulusSounds_name',\n",
              "       'ProbeCategory', 'ProbeSound_idx', 'ProbeSound_name'],\n",
              "      dtype='object')"
            ]
          },
          "metadata": {},
          "execution_count": 31
        }
      ]
    },
    {
      "cell_type": "code",
      "source": [
        "#eeg = eeg.loc[:, eeg.columns != 'Unnamed: 0'] # some extra column appeared while uploading data"
      ],
      "metadata": {
        "id": "Rv_h_b-zoNMR"
      },
      "execution_count": null,
      "outputs": []
    },
    {
      "cell_type": "code",
      "source": [
        "eeg.isnull().sum()"
      ],
      "metadata": {
        "id": "3GeMkfB7oQSp",
        "outputId": "c6bba14b-c617-4893-cceb-fa172310a601",
        "colab": {
          "base_uri": "https://localhost:8080/"
        }
      },
      "execution_count": 32,
      "outputs": [
        {
          "output_type": "execute_result",
          "data": {
            "text/plain": [
              "Trial                       0\n",
              "Subject                     0\n",
              "Block                       0\n",
              "ProbeType                   0\n",
              "ProbeTypeName               0\n",
              "StimulusCategory            0\n",
              "ListenCue                   0\n",
              "ReactionTime              100\n",
              "KeyCode                     0\n",
              "Response                    0\n",
              "ResponseCorrect             0\n",
              "Omission                    0\n",
              "StimulusAudioStart          0\n",
              "StimulusAlignedTrigger      0\n",
              "DelayPeriodOnset            0\n",
              "MaintenancePeriodOnset      0\n",
              "ProbeCueOnset               0\n",
              "ProbeAudioStart             0\n",
              "ProbeAlignedTrigger         0\n",
              "TriggerValueCondition       0\n",
              "StimulusSounds_idx          0\n",
              "StimulusSounds_name         0\n",
              "ProbeCategory               0\n",
              "ProbeSound_idx              0\n",
              "ProbeSound_name             0\n",
              "dtype: int64"
            ]
          },
          "metadata": {},
          "execution_count": 32
        }
      ]
    },
    {
      "cell_type": "code",
      "source": [
        "print(len(eeg.Subject.unique()))\n",
        "print(eeg.shape)"
      ],
      "metadata": {
        "id": "cOWUWFfwoYDw",
        "outputId": "21a90c67-c7ef-4ca7-8436-9e8b6124db33",
        "colab": {
          "base_uri": "https://localhost:8080/"
        }
      },
      "execution_count": 33,
      "outputs": [
        {
          "output_type": "stream",
          "name": "stdout",
          "text": [
            "29\n",
            "(5568, 25)\n"
          ]
        }
      ]
    },
    {
      "cell_type": "code",
      "source": [
        "eeg_subset = eeg[[\n",
        "                 'Trial', 'Subject', 'Block', 'ProbeType', 'ProbeSound_idx',\n",
        "                 'ProbeTypeName', 'StimulusCategory', 'ReactionTime', 'KeyCode',\n",
        "                 'Response', 'ResponseCorrect', 'Omission', 'ProbeCategory',\n",
        "                  'StimulusSounds_name', 'ProbeSound_name', 'StimulusSounds_idx'                 \n",
        "]]"
      ],
      "metadata": {
        "id": "r83MAhg2ods_"
      },
      "execution_count": 111,
      "outputs": []
    },
    {
      "cell_type": "code",
      "source": [
        "eeg_subset.head()"
      ],
      "metadata": {
        "id": "-TBx3mw_od8H",
        "outputId": "b8460bb2-fc27-4dd4-ca55-124026fc3ece",
        "colab": {
          "base_uri": "https://localhost:8080/",
          "height": 392
        }
      },
      "execution_count": 91,
      "outputs": [
        {
          "output_type": "execute_result",
          "data": {
            "text/plain": [
              "  Trial Subject Block ProbeType ProbeSound_idx    ProbeTypeName  \\\n",
              "0     0      E2     1         1             21  out_of_sequence   \n",
              "1     1      E2     1         2             38      in_sequence   \n",
              "2     2      E2     1         2             30      in_sequence   \n",
              "3     3      E2     1         2              5      in_sequence   \n",
              "4     4      E2     1         1             13  out_of_sequence   \n",
              "\n",
              "  StimulusCategory  ReactionTime       KeyCode     Response ResponseCorrect  \\\n",
              "0       High Words           NaN  2.Left3.Left  No Response               0   \n",
              "1    Low Non-words      1.282162        2.Left          Yes               1   \n",
              "2        Low Words      0.987854        2.Left          Yes               1   \n",
              "3       High Words      1.588743        2.Left          Yes               1   \n",
              "4    Low Non-words      1.184043        3.Left           No               1   \n",
              "\n",
              "      Omission   ProbeCategory  \\\n",
              "0  No Response       Low Words   \n",
              "1    Responded   Low Non-words   \n",
              "2    Responded       Low Words   \n",
              "3    Responded      High Words   \n",
              "4    Responded  High Non-Words   \n",
              "\n",
              "                                 StimulusSounds_name ProbeSound_name  \\\n",
              "0  [[mon.wav], [pcn.wav], [sik.wav], [kap.wav], [...         Sur.wav   \n",
              "1  [[yuf.wav], [JcG.wav], [kuv.wav], [wEz.wav], [...         ycG.wav   \n",
              "2  [[[tub.wav]], [[fcg.wav]], [[f^j.wav]], [[lcG....         yuT.wav   \n",
              "3  [[fEl.wav], [lEr.wav], [sik.wav], [kap.wav], [...         lEr.wav   \n",
              "4  [[[gWT.wav]], [[kuv.wav]], [[vRn.wav]], [[zRT....         g@n.wav   \n",
              "\n",
              "                       StimulusSounds_idx  \n",
              "0                        [6, 7, 8, 4, 10]  \n",
              "1                    [39, 32, 35, 37, 38]  \n",
              "2  [[27, 23, 22, 24, 25, 29, 26, 28, 30]]  \n",
              "3                         [2, 5, 8, 4, 6]  \n",
              "4          [[34, 35, 36, 40, 39, 33, 37]]  "
            ],
            "text/html": [
              "\n",
              "  <div id=\"df-a43f479b-aea9-4a26-a816-8c92a5f69c32\">\n",
              "    <div class=\"colab-df-container\">\n",
              "      <div>\n",
              "<style scoped>\n",
              "    .dataframe tbody tr th:only-of-type {\n",
              "        vertical-align: middle;\n",
              "    }\n",
              "\n",
              "    .dataframe tbody tr th {\n",
              "        vertical-align: top;\n",
              "    }\n",
              "\n",
              "    .dataframe thead th {\n",
              "        text-align: right;\n",
              "    }\n",
              "</style>\n",
              "<table border=\"1\" class=\"dataframe\">\n",
              "  <thead>\n",
              "    <tr style=\"text-align: right;\">\n",
              "      <th></th>\n",
              "      <th>Trial</th>\n",
              "      <th>Subject</th>\n",
              "      <th>Block</th>\n",
              "      <th>ProbeType</th>\n",
              "      <th>ProbeSound_idx</th>\n",
              "      <th>ProbeTypeName</th>\n",
              "      <th>StimulusCategory</th>\n",
              "      <th>ReactionTime</th>\n",
              "      <th>KeyCode</th>\n",
              "      <th>Response</th>\n",
              "      <th>ResponseCorrect</th>\n",
              "      <th>Omission</th>\n",
              "      <th>ProbeCategory</th>\n",
              "      <th>StimulusSounds_name</th>\n",
              "      <th>ProbeSound_name</th>\n",
              "      <th>StimulusSounds_idx</th>\n",
              "    </tr>\n",
              "  </thead>\n",
              "  <tbody>\n",
              "    <tr>\n",
              "      <th>0</th>\n",
              "      <td>0</td>\n",
              "      <td>E2</td>\n",
              "      <td>1</td>\n",
              "      <td>1</td>\n",
              "      <td>21</td>\n",
              "      <td>out_of_sequence</td>\n",
              "      <td>High Words</td>\n",
              "      <td>NaN</td>\n",
              "      <td>2.Left3.Left</td>\n",
              "      <td>No Response</td>\n",
              "      <td>0</td>\n",
              "      <td>No Response</td>\n",
              "      <td>Low Words</td>\n",
              "      <td>[[mon.wav], [pcn.wav], [sik.wav], [kap.wav], [...</td>\n",
              "      <td>Sur.wav</td>\n",
              "      <td>[6, 7, 8, 4, 10]</td>\n",
              "    </tr>\n",
              "    <tr>\n",
              "      <th>1</th>\n",
              "      <td>1</td>\n",
              "      <td>E2</td>\n",
              "      <td>1</td>\n",
              "      <td>2</td>\n",
              "      <td>38</td>\n",
              "      <td>in_sequence</td>\n",
              "      <td>Low Non-words</td>\n",
              "      <td>1.282162</td>\n",
              "      <td>2.Left</td>\n",
              "      <td>Yes</td>\n",
              "      <td>1</td>\n",
              "      <td>Responded</td>\n",
              "      <td>Low Non-words</td>\n",
              "      <td>[[yuf.wav], [JcG.wav], [kuv.wav], [wEz.wav], [...</td>\n",
              "      <td>ycG.wav</td>\n",
              "      <td>[39, 32, 35, 37, 38]</td>\n",
              "    </tr>\n",
              "    <tr>\n",
              "      <th>2</th>\n",
              "      <td>2</td>\n",
              "      <td>E2</td>\n",
              "      <td>1</td>\n",
              "      <td>2</td>\n",
              "      <td>30</td>\n",
              "      <td>in_sequence</td>\n",
              "      <td>Low Words</td>\n",
              "      <td>0.987854</td>\n",
              "      <td>2.Left</td>\n",
              "      <td>Yes</td>\n",
              "      <td>1</td>\n",
              "      <td>Responded</td>\n",
              "      <td>Low Words</td>\n",
              "      <td>[[[tub.wav]], [[fcg.wav]], [[f^j.wav]], [[lcG....</td>\n",
              "      <td>yuT.wav</td>\n",
              "      <td>[[27, 23, 22, 24, 25, 29, 26, 28, 30]]</td>\n",
              "    </tr>\n",
              "    <tr>\n",
              "      <th>3</th>\n",
              "      <td>3</td>\n",
              "      <td>E2</td>\n",
              "      <td>1</td>\n",
              "      <td>2</td>\n",
              "      <td>5</td>\n",
              "      <td>in_sequence</td>\n",
              "      <td>High Words</td>\n",
              "      <td>1.588743</td>\n",
              "      <td>2.Left</td>\n",
              "      <td>Yes</td>\n",
              "      <td>1</td>\n",
              "      <td>Responded</td>\n",
              "      <td>High Words</td>\n",
              "      <td>[[fEl.wav], [lEr.wav], [sik.wav], [kap.wav], [...</td>\n",
              "      <td>lEr.wav</td>\n",
              "      <td>[2, 5, 8, 4, 6]</td>\n",
              "    </tr>\n",
              "    <tr>\n",
              "      <th>4</th>\n",
              "      <td>4</td>\n",
              "      <td>E2</td>\n",
              "      <td>1</td>\n",
              "      <td>1</td>\n",
              "      <td>13</td>\n",
              "      <td>out_of_sequence</td>\n",
              "      <td>Low Non-words</td>\n",
              "      <td>1.184043</td>\n",
              "      <td>3.Left</td>\n",
              "      <td>No</td>\n",
              "      <td>1</td>\n",
              "      <td>Responded</td>\n",
              "      <td>High Non-Words</td>\n",
              "      <td>[[[gWT.wav]], [[kuv.wav]], [[vRn.wav]], [[zRT....</td>\n",
              "      <td>g@n.wav</td>\n",
              "      <td>[[34, 35, 36, 40, 39, 33, 37]]</td>\n",
              "    </tr>\n",
              "  </tbody>\n",
              "</table>\n",
              "</div>\n",
              "      <button class=\"colab-df-convert\" onclick=\"convertToInteractive('df-a43f479b-aea9-4a26-a816-8c92a5f69c32')\"\n",
              "              title=\"Convert this dataframe to an interactive table.\"\n",
              "              style=\"display:none;\">\n",
              "        \n",
              "  <svg xmlns=\"http://www.w3.org/2000/svg\" height=\"24px\"viewBox=\"0 0 24 24\"\n",
              "       width=\"24px\">\n",
              "    <path d=\"M0 0h24v24H0V0z\" fill=\"none\"/>\n",
              "    <path d=\"M18.56 5.44l.94 2.06.94-2.06 2.06-.94-2.06-.94-.94-2.06-.94 2.06-2.06.94zm-11 1L8.5 8.5l.94-2.06 2.06-.94-2.06-.94L8.5 2.5l-.94 2.06-2.06.94zm10 10l.94 2.06.94-2.06 2.06-.94-2.06-.94-.94-2.06-.94 2.06-2.06.94z\"/><path d=\"M17.41 7.96l-1.37-1.37c-.4-.4-.92-.59-1.43-.59-.52 0-1.04.2-1.43.59L10.3 9.45l-7.72 7.72c-.78.78-.78 2.05 0 2.83L4 21.41c.39.39.9.59 1.41.59.51 0 1.02-.2 1.41-.59l7.78-7.78 2.81-2.81c.8-.78.8-2.07 0-2.86zM5.41 20L4 18.59l7.72-7.72 1.47 1.35L5.41 20z\"/>\n",
              "  </svg>\n",
              "      </button>\n",
              "      \n",
              "  <style>\n",
              "    .colab-df-container {\n",
              "      display:flex;\n",
              "      flex-wrap:wrap;\n",
              "      gap: 12px;\n",
              "    }\n",
              "\n",
              "    .colab-df-convert {\n",
              "      background-color: #E8F0FE;\n",
              "      border: none;\n",
              "      border-radius: 50%;\n",
              "      cursor: pointer;\n",
              "      display: none;\n",
              "      fill: #1967D2;\n",
              "      height: 32px;\n",
              "      padding: 0 0 0 0;\n",
              "      width: 32px;\n",
              "    }\n",
              "\n",
              "    .colab-df-convert:hover {\n",
              "      background-color: #E2EBFA;\n",
              "      box-shadow: 0px 1px 2px rgba(60, 64, 67, 0.3), 0px 1px 3px 1px rgba(60, 64, 67, 0.15);\n",
              "      fill: #174EA6;\n",
              "    }\n",
              "\n",
              "    [theme=dark] .colab-df-convert {\n",
              "      background-color: #3B4455;\n",
              "      fill: #D2E3FC;\n",
              "    }\n",
              "\n",
              "    [theme=dark] .colab-df-convert:hover {\n",
              "      background-color: #434B5C;\n",
              "      box-shadow: 0px 1px 3px 1px rgba(0, 0, 0, 0.15);\n",
              "      filter: drop-shadow(0px 1px 2px rgba(0, 0, 0, 0.3));\n",
              "      fill: #FFFFFF;\n",
              "    }\n",
              "  </style>\n",
              "\n",
              "      <script>\n",
              "        const buttonEl =\n",
              "          document.querySelector('#df-a43f479b-aea9-4a26-a816-8c92a5f69c32 button.colab-df-convert');\n",
              "        buttonEl.style.display =\n",
              "          google.colab.kernel.accessAllowed ? 'block' : 'none';\n",
              "\n",
              "        async function convertToInteractive(key) {\n",
              "          const element = document.querySelector('#df-a43f479b-aea9-4a26-a816-8c92a5f69c32');\n",
              "          const dataTable =\n",
              "            await google.colab.kernel.invokeFunction('convertToInteractive',\n",
              "                                                     [key], {});\n",
              "          if (!dataTable) return;\n",
              "\n",
              "          const docLinkHtml = 'Like what you see? Visit the ' +\n",
              "            '<a target=\"_blank\" href=https://colab.research.google.com/notebooks/data_table.ipynb>data table notebook</a>'\n",
              "            + ' to learn more about interactive tables.';\n",
              "          element.innerHTML = '';\n",
              "          dataTable['output_type'] = 'display_data';\n",
              "          await google.colab.output.renderOutput(dataTable, element);\n",
              "          const docLink = document.createElement('div');\n",
              "          docLink.innerHTML = docLinkHtml;\n",
              "          element.appendChild(docLink);\n",
              "        }\n",
              "      </script>\n",
              "    </div>\n",
              "  </div>\n",
              "  "
            ]
          },
          "metadata": {},
          "execution_count": 91
        }
      ]
    },
    {
      "cell_type": "code",
      "source": [
        "# check whether any response accuracy is less than 75%\n",
        "(eeg_subset.groupby(['Subject'])['ResponseCorrect'].mean() < 0.75).any()"
      ],
      "metadata": {
        "id": "w89_rxalod-f",
        "outputId": "521577f2-494c-4ebd-fa37-ef0961538003",
        "colab": {
          "base_uri": "https://localhost:8080/"
        }
      },
      "execution_count": 92,
      "outputs": [
        {
          "output_type": "execute_result",
          "data": {
            "text/plain": [
              "False"
            ]
          },
          "metadata": {},
          "execution_count": 92
        }
      ]
    },
    {
      "cell_type": "code",
      "source": [
        "eeg_subset.groupby(['Subject'])['ResponseCorrect'].mean()"
      ],
      "metadata": {
        "id": "xGOQ23dMoeCX",
        "outputId": "c3a4e061-acea-4646-e941-08658dedbf53",
        "colab": {
          "base_uri": "https://localhost:8080/"
        }
      },
      "execution_count": 39,
      "outputs": [
        {
          "output_type": "execute_result",
          "data": {
            "text/plain": [
              "Subject\n",
              "E10    0.911458\n",
              "E11    0.895833\n",
              "E12    0.859375\n",
              "E13    0.833333\n",
              "E15    0.817708\n",
              "E16    0.890625\n",
              "E17    0.791667\n",
              "E18    0.947917\n",
              "E2     0.875000\n",
              "E20    0.817708\n",
              "E21    0.812500\n",
              "E22    0.833333\n",
              "E23    0.864583\n",
              "E24    0.828125\n",
              "E25    0.833333\n",
              "E26    0.843750\n",
              "E27    0.765625\n",
              "E28    0.901042\n",
              "E29    0.817708\n",
              "E3     0.885417\n",
              "E30    0.885417\n",
              "E31    0.890625\n",
              "E33    0.953125\n",
              "E4     0.791667\n",
              "E5     0.880208\n",
              "E6     0.755208\n",
              "E7     0.864583\n",
              "E8     0.875000\n",
              "E9     0.921875\n",
              "Name: ResponseCorrect, dtype: float64"
            ]
          },
          "metadata": {},
          "execution_count": 39
        }
      ]
    },
    {
      "cell_type": "code",
      "source": [
        "whole_list = eeg_subset['StimulusSounds_idx'].values\n",
        "new_sound_idx = []\n",
        "for i in whole_list:\n",
        "  if type(i) is list:\n",
        "    new_sound_idx.append(i)\n",
        "  elif type(i) is np.ndarray:\n",
        "    new_sound_idx.append(i[0].tolist())\n",
        "  else:\n",
        "    print(type(i))\n",
        "    print(len(new_sound_idx))\n",
        "    break"
      ],
      "metadata": {
        "id": "f3Vjjf9LprH-"
      },
      "execution_count": 112,
      "outputs": []
    },
    {
      "cell_type": "code",
      "source": [
        "eeg_subset['StimulusSounds_idx'] = new_sound_idx"
      ],
      "metadata": {
        "id": "cfJAdF7VsEJj",
        "outputId": "c84c8be3-c7eb-4ace-c599-3f4234ef3d58",
        "colab": {
          "base_uri": "https://localhost:8080/"
        }
      },
      "execution_count": 113,
      "outputs": [
        {
          "output_type": "stream",
          "name": "stderr",
          "text": [
            "<ipython-input-113-6042217f2404>:1: SettingWithCopyWarning: \n",
            "A value is trying to be set on a copy of a slice from a DataFrame.\n",
            "Try using .loc[row_indexer,col_indexer] = value instead\n",
            "\n",
            "See the caveats in the documentation: https://pandas.pydata.org/pandas-docs/stable/user_guide/indexing.html#returning-a-view-versus-a-copy\n",
            "  eeg_subset['StimulusSounds_idx'] = new_sound_idx\n"
          ]
        }
      ]
    },
    {
      "cell_type": "code",
      "source": [
        "# checking the length of word lists presented\n",
        "compare = []\n",
        "for i in new_sound_idx:\n",
        "  length = len(i)\n",
        "  if length not in compare:\n",
        "    compare.append(length)\n",
        "print(compare)"
      ],
      "metadata": {
        "id": "8ShyB_p-q45G",
        "outputId": "9e7f904d-c01a-4a1c-c6d1-b9375d4919df",
        "colab": {
          "base_uri": "https://localhost:8080/"
        }
      },
      "execution_count": 114,
      "outputs": [
        {
          "output_type": "stream",
          "name": "stdout",
          "text": [
            "[5, 9, 7, 3]\n"
          ]
        }
      ]
    },
    {
      "cell_type": "code",
      "source": [
        "# calculating relative position of the word in the list\n",
        "# pos for only in seqence trials: probe sound index and stimulus sound index\n",
        "# beginning middle or end\n",
        "positions = [] # for the new 'position' column in df\n",
        "# 1 - beginning, 2 - middle, 3 - end\n",
        "ind = eeg_subset['ProbeSound_idx'].values\n",
        "in_out = eeg_subset['ProbeType'].values\n",
        "for i in range(0, len(ind)):\n",
        "  if in_out[i] == 2: # if it is in sequence\n",
        "    if ind[i] in new_sound_idx[i]:\n",
        "      # for length of the list 3\n",
        "      if len(new_sound_idx[i]) == 3:\n",
        "        if new_sound_idx[i].index(ind[i]) == 0:\n",
        "          positions.append(1) # beginning \n",
        "        elif new_sound_idx[i].index(ind[i]) == 1:\n",
        "          positions.append(2) # middle\n",
        "        elif new_sound_idx[i].index(ind[i]) == 2:\n",
        "          positions.append(3) # end\n",
        "      \n",
        "      # for length of the list 5\n",
        "      ## revise!\n",
        "      elif len(new_sound_idx[i]) == 5:\n",
        "        if new_sound_idx[i].index(ind[i]) in [0, 1]:\n",
        "          positions.append(1) # beginning \n",
        "        elif new_sound_idx[i].index(ind[i]) == 2:\n",
        "          positions.append(2) # middle\n",
        "        elif new_sound_idx[i].index(ind[i]) in [3, 4]:\n",
        "          positions.append(3) # end\n",
        "\n",
        "      # for length of the list 7\n",
        "      elif len(new_sound_idx[i]) == 7:\n",
        "        if new_sound_idx[i].index(ind[i]) in [0, 1]:\n",
        "          positions.append(1) # beginning \n",
        "        elif new_sound_idx[i].index(ind[i]) in [2, 3, 4]:\n",
        "          positions.append(2) # middle\n",
        "        elif new_sound_idx[i].index(ind[i]) in [5, 6]:\n",
        "          positions.append(3) # end\n",
        "      \n",
        "      # for length of the list 9\n",
        "      elif len(new_sound_idx[i]) == 9:\n",
        "        if new_sound_idx[i].index(ind[i]) in [0, 1, 2]:\n",
        "          positions.append(1) # beginning \n",
        "        elif new_sound_idx[i].index(ind[i]) in [3, 4, 5]:\n",
        "          positions.append(2) # middle\n",
        "        elif new_sound_idx[i].index(ind[i]) in [6, 7, 8]:\n",
        "          positions.append(3) # end\n",
        "    else:\n",
        "      print('Check', i)\n",
        "      break  \n",
        "  elif in_out[i] == 1:\n",
        "    positions.append(0) # if it is out of sequence it is not in the list\n",
        "  else:\n",
        "    print('Check', i)\n",
        "    break"
      ],
      "metadata": {
        "id": "Izk-IMy8q49t"
      },
      "execution_count": 115,
      "outputs": []
    },
    {
      "cell_type": "code",
      "source": [
        "length = []\n",
        "for i in eeg_subset.StimulusSounds_idx:\n",
        "  length.append(len(i))"
      ],
      "metadata": {
        "id": "Rv9jLDC9q5AV"
      },
      "execution_count": 116,
      "outputs": []
    },
    {
      "cell_type": "code",
      "source": [
        "eeg_subset['Position'] = positions\n",
        "eeg_subset['Length'] = length"
      ],
      "metadata": {
        "id": "NO5VYiWkq5C2",
        "outputId": "c5b9f0de-e829-4182-e41f-0786e9156f16",
        "colab": {
          "base_uri": "https://localhost:8080/"
        }
      },
      "execution_count": 117,
      "outputs": [
        {
          "output_type": "stream",
          "name": "stderr",
          "text": [
            "<ipython-input-117-25a45b78502a>:1: SettingWithCopyWarning: \n",
            "A value is trying to be set on a copy of a slice from a DataFrame.\n",
            "Try using .loc[row_indexer,col_indexer] = value instead\n",
            "\n",
            "See the caveats in the documentation: https://pandas.pydata.org/pandas-docs/stable/user_guide/indexing.html#returning-a-view-versus-a-copy\n",
            "  eeg_subset['Position'] = positions\n",
            "<ipython-input-117-25a45b78502a>:2: SettingWithCopyWarning: \n",
            "A value is trying to be set on a copy of a slice from a DataFrame.\n",
            "Try using .loc[row_indexer,col_indexer] = value instead\n",
            "\n",
            "See the caveats in the documentation: https://pandas.pydata.org/pandas-docs/stable/user_guide/indexing.html#returning-a-view-versus-a-copy\n",
            "  eeg_subset['Length'] = length\n"
          ]
        }
      ]
    },
    {
      "cell_type": "code",
      "source": [
        "# types in ProbeCategory column differ in case\n",
        "# here we make them lowrcase\n",
        "new_probe = []\n",
        "for i in eeg_subset.ProbeCategory.values:\n",
        "  new_probe.append(i.lower())\n",
        "eeg_subset['ProbeCategory'] = new_probe"
      ],
      "metadata": {
        "id": "8o3qcWMZsrAB",
        "outputId": "46810e91-14d4-4c76-f894-0629c094fcb9",
        "colab": {
          "base_uri": "https://localhost:8080/"
        }
      },
      "execution_count": 118,
      "outputs": [
        {
          "output_type": "stream",
          "name": "stderr",
          "text": [
            "<ipython-input-118-07ed8a5c37a8>:6: SettingWithCopyWarning: \n",
            "A value is trying to be set on a copy of a slice from a DataFrame.\n",
            "Try using .loc[row_indexer,col_indexer] = value instead\n",
            "\n",
            "See the caveats in the documentation: https://pandas.pydata.org/pandas-docs/stable/user_guide/indexing.html#returning-a-view-versus-a-copy\n",
            "  eeg_subset['ProbeCategory'] = new_probe\n"
          ]
        }
      ]
    },
    {
      "cell_type": "markdown",
      "source": [
        "Standardizing RT"
      ],
      "metadata": {
        "id": "EfZieLFQtDKZ"
      }
    },
    {
      "cell_type": "code",
      "source": [
        "pl.figure(figsize = (7, 7))\n",
        "ax = sns.boxplot(y=\"ReactionTime\", data=eeg_subset)\n",
        "pl.title(\"Distribution of RT values\");"
      ],
      "metadata": {
        "id": "mlOKivjBtAqJ",
        "outputId": "dfb122f3-c885-4b25-95f0-20db523f8a1d",
        "colab": {
          "base_uri": "https://localhost:8080/",
          "height": 427
        }
      },
      "execution_count": 119,
      "outputs": [
        {
          "output_type": "display_data",
          "data": {
            "text/plain": [
              "<Figure size 504x504 with 1 Axes>"
            ],
            "image/png": "[encoded data removed]"
          },
          "metadata": {}
        }
      ]
    },
    {
      "cell_type": "code",
      "source": [
        "# check for outliers outside \n",
        "eeg_no_outliers = eeg_subset.copy()\n",
        "q75 = np.percentile(eeg_no_outliers['ReactionTime'], 75)\n",
        "q25 = np.percentile(eeg_no_outliers['ReactionTime'], 25)\n",
        "inter_qr = q75 - q25\n",
        "upper = q75 + (inter_qr*1.5)\n",
        "lower = q25 - (inter_qr*1.5)\n",
        "col_new = []\n",
        "index = 0\n",
        "for value in eeg_no_outliers['ReactionTime'].values:\n",
        "  if value < lower:\n",
        "    col_new.append(np.nan)\n",
        "    index += 1\n",
        "  elif value > upper:\n",
        "    col_new.append(np.nan)\n",
        "    index += 1\n",
        "  else:\n",
        "    col_new.append(value)\n",
        "print(index)"
      ],
      "metadata": {
        "id": "N5igoRe4tHXp",
        "outputId": "1ca9fc25-22d9-43e8-fc1a-58d4bbb2eb67",
        "colab": {
          "base_uri": "https://localhost:8080/"
        }
      },
      "execution_count": 120,
      "outputs": [
        {
          "output_type": "stream",
          "name": "stdout",
          "text": [
            "0\n"
          ]
        }
      ]
    },
    {
      "cell_type": "markdown",
      "source": [
        "No outliers in the EEG dataset"
      ],
      "metadata": {
        "id": "mdR3fZrYtJeB"
      }
    },
    {
      "cell_type": "code",
      "source": [
        "# standardization with RT without outliers \n",
        "rt = eeg_subset[eeg_subset['Response'] != 'No Response'].ReactionTime.values\n",
        "rt_mean = rt.mean()\n",
        "rt_std = rt.std()\n",
        "newRT = []\n",
        "for i in eeg_subset.ReactionTime.values:\n",
        "  if math.isnan(i) == True:\n",
        "    newRT.append(i)\n",
        "  else:\n",
        "    newRT.append((i - rt_mean)/rt_std)"
      ],
      "metadata": {
        "id": "T4SLA8dFtKq5"
      },
      "execution_count": 134,
      "outputs": []
    },
    {
      "cell_type": "code",
      "source": [
        "eeg_subset['stdRT'] = newRT"
      ],
      "metadata": {
        "id": "ChmxPXnrtP4g",
        "outputId": "89083e42-1f02-4d2f-e000-fa1f89cd8984",
        "colab": {
          "base_uri": "https://localhost:8080/"
        }
      },
      "execution_count": 135,
      "outputs": [
        {
          "output_type": "stream",
          "name": "stderr",
          "text": [
            "<ipython-input-135-af2a9f2fc113>:1: SettingWithCopyWarning: \n",
            "A value is trying to be set on a copy of a slice from a DataFrame.\n",
            "Try using .loc[row_indexer,col_indexer] = value instead\n",
            "\n",
            "See the caveats in the documentation: https://pandas.pydata.org/pandas-docs/stable/user_guide/indexing.html#returning-a-view-versus-a-copy\n",
            "  eeg_subset['stdRT'] = newRT\n"
          ]
        }
      ]
    },
    {
      "cell_type": "code",
      "source": [
        "pl.figure(figsize = (7, 7))\n",
        "ax = sns.boxplot(y=\"stdRT\", data=eeg_subset)\n",
        "pl.title(\"Distribution of standardized RT values\");"
      ],
      "metadata": {
        "id": "ebBi6ciLtYuR",
        "outputId": "72face77-c516-4fa0-e6e0-f372ac9635de",
        "colab": {
          "base_uri": "https://localhost:8080/",
          "height": 427
        }
      },
      "execution_count": 138,
      "outputs": [
        {
          "output_type": "display_data",
          "data": {
            "text/plain": [
              "<Figure size 504x504 with 1 Axes>"
            ],
            "image/png": "[encoded data removed]"
          },
          "metadata": {}
        }
      ]
    },
    {
      "cell_type": "code",
      "source": [
        "# upper plot - with outliers, lower plots - without\n",
        "pl.figure(figsize = (20, 10))\n",
        "sns.displot(eeg_subset['ReactionTime']);\n",
        "sns.displot(eeg_subset['stdRT']);"
      ],
      "metadata": {
        "id": "dA5bXGAgtdH4",
        "outputId": "7ae8daf0-1ce2-4638-e014-d0389cdeae74",
        "colab": {
          "base_uri": "https://localhost:8080/",
          "height": 730
        }
      },
      "execution_count": 139,
      "outputs": [
        {
          "output_type": "display_data",
          "data": {
            "text/plain": [
              "<Figure size 1440x720 with 0 Axes>"
            ]
          },
          "metadata": {}
        },
        {
          "output_type": "display_data",
          "data": {
            "text/plain": [
              "<Figure size 360x360 with 1 Axes>"
            ],
            "image/png": "[encoded data removed]"
          },
          "metadata": {}
        },
        {
          "output_type": "display_data",
          "data": {
            "text/plain": [
              "<Figure size 360x360 with 1 Axes>"
            ],
            "image/png": "[encoded data removed]"
          },
          "metadata": {}
        }
      ]
    },
    {
      "cell_type": "code",
      "source": [
        "lex = []\n",
        "phon = []\n",
        "for i in eeg_subset.ProbeCategory.values:\n",
        "  if 'non-words' in i: # non - words = 0, words = 0\n",
        "    lex.append(0)\n",
        "  elif 'words' in i:\n",
        "    lex.append(1)\n",
        "for i in eeg_subset.ProbeCategory.values:\n",
        "  if 'low' in i: # low = 1 high = 0\n",
        "    phon.append(1)\n",
        "  elif 'high' in i:\n",
        "    phon.append(0)\n",
        "print(len(lex))\n",
        "print(len(phon))"
      ],
      "metadata": {
        "id": "MIv7ybl6tYww",
        "outputId": "a68eaff8-e2e6-4d48-98e0-00aeae29d5ce",
        "colab": {
          "base_uri": "https://localhost:8080/"
        }
      },
      "execution_count": 140,
      "outputs": [
        {
          "output_type": "stream",
          "name": "stdout",
          "text": [
            "5568\n",
            "5568\n"
          ]
        }
      ]
    },
    {
      "cell_type": "code",
      "source": [
        "eeg_subset['Lex'] = lex\n",
        "eeg_subset['Phono'] = phon"
      ],
      "metadata": {
        "id": "_vsivkuGtY1S",
        "outputId": "65958b5e-6ce2-4d11-d930-dd3857377ecc",
        "colab": {
          "base_uri": "https://localhost:8080/"
        }
      },
      "execution_count": 142,
      "outputs": [
        {
          "output_type": "stream",
          "name": "stderr",
          "text": [
            "<ipython-input-142-900deb494d65>:1: SettingWithCopyWarning: \n",
            "A value is trying to be set on a copy of a slice from a DataFrame.\n",
            "Try using .loc[row_indexer,col_indexer] = value instead\n",
            "\n",
            "See the caveats in the documentation: https://pandas.pydata.org/pandas-docs/stable/user_guide/indexing.html#returning-a-view-versus-a-copy\n",
            "  eeg_subset['Lex'] = lex\n",
            "<ipython-input-142-900deb494d65>:2: SettingWithCopyWarning: \n",
            "A value is trying to be set on a copy of a slice from a DataFrame.\n",
            "Try using .loc[row_indexer,col_indexer] = value instead\n",
            "\n",
            "See the caveats in the documentation: https://pandas.pydata.org/pandas-docs/stable/user_guide/indexing.html#returning-a-view-versus-a-copy\n",
            "  eeg_subset['Phono'] = phon\n"
          ]
        }
      ]
    },
    {
      "cell_type": "markdown",
      "source": [
        "##Stats on EEG"
      ],
      "metadata": {
        "id": "7GHtZbGOxQ5J"
      }
    },
    {
      "cell_type": "code",
      "source": [
        "print(\n",
        "    'Accuracy without \"No response\" trials',\n",
        "    eeg_subset[eeg_subset['Response'] != 'No Response'].ResponseCorrect.mean()\n",
        ")\n",
        "print(\n",
        "    'Accuracy with \"No response\" trials',\n",
        "    eeg_subset.ResponseCorrect.mean()\n",
        ")\n",
        "    "
      ],
      "metadata": {
        "id": "V5dvdla-xMBo",
        "outputId": "30601bca-0dea-4165-91ac-1c58e8dfdb37",
        "colab": {
          "base_uri": "https://localhost:8080/"
        }
      },
      "execution_count": 171,
      "outputs": [
        {
          "output_type": "stream",
          "name": "stdout",
          "text": [
            "Accuracy without \"No response\" trials 0.8723482077542063\n",
            "Accuracy with \"No response\" trials 0.8566810344827587\n"
          ]
        }
      ]
    },
    {
      "cell_type": "code",
      "source": [
        "print('Shape of the dataset with no response trials', eeg_subset.shape)\n",
        "print('Shape of the dataset without no response trials', eeg_subset[eeg_subset['Response'] != 'No Response'].shape)"
      ],
      "metadata": {
        "id": "BoJN4NOZxMGv",
        "outputId": "29ae477c-fda5-45ff-8752-f58ee93a1c0a",
        "colab": {
          "base_uri": "https://localhost:8080/"
        }
      },
      "execution_count": 173,
      "outputs": [
        {
          "output_type": "stream",
          "name": "stdout",
          "text": [
            "Shape of the dataset with no response trials (5568, 21)\n",
            "Shape of the dataset without no response trials (5468, 21)\n"
          ]
        }
      ]
    },
    {
      "cell_type": "code",
      "source": [
        "sns.distplot(eeg_subset[eeg_subset['Response'] != 'No Response'].ReactionTime)\n",
        "pl.title('RT distribution');\n",
        "print(\n",
        "    'Mean', eeg_subset[eeg_subset['Response'] != 'No Response'].ReactionTime.mean(),\n",
        "    'Max', eeg_subset[eeg_subset['Response'] != 'No Response'].ReactionTime.max(),\n",
        "    'Min', eeg_subset[eeg_subset['Response'] != 'No Response'].ReactionTime.min()\n",
        ")"
      ],
      "metadata": {
        "id": "d7f1iCwtxZVF",
        "outputId": "0c4d7ee3-55fd-4f10-e931-47cf5dd4b52e",
        "colab": {
          "base_uri": "https://localhost:8080/",
          "height": 373
        }
      },
      "execution_count": 174,
      "outputs": [
        {
          "output_type": "stream",
          "name": "stderr",
          "text": [
            "/usr/local/lib/python3.8/dist-packages/seaborn/distributions.py:2619: FutureWarning: `distplot` is a deprecated function and will be removed in a future version. Please adapt your code to use either `displot` (a figure-level function with similar flexibility) or `histplot` (an axes-level function for histograms).\n",
            "  warnings.warn(msg, FutureWarning)\n"
          ]
        },
        {
          "output_type": "stream",
          "name": "stdout",
          "text": [
            "Mean 1.1349431817298263 Max 2.492920639537033 Min 0.43356203194434784\n"
          ]
        },
        {
          "output_type": "display_data",
          "data": {
            "text/plain": [
              "<Figure size 432x288 with 1 Axes>"
            ],
            "image/png": "[encoded data removed]"
          },
          "metadata": {}
        }
      ]
    },
    {
      "cell_type": "code",
      "source": [
        "values = []\n",
        "for i in eeg_subset[eeg_subset['Response'] != 'No Response'].Subject.unique():\n",
        "  subset = eeg_subset[eeg_subset['Response'] != 'No Response']\n",
        "  subset = subset[subset['Subject'] == i]\n",
        "  q75 = np.percentile(subset['ReactionTime'], 75)\n",
        "  q25 = np.percentile(subset['ReactionTime'], 25)\n",
        "  inter_qr = q75 - q25\n",
        "  upper = q75 + (inter_qr*3)\n",
        "  lower = q25 - (inter_qr*3)\n",
        "  index = 0\n",
        "  for val in subset.ReactionTime.values:\n",
        "    if val < lower:\n",
        "      values.append((i, val))\n",
        "      index += 1\n",
        "    elif val > upper:\n",
        "      values.append((i, val))\n",
        "      index += 1\n",
        "  print(i, index)"
      ],
      "metadata": {
        "id": "yKhsOOluxfhq",
        "outputId": "4d8d183a-6256-4114-d441-44d3d40f4971",
        "colab": {
          "base_uri": "https://localhost:8080/"
        }
      },
      "execution_count": 176,
      "outputs": [
        {
          "output_type": "stream",
          "name": "stdout",
          "text": [
            "E2 2\n",
            "E3 0\n",
            "E4 0\n",
            "E5 0\n",
            "E6 3\n",
            "E7 5\n",
            "E8 3\n",
            "E9 7\n",
            "E10 6\n",
            "E11 1\n",
            "E12 1\n",
            "E13 0\n",
            "E15 0\n",
            "E16 2\n",
            "E17 0\n",
            "E18 4\n",
            "E20 1\n",
            "E21 0\n",
            "E22 0\n",
            "E23 2\n",
            "E24 2\n",
            "E25 1\n",
            "E26 0\n",
            "E27 0\n",
            "E28 0\n",
            "E29 0\n",
            "E30 0\n",
            "E31 0\n",
            "E33 7\n"
          ]
        }
      ]
    },
    {
      "cell_type": "code",
      "source": [
        "len(values)"
      ],
      "metadata": {
        "id": "2DHhRBf2xfkj",
        "outputId": "8a78c656-1314-4869-9c1b-344ca5391094",
        "colab": {
          "base_uri": "https://localhost:8080/"
        }
      },
      "execution_count": 177,
      "outputs": [
        {
          "output_type": "execute_result",
          "data": {
            "text/plain": [
              "47"
            ]
          },
          "metadata": {},
          "execution_count": 177
        }
      ]
    },
    {
      "cell_type": "code",
      "source": [
        "# check for normality of the distribution\n",
        "test = shapiro(eeg_subset[eeg_subset['Response'] != 'No Response']['ReactionTime'].values)\n",
        "if test[1] > 0.05:\n",
        "  print('Probably Gaussian')\n",
        "else:\n",
        "  print('Probably not Gaussian')"
      ],
      "metadata": {
        "id": "NkAP0CxXxfqg",
        "outputId": "8c92adc6-2a84-4460-a139-1c9e6edefddd",
        "colab": {
          "base_uri": "https://localhost:8080/"
        }
      },
      "execution_count": 181,
      "outputs": [
        {
          "output_type": "stream",
          "name": "stdout",
          "text": [
            "Probably not Gaussian\n"
          ]
        },
        {
          "output_type": "stream",
          "name": "stderr",
          "text": [
            "/usr/local/lib/python3.8/dist-packages/scipy/stats/morestats.py:1760: UserWarning: p-value may not be accurate for N > 5000.\n",
            "  warnings.warn(\"p-value may not be accurate for N > 5000.\")\n"
          ]
        }
      ]
    },
    {
      "cell_type": "code",
      "source": [
        "normaltest(eeg_subset[eeg_subset['Response'] != 'No Response']['ReactionTime'].values)"
      ],
      "metadata": {
        "id": "VfV2qnn0yA_f",
        "outputId": "624f9d9a-ebc0-49a1-d91f-c2674c9a144e",
        "colab": {
          "base_uri": "https://localhost:8080/"
        }
      },
      "execution_count": 182,
      "outputs": [
        {
          "output_type": "execute_result",
          "data": {
            "text/plain": [
              "NormaltestResult(statistic=619.6311037347008, pvalue=2.8107059705027285e-135)"
            ]
          },
          "metadata": {},
          "execution_count": 182
        }
      ]
    },
    {
      "cell_type": "code",
      "source": [
        "fitted_data, fitted_lambda = boxcox(eeg_subset[eeg_subset['Response'] != 'No Response']['ReactionTime'].values)"
      ],
      "metadata": {
        "id": "SA_-r7h_yCc_"
      },
      "execution_count": 183,
      "outputs": []
    },
    {
      "cell_type": "code",
      "source": [
        "fig, ax = pl.subplots(1, 2)\n",
        "sns.distplot(eeg_subset[eeg_subset['Response'] != 'No Response']['ReactionTime'].values, hist = False, kde = True,\n",
        "            label = \"Non-Normal\", color =\"green\", ax = ax[0])\n",
        " \n",
        "sns.distplot(fitted_data, hist = False, kde = True,\n",
        "            label = \"Normal\", color =\"green\", ax = ax[1]);"
      ],
      "metadata": {
        "id": "CG-noUWZyCwf",
        "outputId": "8463d9c0-800d-4841-ea2a-fd04c9193b53",
        "colab": {
          "base_uri": "https://localhost:8080/",
          "height": 357
        }
      },
      "execution_count": 184,
      "outputs": [
        {
          "output_type": "stream",
          "name": "stderr",
          "text": [
            "/usr/local/lib/python3.8/dist-packages/seaborn/distributions.py:2619: FutureWarning: `distplot` is a deprecated function and will be removed in a future version. Please adapt your code to use either `displot` (a figure-level function with similar flexibility) or `kdeplot` (an axes-level function for kernel density plots).\n",
            "  warnings.warn(msg, FutureWarning)\n",
            "/usr/local/lib/python3.8/dist-packages/seaborn/distributions.py:2619: FutureWarning: `distplot` is a deprecated function and will be removed in a future version. Please adapt your code to use either `displot` (a figure-level function with similar flexibility) or `kdeplot` (an axes-level function for kernel density plots).\n",
            "  warnings.warn(msg, FutureWarning)\n"
          ]
        },
        {
          "output_type": "display_data",
          "data": {
            "text/plain": [
              "<Figure size 432x288 with 2 Axes>"
            ],
            "image/png": "[encoded data removed]"
          },
          "metadata": {
            "needs_background": "light"
          }
        }
      ]
    },
    {
      "cell_type": "code",
      "source": [
        "eeg_subset[eeg_subset['Response'] != 'No Response']['stdRT'] = fitted_data"
      ],
      "metadata": {
        "id": "cYRTWhC0yEPv",
        "outputId": "5af1c4ae-3ca8-4369-fb50-d5fd21c477f9",
        "colab": {
          "base_uri": "https://localhost:8080/"
        }
      },
      "execution_count": 185,
      "outputs": [
        {
          "output_type": "stream",
          "name": "stderr",
          "text": [
            "<ipython-input-185-beae636ae5d4>:1: SettingWithCopyWarning: \n",
            "A value is trying to be set on a copy of a slice from a DataFrame.\n",
            "Try using .loc[row_indexer,col_indexer] = value instead\n",
            "\n",
            "See the caveats in the documentation: https://pandas.pydata.org/pandas-docs/stable/user_guide/indexing.html#returning-a-view-versus-a-copy\n",
            "  eeg_subset[eeg_subset['Response'] != 'No Response']['stdRT'] = fitted_data\n"
          ]
        }
      ]
    },
    {
      "cell_type": "code",
      "source": [
        "print(fitted_lambda)\n",
        "print('Shapiro test:', shapiro(fitted_data))\n",
        "print('Other normal test:', normaltest(fitted_data))"
      ],
      "metadata": {
        "id": "dW23YrnqyLJH",
        "outputId": "77f3e568-97e4-470d-d363-7d708d8ed45d",
        "colab": {
          "base_uri": "https://localhost:8080/"
        }
      },
      "execution_count": 186,
      "outputs": [
        {
          "output_type": "stream",
          "name": "stdout",
          "text": [
            "-0.14836812286618403\n",
            "Shapiro test: ShapiroResult(statistic=0.9975175857543945, pvalue=8.745944057864108e-08)\n",
            "Other normal test: NormaltestResult(statistic=39.477175381694096, pvalue=2.6769501589031745e-09)\n"
          ]
        },
        {
          "output_type": "stream",
          "name": "stderr",
          "text": [
            "/usr/local/lib/python3.8/dist-packages/scipy/stats/morestats.py:1760: UserWarning: p-value may not be accurate for N > 5000.\n",
            "  warnings.warn(\"p-value may not be accurate for N > 5000.\")\n"
          ]
        }
      ]
    },
    {
      "cell_type": "markdown",
      "source": [
        "'No Response' trials are coded as incorrect in the data already, so we don't need to recode this."
      ],
      "metadata": {
        "id": "zgULsjrtyOun"
      }
    },
    {
      "cell_type": "code",
      "source": [
        "# saving result\n",
        "eeg_subset.to_csv(\n",
        "    Path(working_path).joinpath('eeg_processed.csv')\n",
        ")"
      ],
      "metadata": {
        "id": "okH33vFr0vSA"
      },
      "execution_count": 210,
      "outputs": []
    }
  ]
}