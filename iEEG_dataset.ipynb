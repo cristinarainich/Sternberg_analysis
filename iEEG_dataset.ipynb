{
  "nbformat": 4,
  "nbformat_minor": 0,
  "metadata": {
    "colab": {
      "name": "iEEG dataset.ipynb",
      "provenance": [],
      "toc_visible": true,
      "authorship_tag": "ABX9TyNQUObEk3OoJIougRnDPi06",
      "include_colab_link": true
    },
    "kernelspec": {
      "name": "python3",
      "display_name": "Python 3"
    },
    "language_info": {
      "name": "python"
    }
  },
  "cells": [
    {
      "cell_type": "markdown",
      "metadata": {
        "id": "view-in-github",
        "colab_type": "text"
      },
      "source": [
        "<a href=\"https://colab.research.google.com/github/cristinarainich/Sternberg_analysis/blob/main/iEEG_dataset.ipynb\" target=\"_parent\"><img src=\"https://colab.research.google.com/assets/colab-badge.svg\" alt=\"Open In Colab\"/></a>"
      ]
    },
    {
      "cell_type": "code",
      "source": [
        "import pandas as pd\n",
        "import numpy as np\n",
        "from pathlib import Path\n",
        "import pylab as pl\n",
        "import seaborn as sns\n",
        "import re\n",
        "from scipy import stats\n",
        "import scipy.io\n",
        "\n",
        "%pylab inline"
      ],
      "metadata": {
        "colab": {
          "base_uri": "https://localhost:8080/"
        },
        "id": "1gaQzydcrfz-",
        "outputId": "a0ff746b-7974-407a-d7be-d7e67b4be707"
      },
      "execution_count": null,
      "outputs": [
        {
          "output_type": "stream",
          "name": "stdout",
          "text": [
            "Populating the interactive namespace from numpy and matplotlib\n"
          ]
        }
      ]
    },
    {
      "cell_type": "code",
      "source": [
        "sns.set()"
      ],
      "metadata": {
        "id": "ouXymOKUBLxA"
      },
      "execution_count": null,
      "outputs": []
    },
    {
      "cell_type": "code",
      "source": [
        "from google.colab import drive\n",
        "drive.mount('/content/drive')"
      ],
      "metadata": {
        "colab": {
          "base_uri": "https://localhost:8080/"
        },
        "id": "Xz4FgghOxoD-",
        "outputId": "661d57a2-a782-4909-e4c3-dbdd27ba7e9d"
      },
      "execution_count": null,
      "outputs": [
        {
          "output_type": "stream",
          "name": "stdout",
          "text": [
            "Mounted at /content/drive\n"
          ]
        }
      ]
    },
    {
      "cell_type": "code",
      "source": [
        "working_path = Path('/content/drive/MyDrive/CoganLab/Neighbourhood')"
      ],
      "metadata": {
        "id": "oBdh-SQHxwA_"
      },
      "execution_count": 33,
      "outputs": []
    },
    {
      "cell_type": "code",
      "source": [
        "ieeg = pd.read_csv(\n",
        "    working_path.joinpath('ieeg_all.csv'),\n",
        "    index_col=None\n",
        ")"
      ],
      "metadata": {
        "id": "ql6LyVe6xwT2"
      },
      "execution_count": 34,
      "outputs": []
    },
    {
      "cell_type": "markdown",
      "source": [
        "# Preprocessing"
      ],
      "metadata": {
        "id": "-dnPv0pbxzp9"
      }
    },
    {
      "cell_type": "code",
      "source": [
        "ieeg = ieeg.loc[:, ieeg.columns != 'Unnamed: 0'] # some extra column appeared while uploading data"
      ],
      "metadata": {
        "id": "6IPT5WaMx3j1"
      },
      "execution_count": 35,
      "outputs": []
    },
    {
      "cell_type": "code",
      "source": [
        "ieeg.isnull().sum()"
      ],
      "metadata": {
        "colab": {
          "base_uri": "https://localhost:8080/"
        },
        "id": "-nHFoqQhx71l",
        "outputId": "984daffd-7b41-47a2-8e5c-ee9551bb26cd"
      },
      "execution_count": 36,
      "outputs": [
        {
          "output_type": "execute_result",
          "data": {
            "text/plain": [
              "block                       0\n",
              "ProbeType                   0\n",
              "ProbeTypeName               0\n",
              "StimlusCategory             0\n",
              "ReactionTime                0\n",
              "KeyCode                     0\n",
              "Resp                        0\n",
              "RespCorrect                 0\n",
              "Omission                  160\n",
              "stimulusAudioStart          0\n",
              "stimulusAlignedTrigger      0\n",
              "probeAudioStart             0\n",
              "probeAlignedTrigger         0\n",
              "TriggerValue                0\n",
              "stimulusSounds_idx          0\n",
              "stimulusSounds_name         0\n",
              "ProbeCategory               0\n",
              "probeSound_idx              0\n",
              "probeSound_name             0\n",
              "Trial                       0\n",
              "Subject                     0\n",
              "ListenCueTime             953\n",
              "MaintenancePeriodTime     953\n",
              "ProbeCueTime              953\n",
              "dtype: int64"
            ]
          },
          "metadata": {},
          "execution_count": 36
        }
      ]
    },
    {
      "cell_type": "code",
      "source": [
        "ieeg.shape"
      ],
      "metadata": {
        "colab": {
          "base_uri": "https://localhost:8080/"
        },
        "id": "4rBpeZJryrLA",
        "outputId": "2ea78f3b-99a3-47a5-822a-c885110b7e32"
      },
      "execution_count": 37,
      "outputs": [
        {
          "output_type": "execute_result",
          "data": {
            "text/plain": [
              "(5300, 24)"
            ]
          },
          "metadata": {},
          "execution_count": 37
        }
      ]
    },
    {
      "cell_type": "code",
      "source": [
        "ieeg.Subject.unique()"
      ],
      "metadata": {
        "id": "-9fVaYuWICUN",
        "outputId": "548a703a-96c4-440e-f5ba-0e75606d899d",
        "colab": {
          "base_uri": "https://localhost:8080/"
        }
      },
      "execution_count": 38,
      "outputs": [
        {
          "output_type": "execute_result",
          "data": {
            "text/plain": [
              "array(['D23', 'D26', 'D27', 'D28', 'D29', 'D30', 'D31', 'D33', 'D34',\n",
              "       'D35', 'D36', 'D38', 'D39', 'D41', 'D42', 'D47', 'D48', 'D49',\n",
              "       'D53', 'D54', 'D55', 'D57', 'D59', 'D61', 'D63', 'D65', 'D68',\n",
              "       'D69', 'D70', 'D71', 'D72', 'D73', 'D77'], dtype=object)"
            ]
          },
          "metadata": {},
          "execution_count": 38
        }
      ]
    },
    {
      "cell_type": "code",
      "source": [
        "ieeg.columns"
      ],
      "metadata": {
        "id": "AsVBsmb_M0PC",
        "outputId": "fdd8dc9e-3104-4cd6-f0ad-c4174b7ccab9",
        "colab": {
          "base_uri": "https://localhost:8080/"
        }
      },
      "execution_count": 39,
      "outputs": [
        {
          "output_type": "execute_result",
          "data": {
            "text/plain": [
              "Index(['block', 'ProbeType', 'ProbeTypeName', 'StimlusCategory',\n",
              "       'ReactionTime', 'KeyCode', 'Resp', 'RespCorrect', 'Omission',\n",
              "       'stimulusAudioStart', 'stimulusAlignedTrigger', 'probeAudioStart',\n",
              "       'probeAlignedTrigger', 'TriggerValue', 'stimulusSounds_idx',\n",
              "       'stimulusSounds_name', 'ProbeCategory', 'probeSound_idx',\n",
              "       'probeSound_name', 'Trial', 'Subject', 'ListenCueTime',\n",
              "       'MaintenancePeriodTime', 'ProbeCueTime'],\n",
              "      dtype='object')"
            ]
          },
          "metadata": {},
          "execution_count": 39
        }
      ]
    },
    {
      "cell_type": "code",
      "source": [
        "ieeg[['stimulusSounds_name', 'StimlusCategory', 'probeSound_name', 'ProbeCategory']]"
      ],
      "metadata": {
        "id": "69mF8PsLM42I",
        "outputId": "b0c820e2-6f65-4c1b-eefd-1b72176a41f6",
        "colab": {
          "base_uri": "https://localhost:8080/",
          "height": 424
        }
      },
      "execution_count": 40,
      "outputs": [
        {
          "output_type": "execute_result",
          "data": {
            "text/plain": [
              "                                    stimulusSounds_name StimlusCategory  \\\n",
              "0     [[array(['wash.wav'], dtype='<U8')]\\n [array([...       Low Words   \n",
              "1     [[array(['debt.wav'], dtype='<U8')]\\n [array([...      High Words   \n",
              "2     [[array(['rihn.wav'], dtype='<U8')]\\n [array([...  High Non-Words   \n",
              "3     [[array(['witch.wav'], dtype='<U9')]\\n [array(...      High Words   \n",
              "4     [array(['youth.wav'], dtype='<U9'), array(['no...       Low Words   \n",
              "...                                                 ...             ...   \n",
              "5295  [[array(['witch.wav'], dtype='<U9')]\\n [array(...      High Words   \n",
              "5296  [[array(['vern.wav'], dtype='<U8')]\\n [array([...   Low Non-words   \n",
              "5297  [[array(['gear.wav'], dtype='<U8')]\\n [array([...      High Words   \n",
              "5298  [[array(['lair.wav'], dtype='<U8')]\\n [array([...      High Words   \n",
              "5299  [[array(['kihr.wav'], dtype='<U8')]\\n [array([...  High Non-Words   \n",
              "\n",
              "     probeSound_name   ProbeCategory  \n",
              "0           wash.wav       Low Words  \n",
              "1           lair.wav      High Words  \n",
              "2           paon.wav  High Non-Words  \n",
              "3           wash.wav       Low Words  \n",
              "4           soar.wav      High Words  \n",
              "...              ...             ...  \n",
              "5295        noun.wav       Low Words  \n",
              "5296        yuwf.wav   Low Non-words  \n",
              "5297        tube.wav       Low Words  \n",
              "5298        waif.wav       Low Words  \n",
              "5299       zerth.wav   Low Non-Words  \n",
              "\n",
              "[5300 rows x 4 columns]"
            ],
            "text/html": [
              "\n",
              "  <div id=\"df-239d4a24-be5f-4933-8432-bf98624f4f75\">\n",
              "    <div class=\"colab-df-container\">\n",
              "      <div>\n",
              "<style scoped>\n",
              "    .dataframe tbody tr th:only-of-type {\n",
              "        vertical-align: middle;\n",
              "    }\n",
              "\n",
              "    .dataframe tbody tr th {\n",
              "        vertical-align: top;\n",
              "    }\n",
              "\n",
              "    .dataframe thead th {\n",
              "        text-align: right;\n",
              "    }\n",
              "</style>\n",
              "<table border=\"1\" class=\"dataframe\">\n",
              "  <thead>\n",
              "    <tr style=\"text-align: right;\">\n",
              "      <th></th>\n",
              "      <th>stimulusSounds_name</th>\n",
              "      <th>StimlusCategory</th>\n",
              "      <th>probeSound_name</th>\n",
              "      <th>ProbeCategory</th>\n",
              "    </tr>\n",
              "  </thead>\n",
              "  <tbody>\n",
              "    <tr>\n",
              "      <th>0</th>\n",
              "      <td>[[array(['wash.wav'], dtype='&lt;U8')]\\n [array([...</td>\n",
              "      <td>Low Words</td>\n",
              "      <td>wash.wav</td>\n",
              "      <td>Low Words</td>\n",
              "    </tr>\n",
              "    <tr>\n",
              "      <th>1</th>\n",
              "      <td>[[array(['debt.wav'], dtype='&lt;U8')]\\n [array([...</td>\n",
              "      <td>High Words</td>\n",
              "      <td>lair.wav</td>\n",
              "      <td>High Words</td>\n",
              "    </tr>\n",
              "    <tr>\n",
              "      <th>2</th>\n",
              "      <td>[[array(['rihn.wav'], dtype='&lt;U8')]\\n [array([...</td>\n",
              "      <td>High Non-Words</td>\n",
              "      <td>paon.wav</td>\n",
              "      <td>High Non-Words</td>\n",
              "    </tr>\n",
              "    <tr>\n",
              "      <th>3</th>\n",
              "      <td>[[array(['witch.wav'], dtype='&lt;U9')]\\n [array(...</td>\n",
              "      <td>High Words</td>\n",
              "      <td>wash.wav</td>\n",
              "      <td>Low Words</td>\n",
              "    </tr>\n",
              "    <tr>\n",
              "      <th>4</th>\n",
              "      <td>[array(['youth.wav'], dtype='&lt;U9'), array(['no...</td>\n",
              "      <td>Low Words</td>\n",
              "      <td>soar.wav</td>\n",
              "      <td>High Words</td>\n",
              "    </tr>\n",
              "    <tr>\n",
              "      <th>...</th>\n",
              "      <td>...</td>\n",
              "      <td>...</td>\n",
              "      <td>...</td>\n",
              "      <td>...</td>\n",
              "    </tr>\n",
              "    <tr>\n",
              "      <th>5295</th>\n",
              "      <td>[[array(['witch.wav'], dtype='&lt;U9')]\\n [array(...</td>\n",
              "      <td>High Words</td>\n",
              "      <td>noun.wav</td>\n",
              "      <td>Low Words</td>\n",
              "    </tr>\n",
              "    <tr>\n",
              "      <th>5296</th>\n",
              "      <td>[[array(['vern.wav'], dtype='&lt;U8')]\\n [array([...</td>\n",
              "      <td>Low Non-words</td>\n",
              "      <td>yuwf.wav</td>\n",
              "      <td>Low Non-words</td>\n",
              "    </tr>\n",
              "    <tr>\n",
              "      <th>5297</th>\n",
              "      <td>[[array(['gear.wav'], dtype='&lt;U8')]\\n [array([...</td>\n",
              "      <td>High Words</td>\n",
              "      <td>tube.wav</td>\n",
              "      <td>Low Words</td>\n",
              "    </tr>\n",
              "    <tr>\n",
              "      <th>5298</th>\n",
              "      <td>[[array(['lair.wav'], dtype='&lt;U8')]\\n [array([...</td>\n",
              "      <td>High Words</td>\n",
              "      <td>waif.wav</td>\n",
              "      <td>Low Words</td>\n",
              "    </tr>\n",
              "    <tr>\n",
              "      <th>5299</th>\n",
              "      <td>[[array(['kihr.wav'], dtype='&lt;U8')]\\n [array([...</td>\n",
              "      <td>High Non-Words</td>\n",
              "      <td>zerth.wav</td>\n",
              "      <td>Low Non-Words</td>\n",
              "    </tr>\n",
              "  </tbody>\n",
              "</table>\n",
              "<p>5300 rows × 4 columns</p>\n",
              "</div>\n",
              "      <button class=\"colab-df-convert\" onclick=\"convertToInteractive('df-239d4a24-be5f-4933-8432-bf98624f4f75')\"\n",
              "              title=\"Convert this dataframe to an interactive table.\"\n",
              "              style=\"display:none;\">\n",
              "        \n",
              "  <svg xmlns=\"http://www.w3.org/2000/svg\" height=\"24px\"viewBox=\"0 0 24 24\"\n",
              "       width=\"24px\">\n",
              "    <path d=\"M0 0h24v24H0V0z\" fill=\"none\"/>\n",
              "    <path d=\"M18.56 5.44l.94 2.06.94-2.06 2.06-.94-2.06-.94-.94-2.06-.94 2.06-2.06.94zm-11 1L8.5 8.5l.94-2.06 2.06-.94-2.06-.94L8.5 2.5l-.94 2.06-2.06.94zm10 10l.94 2.06.94-2.06 2.06-.94-2.06-.94-.94-2.06-.94 2.06-2.06.94z\"/><path d=\"M17.41 7.96l-1.37-1.37c-.4-.4-.92-.59-1.43-.59-.52 0-1.04.2-1.43.59L10.3 9.45l-7.72 7.72c-.78.78-.78 2.05 0 2.83L4 21.41c.39.39.9.59 1.41.59.51 0 1.02-.2 1.41-.59l7.78-7.78 2.81-2.81c.8-.78.8-2.07 0-2.86zM5.41 20L4 18.59l7.72-7.72 1.47 1.35L5.41 20z\"/>\n",
              "  </svg>\n",
              "      </button>\n",
              "      \n",
              "  <style>\n",
              "    .colab-df-container {\n",
              "      display:flex;\n",
              "      flex-wrap:wrap;\n",
              "      gap: 12px;\n",
              "    }\n",
              "\n",
              "    .colab-df-convert {\n",
              "      background-color: #E8F0FE;\n",
              "      border: none;\n",
              "      border-radius: 50%;\n",
              "      cursor: pointer;\n",
              "      display: none;\n",
              "      fill: #1967D2;\n",
              "      height: 32px;\n",
              "      padding: 0 0 0 0;\n",
              "      width: 32px;\n",
              "    }\n",
              "\n",
              "    .colab-df-convert:hover {\n",
              "      background-color: #E2EBFA;\n",
              "      box-shadow: 0px 1px 2px rgba(60, 64, 67, 0.3), 0px 1px 3px 1px rgba(60, 64, 67, 0.15);\n",
              "      fill: #174EA6;\n",
              "    }\n",
              "\n",
              "    [theme=dark] .colab-df-convert {\n",
              "      background-color: #3B4455;\n",
              "      fill: #D2E3FC;\n",
              "    }\n",
              "\n",
              "    [theme=dark] .colab-df-convert:hover {\n",
              "      background-color: #434B5C;\n",
              "      box-shadow: 0px 1px 3px 1px rgba(0, 0, 0, 0.15);\n",
              "      filter: drop-shadow(0px 1px 2px rgba(0, 0, 0, 0.3));\n",
              "      fill: #FFFFFF;\n",
              "    }\n",
              "  </style>\n",
              "\n",
              "      <script>\n",
              "        const buttonEl =\n",
              "          document.querySelector('#df-239d4a24-be5f-4933-8432-bf98624f4f75 button.colab-df-convert');\n",
              "        buttonEl.style.display =\n",
              "          google.colab.kernel.accessAllowed ? 'block' : 'none';\n",
              "\n",
              "        async function convertToInteractive(key) {\n",
              "          const element = document.querySelector('#df-239d4a24-be5f-4933-8432-bf98624f4f75');\n",
              "          const dataTable =\n",
              "            await google.colab.kernel.invokeFunction('convertToInteractive',\n",
              "                                                     [key], {});\n",
              "          if (!dataTable) return;\n",
              "\n",
              "          const docLinkHtml = 'Like what you see? Visit the ' +\n",
              "            '<a target=\"_blank\" href=https://colab.research.google.com/notebooks/data_table.ipynb>data table notebook</a>'\n",
              "            + ' to learn more about interactive tables.';\n",
              "          element.innerHTML = '';\n",
              "          dataTable['output_type'] = 'display_data';\n",
              "          await google.colab.output.renderOutput(dataTable, element);\n",
              "          const docLink = document.createElement('div');\n",
              "          docLink.innerHTML = docLinkHtml;\n",
              "          element.appendChild(docLink);\n",
              "        }\n",
              "      </script>\n",
              "    </div>\n",
              "  </div>\n",
              "  "
            ]
          },
          "metadata": {},
          "execution_count": 40
        }
      ]
    },
    {
      "cell_type": "code",
      "source": [
        "ieeg_subset = ieeg[[\n",
        "                 'Trial', 'Subject', 'block', 'ProbeType', 'probeSound_idx',\n",
        "                 'ProbeTypeName', 'StimlusCategory', 'ReactionTime', 'KeyCode',\n",
        "                 'Resp', 'RespCorrect', 'Omission', 'ProbeCategory',\n",
        "                  'stimulusSounds_idx', 'stimulusSounds_name', 'probeSound_name'              \n",
        "]]"
      ],
      "metadata": {
        "id": "33wkUPgjyszu"
      },
      "execution_count": 41,
      "outputs": []
    },
    {
      "cell_type": "code",
      "source": [
        "ieeg_subset.head()"
      ],
      "metadata": {
        "colab": {
          "base_uri": "https://localhost:8080/",
          "height": 444
        },
        "id": "XWCBMhNYzJIL",
        "outputId": "bb6c92d9-6dfb-49d1-8471-e805acfb6768"
      },
      "execution_count": 42,
      "outputs": [
        {
          "output_type": "execute_result",
          "data": {
            "text/plain": [
              "   Trial Subject  block  ProbeType  probeSound_idx    ProbeTypeName  \\\n",
              "0      0     D23      1          2              29      in_sequence   \n",
              "1      1     D23      1          2               5      in_sequence   \n",
              "2      2     D23      1          2              16      in_sequence   \n",
              "3      3     D23      1          1              29  out_of_sequence   \n",
              "4      4     D23      1          1               9  out_of_sequence   \n",
              "\n",
              "  StimlusCategory  ReactionTime KeyCode Resp  RespCorrect   Omission  \\\n",
              "0       Low Words      0.857518      37  Yes            1  Responded   \n",
              "1      High Words      1.339604      37  Yes            1  Responded   \n",
              "2  High Non-Words      1.045657      37  Yes            1  Responded   \n",
              "3      High Words      1.497001      39   No            1  Responded   \n",
              "4       Low Words      1.679783      39   No            1  Responded   \n",
              "\n",
              "    ProbeCategory              stimulusSounds_idx  \\\n",
              "0       Low Words                    [[29 25 30]]   \n",
              "1      High Words        [[ 2  5  8  4  7 10  3]]   \n",
              "2  High Non-Words        [[19 14 18 16 20 15 17]]   \n",
              "3       Low Words  [[10  2  7  9  1  8  6  5  4]]   \n",
              "4      High Words            [30, 24, 25, 29, 21]   \n",
              "\n",
              "                                 stimulusSounds_name probeSound_name  \n",
              "0  [[array(['wash.wav'], dtype='<U8')]\\n [array([...        wash.wav  \n",
              "1  [[array(['debt.wav'], dtype='<U8')]\\n [array([...        lair.wav  \n",
              "2  [[array(['rihn.wav'], dtype='<U8')]\\n [array([...        paon.wav  \n",
              "3  [[array(['witch.wav'], dtype='<U9')]\\n [array(...        wash.wav  \n",
              "4  [array(['youth.wav'], dtype='<U9'), array(['no...        soar.wav  "
            ],
            "text/html": [
              "\n",
              "  <div id=\"df-c0fcf616-11c5-4372-8804-22a1d34765fc\">\n",
              "    <div class=\"colab-df-container\">\n",
              "      <div>\n",
              "<style scoped>\n",
              "    .dataframe tbody tr th:only-of-type {\n",
              "        vertical-align: middle;\n",
              "    }\n",
              "\n",
              "    .dataframe tbody tr th {\n",
              "        vertical-align: top;\n",
              "    }\n",
              "\n",
              "    .dataframe thead th {\n",
              "        text-align: right;\n",
              "    }\n",
              "</style>\n",
              "<table border=\"1\" class=\"dataframe\">\n",
              "  <thead>\n",
              "    <tr style=\"text-align: right;\">\n",
              "      <th></th>\n",
              "      <th>Trial</th>\n",
              "      <th>Subject</th>\n",
              "      <th>block</th>\n",
              "      <th>ProbeType</th>\n",
              "      <th>probeSound_idx</th>\n",
              "      <th>ProbeTypeName</th>\n",
              "      <th>StimlusCategory</th>\n",
              "      <th>ReactionTime</th>\n",
              "      <th>KeyCode</th>\n",
              "      <th>Resp</th>\n",
              "      <th>RespCorrect</th>\n",
              "      <th>Omission</th>\n",
              "      <th>ProbeCategory</th>\n",
              "      <th>stimulusSounds_idx</th>\n",
              "      <th>stimulusSounds_name</th>\n",
              "      <th>probeSound_name</th>\n",
              "    </tr>\n",
              "  </thead>\n",
              "  <tbody>\n",
              "    <tr>\n",
              "      <th>0</th>\n",
              "      <td>0</td>\n",
              "      <td>D23</td>\n",
              "      <td>1</td>\n",
              "      <td>2</td>\n",
              "      <td>29</td>\n",
              "      <td>in_sequence</td>\n",
              "      <td>Low Words</td>\n",
              "      <td>0.857518</td>\n",
              "      <td>37</td>\n",
              "      <td>Yes</td>\n",
              "      <td>1</td>\n",
              "      <td>Responded</td>\n",
              "      <td>Low Words</td>\n",
              "      <td>[[29 25 30]]</td>\n",
              "      <td>[[array(['wash.wav'], dtype='&lt;U8')]\\n [array([...</td>\n",
              "      <td>wash.wav</td>\n",
              "    </tr>\n",
              "    <tr>\n",
              "      <th>1</th>\n",
              "      <td>1</td>\n",
              "      <td>D23</td>\n",
              "      <td>1</td>\n",
              "      <td>2</td>\n",
              "      <td>5</td>\n",
              "      <td>in_sequence</td>\n",
              "      <td>High Words</td>\n",
              "      <td>1.339604</td>\n",
              "      <td>37</td>\n",
              "      <td>Yes</td>\n",
              "      <td>1</td>\n",
              "      <td>Responded</td>\n",
              "      <td>High Words</td>\n",
              "      <td>[[ 2  5  8  4  7 10  3]]</td>\n",
              "      <td>[[array(['debt.wav'], dtype='&lt;U8')]\\n [array([...</td>\n",
              "      <td>lair.wav</td>\n",
              "    </tr>\n",
              "    <tr>\n",
              "      <th>2</th>\n",
              "      <td>2</td>\n",
              "      <td>D23</td>\n",
              "      <td>1</td>\n",
              "      <td>2</td>\n",
              "      <td>16</td>\n",
              "      <td>in_sequence</td>\n",
              "      <td>High Non-Words</td>\n",
              "      <td>1.045657</td>\n",
              "      <td>37</td>\n",
              "      <td>Yes</td>\n",
              "      <td>1</td>\n",
              "      <td>Responded</td>\n",
              "      <td>High Non-Words</td>\n",
              "      <td>[[19 14 18 16 20 15 17]]</td>\n",
              "      <td>[[array(['rihn.wav'], dtype='&lt;U8')]\\n [array([...</td>\n",
              "      <td>paon.wav</td>\n",
              "    </tr>\n",
              "    <tr>\n",
              "      <th>3</th>\n",
              "      <td>3</td>\n",
              "      <td>D23</td>\n",
              "      <td>1</td>\n",
              "      <td>1</td>\n",
              "      <td>29</td>\n",
              "      <td>out_of_sequence</td>\n",
              "      <td>High Words</td>\n",
              "      <td>1.497001</td>\n",
              "      <td>39</td>\n",
              "      <td>No</td>\n",
              "      <td>1</td>\n",
              "      <td>Responded</td>\n",
              "      <td>Low Words</td>\n",
              "      <td>[[10  2  7  9  1  8  6  5  4]]</td>\n",
              "      <td>[[array(['witch.wav'], dtype='&lt;U9')]\\n [array(...</td>\n",
              "      <td>wash.wav</td>\n",
              "    </tr>\n",
              "    <tr>\n",
              "      <th>4</th>\n",
              "      <td>4</td>\n",
              "      <td>D23</td>\n",
              "      <td>1</td>\n",
              "      <td>1</td>\n",
              "      <td>9</td>\n",
              "      <td>out_of_sequence</td>\n",
              "      <td>Low Words</td>\n",
              "      <td>1.679783</td>\n",
              "      <td>39</td>\n",
              "      <td>No</td>\n",
              "      <td>1</td>\n",
              "      <td>Responded</td>\n",
              "      <td>High Words</td>\n",
              "      <td>[30, 24, 25, 29, 21]</td>\n",
              "      <td>[array(['youth.wav'], dtype='&lt;U9'), array(['no...</td>\n",
              "      <td>soar.wav</td>\n",
              "    </tr>\n",
              "  </tbody>\n",
              "</table>\n",
              "</div>\n",
              "      <button class=\"colab-df-convert\" onclick=\"convertToInteractive('df-c0fcf616-11c5-4372-8804-22a1d34765fc')\"\n",
              "              title=\"Convert this dataframe to an interactive table.\"\n",
              "              style=\"display:none;\">\n",
              "        \n",
              "  <svg xmlns=\"http://www.w3.org/2000/svg\" height=\"24px\"viewBox=\"0 0 24 24\"\n",
              "       width=\"24px\">\n",
              "    <path d=\"M0 0h24v24H0V0z\" fill=\"none\"/>\n",
              "    <path d=\"M18.56 5.44l.94 2.06.94-2.06 2.06-.94-2.06-.94-.94-2.06-.94 2.06-2.06.94zm-11 1L8.5 8.5l.94-2.06 2.06-.94-2.06-.94L8.5 2.5l-.94 2.06-2.06.94zm10 10l.94 2.06.94-2.06 2.06-.94-2.06-.94-.94-2.06-.94 2.06-2.06.94z\"/><path d=\"M17.41 7.96l-1.37-1.37c-.4-.4-.92-.59-1.43-.59-.52 0-1.04.2-1.43.59L10.3 9.45l-7.72 7.72c-.78.78-.78 2.05 0 2.83L4 21.41c.39.39.9.59 1.41.59.51 0 1.02-.2 1.41-.59l7.78-7.78 2.81-2.81c.8-.78.8-2.07 0-2.86zM5.41 20L4 18.59l7.72-7.72 1.47 1.35L5.41 20z\"/>\n",
              "  </svg>\n",
              "      </button>\n",
              "      \n",
              "  <style>\n",
              "    .colab-df-container {\n",
              "      display:flex;\n",
              "      flex-wrap:wrap;\n",
              "      gap: 12px;\n",
              "    }\n",
              "\n",
              "    .colab-df-convert {\n",
              "      background-color: #E8F0FE;\n",
              "      border: none;\n",
              "      border-radius: 50%;\n",
              "      cursor: pointer;\n",
              "      display: none;\n",
              "      fill: #1967D2;\n",
              "      height: 32px;\n",
              "      padding: 0 0 0 0;\n",
              "      width: 32px;\n",
              "    }\n",
              "\n",
              "    .colab-df-convert:hover {\n",
              "      background-color: #E2EBFA;\n",
              "      box-shadow: 0px 1px 2px rgba(60, 64, 67, 0.3), 0px 1px 3px 1px rgba(60, 64, 67, 0.15);\n",
              "      fill: #174EA6;\n",
              "    }\n",
              "\n",
              "    [theme=dark] .colab-df-convert {\n",
              "      background-color: #3B4455;\n",
              "      fill: #D2E3FC;\n",
              "    }\n",
              "\n",
              "    [theme=dark] .colab-df-convert:hover {\n",
              "      background-color: #434B5C;\n",
              "      box-shadow: 0px 1px 3px 1px rgba(0, 0, 0, 0.15);\n",
              "      filter: drop-shadow(0px 1px 2px rgba(0, 0, 0, 0.3));\n",
              "      fill: #FFFFFF;\n",
              "    }\n",
              "  </style>\n",
              "\n",
              "      <script>\n",
              "        const buttonEl =\n",
              "          document.querySelector('#df-c0fcf616-11c5-4372-8804-22a1d34765fc button.colab-df-convert');\n",
              "        buttonEl.style.display =\n",
              "          google.colab.kernel.accessAllowed ? 'block' : 'none';\n",
              "\n",
              "        async function convertToInteractive(key) {\n",
              "          const element = document.querySelector('#df-c0fcf616-11c5-4372-8804-22a1d34765fc');\n",
              "          const dataTable =\n",
              "            await google.colab.kernel.invokeFunction('convertToInteractive',\n",
              "                                                     [key], {});\n",
              "          if (!dataTable) return;\n",
              "\n",
              "          const docLinkHtml = 'Like what you see? Visit the ' +\n",
              "            '<a target=\"_blank\" href=https://colab.research.google.com/notebooks/data_table.ipynb>data table notebook</a>'\n",
              "            + ' to learn more about interactive tables.';\n",
              "          element.innerHTML = '';\n",
              "          dataTable['output_type'] = 'display_data';\n",
              "          await google.colab.output.renderOutput(dataTable, element);\n",
              "          const docLink = document.createElement('div');\n",
              "          docLink.innerHTML = docLinkHtml;\n",
              "          element.appendChild(docLink);\n",
              "        }\n",
              "      </script>\n",
              "    </div>\n",
              "  </div>\n",
              "  "
            ]
          },
          "metadata": {},
          "execution_count": 42
        }
      ]
    },
    {
      "cell_type": "markdown",
      "source": [
        "Checking for accuracy of subjects "
      ],
      "metadata": {
        "id": "VoNbA4YLQgjo"
      }
    },
    {
      "cell_type": "code",
      "source": [
        "# check if any of the subjects is less than 75 % accurate\n",
        "checkset = ieeg_subset.groupby(['Subject'])[['RespCorrect']].apply(\n",
        "    lambda x: x.sum()/x.count()\n",
        ")\n",
        "(checkset < 0.75).any()"
      ],
      "metadata": {
        "colab": {
          "base_uri": "https://localhost:8080/"
        },
        "id": "7sVvlQxUz0pX",
        "outputId": "33cef6bc-e7db-4143-e7df-4d06cac29ff5"
      },
      "execution_count": 43,
      "outputs": [
        {
          "output_type": "execute_result",
          "data": {
            "text/plain": [
              "RespCorrect    True\n",
              "dtype: bool"
            ]
          },
          "metadata": {},
          "execution_count": 43
        }
      ]
    },
    {
      "cell_type": "code",
      "source": [
        "options_drop = checkset[checkset['RespCorrect'] < 0.75].index\n",
        "checkset = checkset.reset_index()\n",
        "\n",
        "print('The subjects with accuracy less than 75 %')\n",
        "print(options_drop)\n",
        "x = []\n",
        "for i in checkset.Subject.values:\n",
        "  for j in options_drop:\n",
        "    if i == j:\n",
        "      x.append(checkset.loc[checkset['Subject'] == i][['RespCorrect']].values[0][0])\n",
        "print(x)  "
      ],
      "metadata": {
        "colab": {
          "base_uri": "https://localhost:8080/"
        },
        "id": "nbUxDsj5Qtrh",
        "outputId": "0f855750-fceb-4cb5-b916-e50f740f6e5d"
      },
      "execution_count": 44,
      "outputs": [
        {
          "output_type": "stream",
          "name": "stdout",
          "text": [
            "The subjects with accuracy less than 75 %\n",
            "Index(['D30', 'D33', 'D49', 'D54', 'D61', 'D65', 'D70', 'D77'], dtype='object', name='Subject')\n",
            "[0.70625, 0.6310160427807486, 0.61875, 0.43125, 0.6125, 0.65, 0.71875, 0.725]\n"
          ]
        }
      ]
    },
    {
      "cell_type": "markdown",
      "source": [
        "Cleaning 'No response' trials"
      ],
      "metadata": {
        "id": "gJ4Yc52hVh5s"
      }
    },
    {
      "cell_type": "code",
      "source": [
        "ieeg_subset[ieeg_subset['Resp'] == 'No Response']"
      ],
      "metadata": {
        "colab": {
          "base_uri": "https://localhost:8080/",
          "height": 835
        },
        "id": "g94fHeDNx9lF",
        "outputId": "c82dd2de-1278-445d-e047-879482d9568e"
      },
      "execution_count": 45,
      "outputs": [
        {
          "output_type": "execute_result",
          "data": {
            "text/plain": [
              "      Trial Subject  block  ProbeType  probeSound_idx    ProbeTypeName  \\\n",
              "9         9     D23      1          2              39      in_sequence   \n",
              "19       19     D23      1          1              40  out_of_sequence   \n",
              "26       26     D23      1          1              33  out_of_sequence   \n",
              "32       32     D23      2          2              25      in_sequence   \n",
              "97       97     D23      4          1              36  out_of_sequence   \n",
              "...     ...     ...    ...        ...             ...              ...   \n",
              "5217     77     D77      3          1              39  out_of_sequence   \n",
              "5256    116     D77      4          1              40  out_of_sequence   \n",
              "5260    120     D77      4          2              39      in_sequence   \n",
              "5278    138     D77      5          1              37  out_of_sequence   \n",
              "5280    140     D77      5          2              24      in_sequence   \n",
              "\n",
              "     StimlusCategory  ReactionTime                 KeyCode         Resp  \\\n",
              "9      Low Non-words      2.502478         [[37 39 32 27]]  No Response   \n",
              "19    High Non-Words      2.502283         [[37 39 32 27]]  No Response   \n",
              "26    High Non-Words      2.502340         [[37 39 32 27]]  No Response   \n",
              "32         Low Words      2.502395         [[37 39 32 27]]  No Response   \n",
              "97    High Non-Words      2.502652         [[37 39 32 27]]  No Response   \n",
              "...              ...           ...                     ...          ...   \n",
              "5217   Low Non-words      2.501365  [114, 115, 66, 10, 27]  No Response   \n",
              "5256   Low Non-words      2.501420  [114, 115, 66, 10, 27]  No Response   \n",
              "5260   Low Non-words      2.501402  [114, 115, 66, 10, 27]  No Response   \n",
              "5278  High Non-Words      2.501428  [114, 115, 66, 10, 27]  No Response   \n",
              "5280       Low Words      2.501381  [114, 115, 66, 10, 27]  No Response   \n",
              "\n",
              "      RespCorrect     Omission  ProbeCategory              stimulusSounds_idx  \\\n",
              "9               0  No Response  Low Non-words  [[32 37 31 39 40 35 33 38 36]]   \n",
              "19              0  No Response  Low Non-Words        [[17 19 18 13 15 12 16]]   \n",
              "26              0  No Response  Low Non-Words                    [[13 18 14]]   \n",
              "32              0  No Response      Low Words  [[30 22 25 29 21 23 24 28 27]]   \n",
              "97              0  No Response  Low Non-Words                    [[16 17 18]]   \n",
              "...           ...          ...            ...                             ...   \n",
              "5217            0  No Response  Low Non-Words        [[38 36 34 32 35 37 31]]   \n",
              "5256            0  No Response  Low Non-Words                    [[33 37 34]]   \n",
              "5260            0  No Response  Low Non-words                    [[39 38 35]]   \n",
              "5278            0  No Response  Low Non-Words        [[17 14 16 12 19 15 13]]   \n",
              "5280            0  No Response      Low Words        [[24 23 26 21 30 27 22]]   \n",
              "\n",
              "                                    stimulusSounds_name probeSound_name  \n",
              "9     [[array(['faez.wav'], dtype='<U8')]\\n [array([...        yuwf.wav  \n",
              "19    [[array(['puwn.wav'], dtype='<U8')]\\n [array([...       zerth.wav  \n",
              "26    [[array(['kawl.wav'], dtype='<U8')]\\n [array([...       gawth.wav  \n",
              "32    [[array(['youth.wav'], dtype='<U9')]\\n [array(...        sure.wav  \n",
              "97    [[array(['paon.wav'], dtype='<U8')]\\n [array([...        vern.wav  \n",
              "...                                                 ...             ...  \n",
              "5217  [[array(['yong.wav'], dtype='<U8')]\\n [array([...        yuwf.wav  \n",
              "5256  [[array(['gawth.wav'], dtype='<U9')]\\n [array(...       zerth.wav  \n",
              "5260  [[array(['yuwf.wav'], dtype='<U8')]\\n [array([...        yuwf.wav  \n",
              "5278  [[array(['puwn.wav'], dtype='<U8')]\\n [array([...        wehz.wav  \n",
              "5280  [[array(['noun.wav'], dtype='<U8')]\\n [array([...        noun.wav  \n",
              "\n",
              "[225 rows x 16 columns]"
            ],
            "text/html": [
              "\n",
              "  <div id=\"df-21bbc20b-0c43-4bfa-abca-ad0ddff6e303\">\n",
              "    <div class=\"colab-df-container\">\n",
              "      <div>\n",
              "<style scoped>\n",
              "    .dataframe tbody tr th:only-of-type {\n",
              "        vertical-align: middle;\n",
              "    }\n",
              "\n",
              "    .dataframe tbody tr th {\n",
              "        vertical-align: top;\n",
              "    }\n",
              "\n",
              "    .dataframe thead th {\n",
              "        text-align: right;\n",
              "    }\n",
              "</style>\n",
              "<table border=\"1\" class=\"dataframe\">\n",
              "  <thead>\n",
              "    <tr style=\"text-align: right;\">\n",
              "      <th></th>\n",
              "      <th>Trial</th>\n",
              "      <th>Subject</th>\n",
              "      <th>block</th>\n",
              "      <th>ProbeType</th>\n",
              "      <th>probeSound_idx</th>\n",
              "      <th>ProbeTypeName</th>\n",
              "      <th>StimlusCategory</th>\n",
              "      <th>ReactionTime</th>\n",
              "      <th>KeyCode</th>\n",
              "      <th>Resp</th>\n",
              "      <th>RespCorrect</th>\n",
              "      <th>Omission</th>\n",
              "      <th>ProbeCategory</th>\n",
              "      <th>stimulusSounds_idx</th>\n",
              "      <th>stimulusSounds_name</th>\n",
              "      <th>probeSound_name</th>\n",
              "    </tr>\n",
              "  </thead>\n",
              "  <tbody>\n",
              "    <tr>\n",
              "      <th>9</th>\n",
              "      <td>9</td>\n",
              "      <td>D23</td>\n",
              "      <td>1</td>\n",
              "      <td>2</td>\n",
              "      <td>39</td>\n",
              "      <td>in_sequence</td>\n",
              "      <td>Low Non-words</td>\n",
              "      <td>2.502478</td>\n",
              "      <td>[[37 39 32 27]]</td>\n",
              "      <td>No Response</td>\n",
              "      <td>0</td>\n",
              "      <td>No Response</td>\n",
              "      <td>Low Non-words</td>\n",
              "      <td>[[32 37 31 39 40 35 33 38 36]]</td>\n",
              "      <td>[[array(['faez.wav'], dtype='&lt;U8')]\\n [array([...</td>\n",
              "      <td>yuwf.wav</td>\n",
              "    </tr>\n",
              "    <tr>\n",
              "      <th>19</th>\n",
              "      <td>19</td>\n",
              "      <td>D23</td>\n",
              "      <td>1</td>\n",
              "      <td>1</td>\n",
              "      <td>40</td>\n",
              "      <td>out_of_sequence</td>\n",
              "      <td>High Non-Words</td>\n",
              "      <td>2.502283</td>\n",
              "      <td>[[37 39 32 27]]</td>\n",
              "      <td>No Response</td>\n",
              "      <td>0</td>\n",
              "      <td>No Response</td>\n",
              "      <td>Low Non-Words</td>\n",
              "      <td>[[17 19 18 13 15 12 16]]</td>\n",
              "      <td>[[array(['puwn.wav'], dtype='&lt;U8')]\\n [array([...</td>\n",
              "      <td>zerth.wav</td>\n",
              "    </tr>\n",
              "    <tr>\n",
              "      <th>26</th>\n",
              "      <td>26</td>\n",
              "      <td>D23</td>\n",
              "      <td>1</td>\n",
              "      <td>1</td>\n",
              "      <td>33</td>\n",
              "      <td>out_of_sequence</td>\n",
              "      <td>High Non-Words</td>\n",
              "      <td>2.502340</td>\n",
              "      <td>[[37 39 32 27]]</td>\n",
              "      <td>No Response</td>\n",
              "      <td>0</td>\n",
              "      <td>No Response</td>\n",
              "      <td>Low Non-Words</td>\n",
              "      <td>[[13 18 14]]</td>\n",
              "      <td>[[array(['kawl.wav'], dtype='&lt;U8')]\\n [array([...</td>\n",
              "      <td>gawth.wav</td>\n",
              "    </tr>\n",
              "    <tr>\n",
              "      <th>32</th>\n",
              "      <td>32</td>\n",
              "      <td>D23</td>\n",
              "      <td>2</td>\n",
              "      <td>2</td>\n",
              "      <td>25</td>\n",
              "      <td>in_sequence</td>\n",
              "      <td>Low Words</td>\n",
              "      <td>2.502395</td>\n",
              "      <td>[[37 39 32 27]]</td>\n",
              "      <td>No Response</td>\n",
              "      <td>0</td>\n",
              "      <td>No Response</td>\n",
              "      <td>Low Words</td>\n",
              "      <td>[[30 22 25 29 21 23 24 28 27]]</td>\n",
              "      <td>[[array(['youth.wav'], dtype='&lt;U9')]\\n [array(...</td>\n",
              "      <td>sure.wav</td>\n",
              "    </tr>\n",
              "    <tr>\n",
              "      <th>97</th>\n",
              "      <td>97</td>\n",
              "      <td>D23</td>\n",
              "      <td>4</td>\n",
              "      <td>1</td>\n",
              "      <td>36</td>\n",
              "      <td>out_of_sequence</td>\n",
              "      <td>High Non-Words</td>\n",
              "      <td>2.502652</td>\n",
              "      <td>[[37 39 32 27]]</td>\n",
              "      <td>No Response</td>\n",
              "      <td>0</td>\n",
              "      <td>No Response</td>\n",
              "      <td>Low Non-Words</td>\n",
              "      <td>[[16 17 18]]</td>\n",
              "      <td>[[array(['paon.wav'], dtype='&lt;U8')]\\n [array([...</td>\n",
              "      <td>vern.wav</td>\n",
              "    </tr>\n",
              "    <tr>\n",
              "      <th>...</th>\n",
              "      <td>...</td>\n",
              "      <td>...</td>\n",
              "      <td>...</td>\n",
              "      <td>...</td>\n",
              "      <td>...</td>\n",
              "      <td>...</td>\n",
              "      <td>...</td>\n",
              "      <td>...</td>\n",
              "      <td>...</td>\n",
              "      <td>...</td>\n",
              "      <td>...</td>\n",
              "      <td>...</td>\n",
              "      <td>...</td>\n",
              "      <td>...</td>\n",
              "      <td>...</td>\n",
              "      <td>...</td>\n",
              "    </tr>\n",
              "    <tr>\n",
              "      <th>5217</th>\n",
              "      <td>77</td>\n",
              "      <td>D77</td>\n",
              "      <td>3</td>\n",
              "      <td>1</td>\n",
              "      <td>39</td>\n",
              "      <td>out_of_sequence</td>\n",
              "      <td>Low Non-words</td>\n",
              "      <td>2.501365</td>\n",
              "      <td>[114, 115, 66, 10, 27]</td>\n",
              "      <td>No Response</td>\n",
              "      <td>0</td>\n",
              "      <td>No Response</td>\n",
              "      <td>Low Non-Words</td>\n",
              "      <td>[[38 36 34 32 35 37 31]]</td>\n",
              "      <td>[[array(['yong.wav'], dtype='&lt;U8')]\\n [array([...</td>\n",
              "      <td>yuwf.wav</td>\n",
              "    </tr>\n",
              "    <tr>\n",
              "      <th>5256</th>\n",
              "      <td>116</td>\n",
              "      <td>D77</td>\n",
              "      <td>4</td>\n",
              "      <td>1</td>\n",
              "      <td>40</td>\n",
              "      <td>out_of_sequence</td>\n",
              "      <td>Low Non-words</td>\n",
              "      <td>2.501420</td>\n",
              "      <td>[114, 115, 66, 10, 27]</td>\n",
              "      <td>No Response</td>\n",
              "      <td>0</td>\n",
              "      <td>No Response</td>\n",
              "      <td>Low Non-Words</td>\n",
              "      <td>[[33 37 34]]</td>\n",
              "      <td>[[array(['gawth.wav'], dtype='&lt;U9')]\\n [array(...</td>\n",
              "      <td>zerth.wav</td>\n",
              "    </tr>\n",
              "    <tr>\n",
              "      <th>5260</th>\n",
              "      <td>120</td>\n",
              "      <td>D77</td>\n",
              "      <td>4</td>\n",
              "      <td>2</td>\n",
              "      <td>39</td>\n",
              "      <td>in_sequence</td>\n",
              "      <td>Low Non-words</td>\n",
              "      <td>2.501402</td>\n",
              "      <td>[114, 115, 66, 10, 27]</td>\n",
              "      <td>No Response</td>\n",
              "      <td>0</td>\n",
              "      <td>No Response</td>\n",
              "      <td>Low Non-words</td>\n",
              "      <td>[[39 38 35]]</td>\n",
              "      <td>[[array(['yuwf.wav'], dtype='&lt;U8')]\\n [array([...</td>\n",
              "      <td>yuwf.wav</td>\n",
              "    </tr>\n",
              "    <tr>\n",
              "      <th>5278</th>\n",
              "      <td>138</td>\n",
              "      <td>D77</td>\n",
              "      <td>5</td>\n",
              "      <td>1</td>\n",
              "      <td>37</td>\n",
              "      <td>out_of_sequence</td>\n",
              "      <td>High Non-Words</td>\n",
              "      <td>2.501428</td>\n",
              "      <td>[114, 115, 66, 10, 27]</td>\n",
              "      <td>No Response</td>\n",
              "      <td>0</td>\n",
              "      <td>No Response</td>\n",
              "      <td>Low Non-Words</td>\n",
              "      <td>[[17 14 16 12 19 15 13]]</td>\n",
              "      <td>[[array(['puwn.wav'], dtype='&lt;U8')]\\n [array([...</td>\n",
              "      <td>wehz.wav</td>\n",
              "    </tr>\n",
              "    <tr>\n",
              "      <th>5280</th>\n",
              "      <td>140</td>\n",
              "      <td>D77</td>\n",
              "      <td>5</td>\n",
              "      <td>2</td>\n",
              "      <td>24</td>\n",
              "      <td>in_sequence</td>\n",
              "      <td>Low Words</td>\n",
              "      <td>2.501381</td>\n",
              "      <td>[114, 115, 66, 10, 27]</td>\n",
              "      <td>No Response</td>\n",
              "      <td>0</td>\n",
              "      <td>No Response</td>\n",
              "      <td>Low Words</td>\n",
              "      <td>[[24 23 26 21 30 27 22]]</td>\n",
              "      <td>[[array(['noun.wav'], dtype='&lt;U8')]\\n [array([...</td>\n",
              "      <td>noun.wav</td>\n",
              "    </tr>\n",
              "  </tbody>\n",
              "</table>\n",
              "<p>225 rows × 16 columns</p>\n",
              "</div>\n",
              "      <button class=\"colab-df-convert\" onclick=\"convertToInteractive('df-21bbc20b-0c43-4bfa-abca-ad0ddff6e303')\"\n",
              "              title=\"Convert this dataframe to an interactive table.\"\n",
              "              style=\"display:none;\">\n",
              "        \n",
              "  <svg xmlns=\"http://www.w3.org/2000/svg\" height=\"24px\"viewBox=\"0 0 24 24\"\n",
              "       width=\"24px\">\n",
              "    <path d=\"M0 0h24v24H0V0z\" fill=\"none\"/>\n",
              "    <path d=\"M18.56 5.44l.94 2.06.94-2.06 2.06-.94-2.06-.94-.94-2.06-.94 2.06-2.06.94zm-11 1L8.5 8.5l.94-2.06 2.06-.94-2.06-.94L8.5 2.5l-.94 2.06-2.06.94zm10 10l.94 2.06.94-2.06 2.06-.94-2.06-.94-.94-2.06-.94 2.06-2.06.94z\"/><path d=\"M17.41 7.96l-1.37-1.37c-.4-.4-.92-.59-1.43-.59-.52 0-1.04.2-1.43.59L10.3 9.45l-7.72 7.72c-.78.78-.78 2.05 0 2.83L4 21.41c.39.39.9.59 1.41.59.51 0 1.02-.2 1.41-.59l7.78-7.78 2.81-2.81c.8-.78.8-2.07 0-2.86zM5.41 20L4 18.59l7.72-7.72 1.47 1.35L5.41 20z\"/>\n",
              "  </svg>\n",
              "      </button>\n",
              "      \n",
              "  <style>\n",
              "    .colab-df-container {\n",
              "      display:flex;\n",
              "      flex-wrap:wrap;\n",
              "      gap: 12px;\n",
              "    }\n",
              "\n",
              "    .colab-df-convert {\n",
              "      background-color: #E8F0FE;\n",
              "      border: none;\n",
              "      border-radius: 50%;\n",
              "      cursor: pointer;\n",
              "      display: none;\n",
              "      fill: #1967D2;\n",
              "      height: 32px;\n",
              "      padding: 0 0 0 0;\n",
              "      width: 32px;\n",
              "    }\n",
              "\n",
              "    .colab-df-convert:hover {\n",
              "      background-color: #E2EBFA;\n",
              "      box-shadow: 0px 1px 2px rgba(60, 64, 67, 0.3), 0px 1px 3px 1px rgba(60, 64, 67, 0.15);\n",
              "      fill: #174EA6;\n",
              "    }\n",
              "\n",
              "    [theme=dark] .colab-df-convert {\n",
              "      background-color: #3B4455;\n",
              "      fill: #D2E3FC;\n",
              "    }\n",
              "\n",
              "    [theme=dark] .colab-df-convert:hover {\n",
              "      background-color: #434B5C;\n",
              "      box-shadow: 0px 1px 3px 1px rgba(0, 0, 0, 0.15);\n",
              "      filter: drop-shadow(0px 1px 2px rgba(0, 0, 0, 0.3));\n",
              "      fill: #FFFFFF;\n",
              "    }\n",
              "  </style>\n",
              "\n",
              "      <script>\n",
              "        const buttonEl =\n",
              "          document.querySelector('#df-21bbc20b-0c43-4bfa-abca-ad0ddff6e303 button.colab-df-convert');\n",
              "        buttonEl.style.display =\n",
              "          google.colab.kernel.accessAllowed ? 'block' : 'none';\n",
              "\n",
              "        async function convertToInteractive(key) {\n",
              "          const element = document.querySelector('#df-21bbc20b-0c43-4bfa-abca-ad0ddff6e303');\n",
              "          const dataTable =\n",
              "            await google.colab.kernel.invokeFunction('convertToInteractive',\n",
              "                                                     [key], {});\n",
              "          if (!dataTable) return;\n",
              "\n",
              "          const docLinkHtml = 'Like what you see? Visit the ' +\n",
              "            '<a target=\"_blank\" href=https://colab.research.google.com/notebooks/data_table.ipynb>data table notebook</a>'\n",
              "            + ' to learn more about interactive tables.';\n",
              "          element.innerHTML = '';\n",
              "          dataTable['output_type'] = 'display_data';\n",
              "          await google.colab.output.renderOutput(dataTable, element);\n",
              "          const docLink = document.createElement('div');\n",
              "          docLink.innerHTML = docLinkHtml;\n",
              "          element.appendChild(docLink);\n",
              "        }\n",
              "      </script>\n",
              "    </div>\n",
              "  </div>\n",
              "  "
            ]
          },
          "metadata": {},
          "execution_count": 45
        }
      ]
    },
    {
      "cell_type": "code",
      "source": [
        "ieeg_subset[ieeg_subset['Omission'] != 'Responded']\n",
        "# let's keep these NaNs since all the other information is there     "
      ],
      "metadata": {
        "colab": {
          "base_uri": "https://localhost:8080/",
          "height": 835
        },
        "id": "U6OvJ6I7yIJ1",
        "outputId": "e4ddbce4-660d-4bc8-d395-07e946e17785"
      },
      "execution_count": 46,
      "outputs": [
        {
          "output_type": "execute_result",
          "data": {
            "text/plain": [
              "      Trial Subject  block  ProbeType  probeSound_idx    ProbeTypeName  \\\n",
              "9         9     D23      1          2              39      in_sequence   \n",
              "19       19     D23      1          1              40  out_of_sequence   \n",
              "26       26     D23      1          1              33  out_of_sequence   \n",
              "32       32     D23      2          2              25      in_sequence   \n",
              "97       97     D23      4          1              36  out_of_sequence   \n",
              "...     ...     ...    ...        ...             ...              ...   \n",
              "5217     77     D77      3          1              39  out_of_sequence   \n",
              "5256    116     D77      4          1              40  out_of_sequence   \n",
              "5260    120     D77      4          2              39      in_sequence   \n",
              "5278    138     D77      5          1              37  out_of_sequence   \n",
              "5280    140     D77      5          2              24      in_sequence   \n",
              "\n",
              "     StimlusCategory  ReactionTime                 KeyCode         Resp  \\\n",
              "9      Low Non-words      2.502478         [[37 39 32 27]]  No Response   \n",
              "19    High Non-Words      2.502283         [[37 39 32 27]]  No Response   \n",
              "26    High Non-Words      2.502340         [[37 39 32 27]]  No Response   \n",
              "32         Low Words      2.502395         [[37 39 32 27]]  No Response   \n",
              "97    High Non-Words      2.502652         [[37 39 32 27]]  No Response   \n",
              "...              ...           ...                     ...          ...   \n",
              "5217   Low Non-words      2.501365  [114, 115, 66, 10, 27]  No Response   \n",
              "5256   Low Non-words      2.501420  [114, 115, 66, 10, 27]  No Response   \n",
              "5260   Low Non-words      2.501402  [114, 115, 66, 10, 27]  No Response   \n",
              "5278  High Non-Words      2.501428  [114, 115, 66, 10, 27]  No Response   \n",
              "5280       Low Words      2.501381  [114, 115, 66, 10, 27]  No Response   \n",
              "\n",
              "      RespCorrect     Omission  ProbeCategory              stimulusSounds_idx  \\\n",
              "9               0  No Response  Low Non-words  [[32 37 31 39 40 35 33 38 36]]   \n",
              "19              0  No Response  Low Non-Words        [[17 19 18 13 15 12 16]]   \n",
              "26              0  No Response  Low Non-Words                    [[13 18 14]]   \n",
              "32              0  No Response      Low Words  [[30 22 25 29 21 23 24 28 27]]   \n",
              "97              0  No Response  Low Non-Words                    [[16 17 18]]   \n",
              "...           ...          ...            ...                             ...   \n",
              "5217            0  No Response  Low Non-Words        [[38 36 34 32 35 37 31]]   \n",
              "5256            0  No Response  Low Non-Words                    [[33 37 34]]   \n",
              "5260            0  No Response  Low Non-words                    [[39 38 35]]   \n",
              "5278            0  No Response  Low Non-Words        [[17 14 16 12 19 15 13]]   \n",
              "5280            0  No Response      Low Words        [[24 23 26 21 30 27 22]]   \n",
              "\n",
              "                                    stimulusSounds_name probeSound_name  \n",
              "9     [[array(['faez.wav'], dtype='<U8')]\\n [array([...        yuwf.wav  \n",
              "19    [[array(['puwn.wav'], dtype='<U8')]\\n [array([...       zerth.wav  \n",
              "26    [[array(['kawl.wav'], dtype='<U8')]\\n [array([...       gawth.wav  \n",
              "32    [[array(['youth.wav'], dtype='<U9')]\\n [array(...        sure.wav  \n",
              "97    [[array(['paon.wav'], dtype='<U8')]\\n [array([...        vern.wav  \n",
              "...                                                 ...             ...  \n",
              "5217  [[array(['yong.wav'], dtype='<U8')]\\n [array([...        yuwf.wav  \n",
              "5256  [[array(['gawth.wav'], dtype='<U9')]\\n [array(...       zerth.wav  \n",
              "5260  [[array(['yuwf.wav'], dtype='<U8')]\\n [array([...        yuwf.wav  \n",
              "5278  [[array(['puwn.wav'], dtype='<U8')]\\n [array([...        wehz.wav  \n",
              "5280  [[array(['noun.wav'], dtype='<U8')]\\n [array([...        noun.wav  \n",
              "\n",
              "[385 rows x 16 columns]"
            ],
            "text/html": [
              "\n",
              "  <div id=\"df-ee6cdded-2bda-49a9-a3b7-eae737771ea5\">\n",
              "    <div class=\"colab-df-container\">\n",
              "      <div>\n",
              "<style scoped>\n",
              "    .dataframe tbody tr th:only-of-type {\n",
              "        vertical-align: middle;\n",
              "    }\n",
              "\n",
              "    .dataframe tbody tr th {\n",
              "        vertical-align: top;\n",
              "    }\n",
              "\n",
              "    .dataframe thead th {\n",
              "        text-align: right;\n",
              "    }\n",
              "</style>\n",
              "<table border=\"1\" class=\"dataframe\">\n",
              "  <thead>\n",
              "    <tr style=\"text-align: right;\">\n",
              "      <th></th>\n",
              "      <th>Trial</th>\n",
              "      <th>Subject</th>\n",
              "      <th>block</th>\n",
              "      <th>ProbeType</th>\n",
              "      <th>probeSound_idx</th>\n",
              "      <th>ProbeTypeName</th>\n",
              "      <th>StimlusCategory</th>\n",
              "      <th>ReactionTime</th>\n",
              "      <th>KeyCode</th>\n",
              "      <th>Resp</th>\n",
              "      <th>RespCorrect</th>\n",
              "      <th>Omission</th>\n",
              "      <th>ProbeCategory</th>\n",
              "      <th>stimulusSounds_idx</th>\n",
              "      <th>stimulusSounds_name</th>\n",
              "      <th>probeSound_name</th>\n",
              "    </tr>\n",
              "  </thead>\n",
              "  <tbody>\n",
              "    <tr>\n",
              "      <th>9</th>\n",
              "      <td>9</td>\n",
              "      <td>D23</td>\n",
              "      <td>1</td>\n",
              "      <td>2</td>\n",
              "      <td>39</td>\n",
              "      <td>in_sequence</td>\n",
              "      <td>Low Non-words</td>\n",
              "      <td>2.502478</td>\n",
              "      <td>[[37 39 32 27]]</td>\n",
              "      <td>No Response</td>\n",
              "      <td>0</td>\n",
              "      <td>No Response</td>\n",
              "      <td>Low Non-words</td>\n",
              "      <td>[[32 37 31 39 40 35 33 38 36]]</td>\n",
              "      <td>[[array(['faez.wav'], dtype='&lt;U8')]\\n [array([...</td>\n",
              "      <td>yuwf.wav</td>\n",
              "    </tr>\n",
              "    <tr>\n",
              "      <th>19</th>\n",
              "      <td>19</td>\n",
              "      <td>D23</td>\n",
              "      <td>1</td>\n",
              "      <td>1</td>\n",
              "      <td>40</td>\n",
              "      <td>out_of_sequence</td>\n",
              "      <td>High Non-Words</td>\n",
              "      <td>2.502283</td>\n",
              "      <td>[[37 39 32 27]]</td>\n",
              "      <td>No Response</td>\n",
              "      <td>0</td>\n",
              "      <td>No Response</td>\n",
              "      <td>Low Non-Words</td>\n",
              "      <td>[[17 19 18 13 15 12 16]]</td>\n",
              "      <td>[[array(['puwn.wav'], dtype='&lt;U8')]\\n [array([...</td>\n",
              "      <td>zerth.wav</td>\n",
              "    </tr>\n",
              "    <tr>\n",
              "      <th>26</th>\n",
              "      <td>26</td>\n",
              "      <td>D23</td>\n",
              "      <td>1</td>\n",
              "      <td>1</td>\n",
              "      <td>33</td>\n",
              "      <td>out_of_sequence</td>\n",
              "      <td>High Non-Words</td>\n",
              "      <td>2.502340</td>\n",
              "      <td>[[37 39 32 27]]</td>\n",
              "      <td>No Response</td>\n",
              "      <td>0</td>\n",
              "      <td>No Response</td>\n",
              "      <td>Low Non-Words</td>\n",
              "      <td>[[13 18 14]]</td>\n",
              "      <td>[[array(['kawl.wav'], dtype='&lt;U8')]\\n [array([...</td>\n",
              "      <td>gawth.wav</td>\n",
              "    </tr>\n",
              "    <tr>\n",
              "      <th>32</th>\n",
              "      <td>32</td>\n",
              "      <td>D23</td>\n",
              "      <td>2</td>\n",
              "      <td>2</td>\n",
              "      <td>25</td>\n",
              "      <td>in_sequence</td>\n",
              "      <td>Low Words</td>\n",
              "      <td>2.502395</td>\n",
              "      <td>[[37 39 32 27]]</td>\n",
              "      <td>No Response</td>\n",
              "      <td>0</td>\n",
              "      <td>No Response</td>\n",
              "      <td>Low Words</td>\n",
              "      <td>[[30 22 25 29 21 23 24 28 27]]</td>\n",
              "      <td>[[array(['youth.wav'], dtype='&lt;U9')]\\n [array(...</td>\n",
              "      <td>sure.wav</td>\n",
              "    </tr>\n",
              "    <tr>\n",
              "      <th>97</th>\n",
              "      <td>97</td>\n",
              "      <td>D23</td>\n",
              "      <td>4</td>\n",
              "      <td>1</td>\n",
              "      <td>36</td>\n",
              "      <td>out_of_sequence</td>\n",
              "      <td>High Non-Words</td>\n",
              "      <td>2.502652</td>\n",
              "      <td>[[37 39 32 27]]</td>\n",
              "      <td>No Response</td>\n",
              "      <td>0</td>\n",
              "      <td>No Response</td>\n",
              "      <td>Low Non-Words</td>\n",
              "      <td>[[16 17 18]]</td>\n",
              "      <td>[[array(['paon.wav'], dtype='&lt;U8')]\\n [array([...</td>\n",
              "      <td>vern.wav</td>\n",
              "    </tr>\n",
              "    <tr>\n",
              "      <th>...</th>\n",
              "      <td>...</td>\n",
              "      <td>...</td>\n",
              "      <td>...</td>\n",
              "      <td>...</td>\n",
              "      <td>...</td>\n",
              "      <td>...</td>\n",
              "      <td>...</td>\n",
              "      <td>...</td>\n",
              "      <td>...</td>\n",
              "      <td>...</td>\n",
              "      <td>...</td>\n",
              "      <td>...</td>\n",
              "      <td>...</td>\n",
              "      <td>...</td>\n",
              "      <td>...</td>\n",
              "      <td>...</td>\n",
              "    </tr>\n",
              "    <tr>\n",
              "      <th>5217</th>\n",
              "      <td>77</td>\n",
              "      <td>D77</td>\n",
              "      <td>3</td>\n",
              "      <td>1</td>\n",
              "      <td>39</td>\n",
              "      <td>out_of_sequence</td>\n",
              "      <td>Low Non-words</td>\n",
              "      <td>2.501365</td>\n",
              "      <td>[114, 115, 66, 10, 27]</td>\n",
              "      <td>No Response</td>\n",
              "      <td>0</td>\n",
              "      <td>No Response</td>\n",
              "      <td>Low Non-Words</td>\n",
              "      <td>[[38 36 34 32 35 37 31]]</td>\n",
              "      <td>[[array(['yong.wav'], dtype='&lt;U8')]\\n [array([...</td>\n",
              "      <td>yuwf.wav</td>\n",
              "    </tr>\n",
              "    <tr>\n",
              "      <th>5256</th>\n",
              "      <td>116</td>\n",
              "      <td>D77</td>\n",
              "      <td>4</td>\n",
              "      <td>1</td>\n",
              "      <td>40</td>\n",
              "      <td>out_of_sequence</td>\n",
              "      <td>Low Non-words</td>\n",
              "      <td>2.501420</td>\n",
              "      <td>[114, 115, 66, 10, 27]</td>\n",
              "      <td>No Response</td>\n",
              "      <td>0</td>\n",
              "      <td>No Response</td>\n",
              "      <td>Low Non-Words</td>\n",
              "      <td>[[33 37 34]]</td>\n",
              "      <td>[[array(['gawth.wav'], dtype='&lt;U9')]\\n [array(...</td>\n",
              "      <td>zerth.wav</td>\n",
              "    </tr>\n",
              "    <tr>\n",
              "      <th>5260</th>\n",
              "      <td>120</td>\n",
              "      <td>D77</td>\n",
              "      <td>4</td>\n",
              "      <td>2</td>\n",
              "      <td>39</td>\n",
              "      <td>in_sequence</td>\n",
              "      <td>Low Non-words</td>\n",
              "      <td>2.501402</td>\n",
              "      <td>[114, 115, 66, 10, 27]</td>\n",
              "      <td>No Response</td>\n",
              "      <td>0</td>\n",
              "      <td>No Response</td>\n",
              "      <td>Low Non-words</td>\n",
              "      <td>[[39 38 35]]</td>\n",
              "      <td>[[array(['yuwf.wav'], dtype='&lt;U8')]\\n [array([...</td>\n",
              "      <td>yuwf.wav</td>\n",
              "    </tr>\n",
              "    <tr>\n",
              "      <th>5278</th>\n",
              "      <td>138</td>\n",
              "      <td>D77</td>\n",
              "      <td>5</td>\n",
              "      <td>1</td>\n",
              "      <td>37</td>\n",
              "      <td>out_of_sequence</td>\n",
              "      <td>High Non-Words</td>\n",
              "      <td>2.501428</td>\n",
              "      <td>[114, 115, 66, 10, 27]</td>\n",
              "      <td>No Response</td>\n",
              "      <td>0</td>\n",
              "      <td>No Response</td>\n",
              "      <td>Low Non-Words</td>\n",
              "      <td>[[17 14 16 12 19 15 13]]</td>\n",
              "      <td>[[array(['puwn.wav'], dtype='&lt;U8')]\\n [array([...</td>\n",
              "      <td>wehz.wav</td>\n",
              "    </tr>\n",
              "    <tr>\n",
              "      <th>5280</th>\n",
              "      <td>140</td>\n",
              "      <td>D77</td>\n",
              "      <td>5</td>\n",
              "      <td>2</td>\n",
              "      <td>24</td>\n",
              "      <td>in_sequence</td>\n",
              "      <td>Low Words</td>\n",
              "      <td>2.501381</td>\n",
              "      <td>[114, 115, 66, 10, 27]</td>\n",
              "      <td>No Response</td>\n",
              "      <td>0</td>\n",
              "      <td>No Response</td>\n",
              "      <td>Low Words</td>\n",
              "      <td>[[24 23 26 21 30 27 22]]</td>\n",
              "      <td>[[array(['noun.wav'], dtype='&lt;U8')]\\n [array([...</td>\n",
              "      <td>noun.wav</td>\n",
              "    </tr>\n",
              "  </tbody>\n",
              "</table>\n",
              "<p>385 rows × 16 columns</p>\n",
              "</div>\n",
              "      <button class=\"colab-df-convert\" onclick=\"convertToInteractive('df-ee6cdded-2bda-49a9-a3b7-eae737771ea5')\"\n",
              "              title=\"Convert this dataframe to an interactive table.\"\n",
              "              style=\"display:none;\">\n",
              "        \n",
              "  <svg xmlns=\"http://www.w3.org/2000/svg\" height=\"24px\"viewBox=\"0 0 24 24\"\n",
              "       width=\"24px\">\n",
              "    <path d=\"M0 0h24v24H0V0z\" fill=\"none\"/>\n",
              "    <path d=\"M18.56 5.44l.94 2.06.94-2.06 2.06-.94-2.06-.94-.94-2.06-.94 2.06-2.06.94zm-11 1L8.5 8.5l.94-2.06 2.06-.94-2.06-.94L8.5 2.5l-.94 2.06-2.06.94zm10 10l.94 2.06.94-2.06 2.06-.94-2.06-.94-.94-2.06-.94 2.06-2.06.94z\"/><path d=\"M17.41 7.96l-1.37-1.37c-.4-.4-.92-.59-1.43-.59-.52 0-1.04.2-1.43.59L10.3 9.45l-7.72 7.72c-.78.78-.78 2.05 0 2.83L4 21.41c.39.39.9.59 1.41.59.51 0 1.02-.2 1.41-.59l7.78-7.78 2.81-2.81c.8-.78.8-2.07 0-2.86zM5.41 20L4 18.59l7.72-7.72 1.47 1.35L5.41 20z\"/>\n",
              "  </svg>\n",
              "      </button>\n",
              "      \n",
              "  <style>\n",
              "    .colab-df-container {\n",
              "      display:flex;\n",
              "      flex-wrap:wrap;\n",
              "      gap: 12px;\n",
              "    }\n",
              "\n",
              "    .colab-df-convert {\n",
              "      background-color: #E8F0FE;\n",
              "      border: none;\n",
              "      border-radius: 50%;\n",
              "      cursor: pointer;\n",
              "      display: none;\n",
              "      fill: #1967D2;\n",
              "      height: 32px;\n",
              "      padding: 0 0 0 0;\n",
              "      width: 32px;\n",
              "    }\n",
              "\n",
              "    .colab-df-convert:hover {\n",
              "      background-color: #E2EBFA;\n",
              "      box-shadow: 0px 1px 2px rgba(60, 64, 67, 0.3), 0px 1px 3px 1px rgba(60, 64, 67, 0.15);\n",
              "      fill: #174EA6;\n",
              "    }\n",
              "\n",
              "    [theme=dark] .colab-df-convert {\n",
              "      background-color: #3B4455;\n",
              "      fill: #D2E3FC;\n",
              "    }\n",
              "\n",
              "    [theme=dark] .colab-df-convert:hover {\n",
              "      background-color: #434B5C;\n",
              "      box-shadow: 0px 1px 3px 1px rgba(0, 0, 0, 0.15);\n",
              "      filter: drop-shadow(0px 1px 2px rgba(0, 0, 0, 0.3));\n",
              "      fill: #FFFFFF;\n",
              "    }\n",
              "  </style>\n",
              "\n",
              "      <script>\n",
              "        const buttonEl =\n",
              "          document.querySelector('#df-ee6cdded-2bda-49a9-a3b7-eae737771ea5 button.colab-df-convert');\n",
              "        buttonEl.style.display =\n",
              "          google.colab.kernel.accessAllowed ? 'block' : 'none';\n",
              "\n",
              "        async function convertToInteractive(key) {\n",
              "          const element = document.querySelector('#df-ee6cdded-2bda-49a9-a3b7-eae737771ea5');\n",
              "          const dataTable =\n",
              "            await google.colab.kernel.invokeFunction('convertToInteractive',\n",
              "                                                     [key], {});\n",
              "          if (!dataTable) return;\n",
              "\n",
              "          const docLinkHtml = 'Like what you see? Visit the ' +\n",
              "            '<a target=\"_blank\" href=https://colab.research.google.com/notebooks/data_table.ipynb>data table notebook</a>'\n",
              "            + ' to learn more about interactive tables.';\n",
              "          element.innerHTML = '';\n",
              "          dataTable['output_type'] = 'display_data';\n",
              "          await google.colab.output.renderOutput(dataTable, element);\n",
              "          const docLink = document.createElement('div');\n",
              "          docLink.innerHTML = docLinkHtml;\n",
              "          element.appendChild(docLink);\n",
              "        }\n",
              "      </script>\n",
              "    </div>\n",
              "  </div>\n",
              "  "
            ]
          },
          "metadata": {},
          "execution_count": 46
        }
      ]
    },
    {
      "cell_type": "code",
      "source": [
        "print(ieeg_subset[ieeg_subset['Omission'] != 'Responded'].Subject.unique())"
      ],
      "metadata": {
        "colab": {
          "base_uri": "https://localhost:8080/"
        },
        "id": "1E6oa8NOVdNy",
        "outputId": "01669fa6-a618-43f4-df42-12a65460d53c"
      },
      "execution_count": 47,
      "outputs": [
        {
          "output_type": "stream",
          "name": "stdout",
          "text": [
            "['D23' 'D26' 'D27' 'D28' 'D30' 'D31' 'D33' 'D34' 'D35' 'D36' 'D38' 'D39'\n",
            " 'D41' 'D42' 'D47' 'D48' 'D49' 'D53' 'D54' 'D55' 'D57' 'D59' 'D61' 'D63'\n",
            " 'D65' 'D68' 'D69' 'D70' 'D71' 'D72' 'D73' 'D77']\n"
          ]
        }
      ]
    },
    {
      "cell_type": "markdown",
      "source": [
        "Creating additional variables "
      ],
      "metadata": {
        "id": "9n1SMy_GV6Nb"
      }
    },
    {
      "cell_type": "code",
      "source": [
        "# types in ProbeCategory column differ in case\n",
        "# here we make them lowrcase\n",
        "new_probe = []\n",
        "for i in ieeg_subset.ProbeCategory.values:\n",
        "  new_probe.append(i.lower())\n",
        "ieeg_subset['ProbeCategory'] = new_probe"
      ],
      "metadata": {
        "colab": {
          "base_uri": "https://localhost:8080/"
        },
        "id": "dSd7l_LmAOAp",
        "outputId": "8fdd129d-18fc-4eaa-900c-ec642a42651d"
      },
      "execution_count": 48,
      "outputs": [
        {
          "output_type": "stream",
          "name": "stderr",
          "text": [
            "<ipython-input-48-df1cb0339cf5>:6: SettingWithCopyWarning: \n",
            "A value is trying to be set on a copy of a slice from a DataFrame.\n",
            "Try using .loc[row_indexer,col_indexer] = value instead\n",
            "\n",
            "See the caveats in the documentation: https://pandas.pydata.org/pandas-docs/stable/user_guide/indexing.html#returning-a-view-versus-a-copy\n",
            "  ieeg_subset['ProbeCategory'] = new_probe\n"
          ]
        }
      ]
    },
    {
      "cell_type": "code",
      "source": [
        "# making values in df more 'handy'\n",
        "whole_list = ieeg_subset['stimulusSounds_idx'].values\n",
        "new_sound_idx = []\n",
        "for i in whole_list:\n",
        "  new_sound_idx.append(\n",
        "      [int(s) for s in re.findall(r'\\b\\d+\\b', i)]\n",
        "  )\n",
        "ieeg_subset['stimulusSounds_idx'] = new_sound_idx # substitute string type to list with numbers"
      ],
      "metadata": {
        "colab": {
          "base_uri": "https://localhost:8080/"
        },
        "id": "rW9Et5QO6JKv",
        "outputId": "087b7e43-f541-4967-c3db-91c37ef2ce36"
      },
      "execution_count": 49,
      "outputs": [
        {
          "output_type": "stream",
          "name": "stderr",
          "text": [
            "<ipython-input-49-973a0a02d07e>:8: SettingWithCopyWarning: \n",
            "A value is trying to be set on a copy of a slice from a DataFrame.\n",
            "Try using .loc[row_indexer,col_indexer] = value instead\n",
            "\n",
            "See the caveats in the documentation: https://pandas.pydata.org/pandas-docs/stable/user_guide/indexing.html#returning-a-view-versus-a-copy\n",
            "  ieeg_subset['stimulusSounds_idx'] = new_sound_idx # substitute string type to list with numbers\n"
          ]
        }
      ]
    },
    {
      "cell_type": "code",
      "source": [
        "# checking the length of word lists presented\n",
        "compare = []\n",
        "for i in new_sound_idx:\n",
        "  length = len(i)\n",
        "  if length not in compare:\n",
        "    compare.append(length)\n",
        "print(compare)"
      ],
      "metadata": {
        "colab": {
          "base_uri": "https://localhost:8080/"
        },
        "id": "-cynlNKk_042",
        "outputId": "9b1f7b4d-bf34-4d56-8288-82130bc2fd68"
      },
      "execution_count": 50,
      "outputs": [
        {
          "output_type": "stream",
          "name": "stdout",
          "text": [
            "[3, 7, 9, 5]\n"
          ]
        }
      ]
    },
    {
      "cell_type": "code",
      "source": [
        "# calculating relative position of the word in the list\n",
        "# pos for only in seqence trials: probe sound index and stimulus sound index\n",
        "# beginning middle or end\n",
        "positions = [] # for the new 'position' column in df\n",
        "# 1 - beginning, 2 - middle, 3 - end\n",
        "ind = ieeg_subset['probeSound_idx'].values\n",
        "in_out = ieeg_subset['ProbeTypeName'].values\n",
        "for i in range(0, len(ind)):\n",
        "  if in_out[i] == 'in_sequence': # if it is in sequence\n",
        "    if ind[i] in new_sound_idx[i]:\n",
        "      # for length of the list 3\n",
        "      if len(new_sound_idx[i]) == 3:\n",
        "        if new_sound_idx[i].index(ind[i]) == 0:\n",
        "          positions.append(1) # beginning \n",
        "        elif new_sound_idx[i].index(ind[i]) == 1:\n",
        "          positions.append(2) # middle\n",
        "        elif new_sound_idx[i].index(ind[i]) == 2:\n",
        "          positions.append(3) # end\n",
        "      \n",
        "      # for length of the list 5\n",
        "      ## revise!\n",
        "      elif len(new_sound_idx[i]) == 5:\n",
        "        if new_sound_idx[i].index(ind[i]) in [0, 1]:\n",
        "          positions.append(1) # beginning \n",
        "        elif new_sound_idx[i].index(ind[i]) == 2:\n",
        "          positions.append(2) # middle\n",
        "        elif new_sound_idx[i].index(ind[i]) in [3, 4]:\n",
        "          positions.append(3) # end\n",
        "\n",
        "      # for length of the list 7\n",
        "      elif len(new_sound_idx[i]) == 7:\n",
        "        if new_sound_idx[i].index(ind[i]) in [0, 1]:\n",
        "          positions.append(1) # beginning \n",
        "        elif new_sound_idx[i].index(ind[i]) in [2, 3, 4]:\n",
        "          positions.append(2) # middle\n",
        "        elif new_sound_idx[i].index(ind[i]) in [5, 6]:\n",
        "          positions.append(3) # end\n",
        "      \n",
        "      # for length of the list 9\n",
        "      elif len(new_sound_idx[i]) == 9:\n",
        "        if new_sound_idx[i].index(ind[i]) in [0, 1, 2]:\n",
        "          positions.append(1) # beginning \n",
        "        elif new_sound_idx[i].index(ind[i]) in [3, 4, 5]:\n",
        "          positions.append(2) # middle\n",
        "        elif new_sound_idx[i].index(ind[i]) in [6, 7, 8]:\n",
        "          positions.append(3) # end\n",
        "    else:\n",
        "      print('Check', i)\n",
        "      break  \n",
        "  elif in_out[i] == 'out_of_sequence':\n",
        "    positions.append(0) # if it is out of sequence it is not in the list\n",
        "  else:\n",
        "    print('Check', i)\n",
        "    break"
      ],
      "metadata": {
        "id": "_7TAgkXTAiTf"
      },
      "execution_count": 51,
      "outputs": []
    },
    {
      "cell_type": "code",
      "source": [
        "length = []\n",
        "for i in ieeg_subset.stimulusSounds_idx:\n",
        "  length.append(len(i))"
      ],
      "metadata": {
        "id": "k2oyCSBzA3Vw"
      },
      "execution_count": 52,
      "outputs": []
    },
    {
      "cell_type": "code",
      "source": [
        "ieeg_subset['Position'] = positions\n",
        "ieeg_subset['Length'] = length"
      ],
      "metadata": {
        "colab": {
          "base_uri": "https://localhost:8080/"
        },
        "id": "RbgrPU5-AK4W",
        "outputId": "4ee87ad8-9615-4347-a112-202ef5a12c43"
      },
      "execution_count": 53,
      "outputs": [
        {
          "output_type": "stream",
          "name": "stderr",
          "text": [
            "<ipython-input-53-b7de9913c462>:1: SettingWithCopyWarning: \n",
            "A value is trying to be set on a copy of a slice from a DataFrame.\n",
            "Try using .loc[row_indexer,col_indexer] = value instead\n",
            "\n",
            "See the caveats in the documentation: https://pandas.pydata.org/pandas-docs/stable/user_guide/indexing.html#returning-a-view-versus-a-copy\n",
            "  ieeg_subset['Position'] = positions\n",
            "<ipython-input-53-b7de9913c462>:2: SettingWithCopyWarning: \n",
            "A value is trying to be set on a copy of a slice from a DataFrame.\n",
            "Try using .loc[row_indexer,col_indexer] = value instead\n",
            "\n",
            "See the caveats in the documentation: https://pandas.pydata.org/pandas-docs/stable/user_guide/indexing.html#returning-a-view-versus-a-copy\n",
            "  ieeg_subset['Length'] = length\n"
          ]
        }
      ]
    },
    {
      "cell_type": "code",
      "source": [
        "lex = []\n",
        "phon = []\n",
        "for i in ieeg_subset.ProbeCategory.values:\n",
        "  if 'non-words' in i: # non - words = 0, words = 0\n",
        "    lex.append(0)\n",
        "  elif 'words' in i:\n",
        "    lex.append(1)\n",
        "for i in ieeg_subset.ProbeCategory.values:\n",
        "  if 'low' in i: # high = 0 low = 1 \n",
        "    phon.append(1)\n",
        "  elif 'high' in i:\n",
        "    phon.append(0)\n",
        "print(len(lex))\n",
        "print(len(phon))"
      ],
      "metadata": {
        "colab": {
          "base_uri": "https://localhost:8080/"
        },
        "id": "xduZHb3K373b",
        "outputId": "8915167b-062d-434c-e742-57a99c4fe997"
      },
      "execution_count": 54,
      "outputs": [
        {
          "output_type": "stream",
          "name": "stdout",
          "text": [
            "5300\n",
            "5300\n"
          ]
        }
      ]
    },
    {
      "cell_type": "code",
      "source": [
        "ieeg_subset['Lex'] = lex\n",
        "ieeg_subset['Phono'] = phon"
      ],
      "metadata": {
        "colab": {
          "base_uri": "https://localhost:8080/"
        },
        "id": "fRkrJbtk38It",
        "outputId": "390d147a-63f1-4065-d25d-95bcd4f91de0"
      },
      "execution_count": 55,
      "outputs": [
        {
          "output_type": "stream",
          "name": "stderr",
          "text": [
            "<ipython-input-55-aefbe34290ea>:1: SettingWithCopyWarning: \n",
            "A value is trying to be set on a copy of a slice from a DataFrame.\n",
            "Try using .loc[row_indexer,col_indexer] = value instead\n",
            "\n",
            "See the caveats in the documentation: https://pandas.pydata.org/pandas-docs/stable/user_guide/indexing.html#returning-a-view-versus-a-copy\n",
            "  ieeg_subset['Lex'] = lex\n",
            "<ipython-input-55-aefbe34290ea>:2: SettingWithCopyWarning: \n",
            "A value is trying to be set on a copy of a slice from a DataFrame.\n",
            "Try using .loc[row_indexer,col_indexer] = value instead\n",
            "\n",
            "See the caveats in the documentation: https://pandas.pydata.org/pandas-docs/stable/user_guide/indexing.html#returning-a-view-versus-a-copy\n",
            "  ieeg_subset['Phono'] = phon\n"
          ]
        }
      ]
    },
    {
      "cell_type": "code",
      "source": [
        "ieeg_subset.head()"
      ],
      "metadata": {
        "colab": {
          "base_uri": "https://localhost:8080/",
          "height": 444
        },
        "id": "oxXMkZrfAxw2",
        "outputId": "2abcc24e-c40c-4fa2-db10-ffe184709a46"
      },
      "execution_count": 56,
      "outputs": [
        {
          "output_type": "execute_result",
          "data": {
            "text/plain": [
              "   Trial Subject  block  ProbeType  probeSound_idx    ProbeTypeName  \\\n",
              "0      0     D23      1          2              29      in_sequence   \n",
              "1      1     D23      1          2               5      in_sequence   \n",
              "2      2     D23      1          2              16      in_sequence   \n",
              "3      3     D23      1          1              29  out_of_sequence   \n",
              "4      4     D23      1          1               9  out_of_sequence   \n",
              "\n",
              "  StimlusCategory  ReactionTime KeyCode Resp  RespCorrect   Omission  \\\n",
              "0       Low Words      0.857518      37  Yes            1  Responded   \n",
              "1      High Words      1.339604      37  Yes            1  Responded   \n",
              "2  High Non-Words      1.045657      37  Yes            1  Responded   \n",
              "3      High Words      1.497001      39   No            1  Responded   \n",
              "4       Low Words      1.679783      39   No            1  Responded   \n",
              "\n",
              "    ProbeCategory            stimulusSounds_idx  \\\n",
              "0       low words                  [29, 25, 30]   \n",
              "1      high words        [2, 5, 8, 4, 7, 10, 3]   \n",
              "2  high non-words  [19, 14, 18, 16, 20, 15, 17]   \n",
              "3       low words  [10, 2, 7, 9, 1, 8, 6, 5, 4]   \n",
              "4      high words          [30, 24, 25, 29, 21]   \n",
              "\n",
              "                                 stimulusSounds_name probeSound_name  \\\n",
              "0  [[array(['wash.wav'], dtype='<U8')]\\n [array([...        wash.wav   \n",
              "1  [[array(['debt.wav'], dtype='<U8')]\\n [array([...        lair.wav   \n",
              "2  [[array(['rihn.wav'], dtype='<U8')]\\n [array([...        paon.wav   \n",
              "3  [[array(['witch.wav'], dtype='<U9')]\\n [array(...        wash.wav   \n",
              "4  [array(['youth.wav'], dtype='<U9'), array(['no...        soar.wav   \n",
              "\n",
              "   Position  Length  Lex  Phono  \n",
              "0         1       3    1      1  \n",
              "1         1       7    1      0  \n",
              "2         2       7    0      0  \n",
              "3         0       9    1      1  \n",
              "4         0       5    1      0  "
            ],
            "text/html": [
              "\n",
              "  <div id=\"df-fcd4737d-d445-4b69-8988-5cba22a3573f\">\n",
              "    <div class=\"colab-df-container\">\n",
              "      <div>\n",
              "<style scoped>\n",
              "    .dataframe tbody tr th:only-of-type {\n",
              "        vertical-align: middle;\n",
              "    }\n",
              "\n",
              "    .dataframe tbody tr th {\n",
              "        vertical-align: top;\n",
              "    }\n",
              "\n",
              "    .dataframe thead th {\n",
              "        text-align: right;\n",
              "    }\n",
              "</style>\n",
              "<table border=\"1\" class=\"dataframe\">\n",
              "  <thead>\n",
              "    <tr style=\"text-align: right;\">\n",
              "      <th></th>\n",
              "      <th>Trial</th>\n",
              "      <th>Subject</th>\n",
              "      <th>block</th>\n",
              "      <th>ProbeType</th>\n",
              "      <th>probeSound_idx</th>\n",
              "      <th>ProbeTypeName</th>\n",
              "      <th>StimlusCategory</th>\n",
              "      <th>ReactionTime</th>\n",
              "      <th>KeyCode</th>\n",
              "      <th>Resp</th>\n",
              "      <th>RespCorrect</th>\n",
              "      <th>Omission</th>\n",
              "      <th>ProbeCategory</th>\n",
              "      <th>stimulusSounds_idx</th>\n",
              "      <th>stimulusSounds_name</th>\n",
              "      <th>probeSound_name</th>\n",
              "      <th>Position</th>\n",
              "      <th>Length</th>\n",
              "      <th>Lex</th>\n",
              "      <th>Phono</th>\n",
              "    </tr>\n",
              "  </thead>\n",
              "  <tbody>\n",
              "    <tr>\n",
              "      <th>0</th>\n",
              "      <td>0</td>\n",
              "      <td>D23</td>\n",
              "      <td>1</td>\n",
              "      <td>2</td>\n",
              "      <td>29</td>\n",
              "      <td>in_sequence</td>\n",
              "      <td>Low Words</td>\n",
              "      <td>0.857518</td>\n",
              "      <td>37</td>\n",
              "      <td>Yes</td>\n",
              "      <td>1</td>\n",
              "      <td>Responded</td>\n",
              "      <td>low words</td>\n",
              "      <td>[29, 25, 30]</td>\n",
              "      <td>[[array(['wash.wav'], dtype='&lt;U8')]\\n [array([...</td>\n",
              "      <td>wash.wav</td>\n",
              "      <td>1</td>\n",
              "      <td>3</td>\n",
              "      <td>1</td>\n",
              "      <td>1</td>\n",
              "    </tr>\n",
              "    <tr>\n",
              "      <th>1</th>\n",
              "      <td>1</td>\n",
              "      <td>D23</td>\n",
              "      <td>1</td>\n",
              "      <td>2</td>\n",
              "      <td>5</td>\n",
              "      <td>in_sequence</td>\n",
              "      <td>High Words</td>\n",
              "      <td>1.339604</td>\n",
              "      <td>37</td>\n",
              "      <td>Yes</td>\n",
              "      <td>1</td>\n",
              "      <td>Responded</td>\n",
              "      <td>high words</td>\n",
              "      <td>[2, 5, 8, 4, 7, 10, 3]</td>\n",
              "      <td>[[array(['debt.wav'], dtype='&lt;U8')]\\n [array([...</td>\n",
              "      <td>lair.wav</td>\n",
              "      <td>1</td>\n",
              "      <td>7</td>\n",
              "      <td>1</td>\n",
              "      <td>0</td>\n",
              "    </tr>\n",
              "    <tr>\n",
              "      <th>2</th>\n",
              "      <td>2</td>\n",
              "      <td>D23</td>\n",
              "      <td>1</td>\n",
              "      <td>2</td>\n",
              "      <td>16</td>\n",
              "      <td>in_sequence</td>\n",
              "      <td>High Non-Words</td>\n",
              "      <td>1.045657</td>\n",
              "      <td>37</td>\n",
              "      <td>Yes</td>\n",
              "      <td>1</td>\n",
              "      <td>Responded</td>\n",
              "      <td>high non-words</td>\n",
              "      <td>[19, 14, 18, 16, 20, 15, 17]</td>\n",
              "      <td>[[array(['rihn.wav'], dtype='&lt;U8')]\\n [array([...</td>\n",
              "      <td>paon.wav</td>\n",
              "      <td>2</td>\n",
              "      <td>7</td>\n",
              "      <td>0</td>\n",
              "      <td>0</td>\n",
              "    </tr>\n",
              "    <tr>\n",
              "      <th>3</th>\n",
              "      <td>3</td>\n",
              "      <td>D23</td>\n",
              "      <td>1</td>\n",
              "      <td>1</td>\n",
              "      <td>29</td>\n",
              "      <td>out_of_sequence</td>\n",
              "      <td>High Words</td>\n",
              "      <td>1.497001</td>\n",
              "      <td>39</td>\n",
              "      <td>No</td>\n",
              "      <td>1</td>\n",
              "      <td>Responded</td>\n",
              "      <td>low words</td>\n",
              "      <td>[10, 2, 7, 9, 1, 8, 6, 5, 4]</td>\n",
              "      <td>[[array(['witch.wav'], dtype='&lt;U9')]\\n [array(...</td>\n",
              "      <td>wash.wav</td>\n",
              "      <td>0</td>\n",
              "      <td>9</td>\n",
              "      <td>1</td>\n",
              "      <td>1</td>\n",
              "    </tr>\n",
              "    <tr>\n",
              "      <th>4</th>\n",
              "      <td>4</td>\n",
              "      <td>D23</td>\n",
              "      <td>1</td>\n",
              "      <td>1</td>\n",
              "      <td>9</td>\n",
              "      <td>out_of_sequence</td>\n",
              "      <td>Low Words</td>\n",
              "      <td>1.679783</td>\n",
              "      <td>39</td>\n",
              "      <td>No</td>\n",
              "      <td>1</td>\n",
              "      <td>Responded</td>\n",
              "      <td>high words</td>\n",
              "      <td>[30, 24, 25, 29, 21]</td>\n",
              "      <td>[array(['youth.wav'], dtype='&lt;U9'), array(['no...</td>\n",
              "      <td>soar.wav</td>\n",
              "      <td>0</td>\n",
              "      <td>5</td>\n",
              "      <td>1</td>\n",
              "      <td>0</td>\n",
              "    </tr>\n",
              "  </tbody>\n",
              "</table>\n",
              "</div>\n",
              "      <button class=\"colab-df-convert\" onclick=\"convertToInteractive('df-fcd4737d-d445-4b69-8988-5cba22a3573f')\"\n",
              "              title=\"Convert this dataframe to an interactive table.\"\n",
              "              style=\"display:none;\">\n",
              "        \n",
              "  <svg xmlns=\"http://www.w3.org/2000/svg\" height=\"24px\"viewBox=\"0 0 24 24\"\n",
              "       width=\"24px\">\n",
              "    <path d=\"M0 0h24v24H0V0z\" fill=\"none\"/>\n",
              "    <path d=\"M18.56 5.44l.94 2.06.94-2.06 2.06-.94-2.06-.94-.94-2.06-.94 2.06-2.06.94zm-11 1L8.5 8.5l.94-2.06 2.06-.94-2.06-.94L8.5 2.5l-.94 2.06-2.06.94zm10 10l.94 2.06.94-2.06 2.06-.94-2.06-.94-.94-2.06-.94 2.06-2.06.94z\"/><path d=\"M17.41 7.96l-1.37-1.37c-.4-.4-.92-.59-1.43-.59-.52 0-1.04.2-1.43.59L10.3 9.45l-7.72 7.72c-.78.78-.78 2.05 0 2.83L4 21.41c.39.39.9.59 1.41.59.51 0 1.02-.2 1.41-.59l7.78-7.78 2.81-2.81c.8-.78.8-2.07 0-2.86zM5.41 20L4 18.59l7.72-7.72 1.47 1.35L5.41 20z\"/>\n",
              "  </svg>\n",
              "      </button>\n",
              "      \n",
              "  <style>\n",
              "    .colab-df-container {\n",
              "      display:flex;\n",
              "      flex-wrap:wrap;\n",
              "      gap: 12px;\n",
              "    }\n",
              "\n",
              "    .colab-df-convert {\n",
              "      background-color: #E8F0FE;\n",
              "      border: none;\n",
              "      border-radius: 50%;\n",
              "      cursor: pointer;\n",
              "      display: none;\n",
              "      fill: #1967D2;\n",
              "      height: 32px;\n",
              "      padding: 0 0 0 0;\n",
              "      width: 32px;\n",
              "    }\n",
              "\n",
              "    .colab-df-convert:hover {\n",
              "      background-color: #E2EBFA;\n",
              "      box-shadow: 0px 1px 2px rgba(60, 64, 67, 0.3), 0px 1px 3px 1px rgba(60, 64, 67, 0.15);\n",
              "      fill: #174EA6;\n",
              "    }\n",
              "\n",
              "    [theme=dark] .colab-df-convert {\n",
              "      background-color: #3B4455;\n",
              "      fill: #D2E3FC;\n",
              "    }\n",
              "\n",
              "    [theme=dark] .colab-df-convert:hover {\n",
              "      background-color: #434B5C;\n",
              "      box-shadow: 0px 1px 3px 1px rgba(0, 0, 0, 0.15);\n",
              "      filter: drop-shadow(0px 1px 2px rgba(0, 0, 0, 0.3));\n",
              "      fill: #FFFFFF;\n",
              "    }\n",
              "  </style>\n",
              "\n",
              "      <script>\n",
              "        const buttonEl =\n",
              "          document.querySelector('#df-fcd4737d-d445-4b69-8988-5cba22a3573f button.colab-df-convert');\n",
              "        buttonEl.style.display =\n",
              "          google.colab.kernel.accessAllowed ? 'block' : 'none';\n",
              "\n",
              "        async function convertToInteractive(key) {\n",
              "          const element = document.querySelector('#df-fcd4737d-d445-4b69-8988-5cba22a3573f');\n",
              "          const dataTable =\n",
              "            await google.colab.kernel.invokeFunction('convertToInteractive',\n",
              "                                                     [key], {});\n",
              "          if (!dataTable) return;\n",
              "\n",
              "          const docLinkHtml = 'Like what you see? Visit the ' +\n",
              "            '<a target=\"_blank\" href=https://colab.research.google.com/notebooks/data_table.ipynb>data table notebook</a>'\n",
              "            + ' to learn more about interactive tables.';\n",
              "          element.innerHTML = '';\n",
              "          dataTable['output_type'] = 'display_data';\n",
              "          await google.colab.output.renderOutput(dataTable, element);\n",
              "          const docLink = document.createElement('div');\n",
              "          docLink.innerHTML = docLinkHtml;\n",
              "          element.appendChild(docLink);\n",
              "        }\n",
              "      </script>\n",
              "    </div>\n",
              "  </div>\n",
              "  "
            ]
          },
          "metadata": {},
          "execution_count": 56
        }
      ]
    },
    {
      "cell_type": "markdown",
      "source": [
        "## Plotting the accuracy across conditions"
      ],
      "metadata": {
        "id": "E2jCZYJgEDbj"
      }
    },
    {
      "cell_type": "code",
      "source": [
        "ieeg_no_outliers.head()"
      ],
      "metadata": {
        "colab": {
          "base_uri": "https://localhost:8080/",
          "height": 165
        },
        "id": "OmQqaBqADqEq",
        "outputId": "b1ab1486-a8cb-4d67-c180-c841c98ff328"
      },
      "execution_count": 57,
      "outputs": [
        {
          "output_type": "error",
          "ename": "NameError",
          "evalue": "ignored",
          "traceback": [
            "\u001b[0;31m---------------------------------------------------------------------------\u001b[0m",
            "\u001b[0;31mNameError\u001b[0m                                 Traceback (most recent call last)",
            "\u001b[0;32m<ipython-input-57-76a7f2018578>\u001b[0m in \u001b[0;36m<module>\u001b[0;34m\u001b[0m\n\u001b[0;32m----> 1\u001b[0;31m \u001b[0mieeg_no_outliers\u001b[0m\u001b[0;34m.\u001b[0m\u001b[0mhead\u001b[0m\u001b[0;34m(\u001b[0m\u001b[0;34m)\u001b[0m\u001b[0;34m\u001b[0m\u001b[0;34m\u001b[0m\u001b[0m\n\u001b[0m",
            "\u001b[0;31mNameError\u001b[0m: name 'ieeg_no_outliers' is not defined"
          ]
        }
      ]
    },
    {
      "cell_type": "code",
      "source": [
        "only_match = ieeg_no_outliers[ieeg_no_outliers['ProbeType'] == 2]\n",
        "only_mismatch = ieeg_no_outliers[ieeg_no_outliers['ProbeType'] == 1]"
      ],
      "metadata": {
        "id": "j2hNi4UQRlVu"
      },
      "execution_count": null,
      "outputs": []
    },
    {
      "cell_type": "code",
      "source": [
        "ieeg_no_outliers.groupby(['ProbeType'])[['RespCorrect']].mean()"
      ],
      "metadata": {
        "id": "_J-QwDZTz0kI"
      },
      "execution_count": null,
      "outputs": []
    },
    {
      "cell_type": "code",
      "source": [
        "ss = ieeg_no_outliers[ieeg_no_outliers['ProbeType'] == 1][['ProbeCategory', 'StimlusCategory']]"
      ],
      "metadata": {
        "id": "dWkgoR695RTP"
      },
      "execution_count": null,
      "outputs": []
    },
    {
      "cell_type": "code",
      "source": [
        "new_p = []\n",
        "new_s = []\n",
        "for i in ss.ProbeCategory.values:\n",
        "  new_p.append(i.lower())\n",
        "for i in ss.StimlusCategory.values:\n",
        "  new_s.append(i.lower())\n",
        "print(len(new_p))\n",
        "print(len(new_s))"
      ],
      "metadata": {
        "id": "xo0OrJ1M5Uqn"
      },
      "execution_count": null,
      "outputs": []
    },
    {
      "cell_type": "code",
      "source": [
        "ss['ProbeCategory'] = new_p\n",
        "ss['StimlusCategory'] = new_s"
      ],
      "metadata": {
        "id": "Rweh84Ne5YIu"
      },
      "execution_count": null,
      "outputs": []
    },
    {
      "cell_type": "code",
      "source": [
        "index = 0\n",
        "check = []\n",
        "for i in range(0, ss.shape[0]):\n",
        "  if 'non-words' in new_p[i]:\n",
        "    if 'non-words' in new_s[i]:\n",
        "      index += 1 \n",
        "    else:\n",
        "      index += 1\n",
        "      check.append(i)\n",
        "  else:\n",
        "    if 'non-words' in new_s[i]:\n",
        "      index += 1\n",
        "      check.append(i)\n",
        "    else:\n",
        "      index += 1\n",
        "print(index)\n",
        "print(check)"
      ],
      "metadata": {
        "id": "tDTqyKW65a2X"
      },
      "execution_count": null,
      "outputs": []
    },
    {
      "cell_type": "markdown",
      "source": [
        "**General plots**"
      ],
      "metadata": {
        "id": "9SrPxfeVLZGJ"
      }
    },
    {
      "cell_type": "code",
      "source": [
        "ieeg_no_outliers.groupby(['ProbeCategory'])['RespCorrect'].mean().plot(\n",
        "    legend=True, title = 'Mean Acc across conditions'\n",
        "    );"
      ],
      "metadata": {
        "id": "5A5DB2EtDlFp"
      },
      "execution_count": null,
      "outputs": []
    },
    {
      "cell_type": "code",
      "source": [
        "ieeg_no_outliers.groupby(['Subject'])['RespCorrect'].mean().plot(\n",
        "    legend=True, title = 'Mean Acc across subjects'\n",
        "    );"
      ],
      "metadata": {
        "id": "bTsEm4M2EhpM"
      },
      "execution_count": null,
      "outputs": []
    },
    {
      "cell_type": "code",
      "source": [
        "# ALL TOGETHER\n",
        "# percentages of correct responses for different conditions\n",
        "# acc = correct trials in this cond / all trials in this cond\n",
        "pl.figure()\n",
        "subset = ieeg_no_outliers.groupby(['ProbeCategory', 'Length'])[['RespCorrect']].mean().reset_index()\n",
        "for i in subset.ProbeCategory.unique():\n",
        "  x = subset[subset['ProbeCategory'] == i]\n",
        "  pl.plot(x.Length, x.RespCorrect)\n",
        "pl.xticks(x.Length)\n",
        "pl.xlabel('List length')\n",
        "pl.ylabel('Acc')\n",
        "pl.legend(subset.ProbeCategory.unique())\n",
        "pl.title('Acc across conditions and line length');  "
      ],
      "metadata": {
        "id": "rUXNFKQbEn6l"
      },
      "execution_count": null,
      "outputs": []
    },
    {
      "cell_type": "code",
      "source": [
        "# WHEN MATCH\n",
        "# percentages of correct responses for different conditions\n",
        "# acc = correct trials in this cond / all trials in this cond\n",
        "pl.figure()\n",
        "subset = only_match.groupby(['ProbeCategory', 'Length'])[['RespCorrect']].mean().reset_index()\n",
        "for i in subset.ProbeCategory.unique():\n",
        "  x = subset[subset['ProbeCategory'] == i]\n",
        "  pl.plot(x.Length, x.RespCorrect)\n",
        "pl.xticks(x.Length)\n",
        "pl.xlabel('List length')\n",
        "pl.ylabel('Acc')\n",
        "pl.legend(subset.ProbeCategory.unique())\n",
        "pl.title('Acc across conditions and line length only match');  "
      ],
      "metadata": {
        "id": "4o2KmIaGR9m7"
      },
      "execution_count": null,
      "outputs": []
    },
    {
      "cell_type": "code",
      "source": [],
      "metadata": {
        "id": "ZDtudqqXsA1V"
      },
      "execution_count": null,
      "outputs": []
    },
    {
      "cell_type": "code",
      "source": [
        "only_match.groupby(['ProbeCategory'])[['RespCorrect']].mean()"
      ],
      "metadata": {
        "id": "DAzEmoCNjKXY"
      },
      "execution_count": null,
      "outputs": []
    },
    {
      "cell_type": "code",
      "source": [
        "only_mismatch.groupby(['ProbeCategory'])[['RespCorrect']].mean()"
      ],
      "metadata": {
        "id": "IowqLaFxjfAY"
      },
      "execution_count": null,
      "outputs": []
    },
    {
      "cell_type": "code",
      "source": [
        "only_match.groupby(['Phono'])[['RespCorrect']].mean()"
      ],
      "metadata": {
        "id": "GqFzZ-wFj-fK"
      },
      "execution_count": null,
      "outputs": []
    },
    {
      "cell_type": "code",
      "source": [
        "only_mismatch.groupby(['Phono'])[['RespCorrect']].mean()"
      ],
      "metadata": {
        "id": "zvw0LhZ9j8km"
      },
      "execution_count": null,
      "outputs": []
    },
    {
      "cell_type": "code",
      "source": [
        "# WHEN MISMATCH\n",
        "# percentages of correct responses for different conditions\n",
        "# acc = correct trials in this cond / all trials in this cond\n",
        "pl.figure()\n",
        "subset = only_mismatch.groupby(['ProbeCategory', 'Length'])[['RespCorrect']].mean().reset_index()\n",
        "for i in subset.ProbeCategory.unique():\n",
        "  x = subset[subset['ProbeCategory'] == i]\n",
        "  pl.plot(x.Length, x.RespCorrect)\n",
        "pl.xticks(x.Length)\n",
        "pl.xlabel('List length')\n",
        "pl.ylabel('Acc')\n",
        "pl.legend(subset.ProbeCategory.unique())\n",
        "pl.title('Acc across conditions and line length only mismatch');  "
      ],
      "metadata": {
        "id": "VQtIRPl2R9ua"
      },
      "execution_count": null,
      "outputs": []
    },
    {
      "cell_type": "code",
      "source": [
        "# WHEN MISMATCH\n",
        "# percentages of correct responses for different conditions\n",
        "# acc = correct trials in this cond / all trials in this cond\n",
        "pl.figure()\n",
        "subset = only_mismatch.groupby(['StimlusCategory', 'Length'])[['RespCorrect']].mean().reset_index()\n",
        "for i in subset.StimlusCategory.unique():\n",
        "  x = subset[subset['StimlusCategory'] == i]\n",
        "  pl.plot(x.Length, x.RespCorrect)\n",
        "pl.xticks(x.Length)\n",
        "pl.xlabel('List length')\n",
        "pl.ylabel('Acc')\n",
        "pl.legend(subset.StimlusCategory.unique())\n",
        "pl.title('Acc across conditions and line length only mismatch');  "
      ],
      "metadata": {
        "id": "mWKJ8Yz5iRRD"
      },
      "execution_count": null,
      "outputs": []
    },
    {
      "cell_type": "code",
      "source": [
        "# W VS. NW FOR BOTH MATCH AND MISMATCH\n",
        "pl.figure()\n",
        "words_nonwords = ieeg_no_outliers.groupby(['Lex', 'Length'])[['RespCorrect']].mean(). reset_index()\n",
        "for i in words_nonwords.Lex.unique():\n",
        "  x = words_nonwords[words_nonwords['Lex'] == i]\n",
        "  pl.plot(x.Length, x.RespCorrect)\n",
        "pl.xticks(x.Length)\n",
        "pl.xlabel('List length')\n",
        "pl.ylabel('Acc')\n",
        "pl.legend(words_nonwords.Lex.unique())\n",
        "pl.title('Words (1) vs. non-words (0)');  "
      ],
      "metadata": {
        "id": "zj8mcTwfExx8"
      },
      "execution_count": null,
      "outputs": []
    },
    {
      "cell_type": "code",
      "source": [
        "# W VS. NW WHEN MATCH\n",
        "pl.figure()\n",
        "words_nonwords = only_match.groupby(['Lex', 'Length'])[['RespCorrect']].mean(). reset_index()\n",
        "for i in words_nonwords.Lex.unique():\n",
        "  x = words_nonwords[words_nonwords['Lex'] == i]\n",
        "  pl.plot(x.Length, x.RespCorrect)\n",
        "pl.xticks(x.Length)\n",
        "pl.xlabel('List length')\n",
        "pl.ylabel('Acc')\n",
        "pl.legend(words_nonwords.Lex.unique())\n",
        "pl.title('Words (1) vs. non-words (0) only match'); "
      ],
      "metadata": {
        "id": "sbtGozsbSdcp"
      },
      "execution_count": null,
      "outputs": []
    },
    {
      "cell_type": "code",
      "source": [
        "# W VS. NW WHEN MISMATCH\n",
        "pl.figure()\n",
        "words_nonwords = only_mismatch.groupby(['Lex', 'Length'])[['RespCorrect']].mean(). reset_index()\n",
        "for i in words_nonwords.Lex.unique():\n",
        "  x = words_nonwords[words_nonwords['Lex'] == i]\n",
        "  pl.plot(x.Length, x.RespCorrect)\n",
        "pl.xticks(x.Length)\n",
        "pl.xlabel('List length')\n",
        "pl.ylabel('Acc')\n",
        "pl.legend(words_nonwords.Lex.unique())\n",
        "pl.title('Words (1) vs. non-words (0) only mismatch'); "
      ],
      "metadata": {
        "id": "D8IaoG6aSdhC"
      },
      "execution_count": null,
      "outputs": []
    },
    {
      "cell_type": "code",
      "source": [
        "# H VS LOW FOR BOTH MATCH AND MISMATCH\n",
        "pl.figure()\n",
        "high_low = ieeg_no_outliers.groupby(['Phono', 'Length'])[['RespCorrect']].mean().reset_index()\n",
        "for i in high_low.Phono.unique():\n",
        "  x = high_low[high_low['Phono'] == i]\n",
        "  pl.plot(x.Length, x.RespCorrect)\n",
        "pl.xticks(x.Length)\n",
        "pl.xlabel('List length')\n",
        "pl.ylabel('Acc')\n",
        "pl.legend(high_low.Phono.unique())\n",
        "pl.title('High vs. Low'); "
      ],
      "metadata": {
        "id": "AiMShxhjE6V2"
      },
      "execution_count": null,
      "outputs": []
    },
    {
      "cell_type": "code",
      "source": [
        "# H VS LOW WHEN MATCH\n",
        "pl.figure()\n",
        "high_low = only_match.groupby(['Phono', 'Length'])[['RespCorrect']].mean().reset_index()\n",
        "for i in high_low.Phono.unique():\n",
        "  x = high_low[high_low['Phono'] == i]\n",
        "  pl.plot(x.Length, x.RespCorrect)\n",
        "pl.xticks(x.Length)\n",
        "pl.xlabel('List length')\n",
        "pl.ylabel('Acc')\n",
        "pl.legend(high_low.Phono.unique())\n",
        "pl.title('High vs. Low only match'); "
      ],
      "metadata": {
        "id": "U373qIoaS6X-"
      },
      "execution_count": null,
      "outputs": []
    },
    {
      "cell_type": "code",
      "source": [
        "# H VS LOW WHEN MISMATCH\n",
        "pl.figure()\n",
        "high_low = only_mismatch.groupby(['Phono', 'Length'])[['RespCorrect']].mean().reset_index()\n",
        "for i in high_low.Phono.unique():\n",
        "  x = high_low[high_low['Phono'] == i]\n",
        "  pl.plot(x.Length, x.RespCorrect)\n",
        "pl.xticks(x.Length)\n",
        "pl.xlabel('List length')\n",
        "pl.ylabel('Acc')\n",
        "pl.legend(high_low.Phono.unique())\n",
        "pl.title('High vs. Low only mismatch'); "
      ],
      "metadata": {
        "id": "GwzThuoaS6dx"
      },
      "execution_count": null,
      "outputs": []
    },
    {
      "cell_type": "code",
      "source": [
        "# probe type 2 = in seq, 1 = out of seq\n",
        "probe_words = ieeg_no_outliers.groupby(['ProbeType', 'Lex', 'Length'])[['RespCorrect']].mean().reset_index()\n",
        "for i in probe_words.ProbeType.unique():\n",
        "  for j in probe_words.Lex.unique():\n",
        "    x = probe_words[(probe_words['ProbeType'] == i) & (probe_words['Lex'] == j)]\n",
        "    pl.plot(x.Length, x.RespCorrect, label = ('Probe', i, 'Lex', j))\n",
        "pl.xticks(x.Length)\n",
        "pl.xlabel('List length')\n",
        "pl.ylabel('Acc')\n",
        "pl.legend()\n",
        "pl.title('Words/Non-words and Probe/No probe');"
      ],
      "metadata": {
        "id": "Hef02DeLFNsb"
      },
      "execution_count": null,
      "outputs": []
    },
    {
      "cell_type": "code",
      "source": [
        "probe_neigh = ieeg_no_outliers.groupby(['ProbeType', 'Phono', 'Length'])[['RespCorrect']].mean().reset_index()\n",
        "for i in probe_neigh.ProbeType.unique():\n",
        "  for j in probe_neigh.Phono.unique():\n",
        "    x = probe_neigh[(probe_neigh['ProbeType'] == i) & (probe_neigh['Phono'] == j)]\n",
        "    pl.plot(x.Length, x.RespCorrect, label = ('Probe', i, 'Phono', j))\n",
        "pl.xticks(x.Length)\n",
        "pl.xlabel('List length')\n",
        "pl.ylabel('Acc')\n",
        "pl.legend()\n",
        "pl.title('High/Low and Probe(2)/No probe(1)');"
      ],
      "metadata": {
        "id": "itXLwg_ZFU59"
      },
      "execution_count": null,
      "outputs": []
    },
    {
      "cell_type": "code",
      "source": [
        "subset = ieeg_no_outliers.groupby(['Position', 'Length'])[['RespCorrect']].mean().reset_index()\n",
        "for i in subset.Position.unique():\n",
        "  x = subset[subset['Position'] == i]\n",
        "  pl.plot(x.Length, x.RespCorrect)\n",
        "pl.xticks(x.Length)\n",
        "pl.xlabel('List length')\n",
        "pl.ylabel('Acc')\n",
        "pl.legend(subset.Position.unique())\n",
        "pl.title('Position vs. Length');"
      ],
      "metadata": {
        "id": "_nm9qS0nFVJb"
      },
      "execution_count": null,
      "outputs": []
    },
    {
      "cell_type": "code",
      "source": [
        "subset = only_match.groupby(['Position', 'Length'])[['RespCorrect']].mean().reset_index()\n",
        "for i in subset.Position.unique():\n",
        "  x = subset[subset['Position'] == i]\n",
        "  pl.plot(x.Length, x.RespCorrect)\n",
        "pl.xticks(x.Length)\n",
        "pl.xlabel('List length')\n",
        "pl.ylabel('Acc')\n",
        "pl.legend(subset.Position.unique())\n",
        "pl.title('Position vs. Length only match');"
      ],
      "metadata": {
        "id": "ly36QBYoUKHa"
      },
      "execution_count": null,
      "outputs": []
    },
    {
      "cell_type": "code",
      "source": [
        "pos_words = ieeg_no_outliers.groupby(['Position', 'Lex', 'Length'])[['RespCorrect']].mean().reset_index()\n",
        "for i in pos_words.Position.unique():\n",
        "  for j in pos_words.Lex.unique():\n",
        "    x = pos_words[(pos_words['Position'] == i) & (pos_words['Lex'] == j)]\n",
        "    if j == 0:\n",
        "      pl.plot(x.Length, x.RespCorrect, '--', label = ('Pos', i, 'Lex', j))\n",
        "    elif j == 1:\n",
        "      pl.plot(x.Length, x.RespCorrect, label = ('Pos', i, 'Lex', j))\n",
        "pl.xticks(x.Length)\n",
        "pl.xlabel('List length')\n",
        "pl.ylabel('Acc')\n",
        "pl.legend()\n",
        "pl.title('Position vs. W/NW vs. Length');"
      ],
      "metadata": {
        "id": "cVxgtSYXFumd"
      },
      "execution_count": null,
      "outputs": []
    },
    {
      "cell_type": "markdown",
      "source": [
        "## Plotting accuracy distributions per subject"
      ],
      "metadata": {
        "id": "_OE0r13jUin6"
      }
    },
    {
      "cell_type": "code",
      "source": [
        "ieeg_no_outliers.head()"
      ],
      "metadata": {
        "id": "tTuttqFFVIVA"
      },
      "execution_count": null,
      "outputs": []
    },
    {
      "cell_type": "code",
      "source": [
        "for i in ieeg_no_outliers.Subject.unique():\n",
        "  subset = ieeg_no_outliers[ieeg_no_outliers['Subject'] == i]\n",
        "  pl.figure()\n",
        "  sns.barplot(x = 'Lex', y = 'RespCorrect', data = subset,\n",
        "              estimator = lambda x: sum(x)/len(x));\n",
        "  pl.title('Non-words vs. words for ' + subset.Subject.unique());"
      ],
      "metadata": {
        "id": "wbpMEt-OU6QK"
      },
      "execution_count": null,
      "outputs": []
    },
    {
      "cell_type": "markdown",
      "source": [
        "Paired t-test"
      ],
      "metadata": {
        "id": "Te5eFd7HqlnL"
      }
    },
    {
      "cell_type": "code",
      "source": [
        "sample = ieeg_no_outliers[ieeg_no_outliers['Subject'] == 'D27']\n",
        "sample = sample[[\n",
        "        'Lex', 'RespCorrect'\n",
        "]]"
      ],
      "metadata": {
        "id": "gi0bH5tgpn4u"
      },
      "execution_count": null,
      "outputs": []
    },
    {
      "cell_type": "code",
      "source": [
        "x = sample[sample['Lex'] == 1]\n",
        "y = sample[sample['Lex'] == 0]\n",
        "stats.ttest_ind(x, y, equal_var = False)"
      ],
      "metadata": {
        "id": "9-XrbekR_iDx"
      },
      "execution_count": null,
      "outputs": []
    },
    {
      "cell_type": "markdown",
      "source": [
        "Plots"
      ],
      "metadata": {
        "id": "8IzwfVZD6AP6"
      }
    },
    {
      "cell_type": "code",
      "source": [
        "for i in ieeg_no_outliers.Subject.unique():\n",
        "  subset = ieeg_no_outliers[ieeg_no_outliers['Subject'] == i]\n",
        "  pl.figure()\n",
        "  sns.barplot(x = 'Phono', y = 'RespCorrect', data = subset,\n",
        "              estimator = lambda x: sum(x)/len(x));\n",
        "  pl.title('Low vs. high for ' + subset.Subject.unique());"
      ],
      "metadata": {
        "id": "RiEwY40aXxak"
      },
      "execution_count": null,
      "outputs": []
    },
    {
      "cell_type": "markdown",
      "source": [
        "Check for significance"
      ],
      "metadata": {
        "id": "Nyjfy7Dz7sLj"
      }
    },
    {
      "cell_type": "code",
      "source": [
        "sample = ieeg_no_outliers[ieeg_no_outliers['Subject'] == 'D36']\n",
        "sample = sample[[\n",
        "                 'Phono', 'RespCorrect'\n",
        "]]"
      ],
      "metadata": {
        "id": "tmU6017476qI"
      },
      "execution_count": null,
      "outputs": []
    },
    {
      "cell_type": "code",
      "source": [
        "x = sample[sample['Phono'] == 1]\n",
        "y = sample[sample['Phono'] == 0]\n",
        "stats.ttest_ind(x, y, equal_var = False)"
      ],
      "metadata": {
        "id": "1IiPDvaP7v5y"
      },
      "execution_count": null,
      "outputs": []
    },
    {
      "cell_type": "markdown",
      "source": [
        "Plots"
      ],
      "metadata": {
        "id": "cCTGBT2q7uwJ"
      }
    },
    {
      "cell_type": "code",
      "source": [
        "for i in ieeg_no_outliers.Subject.unique():\n",
        "  subset = ieeg_no_outliers[ieeg_no_outliers['Subject'] == i]\n",
        "  pl.figure();\n",
        "  sns.barplot(x = 'ProbeCategory', y = 'RespCorrect', data = subset, estimator = lambda x: sum(x)/len(x));\n",
        "  pl.title(subset.Subject.unique());"
      ],
      "metadata": {
        "id": "TytxSNvIX53d"
      },
      "execution_count": null,
      "outputs": []
    },
    {
      "cell_type": "code",
      "source": [
        "sample = ieeg_no_outliers[ieeg_no_outliers['Subject'] == 'D71']\n",
        "sample = sample[[\n",
        "                 'ProbeCategory', 'RespCorrect', 'ProbeType'\n",
        "]]"
      ],
      "metadata": {
        "id": "dTnxmChNHRCb"
      },
      "execution_count": null,
      "outputs": []
    },
    {
      "cell_type": "code",
      "source": [
        "x = sample[sample['ProbeCategory'] == 'low words']['RespCorrect'].values\n",
        "y = sample[sample['ProbeCategory'] == 'low non-words']['RespCorrect'].values\n",
        "stats.ttest_ind(x, y, equal_var = False)"
      ],
      "metadata": {
        "id": "v9LdP4aqLGZB"
      },
      "execution_count": null,
      "outputs": []
    },
    {
      "cell_type": "code",
      "source": [
        "x = sample[sample['ProbeCategory'] == 'high words']['RespCorrect'].values\n",
        "y = sample[sample['ProbeCategory'] == 'high non-words']['RespCorrect'].values\n",
        "stats.ttest_ind(x, y, equal_var = False)"
      ],
      "metadata": {
        "id": "kFts3wIcLJ56"
      },
      "execution_count": null,
      "outputs": []
    },
    {
      "cell_type": "code",
      "source": [
        "x = sample[sample['ProbeCategory'] == 'high words']['RespCorrect'].values\n",
        "y = sample[sample['ProbeCategory'] == 'low words']['RespCorrect'].values\n",
        "stats.ttest_ind(x, y, equal_var = False)"
      ],
      "metadata": {
        "id": "t9P7f3wbLT_o"
      },
      "execution_count": null,
      "outputs": []
    },
    {
      "cell_type": "code",
      "source": [
        "x = sample[sample['ProbeCategory'] == 'high non-words']['RespCorrect'].values\n",
        "y = sample[sample['ProbeCategory'] == 'low non-words']['RespCorrect'].values\n",
        "stats.ttest_ind(x, y, equal_var = False)"
      ],
      "metadata": {
        "id": "-nQYUO1SLUGZ"
      },
      "execution_count": null,
      "outputs": []
    },
    {
      "cell_type": "markdown",
      "source": [],
      "metadata": {
        "id": "566Up2tQLK5B"
      }
    },
    {
      "cell_type": "code",
      "source": [
        "x = sample[(sample['ProbeCategory'] == 'low words') & (sample['ProbeType'] == 2)]['RespCorrect'].values\n",
        "y = sample[(sample['ProbeCategory'] == 'low non-words') & (sample['ProbeType'] == 2)]['RespCorrect'].values\n",
        "stats.ttest_ind(x, y, equal_var = False)"
      ],
      "metadata": {
        "id": "0GN4xyGnK4Jx"
      },
      "execution_count": null,
      "outputs": []
    },
    {
      "cell_type": "code",
      "source": [
        "x = sample[(sample['ProbeCategory'] == 'low words') & (sample['ProbeType'] == 1)]['RespCorrect'].values\n",
        "y = sample[(sample['ProbeCategory'] == 'low non-words') & (sample['ProbeType'] == 1)]['RespCorrect'].values\n",
        "stats.ttest_ind(x, y, equal_var = False)"
      ],
      "metadata": {
        "id": "g12-0ZcRLoD6"
      },
      "execution_count": null,
      "outputs": []
    },
    {
      "cell_type": "code",
      "source": [
        "x = sample[(sample['ProbeCategory'] == 'high words') & (sample['ProbeType'] == 2)]['RespCorrect'].values\n",
        "y = sample[(sample['ProbeCategory'] == 'high non-words') & (sample['ProbeType'] == 2)]['RespCorrect'].values\n",
        "stats.ttest_ind(x, y, equal_var = False)"
      ],
      "metadata": {
        "id": "S_TF0Xr3LqcV"
      },
      "execution_count": null,
      "outputs": []
    },
    {
      "cell_type": "code",
      "source": [
        "x = sample[(sample['ProbeCategory'] == 'high words') & (sample['ProbeType'] == 1)]['RespCorrect'].values\n",
        "y = sample[(sample['ProbeCategory'] == 'high non-words') & (sample['ProbeType'] == 1)]['RespCorrect'].values\n",
        "stats.ttest_ind(x, y, equal_var = False)"
      ],
      "metadata": {
        "id": "DuD4nk-JK4ZI"
      },
      "execution_count": null,
      "outputs": []
    },
    {
      "cell_type": "code",
      "source": [
        "x = sample[(sample['ProbeCategory'] == 'low non-words') & (sample['ProbeType'] == 2)]['RespCorrect'].values\n",
        "y = sample[(sample['ProbeCategory'] == 'high non-words') & (sample['ProbeType'] == 2)]['RespCorrect'].values\n",
        "stats.ttest_ind(x, y, equal_var = False)"
      ],
      "metadata": {
        "id": "78aGmmHoHNbg"
      },
      "execution_count": null,
      "outputs": []
    },
    {
      "cell_type": "code",
      "source": [
        "x = sample[(sample['ProbeCategory'] == 'low non-words') & (sample['ProbeType'] == 1)]['RespCorrect'].values\n",
        "y = sample[(sample['ProbeCategory'] == 'high non-words') & (sample['ProbeType'] == 1)]['RespCorrect'].values\n",
        "stats.ttest_ind(x, y, equal_var = False)"
      ],
      "metadata": {
        "id": "umz1a9YzLxCb"
      },
      "execution_count": null,
      "outputs": []
    },
    {
      "cell_type": "code",
      "source": [
        "x = sample[(sample['ProbeCategory'] == 'low words') & (sample['ProbeType'] == 2)]['RespCorrect'].values\n",
        "y = sample[(sample['ProbeCategory'] == 'high words') & (sample['ProbeType'] == 2)]['RespCorrect'].values\n",
        "stats.ttest_ind(x, y, equal_var = False)"
      ],
      "metadata": {
        "id": "Svc52cRPL1bn"
      },
      "execution_count": null,
      "outputs": []
    },
    {
      "cell_type": "code",
      "source": [
        "x = sample[(sample['ProbeCategory'] == 'low words') & (sample['ProbeType'] == 1)]['RespCorrect'].values\n",
        "y = sample[(sample['ProbeCategory'] == 'high words') & (sample['ProbeType'] == 1)]['RespCorrect'].values\n",
        "stats.ttest_ind(x, y, equal_var = False)"
      ],
      "metadata": {
        "id": "OnInhnGeK3uS"
      },
      "execution_count": null,
      "outputs": []
    },
    {
      "cell_type": "markdown",
      "source": [
        "## Plotting the RT across conditions"
      ],
      "metadata": {
        "id": "osfRcy02F0Jo"
      }
    },
    {
      "cell_type": "code",
      "source": [
        "subset = ieeg_no_outliers.groupby(['ProbeCategory', 'Length'])[['stdRT']].mean().reset_index()\n",
        "pl.figure()\n",
        "for i in subset.ProbeCategory.unique():\n",
        "  x = subset[subset['ProbeCategory'] == i]\n",
        "  pl.plot(x.Length, x.stdRT)\n",
        "pl.xticks(x.Length)\n",
        "pl.xlabel('List length')\n",
        "pl.ylabel('std RT')\n",
        "pl.legend(subset.ProbeCategory.unique())\n",
        "pl.title('RT across conditions and line length'); "
      ],
      "metadata": {
        "id": "MCnEh__iF2lO"
      },
      "execution_count": null,
      "outputs": []
    },
    {
      "cell_type": "code",
      "source": [
        "subset = only_match.groupby(['ProbeCategory', 'Length'])[['stdRT']].mean().reset_index()\n",
        "pl.figure()\n",
        "for i in subset.ProbeCategory.unique():\n",
        "  x = subset[subset['ProbeCategory'] == i]\n",
        "  pl.plot(x.Length, x.stdRT)\n",
        "pl.xticks(x.Length)\n",
        "pl.xlabel('List length')\n",
        "pl.ylabel('std RT')\n",
        "pl.legend(subset.ProbeCategory.unique())\n",
        "pl.title('RT across conditions and line length only match'); "
      ],
      "metadata": {
        "id": "8qJBYrMoYszQ"
      },
      "execution_count": null,
      "outputs": []
    },
    {
      "cell_type": "code",
      "source": [
        "subset = only_mismatch.groupby(['ProbeCategory', 'Length'])[['stdRT']].mean().reset_index()\n",
        "pl.figure()\n",
        "for i in subset.ProbeCategory.unique():\n",
        "  x = subset[subset['ProbeCategory'] == i]\n",
        "  pl.plot(x.Length, x.stdRT)\n",
        "pl.xticks(x.Length)\n",
        "pl.xlabel('List length')\n",
        "pl.ylabel('std RT')\n",
        "pl.legend(subset.ProbeCategory.unique())\n",
        "pl.title('RT across conditions and line length only mismatch'); "
      ],
      "metadata": {
        "id": "N1aHLslMYt9m"
      },
      "execution_count": null,
      "outputs": []
    },
    {
      "cell_type": "code",
      "source": [
        "subset = only_mismatch.groupby(['StimlusCategory', 'Length'])[['stdRT']].mean().reset_index()\n",
        "pl.figure()\n",
        "for i in subset.StimlusCategory.unique():\n",
        "  x = subset[subset['StimlusCategory'] == i]\n",
        "  pl.plot(x.Length, x.stdRT)\n",
        "pl.xticks(x.Length)\n",
        "pl.xlabel('List length')\n",
        "pl.ylabel('std RT')\n",
        "pl.legend(subset.StimlusCategory.unique())\n",
        "pl.title('RT across conditions and line length only mismatch'); "
      ],
      "metadata": {
        "id": "82QxaGBITwc4"
      },
      "execution_count": null,
      "outputs": []
    },
    {
      "cell_type": "code",
      "source": [
        "pl.figure()\n",
        "words_nonwords = ieeg_no_outliers.groupby(['Lex', 'Length'])[['stdRT']].mean().reset_index()\n",
        "for i in words_nonwords.Lex.unique():\n",
        "  x = words_nonwords[words_nonwords['Lex'] == i]\n",
        "  pl.plot(x.Length, x.stdRT)\n",
        "pl.xticks(x.Length)\n",
        "pl.xlabel('List length')\n",
        "pl.ylabel('RT')\n",
        "pl.legend(words_nonwords.Lex.unique())\n",
        "pl.title('Words vs. non-words');  "
      ],
      "metadata": {
        "id": "S_CNkBWFF_Te"
      },
      "execution_count": null,
      "outputs": []
    },
    {
      "cell_type": "code",
      "source": [
        "pl.figure()\n",
        "words_nonwords = only_match.groupby(['Lex', 'Length'])[['stdRT']].mean().reset_index()\n",
        "for i in words_nonwords.Lex.unique():\n",
        "  x = words_nonwords[words_nonwords['Lex'] == i]\n",
        "  pl.plot(x.Length, x.stdRT)\n",
        "pl.xticks(x.Length)\n",
        "pl.xlabel('List length')\n",
        "pl.ylabel('RT')\n",
        "pl.legend(words_nonwords.Lex.unique())\n",
        "pl.title('Words vs. non-words only match');  "
      ],
      "metadata": {
        "id": "gGAo-0YEY--X"
      },
      "execution_count": null,
      "outputs": []
    },
    {
      "cell_type": "code",
      "source": [
        "pl.figure()\n",
        "words_nonwords = only_mismatch.groupby(['Lex', 'Length'])[['stdRT']].mean().reset_index()\n",
        "for i in words_nonwords.Lex.unique():\n",
        "  x = words_nonwords[words_nonwords['Lex'] == i]\n",
        "  pl.plot(x.Length, x.stdRT)\n",
        "pl.xticks(x.Length)\n",
        "pl.xlabel('List length')\n",
        "pl.ylabel('RT')\n",
        "pl.legend(words_nonwords.Lex.unique())\n",
        "pl.title('Words vs. non-words only mismatch');  "
      ],
      "metadata": {
        "id": "xfuX5fyhY_Wx"
      },
      "execution_count": null,
      "outputs": []
    },
    {
      "cell_type": "code",
      "source": [
        "pl.figure()\n",
        "high_low = ieeg_no_outliers.groupby(['Phono', 'Length'])[['stdRT']].mean().reset_index()\n",
        "for i in high_low.Phono.unique():\n",
        "  x = high_low[high_low['Phono'] == i]\n",
        "  pl.plot(x.Length, x.stdRT)\n",
        "pl.xticks(x.Length)\n",
        "pl.xlabel('List length')\n",
        "pl.ylabel('RT')\n",
        "pl.legend(high_low.Phono.unique())\n",
        "pl.title('High vs. Low');  "
      ],
      "metadata": {
        "id": "KVC6FUheGBqH"
      },
      "execution_count": null,
      "outputs": []
    },
    {
      "cell_type": "code",
      "source": [
        "pl.figure()\n",
        "high_low = only_match.groupby(['Phono', 'Length'])[['stdRT']].mean().reset_index()\n",
        "for i in high_low.Phono.unique():\n",
        "  x = high_low[high_low['Phono'] == i]\n",
        "  pl.plot(x.Length, x.stdRT)\n",
        "pl.xticks(x.Length)\n",
        "pl.xlabel('List length')\n",
        "pl.ylabel('RT')\n",
        "pl.legend(high_low.Phono.unique())\n",
        "pl.title('High vs. Low only match');"
      ],
      "metadata": {
        "id": "i2LuCvzuZm49"
      },
      "execution_count": null,
      "outputs": []
    },
    {
      "cell_type": "code",
      "source": [
        "pl.figure()\n",
        "high_low = only_mismatch.groupby(['Phono', 'Length'])[['stdRT']].mean().reset_index()\n",
        "for i in high_low.Phono.unique():\n",
        "  x = high_low[high_low['Phono'] == i]\n",
        "  pl.plot(x.Length, x.stdRT)\n",
        "pl.xticks(x.Length)\n",
        "pl.xlabel('List length')\n",
        "pl.ylabel('RT')\n",
        "pl.legend(high_low.Phono.unique())\n",
        "pl.title('High vs. Low only mismatch');"
      ],
      "metadata": {
        "id": "FQF21HTRZm-q"
      },
      "execution_count": null,
      "outputs": []
    },
    {
      "cell_type": "markdown",
      "source": [
        "## Individual distributions of RT per subject"
      ],
      "metadata": {
        "id": "F4ndBF1IZ1fq"
      }
    },
    {
      "cell_type": "code",
      "source": [
        "for i in ieeg_no_outliers.Subject.unique():\n",
        "  subset = ieeg_no_outliers[ieeg_no_outliers['Subject'] == i]\n",
        "  pl.figure()\n",
        "  sns.barplot(x = 'ProbeCategory', y = 'stdRT', data = subset,\n",
        "      estimator = lambda x: sum(x)/len(x))\n",
        "  pl.title(subset.Subject.unique())"
      ],
      "metadata": {
        "id": "MI7M9gAMbEpq"
      },
      "execution_count": null,
      "outputs": []
    },
    {
      "cell_type": "code",
      "source": [
        "for i in ieeg_no_outliers.Subject.unique():\n",
        "  subset = ieeg_no_outliers[ieeg_no_outliers['Subject'] == i]\n",
        "  pl.figure();\n",
        "  sns.barplot(x = 'Lex', y = 'stdRT', data = subset, \n",
        "              estimator = lambda x: sum(x)/len(x));\n",
        "  pl.title('NW vs. W for ' + subset.Subject.unique());"
      ],
      "metadata": {
        "id": "8LK-SHPnbrel"
      },
      "execution_count": null,
      "outputs": []
    },
    {
      "cell_type": "code",
      "source": [
        "sample = ieeg_no_outliers[ieeg_no_outliers['Subject'] == 'D27']\n",
        "sample = sample[[\n",
        "                 'Lex', 'ReactionTime', 'ProbeType'\n",
        "]]"
      ],
      "metadata": {
        "id": "I5-5OINUZHTX"
      },
      "execution_count": null,
      "outputs": []
    },
    {
      "cell_type": "code",
      "source": [
        "x = sample[(sample['Lex'] == 1) & (sample['ProbeType'] == 2)]\n",
        "y = sample[(sample['Lex'] == 0) & (sample['ProbeType'] == 2)]\n",
        "stats.ttest_ind(x, y, equal_var = False)"
      ],
      "metadata": {
        "id": "Ox91HyDiZGO5"
      },
      "execution_count": null,
      "outputs": []
    },
    {
      "cell_type": "code",
      "source": [],
      "metadata": {
        "id": "NVqMCKKnaYXc"
      },
      "execution_count": null,
      "outputs": []
    },
    {
      "cell_type": "code",
      "source": [
        "sample = ieeg_no_outliers[ieeg_no_outliers['Subject'] == 'D28']\n",
        "sample = sample[[\n",
        "                 'ProbeCategory', 'ProbeType', 'ReactionTime'\n",
        "]]"
      ],
      "metadata": {
        "id": "diBuW4LkWpVS"
      },
      "execution_count": null,
      "outputs": []
    },
    {
      "cell_type": "code",
      "source": [
        "x = sample[sample['ProbeCategory'] == 'low words']['ReactionTime'].values\n",
        "y = sample[sample['ProbeCategory'] == 'low non-words']['ReactionTime'].values\n",
        "stats.ttest_ind(x, y, equal_var = False)"
      ],
      "metadata": {
        "id": "tF3wc7eaVd8e"
      },
      "execution_count": null,
      "outputs": []
    },
    {
      "cell_type": "code",
      "source": [
        "x = sample[sample['ProbeCategory'] == 'high words']['ReactionTime'].values\n",
        "y = sample[sample['ProbeCategory'] == 'high non-words']['ReactionTime'].values\n",
        "stats.ttest_ind(x, y, equal_var = False)"
      ],
      "metadata": {
        "id": "3U0gbgWFVeDD"
      },
      "execution_count": null,
      "outputs": []
    },
    {
      "cell_type": "code",
      "source": [
        "x = sample[sample['ProbeCategory'] == 'low words']['ReactionTime'].values\n",
        "y = sample[sample['ProbeCategory'] == 'high words']['ReactionTime'].values\n",
        "stats.ttest_ind(x, y, equal_var = False)"
      ],
      "metadata": {
        "id": "Wz8TFaGjXv2j"
      },
      "execution_count": null,
      "outputs": []
    },
    {
      "cell_type": "code",
      "source": [
        "x = sample[sample['ProbeCategory'] == 'low non-words']['ReactionTime'].values\n",
        "y = sample[sample['ProbeCategory'] == 'high non-words']['ReactionTime'].values\n",
        "stats.ttest_ind(x, y, equal_var = False)"
      ],
      "metadata": {
        "id": "G9z2shLfXv9x"
      },
      "execution_count": null,
      "outputs": []
    },
    {
      "cell_type": "markdown",
      "source": [],
      "metadata": {
        "id": "Fxwr4k53XxER"
      }
    },
    {
      "cell_type": "code",
      "source": [
        "x = sample[(sample['ProbeCategory'] == 'low words') & (sample['ProbeType'] == 2)]['ReactionTime'].values\n",
        "y = sample[(sample['ProbeCategory'] == 'low non-words') & (sample['ProbeType'] == 2)]['ReactionTime'].values\n",
        "stats.ttest_ind(x, y, equal_var = False)"
      ],
      "metadata": {
        "id": "-uzuOfEWXxVj"
      },
      "execution_count": null,
      "outputs": []
    },
    {
      "cell_type": "code",
      "source": [
        "x = sample[(sample['ProbeCategory'] == 'low words') & (sample['ProbeType'] == 1)]['ReactionTime'].values\n",
        "y = sample[(sample['ProbeCategory'] == 'low non-words') & (sample['ProbeType'] == 1)]['ReactionTime'].values\n",
        "stats.ttest_ind(x, y, equal_var = False)"
      ],
      "metadata": {
        "id": "U2_9HuTQYCOW"
      },
      "execution_count": null,
      "outputs": []
    },
    {
      "cell_type": "code",
      "source": [
        "x = sample[(sample['ProbeCategory'] == 'high words') & (sample['ProbeType'] == 2)]['ReactionTime'].values\n",
        "y = sample[(sample['ProbeCategory'] == 'high non-words') & (sample['ProbeType'] == 2)]['ReactionTime'].values\n",
        "stats.ttest_ind(x, y, equal_var = False)"
      ],
      "metadata": {
        "id": "UbWTll_0YIo7"
      },
      "execution_count": null,
      "outputs": []
    },
    {
      "cell_type": "code",
      "source": [
        "x = sample[(sample['ProbeCategory'] == 'high words') & (sample['ProbeType'] == 1)]['ReactionTime'].values\n",
        "y = sample[(sample['ProbeCategory'] == 'high non-words') & (sample['ProbeType'] == 1)]['ReactionTime'].values\n",
        "stats.ttest_ind(x, y, equal_var = False)"
      ],
      "metadata": {
        "id": "MkGCkLPgYJer"
      },
      "execution_count": null,
      "outputs": []
    },
    {
      "cell_type": "code",
      "source": [
        "x = sample[(sample['ProbeCategory'] == 'low non-words') & (sample['ProbeType'] == 2)]['ReactionTime'].values\n",
        "y = sample[(sample['ProbeCategory'] == 'high non-words') & (sample['ProbeType'] == 2)]['ReactionTime'].values\n",
        "stats.ttest_ind(x, y, equal_var = False)"
      ],
      "metadata": {
        "id": "JZS2KDkVYY08"
      },
      "execution_count": null,
      "outputs": []
    },
    {
      "cell_type": "code",
      "source": [
        "x = sample[(sample['ProbeCategory'] == 'low non-words') & (sample['ProbeType'] == 1)]['ReactionTime'].values\n",
        "y = sample[(sample['ProbeCategory'] == 'high non-words') & (sample['ProbeType'] == 1)]['ReactionTime'].values\n",
        "stats.ttest_ind(x, y, equal_var = False)"
      ],
      "metadata": {
        "id": "9niKBSfEYY7i"
      },
      "execution_count": null,
      "outputs": []
    },
    {
      "cell_type": "code",
      "source": [
        "x = sample[(sample['ProbeCategory'] == 'low words') & (sample['ProbeType'] == 2)]['ReactionTime'].values\n",
        "y = sample[(sample['ProbeCategory'] == 'high words') & (sample['ProbeType'] == 2)]['ReactionTime'].values\n",
        "stats.ttest_ind(x, y, equal_var = False)"
      ],
      "metadata": {
        "id": "uDNnlNoTYZDz"
      },
      "execution_count": null,
      "outputs": []
    },
    {
      "cell_type": "code",
      "source": [
        "x = sample[(sample['ProbeCategory'] == 'low words') & (sample['ProbeType'] == 1)]['ReactionTime'].values\n",
        "y = sample[(sample['ProbeCategory'] == 'high words') & (sample['ProbeType'] == 1)]['ReactionTime'].values\n",
        "stats.ttest_ind(x, y, equal_var = False)"
      ],
      "metadata": {
        "id": "fiTztzKrYZKc"
      },
      "execution_count": null,
      "outputs": []
    },
    {
      "cell_type": "markdown",
      "source": [
        "Plotting"
      ],
      "metadata": {
        "id": "9Rh4GymUYCmf"
      }
    },
    {
      "cell_type": "code",
      "source": [
        "for i in ieeg_no_outliers.Subject.unique():\n",
        "  subset = ieeg_no_outliers[ieeg_no_outliers['Subject'] == i]\n",
        "  pl.figure();\n",
        "  sns.barplot(x = 'Phono', y = 'stdRT', data = subset, \n",
        "              estimator = lambda x: sum(x)/len(x));\n",
        "  pl.title('Low vs. High for ' + subset.Subject.unique());"
      ],
      "metadata": {
        "id": "Ge2aZAo4b0X0"
      },
      "execution_count": null,
      "outputs": []
    },
    {
      "cell_type": "code",
      "source": [
        "sample = ieeg_no_outliers[ieeg_no_outliers['Subject'] == 'D41']\n",
        "sample = sample[[\n",
        "                 'Phono', 'ReactionTime', 'ProbeType'\n",
        "]]"
      ],
      "metadata": {
        "id": "-CSGLZ5TaptU"
      },
      "execution_count": null,
      "outputs": []
    },
    {
      "cell_type": "code",
      "source": [
        "x = sample[(sample['Phono'] == 1) & (sample['ProbeType'] == 2)]\n",
        "y = sample[(sample['Phono'] == 0) & (sample['ProbeType'] == 2)]\n",
        "stats.ttest_ind(x, y, equal_var = False)"
      ],
      "metadata": {
        "id": "V2cgp1oeaovK"
      },
      "execution_count": null,
      "outputs": []
    },
    {
      "cell_type": "markdown",
      "source": [
        "## **Only for correct responses**"
      ],
      "metadata": {
        "id": "z_UaY5x_cF-e"
      }
    },
    {
      "cell_type": "code",
      "source": [
        "correct = ieeg_no_outliers[ieeg_no_outliers['RespCorrect'] == 1]\n",
        "incorrect = ieeg_no_outliers[ieeg_no_outliers['RespCorrect'] == 0]"
      ],
      "metadata": {
        "id": "P6Vj1AAccNSw"
      },
      "execution_count": null,
      "outputs": []
    },
    {
      "cell_type": "code",
      "source": [
        "correct.head()"
      ],
      "metadata": {
        "id": "CRusZr_ncYam"
      },
      "execution_count": null,
      "outputs": []
    },
    {
      "cell_type": "code",
      "source": [
        "subset = correct.groupby(['ProbeCategory', 'Length'])[['stdRT']].mean().reset_index()\n",
        "pl.figure()\n",
        "for i in subset.ProbeCategory.unique():\n",
        "  x = subset[subset['ProbeCategory'] == i]\n",
        "  pl.plot(x.Length, x.stdRT)\n",
        "pl.xticks(x.Length)\n",
        "pl.xlabel('List length')\n",
        "pl.ylabel('RT')\n",
        "pl.legend(subset.ProbeCategory.unique())\n",
        "pl.title('stand RT across conditions and line length only correct'); "
      ],
      "metadata": {
        "id": "E-dt-ykgcbR7"
      },
      "execution_count": null,
      "outputs": []
    },
    {
      "cell_type": "code",
      "source": [
        "subset = incorrect.groupby(['ProbeCategory', 'Length'])[['stdRT']].mean().reset_index()\n",
        "pl.figure()\n",
        "for i in subset.ProbeCategory.unique():\n",
        "  x = subset[subset['ProbeCategory'] == i]\n",
        "  pl.plot(x.Length, x.stdRT)\n",
        "pl.xticks(x.Length)\n",
        "pl.xlabel('List length')\n",
        "pl.ylabel('RT')\n",
        "pl.legend(subset.ProbeCategory.unique())\n",
        "pl.title('stand RT across conditions and line length only incorrect');  "
      ],
      "metadata": {
        "id": "ZZb0C6ovcvyq"
      },
      "execution_count": null,
      "outputs": []
    },
    {
      "cell_type": "code",
      "source": [
        "pl.figure()\n",
        "words_nonwords = correct.groupby(['Lex', 'Length'])[['stdRT']].mean().reset_index()\n",
        "for i in words_nonwords.Lex.unique():\n",
        "  x = words_nonwords[words_nonwords['Lex'] == i]\n",
        "  pl.plot(x.Length, x.stdRT)\n",
        "pl.xticks(x.Length)\n",
        "pl.xlabel('List length')\n",
        "pl.ylabel('RT')\n",
        "pl.legend(words_nonwords.Lex.unique())\n",
        "pl.title('Words vs. non-words only correct');  "
      ],
      "metadata": {
        "id": "zLLvRUxpcyfR"
      },
      "execution_count": null,
      "outputs": []
    },
    {
      "cell_type": "code",
      "source": [
        "pl.figure()\n",
        "words_nonwords = incorrect.groupby(['Lex', 'Length'])[['stdRT']].mean().reset_index()\n",
        "for i in words_nonwords.Lex.unique():\n",
        "  x = words_nonwords[words_nonwords['Lex'] == i]\n",
        "  pl.plot(x.Length, x.stdRT)\n",
        "pl.xticks(x.Length)\n",
        "pl.xlabel('List length')\n",
        "pl.ylabel('RT')\n",
        "pl.legend(words_nonwords.Lex.unique())\n",
        "pl.title('Words vs. non-words only incorrect'); "
      ],
      "metadata": {
        "id": "wmiJisYMc204"
      },
      "execution_count": null,
      "outputs": []
    },
    {
      "cell_type": "code",
      "source": [
        "pl.figure()\n",
        "words_nonwords = correct.groupby(['Phono', 'Length'])[['stdRT']].mean().reset_index()\n",
        "for i in words_nonwords.Phono.unique():\n",
        "  x = words_nonwords[words_nonwords['Phono'] == i]\n",
        "  pl.plot(x.Length, x.stdRT)\n",
        "pl.xticks(x.Length)\n",
        "pl.xlabel('List length')\n",
        "pl.ylabel('RT')\n",
        "pl.legend(words_nonwords.Phono.unique())\n",
        "pl.title('High vs. low only correct'); "
      ],
      "metadata": {
        "id": "VY6ToPc2c-nz"
      },
      "execution_count": null,
      "outputs": []
    },
    {
      "cell_type": "code",
      "source": [
        "pl.figure()\n",
        "words_nonwords = incorrect.groupby(['Phono', 'Length'])[['stdRT']].mean().reset_index()\n",
        "for i in words_nonwords.Phono.unique():\n",
        "  x = words_nonwords[words_nonwords['Phono'] == i]\n",
        "  pl.plot(x.Length, x.stdRT)\n",
        "pl.xticks(x.Length)\n",
        "pl.xlabel('List length')\n",
        "pl.ylabel('RT')\n",
        "pl.legend(words_nonwords.Phono.unique())\n",
        "pl.title('High vs. low only incorrect'); "
      ],
      "metadata": {
        "id": "4opR706gc_LR"
      },
      "execution_count": null,
      "outputs": []
    },
    {
      "cell_type": "markdown",
      "source": [
        "## Saving result"
      ],
      "metadata": {
        "id": "eGdBAhkI4N8g"
      }
    },
    {
      "cell_type": "code",
      "source": [
        "# saving result\n",
        "ieeg_subset.to_csv(\n",
        "    Path(working_path).joinpath('ieeg_subset.csv')\n",
        ")"
      ],
      "metadata": {
        "id": "8DxYK_Mk2_v1"
      },
      "execution_count": 58,
      "outputs": []
    },
    {
      "cell_type": "code",
      "source": [
        "ieeg_subset.columns"
      ],
      "metadata": {
        "id": "UzvFojVvNeQp",
        "outputId": "3f91da51-1e77-41af-a715-ab0e7c9413a6",
        "colab": {
          "base_uri": "https://localhost:8080/"
        }
      },
      "execution_count": 59,
      "outputs": [
        {
          "output_type": "execute_result",
          "data": {
            "text/plain": [
              "Index(['Trial', 'Subject', 'block', 'ProbeType', 'probeSound_idx',\n",
              "       'ProbeTypeName', 'StimlusCategory', 'ReactionTime', 'KeyCode', 'Resp',\n",
              "       'RespCorrect', 'Omission', 'ProbeCategory', 'stimulusSounds_idx',\n",
              "       'stimulusSounds_name', 'probeSound_name', 'Position', 'Length', 'Lex',\n",
              "       'Phono'],\n",
              "      dtype='object')"
            ]
          },
          "metadata": {},
          "execution_count": 59
        }
      ]
    },
    {
      "cell_type": "code",
      "source": [],
      "metadata": {
        "id": "WBZ0VnCCNfib"
      },
      "execution_count": null,
      "outputs": []
    }
  ]
}