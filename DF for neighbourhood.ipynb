{
  "nbformat": 4,
  "nbformat_minor": 0,
  "metadata": {
    "colab": {
      "name": "Creating data frames.ipynb",
      "provenance": [],
      "toc_visible": true,
      "authorship_tag": "ABX9TyMI/kPaK53Svku67asqb6nc",
      "include_colab_link": true
    },
    "kernelspec": {
      "name": "python3",
      "display_name": "Python 3"
    },
    "language_info": {
      "name": "python"
    }
  },
  "cells": [
    {
      "cell_type": "markdown",
      "metadata": {
        "id": "view-in-github",
        "colab_type": "text"
      },
      "source": [
        "<a href=\"https://colab.research.google.com/github/cristinarainich/Sternberg_analysis/blob/main/DF%20for%20neighbourhood.ipynb\" target=\"_parent\"><img src=\"https://colab.research.google.com/assets/colab-badge.svg\" alt=\"Open In Colab\"/></a>"
      ]
    },
    {
      "cell_type": "markdown",
      "source": [
        "#Imports and drive access"
      ],
      "metadata": {
        "id": "2-siHlrZyQpY"
      }
    },
    {
      "cell_type": "markdown",
      "source": [
        "Updated on 27/06/2023 14:53"
      ],
      "metadata": {
        "id": "v2soX17LaLFu"
      }
    },
    {
      "cell_type": "code",
      "source": [
        "import pandas as pd\n",
        "import numpy as np\n",
        "from pathlib import Path\n",
        "import pylab as pl\n",
        "import seaborn as sns\n",
        "import re\n",
        "from scipy import stats\n",
        "import scipy.io\n",
        "import statsmodels.api as sm\n",
        "from statsmodels.stats.anova import anova_lm\n",
        "from statsmodels.formula.api import ols\n",
        "from scipy.stats import f_oneway\n",
        "from scipy.stats import shapiro\n",
        "from scipy.stats import normaltest\n",
        "from scipy.stats import boxcox\n",
        "%pylab inline"
      ],
      "metadata": {
        "id": "_sn8ErGMTpmV",
        "colab": {
          "base_uri": "https://localhost:8080/"
        },
        "outputId": "94d66e3e-550a-4338-de96-25d933bc7771"
      },
      "execution_count": 1,
      "outputs": [
        {
          "output_type": "stream",
          "name": "stdout",
          "text": [
            "Populating the interactive namespace from numpy and matplotlib\n"
          ]
        }
      ]
    },
    {
      "cell_type": "code",
      "source": [
        "sns.set()"
      ],
      "metadata": {
        "id": "3OeYiGvHn9Oo"
      },
      "execution_count": 2,
      "outputs": []
    },
    {
      "cell_type": "code",
      "execution_count": 3,
      "metadata": {
        "colab": {
          "base_uri": "https://localhost:8080/"
        },
        "id": "45lWkfhaSovC",
        "outputId": "c23c8a6c-b48f-4173-e4b0-8172487316d4"
      },
      "outputs": [
        {
          "output_type": "stream",
          "name": "stdout",
          "text": [
            "Mounted at /content/gdrive\n"
          ]
        }
      ],
      "source": [
        "from google.colab import drive\n",
        "drive.mount('/content/gdrive')"
      ]
    },
    {
      "cell_type": "code",
      "source": [
        "!ls /content/gdrive/MyDrive/CoganLab/Neighbourhood"
      ],
      "metadata": {
        "id": "VGH4aN-iHNIa",
        "outputId": "154ae769-a5bb-41c3-90aa-409babcf1ec2",
        "colab": {
          "base_uri": "https://localhost:8080/"
        }
      },
      "execution_count": 4,
      "outputs": [
        {
          "output_type": "stream",
          "name": "stdout",
          "text": [
            " D71_Block_1_TrialData.mat\t  D85_Block_1_TrialData.mat\n",
            "'D72_Block_1_TrialData (1).mat'   D86_Block_1_TrialData.mat\n",
            " D72_Block_1_TrialData.mat\t  D87_Block_1_TrialData.mat\n",
            "'D73_Block_1_TrialData (1).mat'   D88_Block_1_TrialData.mat\n",
            " D73_Block_1_TrialData.mat\t  D90_Block_1_TrialData.mat\n",
            " D77_Block_1_TrialData.mat\t  eeg_all.csv\n",
            " D79_Block_1_TrialData.mat\t  eeg_processed.csv\n",
            " D80_Block_1_TrialData.mat\t  ieeg_all.csv\n",
            " D81_Block_1_TrialData.mat\t  ieeg_processed.csv\n",
            " D82_Block_1_TrialData.mat\t  Subject_NeighborhoodSternberg_EEG_060322.mat\n",
            " D84_Block_1_TrialData.mat\t  Subject_NeighborhoodSternberg_IEEG_060322.mat\n"
          ]
        }
      ]
    },
    {
      "cell_type": "code",
      "source": [
        "working_path = Path('/content/gdrive/MyDrive/CoganLab/Neighbourhood')"
      ],
      "metadata": {
        "id": "mrX83XwU9bje"
      },
      "execution_count": 5,
      "outputs": []
    },
    {
      "cell_type": "code",
      "source": [
        "# controls' data\n",
        "eeg = scipy.io.loadmat(\n",
        "    working_path.joinpath('Subject_NeighborhoodSternberg_EEG_060322.mat')\n",
        "    )\n",
        "# patients' data\n",
        "ieeg = scipy.io.loadmat(\n",
        "    working_path.joinpath('Subject_NeighborhoodSternberg_IEEG_060322.mat')\n",
        "    )\n",
        "new_subject72 = scipy.io.loadmat(\n",
        "    working_path.joinpath('D72_Block_1_TrialData.mat')\n",
        "    )\n",
        "new_subject73 = scipy.io.loadmat(\n",
        "    working_path.joinpath('D73_Block_1_TrialData.mat')\n",
        "    )\n",
        "new_subject77 = scipy.io.loadmat(\n",
        "    working_path.joinpath('D77_Block_1_TrialData.mat')\n",
        "    )\n",
        "new_subject79 = scipy.io.loadmat(\n",
        "    working_path.joinpath('D79_Block_1_TrialData.mat')\n",
        "    )\n",
        "new_subject80 = scipy.io.loadmat(\n",
        "    working_path.joinpath('D80_Block_1_TrialData.mat')\n",
        "    )\n",
        "new_subject81 = scipy.io.loadmat(\n",
        "    working_path.joinpath('D81_Block_1_TrialData.mat')\n",
        "    )\n",
        "new_subject82 = scipy.io.loadmat(\n",
        "    working_path.joinpath('D82_Block_1_TrialData.mat')\n",
        "    )\n",
        "new_subject84 = scipy.io.loadmat(\n",
        "    working_path.joinpath('D84_Block_1_TrialData.mat')\n",
        "    )\n",
        "new_subject85 = scipy.io.loadmat(\n",
        "    working_path.joinpath('D85_Block_1_TrialData.mat')\n",
        "    )\n",
        "new_subject85 = scipy.io.loadmat(\n",
        "    working_path.joinpath('D85_Block_1_TrialData.mat')\n",
        "    )\n",
        "new_subject86 = scipy.io.loadmat(\n",
        "    working_path.joinpath('D86_Block_1_TrialData.mat')\n",
        "    )\n",
        "new_subject87 = scipy.io.loadmat(\n",
        "    working_path.joinpath('D87_Block_1_TrialData.mat')\n",
        "    )\n",
        "new_subject88 = scipy.io.loadmat(\n",
        "    working_path.joinpath('D88_Block_1_TrialData.mat')\n",
        "    )\n",
        "new_subject90 = scipy.io.loadmat(\n",
        "    working_path.joinpath('D90_Block_1_TrialData.mat')\n",
        "    )"
      ],
      "metadata": {
        "id": "HXccOe1y9Vg_"
      },
      "execution_count": 6,
      "outputs": []
    },
    {
      "cell_type": "markdown",
      "source": [
        "# iEEG dataset"
      ],
      "metadata": {
        "id": "euNi0QtEAYb9"
      }
    },
    {
      "cell_type": "code",
      "source": [
        "data_ieeg = ieeg['Subject'] # contains trials for each of the subjects\n",
        "print('Number of subjects in EEG dataset is', data_ieeg.shape[1])"
      ],
      "metadata": {
        "colab": {
          "base_uri": "https://localhost:8080/"
        },
        "id": "hK5oe41V_P7C",
        "outputId": "7aa78aed-7aaf-49cc-a6ec-ab734550999f"
      },
      "execution_count": 7,
      "outputs": [
        {
          "output_type": "stream",
          "name": "stdout",
          "text": [
            "Number of subjects in EEG dataset is 30\n"
          ]
        }
      ]
    },
    {
      "cell_type": "code",
      "source": [
        "subjects_ieeg = [] # subject numbers\n",
        "for i in data_ieeg['Name'][0]:\n",
        "  subjects_ieeg.append(i[0])"
      ],
      "metadata": {
        "id": "-RR9ScjN_UAs"
      },
      "execution_count": 8,
      "outputs": []
    },
    {
      "cell_type": "code",
      "source": [
        "def get_to_df(data):\n",
        "  # this function reads into .mat file and creates df out of it for all of the trials of one subject\n",
        "  # i'm planning on making it more beautiful later\n",
        "\n",
        "  columns = data[0][1].dtype.names\n",
        "  df = pd.DataFrame(columns=columns)\n",
        "  df['Trial'] = np.nan\n",
        "  df_ = df.copy()\n",
        "  for i in range(0, data.shape[1]): # for each trial number\n",
        "    mdtype = data[0][i].dtype\n",
        "    values = []\n",
        "    for name in mdtype.names:\n",
        "      values.append(data[0][i][name])\n",
        "    values = extra_arrays(values)\n",
        "    values.append(str(i)) # adding a trial number at the end\n",
        "    df_.loc[len(df_.index)] = values\n",
        "  return df_"
      ],
      "metadata": {
        "id": "05sho1lj8g1c"
      },
      "execution_count": 9,
      "outputs": []
    },
    {
      "cell_type": "code",
      "source": [
        "def extra_arrays(x):\n",
        "  # elements have nested structure, i.e. arrays inside the arrays\n",
        "  # below we're getting rid of this depending on the shape of values\n",
        "\n",
        "  values = []\n",
        "  for elem in range(0, len(x)):\n",
        "    var = x[elem]\n",
        "    var = var[0, 0]\n",
        "    if var.shape == (1, 1):\n",
        "      var = var[0, 0]\n",
        "      values.append(var)\n",
        "    elif var.shape == (1,):\n",
        "      values.append(var[0])\n",
        "    elif var.shape == (1, 5):\n",
        "      var = var.tolist()[0]\n",
        "      values.append(var)\n",
        "    elif var.shape == (5, 1):\n",
        "      new = []\n",
        "      for i in var:\n",
        "        i = i[0]\n",
        "        new.append(i)\n",
        "      values.append(new)\n",
        "    else:\n",
        "      values.append(var)\n",
        "  return values"
      ],
      "metadata": {
        "id": "XV7EjrokyEmp"
      },
      "execution_count": 10,
      "outputs": []
    },
    {
      "cell_type": "code",
      "source": [
        "columns_ieeg = data_ieeg['trialInfo'][0, 0][0, 0].dtype.names # name of the variables from trial info\n",
        "final_ieeg = pd.DataFrame(columns=columns_ieeg)\n",
        "final_ieeg['Trial'] = np.nan\n",
        "final_ieeg['Subject'] = np.nan\n",
        "for subj in range(0, data_ieeg['trialInfo'].shape[1]): # for each subject\n",
        "  print(subj)\n",
        "  subj_df = get_to_df(data_ieeg['trialInfo'][0, subj])\n",
        "  subj_df['Subject'] = subjects_ieeg[subj]\n",
        "  final_ieeg = pd.concat([final_ieeg, subj_df], axis = 0)"
      ],
      "metadata": {
        "colab": {
          "base_uri": "https://localhost:8080/"
        },
        "id": "69egTkIFLGeo",
        "outputId": "78d10d94-a5fb-4fb7-adb8-9801767f1f44"
      },
      "execution_count": 11,
      "outputs": [
        {
          "output_type": "stream",
          "name": "stdout",
          "text": [
            "0\n",
            "1\n",
            "2\n",
            "3\n",
            "4\n",
            "5\n",
            "6\n",
            "7\n",
            "8\n",
            "9\n",
            "10\n",
            "11\n",
            "12\n",
            "13\n",
            "14\n",
            "15\n",
            "16\n",
            "17\n",
            "18\n",
            "19\n",
            "20\n",
            "21\n",
            "22\n",
            "23\n",
            "24\n",
            "25\n",
            "26\n",
            "27\n",
            "28\n",
            "29\n"
          ]
        }
      ]
    },
    {
      "cell_type": "code",
      "source": [
        "# additional subjects\n",
        "d72 = get_to_df(new_subject72['trialInfo'])\n",
        "d73 = get_to_df(new_subject73['trialInfo'])\n",
        "d77 = get_to_df(new_subject77['trialInfo'])\n",
        "d79 = get_to_df(new_subject79['trialInfo'])\n",
        "d80 = get_to_df(new_subject80['trialInfo'])\n",
        "d81 = get_to_df(new_subject81['trialInfo'])\n",
        "d82 = get_to_df(new_subject82['trialInfo'])\n",
        "d84 = get_to_df(new_subject84['trialInfo'])\n",
        "d85 = get_to_df(new_subject85['trialInfo'])\n",
        "d86 = get_to_df(new_subject86['trialInfo'])\n",
        "d87 = get_to_df(new_subject87['trialInfo'])\n",
        "d88 = get_to_df(new_subject88['trialInfo'])\n",
        "d90 = get_to_df(new_subject90['trialInfo'])"
      ],
      "metadata": {
        "id": "y8FMu-StUCbn"
      },
      "execution_count": 12,
      "outputs": []
    },
    {
      "cell_type": "code",
      "source": [
        "d72['Subject'] = 'D72'\n",
        "d73['Subject'] = 'D73'\n",
        "d77['Subject'] = 'D77'\n",
        "d79['Subject'] = 'D79'\n",
        "d80['Subject'] = 'D80'\n",
        "d81['Subject'] = 'D81'\n",
        "d82['Subject'] = 'D82'\n",
        "d84['Subject'] = 'D84'\n",
        "d85['Subject'] = 'D85'\n",
        "d86['Subject'] = 'D86'\n",
        "d87['Subject'] = 'D87'\n",
        "d88['Subject'] = 'D88'\n",
        "d90['Subject'] = 'D90'"
      ],
      "metadata": {
        "id": "glPM7Pl3ULJe"
      },
      "execution_count": 13,
      "outputs": []
    },
    {
      "cell_type": "code",
      "source": [
        "ieeg = pd.concat([final_ieeg, d72])\n",
        "ieeg = pd.concat([ieeg, d73])\n",
        "ieeg = pd.concat([ieeg, d77])\n",
        "ieeg = pd.concat([ieeg, d79])\n",
        "ieeg = pd.concat([ieeg, d80])\n",
        "ieeg = pd.concat([ieeg, d81])\n",
        "ieeg = pd.concat([ieeg, d82])\n",
        "ieeg = pd.concat([ieeg, d84])\n",
        "ieeg = pd.concat([ieeg, d85])\n",
        "ieeg = pd.concat([ieeg, d86])\n",
        "ieeg = pd.concat([ieeg, d87])\n",
        "ieeg = pd.concat([ieeg, d88])\n",
        "ieeg = pd.concat([ieeg, d90])"
      ],
      "metadata": {
        "id": "a_ZagjaNnSGM"
      },
      "execution_count": 14,
      "outputs": []
    },
    {
      "cell_type": "code",
      "source": [
        "len(ieeg.Subject.unique())"
      ],
      "metadata": {
        "id": "PXCtVQeRUwUj",
        "outputId": "261645f3-1574-492b-d008-a81b0be11ef8",
        "colab": {
          "base_uri": "https://localhost:8080/"
        }
      },
      "execution_count": 15,
      "outputs": [
        {
          "output_type": "execute_result",
          "data": {
            "text/plain": [
              "43"
            ]
          },
          "metadata": {},
          "execution_count": 15
        }
      ]
    },
    {
      "cell_type": "code",
      "source": [
        "ieeg.Subject.unique()"
      ],
      "metadata": {
        "id": "wdyfLf4tITPy",
        "outputId": "91fb472b-5851-4c62-ab9d-0e16f2f2286e",
        "colab": {
          "base_uri": "https://localhost:8080/"
        }
      },
      "execution_count": 16,
      "outputs": [
        {
          "output_type": "execute_result",
          "data": {
            "text/plain": [
              "array(['D23', 'D26', 'D27', 'D28', 'D29', 'D30', 'D31', 'D33', 'D34',\n",
              "       'D35', 'D36', 'D38', 'D39', 'D41', 'D42', 'D47', 'D48', 'D49',\n",
              "       'D53', 'D54', 'D55', 'D57', 'D59', 'D61', 'D63', 'D65', 'D68',\n",
              "       'D69', 'D70', 'D71', 'D72', 'D73', 'D77', 'D79', 'D80', 'D81',\n",
              "       'D82', 'D84', 'D85', 'D86', 'D87', 'D88', 'D90'], dtype=object)"
            ]
          },
          "metadata": {},
          "execution_count": 16
        }
      ]
    },
    {
      "cell_type": "code",
      "source": [
        "# saving only ieeg dataset anew\n",
        "ieeg.to_csv(\n",
        "    Path(working_path).joinpath('ieeg_all.csv')\n",
        ")"
      ],
      "metadata": {
        "id": "UPER5cLQIJ-C"
      },
      "execution_count": 17,
      "outputs": []
    },
    {
      "cell_type": "markdown",
      "source": [
        "#Preprocessing iEEG dataset"
      ],
      "metadata": {
        "id": "q3G3NgVin2BZ"
      }
    },
    {
      "cell_type": "code",
      "source": [
        "#ieeg = ieeg.loc[:, ieeg.columns != 'Unnamed: 0'] # some extra column appeared while uploading data"
      ],
      "metadata": {
        "id": "B-OvCFMPn4Qg"
      },
      "execution_count": null,
      "outputs": []
    },
    {
      "cell_type": "code",
      "source": [
        "ieeg.isnull().sum()"
      ],
      "metadata": {
        "colab": {
          "base_uri": "https://localhost:8080/"
        },
        "id": "sGQ5A9lRvueK",
        "outputId": "06fa9056-a239-4d0e-f07d-5e0a0253720a"
      },
      "execution_count": 18,
      "outputs": [
        {
          "output_type": "execute_result",
          "data": {
            "text/plain": [
              "block                       0\n",
              "ProbeType                   0\n",
              "ProbeTypeName               0\n",
              "StimlusCategory             0\n",
              "ReactionTime                0\n",
              "KeyCode                     0\n",
              "Resp                        0\n",
              "RespCorrect                 0\n",
              "Omission                  160\n",
              "stimulusAudioStart          0\n",
              "stimulusAlignedTrigger      0\n",
              "probeAudioStart             0\n",
              "probeAlignedTrigger         0\n",
              "TriggerValue                0\n",
              "stimulusSounds_idx          0\n",
              "stimulusSounds_name         0\n",
              "ProbeCategory               0\n",
              "probeSound_idx              0\n",
              "probeSound_name             0\n",
              "Trial                       0\n",
              "Subject                     0\n",
              "ListenCueTime             953\n",
              "MaintenancePeriodTime     953\n",
              "ProbeCueTime              953\n",
              "dtype: int64"
            ]
          },
          "metadata": {},
          "execution_count": 18
        }
      ]
    },
    {
      "cell_type": "code",
      "source": [
        "ieeg.shape"
      ],
      "metadata": {
        "colab": {
          "base_uri": "https://localhost:8080/"
        },
        "id": "xyox07hMvzMR",
        "outputId": "ab8f86a4-7215-4fc6-94c0-6c083ad7809b"
      },
      "execution_count": 19,
      "outputs": [
        {
          "output_type": "execute_result",
          "data": {
            "text/plain": [
              "(6900, 24)"
            ]
          },
          "metadata": {},
          "execution_count": 19
        }
      ]
    },
    {
      "cell_type": "code",
      "source": [
        "ieeg.Subject.unique()"
      ],
      "metadata": {
        "colab": {
          "base_uri": "https://localhost:8080/"
        },
        "id": "wxEtY5AXvzOx",
        "outputId": "d43b4891-7b7f-4d58-bc38-51fe0ab15388"
      },
      "execution_count": 20,
      "outputs": [
        {
          "output_type": "execute_result",
          "data": {
            "text/plain": [
              "array(['D23', 'D26', 'D27', 'D28', 'D29', 'D30', 'D31', 'D33', 'D34',\n",
              "       'D35', 'D36', 'D38', 'D39', 'D41', 'D42', 'D47', 'D48', 'D49',\n",
              "       'D53', 'D54', 'D55', 'D57', 'D59', 'D61', 'D63', 'D65', 'D68',\n",
              "       'D69', 'D70', 'D71', 'D72', 'D73', 'D77', 'D79', 'D80', 'D81',\n",
              "       'D82', 'D84', 'D85', 'D86', 'D87', 'D88', 'D90'], dtype=object)"
            ]
          },
          "metadata": {},
          "execution_count": 20
        }
      ]
    },
    {
      "cell_type": "code",
      "source": [
        "ieeg.columns"
      ],
      "metadata": {
        "colab": {
          "base_uri": "https://localhost:8080/"
        },
        "id": "mzyXp4m1vzQ5",
        "outputId": "7bb6d402-087a-45e4-807c-200524237914"
      },
      "execution_count": 21,
      "outputs": [
        {
          "output_type": "execute_result",
          "data": {
            "text/plain": [
              "Index(['block', 'ProbeType', 'ProbeTypeName', 'StimlusCategory',\n",
              "       'ReactionTime', 'KeyCode', 'Resp', 'RespCorrect', 'Omission',\n",
              "       'stimulusAudioStart', 'stimulusAlignedTrigger', 'probeAudioStart',\n",
              "       'probeAlignedTrigger', 'TriggerValue', 'stimulusSounds_idx',\n",
              "       'stimulusSounds_name', 'ProbeCategory', 'probeSound_idx',\n",
              "       'probeSound_name', 'Trial', 'Subject', 'ListenCueTime',\n",
              "       'MaintenancePeriodTime', 'ProbeCueTime'],\n",
              "      dtype='object')"
            ]
          },
          "metadata": {},
          "execution_count": 21
        }
      ]
    },
    {
      "cell_type": "code",
      "source": [
        "ieeg_subset = ieeg[[\n",
        "                 'Trial', 'Subject', 'block', 'ProbeType', 'probeSound_idx',\n",
        "                 'ProbeTypeName', 'StimlusCategory', 'ReactionTime', 'KeyCode',\n",
        "                 'Resp', 'RespCorrect', 'Omission', 'ProbeCategory',\n",
        "                  'stimulusSounds_idx', 'stimulusSounds_name', 'probeSound_name'\n",
        "]]"
      ],
      "metadata": {
        "id": "XTnuI12FvzS5"
      },
      "execution_count": 22,
      "outputs": []
    },
    {
      "cell_type": "code",
      "source": [
        "ieeg_subset.head()"
      ],
      "metadata": {
        "colab": {
          "base_uri": "https://localhost:8080/",
          "height": 444
        },
        "id": "_SfA7x9XvzVB",
        "outputId": "cf41f0b5-a413-4be1-d6ac-42f302197c9b"
      },
      "execution_count": 23,
      "outputs": [
        {
          "output_type": "execute_result",
          "data": {
            "text/plain": [
              "  Trial Subject block ProbeType probeSound_idx    ProbeTypeName  \\\n",
              "0     0     D23     1         2             29      in_sequence   \n",
              "1     1     D23     1         2              5      in_sequence   \n",
              "2     2     D23     1         2             16      in_sequence   \n",
              "3     3     D23     1         1             29  out_of_sequence   \n",
              "4     4     D23     1         1              9  out_of_sequence   \n",
              "\n",
              "  StimlusCategory  ReactionTime KeyCode Resp RespCorrect   Omission  \\\n",
              "0       Low Words      0.857518      37  Yes           1  Responded   \n",
              "1      High Words      1.339604      37  Yes           1  Responded   \n",
              "2  High Non-Words      1.045657      37  Yes           1  Responded   \n",
              "3      High Words      1.497001      39   No           1  Responded   \n",
              "4       Low Words      1.679783      39   No           1  Responded   \n",
              "\n",
              "    ProbeCategory              stimulusSounds_idx  \\\n",
              "0       Low Words                  [[29, 25, 30]]   \n",
              "1      High Words        [[2, 5, 8, 4, 7, 10, 3]]   \n",
              "2  High Non-Words  [[19, 14, 18, 16, 20, 15, 17]]   \n",
              "3       Low Words  [[10, 2, 7, 9, 1, 8, 6, 5, 4]]   \n",
              "4      High Words            [30, 24, 25, 29, 21]   \n",
              "\n",
              "                                 stimulusSounds_name probeSound_name  \n",
              "0        [[[wash.wav]], [[sure.wav]], [[youth.wav]]]        wash.wav  \n",
              "1  [[[debt.wav]], [[lair.wav]], [[seek.wav]], [[g...        lair.wav  \n",
              "2  [[[rihn.wav]], [[kehl.wav]], [[rehl.wav]], [[p...        paon.wav  \n",
              "3  [[[witch.wav]], [[debt.wav]], [[pawn.wav]], [[...        wash.wav  \n",
              "4  [[youth.wav], [noun.wav], [sure.wav], [wash.wa...        soar.wav  "
            ],
            "text/html": [
              "\n",
              "  <div id=\"df-3aaa97c1-78ab-488a-bc7b-f47226a7f8e9\">\n",
              "    <div class=\"colab-df-container\">\n",
              "      <div>\n",
              "<style scoped>\n",
              "    .dataframe tbody tr th:only-of-type {\n",
              "        vertical-align: middle;\n",
              "    }\n",
              "\n",
              "    .dataframe tbody tr th {\n",
              "        vertical-align: top;\n",
              "    }\n",
              "\n",
              "    .dataframe thead th {\n",
              "        text-align: right;\n",
              "    }\n",
              "</style>\n",
              "<table border=\"1\" class=\"dataframe\">\n",
              "  <thead>\n",
              "    <tr style=\"text-align: right;\">\n",
              "      <th></th>\n",
              "      <th>Trial</th>\n",
              "      <th>Subject</th>\n",
              "      <th>block</th>\n",
              "      <th>ProbeType</th>\n",
              "      <th>probeSound_idx</th>\n",
              "      <th>ProbeTypeName</th>\n",
              "      <th>StimlusCategory</th>\n",
              "      <th>ReactionTime</th>\n",
              "      <th>KeyCode</th>\n",
              "      <th>Resp</th>\n",
              "      <th>RespCorrect</th>\n",
              "      <th>Omission</th>\n",
              "      <th>ProbeCategory</th>\n",
              "      <th>stimulusSounds_idx</th>\n",
              "      <th>stimulusSounds_name</th>\n",
              "      <th>probeSound_name</th>\n",
              "    </tr>\n",
              "  </thead>\n",
              "  <tbody>\n",
              "    <tr>\n",
              "      <th>0</th>\n",
              "      <td>0</td>\n",
              "      <td>D23</td>\n",
              "      <td>1</td>\n",
              "      <td>2</td>\n",
              "      <td>29</td>\n",
              "      <td>in_sequence</td>\n",
              "      <td>Low Words</td>\n",
              "      <td>0.857518</td>\n",
              "      <td>37</td>\n",
              "      <td>Yes</td>\n",
              "      <td>1</td>\n",
              "      <td>Responded</td>\n",
              "      <td>Low Words</td>\n",
              "      <td>[[29, 25, 30]]</td>\n",
              "      <td>[[[wash.wav]], [[sure.wav]], [[youth.wav]]]</td>\n",
              "      <td>wash.wav</td>\n",
              "    </tr>\n",
              "    <tr>\n",
              "      <th>1</th>\n",
              "      <td>1</td>\n",
              "      <td>D23</td>\n",
              "      <td>1</td>\n",
              "      <td>2</td>\n",
              "      <td>5</td>\n",
              "      <td>in_sequence</td>\n",
              "      <td>High Words</td>\n",
              "      <td>1.339604</td>\n",
              "      <td>37</td>\n",
              "      <td>Yes</td>\n",
              "      <td>1</td>\n",
              "      <td>Responded</td>\n",
              "      <td>High Words</td>\n",
              "      <td>[[2, 5, 8, 4, 7, 10, 3]]</td>\n",
              "      <td>[[[debt.wav]], [[lair.wav]], [[seek.wav]], [[g...</td>\n",
              "      <td>lair.wav</td>\n",
              "    </tr>\n",
              "    <tr>\n",
              "      <th>2</th>\n",
              "      <td>2</td>\n",
              "      <td>D23</td>\n",
              "      <td>1</td>\n",
              "      <td>2</td>\n",
              "      <td>16</td>\n",
              "      <td>in_sequence</td>\n",
              "      <td>High Non-Words</td>\n",
              "      <td>1.045657</td>\n",
              "      <td>37</td>\n",
              "      <td>Yes</td>\n",
              "      <td>1</td>\n",
              "      <td>Responded</td>\n",
              "      <td>High Non-Words</td>\n",
              "      <td>[[19, 14, 18, 16, 20, 15, 17]]</td>\n",
              "      <td>[[[rihn.wav]], [[kehl.wav]], [[rehl.wav]], [[p...</td>\n",
              "      <td>paon.wav</td>\n",
              "    </tr>\n",
              "    <tr>\n",
              "      <th>3</th>\n",
              "      <td>3</td>\n",
              "      <td>D23</td>\n",
              "      <td>1</td>\n",
              "      <td>1</td>\n",
              "      <td>29</td>\n",
              "      <td>out_of_sequence</td>\n",
              "      <td>High Words</td>\n",
              "      <td>1.497001</td>\n",
              "      <td>39</td>\n",
              "      <td>No</td>\n",
              "      <td>1</td>\n",
              "      <td>Responded</td>\n",
              "      <td>Low Words</td>\n",
              "      <td>[[10, 2, 7, 9, 1, 8, 6, 5, 4]]</td>\n",
              "      <td>[[[witch.wav]], [[debt.wav]], [[pawn.wav]], [[...</td>\n",
              "      <td>wash.wav</td>\n",
              "    </tr>\n",
              "    <tr>\n",
              "      <th>4</th>\n",
              "      <td>4</td>\n",
              "      <td>D23</td>\n",
              "      <td>1</td>\n",
              "      <td>1</td>\n",
              "      <td>9</td>\n",
              "      <td>out_of_sequence</td>\n",
              "      <td>Low Words</td>\n",
              "      <td>1.679783</td>\n",
              "      <td>39</td>\n",
              "      <td>No</td>\n",
              "      <td>1</td>\n",
              "      <td>Responded</td>\n",
              "      <td>High Words</td>\n",
              "      <td>[30, 24, 25, 29, 21]</td>\n",
              "      <td>[[youth.wav], [noun.wav], [sure.wav], [wash.wa...</td>\n",
              "      <td>soar.wav</td>\n",
              "    </tr>\n",
              "  </tbody>\n",
              "</table>\n",
              "</div>\n",
              "      <button class=\"colab-df-convert\" onclick=\"convertToInteractive('df-3aaa97c1-78ab-488a-bc7b-f47226a7f8e9')\"\n",
              "              title=\"Convert this dataframe to an interactive table.\"\n",
              "              style=\"display:none;\">\n",
              "        \n",
              "  <svg xmlns=\"http://www.w3.org/2000/svg\" height=\"24px\"viewBox=\"0 0 24 24\"\n",
              "       width=\"24px\">\n",
              "    <path d=\"M0 0h24v24H0V0z\" fill=\"none\"/>\n",
              "    <path d=\"M18.56 5.44l.94 2.06.94-2.06 2.06-.94-2.06-.94-.94-2.06-.94 2.06-2.06.94zm-11 1L8.5 8.5l.94-2.06 2.06-.94-2.06-.94L8.5 2.5l-.94 2.06-2.06.94zm10 10l.94 2.06.94-2.06 2.06-.94-2.06-.94-.94-2.06-.94 2.06-2.06.94z\"/><path d=\"M17.41 7.96l-1.37-1.37c-.4-.4-.92-.59-1.43-.59-.52 0-1.04.2-1.43.59L10.3 9.45l-7.72 7.72c-.78.78-.78 2.05 0 2.83L4 21.41c.39.39.9.59 1.41.59.51 0 1.02-.2 1.41-.59l7.78-7.78 2.81-2.81c.8-.78.8-2.07 0-2.86zM5.41 20L4 18.59l7.72-7.72 1.47 1.35L5.41 20z\"/>\n",
              "  </svg>\n",
              "      </button>\n",
              "      \n",
              "  <style>\n",
              "    .colab-df-container {\n",
              "      display:flex;\n",
              "      flex-wrap:wrap;\n",
              "      gap: 12px;\n",
              "    }\n",
              "\n",
              "    .colab-df-convert {\n",
              "      background-color: #E8F0FE;\n",
              "      border: none;\n",
              "      border-radius: 50%;\n",
              "      cursor: pointer;\n",
              "      display: none;\n",
              "      fill: #1967D2;\n",
              "      height: 32px;\n",
              "      padding: 0 0 0 0;\n",
              "      width: 32px;\n",
              "    }\n",
              "\n",
              "    .colab-df-convert:hover {\n",
              "      background-color: #E2EBFA;\n",
              "      box-shadow: 0px 1px 2px rgba(60, 64, 67, 0.3), 0px 1px 3px 1px rgba(60, 64, 67, 0.15);\n",
              "      fill: #174EA6;\n",
              "    }\n",
              "\n",
              "    [theme=dark] .colab-df-convert {\n",
              "      background-color: #3B4455;\n",
              "      fill: #D2E3FC;\n",
              "    }\n",
              "\n",
              "    [theme=dark] .colab-df-convert:hover {\n",
              "      background-color: #434B5C;\n",
              "      box-shadow: 0px 1px 3px 1px rgba(0, 0, 0, 0.15);\n",
              "      filter: drop-shadow(0px 1px 2px rgba(0, 0, 0, 0.3));\n",
              "      fill: #FFFFFF;\n",
              "    }\n",
              "  </style>\n",
              "\n",
              "      <script>\n",
              "        const buttonEl =\n",
              "          document.querySelector('#df-3aaa97c1-78ab-488a-bc7b-f47226a7f8e9 button.colab-df-convert');\n",
              "        buttonEl.style.display =\n",
              "          google.colab.kernel.accessAllowed ? 'block' : 'none';\n",
              "\n",
              "        async function convertToInteractive(key) {\n",
              "          const element = document.querySelector('#df-3aaa97c1-78ab-488a-bc7b-f47226a7f8e9');\n",
              "          const dataTable =\n",
              "            await google.colab.kernel.invokeFunction('convertToInteractive',\n",
              "                                                     [key], {});\n",
              "          if (!dataTable) return;\n",
              "\n",
              "          const docLinkHtml = 'Like what you see? Visit the ' +\n",
              "            '<a target=\"_blank\" href=https://colab.research.google.com/notebooks/data_table.ipynb>data table notebook</a>'\n",
              "            + ' to learn more about interactive tables.';\n",
              "          element.innerHTML = '';\n",
              "          dataTable['output_type'] = 'display_data';\n",
              "          await google.colab.output.renderOutput(dataTable, element);\n",
              "          const docLink = document.createElement('div');\n",
              "          docLink.innerHTML = docLinkHtml;\n",
              "          element.appendChild(docLink);\n",
              "        }\n",
              "      </script>\n",
              "    </div>\n",
              "  </div>\n",
              "  "
            ]
          },
          "metadata": {},
          "execution_count": 23
        }
      ]
    },
    {
      "cell_type": "code",
      "source": [
        "# check if any of the subjects is less than 75 % accurate\n",
        "checkset = ieeg_subset.groupby(['Subject'])[['RespCorrect']].apply(\n",
        "    lambda x: x.sum()/x.count()\n",
        ")\n",
        "(checkset < 0.75).any()"
      ],
      "metadata": {
        "colab": {
          "base_uri": "https://localhost:8080/"
        },
        "id": "3SP9P2mpvzXS",
        "outputId": "e5300733-bd61-43b5-91af-8ee3e37190df"
      },
      "execution_count": 24,
      "outputs": [
        {
          "output_type": "execute_result",
          "data": {
            "text/plain": [
              "RespCorrect    True\n",
              "dtype: bool"
            ]
          },
          "metadata": {},
          "execution_count": 24
        }
      ]
    },
    {
      "cell_type": "code",
      "source": [
        "ieeg_subset[ieeg_subset['Resp'] == 'No Response']"
      ],
      "metadata": {
        "colab": {
          "base_uri": "https://localhost:8080/",
          "height": 835
        },
        "id": "zOcjcJaLwEhB",
        "outputId": "736b2dad-3938-4d7c-d487-999c1cc3f3d9"
      },
      "execution_count": 25,
      "outputs": [
        {
          "output_type": "execute_result",
          "data": {
            "text/plain": [
              "    Trial Subject block ProbeType probeSound_idx    ProbeTypeName  \\\n",
              "9       9     D23     1         2             39      in_sequence   \n",
              "19     19     D23     1         1             40  out_of_sequence   \n",
              "26     26     D23     1         1             33  out_of_sequence   \n",
              "32     32     D23     2         2             25      in_sequence   \n",
              "97     97     D23     4         1             36  out_of_sequence   \n",
              "..    ...     ...   ...       ...            ...              ...   \n",
              "82     82     D88     3         2             14      in_sequence   \n",
              "112   112     D90     4         1             27  out_of_sequence   \n",
              "115   115     D90     4         1              8  out_of_sequence   \n",
              "116   116     D90     4         1             40  out_of_sequence   \n",
              "134   134     D90     5         1             36  out_of_sequence   \n",
              "\n",
              "    StimlusCategory  ReactionTime                 KeyCode         Resp  \\\n",
              "9     Low Non-words      2.502478      [[37, 39, 32, 27]]  No Response   \n",
              "19   High Non-Words      2.502283      [[37, 39, 32, 27]]  No Response   \n",
              "26   High Non-Words      2.502340      [[37, 39, 32, 27]]  No Response   \n",
              "32        Low Words      2.502395      [[37, 39, 32, 27]]  No Response   \n",
              "97   High Non-Words      2.502652      [[37, 39, 32, 27]]  No Response   \n",
              "..              ...           ...                     ...          ...   \n",
              "82   High Non-Words      2.501607  [114, 115, 66, 10, 27]  No Response   \n",
              "112      High Words      2.501830  [114, 115, 66, 10, 27]  No Response   \n",
              "115       Low Words      2.501636  [114, 115, 66, 10, 27]  No Response   \n",
              "116   Low Non-words      2.501719  [114, 115, 66, 10, 27]  No Response   \n",
              "134  High Non-Words      2.501711  [114, 115, 66, 10, 27]  No Response   \n",
              "\n",
              "    RespCorrect     Omission   ProbeCategory  \\\n",
              "9             0  No Response   Low Non-words   \n",
              "19            0  No Response   Low Non-Words   \n",
              "26            0  No Response   Low Non-Words   \n",
              "32            0  No Response       Low Words   \n",
              "97            0  No Response   Low Non-Words   \n",
              "..          ...          ...             ...   \n",
              "82            0  No Response  High Non-Words   \n",
              "112           0  No Response       Low Words   \n",
              "115           0  No Response      High Words   \n",
              "116           0  No Response   Low Non-Words   \n",
              "134           0  No Response   Low Non-Words   \n",
              "\n",
              "                         stimulusSounds_idx  \\\n",
              "9    [[32, 37, 31, 39, 40, 35, 33, 38, 36]]   \n",
              "19           [[17, 19, 18, 13, 15, 12, 16]]   \n",
              "26                           [[13, 18, 14]]   \n",
              "32   [[30, 22, 25, 29, 21, 23, 24, 28, 27]]   \n",
              "97                           [[16, 17, 18]]   \n",
              "..                                      ...   \n",
              "82                           [[20, 17, 14]]   \n",
              "112                        [7, 10, 4, 2, 6]   \n",
              "115                          [[29, 23, 24]]   \n",
              "116                          [[33, 37, 34]]   \n",
              "134  [[14, 16, 13, 19, 11, 20, 18, 12, 15]]   \n",
              "\n",
              "                                   stimulusSounds_name probeSound_name  \n",
              "9    [[[faez.wav]], [[wehz.wav]], [[deech.wav]], [[...        yuwf.wav  \n",
              "19   [[[puwn.wav]], [[rihn.wav]], [[rehl.wav]], [[k...       zerth.wav  \n",
              "26          [[[kawl.wav]], [[rehl.wav]], [[kehl.wav]]]       gawth.wav  \n",
              "32   [[[youth.wav]], [[fudge.wav]], [[sure.wav]], [...        sure.wav  \n",
              "97          [[[paon.wav]], [[puwn.wav]], [[rehl.wav]]]        vern.wav  \n",
              "..                                                 ...             ...  \n",
              "82          [[[saor.wav]], [[puwn.wav]], [[kehl.wav]]]        kehl.wav  \n",
              "112  [[pawn.wav], [witch.wav], [gear.wav], [debt.wa...        tube.wav  \n",
              "115         [[[wash.wav]], [[long.wav]], [[noun.wav]]]        seek.wav  \n",
              "116       [[[gawth.wav]], [[wehz.wav]], [[jhong.wav]]]       zerth.wav  \n",
              "134  [[[kehl.wav]], [[paon.wav]], [[kawl.wav]], [[r...        vern.wav  \n",
              "\n",
              "[274 rows x 16 columns]"
            ],
            "text/html": [
              "\n",
              "  <div id=\"df-dca6cd40-cf95-4088-bcf1-53e862e84ba6\">\n",
              "    <div class=\"colab-df-container\">\n",
              "      <div>\n",
              "<style scoped>\n",
              "    .dataframe tbody tr th:only-of-type {\n",
              "        vertical-align: middle;\n",
              "    }\n",
              "\n",
              "    .dataframe tbody tr th {\n",
              "        vertical-align: top;\n",
              "    }\n",
              "\n",
              "    .dataframe thead th {\n",
              "        text-align: right;\n",
              "    }\n",
              "</style>\n",
              "<table border=\"1\" class=\"dataframe\">\n",
              "  <thead>\n",
              "    <tr style=\"text-align: right;\">\n",
              "      <th></th>\n",
              "      <th>Trial</th>\n",
              "      <th>Subject</th>\n",
              "      <th>block</th>\n",
              "      <th>ProbeType</th>\n",
              "      <th>probeSound_idx</th>\n",
              "      <th>ProbeTypeName</th>\n",
              "      <th>StimlusCategory</th>\n",
              "      <th>ReactionTime</th>\n",
              "      <th>KeyCode</th>\n",
              "      <th>Resp</th>\n",
              "      <th>RespCorrect</th>\n",
              "      <th>Omission</th>\n",
              "      <th>ProbeCategory</th>\n",
              "      <th>stimulusSounds_idx</th>\n",
              "      <th>stimulusSounds_name</th>\n",
              "      <th>probeSound_name</th>\n",
              "    </tr>\n",
              "  </thead>\n",
              "  <tbody>\n",
              "    <tr>\n",
              "      <th>9</th>\n",
              "      <td>9</td>\n",
              "      <td>D23</td>\n",
              "      <td>1</td>\n",
              "      <td>2</td>\n",
              "      <td>39</td>\n",
              "      <td>in_sequence</td>\n",
              "      <td>Low Non-words</td>\n",
              "      <td>2.502478</td>\n",
              "      <td>[[37, 39, 32, 27]]</td>\n",
              "      <td>No Response</td>\n",
              "      <td>0</td>\n",
              "      <td>No Response</td>\n",
              "      <td>Low Non-words</td>\n",
              "      <td>[[32, 37, 31, 39, 40, 35, 33, 38, 36]]</td>\n",
              "      <td>[[[faez.wav]], [[wehz.wav]], [[deech.wav]], [[...</td>\n",
              "      <td>yuwf.wav</td>\n",
              "    </tr>\n",
              "    <tr>\n",
              "      <th>19</th>\n",
              "      <td>19</td>\n",
              "      <td>D23</td>\n",
              "      <td>1</td>\n",
              "      <td>1</td>\n",
              "      <td>40</td>\n",
              "      <td>out_of_sequence</td>\n",
              "      <td>High Non-Words</td>\n",
              "      <td>2.502283</td>\n",
              "      <td>[[37, 39, 32, 27]]</td>\n",
              "      <td>No Response</td>\n",
              "      <td>0</td>\n",
              "      <td>No Response</td>\n",
              "      <td>Low Non-Words</td>\n",
              "      <td>[[17, 19, 18, 13, 15, 12, 16]]</td>\n",
              "      <td>[[[puwn.wav]], [[rihn.wav]], [[rehl.wav]], [[k...</td>\n",
              "      <td>zerth.wav</td>\n",
              "    </tr>\n",
              "    <tr>\n",
              "      <th>26</th>\n",
              "      <td>26</td>\n",
              "      <td>D23</td>\n",
              "      <td>1</td>\n",
              "      <td>1</td>\n",
              "      <td>33</td>\n",
              "      <td>out_of_sequence</td>\n",
              "      <td>High Non-Words</td>\n",
              "      <td>2.502340</td>\n",
              "      <td>[[37, 39, 32, 27]]</td>\n",
              "      <td>No Response</td>\n",
              "      <td>0</td>\n",
              "      <td>No Response</td>\n",
              "      <td>Low Non-Words</td>\n",
              "      <td>[[13, 18, 14]]</td>\n",
              "      <td>[[[kawl.wav]], [[rehl.wav]], [[kehl.wav]]]</td>\n",
              "      <td>gawth.wav</td>\n",
              "    </tr>\n",
              "    <tr>\n",
              "      <th>32</th>\n",
              "      <td>32</td>\n",
              "      <td>D23</td>\n",
              "      <td>2</td>\n",
              "      <td>2</td>\n",
              "      <td>25</td>\n",
              "      <td>in_sequence</td>\n",
              "      <td>Low Words</td>\n",
              "      <td>2.502395</td>\n",
              "      <td>[[37, 39, 32, 27]]</td>\n",
              "      <td>No Response</td>\n",
              "      <td>0</td>\n",
              "      <td>No Response</td>\n",
              "      <td>Low Words</td>\n",
              "      <td>[[30, 22, 25, 29, 21, 23, 24, 28, 27]]</td>\n",
              "      <td>[[[youth.wav]], [[fudge.wav]], [[sure.wav]], [...</td>\n",
              "      <td>sure.wav</td>\n",
              "    </tr>\n",
              "    <tr>\n",
              "      <th>97</th>\n",
              "      <td>97</td>\n",
              "      <td>D23</td>\n",
              "      <td>4</td>\n",
              "      <td>1</td>\n",
              "      <td>36</td>\n",
              "      <td>out_of_sequence</td>\n",
              "      <td>High Non-Words</td>\n",
              "      <td>2.502652</td>\n",
              "      <td>[[37, 39, 32, 27]]</td>\n",
              "      <td>No Response</td>\n",
              "      <td>0</td>\n",
              "      <td>No Response</td>\n",
              "      <td>Low Non-Words</td>\n",
              "      <td>[[16, 17, 18]]</td>\n",
              "      <td>[[[paon.wav]], [[puwn.wav]], [[rehl.wav]]]</td>\n",
              "      <td>vern.wav</td>\n",
              "    </tr>\n",
              "    <tr>\n",
              "      <th>...</th>\n",
              "      <td>...</td>\n",
              "      <td>...</td>\n",
              "      <td>...</td>\n",
              "      <td>...</td>\n",
              "      <td>...</td>\n",
              "      <td>...</td>\n",
              "      <td>...</td>\n",
              "      <td>...</td>\n",
              "      <td>...</td>\n",
              "      <td>...</td>\n",
              "      <td>...</td>\n",
              "      <td>...</td>\n",
              "      <td>...</td>\n",
              "      <td>...</td>\n",
              "      <td>...</td>\n",
              "      <td>...</td>\n",
              "    </tr>\n",
              "    <tr>\n",
              "      <th>82</th>\n",
              "      <td>82</td>\n",
              "      <td>D88</td>\n",
              "      <td>3</td>\n",
              "      <td>2</td>\n",
              "      <td>14</td>\n",
              "      <td>in_sequence</td>\n",
              "      <td>High Non-Words</td>\n",
              "      <td>2.501607</td>\n",
              "      <td>[114, 115, 66, 10, 27]</td>\n",
              "      <td>No Response</td>\n",
              "      <td>0</td>\n",
              "      <td>No Response</td>\n",
              "      <td>High Non-Words</td>\n",
              "      <td>[[20, 17, 14]]</td>\n",
              "      <td>[[[saor.wav]], [[puwn.wav]], [[kehl.wav]]]</td>\n",
              "      <td>kehl.wav</td>\n",
              "    </tr>\n",
              "    <tr>\n",
              "      <th>112</th>\n",
              "      <td>112</td>\n",
              "      <td>D90</td>\n",
              "      <td>4</td>\n",
              "      <td>1</td>\n",
              "      <td>27</td>\n",
              "      <td>out_of_sequence</td>\n",
              "      <td>High Words</td>\n",
              "      <td>2.501830</td>\n",
              "      <td>[114, 115, 66, 10, 27]</td>\n",
              "      <td>No Response</td>\n",
              "      <td>0</td>\n",
              "      <td>No Response</td>\n",
              "      <td>Low Words</td>\n",
              "      <td>[7, 10, 4, 2, 6]</td>\n",
              "      <td>[[pawn.wav], [witch.wav], [gear.wav], [debt.wa...</td>\n",
              "      <td>tube.wav</td>\n",
              "    </tr>\n",
              "    <tr>\n",
              "      <th>115</th>\n",
              "      <td>115</td>\n",
              "      <td>D90</td>\n",
              "      <td>4</td>\n",
              "      <td>1</td>\n",
              "      <td>8</td>\n",
              "      <td>out_of_sequence</td>\n",
              "      <td>Low Words</td>\n",
              "      <td>2.501636</td>\n",
              "      <td>[114, 115, 66, 10, 27]</td>\n",
              "      <td>No Response</td>\n",
              "      <td>0</td>\n",
              "      <td>No Response</td>\n",
              "      <td>High Words</td>\n",
              "      <td>[[29, 23, 24]]</td>\n",
              "      <td>[[[wash.wav]], [[long.wav]], [[noun.wav]]]</td>\n",
              "      <td>seek.wav</td>\n",
              "    </tr>\n",
              "    <tr>\n",
              "      <th>116</th>\n",
              "      <td>116</td>\n",
              "      <td>D90</td>\n",
              "      <td>4</td>\n",
              "      <td>1</td>\n",
              "      <td>40</td>\n",
              "      <td>out_of_sequence</td>\n",
              "      <td>Low Non-words</td>\n",
              "      <td>2.501719</td>\n",
              "      <td>[114, 115, 66, 10, 27]</td>\n",
              "      <td>No Response</td>\n",
              "      <td>0</td>\n",
              "      <td>No Response</td>\n",
              "      <td>Low Non-Words</td>\n",
              "      <td>[[33, 37, 34]]</td>\n",
              "      <td>[[[gawth.wav]], [[wehz.wav]], [[jhong.wav]]]</td>\n",
              "      <td>zerth.wav</td>\n",
              "    </tr>\n",
              "    <tr>\n",
              "      <th>134</th>\n",
              "      <td>134</td>\n",
              "      <td>D90</td>\n",
              "      <td>5</td>\n",
              "      <td>1</td>\n",
              "      <td>36</td>\n",
              "      <td>out_of_sequence</td>\n",
              "      <td>High Non-Words</td>\n",
              "      <td>2.501711</td>\n",
              "      <td>[114, 115, 66, 10, 27]</td>\n",
              "      <td>No Response</td>\n",
              "      <td>0</td>\n",
              "      <td>No Response</td>\n",
              "      <td>Low Non-Words</td>\n",
              "      <td>[[14, 16, 13, 19, 11, 20, 18, 12, 15]]</td>\n",
              "      <td>[[[kehl.wav]], [[paon.wav]], [[kawl.wav]], [[r...</td>\n",
              "      <td>vern.wav</td>\n",
              "    </tr>\n",
              "  </tbody>\n",
              "</table>\n",
              "<p>274 rows × 16 columns</p>\n",
              "</div>\n",
              "      <button class=\"colab-df-convert\" onclick=\"convertToInteractive('df-dca6cd40-cf95-4088-bcf1-53e862e84ba6')\"\n",
              "              title=\"Convert this dataframe to an interactive table.\"\n",
              "              style=\"display:none;\">\n",
              "        \n",
              "  <svg xmlns=\"http://www.w3.org/2000/svg\" height=\"24px\"viewBox=\"0 0 24 24\"\n",
              "       width=\"24px\">\n",
              "    <path d=\"M0 0h24v24H0V0z\" fill=\"none\"/>\n",
              "    <path d=\"M18.56 5.44l.94 2.06.94-2.06 2.06-.94-2.06-.94-.94-2.06-.94 2.06-2.06.94zm-11 1L8.5 8.5l.94-2.06 2.06-.94-2.06-.94L8.5 2.5l-.94 2.06-2.06.94zm10 10l.94 2.06.94-2.06 2.06-.94-2.06-.94-.94-2.06-.94 2.06-2.06.94z\"/><path d=\"M17.41 7.96l-1.37-1.37c-.4-.4-.92-.59-1.43-.59-.52 0-1.04.2-1.43.59L10.3 9.45l-7.72 7.72c-.78.78-.78 2.05 0 2.83L4 21.41c.39.39.9.59 1.41.59.51 0 1.02-.2 1.41-.59l7.78-7.78 2.81-2.81c.8-.78.8-2.07 0-2.86zM5.41 20L4 18.59l7.72-7.72 1.47 1.35L5.41 20z\"/>\n",
              "  </svg>\n",
              "      </button>\n",
              "      \n",
              "  <style>\n",
              "    .colab-df-container {\n",
              "      display:flex;\n",
              "      flex-wrap:wrap;\n",
              "      gap: 12px;\n",
              "    }\n",
              "\n",
              "    .colab-df-convert {\n",
              "      background-color: #E8F0FE;\n",
              "      border: none;\n",
              "      border-radius: 50%;\n",
              "      cursor: pointer;\n",
              "      display: none;\n",
              "      fill: #1967D2;\n",
              "      height: 32px;\n",
              "      padding: 0 0 0 0;\n",
              "      width: 32px;\n",
              "    }\n",
              "\n",
              "    .colab-df-convert:hover {\n",
              "      background-color: #E2EBFA;\n",
              "      box-shadow: 0px 1px 2px rgba(60, 64, 67, 0.3), 0px 1px 3px 1px rgba(60, 64, 67, 0.15);\n",
              "      fill: #174EA6;\n",
              "    }\n",
              "\n",
              "    [theme=dark] .colab-df-convert {\n",
              "      background-color: #3B4455;\n",
              "      fill: #D2E3FC;\n",
              "    }\n",
              "\n",
              "    [theme=dark] .colab-df-convert:hover {\n",
              "      background-color: #434B5C;\n",
              "      box-shadow: 0px 1px 3px 1px rgba(0, 0, 0, 0.15);\n",
              "      filter: drop-shadow(0px 1px 2px rgba(0, 0, 0, 0.3));\n",
              "      fill: #FFFFFF;\n",
              "    }\n",
              "  </style>\n",
              "\n",
              "      <script>\n",
              "        const buttonEl =\n",
              "          document.querySelector('#df-dca6cd40-cf95-4088-bcf1-53e862e84ba6 button.colab-df-convert');\n",
              "        buttonEl.style.display =\n",
              "          google.colab.kernel.accessAllowed ? 'block' : 'none';\n",
              "\n",
              "        async function convertToInteractive(key) {\n",
              "          const element = document.querySelector('#df-dca6cd40-cf95-4088-bcf1-53e862e84ba6');\n",
              "          const dataTable =\n",
              "            await google.colab.kernel.invokeFunction('convertToInteractive',\n",
              "                                                     [key], {});\n",
              "          if (!dataTable) return;\n",
              "\n",
              "          const docLinkHtml = 'Like what you see? Visit the ' +\n",
              "            '<a target=\"_blank\" href=https://colab.research.google.com/notebooks/data_table.ipynb>data table notebook</a>'\n",
              "            + ' to learn more about interactive tables.';\n",
              "          element.innerHTML = '';\n",
              "          dataTable['output_type'] = 'display_data';\n",
              "          await google.colab.output.renderOutput(dataTable, element);\n",
              "          const docLink = document.createElement('div');\n",
              "          docLink.innerHTML = docLinkHtml;\n",
              "          element.appendChild(docLink);\n",
              "        }\n",
              "      </script>\n",
              "    </div>\n",
              "  </div>\n",
              "  "
            ]
          },
          "metadata": {},
          "execution_count": 25
        }
      ]
    },
    {
      "cell_type": "code",
      "source": [
        "ieeg_subset[ieeg_subset['Omission'] != 'Responded']\n",
        "# let's keep these NaNs since all the other information is there"
      ],
      "metadata": {
        "colab": {
          "base_uri": "https://localhost:8080/",
          "height": 835
        },
        "id": "4RhPH6RwwIKi",
        "outputId": "6b3ef1b9-9860-4237-f9bb-48b8723efd96"
      },
      "execution_count": 26,
      "outputs": [
        {
          "output_type": "execute_result",
          "data": {
            "text/plain": [
              "    Trial Subject block ProbeType probeSound_idx    ProbeTypeName  \\\n",
              "9       9     D23     1         2             39      in_sequence   \n",
              "19     19     D23     1         1             40  out_of_sequence   \n",
              "26     26     D23     1         1             33  out_of_sequence   \n",
              "32     32     D23     2         2             25      in_sequence   \n",
              "97     97     D23     4         1             36  out_of_sequence   \n",
              "..    ...     ...   ...       ...            ...              ...   \n",
              "82     82     D88     3         2             14      in_sequence   \n",
              "112   112     D90     4         1             27  out_of_sequence   \n",
              "115   115     D90     4         1              8  out_of_sequence   \n",
              "116   116     D90     4         1             40  out_of_sequence   \n",
              "134   134     D90     5         1             36  out_of_sequence   \n",
              "\n",
              "    StimlusCategory  ReactionTime                 KeyCode         Resp  \\\n",
              "9     Low Non-words      2.502478      [[37, 39, 32, 27]]  No Response   \n",
              "19   High Non-Words      2.502283      [[37, 39, 32, 27]]  No Response   \n",
              "26   High Non-Words      2.502340      [[37, 39, 32, 27]]  No Response   \n",
              "32        Low Words      2.502395      [[37, 39, 32, 27]]  No Response   \n",
              "97   High Non-Words      2.502652      [[37, 39, 32, 27]]  No Response   \n",
              "..              ...           ...                     ...          ...   \n",
              "82   High Non-Words      2.501607  [114, 115, 66, 10, 27]  No Response   \n",
              "112      High Words      2.501830  [114, 115, 66, 10, 27]  No Response   \n",
              "115       Low Words      2.501636  [114, 115, 66, 10, 27]  No Response   \n",
              "116   Low Non-words      2.501719  [114, 115, 66, 10, 27]  No Response   \n",
              "134  High Non-Words      2.501711  [114, 115, 66, 10, 27]  No Response   \n",
              "\n",
              "    RespCorrect     Omission   ProbeCategory  \\\n",
              "9             0  No Response   Low Non-words   \n",
              "19            0  No Response   Low Non-Words   \n",
              "26            0  No Response   Low Non-Words   \n",
              "32            0  No Response       Low Words   \n",
              "97            0  No Response   Low Non-Words   \n",
              "..          ...          ...             ...   \n",
              "82            0  No Response  High Non-Words   \n",
              "112           0  No Response       Low Words   \n",
              "115           0  No Response      High Words   \n",
              "116           0  No Response   Low Non-Words   \n",
              "134           0  No Response   Low Non-Words   \n",
              "\n",
              "                         stimulusSounds_idx  \\\n",
              "9    [[32, 37, 31, 39, 40, 35, 33, 38, 36]]   \n",
              "19           [[17, 19, 18, 13, 15, 12, 16]]   \n",
              "26                           [[13, 18, 14]]   \n",
              "32   [[30, 22, 25, 29, 21, 23, 24, 28, 27]]   \n",
              "97                           [[16, 17, 18]]   \n",
              "..                                      ...   \n",
              "82                           [[20, 17, 14]]   \n",
              "112                        [7, 10, 4, 2, 6]   \n",
              "115                          [[29, 23, 24]]   \n",
              "116                          [[33, 37, 34]]   \n",
              "134  [[14, 16, 13, 19, 11, 20, 18, 12, 15]]   \n",
              "\n",
              "                                   stimulusSounds_name probeSound_name  \n",
              "9    [[[faez.wav]], [[wehz.wav]], [[deech.wav]], [[...        yuwf.wav  \n",
              "19   [[[puwn.wav]], [[rihn.wav]], [[rehl.wav]], [[k...       zerth.wav  \n",
              "26          [[[kawl.wav]], [[rehl.wav]], [[kehl.wav]]]       gawth.wav  \n",
              "32   [[[youth.wav]], [[fudge.wav]], [[sure.wav]], [...        sure.wav  \n",
              "97          [[[paon.wav]], [[puwn.wav]], [[rehl.wav]]]        vern.wav  \n",
              "..                                                 ...             ...  \n",
              "82          [[[saor.wav]], [[puwn.wav]], [[kehl.wav]]]        kehl.wav  \n",
              "112  [[pawn.wav], [witch.wav], [gear.wav], [debt.wa...        tube.wav  \n",
              "115         [[[wash.wav]], [[long.wav]], [[noun.wav]]]        seek.wav  \n",
              "116       [[[gawth.wav]], [[wehz.wav]], [[jhong.wav]]]       zerth.wav  \n",
              "134  [[[kehl.wav]], [[paon.wav]], [[kawl.wav]], [[r...        vern.wav  \n",
              "\n",
              "[434 rows x 16 columns]"
            ],
            "text/html": [
              "\n",
              "  <div id=\"df-979e56a2-0e1e-47e5-a4c6-ddf268dc8617\">\n",
              "    <div class=\"colab-df-container\">\n",
              "      <div>\n",
              "<style scoped>\n",
              "    .dataframe tbody tr th:only-of-type {\n",
              "        vertical-align: middle;\n",
              "    }\n",
              "\n",
              "    .dataframe tbody tr th {\n",
              "        vertical-align: top;\n",
              "    }\n",
              "\n",
              "    .dataframe thead th {\n",
              "        text-align: right;\n",
              "    }\n",
              "</style>\n",
              "<table border=\"1\" class=\"dataframe\">\n",
              "  <thead>\n",
              "    <tr style=\"text-align: right;\">\n",
              "      <th></th>\n",
              "      <th>Trial</th>\n",
              "      <th>Subject</th>\n",
              "      <th>block</th>\n",
              "      <th>ProbeType</th>\n",
              "      <th>probeSound_idx</th>\n",
              "      <th>ProbeTypeName</th>\n",
              "      <th>StimlusCategory</th>\n",
              "      <th>ReactionTime</th>\n",
              "      <th>KeyCode</th>\n",
              "      <th>Resp</th>\n",
              "      <th>RespCorrect</th>\n",
              "      <th>Omission</th>\n",
              "      <th>ProbeCategory</th>\n",
              "      <th>stimulusSounds_idx</th>\n",
              "      <th>stimulusSounds_name</th>\n",
              "      <th>probeSound_name</th>\n",
              "    </tr>\n",
              "  </thead>\n",
              "  <tbody>\n",
              "    <tr>\n",
              "      <th>9</th>\n",
              "      <td>9</td>\n",
              "      <td>D23</td>\n",
              "      <td>1</td>\n",
              "      <td>2</td>\n",
              "      <td>39</td>\n",
              "      <td>in_sequence</td>\n",
              "      <td>Low Non-words</td>\n",
              "      <td>2.502478</td>\n",
              "      <td>[[37, 39, 32, 27]]</td>\n",
              "      <td>No Response</td>\n",
              "      <td>0</td>\n",
              "      <td>No Response</td>\n",
              "      <td>Low Non-words</td>\n",
              "      <td>[[32, 37, 31, 39, 40, 35, 33, 38, 36]]</td>\n",
              "      <td>[[[faez.wav]], [[wehz.wav]], [[deech.wav]], [[...</td>\n",
              "      <td>yuwf.wav</td>\n",
              "    </tr>\n",
              "    <tr>\n",
              "      <th>19</th>\n",
              "      <td>19</td>\n",
              "      <td>D23</td>\n",
              "      <td>1</td>\n",
              "      <td>1</td>\n",
              "      <td>40</td>\n",
              "      <td>out_of_sequence</td>\n",
              "      <td>High Non-Words</td>\n",
              "      <td>2.502283</td>\n",
              "      <td>[[37, 39, 32, 27]]</td>\n",
              "      <td>No Response</td>\n",
              "      <td>0</td>\n",
              "      <td>No Response</td>\n",
              "      <td>Low Non-Words</td>\n",
              "      <td>[[17, 19, 18, 13, 15, 12, 16]]</td>\n",
              "      <td>[[[puwn.wav]], [[rihn.wav]], [[rehl.wav]], [[k...</td>\n",
              "      <td>zerth.wav</td>\n",
              "    </tr>\n",
              "    <tr>\n",
              "      <th>26</th>\n",
              "      <td>26</td>\n",
              "      <td>D23</td>\n",
              "      <td>1</td>\n",
              "      <td>1</td>\n",
              "      <td>33</td>\n",
              "      <td>out_of_sequence</td>\n",
              "      <td>High Non-Words</td>\n",
              "      <td>2.502340</td>\n",
              "      <td>[[37, 39, 32, 27]]</td>\n",
              "      <td>No Response</td>\n",
              "      <td>0</td>\n",
              "      <td>No Response</td>\n",
              "      <td>Low Non-Words</td>\n",
              "      <td>[[13, 18, 14]]</td>\n",
              "      <td>[[[kawl.wav]], [[rehl.wav]], [[kehl.wav]]]</td>\n",
              "      <td>gawth.wav</td>\n",
              "    </tr>\n",
              "    <tr>\n",
              "      <th>32</th>\n",
              "      <td>32</td>\n",
              "      <td>D23</td>\n",
              "      <td>2</td>\n",
              "      <td>2</td>\n",
              "      <td>25</td>\n",
              "      <td>in_sequence</td>\n",
              "      <td>Low Words</td>\n",
              "      <td>2.502395</td>\n",
              "      <td>[[37, 39, 32, 27]]</td>\n",
              "      <td>No Response</td>\n",
              "      <td>0</td>\n",
              "      <td>No Response</td>\n",
              "      <td>Low Words</td>\n",
              "      <td>[[30, 22, 25, 29, 21, 23, 24, 28, 27]]</td>\n",
              "      <td>[[[youth.wav]], [[fudge.wav]], [[sure.wav]], [...</td>\n",
              "      <td>sure.wav</td>\n",
              "    </tr>\n",
              "    <tr>\n",
              "      <th>97</th>\n",
              "      <td>97</td>\n",
              "      <td>D23</td>\n",
              "      <td>4</td>\n",
              "      <td>1</td>\n",
              "      <td>36</td>\n",
              "      <td>out_of_sequence</td>\n",
              "      <td>High Non-Words</td>\n",
              "      <td>2.502652</td>\n",
              "      <td>[[37, 39, 32, 27]]</td>\n",
              "      <td>No Response</td>\n",
              "      <td>0</td>\n",
              "      <td>No Response</td>\n",
              "      <td>Low Non-Words</td>\n",
              "      <td>[[16, 17, 18]]</td>\n",
              "      <td>[[[paon.wav]], [[puwn.wav]], [[rehl.wav]]]</td>\n",
              "      <td>vern.wav</td>\n",
              "    </tr>\n",
              "    <tr>\n",
              "      <th>...</th>\n",
              "      <td>...</td>\n",
              "      <td>...</td>\n",
              "      <td>...</td>\n",
              "      <td>...</td>\n",
              "      <td>...</td>\n",
              "      <td>...</td>\n",
              "      <td>...</td>\n",
              "      <td>...</td>\n",
              "      <td>...</td>\n",
              "      <td>...</td>\n",
              "      <td>...</td>\n",
              "      <td>...</td>\n",
              "      <td>...</td>\n",
              "      <td>...</td>\n",
              "      <td>...</td>\n",
              "      <td>...</td>\n",
              "    </tr>\n",
              "    <tr>\n",
              "      <th>82</th>\n",
              "      <td>82</td>\n",
              "      <td>D88</td>\n",
              "      <td>3</td>\n",
              "      <td>2</td>\n",
              "      <td>14</td>\n",
              "      <td>in_sequence</td>\n",
              "      <td>High Non-Words</td>\n",
              "      <td>2.501607</td>\n",
              "      <td>[114, 115, 66, 10, 27]</td>\n",
              "      <td>No Response</td>\n",
              "      <td>0</td>\n",
              "      <td>No Response</td>\n",
              "      <td>High Non-Words</td>\n",
              "      <td>[[20, 17, 14]]</td>\n",
              "      <td>[[[saor.wav]], [[puwn.wav]], [[kehl.wav]]]</td>\n",
              "      <td>kehl.wav</td>\n",
              "    </tr>\n",
              "    <tr>\n",
              "      <th>112</th>\n",
              "      <td>112</td>\n",
              "      <td>D90</td>\n",
              "      <td>4</td>\n",
              "      <td>1</td>\n",
              "      <td>27</td>\n",
              "      <td>out_of_sequence</td>\n",
              "      <td>High Words</td>\n",
              "      <td>2.501830</td>\n",
              "      <td>[114, 115, 66, 10, 27]</td>\n",
              "      <td>No Response</td>\n",
              "      <td>0</td>\n",
              "      <td>No Response</td>\n",
              "      <td>Low Words</td>\n",
              "      <td>[7, 10, 4, 2, 6]</td>\n",
              "      <td>[[pawn.wav], [witch.wav], [gear.wav], [debt.wa...</td>\n",
              "      <td>tube.wav</td>\n",
              "    </tr>\n",
              "    <tr>\n",
              "      <th>115</th>\n",
              "      <td>115</td>\n",
              "      <td>D90</td>\n",
              "      <td>4</td>\n",
              "      <td>1</td>\n",
              "      <td>8</td>\n",
              "      <td>out_of_sequence</td>\n",
              "      <td>Low Words</td>\n",
              "      <td>2.501636</td>\n",
              "      <td>[114, 115, 66, 10, 27]</td>\n",
              "      <td>No Response</td>\n",
              "      <td>0</td>\n",
              "      <td>No Response</td>\n",
              "      <td>High Words</td>\n",
              "      <td>[[29, 23, 24]]</td>\n",
              "      <td>[[[wash.wav]], [[long.wav]], [[noun.wav]]]</td>\n",
              "      <td>seek.wav</td>\n",
              "    </tr>\n",
              "    <tr>\n",
              "      <th>116</th>\n",
              "      <td>116</td>\n",
              "      <td>D90</td>\n",
              "      <td>4</td>\n",
              "      <td>1</td>\n",
              "      <td>40</td>\n",
              "      <td>out_of_sequence</td>\n",
              "      <td>Low Non-words</td>\n",
              "      <td>2.501719</td>\n",
              "      <td>[114, 115, 66, 10, 27]</td>\n",
              "      <td>No Response</td>\n",
              "      <td>0</td>\n",
              "      <td>No Response</td>\n",
              "      <td>Low Non-Words</td>\n",
              "      <td>[[33, 37, 34]]</td>\n",
              "      <td>[[[gawth.wav]], [[wehz.wav]], [[jhong.wav]]]</td>\n",
              "      <td>zerth.wav</td>\n",
              "    </tr>\n",
              "    <tr>\n",
              "      <th>134</th>\n",
              "      <td>134</td>\n",
              "      <td>D90</td>\n",
              "      <td>5</td>\n",
              "      <td>1</td>\n",
              "      <td>36</td>\n",
              "      <td>out_of_sequence</td>\n",
              "      <td>High Non-Words</td>\n",
              "      <td>2.501711</td>\n",
              "      <td>[114, 115, 66, 10, 27]</td>\n",
              "      <td>No Response</td>\n",
              "      <td>0</td>\n",
              "      <td>No Response</td>\n",
              "      <td>Low Non-Words</td>\n",
              "      <td>[[14, 16, 13, 19, 11, 20, 18, 12, 15]]</td>\n",
              "      <td>[[[kehl.wav]], [[paon.wav]], [[kawl.wav]], [[r...</td>\n",
              "      <td>vern.wav</td>\n",
              "    </tr>\n",
              "  </tbody>\n",
              "</table>\n",
              "<p>434 rows × 16 columns</p>\n",
              "</div>\n",
              "      <button class=\"colab-df-convert\" onclick=\"convertToInteractive('df-979e56a2-0e1e-47e5-a4c6-ddf268dc8617')\"\n",
              "              title=\"Convert this dataframe to an interactive table.\"\n",
              "              style=\"display:none;\">\n",
              "        \n",
              "  <svg xmlns=\"http://www.w3.org/2000/svg\" height=\"24px\"viewBox=\"0 0 24 24\"\n",
              "       width=\"24px\">\n",
              "    <path d=\"M0 0h24v24H0V0z\" fill=\"none\"/>\n",
              "    <path d=\"M18.56 5.44l.94 2.06.94-2.06 2.06-.94-2.06-.94-.94-2.06-.94 2.06-2.06.94zm-11 1L8.5 8.5l.94-2.06 2.06-.94-2.06-.94L8.5 2.5l-.94 2.06-2.06.94zm10 10l.94 2.06.94-2.06 2.06-.94-2.06-.94-.94-2.06-.94 2.06-2.06.94z\"/><path d=\"M17.41 7.96l-1.37-1.37c-.4-.4-.92-.59-1.43-.59-.52 0-1.04.2-1.43.59L10.3 9.45l-7.72 7.72c-.78.78-.78 2.05 0 2.83L4 21.41c.39.39.9.59 1.41.59.51 0 1.02-.2 1.41-.59l7.78-7.78 2.81-2.81c.8-.78.8-2.07 0-2.86zM5.41 20L4 18.59l7.72-7.72 1.47 1.35L5.41 20z\"/>\n",
              "  </svg>\n",
              "      </button>\n",
              "      \n",
              "  <style>\n",
              "    .colab-df-container {\n",
              "      display:flex;\n",
              "      flex-wrap:wrap;\n",
              "      gap: 12px;\n",
              "    }\n",
              "\n",
              "    .colab-df-convert {\n",
              "      background-color: #E8F0FE;\n",
              "      border: none;\n",
              "      border-radius: 50%;\n",
              "      cursor: pointer;\n",
              "      display: none;\n",
              "      fill: #1967D2;\n",
              "      height: 32px;\n",
              "      padding: 0 0 0 0;\n",
              "      width: 32px;\n",
              "    }\n",
              "\n",
              "    .colab-df-convert:hover {\n",
              "      background-color: #E2EBFA;\n",
              "      box-shadow: 0px 1px 2px rgba(60, 64, 67, 0.3), 0px 1px 3px 1px rgba(60, 64, 67, 0.15);\n",
              "      fill: #174EA6;\n",
              "    }\n",
              "\n",
              "    [theme=dark] .colab-df-convert {\n",
              "      background-color: #3B4455;\n",
              "      fill: #D2E3FC;\n",
              "    }\n",
              "\n",
              "    [theme=dark] .colab-df-convert:hover {\n",
              "      background-color: #434B5C;\n",
              "      box-shadow: 0px 1px 3px 1px rgba(0, 0, 0, 0.15);\n",
              "      filter: drop-shadow(0px 1px 2px rgba(0, 0, 0, 0.3));\n",
              "      fill: #FFFFFF;\n",
              "    }\n",
              "  </style>\n",
              "\n",
              "      <script>\n",
              "        const buttonEl =\n",
              "          document.querySelector('#df-979e56a2-0e1e-47e5-a4c6-ddf268dc8617 button.colab-df-convert');\n",
              "        buttonEl.style.display =\n",
              "          google.colab.kernel.accessAllowed ? 'block' : 'none';\n",
              "\n",
              "        async function convertToInteractive(key) {\n",
              "          const element = document.querySelector('#df-979e56a2-0e1e-47e5-a4c6-ddf268dc8617');\n",
              "          const dataTable =\n",
              "            await google.colab.kernel.invokeFunction('convertToInteractive',\n",
              "                                                     [key], {});\n",
              "          if (!dataTable) return;\n",
              "\n",
              "          const docLinkHtml = 'Like what you see? Visit the ' +\n",
              "            '<a target=\"_blank\" href=https://colab.research.google.com/notebooks/data_table.ipynb>data table notebook</a>'\n",
              "            + ' to learn more about interactive tables.';\n",
              "          element.innerHTML = '';\n",
              "          dataTable['output_type'] = 'display_data';\n",
              "          await google.colab.output.renderOutput(dataTable, element);\n",
              "          const docLink = document.createElement('div');\n",
              "          docLink.innerHTML = docLinkHtml;\n",
              "          element.appendChild(docLink);\n",
              "        }\n",
              "      </script>\n",
              "    </div>\n",
              "  </div>\n",
              "  "
            ]
          },
          "metadata": {},
          "execution_count": 26
        }
      ]
    },
    {
      "cell_type": "code",
      "source": [
        "print(ieeg_subset[ieeg_subset['Omission'] != 'Responded'].Subject.unique())"
      ],
      "metadata": {
        "colab": {
          "base_uri": "https://localhost:8080/"
        },
        "id": "BrsVzwTNwNWZ",
        "outputId": "e284a2cf-deef-48ce-878c-960a6491d75f"
      },
      "execution_count": 27,
      "outputs": [
        {
          "output_type": "stream",
          "name": "stdout",
          "text": [
            "['D23' 'D26' 'D27' 'D28' 'D30' 'D31' 'D33' 'D34' 'D35' 'D36' 'D38' 'D39'\n",
            " 'D41' 'D42' 'D47' 'D48' 'D49' 'D53' 'D54' 'D55' 'D57' 'D59' 'D61' 'D63'\n",
            " 'D65' 'D68' 'D69' 'D70' 'D71' 'D72' 'D73' 'D77' 'D79' 'D84' 'D85' 'D86'\n",
            " 'D88' 'D90']\n"
          ]
        }
      ]
    },
    {
      "cell_type": "markdown",
      "source": [
        "Creating additional variables"
      ],
      "metadata": {
        "id": "u1w16cYgwRuA"
      }
    },
    {
      "cell_type": "code",
      "source": [
        "# types in ProbeCategory column differ in case\n",
        "# here we make them lowrcase\n",
        "new_probe = []\n",
        "for i in ieeg_subset.ProbeCategory.values:\n",
        "  new_probe.append(i.lower())\n",
        "ieeg_subset['ProbeCategory'] = new_probe"
      ],
      "metadata": {
        "colab": {
          "base_uri": "https://localhost:8080/"
        },
        "id": "f4bFTL-TwPnI",
        "outputId": "796c9a9f-89b6-4eed-fb0d-3156ce4e846a"
      },
      "execution_count": 28,
      "outputs": [
        {
          "output_type": "stream",
          "name": "stderr",
          "text": [
            "<ipython-input-28-df1cb0339cf5>:6: SettingWithCopyWarning: \n",
            "A value is trying to be set on a copy of a slice from a DataFrame.\n",
            "Try using .loc[row_indexer,col_indexer] = value instead\n",
            "\n",
            "See the caveats in the documentation: https://pandas.pydata.org/pandas-docs/stable/user_guide/indexing.html#returning-a-view-versus-a-copy\n",
            "  ieeg_subset['ProbeCategory'] = new_probe\n"
          ]
        }
      ]
    },
    {
      "cell_type": "code",
      "source": [
        "ieeg_subset.head()"
      ],
      "metadata": {
        "colab": {
          "base_uri": "https://localhost:8080/",
          "height": 444
        },
        "id": "DAQaX7zYwkQ5",
        "outputId": "f7c76384-c932-4f48-d0a6-2d58d81e6eed"
      },
      "execution_count": 29,
      "outputs": [
        {
          "output_type": "execute_result",
          "data": {
            "text/plain": [
              "  Trial Subject block ProbeType probeSound_idx    ProbeTypeName  \\\n",
              "0     0     D23     1         2             29      in_sequence   \n",
              "1     1     D23     1         2              5      in_sequence   \n",
              "2     2     D23     1         2             16      in_sequence   \n",
              "3     3     D23     1         1             29  out_of_sequence   \n",
              "4     4     D23     1         1              9  out_of_sequence   \n",
              "\n",
              "  StimlusCategory  ReactionTime KeyCode Resp RespCorrect   Omission  \\\n",
              "0       Low Words      0.857518      37  Yes           1  Responded   \n",
              "1      High Words      1.339604      37  Yes           1  Responded   \n",
              "2  High Non-Words      1.045657      37  Yes           1  Responded   \n",
              "3      High Words      1.497001      39   No           1  Responded   \n",
              "4       Low Words      1.679783      39   No           1  Responded   \n",
              "\n",
              "    ProbeCategory              stimulusSounds_idx  \\\n",
              "0       low words                  [[29, 25, 30]]   \n",
              "1      high words        [[2, 5, 8, 4, 7, 10, 3]]   \n",
              "2  high non-words  [[19, 14, 18, 16, 20, 15, 17]]   \n",
              "3       low words  [[10, 2, 7, 9, 1, 8, 6, 5, 4]]   \n",
              "4      high words            [30, 24, 25, 29, 21]   \n",
              "\n",
              "                                 stimulusSounds_name probeSound_name  \n",
              "0        [[[wash.wav]], [[sure.wav]], [[youth.wav]]]        wash.wav  \n",
              "1  [[[debt.wav]], [[lair.wav]], [[seek.wav]], [[g...        lair.wav  \n",
              "2  [[[rihn.wav]], [[kehl.wav]], [[rehl.wav]], [[p...        paon.wav  \n",
              "3  [[[witch.wav]], [[debt.wav]], [[pawn.wav]], [[...        wash.wav  \n",
              "4  [[youth.wav], [noun.wav], [sure.wav], [wash.wa...        soar.wav  "
            ],
            "text/html": [
              "\n",
              "  <div id=\"df-3b0b3926-c007-4a8f-b84d-ae45caa9d49e\">\n",
              "    <div class=\"colab-df-container\">\n",
              "      <div>\n",
              "<style scoped>\n",
              "    .dataframe tbody tr th:only-of-type {\n",
              "        vertical-align: middle;\n",
              "    }\n",
              "\n",
              "    .dataframe tbody tr th {\n",
              "        vertical-align: top;\n",
              "    }\n",
              "\n",
              "    .dataframe thead th {\n",
              "        text-align: right;\n",
              "    }\n",
              "</style>\n",
              "<table border=\"1\" class=\"dataframe\">\n",
              "  <thead>\n",
              "    <tr style=\"text-align: right;\">\n",
              "      <th></th>\n",
              "      <th>Trial</th>\n",
              "      <th>Subject</th>\n",
              "      <th>block</th>\n",
              "      <th>ProbeType</th>\n",
              "      <th>probeSound_idx</th>\n",
              "      <th>ProbeTypeName</th>\n",
              "      <th>StimlusCategory</th>\n",
              "      <th>ReactionTime</th>\n",
              "      <th>KeyCode</th>\n",
              "      <th>Resp</th>\n",
              "      <th>RespCorrect</th>\n",
              "      <th>Omission</th>\n",
              "      <th>ProbeCategory</th>\n",
              "      <th>stimulusSounds_idx</th>\n",
              "      <th>stimulusSounds_name</th>\n",
              "      <th>probeSound_name</th>\n",
              "    </tr>\n",
              "  </thead>\n",
              "  <tbody>\n",
              "    <tr>\n",
              "      <th>0</th>\n",
              "      <td>0</td>\n",
              "      <td>D23</td>\n",
              "      <td>1</td>\n",
              "      <td>2</td>\n",
              "      <td>29</td>\n",
              "      <td>in_sequence</td>\n",
              "      <td>Low Words</td>\n",
              "      <td>0.857518</td>\n",
              "      <td>37</td>\n",
              "      <td>Yes</td>\n",
              "      <td>1</td>\n",
              "      <td>Responded</td>\n",
              "      <td>low words</td>\n",
              "      <td>[[29, 25, 30]]</td>\n",
              "      <td>[[[wash.wav]], [[sure.wav]], [[youth.wav]]]</td>\n",
              "      <td>wash.wav</td>\n",
              "    </tr>\n",
              "    <tr>\n",
              "      <th>1</th>\n",
              "      <td>1</td>\n",
              "      <td>D23</td>\n",
              "      <td>1</td>\n",
              "      <td>2</td>\n",
              "      <td>5</td>\n",
              "      <td>in_sequence</td>\n",
              "      <td>High Words</td>\n",
              "      <td>1.339604</td>\n",
              "      <td>37</td>\n",
              "      <td>Yes</td>\n",
              "      <td>1</td>\n",
              "      <td>Responded</td>\n",
              "      <td>high words</td>\n",
              "      <td>[[2, 5, 8, 4, 7, 10, 3]]</td>\n",
              "      <td>[[[debt.wav]], [[lair.wav]], [[seek.wav]], [[g...</td>\n",
              "      <td>lair.wav</td>\n",
              "    </tr>\n",
              "    <tr>\n",
              "      <th>2</th>\n",
              "      <td>2</td>\n",
              "      <td>D23</td>\n",
              "      <td>1</td>\n",
              "      <td>2</td>\n",
              "      <td>16</td>\n",
              "      <td>in_sequence</td>\n",
              "      <td>High Non-Words</td>\n",
              "      <td>1.045657</td>\n",
              "      <td>37</td>\n",
              "      <td>Yes</td>\n",
              "      <td>1</td>\n",
              "      <td>Responded</td>\n",
              "      <td>high non-words</td>\n",
              "      <td>[[19, 14, 18, 16, 20, 15, 17]]</td>\n",
              "      <td>[[[rihn.wav]], [[kehl.wav]], [[rehl.wav]], [[p...</td>\n",
              "      <td>paon.wav</td>\n",
              "    </tr>\n",
              "    <tr>\n",
              "      <th>3</th>\n",
              "      <td>3</td>\n",
              "      <td>D23</td>\n",
              "      <td>1</td>\n",
              "      <td>1</td>\n",
              "      <td>29</td>\n",
              "      <td>out_of_sequence</td>\n",
              "      <td>High Words</td>\n",
              "      <td>1.497001</td>\n",
              "      <td>39</td>\n",
              "      <td>No</td>\n",
              "      <td>1</td>\n",
              "      <td>Responded</td>\n",
              "      <td>low words</td>\n",
              "      <td>[[10, 2, 7, 9, 1, 8, 6, 5, 4]]</td>\n",
              "      <td>[[[witch.wav]], [[debt.wav]], [[pawn.wav]], [[...</td>\n",
              "      <td>wash.wav</td>\n",
              "    </tr>\n",
              "    <tr>\n",
              "      <th>4</th>\n",
              "      <td>4</td>\n",
              "      <td>D23</td>\n",
              "      <td>1</td>\n",
              "      <td>1</td>\n",
              "      <td>9</td>\n",
              "      <td>out_of_sequence</td>\n",
              "      <td>Low Words</td>\n",
              "      <td>1.679783</td>\n",
              "      <td>39</td>\n",
              "      <td>No</td>\n",
              "      <td>1</td>\n",
              "      <td>Responded</td>\n",
              "      <td>high words</td>\n",
              "      <td>[30, 24, 25, 29, 21]</td>\n",
              "      <td>[[youth.wav], [noun.wav], [sure.wav], [wash.wa...</td>\n",
              "      <td>soar.wav</td>\n",
              "    </tr>\n",
              "  </tbody>\n",
              "</table>\n",
              "</div>\n",
              "      <button class=\"colab-df-convert\" onclick=\"convertToInteractive('df-3b0b3926-c007-4a8f-b84d-ae45caa9d49e')\"\n",
              "              title=\"Convert this dataframe to an interactive table.\"\n",
              "              style=\"display:none;\">\n",
              "        \n",
              "  <svg xmlns=\"http://www.w3.org/2000/svg\" height=\"24px\"viewBox=\"0 0 24 24\"\n",
              "       width=\"24px\">\n",
              "    <path d=\"M0 0h24v24H0V0z\" fill=\"none\"/>\n",
              "    <path d=\"M18.56 5.44l.94 2.06.94-2.06 2.06-.94-2.06-.94-.94-2.06-.94 2.06-2.06.94zm-11 1L8.5 8.5l.94-2.06 2.06-.94-2.06-.94L8.5 2.5l-.94 2.06-2.06.94zm10 10l.94 2.06.94-2.06 2.06-.94-2.06-.94-.94-2.06-.94 2.06-2.06.94z\"/><path d=\"M17.41 7.96l-1.37-1.37c-.4-.4-.92-.59-1.43-.59-.52 0-1.04.2-1.43.59L10.3 9.45l-7.72 7.72c-.78.78-.78 2.05 0 2.83L4 21.41c.39.39.9.59 1.41.59.51 0 1.02-.2 1.41-.59l7.78-7.78 2.81-2.81c.8-.78.8-2.07 0-2.86zM5.41 20L4 18.59l7.72-7.72 1.47 1.35L5.41 20z\"/>\n",
              "  </svg>\n",
              "      </button>\n",
              "      \n",
              "  <style>\n",
              "    .colab-df-container {\n",
              "      display:flex;\n",
              "      flex-wrap:wrap;\n",
              "      gap: 12px;\n",
              "    }\n",
              "\n",
              "    .colab-df-convert {\n",
              "      background-color: #E8F0FE;\n",
              "      border: none;\n",
              "      border-radius: 50%;\n",
              "      cursor: pointer;\n",
              "      display: none;\n",
              "      fill: #1967D2;\n",
              "      height: 32px;\n",
              "      padding: 0 0 0 0;\n",
              "      width: 32px;\n",
              "    }\n",
              "\n",
              "    .colab-df-convert:hover {\n",
              "      background-color: #E2EBFA;\n",
              "      box-shadow: 0px 1px 2px rgba(60, 64, 67, 0.3), 0px 1px 3px 1px rgba(60, 64, 67, 0.15);\n",
              "      fill: #174EA6;\n",
              "    }\n",
              "\n",
              "    [theme=dark] .colab-df-convert {\n",
              "      background-color: #3B4455;\n",
              "      fill: #D2E3FC;\n",
              "    }\n",
              "\n",
              "    [theme=dark] .colab-df-convert:hover {\n",
              "      background-color: #434B5C;\n",
              "      box-shadow: 0px 1px 3px 1px rgba(0, 0, 0, 0.15);\n",
              "      filter: drop-shadow(0px 1px 2px rgba(0, 0, 0, 0.3));\n",
              "      fill: #FFFFFF;\n",
              "    }\n",
              "  </style>\n",
              "\n",
              "      <script>\n",
              "        const buttonEl =\n",
              "          document.querySelector('#df-3b0b3926-c007-4a8f-b84d-ae45caa9d49e button.colab-df-convert');\n",
              "        buttonEl.style.display =\n",
              "          google.colab.kernel.accessAllowed ? 'block' : 'none';\n",
              "\n",
              "        async function convertToInteractive(key) {\n",
              "          const element = document.querySelector('#df-3b0b3926-c007-4a8f-b84d-ae45caa9d49e');\n",
              "          const dataTable =\n",
              "            await google.colab.kernel.invokeFunction('convertToInteractive',\n",
              "                                                     [key], {});\n",
              "          if (!dataTable) return;\n",
              "\n",
              "          const docLinkHtml = 'Like what you see? Visit the ' +\n",
              "            '<a target=\"_blank\" href=https://colab.research.google.com/notebooks/data_table.ipynb>data table notebook</a>'\n",
              "            + ' to learn more about interactive tables.';\n",
              "          element.innerHTML = '';\n",
              "          dataTable['output_type'] = 'display_data';\n",
              "          await google.colab.output.renderOutput(dataTable, element);\n",
              "          const docLink = document.createElement('div');\n",
              "          docLink.innerHTML = docLinkHtml;\n",
              "          element.appendChild(docLink);\n",
              "        }\n",
              "      </script>\n",
              "    </div>\n",
              "  </div>\n",
              "  "
            ]
          },
          "metadata": {},
          "execution_count": 29
        }
      ]
    },
    {
      "cell_type": "code",
      "source": [
        "# making values in df more 'handy'\n",
        "whole_list = ieeg_subset['stimulusSounds_idx'].values\n",
        "new_sound_idx = []\n",
        "for i in whole_list:\n",
        "  if type(i) is list:\n",
        "    new_sound_idx.append(i)\n",
        "  elif type(i) is np.ndarray:\n",
        "    new_sound_idx.append(i[0].tolist())\n",
        "  else:\n",
        "    print(type(i))\n",
        "    print(len(new_sound_idx))\n",
        "    break"
      ],
      "metadata": {
        "id": "Umpwza9YwUUg"
      },
      "execution_count": 30,
      "outputs": []
    },
    {
      "cell_type": "code",
      "source": [
        "ieeg_subset['stimulusSounds_idx'] = new_sound_idx"
      ],
      "metadata": {
        "id": "spOvIKWKRbtU",
        "outputId": "8e0e3061-e444-4ab3-e674-be2c23d817dc",
        "colab": {
          "base_uri": "https://localhost:8080/"
        }
      },
      "execution_count": 31,
      "outputs": [
        {
          "output_type": "stream",
          "name": "stderr",
          "text": [
            "<ipython-input-31-23db4ade8c7c>:1: SettingWithCopyWarning: \n",
            "A value is trying to be set on a copy of a slice from a DataFrame.\n",
            "Try using .loc[row_indexer,col_indexer] = value instead\n",
            "\n",
            "See the caveats in the documentation: https://pandas.pydata.org/pandas-docs/stable/user_guide/indexing.html#returning-a-view-versus-a-copy\n",
            "  ieeg_subset['stimulusSounds_idx'] = new_sound_idx\n"
          ]
        }
      ]
    },
    {
      "cell_type": "code",
      "source": [
        "# checking the length of word lists presented\n",
        "compare = []\n",
        "for i in new_sound_idx:\n",
        "  length = len(i)\n",
        "  if length not in compare:\n",
        "    compare.append(length)\n",
        "print(compare)"
      ],
      "metadata": {
        "colab": {
          "base_uri": "https://localhost:8080/"
        },
        "id": "G2m2P0B5woGB",
        "outputId": "a733f2ff-e580-46ec-bdbf-ad33dc8941da"
      },
      "execution_count": 32,
      "outputs": [
        {
          "output_type": "stream",
          "name": "stdout",
          "text": [
            "[3, 7, 9, 5]\n"
          ]
        }
      ]
    },
    {
      "cell_type": "code",
      "source": [
        "# calculating relative position of the word in the list\n",
        "# pos for only in seqence trials: probe sound index and stimulus sound index\n",
        "# beginning middle or end\n",
        "positions = [] # for the new 'position' column in df\n",
        "# 1 - beginning, 2 - middle, 3 - end\n",
        "ind = ieeg_subset['probeSound_idx'].values\n",
        "in_out = ieeg_subset['ProbeTypeName'].values\n",
        "for i in range(0, len(ind)):\n",
        "  if in_out[i] == 'in_sequence': # if it is in sequence\n",
        "    if ind[i] in new_sound_idx[i]:\n",
        "      # for length of the list 3\n",
        "      if len(new_sound_idx[i]) == 3:\n",
        "        if new_sound_idx[i].index(ind[i]) == 0:\n",
        "          positions.append(1) # beginning\n",
        "        elif new_sound_idx[i].index(ind[i]) == 1:\n",
        "          positions.append(2) # middle\n",
        "        elif new_sound_idx[i].index(ind[i]) == 2:\n",
        "          positions.append(3) # end\n",
        "\n",
        "      # for length of the list 5\n",
        "      ## revise!\n",
        "      elif len(new_sound_idx[i]) == 5:\n",
        "        if new_sound_idx[i].index(ind[i]) in [0, 1]:\n",
        "          positions.append(1) # beginning\n",
        "        elif new_sound_idx[i].index(ind[i]) == 2:\n",
        "          positions.append(2) # middle\n",
        "        elif new_sound_idx[i].index(ind[i]) in [3, 4]:\n",
        "          positions.append(3) # end\n",
        "\n",
        "      # for length of the list 7\n",
        "      elif len(new_sound_idx[i]) == 7:\n",
        "        if new_sound_idx[i].index(ind[i]) in [0, 1]:\n",
        "          positions.append(1) # beginning\n",
        "        elif new_sound_idx[i].index(ind[i]) in [2, 3, 4]:\n",
        "          positions.append(2) # middle\n",
        "        elif new_sound_idx[i].index(ind[i]) in [5, 6]:\n",
        "          positions.append(3) # end\n",
        "\n",
        "      # for length of the list 9\n",
        "      elif len(new_sound_idx[i]) == 9:\n",
        "        if new_sound_idx[i].index(ind[i]) in [0, 1, 2]:\n",
        "          positions.append(1) # beginning\n",
        "        elif new_sound_idx[i].index(ind[i]) in [3, 4, 5]:\n",
        "          positions.append(2) # middle\n",
        "        elif new_sound_idx[i].index(ind[i]) in [6, 7, 8]:\n",
        "          positions.append(3) # end\n",
        "    else:\n",
        "      print('Check', i)\n",
        "      break\n",
        "  elif in_out[i] == 'out_of_sequence':\n",
        "    positions.append(0) # if it is out of sequence it is not in the list\n",
        "  else:\n",
        "    print('Check', i)\n",
        "    break"
      ],
      "metadata": {
        "id": "fX56Rd90wp-D"
      },
      "execution_count": 33,
      "outputs": []
    },
    {
      "cell_type": "code",
      "source": [
        "length = []\n",
        "for i in ieeg_subset.stimulusSounds_idx:\n",
        "  length.append(len(i))"
      ],
      "metadata": {
        "id": "1BLid2itwswQ"
      },
      "execution_count": 34,
      "outputs": []
    },
    {
      "cell_type": "code",
      "source": [
        "ieeg_subset['Position'] = positions\n",
        "ieeg_subset['Length'] = length"
      ],
      "metadata": {
        "colab": {
          "base_uri": "https://localhost:8080/"
        },
        "id": "8I41qy3lwupA",
        "outputId": "93f9f696-3bf3-40a5-d426-8a669ccf7e94"
      },
      "execution_count": 35,
      "outputs": [
        {
          "output_type": "stream",
          "name": "stderr",
          "text": [
            "<ipython-input-35-b7de9913c462>:1: SettingWithCopyWarning: \n",
            "A value is trying to be set on a copy of a slice from a DataFrame.\n",
            "Try using .loc[row_indexer,col_indexer] = value instead\n",
            "\n",
            "See the caveats in the documentation: https://pandas.pydata.org/pandas-docs/stable/user_guide/indexing.html#returning-a-view-versus-a-copy\n",
            "  ieeg_subset['Position'] = positions\n",
            "<ipython-input-35-b7de9913c462>:2: SettingWithCopyWarning: \n",
            "A value is trying to be set on a copy of a slice from a DataFrame.\n",
            "Try using .loc[row_indexer,col_indexer] = value instead\n",
            "\n",
            "See the caveats in the documentation: https://pandas.pydata.org/pandas-docs/stable/user_guide/indexing.html#returning-a-view-versus-a-copy\n",
            "  ieeg_subset['Length'] = length\n"
          ]
        }
      ]
    },
    {
      "cell_type": "code",
      "source": [
        "ieeg_subset.Length.unique()"
      ],
      "metadata": {
        "id": "TUzAZBjsQ9hu",
        "outputId": "32e1634b-1b45-4be8-af31-d481de7a538b",
        "colab": {
          "base_uri": "https://localhost:8080/"
        }
      },
      "execution_count": 36,
      "outputs": [
        {
          "output_type": "execute_result",
          "data": {
            "text/plain": [
              "array([3, 7, 9, 5])"
            ]
          },
          "metadata": {},
          "execution_count": 36
        }
      ]
    },
    {
      "cell_type": "code",
      "source": [
        "lex = []\n",
        "phon = []\n",
        "for i in ieeg_subset.ProbeCategory.values:\n",
        "  if 'non-words' in i: # non - words = 0, words = 0\n",
        "    lex.append(0)\n",
        "  elif 'words' in i:\n",
        "    lex.append(1)\n",
        "for i in ieeg_subset.ProbeCategory.values:\n",
        "  if 'low' in i: # high = 0 low = 1\n",
        "    phon.append(1)\n",
        "  elif 'high' in i:\n",
        "    phon.append(0)\n",
        "print(len(lex))\n",
        "print(len(phon))"
      ],
      "metadata": {
        "colab": {
          "base_uri": "https://localhost:8080/"
        },
        "id": "azVbly7hwurq",
        "outputId": "8913ff3d-bf8f-4cc3-b365-72776a76434e"
      },
      "execution_count": 37,
      "outputs": [
        {
          "output_type": "stream",
          "name": "stdout",
          "text": [
            "6900\n",
            "6900\n"
          ]
        }
      ]
    },
    {
      "cell_type": "code",
      "source": [
        "ieeg_subset['Lex'] = lex\n",
        "ieeg_subset['Phono'] = phon"
      ],
      "metadata": {
        "colab": {
          "base_uri": "https://localhost:8080/"
        },
        "id": "umZ3qZ7rwuuX",
        "outputId": "b5cb7abf-1299-4eba-b635-9afdb3ee27cf"
      },
      "execution_count": 38,
      "outputs": [
        {
          "output_type": "stream",
          "name": "stderr",
          "text": [
            "<ipython-input-38-aefbe34290ea>:1: SettingWithCopyWarning: \n",
            "A value is trying to be set on a copy of a slice from a DataFrame.\n",
            "Try using .loc[row_indexer,col_indexer] = value instead\n",
            "\n",
            "See the caveats in the documentation: https://pandas.pydata.org/pandas-docs/stable/user_guide/indexing.html#returning-a-view-versus-a-copy\n",
            "  ieeg_subset['Lex'] = lex\n",
            "<ipython-input-38-aefbe34290ea>:2: SettingWithCopyWarning: \n",
            "A value is trying to be set on a copy of a slice from a DataFrame.\n",
            "Try using .loc[row_indexer,col_indexer] = value instead\n",
            "\n",
            "See the caveats in the documentation: https://pandas.pydata.org/pandas-docs/stable/user_guide/indexing.html#returning-a-view-versus-a-copy\n",
            "  ieeg_subset['Phono'] = phon\n"
          ]
        }
      ]
    },
    {
      "cell_type": "markdown",
      "source": [
        "## Stats on iEEG"
      ],
      "metadata": {
        "id": "qD8N8V1Gy3mG"
      }
    },
    {
      "cell_type": "code",
      "source": [
        "print('The shape of the iEEG dataset with \"No Response\" trials', ieeg_subset.shape)\n",
        "print('The accuracy', ieeg_subset.RespCorrect.mean())\n",
        "print('The shape of the iEEG dataset without \"No Response\" trials', ieeg_subset[ieeg_subset['Resp'] != 'No Response'].shape)\n",
        "print('The accuracy', ieeg_subset[ieeg_subset['Resp'] != 'No Response'].RespCorrect.mean())"
      ],
      "metadata": {
        "colab": {
          "base_uri": "https://localhost:8080/"
        },
        "id": "SYdXfKeGw5KX",
        "outputId": "c01ffb36-0eb8-4a86-a36e-82b6b9a55d15"
      },
      "execution_count": 39,
      "outputs": [
        {
          "output_type": "stream",
          "name": "stdout",
          "text": [
            "The shape of the iEEG dataset with \"No Response\" trials (6900, 20)\n",
            "The accuracy 0.7797101449275362\n",
            "The shape of the iEEG dataset without \"No Response\" trials (6626, 20)\n",
            "The accuracy 0.8119529127678841\n"
          ]
        }
      ]
    },
    {
      "cell_type": "code",
      "source": [
        "checkset = ieeg_subset.groupby(['Subject'])[['RespCorrect']].apply(\n",
        "    lambda x: x.sum()/x.count()\n",
        ")"
      ],
      "metadata": {
        "id": "0DE20ne9zBEO"
      },
      "execution_count": 40,
      "outputs": []
    },
    {
      "cell_type": "code",
      "source": [
        "checkset"
      ],
      "metadata": {
        "id": "WJdlGrpoNbaV",
        "outputId": "27163f1c-6c0c-4636-a8bc-85d182f977c7",
        "colab": {
          "base_uri": "https://localhost:8080/",
          "height": 1000
        }
      },
      "execution_count": 41,
      "outputs": [
        {
          "output_type": "execute_result",
          "data": {
            "text/plain": [
              "         RespCorrect\n",
              "Subject             \n",
              "D23         0.793750\n",
              "D26         0.937500\n",
              "D27         0.800000\n",
              "D28         0.816993\n",
              "D29         0.937500\n",
              "D30         0.706250\n",
              "D31         0.837500\n",
              "D33         0.631016\n",
              "D34         0.793750\n",
              "D35         0.868750\n",
              "D36         0.881250\n",
              "D38         0.868750\n",
              "D39         0.868750\n",
              "D41         0.756250\n",
              "D42         0.881250\n",
              "D47         0.868750\n",
              "D48         0.856250\n",
              "D49         0.618750\n",
              "D53         0.806250\n",
              "D54         0.431250\n",
              "D55         0.812500\n",
              "D57         0.825000\n",
              "D59         0.843750\n",
              "D61         0.612500\n",
              "D63         0.831250\n",
              "D65         0.650000\n",
              "D68         0.806250\n",
              "D69         0.806250\n",
              "D70         0.718750\n",
              "D71         0.862500\n",
              "D72         0.843750\n",
              "D73         0.768750\n",
              "D77         0.725000\n",
              "D79         0.762500\n",
              "D80         0.818750\n",
              "D81         0.887500\n",
              "D82         0.806250\n",
              "D84         0.768750\n",
              "D85         0.650000\n",
              "D86         0.800000\n",
              "D87         0.781250\n",
              "D88         0.406250\n",
              "D90         0.806250"
            ],
            "text/html": [
              "\n",
              "  <div id=\"df-d25bfc2a-813b-4f4a-bcd1-e299c5faaa30\">\n",
              "    <div class=\"colab-df-container\">\n",
              "      <div>\n",
              "<style scoped>\n",
              "    .dataframe tbody tr th:only-of-type {\n",
              "        vertical-align: middle;\n",
              "    }\n",
              "\n",
              "    .dataframe tbody tr th {\n",
              "        vertical-align: top;\n",
              "    }\n",
              "\n",
              "    .dataframe thead th {\n",
              "        text-align: right;\n",
              "    }\n",
              "</style>\n",
              "<table border=\"1\" class=\"dataframe\">\n",
              "  <thead>\n",
              "    <tr style=\"text-align: right;\">\n",
              "      <th></th>\n",
              "      <th>RespCorrect</th>\n",
              "    </tr>\n",
              "    <tr>\n",
              "      <th>Subject</th>\n",
              "      <th></th>\n",
              "    </tr>\n",
              "  </thead>\n",
              "  <tbody>\n",
              "    <tr>\n",
              "      <th>D23</th>\n",
              "      <td>0.793750</td>\n",
              "    </tr>\n",
              "    <tr>\n",
              "      <th>D26</th>\n",
              "      <td>0.937500</td>\n",
              "    </tr>\n",
              "    <tr>\n",
              "      <th>D27</th>\n",
              "      <td>0.800000</td>\n",
              "    </tr>\n",
              "    <tr>\n",
              "      <th>D28</th>\n",
              "      <td>0.816993</td>\n",
              "    </tr>\n",
              "    <tr>\n",
              "      <th>D29</th>\n",
              "      <td>0.937500</td>\n",
              "    </tr>\n",
              "    <tr>\n",
              "      <th>D30</th>\n",
              "      <td>0.706250</td>\n",
              "    </tr>\n",
              "    <tr>\n",
              "      <th>D31</th>\n",
              "      <td>0.837500</td>\n",
              "    </tr>\n",
              "    <tr>\n",
              "      <th>D33</th>\n",
              "      <td>0.631016</td>\n",
              "    </tr>\n",
              "    <tr>\n",
              "      <th>D34</th>\n",
              "      <td>0.793750</td>\n",
              "    </tr>\n",
              "    <tr>\n",
              "      <th>D35</th>\n",
              "      <td>0.868750</td>\n",
              "    </tr>\n",
              "    <tr>\n",
              "      <th>D36</th>\n",
              "      <td>0.881250</td>\n",
              "    </tr>\n",
              "    <tr>\n",
              "      <th>D38</th>\n",
              "      <td>0.868750</td>\n",
              "    </tr>\n",
              "    <tr>\n",
              "      <th>D39</th>\n",
              "      <td>0.868750</td>\n",
              "    </tr>\n",
              "    <tr>\n",
              "      <th>D41</th>\n",
              "      <td>0.756250</td>\n",
              "    </tr>\n",
              "    <tr>\n",
              "      <th>D42</th>\n",
              "      <td>0.881250</td>\n",
              "    </tr>\n",
              "    <tr>\n",
              "      <th>D47</th>\n",
              "      <td>0.868750</td>\n",
              "    </tr>\n",
              "    <tr>\n",
              "      <th>D48</th>\n",
              "      <td>0.856250</td>\n",
              "    </tr>\n",
              "    <tr>\n",
              "      <th>D49</th>\n",
              "      <td>0.618750</td>\n",
              "    </tr>\n",
              "    <tr>\n",
              "      <th>D53</th>\n",
              "      <td>0.806250</td>\n",
              "    </tr>\n",
              "    <tr>\n",
              "      <th>D54</th>\n",
              "      <td>0.431250</td>\n",
              "    </tr>\n",
              "    <tr>\n",
              "      <th>D55</th>\n",
              "      <td>0.812500</td>\n",
              "    </tr>\n",
              "    <tr>\n",
              "      <th>D57</th>\n",
              "      <td>0.825000</td>\n",
              "    </tr>\n",
              "    <tr>\n",
              "      <th>D59</th>\n",
              "      <td>0.843750</td>\n",
              "    </tr>\n",
              "    <tr>\n",
              "      <th>D61</th>\n",
              "      <td>0.612500</td>\n",
              "    </tr>\n",
              "    <tr>\n",
              "      <th>D63</th>\n",
              "      <td>0.831250</td>\n",
              "    </tr>\n",
              "    <tr>\n",
              "      <th>D65</th>\n",
              "      <td>0.650000</td>\n",
              "    </tr>\n",
              "    <tr>\n",
              "      <th>D68</th>\n",
              "      <td>0.806250</td>\n",
              "    </tr>\n",
              "    <tr>\n",
              "      <th>D69</th>\n",
              "      <td>0.806250</td>\n",
              "    </tr>\n",
              "    <tr>\n",
              "      <th>D70</th>\n",
              "      <td>0.718750</td>\n",
              "    </tr>\n",
              "    <tr>\n",
              "      <th>D71</th>\n",
              "      <td>0.862500</td>\n",
              "    </tr>\n",
              "    <tr>\n",
              "      <th>D72</th>\n",
              "      <td>0.843750</td>\n",
              "    </tr>\n",
              "    <tr>\n",
              "      <th>D73</th>\n",
              "      <td>0.768750</td>\n",
              "    </tr>\n",
              "    <tr>\n",
              "      <th>D77</th>\n",
              "      <td>0.725000</td>\n",
              "    </tr>\n",
              "    <tr>\n",
              "      <th>D79</th>\n",
              "      <td>0.762500</td>\n",
              "    </tr>\n",
              "    <tr>\n",
              "      <th>D80</th>\n",
              "      <td>0.818750</td>\n",
              "    </tr>\n",
              "    <tr>\n",
              "      <th>D81</th>\n",
              "      <td>0.887500</td>\n",
              "    </tr>\n",
              "    <tr>\n",
              "      <th>D82</th>\n",
              "      <td>0.806250</td>\n",
              "    </tr>\n",
              "    <tr>\n",
              "      <th>D84</th>\n",
              "      <td>0.768750</td>\n",
              "    </tr>\n",
              "    <tr>\n",
              "      <th>D85</th>\n",
              "      <td>0.650000</td>\n",
              "    </tr>\n",
              "    <tr>\n",
              "      <th>D86</th>\n",
              "      <td>0.800000</td>\n",
              "    </tr>\n",
              "    <tr>\n",
              "      <th>D87</th>\n",
              "      <td>0.781250</td>\n",
              "    </tr>\n",
              "    <tr>\n",
              "      <th>D88</th>\n",
              "      <td>0.406250</td>\n",
              "    </tr>\n",
              "    <tr>\n",
              "      <th>D90</th>\n",
              "      <td>0.806250</td>\n",
              "    </tr>\n",
              "  </tbody>\n",
              "</table>\n",
              "</div>\n",
              "      <button class=\"colab-df-convert\" onclick=\"convertToInteractive('df-d25bfc2a-813b-4f4a-bcd1-e299c5faaa30')\"\n",
              "              title=\"Convert this dataframe to an interactive table.\"\n",
              "              style=\"display:none;\">\n",
              "        \n",
              "  <svg xmlns=\"http://www.w3.org/2000/svg\" height=\"24px\"viewBox=\"0 0 24 24\"\n",
              "       width=\"24px\">\n",
              "    <path d=\"M0 0h24v24H0V0z\" fill=\"none\"/>\n",
              "    <path d=\"M18.56 5.44l.94 2.06.94-2.06 2.06-.94-2.06-.94-.94-2.06-.94 2.06-2.06.94zm-11 1L8.5 8.5l.94-2.06 2.06-.94-2.06-.94L8.5 2.5l-.94 2.06-2.06.94zm10 10l.94 2.06.94-2.06 2.06-.94-2.06-.94-.94-2.06-.94 2.06-2.06.94z\"/><path d=\"M17.41 7.96l-1.37-1.37c-.4-.4-.92-.59-1.43-.59-.52 0-1.04.2-1.43.59L10.3 9.45l-7.72 7.72c-.78.78-.78 2.05 0 2.83L4 21.41c.39.39.9.59 1.41.59.51 0 1.02-.2 1.41-.59l7.78-7.78 2.81-2.81c.8-.78.8-2.07 0-2.86zM5.41 20L4 18.59l7.72-7.72 1.47 1.35L5.41 20z\"/>\n",
              "  </svg>\n",
              "      </button>\n",
              "      \n",
              "  <style>\n",
              "    .colab-df-container {\n",
              "      display:flex;\n",
              "      flex-wrap:wrap;\n",
              "      gap: 12px;\n",
              "    }\n",
              "\n",
              "    .colab-df-convert {\n",
              "      background-color: #E8F0FE;\n",
              "      border: none;\n",
              "      border-radius: 50%;\n",
              "      cursor: pointer;\n",
              "      display: none;\n",
              "      fill: #1967D2;\n",
              "      height: 32px;\n",
              "      padding: 0 0 0 0;\n",
              "      width: 32px;\n",
              "    }\n",
              "\n",
              "    .colab-df-convert:hover {\n",
              "      background-color: #E2EBFA;\n",
              "      box-shadow: 0px 1px 2px rgba(60, 64, 67, 0.3), 0px 1px 3px 1px rgba(60, 64, 67, 0.15);\n",
              "      fill: #174EA6;\n",
              "    }\n",
              "\n",
              "    [theme=dark] .colab-df-convert {\n",
              "      background-color: #3B4455;\n",
              "      fill: #D2E3FC;\n",
              "    }\n",
              "\n",
              "    [theme=dark] .colab-df-convert:hover {\n",
              "      background-color: #434B5C;\n",
              "      box-shadow: 0px 1px 3px 1px rgba(0, 0, 0, 0.15);\n",
              "      filter: drop-shadow(0px 1px 2px rgba(0, 0, 0, 0.3));\n",
              "      fill: #FFFFFF;\n",
              "    }\n",
              "  </style>\n",
              "\n",
              "      <script>\n",
              "        const buttonEl =\n",
              "          document.querySelector('#df-d25bfc2a-813b-4f4a-bcd1-e299c5faaa30 button.colab-df-convert');\n",
              "        buttonEl.style.display =\n",
              "          google.colab.kernel.accessAllowed ? 'block' : 'none';\n",
              "\n",
              "        async function convertToInteractive(key) {\n",
              "          const element = document.querySelector('#df-d25bfc2a-813b-4f4a-bcd1-e299c5faaa30');\n",
              "          const dataTable =\n",
              "            await google.colab.kernel.invokeFunction('convertToInteractive',\n",
              "                                                     [key], {});\n",
              "          if (!dataTable) return;\n",
              "\n",
              "          const docLinkHtml = 'Like what you see? Visit the ' +\n",
              "            '<a target=\"_blank\" href=https://colab.research.google.com/notebooks/data_table.ipynb>data table notebook</a>'\n",
              "            + ' to learn more about interactive tables.';\n",
              "          element.innerHTML = '';\n",
              "          dataTable['output_type'] = 'display_data';\n",
              "          await google.colab.output.renderOutput(dataTable, element);\n",
              "          const docLink = document.createElement('div');\n",
              "          docLink.innerHTML = docLinkHtml;\n",
              "          element.appendChild(docLink);\n",
              "        }\n",
              "      </script>\n",
              "    </div>\n",
              "  </div>\n",
              "  "
            ]
          },
          "metadata": {},
          "execution_count": 41
        }
      ]
    },
    {
      "cell_type": "code",
      "source": [
        "options_drop1 = checkset[checkset['RespCorrect'] < 0.75].index\n",
        "new1 = checkset.reset_index()\n",
        "print('The subjects with accuracy less than 75 %')\n",
        "print('The dataset with \"No response\" trials')\n",
        "print(options_drop1)\n",
        "x1 = []\n",
        "for i in new1.Subject.values:\n",
        "  for j in options_drop1:\n",
        "    if i == j:\n",
        "      x1.append(new1.loc[new1['Subject'] == i][['RespCorrect']].values[0][0])\n",
        "print(x1)\n",
        "ieeg1 = ieeg_subset[\n",
        "                        (ieeg_subset['Subject'] != 'D30') &\n",
        "                        (ieeg_subset['Subject'] != 'D33') &\n",
        "                        (ieeg_subset['Subject'] != 'D49') &\n",
        "                        (ieeg_subset['Subject'] != 'D54') &\n",
        "                        (ieeg_subset['Subject'] != 'D61') &\n",
        "                        (ieeg_subset['Subject'] != 'D65') &\n",
        "                        (ieeg_subset['Subject'] != 'D70') &\n",
        "                        (ieeg_subset['Subject'] != 'D77') &\n",
        "                        (ieeg_subset['Subject'] != 'D85') &\n",
        "                        (ieeg_subset['Subject'] != 'D88')\n",
        "                        ]\n",
        "print('Poor performers', len(options_drop1))\n",
        "print('Accuracy without poor performers', ieeg1.RespCorrect.mean())\n",
        "print('')\n",
        "options_drop1 = checkset[checkset['RespCorrect'] < 0.70].index\n",
        "new2 = checkset.reset_index()\n",
        "print('The subjects with accuracy less than 70 %')\n",
        "print('The dataset with \"No response\" trials')\n",
        "print(options_drop1)\n",
        "x1 = []\n",
        "for i in new2.Subject.values:\n",
        "  for j in options_drop1:\n",
        "    if i == j:\n",
        "      x1.append(new2.loc[new2['Subject'] == i][['RespCorrect']].values[0][0])\n",
        "print(x1)\n",
        "ieeg2 = ieeg_subset[\n",
        "                        (ieeg_subset['Subject'] != 'D33') &\n",
        "                        (ieeg_subset['Subject'] != 'D49') &\n",
        "                        (ieeg_subset['Subject'] != 'D54') &\n",
        "                        (ieeg_subset['Subject'] != 'D61') &\n",
        "                        (ieeg_subset['Subject'] != 'D65') &\n",
        "                        (ieeg_subset['Subject'] != 'D85') &\n",
        "                        (ieeg_subset['Subject'] != 'D88')\n",
        "                        ]\n",
        "print('Poor performers', len(options_drop1))\n",
        "print('Accuracy without poor performers', ieeg2.RespCorrect.mean())\n",
        "print('')"
      ],
      "metadata": {
        "colab": {
          "base_uri": "https://localhost:8080/"
        },
        "id": "23zLUdofZckD",
        "outputId": "44aafd03-aeee-4bda-f053-4d3277da3719"
      },
      "execution_count": 48,
      "outputs": [
        {
          "output_type": "stream",
          "name": "stdout",
          "text": [
            "The subjects with accuracy less than 75 %\n",
            "The dataset with \"No response\" trials\n",
            "Index(['D30', 'D33', 'D49', 'D54', 'D61', 'D65', 'D70', 'D77', 'D85', 'D88'], dtype='object', name='Subject')\n",
            "[0.70625, 0.6310160427807486, 0.61875, 0.43125, 0.6125, 0.65, 0.71875, 0.725, 0.65, 0.40625]\n",
            "Poor performers 10\n",
            "Accuracy without poor performers 0.8304570453252418\n",
            "\n",
            "The subjects with accuracy less than 70 %\n",
            "The dataset with \"No response\" trials\n",
            "Index(['D33', 'D49', 'D54', 'D61', 'D65', 'D85', 'D88'], dtype='object', name='Subject')\n",
            "[0.6310160427807486, 0.61875, 0.43125, 0.6125, 0.65, 0.65, 0.40625]\n",
            "Poor performers 7\n",
            "Accuracy without poor performers 0.8209629758386928\n",
            "\n"
          ]
        }
      ]
    },
    {
      "cell_type": "code",
      "source": [
        "ieeg2.shape"
      ],
      "metadata": {
        "colab": {
          "base_uri": "https://localhost:8080/"
        },
        "id": "BDQYYpfWzRsF",
        "outputId": "d4d10d87-b1d4-42a3-cb00-64797ca0d779"
      },
      "execution_count": 49,
      "outputs": [
        {
          "output_type": "execute_result",
          "data": {
            "text/plain": [
              "(5753, 20)"
            ]
          },
          "metadata": {},
          "execution_count": 49
        }
      ]
    },
    {
      "cell_type": "code",
      "source": [
        "print(\n",
        "    'No response trials in the dataset: ',\n",
        "    ieeg2[ieeg2['Resp'] == 'No Response'].shape[0]\n",
        ")"
      ],
      "metadata": {
        "colab": {
          "base_uri": "https://localhost:8080/"
        },
        "id": "ZXc4GxM1zlMi",
        "outputId": "56e938c4-8616-4ab2-da24-c5efc5bc01a1"
      },
      "execution_count": 50,
      "outputs": [
        {
          "output_type": "stream",
          "name": "stdout",
          "text": [
            "No response trials in the dataset:  129\n"
          ]
        }
      ]
    },
    {
      "cell_type": "markdown",
      "source": [
        "Looking into outliers"
      ],
      "metadata": {
        "id": "3nrz0OIN0D_h"
      }
    },
    {
      "cell_type": "code",
      "source": [
        "sns.distplot(ieeg2[ieeg2['Resp'] != 'No Response'][['ReactionTime']].values);"
      ],
      "metadata": {
        "colab": {
          "base_uri": "https://localhost:8080/",
          "height": 625
        },
        "id": "UPWjumfCzlSB",
        "outputId": "6f37e3e3-ad58-41fb-a539-3f855717631b"
      },
      "execution_count": 51,
      "outputs": [
        {
          "output_type": "stream",
          "name": "stderr",
          "text": [
            "<ipython-input-51-326f1ea5e14f>:1: UserWarning: \n",
            "\n",
            "`distplot` is a deprecated function and will be removed in seaborn v0.14.0.\n",
            "\n",
            "Please adapt your code to use either `displot` (a figure-level function with\n",
            "similar flexibility) or `histplot` (an axes-level function for histograms).\n",
            "\n",
            "For a guide to updating your code to use the new functions, please see\n",
            "https://gist.github.com/mwaskom/de44147ed2974457ad6372750bbe5751\n",
            "\n",
            "  sns.distplot(ieeg2[ieeg2['Resp'] != 'No Response'][['ReactionTime']].values);\n"
          ]
        },
        {
          "output_type": "display_data",
          "data": {
            "text/plain": [
              "<Figure size 640x480 with 1 Axes>"
            ],
            "image/png": "[encoded data removed]"
          },
          "metadata": {}
        }
      ]
    },
    {
      "cell_type": "code",
      "source": [
        "print('In seconds')\n",
        "print(\n",
        "    'mean', ieeg2[ieeg2['Resp'] != 'No Response'].ReactionTime.mean(),\n",
        "    'max', ieeg2[ieeg2['Resp'] != 'No Response'].ReactionTime.max(),\n",
        "    'min', ieeg2[ieeg2['Resp'] != 'No Response'].ReactionTime.min())"
      ],
      "metadata": {
        "colab": {
          "base_uri": "https://localhost:8080/"
        },
        "id": "ifJrF92K0Idp",
        "outputId": "a64a7ad8-c8d2-45cc-e1c9-c4d63f9265d9"
      },
      "execution_count": 52,
      "outputs": [
        {
          "output_type": "stream",
          "name": "stdout",
          "text": [
            "In seconds\n",
            "mean 1.1770584772398267 max 26.115354993380606 min 0.016132116317749023\n"
          ]
        }
      ]
    },
    {
      "cell_type": "code",
      "source": [
        "# kicking out all the trials (13) that are below 150 msec, two of the are no response trials\n",
        "ieeg_no_outliers = ieeg2[ieeg2['ReactionTime'] > 0.15]"
      ],
      "metadata": {
        "id": "Nzufnt780IgQ"
      },
      "execution_count": 53,
      "outputs": []
    },
    {
      "cell_type": "code",
      "source": [
        "# kicking out the trial of 26 sec, only 1\n",
        "ieeg_no_outliers = ieeg_no_outliers[ieeg_no_outliers['ReactionTime'] < 25]"
      ],
      "metadata": {
        "id": "X3jAiJMW0IiQ"
      },
      "execution_count": 54,
      "outputs": []
    },
    {
      "cell_type": "code",
      "source": [
        "sns.distplot(ieeg_no_outliers[ieeg_no_outliers['Resp'] != 'No Response'].ReactionTime)\n",
        "pl.title('RT distribution without extreme outliers');\n",
        "print(\n",
        "    'Mean', ieeg_no_outliers[ieeg_no_outliers['Resp'] != 'No Response'].ReactionTime.mean(),\n",
        "    'Max', ieeg_no_outliers[ieeg_no_outliers['Resp'] != 'No Response'].ReactionTime.max(),\n",
        "    'Min', ieeg_no_outliers[ieeg_no_outliers['Resp'] != 'No Response'].ReactionTime.min()\n",
        ")"
      ],
      "metadata": {
        "colab": {
          "base_uri": "https://localhost:8080/",
          "height": 688
        },
        "id": "Ot1bGCng0Img",
        "outputId": "f08912d1-461a-4739-8ee9-f96bb96e1840"
      },
      "execution_count": 55,
      "outputs": [
        {
          "output_type": "stream",
          "name": "stderr",
          "text": [
            "<ipython-input-55-279b2c087aca>:1: UserWarning: \n",
            "\n",
            "`distplot` is a deprecated function and will be removed in seaborn v0.14.0.\n",
            "\n",
            "Please adapt your code to use either `displot` (a figure-level function with\n",
            "similar flexibility) or `histplot` (an axes-level function for histograms).\n",
            "\n",
            "For a guide to updating your code to use the new functions, please see\n",
            "https://gist.github.com/mwaskom/de44147ed2974457ad6372750bbe5751\n",
            "\n",
            "  sns.distplot(ieeg_no_outliers[ieeg_no_outliers['Resp'] != 'No Response'].ReactionTime)\n"
          ]
        },
        {
          "output_type": "stream",
          "name": "stdout",
          "text": [
            "Mean 1.1750487921988788 Max 2.4904961585998535 Min 0.33149156073341146\n"
          ]
        },
        {
          "output_type": "display_data",
          "data": {
            "text/plain": [
              "<Figure size 640x480 with 1 Axes>"
            ],
            "image/png": "[encoded data removed]"
          },
          "metadata": {}
        }
      ]
    },
    {
      "cell_type": "code",
      "source": [
        "values = []\n",
        "for i in ieeg_no_outliers.Subject.unique():\n",
        "  subset = ieeg_no_outliers[ieeg_no_outliers['Subject'] == i]\n",
        "  q75 = np.percentile(subset[subset['Resp'] != 'No Response']['ReactionTime'], 75)\n",
        "  q25 = np.percentile(subset[subset['Resp'] != 'No Response']['ReactionTime'], 25)\n",
        "  inter_qr = q75 - q25\n",
        "  upper = q75 + (inter_qr*3)\n",
        "  lower = q25 - (inter_qr*3)\n",
        "  index = 0\n",
        "  for val in subset[subset['Resp'] != 'No Response'].ReactionTime.values:\n",
        "    if val < lower:\n",
        "      values.append((i, val))\n",
        "      index += 1\n",
        "    elif val > upper:\n",
        "      values.append((i, val))\n",
        "      index += 1\n",
        "  print(i, index)"
      ],
      "metadata": {
        "colab": {
          "base_uri": "https://localhost:8080/"
        },
        "id": "2oNRhrcs0UjB",
        "outputId": "81763c3c-2833-45c8-f5f2-fa717dbe836d"
      },
      "execution_count": 56,
      "outputs": [
        {
          "output_type": "stream",
          "name": "stdout",
          "text": [
            "D23 0\n",
            "D26 2\n",
            "D27 3\n",
            "D28 0\n",
            "D29 3\n",
            "D30 2\n",
            "D31 0\n",
            "D34 2\n",
            "D35 1\n",
            "D36 0\n",
            "D38 3\n",
            "D39 2\n",
            "D41 0\n",
            "D42 0\n",
            "D47 0\n",
            "D48 3\n",
            "D53 0\n",
            "D55 2\n",
            "D57 0\n",
            "D59 0\n",
            "D63 0\n",
            "D68 1\n",
            "D69 0\n",
            "D70 0\n",
            "D71 3\n",
            "D72 0\n",
            "D73 0\n",
            "D77 0\n",
            "D79 0\n",
            "D80 1\n",
            "D81 0\n",
            "D82 0\n",
            "D84 0\n",
            "D86 0\n",
            "D87 5\n",
            "D90 0\n"
          ]
        }
      ]
    },
    {
      "cell_type": "code",
      "source": [
        "len(values)"
      ],
      "metadata": {
        "colab": {
          "base_uri": "https://localhost:8080/"
        },
        "id": "A-1XW1_R0Xt4",
        "outputId": "13cac484-6380-421b-b5cb-9a6c72d525e1"
      },
      "execution_count": 57,
      "outputs": [
        {
          "output_type": "execute_result",
          "data": {
            "text/plain": [
              "33"
            ]
          },
          "metadata": {},
          "execution_count": 57
        }
      ]
    },
    {
      "cell_type": "code",
      "source": [
        "print(shapiro(ieeg_no_outliers[ieeg_no_outliers['Resp'] != 'No Response']['ReactionTime'].values))\n",
        "print(normaltest(ieeg_no_outliers[ieeg_no_outliers['Resp'] != 'No Response']['ReactionTime'].values))"
      ],
      "metadata": {
        "colab": {
          "base_uri": "https://localhost:8080/"
        },
        "id": "mN8bjJQh0a6Y",
        "outputId": "b51d68b9-a71b-40b1-affc-ccc0b8f7f451"
      },
      "execution_count": 58,
      "outputs": [
        {
          "output_type": "stream",
          "name": "stdout",
          "text": [
            "ShapiroResult(statistic=0.9515520930290222, pvalue=1.3967904871650841e-39)\n",
            "NormaltestResult(statistic=604.7864370966629, pvalue=4.702121203909854e-132)\n"
          ]
        },
        {
          "output_type": "stream",
          "name": "stderr",
          "text": [
            "/usr/local/lib/python3.10/dist-packages/scipy/stats/_morestats.py:1816: UserWarning: p-value may not be accurate for N > 5000.\n",
            "  warnings.warn(\"p-value may not be accurate for N > 5000.\")\n"
          ]
        }
      ]
    },
    {
      "cell_type": "code",
      "source": [
        "fitted_data_, fitted_lambda_ = boxcox(ieeg_no_outliers[ieeg_no_outliers['Resp'] != 'No Response']['ReactionTime'].values)"
      ],
      "metadata": {
        "id": "PP6_Kl_l0beJ"
      },
      "execution_count": 59,
      "outputs": []
    },
    {
      "cell_type": "code",
      "source": [
        "fig, ax = plt.subplots(1, 2)\n",
        "sns.distplot(ieeg_no_outliers[ieeg_no_outliers['Resp'] != 'No Response']['ReactionTime'].values, hist = False, kde = True,\n",
        "            label = \"Non-Normal\", color =\"green\", ax = ax[0])\n",
        "\n",
        "sns.distplot(fitted_data_, hist = False, kde = True,\n",
        "            label = \"Normal\", color =\"green\", ax = ax[1]);"
      ],
      "metadata": {
        "colab": {
          "base_uri": "https://localhost:8080/",
          "height": 816
        },
        "id": "6jycFLR-0dvg",
        "outputId": "63e67b1d-f2b7-4d4e-ccfe-78d438607e79"
      },
      "execution_count": 60,
      "outputs": [
        {
          "output_type": "stream",
          "name": "stderr",
          "text": [
            "<ipython-input-60-4dbd3e02ec06>:2: UserWarning: \n",
            "\n",
            "`distplot` is a deprecated function and will be removed in seaborn v0.14.0.\n",
            "\n",
            "Please adapt your code to use either `displot` (a figure-level function with\n",
            "similar flexibility) or `kdeplot` (an axes-level function for kernel density plots).\n",
            "\n",
            "For a guide to updating your code to use the new functions, please see\n",
            "https://gist.github.com/mwaskom/de44147ed2974457ad6372750bbe5751\n",
            "\n",
            "  sns.distplot(ieeg_no_outliers[ieeg_no_outliers['Resp'] != 'No Response']['ReactionTime'].values, hist = False, kde = True,\n",
            "<ipython-input-60-4dbd3e02ec06>:5: UserWarning: \n",
            "\n",
            "`distplot` is a deprecated function and will be removed in seaborn v0.14.0.\n",
            "\n",
            "Please adapt your code to use either `displot` (a figure-level function with\n",
            "similar flexibility) or `kdeplot` (an axes-level function for kernel density plots).\n",
            "\n",
            "For a guide to updating your code to use the new functions, please see\n",
            "https://gist.github.com/mwaskom/de44147ed2974457ad6372750bbe5751\n",
            "\n",
            "  sns.distplot(fitted_data_, hist = False, kde = True,\n"
          ]
        },
        {
          "output_type": "display_data",
          "data": {
            "text/plain": [
              "<Figure size 640x480 with 2 Axes>"
            ],
            "image/png": "[encoded data removed]"
          },
          "metadata": {}
        }
      ]
    },
    {
      "cell_type": "code",
      "source": [
        "print(shapiro(fitted_data_))\n",
        "print(normaltest(fitted_data_))\n",
        "print(fitted_lambda_)"
      ],
      "metadata": {
        "colab": {
          "base_uri": "https://localhost:8080/"
        },
        "id": "6mNcwJNZ0hGg",
        "outputId": "f2b40ace-a897-46f3-f3af-35da022817bb"
      },
      "execution_count": 61,
      "outputs": [
        {
          "output_type": "stream",
          "name": "stdout",
          "text": [
            "ShapiroResult(statistic=0.9980202913284302, pvalue=1.3473726312440704e-06)\n",
            "NormaltestResult(statistic=8.29069186712053, pvalue=0.015837956122998542)\n",
            "-0.08953876332793485\n"
          ]
        },
        {
          "output_type": "stream",
          "name": "stderr",
          "text": [
            "/usr/local/lib/python3.10/dist-packages/scipy/stats/_morestats.py:1816: UserWarning: p-value may not be accurate for N > 5000.\n",
            "  warnings.warn(\"p-value may not be accurate for N > 5000.\")\n"
          ]
        }
      ]
    },
    {
      "cell_type": "code",
      "source": [
        "ieeg_no_outliers[ieeg_no_outliers['Resp'] != 'No Response']['stdRT'] = fitted_data_"
      ],
      "metadata": {
        "colab": {
          "base_uri": "https://localhost:8080/"
        },
        "id": "illpcNg60h7o",
        "outputId": "24e9fa4e-d936-4af7-ab13-8e48d40b1b77"
      },
      "execution_count": 62,
      "outputs": [
        {
          "output_type": "stream",
          "name": "stderr",
          "text": [
            "<ipython-input-62-1ab00667bd79>:1: SettingWithCopyWarning: \n",
            "A value is trying to be set on a copy of a slice from a DataFrame.\n",
            "Try using .loc[row_indexer,col_indexer] = value instead\n",
            "\n",
            "See the caveats in the documentation: https://pandas.pydata.org/pandas-docs/stable/user_guide/indexing.html#returning-a-view-versus-a-copy\n",
            "  ieeg_no_outliers[ieeg_no_outliers['Resp'] != 'No Response']['stdRT'] = fitted_data_\n"
          ]
        }
      ]
    },
    {
      "cell_type": "code",
      "source": [
        "# saving result\n",
        "ieeg_no_outliers.to_csv(\n",
        "    Path(working_path).joinpath('ieeg_processed.csv')\n",
        ")"
      ],
      "metadata": {
        "id": "wjNkXLZd0xwI"
      },
      "execution_count": 63,
      "outputs": []
    },
    {
      "cell_type": "markdown",
      "source": [
        "# EEG dataset"
      ],
      "metadata": {
        "id": "Vj4jI3yoWFb0"
      }
    },
    {
      "cell_type": "code",
      "source": [
        "data_eeg = eeg['Subject'] # contains trials for each of the subjects\n",
        "print('Number of subjects in EEG dataset is', data_eeg.shape[1])"
      ],
      "metadata": {
        "colab": {
          "base_uri": "https://localhost:8080/"
        },
        "id": "fAvRJcTnBjHm",
        "outputId": "84e67785-f53a-4c85-eb73-2e80459dbfd9"
      },
      "execution_count": null,
      "outputs": [
        {
          "output_type": "stream",
          "name": "stdout",
          "text": [
            "Number of subjects in EEG dataset is 29\n"
          ]
        }
      ]
    },
    {
      "cell_type": "code",
      "source": [
        "subjects_eeg = [] # subject numbers\n",
        "for i in range(0, data_eeg.shape[1]):\n",
        "  name = data_eeg[0, i]['Name'][0][0][0]\n",
        "  subjects_eeg.append(name)"
      ],
      "metadata": {
        "id": "K-emRBucWU-0"
      },
      "execution_count": null,
      "outputs": []
    },
    {
      "cell_type": "code",
      "source": [
        "columns_eeg = data_eeg[0, 0]['trialInfo'][0, 0].dtype.names # name of the variables from trial info\n",
        "final_eeg = pd.DataFrame(columns=columns_eeg)\n",
        "final_eeg['Trial'] = np.nan\n",
        "final_eeg['Subject'] = np.nan\n",
        "for subj in range(0, data_eeg.shape[1]): # for each subject\n",
        "  print(subj)\n",
        "  subj_df = get_to_df(data_eeg[0, subj]['trialInfo'][0, 0])\n",
        "  subj_df['Subject'] = subjects_eeg[subj]\n",
        "  final_eeg = pd.concat([final_eeg, subj_df], axis = 0)"
      ],
      "metadata": {
        "colab": {
          "base_uri": "https://localhost:8080/"
        },
        "id": "Gf4XfgEyW90I",
        "outputId": "a17746a2-6507-40ef-b6d7-af48d3222095"
      },
      "execution_count": null,
      "outputs": [
        {
          "output_type": "stream",
          "name": "stdout",
          "text": [
            "0\n",
            "1\n",
            "2\n",
            "3\n",
            "4\n",
            "5\n",
            "6\n",
            "7\n",
            "8\n",
            "9\n",
            "10\n",
            "11\n",
            "12\n",
            "13\n",
            "14\n",
            "15\n",
            "16\n",
            "17\n",
            "18\n",
            "19\n",
            "20\n",
            "21\n",
            "22\n",
            "23\n",
            "24\n",
            "25\n",
            "26\n",
            "27\n",
            "28\n"
          ]
        }
      ]
    },
    {
      "cell_type": "code",
      "source": [
        "final_eeg.columns"
      ],
      "metadata": {
        "colab": {
          "base_uri": "https://localhost:8080/"
        },
        "id": "UeHJ_ZDjaynR",
        "outputId": "19d9f8d4-d9dd-4c2d-a75f-e25b93752d2c"
      },
      "execution_count": null,
      "outputs": [
        {
          "output_type": "execute_result",
          "data": {
            "text/plain": [
              "Index(['Trial', 'Subject', 'Block', 'ProbeType', 'ProbeTypeName',\n",
              "       'StimulusCategory', 'ListenCue', 'ReactionTime', 'KeyCode', 'Response',\n",
              "       'ResponseCorrect', 'Omission', 'StimulusAudioStart',\n",
              "       'StimulusAlignedTrigger', 'DelayPeriodOnset', 'MaintenancePeriodOnset',\n",
              "       'ProbeCueOnset', 'ProbeAudioStart', 'ProbeAlignedTrigger',\n",
              "       'TriggerValueCondition', 'StimulusSounds_idx', 'StimulusSounds_name',\n",
              "       'ProbeCategory', 'ProbeSound_idx', 'ProbeSound_name'],\n",
              "      dtype='object')"
            ]
          },
          "metadata": {},
          "execution_count": 220
        }
      ]
    },
    {
      "cell_type": "markdown",
      "source": [
        "#Preprocessing EEG dataset"
      ],
      "metadata": {
        "id": "Hnblxufgnp27"
      }
    },
    {
      "cell_type": "code",
      "source": [
        "'''eeg = pd.read_csv(\n",
        "    working_path.joinpath('eeg_all.csv'),\n",
        "    index_col=None\n",
        ")'''"
      ],
      "metadata": {
        "id": "Zfp1bgAmoQm5"
      },
      "execution_count": null,
      "outputs": []
    },
    {
      "cell_type": "code",
      "source": [
        "eeg = final_eeg.copy()"
      ],
      "metadata": {
        "id": "FqrTuKDun1Tg"
      },
      "execution_count": null,
      "outputs": []
    },
    {
      "cell_type": "code",
      "source": [
        "eeg.columns"
      ],
      "metadata": {
        "colab": {
          "base_uri": "https://localhost:8080/"
        },
        "id": "D1FHv2T1oK5o",
        "outputId": "6c036dfa-39cc-4fda-bae0-a232411cf748"
      },
      "execution_count": null,
      "outputs": [
        {
          "output_type": "execute_result",
          "data": {
            "text/plain": [
              "Index(['Trial', 'Subject', 'Block', 'ProbeType', 'ProbeTypeName',\n",
              "       'StimulusCategory', 'ListenCue', 'ReactionTime', 'KeyCode', 'Response',\n",
              "       'ResponseCorrect', 'Omission', 'StimulusAudioStart',\n",
              "       'StimulusAlignedTrigger', 'DelayPeriodOnset', 'MaintenancePeriodOnset',\n",
              "       'ProbeCueOnset', 'ProbeAudioStart', 'ProbeAlignedTrigger',\n",
              "       'TriggerValueCondition', 'StimulusSounds_idx', 'StimulusSounds_name',\n",
              "       'ProbeCategory', 'ProbeSound_idx', 'ProbeSound_name'],\n",
              "      dtype='object')"
            ]
          },
          "metadata": {},
          "execution_count": 222
        }
      ]
    },
    {
      "cell_type": "code",
      "source": [
        "#eeg = eeg.loc[:, eeg.columns != 'Unnamed: 0'] # some extra column appeared while uploading data"
      ],
      "metadata": {
        "id": "Rv_h_b-zoNMR"
      },
      "execution_count": null,
      "outputs": []
    },
    {
      "cell_type": "code",
      "source": [
        "eeg.isnull().sum()"
      ],
      "metadata": {
        "colab": {
          "base_uri": "https://localhost:8080/"
        },
        "id": "3GeMkfB7oQSp",
        "outputId": "45f9aca1-a3aa-43a5-9b47-fbfc02c8c969"
      },
      "execution_count": null,
      "outputs": [
        {
          "output_type": "execute_result",
          "data": {
            "text/plain": [
              "Trial                       0\n",
              "Subject                     0\n",
              "Block                       0\n",
              "ProbeType                   0\n",
              "ProbeTypeName               0\n",
              "StimulusCategory            0\n",
              "ListenCue                   0\n",
              "ReactionTime              100\n",
              "KeyCode                     0\n",
              "Response                    0\n",
              "ResponseCorrect             0\n",
              "Omission                    0\n",
              "StimulusAudioStart          0\n",
              "StimulusAlignedTrigger      0\n",
              "DelayPeriodOnset            0\n",
              "MaintenancePeriodOnset      0\n",
              "ProbeCueOnset               0\n",
              "ProbeAudioStart             0\n",
              "ProbeAlignedTrigger         0\n",
              "TriggerValueCondition       0\n",
              "StimulusSounds_idx          0\n",
              "StimulusSounds_name         0\n",
              "ProbeCategory               0\n",
              "ProbeSound_idx              0\n",
              "ProbeSound_name             0\n",
              "dtype: int64"
            ]
          },
          "metadata": {},
          "execution_count": 223
        }
      ]
    },
    {
      "cell_type": "code",
      "source": [
        "print(len(eeg.Subject.unique()))\n",
        "print(eeg.shape)"
      ],
      "metadata": {
        "colab": {
          "base_uri": "https://localhost:8080/"
        },
        "id": "cOWUWFfwoYDw",
        "outputId": "4923577b-abc1-47b7-c11b-8dc7b210b9c5"
      },
      "execution_count": null,
      "outputs": [
        {
          "output_type": "stream",
          "name": "stdout",
          "text": [
            "29\n",
            "(5568, 25)\n"
          ]
        }
      ]
    },
    {
      "cell_type": "code",
      "source": [
        "eeg_subset = eeg[[\n",
        "                 'Trial', 'Subject', 'Block', 'ProbeType', 'ProbeSound_idx',\n",
        "                 'ProbeTypeName', 'StimulusCategory', 'ReactionTime', 'KeyCode',\n",
        "                 'Response', 'ResponseCorrect', 'Omission', 'ProbeCategory',\n",
        "                  'StimulusSounds_name', 'ProbeSound_name', 'StimulusSounds_idx'\n",
        "]]"
      ],
      "metadata": {
        "id": "r83MAhg2ods_"
      },
      "execution_count": null,
      "outputs": []
    },
    {
      "cell_type": "code",
      "source": [
        "eeg_subset.head()"
      ],
      "metadata": {
        "colab": {
          "base_uri": "https://localhost:8080/",
          "height": 392
        },
        "id": "-TBx3mw_od8H",
        "outputId": "b8460bb2-fc27-4dd4-ca55-124026fc3ece"
      },
      "execution_count": null,
      "outputs": [
        {
          "output_type": "execute_result",
          "data": {
            "text/plain": [
              "  Trial Subject Block ProbeType ProbeSound_idx    ProbeTypeName  \\\n",
              "0     0      E2     1         1             21  out_of_sequence   \n",
              "1     1      E2     1         2             38      in_sequence   \n",
              "2     2      E2     1         2             30      in_sequence   \n",
              "3     3      E2     1         2              5      in_sequence   \n",
              "4     4      E2     1         1             13  out_of_sequence   \n",
              "\n",
              "  StimulusCategory  ReactionTime       KeyCode     Response ResponseCorrect  \\\n",
              "0       High Words           NaN  2.Left3.Left  No Response               0   \n",
              "1    Low Non-words      1.282162        2.Left          Yes               1   \n",
              "2        Low Words      0.987854        2.Left          Yes               1   \n",
              "3       High Words      1.588743        2.Left          Yes               1   \n",
              "4    Low Non-words      1.184043        3.Left           No               1   \n",
              "\n",
              "      Omission   ProbeCategory  \\\n",
              "0  No Response       Low Words   \n",
              "1    Responded   Low Non-words   \n",
              "2    Responded       Low Words   \n",
              "3    Responded      High Words   \n",
              "4    Responded  High Non-Words   \n",
              "\n",
              "                                 StimulusSounds_name ProbeSound_name  \\\n",
              "0  [[mon.wav], [pcn.wav], [sik.wav], [kap.wav], [...         Sur.wav   \n",
              "1  [[yuf.wav], [JcG.wav], [kuv.wav], [wEz.wav], [...         ycG.wav   \n",
              "2  [[[tub.wav]], [[fcg.wav]], [[f^j.wav]], [[lcG....         yuT.wav   \n",
              "3  [[fEl.wav], [lEr.wav], [sik.wav], [kap.wav], [...         lEr.wav   \n",
              "4  [[[gWT.wav]], [[kuv.wav]], [[vRn.wav]], [[zRT....         g@n.wav   \n",
              "\n",
              "                       StimulusSounds_idx  \n",
              "0                        [6, 7, 8, 4, 10]  \n",
              "1                    [39, 32, 35, 37, 38]  \n",
              "2  [[27, 23, 22, 24, 25, 29, 26, 28, 30]]  \n",
              "3                         [2, 5, 8, 4, 6]  \n",
              "4          [[34, 35, 36, 40, 39, 33, 37]]  "
            ],
            "text/html": [
              "\n",
              "  <div id=\"df-a43f479b-aea9-4a26-a816-8c92a5f69c32\">\n",
              "    <div class=\"colab-df-container\">\n",
              "      <div>\n",
              "<style scoped>\n",
              "    .dataframe tbody tr th:only-of-type {\n",
              "        vertical-align: middle;\n",
              "    }\n",
              "\n",
              "    .dataframe tbody tr th {\n",
              "        vertical-align: top;\n",
              "    }\n",
              "\n",
              "    .dataframe thead th {\n",
              "        text-align: right;\n",
              "    }\n",
              "</style>\n",
              "<table border=\"1\" class=\"dataframe\">\n",
              "  <thead>\n",
              "    <tr style=\"text-align: right;\">\n",
              "      <th></th>\n",
              "      <th>Trial</th>\n",
              "      <th>Subject</th>\n",
              "      <th>Block</th>\n",
              "      <th>ProbeType</th>\n",
              "      <th>ProbeSound_idx</th>\n",
              "      <th>ProbeTypeName</th>\n",
              "      <th>StimulusCategory</th>\n",
              "      <th>ReactionTime</th>\n",
              "      <th>KeyCode</th>\n",
              "      <th>Response</th>\n",
              "      <th>ResponseCorrect</th>\n",
              "      <th>Omission</th>\n",
              "      <th>ProbeCategory</th>\n",
              "      <th>StimulusSounds_name</th>\n",
              "      <th>ProbeSound_name</th>\n",
              "      <th>StimulusSounds_idx</th>\n",
              "    </tr>\n",
              "  </thead>\n",
              "  <tbody>\n",
              "    <tr>\n",
              "      <th>0</th>\n",
              "      <td>0</td>\n",
              "      <td>E2</td>\n",
              "      <td>1</td>\n",
              "      <td>1</td>\n",
              "      <td>21</td>\n",
              "      <td>out_of_sequence</td>\n",
              "      <td>High Words</td>\n",
              "      <td>NaN</td>\n",
              "      <td>2.Left3.Left</td>\n",
              "      <td>No Response</td>\n",
              "      <td>0</td>\n",
              "      <td>No Response</td>\n",
              "      <td>Low Words</td>\n",
              "      <td>[[mon.wav], [pcn.wav], [sik.wav], [kap.wav], [...</td>\n",
              "      <td>Sur.wav</td>\n",
              "      <td>[6, 7, 8, 4, 10]</td>\n",
              "    </tr>\n",
              "    <tr>\n",
              "      <th>1</th>\n",
              "      <td>1</td>\n",
              "      <td>E2</td>\n",
              "      <td>1</td>\n",
              "      <td>2</td>\n",
              "      <td>38</td>\n",
              "      <td>in_sequence</td>\n",
              "      <td>Low Non-words</td>\n",
              "      <td>1.282162</td>\n",
              "      <td>2.Left</td>\n",
              "      <td>Yes</td>\n",
              "      <td>1</td>\n",
              "      <td>Responded</td>\n",
              "      <td>Low Non-words</td>\n",
              "      <td>[[yuf.wav], [JcG.wav], [kuv.wav], [wEz.wav], [...</td>\n",
              "      <td>ycG.wav</td>\n",
              "      <td>[39, 32, 35, 37, 38]</td>\n",
              "    </tr>\n",
              "    <tr>\n",
              "      <th>2</th>\n",
              "      <td>2</td>\n",
              "      <td>E2</td>\n",
              "      <td>1</td>\n",
              "      <td>2</td>\n",
              "      <td>30</td>\n",
              "      <td>in_sequence</td>\n",
              "      <td>Low Words</td>\n",
              "      <td>0.987854</td>\n",
              "      <td>2.Left</td>\n",
              "      <td>Yes</td>\n",
              "      <td>1</td>\n",
              "      <td>Responded</td>\n",
              "      <td>Low Words</td>\n",
              "      <td>[[[tub.wav]], [[fcg.wav]], [[f^j.wav]], [[lcG....</td>\n",
              "      <td>yuT.wav</td>\n",
              "      <td>[[27, 23, 22, 24, 25, 29, 26, 28, 30]]</td>\n",
              "    </tr>\n",
              "    <tr>\n",
              "      <th>3</th>\n",
              "      <td>3</td>\n",
              "      <td>E2</td>\n",
              "      <td>1</td>\n",
              "      <td>2</td>\n",
              "      <td>5</td>\n",
              "      <td>in_sequence</td>\n",
              "      <td>High Words</td>\n",
              "      <td>1.588743</td>\n",
              "      <td>2.Left</td>\n",
              "      <td>Yes</td>\n",
              "      <td>1</td>\n",
              "      <td>Responded</td>\n",
              "      <td>High Words</td>\n",
              "      <td>[[fEl.wav], [lEr.wav], [sik.wav], [kap.wav], [...</td>\n",
              "      <td>lEr.wav</td>\n",
              "      <td>[2, 5, 8, 4, 6]</td>\n",
              "    </tr>\n",
              "    <tr>\n",
              "      <th>4</th>\n",
              "      <td>4</td>\n",
              "      <td>E2</td>\n",
              "      <td>1</td>\n",
              "      <td>1</td>\n",
              "      <td>13</td>\n",
              "      <td>out_of_sequence</td>\n",
              "      <td>Low Non-words</td>\n",
              "      <td>1.184043</td>\n",
              "      <td>3.Left</td>\n",
              "      <td>No</td>\n",
              "      <td>1</td>\n",
              "      <td>Responded</td>\n",
              "      <td>High Non-Words</td>\n",
              "      <td>[[[gWT.wav]], [[kuv.wav]], [[vRn.wav]], [[zRT....</td>\n",
              "      <td>g@n.wav</td>\n",
              "      <td>[[34, 35, 36, 40, 39, 33, 37]]</td>\n",
              "    </tr>\n",
              "  </tbody>\n",
              "</table>\n",
              "</div>\n",
              "      <button class=\"colab-df-convert\" onclick=\"convertToInteractive('df-a43f479b-aea9-4a26-a816-8c92a5f69c32')\"\n",
              "              title=\"Convert this dataframe to an interactive table.\"\n",
              "              style=\"display:none;\">\n",
              "        \n",
              "  <svg xmlns=\"http://www.w3.org/2000/svg\" height=\"24px\"viewBox=\"0 0 24 24\"\n",
              "       width=\"24px\">\n",
              "    <path d=\"M0 0h24v24H0V0z\" fill=\"none\"/>\n",
              "    <path d=\"M18.56 5.44l.94 2.06.94-2.06 2.06-.94-2.06-.94-.94-2.06-.94 2.06-2.06.94zm-11 1L8.5 8.5l.94-2.06 2.06-.94-2.06-.94L8.5 2.5l-.94 2.06-2.06.94zm10 10l.94 2.06.94-2.06 2.06-.94-2.06-.94-.94-2.06-.94 2.06-2.06.94z\"/><path d=\"M17.41 7.96l-1.37-1.37c-.4-.4-.92-.59-1.43-.59-.52 0-1.04.2-1.43.59L10.3 9.45l-7.72 7.72c-.78.78-.78 2.05 0 2.83L4 21.41c.39.39.9.59 1.41.59.51 0 1.02-.2 1.41-.59l7.78-7.78 2.81-2.81c.8-.78.8-2.07 0-2.86zM5.41 20L4 18.59l7.72-7.72 1.47 1.35L5.41 20z\"/>\n",
              "  </svg>\n",
              "      </button>\n",
              "      \n",
              "  <style>\n",
              "    .colab-df-container {\n",
              "      display:flex;\n",
              "      flex-wrap:wrap;\n",
              "      gap: 12px;\n",
              "    }\n",
              "\n",
              "    .colab-df-convert {\n",
              "      background-color: #E8F0FE;\n",
              "      border: none;\n",
              "      border-radius: 50%;\n",
              "      cursor: pointer;\n",
              "      display: none;\n",
              "      fill: #1967D2;\n",
              "      height: 32px;\n",
              "      padding: 0 0 0 0;\n",
              "      width: 32px;\n",
              "    }\n",
              "\n",
              "    .colab-df-convert:hover {\n",
              "      background-color: #E2EBFA;\n",
              "      box-shadow: 0px 1px 2px rgba(60, 64, 67, 0.3), 0px 1px 3px 1px rgba(60, 64, 67, 0.15);\n",
              "      fill: #174EA6;\n",
              "    }\n",
              "\n",
              "    [theme=dark] .colab-df-convert {\n",
              "      background-color: #3B4455;\n",
              "      fill: #D2E3FC;\n",
              "    }\n",
              "\n",
              "    [theme=dark] .colab-df-convert:hover {\n",
              "      background-color: #434B5C;\n",
              "      box-shadow: 0px 1px 3px 1px rgba(0, 0, 0, 0.15);\n",
              "      filter: drop-shadow(0px 1px 2px rgba(0, 0, 0, 0.3));\n",
              "      fill: #FFFFFF;\n",
              "    }\n",
              "  </style>\n",
              "\n",
              "      <script>\n",
              "        const buttonEl =\n",
              "          document.querySelector('#df-a43f479b-aea9-4a26-a816-8c92a5f69c32 button.colab-df-convert');\n",
              "        buttonEl.style.display =\n",
              "          google.colab.kernel.accessAllowed ? 'block' : 'none';\n",
              "\n",
              "        async function convertToInteractive(key) {\n",
              "          const element = document.querySelector('#df-a43f479b-aea9-4a26-a816-8c92a5f69c32');\n",
              "          const dataTable =\n",
              "            await google.colab.kernel.invokeFunction('convertToInteractive',\n",
              "                                                     [key], {});\n",
              "          if (!dataTable) return;\n",
              "\n",
              "          const docLinkHtml = 'Like what you see? Visit the ' +\n",
              "            '<a target=\"_blank\" href=https://colab.research.google.com/notebooks/data_table.ipynb>data table notebook</a>'\n",
              "            + ' to learn more about interactive tables.';\n",
              "          element.innerHTML = '';\n",
              "          dataTable['output_type'] = 'display_data';\n",
              "          await google.colab.output.renderOutput(dataTable, element);\n",
              "          const docLink = document.createElement('div');\n",
              "          docLink.innerHTML = docLinkHtml;\n",
              "          element.appendChild(docLink);\n",
              "        }\n",
              "      </script>\n",
              "    </div>\n",
              "  </div>\n",
              "  "
            ]
          },
          "metadata": {},
          "execution_count": 91
        }
      ]
    },
    {
      "cell_type": "code",
      "source": [
        "# check whether any response accuracy is less than 75%\n",
        "(eeg_subset.groupby(['Subject'])['ResponseCorrect'].mean() < 0.75).any()"
      ],
      "metadata": {
        "colab": {
          "base_uri": "https://localhost:8080/"
        },
        "id": "w89_rxalod-f",
        "outputId": "0b1c5b47-e6cd-44b1-f2fd-d58cf332f473"
      },
      "execution_count": null,
      "outputs": [
        {
          "output_type": "execute_result",
          "data": {
            "text/plain": [
              "False"
            ]
          },
          "metadata": {},
          "execution_count": 226
        }
      ]
    },
    {
      "cell_type": "code",
      "source": [
        "eeg_subset.groupby(['Subject'])['ResponseCorrect'].mean()"
      ],
      "metadata": {
        "colab": {
          "base_uri": "https://localhost:8080/"
        },
        "id": "xGOQ23dMoeCX",
        "outputId": "c518033d-f015-4213-99fe-12ccbef92300"
      },
      "execution_count": null,
      "outputs": [
        {
          "output_type": "execute_result",
          "data": {
            "text/plain": [
              "Subject\n",
              "E10    0.911458\n",
              "E11    0.895833\n",
              "E12    0.859375\n",
              "E13    0.833333\n",
              "E15    0.817708\n",
              "E16    0.890625\n",
              "E17    0.791667\n",
              "E18    0.947917\n",
              "E2     0.875000\n",
              "E20    0.817708\n",
              "E21    0.812500\n",
              "E22    0.833333\n",
              "E23    0.864583\n",
              "E24    0.828125\n",
              "E25    0.833333\n",
              "E26    0.843750\n",
              "E27    0.765625\n",
              "E28    0.901042\n",
              "E29    0.817708\n",
              "E3     0.885417\n",
              "E30    0.885417\n",
              "E31    0.890625\n",
              "E33    0.953125\n",
              "E4     0.791667\n",
              "E5     0.880208\n",
              "E6     0.755208\n",
              "E7     0.864583\n",
              "E8     0.875000\n",
              "E9     0.921875\n",
              "Name: ResponseCorrect, dtype: float64"
            ]
          },
          "metadata": {},
          "execution_count": 227
        }
      ]
    },
    {
      "cell_type": "code",
      "source": [
        "whole_list = eeg_subset['StimulusSounds_idx'].values\n",
        "new_sound_idx = []\n",
        "for i in whole_list:\n",
        "  if type(i) is list:\n",
        "    new_sound_idx.append(i)\n",
        "  elif type(i) is np.ndarray:\n",
        "    new_sound_idx.append(i[0].tolist())\n",
        "  else:\n",
        "    print(type(i))\n",
        "    print(len(new_sound_idx))\n",
        "    break"
      ],
      "metadata": {
        "id": "f3Vjjf9LprH-"
      },
      "execution_count": null,
      "outputs": []
    },
    {
      "cell_type": "code",
      "source": [
        "eeg_subset['StimulusSounds_idx'] = new_sound_idx"
      ],
      "metadata": {
        "colab": {
          "base_uri": "https://localhost:8080/"
        },
        "id": "cfJAdF7VsEJj",
        "outputId": "941fcab4-1288-4c7f-ce79-71a4f11c6b38"
      },
      "execution_count": null,
      "outputs": [
        {
          "output_type": "stream",
          "name": "stderr",
          "text": [
            "<ipython-input-229-6042217f2404>:1: SettingWithCopyWarning: \n",
            "A value is trying to be set on a copy of a slice from a DataFrame.\n",
            "Try using .loc[row_indexer,col_indexer] = value instead\n",
            "\n",
            "See the caveats in the documentation: https://pandas.pydata.org/pandas-docs/stable/user_guide/indexing.html#returning-a-view-versus-a-copy\n",
            "  eeg_subset['StimulusSounds_idx'] = new_sound_idx\n"
          ]
        }
      ]
    },
    {
      "cell_type": "code",
      "source": [
        "# checking the length of word lists presented\n",
        "compare = []\n",
        "for i in new_sound_idx:\n",
        "  length = len(i)\n",
        "  if length not in compare:\n",
        "    compare.append(length)\n",
        "print(compare)"
      ],
      "metadata": {
        "colab": {
          "base_uri": "https://localhost:8080/"
        },
        "id": "8ShyB_p-q45G",
        "outputId": "ce78a3e7-5692-4376-e472-6c70ba9e4ac6"
      },
      "execution_count": null,
      "outputs": [
        {
          "output_type": "stream",
          "name": "stdout",
          "text": [
            "[5, 9, 7, 3]\n"
          ]
        }
      ]
    },
    {
      "cell_type": "code",
      "source": [
        "# calculating relative position of the word in the list\n",
        "# pos for only in seqence trials: probe sound index and stimulus sound index\n",
        "# beginning middle or end\n",
        "positions = [] # for the new 'position' column in df\n",
        "# 1 - beginning, 2 - middle, 3 - end\n",
        "ind = eeg_subset['ProbeSound_idx'].values\n",
        "in_out = eeg_subset['ProbeType'].values\n",
        "for i in range(0, len(ind)):\n",
        "  if in_out[i] == 2: # if it is in sequence\n",
        "    if ind[i] in new_sound_idx[i]:\n",
        "      # for length of the list 3\n",
        "      if len(new_sound_idx[i]) == 3:\n",
        "        if new_sound_idx[i].index(ind[i]) == 0:\n",
        "          positions.append(1) # beginning\n",
        "        elif new_sound_idx[i].index(ind[i]) == 1:\n",
        "          positions.append(2) # middle\n",
        "        elif new_sound_idx[i].index(ind[i]) == 2:\n",
        "          positions.append(3) # end\n",
        "\n",
        "      # for length of the list 5\n",
        "      ## revise!\n",
        "      elif len(new_sound_idx[i]) == 5:\n",
        "        if new_sound_idx[i].index(ind[i]) in [0, 1]:\n",
        "          positions.append(1) # beginning\n",
        "        elif new_sound_idx[i].index(ind[i]) == 2:\n",
        "          positions.append(2) # middle\n",
        "        elif new_sound_idx[i].index(ind[i]) in [3, 4]:\n",
        "          positions.append(3) # end\n",
        "\n",
        "      # for length of the list 7\n",
        "      elif len(new_sound_idx[i]) == 7:\n",
        "        if new_sound_idx[i].index(ind[i]) in [0, 1]:\n",
        "          positions.append(1) # beginning\n",
        "        elif new_sound_idx[i].index(ind[i]) in [2, 3, 4]:\n",
        "          positions.append(2) # middle\n",
        "        elif new_sound_idx[i].index(ind[i]) in [5, 6]:\n",
        "          positions.append(3) # end\n",
        "\n",
        "      # for length of the list 9\n",
        "      elif len(new_sound_idx[i]) == 9:\n",
        "        if new_sound_idx[i].index(ind[i]) in [0, 1, 2]:\n",
        "          positions.append(1) # beginning\n",
        "        elif new_sound_idx[i].index(ind[i]) in [3, 4, 5]:\n",
        "          positions.append(2) # middle\n",
        "        elif new_sound_idx[i].index(ind[i]) in [6, 7, 8]:\n",
        "          positions.append(3) # end\n",
        "    else:\n",
        "      print('Check', i)\n",
        "      break\n",
        "  elif in_out[i] == 1:\n",
        "    positions.append(0) # if it is out of sequence it is not in the list\n",
        "  else:\n",
        "    print('Check', i)\n",
        "    break"
      ],
      "metadata": {
        "id": "Izk-IMy8q49t"
      },
      "execution_count": null,
      "outputs": []
    },
    {
      "cell_type": "code",
      "source": [
        "length = []\n",
        "for i in eeg_subset.StimulusSounds_idx:\n",
        "  length.append(len(i))"
      ],
      "metadata": {
        "id": "Rv9jLDC9q5AV"
      },
      "execution_count": null,
      "outputs": []
    },
    {
      "cell_type": "code",
      "source": [
        "eeg_subset['Position'] = positions\n",
        "eeg_subset['Length'] = length"
      ],
      "metadata": {
        "colab": {
          "base_uri": "https://localhost:8080/"
        },
        "id": "NO5VYiWkq5C2",
        "outputId": "8f7f9d1d-102c-438b-a092-4e86b348e1cc"
      },
      "execution_count": null,
      "outputs": [
        {
          "output_type": "stream",
          "name": "stderr",
          "text": [
            "<ipython-input-233-25a45b78502a>:1: SettingWithCopyWarning: \n",
            "A value is trying to be set on a copy of a slice from a DataFrame.\n",
            "Try using .loc[row_indexer,col_indexer] = value instead\n",
            "\n",
            "See the caveats in the documentation: https://pandas.pydata.org/pandas-docs/stable/user_guide/indexing.html#returning-a-view-versus-a-copy\n",
            "  eeg_subset['Position'] = positions\n",
            "<ipython-input-233-25a45b78502a>:2: SettingWithCopyWarning: \n",
            "A value is trying to be set on a copy of a slice from a DataFrame.\n",
            "Try using .loc[row_indexer,col_indexer] = value instead\n",
            "\n",
            "See the caveats in the documentation: https://pandas.pydata.org/pandas-docs/stable/user_guide/indexing.html#returning-a-view-versus-a-copy\n",
            "  eeg_subset['Length'] = length\n"
          ]
        }
      ]
    },
    {
      "cell_type": "code",
      "source": [
        "# types in ProbeCategory column differ in case\n",
        "# here we make them lowrcase\n",
        "new_probe = []\n",
        "for i in eeg_subset.ProbeCategory.values:\n",
        "  new_probe.append(i.lower())\n",
        "eeg_subset['ProbeCategory'] = new_probe"
      ],
      "metadata": {
        "colab": {
          "base_uri": "https://localhost:8080/"
        },
        "id": "8o3qcWMZsrAB",
        "outputId": "fc15cff2-711d-4ec3-b5a1-287671035199"
      },
      "execution_count": null,
      "outputs": [
        {
          "output_type": "stream",
          "name": "stderr",
          "text": [
            "<ipython-input-234-07ed8a5c37a8>:6: SettingWithCopyWarning: \n",
            "A value is trying to be set on a copy of a slice from a DataFrame.\n",
            "Try using .loc[row_indexer,col_indexer] = value instead\n",
            "\n",
            "See the caveats in the documentation: https://pandas.pydata.org/pandas-docs/stable/user_guide/indexing.html#returning-a-view-versus-a-copy\n",
            "  eeg_subset['ProbeCategory'] = new_probe\n"
          ]
        }
      ]
    },
    {
      "cell_type": "markdown",
      "source": [
        "Standardizing RT"
      ],
      "metadata": {
        "id": "EfZieLFQtDKZ"
      }
    },
    {
      "cell_type": "code",
      "source": [
        "pl.figure(figsize = (7, 7))\n",
        "ax = sns.boxplot(y=\"ReactionTime\", data=eeg_subset)\n",
        "pl.title(\"Distribution of RT values\");"
      ],
      "metadata": {
        "colab": {
          "base_uri": "https://localhost:8080/",
          "height": 427
        },
        "id": "mlOKivjBtAqJ",
        "outputId": "80cc212d-b470-453b-acb6-52747ff8ce6b"
      },
      "execution_count": null,
      "outputs": [
        {
          "output_type": "display_data",
          "data": {
            "text/plain": [
              "<Figure size 504x504 with 1 Axes>"
            ],
            "image/png": "[encoded data removed]"
          },
          "metadata": {
            "needs_background": "light"
          }
        }
      ]
    },
    {
      "cell_type": "code",
      "source": [
        "# check for outliers outside\n",
        "eeg_no_outliers = eeg_subset.copy()\n",
        "q75 = np.percentile(eeg_no_outliers['ReactionTime'], 75)\n",
        "q25 = np.percentile(eeg_no_outliers['ReactionTime'], 25)\n",
        "inter_qr = q75 - q25\n",
        "upper = q75 + (inter_qr*1.5)\n",
        "lower = q25 - (inter_qr*1.5)\n",
        "col_new = []\n",
        "index = 0\n",
        "for value in eeg_no_outliers['ReactionTime'].values:\n",
        "  if value < lower:\n",
        "    col_new.append(np.nan)\n",
        "    index += 1\n",
        "  elif value > upper:\n",
        "    col_new.append(np.nan)\n",
        "    index += 1\n",
        "  else:\n",
        "    col_new.append(value)\n",
        "print(index)"
      ],
      "metadata": {
        "colab": {
          "base_uri": "https://localhost:8080/"
        },
        "id": "N5igoRe4tHXp",
        "outputId": "fe08e0bd-8959-4a05-b9b0-562fc091ac2b"
      },
      "execution_count": null,
      "outputs": [
        {
          "output_type": "stream",
          "name": "stdout",
          "text": [
            "0\n"
          ]
        }
      ]
    },
    {
      "cell_type": "markdown",
      "source": [
        "No outliers in the EEG dataset"
      ],
      "metadata": {
        "id": "mdR3fZrYtJeB"
      }
    },
    {
      "cell_type": "code",
      "source": [
        "# standardization with RT without outliers\n",
        "rt = eeg_subset[eeg_subset['Response'] != 'No Response'].ReactionTime.values\n",
        "rt_mean = rt.mean()\n",
        "rt_std = rt.std()\n",
        "newRT = []\n",
        "for i in eeg_subset.ReactionTime.values:\n",
        "  if math.isnan(i) == True:\n",
        "    newRT.append(i)\n",
        "  else:\n",
        "    newRT.append((i - rt_mean)/rt_std)"
      ],
      "metadata": {
        "id": "T4SLA8dFtKq5"
      },
      "execution_count": null,
      "outputs": []
    },
    {
      "cell_type": "code",
      "source": [
        "eeg_subset['stdRT'] = newRT"
      ],
      "metadata": {
        "colab": {
          "base_uri": "https://localhost:8080/"
        },
        "id": "ChmxPXnrtP4g",
        "outputId": "2f51655b-1cd1-4f48-cf2a-4ca1026ee96e"
      },
      "execution_count": null,
      "outputs": [
        {
          "output_type": "stream",
          "name": "stderr",
          "text": [
            "<ipython-input-238-af2a9f2fc113>:1: SettingWithCopyWarning: \n",
            "A value is trying to be set on a copy of a slice from a DataFrame.\n",
            "Try using .loc[row_indexer,col_indexer] = value instead\n",
            "\n",
            "See the caveats in the documentation: https://pandas.pydata.org/pandas-docs/stable/user_guide/indexing.html#returning-a-view-versus-a-copy\n",
            "  eeg_subset['stdRT'] = newRT\n"
          ]
        }
      ]
    },
    {
      "cell_type": "code",
      "source": [
        "pl.figure(figsize = (7, 7))\n",
        "ax = sns.boxplot(y=\"stdRT\", data=eeg_subset)\n",
        "pl.title(\"Distribution of standardized RT values\");"
      ],
      "metadata": {
        "colab": {
          "base_uri": "https://localhost:8080/",
          "height": 427
        },
        "id": "ebBi6ciLtYuR",
        "outputId": "620bee97-33a1-4f73-bdb4-f9b3c231e1d2"
      },
      "execution_count": null,
      "outputs": [
        {
          "output_type": "display_data",
          "data": {
            "text/plain": [
              "<Figure size 504x504 with 1 Axes>"
            ],
            "image/png": "[encoded data removed]"
          },
          "metadata": {
            "needs_background": "light"
          }
        }
      ]
    },
    {
      "cell_type": "code",
      "source": [
        "# upper plot - with outliers, lower plots - without\n",
        "pl.figure(figsize = (20, 10))\n",
        "sns.displot(eeg_subset['ReactionTime']);\n",
        "sns.displot(eeg_subset['stdRT']);"
      ],
      "metadata": {
        "colab": {
          "base_uri": "https://localhost:8080/",
          "height": 738
        },
        "id": "dA5bXGAgtdH4",
        "outputId": "83aa3d81-fb3b-4b5f-df2e-9a14f5f47020"
      },
      "execution_count": null,
      "outputs": [
        {
          "output_type": "display_data",
          "data": {
            "text/plain": [
              "<Figure size 1440x720 with 0 Axes>"
            ]
          },
          "metadata": {}
        },
        {
          "output_type": "display_data",
          "data": {
            "text/plain": [
              "<Figure size 360x360 with 1 Axes>"
            ],
            "image/png": "[encoded data removed]"
          },
          "metadata": {
            "needs_background": "light"
          }
        },
        {
          "output_type": "display_data",
          "data": {
            "text/plain": [
              "<Figure size 360x360 with 1 Axes>"
            ],
            "image/png": "[encoded data removed]"
          },
          "metadata": {
            "needs_background": "light"
          }
        }
      ]
    },
    {
      "cell_type": "code",
      "source": [
        "lex = []\n",
        "phon = []\n",
        "for i in eeg_subset.ProbeCategory.values:\n",
        "  if 'non-words' in i: # non - words = 0, words = 0\n",
        "    lex.append(0)\n",
        "  elif 'words' in i:\n",
        "    lex.append(1)\n",
        "for i in eeg_subset.ProbeCategory.values:\n",
        "  if 'low' in i: # low = 1 high = 0\n",
        "    phon.append(1)\n",
        "  elif 'high' in i:\n",
        "    phon.append(0)\n",
        "print(len(lex))\n",
        "print(len(phon))"
      ],
      "metadata": {
        "colab": {
          "base_uri": "https://localhost:8080/"
        },
        "id": "MIv7ybl6tYww",
        "outputId": "b252c07c-aa13-4654-8ee1-a19bc4641020"
      },
      "execution_count": null,
      "outputs": [
        {
          "output_type": "stream",
          "name": "stdout",
          "text": [
            "5568\n",
            "5568\n"
          ]
        }
      ]
    },
    {
      "cell_type": "code",
      "source": [
        "eeg_subset['Lex'] = lex\n",
        "eeg_subset['Phono'] = phon"
      ],
      "metadata": {
        "colab": {
          "base_uri": "https://localhost:8080/"
        },
        "id": "_vsivkuGtY1S",
        "outputId": "106af901-5213-4eb7-ac9b-cab57104a92c"
      },
      "execution_count": null,
      "outputs": [
        {
          "output_type": "stream",
          "name": "stderr",
          "text": [
            "<ipython-input-242-900deb494d65>:1: SettingWithCopyWarning: \n",
            "A value is trying to be set on a copy of a slice from a DataFrame.\n",
            "Try using .loc[row_indexer,col_indexer] = value instead\n",
            "\n",
            "See the caveats in the documentation: https://pandas.pydata.org/pandas-docs/stable/user_guide/indexing.html#returning-a-view-versus-a-copy\n",
            "  eeg_subset['Lex'] = lex\n",
            "<ipython-input-242-900deb494d65>:2: SettingWithCopyWarning: \n",
            "A value is trying to be set on a copy of a slice from a DataFrame.\n",
            "Try using .loc[row_indexer,col_indexer] = value instead\n",
            "\n",
            "See the caveats in the documentation: https://pandas.pydata.org/pandas-docs/stable/user_guide/indexing.html#returning-a-view-versus-a-copy\n",
            "  eeg_subset['Phono'] = phon\n"
          ]
        }
      ]
    },
    {
      "cell_type": "markdown",
      "source": [
        "##Stats on EEG"
      ],
      "metadata": {
        "id": "7GHtZbGOxQ5J"
      }
    },
    {
      "cell_type": "code",
      "source": [
        "print(\n",
        "    'Accuracy without \"No response\" trials',\n",
        "    eeg_subset[eeg_subset['Response'] != 'No Response'].ResponseCorrect.mean()\n",
        ")\n",
        "print(\n",
        "    'Accuracy with \"No response\" trials',\n",
        "    eeg_subset.ResponseCorrect.mean()\n",
        ")\n",
        ""
      ],
      "metadata": {
        "colab": {
          "base_uri": "https://localhost:8080/"
        },
        "id": "V5dvdla-xMBo",
        "outputId": "3af2b197-7e6b-4148-f121-530272a333bc"
      },
      "execution_count": null,
      "outputs": [
        {
          "output_type": "stream",
          "name": "stdout",
          "text": [
            "Accuracy without \"No response\" trials 0.8723482077542063\n",
            "Accuracy with \"No response\" trials 0.8566810344827587\n"
          ]
        }
      ]
    },
    {
      "cell_type": "code",
      "source": [
        "print('Shape of the dataset with no response trials', eeg_subset.shape)\n",
        "print('Shape of the dataset without no response trials', eeg_subset[eeg_subset['Response'] != 'No Response'].shape)"
      ],
      "metadata": {
        "colab": {
          "base_uri": "https://localhost:8080/"
        },
        "id": "BoJN4NOZxMGv",
        "outputId": "b184c231-d080-4fed-8417-f52d73e4efb3"
      },
      "execution_count": null,
      "outputs": [
        {
          "output_type": "stream",
          "name": "stdout",
          "text": [
            "Shape of the dataset with no response trials (5568, 21)\n",
            "Shape of the dataset without no response trials (5468, 21)\n"
          ]
        }
      ]
    },
    {
      "cell_type": "code",
      "source": [
        "sns.distplot(eeg_subset[eeg_subset['Response'] != 'No Response'].ReactionTime)\n",
        "pl.title('RT distribution');\n",
        "print(\n",
        "    'Mean', eeg_subset[eeg_subset['Response'] != 'No Response'].ReactionTime.mean(),\n",
        "    'Max', eeg_subset[eeg_subset['Response'] != 'No Response'].ReactionTime.max(),\n",
        "    'Min', eeg_subset[eeg_subset['Response'] != 'No Response'].ReactionTime.min()\n",
        ")"
      ],
      "metadata": {
        "colab": {
          "base_uri": "https://localhost:8080/",
          "height": 373
        },
        "id": "d7f1iCwtxZVF",
        "outputId": "39b85cfb-f8e4-4abe-c76d-42e0ceb4015c"
      },
      "execution_count": null,
      "outputs": [
        {
          "output_type": "stream",
          "name": "stderr",
          "text": [
            "/usr/local/lib/python3.8/dist-packages/seaborn/distributions.py:2619: FutureWarning: `distplot` is a deprecated function and will be removed in a future version. Please adapt your code to use either `displot` (a figure-level function with similar flexibility) or `histplot` (an axes-level function for histograms).\n",
            "  warnings.warn(msg, FutureWarning)\n"
          ]
        },
        {
          "output_type": "stream",
          "name": "stdout",
          "text": [
            "Mean 1.1349431817298263 Max 2.492920639537033 Min 0.43356203194434784\n"
          ]
        },
        {
          "output_type": "display_data",
          "data": {
            "text/plain": [
              "<Figure size 432x288 with 1 Axes>"
            ],
            "image/png": "[encoded data removed]"
          },
          "metadata": {
            "needs_background": "light"
          }
        }
      ]
    },
    {
      "cell_type": "code",
      "source": [
        "values = []\n",
        "for i in eeg_subset[eeg_subset['Response'] != 'No Response'].Subject.unique():\n",
        "  subset = eeg_subset[eeg_subset['Response'] != 'No Response']\n",
        "  subset = subset[subset['Subject'] == i]\n",
        "  q75 = np.percentile(subset['ReactionTime'], 75)\n",
        "  q25 = np.percentile(subset['ReactionTime'], 25)\n",
        "  inter_qr = q75 - q25\n",
        "  upper = q75 + (inter_qr*3)\n",
        "  lower = q25 - (inter_qr*3)\n",
        "  index = 0\n",
        "  for val in subset.ReactionTime.values:\n",
        "    if val < lower:\n",
        "      values.append((i, val))\n",
        "      index += 1\n",
        "    elif val > upper:\n",
        "      values.append((i, val))\n",
        "      index += 1\n",
        "  print(i, index)"
      ],
      "metadata": {
        "colab": {
          "base_uri": "https://localhost:8080/"
        },
        "id": "yKhsOOluxfhq",
        "outputId": "0a4786af-af9c-4965-f11a-97e4e4773897"
      },
      "execution_count": null,
      "outputs": [
        {
          "output_type": "stream",
          "name": "stdout",
          "text": [
            "E2 2\n",
            "E3 0\n",
            "E4 0\n",
            "E5 0\n",
            "E6 3\n",
            "E7 5\n",
            "E8 3\n",
            "E9 7\n",
            "E10 6\n",
            "E11 1\n",
            "E12 1\n",
            "E13 0\n",
            "E15 0\n",
            "E16 2\n",
            "E17 0\n",
            "E18 4\n",
            "E20 1\n",
            "E21 0\n",
            "E22 0\n",
            "E23 2\n",
            "E24 2\n",
            "E25 1\n",
            "E26 0\n",
            "E27 0\n",
            "E28 0\n",
            "E29 0\n",
            "E30 0\n",
            "E31 0\n",
            "E33 7\n"
          ]
        }
      ]
    },
    {
      "cell_type": "code",
      "source": [
        "len(values)"
      ],
      "metadata": {
        "colab": {
          "base_uri": "https://localhost:8080/"
        },
        "id": "2DHhRBf2xfkj",
        "outputId": "8f196979-ef19-4093-c867-16f1e2df0ff1"
      },
      "execution_count": null,
      "outputs": [
        {
          "output_type": "execute_result",
          "data": {
            "text/plain": [
              "47"
            ]
          },
          "metadata": {},
          "execution_count": 247
        }
      ]
    },
    {
      "cell_type": "code",
      "source": [
        "# check for normality of the distribution\n",
        "test = shapiro(eeg_subset[eeg_subset['Response'] != 'No Response']['ReactionTime'].values)\n",
        "if test[1] > 0.05:\n",
        "  print('Probably Gaussian')\n",
        "else:\n",
        "  print('Probably not Gaussian')"
      ],
      "metadata": {
        "colab": {
          "base_uri": "https://localhost:8080/"
        },
        "id": "NkAP0CxXxfqg",
        "outputId": "491cc376-98b1-41ee-dbd5-0ac6167161f4"
      },
      "execution_count": null,
      "outputs": [
        {
          "output_type": "stream",
          "name": "stdout",
          "text": [
            "Probably not Gaussian\n"
          ]
        },
        {
          "output_type": "stream",
          "name": "stderr",
          "text": [
            "/usr/local/lib/python3.8/dist-packages/scipy/stats/morestats.py:1760: UserWarning: p-value may not be accurate for N > 5000.\n",
            "  warnings.warn(\"p-value may not be accurate for N > 5000.\")\n"
          ]
        }
      ]
    },
    {
      "cell_type": "code",
      "source": [
        "normaltest(eeg_subset[eeg_subset['Response'] != 'No Response']['ReactionTime'].values)"
      ],
      "metadata": {
        "colab": {
          "base_uri": "https://localhost:8080/"
        },
        "id": "VfV2qnn0yA_f",
        "outputId": "75fa417d-2596-49b6-d09c-22ca195180c2"
      },
      "execution_count": null,
      "outputs": [
        {
          "output_type": "execute_result",
          "data": {
            "text/plain": [
              "NormaltestResult(statistic=619.6311037347008, pvalue=2.8107059705027285e-135)"
            ]
          },
          "metadata": {},
          "execution_count": 249
        }
      ]
    },
    {
      "cell_type": "code",
      "source": [
        "fitted_data, fitted_lambda = boxcox(eeg_subset[eeg_subset['Response'] != 'No Response']['ReactionTime'].values)"
      ],
      "metadata": {
        "id": "SA_-r7h_yCc_"
      },
      "execution_count": null,
      "outputs": []
    },
    {
      "cell_type": "code",
      "source": [
        "fig, ax = pl.subplots(1, 2)\n",
        "sns.distplot(eeg_subset[eeg_subset['Response'] != 'No Response']['ReactionTime'].values, hist = False, kde = True,\n",
        "            label = \"Non-Normal\", color =\"green\", ax = ax[0])\n",
        "\n",
        "sns.distplot(fitted_data, hist = False, kde = True,\n",
        "            label = \"Normal\", color =\"green\", ax = ax[1]);"
      ],
      "metadata": {
        "colab": {
          "base_uri": "https://localhost:8080/",
          "height": 357
        },
        "id": "CG-noUWZyCwf",
        "outputId": "a6eef2bf-7d2d-4263-d98e-dd5375480ee7"
      },
      "execution_count": null,
      "outputs": [
        {
          "output_type": "stream",
          "name": "stderr",
          "text": [
            "/usr/local/lib/python3.8/dist-packages/seaborn/distributions.py:2619: FutureWarning: `distplot` is a deprecated function and will be removed in a future version. Please adapt your code to use either `displot` (a figure-level function with similar flexibility) or `kdeplot` (an axes-level function for kernel density plots).\n",
            "  warnings.warn(msg, FutureWarning)\n",
            "/usr/local/lib/python3.8/dist-packages/seaborn/distributions.py:2619: FutureWarning: `distplot` is a deprecated function and will be removed in a future version. Please adapt your code to use either `displot` (a figure-level function with similar flexibility) or `kdeplot` (an axes-level function for kernel density plots).\n",
            "  warnings.warn(msg, FutureWarning)\n"
          ]
        },
        {
          "output_type": "display_data",
          "data": {
            "text/plain": [
              "<Figure size 432x288 with 2 Axes>"
            ],
            "image/png": "[encoded data removed]"
          },
          "metadata": {
            "needs_background": "light"
          }
        }
      ]
    },
    {
      "cell_type": "code",
      "source": [
        "eeg_subset[eeg_subset['Response'] != 'No Response']['stdRT'] = fitted_data"
      ],
      "metadata": {
        "colab": {
          "base_uri": "https://localhost:8080/"
        },
        "id": "cYRTWhC0yEPv",
        "outputId": "5d3e3ad3-fd55-4de8-87f0-6e3048d595f4"
      },
      "execution_count": null,
      "outputs": [
        {
          "output_type": "stream",
          "name": "stderr",
          "text": [
            "<ipython-input-252-beae636ae5d4>:1: SettingWithCopyWarning: \n",
            "A value is trying to be set on a copy of a slice from a DataFrame.\n",
            "Try using .loc[row_indexer,col_indexer] = value instead\n",
            "\n",
            "See the caveats in the documentation: https://pandas.pydata.org/pandas-docs/stable/user_guide/indexing.html#returning-a-view-versus-a-copy\n",
            "  eeg_subset[eeg_subset['Response'] != 'No Response']['stdRT'] = fitted_data\n"
          ]
        }
      ]
    },
    {
      "cell_type": "code",
      "source": [
        "print(fitted_lambda)\n",
        "print('Shapiro test:', shapiro(fitted_data))\n",
        "print('Other normal test:', normaltest(fitted_data))"
      ],
      "metadata": {
        "colab": {
          "base_uri": "https://localhost:8080/"
        },
        "id": "dW23YrnqyLJH",
        "outputId": "6dd8cb2b-360f-438d-ac5c-3bc0d3abe972"
      },
      "execution_count": null,
      "outputs": [
        {
          "output_type": "stream",
          "name": "stdout",
          "text": [
            "-0.14836812286618403\n",
            "Shapiro test: ShapiroResult(statistic=0.9975175857543945, pvalue=8.745944057864108e-08)\n",
            "Other normal test: NormaltestResult(statistic=39.477175381694096, pvalue=2.6769501589031745e-09)\n"
          ]
        },
        {
          "output_type": "stream",
          "name": "stderr",
          "text": [
            "/usr/local/lib/python3.8/dist-packages/scipy/stats/morestats.py:1760: UserWarning: p-value may not be accurate for N > 5000.\n",
            "  warnings.warn(\"p-value may not be accurate for N > 5000.\")\n"
          ]
        }
      ]
    },
    {
      "cell_type": "markdown",
      "source": [
        "'No Response' trials are coded as incorrect in the data already, so we don't need to recode this."
      ],
      "metadata": {
        "id": "zgULsjrtyOun"
      }
    },
    {
      "cell_type": "code",
      "source": [
        "# saving result\n",
        "eeg_subset.to_csv(\n",
        "    Path(working_path).joinpath('eeg_processed.csv')\n",
        ")"
      ],
      "metadata": {
        "id": "okH33vFr0vSA"
      },
      "execution_count": null,
      "outputs": []
    }
  ]
}