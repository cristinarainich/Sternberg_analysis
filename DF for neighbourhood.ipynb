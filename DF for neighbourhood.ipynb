{
  "nbformat": 4,
  "nbformat_minor": 0,
  "metadata": {
    "colab": {
      "name": "Creating data frames.ipynb",
      "provenance": [],
      "toc_visible": true,
      "authorship_tag": "ABX9TyMTThf4mY1wRyPB0+1K0oHB",
      "include_colab_link": true
    },
    "kernelspec": {
      "name": "python3",
      "display_name": "Python 3"
    },
    "language_info": {
      "name": "python"
    }
  },
  "cells": [
    {
      "cell_type": "markdown",
      "metadata": {
        "id": "view-in-github",
        "colab_type": "text"
      },
      "source": [
        "<a href=\"https://colab.research.google.com/github/cristinarainich/Sternberg_analysis/blob/main/DF%20for%20neighbourhood.ipynb\" target=\"_parent\"><img src=\"https://colab.research.google.com/assets/colab-badge.svg\" alt=\"Open In Colab\"/></a>"
      ]
    },
    {
      "cell_type": "markdown",
      "source": [
        "#Imports and drive access"
      ],
      "metadata": {
        "id": "2-siHlrZyQpY"
      }
    },
    {
      "cell_type": "markdown",
      "source": [
        "Updated on 27/06/2023 14:53"
      ],
      "metadata": {
        "id": "v2soX17LaLFu"
      }
    },
    {
      "cell_type": "code",
      "source": [
        "import pandas as pd\n",
        "import numpy as np\n",
        "from pathlib import Path\n",
        "import pylab as pl\n",
        "import seaborn as sns\n",
        "import re\n",
        "from scipy import stats\n",
        "import scipy.io\n",
        "import statsmodels.api as sm\n",
        "from statsmodels.stats.anova import anova_lm\n",
        "from statsmodels.formula.api import ols\n",
        "from scipy.stats import f_oneway\n",
        "from scipy.stats import shapiro\n",
        "from scipy.stats import normaltest\n",
        "from scipy.stats import boxcox\n",
        "%pylab inline"
      ],
      "metadata": {
        "id": "_sn8ErGMTpmV",
        "colab": {
          "base_uri": "https://localhost:8080/"
        },
        "outputId": "6b353c84-9ec6-45b5-c960-d1a744a6d3c3"
      },
      "execution_count": 28,
      "outputs": [
        {
          "output_type": "stream",
          "name": "stdout",
          "text": [
            "Populating the interactive namespace from numpy and matplotlib\n"
          ]
        }
      ]
    },
    {
      "cell_type": "code",
      "source": [
        "sns.set()"
      ],
      "metadata": {
        "id": "3OeYiGvHn9Oo"
      },
      "execution_count": 29,
      "outputs": []
    },
    {
      "cell_type": "code",
      "execution_count": 30,
      "metadata": {
        "colab": {
          "base_uri": "https://localhost:8080/"
        },
        "id": "45lWkfhaSovC",
        "outputId": "6d9c7f9a-4a45-4875-bba2-e76f6858c6e6"
      },
      "outputs": [
        {
          "output_type": "stream",
          "name": "stdout",
          "text": [
            "Drive already mounted at /content/gdrive; to attempt to forcibly remount, call drive.mount(\"/content/gdrive\", force_remount=True).\n"
          ]
        }
      ],
      "source": [
        "from google.colab import drive\n",
        "drive.mount('/content/gdrive')"
      ]
    },
    {
      "cell_type": "code",
      "source": [
        "!ls /content/gdrive/MyDrive/CoganLab/Neighbourhood"
      ],
      "metadata": {
        "id": "VGH4aN-iHNIa",
        "outputId": "e4645429-d1f0-4b1e-e377-fb91b21ee718",
        "colab": {
          "base_uri": "https://localhost:8080/"
        }
      },
      "execution_count": 31,
      "outputs": [
        {
          "output_type": "stream",
          "name": "stdout",
          "text": [
            " D71_Block_1_TrialData.mat\t  D90_Block_1_TrialData.mat\n",
            "'D72_Block_1_TrialData (1).mat'   D91_Block_1_TrialData.mat\n",
            " D72_Block_1_TrialData.mat\t  D92_Block_1_TrialData.mat\n",
            "'D73_Block_1_TrialData (1).mat'   D93_Block_1_TrialData.mat\n",
            " D73_Block_1_TrialData.mat\t  D94_Block_1_TrialData.mat\n",
            " D77_Block_1_TrialData.mat\t  D96_Block_1_TrialData.mat\n",
            " D79_Block_1_TrialData.mat\t  D97_Block_1_TrialData.mat\n",
            " D80_Block_1_TrialData.mat\t  D97_Block_2_TrialData.mat\n",
            " D81_Block_1_TrialData.mat\t  eeg_all.csv\n",
            " D82_Block_1_TrialData.mat\t  eeg_processed.csv\n",
            " D84_Block_1_TrialData.mat\t  ieeg_all.csv\n",
            " D85_Block_1_TrialData.mat\t  ieeg_processed.csv\n",
            " D86_Block_1_TrialData.mat\t  Subject_NeighborhoodSternberg_EEG_060322.mat\n",
            " D87_Block_1_TrialData.mat\t  Subject_NeighborhoodSternberg_IEEG_060322.mat\n",
            " D88_Block_1_TrialData.mat\n"
          ]
        }
      ]
    },
    {
      "cell_type": "code",
      "source": [
        "working_path = Path('/content/gdrive/MyDrive/CoganLab/Neighbourhood')"
      ],
      "metadata": {
        "id": "mrX83XwU9bje"
      },
      "execution_count": 32,
      "outputs": []
    },
    {
      "cell_type": "code",
      "source": [
        "# controls' data\n",
        "eeg = scipy.io.loadmat(\n",
        "    working_path.joinpath('Subject_NeighborhoodSternberg_EEG_060322.mat')\n",
        "    )\n",
        "# patients' data\n",
        "ieeg = scipy.io.loadmat(\n",
        "    working_path.joinpath('Subject_NeighborhoodSternberg_IEEG_060322.mat')\n",
        "    )\n",
        "new_subject72 = scipy.io.loadmat(\n",
        "    working_path.joinpath('D72_Block_1_TrialData.mat')\n",
        "    )\n",
        "new_subject73 = scipy.io.loadmat(\n",
        "    working_path.joinpath('D73_Block_1_TrialData.mat')\n",
        "    )\n",
        "new_subject77 = scipy.io.loadmat(\n",
        "    working_path.joinpath('D77_Block_1_TrialData.mat')\n",
        "    )\n",
        "new_subject79 = scipy.io.loadmat(\n",
        "    working_path.joinpath('D79_Block_1_TrialData.mat')\n",
        "    )\n",
        "new_subject80 = scipy.io.loadmat(\n",
        "    working_path.joinpath('D80_Block_1_TrialData.mat')\n",
        "    )\n",
        "new_subject81 = scipy.io.loadmat(\n",
        "    working_path.joinpath('D81_Block_1_TrialData.mat')\n",
        "    )\n",
        "new_subject82 = scipy.io.loadmat(\n",
        "    working_path.joinpath('D82_Block_1_TrialData.mat')\n",
        "    )\n",
        "new_subject84 = scipy.io.loadmat(\n",
        "    working_path.joinpath('D84_Block_1_TrialData.mat')\n",
        "    )\n",
        "new_subject85 = scipy.io.loadmat(\n",
        "    working_path.joinpath('D85_Block_1_TrialData.mat')\n",
        "    )\n",
        "new_subject85 = scipy.io.loadmat(\n",
        "    working_path.joinpath('D85_Block_1_TrialData.mat')\n",
        "    )\n",
        "new_subject86 = scipy.io.loadmat(\n",
        "    working_path.joinpath('D86_Block_1_TrialData.mat')\n",
        "    )\n",
        "new_subject87 = scipy.io.loadmat(\n",
        "    working_path.joinpath('D87_Block_1_TrialData.mat')\n",
        "    )\n",
        "new_subject88 = scipy.io.loadmat(\n",
        "    working_path.joinpath('D88_Block_1_TrialData.mat')\n",
        "    )\n",
        "new_subject90 = scipy.io.loadmat(\n",
        "    working_path.joinpath('D90_Block_1_TrialData.mat')\n",
        "    )\n",
        "new_subject91 = scipy.io.loadmat(\n",
        "    working_path.joinpath('D91_Block_1_TrialData.mat')\n",
        "    )\n",
        "new_subject92 = scipy.io.loadmat(\n",
        "    working_path.joinpath('D92_Block_1_TrialData.mat')\n",
        "    )\n",
        "new_subject93 = scipy.io.loadmat(\n",
        "    working_path.joinpath('D93_Block_1_TrialData.mat')\n",
        "    )\n",
        "new_subject94 = scipy.io.loadmat(\n",
        "    working_path.joinpath('D94_Block_1_TrialData.mat')\n",
        "    )\n",
        "new_subject96 = scipy.io.loadmat(\n",
        "    working_path.joinpath('D96_Block_1_TrialData.mat')\n",
        "    )\n",
        "new_subject97 = scipy.io.loadmat(\n",
        "    working_path.joinpath('D97_Block_1_TrialData.mat')\n",
        "    )\n",
        "new_subject97_1 = scipy.io.loadmat(\n",
        "    working_path.joinpath('D97_Block_2_TrialData.mat')\n",
        "    )"
      ],
      "metadata": {
        "id": "HXccOe1y9Vg_"
      },
      "execution_count": 33,
      "outputs": []
    },
    {
      "cell_type": "markdown",
      "source": [
        "# iEEG dataset"
      ],
      "metadata": {
        "id": "euNi0QtEAYb9"
      }
    },
    {
      "cell_type": "code",
      "source": [
        "data_ieeg = ieeg['Subject'] # contains trials for each of the subjects\n",
        "print('Number of subjects in EEG dataset is', data_ieeg.shape[1])"
      ],
      "metadata": {
        "colab": {
          "base_uri": "https://localhost:8080/"
        },
        "id": "hK5oe41V_P7C",
        "outputId": "09eb9b30-0979-4c47-b662-4881d910c4c0"
      },
      "execution_count": 34,
      "outputs": [
        {
          "output_type": "stream",
          "name": "stdout",
          "text": [
            "Number of subjects in EEG dataset is 30\n"
          ]
        }
      ]
    },
    {
      "cell_type": "code",
      "source": [
        "subjects_ieeg = [] # subject numbers\n",
        "for i in data_ieeg['Name'][0]:\n",
        "  subjects_ieeg.append(i[0])"
      ],
      "metadata": {
        "id": "-RR9ScjN_UAs"
      },
      "execution_count": 35,
      "outputs": []
    },
    {
      "cell_type": "code",
      "source": [
        "def get_to_df(data):\n",
        "  # this function reads into .mat file and creates df out of it for all of the trials of one subject\n",
        "  # i'm planning on making it more beautiful later\n",
        "\n",
        "  columns = data[0][1].dtype.names\n",
        "  df = pd.DataFrame(columns=columns)\n",
        "  df['Trial'] = np.nan\n",
        "  df_ = df.copy()\n",
        "  for i in range(0, data.shape[1]): # for each trial number\n",
        "    mdtype = data[0][i].dtype\n",
        "    values = []\n",
        "    for name in mdtype.names:\n",
        "      values.append(data[0][i][name])\n",
        "    values = extra_arrays(values)\n",
        "    values.append(str(i)) # adding a trial number at the end\n",
        "    df_.loc[len(df_.index)] = values\n",
        "  return df_"
      ],
      "metadata": {
        "id": "05sho1lj8g1c"
      },
      "execution_count": 36,
      "outputs": []
    },
    {
      "cell_type": "code",
      "source": [
        "def extra_arrays(x):\n",
        "  # elements have nested structure, i.e. arrays inside the arrays\n",
        "  # below we're getting rid of this depending on the shape of values\n",
        "\n",
        "  values = []\n",
        "  for elem in range(0, len(x)):\n",
        "    var = x[elem]\n",
        "    var = var[0, 0]\n",
        "    if var.shape == (1, 1):\n",
        "      var = var[0, 0]\n",
        "      values.append(var)\n",
        "    elif var.shape == (1,):\n",
        "      values.append(var[0])\n",
        "    elif var.shape == (1, 5):\n",
        "      var = var.tolist()[0]\n",
        "      values.append(var)\n",
        "    elif var.shape == (5, 1):\n",
        "      new = []\n",
        "      for i in var:\n",
        "        i = i[0]\n",
        "        new.append(i)\n",
        "      values.append(new)\n",
        "    else:\n",
        "      values.append(var)\n",
        "  return values"
      ],
      "metadata": {
        "id": "XV7EjrokyEmp"
      },
      "execution_count": 37,
      "outputs": []
    },
    {
      "cell_type": "code",
      "source": [
        "columns_ieeg = data_ieeg['trialInfo'][0, 0][0, 0].dtype.names # name of the variables from trial info\n",
        "final_ieeg = pd.DataFrame(columns=columns_ieeg)\n",
        "final_ieeg['Trial'] = np.nan\n",
        "final_ieeg['Subject'] = np.nan\n",
        "for subj in range(0, data_ieeg['trialInfo'].shape[1]): # for each subject\n",
        "  print(subj)\n",
        "  subj_df = get_to_df(data_ieeg['trialInfo'][0, subj])\n",
        "  subj_df['Subject'] = subjects_ieeg[subj]\n",
        "  final_ieeg = pd.concat([final_ieeg, subj_df], axis = 0)"
      ],
      "metadata": {
        "colab": {
          "base_uri": "https://localhost:8080/"
        },
        "id": "69egTkIFLGeo",
        "outputId": "2db02467-5b33-47e1-c2ea-de7fb7879604"
      },
      "execution_count": 38,
      "outputs": [
        {
          "output_type": "stream",
          "name": "stdout",
          "text": [
            "0\n",
            "1\n",
            "2\n",
            "3\n",
            "4\n",
            "5\n",
            "6\n",
            "7\n",
            "8\n",
            "9\n",
            "10\n",
            "11\n",
            "12\n",
            "13\n",
            "14\n",
            "15\n",
            "16\n",
            "17\n",
            "18\n",
            "19\n",
            "20\n",
            "21\n",
            "22\n",
            "23\n",
            "24\n",
            "25\n",
            "26\n",
            "27\n",
            "28\n",
            "29\n"
          ]
        }
      ]
    },
    {
      "cell_type": "code",
      "source": [
        "# additional subjects\n",
        "d72 = get_to_df(new_subject72['trialInfo'])\n",
        "d73 = get_to_df(new_subject73['trialInfo'])\n",
        "d77 = get_to_df(new_subject77['trialInfo'])\n",
        "d79 = get_to_df(new_subject79['trialInfo'])\n",
        "d80 = get_to_df(new_subject80['trialInfo'])\n",
        "d81 = get_to_df(new_subject81['trialInfo'])\n",
        "d82 = get_to_df(new_subject82['trialInfo'])\n",
        "d84 = get_to_df(new_subject84['trialInfo'])\n",
        "d85 = get_to_df(new_subject85['trialInfo'])\n",
        "d86 = get_to_df(new_subject86['trialInfo'])\n",
        "d87 = get_to_df(new_subject87['trialInfo'])\n",
        "d88 = get_to_df(new_subject88['trialInfo'])\n",
        "d90 = get_to_df(new_subject90['trialInfo'])\n",
        "d91 = get_to_df(new_subject91['trialInfo'])\n",
        "d92 = get_to_df(new_subject92['trialInfo'])\n",
        "d93 = get_to_df(new_subject93['trialInfo'])\n",
        "d94 = get_to_df(new_subject94['trialInfo'])\n",
        "d96 = get_to_df(new_subject96['trialInfo'])\n",
        "d97 = get_to_df(new_subject97['trialInfo'])\n",
        "d97_1 = get_to_df(new_subject97_1['trialInfo'])"
      ],
      "metadata": {
        "id": "y8FMu-StUCbn"
      },
      "execution_count": 39,
      "outputs": []
    },
    {
      "cell_type": "code",
      "source": [
        "d72['Subject'] = 'D72'\n",
        "d73['Subject'] = 'D73'\n",
        "d77['Subject'] = 'D77'\n",
        "d79['Subject'] = 'D79'\n",
        "d80['Subject'] = 'D80'\n",
        "d81['Subject'] = 'D81'\n",
        "d82['Subject'] = 'D82'\n",
        "d84['Subject'] = 'D84'\n",
        "d85['Subject'] = 'D85'\n",
        "d86['Subject'] = 'D86'\n",
        "d87['Subject'] = 'D87'\n",
        "d88['Subject'] = 'D88'\n",
        "d90['Subject'] = 'D90'\n",
        "d91['Subject'] = 'D91'\n",
        "d92['Subject'] = 'D92'\n",
        "d93['Subject'] = 'D93'\n",
        "d94['Subject'] = 'D94'\n",
        "d96['Subject'] = 'D96'\n",
        "d97['Subject'] = 'D97'\n",
        "d97_1['Subject'] = 'D97'"
      ],
      "metadata": {
        "id": "glPM7Pl3ULJe"
      },
      "execution_count": 40,
      "outputs": []
    },
    {
      "cell_type": "code",
      "source": [
        "ieeg = pd.concat([final_ieeg, d72])\n",
        "ieeg = pd.concat([ieeg, d73])\n",
        "ieeg = pd.concat([ieeg, d77])\n",
        "ieeg = pd.concat([ieeg, d79])\n",
        "ieeg = pd.concat([ieeg, d80])\n",
        "ieeg = pd.concat([ieeg, d81])\n",
        "ieeg = pd.concat([ieeg, d82])\n",
        "ieeg = pd.concat([ieeg, d84])\n",
        "ieeg = pd.concat([ieeg, d85])\n",
        "ieeg = pd.concat([ieeg, d86])\n",
        "ieeg = pd.concat([ieeg, d87])\n",
        "ieeg = pd.concat([ieeg, d88])\n",
        "ieeg = pd.concat([ieeg, d90])\n",
        "ieeg = pd.concat([ieeg, d91])\n",
        "ieeg = pd.concat([ieeg, d92])\n",
        "ieeg = pd.concat([ieeg, d93])\n",
        "ieeg = pd.concat([ieeg, d94])\n",
        "ieeg = pd.concat([ieeg, d96])\n",
        "ieeg = pd.concat([ieeg, d97])\n",
        "ieeg = pd.concat([ieeg, d97_1])"
      ],
      "metadata": {
        "id": "a_ZagjaNnSGM"
      },
      "execution_count": 41,
      "outputs": []
    },
    {
      "cell_type": "code",
      "source": [
        "len(ieeg.Subject.unique())"
      ],
      "metadata": {
        "id": "PXCtVQeRUwUj",
        "outputId": "b40c5939-690b-45f4-c346-081c745f9e77",
        "colab": {
          "base_uri": "https://localhost:8080/"
        }
      },
      "execution_count": 42,
      "outputs": [
        {
          "output_type": "execute_result",
          "data": {
            "text/plain": [
              "49"
            ]
          },
          "metadata": {},
          "execution_count": 42
        }
      ]
    },
    {
      "cell_type": "code",
      "source": [
        "ieeg.Subject.unique()"
      ],
      "metadata": {
        "id": "wdyfLf4tITPy",
        "outputId": "a2e54767-555b-414a-85c8-9b33869ba173",
        "colab": {
          "base_uri": "https://localhost:8080/"
        }
      },
      "execution_count": 43,
      "outputs": [
        {
          "output_type": "execute_result",
          "data": {
            "text/plain": [
              "array(['D23', 'D26', 'D27', 'D28', 'D29', 'D30', 'D31', 'D33', 'D34',\n",
              "       'D35', 'D36', 'D38', 'D39', 'D41', 'D42', 'D47', 'D48', 'D49',\n",
              "       'D53', 'D54', 'D55', 'D57', 'D59', 'D61', 'D63', 'D65', 'D68',\n",
              "       'D69', 'D70', 'D71', 'D72', 'D73', 'D77', 'D79', 'D80', 'D81',\n",
              "       'D82', 'D84', 'D85', 'D86', 'D87', 'D88', 'D90', 'D91', 'D92',\n",
              "       'D93', 'D94', 'D96', 'D97'], dtype=object)"
            ]
          },
          "metadata": {},
          "execution_count": 43
        }
      ]
    },
    {
      "cell_type": "code",
      "source": [
        "# saving only ieeg dataset anew\n",
        "ieeg.to_csv(\n",
        "    Path(working_path).joinpath('ieeg_all.csv')\n",
        ")"
      ],
      "metadata": {
        "id": "UPER5cLQIJ-C"
      },
      "execution_count": 44,
      "outputs": []
    },
    {
      "cell_type": "markdown",
      "source": [
        "#Preprocessing iEEG dataset"
      ],
      "metadata": {
        "id": "q3G3NgVin2BZ"
      }
    },
    {
      "cell_type": "code",
      "source": [
        "#ieeg = ieeg.loc[:, ieeg.columns != 'Unnamed: 0'] # some extra column appeared while uploading data"
      ],
      "metadata": {
        "id": "B-OvCFMPn4Qg"
      },
      "execution_count": null,
      "outputs": []
    },
    {
      "cell_type": "code",
      "source": [
        "ieeg.isnull().sum()"
      ],
      "metadata": {
        "colab": {
          "base_uri": "https://localhost:8080/"
        },
        "id": "sGQ5A9lRvueK",
        "outputId": "53aa8950-21d8-4e80-a2ec-b0284ba66d56"
      },
      "execution_count": 45,
      "outputs": [
        {
          "output_type": "execute_result",
          "data": {
            "text/plain": [
              "block                       0\n",
              "ProbeType                   0\n",
              "ProbeTypeName               0\n",
              "StimlusCategory             0\n",
              "ReactionTime                0\n",
              "KeyCode                     0\n",
              "Resp                        0\n",
              "RespCorrect                 0\n",
              "Omission                  160\n",
              "stimulusAudioStart          0\n",
              "stimulusAlignedTrigger      0\n",
              "probeAudioStart             0\n",
              "probeAlignedTrigger         0\n",
              "TriggerValue                0\n",
              "stimulusSounds_idx          0\n",
              "stimulusSounds_name         0\n",
              "ProbeCategory               0\n",
              "probeSound_idx              0\n",
              "probeSound_name             0\n",
              "Trial                       0\n",
              "Subject                     0\n",
              "ListenCueTime             953\n",
              "MaintenancePeriodTime     953\n",
              "ProbeCueTime              953\n",
              "dtype: int64"
            ]
          },
          "metadata": {},
          "execution_count": 45
        }
      ]
    },
    {
      "cell_type": "code",
      "source": [
        "ieeg.shape"
      ],
      "metadata": {
        "colab": {
          "base_uri": "https://localhost:8080/"
        },
        "id": "xyox07hMvzMR",
        "outputId": "0a7ddbba-452a-44a0-e9e0-99bc96cdbccb"
      },
      "execution_count": 46,
      "outputs": [
        {
          "output_type": "execute_result",
          "data": {
            "text/plain": [
              "(7860, 24)"
            ]
          },
          "metadata": {},
          "execution_count": 46
        }
      ]
    },
    {
      "cell_type": "code",
      "source": [
        "ieeg.Subject.unique()"
      ],
      "metadata": {
        "colab": {
          "base_uri": "https://localhost:8080/"
        },
        "id": "wxEtY5AXvzOx",
        "outputId": "698d2667-bbf8-4881-d507-9d1f224d5f81"
      },
      "execution_count": 47,
      "outputs": [
        {
          "output_type": "execute_result",
          "data": {
            "text/plain": [
              "array(['D23', 'D26', 'D27', 'D28', 'D29', 'D30', 'D31', 'D33', 'D34',\n",
              "       'D35', 'D36', 'D38', 'D39', 'D41', 'D42', 'D47', 'D48', 'D49',\n",
              "       'D53', 'D54', 'D55', 'D57', 'D59', 'D61', 'D63', 'D65', 'D68',\n",
              "       'D69', 'D70', 'D71', 'D72', 'D73', 'D77', 'D79', 'D80', 'D81',\n",
              "       'D82', 'D84', 'D85', 'D86', 'D87', 'D88', 'D90', 'D91', 'D92',\n",
              "       'D93', 'D94', 'D96', 'D97'], dtype=object)"
            ]
          },
          "metadata": {},
          "execution_count": 47
        }
      ]
    },
    {
      "cell_type": "code",
      "source": [
        "ieeg.columns"
      ],
      "metadata": {
        "colab": {
          "base_uri": "https://localhost:8080/"
        },
        "id": "mzyXp4m1vzQ5",
        "outputId": "c531c9db-4b4a-4127-f5a6-e80e8eb62069"
      },
      "execution_count": 48,
      "outputs": [
        {
          "output_type": "execute_result",
          "data": {
            "text/plain": [
              "Index(['block', 'ProbeType', 'ProbeTypeName', 'StimlusCategory',\n",
              "       'ReactionTime', 'KeyCode', 'Resp', 'RespCorrect', 'Omission',\n",
              "       'stimulusAudioStart', 'stimulusAlignedTrigger', 'probeAudioStart',\n",
              "       'probeAlignedTrigger', 'TriggerValue', 'stimulusSounds_idx',\n",
              "       'stimulusSounds_name', 'ProbeCategory', 'probeSound_idx',\n",
              "       'probeSound_name', 'Trial', 'Subject', 'ListenCueTime',\n",
              "       'MaintenancePeriodTime', 'ProbeCueTime'],\n",
              "      dtype='object')"
            ]
          },
          "metadata": {},
          "execution_count": 48
        }
      ]
    },
    {
      "cell_type": "code",
      "source": [
        "ieeg_subset = ieeg[[\n",
        "                 'Trial', 'Subject', 'block', 'ProbeType', 'probeSound_idx',\n",
        "                 'ProbeTypeName', 'StimlusCategory', 'ReactionTime', 'KeyCode',\n",
        "                 'Resp', 'RespCorrect', 'Omission', 'ProbeCategory',\n",
        "                  'stimulusSounds_idx', 'stimulusSounds_name', 'probeSound_name'\n",
        "]]"
      ],
      "metadata": {
        "id": "XTnuI12FvzS5"
      },
      "execution_count": 49,
      "outputs": []
    },
    {
      "cell_type": "code",
      "source": [
        "ieeg_subset.head()"
      ],
      "metadata": {
        "colab": {
          "base_uri": "https://localhost:8080/",
          "height": 400
        },
        "id": "_SfA7x9XvzVB",
        "outputId": "a4195176-0a97-4b74-c3a6-0458dd0fef86"
      },
      "execution_count": 50,
      "outputs": [
        {
          "output_type": "execute_result",
          "data": {
            "text/plain": [
              "  Trial Subject block ProbeType probeSound_idx    ProbeTypeName  \\\n",
              "0     0     D23     1         2             29      in_sequence   \n",
              "1     1     D23     1         2              5      in_sequence   \n",
              "2     2     D23     1         2             16      in_sequence   \n",
              "3     3     D23     1         1             29  out_of_sequence   \n",
              "4     4     D23     1         1              9  out_of_sequence   \n",
              "\n",
              "  StimlusCategory  ReactionTime KeyCode Resp RespCorrect   Omission  \\\n",
              "0       Low Words      0.857518      37  Yes           1  Responded   \n",
              "1      High Words      1.339604      37  Yes           1  Responded   \n",
              "2  High Non-Words      1.045657      37  Yes           1  Responded   \n",
              "3      High Words      1.497001      39   No           1  Responded   \n",
              "4       Low Words      1.679783      39   No           1  Responded   \n",
              "\n",
              "    ProbeCategory              stimulusSounds_idx  \\\n",
              "0       Low Words                  [[29, 25, 30]]   \n",
              "1      High Words        [[2, 5, 8, 4, 7, 10, 3]]   \n",
              "2  High Non-Words  [[19, 14, 18, 16, 20, 15, 17]]   \n",
              "3       Low Words  [[10, 2, 7, 9, 1, 8, 6, 5, 4]]   \n",
              "4      High Words            [30, 24, 25, 29, 21]   \n",
              "\n",
              "                                 stimulusSounds_name probeSound_name  \n",
              "0        [[[wash.wav]], [[sure.wav]], [[youth.wav]]]        wash.wav  \n",
              "1  [[[debt.wav]], [[lair.wav]], [[seek.wav]], [[g...        lair.wav  \n",
              "2  [[[rihn.wav]], [[kehl.wav]], [[rehl.wav]], [[p...        paon.wav  \n",
              "3  [[[witch.wav]], [[debt.wav]], [[pawn.wav]], [[...        wash.wav  \n",
              "4  [[youth.wav], [noun.wav], [sure.wav], [wash.wa...        soar.wav  "
            ],
            "text/html": [
              "\n",
              "  <div id=\"df-923f65cf-6d69-4f80-9749-4580e29aad03\" class=\"colab-df-container\">\n",
              "    <div>\n",
              "<style scoped>\n",
              "    .dataframe tbody tr th:only-of-type {\n",
              "        vertical-align: middle;\n",
              "    }\n",
              "\n",
              "    .dataframe tbody tr th {\n",
              "        vertical-align: top;\n",
              "    }\n",
              "\n",
              "    .dataframe thead th {\n",
              "        text-align: right;\n",
              "    }\n",
              "</style>\n",
              "<table border=\"1\" class=\"dataframe\">\n",
              "  <thead>\n",
              "    <tr style=\"text-align: right;\">\n",
              "      <th></th>\n",
              "      <th>Trial</th>\n",
              "      <th>Subject</th>\n",
              "      <th>block</th>\n",
              "      <th>ProbeType</th>\n",
              "      <th>probeSound_idx</th>\n",
              "      <th>ProbeTypeName</th>\n",
              "      <th>StimlusCategory</th>\n",
              "      <th>ReactionTime</th>\n",
              "      <th>KeyCode</th>\n",
              "      <th>Resp</th>\n",
              "      <th>RespCorrect</th>\n",
              "      <th>Omission</th>\n",
              "      <th>ProbeCategory</th>\n",
              "      <th>stimulusSounds_idx</th>\n",
              "      <th>stimulusSounds_name</th>\n",
              "      <th>probeSound_name</th>\n",
              "    </tr>\n",
              "  </thead>\n",
              "  <tbody>\n",
              "    <tr>\n",
              "      <th>0</th>\n",
              "      <td>0</td>\n",
              "      <td>D23</td>\n",
              "      <td>1</td>\n",
              "      <td>2</td>\n",
              "      <td>29</td>\n",
              "      <td>in_sequence</td>\n",
              "      <td>Low Words</td>\n",
              "      <td>0.857518</td>\n",
              "      <td>37</td>\n",
              "      <td>Yes</td>\n",
              "      <td>1</td>\n",
              "      <td>Responded</td>\n",
              "      <td>Low Words</td>\n",
              "      <td>[[29, 25, 30]]</td>\n",
              "      <td>[[[wash.wav]], [[sure.wav]], [[youth.wav]]]</td>\n",
              "      <td>wash.wav</td>\n",
              "    </tr>\n",
              "    <tr>\n",
              "      <th>1</th>\n",
              "      <td>1</td>\n",
              "      <td>D23</td>\n",
              "      <td>1</td>\n",
              "      <td>2</td>\n",
              "      <td>5</td>\n",
              "      <td>in_sequence</td>\n",
              "      <td>High Words</td>\n",
              "      <td>1.339604</td>\n",
              "      <td>37</td>\n",
              "      <td>Yes</td>\n",
              "      <td>1</td>\n",
              "      <td>Responded</td>\n",
              "      <td>High Words</td>\n",
              "      <td>[[2, 5, 8, 4, 7, 10, 3]]</td>\n",
              "      <td>[[[debt.wav]], [[lair.wav]], [[seek.wav]], [[g...</td>\n",
              "      <td>lair.wav</td>\n",
              "    </tr>\n",
              "    <tr>\n",
              "      <th>2</th>\n",
              "      <td>2</td>\n",
              "      <td>D23</td>\n",
              "      <td>1</td>\n",
              "      <td>2</td>\n",
              "      <td>16</td>\n",
              "      <td>in_sequence</td>\n",
              "      <td>High Non-Words</td>\n",
              "      <td>1.045657</td>\n",
              "      <td>37</td>\n",
              "      <td>Yes</td>\n",
              "      <td>1</td>\n",
              "      <td>Responded</td>\n",
              "      <td>High Non-Words</td>\n",
              "      <td>[[19, 14, 18, 16, 20, 15, 17]]</td>\n",
              "      <td>[[[rihn.wav]], [[kehl.wav]], [[rehl.wav]], [[p...</td>\n",
              "      <td>paon.wav</td>\n",
              "    </tr>\n",
              "    <tr>\n",
              "      <th>3</th>\n",
              "      <td>3</td>\n",
              "      <td>D23</td>\n",
              "      <td>1</td>\n",
              "      <td>1</td>\n",
              "      <td>29</td>\n",
              "      <td>out_of_sequence</td>\n",
              "      <td>High Words</td>\n",
              "      <td>1.497001</td>\n",
              "      <td>39</td>\n",
              "      <td>No</td>\n",
              "      <td>1</td>\n",
              "      <td>Responded</td>\n",
              "      <td>Low Words</td>\n",
              "      <td>[[10, 2, 7, 9, 1, 8, 6, 5, 4]]</td>\n",
              "      <td>[[[witch.wav]], [[debt.wav]], [[pawn.wav]], [[...</td>\n",
              "      <td>wash.wav</td>\n",
              "    </tr>\n",
              "    <tr>\n",
              "      <th>4</th>\n",
              "      <td>4</td>\n",
              "      <td>D23</td>\n",
              "      <td>1</td>\n",
              "      <td>1</td>\n",
              "      <td>9</td>\n",
              "      <td>out_of_sequence</td>\n",
              "      <td>Low Words</td>\n",
              "      <td>1.679783</td>\n",
              "      <td>39</td>\n",
              "      <td>No</td>\n",
              "      <td>1</td>\n",
              "      <td>Responded</td>\n",
              "      <td>High Words</td>\n",
              "      <td>[30, 24, 25, 29, 21]</td>\n",
              "      <td>[[youth.wav], [noun.wav], [sure.wav], [wash.wa...</td>\n",
              "      <td>soar.wav</td>\n",
              "    </tr>\n",
              "  </tbody>\n",
              "</table>\n",
              "</div>\n",
              "    <div class=\"colab-df-buttons\">\n",
              "\n",
              "  <div class=\"colab-df-container\">\n",
              "    <button class=\"colab-df-convert\" onclick=\"convertToInteractive('df-923f65cf-6d69-4f80-9749-4580e29aad03')\"\n",
              "            title=\"Convert this dataframe to an interactive table.\"\n",
              "            style=\"display:none;\">\n",
              "\n",
              "  <svg xmlns=\"http://www.w3.org/2000/svg\" height=\"24px\" viewBox=\"0 -960 960 960\">\n",
              "    <path d=\"M120-120v-720h720v720H120Zm60-500h600v-160H180v160Zm220 220h160v-160H400v160Zm0 220h160v-160H400v160ZM180-400h160v-160H180v160Zm440 0h160v-160H620v160ZM180-180h160v-160H180v160Zm440 0h160v-160H620v160Z\"/>\n",
              "  </svg>\n",
              "    </button>\n",
              "\n",
              "  <style>\n",
              "    .colab-df-container {\n",
              "      display:flex;\n",
              "      gap: 12px;\n",
              "    }\n",
              "\n",
              "    .colab-df-convert {\n",
              "      background-color: #E8F0FE;\n",
              "      border: none;\n",
              "      border-radius: 50%;\n",
              "      cursor: pointer;\n",
              "      display: none;\n",
              "      fill: #1967D2;\n",
              "      height: 32px;\n",
              "      padding: 0 0 0 0;\n",
              "      width: 32px;\n",
              "    }\n",
              "\n",
              "    .colab-df-convert:hover {\n",
              "      background-color: #E2EBFA;\n",
              "      box-shadow: 0px 1px 2px rgba(60, 64, 67, 0.3), 0px 1px 3px 1px rgba(60, 64, 67, 0.15);\n",
              "      fill: #174EA6;\n",
              "    }\n",
              "\n",
              "    .colab-df-buttons div {\n",
              "      margin-bottom: 4px;\n",
              "    }\n",
              "\n",
              "    [theme=dark] .colab-df-convert {\n",
              "      background-color: #3B4455;\n",
              "      fill: #D2E3FC;\n",
              "    }\n",
              "\n",
              "    [theme=dark] .colab-df-convert:hover {\n",
              "      background-color: #434B5C;\n",
              "      box-shadow: 0px 1px 3px 1px rgba(0, 0, 0, 0.15);\n",
              "      filter: drop-shadow(0px 1px 2px rgba(0, 0, 0, 0.3));\n",
              "      fill: #FFFFFF;\n",
              "    }\n",
              "  </style>\n",
              "\n",
              "    <script>\n",
              "      const buttonEl =\n",
              "        document.querySelector('#df-923f65cf-6d69-4f80-9749-4580e29aad03 button.colab-df-convert');\n",
              "      buttonEl.style.display =\n",
              "        google.colab.kernel.accessAllowed ? 'block' : 'none';\n",
              "\n",
              "      async function convertToInteractive(key) {\n",
              "        const element = document.querySelector('#df-923f65cf-6d69-4f80-9749-4580e29aad03');\n",
              "        const dataTable =\n",
              "          await google.colab.kernel.invokeFunction('convertToInteractive',\n",
              "                                                    [key], {});\n",
              "        if (!dataTable) return;\n",
              "\n",
              "        const docLinkHtml = 'Like what you see? Visit the ' +\n",
              "          '<a target=\"_blank\" href=https://colab.research.google.com/notebooks/data_table.ipynb>data table notebook</a>'\n",
              "          + ' to learn more about interactive tables.';\n",
              "        element.innerHTML = '';\n",
              "        dataTable['output_type'] = 'display_data';\n",
              "        await google.colab.output.renderOutput(dataTable, element);\n",
              "        const docLink = document.createElement('div');\n",
              "        docLink.innerHTML = docLinkHtml;\n",
              "        element.appendChild(docLink);\n",
              "      }\n",
              "    </script>\n",
              "  </div>\n",
              "\n",
              "\n",
              "<div id=\"df-d26d6513-e4ed-41a6-b8d9-00b2dcc74f05\">\n",
              "  <button class=\"colab-df-quickchart\" onclick=\"quickchart('df-d26d6513-e4ed-41a6-b8d9-00b2dcc74f05')\"\n",
              "            title=\"Suggest charts.\"\n",
              "            style=\"display:none;\">\n",
              "\n",
              "<svg xmlns=\"http://www.w3.org/2000/svg\" height=\"24px\"viewBox=\"0 0 24 24\"\n",
              "     width=\"24px\">\n",
              "    <g>\n",
              "        <path d=\"M19 3H5c-1.1 0-2 .9-2 2v14c0 1.1.9 2 2 2h14c1.1 0 2-.9 2-2V5c0-1.1-.9-2-2-2zM9 17H7v-7h2v7zm4 0h-2V7h2v10zm4 0h-2v-4h2v4z\"/>\n",
              "    </g>\n",
              "</svg>\n",
              "  </button>\n",
              "\n",
              "<style>\n",
              "  .colab-df-quickchart {\n",
              "      --bg-color: #E8F0FE;\n",
              "      --fill-color: #1967D2;\n",
              "      --hover-bg-color: #E2EBFA;\n",
              "      --hover-fill-color: #174EA6;\n",
              "      --disabled-fill-color: #AAA;\n",
              "      --disabled-bg-color: #DDD;\n",
              "  }\n",
              "\n",
              "  [theme=dark] .colab-df-quickchart {\n",
              "      --bg-color: #3B4455;\n",
              "      --fill-color: #D2E3FC;\n",
              "      --hover-bg-color: #434B5C;\n",
              "      --hover-fill-color: #FFFFFF;\n",
              "      --disabled-bg-color: #3B4455;\n",
              "      --disabled-fill-color: #666;\n",
              "  }\n",
              "\n",
              "  .colab-df-quickchart {\n",
              "    background-color: var(--bg-color);\n",
              "    border: none;\n",
              "    border-radius: 50%;\n",
              "    cursor: pointer;\n",
              "    display: none;\n",
              "    fill: var(--fill-color);\n",
              "    height: 32px;\n",
              "    padding: 0;\n",
              "    width: 32px;\n",
              "  }\n",
              "\n",
              "  .colab-df-quickchart:hover {\n",
              "    background-color: var(--hover-bg-color);\n",
              "    box-shadow: 0 1px 2px rgba(60, 64, 67, 0.3), 0 1px 3px 1px rgba(60, 64, 67, 0.15);\n",
              "    fill: var(--button-hover-fill-color);\n",
              "  }\n",
              "\n",
              "  .colab-df-quickchart-complete:disabled,\n",
              "  .colab-df-quickchart-complete:disabled:hover {\n",
              "    background-color: var(--disabled-bg-color);\n",
              "    fill: var(--disabled-fill-color);\n",
              "    box-shadow: none;\n",
              "  }\n",
              "\n",
              "  .colab-df-spinner {\n",
              "    border: 2px solid var(--fill-color);\n",
              "    border-color: transparent;\n",
              "    border-bottom-color: var(--fill-color);\n",
              "    animation:\n",
              "      spin 1s steps(1) infinite;\n",
              "  }\n",
              "\n",
              "  @keyframes spin {\n",
              "    0% {\n",
              "      border-color: transparent;\n",
              "      border-bottom-color: var(--fill-color);\n",
              "      border-left-color: var(--fill-color);\n",
              "    }\n",
              "    20% {\n",
              "      border-color: transparent;\n",
              "      border-left-color: var(--fill-color);\n",
              "      border-top-color: var(--fill-color);\n",
              "    }\n",
              "    30% {\n",
              "      border-color: transparent;\n",
              "      border-left-color: var(--fill-color);\n",
              "      border-top-color: var(--fill-color);\n",
              "      border-right-color: var(--fill-color);\n",
              "    }\n",
              "    40% {\n",
              "      border-color: transparent;\n",
              "      border-right-color: var(--fill-color);\n",
              "      border-top-color: var(--fill-color);\n",
              "    }\n",
              "    60% {\n",
              "      border-color: transparent;\n",
              "      border-right-color: var(--fill-color);\n",
              "    }\n",
              "    80% {\n",
              "      border-color: transparent;\n",
              "      border-right-color: var(--fill-color);\n",
              "      border-bottom-color: var(--fill-color);\n",
              "    }\n",
              "    90% {\n",
              "      border-color: transparent;\n",
              "      border-bottom-color: var(--fill-color);\n",
              "    }\n",
              "  }\n",
              "</style>\n",
              "\n",
              "  <script>\n",
              "    async function quickchart(key) {\n",
              "      const quickchartButtonEl =\n",
              "        document.querySelector('#' + key + ' button');\n",
              "      quickchartButtonEl.disabled = true;  // To prevent multiple clicks.\n",
              "      quickchartButtonEl.classList.add('colab-df-spinner');\n",
              "      try {\n",
              "        const charts = await google.colab.kernel.invokeFunction(\n",
              "            'suggestCharts', [key], {});\n",
              "      } catch (error) {\n",
              "        console.error('Error during call to suggestCharts:', error);\n",
              "      }\n",
              "      quickchartButtonEl.classList.remove('colab-df-spinner');\n",
              "      quickchartButtonEl.classList.add('colab-df-quickchart-complete');\n",
              "    }\n",
              "    (() => {\n",
              "      let quickchartButtonEl =\n",
              "        document.querySelector('#df-d26d6513-e4ed-41a6-b8d9-00b2dcc74f05 button');\n",
              "      quickchartButtonEl.style.display =\n",
              "        google.colab.kernel.accessAllowed ? 'block' : 'none';\n",
              "    })();\n",
              "  </script>\n",
              "</div>\n",
              "    </div>\n",
              "  </div>\n"
            ]
          },
          "metadata": {},
          "execution_count": 50
        }
      ]
    },
    {
      "cell_type": "code",
      "source": [
        "# check if any of the subjects is less than 75 % accurate\n",
        "checkset = ieeg_subset.groupby(['Subject'])[['RespCorrect']].apply(\n",
        "    lambda x: x.sum()/x.count()\n",
        ")\n",
        "(checkset < 0.75).any()"
      ],
      "metadata": {
        "colab": {
          "base_uri": "https://localhost:8080/"
        },
        "id": "3SP9P2mpvzXS",
        "outputId": "1fe119bf-b4e0-4031-ac87-9c3d01fe6022"
      },
      "execution_count": 51,
      "outputs": [
        {
          "output_type": "execute_result",
          "data": {
            "text/plain": [
              "RespCorrect    True\n",
              "dtype: bool"
            ]
          },
          "metadata": {},
          "execution_count": 51
        }
      ]
    },
    {
      "cell_type": "code",
      "source": [
        "ieeg_subset[ieeg_subset['Resp'] == 'No Response']"
      ],
      "metadata": {
        "colab": {
          "base_uri": "https://localhost:8080/",
          "height": 791
        },
        "id": "zOcjcJaLwEhB",
        "outputId": "19bebd06-e39f-46e5-f90b-94a652da52a3"
      },
      "execution_count": 52,
      "outputs": [
        {
          "output_type": "execute_result",
          "data": {
            "text/plain": [
              "    Trial Subject block ProbeType probeSound_idx    ProbeTypeName  \\\n",
              "9       9     D23     1         2             39      in_sequence   \n",
              "19     19     D23     1         1             40  out_of_sequence   \n",
              "26     26     D23     1         1             33  out_of_sequence   \n",
              "32     32     D23     2         2             25      in_sequence   \n",
              "97     97     D23     4         1             36  out_of_sequence   \n",
              "..    ...     ...   ...       ...            ...              ...   \n",
              "2       2     D97     1         2             29      in_sequence   \n",
              "3       3     D97     1         1             34  out_of_sequence   \n",
              "5       5     D97     1         1             12  out_of_sequence   \n",
              "65     65     D97     4         2             20      in_sequence   \n",
              "112   112     D97     5         1             11  out_of_sequence   \n",
              "\n",
              "    StimlusCategory  ReactionTime                 KeyCode         Resp  \\\n",
              "9     Low Non-words      2.502478      [[37, 39, 32, 27]]  No Response   \n",
              "19   High Non-Words      2.502283      [[37, 39, 32, 27]]  No Response   \n",
              "26   High Non-Words      2.502340      [[37, 39, 32, 27]]  No Response   \n",
              "32        Low Words      2.502395      [[37, 39, 32, 27]]  No Response   \n",
              "97   High Non-Words      2.502652      [[37, 39, 32, 27]]  No Response   \n",
              "..              ...           ...                     ...          ...   \n",
              "2         Low Words      2.501717  [114, 115, 66, 10, 27]  No Response   \n",
              "3    High Non-Words      0.016355  [114, 115, 66, 10, 27]  No Response   \n",
              "5     Low Non-words      2.502045  [114, 115, 66, 10, 27]  No Response   \n",
              "65   High Non-Words      2.501813  [114, 115, 66, 10, 27]  No Response   \n",
              "112  High Non-Words      2.501578  [114, 115, 66, 10, 27]  No Response   \n",
              "\n",
              "    RespCorrect     Omission   ProbeCategory  \\\n",
              "9             0  No Response   Low Non-words   \n",
              "19            0  No Response   Low Non-Words   \n",
              "26            0  No Response   Low Non-Words   \n",
              "32            0  No Response       Low Words   \n",
              "97            0  No Response   Low Non-Words   \n",
              "..          ...          ...             ...   \n",
              "2             0  No Response       Low Words   \n",
              "3             0  No Response   Low Non-Words   \n",
              "5             0  No Response  High Non-Words   \n",
              "65            0  No Response  High Non-Words   \n",
              "112           0  No Response  High Non-Words   \n",
              "\n",
              "                         stimulusSounds_idx  \\\n",
              "9    [[32, 37, 31, 39, 40, 35, 33, 38, 36]]   \n",
              "19           [[17, 19, 18, 13, 15, 12, 16]]   \n",
              "26                           [[13, 18, 14]]   \n",
              "32   [[30, 22, 25, 29, 21, 23, 24, 28, 27]]   \n",
              "97                           [[16, 17, 18]]   \n",
              "..                                      ...   \n",
              "2                            [[29, 21, 28]]   \n",
              "3    [[18, 15, 20, 13, 16, 11, 14, 17, 12]]   \n",
              "5                            [[38, 39, 35]]   \n",
              "65                     [11, 20, 13, 17, 14]   \n",
              "112                          [[15, 16, 18]]   \n",
              "\n",
              "                                   stimulusSounds_name probeSound_name  \n",
              "9    [[[faez.wav]], [[wehz.wav]], [[deech.wav]], [[...        yuwf.wav  \n",
              "19   [[[puwn.wav]], [[rihn.wav]], [[rehl.wav]], [[k...       zerth.wav  \n",
              "26          [[[kawl.wav]], [[rehl.wav]], [[kehl.wav]]]       gawth.wav  \n",
              "32   [[[youth.wav]], [[fudge.wav]], [[sure.wav]], [...        sure.wav  \n",
              "97          [[[paon.wav]], [[puwn.wav]], [[rehl.wav]]]        vern.wav  \n",
              "..                                                 ...             ...  \n",
              "2            [[[wash.wav]], [[fog.wav]], [[waif.wav]]]        wash.wav  \n",
              "3    [[[rehl.wav]], [[kihr.wav]], [[saor.wav]], [[k...       jhong.wav  \n",
              "5            [[[yong.wav]], [[yuwf.wav]], [[kuv.wav]]]        gaen.wav  \n",
              "65   [[dehs.wav], [saor.wav], [kawl.wav], [puwn.wav...        saor.wav  \n",
              "112         [[[kihr.wav]], [[paon.wav]], [[rehl.wav]]]        dehs.wav  \n",
              "\n",
              "[322 rows x 16 columns]"
            ],
            "text/html": [
              "\n",
              "  <div id=\"df-64539c33-777c-4793-85c0-ff8bc1c0062f\" class=\"colab-df-container\">\n",
              "    <div>\n",
              "<style scoped>\n",
              "    .dataframe tbody tr th:only-of-type {\n",
              "        vertical-align: middle;\n",
              "    }\n",
              "\n",
              "    .dataframe tbody tr th {\n",
              "        vertical-align: top;\n",
              "    }\n",
              "\n",
              "    .dataframe thead th {\n",
              "        text-align: right;\n",
              "    }\n",
              "</style>\n",
              "<table border=\"1\" class=\"dataframe\">\n",
              "  <thead>\n",
              "    <tr style=\"text-align: right;\">\n",
              "      <th></th>\n",
              "      <th>Trial</th>\n",
              "      <th>Subject</th>\n",
              "      <th>block</th>\n",
              "      <th>ProbeType</th>\n",
              "      <th>probeSound_idx</th>\n",
              "      <th>ProbeTypeName</th>\n",
              "      <th>StimlusCategory</th>\n",
              "      <th>ReactionTime</th>\n",
              "      <th>KeyCode</th>\n",
              "      <th>Resp</th>\n",
              "      <th>RespCorrect</th>\n",
              "      <th>Omission</th>\n",
              "      <th>ProbeCategory</th>\n",
              "      <th>stimulusSounds_idx</th>\n",
              "      <th>stimulusSounds_name</th>\n",
              "      <th>probeSound_name</th>\n",
              "    </tr>\n",
              "  </thead>\n",
              "  <tbody>\n",
              "    <tr>\n",
              "      <th>9</th>\n",
              "      <td>9</td>\n",
              "      <td>D23</td>\n",
              "      <td>1</td>\n",
              "      <td>2</td>\n",
              "      <td>39</td>\n",
              "      <td>in_sequence</td>\n",
              "      <td>Low Non-words</td>\n",
              "      <td>2.502478</td>\n",
              "      <td>[[37, 39, 32, 27]]</td>\n",
              "      <td>No Response</td>\n",
              "      <td>0</td>\n",
              "      <td>No Response</td>\n",
              "      <td>Low Non-words</td>\n",
              "      <td>[[32, 37, 31, 39, 40, 35, 33, 38, 36]]</td>\n",
              "      <td>[[[faez.wav]], [[wehz.wav]], [[deech.wav]], [[...</td>\n",
              "      <td>yuwf.wav</td>\n",
              "    </tr>\n",
              "    <tr>\n",
              "      <th>19</th>\n",
              "      <td>19</td>\n",
              "      <td>D23</td>\n",
              "      <td>1</td>\n",
              "      <td>1</td>\n",
              "      <td>40</td>\n",
              "      <td>out_of_sequence</td>\n",
              "      <td>High Non-Words</td>\n",
              "      <td>2.502283</td>\n",
              "      <td>[[37, 39, 32, 27]]</td>\n",
              "      <td>No Response</td>\n",
              "      <td>0</td>\n",
              "      <td>No Response</td>\n",
              "      <td>Low Non-Words</td>\n",
              "      <td>[[17, 19, 18, 13, 15, 12, 16]]</td>\n",
              "      <td>[[[puwn.wav]], [[rihn.wav]], [[rehl.wav]], [[k...</td>\n",
              "      <td>zerth.wav</td>\n",
              "    </tr>\n",
              "    <tr>\n",
              "      <th>26</th>\n",
              "      <td>26</td>\n",
              "      <td>D23</td>\n",
              "      <td>1</td>\n",
              "      <td>1</td>\n",
              "      <td>33</td>\n",
              "      <td>out_of_sequence</td>\n",
              "      <td>High Non-Words</td>\n",
              "      <td>2.502340</td>\n",
              "      <td>[[37, 39, 32, 27]]</td>\n",
              "      <td>No Response</td>\n",
              "      <td>0</td>\n",
              "      <td>No Response</td>\n",
              "      <td>Low Non-Words</td>\n",
              "      <td>[[13, 18, 14]]</td>\n",
              "      <td>[[[kawl.wav]], [[rehl.wav]], [[kehl.wav]]]</td>\n",
              "      <td>gawth.wav</td>\n",
              "    </tr>\n",
              "    <tr>\n",
              "      <th>32</th>\n",
              "      <td>32</td>\n",
              "      <td>D23</td>\n",
              "      <td>2</td>\n",
              "      <td>2</td>\n",
              "      <td>25</td>\n",
              "      <td>in_sequence</td>\n",
              "      <td>Low Words</td>\n",
              "      <td>2.502395</td>\n",
              "      <td>[[37, 39, 32, 27]]</td>\n",
              "      <td>No Response</td>\n",
              "      <td>0</td>\n",
              "      <td>No Response</td>\n",
              "      <td>Low Words</td>\n",
              "      <td>[[30, 22, 25, 29, 21, 23, 24, 28, 27]]</td>\n",
              "      <td>[[[youth.wav]], [[fudge.wav]], [[sure.wav]], [...</td>\n",
              "      <td>sure.wav</td>\n",
              "    </tr>\n",
              "    <tr>\n",
              "      <th>97</th>\n",
              "      <td>97</td>\n",
              "      <td>D23</td>\n",
              "      <td>4</td>\n",
              "      <td>1</td>\n",
              "      <td>36</td>\n",
              "      <td>out_of_sequence</td>\n",
              "      <td>High Non-Words</td>\n",
              "      <td>2.502652</td>\n",
              "      <td>[[37, 39, 32, 27]]</td>\n",
              "      <td>No Response</td>\n",
              "      <td>0</td>\n",
              "      <td>No Response</td>\n",
              "      <td>Low Non-Words</td>\n",
              "      <td>[[16, 17, 18]]</td>\n",
              "      <td>[[[paon.wav]], [[puwn.wav]], [[rehl.wav]]]</td>\n",
              "      <td>vern.wav</td>\n",
              "    </tr>\n",
              "    <tr>\n",
              "      <th>...</th>\n",
              "      <td>...</td>\n",
              "      <td>...</td>\n",
              "      <td>...</td>\n",
              "      <td>...</td>\n",
              "      <td>...</td>\n",
              "      <td>...</td>\n",
              "      <td>...</td>\n",
              "      <td>...</td>\n",
              "      <td>...</td>\n",
              "      <td>...</td>\n",
              "      <td>...</td>\n",
              "      <td>...</td>\n",
              "      <td>...</td>\n",
              "      <td>...</td>\n",
              "      <td>...</td>\n",
              "      <td>...</td>\n",
              "    </tr>\n",
              "    <tr>\n",
              "      <th>2</th>\n",
              "      <td>2</td>\n",
              "      <td>D97</td>\n",
              "      <td>1</td>\n",
              "      <td>2</td>\n",
              "      <td>29</td>\n",
              "      <td>in_sequence</td>\n",
              "      <td>Low Words</td>\n",
              "      <td>2.501717</td>\n",
              "      <td>[114, 115, 66, 10, 27]</td>\n",
              "      <td>No Response</td>\n",
              "      <td>0</td>\n",
              "      <td>No Response</td>\n",
              "      <td>Low Words</td>\n",
              "      <td>[[29, 21, 28]]</td>\n",
              "      <td>[[[wash.wav]], [[fog.wav]], [[waif.wav]]]</td>\n",
              "      <td>wash.wav</td>\n",
              "    </tr>\n",
              "    <tr>\n",
              "      <th>3</th>\n",
              "      <td>3</td>\n",
              "      <td>D97</td>\n",
              "      <td>1</td>\n",
              "      <td>1</td>\n",
              "      <td>34</td>\n",
              "      <td>out_of_sequence</td>\n",
              "      <td>High Non-Words</td>\n",
              "      <td>0.016355</td>\n",
              "      <td>[114, 115, 66, 10, 27]</td>\n",
              "      <td>No Response</td>\n",
              "      <td>0</td>\n",
              "      <td>No Response</td>\n",
              "      <td>Low Non-Words</td>\n",
              "      <td>[[18, 15, 20, 13, 16, 11, 14, 17, 12]]</td>\n",
              "      <td>[[[rehl.wav]], [[kihr.wav]], [[saor.wav]], [[k...</td>\n",
              "      <td>jhong.wav</td>\n",
              "    </tr>\n",
              "    <tr>\n",
              "      <th>5</th>\n",
              "      <td>5</td>\n",
              "      <td>D97</td>\n",
              "      <td>1</td>\n",
              "      <td>1</td>\n",
              "      <td>12</td>\n",
              "      <td>out_of_sequence</td>\n",
              "      <td>Low Non-words</td>\n",
              "      <td>2.502045</td>\n",
              "      <td>[114, 115, 66, 10, 27]</td>\n",
              "      <td>No Response</td>\n",
              "      <td>0</td>\n",
              "      <td>No Response</td>\n",
              "      <td>High Non-Words</td>\n",
              "      <td>[[38, 39, 35]]</td>\n",
              "      <td>[[[yong.wav]], [[yuwf.wav]], [[kuv.wav]]]</td>\n",
              "      <td>gaen.wav</td>\n",
              "    </tr>\n",
              "    <tr>\n",
              "      <th>65</th>\n",
              "      <td>65</td>\n",
              "      <td>D97</td>\n",
              "      <td>4</td>\n",
              "      <td>2</td>\n",
              "      <td>20</td>\n",
              "      <td>in_sequence</td>\n",
              "      <td>High Non-Words</td>\n",
              "      <td>2.501813</td>\n",
              "      <td>[114, 115, 66, 10, 27]</td>\n",
              "      <td>No Response</td>\n",
              "      <td>0</td>\n",
              "      <td>No Response</td>\n",
              "      <td>High Non-Words</td>\n",
              "      <td>[11, 20, 13, 17, 14]</td>\n",
              "      <td>[[dehs.wav], [saor.wav], [kawl.wav], [puwn.wav...</td>\n",
              "      <td>saor.wav</td>\n",
              "    </tr>\n",
              "    <tr>\n",
              "      <th>112</th>\n",
              "      <td>112</td>\n",
              "      <td>D97</td>\n",
              "      <td>5</td>\n",
              "      <td>1</td>\n",
              "      <td>11</td>\n",
              "      <td>out_of_sequence</td>\n",
              "      <td>High Non-Words</td>\n",
              "      <td>2.501578</td>\n",
              "      <td>[114, 115, 66, 10, 27]</td>\n",
              "      <td>No Response</td>\n",
              "      <td>0</td>\n",
              "      <td>No Response</td>\n",
              "      <td>High Non-Words</td>\n",
              "      <td>[[15, 16, 18]]</td>\n",
              "      <td>[[[kihr.wav]], [[paon.wav]], [[rehl.wav]]]</td>\n",
              "      <td>dehs.wav</td>\n",
              "    </tr>\n",
              "  </tbody>\n",
              "</table>\n",
              "<p>322 rows × 16 columns</p>\n",
              "</div>\n",
              "    <div class=\"colab-df-buttons\">\n",
              "\n",
              "  <div class=\"colab-df-container\">\n",
              "    <button class=\"colab-df-convert\" onclick=\"convertToInteractive('df-64539c33-777c-4793-85c0-ff8bc1c0062f')\"\n",
              "            title=\"Convert this dataframe to an interactive table.\"\n",
              "            style=\"display:none;\">\n",
              "\n",
              "  <svg xmlns=\"http://www.w3.org/2000/svg\" height=\"24px\" viewBox=\"0 -960 960 960\">\n",
              "    <path d=\"M120-120v-720h720v720H120Zm60-500h600v-160H180v160Zm220 220h160v-160H400v160Zm0 220h160v-160H400v160ZM180-400h160v-160H180v160Zm440 0h160v-160H620v160ZM180-180h160v-160H180v160Zm440 0h160v-160H620v160Z\"/>\n",
              "  </svg>\n",
              "    </button>\n",
              "\n",
              "  <style>\n",
              "    .colab-df-container {\n",
              "      display:flex;\n",
              "      gap: 12px;\n",
              "    }\n",
              "\n",
              "    .colab-df-convert {\n",
              "      background-color: #E8F0FE;\n",
              "      border: none;\n",
              "      border-radius: 50%;\n",
              "      cursor: pointer;\n",
              "      display: none;\n",
              "      fill: #1967D2;\n",
              "      height: 32px;\n",
              "      padding: 0 0 0 0;\n",
              "      width: 32px;\n",
              "    }\n",
              "\n",
              "    .colab-df-convert:hover {\n",
              "      background-color: #E2EBFA;\n",
              "      box-shadow: 0px 1px 2px rgba(60, 64, 67, 0.3), 0px 1px 3px 1px rgba(60, 64, 67, 0.15);\n",
              "      fill: #174EA6;\n",
              "    }\n",
              "\n",
              "    .colab-df-buttons div {\n",
              "      margin-bottom: 4px;\n",
              "    }\n",
              "\n",
              "    [theme=dark] .colab-df-convert {\n",
              "      background-color: #3B4455;\n",
              "      fill: #D2E3FC;\n",
              "    }\n",
              "\n",
              "    [theme=dark] .colab-df-convert:hover {\n",
              "      background-color: #434B5C;\n",
              "      box-shadow: 0px 1px 3px 1px rgba(0, 0, 0, 0.15);\n",
              "      filter: drop-shadow(0px 1px 2px rgba(0, 0, 0, 0.3));\n",
              "      fill: #FFFFFF;\n",
              "    }\n",
              "  </style>\n",
              "\n",
              "    <script>\n",
              "      const buttonEl =\n",
              "        document.querySelector('#df-64539c33-777c-4793-85c0-ff8bc1c0062f button.colab-df-convert');\n",
              "      buttonEl.style.display =\n",
              "        google.colab.kernel.accessAllowed ? 'block' : 'none';\n",
              "\n",
              "      async function convertToInteractive(key) {\n",
              "        const element = document.querySelector('#df-64539c33-777c-4793-85c0-ff8bc1c0062f');\n",
              "        const dataTable =\n",
              "          await google.colab.kernel.invokeFunction('convertToInteractive',\n",
              "                                                    [key], {});\n",
              "        if (!dataTable) return;\n",
              "\n",
              "        const docLinkHtml = 'Like what you see? Visit the ' +\n",
              "          '<a target=\"_blank\" href=https://colab.research.google.com/notebooks/data_table.ipynb>data table notebook</a>'\n",
              "          + ' to learn more about interactive tables.';\n",
              "        element.innerHTML = '';\n",
              "        dataTable['output_type'] = 'display_data';\n",
              "        await google.colab.output.renderOutput(dataTable, element);\n",
              "        const docLink = document.createElement('div');\n",
              "        docLink.innerHTML = docLinkHtml;\n",
              "        element.appendChild(docLink);\n",
              "      }\n",
              "    </script>\n",
              "  </div>\n",
              "\n",
              "\n",
              "<div id=\"df-ed46c78d-c9ab-41e1-ad85-3c65f1972296\">\n",
              "  <button class=\"colab-df-quickchart\" onclick=\"quickchart('df-ed46c78d-c9ab-41e1-ad85-3c65f1972296')\"\n",
              "            title=\"Suggest charts.\"\n",
              "            style=\"display:none;\">\n",
              "\n",
              "<svg xmlns=\"http://www.w3.org/2000/svg\" height=\"24px\"viewBox=\"0 0 24 24\"\n",
              "     width=\"24px\">\n",
              "    <g>\n",
              "        <path d=\"M19 3H5c-1.1 0-2 .9-2 2v14c0 1.1.9 2 2 2h14c1.1 0 2-.9 2-2V5c0-1.1-.9-2-2-2zM9 17H7v-7h2v7zm4 0h-2V7h2v10zm4 0h-2v-4h2v4z\"/>\n",
              "    </g>\n",
              "</svg>\n",
              "  </button>\n",
              "\n",
              "<style>\n",
              "  .colab-df-quickchart {\n",
              "      --bg-color: #E8F0FE;\n",
              "      --fill-color: #1967D2;\n",
              "      --hover-bg-color: #E2EBFA;\n",
              "      --hover-fill-color: #174EA6;\n",
              "      --disabled-fill-color: #AAA;\n",
              "      --disabled-bg-color: #DDD;\n",
              "  }\n",
              "\n",
              "  [theme=dark] .colab-df-quickchart {\n",
              "      --bg-color: #3B4455;\n",
              "      --fill-color: #D2E3FC;\n",
              "      --hover-bg-color: #434B5C;\n",
              "      --hover-fill-color: #FFFFFF;\n",
              "      --disabled-bg-color: #3B4455;\n",
              "      --disabled-fill-color: #666;\n",
              "  }\n",
              "\n",
              "  .colab-df-quickchart {\n",
              "    background-color: var(--bg-color);\n",
              "    border: none;\n",
              "    border-radius: 50%;\n",
              "    cursor: pointer;\n",
              "    display: none;\n",
              "    fill: var(--fill-color);\n",
              "    height: 32px;\n",
              "    padding: 0;\n",
              "    width: 32px;\n",
              "  }\n",
              "\n",
              "  .colab-df-quickchart:hover {\n",
              "    background-color: var(--hover-bg-color);\n",
              "    box-shadow: 0 1px 2px rgba(60, 64, 67, 0.3), 0 1px 3px 1px rgba(60, 64, 67, 0.15);\n",
              "    fill: var(--button-hover-fill-color);\n",
              "  }\n",
              "\n",
              "  .colab-df-quickchart-complete:disabled,\n",
              "  .colab-df-quickchart-complete:disabled:hover {\n",
              "    background-color: var(--disabled-bg-color);\n",
              "    fill: var(--disabled-fill-color);\n",
              "    box-shadow: none;\n",
              "  }\n",
              "\n",
              "  .colab-df-spinner {\n",
              "    border: 2px solid var(--fill-color);\n",
              "    border-color: transparent;\n",
              "    border-bottom-color: var(--fill-color);\n",
              "    animation:\n",
              "      spin 1s steps(1) infinite;\n",
              "  }\n",
              "\n",
              "  @keyframes spin {\n",
              "    0% {\n",
              "      border-color: transparent;\n",
              "      border-bottom-color: var(--fill-color);\n",
              "      border-left-color: var(--fill-color);\n",
              "    }\n",
              "    20% {\n",
              "      border-color: transparent;\n",
              "      border-left-color: var(--fill-color);\n",
              "      border-top-color: var(--fill-color);\n",
              "    }\n",
              "    30% {\n",
              "      border-color: transparent;\n",
              "      border-left-color: var(--fill-color);\n",
              "      border-top-color: var(--fill-color);\n",
              "      border-right-color: var(--fill-color);\n",
              "    }\n",
              "    40% {\n",
              "      border-color: transparent;\n",
              "      border-right-color: var(--fill-color);\n",
              "      border-top-color: var(--fill-color);\n",
              "    }\n",
              "    60% {\n",
              "      border-color: transparent;\n",
              "      border-right-color: var(--fill-color);\n",
              "    }\n",
              "    80% {\n",
              "      border-color: transparent;\n",
              "      border-right-color: var(--fill-color);\n",
              "      border-bottom-color: var(--fill-color);\n",
              "    }\n",
              "    90% {\n",
              "      border-color: transparent;\n",
              "      border-bottom-color: var(--fill-color);\n",
              "    }\n",
              "  }\n",
              "</style>\n",
              "\n",
              "  <script>\n",
              "    async function quickchart(key) {\n",
              "      const quickchartButtonEl =\n",
              "        document.querySelector('#' + key + ' button');\n",
              "      quickchartButtonEl.disabled = true;  // To prevent multiple clicks.\n",
              "      quickchartButtonEl.classList.add('colab-df-spinner');\n",
              "      try {\n",
              "        const charts = await google.colab.kernel.invokeFunction(\n",
              "            'suggestCharts', [key], {});\n",
              "      } catch (error) {\n",
              "        console.error('Error during call to suggestCharts:', error);\n",
              "      }\n",
              "      quickchartButtonEl.classList.remove('colab-df-spinner');\n",
              "      quickchartButtonEl.classList.add('colab-df-quickchart-complete');\n",
              "    }\n",
              "    (() => {\n",
              "      let quickchartButtonEl =\n",
              "        document.querySelector('#df-ed46c78d-c9ab-41e1-ad85-3c65f1972296 button');\n",
              "      quickchartButtonEl.style.display =\n",
              "        google.colab.kernel.accessAllowed ? 'block' : 'none';\n",
              "    })();\n",
              "  </script>\n",
              "</div>\n",
              "    </div>\n",
              "  </div>\n"
            ]
          },
          "metadata": {},
          "execution_count": 52
        }
      ]
    },
    {
      "cell_type": "code",
      "source": [
        "ieeg_subset[ieeg_subset['Omission'] != 'Responded']\n",
        "# let's keep these NaNs since all the other information is there"
      ],
      "metadata": {
        "colab": {
          "base_uri": "https://localhost:8080/",
          "height": 791
        },
        "id": "4RhPH6RwwIKi",
        "outputId": "656f6b28-6411-4f37-b15a-578d7e07be36"
      },
      "execution_count": 53,
      "outputs": [
        {
          "output_type": "execute_result",
          "data": {
            "text/plain": [
              "    Trial Subject block ProbeType probeSound_idx    ProbeTypeName  \\\n",
              "9       9     D23     1         2             39      in_sequence   \n",
              "19     19     D23     1         1             40  out_of_sequence   \n",
              "26     26     D23     1         1             33  out_of_sequence   \n",
              "32     32     D23     2         2             25      in_sequence   \n",
              "97     97     D23     4         1             36  out_of_sequence   \n",
              "..    ...     ...   ...       ...            ...              ...   \n",
              "2       2     D97     1         2             29      in_sequence   \n",
              "3       3     D97     1         1             34  out_of_sequence   \n",
              "5       5     D97     1         1             12  out_of_sequence   \n",
              "65     65     D97     4         2             20      in_sequence   \n",
              "112   112     D97     5         1             11  out_of_sequence   \n",
              "\n",
              "    StimlusCategory  ReactionTime                 KeyCode         Resp  \\\n",
              "9     Low Non-words      2.502478      [[37, 39, 32, 27]]  No Response   \n",
              "19   High Non-Words      2.502283      [[37, 39, 32, 27]]  No Response   \n",
              "26   High Non-Words      2.502340      [[37, 39, 32, 27]]  No Response   \n",
              "32        Low Words      2.502395      [[37, 39, 32, 27]]  No Response   \n",
              "97   High Non-Words      2.502652      [[37, 39, 32, 27]]  No Response   \n",
              "..              ...           ...                     ...          ...   \n",
              "2         Low Words      2.501717  [114, 115, 66, 10, 27]  No Response   \n",
              "3    High Non-Words      0.016355  [114, 115, 66, 10, 27]  No Response   \n",
              "5     Low Non-words      2.502045  [114, 115, 66, 10, 27]  No Response   \n",
              "65   High Non-Words      2.501813  [114, 115, 66, 10, 27]  No Response   \n",
              "112  High Non-Words      2.501578  [114, 115, 66, 10, 27]  No Response   \n",
              "\n",
              "    RespCorrect     Omission   ProbeCategory  \\\n",
              "9             0  No Response   Low Non-words   \n",
              "19            0  No Response   Low Non-Words   \n",
              "26            0  No Response   Low Non-Words   \n",
              "32            0  No Response       Low Words   \n",
              "97            0  No Response   Low Non-Words   \n",
              "..          ...          ...             ...   \n",
              "2             0  No Response       Low Words   \n",
              "3             0  No Response   Low Non-Words   \n",
              "5             0  No Response  High Non-Words   \n",
              "65            0  No Response  High Non-Words   \n",
              "112           0  No Response  High Non-Words   \n",
              "\n",
              "                         stimulusSounds_idx  \\\n",
              "9    [[32, 37, 31, 39, 40, 35, 33, 38, 36]]   \n",
              "19           [[17, 19, 18, 13, 15, 12, 16]]   \n",
              "26                           [[13, 18, 14]]   \n",
              "32   [[30, 22, 25, 29, 21, 23, 24, 28, 27]]   \n",
              "97                           [[16, 17, 18]]   \n",
              "..                                      ...   \n",
              "2                            [[29, 21, 28]]   \n",
              "3    [[18, 15, 20, 13, 16, 11, 14, 17, 12]]   \n",
              "5                            [[38, 39, 35]]   \n",
              "65                     [11, 20, 13, 17, 14]   \n",
              "112                          [[15, 16, 18]]   \n",
              "\n",
              "                                   stimulusSounds_name probeSound_name  \n",
              "9    [[[faez.wav]], [[wehz.wav]], [[deech.wav]], [[...        yuwf.wav  \n",
              "19   [[[puwn.wav]], [[rihn.wav]], [[rehl.wav]], [[k...       zerth.wav  \n",
              "26          [[[kawl.wav]], [[rehl.wav]], [[kehl.wav]]]       gawth.wav  \n",
              "32   [[[youth.wav]], [[fudge.wav]], [[sure.wav]], [...        sure.wav  \n",
              "97          [[[paon.wav]], [[puwn.wav]], [[rehl.wav]]]        vern.wav  \n",
              "..                                                 ...             ...  \n",
              "2            [[[wash.wav]], [[fog.wav]], [[waif.wav]]]        wash.wav  \n",
              "3    [[[rehl.wav]], [[kihr.wav]], [[saor.wav]], [[k...       jhong.wav  \n",
              "5            [[[yong.wav]], [[yuwf.wav]], [[kuv.wav]]]        gaen.wav  \n",
              "65   [[dehs.wav], [saor.wav], [kawl.wav], [puwn.wav...        saor.wav  \n",
              "112         [[[kihr.wav]], [[paon.wav]], [[rehl.wav]]]        dehs.wav  \n",
              "\n",
              "[482 rows x 16 columns]"
            ],
            "text/html": [
              "\n",
              "  <div id=\"df-48c76ba1-031d-4b5c-8122-3abb686a5b29\" class=\"colab-df-container\">\n",
              "    <div>\n",
              "<style scoped>\n",
              "    .dataframe tbody tr th:only-of-type {\n",
              "        vertical-align: middle;\n",
              "    }\n",
              "\n",
              "    .dataframe tbody tr th {\n",
              "        vertical-align: top;\n",
              "    }\n",
              "\n",
              "    .dataframe thead th {\n",
              "        text-align: right;\n",
              "    }\n",
              "</style>\n",
              "<table border=\"1\" class=\"dataframe\">\n",
              "  <thead>\n",
              "    <tr style=\"text-align: right;\">\n",
              "      <th></th>\n",
              "      <th>Trial</th>\n",
              "      <th>Subject</th>\n",
              "      <th>block</th>\n",
              "      <th>ProbeType</th>\n",
              "      <th>probeSound_idx</th>\n",
              "      <th>ProbeTypeName</th>\n",
              "      <th>StimlusCategory</th>\n",
              "      <th>ReactionTime</th>\n",
              "      <th>KeyCode</th>\n",
              "      <th>Resp</th>\n",
              "      <th>RespCorrect</th>\n",
              "      <th>Omission</th>\n",
              "      <th>ProbeCategory</th>\n",
              "      <th>stimulusSounds_idx</th>\n",
              "      <th>stimulusSounds_name</th>\n",
              "      <th>probeSound_name</th>\n",
              "    </tr>\n",
              "  </thead>\n",
              "  <tbody>\n",
              "    <tr>\n",
              "      <th>9</th>\n",
              "      <td>9</td>\n",
              "      <td>D23</td>\n",
              "      <td>1</td>\n",
              "      <td>2</td>\n",
              "      <td>39</td>\n",
              "      <td>in_sequence</td>\n",
              "      <td>Low Non-words</td>\n",
              "      <td>2.502478</td>\n",
              "      <td>[[37, 39, 32, 27]]</td>\n",
              "      <td>No Response</td>\n",
              "      <td>0</td>\n",
              "      <td>No Response</td>\n",
              "      <td>Low Non-words</td>\n",
              "      <td>[[32, 37, 31, 39, 40, 35, 33, 38, 36]]</td>\n",
              "      <td>[[[faez.wav]], [[wehz.wav]], [[deech.wav]], [[...</td>\n",
              "      <td>yuwf.wav</td>\n",
              "    </tr>\n",
              "    <tr>\n",
              "      <th>19</th>\n",
              "      <td>19</td>\n",
              "      <td>D23</td>\n",
              "      <td>1</td>\n",
              "      <td>1</td>\n",
              "      <td>40</td>\n",
              "      <td>out_of_sequence</td>\n",
              "      <td>High Non-Words</td>\n",
              "      <td>2.502283</td>\n",
              "      <td>[[37, 39, 32, 27]]</td>\n",
              "      <td>No Response</td>\n",
              "      <td>0</td>\n",
              "      <td>No Response</td>\n",
              "      <td>Low Non-Words</td>\n",
              "      <td>[[17, 19, 18, 13, 15, 12, 16]]</td>\n",
              "      <td>[[[puwn.wav]], [[rihn.wav]], [[rehl.wav]], [[k...</td>\n",
              "      <td>zerth.wav</td>\n",
              "    </tr>\n",
              "    <tr>\n",
              "      <th>26</th>\n",
              "      <td>26</td>\n",
              "      <td>D23</td>\n",
              "      <td>1</td>\n",
              "      <td>1</td>\n",
              "      <td>33</td>\n",
              "      <td>out_of_sequence</td>\n",
              "      <td>High Non-Words</td>\n",
              "      <td>2.502340</td>\n",
              "      <td>[[37, 39, 32, 27]]</td>\n",
              "      <td>No Response</td>\n",
              "      <td>0</td>\n",
              "      <td>No Response</td>\n",
              "      <td>Low Non-Words</td>\n",
              "      <td>[[13, 18, 14]]</td>\n",
              "      <td>[[[kawl.wav]], [[rehl.wav]], [[kehl.wav]]]</td>\n",
              "      <td>gawth.wav</td>\n",
              "    </tr>\n",
              "    <tr>\n",
              "      <th>32</th>\n",
              "      <td>32</td>\n",
              "      <td>D23</td>\n",
              "      <td>2</td>\n",
              "      <td>2</td>\n",
              "      <td>25</td>\n",
              "      <td>in_sequence</td>\n",
              "      <td>Low Words</td>\n",
              "      <td>2.502395</td>\n",
              "      <td>[[37, 39, 32, 27]]</td>\n",
              "      <td>No Response</td>\n",
              "      <td>0</td>\n",
              "      <td>No Response</td>\n",
              "      <td>Low Words</td>\n",
              "      <td>[[30, 22, 25, 29, 21, 23, 24, 28, 27]]</td>\n",
              "      <td>[[[youth.wav]], [[fudge.wav]], [[sure.wav]], [...</td>\n",
              "      <td>sure.wav</td>\n",
              "    </tr>\n",
              "    <tr>\n",
              "      <th>97</th>\n",
              "      <td>97</td>\n",
              "      <td>D23</td>\n",
              "      <td>4</td>\n",
              "      <td>1</td>\n",
              "      <td>36</td>\n",
              "      <td>out_of_sequence</td>\n",
              "      <td>High Non-Words</td>\n",
              "      <td>2.502652</td>\n",
              "      <td>[[37, 39, 32, 27]]</td>\n",
              "      <td>No Response</td>\n",
              "      <td>0</td>\n",
              "      <td>No Response</td>\n",
              "      <td>Low Non-Words</td>\n",
              "      <td>[[16, 17, 18]]</td>\n",
              "      <td>[[[paon.wav]], [[puwn.wav]], [[rehl.wav]]]</td>\n",
              "      <td>vern.wav</td>\n",
              "    </tr>\n",
              "    <tr>\n",
              "      <th>...</th>\n",
              "      <td>...</td>\n",
              "      <td>...</td>\n",
              "      <td>...</td>\n",
              "      <td>...</td>\n",
              "      <td>...</td>\n",
              "      <td>...</td>\n",
              "      <td>...</td>\n",
              "      <td>...</td>\n",
              "      <td>...</td>\n",
              "      <td>...</td>\n",
              "      <td>...</td>\n",
              "      <td>...</td>\n",
              "      <td>...</td>\n",
              "      <td>...</td>\n",
              "      <td>...</td>\n",
              "      <td>...</td>\n",
              "    </tr>\n",
              "    <tr>\n",
              "      <th>2</th>\n",
              "      <td>2</td>\n",
              "      <td>D97</td>\n",
              "      <td>1</td>\n",
              "      <td>2</td>\n",
              "      <td>29</td>\n",
              "      <td>in_sequence</td>\n",
              "      <td>Low Words</td>\n",
              "      <td>2.501717</td>\n",
              "      <td>[114, 115, 66, 10, 27]</td>\n",
              "      <td>No Response</td>\n",
              "      <td>0</td>\n",
              "      <td>No Response</td>\n",
              "      <td>Low Words</td>\n",
              "      <td>[[29, 21, 28]]</td>\n",
              "      <td>[[[wash.wav]], [[fog.wav]], [[waif.wav]]]</td>\n",
              "      <td>wash.wav</td>\n",
              "    </tr>\n",
              "    <tr>\n",
              "      <th>3</th>\n",
              "      <td>3</td>\n",
              "      <td>D97</td>\n",
              "      <td>1</td>\n",
              "      <td>1</td>\n",
              "      <td>34</td>\n",
              "      <td>out_of_sequence</td>\n",
              "      <td>High Non-Words</td>\n",
              "      <td>0.016355</td>\n",
              "      <td>[114, 115, 66, 10, 27]</td>\n",
              "      <td>No Response</td>\n",
              "      <td>0</td>\n",
              "      <td>No Response</td>\n",
              "      <td>Low Non-Words</td>\n",
              "      <td>[[18, 15, 20, 13, 16, 11, 14, 17, 12]]</td>\n",
              "      <td>[[[rehl.wav]], [[kihr.wav]], [[saor.wav]], [[k...</td>\n",
              "      <td>jhong.wav</td>\n",
              "    </tr>\n",
              "    <tr>\n",
              "      <th>5</th>\n",
              "      <td>5</td>\n",
              "      <td>D97</td>\n",
              "      <td>1</td>\n",
              "      <td>1</td>\n",
              "      <td>12</td>\n",
              "      <td>out_of_sequence</td>\n",
              "      <td>Low Non-words</td>\n",
              "      <td>2.502045</td>\n",
              "      <td>[114, 115, 66, 10, 27]</td>\n",
              "      <td>No Response</td>\n",
              "      <td>0</td>\n",
              "      <td>No Response</td>\n",
              "      <td>High Non-Words</td>\n",
              "      <td>[[38, 39, 35]]</td>\n",
              "      <td>[[[yong.wav]], [[yuwf.wav]], [[kuv.wav]]]</td>\n",
              "      <td>gaen.wav</td>\n",
              "    </tr>\n",
              "    <tr>\n",
              "      <th>65</th>\n",
              "      <td>65</td>\n",
              "      <td>D97</td>\n",
              "      <td>4</td>\n",
              "      <td>2</td>\n",
              "      <td>20</td>\n",
              "      <td>in_sequence</td>\n",
              "      <td>High Non-Words</td>\n",
              "      <td>2.501813</td>\n",
              "      <td>[114, 115, 66, 10, 27]</td>\n",
              "      <td>No Response</td>\n",
              "      <td>0</td>\n",
              "      <td>No Response</td>\n",
              "      <td>High Non-Words</td>\n",
              "      <td>[11, 20, 13, 17, 14]</td>\n",
              "      <td>[[dehs.wav], [saor.wav], [kawl.wav], [puwn.wav...</td>\n",
              "      <td>saor.wav</td>\n",
              "    </tr>\n",
              "    <tr>\n",
              "      <th>112</th>\n",
              "      <td>112</td>\n",
              "      <td>D97</td>\n",
              "      <td>5</td>\n",
              "      <td>1</td>\n",
              "      <td>11</td>\n",
              "      <td>out_of_sequence</td>\n",
              "      <td>High Non-Words</td>\n",
              "      <td>2.501578</td>\n",
              "      <td>[114, 115, 66, 10, 27]</td>\n",
              "      <td>No Response</td>\n",
              "      <td>0</td>\n",
              "      <td>No Response</td>\n",
              "      <td>High Non-Words</td>\n",
              "      <td>[[15, 16, 18]]</td>\n",
              "      <td>[[[kihr.wav]], [[paon.wav]], [[rehl.wav]]]</td>\n",
              "      <td>dehs.wav</td>\n",
              "    </tr>\n",
              "  </tbody>\n",
              "</table>\n",
              "<p>482 rows × 16 columns</p>\n",
              "</div>\n",
              "    <div class=\"colab-df-buttons\">\n",
              "\n",
              "  <div class=\"colab-df-container\">\n",
              "    <button class=\"colab-df-convert\" onclick=\"convertToInteractive('df-48c76ba1-031d-4b5c-8122-3abb686a5b29')\"\n",
              "            title=\"Convert this dataframe to an interactive table.\"\n",
              "            style=\"display:none;\">\n",
              "\n",
              "  <svg xmlns=\"http://www.w3.org/2000/svg\" height=\"24px\" viewBox=\"0 -960 960 960\">\n",
              "    <path d=\"M120-120v-720h720v720H120Zm60-500h600v-160H180v160Zm220 220h160v-160H400v160Zm0 220h160v-160H400v160ZM180-400h160v-160H180v160Zm440 0h160v-160H620v160ZM180-180h160v-160H180v160Zm440 0h160v-160H620v160Z\"/>\n",
              "  </svg>\n",
              "    </button>\n",
              "\n",
              "  <style>\n",
              "    .colab-df-container {\n",
              "      display:flex;\n",
              "      gap: 12px;\n",
              "    }\n",
              "\n",
              "    .colab-df-convert {\n",
              "      background-color: #E8F0FE;\n",
              "      border: none;\n",
              "      border-radius: 50%;\n",
              "      cursor: pointer;\n",
              "      display: none;\n",
              "      fill: #1967D2;\n",
              "      height: 32px;\n",
              "      padding: 0 0 0 0;\n",
              "      width: 32px;\n",
              "    }\n",
              "\n",
              "    .colab-df-convert:hover {\n",
              "      background-color: #E2EBFA;\n",
              "      box-shadow: 0px 1px 2px rgba(60, 64, 67, 0.3), 0px 1px 3px 1px rgba(60, 64, 67, 0.15);\n",
              "      fill: #174EA6;\n",
              "    }\n",
              "\n",
              "    .colab-df-buttons div {\n",
              "      margin-bottom: 4px;\n",
              "    }\n",
              "\n",
              "    [theme=dark] .colab-df-convert {\n",
              "      background-color: #3B4455;\n",
              "      fill: #D2E3FC;\n",
              "    }\n",
              "\n",
              "    [theme=dark] .colab-df-convert:hover {\n",
              "      background-color: #434B5C;\n",
              "      box-shadow: 0px 1px 3px 1px rgba(0, 0, 0, 0.15);\n",
              "      filter: drop-shadow(0px 1px 2px rgba(0, 0, 0, 0.3));\n",
              "      fill: #FFFFFF;\n",
              "    }\n",
              "  </style>\n",
              "\n",
              "    <script>\n",
              "      const buttonEl =\n",
              "        document.querySelector('#df-48c76ba1-031d-4b5c-8122-3abb686a5b29 button.colab-df-convert');\n",
              "      buttonEl.style.display =\n",
              "        google.colab.kernel.accessAllowed ? 'block' : 'none';\n",
              "\n",
              "      async function convertToInteractive(key) {\n",
              "        const element = document.querySelector('#df-48c76ba1-031d-4b5c-8122-3abb686a5b29');\n",
              "        const dataTable =\n",
              "          await google.colab.kernel.invokeFunction('convertToInteractive',\n",
              "                                                    [key], {});\n",
              "        if (!dataTable) return;\n",
              "\n",
              "        const docLinkHtml = 'Like what you see? Visit the ' +\n",
              "          '<a target=\"_blank\" href=https://colab.research.google.com/notebooks/data_table.ipynb>data table notebook</a>'\n",
              "          + ' to learn more about interactive tables.';\n",
              "        element.innerHTML = '';\n",
              "        dataTable['output_type'] = 'display_data';\n",
              "        await google.colab.output.renderOutput(dataTable, element);\n",
              "        const docLink = document.createElement('div');\n",
              "        docLink.innerHTML = docLinkHtml;\n",
              "        element.appendChild(docLink);\n",
              "      }\n",
              "    </script>\n",
              "  </div>\n",
              "\n",
              "\n",
              "<div id=\"df-471b5ec8-6650-4159-a575-697ad81645aa\">\n",
              "  <button class=\"colab-df-quickchart\" onclick=\"quickchart('df-471b5ec8-6650-4159-a575-697ad81645aa')\"\n",
              "            title=\"Suggest charts.\"\n",
              "            style=\"display:none;\">\n",
              "\n",
              "<svg xmlns=\"http://www.w3.org/2000/svg\" height=\"24px\"viewBox=\"0 0 24 24\"\n",
              "     width=\"24px\">\n",
              "    <g>\n",
              "        <path d=\"M19 3H5c-1.1 0-2 .9-2 2v14c0 1.1.9 2 2 2h14c1.1 0 2-.9 2-2V5c0-1.1-.9-2-2-2zM9 17H7v-7h2v7zm4 0h-2V7h2v10zm4 0h-2v-4h2v4z\"/>\n",
              "    </g>\n",
              "</svg>\n",
              "  </button>\n",
              "\n",
              "<style>\n",
              "  .colab-df-quickchart {\n",
              "      --bg-color: #E8F0FE;\n",
              "      --fill-color: #1967D2;\n",
              "      --hover-bg-color: #E2EBFA;\n",
              "      --hover-fill-color: #174EA6;\n",
              "      --disabled-fill-color: #AAA;\n",
              "      --disabled-bg-color: #DDD;\n",
              "  }\n",
              "\n",
              "  [theme=dark] .colab-df-quickchart {\n",
              "      --bg-color: #3B4455;\n",
              "      --fill-color: #D2E3FC;\n",
              "      --hover-bg-color: #434B5C;\n",
              "      --hover-fill-color: #FFFFFF;\n",
              "      --disabled-bg-color: #3B4455;\n",
              "      --disabled-fill-color: #666;\n",
              "  }\n",
              "\n",
              "  .colab-df-quickchart {\n",
              "    background-color: var(--bg-color);\n",
              "    border: none;\n",
              "    border-radius: 50%;\n",
              "    cursor: pointer;\n",
              "    display: none;\n",
              "    fill: var(--fill-color);\n",
              "    height: 32px;\n",
              "    padding: 0;\n",
              "    width: 32px;\n",
              "  }\n",
              "\n",
              "  .colab-df-quickchart:hover {\n",
              "    background-color: var(--hover-bg-color);\n",
              "    box-shadow: 0 1px 2px rgba(60, 64, 67, 0.3), 0 1px 3px 1px rgba(60, 64, 67, 0.15);\n",
              "    fill: var(--button-hover-fill-color);\n",
              "  }\n",
              "\n",
              "  .colab-df-quickchart-complete:disabled,\n",
              "  .colab-df-quickchart-complete:disabled:hover {\n",
              "    background-color: var(--disabled-bg-color);\n",
              "    fill: var(--disabled-fill-color);\n",
              "    box-shadow: none;\n",
              "  }\n",
              "\n",
              "  .colab-df-spinner {\n",
              "    border: 2px solid var(--fill-color);\n",
              "    border-color: transparent;\n",
              "    border-bottom-color: var(--fill-color);\n",
              "    animation:\n",
              "      spin 1s steps(1) infinite;\n",
              "  }\n",
              "\n",
              "  @keyframes spin {\n",
              "    0% {\n",
              "      border-color: transparent;\n",
              "      border-bottom-color: var(--fill-color);\n",
              "      border-left-color: var(--fill-color);\n",
              "    }\n",
              "    20% {\n",
              "      border-color: transparent;\n",
              "      border-left-color: var(--fill-color);\n",
              "      border-top-color: var(--fill-color);\n",
              "    }\n",
              "    30% {\n",
              "      border-color: transparent;\n",
              "      border-left-color: var(--fill-color);\n",
              "      border-top-color: var(--fill-color);\n",
              "      border-right-color: var(--fill-color);\n",
              "    }\n",
              "    40% {\n",
              "      border-color: transparent;\n",
              "      border-right-color: var(--fill-color);\n",
              "      border-top-color: var(--fill-color);\n",
              "    }\n",
              "    60% {\n",
              "      border-color: transparent;\n",
              "      border-right-color: var(--fill-color);\n",
              "    }\n",
              "    80% {\n",
              "      border-color: transparent;\n",
              "      border-right-color: var(--fill-color);\n",
              "      border-bottom-color: var(--fill-color);\n",
              "    }\n",
              "    90% {\n",
              "      border-color: transparent;\n",
              "      border-bottom-color: var(--fill-color);\n",
              "    }\n",
              "  }\n",
              "</style>\n",
              "\n",
              "  <script>\n",
              "    async function quickchart(key) {\n",
              "      const quickchartButtonEl =\n",
              "        document.querySelector('#' + key + ' button');\n",
              "      quickchartButtonEl.disabled = true;  // To prevent multiple clicks.\n",
              "      quickchartButtonEl.classList.add('colab-df-spinner');\n",
              "      try {\n",
              "        const charts = await google.colab.kernel.invokeFunction(\n",
              "            'suggestCharts', [key], {});\n",
              "      } catch (error) {\n",
              "        console.error('Error during call to suggestCharts:', error);\n",
              "      }\n",
              "      quickchartButtonEl.classList.remove('colab-df-spinner');\n",
              "      quickchartButtonEl.classList.add('colab-df-quickchart-complete');\n",
              "    }\n",
              "    (() => {\n",
              "      let quickchartButtonEl =\n",
              "        document.querySelector('#df-471b5ec8-6650-4159-a575-697ad81645aa button');\n",
              "      quickchartButtonEl.style.display =\n",
              "        google.colab.kernel.accessAllowed ? 'block' : 'none';\n",
              "    })();\n",
              "  </script>\n",
              "</div>\n",
              "    </div>\n",
              "  </div>\n"
            ]
          },
          "metadata": {},
          "execution_count": 53
        }
      ]
    },
    {
      "cell_type": "code",
      "source": [
        "print(ieeg_subset[ieeg_subset['Omission'] != 'Responded'].Subject.unique())"
      ],
      "metadata": {
        "colab": {
          "base_uri": "https://localhost:8080/"
        },
        "id": "BrsVzwTNwNWZ",
        "outputId": "e273177e-cf25-4187-a26e-03e072a7222d"
      },
      "execution_count": 54,
      "outputs": [
        {
          "output_type": "stream",
          "name": "stdout",
          "text": [
            "['D23' 'D26' 'D27' 'D28' 'D30' 'D31' 'D33' 'D34' 'D35' 'D36' 'D38' 'D39'\n",
            " 'D41' 'D42' 'D47' 'D48' 'D49' 'D53' 'D54' 'D55' 'D57' 'D59' 'D61' 'D63'\n",
            " 'D65' 'D68' 'D69' 'D70' 'D71' 'D72' 'D73' 'D77' 'D79' 'D84' 'D85' 'D86'\n",
            " 'D88' 'D90' 'D91' 'D92' 'D93' 'D94' 'D96' 'D97']\n"
          ]
        }
      ]
    },
    {
      "cell_type": "markdown",
      "source": [
        "Creating additional variables"
      ],
      "metadata": {
        "id": "u1w16cYgwRuA"
      }
    },
    {
      "cell_type": "code",
      "source": [
        "# types in ProbeCategory column differ in case\n",
        "# here we make them lowrcase\n",
        "new_probe = []\n",
        "for i in ieeg_subset.ProbeCategory.values:\n",
        "  new_probe.append(i.lower())\n",
        "ieeg_subset['ProbeCategory'] = new_probe"
      ],
      "metadata": {
        "colab": {
          "base_uri": "https://localhost:8080/"
        },
        "id": "f4bFTL-TwPnI",
        "outputId": "31a4ab27-bf27-4892-f20d-caf4cc31c6b6"
      },
      "execution_count": 55,
      "outputs": [
        {
          "output_type": "stream",
          "name": "stderr",
          "text": [
            "<ipython-input-55-df1cb0339cf5>:6: SettingWithCopyWarning: \n",
            "A value is trying to be set on a copy of a slice from a DataFrame.\n",
            "Try using .loc[row_indexer,col_indexer] = value instead\n",
            "\n",
            "See the caveats in the documentation: https://pandas.pydata.org/pandas-docs/stable/user_guide/indexing.html#returning-a-view-versus-a-copy\n",
            "  ieeg_subset['ProbeCategory'] = new_probe\n"
          ]
        }
      ]
    },
    {
      "cell_type": "code",
      "source": [
        "ieeg_subset.head()"
      ],
      "metadata": {
        "colab": {
          "base_uri": "https://localhost:8080/",
          "height": 400
        },
        "id": "DAQaX7zYwkQ5",
        "outputId": "4a87d631-87d5-46f1-a5c9-d543353792c5"
      },
      "execution_count": 56,
      "outputs": [
        {
          "output_type": "execute_result",
          "data": {
            "text/plain": [
              "  Trial Subject block ProbeType probeSound_idx    ProbeTypeName  \\\n",
              "0     0     D23     1         2             29      in_sequence   \n",
              "1     1     D23     1         2              5      in_sequence   \n",
              "2     2     D23     1         2             16      in_sequence   \n",
              "3     3     D23     1         1             29  out_of_sequence   \n",
              "4     4     D23     1         1              9  out_of_sequence   \n",
              "\n",
              "  StimlusCategory  ReactionTime KeyCode Resp RespCorrect   Omission  \\\n",
              "0       Low Words      0.857518      37  Yes           1  Responded   \n",
              "1      High Words      1.339604      37  Yes           1  Responded   \n",
              "2  High Non-Words      1.045657      37  Yes           1  Responded   \n",
              "3      High Words      1.497001      39   No           1  Responded   \n",
              "4       Low Words      1.679783      39   No           1  Responded   \n",
              "\n",
              "    ProbeCategory              stimulusSounds_idx  \\\n",
              "0       low words                  [[29, 25, 30]]   \n",
              "1      high words        [[2, 5, 8, 4, 7, 10, 3]]   \n",
              "2  high non-words  [[19, 14, 18, 16, 20, 15, 17]]   \n",
              "3       low words  [[10, 2, 7, 9, 1, 8, 6, 5, 4]]   \n",
              "4      high words            [30, 24, 25, 29, 21]   \n",
              "\n",
              "                                 stimulusSounds_name probeSound_name  \n",
              "0        [[[wash.wav]], [[sure.wav]], [[youth.wav]]]        wash.wav  \n",
              "1  [[[debt.wav]], [[lair.wav]], [[seek.wav]], [[g...        lair.wav  \n",
              "2  [[[rihn.wav]], [[kehl.wav]], [[rehl.wav]], [[p...        paon.wav  \n",
              "3  [[[witch.wav]], [[debt.wav]], [[pawn.wav]], [[...        wash.wav  \n",
              "4  [[youth.wav], [noun.wav], [sure.wav], [wash.wa...        soar.wav  "
            ],
            "text/html": [
              "\n",
              "  <div id=\"df-03e980d2-a88c-4116-8669-88ebc521c1a8\" class=\"colab-df-container\">\n",
              "    <div>\n",
              "<style scoped>\n",
              "    .dataframe tbody tr th:only-of-type {\n",
              "        vertical-align: middle;\n",
              "    }\n",
              "\n",
              "    .dataframe tbody tr th {\n",
              "        vertical-align: top;\n",
              "    }\n",
              "\n",
              "    .dataframe thead th {\n",
              "        text-align: right;\n",
              "    }\n",
              "</style>\n",
              "<table border=\"1\" class=\"dataframe\">\n",
              "  <thead>\n",
              "    <tr style=\"text-align: right;\">\n",
              "      <th></th>\n",
              "      <th>Trial</th>\n",
              "      <th>Subject</th>\n",
              "      <th>block</th>\n",
              "      <th>ProbeType</th>\n",
              "      <th>probeSound_idx</th>\n",
              "      <th>ProbeTypeName</th>\n",
              "      <th>StimlusCategory</th>\n",
              "      <th>ReactionTime</th>\n",
              "      <th>KeyCode</th>\n",
              "      <th>Resp</th>\n",
              "      <th>RespCorrect</th>\n",
              "      <th>Omission</th>\n",
              "      <th>ProbeCategory</th>\n",
              "      <th>stimulusSounds_idx</th>\n",
              "      <th>stimulusSounds_name</th>\n",
              "      <th>probeSound_name</th>\n",
              "    </tr>\n",
              "  </thead>\n",
              "  <tbody>\n",
              "    <tr>\n",
              "      <th>0</th>\n",
              "      <td>0</td>\n",
              "      <td>D23</td>\n",
              "      <td>1</td>\n",
              "      <td>2</td>\n",
              "      <td>29</td>\n",
              "      <td>in_sequence</td>\n",
              "      <td>Low Words</td>\n",
              "      <td>0.857518</td>\n",
              "      <td>37</td>\n",
              "      <td>Yes</td>\n",
              "      <td>1</td>\n",
              "      <td>Responded</td>\n",
              "      <td>low words</td>\n",
              "      <td>[[29, 25, 30]]</td>\n",
              "      <td>[[[wash.wav]], [[sure.wav]], [[youth.wav]]]</td>\n",
              "      <td>wash.wav</td>\n",
              "    </tr>\n",
              "    <tr>\n",
              "      <th>1</th>\n",
              "      <td>1</td>\n",
              "      <td>D23</td>\n",
              "      <td>1</td>\n",
              "      <td>2</td>\n",
              "      <td>5</td>\n",
              "      <td>in_sequence</td>\n",
              "      <td>High Words</td>\n",
              "      <td>1.339604</td>\n",
              "      <td>37</td>\n",
              "      <td>Yes</td>\n",
              "      <td>1</td>\n",
              "      <td>Responded</td>\n",
              "      <td>high words</td>\n",
              "      <td>[[2, 5, 8, 4, 7, 10, 3]]</td>\n",
              "      <td>[[[debt.wav]], [[lair.wav]], [[seek.wav]], [[g...</td>\n",
              "      <td>lair.wav</td>\n",
              "    </tr>\n",
              "    <tr>\n",
              "      <th>2</th>\n",
              "      <td>2</td>\n",
              "      <td>D23</td>\n",
              "      <td>1</td>\n",
              "      <td>2</td>\n",
              "      <td>16</td>\n",
              "      <td>in_sequence</td>\n",
              "      <td>High Non-Words</td>\n",
              "      <td>1.045657</td>\n",
              "      <td>37</td>\n",
              "      <td>Yes</td>\n",
              "      <td>1</td>\n",
              "      <td>Responded</td>\n",
              "      <td>high non-words</td>\n",
              "      <td>[[19, 14, 18, 16, 20, 15, 17]]</td>\n",
              "      <td>[[[rihn.wav]], [[kehl.wav]], [[rehl.wav]], [[p...</td>\n",
              "      <td>paon.wav</td>\n",
              "    </tr>\n",
              "    <tr>\n",
              "      <th>3</th>\n",
              "      <td>3</td>\n",
              "      <td>D23</td>\n",
              "      <td>1</td>\n",
              "      <td>1</td>\n",
              "      <td>29</td>\n",
              "      <td>out_of_sequence</td>\n",
              "      <td>High Words</td>\n",
              "      <td>1.497001</td>\n",
              "      <td>39</td>\n",
              "      <td>No</td>\n",
              "      <td>1</td>\n",
              "      <td>Responded</td>\n",
              "      <td>low words</td>\n",
              "      <td>[[10, 2, 7, 9, 1, 8, 6, 5, 4]]</td>\n",
              "      <td>[[[witch.wav]], [[debt.wav]], [[pawn.wav]], [[...</td>\n",
              "      <td>wash.wav</td>\n",
              "    </tr>\n",
              "    <tr>\n",
              "      <th>4</th>\n",
              "      <td>4</td>\n",
              "      <td>D23</td>\n",
              "      <td>1</td>\n",
              "      <td>1</td>\n",
              "      <td>9</td>\n",
              "      <td>out_of_sequence</td>\n",
              "      <td>Low Words</td>\n",
              "      <td>1.679783</td>\n",
              "      <td>39</td>\n",
              "      <td>No</td>\n",
              "      <td>1</td>\n",
              "      <td>Responded</td>\n",
              "      <td>high words</td>\n",
              "      <td>[30, 24, 25, 29, 21]</td>\n",
              "      <td>[[youth.wav], [noun.wav], [sure.wav], [wash.wa...</td>\n",
              "      <td>soar.wav</td>\n",
              "    </tr>\n",
              "  </tbody>\n",
              "</table>\n",
              "</div>\n",
              "    <div class=\"colab-df-buttons\">\n",
              "\n",
              "  <div class=\"colab-df-container\">\n",
              "    <button class=\"colab-df-convert\" onclick=\"convertToInteractive('df-03e980d2-a88c-4116-8669-88ebc521c1a8')\"\n",
              "            title=\"Convert this dataframe to an interactive table.\"\n",
              "            style=\"display:none;\">\n",
              "\n",
              "  <svg xmlns=\"http://www.w3.org/2000/svg\" height=\"24px\" viewBox=\"0 -960 960 960\">\n",
              "    <path d=\"M120-120v-720h720v720H120Zm60-500h600v-160H180v160Zm220 220h160v-160H400v160Zm0 220h160v-160H400v160ZM180-400h160v-160H180v160Zm440 0h160v-160H620v160ZM180-180h160v-160H180v160Zm440 0h160v-160H620v160Z\"/>\n",
              "  </svg>\n",
              "    </button>\n",
              "\n",
              "  <style>\n",
              "    .colab-df-container {\n",
              "      display:flex;\n",
              "      gap: 12px;\n",
              "    }\n",
              "\n",
              "    .colab-df-convert {\n",
              "      background-color: #E8F0FE;\n",
              "      border: none;\n",
              "      border-radius: 50%;\n",
              "      cursor: pointer;\n",
              "      display: none;\n",
              "      fill: #1967D2;\n",
              "      height: 32px;\n",
              "      padding: 0 0 0 0;\n",
              "      width: 32px;\n",
              "    }\n",
              "\n",
              "    .colab-df-convert:hover {\n",
              "      background-color: #E2EBFA;\n",
              "      box-shadow: 0px 1px 2px rgba(60, 64, 67, 0.3), 0px 1px 3px 1px rgba(60, 64, 67, 0.15);\n",
              "      fill: #174EA6;\n",
              "    }\n",
              "\n",
              "    .colab-df-buttons div {\n",
              "      margin-bottom: 4px;\n",
              "    }\n",
              "\n",
              "    [theme=dark] .colab-df-convert {\n",
              "      background-color: #3B4455;\n",
              "      fill: #D2E3FC;\n",
              "    }\n",
              "\n",
              "    [theme=dark] .colab-df-convert:hover {\n",
              "      background-color: #434B5C;\n",
              "      box-shadow: 0px 1px 3px 1px rgba(0, 0, 0, 0.15);\n",
              "      filter: drop-shadow(0px 1px 2px rgba(0, 0, 0, 0.3));\n",
              "      fill: #FFFFFF;\n",
              "    }\n",
              "  </style>\n",
              "\n",
              "    <script>\n",
              "      const buttonEl =\n",
              "        document.querySelector('#df-03e980d2-a88c-4116-8669-88ebc521c1a8 button.colab-df-convert');\n",
              "      buttonEl.style.display =\n",
              "        google.colab.kernel.accessAllowed ? 'block' : 'none';\n",
              "\n",
              "      async function convertToInteractive(key) {\n",
              "        const element = document.querySelector('#df-03e980d2-a88c-4116-8669-88ebc521c1a8');\n",
              "        const dataTable =\n",
              "          await google.colab.kernel.invokeFunction('convertToInteractive',\n",
              "                                                    [key], {});\n",
              "        if (!dataTable) return;\n",
              "\n",
              "        const docLinkHtml = 'Like what you see? Visit the ' +\n",
              "          '<a target=\"_blank\" href=https://colab.research.google.com/notebooks/data_table.ipynb>data table notebook</a>'\n",
              "          + ' to learn more about interactive tables.';\n",
              "        element.innerHTML = '';\n",
              "        dataTable['output_type'] = 'display_data';\n",
              "        await google.colab.output.renderOutput(dataTable, element);\n",
              "        const docLink = document.createElement('div');\n",
              "        docLink.innerHTML = docLinkHtml;\n",
              "        element.appendChild(docLink);\n",
              "      }\n",
              "    </script>\n",
              "  </div>\n",
              "\n",
              "\n",
              "<div id=\"df-2a57e66a-9615-4681-9eb0-faa0233a9e73\">\n",
              "  <button class=\"colab-df-quickchart\" onclick=\"quickchart('df-2a57e66a-9615-4681-9eb0-faa0233a9e73')\"\n",
              "            title=\"Suggest charts.\"\n",
              "            style=\"display:none;\">\n",
              "\n",
              "<svg xmlns=\"http://www.w3.org/2000/svg\" height=\"24px\"viewBox=\"0 0 24 24\"\n",
              "     width=\"24px\">\n",
              "    <g>\n",
              "        <path d=\"M19 3H5c-1.1 0-2 .9-2 2v14c0 1.1.9 2 2 2h14c1.1 0 2-.9 2-2V5c0-1.1-.9-2-2-2zM9 17H7v-7h2v7zm4 0h-2V7h2v10zm4 0h-2v-4h2v4z\"/>\n",
              "    </g>\n",
              "</svg>\n",
              "  </button>\n",
              "\n",
              "<style>\n",
              "  .colab-df-quickchart {\n",
              "      --bg-color: #E8F0FE;\n",
              "      --fill-color: #1967D2;\n",
              "      --hover-bg-color: #E2EBFA;\n",
              "      --hover-fill-color: #174EA6;\n",
              "      --disabled-fill-color: #AAA;\n",
              "      --disabled-bg-color: #DDD;\n",
              "  }\n",
              "\n",
              "  [theme=dark] .colab-df-quickchart {\n",
              "      --bg-color: #3B4455;\n",
              "      --fill-color: #D2E3FC;\n",
              "      --hover-bg-color: #434B5C;\n",
              "      --hover-fill-color: #FFFFFF;\n",
              "      --disabled-bg-color: #3B4455;\n",
              "      --disabled-fill-color: #666;\n",
              "  }\n",
              "\n",
              "  .colab-df-quickchart {\n",
              "    background-color: var(--bg-color);\n",
              "    border: none;\n",
              "    border-radius: 50%;\n",
              "    cursor: pointer;\n",
              "    display: none;\n",
              "    fill: var(--fill-color);\n",
              "    height: 32px;\n",
              "    padding: 0;\n",
              "    width: 32px;\n",
              "  }\n",
              "\n",
              "  .colab-df-quickchart:hover {\n",
              "    background-color: var(--hover-bg-color);\n",
              "    box-shadow: 0 1px 2px rgba(60, 64, 67, 0.3), 0 1px 3px 1px rgba(60, 64, 67, 0.15);\n",
              "    fill: var(--button-hover-fill-color);\n",
              "  }\n",
              "\n",
              "  .colab-df-quickchart-complete:disabled,\n",
              "  .colab-df-quickchart-complete:disabled:hover {\n",
              "    background-color: var(--disabled-bg-color);\n",
              "    fill: var(--disabled-fill-color);\n",
              "    box-shadow: none;\n",
              "  }\n",
              "\n",
              "  .colab-df-spinner {\n",
              "    border: 2px solid var(--fill-color);\n",
              "    border-color: transparent;\n",
              "    border-bottom-color: var(--fill-color);\n",
              "    animation:\n",
              "      spin 1s steps(1) infinite;\n",
              "  }\n",
              "\n",
              "  @keyframes spin {\n",
              "    0% {\n",
              "      border-color: transparent;\n",
              "      border-bottom-color: var(--fill-color);\n",
              "      border-left-color: var(--fill-color);\n",
              "    }\n",
              "    20% {\n",
              "      border-color: transparent;\n",
              "      border-left-color: var(--fill-color);\n",
              "      border-top-color: var(--fill-color);\n",
              "    }\n",
              "    30% {\n",
              "      border-color: transparent;\n",
              "      border-left-color: var(--fill-color);\n",
              "      border-top-color: var(--fill-color);\n",
              "      border-right-color: var(--fill-color);\n",
              "    }\n",
              "    40% {\n",
              "      border-color: transparent;\n",
              "      border-right-color: var(--fill-color);\n",
              "      border-top-color: var(--fill-color);\n",
              "    }\n",
              "    60% {\n",
              "      border-color: transparent;\n",
              "      border-right-color: var(--fill-color);\n",
              "    }\n",
              "    80% {\n",
              "      border-color: transparent;\n",
              "      border-right-color: var(--fill-color);\n",
              "      border-bottom-color: var(--fill-color);\n",
              "    }\n",
              "    90% {\n",
              "      border-color: transparent;\n",
              "      border-bottom-color: var(--fill-color);\n",
              "    }\n",
              "  }\n",
              "</style>\n",
              "\n",
              "  <script>\n",
              "    async function quickchart(key) {\n",
              "      const quickchartButtonEl =\n",
              "        document.querySelector('#' + key + ' button');\n",
              "      quickchartButtonEl.disabled = true;  // To prevent multiple clicks.\n",
              "      quickchartButtonEl.classList.add('colab-df-spinner');\n",
              "      try {\n",
              "        const charts = await google.colab.kernel.invokeFunction(\n",
              "            'suggestCharts', [key], {});\n",
              "      } catch (error) {\n",
              "        console.error('Error during call to suggestCharts:', error);\n",
              "      }\n",
              "      quickchartButtonEl.classList.remove('colab-df-spinner');\n",
              "      quickchartButtonEl.classList.add('colab-df-quickchart-complete');\n",
              "    }\n",
              "    (() => {\n",
              "      let quickchartButtonEl =\n",
              "        document.querySelector('#df-2a57e66a-9615-4681-9eb0-faa0233a9e73 button');\n",
              "      quickchartButtonEl.style.display =\n",
              "        google.colab.kernel.accessAllowed ? 'block' : 'none';\n",
              "    })();\n",
              "  </script>\n",
              "</div>\n",
              "    </div>\n",
              "  </div>\n"
            ]
          },
          "metadata": {},
          "execution_count": 56
        }
      ]
    },
    {
      "cell_type": "code",
      "source": [
        "# making values in df more 'handy'\n",
        "whole_list = ieeg_subset['stimulusSounds_idx'].values\n",
        "new_sound_idx = []\n",
        "for i in whole_list:\n",
        "  if type(i) is list:\n",
        "    new_sound_idx.append(i)\n",
        "  elif type(i) is np.ndarray:\n",
        "    new_sound_idx.append(i[0].tolist())\n",
        "  else:\n",
        "    print(type(i))\n",
        "    print(len(new_sound_idx))\n",
        "    break"
      ],
      "metadata": {
        "id": "Umpwza9YwUUg"
      },
      "execution_count": 57,
      "outputs": []
    },
    {
      "cell_type": "code",
      "source": [
        "ieeg_subset['stimulusSounds_idx'] = new_sound_idx"
      ],
      "metadata": {
        "id": "spOvIKWKRbtU",
        "outputId": "debd2017-6030-445a-9f31-9fd3c29318fe",
        "colab": {
          "base_uri": "https://localhost:8080/"
        }
      },
      "execution_count": 58,
      "outputs": [
        {
          "output_type": "stream",
          "name": "stderr",
          "text": [
            "<ipython-input-58-23db4ade8c7c>:1: SettingWithCopyWarning: \n",
            "A value is trying to be set on a copy of a slice from a DataFrame.\n",
            "Try using .loc[row_indexer,col_indexer] = value instead\n",
            "\n",
            "See the caveats in the documentation: https://pandas.pydata.org/pandas-docs/stable/user_guide/indexing.html#returning-a-view-versus-a-copy\n",
            "  ieeg_subset['stimulusSounds_idx'] = new_sound_idx\n"
          ]
        }
      ]
    },
    {
      "cell_type": "code",
      "source": [
        "# checking the length of word lists presented\n",
        "compare = []\n",
        "for i in new_sound_idx:\n",
        "  length = len(i)\n",
        "  if length not in compare:\n",
        "    compare.append(length)\n",
        "print(compare)"
      ],
      "metadata": {
        "colab": {
          "base_uri": "https://localhost:8080/"
        },
        "id": "G2m2P0B5woGB",
        "outputId": "435deb91-6f68-400c-f966-8ac9e06a94be"
      },
      "execution_count": 59,
      "outputs": [
        {
          "output_type": "stream",
          "name": "stdout",
          "text": [
            "[3, 7, 9, 5]\n"
          ]
        }
      ]
    },
    {
      "cell_type": "code",
      "source": [
        "# calculating relative position of the word in the list\n",
        "# pos for only in seqence trials: probe sound index and stimulus sound index\n",
        "# beginning middle or end\n",
        "positions = [] # for the new 'position' column in df\n",
        "# 1 - beginning, 2 - middle, 3 - end\n",
        "ind = ieeg_subset['probeSound_idx'].values\n",
        "in_out = ieeg_subset['ProbeTypeName'].values\n",
        "for i in range(0, len(ind)):\n",
        "  if in_out[i] == 'in_sequence': # if it is in sequence\n",
        "    if ind[i] in new_sound_idx[i]:\n",
        "      # for length of the list 3\n",
        "      if len(new_sound_idx[i]) == 3:\n",
        "        if new_sound_idx[i].index(ind[i]) == 0:\n",
        "          positions.append(1) # beginning\n",
        "        elif new_sound_idx[i].index(ind[i]) == 1:\n",
        "          positions.append(2) # middle\n",
        "        elif new_sound_idx[i].index(ind[i]) == 2:\n",
        "          positions.append(3) # end\n",
        "\n",
        "      # for length of the list 5\n",
        "      ## revise!\n",
        "      elif len(new_sound_idx[i]) == 5:\n",
        "        if new_sound_idx[i].index(ind[i]) in [0, 1]:\n",
        "          positions.append(1) # beginning\n",
        "        elif new_sound_idx[i].index(ind[i]) == 2:\n",
        "          positions.append(2) # middle\n",
        "        elif new_sound_idx[i].index(ind[i]) in [3, 4]:\n",
        "          positions.append(3) # end\n",
        "\n",
        "      # for length of the list 7\n",
        "      elif len(new_sound_idx[i]) == 7:\n",
        "        if new_sound_idx[i].index(ind[i]) in [0, 1]:\n",
        "          positions.append(1) # beginning\n",
        "        elif new_sound_idx[i].index(ind[i]) in [2, 3, 4]:\n",
        "          positions.append(2) # middle\n",
        "        elif new_sound_idx[i].index(ind[i]) in [5, 6]:\n",
        "          positions.append(3) # end\n",
        "\n",
        "      # for length of the list 9\n",
        "      elif len(new_sound_idx[i]) == 9:\n",
        "        if new_sound_idx[i].index(ind[i]) in [0, 1, 2]:\n",
        "          positions.append(1) # beginning\n",
        "        elif new_sound_idx[i].index(ind[i]) in [3, 4, 5]:\n",
        "          positions.append(2) # middle\n",
        "        elif new_sound_idx[i].index(ind[i]) in [6, 7, 8]:\n",
        "          positions.append(3) # end\n",
        "    else:\n",
        "      print('Check', i)\n",
        "      break\n",
        "  elif in_out[i] == 'out_of_sequence':\n",
        "    positions.append(0) # if it is out of sequence it is not in the list\n",
        "  else:\n",
        "    print('Check', i)\n",
        "    break"
      ],
      "metadata": {
        "id": "fX56Rd90wp-D"
      },
      "execution_count": 60,
      "outputs": []
    },
    {
      "cell_type": "code",
      "source": [
        "length = []\n",
        "for i in ieeg_subset.stimulusSounds_idx:\n",
        "  length.append(len(i))"
      ],
      "metadata": {
        "id": "1BLid2itwswQ"
      },
      "execution_count": 61,
      "outputs": []
    },
    {
      "cell_type": "code",
      "source": [
        "ieeg_subset['Position'] = positions\n",
        "ieeg_subset['Length'] = length"
      ],
      "metadata": {
        "colab": {
          "base_uri": "https://localhost:8080/"
        },
        "id": "8I41qy3lwupA",
        "outputId": "d857693f-c5ec-4956-c6b0-055e6aeaa942"
      },
      "execution_count": 62,
      "outputs": [
        {
          "output_type": "stream",
          "name": "stderr",
          "text": [
            "<ipython-input-62-b7de9913c462>:1: SettingWithCopyWarning: \n",
            "A value is trying to be set on a copy of a slice from a DataFrame.\n",
            "Try using .loc[row_indexer,col_indexer] = value instead\n",
            "\n",
            "See the caveats in the documentation: https://pandas.pydata.org/pandas-docs/stable/user_guide/indexing.html#returning-a-view-versus-a-copy\n",
            "  ieeg_subset['Position'] = positions\n",
            "<ipython-input-62-b7de9913c462>:2: SettingWithCopyWarning: \n",
            "A value is trying to be set on a copy of a slice from a DataFrame.\n",
            "Try using .loc[row_indexer,col_indexer] = value instead\n",
            "\n",
            "See the caveats in the documentation: https://pandas.pydata.org/pandas-docs/stable/user_guide/indexing.html#returning-a-view-versus-a-copy\n",
            "  ieeg_subset['Length'] = length\n"
          ]
        }
      ]
    },
    {
      "cell_type": "code",
      "source": [
        "ieeg_subset.Length.unique()"
      ],
      "metadata": {
        "id": "TUzAZBjsQ9hu",
        "outputId": "233722c9-57e7-48a8-cffe-9600d5f8cfca",
        "colab": {
          "base_uri": "https://localhost:8080/"
        }
      },
      "execution_count": 63,
      "outputs": [
        {
          "output_type": "execute_result",
          "data": {
            "text/plain": [
              "array([3, 7, 9, 5])"
            ]
          },
          "metadata": {},
          "execution_count": 63
        }
      ]
    },
    {
      "cell_type": "code",
      "source": [
        "lex = []\n",
        "phon = []\n",
        "for i in ieeg_subset.ProbeCategory.values:\n",
        "  if 'non-words' in i: # non - words = 0, words = 0\n",
        "    lex.append(0)\n",
        "  elif 'words' in i:\n",
        "    lex.append(1)\n",
        "for i in ieeg_subset.ProbeCategory.values:\n",
        "  if 'low' in i: # high = 0 low = 1\n",
        "    phon.append(1)\n",
        "  elif 'high' in i:\n",
        "    phon.append(0)\n",
        "print(len(lex))\n",
        "print(len(phon))"
      ],
      "metadata": {
        "colab": {
          "base_uri": "https://localhost:8080/"
        },
        "id": "azVbly7hwurq",
        "outputId": "5305c815-698f-443f-8dab-cc55e6bd1e0a"
      },
      "execution_count": 64,
      "outputs": [
        {
          "output_type": "stream",
          "name": "stdout",
          "text": [
            "7860\n",
            "7860\n"
          ]
        }
      ]
    },
    {
      "cell_type": "code",
      "source": [
        "ieeg_subset['Lex'] = lex\n",
        "ieeg_subset['Phono'] = phon"
      ],
      "metadata": {
        "colab": {
          "base_uri": "https://localhost:8080/"
        },
        "id": "umZ3qZ7rwuuX",
        "outputId": "53fa9835-6e9e-4e7f-dcc8-f55d8f91f15f"
      },
      "execution_count": 65,
      "outputs": [
        {
          "output_type": "stream",
          "name": "stderr",
          "text": [
            "<ipython-input-65-aefbe34290ea>:1: SettingWithCopyWarning: \n",
            "A value is trying to be set on a copy of a slice from a DataFrame.\n",
            "Try using .loc[row_indexer,col_indexer] = value instead\n",
            "\n",
            "See the caveats in the documentation: https://pandas.pydata.org/pandas-docs/stable/user_guide/indexing.html#returning-a-view-versus-a-copy\n",
            "  ieeg_subset['Lex'] = lex\n",
            "<ipython-input-65-aefbe34290ea>:2: SettingWithCopyWarning: \n",
            "A value is trying to be set on a copy of a slice from a DataFrame.\n",
            "Try using .loc[row_indexer,col_indexer] = value instead\n",
            "\n",
            "See the caveats in the documentation: https://pandas.pydata.org/pandas-docs/stable/user_guide/indexing.html#returning-a-view-versus-a-copy\n",
            "  ieeg_subset['Phono'] = phon\n"
          ]
        }
      ]
    },
    {
      "cell_type": "markdown",
      "source": [
        "## Stats on iEEG"
      ],
      "metadata": {
        "id": "qD8N8V1Gy3mG"
      }
    },
    {
      "cell_type": "code",
      "source": [
        "print('The shape of the iEEG dataset with \"No Response\" trials', ieeg_subset.shape)\n",
        "print('The accuracy', ieeg_subset.RespCorrect.mean())\n",
        "print('The shape of the iEEG dataset without \"No Response\" trials', ieeg_subset[ieeg_subset['Resp'] != 'No Response'].shape)\n",
        "print('The accuracy', ieeg_subset[ieeg_subset['Resp'] != 'No Response'].RespCorrect.mean())"
      ],
      "metadata": {
        "colab": {
          "base_uri": "https://localhost:8080/"
        },
        "id": "SYdXfKeGw5KX",
        "outputId": "212fa893-4ae4-4d0d-cbcf-7b5666e8eb70"
      },
      "execution_count": 66,
      "outputs": [
        {
          "output_type": "stream",
          "name": "stdout",
          "text": [
            "The shape of the iEEG dataset with \"No Response\" trials (7860, 20)\n",
            "The accuracy 0.7790076335877862\n",
            "The shape of the iEEG dataset without \"No Response\" trials (7538, 20)\n",
            "The accuracy 0.8122844255770761\n"
          ]
        }
      ]
    },
    {
      "cell_type": "code",
      "source": [
        "checkset = ieeg_subset.groupby(['Subject'])[['RespCorrect']].apply(\n",
        "    lambda x: x.sum()/x.count()\n",
        ")"
      ],
      "metadata": {
        "id": "0DE20ne9zBEO"
      },
      "execution_count": 67,
      "outputs": []
    },
    {
      "cell_type": "code",
      "source": [
        "checkset"
      ],
      "metadata": {
        "id": "WJdlGrpoNbaV",
        "outputId": "d5adcb08-070e-466d-f8e8-9feac2d8c81b",
        "colab": {
          "base_uri": "https://localhost:8080/",
          "height": 1000
        }
      },
      "execution_count": 68,
      "outputs": [
        {
          "output_type": "execute_result",
          "data": {
            "text/plain": [
              "         RespCorrect\n",
              "Subject             \n",
              "D23         0.793750\n",
              "D26         0.937500\n",
              "D27         0.800000\n",
              "D28         0.816993\n",
              "D29         0.937500\n",
              "D30         0.706250\n",
              "D31         0.837500\n",
              "D33         0.631016\n",
              "D34         0.793750\n",
              "D35         0.868750\n",
              "D36         0.881250\n",
              "D38         0.868750\n",
              "D39         0.868750\n",
              "D41         0.756250\n",
              "D42         0.881250\n",
              "D47         0.868750\n",
              "D48         0.856250\n",
              "D49         0.618750\n",
              "D53         0.806250\n",
              "D54         0.431250\n",
              "D55         0.812500\n",
              "D57         0.825000\n",
              "D59         0.843750\n",
              "D61         0.612500\n",
              "D63         0.831250\n",
              "D65         0.650000\n",
              "D68         0.806250\n",
              "D69         0.806250\n",
              "D70         0.718750\n",
              "D71         0.862500\n",
              "D72         0.843750\n",
              "D73         0.768750\n",
              "D77         0.725000\n",
              "D79         0.762500\n",
              "D80         0.818750\n",
              "D81         0.887500\n",
              "D82         0.806250\n",
              "D84         0.768750\n",
              "D85         0.650000\n",
              "D86         0.800000\n",
              "D87         0.781250\n",
              "D88         0.406250\n",
              "D90         0.806250\n",
              "D91         0.881250\n",
              "D92         0.662500\n",
              "D93         0.837500\n",
              "D94         0.743750\n",
              "D96         0.818750\n",
              "D97         0.700000"
            ],
            "text/html": [
              "\n",
              "  <div id=\"df-141b77a7-1240-4093-b9fb-63d61d3204ac\" class=\"colab-df-container\">\n",
              "    <div>\n",
              "<style scoped>\n",
              "    .dataframe tbody tr th:only-of-type {\n",
              "        vertical-align: middle;\n",
              "    }\n",
              "\n",
              "    .dataframe tbody tr th {\n",
              "        vertical-align: top;\n",
              "    }\n",
              "\n",
              "    .dataframe thead th {\n",
              "        text-align: right;\n",
              "    }\n",
              "</style>\n",
              "<table border=\"1\" class=\"dataframe\">\n",
              "  <thead>\n",
              "    <tr style=\"text-align: right;\">\n",
              "      <th></th>\n",
              "      <th>RespCorrect</th>\n",
              "    </tr>\n",
              "    <tr>\n",
              "      <th>Subject</th>\n",
              "      <th></th>\n",
              "    </tr>\n",
              "  </thead>\n",
              "  <tbody>\n",
              "    <tr>\n",
              "      <th>D23</th>\n",
              "      <td>0.793750</td>\n",
              "    </tr>\n",
              "    <tr>\n",
              "      <th>D26</th>\n",
              "      <td>0.937500</td>\n",
              "    </tr>\n",
              "    <tr>\n",
              "      <th>D27</th>\n",
              "      <td>0.800000</td>\n",
              "    </tr>\n",
              "    <tr>\n",
              "      <th>D28</th>\n",
              "      <td>0.816993</td>\n",
              "    </tr>\n",
              "    <tr>\n",
              "      <th>D29</th>\n",
              "      <td>0.937500</td>\n",
              "    </tr>\n",
              "    <tr>\n",
              "      <th>D30</th>\n",
              "      <td>0.706250</td>\n",
              "    </tr>\n",
              "    <tr>\n",
              "      <th>D31</th>\n",
              "      <td>0.837500</td>\n",
              "    </tr>\n",
              "    <tr>\n",
              "      <th>D33</th>\n",
              "      <td>0.631016</td>\n",
              "    </tr>\n",
              "    <tr>\n",
              "      <th>D34</th>\n",
              "      <td>0.793750</td>\n",
              "    </tr>\n",
              "    <tr>\n",
              "      <th>D35</th>\n",
              "      <td>0.868750</td>\n",
              "    </tr>\n",
              "    <tr>\n",
              "      <th>D36</th>\n",
              "      <td>0.881250</td>\n",
              "    </tr>\n",
              "    <tr>\n",
              "      <th>D38</th>\n",
              "      <td>0.868750</td>\n",
              "    </tr>\n",
              "    <tr>\n",
              "      <th>D39</th>\n",
              "      <td>0.868750</td>\n",
              "    </tr>\n",
              "    <tr>\n",
              "      <th>D41</th>\n",
              "      <td>0.756250</td>\n",
              "    </tr>\n",
              "    <tr>\n",
              "      <th>D42</th>\n",
              "      <td>0.881250</td>\n",
              "    </tr>\n",
              "    <tr>\n",
              "      <th>D47</th>\n",
              "      <td>0.868750</td>\n",
              "    </tr>\n",
              "    <tr>\n",
              "      <th>D48</th>\n",
              "      <td>0.856250</td>\n",
              "    </tr>\n",
              "    <tr>\n",
              "      <th>D49</th>\n",
              "      <td>0.618750</td>\n",
              "    </tr>\n",
              "    <tr>\n",
              "      <th>D53</th>\n",
              "      <td>0.806250</td>\n",
              "    </tr>\n",
              "    <tr>\n",
              "      <th>D54</th>\n",
              "      <td>0.431250</td>\n",
              "    </tr>\n",
              "    <tr>\n",
              "      <th>D55</th>\n",
              "      <td>0.812500</td>\n",
              "    </tr>\n",
              "    <tr>\n",
              "      <th>D57</th>\n",
              "      <td>0.825000</td>\n",
              "    </tr>\n",
              "    <tr>\n",
              "      <th>D59</th>\n",
              "      <td>0.843750</td>\n",
              "    </tr>\n",
              "    <tr>\n",
              "      <th>D61</th>\n",
              "      <td>0.612500</td>\n",
              "    </tr>\n",
              "    <tr>\n",
              "      <th>D63</th>\n",
              "      <td>0.831250</td>\n",
              "    </tr>\n",
              "    <tr>\n",
              "      <th>D65</th>\n",
              "      <td>0.650000</td>\n",
              "    </tr>\n",
              "    <tr>\n",
              "      <th>D68</th>\n",
              "      <td>0.806250</td>\n",
              "    </tr>\n",
              "    <tr>\n",
              "      <th>D69</th>\n",
              "      <td>0.806250</td>\n",
              "    </tr>\n",
              "    <tr>\n",
              "      <th>D70</th>\n",
              "      <td>0.718750</td>\n",
              "    </tr>\n",
              "    <tr>\n",
              "      <th>D71</th>\n",
              "      <td>0.862500</td>\n",
              "    </tr>\n",
              "    <tr>\n",
              "      <th>D72</th>\n",
              "      <td>0.843750</td>\n",
              "    </tr>\n",
              "    <tr>\n",
              "      <th>D73</th>\n",
              "      <td>0.768750</td>\n",
              "    </tr>\n",
              "    <tr>\n",
              "      <th>D77</th>\n",
              "      <td>0.725000</td>\n",
              "    </tr>\n",
              "    <tr>\n",
              "      <th>D79</th>\n",
              "      <td>0.762500</td>\n",
              "    </tr>\n",
              "    <tr>\n",
              "      <th>D80</th>\n",
              "      <td>0.818750</td>\n",
              "    </tr>\n",
              "    <tr>\n",
              "      <th>D81</th>\n",
              "      <td>0.887500</td>\n",
              "    </tr>\n",
              "    <tr>\n",
              "      <th>D82</th>\n",
              "      <td>0.806250</td>\n",
              "    </tr>\n",
              "    <tr>\n",
              "      <th>D84</th>\n",
              "      <td>0.768750</td>\n",
              "    </tr>\n",
              "    <tr>\n",
              "      <th>D85</th>\n",
              "      <td>0.650000</td>\n",
              "    </tr>\n",
              "    <tr>\n",
              "      <th>D86</th>\n",
              "      <td>0.800000</td>\n",
              "    </tr>\n",
              "    <tr>\n",
              "      <th>D87</th>\n",
              "      <td>0.781250</td>\n",
              "    </tr>\n",
              "    <tr>\n",
              "      <th>D88</th>\n",
              "      <td>0.406250</td>\n",
              "    </tr>\n",
              "    <tr>\n",
              "      <th>D90</th>\n",
              "      <td>0.806250</td>\n",
              "    </tr>\n",
              "    <tr>\n",
              "      <th>D91</th>\n",
              "      <td>0.881250</td>\n",
              "    </tr>\n",
              "    <tr>\n",
              "      <th>D92</th>\n",
              "      <td>0.662500</td>\n",
              "    </tr>\n",
              "    <tr>\n",
              "      <th>D93</th>\n",
              "      <td>0.837500</td>\n",
              "    </tr>\n",
              "    <tr>\n",
              "      <th>D94</th>\n",
              "      <td>0.743750</td>\n",
              "    </tr>\n",
              "    <tr>\n",
              "      <th>D96</th>\n",
              "      <td>0.818750</td>\n",
              "    </tr>\n",
              "    <tr>\n",
              "      <th>D97</th>\n",
              "      <td>0.700000</td>\n",
              "    </tr>\n",
              "  </tbody>\n",
              "</table>\n",
              "</div>\n",
              "    <div class=\"colab-df-buttons\">\n",
              "\n",
              "  <div class=\"colab-df-container\">\n",
              "    <button class=\"colab-df-convert\" onclick=\"convertToInteractive('df-141b77a7-1240-4093-b9fb-63d61d3204ac')\"\n",
              "            title=\"Convert this dataframe to an interactive table.\"\n",
              "            style=\"display:none;\">\n",
              "\n",
              "  <svg xmlns=\"http://www.w3.org/2000/svg\" height=\"24px\" viewBox=\"0 -960 960 960\">\n",
              "    <path d=\"M120-120v-720h720v720H120Zm60-500h600v-160H180v160Zm220 220h160v-160H400v160Zm0 220h160v-160H400v160ZM180-400h160v-160H180v160Zm440 0h160v-160H620v160ZM180-180h160v-160H180v160Zm440 0h160v-160H620v160Z\"/>\n",
              "  </svg>\n",
              "    </button>\n",
              "\n",
              "  <style>\n",
              "    .colab-df-container {\n",
              "      display:flex;\n",
              "      gap: 12px;\n",
              "    }\n",
              "\n",
              "    .colab-df-convert {\n",
              "      background-color: #E8F0FE;\n",
              "      border: none;\n",
              "      border-radius: 50%;\n",
              "      cursor: pointer;\n",
              "      display: none;\n",
              "      fill: #1967D2;\n",
              "      height: 32px;\n",
              "      padding: 0 0 0 0;\n",
              "      width: 32px;\n",
              "    }\n",
              "\n",
              "    .colab-df-convert:hover {\n",
              "      background-color: #E2EBFA;\n",
              "      box-shadow: 0px 1px 2px rgba(60, 64, 67, 0.3), 0px 1px 3px 1px rgba(60, 64, 67, 0.15);\n",
              "      fill: #174EA6;\n",
              "    }\n",
              "\n",
              "    .colab-df-buttons div {\n",
              "      margin-bottom: 4px;\n",
              "    }\n",
              "\n",
              "    [theme=dark] .colab-df-convert {\n",
              "      background-color: #3B4455;\n",
              "      fill: #D2E3FC;\n",
              "    }\n",
              "\n",
              "    [theme=dark] .colab-df-convert:hover {\n",
              "      background-color: #434B5C;\n",
              "      box-shadow: 0px 1px 3px 1px rgba(0, 0, 0, 0.15);\n",
              "      filter: drop-shadow(0px 1px 2px rgba(0, 0, 0, 0.3));\n",
              "      fill: #FFFFFF;\n",
              "    }\n",
              "  </style>\n",
              "\n",
              "    <script>\n",
              "      const buttonEl =\n",
              "        document.querySelector('#df-141b77a7-1240-4093-b9fb-63d61d3204ac button.colab-df-convert');\n",
              "      buttonEl.style.display =\n",
              "        google.colab.kernel.accessAllowed ? 'block' : 'none';\n",
              "\n",
              "      async function convertToInteractive(key) {\n",
              "        const element = document.querySelector('#df-141b77a7-1240-4093-b9fb-63d61d3204ac');\n",
              "        const dataTable =\n",
              "          await google.colab.kernel.invokeFunction('convertToInteractive',\n",
              "                                                    [key], {});\n",
              "        if (!dataTable) return;\n",
              "\n",
              "        const docLinkHtml = 'Like what you see? Visit the ' +\n",
              "          '<a target=\"_blank\" href=https://colab.research.google.com/notebooks/data_table.ipynb>data table notebook</a>'\n",
              "          + ' to learn more about interactive tables.';\n",
              "        element.innerHTML = '';\n",
              "        dataTable['output_type'] = 'display_data';\n",
              "        await google.colab.output.renderOutput(dataTable, element);\n",
              "        const docLink = document.createElement('div');\n",
              "        docLink.innerHTML = docLinkHtml;\n",
              "        element.appendChild(docLink);\n",
              "      }\n",
              "    </script>\n",
              "  </div>\n",
              "\n",
              "\n",
              "<div id=\"df-a0c1b2aa-7e72-493d-8b17-e3c43acd3ff0\">\n",
              "  <button class=\"colab-df-quickchart\" onclick=\"quickchart('df-a0c1b2aa-7e72-493d-8b17-e3c43acd3ff0')\"\n",
              "            title=\"Suggest charts.\"\n",
              "            style=\"display:none;\">\n",
              "\n",
              "<svg xmlns=\"http://www.w3.org/2000/svg\" height=\"24px\"viewBox=\"0 0 24 24\"\n",
              "     width=\"24px\">\n",
              "    <g>\n",
              "        <path d=\"M19 3H5c-1.1 0-2 .9-2 2v14c0 1.1.9 2 2 2h14c1.1 0 2-.9 2-2V5c0-1.1-.9-2-2-2zM9 17H7v-7h2v7zm4 0h-2V7h2v10zm4 0h-2v-4h2v4z\"/>\n",
              "    </g>\n",
              "</svg>\n",
              "  </button>\n",
              "\n",
              "<style>\n",
              "  .colab-df-quickchart {\n",
              "      --bg-color: #E8F0FE;\n",
              "      --fill-color: #1967D2;\n",
              "      --hover-bg-color: #E2EBFA;\n",
              "      --hover-fill-color: #174EA6;\n",
              "      --disabled-fill-color: #AAA;\n",
              "      --disabled-bg-color: #DDD;\n",
              "  }\n",
              "\n",
              "  [theme=dark] .colab-df-quickchart {\n",
              "      --bg-color: #3B4455;\n",
              "      --fill-color: #D2E3FC;\n",
              "      --hover-bg-color: #434B5C;\n",
              "      --hover-fill-color: #FFFFFF;\n",
              "      --disabled-bg-color: #3B4455;\n",
              "      --disabled-fill-color: #666;\n",
              "  }\n",
              "\n",
              "  .colab-df-quickchart {\n",
              "    background-color: var(--bg-color);\n",
              "    border: none;\n",
              "    border-radius: 50%;\n",
              "    cursor: pointer;\n",
              "    display: none;\n",
              "    fill: var(--fill-color);\n",
              "    height: 32px;\n",
              "    padding: 0;\n",
              "    width: 32px;\n",
              "  }\n",
              "\n",
              "  .colab-df-quickchart:hover {\n",
              "    background-color: var(--hover-bg-color);\n",
              "    box-shadow: 0 1px 2px rgba(60, 64, 67, 0.3), 0 1px 3px 1px rgba(60, 64, 67, 0.15);\n",
              "    fill: var(--button-hover-fill-color);\n",
              "  }\n",
              "\n",
              "  .colab-df-quickchart-complete:disabled,\n",
              "  .colab-df-quickchart-complete:disabled:hover {\n",
              "    background-color: var(--disabled-bg-color);\n",
              "    fill: var(--disabled-fill-color);\n",
              "    box-shadow: none;\n",
              "  }\n",
              "\n",
              "  .colab-df-spinner {\n",
              "    border: 2px solid var(--fill-color);\n",
              "    border-color: transparent;\n",
              "    border-bottom-color: var(--fill-color);\n",
              "    animation:\n",
              "      spin 1s steps(1) infinite;\n",
              "  }\n",
              "\n",
              "  @keyframes spin {\n",
              "    0% {\n",
              "      border-color: transparent;\n",
              "      border-bottom-color: var(--fill-color);\n",
              "      border-left-color: var(--fill-color);\n",
              "    }\n",
              "    20% {\n",
              "      border-color: transparent;\n",
              "      border-left-color: var(--fill-color);\n",
              "      border-top-color: var(--fill-color);\n",
              "    }\n",
              "    30% {\n",
              "      border-color: transparent;\n",
              "      border-left-color: var(--fill-color);\n",
              "      border-top-color: var(--fill-color);\n",
              "      border-right-color: var(--fill-color);\n",
              "    }\n",
              "    40% {\n",
              "      border-color: transparent;\n",
              "      border-right-color: var(--fill-color);\n",
              "      border-top-color: var(--fill-color);\n",
              "    }\n",
              "    60% {\n",
              "      border-color: transparent;\n",
              "      border-right-color: var(--fill-color);\n",
              "    }\n",
              "    80% {\n",
              "      border-color: transparent;\n",
              "      border-right-color: var(--fill-color);\n",
              "      border-bottom-color: var(--fill-color);\n",
              "    }\n",
              "    90% {\n",
              "      border-color: transparent;\n",
              "      border-bottom-color: var(--fill-color);\n",
              "    }\n",
              "  }\n",
              "</style>\n",
              "\n",
              "  <script>\n",
              "    async function quickchart(key) {\n",
              "      const quickchartButtonEl =\n",
              "        document.querySelector('#' + key + ' button');\n",
              "      quickchartButtonEl.disabled = true;  // To prevent multiple clicks.\n",
              "      quickchartButtonEl.classList.add('colab-df-spinner');\n",
              "      try {\n",
              "        const charts = await google.colab.kernel.invokeFunction(\n",
              "            'suggestCharts', [key], {});\n",
              "      } catch (error) {\n",
              "        console.error('Error during call to suggestCharts:', error);\n",
              "      }\n",
              "      quickchartButtonEl.classList.remove('colab-df-spinner');\n",
              "      quickchartButtonEl.classList.add('colab-df-quickchart-complete');\n",
              "    }\n",
              "    (() => {\n",
              "      let quickchartButtonEl =\n",
              "        document.querySelector('#df-a0c1b2aa-7e72-493d-8b17-e3c43acd3ff0 button');\n",
              "      quickchartButtonEl.style.display =\n",
              "        google.colab.kernel.accessAllowed ? 'block' : 'none';\n",
              "    })();\n",
              "  </script>\n",
              "</div>\n",
              "    </div>\n",
              "  </div>\n"
            ]
          },
          "metadata": {},
          "execution_count": 68
        }
      ]
    },
    {
      "cell_type": "code",
      "source": [
        "options_drop1 = checkset[checkset['RespCorrect'] < 0.75].index\n",
        "new1 = checkset.reset_index()\n",
        "print('The subjects with accuracy less than 75 %')\n",
        "print('The dataset with \"No response\" trials')\n",
        "print(options_drop1)\n",
        "x1 = []\n",
        "for i in new1.Subject.values:\n",
        "  for j in options_drop1:\n",
        "    if i == j:\n",
        "      x1.append(new1.loc[new1['Subject'] == i][['RespCorrect']].values[0][0])\n",
        "print(x1)\n",
        "ieeg1 = ieeg_subset[\n",
        "                        (ieeg_subset['Subject'] != 'D30') &\n",
        "                        (ieeg_subset['Subject'] != 'D33') &\n",
        "                        (ieeg_subset['Subject'] != 'D49') &\n",
        "                        (ieeg_subset['Subject'] != 'D54') &\n",
        "                        (ieeg_subset['Subject'] != 'D61') &\n",
        "                        (ieeg_subset['Subject'] != 'D65') &\n",
        "                        (ieeg_subset['Subject'] != 'D70') &\n",
        "                        (ieeg_subset['Subject'] != 'D77') &\n",
        "                        (ieeg_subset['Subject'] != 'D85') &\n",
        "                        (ieeg_subset['Subject'] != 'D88') &\n",
        "                        (ieeg_subset['Subject'] != 'D92') &\n",
        "                        (ieeg_subset['Subject'] != 'D94') &\n",
        "                        (ieeg_subset['Subject'] != 'D97')\n",
        "                        ]\n",
        "print('Poor performers', len(options_drop1))\n",
        "print('Accuracy without poor performers', ieeg1.RespCorrect.mean())\n",
        "print('')\n",
        "options_drop1 = checkset[checkset['RespCorrect'] < 0.70].index\n",
        "new2 = checkset.reset_index()\n",
        "print('The subjects with accuracy less than 70 %')\n",
        "print('The dataset with \"No response\" trials')\n",
        "print(options_drop1)\n",
        "x1 = []\n",
        "for i in new2.Subject.values:\n",
        "  for j in options_drop1:\n",
        "    if i == j:\n",
        "      x1.append(new2.loc[new2['Subject'] == i][['RespCorrect']].values[0][0])\n",
        "print(x1)\n",
        "ieeg2 = ieeg_subset[\n",
        "                        (ieeg_subset['Subject'] != 'D33') &\n",
        "                        (ieeg_subset['Subject'] != 'D49') &\n",
        "                        (ieeg_subset['Subject'] != 'D54') &\n",
        "                        (ieeg_subset['Subject'] != 'D61') &\n",
        "                        (ieeg_subset['Subject'] != 'D65') &\n",
        "                        (ieeg_subset['Subject'] != 'D85') &\n",
        "                        (ieeg_subset['Subject'] != 'D88') &\n",
        "                        (ieeg_subset['Subject'] != 'D92')\n",
        "                        ]\n",
        "print('Poor performers', len(options_drop1))\n",
        "print('Accuracy without poor performers', ieeg2.RespCorrect.mean())\n",
        "print('')"
      ],
      "metadata": {
        "colab": {
          "base_uri": "https://localhost:8080/"
        },
        "id": "23zLUdofZckD",
        "outputId": "e0e91f48-ad01-46f3-fd92-f2ec0f68660e"
      },
      "execution_count": 69,
      "outputs": [
        {
          "output_type": "stream",
          "name": "stdout",
          "text": [
            "The subjects with accuracy less than 75 %\n",
            "The dataset with \"No response\" trials\n",
            "Index(['D30', 'D33', 'D49', 'D54', 'D61', 'D65', 'D70', 'D77', 'D85', 'D88',\n",
            "       'D92', 'D94', 'D97'],\n",
            "      dtype='object', name='Subject')\n",
            "[0.70625, 0.6310160427807486, 0.61875, 0.43125, 0.6125, 0.65, 0.71875, 0.725, 0.65, 0.40625, 0.6625, 0.74375, 0.7]\n",
            "Poor performers 13\n",
            "Accuracy without poor performers 0.8317399617590823\n",
            "\n",
            "The subjects with accuracy less than 70 %\n",
            "The dataset with \"No response\" trials\n",
            "Index(['D33', 'D49', 'D54', 'D61', 'D65', 'D85', 'D88', 'D92'], dtype='object', name='Subject')\n",
            "[0.6310160427807486, 0.61875, 0.43125, 0.6125, 0.65, 0.65, 0.40625, 0.6625]\n",
            "Poor performers 8\n",
            "Accuracy without poor performers 0.8179459789409431\n",
            "\n"
          ]
        }
      ]
    },
    {
      "cell_type": "code",
      "source": [
        "ieeg2.shape"
      ],
      "metadata": {
        "colab": {
          "base_uri": "https://localhost:8080/"
        },
        "id": "BDQYYpfWzRsF",
        "outputId": "d1fbb890-8b72-446b-de76-e9a241b73dd3"
      },
      "execution_count": 70,
      "outputs": [
        {
          "output_type": "execute_result",
          "data": {
            "text/plain": [
              "(6553, 20)"
            ]
          },
          "metadata": {},
          "execution_count": 70
        }
      ]
    },
    {
      "cell_type": "code",
      "source": [
        "print(\n",
        "    'No response trials in the dataset: ',\n",
        "    ieeg2[ieeg2['Resp'] == 'No Response'].shape[0]\n",
        ")"
      ],
      "metadata": {
        "colab": {
          "base_uri": "https://localhost:8080/"
        },
        "id": "ZXc4GxM1zlMi",
        "outputId": "2279441b-6dd6-4dc3-d1e0-05ba7202e26d"
      },
      "execution_count": 71,
      "outputs": [
        {
          "output_type": "stream",
          "name": "stdout",
          "text": [
            "No response trials in the dataset:  160\n"
          ]
        }
      ]
    },
    {
      "cell_type": "markdown",
      "source": [
        "Looking into outliers"
      ],
      "metadata": {
        "id": "3nrz0OIN0D_h"
      }
    },
    {
      "cell_type": "code",
      "source": [
        "sns.distplot(ieeg2[ieeg2['Resp'] != 'No Response'][['ReactionTime']].values);"
      ],
      "metadata": {
        "colab": {
          "base_uri": "https://localhost:8080/",
          "height": 625
        },
        "id": "UPWjumfCzlSB",
        "outputId": "89a25bc3-aaa4-4656-8b11-b92650ab31b6"
      },
      "execution_count": 72,
      "outputs": [
        {
          "output_type": "stream",
          "name": "stderr",
          "text": [
            "<ipython-input-72-326f1ea5e14f>:1: UserWarning: \n",
            "\n",
            "`distplot` is a deprecated function and will be removed in seaborn v0.14.0.\n",
            "\n",
            "Please adapt your code to use either `displot` (a figure-level function with\n",
            "similar flexibility) or `histplot` (an axes-level function for histograms).\n",
            "\n",
            "For a guide to updating your code to use the new functions, please see\n",
            "https://gist.github.com/mwaskom/de44147ed2974457ad6372750bbe5751\n",
            "\n",
            "  sns.distplot(ieeg2[ieeg2['Resp'] != 'No Response'][['ReactionTime']].values);\n"
          ]
        },
        {
          "output_type": "display_data",
          "data": {
            "text/plain": [
              "<Figure size 640x480 with 1 Axes>"
            ],
            "image/png": "[encoded data removed]"
          },
          "metadata": {}
        }
      ]
    },
    {
      "cell_type": "code",
      "source": [
        "print('In seconds')\n",
        "print(\n",
        "    'mean', ieeg2[ieeg2['Resp'] != 'No Response'].ReactionTime.mean(),\n",
        "    'max', ieeg2[ieeg2['Resp'] != 'No Response'].ReactionTime.max(),\n",
        "    'min', ieeg2[ieeg2['Resp'] != 'No Response'].ReactionTime.min())"
      ],
      "metadata": {
        "colab": {
          "base_uri": "https://localhost:8080/"
        },
        "id": "ifJrF92K0Idp",
        "outputId": "59f234b9-a495-4cfb-809f-d5007e388f48"
      },
      "execution_count": 73,
      "outputs": [
        {
          "output_type": "stream",
          "name": "stdout",
          "text": [
            "In seconds\n",
            "mean 1.1931000902678035 max 26.115354993380606 min 0.016132116317749023\n"
          ]
        }
      ]
    },
    {
      "cell_type": "code",
      "source": [
        "# kicking out all the trials (13) that are below 150 msec, two of the are no response trials\n",
        "ieeg_no_outliers = ieeg2[ieeg2['ReactionTime'] > 0.15]"
      ],
      "metadata": {
        "id": "Nzufnt780IgQ"
      },
      "execution_count": 74,
      "outputs": []
    },
    {
      "cell_type": "code",
      "source": [
        "# kicking out the trial of 26 sec, only 1\n",
        "ieeg_no_outliers = ieeg_no_outliers[ieeg_no_outliers['ReactionTime'] < 25]"
      ],
      "metadata": {
        "id": "X3jAiJMW0IiQ"
      },
      "execution_count": 75,
      "outputs": []
    },
    {
      "cell_type": "code",
      "source": [
        "sns.distplot(ieeg_no_outliers[ieeg_no_outliers['Resp'] != 'No Response'].ReactionTime)\n",
        "pl.title('RT distribution without extreme outliers');\n",
        "print(\n",
        "    'Mean', ieeg_no_outliers[ieeg_no_outliers['Resp'] != 'No Response'].ReactionTime.mean(),\n",
        "    'Max', ieeg_no_outliers[ieeg_no_outliers['Resp'] != 'No Response'].ReactionTime.max(),\n",
        "    'Min', ieeg_no_outliers[ieeg_no_outliers['Resp'] != 'No Response'].ReactionTime.min()\n",
        ")"
      ],
      "metadata": {
        "colab": {
          "base_uri": "https://localhost:8080/",
          "height": 688
        },
        "id": "Ot1bGCng0Img",
        "outputId": "13b10cbb-1fb5-4592-c49c-1ac014ae971c"
      },
      "execution_count": 76,
      "outputs": [
        {
          "output_type": "stream",
          "name": "stderr",
          "text": [
            "<ipython-input-76-279b2c087aca>:1: UserWarning: \n",
            "\n",
            "`distplot` is a deprecated function and will be removed in seaborn v0.14.0.\n",
            "\n",
            "Please adapt your code to use either `displot` (a figure-level function with\n",
            "similar flexibility) or `histplot` (an axes-level function for histograms).\n",
            "\n",
            "For a guide to updating your code to use the new functions, please see\n",
            "https://gist.github.com/mwaskom/de44147ed2974457ad6372750bbe5751\n",
            "\n",
            "  sns.distplot(ieeg_no_outliers[ieeg_no_outliers['Resp'] != 'No Response'].ReactionTime)\n"
          ]
        },
        {
          "output_type": "stream",
          "name": "stdout",
          "text": [
            "Mean 1.19153880491831 Max 2.4904961585998535 Min 0.22287845611572266\n"
          ]
        },
        {
          "output_type": "display_data",
          "data": {
            "text/plain": [
              "<Figure size 640x480 with 1 Axes>"
            ],
            "image/png": "[encoded data removed]"
          },
          "metadata": {}
        }
      ]
    },
    {
      "cell_type": "code",
      "source": [
        "values = []\n",
        "for i in ieeg_no_outliers.Subject.unique():\n",
        "  subset = ieeg_no_outliers[ieeg_no_outliers['Subject'] == i]\n",
        "  q75 = np.percentile(subset[subset['Resp'] != 'No Response']['ReactionTime'], 75)\n",
        "  q25 = np.percentile(subset[subset['Resp'] != 'No Response']['ReactionTime'], 25)\n",
        "  inter_qr = q75 - q25\n",
        "  upper = q75 + (inter_qr*3)\n",
        "  lower = q25 - (inter_qr*3)\n",
        "  index = 0\n",
        "  for val in subset[subset['Resp'] != 'No Response'].ReactionTime.values:\n",
        "    if val < lower:\n",
        "      values.append((i, val))\n",
        "      index += 1\n",
        "    elif val > upper:\n",
        "      values.append((i, val))\n",
        "      index += 1\n",
        "  print(i, index)"
      ],
      "metadata": {
        "colab": {
          "base_uri": "https://localhost:8080/"
        },
        "id": "2oNRhrcs0UjB",
        "outputId": "12e345fe-60bf-48f3-b442-b11aef715362"
      },
      "execution_count": 77,
      "outputs": [
        {
          "output_type": "stream",
          "name": "stdout",
          "text": [
            "D23 0\n",
            "D26 2\n",
            "D27 3\n",
            "D28 0\n",
            "D29 3\n",
            "D30 2\n",
            "D31 0\n",
            "D34 2\n",
            "D35 1\n",
            "D36 0\n",
            "D38 3\n",
            "D39 2\n",
            "D41 0\n",
            "D42 0\n",
            "D47 0\n",
            "D48 3\n",
            "D53 0\n",
            "D55 2\n",
            "D57 0\n",
            "D59 0\n",
            "D63 0\n",
            "D68 1\n",
            "D69 0\n",
            "D70 0\n",
            "D71 3\n",
            "D72 0\n",
            "D73 0\n",
            "D77 0\n",
            "D79 0\n",
            "D80 1\n",
            "D81 0\n",
            "D82 0\n",
            "D84 0\n",
            "D86 0\n",
            "D87 5\n",
            "D90 0\n",
            "D91 0\n",
            "D93 0\n",
            "D94 0\n",
            "D96 0\n",
            "D97 0\n"
          ]
        }
      ]
    },
    {
      "cell_type": "code",
      "source": [
        "len(values)"
      ],
      "metadata": {
        "colab": {
          "base_uri": "https://localhost:8080/"
        },
        "id": "A-1XW1_R0Xt4",
        "outputId": "6343fd85-c60c-418c-9065-507b7cf79c72"
      },
      "execution_count": 78,
      "outputs": [
        {
          "output_type": "execute_result",
          "data": {
            "text/plain": [
              "33"
            ]
          },
          "metadata": {},
          "execution_count": 78
        }
      ]
    },
    {
      "cell_type": "code",
      "source": [
        "print(shapiro(ieeg_no_outliers[ieeg_no_outliers['Resp'] != 'No Response']['ReactionTime'].values))\n",
        "print(normaltest(ieeg_no_outliers[ieeg_no_outliers['Resp'] != 'No Response']['ReactionTime'].values))"
      ],
      "metadata": {
        "colab": {
          "base_uri": "https://localhost:8080/"
        },
        "id": "mN8bjJQh0a6Y",
        "outputId": "ec78443b-27a6-4cc3-9e8e-1bb7c90218d2"
      },
      "execution_count": 79,
      "outputs": [
        {
          "output_type": "stream",
          "name": "stdout",
          "text": [
            "ShapiroResult(statistic=0.9564564228057861, pvalue=5.658317082081822e-40)\n",
            "NormaltestResult(statistic=614.0319645875726, pvalue=4.620117637426042e-134)\n"
          ]
        },
        {
          "output_type": "stream",
          "name": "stderr",
          "text": [
            "/usr/local/lib/python3.10/dist-packages/scipy/stats/_morestats.py:1882: UserWarning: p-value may not be accurate for N > 5000.\n",
            "  warnings.warn(\"p-value may not be accurate for N > 5000.\")\n"
          ]
        }
      ]
    },
    {
      "cell_type": "code",
      "source": [
        "fitted_data_, fitted_lambda_ = boxcox(ieeg_no_outliers[ieeg_no_outliers['Resp'] != 'No Response']['ReactionTime'].values)"
      ],
      "metadata": {
        "id": "PP6_Kl_l0beJ"
      },
      "execution_count": 80,
      "outputs": []
    },
    {
      "cell_type": "code",
      "source": [
        "fig, ax = plt.subplots(1, 2)\n",
        "sns.distplot(ieeg_no_outliers[ieeg_no_outliers['Resp'] != 'No Response']['ReactionTime'].values, hist = False, kde = True,\n",
        "            label = \"Non-Normal\", color =\"green\", ax = ax[0])\n",
        "\n",
        "sns.distplot(fitted_data_, hist = False, kde = True,\n",
        "            label = \"Normal\", color =\"green\", ax = ax[1]);"
      ],
      "metadata": {
        "colab": {
          "base_uri": "https://localhost:8080/",
          "height": 816
        },
        "id": "6jycFLR-0dvg",
        "outputId": "32e6c5b2-2beb-48a5-a462-916286ee69c0"
      },
      "execution_count": 81,
      "outputs": [
        {
          "output_type": "stream",
          "name": "stderr",
          "text": [
            "<ipython-input-81-fd58fe8217b7>:2: UserWarning: \n",
            "\n",
            "`distplot` is a deprecated function and will be removed in seaborn v0.14.0.\n",
            "\n",
            "Please adapt your code to use either `displot` (a figure-level function with\n",
            "similar flexibility) or `kdeplot` (an axes-level function for kernel density plots).\n",
            "\n",
            "For a guide to updating your code to use the new functions, please see\n",
            "https://gist.github.com/mwaskom/de44147ed2974457ad6372750bbe5751\n",
            "\n",
            "  sns.distplot(ieeg_no_outliers[ieeg_no_outliers['Resp'] != 'No Response']['ReactionTime'].values, hist = False, kde = True,\n",
            "<ipython-input-81-fd58fe8217b7>:5: UserWarning: \n",
            "\n",
            "`distplot` is a deprecated function and will be removed in seaborn v0.14.0.\n",
            "\n",
            "Please adapt your code to use either `displot` (a figure-level function with\n",
            "similar flexibility) or `kdeplot` (an axes-level function for kernel density plots).\n",
            "\n",
            "For a guide to updating your code to use the new functions, please see\n",
            "https://gist.github.com/mwaskom/de44147ed2974457ad6372750bbe5751\n",
            "\n",
            "  sns.distplot(fitted_data_, hist = False, kde = True,\n"
          ]
        },
        {
          "output_type": "display_data",
          "data": {
            "text/plain": [
              "<Figure size 640x480 with 2 Axes>"
            ],
            "image/png": "[encoded data removed]"
          },
          "metadata": {}
        }
      ]
    },
    {
      "cell_type": "code",
      "source": [
        "print(shapiro(fitted_data_))\n",
        "print(normaltest(fitted_data_))\n",
        "print(fitted_lambda_)"
      ],
      "metadata": {
        "colab": {
          "base_uri": "https://localhost:8080/"
        },
        "id": "6mNcwJNZ0hGg",
        "outputId": "5944a90d-9ef0-491d-cfa0-80cd6a38f5bc"
      },
      "execution_count": 82,
      "outputs": [
        {
          "output_type": "stream",
          "name": "stdout",
          "text": [
            "ShapiroResult(statistic=0.9975817203521729, pvalue=1.514620961984292e-08)\n",
            "NormaltestResult(statistic=1.3295581539640104, pvalue=0.514387155117441)\n",
            "-0.021689703832550488\n"
          ]
        },
        {
          "output_type": "stream",
          "name": "stderr",
          "text": [
            "/usr/local/lib/python3.10/dist-packages/scipy/stats/_morestats.py:1882: UserWarning: p-value may not be accurate for N > 5000.\n",
            "  warnings.warn(\"p-value may not be accurate for N > 5000.\")\n"
          ]
        }
      ]
    },
    {
      "cell_type": "code",
      "source": [
        "ieeg_no_outliers[ieeg_no_outliers['Resp'] != 'No Response']['stdRT'] = fitted_data_"
      ],
      "metadata": {
        "colab": {
          "base_uri": "https://localhost:8080/"
        },
        "id": "illpcNg60h7o",
        "outputId": "41a5d724-7a5b-4fcb-a583-2e02a9702a14"
      },
      "execution_count": 83,
      "outputs": [
        {
          "output_type": "stream",
          "name": "stderr",
          "text": [
            "<ipython-input-83-1ab00667bd79>:1: SettingWithCopyWarning: \n",
            "A value is trying to be set on a copy of a slice from a DataFrame.\n",
            "Try using .loc[row_indexer,col_indexer] = value instead\n",
            "\n",
            "See the caveats in the documentation: https://pandas.pydata.org/pandas-docs/stable/user_guide/indexing.html#returning-a-view-versus-a-copy\n",
            "  ieeg_no_outliers[ieeg_no_outliers['Resp'] != 'No Response']['stdRT'] = fitted_data_\n"
          ]
        }
      ]
    },
    {
      "cell_type": "code",
      "source": [
        "# saving result\n",
        "ieeg_no_outliers.to_csv(\n",
        "    Path(working_path).joinpath('ieeg_processed.csv')\n",
        ")"
      ],
      "metadata": {
        "id": "wjNkXLZd0xwI"
      },
      "execution_count": 84,
      "outputs": []
    },
    {
      "cell_type": "markdown",
      "source": [
        "# EEG dataset"
      ],
      "metadata": {
        "id": "Vj4jI3yoWFb0"
      }
    },
    {
      "cell_type": "code",
      "source": [
        "data_eeg = eeg['Subject'] # contains trials for each of the subjects\n",
        "print('Number of subjects in EEG dataset is', data_eeg.shape[1])"
      ],
      "metadata": {
        "colab": {
          "base_uri": "https://localhost:8080/"
        },
        "id": "fAvRJcTnBjHm",
        "outputId": "84e67785-f53a-4c85-eb73-2e80459dbfd9"
      },
      "execution_count": null,
      "outputs": [
        {
          "output_type": "stream",
          "name": "stdout",
          "text": [
            "Number of subjects in EEG dataset is 29\n"
          ]
        }
      ]
    },
    {
      "cell_type": "code",
      "source": [
        "subjects_eeg = [] # subject numbers\n",
        "for i in range(0, data_eeg.shape[1]):\n",
        "  name = data_eeg[0, i]['Name'][0][0][0]\n",
        "  subjects_eeg.append(name)"
      ],
      "metadata": {
        "id": "K-emRBucWU-0"
      },
      "execution_count": null,
      "outputs": []
    },
    {
      "cell_type": "code",
      "source": [
        "columns_eeg = data_eeg[0, 0]['trialInfo'][0, 0].dtype.names # name of the variables from trial info\n",
        "final_eeg = pd.DataFrame(columns=columns_eeg)\n",
        "final_eeg['Trial'] = np.nan\n",
        "final_eeg['Subject'] = np.nan\n",
        "for subj in range(0, data_eeg.shape[1]): # for each subject\n",
        "  print(subj)\n",
        "  subj_df = get_to_df(data_eeg[0, subj]['trialInfo'][0, 0])\n",
        "  subj_df['Subject'] = subjects_eeg[subj]\n",
        "  final_eeg = pd.concat([final_eeg, subj_df], axis = 0)"
      ],
      "metadata": {
        "colab": {
          "base_uri": "https://localhost:8080/"
        },
        "id": "Gf4XfgEyW90I",
        "outputId": "a17746a2-6507-40ef-b6d7-af48d3222095"
      },
      "execution_count": null,
      "outputs": [
        {
          "output_type": "stream",
          "name": "stdout",
          "text": [
            "0\n",
            "1\n",
            "2\n",
            "3\n",
            "4\n",
            "5\n",
            "6\n",
            "7\n",
            "8\n",
            "9\n",
            "10\n",
            "11\n",
            "12\n",
            "13\n",
            "14\n",
            "15\n",
            "16\n",
            "17\n",
            "18\n",
            "19\n",
            "20\n",
            "21\n",
            "22\n",
            "23\n",
            "24\n",
            "25\n",
            "26\n",
            "27\n",
            "28\n"
          ]
        }
      ]
    },
    {
      "cell_type": "code",
      "source": [
        "final_eeg.columns"
      ],
      "metadata": {
        "colab": {
          "base_uri": "https://localhost:8080/"
        },
        "id": "UeHJ_ZDjaynR",
        "outputId": "19d9f8d4-d9dd-4c2d-a75f-e25b93752d2c"
      },
      "execution_count": null,
      "outputs": [
        {
          "output_type": "execute_result",
          "data": {
            "text/plain": [
              "Index(['Trial', 'Subject', 'Block', 'ProbeType', 'ProbeTypeName',\n",
              "       'StimulusCategory', 'ListenCue', 'ReactionTime', 'KeyCode', 'Response',\n",
              "       'ResponseCorrect', 'Omission', 'StimulusAudioStart',\n",
              "       'StimulusAlignedTrigger', 'DelayPeriodOnset', 'MaintenancePeriodOnset',\n",
              "       'ProbeCueOnset', 'ProbeAudioStart', 'ProbeAlignedTrigger',\n",
              "       'TriggerValueCondition', 'StimulusSounds_idx', 'StimulusSounds_name',\n",
              "       'ProbeCategory', 'ProbeSound_idx', 'ProbeSound_name'],\n",
              "      dtype='object')"
            ]
          },
          "metadata": {},
          "execution_count": 220
        }
      ]
    },
    {
      "cell_type": "markdown",
      "source": [
        "#Preprocessing EEG dataset"
      ],
      "metadata": {
        "id": "Hnblxufgnp27"
      }
    },
    {
      "cell_type": "code",
      "source": [
        "'''eeg = pd.read_csv(\n",
        "    working_path.joinpath('eeg_all.csv'),\n",
        "    index_col=None\n",
        ")'''"
      ],
      "metadata": {
        "id": "Zfp1bgAmoQm5"
      },
      "execution_count": null,
      "outputs": []
    },
    {
      "cell_type": "code",
      "source": [
        "eeg = final_eeg.copy()"
      ],
      "metadata": {
        "id": "FqrTuKDun1Tg"
      },
      "execution_count": null,
      "outputs": []
    },
    {
      "cell_type": "code",
      "source": [
        "eeg.columns"
      ],
      "metadata": {
        "colab": {
          "base_uri": "https://localhost:8080/"
        },
        "id": "D1FHv2T1oK5o",
        "outputId": "6c036dfa-39cc-4fda-bae0-a232411cf748"
      },
      "execution_count": null,
      "outputs": [
        {
          "output_type": "execute_result",
          "data": {
            "text/plain": [
              "Index(['Trial', 'Subject', 'Block', 'ProbeType', 'ProbeTypeName',\n",
              "       'StimulusCategory', 'ListenCue', 'ReactionTime', 'KeyCode', 'Response',\n",
              "       'ResponseCorrect', 'Omission', 'StimulusAudioStart',\n",
              "       'StimulusAlignedTrigger', 'DelayPeriodOnset', 'MaintenancePeriodOnset',\n",
              "       'ProbeCueOnset', 'ProbeAudioStart', 'ProbeAlignedTrigger',\n",
              "       'TriggerValueCondition', 'StimulusSounds_idx', 'StimulusSounds_name',\n",
              "       'ProbeCategory', 'ProbeSound_idx', 'ProbeSound_name'],\n",
              "      dtype='object')"
            ]
          },
          "metadata": {},
          "execution_count": 222
        }
      ]
    },
    {
      "cell_type": "code",
      "source": [
        "#eeg = eeg.loc[:, eeg.columns != 'Unnamed: 0'] # some extra column appeared while uploading data"
      ],
      "metadata": {
        "id": "Rv_h_b-zoNMR"
      },
      "execution_count": null,
      "outputs": []
    },
    {
      "cell_type": "code",
      "source": [
        "eeg.isnull().sum()"
      ],
      "metadata": {
        "colab": {
          "base_uri": "https://localhost:8080/"
        },
        "id": "3GeMkfB7oQSp",
        "outputId": "45f9aca1-a3aa-43a5-9b47-fbfc02c8c969"
      },
      "execution_count": null,
      "outputs": [
        {
          "output_type": "execute_result",
          "data": {
            "text/plain": [
              "Trial                       0\n",
              "Subject                     0\n",
              "Block                       0\n",
              "ProbeType                   0\n",
              "ProbeTypeName               0\n",
              "StimulusCategory            0\n",
              "ListenCue                   0\n",
              "ReactionTime              100\n",
              "KeyCode                     0\n",
              "Response                    0\n",
              "ResponseCorrect             0\n",
              "Omission                    0\n",
              "StimulusAudioStart          0\n",
              "StimulusAlignedTrigger      0\n",
              "DelayPeriodOnset            0\n",
              "MaintenancePeriodOnset      0\n",
              "ProbeCueOnset               0\n",
              "ProbeAudioStart             0\n",
              "ProbeAlignedTrigger         0\n",
              "TriggerValueCondition       0\n",
              "StimulusSounds_idx          0\n",
              "StimulusSounds_name         0\n",
              "ProbeCategory               0\n",
              "ProbeSound_idx              0\n",
              "ProbeSound_name             0\n",
              "dtype: int64"
            ]
          },
          "metadata": {},
          "execution_count": 223
        }
      ]
    },
    {
      "cell_type": "code",
      "source": [
        "print(len(eeg.Subject.unique()))\n",
        "print(eeg.shape)"
      ],
      "metadata": {
        "colab": {
          "base_uri": "https://localhost:8080/"
        },
        "id": "cOWUWFfwoYDw",
        "outputId": "4923577b-abc1-47b7-c11b-8dc7b210b9c5"
      },
      "execution_count": null,
      "outputs": [
        {
          "output_type": "stream",
          "name": "stdout",
          "text": [
            "29\n",
            "(5568, 25)\n"
          ]
        }
      ]
    },
    {
      "cell_type": "code",
      "source": [
        "eeg_subset = eeg[[\n",
        "                 'Trial', 'Subject', 'Block', 'ProbeType', 'ProbeSound_idx',\n",
        "                 'ProbeTypeName', 'StimulusCategory', 'ReactionTime', 'KeyCode',\n",
        "                 'Response', 'ResponseCorrect', 'Omission', 'ProbeCategory',\n",
        "                  'StimulusSounds_name', 'ProbeSound_name', 'StimulusSounds_idx'\n",
        "]]"
      ],
      "metadata": {
        "id": "r83MAhg2ods_"
      },
      "execution_count": null,
      "outputs": []
    },
    {
      "cell_type": "code",
      "source": [
        "eeg_subset.head()"
      ],
      "metadata": {
        "colab": {
          "base_uri": "https://localhost:8080/",
          "height": 392
        },
        "id": "-TBx3mw_od8H",
        "outputId": "b8460bb2-fc27-4dd4-ca55-124026fc3ece"
      },
      "execution_count": null,
      "outputs": [
        {
          "output_type": "execute_result",
          "data": {
            "text/plain": [
              "  Trial Subject Block ProbeType ProbeSound_idx    ProbeTypeName  \\\n",
              "0     0      E2     1         1             21  out_of_sequence   \n",
              "1     1      E2     1         2             38      in_sequence   \n",
              "2     2      E2     1         2             30      in_sequence   \n",
              "3     3      E2     1         2              5      in_sequence   \n",
              "4     4      E2     1         1             13  out_of_sequence   \n",
              "\n",
              "  StimulusCategory  ReactionTime       KeyCode     Response ResponseCorrect  \\\n",
              "0       High Words           NaN  2.Left3.Left  No Response               0   \n",
              "1    Low Non-words      1.282162        2.Left          Yes               1   \n",
              "2        Low Words      0.987854        2.Left          Yes               1   \n",
              "3       High Words      1.588743        2.Left          Yes               1   \n",
              "4    Low Non-words      1.184043        3.Left           No               1   \n",
              "\n",
              "      Omission   ProbeCategory  \\\n",
              "0  No Response       Low Words   \n",
              "1    Responded   Low Non-words   \n",
              "2    Responded       Low Words   \n",
              "3    Responded      High Words   \n",
              "4    Responded  High Non-Words   \n",
              "\n",
              "                                 StimulusSounds_name ProbeSound_name  \\\n",
              "0  [[mon.wav], [pcn.wav], [sik.wav], [kap.wav], [...         Sur.wav   \n",
              "1  [[yuf.wav], [JcG.wav], [kuv.wav], [wEz.wav], [...         ycG.wav   \n",
              "2  [[[tub.wav]], [[fcg.wav]], [[f^j.wav]], [[lcG....         yuT.wav   \n",
              "3  [[fEl.wav], [lEr.wav], [sik.wav], [kap.wav], [...         lEr.wav   \n",
              "4  [[[gWT.wav]], [[kuv.wav]], [[vRn.wav]], [[zRT....         g@n.wav   \n",
              "\n",
              "                       StimulusSounds_idx  \n",
              "0                        [6, 7, 8, 4, 10]  \n",
              "1                    [39, 32, 35, 37, 38]  \n",
              "2  [[27, 23, 22, 24, 25, 29, 26, 28, 30]]  \n",
              "3                         [2, 5, 8, 4, 6]  \n",
              "4          [[34, 35, 36, 40, 39, 33, 37]]  "
            ],
            "text/html": [
              "\n",
              "  <div id=\"df-a43f479b-aea9-4a26-a816-8c92a5f69c32\">\n",
              "    <div class=\"colab-df-container\">\n",
              "      <div>\n",
              "<style scoped>\n",
              "    .dataframe tbody tr th:only-of-type {\n",
              "        vertical-align: middle;\n",
              "    }\n",
              "\n",
              "    .dataframe tbody tr th {\n",
              "        vertical-align: top;\n",
              "    }\n",
              "\n",
              "    .dataframe thead th {\n",
              "        text-align: right;\n",
              "    }\n",
              "</style>\n",
              "<table border=\"1\" class=\"dataframe\">\n",
              "  <thead>\n",
              "    <tr style=\"text-align: right;\">\n",
              "      <th></th>\n",
              "      <th>Trial</th>\n",
              "      <th>Subject</th>\n",
              "      <th>Block</th>\n",
              "      <th>ProbeType</th>\n",
              "      <th>ProbeSound_idx</th>\n",
              "      <th>ProbeTypeName</th>\n",
              "      <th>StimulusCategory</th>\n",
              "      <th>ReactionTime</th>\n",
              "      <th>KeyCode</th>\n",
              "      <th>Response</th>\n",
              "      <th>ResponseCorrect</th>\n",
              "      <th>Omission</th>\n",
              "      <th>ProbeCategory</th>\n",
              "      <th>StimulusSounds_name</th>\n",
              "      <th>ProbeSound_name</th>\n",
              "      <th>StimulusSounds_idx</th>\n",
              "    </tr>\n",
              "  </thead>\n",
              "  <tbody>\n",
              "    <tr>\n",
              "      <th>0</th>\n",
              "      <td>0</td>\n",
              "      <td>E2</td>\n",
              "      <td>1</td>\n",
              "      <td>1</td>\n",
              "      <td>21</td>\n",
              "      <td>out_of_sequence</td>\n",
              "      <td>High Words</td>\n",
              "      <td>NaN</td>\n",
              "      <td>2.Left3.Left</td>\n",
              "      <td>No Response</td>\n",
              "      <td>0</td>\n",
              "      <td>No Response</td>\n",
              "      <td>Low Words</td>\n",
              "      <td>[[mon.wav], [pcn.wav], [sik.wav], [kap.wav], [...</td>\n",
              "      <td>Sur.wav</td>\n",
              "      <td>[6, 7, 8, 4, 10]</td>\n",
              "    </tr>\n",
              "    <tr>\n",
              "      <th>1</th>\n",
              "      <td>1</td>\n",
              "      <td>E2</td>\n",
              "      <td>1</td>\n",
              "      <td>2</td>\n",
              "      <td>38</td>\n",
              "      <td>in_sequence</td>\n",
              "      <td>Low Non-words</td>\n",
              "      <td>1.282162</td>\n",
              "      <td>2.Left</td>\n",
              "      <td>Yes</td>\n",
              "      <td>1</td>\n",
              "      <td>Responded</td>\n",
              "      <td>Low Non-words</td>\n",
              "      <td>[[yuf.wav], [JcG.wav], [kuv.wav], [wEz.wav], [...</td>\n",
              "      <td>ycG.wav</td>\n",
              "      <td>[39, 32, 35, 37, 38]</td>\n",
              "    </tr>\n",
              "    <tr>\n",
              "      <th>2</th>\n",
              "      <td>2</td>\n",
              "      <td>E2</td>\n",
              "      <td>1</td>\n",
              "      <td>2</td>\n",
              "      <td>30</td>\n",
              "      <td>in_sequence</td>\n",
              "      <td>Low Words</td>\n",
              "      <td>0.987854</td>\n",
              "      <td>2.Left</td>\n",
              "      <td>Yes</td>\n",
              "      <td>1</td>\n",
              "      <td>Responded</td>\n",
              "      <td>Low Words</td>\n",
              "      <td>[[[tub.wav]], [[fcg.wav]], [[f^j.wav]], [[lcG....</td>\n",
              "      <td>yuT.wav</td>\n",
              "      <td>[[27, 23, 22, 24, 25, 29, 26, 28, 30]]</td>\n",
              "    </tr>\n",
              "    <tr>\n",
              "      <th>3</th>\n",
              "      <td>3</td>\n",
              "      <td>E2</td>\n",
              "      <td>1</td>\n",
              "      <td>2</td>\n",
              "      <td>5</td>\n",
              "      <td>in_sequence</td>\n",
              "      <td>High Words</td>\n",
              "      <td>1.588743</td>\n",
              "      <td>2.Left</td>\n",
              "      <td>Yes</td>\n",
              "      <td>1</td>\n",
              "      <td>Responded</td>\n",
              "      <td>High Words</td>\n",
              "      <td>[[fEl.wav], [lEr.wav], [sik.wav], [kap.wav], [...</td>\n",
              "      <td>lEr.wav</td>\n",
              "      <td>[2, 5, 8, 4, 6]</td>\n",
              "    </tr>\n",
              "    <tr>\n",
              "      <th>4</th>\n",
              "      <td>4</td>\n",
              "      <td>E2</td>\n",
              "      <td>1</td>\n",
              "      <td>1</td>\n",
              "      <td>13</td>\n",
              "      <td>out_of_sequence</td>\n",
              "      <td>Low Non-words</td>\n",
              "      <td>1.184043</td>\n",
              "      <td>3.Left</td>\n",
              "      <td>No</td>\n",
              "      <td>1</td>\n",
              "      <td>Responded</td>\n",
              "      <td>High Non-Words</td>\n",
              "      <td>[[[gWT.wav]], [[kuv.wav]], [[vRn.wav]], [[zRT....</td>\n",
              "      <td>g@n.wav</td>\n",
              "      <td>[[34, 35, 36, 40, 39, 33, 37]]</td>\n",
              "    </tr>\n",
              "  </tbody>\n",
              "</table>\n",
              "</div>\n",
              "      <button class=\"colab-df-convert\" onclick=\"convertToInteractive('df-a43f479b-aea9-4a26-a816-8c92a5f69c32')\"\n",
              "              title=\"Convert this dataframe to an interactive table.\"\n",
              "              style=\"display:none;\">\n",
              "        \n",
              "  <svg xmlns=\"http://www.w3.org/2000/svg\" height=\"24px\"viewBox=\"0 0 24 24\"\n",
              "       width=\"24px\">\n",
              "    <path d=\"M0 0h24v24H0V0z\" fill=\"none\"/>\n",
              "    <path d=\"M18.56 5.44l.94 2.06.94-2.06 2.06-.94-2.06-.94-.94-2.06-.94 2.06-2.06.94zm-11 1L8.5 8.5l.94-2.06 2.06-.94-2.06-.94L8.5 2.5l-.94 2.06-2.06.94zm10 10l.94 2.06.94-2.06 2.06-.94-2.06-.94-.94-2.06-.94 2.06-2.06.94z\"/><path d=\"M17.41 7.96l-1.37-1.37c-.4-.4-.92-.59-1.43-.59-.52 0-1.04.2-1.43.59L10.3 9.45l-7.72 7.72c-.78.78-.78 2.05 0 2.83L4 21.41c.39.39.9.59 1.41.59.51 0 1.02-.2 1.41-.59l7.78-7.78 2.81-2.81c.8-.78.8-2.07 0-2.86zM5.41 20L4 18.59l7.72-7.72 1.47 1.35L5.41 20z\"/>\n",
              "  </svg>\n",
              "      </button>\n",
              "      \n",
              "  <style>\n",
              "    .colab-df-container {\n",
              "      display:flex;\n",
              "      flex-wrap:wrap;\n",
              "      gap: 12px;\n",
              "    }\n",
              "\n",
              "    .colab-df-convert {\n",
              "      background-color: #E8F0FE;\n",
              "      border: none;\n",
              "      border-radius: 50%;\n",
              "      cursor: pointer;\n",
              "      display: none;\n",
              "      fill: #1967D2;\n",
              "      height: 32px;\n",
              "      padding: 0 0 0 0;\n",
              "      width: 32px;\n",
              "    }\n",
              "\n",
              "    .colab-df-convert:hover {\n",
              "      background-color: #E2EBFA;\n",
              "      box-shadow: 0px 1px 2px rgba(60, 64, 67, 0.3), 0px 1px 3px 1px rgba(60, 64, 67, 0.15);\n",
              "      fill: #174EA6;\n",
              "    }\n",
              "\n",
              "    [theme=dark] .colab-df-convert {\n",
              "      background-color: #3B4455;\n",
              "      fill: #D2E3FC;\n",
              "    }\n",
              "\n",
              "    [theme=dark] .colab-df-convert:hover {\n",
              "      background-color: #434B5C;\n",
              "      box-shadow: 0px 1px 3px 1px rgba(0, 0, 0, 0.15);\n",
              "      filter: drop-shadow(0px 1px 2px rgba(0, 0, 0, 0.3));\n",
              "      fill: #FFFFFF;\n",
              "    }\n",
              "  </style>\n",
              "\n",
              "      <script>\n",
              "        const buttonEl =\n",
              "          document.querySelector('#df-a43f479b-aea9-4a26-a816-8c92a5f69c32 button.colab-df-convert');\n",
              "        buttonEl.style.display =\n",
              "          google.colab.kernel.accessAllowed ? 'block' : 'none';\n",
              "\n",
              "        async function convertToInteractive(key) {\n",
              "          const element = document.querySelector('#df-a43f479b-aea9-4a26-a816-8c92a5f69c32');\n",
              "          const dataTable =\n",
              "            await google.colab.kernel.invokeFunction('convertToInteractive',\n",
              "                                                     [key], {});\n",
              "          if (!dataTable) return;\n",
              "\n",
              "          const docLinkHtml = 'Like what you see? Visit the ' +\n",
              "            '<a target=\"_blank\" href=https://colab.research.google.com/notebooks/data_table.ipynb>data table notebook</a>'\n",
              "            + ' to learn more about interactive tables.';\n",
              "          element.innerHTML = '';\n",
              "          dataTable['output_type'] = 'display_data';\n",
              "          await google.colab.output.renderOutput(dataTable, element);\n",
              "          const docLink = document.createElement('div');\n",
              "          docLink.innerHTML = docLinkHtml;\n",
              "          element.appendChild(docLink);\n",
              "        }\n",
              "      </script>\n",
              "    </div>\n",
              "  </div>\n",
              "  "
            ]
          },
          "metadata": {},
          "execution_count": 91
        }
      ]
    },
    {
      "cell_type": "code",
      "source": [
        "# check whether any response accuracy is less than 75%\n",
        "(eeg_subset.groupby(['Subject'])['ResponseCorrect'].mean() < 0.75).any()"
      ],
      "metadata": {
        "colab": {
          "base_uri": "https://localhost:8080/"
        },
        "id": "w89_rxalod-f",
        "outputId": "0b1c5b47-e6cd-44b1-f2fd-d58cf332f473"
      },
      "execution_count": null,
      "outputs": [
        {
          "output_type": "execute_result",
          "data": {
            "text/plain": [
              "False"
            ]
          },
          "metadata": {},
          "execution_count": 226
        }
      ]
    },
    {
      "cell_type": "code",
      "source": [
        "eeg_subset.groupby(['Subject'])['ResponseCorrect'].mean()"
      ],
      "metadata": {
        "colab": {
          "base_uri": "https://localhost:8080/"
        },
        "id": "xGOQ23dMoeCX",
        "outputId": "c518033d-f015-4213-99fe-12ccbef92300"
      },
      "execution_count": null,
      "outputs": [
        {
          "output_type": "execute_result",
          "data": {
            "text/plain": [
              "Subject\n",
              "E10    0.911458\n",
              "E11    0.895833\n",
              "E12    0.859375\n",
              "E13    0.833333\n",
              "E15    0.817708\n",
              "E16    0.890625\n",
              "E17    0.791667\n",
              "E18    0.947917\n",
              "E2     0.875000\n",
              "E20    0.817708\n",
              "E21    0.812500\n",
              "E22    0.833333\n",
              "E23    0.864583\n",
              "E24    0.828125\n",
              "E25    0.833333\n",
              "E26    0.843750\n",
              "E27    0.765625\n",
              "E28    0.901042\n",
              "E29    0.817708\n",
              "E3     0.885417\n",
              "E30    0.885417\n",
              "E31    0.890625\n",
              "E33    0.953125\n",
              "E4     0.791667\n",
              "E5     0.880208\n",
              "E6     0.755208\n",
              "E7     0.864583\n",
              "E8     0.875000\n",
              "E9     0.921875\n",
              "Name: ResponseCorrect, dtype: float64"
            ]
          },
          "metadata": {},
          "execution_count": 227
        }
      ]
    },
    {
      "cell_type": "code",
      "source": [
        "whole_list = eeg_subset['StimulusSounds_idx'].values\n",
        "new_sound_idx = []\n",
        "for i in whole_list:\n",
        "  if type(i) is list:\n",
        "    new_sound_idx.append(i)\n",
        "  elif type(i) is np.ndarray:\n",
        "    new_sound_idx.append(i[0].tolist())\n",
        "  else:\n",
        "    print(type(i))\n",
        "    print(len(new_sound_idx))\n",
        "    break"
      ],
      "metadata": {
        "id": "f3Vjjf9LprH-"
      },
      "execution_count": null,
      "outputs": []
    },
    {
      "cell_type": "code",
      "source": [
        "eeg_subset['StimulusSounds_idx'] = new_sound_idx"
      ],
      "metadata": {
        "colab": {
          "base_uri": "https://localhost:8080/"
        },
        "id": "cfJAdF7VsEJj",
        "outputId": "941fcab4-1288-4c7f-ce79-71a4f11c6b38"
      },
      "execution_count": null,
      "outputs": [
        {
          "output_type": "stream",
          "name": "stderr",
          "text": [
            "<ipython-input-229-6042217f2404>:1: SettingWithCopyWarning: \n",
            "A value is trying to be set on a copy of a slice from a DataFrame.\n",
            "Try using .loc[row_indexer,col_indexer] = value instead\n",
            "\n",
            "See the caveats in the documentation: https://pandas.pydata.org/pandas-docs/stable/user_guide/indexing.html#returning-a-view-versus-a-copy\n",
            "  eeg_subset['StimulusSounds_idx'] = new_sound_idx\n"
          ]
        }
      ]
    },
    {
      "cell_type": "code",
      "source": [
        "# checking the length of word lists presented\n",
        "compare = []\n",
        "for i in new_sound_idx:\n",
        "  length = len(i)\n",
        "  if length not in compare:\n",
        "    compare.append(length)\n",
        "print(compare)"
      ],
      "metadata": {
        "colab": {
          "base_uri": "https://localhost:8080/"
        },
        "id": "8ShyB_p-q45G",
        "outputId": "ce78a3e7-5692-4376-e472-6c70ba9e4ac6"
      },
      "execution_count": null,
      "outputs": [
        {
          "output_type": "stream",
          "name": "stdout",
          "text": [
            "[5, 9, 7, 3]\n"
          ]
        }
      ]
    },
    {
      "cell_type": "code",
      "source": [
        "# calculating relative position of the word in the list\n",
        "# pos for only in seqence trials: probe sound index and stimulus sound index\n",
        "# beginning middle or end\n",
        "positions = [] # for the new 'position' column in df\n",
        "# 1 - beginning, 2 - middle, 3 - end\n",
        "ind = eeg_subset['ProbeSound_idx'].values\n",
        "in_out = eeg_subset['ProbeType'].values\n",
        "for i in range(0, len(ind)):\n",
        "  if in_out[i] == 2: # if it is in sequence\n",
        "    if ind[i] in new_sound_idx[i]:\n",
        "      # for length of the list 3\n",
        "      if len(new_sound_idx[i]) == 3:\n",
        "        if new_sound_idx[i].index(ind[i]) == 0:\n",
        "          positions.append(1) # beginning\n",
        "        elif new_sound_idx[i].index(ind[i]) == 1:\n",
        "          positions.append(2) # middle\n",
        "        elif new_sound_idx[i].index(ind[i]) == 2:\n",
        "          positions.append(3) # end\n",
        "\n",
        "      # for length of the list 5\n",
        "      ## revise!\n",
        "      elif len(new_sound_idx[i]) == 5:\n",
        "        if new_sound_idx[i].index(ind[i]) in [0, 1]:\n",
        "          positions.append(1) # beginning\n",
        "        elif new_sound_idx[i].index(ind[i]) == 2:\n",
        "          positions.append(2) # middle\n",
        "        elif new_sound_idx[i].index(ind[i]) in [3, 4]:\n",
        "          positions.append(3) # end\n",
        "\n",
        "      # for length of the list 7\n",
        "      elif len(new_sound_idx[i]) == 7:\n",
        "        if new_sound_idx[i].index(ind[i]) in [0, 1]:\n",
        "          positions.append(1) # beginning\n",
        "        elif new_sound_idx[i].index(ind[i]) in [2, 3, 4]:\n",
        "          positions.append(2) # middle\n",
        "        elif new_sound_idx[i].index(ind[i]) in [5, 6]:\n",
        "          positions.append(3) # end\n",
        "\n",
        "      # for length of the list 9\n",
        "      elif len(new_sound_idx[i]) == 9:\n",
        "        if new_sound_idx[i].index(ind[i]) in [0, 1, 2]:\n",
        "          positions.append(1) # beginning\n",
        "        elif new_sound_idx[i].index(ind[i]) in [3, 4, 5]:\n",
        "          positions.append(2) # middle\n",
        "        elif new_sound_idx[i].index(ind[i]) in [6, 7, 8]:\n",
        "          positions.append(3) # end\n",
        "    else:\n",
        "      print('Check', i)\n",
        "      break\n",
        "  elif in_out[i] == 1:\n",
        "    positions.append(0) # if it is out of sequence it is not in the list\n",
        "  else:\n",
        "    print('Check', i)\n",
        "    break"
      ],
      "metadata": {
        "id": "Izk-IMy8q49t"
      },
      "execution_count": null,
      "outputs": []
    },
    {
      "cell_type": "code",
      "source": [
        "length = []\n",
        "for i in eeg_subset.StimulusSounds_idx:\n",
        "  length.append(len(i))"
      ],
      "metadata": {
        "id": "Rv9jLDC9q5AV"
      },
      "execution_count": null,
      "outputs": []
    },
    {
      "cell_type": "code",
      "source": [
        "eeg_subset['Position'] = positions\n",
        "eeg_subset['Length'] = length"
      ],
      "metadata": {
        "colab": {
          "base_uri": "https://localhost:8080/"
        },
        "id": "NO5VYiWkq5C2",
        "outputId": "8f7f9d1d-102c-438b-a092-4e86b348e1cc"
      },
      "execution_count": null,
      "outputs": [
        {
          "output_type": "stream",
          "name": "stderr",
          "text": [
            "<ipython-input-233-25a45b78502a>:1: SettingWithCopyWarning: \n",
            "A value is trying to be set on a copy of a slice from a DataFrame.\n",
            "Try using .loc[row_indexer,col_indexer] = value instead\n",
            "\n",
            "See the caveats in the documentation: https://pandas.pydata.org/pandas-docs/stable/user_guide/indexing.html#returning-a-view-versus-a-copy\n",
            "  eeg_subset['Position'] = positions\n",
            "<ipython-input-233-25a45b78502a>:2: SettingWithCopyWarning: \n",
            "A value is trying to be set on a copy of a slice from a DataFrame.\n",
            "Try using .loc[row_indexer,col_indexer] = value instead\n",
            "\n",
            "See the caveats in the documentation: https://pandas.pydata.org/pandas-docs/stable/user_guide/indexing.html#returning-a-view-versus-a-copy\n",
            "  eeg_subset['Length'] = length\n"
          ]
        }
      ]
    },
    {
      "cell_type": "code",
      "source": [
        "# types in ProbeCategory column differ in case\n",
        "# here we make them lowrcase\n",
        "new_probe = []\n",
        "for i in eeg_subset.ProbeCategory.values:\n",
        "  new_probe.append(i.lower())\n",
        "eeg_subset['ProbeCategory'] = new_probe"
      ],
      "metadata": {
        "colab": {
          "base_uri": "https://localhost:8080/"
        },
        "id": "8o3qcWMZsrAB",
        "outputId": "fc15cff2-711d-4ec3-b5a1-287671035199"
      },
      "execution_count": null,
      "outputs": [
        {
          "output_type": "stream",
          "name": "stderr",
          "text": [
            "<ipython-input-234-07ed8a5c37a8>:6: SettingWithCopyWarning: \n",
            "A value is trying to be set on a copy of a slice from a DataFrame.\n",
            "Try using .loc[row_indexer,col_indexer] = value instead\n",
            "\n",
            "See the caveats in the documentation: https://pandas.pydata.org/pandas-docs/stable/user_guide/indexing.html#returning-a-view-versus-a-copy\n",
            "  eeg_subset['ProbeCategory'] = new_probe\n"
          ]
        }
      ]
    },
    {
      "cell_type": "markdown",
      "source": [
        "Standardizing RT"
      ],
      "metadata": {
        "id": "EfZieLFQtDKZ"
      }
    },
    {
      "cell_type": "code",
      "source": [
        "pl.figure(figsize = (7, 7))\n",
        "ax = sns.boxplot(y=\"ReactionTime\", data=eeg_subset)\n",
        "pl.title(\"Distribution of RT values\");"
      ],
      "metadata": {
        "colab": {
          "base_uri": "https://localhost:8080/",
          "height": 427
        },
        "id": "mlOKivjBtAqJ",
        "outputId": "80cc212d-b470-453b-acb6-52747ff8ce6b"
      },
      "execution_count": null,
      "outputs": [
        {
          "output_type": "display_data",
          "data": {
            "text/plain": [
              "<Figure size 504x504 with 1 Axes>"
            ],
            "image/png": "[encoded data removed]"
          },
          "metadata": {
            "needs_background": "light"
          }
        }
      ]
    },
    {
      "cell_type": "code",
      "source": [
        "# check for outliers outside\n",
        "eeg_no_outliers = eeg_subset.copy()\n",
        "q75 = np.percentile(eeg_no_outliers['ReactionTime'], 75)\n",
        "q25 = np.percentile(eeg_no_outliers['ReactionTime'], 25)\n",
        "inter_qr = q75 - q25\n",
        "upper = q75 + (inter_qr*1.5)\n",
        "lower = q25 - (inter_qr*1.5)\n",
        "col_new = []\n",
        "index = 0\n",
        "for value in eeg_no_outliers['ReactionTime'].values:\n",
        "  if value < lower:\n",
        "    col_new.append(np.nan)\n",
        "    index += 1\n",
        "  elif value > upper:\n",
        "    col_new.append(np.nan)\n",
        "    index += 1\n",
        "  else:\n",
        "    col_new.append(value)\n",
        "print(index)"
      ],
      "metadata": {
        "colab": {
          "base_uri": "https://localhost:8080/"
        },
        "id": "N5igoRe4tHXp",
        "outputId": "fe08e0bd-8959-4a05-b9b0-562fc091ac2b"
      },
      "execution_count": null,
      "outputs": [
        {
          "output_type": "stream",
          "name": "stdout",
          "text": [
            "0\n"
          ]
        }
      ]
    },
    {
      "cell_type": "markdown",
      "source": [
        "No outliers in the EEG dataset"
      ],
      "metadata": {
        "id": "mdR3fZrYtJeB"
      }
    },
    {
      "cell_type": "code",
      "source": [
        "# standardization with RT without outliers\n",
        "rt = eeg_subset[eeg_subset['Response'] != 'No Response'].ReactionTime.values\n",
        "rt_mean = rt.mean()\n",
        "rt_std = rt.std()\n",
        "newRT = []\n",
        "for i in eeg_subset.ReactionTime.values:\n",
        "  if math.isnan(i) == True:\n",
        "    newRT.append(i)\n",
        "  else:\n",
        "    newRT.append((i - rt_mean)/rt_std)"
      ],
      "metadata": {
        "id": "T4SLA8dFtKq5"
      },
      "execution_count": null,
      "outputs": []
    },
    {
      "cell_type": "code",
      "source": [
        "eeg_subset['stdRT'] = newRT"
      ],
      "metadata": {
        "colab": {
          "base_uri": "https://localhost:8080/"
        },
        "id": "ChmxPXnrtP4g",
        "outputId": "2f51655b-1cd1-4f48-cf2a-4ca1026ee96e"
      },
      "execution_count": null,
      "outputs": [
        {
          "output_type": "stream",
          "name": "stderr",
          "text": [
            "<ipython-input-238-af2a9f2fc113>:1: SettingWithCopyWarning: \n",
            "A value is trying to be set on a copy of a slice from a DataFrame.\n",
            "Try using .loc[row_indexer,col_indexer] = value instead\n",
            "\n",
            "See the caveats in the documentation: https://pandas.pydata.org/pandas-docs/stable/user_guide/indexing.html#returning-a-view-versus-a-copy\n",
            "  eeg_subset['stdRT'] = newRT\n"
          ]
        }
      ]
    },
    {
      "cell_type": "code",
      "source": [
        "pl.figure(figsize = (7, 7))\n",
        "ax = sns.boxplot(y=\"stdRT\", data=eeg_subset)\n",
        "pl.title(\"Distribution of standardized RT values\");"
      ],
      "metadata": {
        "colab": {
          "base_uri": "https://localhost:8080/",
          "height": 427
        },
        "id": "ebBi6ciLtYuR",
        "outputId": "620bee97-33a1-4f73-bdb4-f9b3c231e1d2"
      },
      "execution_count": null,
      "outputs": [
        {
          "output_type": "display_data",
          "data": {
            "text/plain": [
              "<Figure size 504x504 with 1 Axes>"
            ],
            "image/png": "[encoded data removed]"
          },
          "metadata": {
            "needs_background": "light"
          }
        }
      ]
    },
    {
      "cell_type": "code",
      "source": [
        "# upper plot - with outliers, lower plots - without\n",
        "pl.figure(figsize = (20, 10))\n",
        "sns.displot(eeg_subset['ReactionTime']);\n",
        "sns.displot(eeg_subset['stdRT']);"
      ],
      "metadata": {
        "colab": {
          "base_uri": "https://localhost:8080/",
          "height": 738
        },
        "id": "dA5bXGAgtdH4",
        "outputId": "83aa3d81-fb3b-4b5f-df2e-9a14f5f47020"
      },
      "execution_count": null,
      "outputs": [
        {
          "output_type": "display_data",
          "data": {
            "text/plain": [
              "<Figure size 1440x720 with 0 Axes>"
            ]
          },
          "metadata": {}
        },
        {
          "output_type": "display_data",
          "data": {
            "text/plain": [
              "<Figure size 360x360 with 1 Axes>"
            ],
            "image/png": "[encoded data removed]"
          },
          "metadata": {
            "needs_background": "light"
          }
        },
        {
          "output_type": "display_data",
          "data": {
            "text/plain": [
              "<Figure size 360x360 with 1 Axes>"
            ],
            "image/png": "[encoded data removed]"
          },
          "metadata": {
            "needs_background": "light"
          }
        }
      ]
    },
    {
      "cell_type": "code",
      "source": [
        "lex = []\n",
        "phon = []\n",
        "for i in eeg_subset.ProbeCategory.values:\n",
        "  if 'non-words' in i: # non - words = 0, words = 0\n",
        "    lex.append(0)\n",
        "  elif 'words' in i:\n",
        "    lex.append(1)\n",
        "for i in eeg_subset.ProbeCategory.values:\n",
        "  if 'low' in i: # low = 1 high = 0\n",
        "    phon.append(1)\n",
        "  elif 'high' in i:\n",
        "    phon.append(0)\n",
        "print(len(lex))\n",
        "print(len(phon))"
      ],
      "metadata": {
        "colab": {
          "base_uri": "https://localhost:8080/"
        },
        "id": "MIv7ybl6tYww",
        "outputId": "b252c07c-aa13-4654-8ee1-a19bc4641020"
      },
      "execution_count": null,
      "outputs": [
        {
          "output_type": "stream",
          "name": "stdout",
          "text": [
            "5568\n",
            "5568\n"
          ]
        }
      ]
    },
    {
      "cell_type": "code",
      "source": [
        "eeg_subset['Lex'] = lex\n",
        "eeg_subset['Phono'] = phon"
      ],
      "metadata": {
        "colab": {
          "base_uri": "https://localhost:8080/"
        },
        "id": "_vsivkuGtY1S",
        "outputId": "106af901-5213-4eb7-ac9b-cab57104a92c"
      },
      "execution_count": null,
      "outputs": [
        {
          "output_type": "stream",
          "name": "stderr",
          "text": [
            "<ipython-input-242-900deb494d65>:1: SettingWithCopyWarning: \n",
            "A value is trying to be set on a copy of a slice from a DataFrame.\n",
            "Try using .loc[row_indexer,col_indexer] = value instead\n",
            "\n",
            "See the caveats in the documentation: https://pandas.pydata.org/pandas-docs/stable/user_guide/indexing.html#returning-a-view-versus-a-copy\n",
            "  eeg_subset['Lex'] = lex\n",
            "<ipython-input-242-900deb494d65>:2: SettingWithCopyWarning: \n",
            "A value is trying to be set on a copy of a slice from a DataFrame.\n",
            "Try using .loc[row_indexer,col_indexer] = value instead\n",
            "\n",
            "See the caveats in the documentation: https://pandas.pydata.org/pandas-docs/stable/user_guide/indexing.html#returning-a-view-versus-a-copy\n",
            "  eeg_subset['Phono'] = phon\n"
          ]
        }
      ]
    },
    {
      "cell_type": "markdown",
      "source": [
        "##Stats on EEG"
      ],
      "metadata": {
        "id": "7GHtZbGOxQ5J"
      }
    },
    {
      "cell_type": "code",
      "source": [
        "print(\n",
        "    'Accuracy without \"No response\" trials',\n",
        "    eeg_subset[eeg_subset['Response'] != 'No Response'].ResponseCorrect.mean()\n",
        ")\n",
        "print(\n",
        "    'Accuracy with \"No response\" trials',\n",
        "    eeg_subset.ResponseCorrect.mean()\n",
        ")\n"
      ],
      "metadata": {
        "colab": {
          "base_uri": "https://localhost:8080/"
        },
        "id": "V5dvdla-xMBo",
        "outputId": "3af2b197-7e6b-4148-f121-530272a333bc"
      },
      "execution_count": null,
      "outputs": [
        {
          "output_type": "stream",
          "name": "stdout",
          "text": [
            "Accuracy without \"No response\" trials 0.8723482077542063\n",
            "Accuracy with \"No response\" trials 0.8566810344827587\n"
          ]
        }
      ]
    },
    {
      "cell_type": "code",
      "source": [
        "print('Shape of the dataset with no response trials', eeg_subset.shape)\n",
        "print('Shape of the dataset without no response trials', eeg_subset[eeg_subset['Response'] != 'No Response'].shape)"
      ],
      "metadata": {
        "colab": {
          "base_uri": "https://localhost:8080/"
        },
        "id": "BoJN4NOZxMGv",
        "outputId": "b184c231-d080-4fed-8417-f52d73e4efb3"
      },
      "execution_count": null,
      "outputs": [
        {
          "output_type": "stream",
          "name": "stdout",
          "text": [
            "Shape of the dataset with no response trials (5568, 21)\n",
            "Shape of the dataset without no response trials (5468, 21)\n"
          ]
        }
      ]
    },
    {
      "cell_type": "code",
      "source": [
        "sns.distplot(eeg_subset[eeg_subset['Response'] != 'No Response'].ReactionTime)\n",
        "pl.title('RT distribution');\n",
        "print(\n",
        "    'Mean', eeg_subset[eeg_subset['Response'] != 'No Response'].ReactionTime.mean(),\n",
        "    'Max', eeg_subset[eeg_subset['Response'] != 'No Response'].ReactionTime.max(),\n",
        "    'Min', eeg_subset[eeg_subset['Response'] != 'No Response'].ReactionTime.min()\n",
        ")"
      ],
      "metadata": {
        "colab": {
          "base_uri": "https://localhost:8080/",
          "height": 373
        },
        "id": "d7f1iCwtxZVF",
        "outputId": "39b85cfb-f8e4-4abe-c76d-42e0ceb4015c"
      },
      "execution_count": null,
      "outputs": [
        {
          "output_type": "stream",
          "name": "stderr",
          "text": [
            "/usr/local/lib/python3.8/dist-packages/seaborn/distributions.py:2619: FutureWarning: `distplot` is a deprecated function and will be removed in a future version. Please adapt your code to use either `displot` (a figure-level function with similar flexibility) or `histplot` (an axes-level function for histograms).\n",
            "  warnings.warn(msg, FutureWarning)\n"
          ]
        },
        {
          "output_type": "stream",
          "name": "stdout",
          "text": [
            "Mean 1.1349431817298263 Max 2.492920639537033 Min 0.43356203194434784\n"
          ]
        },
        {
          "output_type": "display_data",
          "data": {
            "text/plain": [
              "<Figure size 432x288 with 1 Axes>"
            ],
            "image/png": "[encoded data removed]"
          },
          "metadata": {
            "needs_background": "light"
          }
        }
      ]
    },
    {
      "cell_type": "code",
      "source": [
        "values = []\n",
        "for i in eeg_subset[eeg_subset['Response'] != 'No Response'].Subject.unique():\n",
        "  subset = eeg_subset[eeg_subset['Response'] != 'No Response']\n",
        "  subset = subset[subset['Subject'] == i]\n",
        "  q75 = np.percentile(subset['ReactionTime'], 75)\n",
        "  q25 = np.percentile(subset['ReactionTime'], 25)\n",
        "  inter_qr = q75 - q25\n",
        "  upper = q75 + (inter_qr*3)\n",
        "  lower = q25 - (inter_qr*3)\n",
        "  index = 0\n",
        "  for val in subset.ReactionTime.values:\n",
        "    if val < lower:\n",
        "      values.append((i, val))\n",
        "      index += 1\n",
        "    elif val > upper:\n",
        "      values.append((i, val))\n",
        "      index += 1\n",
        "  print(i, index)"
      ],
      "metadata": {
        "colab": {
          "base_uri": "https://localhost:8080/"
        },
        "id": "yKhsOOluxfhq",
        "outputId": "0a4786af-af9c-4965-f11a-97e4e4773897"
      },
      "execution_count": null,
      "outputs": [
        {
          "output_type": "stream",
          "name": "stdout",
          "text": [
            "E2 2\n",
            "E3 0\n",
            "E4 0\n",
            "E5 0\n",
            "E6 3\n",
            "E7 5\n",
            "E8 3\n",
            "E9 7\n",
            "E10 6\n",
            "E11 1\n",
            "E12 1\n",
            "E13 0\n",
            "E15 0\n",
            "E16 2\n",
            "E17 0\n",
            "E18 4\n",
            "E20 1\n",
            "E21 0\n",
            "E22 0\n",
            "E23 2\n",
            "E24 2\n",
            "E25 1\n",
            "E26 0\n",
            "E27 0\n",
            "E28 0\n",
            "E29 0\n",
            "E30 0\n",
            "E31 0\n",
            "E33 7\n"
          ]
        }
      ]
    },
    {
      "cell_type": "code",
      "source": [
        "len(values)"
      ],
      "metadata": {
        "colab": {
          "base_uri": "https://localhost:8080/"
        },
        "id": "2DHhRBf2xfkj",
        "outputId": "8f196979-ef19-4093-c867-16f1e2df0ff1"
      },
      "execution_count": null,
      "outputs": [
        {
          "output_type": "execute_result",
          "data": {
            "text/plain": [
              "47"
            ]
          },
          "metadata": {},
          "execution_count": 247
        }
      ]
    },
    {
      "cell_type": "code",
      "source": [
        "# check for normality of the distribution\n",
        "test = shapiro(eeg_subset[eeg_subset['Response'] != 'No Response']['ReactionTime'].values)\n",
        "if test[1] > 0.05:\n",
        "  print('Probably Gaussian')\n",
        "else:\n",
        "  print('Probably not Gaussian')"
      ],
      "metadata": {
        "colab": {
          "base_uri": "https://localhost:8080/"
        },
        "id": "NkAP0CxXxfqg",
        "outputId": "491cc376-98b1-41ee-dbd5-0ac6167161f4"
      },
      "execution_count": null,
      "outputs": [
        {
          "output_type": "stream",
          "name": "stdout",
          "text": [
            "Probably not Gaussian\n"
          ]
        },
        {
          "output_type": "stream",
          "name": "stderr",
          "text": [
            "/usr/local/lib/python3.8/dist-packages/scipy/stats/morestats.py:1760: UserWarning: p-value may not be accurate for N > 5000.\n",
            "  warnings.warn(\"p-value may not be accurate for N > 5000.\")\n"
          ]
        }
      ]
    },
    {
      "cell_type": "code",
      "source": [
        "normaltest(eeg_subset[eeg_subset['Response'] != 'No Response']['ReactionTime'].values)"
      ],
      "metadata": {
        "colab": {
          "base_uri": "https://localhost:8080/"
        },
        "id": "VfV2qnn0yA_f",
        "outputId": "75fa417d-2596-49b6-d09c-22ca195180c2"
      },
      "execution_count": null,
      "outputs": [
        {
          "output_type": "execute_result",
          "data": {
            "text/plain": [
              "NormaltestResult(statistic=619.6311037347008, pvalue=2.8107059705027285e-135)"
            ]
          },
          "metadata": {},
          "execution_count": 249
        }
      ]
    },
    {
      "cell_type": "code",
      "source": [
        "fitted_data, fitted_lambda = boxcox(eeg_subset[eeg_subset['Response'] != 'No Response']['ReactionTime'].values)"
      ],
      "metadata": {
        "id": "SA_-r7h_yCc_"
      },
      "execution_count": null,
      "outputs": []
    },
    {
      "cell_type": "code",
      "source": [
        "fig, ax = pl.subplots(1, 2)\n",
        "sns.distplot(eeg_subset[eeg_subset['Response'] != 'No Response']['ReactionTime'].values, hist = False, kde = True,\n",
        "            label = \"Non-Normal\", color =\"green\", ax = ax[0])\n",
        "\n",
        "sns.distplot(fitted_data, hist = False, kde = True,\n",
        "            label = \"Normal\", color =\"green\", ax = ax[1]);"
      ],
      "metadata": {
        "colab": {
          "base_uri": "https://localhost:8080/",
          "height": 357
        },
        "id": "CG-noUWZyCwf",
        "outputId": "a6eef2bf-7d2d-4263-d98e-dd5375480ee7"
      },
      "execution_count": null,
      "outputs": [
        {
          "output_type": "stream",
          "name": "stderr",
          "text": [
            "/usr/local/lib/python3.8/dist-packages/seaborn/distributions.py:2619: FutureWarning: `distplot` is a deprecated function and will be removed in a future version. Please adapt your code to use either `displot` (a figure-level function with similar flexibility) or `kdeplot` (an axes-level function for kernel density plots).\n",
            "  warnings.warn(msg, FutureWarning)\n",
            "/usr/local/lib/python3.8/dist-packages/seaborn/distributions.py:2619: FutureWarning: `distplot` is a deprecated function and will be removed in a future version. Please adapt your code to use either `displot` (a figure-level function with similar flexibility) or `kdeplot` (an axes-level function for kernel density plots).\n",
            "  warnings.warn(msg, FutureWarning)\n"
          ]
        },
        {
          "output_type": "display_data",
          "data": {
            "text/plain": [
              "<Figure size 432x288 with 2 Axes>"
            ],
            "image/png": "[encoded data removed]"
          },
          "metadata": {
            "needs_background": "light"
          }
        }
      ]
    },
    {
      "cell_type": "code",
      "source": [
        "eeg_subset[eeg_subset['Response'] != 'No Response']['stdRT'] = fitted_data"
      ],
      "metadata": {
        "colab": {
          "base_uri": "https://localhost:8080/"
        },
        "id": "cYRTWhC0yEPv",
        "outputId": "5d3e3ad3-fd55-4de8-87f0-6e3048d595f4"
      },
      "execution_count": null,
      "outputs": [
        {
          "output_type": "stream",
          "name": "stderr",
          "text": [
            "<ipython-input-252-beae636ae5d4>:1: SettingWithCopyWarning: \n",
            "A value is trying to be set on a copy of a slice from a DataFrame.\n",
            "Try using .loc[row_indexer,col_indexer] = value instead\n",
            "\n",
            "See the caveats in the documentation: https://pandas.pydata.org/pandas-docs/stable/user_guide/indexing.html#returning-a-view-versus-a-copy\n",
            "  eeg_subset[eeg_subset['Response'] != 'No Response']['stdRT'] = fitted_data\n"
          ]
        }
      ]
    },
    {
      "cell_type": "code",
      "source": [
        "print(fitted_lambda)\n",
        "print('Shapiro test:', shapiro(fitted_data))\n",
        "print('Other normal test:', normaltest(fitted_data))"
      ],
      "metadata": {
        "colab": {
          "base_uri": "https://localhost:8080/"
        },
        "id": "dW23YrnqyLJH",
        "outputId": "6dd8cb2b-360f-438d-ac5c-3bc0d3abe972"
      },
      "execution_count": null,
      "outputs": [
        {
          "output_type": "stream",
          "name": "stdout",
          "text": [
            "-0.14836812286618403\n",
            "Shapiro test: ShapiroResult(statistic=0.9975175857543945, pvalue=8.745944057864108e-08)\n",
            "Other normal test: NormaltestResult(statistic=39.477175381694096, pvalue=2.6769501589031745e-09)\n"
          ]
        },
        {
          "output_type": "stream",
          "name": "stderr",
          "text": [
            "/usr/local/lib/python3.8/dist-packages/scipy/stats/morestats.py:1760: UserWarning: p-value may not be accurate for N > 5000.\n",
            "  warnings.warn(\"p-value may not be accurate for N > 5000.\")\n"
          ]
        }
      ]
    },
    {
      "cell_type": "markdown",
      "source": [
        "'No Response' trials are coded as incorrect in the data already, so we don't need to recode this."
      ],
      "metadata": {
        "id": "zgULsjrtyOun"
      }
    },
    {
      "cell_type": "code",
      "source": [
        "# saving result\n",
        "eeg_subset.to_csv(\n",
        "    Path(working_path).joinpath('eeg_processed.csv')\n",
        ")"
      ],
      "metadata": {
        "id": "okH33vFr0vSA"
      },
      "execution_count": null,
      "outputs": []
    }
  ]
}