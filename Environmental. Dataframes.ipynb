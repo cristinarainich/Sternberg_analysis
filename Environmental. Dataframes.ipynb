{
  "nbformat": 4,
  "nbformat_minor": 0,
  "metadata": {
    "colab": {
      "name": "Environmental. Dataframes.ipynb",
      "provenance": [],
      "toc_visible": true,
      "authorship_tag": "ABX9TyM8LEHDY1ooW5Wr20M6HEml",
      "include_colab_link": true
    },
    "kernelspec": {
      "name": "python3",
      "display_name": "Python 3"
    },
    "language_info": {
      "name": "python"
    }
  },
  "cells": [
    {
      "cell_type": "markdown",
      "metadata": {
        "id": "view-in-github",
        "colab_type": "text"
      },
      "source": [
        "<a href=\"https://colab.research.google.com/github/cristinarainich/Sternberg_analysis/blob/main/Environmental.%20Dataframes.ipynb\" target=\"_parent\"><img src=\"https://colab.research.google.com/assets/colab-badge.svg\" alt=\"Open In Colab\"/></a>"
      ]
    },
    {
      "cell_type": "markdown",
      "source": [
        "## Imports"
      ],
      "metadata": {
        "id": "YpvNzPralrdX"
      }
    },
    {
      "cell_type": "markdown",
      "source": [
        "Updated 16/05 15:45"
      ],
      "metadata": {
        "id": "fRRNc9hozjsq"
      }
    },
    {
      "cell_type": "code",
      "execution_count": null,
      "metadata": {
        "id": "3h5n2BsXgd_A"
      },
      "outputs": [],
      "source": [
        "import pandas as pd\n",
        "import numpy as np\n",
        "import pylab as pl\n",
        "import scipy.io\n",
        "from pathlib import Path"
      ]
    },
    {
      "cell_type": "code",
      "source": [
        "from google.colab import drive\n",
        "drive.mount('/content/gdrive')"
      ],
      "metadata": {
        "colab": {
          "base_uri": "https://localhost:8080/"
        },
        "id": "I5Vp26ukgrGq",
        "outputId": "275d39e9-4873-4353-84e7-91f1f81db868"
      },
      "execution_count": null,
      "outputs": [
        {
          "output_type": "stream",
          "name": "stdout",
          "text": [
            "Mounted at /content/gdrive\n"
          ]
        }
      ]
    },
    {
      "cell_type": "code",
      "source": [
        "working_path = Path('/content/gdrive/MyDrive/CoganLab/Environmental')"
      ],
      "metadata": {
        "id": "XSxCJCVjgtfi"
      },
      "execution_count": 139,
      "outputs": []
    },
    {
      "cell_type": "code",
      "source": [
        "!ls /content/gdrive/MyDrive/CoganLab/Environmental"
      ],
      "metadata": {
        "id": "Ean4VEuNJXzv",
        "outputId": "2c85a431-0779-4b2f-8ccc-7f715e14789e",
        "colab": {
          "base_uri": "https://localhost:8080/"
        }
      },
      "execution_count": null,
      "outputs": [
        {
          "output_type": "stream",
          "name": "stdout",
          "text": [
            " D29_Block_1_TrialData.mat\t  eeg_envir.csv\n",
            " D64_Block_1_TrialData.mat\t  eeg_envir_processed.csv\n",
            " D65_Block_1_TrialData_1.mat\t  Environmental_Subject.mat\n",
            " D65_Block_1_TrialData.mat\t  healthy\n",
            "'D71_Block_1_TrialData (1).mat'   ieeg_envir.csv\n",
            "'D73_Block_1_TrialData (2).mat'   ieeg_envir_processed.csv\n",
            "'D77_Block_1_TrialData (1).mat'   stimuli\n"
          ]
        }
      ]
    },
    {
      "cell_type": "code",
      "source": [
        "# Patients\n",
        "ieeg = scipy.io.loadmat(\n",
        "    working_path.joinpath('Environmental_Subject.mat')\n",
        "    )\n",
        "\n",
        "subj1 = scipy.io.loadmat(\n",
        "    working_path.joinpath('D65_Block_1_TrialData.mat')\n",
        "    )\n",
        "\n",
        "subj65 = scipy.io.loadmat(\n",
        "    working_path.joinpath('D65_Block_1_TrialData_1.mat')\n",
        "    )\n",
        "\n",
        "subj64 = scipy.io.loadmat(\n",
        "    working_path.joinpath('D64_Block_1_TrialData.mat')\n",
        ")\n",
        "subj73 = scipy.io.loadmat(\n",
        "    working_path.joinpath('D73_Block_1_TrialData (2).mat')\n",
        "    )\n",
        "subj77 = scipy.io.loadmat(\n",
        "    working_path.joinpath('D77_Block_1_TrialData (1).mat')\n",
        "    )"
      ],
      "metadata": {
        "id": "F_VMS1EkgvK5"
      },
      "execution_count": 140,
      "outputs": []
    },
    {
      "cell_type": "code",
      "source": [
        "working_path = Path('/content/gdrive/MyDrive/CoganLab/Environmental/healthy')"
      ],
      "metadata": {
        "id": "O0-zz-NsewOV"
      },
      "execution_count": null,
      "outputs": []
    },
    {
      "cell_type": "code",
      "source": [
        "# healthy\n",
        "files = [] \n",
        "begin = 'E'\n",
        "end = '_Block_1_TrialData.mat'\n",
        "files.append(begin + '32' + end)\n",
        "for i in range(34, 47):\n",
        "  files.append(begin + str(i) + end)"
      ],
      "metadata": {
        "id": "-d_XluCJXidr"
      },
      "execution_count": null,
      "outputs": []
    },
    {
      "cell_type": "code",
      "source": [
        "files[0]"
      ],
      "metadata": {
        "colab": {
          "base_uri": "https://localhost:8080/",
          "height": 36
        },
        "id": "SIN8V10Ie6gM",
        "outputId": "f88ade01-9131-405c-c829-234ba4478a04"
      },
      "execution_count": null,
      "outputs": [
        {
          "output_type": "execute_result",
          "data": {
            "text/plain": [
              "'E32_Block_1_TrialData.mat'"
            ],
            "application/vnd.google.colaboratory.intrinsic+json": {
              "type": "string"
            }
          },
          "metadata": {},
          "execution_count": 8
        }
      ]
    },
    {
      "cell_type": "code",
      "source": [
        "eeg = []\n",
        "for i in files:\n",
        "  subset = scipy.io.loadmat(\n",
        "      working_path.joinpath(i)\n",
        "  )\n",
        "  eeg.append(subset)"
      ],
      "metadata": {
        "id": "vOupvS0MYjbt"
      },
      "execution_count": null,
      "outputs": []
    },
    {
      "cell_type": "markdown",
      "source": [
        "#Working with stimuli"
      ],
      "metadata": {
        "id": "4TXoMEgdW9cj"
      }
    },
    {
      "cell_type": "code",
      "source": [
        "working_path = Path('/content/gdrive/MyDrive/CoganLab/Environmental/stimuli')"
      ],
      "metadata": {
        "id": "9N5rDPdvW_Nb"
      },
      "execution_count": null,
      "outputs": []
    },
    {
      "cell_type": "code",
      "source": [
        "!ls /content/gdrive/MyDrive/CoganLab/Environmental/stimuli"
      ],
      "metadata": {
        "id": "JpqQTpHkXBcz",
        "outputId": "b7a8b6f6-e7a7-4ba5-e37d-af17f99e042b",
        "colab": {
          "base_uri": "https://localhost:8080/"
        }
      },
      "execution_count": null,
      "outputs": [
        {
          "output_type": "stream",
          "name": "stdout",
          "text": [
            "imaginability.txt\t proposed_nw.mat\t proposed_w3.mat  untrn_w.mat\n",
            "proposed_nw3_global.mat  proposed_w2.mat\t proposed_w.mat\n",
            "proposed_nw3.mat\t proposed_w3_global.mat  untrn_nw.mat\n"
          ]
        }
      ]
    },
    {
      "cell_type": "code",
      "source": [
        "stimuli_words = scipy.io.loadmat(\n",
        "    working_path.joinpath('proposed_w3.mat')\n",
        ")"
      ],
      "metadata": {
        "id": "xeu87X-LXBfK"
      },
      "execution_count": null,
      "outputs": []
    },
    {
      "cell_type": "code",
      "source": [
        "columns = stimuli_words['proposed_w'].dtype.names\n",
        "stim_words = pd.DataFrame(columns=columns)\n",
        "for i in range(0, stimuli_words['proposed_w'].shape[1]):\n",
        "  values = []\n",
        "  subset = stimuli_words['proposed_w'][0][i]\n",
        "  for name in columns:\n",
        "    values.append(subset[name])\n",
        "  stim_words.loc[len(stim_words.index)] = values"
      ],
      "metadata": {
        "id": "R39wSkRRXBhl"
      },
      "execution_count": null,
      "outputs": []
    },
    {
      "cell_type": "code",
      "source": [
        "stimuli = []\n",
        "for i in stim_words.Word.values:\n",
        "  stimuli.append(i[0])\n",
        "\n",
        "freq = []\n",
        "for i in stim_words.SFreq.values:\n",
        "  freq.append(i[0][0])\n",
        "\n",
        "imagine = []\n",
        "for i in stim_words.imaginability.values:\n",
        "  imagine.append(i[0][0])\n",
        "\n",
        "category = []\n",
        "for i in range(0, 24):\n",
        "  category.append('word')"
      ],
      "metadata": {
        "id": "Wjp4axIDXBjy"
      },
      "execution_count": null,
      "outputs": []
    },
    {
      "cell_type": "code",
      "source": [
        "columns = ['Category', 'Stimulus', 'Frequency', 'Imaginability']\n",
        "words = pd.DataFrame(columns=columns)\n",
        "words['Category'] = category\n",
        "words['Stimulus'] = stimuli\n",
        "words['Frequency'] = freq\n",
        "words['Imaginability'] = imagine"
      ],
      "metadata": {
        "id": "BEYWzNOLXGhC"
      },
      "execution_count": null,
      "outputs": []
    },
    {
      "cell_type": "code",
      "source": [
        "stimuli_nonwords = scipy.io.loadmat(\n",
        "    working_path.joinpath('proposed_nw3.mat')\n",
        ")"
      ],
      "metadata": {
        "id": "7JwhTUOnXHwC"
      },
      "execution_count": null,
      "outputs": []
    },
    {
      "cell_type": "code",
      "source": [
        "columns = stimuli_nonwords['proposed_nw'].dtype.names\n",
        "stim_nonwords = pd.DataFrame(columns=columns)\n",
        "for i in range(0, stimuli_nonwords['proposed_nw'].shape[1]):\n",
        "  values = []\n",
        "  subset = stimuli_nonwords['proposed_nw'][0][i]\n",
        "  for name in columns:\n",
        "    values.append(subset[name])\n",
        "  stim_nonwords.loc[len(stim_nonwords.index)] = values"
      ],
      "metadata": {
        "id": "S1RxZF_BXI8K"
      },
      "execution_count": null,
      "outputs": []
    },
    {
      "cell_type": "code",
      "source": [
        "stimuli = []\n",
        "for i in stim_nonwords.Word.values:\n",
        "  stimuli.append(i[0])\n",
        "\n",
        "freq = []\n",
        "for i in stim_nonwords.SFreq.values:\n",
        "  freq.append(i[0][0])\n",
        "\n",
        "category = []\n",
        "for i in range(0, 24):\n",
        "  category.append('nonword')"
      ],
      "metadata": {
        "id": "xdlJwCTfXI-6"
      },
      "execution_count": null,
      "outputs": []
    },
    {
      "cell_type": "code",
      "source": [
        "columns = ['Category', 'Stimulus', 'Frequency', 'Imaginability']\n",
        "nonwords = pd.DataFrame(columns=columns)\n",
        "nonwords['Category'] = category\n",
        "nonwords['Stimulus'] = stimuli\n",
        "nonwords['Frequency'] = freq\n",
        "nonwords['Imaginability'] = np.nan"
      ],
      "metadata": {
        "id": "QGVe-GMOXMFi"
      },
      "execution_count": null,
      "outputs": []
    },
    {
      "cell_type": "code",
      "source": [
        "all_stim = pd.concat([words, nonwords])"
      ],
      "metadata": {
        "id": "79WXJ8YbXNvi"
      },
      "execution_count": null,
      "outputs": []
    },
    {
      "cell_type": "markdown",
      "source": [
        "# iEEG dataset"
      ],
      "metadata": {
        "id": "HWwi_enRmivH"
      }
    },
    {
      "cell_type": "code",
      "source": [
        "data_ieeg = ieeg['Subject']\n",
        "print('Number of subjects in iEEG dataset is', data_ieeg.shape[1])"
      ],
      "metadata": {
        "colab": {
          "base_uri": "https://localhost:8080/"
        },
        "id": "dCpYgP4ZJxcy",
        "outputId": "3fbf7b04-47f6-4f23-83f8-e55355f88e1c"
      },
      "execution_count": 141,
      "outputs": [
        {
          "output_type": "stream",
          "name": "stdout",
          "text": [
            "Number of subjects in iEEG dataset is 19\n"
          ]
        }
      ]
    },
    {
      "cell_type": "code",
      "source": [
        "subjects_ieeg = [] # subject numbers\n",
        "for i in data_ieeg['Name'][0]:\n",
        "  subjects_ieeg.append(i[0])\n",
        "print(subjects_ieeg)"
      ],
      "metadata": {
        "id": "JjFdOE5WJyIR",
        "colab": {
          "base_uri": "https://localhost:8080/"
        },
        "outputId": "699768de-d05b-4fb4-c8b5-5c1f8798f32e"
      },
      "execution_count": 142,
      "outputs": [
        {
          "output_type": "stream",
          "name": "stdout",
          "text": [
            "['D27', 'D28', 'D30', 'D31', 'D32', 'D35', 'D37', 'D38', 'D39', 'D41', 'D42', 'D47', 'D53', 'D54', 'D55', 'D57', 'D63', 'D69', 'D71']\n"
          ]
        }
      ]
    },
    {
      "cell_type": "code",
      "source": [
        "columns = []\n",
        "for i in range(0, data_ieeg.shape[1]):\n",
        "  actual = data_ieeg[0][i]['trialInfo'][0][0].dtype.names\n",
        "  for name in actual:\n",
        "    if name not in columns:\n",
        "      columns.append(name)"
      ],
      "metadata": {
        "id": "czxi7jh-wS7V"
      },
      "execution_count": 143,
      "outputs": []
    },
    {
      "cell_type": "code",
      "source": [
        "def get_to_df(data):\n",
        "  df = pd.DataFrame(columns=columns)\n",
        "  df['Trial'] = np.nan\n",
        "  df['Subject'] = np.nan\n",
        "\n",
        "  for i in range(0, data.shape[1]):\n",
        "    # for each subject\n",
        "    subset = data[0][i]\n",
        "    subject = subset['Name'][0]\n",
        "    print(subset['Task'])\n",
        "    print(subject)\n",
        "    for trial in range(0, subset['trialInfo'].shape[1]):\n",
        "      # for each trial\n",
        "      sub = subset['trialInfo'][0][trial]\n",
        "      dtype = sub.dtype.names\n",
        "      values = []\n",
        "      for name in columns:\n",
        "        if name in dtype:\n",
        "          values.append(sub[name])\n",
        "        else:\n",
        "          values.append(np.nan)\n",
        "      values.append(str(trial)) # adding a trial number\n",
        "      values.append(subject)\n",
        "      df.loc[len(df.index)] = values\n",
        "  return df"
      ],
      "metadata": {
        "id": "WKEnfX2zmrDX"
      },
      "execution_count": 144,
      "outputs": []
    },
    {
      "cell_type": "code",
      "source": [
        "ieeg = get_to_df(data_ieeg)"
      ],
      "metadata": {
        "colab": {
          "base_uri": "https://localhost:8080/"
        },
        "id": "lgJnrW6Ru58L",
        "outputId": "5b266d64-61dc-47cf-a6b5-1998091ec8df"
      },
      "execution_count": 145,
      "outputs": [
        {
          "output_type": "stream",
          "name": "stdout",
          "text": [
            "['Environmental_Sternberg']\n",
            "D27\n",
            "['Environmental_Sternberg']\n",
            "D28\n",
            "['Environmental_Sternberg']\n",
            "D30\n",
            "['Environmental_Sternberg']\n",
            "D31\n",
            "['Environmental_Sternberg']\n",
            "D32\n",
            "['Environmental_Sternberg']\n",
            "D35\n",
            "['Environmental_Sternberg']\n",
            "D37\n",
            "['Environmental_Sternberg']\n",
            "D38\n",
            "['Environmental_Sternberg']\n",
            "D39\n",
            "['Environmental_Sternberg']\n",
            "D41\n",
            "['Environmental_Sternberg']\n",
            "D42\n",
            "['Environmental_Sternberg']\n",
            "D47\n",
            "['Environmental_Sternberg']\n",
            "D53\n",
            "['Environmental_Sternberg']\n",
            "D54\n",
            "['Environmental_Sternberg']\n",
            "D55\n",
            "['Environmental_Sternberg']\n",
            "D57\n",
            "['Environmental_Sternberg']\n",
            "D63\n",
            "['Environmental_Sternberg']\n",
            "D69\n",
            "[]\n",
            "D71\n"
          ]
        }
      ]
    },
    {
      "cell_type": "code",
      "source": [
        "# adding subjects D64\n",
        "df_64 = pd.DataFrame(columns=columns)\n",
        "df_64['Trial'] = np.nan\n",
        "df_64['Subject'] = np.nan\n",
        "for trial in range(0, subj64['trialInfo'].shape[1]):\n",
        "  # for each trial\n",
        "  values = []\n",
        "  subset = subj64['trialInfo'][0][trial]\n",
        "  dtype = subset.dtype.names\n",
        "  for name in columns:\n",
        "    if name in dtype:\n",
        "      values.append(subset[name])\n",
        "    else:\n",
        "      values.append(np.nan)\n",
        "  values.append(str(trial)) # adding a trial number\n",
        "  values.append('D64')\n",
        "  df_64.loc[len(df_64.index)] = values"
      ],
      "metadata": {
        "id": "yfyxCD_o5aSp"
      },
      "execution_count": 146,
      "outputs": []
    },
    {
      "cell_type": "code",
      "source": [
        "# adding subjects D65\n",
        "df_65 = pd.DataFrame(columns=columns)\n",
        "df_65['Trial'] = np.nan\n",
        "df_65['Subject'] = np.nan\n",
        "for trial in range(0, subj1['trialInfo'].shape[1]):\n",
        "  # for each trial\n",
        "  values = []\n",
        "  subset = subj1['trialInfo'][0][trial]\n",
        "  dtype = subset.dtype.names\n",
        "  for name in columns:\n",
        "    if name in dtype:\n",
        "      values.append(subset[name])\n",
        "    else:\n",
        "      values.append(np.nan)\n",
        "  values.append(str(trial)) # adding a trial number\n",
        "  values.append('D65')\n",
        "  df_65.loc[len(df_65.index)] = values\n",
        "  i = 96\n",
        "for trial in range(0, subj65['trialInfo'].shape[1]):\n",
        "  # for each trial\n",
        "  values = []\n",
        "  subset = subj65['trialInfo'][0][trial]\n",
        "  dtype = subset.dtype.names\n",
        "  for name in columns:\n",
        "    if name in dtype:\n",
        "      values.append(subset[name])\n",
        "    else:\n",
        "      values.append(np.nan)\n",
        "  values.append(str(i)) # adding a trial number\n",
        "  values.append('D65')\n",
        "  i += 1\n",
        "  df_65.loc[len(df_65.index)] = values"
      ],
      "metadata": {
        "id": "cUsYed4q7Y4k"
      },
      "execution_count": 147,
      "outputs": []
    },
    {
      "cell_type": "code",
      "source": [
        "ieeg = pd.concat([ieeg, df_64])\n",
        "ieeg = pd.concat([ieeg, df_65])"
      ],
      "metadata": {
        "id": "6Zhiczksm_Oa"
      },
      "execution_count": 148,
      "outputs": []
    },
    {
      "cell_type": "code",
      "source": [
        "# adding subject 73\n",
        "df_73 = pd.DataFrame(columns=columns)\n",
        "df_73['Trial'] = np.nan\n",
        "df_73['Subject'] = np.nan\n",
        "for trial in range(0, subj73['trialInfo'].shape[1]):\n",
        "  # for each trial\n",
        "  values = []\n",
        "  subset = subj73['trialInfo'][0][trial]\n",
        "  dtype = subset.dtype.names\n",
        "  for name in columns:\n",
        "    if name in dtype:\n",
        "      values.append(subset[name])\n",
        "    else:\n",
        "      values.append(np.nan)\n",
        "  values.append(str(trial)) # adding a trial number\n",
        "  values.append('D73')\n",
        "  df_73.loc[len(df_73.index)] = values"
      ],
      "metadata": {
        "id": "RFJAOBZ5Jijr"
      },
      "execution_count": 149,
      "outputs": []
    },
    {
      "cell_type": "code",
      "source": [
        "# adding subject 77\n",
        "df_77 = pd.DataFrame(columns=columns)\n",
        "df_77['Trial'] = np.nan\n",
        "df_77['Subject'] = np.nan\n",
        "for trial in range(0, subj77['trialInfo'].shape[1]):\n",
        "  # for each trial\n",
        "  values = []\n",
        "  subset = subj77['trialInfo'][0][trial]\n",
        "  dtype = subset.dtype.names\n",
        "  for name in columns:\n",
        "    if name in dtype:\n",
        "      values.append(subset[name])\n",
        "    else:\n",
        "      values.append(np.nan)\n",
        "  values.append(str(trial)) # adding a trial number\n",
        "  values.append('D77')\n",
        "  df_77.loc[len(df_77.index)] = values"
      ],
      "metadata": {
        "id": "A2K9bUd_Jkl1"
      },
      "execution_count": 150,
      "outputs": []
    },
    {
      "cell_type": "code",
      "source": [
        "ieeg = pd.concat([ieeg, df_73])\n",
        "ieeg = pd.concat([ieeg, df_77])"
      ],
      "metadata": {
        "id": "rJXPZt0wJ6yh"
      },
      "execution_count": 151,
      "outputs": []
    },
    {
      "cell_type": "code",
      "source": [
        "ieeg.groupby(['Subject'])['Trial'].count()"
      ],
      "metadata": {
        "colab": {
          "base_uri": "https://localhost:8080/"
        },
        "id": "bKrqsbG0m5Oo",
        "outputId": "d53d0f6f-3765-4ea3-e97a-248ea354a848"
      },
      "execution_count": 152,
      "outputs": [
        {
          "output_type": "execute_result",
          "data": {
            "text/plain": [
              "Subject\n",
              "D27    160\n",
              "D28    120\n",
              "D30    168\n",
              "D31    168\n",
              "D32    168\n",
              "D35    168\n",
              "D37    168\n",
              "D38    160\n",
              "D39    168\n",
              "D41    168\n",
              "D42    168\n",
              "D47    168\n",
              "D53    168\n",
              "D54    168\n",
              "D55    168\n",
              "D57    168\n",
              "D63    168\n",
              "D64    168\n",
              "D65    168\n",
              "D69    168\n",
              "D71    168\n",
              "D73    168\n",
              "D77    168\n",
              "Name: Trial, dtype: int64"
            ]
          },
          "metadata": {},
          "execution_count": 152
        }
      ]
    },
    {
      "cell_type": "code",
      "source": [
        "# saving ieeg dataset\n",
        "working_path = Path('/content/gdrive/MyDrive/CoganLab/Environmental')\n",
        "ieeg.to_csv(\n",
        "    Path(working_path).joinpath('ieeg_envir.csv')\n",
        ")"
      ],
      "metadata": {
        "id": "RFxIg5Mti16Q"
      },
      "execution_count": 153,
      "outputs": []
    },
    {
      "cell_type": "markdown",
      "source": [
        "# Preprocessing of iEEG dataset"
      ],
      "metadata": {
        "id": "SJe2YeU3i4vA"
      }
    },
    {
      "cell_type": "code",
      "source": [
        "ieeg = pd.read_csv(\n",
        "    working_path.joinpath('ieeg_envir.csv')\n",
        "    )"
      ],
      "metadata": {
        "id": "ta-Fpn3pi9II"
      },
      "execution_count": null,
      "outputs": []
    },
    {
      "cell_type": "code",
      "source": [
        "ieeg_alter = pd.read_csv(\n",
        "    working_path.joinpath('ieeg_envir_processed.csv')\n",
        "    )"
      ],
      "metadata": {
        "id": "-0se8zpzmoQ4"
      },
      "execution_count": null,
      "outputs": []
    },
    {
      "cell_type": "code",
      "source": [
        "ieeg_alter = ieeg_alter.drop('Unnamed: 0', axis=1)"
      ],
      "metadata": {
        "id": "LV4CxD1sm0Jf"
      },
      "execution_count": null,
      "outputs": []
    },
    {
      "cell_type": "code",
      "source": [
        "ieeg.Subject.unique()"
      ],
      "metadata": {
        "id": "ZcPS6oEomJDB",
        "outputId": "3b640cd5-4c11-47e7-8a46-0a745ce2db9e",
        "colab": {
          "base_uri": "https://localhost:8080/"
        }
      },
      "execution_count": 154,
      "outputs": [
        {
          "output_type": "execute_result",
          "data": {
            "text/plain": [
              "array(['D27', 'D28', 'D30', 'D31', 'D32', 'D35', 'D37', 'D38', 'D39',\n",
              "       'D41', 'D42', 'D47', 'D53', 'D54', 'D55', 'D57', 'D63', 'D69',\n",
              "       'D71', 'D64', 'D65', 'D73', 'D77'], dtype=object)"
            ]
          },
          "metadata": {},
          "execution_count": 154
        }
      ]
    },
    {
      "cell_type": "code",
      "source": [
        "ieeg_ = ieeg[['block', 'ProbeType', 'StimlusCategory',\n",
        "       'ReactionTime', 'Resp', 'RespCorrect', 'Omission',\n",
        "       'stimulusSounds_idx', 'stimulusSounds_name', 'ProbeCategory', 'probeSound_idx',\n",
        "       'probeSound_name', 'StimulusCategory', 'Trial',\n",
        "       'Subject']]"
      ],
      "metadata": {
        "id": "_EGtPfoqm_a_"
      },
      "execution_count": 155,
      "outputs": []
    },
    {
      "cell_type": "code",
      "source": [
        "# looks like D27 performed Neighbourhood here\n",
        "# let's exclude them\n",
        "ieeg_ = ieeg_[ieeg_['Subject'] != 'D27']"
      ],
      "metadata": {
        "id": "NI_nJMkbte9V"
      },
      "execution_count": 156,
      "outputs": []
    },
    {
      "cell_type": "code",
      "source": [
        "ieeg_ = ieeg_.drop(['Omission', 'ProbeType'], axis=1)"
      ],
      "metadata": {
        "id": "PuXihCvYt3mr"
      },
      "execution_count": 157,
      "outputs": []
    },
    {
      "cell_type": "code",
      "source": [
        "# working on the columns to make them more convinient to use\n",
        "block = ieeg_.block.values\n",
        "new_block = []\n",
        "for i in block:\n",
        "  while type(i) is np.ndarray:\n",
        "    i = i[0]\n",
        "  new_block.append(i)"
      ],
      "metadata": {
        "id": "gFOIOerGuao2"
      },
      "execution_count": 159,
      "outputs": []
    },
    {
      "cell_type": "code",
      "source": [
        "rt = ieeg_.ReactionTime.values\n",
        "new_rt = []\n",
        "for i in rt:\n",
        "  while type(i) is np.ndarray:\n",
        "    i = i[0]\n",
        "  new_rt.append(i)"
      ],
      "metadata": {
        "id": "VD7CpZ3AuraG"
      },
      "execution_count": 161,
      "outputs": []
    },
    {
      "cell_type": "code",
      "source": [
        "acc = ieeg_.RespCorrect.values\n",
        "new_acc = []\n",
        "for i in acc:\n",
        "  while type(i) is np.ndarray:\n",
        "    i = i[0]\n",
        "  new_acc.append(i)"
      ],
      "metadata": {
        "id": "1SklYD0lvaYe"
      },
      "execution_count": 163,
      "outputs": []
    },
    {
      "cell_type": "code",
      "source": [
        "resp = ieeg_.Resp.values\n",
        "new_resp = []\n",
        "for i in resp:\n",
        "  while type(i) is np.ndarray:\n",
        "    i = i[0]\n",
        "  new_resp.append(i)"
      ],
      "metadata": {
        "id": "4ryfJAVVvun9"
      },
      "execution_count": 165,
      "outputs": []
    },
    {
      "cell_type": "code",
      "source": [
        "probe = ieeg_.ProbeCategory.values\n",
        "new_probe = []\n",
        "for i in probe:\n",
        "  while type(i) is np.ndarray:\n",
        "    i = i[0]\n",
        "  new_probe.append(i)"
      ],
      "metadata": {
        "id": "zsWDIlAiv11t"
      },
      "execution_count": 167,
      "outputs": []
    },
    {
      "cell_type": "code",
      "source": [
        "probe_idx = ieeg_.probeSound_idx.values\n",
        "new_probe_idx = []\n",
        "for i in probe_idx:\n",
        "  while type(i) is np.ndarray:\n",
        "    i = i[0]\n",
        "  new_probe_idx.append(i)"
      ],
      "metadata": {
        "id": "408-8UxUwDNB"
      },
      "execution_count": 169,
      "outputs": []
    },
    {
      "cell_type": "code",
      "source": [
        "stim_idx = ieeg_.stimulusSounds_idx.values\n",
        "new_stim_idx = []\n",
        "for i in stim_idx:\n",
        "  new_i = i[0][0].tolist()\n",
        "  element = []\n",
        "  for j in new_i:\n",
        "    element.append(j[0])\n",
        "  new_stim_idx.append(element)"
      ],
      "metadata": {
        "id": "d-LuQ6iwwKBC"
      },
      "execution_count": 173,
      "outputs": []
    },
    {
      "cell_type": "code",
      "source": [
        "probe_name = ieeg_.probeSound_name.values\n",
        "new_probe_name = []\n",
        "for i in probe_name:\n",
        "  while type(i) is np.ndarray:\n",
        "    i = i[0]\n",
        "  new_probe_name.append(i)"
      ],
      "metadata": {
        "id": "jHYghYY6yC0f"
      },
      "execution_count": 185,
      "outputs": []
    },
    {
      "cell_type": "code",
      "source": [
        "stim_name = ieeg_.stimulusSounds_name.values\n",
        "new_stim_name = []\n",
        "for i in stim_name:\n",
        "  new_i = i[0][0].tolist()\n",
        "  element = []\n",
        "  for j in new_i:\n",
        "    element.append(j[0][0][0])\n",
        "  new_stim_name.append(element)"
      ],
      "metadata": {
        "id": "s-SNSqUhx64H"
      },
      "execution_count": 203,
      "outputs": []
    },
    {
      "cell_type": "code",
      "source": [
        "stim1[0]"
      ],
      "metadata": {
        "id": "LMfCD_522xTl",
        "outputId": "770fdc8e-f6ed-4beb-ea28-637fee93687a",
        "colab": {
          "base_uri": "https://localhost:8080/"
        }
      },
      "execution_count": 225,
      "outputs": [
        {
          "output_type": "execute_result",
          "data": {
            "text/plain": [
              "array([[array(['nonwords'], dtype='<U8')]], dtype=object)"
            ]
          },
          "metadata": {},
          "execution_count": 225
        }
      ]
    },
    {
      "cell_type": "code",
      "source": [
        "stim1 = ieeg_.StimlusCategory.values\n",
        "stim2 = ieeg_.StimulusCategory.values\n",
        "new_stim = []\n",
        "for i in range(0, ieeg_.shape[0]):\n",
        "  if type(stim1[i]) is np.ndarray:\n",
        "    while type(stim1[i]) is np.ndarray:\n",
        "      element = stim1[i][0]\n",
        "    new_stim.append(element)\n",
        "  elif type(stim2[i]) is np.ndarray:\n",
        "    while type(stim2[i]) is np.ndarray:\n",
        "      element = stim2[i][0]\n",
        "    new_stim.append(element)\n",
        "  else:\n",
        "    print(stim1[i], stim2[i])\n",
        "    break"
      ],
      "metadata": {
        "id": "rZljVc4AzSti",
        "outputId": "f31c81f0-ea17-4496-da3b-5faa2b5772f2",
        "colab": {
          "base_uri": "https://localhost:8080/",
          "height": 246
        }
      },
      "execution_count": 224,
      "outputs": [
        {
          "output_type": "error",
          "ename": "KeyboardInterrupt",
          "evalue": "ignored",
          "traceback": [
            "\u001b[0;31m---------------------------------------------------------------------------\u001b[0m",
            "\u001b[0;31mKeyboardInterrupt\u001b[0m                         Traceback (most recent call last)",
            "\u001b[0;32m<ipython-input-224-8fda0fe28994>\u001b[0m in \u001b[0;36m<cell line: 4>\u001b[0;34m()\u001b[0m\n\u001b[1;32m      4\u001b[0m \u001b[0;32mfor\u001b[0m \u001b[0mi\u001b[0m \u001b[0;32min\u001b[0m \u001b[0mrange\u001b[0m\u001b[0;34m(\u001b[0m\u001b[0;36m0\u001b[0m\u001b[0;34m,\u001b[0m \u001b[0mieeg_\u001b[0m\u001b[0;34m.\u001b[0m\u001b[0mshape\u001b[0m\u001b[0;34m[\u001b[0m\u001b[0;36m0\u001b[0m\u001b[0;34m]\u001b[0m\u001b[0;34m)\u001b[0m\u001b[0;34m:\u001b[0m\u001b[0;34m\u001b[0m\u001b[0;34m\u001b[0m\u001b[0m\n\u001b[1;32m      5\u001b[0m   \u001b[0;32mif\u001b[0m \u001b[0mtype\u001b[0m\u001b[0;34m(\u001b[0m\u001b[0mstim1\u001b[0m\u001b[0;34m[\u001b[0m\u001b[0mi\u001b[0m\u001b[0;34m]\u001b[0m\u001b[0;34m)\u001b[0m \u001b[0;32mis\u001b[0m \u001b[0mnp\u001b[0m\u001b[0;34m.\u001b[0m\u001b[0mndarray\u001b[0m\u001b[0;34m:\u001b[0m\u001b[0;34m\u001b[0m\u001b[0;34m\u001b[0m\u001b[0m\n\u001b[0;32m----> 6\u001b[0;31m     \u001b[0;32mwhile\u001b[0m \u001b[0mtype\u001b[0m\u001b[0;34m(\u001b[0m\u001b[0mstim1\u001b[0m\u001b[0;34m[\u001b[0m\u001b[0mi\u001b[0m\u001b[0;34m]\u001b[0m\u001b[0;34m)\u001b[0m \u001b[0;32mis\u001b[0m \u001b[0mnp\u001b[0m\u001b[0;34m.\u001b[0m\u001b[0mndarray\u001b[0m\u001b[0;34m:\u001b[0m\u001b[0;34m\u001b[0m\u001b[0;34m\u001b[0m\u001b[0m\n\u001b[0m\u001b[1;32m      7\u001b[0m       \u001b[0melement\u001b[0m \u001b[0;34m=\u001b[0m \u001b[0mstim1\u001b[0m\u001b[0;34m[\u001b[0m\u001b[0mi\u001b[0m\u001b[0;34m]\u001b[0m\u001b[0;34m[\u001b[0m\u001b[0;36m0\u001b[0m\u001b[0;34m]\u001b[0m\u001b[0;34m\u001b[0m\u001b[0;34m\u001b[0m\u001b[0m\n\u001b[1;32m      8\u001b[0m     \u001b[0mnew_stim\u001b[0m\u001b[0;34m.\u001b[0m\u001b[0mappend\u001b[0m\u001b[0;34m(\u001b[0m\u001b[0melement\u001b[0m\u001b[0;34m)\u001b[0m\u001b[0;34m\u001b[0m\u001b[0;34m\u001b[0m\u001b[0m\n",
            "\u001b[0;31mKeyboardInterrupt\u001b[0m: "
          ]
        }
      ]
    },
    {
      "cell_type": "code",
      "source": [
        "new_stim"
      ],
      "metadata": {
        "id": "cbdMurCp2cVh",
        "outputId": "05e6ae9a-43ec-44b4-eba3-0f82af2ac85d",
        "colab": {
          "base_uri": "https://localhost:8080/"
        }
      },
      "execution_count": 220,
      "outputs": [
        {
          "output_type": "execute_result",
          "data": {
            "text/plain": [
              "[]"
            ]
          },
          "metadata": {},
          "execution_count": 220
        }
      ]
    },
    {
      "cell_type": "code",
      "source": [
        "ieeg_[ieeg_['Subject'] == 'D32']"
      ],
      "metadata": {
        "id": "jwhMH1B5zvBj",
        "outputId": "84ed9401-ad91-4bce-e35d-44f622911209",
        "colab": {
          "base_uri": "https://localhost:8080/",
          "height": 467
        }
      },
      "execution_count": 219,
      "outputs": [
        {
          "output_type": "execute_result",
          "data": {
            "text/plain": [
              "         block StimlusCategory        ReactionTime       Resp RespCorrect  \\\n",
              "616  [[[[1]]]]             NaN  [[[[1.22790125]]]]   [[[No]]]   [[[[1]]]]   \n",
              "617  [[[[1]]]]             NaN  [[[[0.95329369]]]]  [[[Yes]]]   [[[[0]]]]   \n",
              "618  [[[[1]]]]             NaN  [[[[1.31482907]]]]   [[[No]]]   [[[[1]]]]   \n",
              "619  [[[[1]]]]             NaN  [[[[0.89415912]]]]  [[[Yes]]]   [[[[1]]]]   \n",
              "620  [[[[1]]]]             NaN  [[[[0.86633712]]]]   [[[No]]]   [[[[0]]]]   \n",
              "..         ...             ...                 ...        ...         ...   \n",
              "779  [[[[7]]]]             NaN  [[[[1.09748251]]]]  [[[Yes]]]   [[[[1]]]]   \n",
              "780  [[[[7]]]]             NaN  [[[[1.47197723]]]]   [[[No]]]   [[[[1]]]]   \n",
              "781  [[[[7]]]]             NaN  [[[[1.17343654]]]]  [[[Yes]]]   [[[[1]]]]   \n",
              "782  [[[[7]]]]             NaN  [[[[1.60527002]]]]  [[[Yes]]]   [[[[1]]]]   \n",
              "783  [[[[7]]]]             NaN  [[[[0.97727744]]]]  [[[Yes]]]   [[[[1]]]]   \n",
              "\n",
              "                                    stimulusSounds_idx  \\\n",
              "616                 [[[[68], [69], [64], [59], [54]]]]   \n",
              "617  [[[[10], [6], [4], [2], [16], [7], [22], [14],...   \n",
              "618                 [[[[46], [36], [42], [34], [29]]]]   \n",
              "619                 [[[[36], [33], [28], [27], [46]]]]   \n",
              "620                 [[[[71], [51], [55], [61], [59]]]]   \n",
              "..                                                 ...   \n",
              "779                     [[[[6], [13], [7], [4], [8]]]]   \n",
              "780  [[[[70], [56], [66], [69], [49], [67], [54], [...   \n",
              "781  [[[[32], [38], [45], [27], [39], [29], [47], [...   \n",
              "782                 [[[[50], [57], [66], [63], [51]]]]   \n",
              "783                 [[[[28], [43], [32], [25], [33]]]]   \n",
              "\n",
              "                                   stimulusSounds_name ProbeCategory  \\\n",
              "616  [[[[array(['thowster.wav'], dtype='<U12')], [a...     [[[[0]]]]   \n",
              "617  [[[[array(['duck_quack.wav'], dtype='<U14')], ...     [[[[0]]]]   \n",
              "618  [[[[array(['tunic.wav'], dtype='<U9')], [array...     [[[[0]]]]   \n",
              "619  [[[[array(['madam.wav'], dtype='<U9')], [array...     [[[[1]]]]   \n",
              "620  [[[[array(['yehbahl.wav'], dtype='<U11')], [ar...     [[[[1]]]]   \n",
              "..                                                 ...           ...   \n",
              "779  [[[[array(['crowd_cheering.wav'], dtype='<U18'...     [[[[1]]]]   \n",
              "780  [[[[array(['wiykaan.wav'], dtype='<U11')], [ar...     [[[[0]]]]   \n",
              "781  [[[[array(['drama.wav'], dtype='<U9')], [array...     [[[[1]]]]   \n",
              "782  [[[[array(['chuwpahl.wav'], dtype='<U12')], [a...     [[[[1]]]]   \n",
              "783  [[[[array(['cherub.wav'], dtype='<U10')], [arr...     [[[[1]]]]   \n",
              "\n",
              "    probeSound_idx        probeSound_name   StimulusCategory Trial Subject  \n",
              "616     [[[[23]]]]      [[[yehbahl.wav]]]     [[[nonwords]]]     0     D32  \n",
              "617      [[[[8]]]]  [[[dog_panting.wav]]]  [[[environment]]]     1     D32  \n",
              "618      [[[[2]]]]      [[[chalice.wav]]]        [[[words]]]     2     D32  \n",
              "619      [[[[3]]]]      [[[chapter.wav]]]        [[[words]]]     3     D32  \n",
              "620      [[[[7]]]]      [[[haasahp.wav]]]     [[[nonwords]]]     4     D32  \n",
              "..             ...                    ...                ...   ...     ...  \n",
              "779     [[[[13]]]]     [[[gargling.wav]]]  [[[environment]]]   163     D32  \n",
              "780      [[[[3]]]]      [[[drahjer.wav]]]     [[[nonwords]]]   164     D32  \n",
              "781     [[[[11]]]]      [[[kitchen.wav]]]        [[[words]]]   165     D32  \n",
              "782     [[[[18]]]]      [[[tehlper.wav]]]     [[[nonwords]]]   166     D32  \n",
              "783      [[[[4]]]]       [[[cherub.wav]]]        [[[words]]]   167     D32  \n",
              "\n",
              "[168 rows x 13 columns]"
            ],
            "text/html": [
              "\n",
              "  <div id=\"df-08180093-366d-445a-9508-4fe4b5d3746c\">\n",
              "    <div class=\"colab-df-container\">\n",
              "      <div>\n",
              "<style scoped>\n",
              "    .dataframe tbody tr th:only-of-type {\n",
              "        vertical-align: middle;\n",
              "    }\n",
              "\n",
              "    .dataframe tbody tr th {\n",
              "        vertical-align: top;\n",
              "    }\n",
              "\n",
              "    .dataframe thead th {\n",
              "        text-align: right;\n",
              "    }\n",
              "</style>\n",
              "<table border=\"1\" class=\"dataframe\">\n",
              "  <thead>\n",
              "    <tr style=\"text-align: right;\">\n",
              "      <th></th>\n",
              "      <th>block</th>\n",
              "      <th>StimlusCategory</th>\n",
              "      <th>ReactionTime</th>\n",
              "      <th>Resp</th>\n",
              "      <th>RespCorrect</th>\n",
              "      <th>stimulusSounds_idx</th>\n",
              "      <th>stimulusSounds_name</th>\n",
              "      <th>ProbeCategory</th>\n",
              "      <th>probeSound_idx</th>\n",
              "      <th>probeSound_name</th>\n",
              "      <th>StimulusCategory</th>\n",
              "      <th>Trial</th>\n",
              "      <th>Subject</th>\n",
              "    </tr>\n",
              "  </thead>\n",
              "  <tbody>\n",
              "    <tr>\n",
              "      <th>616</th>\n",
              "      <td>[[[[1]]]]</td>\n",
              "      <td>NaN</td>\n",
              "      <td>[[[[1.22790125]]]]</td>\n",
              "      <td>[[[No]]]</td>\n",
              "      <td>[[[[1]]]]</td>\n",
              "      <td>[[[[68], [69], [64], [59], [54]]]]</td>\n",
              "      <td>[[[[array(['thowster.wav'], dtype='&lt;U12')], [a...</td>\n",
              "      <td>[[[[0]]]]</td>\n",
              "      <td>[[[[23]]]]</td>\n",
              "      <td>[[[yehbahl.wav]]]</td>\n",
              "      <td>[[[nonwords]]]</td>\n",
              "      <td>0</td>\n",
              "      <td>D32</td>\n",
              "    </tr>\n",
              "    <tr>\n",
              "      <th>617</th>\n",
              "      <td>[[[[1]]]]</td>\n",
              "      <td>NaN</td>\n",
              "      <td>[[[[0.95329369]]]]</td>\n",
              "      <td>[[[Yes]]]</td>\n",
              "      <td>[[[[0]]]]</td>\n",
              "      <td>[[[[10], [6], [4], [2], [16], [7], [22], [14],...</td>\n",
              "      <td>[[[[array(['duck_quack.wav'], dtype='&lt;U14')], ...</td>\n",
              "      <td>[[[[0]]]]</td>\n",
              "      <td>[[[[8]]]]</td>\n",
              "      <td>[[[dog_panting.wav]]]</td>\n",
              "      <td>[[[environment]]]</td>\n",
              "      <td>1</td>\n",
              "      <td>D32</td>\n",
              "    </tr>\n",
              "    <tr>\n",
              "      <th>618</th>\n",
              "      <td>[[[[1]]]]</td>\n",
              "      <td>NaN</td>\n",
              "      <td>[[[[1.31482907]]]]</td>\n",
              "      <td>[[[No]]]</td>\n",
              "      <td>[[[[1]]]]</td>\n",
              "      <td>[[[[46], [36], [42], [34], [29]]]]</td>\n",
              "      <td>[[[[array(['tunic.wav'], dtype='&lt;U9')], [array...</td>\n",
              "      <td>[[[[0]]]]</td>\n",
              "      <td>[[[[2]]]]</td>\n",
              "      <td>[[[chalice.wav]]]</td>\n",
              "      <td>[[[words]]]</td>\n",
              "      <td>2</td>\n",
              "      <td>D32</td>\n",
              "    </tr>\n",
              "    <tr>\n",
              "      <th>619</th>\n",
              "      <td>[[[[1]]]]</td>\n",
              "      <td>NaN</td>\n",
              "      <td>[[[[0.89415912]]]]</td>\n",
              "      <td>[[[Yes]]]</td>\n",
              "      <td>[[[[1]]]]</td>\n",
              "      <td>[[[[36], [33], [28], [27], [46]]]]</td>\n",
              "      <td>[[[[array(['madam.wav'], dtype='&lt;U9')], [array...</td>\n",
              "      <td>[[[[1]]]]</td>\n",
              "      <td>[[[[3]]]]</td>\n",
              "      <td>[[[chapter.wav]]]</td>\n",
              "      <td>[[[words]]]</td>\n",
              "      <td>3</td>\n",
              "      <td>D32</td>\n",
              "    </tr>\n",
              "    <tr>\n",
              "      <th>620</th>\n",
              "      <td>[[[[1]]]]</td>\n",
              "      <td>NaN</td>\n",
              "      <td>[[[[0.86633712]]]]</td>\n",
              "      <td>[[[No]]]</td>\n",
              "      <td>[[[[0]]]]</td>\n",
              "      <td>[[[[71], [51], [55], [61], [59]]]]</td>\n",
              "      <td>[[[[array(['yehbahl.wav'], dtype='&lt;U11')], [ar...</td>\n",
              "      <td>[[[[1]]]]</td>\n",
              "      <td>[[[[7]]]]</td>\n",
              "      <td>[[[haasahp.wav]]]</td>\n",
              "      <td>[[[nonwords]]]</td>\n",
              "      <td>4</td>\n",
              "      <td>D32</td>\n",
              "    </tr>\n",
              "    <tr>\n",
              "      <th>...</th>\n",
              "      <td>...</td>\n",
              "      <td>...</td>\n",
              "      <td>...</td>\n",
              "      <td>...</td>\n",
              "      <td>...</td>\n",
              "      <td>...</td>\n",
              "      <td>...</td>\n",
              "      <td>...</td>\n",
              "      <td>...</td>\n",
              "      <td>...</td>\n",
              "      <td>...</td>\n",
              "      <td>...</td>\n",
              "      <td>...</td>\n",
              "    </tr>\n",
              "    <tr>\n",
              "      <th>779</th>\n",
              "      <td>[[[[7]]]]</td>\n",
              "      <td>NaN</td>\n",
              "      <td>[[[[1.09748251]]]]</td>\n",
              "      <td>[[[Yes]]]</td>\n",
              "      <td>[[[[1]]]]</td>\n",
              "      <td>[[[[6], [13], [7], [4], [8]]]]</td>\n",
              "      <td>[[[[array(['crowd_cheering.wav'], dtype='&lt;U18'...</td>\n",
              "      <td>[[[[1]]]]</td>\n",
              "      <td>[[[[13]]]]</td>\n",
              "      <td>[[[gargling.wav]]]</td>\n",
              "      <td>[[[environment]]]</td>\n",
              "      <td>163</td>\n",
              "      <td>D32</td>\n",
              "    </tr>\n",
              "    <tr>\n",
              "      <th>780</th>\n",
              "      <td>[[[[7]]]]</td>\n",
              "      <td>NaN</td>\n",
              "      <td>[[[[1.47197723]]]]</td>\n",
              "      <td>[[[No]]]</td>\n",
              "      <td>[[[[1]]]]</td>\n",
              "      <td>[[[[70], [56], [66], [69], [49], [67], [54], [...</td>\n",
              "      <td>[[[[array(['wiykaan.wav'], dtype='&lt;U11')], [ar...</td>\n",
              "      <td>[[[[0]]]]</td>\n",
              "      <td>[[[[3]]]]</td>\n",
              "      <td>[[[drahjer.wav]]]</td>\n",
              "      <td>[[[nonwords]]]</td>\n",
              "      <td>164</td>\n",
              "      <td>D32</td>\n",
              "    </tr>\n",
              "    <tr>\n",
              "      <th>781</th>\n",
              "      <td>[[[[7]]]]</td>\n",
              "      <td>NaN</td>\n",
              "      <td>[[[[1.17343654]]]]</td>\n",
              "      <td>[[[Yes]]]</td>\n",
              "      <td>[[[[1]]]]</td>\n",
              "      <td>[[[[32], [38], [45], [27], [39], [29], [47], [...</td>\n",
              "      <td>[[[[array(['drama.wav'], dtype='&lt;U9')], [array...</td>\n",
              "      <td>[[[[1]]]]</td>\n",
              "      <td>[[[[11]]]]</td>\n",
              "      <td>[[[kitchen.wav]]]</td>\n",
              "      <td>[[[words]]]</td>\n",
              "      <td>165</td>\n",
              "      <td>D32</td>\n",
              "    </tr>\n",
              "    <tr>\n",
              "      <th>782</th>\n",
              "      <td>[[[[7]]]]</td>\n",
              "      <td>NaN</td>\n",
              "      <td>[[[[1.60527002]]]]</td>\n",
              "      <td>[[[Yes]]]</td>\n",
              "      <td>[[[[1]]]]</td>\n",
              "      <td>[[[[50], [57], [66], [63], [51]]]]</td>\n",
              "      <td>[[[[array(['chuwpahl.wav'], dtype='&lt;U12')], [a...</td>\n",
              "      <td>[[[[1]]]]</td>\n",
              "      <td>[[[[18]]]]</td>\n",
              "      <td>[[[tehlper.wav]]]</td>\n",
              "      <td>[[[nonwords]]]</td>\n",
              "      <td>166</td>\n",
              "      <td>D32</td>\n",
              "    </tr>\n",
              "    <tr>\n",
              "      <th>783</th>\n",
              "      <td>[[[[7]]]]</td>\n",
              "      <td>NaN</td>\n",
              "      <td>[[[[0.97727744]]]]</td>\n",
              "      <td>[[[Yes]]]</td>\n",
              "      <td>[[[[1]]]]</td>\n",
              "      <td>[[[[28], [43], [32], [25], [33]]]]</td>\n",
              "      <td>[[[[array(['cherub.wav'], dtype='&lt;U10')], [arr...</td>\n",
              "      <td>[[[[1]]]]</td>\n",
              "      <td>[[[[4]]]]</td>\n",
              "      <td>[[[cherub.wav]]]</td>\n",
              "      <td>[[[words]]]</td>\n",
              "      <td>167</td>\n",
              "      <td>D32</td>\n",
              "    </tr>\n",
              "  </tbody>\n",
              "</table>\n",
              "<p>168 rows × 13 columns</p>\n",
              "</div>\n",
              "      <button class=\"colab-df-convert\" onclick=\"convertToInteractive('df-08180093-366d-445a-9508-4fe4b5d3746c')\"\n",
              "              title=\"Convert this dataframe to an interactive table.\"\n",
              "              style=\"display:none;\">\n",
              "        \n",
              "  <svg xmlns=\"http://www.w3.org/2000/svg\" height=\"24px\"viewBox=\"0 0 24 24\"\n",
              "       width=\"24px\">\n",
              "    <path d=\"M0 0h24v24H0V0z\" fill=\"none\"/>\n",
              "    <path d=\"M18.56 5.44l.94 2.06.94-2.06 2.06-.94-2.06-.94-.94-2.06-.94 2.06-2.06.94zm-11 1L8.5 8.5l.94-2.06 2.06-.94-2.06-.94L8.5 2.5l-.94 2.06-2.06.94zm10 10l.94 2.06.94-2.06 2.06-.94-2.06-.94-.94-2.06-.94 2.06-2.06.94z\"/><path d=\"M17.41 7.96l-1.37-1.37c-.4-.4-.92-.59-1.43-.59-.52 0-1.04.2-1.43.59L10.3 9.45l-7.72 7.72c-.78.78-.78 2.05 0 2.83L4 21.41c.39.39.9.59 1.41.59.51 0 1.02-.2 1.41-.59l7.78-7.78 2.81-2.81c.8-.78.8-2.07 0-2.86zM5.41 20L4 18.59l7.72-7.72 1.47 1.35L5.41 20z\"/>\n",
              "  </svg>\n",
              "      </button>\n",
              "      \n",
              "  <style>\n",
              "    .colab-df-container {\n",
              "      display:flex;\n",
              "      flex-wrap:wrap;\n",
              "      gap: 12px;\n",
              "    }\n",
              "\n",
              "    .colab-df-convert {\n",
              "      background-color: #E8F0FE;\n",
              "      border: none;\n",
              "      border-radius: 50%;\n",
              "      cursor: pointer;\n",
              "      display: none;\n",
              "      fill: #1967D2;\n",
              "      height: 32px;\n",
              "      padding: 0 0 0 0;\n",
              "      width: 32px;\n",
              "    }\n",
              "\n",
              "    .colab-df-convert:hover {\n",
              "      background-color: #E2EBFA;\n",
              "      box-shadow: 0px 1px 2px rgba(60, 64, 67, 0.3), 0px 1px 3px 1px rgba(60, 64, 67, 0.15);\n",
              "      fill: #174EA6;\n",
              "    }\n",
              "\n",
              "    [theme=dark] .colab-df-convert {\n",
              "      background-color: #3B4455;\n",
              "      fill: #D2E3FC;\n",
              "    }\n",
              "\n",
              "    [theme=dark] .colab-df-convert:hover {\n",
              "      background-color: #434B5C;\n",
              "      box-shadow: 0px 1px 3px 1px rgba(0, 0, 0, 0.15);\n",
              "      filter: drop-shadow(0px 1px 2px rgba(0, 0, 0, 0.3));\n",
              "      fill: #FFFFFF;\n",
              "    }\n",
              "  </style>\n",
              "\n",
              "      <script>\n",
              "        const buttonEl =\n",
              "          document.querySelector('#df-08180093-366d-445a-9508-4fe4b5d3746c button.colab-df-convert');\n",
              "        buttonEl.style.display =\n",
              "          google.colab.kernel.accessAllowed ? 'block' : 'none';\n",
              "\n",
              "        async function convertToInteractive(key) {\n",
              "          const element = document.querySelector('#df-08180093-366d-445a-9508-4fe4b5d3746c');\n",
              "          const dataTable =\n",
              "            await google.colab.kernel.invokeFunction('convertToInteractive',\n",
              "                                                     [key], {});\n",
              "          if (!dataTable) return;\n",
              "\n",
              "          const docLinkHtml = 'Like what you see? Visit the ' +\n",
              "            '<a target=\"_blank\" href=https://colab.research.google.com/notebooks/data_table.ipynb>data table notebook</a>'\n",
              "            + ' to learn more about interactive tables.';\n",
              "          element.innerHTML = '';\n",
              "          dataTable['output_type'] = 'display_data';\n",
              "          await google.colab.output.renderOutput(dataTable, element);\n",
              "          const docLink = document.createElement('div');\n",
              "          docLink.innerHTML = docLinkHtml;\n",
              "          element.appendChild(docLink);\n",
              "        }\n",
              "      </script>\n",
              "    </div>\n",
              "  </div>\n",
              "  "
            ]
          },
          "metadata": {},
          "execution_count": 219
        }
      ]
    },
    {
      "cell_type": "code",
      "source": [
        "ieeg_['block'] =\n"
      ],
      "metadata": {
        "id": "9q_ZIgM0zQd6"
      },
      "execution_count": null,
      "outputs": []
    },
    {
      "cell_type": "code",
      "source": [
        "ieeg_alter.head()"
      ],
      "metadata": {
        "id": "AShU22MbzbYR"
      },
      "execution_count": null,
      "outputs": []
    },
    {
      "cell_type": "code",
      "source": [
        "ieeg_.head()"
      ],
      "metadata": {
        "id": "klCVQdOPrZvX",
        "outputId": "bd0076bb-1a56-467b-cc20-20df35ff73c0",
        "colab": {
          "base_uri": "https://localhost:8080/",
          "height": 337
        }
      },
      "execution_count": 205,
      "outputs": [
        {
          "output_type": "execute_result",
          "data": {
            "text/plain": [
              "         block    StimlusCategory        ReactionTime       Resp RespCorrect  \\\n",
              "160  [[[[1]]]]     [[[nonwords]]]  [[[[0.99043604]]]]   [[[No]]]   [[[[1]]]]   \n",
              "161  [[[[1]]]]        [[[words]]]  [[[[1.30217997]]]]  [[[Yes]]]   [[[[1]]]]   \n",
              "162  [[[[1]]]]  [[[environment]]]  [[[[1.43263021]]]]  [[[Yes]]]   [[[[1]]]]   \n",
              "163  [[[[1]]]]  [[[environment]]]  [[[[1.16073421]]]]  [[[Yes]]]   [[[[1]]]]   \n",
              "164  [[[[1]]]]  [[[environment]]]  [[[[0.84571169]]]]  [[[Yes]]]   [[[[1]]]]   \n",
              "\n",
              "                                    stimulusSounds_idx  \\\n",
              "160                               [[[[3], [7], [15]]]]   \n",
              "161        [[[[16], [7], [14], [13], [9], [11], [6]]]]   \n",
              "162  [[[[17], [15], [13], [5], [9], [10], [7], [6],...   \n",
              "163                              [[[[17], [1], [13]]]]   \n",
              "164        [[[[16], [7], [10], [15], [12], [3], [2]]]]   \n",
              "\n",
              "                                   stimulusSounds_name ProbeCategory  \\\n",
              "160  [[[[(array(['camera_snapping_photos.wav'], dty...     [[[[0]]]]   \n",
              "161  [[[[(array(['typing.wav'], dtype='<U10'), arra...     [[[[1]]]]   \n",
              "162  [[[[(array(['writing_on_paper.wav'], dtype='<U...     [[[[1]]]]   \n",
              "163  [[[[(array(['writing_on_paper.wav'], dtype='<U...     [[[[1]]]]   \n",
              "164  [[[[(array(['typing.wav'], dtype='<U10'), arra...     [[[[1]]]]   \n",
              "\n",
              "    probeSound_idx                   probeSound_name StimulusCategory Trial  \\\n",
              "160     [[[[14]]]]       [[[telephone_dialing.wav]]]              NaN     0   \n",
              "161     [[[[11]]]]              [[[hair_dryer.wav]]]              NaN     1   \n",
              "162      [[[[7]]]]   [[[cutting_with_scissors.wav]]]              NaN     2   \n",
              "163     [[[[13]]]]                  [[[stream.wav]]]              NaN     3   \n",
              "164      [[[[3]]]]  [[[camera_snapping_photos.wav]]]              NaN     4   \n",
              "\n",
              "    Subject  \n",
              "160     D28  \n",
              "161     D28  \n",
              "162     D28  \n",
              "163     D28  \n",
              "164     D28  "
            ],
            "text/html": [
              "\n",
              "  <div id=\"df-eef63d10-74c8-4583-a4fc-a7b0683ccc4d\">\n",
              "    <div class=\"colab-df-container\">\n",
              "      <div>\n",
              "<style scoped>\n",
              "    .dataframe tbody tr th:only-of-type {\n",
              "        vertical-align: middle;\n",
              "    }\n",
              "\n",
              "    .dataframe tbody tr th {\n",
              "        vertical-align: top;\n",
              "    }\n",
              "\n",
              "    .dataframe thead th {\n",
              "        text-align: right;\n",
              "    }\n",
              "</style>\n",
              "<table border=\"1\" class=\"dataframe\">\n",
              "  <thead>\n",
              "    <tr style=\"text-align: right;\">\n",
              "      <th></th>\n",
              "      <th>block</th>\n",
              "      <th>StimlusCategory</th>\n",
              "      <th>ReactionTime</th>\n",
              "      <th>Resp</th>\n",
              "      <th>RespCorrect</th>\n",
              "      <th>stimulusSounds_idx</th>\n",
              "      <th>stimulusSounds_name</th>\n",
              "      <th>ProbeCategory</th>\n",
              "      <th>probeSound_idx</th>\n",
              "      <th>probeSound_name</th>\n",
              "      <th>StimulusCategory</th>\n",
              "      <th>Trial</th>\n",
              "      <th>Subject</th>\n",
              "    </tr>\n",
              "  </thead>\n",
              "  <tbody>\n",
              "    <tr>\n",
              "      <th>160</th>\n",
              "      <td>[[[[1]]]]</td>\n",
              "      <td>[[[nonwords]]]</td>\n",
              "      <td>[[[[0.99043604]]]]</td>\n",
              "      <td>[[[No]]]</td>\n",
              "      <td>[[[[1]]]]</td>\n",
              "      <td>[[[[3], [7], [15]]]]</td>\n",
              "      <td>[[[[(array(['camera_snapping_photos.wav'], dty...</td>\n",
              "      <td>[[[[0]]]]</td>\n",
              "      <td>[[[[14]]]]</td>\n",
              "      <td>[[[telephone_dialing.wav]]]</td>\n",
              "      <td>NaN</td>\n",
              "      <td>0</td>\n",
              "      <td>D28</td>\n",
              "    </tr>\n",
              "    <tr>\n",
              "      <th>161</th>\n",
              "      <td>[[[[1]]]]</td>\n",
              "      <td>[[[words]]]</td>\n",
              "      <td>[[[[1.30217997]]]]</td>\n",
              "      <td>[[[Yes]]]</td>\n",
              "      <td>[[[[1]]]]</td>\n",
              "      <td>[[[[16], [7], [14], [13], [9], [11], [6]]]]</td>\n",
              "      <td>[[[[(array(['typing.wav'], dtype='&lt;U10'), arra...</td>\n",
              "      <td>[[[[1]]]]</td>\n",
              "      <td>[[[[11]]]]</td>\n",
              "      <td>[[[hair_dryer.wav]]]</td>\n",
              "      <td>NaN</td>\n",
              "      <td>1</td>\n",
              "      <td>D28</td>\n",
              "    </tr>\n",
              "    <tr>\n",
              "      <th>162</th>\n",
              "      <td>[[[[1]]]]</td>\n",
              "      <td>[[[environment]]]</td>\n",
              "      <td>[[[[1.43263021]]]]</td>\n",
              "      <td>[[[Yes]]]</td>\n",
              "      <td>[[[[1]]]]</td>\n",
              "      <td>[[[[17], [15], [13], [5], [9], [10], [7], [6],...</td>\n",
              "      <td>[[[[(array(['writing_on_paper.wav'], dtype='&lt;U...</td>\n",
              "      <td>[[[[1]]]]</td>\n",
              "      <td>[[[[7]]]]</td>\n",
              "      <td>[[[cutting_with_scissors.wav]]]</td>\n",
              "      <td>NaN</td>\n",
              "      <td>2</td>\n",
              "      <td>D28</td>\n",
              "    </tr>\n",
              "    <tr>\n",
              "      <th>163</th>\n",
              "      <td>[[[[1]]]]</td>\n",
              "      <td>[[[environment]]]</td>\n",
              "      <td>[[[[1.16073421]]]]</td>\n",
              "      <td>[[[Yes]]]</td>\n",
              "      <td>[[[[1]]]]</td>\n",
              "      <td>[[[[17], [1], [13]]]]</td>\n",
              "      <td>[[[[(array(['writing_on_paper.wav'], dtype='&lt;U...</td>\n",
              "      <td>[[[[1]]]]</td>\n",
              "      <td>[[[[13]]]]</td>\n",
              "      <td>[[[stream.wav]]]</td>\n",
              "      <td>NaN</td>\n",
              "      <td>3</td>\n",
              "      <td>D28</td>\n",
              "    </tr>\n",
              "    <tr>\n",
              "      <th>164</th>\n",
              "      <td>[[[[1]]]]</td>\n",
              "      <td>[[[environment]]]</td>\n",
              "      <td>[[[[0.84571169]]]]</td>\n",
              "      <td>[[[Yes]]]</td>\n",
              "      <td>[[[[1]]]]</td>\n",
              "      <td>[[[[16], [7], [10], [15], [12], [3], [2]]]]</td>\n",
              "      <td>[[[[(array(['typing.wav'], dtype='&lt;U10'), arra...</td>\n",
              "      <td>[[[[1]]]]</td>\n",
              "      <td>[[[[3]]]]</td>\n",
              "      <td>[[[camera_snapping_photos.wav]]]</td>\n",
              "      <td>NaN</td>\n",
              "      <td>4</td>\n",
              "      <td>D28</td>\n",
              "    </tr>\n",
              "  </tbody>\n",
              "</table>\n",
              "</div>\n",
              "      <button class=\"colab-df-convert\" onclick=\"convertToInteractive('df-eef63d10-74c8-4583-a4fc-a7b0683ccc4d')\"\n",
              "              title=\"Convert this dataframe to an interactive table.\"\n",
              "              style=\"display:none;\">\n",
              "        \n",
              "  <svg xmlns=\"http://www.w3.org/2000/svg\" height=\"24px\"viewBox=\"0 0 24 24\"\n",
              "       width=\"24px\">\n",
              "    <path d=\"M0 0h24v24H0V0z\" fill=\"none\"/>\n",
              "    <path d=\"M18.56 5.44l.94 2.06.94-2.06 2.06-.94-2.06-.94-.94-2.06-.94 2.06-2.06.94zm-11 1L8.5 8.5l.94-2.06 2.06-.94-2.06-.94L8.5 2.5l-.94 2.06-2.06.94zm10 10l.94 2.06.94-2.06 2.06-.94-2.06-.94-.94-2.06-.94 2.06-2.06.94z\"/><path d=\"M17.41 7.96l-1.37-1.37c-.4-.4-.92-.59-1.43-.59-.52 0-1.04.2-1.43.59L10.3 9.45l-7.72 7.72c-.78.78-.78 2.05 0 2.83L4 21.41c.39.39.9.59 1.41.59.51 0 1.02-.2 1.41-.59l7.78-7.78 2.81-2.81c.8-.78.8-2.07 0-2.86zM5.41 20L4 18.59l7.72-7.72 1.47 1.35L5.41 20z\"/>\n",
              "  </svg>\n",
              "      </button>\n",
              "      \n",
              "  <style>\n",
              "    .colab-df-container {\n",
              "      display:flex;\n",
              "      flex-wrap:wrap;\n",
              "      gap: 12px;\n",
              "    }\n",
              "\n",
              "    .colab-df-convert {\n",
              "      background-color: #E8F0FE;\n",
              "      border: none;\n",
              "      border-radius: 50%;\n",
              "      cursor: pointer;\n",
              "      display: none;\n",
              "      fill: #1967D2;\n",
              "      height: 32px;\n",
              "      padding: 0 0 0 0;\n",
              "      width: 32px;\n",
              "    }\n",
              "\n",
              "    .colab-df-convert:hover {\n",
              "      background-color: #E2EBFA;\n",
              "      box-shadow: 0px 1px 2px rgba(60, 64, 67, 0.3), 0px 1px 3px 1px rgba(60, 64, 67, 0.15);\n",
              "      fill: #174EA6;\n",
              "    }\n",
              "\n",
              "    [theme=dark] .colab-df-convert {\n",
              "      background-color: #3B4455;\n",
              "      fill: #D2E3FC;\n",
              "    }\n",
              "\n",
              "    [theme=dark] .colab-df-convert:hover {\n",
              "      background-color: #434B5C;\n",
              "      box-shadow: 0px 1px 3px 1px rgba(0, 0, 0, 0.15);\n",
              "      filter: drop-shadow(0px 1px 2px rgba(0, 0, 0, 0.3));\n",
              "      fill: #FFFFFF;\n",
              "    }\n",
              "  </style>\n",
              "\n",
              "      <script>\n",
              "        const buttonEl =\n",
              "          document.querySelector('#df-eef63d10-74c8-4583-a4fc-a7b0683ccc4d button.colab-df-convert');\n",
              "        buttonEl.style.display =\n",
              "          google.colab.kernel.accessAllowed ? 'block' : 'none';\n",
              "\n",
              "        async function convertToInteractive(key) {\n",
              "          const element = document.querySelector('#df-eef63d10-74c8-4583-a4fc-a7b0683ccc4d');\n",
              "          const dataTable =\n",
              "            await google.colab.kernel.invokeFunction('convertToInteractive',\n",
              "                                                     [key], {});\n",
              "          if (!dataTable) return;\n",
              "\n",
              "          const docLinkHtml = 'Like what you see? Visit the ' +\n",
              "            '<a target=\"_blank\" href=https://colab.research.google.com/notebooks/data_table.ipynb>data table notebook</a>'\n",
              "            + ' to learn more about interactive tables.';\n",
              "          element.innerHTML = '';\n",
              "          dataTable['output_type'] = 'display_data';\n",
              "          await google.colab.output.renderOutput(dataTable, element);\n",
              "          const docLink = document.createElement('div');\n",
              "          docLink.innerHTML = docLinkHtml;\n",
              "          element.appendChild(docLink);\n",
              "        }\n",
              "      </script>\n",
              "    </div>\n",
              "  </div>\n",
              "  "
            ]
          },
          "metadata": {},
          "execution_count": 205
        }
      ]
    },
    {
      "cell_type": "code",
      "source": [
        "ieeg_.StimulusCategory.values[180:210]"
      ],
      "metadata": {
        "id": "FisRITsnu_t7",
        "outputId": "3db10e94-7987-466c-a3db-090526e84c5b",
        "colab": {
          "base_uri": "https://localhost:8080/"
        }
      },
      "execution_count": null,
      "outputs": [
        {
          "output_type": "execute_result",
          "data": {
            "text/plain": [
              "array([nan, nan, nan, nan, nan, nan, nan, nan, nan, nan, nan, nan, nan,\n",
              "       nan, nan, nan, nan, nan, nan, nan, nan, nan, nan, nan, nan, nan,\n",
              "       nan, nan, nan, nan], dtype=object)"
            ]
          },
          "metadata": {},
          "execution_count": 116
        }
      ]
    },
    {
      "cell_type": "code",
      "source": [],
      "metadata": {
        "id": "jutG_uG2uyGW"
      },
      "execution_count": null,
      "outputs": []
    },
    {
      "cell_type": "markdown",
      "source": [
        "# EEG dataset"
      ],
      "metadata": {
        "id": "df3nNGE2gsJ5"
      }
    },
    {
      "cell_type": "code",
      "source": [
        "subjects = []\n",
        "for i in files:\n",
        "  subjects.append(i[:3])"
      ],
      "metadata": {
        "id": "d8218jDljnpn"
      },
      "execution_count": null,
      "outputs": []
    },
    {
      "cell_type": "code",
      "source": [
        "columns = []\n",
        "for subject in eeg:\n",
        "  # for each subject\n",
        "  actual = subject['trialInfo'][0][0].dtype.names\n",
        "  for name in actual:\n",
        "    if name not in columns:\n",
        "      columns.append(name)"
      ],
      "metadata": {
        "id": "v1WkEI1thpyC"
      },
      "execution_count": null,
      "outputs": []
    },
    {
      "cell_type": "code",
      "source": [
        "df_ = pd.DataFrame(columns=columns)\n",
        "df_['Trial'] = np.nan\n",
        "df_['Subject'] = np.nan\n",
        "for subject in eeg:\n",
        "  for trial in range(0, subject['trialInfo'].shape[1]):\n",
        "    # for each trial\n",
        "    values = []\n",
        "    subset = subject['trialInfo'][0][trial]\n",
        "    dtype = subset.dtype.names\n",
        "    for name in columns:\n",
        "      if name in dtype:\n",
        "        values.append(subset[name])\n",
        "      else:\n",
        "        print('check')\n",
        "        values.append(np.nan)\n",
        "    values.append(str(trial))\n",
        "    values.append(subjects[eeg.index(subject)])\n",
        "    df_.loc[len(df_.index)] = values"
      ],
      "metadata": {
        "id": "MKfDSgYNhfmc"
      },
      "execution_count": null,
      "outputs": []
    },
    {
      "cell_type": "code",
      "source": [
        "eeg = df_.copy()"
      ],
      "metadata": {
        "id": "rHNN0svMif0U"
      },
      "execution_count": null,
      "outputs": []
    },
    {
      "cell_type": "code",
      "source": [
        "eeg.groupby(['Subject'])['Trial'].count()"
      ],
      "metadata": {
        "colab": {
          "base_uri": "https://localhost:8080/"
        },
        "id": "USSdTDoskujK",
        "outputId": "0ab67b3b-25a8-47c5-d6b2-e670e09646ca"
      },
      "execution_count": null,
      "outputs": [
        {
          "output_type": "execute_result",
          "data": {
            "text/plain": [
              "Subject\n",
              "E32    216\n",
              "E34    216\n",
              "E35    216\n",
              "E36    216\n",
              "E37    216\n",
              "E38    216\n",
              "E39    216\n",
              "E40    184\n",
              "E41    216\n",
              "E42    216\n",
              "E43    216\n",
              "E44    216\n",
              "E45    216\n",
              "E46    216\n",
              "Name: Trial, dtype: int64"
            ]
          },
          "metadata": {},
          "execution_count": 44
        }
      ]
    },
    {
      "cell_type": "code",
      "source": [
        "# saving eeg file \n",
        "eeg.to_csv(\n",
        "    Path(working_path).joinpath('eeg_envir.csv')\n",
        ")"
      ],
      "metadata": {
        "id": "PlyCOaq7jQFg"
      },
      "execution_count": null,
      "outputs": []
    },
    {
      "cell_type": "markdown",
      "source": [
        "#Preprocessing of EEG dataset"
      ],
      "metadata": {
        "id": "xWJEpfDOWBX-"
      }
    },
    {
      "cell_type": "code",
      "source": [
        "eeg = pd.read_csv(\n",
        "    working_path.joinpath('eeg_envir.csv')\n",
        "    )"
      ],
      "metadata": {
        "id": "ASN5PhIbjoGY"
      },
      "execution_count": null,
      "outputs": []
    },
    {
      "cell_type": "code",
      "source": [
        "eeg.Subject.unique()"
      ],
      "metadata": {
        "id": "U39iGHv8WEAH",
        "outputId": "b9c054de-b486-49f5-b3f1-a2bf76051826",
        "colab": {
          "base_uri": "https://localhost:8080/"
        }
      },
      "execution_count": null,
      "outputs": [
        {
          "output_type": "execute_result",
          "data": {
            "text/plain": [
              "array(['E32', 'E34', 'E35', 'E36', 'E37', 'E38', 'E39', 'E40', 'E41',\n",
              "       'E42', 'E43', 'E44', 'E45', 'E46'], dtype=object)"
            ]
          },
          "metadata": {},
          "execution_count": 46
        }
      ]
    },
    {
      "cell_type": "code",
      "source": [
        "len(eeg.Subject.unique())"
      ],
      "metadata": {
        "id": "ExbUkq_-WNf9",
        "outputId": "f2e5b61e-8d80-46aa-d4cb-155b21ca9a42",
        "colab": {
          "base_uri": "https://localhost:8080/"
        }
      },
      "execution_count": null,
      "outputs": [
        {
          "output_type": "execute_result",
          "data": {
            "text/plain": [
              "14"
            ]
          },
          "metadata": {},
          "execution_count": 48
        }
      ]
    },
    {
      "cell_type": "code",
      "source": [
        "eeg_ = eeg[[\n",
        "    'block', 'StimulusCategory', 'ReactionTime',\n",
        "       'Resp', 'RespCorrect', 'stimulusSounds_idx',\n",
        "       'ProbeCategory', 'probeSound_idx',\n",
        "       'Trial', 'Subject', 'stimulusSounds_name', 'probeSound_name'\n",
        "]]"
      ],
      "metadata": {
        "id": "lWt9sfQIWKF1"
      },
      "execution_count": null,
      "outputs": []
    },
    {
      "cell_type": "markdown",
      "source": [
        "Getting rid of additional lists containing lists"
      ],
      "metadata": {
        "id": "b-CeaAGuWRAF"
      }
    },
    {
      "cell_type": "code",
      "source": [
        "block = eeg_.block.values\n",
        "new_block = []\n",
        "for i in block:\n",
        "  while type(i) is np.ndarray:\n",
        "    i = i[0]\n",
        "  new_block.append(i)"
      ],
      "metadata": {
        "id": "jg7wxjdxWNiM"
      },
      "execution_count": null,
      "outputs": []
    },
    {
      "cell_type": "code",
      "source": [
        "stim_cat = eeg_.StimulusCategory.values\n",
        "new_stim = []\n",
        "for i in stim_cat:\n",
        "  if 'environment' in i:\n",
        "    new_stim.append('environment')\n",
        "  elif 'nonwords' in i:\n",
        "    new_stim.append('nonwords')\n",
        "  elif 'words' in i:\n",
        "    new_stim.append('words')"
      ],
      "metadata": {
        "id": "6nxrRdonWNkc"
      },
      "execution_count": null,
      "outputs": []
    },
    {
      "cell_type": "code",
      "source": [
        "rt = eeg_.ReactionTime.values\n",
        "new_rt = []\n",
        "for i in rt:\n",
        "  while type(i) is np.ndarray:\n",
        "    i = i[0]\n",
        "  new_rt.append(i)"
      ],
      "metadata": {
        "id": "IhSi3WnLWWPV"
      },
      "execution_count": null,
      "outputs": []
    },
    {
      "cell_type": "code",
      "source": [
        "acc = eeg_.RespCorrect.values\n",
        "new_acc = []\n",
        "for i in acc:\n",
        "  while type(i) is np.ndarray:\n",
        "    i = i[0]\n",
        "  new_acc.append(i)"
      ],
      "metadata": {
        "id": "MuDuNjJUWNmt"
      },
      "execution_count": null,
      "outputs": []
    },
    {
      "cell_type": "code",
      "source": [
        "resp = eeg_.Resp.values\n",
        "new_resp = []\n",
        "for i in resp:\n",
        "  while type(i) is np.ndarray:\n",
        "    i = i[0]\n",
        "  new_resp.append(i)"
      ],
      "metadata": {
        "id": "-oL5z10jWafF"
      },
      "execution_count": null,
      "outputs": []
    },
    {
      "cell_type": "code",
      "source": [
        "probe = eeg_.ProbeCategory.values\n",
        "new_probe = []\n",
        "for i in probe:\n",
        "  while type(i) is np.ndarray:\n",
        "    i = i[0]\n",
        "  new_probe.append(i)"
      ],
      "metadata": {
        "id": "M6vWFDx8WddM"
      },
      "execution_count": null,
      "outputs": []
    },
    {
      "cell_type": "code",
      "source": [
        "probe_idx = eeg_.probeSound_idx.values\n",
        "new_probe_idx = []\n",
        "for i in probe_idx:\n",
        "  while type(i) is np.ndarray:\n",
        "    i = i[0]\n",
        "  new_probe_idx.append(i)"
      ],
      "metadata": {
        "id": "iy2udWp4Wdfb"
      },
      "execution_count": null,
      "outputs": []
    },
    {
      "cell_type": "code",
      "source": [
        "stim_idx = eeg_.stimulusSounds_idx.values\n",
        "new_stim_idx = []\n",
        "for i in stim_idx:\n",
        "  new_i = i[0][0].tolist()\n",
        "  element = []\n",
        "  for j in new_i:\n",
        "    element.append(j[0])\n",
        "  new_stim_idx.append(element)"
      ],
      "metadata": {
        "id": "KMtTk9VeWdhz"
      },
      "execution_count": null,
      "outputs": []
    },
    {
      "cell_type": "code",
      "source": [
        "eeg_['block'] = new_block\n",
        "eeg_['StimulusCategory'] = new_stim\n",
        "eeg_['ReactionTime'] = new_rt\n",
        "eeg_['RespCorrect'] = new_acc\n",
        "eeg_['Resp'] = new_resp\n",
        "eeg_['ProbeCategory'] = new_probe\n",
        "eeg_['probeSound_idx'] = new_probe_idx\n",
        "eeg_['stimulusSounds_idx'] = new_stim_idx"
      ],
      "metadata": {
        "id": "k3FOqiJYWhg0",
        "outputId": "a7fd3d88-af38-4800-b9fc-c54bbbc74c7a",
        "colab": {
          "base_uri": "https://localhost:8080/"
        }
      },
      "execution_count": null,
      "outputs": [
        {
          "output_type": "stream",
          "name": "stderr",
          "text": [
            "<ipython-input-58-ea534a877bb7>:1: SettingWithCopyWarning: \n",
            "A value is trying to be set on a copy of a slice from a DataFrame.\n",
            "Try using .loc[row_indexer,col_indexer] = value instead\n",
            "\n",
            "See the caveats in the documentation: https://pandas.pydata.org/pandas-docs/stable/user_guide/indexing.html#returning-a-view-versus-a-copy\n",
            "  eeg_['block'] = new_block\n",
            "<ipython-input-58-ea534a877bb7>:2: SettingWithCopyWarning: \n",
            "A value is trying to be set on a copy of a slice from a DataFrame.\n",
            "Try using .loc[row_indexer,col_indexer] = value instead\n",
            "\n",
            "See the caveats in the documentation: https://pandas.pydata.org/pandas-docs/stable/user_guide/indexing.html#returning-a-view-versus-a-copy\n",
            "  eeg_['StimulusCategory'] = new_stim\n",
            "<ipython-input-58-ea534a877bb7>:3: SettingWithCopyWarning: \n",
            "A value is trying to be set on a copy of a slice from a DataFrame.\n",
            "Try using .loc[row_indexer,col_indexer] = value instead\n",
            "\n",
            "See the caveats in the documentation: https://pandas.pydata.org/pandas-docs/stable/user_guide/indexing.html#returning-a-view-versus-a-copy\n",
            "  eeg_['ReactionTime'] = new_rt\n",
            "<ipython-input-58-ea534a877bb7>:4: SettingWithCopyWarning: \n",
            "A value is trying to be set on a copy of a slice from a DataFrame.\n",
            "Try using .loc[row_indexer,col_indexer] = value instead\n",
            "\n",
            "See the caveats in the documentation: https://pandas.pydata.org/pandas-docs/stable/user_guide/indexing.html#returning-a-view-versus-a-copy\n",
            "  eeg_['RespCorrect'] = new_acc\n",
            "<ipython-input-58-ea534a877bb7>:5: SettingWithCopyWarning: \n",
            "A value is trying to be set on a copy of a slice from a DataFrame.\n",
            "Try using .loc[row_indexer,col_indexer] = value instead\n",
            "\n",
            "See the caveats in the documentation: https://pandas.pydata.org/pandas-docs/stable/user_guide/indexing.html#returning-a-view-versus-a-copy\n",
            "  eeg_['Resp'] = new_resp\n",
            "<ipython-input-58-ea534a877bb7>:6: SettingWithCopyWarning: \n",
            "A value is trying to be set on a copy of a slice from a DataFrame.\n",
            "Try using .loc[row_indexer,col_indexer] = value instead\n",
            "\n",
            "See the caveats in the documentation: https://pandas.pydata.org/pandas-docs/stable/user_guide/indexing.html#returning-a-view-versus-a-copy\n",
            "  eeg_['ProbeCategory'] = new_probe\n",
            "<ipython-input-58-ea534a877bb7>:7: SettingWithCopyWarning: \n",
            "A value is trying to be set on a copy of a slice from a DataFrame.\n",
            "Try using .loc[row_indexer,col_indexer] = value instead\n",
            "\n",
            "See the caveats in the documentation: https://pandas.pydata.org/pandas-docs/stable/user_guide/indexing.html#returning-a-view-versus-a-copy\n",
            "  eeg_['probeSound_idx'] = new_probe_idx\n",
            "<ipython-input-58-ea534a877bb7>:8: SettingWithCopyWarning: \n",
            "A value is trying to be set on a copy of a slice from a DataFrame.\n",
            "Try using .loc[row_indexer,col_indexer] = value instead\n",
            "\n",
            "See the caveats in the documentation: https://pandas.pydata.org/pandas-docs/stable/user_guide/indexing.html#returning-a-view-versus-a-copy\n",
            "  eeg_['stimulusSounds_idx'] = new_stim_idx\n"
          ]
        }
      ]
    },
    {
      "cell_type": "code",
      "source": [
        "length = []\n",
        "for i in eeg_.stimulusSounds_idx.values:\n",
        "  if len(i) not in length:\n",
        "    length.append(len(i))\n",
        "print(length)"
      ],
      "metadata": {
        "id": "G4_mN3dAWj1V",
        "outputId": "cad76065-dc80-4a1c-f424-b0e47ef29be6",
        "colab": {
          "base_uri": "https://localhost:8080/"
        }
      },
      "execution_count": null,
      "outputs": [
        {
          "output_type": "stream",
          "name": "stdout",
          "text": [
            "[3, 7, 9, 5]\n"
          ]
        }
      ]
    },
    {
      "cell_type": "code",
      "source": [
        "length = []\n",
        "for i in eeg_.stimulusSounds_idx.values:\n",
        "  length.append(len(i))\n",
        "eeg_['Length'] = length"
      ],
      "metadata": {
        "id": "OrtdvxaPWj98",
        "outputId": "fdaa7a84-2752-49b0-9bb8-02888ed70d1d",
        "colab": {
          "base_uri": "https://localhost:8080/"
        }
      },
      "execution_count": null,
      "outputs": [
        {
          "output_type": "stream",
          "name": "stderr",
          "text": [
            "<ipython-input-60-d50296b58efb>:4: SettingWithCopyWarning: \n",
            "A value is trying to be set on a copy of a slice from a DataFrame.\n",
            "Try using .loc[row_indexer,col_indexer] = value instead\n",
            "\n",
            "See the caveats in the documentation: https://pandas.pydata.org/pandas-docs/stable/user_guide/indexing.html#returning-a-view-versus-a-copy\n",
            "  eeg_['Length'] = length\n"
          ]
        }
      ]
    },
    {
      "cell_type": "code",
      "source": [
        "words = []\n",
        "nonwords = []\n",
        "environment = []\n",
        "for i in eeg_.StimulusCategory.values:\n",
        "  if i == 'nonwords':\n",
        "    words.append(0)\n",
        "    nonwords.append(1)\n",
        "    environment.append(0)\n",
        "  elif i == 'words':\n",
        "    words.append(1)\n",
        "    nonwords.append(0)\n",
        "    environment.append(0)\n",
        "  elif i == 'environment':\n",
        "    words.append(0)\n",
        "    nonwords.append(0)\n",
        "    environment.append(1)"
      ],
      "metadata": {
        "id": "msUsBDxGWlPE"
      },
      "execution_count": null,
      "outputs": []
    },
    {
      "cell_type": "code",
      "source": [
        "eeg_['Words'] = words\n",
        "eeg_['Nonwords'] = nonwords\n",
        "eeg_['Environment'] = environment"
      ],
      "metadata": {
        "id": "VpBlzVF0Wmkc",
        "outputId": "720525ce-729d-4deb-c2bb-2f0da3ec081a",
        "colab": {
          "base_uri": "https://localhost:8080/"
        }
      },
      "execution_count": null,
      "outputs": [
        {
          "output_type": "stream",
          "name": "stderr",
          "text": [
            "<ipython-input-62-3c31c9b484ea>:1: SettingWithCopyWarning: \n",
            "A value is trying to be set on a copy of a slice from a DataFrame.\n",
            "Try using .loc[row_indexer,col_indexer] = value instead\n",
            "\n",
            "See the caveats in the documentation: https://pandas.pydata.org/pandas-docs/stable/user_guide/indexing.html#returning-a-view-versus-a-copy\n",
            "  eeg_['Words'] = words\n",
            "<ipython-input-62-3c31c9b484ea>:2: SettingWithCopyWarning: \n",
            "A value is trying to be set on a copy of a slice from a DataFrame.\n",
            "Try using .loc[row_indexer,col_indexer] = value instead\n",
            "\n",
            "See the caveats in the documentation: https://pandas.pydata.org/pandas-docs/stable/user_guide/indexing.html#returning-a-view-versus-a-copy\n",
            "  eeg_['Nonwords'] = nonwords\n",
            "<ipython-input-62-3c31c9b484ea>:3: SettingWithCopyWarning: \n",
            "A value is trying to be set on a copy of a slice from a DataFrame.\n",
            "Try using .loc[row_indexer,col_indexer] = value instead\n",
            "\n",
            "See the caveats in the documentation: https://pandas.pydata.org/pandas-docs/stable/user_guide/indexing.html#returning-a-view-versus-a-copy\n",
            "  eeg_['Environment'] = environment\n"
          ]
        }
      ]
    },
    {
      "cell_type": "code",
      "source": [
        "probe_names = eeg_.probeSound_name.values\n",
        "new_probe_names = []\n",
        "for name in probe_names:\n",
        "  name = name[0][0][0]\n",
        "  new_probe_names.append(name)"
      ],
      "metadata": {
        "id": "-8aj5vtHWqjT"
      },
      "execution_count": null,
      "outputs": []
    },
    {
      "cell_type": "code",
      "source": [
        "stimulus_names = eeg_.stimulusSounds_name.values\n",
        "new_stim_names = []\n",
        "for name in stimulus_names:\n",
        "  name = name[0][0]\n",
        "  new_name = []\n",
        "  for j in name:\n",
        "    new_name.append(j[0][0])\n",
        "  new_stim_names.append(new_name)"
      ],
      "metadata": {
        "id": "fdDosPjjdgTa"
      },
      "execution_count": null,
      "outputs": []
    },
    {
      "cell_type": "code",
      "source": [
        "new_new_stim_names = []\n",
        "for element in new_stim_names:\n",
        "  new_element = []\n",
        "  for name in element:\n",
        "    new_element.append(name[:-4])\n",
        "  new_new_stim_names.append(new_element)"
      ],
      "metadata": {
        "id": "b7dytnJRjHLH"
      },
      "execution_count": null,
      "outputs": []
    },
    {
      "cell_type": "code",
      "source": [
        "new_new_probe_names = []\n",
        "for i in new_probe_names:\n",
        "  new_new_probe_names.append(i[:-4])"
      ],
      "metadata": {
        "id": "iP9FYg-vjNwH"
      },
      "execution_count": null,
      "outputs": []
    },
    {
      "cell_type": "code",
      "source": [
        "eeg_['stimulusSounds_name'] = new_new_stim_names\n",
        "eeg_['probeSound_name'] = new_new_probe_names"
      ],
      "metadata": {
        "id": "a-lsps3_WuCj",
        "outputId": "22e739f4-f0ce-46a7-930e-5ef0df663e75",
        "colab": {
          "base_uri": "https://localhost:8080/"
        }
      },
      "execution_count": null,
      "outputs": [
        {
          "output_type": "stream",
          "name": "stderr",
          "text": [
            "<ipython-input-67-a747f04adf7e>:1: SettingWithCopyWarning: \n",
            "A value is trying to be set on a copy of a slice from a DataFrame.\n",
            "Try using .loc[row_indexer,col_indexer] = value instead\n",
            "\n",
            "See the caveats in the documentation: https://pandas.pydata.org/pandas-docs/stable/user_guide/indexing.html#returning-a-view-versus-a-copy\n",
            "  eeg_['stimulusSounds_name'] = new_new_stim_names\n",
            "<ipython-input-67-a747f04adf7e>:2: SettingWithCopyWarning: \n",
            "A value is trying to be set on a copy of a slice from a DataFrame.\n",
            "Try using .loc[row_indexer,col_indexer] = value instead\n",
            "\n",
            "See the caveats in the documentation: https://pandas.pydata.org/pandas-docs/stable/user_guide/indexing.html#returning-a-view-versus-a-copy\n",
            "  eeg_['probeSound_name'] = new_new_probe_names\n"
          ]
        }
      ]
    },
    {
      "cell_type": "markdown",
      "source": [
        "**Adding frequency and imaginabilty scores**"
      ],
      "metadata": {
        "id": "1o0b794bWx6j"
      }
    },
    {
      "cell_type": "code",
      "source": [
        "category = eeg_.StimulusCategory.values.tolist()\n",
        "probe = eeg_.probeSound_name.values\n",
        "stimuli = eeg_.stimulusSounds_name.values\n",
        "standard = all_stim[all_stim['Category'] == 'word']['Stimulus'].values.tolist()\n",
        "standard_freq = all_stim[all_stim['Category'] == 'word']['Frequency'].values.tolist()\n",
        "standard_imag = all_stim[all_stim['Category'] == 'word']['Imaginability'].values.tolist()\n",
        "\n",
        "stim_freq = []\n",
        "stim_imag = []\n",
        "probe_freq = []\n",
        "probe_imag = []\n",
        "\n",
        "for i in range(0, eeg_.shape[0]):\n",
        "  if category[i] == 'words':\n",
        "    for name in standard:\n",
        "      if probe[i] == name:\n",
        "        freq = standard_freq[standard.index(name)]\n",
        "        imag = standard_imag[standard.index(name)]\n",
        "        probe_freq.append(freq)\n",
        "        probe_imag.append(imag)\n",
        "\n",
        "    values_freq = []\n",
        "    values_imag = []      \n",
        "    for lis in stimuli[i]:\n",
        "      for name in standard:\n",
        "        if lis == name:\n",
        "          freq = standard_freq[standard.index(name)]\n",
        "          imag = standard_imag[standard.index(name)]\n",
        "          values_freq.append(freq)\n",
        "          values_imag.append(imag)\n",
        "    stim_freq.append(values_freq)\n",
        "    stim_imag.append(values_imag)\n",
        "  \n",
        "  else:\n",
        "    stim_freq.append(np.nan)\n",
        "    stim_imag.append(np.nan)\n",
        "    probe_freq.append(np.nan)\n",
        "    probe_imag.append(np.nan)"
      ],
      "metadata": {
        "id": "HFlzddZvWwbE"
      },
      "execution_count": null,
      "outputs": []
    },
    {
      "cell_type": "code",
      "source": [
        "print(eeg_.shape)\n",
        "print(len(stim_freq))\n",
        "print(len(stim_imag))\n",
        "print(len(probe_freq))\n",
        "print(len(probe_imag))"
      ],
      "metadata": {
        "id": "jztwIV7BW0Mz",
        "outputId": "b0ac4f09-2141-4505-fe94-f73f1e9cf7c2",
        "colab": {
          "base_uri": "https://localhost:8080/"
        }
      },
      "execution_count": null,
      "outputs": [
        {
          "output_type": "stream",
          "name": "stdout",
          "text": [
            "(2992, 16)\n",
            "2992\n",
            "2992\n",
            "2992\n",
            "2992\n"
          ]
        }
      ]
    },
    {
      "cell_type": "code",
      "source": [
        "eeg_['ProbeFreq'] = probe_freq\n",
        "eeg_['ProbeImag'] = probe_imag\n",
        "eeg_['StimFreq'] = stim_freq\n",
        "eeg_['StimImag'] = stim_imag"
      ],
      "metadata": {
        "id": "uNiFGOeVW1lF",
        "outputId": "e3a8dcdf-e8bf-4304-8bd6-0be56f23a179",
        "colab": {
          "base_uri": "https://localhost:8080/"
        }
      },
      "execution_count": null,
      "outputs": [
        {
          "output_type": "stream",
          "name": "stderr",
          "text": [
            "<ipython-input-70-c1691c97d5de>:1: SettingWithCopyWarning: \n",
            "A value is trying to be set on a copy of a slice from a DataFrame.\n",
            "Try using .loc[row_indexer,col_indexer] = value instead\n",
            "\n",
            "See the caveats in the documentation: https://pandas.pydata.org/pandas-docs/stable/user_guide/indexing.html#returning-a-view-versus-a-copy\n",
            "  eeg_['ProbeFreq'] = probe_freq\n",
            "<ipython-input-70-c1691c97d5de>:2: SettingWithCopyWarning: \n",
            "A value is trying to be set on a copy of a slice from a DataFrame.\n",
            "Try using .loc[row_indexer,col_indexer] = value instead\n",
            "\n",
            "See the caveats in the documentation: https://pandas.pydata.org/pandas-docs/stable/user_guide/indexing.html#returning-a-view-versus-a-copy\n",
            "  eeg_['ProbeImag'] = probe_imag\n",
            "<ipython-input-70-c1691c97d5de>:3: SettingWithCopyWarning: \n",
            "A value is trying to be set on a copy of a slice from a DataFrame.\n",
            "Try using .loc[row_indexer,col_indexer] = value instead\n",
            "\n",
            "See the caveats in the documentation: https://pandas.pydata.org/pandas-docs/stable/user_guide/indexing.html#returning-a-view-versus-a-copy\n",
            "  eeg_['StimFreq'] = stim_freq\n",
            "<ipython-input-70-c1691c97d5de>:4: SettingWithCopyWarning: \n",
            "A value is trying to be set on a copy of a slice from a DataFrame.\n",
            "Try using .loc[row_indexer,col_indexer] = value instead\n",
            "\n",
            "See the caveats in the documentation: https://pandas.pydata.org/pandas-docs/stable/user_guide/indexing.html#returning-a-view-versus-a-copy\n",
            "  eeg_['StimImag'] = stim_imag\n"
          ]
        }
      ]
    },
    {
      "cell_type": "code",
      "source": [
        "# saving the file\n",
        "eeg_.to_csv(\n",
        "    Path(working_path).joinpath('eeg_envir_processed.csv')\n",
        ")"
      ],
      "metadata": {
        "id": "I7HqA22bl9X4"
      },
      "execution_count": null,
      "outputs": []
    }
  ]
}