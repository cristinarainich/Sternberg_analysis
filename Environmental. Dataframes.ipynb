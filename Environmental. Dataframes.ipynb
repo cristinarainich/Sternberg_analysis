{
  "nbformat": 4,
  "nbformat_minor": 0,
  "metadata": {
    "colab": {
      "name": "Environmental. Dataframes.ipynb",
      "provenance": [],
      "toc_visible": true,
      "authorship_tag": "ABX9TyOlIXYKKgir1rgCzw1z4klb",
      "include_colab_link": true
    },
    "kernelspec": {
      "name": "python3",
      "display_name": "Python 3"
    },
    "language_info": {
      "name": "python"
    }
  },
  "cells": [
    {
      "cell_type": "markdown",
      "metadata": {
        "id": "view-in-github",
        "colab_type": "text"
      },
      "source": [
        "<a href=\"https://colab.research.google.com/github/cristinarainich/Sternberg_analysis/blob/main/Environmental.%20Dataframes.ipynb\" target=\"_parent\"><img src=\"https://colab.research.google.com/assets/colab-badge.svg\" alt=\"Open In Colab\"/></a>"
      ]
    },
    {
      "cell_type": "markdown",
      "source": [
        "## Imports"
      ],
      "metadata": {
        "id": "YpvNzPralrdX"
      }
    },
    {
      "cell_type": "code",
      "execution_count": 1,
      "metadata": {
        "id": "3h5n2BsXgd_A"
      },
      "outputs": [],
      "source": [
        "import pandas as pd\n",
        "import numpy as np\n",
        "import pylab as pl\n",
        "import scipy.io\n",
        "from pathlib import Path"
      ]
    },
    {
      "cell_type": "code",
      "source": [
        "from google.colab import drive\n",
        "drive.mount('/content/gdrive')"
      ],
      "metadata": {
        "colab": {
          "base_uri": "https://localhost:8080/"
        },
        "id": "I5Vp26ukgrGq",
        "outputId": "275d39e9-4873-4353-84e7-91f1f81db868"
      },
      "execution_count": 2,
      "outputs": [
        {
          "output_type": "stream",
          "name": "stdout",
          "text": [
            "Mounted at /content/gdrive\n"
          ]
        }
      ]
    },
    {
      "cell_type": "code",
      "source": [
        "working_path = Path('/content/gdrive/MyDrive/CoganLab/Environmental')"
      ],
      "metadata": {
        "id": "XSxCJCVjgtfi"
      },
      "execution_count": 3,
      "outputs": []
    },
    {
      "cell_type": "code",
      "source": [
        "!ls /content/gdrive/MyDrive/CoganLab/Environmental"
      ],
      "metadata": {
        "id": "Ean4VEuNJXzv",
        "outputId": "2c85a431-0779-4b2f-8ccc-7f715e14789e",
        "colab": {
          "base_uri": "https://localhost:8080/"
        }
      },
      "execution_count": 4,
      "outputs": [
        {
          "output_type": "stream",
          "name": "stdout",
          "text": [
            " D29_Block_1_TrialData.mat\t  eeg_envir.csv\n",
            " D64_Block_1_TrialData.mat\t  eeg_envir_processed.csv\n",
            " D65_Block_1_TrialData_1.mat\t  Environmental_Subject.mat\n",
            " D65_Block_1_TrialData.mat\t  healthy\n",
            "'D71_Block_1_TrialData (1).mat'   ieeg_envir.csv\n",
            "'D73_Block_1_TrialData (2).mat'   ieeg_envir_processed.csv\n",
            "'D77_Block_1_TrialData (1).mat'   stimuli\n"
          ]
        }
      ]
    },
    {
      "cell_type": "code",
      "source": [
        "# Patients\n",
        "ieeg = scipy.io.loadmat(\n",
        "    working_path.joinpath('Environmental_Subject.mat')\n",
        "    )\n",
        "\n",
        "subj1 = scipy.io.loadmat(\n",
        "    working_path.joinpath('D65_Block_1_TrialData.mat')\n",
        "    )\n",
        "\n",
        "subj65 = scipy.io.loadmat(\n",
        "    working_path.joinpath('D65_Block_1_TrialData_1.mat')\n",
        "    )\n",
        "\n",
        "subj64 = scipy.io.loadmat(\n",
        "    working_path.joinpath('D64_Block_1_TrialData.mat')\n",
        ")\n",
        "subj73 = scipy.io.loadmat(\n",
        "    working_path.joinpath('D73_Block_1_TrialData (2).mat')\n",
        "    )\n",
        "subj77 = scipy.io.loadmat(\n",
        "    working_path.joinpath('D77_Block_1_TrialData (1).mat')\n",
        "    )"
      ],
      "metadata": {
        "id": "F_VMS1EkgvK5"
      },
      "execution_count": 5,
      "outputs": []
    },
    {
      "cell_type": "code",
      "source": [
        "working_path = Path('/content/gdrive/MyDrive/CoganLab/Environmental/healthy')"
      ],
      "metadata": {
        "id": "O0-zz-NsewOV"
      },
      "execution_count": 6,
      "outputs": []
    },
    {
      "cell_type": "code",
      "source": [
        "# healthy\n",
        "files = [] \n",
        "begin = 'E'\n",
        "end = '_Block_1_TrialData.mat'\n",
        "files.append(begin + '32' + end)\n",
        "for i in range(34, 47):\n",
        "  files.append(begin + str(i) + end)"
      ],
      "metadata": {
        "id": "-d_XluCJXidr"
      },
      "execution_count": 7,
      "outputs": []
    },
    {
      "cell_type": "code",
      "source": [
        "files[0]"
      ],
      "metadata": {
        "colab": {
          "base_uri": "https://localhost:8080/",
          "height": 36
        },
        "id": "SIN8V10Ie6gM",
        "outputId": "f88ade01-9131-405c-c829-234ba4478a04"
      },
      "execution_count": 8,
      "outputs": [
        {
          "output_type": "execute_result",
          "data": {
            "text/plain": [
              "'E32_Block_1_TrialData.mat'"
            ],
            "application/vnd.google.colaboratory.intrinsic+json": {
              "type": "string"
            }
          },
          "metadata": {},
          "execution_count": 8
        }
      ]
    },
    {
      "cell_type": "code",
      "source": [
        "eeg = []\n",
        "for i in files:\n",
        "  subset = scipy.io.loadmat(\n",
        "      working_path.joinpath(i)\n",
        "  )\n",
        "  eeg.append(subset)"
      ],
      "metadata": {
        "id": "vOupvS0MYjbt"
      },
      "execution_count": 9,
      "outputs": []
    },
    {
      "cell_type": "markdown",
      "source": [
        "#Working with stimuli"
      ],
      "metadata": {
        "id": "4TXoMEgdW9cj"
      }
    },
    {
      "cell_type": "code",
      "source": [
        "working_path = Path('/content/gdrive/MyDrive/CoganLab/Environmental/stimuli')"
      ],
      "metadata": {
        "id": "9N5rDPdvW_Nb"
      },
      "execution_count": 10,
      "outputs": []
    },
    {
      "cell_type": "code",
      "source": [
        "!ls /content/gdrive/MyDrive/CoganLab/Environmental/stimuli"
      ],
      "metadata": {
        "id": "JpqQTpHkXBcz",
        "outputId": "b7a8b6f6-e7a7-4ba5-e37d-af17f99e042b",
        "colab": {
          "base_uri": "https://localhost:8080/"
        }
      },
      "execution_count": 11,
      "outputs": [
        {
          "output_type": "stream",
          "name": "stdout",
          "text": [
            "imaginability.txt\t proposed_nw.mat\t proposed_w3.mat  untrn_w.mat\n",
            "proposed_nw3_global.mat  proposed_w2.mat\t proposed_w.mat\n",
            "proposed_nw3.mat\t proposed_w3_global.mat  untrn_nw.mat\n"
          ]
        }
      ]
    },
    {
      "cell_type": "code",
      "source": [
        "stimuli_words = scipy.io.loadmat(\n",
        "    working_path.joinpath('proposed_w3.mat')\n",
        ")"
      ],
      "metadata": {
        "id": "xeu87X-LXBfK"
      },
      "execution_count": 12,
      "outputs": []
    },
    {
      "cell_type": "code",
      "source": [
        "columns = stimuli_words['proposed_w'].dtype.names\n",
        "stim_words = pd.DataFrame(columns=columns)\n",
        "for i in range(0, stimuli_words['proposed_w'].shape[1]):\n",
        "  values = []\n",
        "  subset = stimuli_words['proposed_w'][0][i]\n",
        "  for name in columns:\n",
        "    values.append(subset[name])\n",
        "  stim_words.loc[len(stim_words.index)] = values"
      ],
      "metadata": {
        "id": "R39wSkRRXBhl"
      },
      "execution_count": 13,
      "outputs": []
    },
    {
      "cell_type": "code",
      "source": [
        "stimuli = []\n",
        "for i in stim_words.Word.values:\n",
        "  stimuli.append(i[0])\n",
        "\n",
        "freq = []\n",
        "for i in stim_words.SFreq.values:\n",
        "  freq.append(i[0][0])\n",
        "\n",
        "imagine = []\n",
        "for i in stim_words.imaginability.values:\n",
        "  imagine.append(i[0][0])\n",
        "\n",
        "category = []\n",
        "for i in range(0, 24):\n",
        "  category.append('word')"
      ],
      "metadata": {
        "id": "Wjp4axIDXBjy"
      },
      "execution_count": 14,
      "outputs": []
    },
    {
      "cell_type": "code",
      "source": [
        "columns = ['Category', 'Stimulus', 'Frequency', 'Imaginability']\n",
        "words = pd.DataFrame(columns=columns)\n",
        "words['Category'] = category\n",
        "words['Stimulus'] = stimuli\n",
        "words['Frequency'] = freq\n",
        "words['Imaginability'] = imagine"
      ],
      "metadata": {
        "id": "BEYWzNOLXGhC"
      },
      "execution_count": 15,
      "outputs": []
    },
    {
      "cell_type": "code",
      "source": [
        "stimuli_nonwords = scipy.io.loadmat(\n",
        "    working_path.joinpath('proposed_nw3.mat')\n",
        ")"
      ],
      "metadata": {
        "id": "7JwhTUOnXHwC"
      },
      "execution_count": 16,
      "outputs": []
    },
    {
      "cell_type": "code",
      "source": [
        "columns = stimuli_nonwords['proposed_nw'].dtype.names\n",
        "stim_nonwords = pd.DataFrame(columns=columns)\n",
        "for i in range(0, stimuli_nonwords['proposed_nw'].shape[1]):\n",
        "  values = []\n",
        "  subset = stimuli_nonwords['proposed_nw'][0][i]\n",
        "  for name in columns:\n",
        "    values.append(subset[name])\n",
        "  stim_nonwords.loc[len(stim_nonwords.index)] = values"
      ],
      "metadata": {
        "id": "S1RxZF_BXI8K"
      },
      "execution_count": 17,
      "outputs": []
    },
    {
      "cell_type": "code",
      "source": [
        "stimuli = []\n",
        "for i in stim_nonwords.Word.values:\n",
        "  stimuli.append(i[0])\n",
        "\n",
        "freq = []\n",
        "for i in stim_nonwords.SFreq.values:\n",
        "  freq.append(i[0][0])\n",
        "\n",
        "category = []\n",
        "for i in range(0, 24):\n",
        "  category.append('nonword')"
      ],
      "metadata": {
        "id": "xdlJwCTfXI-6"
      },
      "execution_count": 18,
      "outputs": []
    },
    {
      "cell_type": "code",
      "source": [
        "columns = ['Category', 'Stimulus', 'Frequency', 'Imaginability']\n",
        "nonwords = pd.DataFrame(columns=columns)\n",
        "nonwords['Category'] = category\n",
        "nonwords['Stimulus'] = stimuli\n",
        "nonwords['Frequency'] = freq\n",
        "nonwords['Imaginability'] = np.nan"
      ],
      "metadata": {
        "id": "QGVe-GMOXMFi"
      },
      "execution_count": 19,
      "outputs": []
    },
    {
      "cell_type": "code",
      "source": [
        "all_stim = pd.concat([words, nonwords])"
      ],
      "metadata": {
        "id": "79WXJ8YbXNvi"
      },
      "execution_count": 20,
      "outputs": []
    },
    {
      "cell_type": "markdown",
      "source": [
        "# iEEG dataset"
      ],
      "metadata": {
        "id": "HWwi_enRmivH"
      }
    },
    {
      "cell_type": "code",
      "source": [
        "data_ieeg = ieeg['Subject']\n",
        "print('Number of subjects in iEEG dataset is', data_ieeg.shape[1])"
      ],
      "metadata": {
        "colab": {
          "base_uri": "https://localhost:8080/"
        },
        "id": "dCpYgP4ZJxcy",
        "outputId": "e40bfa48-3c29-48ea-fdd7-de66b0bb08ea"
      },
      "execution_count": 23,
      "outputs": [
        {
          "output_type": "stream",
          "name": "stdout",
          "text": [
            "Number of subjects in iEEG dataset is 19\n"
          ]
        }
      ]
    },
    {
      "cell_type": "code",
      "source": [
        "subjects_ieeg = [] # subject numbers\n",
        "for i in data_ieeg['Name'][0]:\n",
        "  subjects_ieeg.append(i[0])\n",
        "print(subjects_ieeg)"
      ],
      "metadata": {
        "id": "JjFdOE5WJyIR",
        "colab": {
          "base_uri": "https://localhost:8080/"
        },
        "outputId": "8cdc3957-ab47-4bb7-b2bb-e4032619bb30"
      },
      "execution_count": 24,
      "outputs": [
        {
          "output_type": "stream",
          "name": "stdout",
          "text": [
            "['D27', 'D28', 'D30', 'D31', 'D32', 'D35', 'D37', 'D38', 'D39', 'D41', 'D42', 'D47', 'D53', 'D54', 'D55', 'D57', 'D63', 'D69', 'D71']\n"
          ]
        }
      ]
    },
    {
      "cell_type": "code",
      "source": [
        "columns = []\n",
        "for i in range(0, data_ieeg.shape[1]):\n",
        "  actual = data_ieeg[0][i]['trialInfo'][0][0].dtype.names\n",
        "  for name in actual:\n",
        "    if name not in columns:\n",
        "      columns.append(name)"
      ],
      "metadata": {
        "id": "czxi7jh-wS7V"
      },
      "execution_count": 25,
      "outputs": []
    },
    {
      "cell_type": "code",
      "source": [
        "def get_to_df(data):\n",
        "  df = pd.DataFrame(columns=columns)\n",
        "  df['Trial'] = np.nan\n",
        "  df['Subject'] = np.nan\n",
        "\n",
        "  for i in range(0, data.shape[1]):\n",
        "    # for each subject\n",
        "    subset = data[0][i]\n",
        "    subject = subset['Name'][0]\n",
        "    print(subset['Task'])\n",
        "    print(subject)\n",
        "    for trial in range(0, subset['trialInfo'].shape[1]):\n",
        "      # for each trial\n",
        "      sub = subset['trialInfo'][0][trial]\n",
        "      dtype = sub.dtype.names\n",
        "      values = []\n",
        "      for name in columns:\n",
        "        if name in dtype:\n",
        "          values.append(sub[name])\n",
        "        else:\n",
        "          values.append(np.nan)\n",
        "      values.append(str(trial)) # adding a trial number\n",
        "      values.append(subject)\n",
        "      df.loc[len(df.index)] = values\n",
        "  return df"
      ],
      "metadata": {
        "id": "WKEnfX2zmrDX"
      },
      "execution_count": 26,
      "outputs": []
    },
    {
      "cell_type": "code",
      "source": [
        "ieeg = get_to_df(data_ieeg)"
      ],
      "metadata": {
        "colab": {
          "base_uri": "https://localhost:8080/"
        },
        "id": "lgJnrW6Ru58L",
        "outputId": "dd4127a6-12eb-485a-944c-6e3807ca756c"
      },
      "execution_count": 27,
      "outputs": [
        {
          "output_type": "stream",
          "name": "stdout",
          "text": [
            "['Environmental_Sternberg']\n",
            "D27\n",
            "['Environmental_Sternberg']\n",
            "D28\n",
            "['Environmental_Sternberg']\n",
            "D30\n",
            "['Environmental_Sternberg']\n",
            "D31\n",
            "['Environmental_Sternberg']\n",
            "D32\n",
            "['Environmental_Sternberg']\n",
            "D35\n",
            "['Environmental_Sternberg']\n",
            "D37\n",
            "['Environmental_Sternberg']\n",
            "D38\n",
            "['Environmental_Sternberg']\n",
            "D39\n",
            "['Environmental_Sternberg']\n",
            "D41\n",
            "['Environmental_Sternberg']\n",
            "D42\n",
            "['Environmental_Sternberg']\n",
            "D47\n",
            "['Environmental_Sternberg']\n",
            "D53\n",
            "['Environmental_Sternberg']\n",
            "D54\n",
            "['Environmental_Sternberg']\n",
            "D55\n",
            "['Environmental_Sternberg']\n",
            "D57\n",
            "['Environmental_Sternberg']\n",
            "D63\n",
            "['Environmental_Sternberg']\n",
            "D69\n",
            "[]\n",
            "D71\n"
          ]
        }
      ]
    },
    {
      "cell_type": "code",
      "source": [
        "# adding subjects D64\n",
        "df_64 = pd.DataFrame(columns=columns)\n",
        "df_64['Trial'] = np.nan\n",
        "df_64['Subject'] = np.nan\n",
        "for trial in range(0, subj64['trialInfo'].shape[1]):\n",
        "  # for each trial\n",
        "  values = []\n",
        "  subset = subj64['trialInfo'][0][trial]\n",
        "  dtype = subset.dtype.names\n",
        "  for name in columns:\n",
        "    if name in dtype:\n",
        "      values.append(subset[name])\n",
        "    else:\n",
        "      values.append(np.nan)\n",
        "  values.append(str(trial)) # adding a trial number\n",
        "  values.append('D64')\n",
        "  df_64.loc[len(df_64.index)] = values"
      ],
      "metadata": {
        "id": "yfyxCD_o5aSp"
      },
      "execution_count": 30,
      "outputs": []
    },
    {
      "cell_type": "code",
      "source": [
        "# adding subjects D65\n",
        "df_65 = pd.DataFrame(columns=columns)\n",
        "df_65['Trial'] = np.nan\n",
        "df_65['Subject'] = np.nan\n",
        "for trial in range(0, subj1['trialInfo'].shape[1]):\n",
        "  # for each trial\n",
        "  values = []\n",
        "  subset = subj1['trialInfo'][0][trial]\n",
        "  dtype = subset.dtype.names\n",
        "  for name in columns:\n",
        "    if name in dtype:\n",
        "      values.append(subset[name])\n",
        "    else:\n",
        "      values.append(np.nan)\n",
        "  values.append(str(trial)) # adding a trial number\n",
        "  values.append('D65')\n",
        "  df_65.loc[len(df_65.index)] = values\n",
        "  i = 96\n",
        "for trial in range(0, subj65['trialInfo'].shape[1]):\n",
        "  # for each trial\n",
        "  values = []\n",
        "  subset = subj65['trialInfo'][0][trial]\n",
        "  dtype = subset.dtype.names\n",
        "  for name in columns:\n",
        "    if name in dtype:\n",
        "      values.append(subset[name])\n",
        "    else:\n",
        "      values.append(np.nan)\n",
        "  values.append(str(i)) # adding a trial number\n",
        "  values.append('D65')\n",
        "  i += 1\n",
        "  df_65.loc[len(df_65.index)] = values"
      ],
      "metadata": {
        "id": "cUsYed4q7Y4k"
      },
      "execution_count": 31,
      "outputs": []
    },
    {
      "cell_type": "code",
      "source": [
        "ieeg = pd.concat([ieeg, df_64])\n",
        "ieeg = pd.concat([ieeg, df_65])"
      ],
      "metadata": {
        "id": "6Zhiczksm_Oa"
      },
      "execution_count": 32,
      "outputs": []
    },
    {
      "cell_type": "code",
      "source": [
        "# adding subject 73\n",
        "df_73 = pd.DataFrame(columns=columns)\n",
        "df_73['Trial'] = np.nan\n",
        "df_73['Subject'] = np.nan\n",
        "for trial in range(0, subj73['trialInfo'].shape[1]):\n",
        "  # for each trial\n",
        "  values = []\n",
        "  subset = subj73['trialInfo'][0][trial]\n",
        "  dtype = subset.dtype.names\n",
        "  for name in columns:\n",
        "    if name in dtype:\n",
        "      values.append(subset[name])\n",
        "    else:\n",
        "      values.append(np.nan)\n",
        "  values.append(str(trial)) # adding a trial number\n",
        "  values.append('D73')\n",
        "  df_73.loc[len(df_73.index)] = values"
      ],
      "metadata": {
        "id": "RFJAOBZ5Jijr"
      },
      "execution_count": 33,
      "outputs": []
    },
    {
      "cell_type": "code",
      "source": [
        "# adding subject 77\n",
        "df_77 = pd.DataFrame(columns=columns)\n",
        "df_77['Trial'] = np.nan\n",
        "df_77['Subject'] = np.nan\n",
        "for trial in range(0, subj77['trialInfo'].shape[1]):\n",
        "  # for each trial\n",
        "  values = []\n",
        "  subset = subj77['trialInfo'][0][trial]\n",
        "  dtype = subset.dtype.names\n",
        "  for name in columns:\n",
        "    if name in dtype:\n",
        "      values.append(subset[name])\n",
        "    else:\n",
        "      values.append(np.nan)\n",
        "  values.append(str(trial)) # adding a trial number\n",
        "  values.append('D77')\n",
        "  df_77.loc[len(df_77.index)] = values"
      ],
      "metadata": {
        "id": "A2K9bUd_Jkl1"
      },
      "execution_count": 34,
      "outputs": []
    },
    {
      "cell_type": "code",
      "source": [
        "ieeg = pd.concat([ieeg, df_73])\n",
        "ieeg = pd.concat([ieeg, df_77])"
      ],
      "metadata": {
        "id": "rJXPZt0wJ6yh"
      },
      "execution_count": 35,
      "outputs": []
    },
    {
      "cell_type": "code",
      "source": [
        "ieeg.groupby(['Subject'])['Trial'].count()"
      ],
      "metadata": {
        "colab": {
          "base_uri": "https://localhost:8080/"
        },
        "id": "bKrqsbG0m5Oo",
        "outputId": "84bf76da-0022-4c23-a030-67fc06860555"
      },
      "execution_count": 36,
      "outputs": [
        {
          "output_type": "execute_result",
          "data": {
            "text/plain": [
              "Subject\n",
              "D27    160\n",
              "D28    120\n",
              "D30    168\n",
              "D31    168\n",
              "D32    168\n",
              "D35    168\n",
              "D37    168\n",
              "D38    160\n",
              "D39    168\n",
              "D41    168\n",
              "D42    168\n",
              "D47    168\n",
              "D53    168\n",
              "D54    168\n",
              "D55    168\n",
              "D57    168\n",
              "D63    168\n",
              "D64    168\n",
              "D65    168\n",
              "D69    168\n",
              "D71    168\n",
              "D73    168\n",
              "D77    168\n",
              "Name: Trial, dtype: int64"
            ]
          },
          "metadata": {},
          "execution_count": 36
        }
      ]
    },
    {
      "cell_type": "code",
      "source": [
        "# saving ieeg dataset\n",
        "working_path = Path('/content/gdrive/MyDrive/CoganLab/Environmental')\n",
        "ieeg.to_csv(\n",
        "    Path(working_path).joinpath('ieeg_envir.csv')\n",
        ")"
      ],
      "metadata": {
        "id": "RFxIg5Mti16Q"
      },
      "execution_count": 39,
      "outputs": []
    },
    {
      "cell_type": "markdown",
      "source": [
        "# Preprocessing of iEEG dataset"
      ],
      "metadata": {
        "id": "SJe2YeU3i4vA"
      }
    },
    {
      "cell_type": "code",
      "source": [
        "ieeg = pd.read_csv(\n",
        "    working_path.joinpath('ieeg_envir.csv')\n",
        "    )"
      ],
      "metadata": {
        "id": "ta-Fpn3pi9II"
      },
      "execution_count": 117,
      "outputs": []
    },
    {
      "cell_type": "code",
      "source": [
        "ieeg_alter = pd.read_csv(\n",
        "    working_path.joinpath('ieeg_envir_processed.csv')\n",
        "    )"
      ],
      "metadata": {
        "id": "-0se8zpzmoQ4"
      },
      "execution_count": 87,
      "outputs": []
    },
    {
      "cell_type": "code",
      "source": [
        "ieeg_alter = ieeg_alter.drop('Unnamed: 0', axis=1)"
      ],
      "metadata": {
        "id": "LV4CxD1sm0Jf"
      },
      "execution_count": 89,
      "outputs": []
    },
    {
      "cell_type": "code",
      "source": [
        "ieeg_alter.head()"
      ],
      "metadata": {
        "id": "_E_X2w0nmv7I",
        "outputId": "f95a3dbd-16ea-4c6a-9b48-5209c025aac8",
        "colab": {
          "base_uri": "https://localhost:8080/",
          "height": 478
        }
      },
      "execution_count": 90,
      "outputs": [
        {
          "output_type": "execute_result",
          "data": {
            "text/plain": [
              "   block  ReactionTime Resp  RespCorrect                stimulusSounds_idx  \\\n",
              "0      1      1.227901   No            1              [68, 69, 64, 59, 54]   \n",
              "1      1      0.953294  Yes            0  [10, 6, 4, 2, 16, 7, 22, 14, 15]   \n",
              "2      1      1.314829   No            1              [46, 36, 42, 34, 29]   \n",
              "3      1      0.894159  Yes            1              [36, 33, 28, 27, 46]   \n",
              "4      1      0.866337   No            0              [71, 51, 55, 61, 59]   \n",
              "\n",
              "   ProbeCategory  probeSound_idx StimulusCategory  Trial  \\\n",
              "0              0              23         nonwords      0   \n",
              "1              0               8      environment      1   \n",
              "2              0               2            words      2   \n",
              "3              1               3            words      3   \n",
              "4              1               7         nonwords      4   \n",
              "\n",
              "                                 stimulusSounds_name probeSound_name Subject  \\\n",
              "0  ['thowster', 'viylahs', 'saechahn', 'mahtern',...         yehbahl     D32   \n",
              "1  ['duck_quack', 'crowd_cheering', 'crickets', '...     dog_panting     D32   \n",
              "2    ['tunic', 'madam', 'quota', 'glacier', 'comic']         chalice     D32   \n",
              "3    ['madam', 'duty', 'cherub', 'chapter', 'tunic']         chapter     D32   \n",
              "4  ['yehbahl', 'drahjer', 'haasahp', 'prehjiy', '...         haasahp     D32   \n",
              "\n",
              "   Length  Words  Nonwords  Environment  ProbeFreq  ProbeImag  \\\n",
              "0       5      0         1            0        NaN        NaN   \n",
              "1       9      0         0            1        NaN        NaN   \n",
              "2       5      1         0            0       0.63        4.7   \n",
              "3       5      1         0            0      11.84        4.9   \n",
              "4       5      0         1            0        NaN        NaN   \n",
              "\n",
              "                           StimFreq                   StimImag  \n",
              "0                               NaN                        NaN  \n",
              "1                               NaN                        NaN  \n",
              "2   [0.55, 44.0, 1.86, 0.75, 10.82]  [5.6, 5.6, 3.8, 6.6, 5.4]  \n",
              "3  [44.0, 50.96, 0.61, 11.84, 0.55]  [5.6, 4.0, 3.5, 4.9, 5.6]  \n",
              "4                               NaN                        NaN  "
            ],
            "text/html": [
              "\n",
              "  <div id=\"df-0024c018-1eb7-431c-b9c9-e9e565c4a480\">\n",
              "    <div class=\"colab-df-container\">\n",
              "      <div>\n",
              "<style scoped>\n",
              "    .dataframe tbody tr th:only-of-type {\n",
              "        vertical-align: middle;\n",
              "    }\n",
              "\n",
              "    .dataframe tbody tr th {\n",
              "        vertical-align: top;\n",
              "    }\n",
              "\n",
              "    .dataframe thead th {\n",
              "        text-align: right;\n",
              "    }\n",
              "</style>\n",
              "<table border=\"1\" class=\"dataframe\">\n",
              "  <thead>\n",
              "    <tr style=\"text-align: right;\">\n",
              "      <th></th>\n",
              "      <th>block</th>\n",
              "      <th>ReactionTime</th>\n",
              "      <th>Resp</th>\n",
              "      <th>RespCorrect</th>\n",
              "      <th>stimulusSounds_idx</th>\n",
              "      <th>ProbeCategory</th>\n",
              "      <th>probeSound_idx</th>\n",
              "      <th>StimulusCategory</th>\n",
              "      <th>Trial</th>\n",
              "      <th>stimulusSounds_name</th>\n",
              "      <th>probeSound_name</th>\n",
              "      <th>Subject</th>\n",
              "      <th>Length</th>\n",
              "      <th>Words</th>\n",
              "      <th>Nonwords</th>\n",
              "      <th>Environment</th>\n",
              "      <th>ProbeFreq</th>\n",
              "      <th>ProbeImag</th>\n",
              "      <th>StimFreq</th>\n",
              "      <th>StimImag</th>\n",
              "    </tr>\n",
              "  </thead>\n",
              "  <tbody>\n",
              "    <tr>\n",
              "      <th>0</th>\n",
              "      <td>1</td>\n",
              "      <td>1.227901</td>\n",
              "      <td>No</td>\n",
              "      <td>1</td>\n",
              "      <td>[68, 69, 64, 59, 54]</td>\n",
              "      <td>0</td>\n",
              "      <td>23</td>\n",
              "      <td>nonwords</td>\n",
              "      <td>0</td>\n",
              "      <td>['thowster', 'viylahs', 'saechahn', 'mahtern',...</td>\n",
              "      <td>yehbahl</td>\n",
              "      <td>D32</td>\n",
              "      <td>5</td>\n",
              "      <td>0</td>\n",
              "      <td>1</td>\n",
              "      <td>0</td>\n",
              "      <td>NaN</td>\n",
              "      <td>NaN</td>\n",
              "      <td>NaN</td>\n",
              "      <td>NaN</td>\n",
              "    </tr>\n",
              "    <tr>\n",
              "      <th>1</th>\n",
              "      <td>1</td>\n",
              "      <td>0.953294</td>\n",
              "      <td>Yes</td>\n",
              "      <td>0</td>\n",
              "      <td>[10, 6, 4, 2, 16, 7, 22, 14, 15]</td>\n",
              "      <td>0</td>\n",
              "      <td>8</td>\n",
              "      <td>environment</td>\n",
              "      <td>1</td>\n",
              "      <td>['duck_quack', 'crowd_cheering', 'crickets', '...</td>\n",
              "      <td>dog_panting</td>\n",
              "      <td>D32</td>\n",
              "      <td>9</td>\n",
              "      <td>0</td>\n",
              "      <td>0</td>\n",
              "      <td>1</td>\n",
              "      <td>NaN</td>\n",
              "      <td>NaN</td>\n",
              "      <td>NaN</td>\n",
              "      <td>NaN</td>\n",
              "    </tr>\n",
              "    <tr>\n",
              "      <th>2</th>\n",
              "      <td>1</td>\n",
              "      <td>1.314829</td>\n",
              "      <td>No</td>\n",
              "      <td>1</td>\n",
              "      <td>[46, 36, 42, 34, 29]</td>\n",
              "      <td>0</td>\n",
              "      <td>2</td>\n",
              "      <td>words</td>\n",
              "      <td>2</td>\n",
              "      <td>['tunic', 'madam', 'quota', 'glacier', 'comic']</td>\n",
              "      <td>chalice</td>\n",
              "      <td>D32</td>\n",
              "      <td>5</td>\n",
              "      <td>1</td>\n",
              "      <td>0</td>\n",
              "      <td>0</td>\n",
              "      <td>0.63</td>\n",
              "      <td>4.7</td>\n",
              "      <td>[0.55, 44.0, 1.86, 0.75, 10.82]</td>\n",
              "      <td>[5.6, 5.6, 3.8, 6.6, 5.4]</td>\n",
              "    </tr>\n",
              "    <tr>\n",
              "      <th>3</th>\n",
              "      <td>1</td>\n",
              "      <td>0.894159</td>\n",
              "      <td>Yes</td>\n",
              "      <td>1</td>\n",
              "      <td>[36, 33, 28, 27, 46]</td>\n",
              "      <td>1</td>\n",
              "      <td>3</td>\n",
              "      <td>words</td>\n",
              "      <td>3</td>\n",
              "      <td>['madam', 'duty', 'cherub', 'chapter', 'tunic']</td>\n",
              "      <td>chapter</td>\n",
              "      <td>D32</td>\n",
              "      <td>5</td>\n",
              "      <td>1</td>\n",
              "      <td>0</td>\n",
              "      <td>0</td>\n",
              "      <td>11.84</td>\n",
              "      <td>4.9</td>\n",
              "      <td>[44.0, 50.96, 0.61, 11.84, 0.55]</td>\n",
              "      <td>[5.6, 4.0, 3.5, 4.9, 5.6]</td>\n",
              "    </tr>\n",
              "    <tr>\n",
              "      <th>4</th>\n",
              "      <td>1</td>\n",
              "      <td>0.866337</td>\n",
              "      <td>No</td>\n",
              "      <td>0</td>\n",
              "      <td>[71, 51, 55, 61, 59]</td>\n",
              "      <td>1</td>\n",
              "      <td>7</td>\n",
              "      <td>nonwords</td>\n",
              "      <td>4</td>\n",
              "      <td>['yehbahl', 'drahjer', 'haasahp', 'prehjiy', '...</td>\n",
              "      <td>haasahp</td>\n",
              "      <td>D32</td>\n",
              "      <td>5</td>\n",
              "      <td>0</td>\n",
              "      <td>1</td>\n",
              "      <td>0</td>\n",
              "      <td>NaN</td>\n",
              "      <td>NaN</td>\n",
              "      <td>NaN</td>\n",
              "      <td>NaN</td>\n",
              "    </tr>\n",
              "  </tbody>\n",
              "</table>\n",
              "</div>\n",
              "      <button class=\"colab-df-convert\" onclick=\"convertToInteractive('df-0024c018-1eb7-431c-b9c9-e9e565c4a480')\"\n",
              "              title=\"Convert this dataframe to an interactive table.\"\n",
              "              style=\"display:none;\">\n",
              "        \n",
              "  <svg xmlns=\"http://www.w3.org/2000/svg\" height=\"24px\"viewBox=\"0 0 24 24\"\n",
              "       width=\"24px\">\n",
              "    <path d=\"M0 0h24v24H0V0z\" fill=\"none\"/>\n",
              "    <path d=\"M18.56 5.44l.94 2.06.94-2.06 2.06-.94-2.06-.94-.94-2.06-.94 2.06-2.06.94zm-11 1L8.5 8.5l.94-2.06 2.06-.94-2.06-.94L8.5 2.5l-.94 2.06-2.06.94zm10 10l.94 2.06.94-2.06 2.06-.94-2.06-.94-.94-2.06-.94 2.06-2.06.94z\"/><path d=\"M17.41 7.96l-1.37-1.37c-.4-.4-.92-.59-1.43-.59-.52 0-1.04.2-1.43.59L10.3 9.45l-7.72 7.72c-.78.78-.78 2.05 0 2.83L4 21.41c.39.39.9.59 1.41.59.51 0 1.02-.2 1.41-.59l7.78-7.78 2.81-2.81c.8-.78.8-2.07 0-2.86zM5.41 20L4 18.59l7.72-7.72 1.47 1.35L5.41 20z\"/>\n",
              "  </svg>\n",
              "      </button>\n",
              "      \n",
              "  <style>\n",
              "    .colab-df-container {\n",
              "      display:flex;\n",
              "      flex-wrap:wrap;\n",
              "      gap: 12px;\n",
              "    }\n",
              "\n",
              "    .colab-df-convert {\n",
              "      background-color: #E8F0FE;\n",
              "      border: none;\n",
              "      border-radius: 50%;\n",
              "      cursor: pointer;\n",
              "      display: none;\n",
              "      fill: #1967D2;\n",
              "      height: 32px;\n",
              "      padding: 0 0 0 0;\n",
              "      width: 32px;\n",
              "    }\n",
              "\n",
              "    .colab-df-convert:hover {\n",
              "      background-color: #E2EBFA;\n",
              "      box-shadow: 0px 1px 2px rgba(60, 64, 67, 0.3), 0px 1px 3px 1px rgba(60, 64, 67, 0.15);\n",
              "      fill: #174EA6;\n",
              "    }\n",
              "\n",
              "    [theme=dark] .colab-df-convert {\n",
              "      background-color: #3B4455;\n",
              "      fill: #D2E3FC;\n",
              "    }\n",
              "\n",
              "    [theme=dark] .colab-df-convert:hover {\n",
              "      background-color: #434B5C;\n",
              "      box-shadow: 0px 1px 3px 1px rgba(0, 0, 0, 0.15);\n",
              "      filter: drop-shadow(0px 1px 2px rgba(0, 0, 0, 0.3));\n",
              "      fill: #FFFFFF;\n",
              "    }\n",
              "  </style>\n",
              "\n",
              "      <script>\n",
              "        const buttonEl =\n",
              "          document.querySelector('#df-0024c018-1eb7-431c-b9c9-e9e565c4a480 button.colab-df-convert');\n",
              "        buttonEl.style.display =\n",
              "          google.colab.kernel.accessAllowed ? 'block' : 'none';\n",
              "\n",
              "        async function convertToInteractive(key) {\n",
              "          const element = document.querySelector('#df-0024c018-1eb7-431c-b9c9-e9e565c4a480');\n",
              "          const dataTable =\n",
              "            await google.colab.kernel.invokeFunction('convertToInteractive',\n",
              "                                                     [key], {});\n",
              "          if (!dataTable) return;\n",
              "\n",
              "          const docLinkHtml = 'Like what you see? Visit the ' +\n",
              "            '<a target=\"_blank\" href=https://colab.research.google.com/notebooks/data_table.ipynb>data table notebook</a>'\n",
              "            + ' to learn more about interactive tables.';\n",
              "          element.innerHTML = '';\n",
              "          dataTable['output_type'] = 'display_data';\n",
              "          await google.colab.output.renderOutput(dataTable, element);\n",
              "          const docLink = document.createElement('div');\n",
              "          docLink.innerHTML = docLinkHtml;\n",
              "          element.appendChild(docLink);\n",
              "        }\n",
              "      </script>\n",
              "    </div>\n",
              "  </div>\n",
              "  "
            ]
          },
          "metadata": {},
          "execution_count": 90
        }
      ]
    },
    {
      "cell_type": "code",
      "source": [
        "ieeg_alter.Subject.unique()"
      ],
      "metadata": {
        "id": "9rK4pBnUnFAQ",
        "outputId": "f199deb1-1f5e-44f0-c1a4-4e32a383c54e",
        "colab": {
          "base_uri": "https://localhost:8080/"
        }
      },
      "execution_count": 92,
      "outputs": [
        {
          "output_type": "execute_result",
          "data": {
            "text/plain": [
              "array(['D32', 'D35', 'D38', 'D39', 'D42', 'D47', 'D53', 'D55', 'D57',\n",
              "       'D63', 'D69', 'D71', 'D64', 'D73', 'D77'], dtype=object)"
            ]
          },
          "metadata": {},
          "execution_count": 92
        }
      ]
    },
    {
      "cell_type": "code",
      "source": [
        "ieeg_.Subject.unique()"
      ],
      "metadata": {
        "id": "ZcPS6oEomJDB",
        "outputId": "fbe1138b-4903-4916-a996-0f8a04271b63",
        "colab": {
          "base_uri": "https://localhost:8080/"
        }
      },
      "execution_count": 119,
      "outputs": [
        {
          "output_type": "execute_result",
          "data": {
            "text/plain": [
              "array(['D27', 'D28', 'D30', 'D31', 'D32', 'D35', 'D37', 'D38', 'D39',\n",
              "       'D41', 'D42', 'D47', 'D53', 'D54', 'D55', 'D57', 'D63', 'D69',\n",
              "       'D71', 'D64', 'D65', 'D73', 'D77'], dtype=object)"
            ]
          },
          "metadata": {},
          "execution_count": 119
        }
      ]
    },
    {
      "cell_type": "code",
      "source": [
        "ieeg_ = ieeg[['block', 'ProbeType', 'StimlusCategory',\n",
        "       'ReactionTime', 'Resp', 'RespCorrect', 'Omission',\n",
        "       'stimulusSounds_idx', 'stimulusSounds_name', 'ProbeCategory', 'probeSound_idx',\n",
        "       'probeSound_name', 'StimulusCategory', 'Trial',\n",
        "       'Subject']]"
      ],
      "metadata": {
        "id": "_EGtPfoqm_a_"
      },
      "execution_count": 118,
      "outputs": []
    },
    {
      "cell_type": "code",
      "source": [
        "# looks like D27 performed Neighbourhood here\n",
        "# let's exclude them\n",
        "ieeg_ = ieeg_[ieeg_['Subject'] != 'D27']"
      ],
      "metadata": {
        "id": "NI_nJMkbte9V"
      },
      "execution_count": 120,
      "outputs": []
    },
    {
      "cell_type": "code",
      "source": [
        "ieeg_ = ieeg_.drop(['Omission', 'ProbeType'], axis=1)"
      ],
      "metadata": {
        "id": "PuXihCvYt3mr"
      },
      "execution_count": 121,
      "outputs": []
    },
    {
      "cell_type": "code",
      "source": [
        "# working on the columns to make them more convinient to use\n",
        "block = ieeg_.block.values\n",
        "new_block = []\n",
        "for i in block:\n",
        "  while type(i) is np.ndarray:\n",
        "    i = i[0]\n",
        "  new_block.append(i)"
      ],
      "metadata": {
        "id": "gFOIOerGuao2"
      },
      "execution_count": 122,
      "outputs": []
    },
    {
      "cell_type": "code",
      "source": [
        "rt = ieeg_.ReactionTime.values\n",
        "new_rt = []\n",
        "for i in rt:\n",
        "  while type(i) is np.ndarray:\n",
        "    i = i[0]\n",
        "  new_rt.append(i)"
      ],
      "metadata": {
        "id": "VD7CpZ3AuraG"
      },
      "execution_count": 123,
      "outputs": []
    },
    {
      "cell_type": "code",
      "source": [
        "acc = ieeg_.RespCorrect.values\n",
        "new_acc = []\n",
        "for i in acc:\n",
        "  while type(i) is np.ndarray:\n",
        "    i = i[0]\n",
        "  new_acc.append(i)"
      ],
      "metadata": {
        "id": "1SklYD0lvaYe"
      },
      "execution_count": 124,
      "outputs": []
    },
    {
      "cell_type": "code",
      "source": [
        "resp = ieeg_.Resp.values\n",
        "new_resp = []\n",
        "for i in resp:\n",
        "  while type(i) is np.ndarray:\n",
        "    i = i[0]\n",
        "  new_resp.append(i)"
      ],
      "metadata": {
        "id": "4ryfJAVVvun9"
      },
      "execution_count": 125,
      "outputs": []
    },
    {
      "cell_type": "code",
      "source": [
        "probe = ieeg_.ProbeCategory.values\n",
        "new_probe = []\n",
        "for i in probe:\n",
        "  while type(i) is np.ndarray:\n",
        "    i = i[0]\n",
        "  new_probe.append(i)"
      ],
      "metadata": {
        "id": "zsWDIlAiv11t"
      },
      "execution_count": 126,
      "outputs": []
    },
    {
      "cell_type": "code",
      "source": [
        "probe_idx = ieeg_.probeSound_idx.values\n",
        "new_probe_idx = []\n",
        "for i in probe_idx:\n",
        "  while type(i) is np.ndarray:\n",
        "    i = i[0]\n",
        "  new_probe_idx.append(i)"
      ],
      "metadata": {
        "id": "408-8UxUwDNB"
      },
      "execution_count": 127,
      "outputs": []
    },
    {
      "cell_type": "code",
      "source": [
        "stim_idx = ieeg_.stimulusSounds_idx.values\n",
        "new_stim_idx = []\n",
        "for i in stim_idx:\n",
        "  new_i = i[0][0].tolist()\n",
        "  element = []\n",
        "  for j in new_i:\n",
        "    element.append(j[0])\n",
        "  new_stim_idx.append(element)"
      ],
      "metadata": {
        "id": "d-LuQ6iwwKBC",
        "outputId": "4f0eee0d-c72f-417c-b211-3cd298df3a21",
        "colab": {
          "base_uri": "https://localhost:8080/",
          "height": 246
        }
      },
      "execution_count": 128,
      "outputs": [
        {
          "output_type": "error",
          "ename": "AttributeError",
          "evalue": "ignored",
          "traceback": [
            "\u001b[0;31m---------------------------------------------------------------------------\u001b[0m",
            "\u001b[0;31mAttributeError\u001b[0m                            Traceback (most recent call last)",
            "\u001b[0;32m<ipython-input-128-05cd23ca5203>\u001b[0m in \u001b[0;36m<cell line: 3>\u001b[0;34m()\u001b[0m\n\u001b[1;32m      2\u001b[0m \u001b[0mnew_stim_idx\u001b[0m \u001b[0;34m=\u001b[0m \u001b[0;34m[\u001b[0m\u001b[0;34m]\u001b[0m\u001b[0;34m\u001b[0m\u001b[0;34m\u001b[0m\u001b[0m\n\u001b[1;32m      3\u001b[0m \u001b[0;32mfor\u001b[0m \u001b[0mi\u001b[0m \u001b[0;32min\u001b[0m \u001b[0mstim_idx\u001b[0m\u001b[0;34m:\u001b[0m\u001b[0;34m\u001b[0m\u001b[0;34m\u001b[0m\u001b[0m\n\u001b[0;32m----> 4\u001b[0;31m   \u001b[0mnew_i\u001b[0m \u001b[0;34m=\u001b[0m \u001b[0mi\u001b[0m\u001b[0;34m[\u001b[0m\u001b[0;36m0\u001b[0m\u001b[0;34m]\u001b[0m\u001b[0;34m[\u001b[0m\u001b[0;36m0\u001b[0m\u001b[0;34m]\u001b[0m\u001b[0;34m.\u001b[0m\u001b[0mtolist\u001b[0m\u001b[0;34m(\u001b[0m\u001b[0;34m)\u001b[0m\u001b[0;34m\u001b[0m\u001b[0;34m\u001b[0m\u001b[0m\n\u001b[0m\u001b[1;32m      5\u001b[0m   \u001b[0melement\u001b[0m \u001b[0;34m=\u001b[0m \u001b[0;34m[\u001b[0m\u001b[0;34m]\u001b[0m\u001b[0;34m\u001b[0m\u001b[0;34m\u001b[0m\u001b[0m\n\u001b[1;32m      6\u001b[0m   \u001b[0;32mfor\u001b[0m \u001b[0mj\u001b[0m \u001b[0;32min\u001b[0m \u001b[0mnew_i\u001b[0m\u001b[0;34m:\u001b[0m\u001b[0;34m\u001b[0m\u001b[0;34m\u001b[0m\u001b[0m\n",
            "\u001b[0;31mAttributeError\u001b[0m: 'str' object has no attribute 'tolist'"
          ]
        }
      ]
    },
    {
      "cell_type": "code",
      "source": [
        "stim_cat = ieeg_.StimulusCategory.values\n",
        "new_stim = []\n",
        "for i in stim_cat:\n",
        "  if 'environment' in i:\n",
        "    new_stim.append('environment')\n",
        "  elif 'nonwords' in i:\n",
        "    new_stim.append('nonwords')\n",
        "  elif 'words' in i:\n",
        "    new_stim.append('words')"
      ],
      "metadata": {
        "id": "W17D3348uzVm"
      },
      "execution_count": null,
      "outputs": []
    },
    {
      "cell_type": "code",
      "source": [
        "ieeg_.head()"
      ],
      "metadata": {
        "id": "klCVQdOPrZvX",
        "outputId": "b5ad6df7-2530-42ea-ce1e-f7201f0a9300",
        "colab": {
          "base_uri": "https://localhost:8080/",
          "height": 206
        }
      },
      "execution_count": 111,
      "outputs": [
        {
          "output_type": "execute_result",
          "data": {
            "text/plain": [
              "         block        ReactionTime       Resp RespCorrect  \\\n",
              "160  [[[[1]]]]  [[[[0.99043604]]]]   [[[No]]]   [[[[1]]]]   \n",
              "161  [[[[1]]]]  [[[[1.30217997]]]]  [[[Yes]]]   [[[[1]]]]   \n",
              "162  [[[[1]]]]  [[[[1.43263021]]]]  [[[Yes]]]   [[[[1]]]]   \n",
              "163  [[[[1]]]]  [[[[1.16073421]]]]  [[[Yes]]]   [[[[1]]]]   \n",
              "164  [[[[1]]]]  [[[[0.84571169]]]]  [[[Yes]]]   [[[[1]]]]   \n",
              "\n",
              "                                    stimulusSounds_idx  \\\n",
              "160                               [[[[3], [7], [15]]]]   \n",
              "161        [[[[16], [7], [14], [13], [9], [11], [6]]]]   \n",
              "162  [[[[17], [15], [13], [5], [9], [10], [7], [6],...   \n",
              "163                              [[[[17], [1], [13]]]]   \n",
              "164        [[[[16], [7], [10], [15], [12], [3], [2]]]]   \n",
              "\n",
              "                                   stimulusSounds_name ProbeCategory  \\\n",
              "160  [[[[(array(['camera_snapping_photos.wav'], dty...     [[[[0]]]]   \n",
              "161  [[[[(array(['typing.wav'], dtype='<U10'), arra...     [[[[1]]]]   \n",
              "162  [[[[(array(['writing_on_paper.wav'], dtype='<U...     [[[[1]]]]   \n",
              "163  [[[[(array(['writing_on_paper.wav'], dtype='<U...     [[[[1]]]]   \n",
              "164  [[[[(array(['typing.wav'], dtype='<U10'), arra...     [[[[1]]]]   \n",
              "\n",
              "    probeSound_idx                   probeSound_name StimulusCategory Trial  \\\n",
              "160     [[[[14]]]]       [[[telephone_dialing.wav]]]              NaN     0   \n",
              "161     [[[[11]]]]              [[[hair_dryer.wav]]]              NaN     1   \n",
              "162      [[[[7]]]]   [[[cutting_with_scissors.wav]]]              NaN     2   \n",
              "163     [[[[13]]]]                  [[[stream.wav]]]              NaN     3   \n",
              "164      [[[[3]]]]  [[[camera_snapping_photos.wav]]]              NaN     4   \n",
              "\n",
              "    Subject  \n",
              "160     D28  \n",
              "161     D28  \n",
              "162     D28  \n",
              "163     D28  \n",
              "164     D28  "
            ],
            "text/html": [
              "\n",
              "  <div id=\"df-5ab7528f-98e8-4ada-83c1-f4d9df8d1353\">\n",
              "    <div class=\"colab-df-container\">\n",
              "      <div>\n",
              "<style scoped>\n",
              "    .dataframe tbody tr th:only-of-type {\n",
              "        vertical-align: middle;\n",
              "    }\n",
              "\n",
              "    .dataframe tbody tr th {\n",
              "        vertical-align: top;\n",
              "    }\n",
              "\n",
              "    .dataframe thead th {\n",
              "        text-align: right;\n",
              "    }\n",
              "</style>\n",
              "<table border=\"1\" class=\"dataframe\">\n",
              "  <thead>\n",
              "    <tr style=\"text-align: right;\">\n",
              "      <th></th>\n",
              "      <th>block</th>\n",
              "      <th>ReactionTime</th>\n",
              "      <th>Resp</th>\n",
              "      <th>RespCorrect</th>\n",
              "      <th>stimulusSounds_idx</th>\n",
              "      <th>stimulusSounds_name</th>\n",
              "      <th>ProbeCategory</th>\n",
              "      <th>probeSound_idx</th>\n",
              "      <th>probeSound_name</th>\n",
              "      <th>StimulusCategory</th>\n",
              "      <th>Trial</th>\n",
              "      <th>Subject</th>\n",
              "    </tr>\n",
              "  </thead>\n",
              "  <tbody>\n",
              "    <tr>\n",
              "      <th>160</th>\n",
              "      <td>[[[[1]]]]</td>\n",
              "      <td>[[[[0.99043604]]]]</td>\n",
              "      <td>[[[No]]]</td>\n",
              "      <td>[[[[1]]]]</td>\n",
              "      <td>[[[[3], [7], [15]]]]</td>\n",
              "      <td>[[[[(array(['camera_snapping_photos.wav'], dty...</td>\n",
              "      <td>[[[[0]]]]</td>\n",
              "      <td>[[[[14]]]]</td>\n",
              "      <td>[[[telephone_dialing.wav]]]</td>\n",
              "      <td>NaN</td>\n",
              "      <td>0</td>\n",
              "      <td>D28</td>\n",
              "    </tr>\n",
              "    <tr>\n",
              "      <th>161</th>\n",
              "      <td>[[[[1]]]]</td>\n",
              "      <td>[[[[1.30217997]]]]</td>\n",
              "      <td>[[[Yes]]]</td>\n",
              "      <td>[[[[1]]]]</td>\n",
              "      <td>[[[[16], [7], [14], [13], [9], [11], [6]]]]</td>\n",
              "      <td>[[[[(array(['typing.wav'], dtype='&lt;U10'), arra...</td>\n",
              "      <td>[[[[1]]]]</td>\n",
              "      <td>[[[[11]]]]</td>\n",
              "      <td>[[[hair_dryer.wav]]]</td>\n",
              "      <td>NaN</td>\n",
              "      <td>1</td>\n",
              "      <td>D28</td>\n",
              "    </tr>\n",
              "    <tr>\n",
              "      <th>162</th>\n",
              "      <td>[[[[1]]]]</td>\n",
              "      <td>[[[[1.43263021]]]]</td>\n",
              "      <td>[[[Yes]]]</td>\n",
              "      <td>[[[[1]]]]</td>\n",
              "      <td>[[[[17], [15], [13], [5], [9], [10], [7], [6],...</td>\n",
              "      <td>[[[[(array(['writing_on_paper.wav'], dtype='&lt;U...</td>\n",
              "      <td>[[[[1]]]]</td>\n",
              "      <td>[[[[7]]]]</td>\n",
              "      <td>[[[cutting_with_scissors.wav]]]</td>\n",
              "      <td>NaN</td>\n",
              "      <td>2</td>\n",
              "      <td>D28</td>\n",
              "    </tr>\n",
              "    <tr>\n",
              "      <th>163</th>\n",
              "      <td>[[[[1]]]]</td>\n",
              "      <td>[[[[1.16073421]]]]</td>\n",
              "      <td>[[[Yes]]]</td>\n",
              "      <td>[[[[1]]]]</td>\n",
              "      <td>[[[[17], [1], [13]]]]</td>\n",
              "      <td>[[[[(array(['writing_on_paper.wav'], dtype='&lt;U...</td>\n",
              "      <td>[[[[1]]]]</td>\n",
              "      <td>[[[[13]]]]</td>\n",
              "      <td>[[[stream.wav]]]</td>\n",
              "      <td>NaN</td>\n",
              "      <td>3</td>\n",
              "      <td>D28</td>\n",
              "    </tr>\n",
              "    <tr>\n",
              "      <th>164</th>\n",
              "      <td>[[[[1]]]]</td>\n",
              "      <td>[[[[0.84571169]]]]</td>\n",
              "      <td>[[[Yes]]]</td>\n",
              "      <td>[[[[1]]]]</td>\n",
              "      <td>[[[[16], [7], [10], [15], [12], [3], [2]]]]</td>\n",
              "      <td>[[[[(array(['typing.wav'], dtype='&lt;U10'), arra...</td>\n",
              "      <td>[[[[1]]]]</td>\n",
              "      <td>[[[[3]]]]</td>\n",
              "      <td>[[[camera_snapping_photos.wav]]]</td>\n",
              "      <td>NaN</td>\n",
              "      <td>4</td>\n",
              "      <td>D28</td>\n",
              "    </tr>\n",
              "  </tbody>\n",
              "</table>\n",
              "</div>\n",
              "      <button class=\"colab-df-convert\" onclick=\"convertToInteractive('df-5ab7528f-98e8-4ada-83c1-f4d9df8d1353')\"\n",
              "              title=\"Convert this dataframe to an interactive table.\"\n",
              "              style=\"display:none;\">\n",
              "        \n",
              "  <svg xmlns=\"http://www.w3.org/2000/svg\" height=\"24px\"viewBox=\"0 0 24 24\"\n",
              "       width=\"24px\">\n",
              "    <path d=\"M0 0h24v24H0V0z\" fill=\"none\"/>\n",
              "    <path d=\"M18.56 5.44l.94 2.06.94-2.06 2.06-.94-2.06-.94-.94-2.06-.94 2.06-2.06.94zm-11 1L8.5 8.5l.94-2.06 2.06-.94-2.06-.94L8.5 2.5l-.94 2.06-2.06.94zm10 10l.94 2.06.94-2.06 2.06-.94-2.06-.94-.94-2.06-.94 2.06-2.06.94z\"/><path d=\"M17.41 7.96l-1.37-1.37c-.4-.4-.92-.59-1.43-.59-.52 0-1.04.2-1.43.59L10.3 9.45l-7.72 7.72c-.78.78-.78 2.05 0 2.83L4 21.41c.39.39.9.59 1.41.59.51 0 1.02-.2 1.41-.59l7.78-7.78 2.81-2.81c.8-.78.8-2.07 0-2.86zM5.41 20L4 18.59l7.72-7.72 1.47 1.35L5.41 20z\"/>\n",
              "  </svg>\n",
              "      </button>\n",
              "      \n",
              "  <style>\n",
              "    .colab-df-container {\n",
              "      display:flex;\n",
              "      flex-wrap:wrap;\n",
              "      gap: 12px;\n",
              "    }\n",
              "\n",
              "    .colab-df-convert {\n",
              "      background-color: #E8F0FE;\n",
              "      border: none;\n",
              "      border-radius: 50%;\n",
              "      cursor: pointer;\n",
              "      display: none;\n",
              "      fill: #1967D2;\n",
              "      height: 32px;\n",
              "      padding: 0 0 0 0;\n",
              "      width: 32px;\n",
              "    }\n",
              "\n",
              "    .colab-df-convert:hover {\n",
              "      background-color: #E2EBFA;\n",
              "      box-shadow: 0px 1px 2px rgba(60, 64, 67, 0.3), 0px 1px 3px 1px rgba(60, 64, 67, 0.15);\n",
              "      fill: #174EA6;\n",
              "    }\n",
              "\n",
              "    [theme=dark] .colab-df-convert {\n",
              "      background-color: #3B4455;\n",
              "      fill: #D2E3FC;\n",
              "    }\n",
              "\n",
              "    [theme=dark] .colab-df-convert:hover {\n",
              "      background-color: #434B5C;\n",
              "      box-shadow: 0px 1px 3px 1px rgba(0, 0, 0, 0.15);\n",
              "      filter: drop-shadow(0px 1px 2px rgba(0, 0, 0, 0.3));\n",
              "      fill: #FFFFFF;\n",
              "    }\n",
              "  </style>\n",
              "\n",
              "      <script>\n",
              "        const buttonEl =\n",
              "          document.querySelector('#df-5ab7528f-98e8-4ada-83c1-f4d9df8d1353 button.colab-df-convert');\n",
              "        buttonEl.style.display =\n",
              "          google.colab.kernel.accessAllowed ? 'block' : 'none';\n",
              "\n",
              "        async function convertToInteractive(key) {\n",
              "          const element = document.querySelector('#df-5ab7528f-98e8-4ada-83c1-f4d9df8d1353');\n",
              "          const dataTable =\n",
              "            await google.colab.kernel.invokeFunction('convertToInteractive',\n",
              "                                                     [key], {});\n",
              "          if (!dataTable) return;\n",
              "\n",
              "          const docLinkHtml = 'Like what you see? Visit the ' +\n",
              "            '<a target=\"_blank\" href=https://colab.research.google.com/notebooks/data_table.ipynb>data table notebook</a>'\n",
              "            + ' to learn more about interactive tables.';\n",
              "          element.innerHTML = '';\n",
              "          dataTable['output_type'] = 'display_data';\n",
              "          await google.colab.output.renderOutput(dataTable, element);\n",
              "          const docLink = document.createElement('div');\n",
              "          docLink.innerHTML = docLinkHtml;\n",
              "          element.appendChild(docLink);\n",
              "        }\n",
              "      </script>\n",
              "    </div>\n",
              "  </div>\n",
              "  "
            ]
          },
          "metadata": {},
          "execution_count": 111
        }
      ]
    },
    {
      "cell_type": "code",
      "source": [
        "ieeg_.StimulusCategory.values[180:210]"
      ],
      "metadata": {
        "id": "FisRITsnu_t7",
        "outputId": "3db10e94-7987-466c-a3db-090526e84c5b",
        "colab": {
          "base_uri": "https://localhost:8080/"
        }
      },
      "execution_count": 116,
      "outputs": [
        {
          "output_type": "execute_result",
          "data": {
            "text/plain": [
              "array([nan, nan, nan, nan, nan, nan, nan, nan, nan, nan, nan, nan, nan,\n",
              "       nan, nan, nan, nan, nan, nan, nan, nan, nan, nan, nan, nan, nan,\n",
              "       nan, nan, nan, nan], dtype=object)"
            ]
          },
          "metadata": {},
          "execution_count": 116
        }
      ]
    },
    {
      "cell_type": "code",
      "source": [],
      "metadata": {
        "id": "jutG_uG2uyGW"
      },
      "execution_count": null,
      "outputs": []
    },
    {
      "cell_type": "markdown",
      "source": [
        "# EEG dataset"
      ],
      "metadata": {
        "id": "df3nNGE2gsJ5"
      }
    },
    {
      "cell_type": "code",
      "source": [
        "subjects = []\n",
        "for i in files:\n",
        "  subjects.append(i[:3])"
      ],
      "metadata": {
        "id": "d8218jDljnpn"
      },
      "execution_count": 40,
      "outputs": []
    },
    {
      "cell_type": "code",
      "source": [
        "columns = []\n",
        "for subject in eeg:\n",
        "  # for each subject\n",
        "  actual = subject['trialInfo'][0][0].dtype.names\n",
        "  for name in actual:\n",
        "    if name not in columns:\n",
        "      columns.append(name)"
      ],
      "metadata": {
        "id": "v1WkEI1thpyC"
      },
      "execution_count": 41,
      "outputs": []
    },
    {
      "cell_type": "code",
      "source": [
        "df_ = pd.DataFrame(columns=columns)\n",
        "df_['Trial'] = np.nan\n",
        "df_['Subject'] = np.nan\n",
        "for subject in eeg:\n",
        "  for trial in range(0, subject['trialInfo'].shape[1]):\n",
        "    # for each trial\n",
        "    values = []\n",
        "    subset = subject['trialInfo'][0][trial]\n",
        "    dtype = subset.dtype.names\n",
        "    for name in columns:\n",
        "      if name in dtype:\n",
        "        values.append(subset[name])\n",
        "      else:\n",
        "        print('check')\n",
        "        values.append(np.nan)\n",
        "    values.append(str(trial))\n",
        "    values.append(subjects[eeg.index(subject)])\n",
        "    df_.loc[len(df_.index)] = values"
      ],
      "metadata": {
        "id": "MKfDSgYNhfmc"
      },
      "execution_count": 42,
      "outputs": []
    },
    {
      "cell_type": "code",
      "source": [
        "eeg = df_.copy()"
      ],
      "metadata": {
        "id": "rHNN0svMif0U"
      },
      "execution_count": 43,
      "outputs": []
    },
    {
      "cell_type": "code",
      "source": [
        "eeg.groupby(['Subject'])['Trial'].count()"
      ],
      "metadata": {
        "colab": {
          "base_uri": "https://localhost:8080/"
        },
        "id": "USSdTDoskujK",
        "outputId": "0ab67b3b-25a8-47c5-d6b2-e670e09646ca"
      },
      "execution_count": 44,
      "outputs": [
        {
          "output_type": "execute_result",
          "data": {
            "text/plain": [
              "Subject\n",
              "E32    216\n",
              "E34    216\n",
              "E35    216\n",
              "E36    216\n",
              "E37    216\n",
              "E38    216\n",
              "E39    216\n",
              "E40    184\n",
              "E41    216\n",
              "E42    216\n",
              "E43    216\n",
              "E44    216\n",
              "E45    216\n",
              "E46    216\n",
              "Name: Trial, dtype: int64"
            ]
          },
          "metadata": {},
          "execution_count": 44
        }
      ]
    },
    {
      "cell_type": "code",
      "source": [
        "# saving eeg file \n",
        "eeg.to_csv(\n",
        "    Path(working_path).joinpath('eeg_envir.csv')\n",
        ")"
      ],
      "metadata": {
        "id": "PlyCOaq7jQFg"
      },
      "execution_count": 45,
      "outputs": []
    },
    {
      "cell_type": "markdown",
      "source": [
        "#Preprocessing of EEG dataset"
      ],
      "metadata": {
        "id": "xWJEpfDOWBX-"
      }
    },
    {
      "cell_type": "code",
      "source": [
        "eeg = pd.read_csv(\n",
        "    working_path.joinpath('eeg_envir.csv')\n",
        "    )"
      ],
      "metadata": {
        "id": "ASN5PhIbjoGY"
      },
      "execution_count": null,
      "outputs": []
    },
    {
      "cell_type": "code",
      "source": [
        "eeg.Subject.unique()"
      ],
      "metadata": {
        "id": "U39iGHv8WEAH",
        "outputId": "b9c054de-b486-49f5-b3f1-a2bf76051826",
        "colab": {
          "base_uri": "https://localhost:8080/"
        }
      },
      "execution_count": 46,
      "outputs": [
        {
          "output_type": "execute_result",
          "data": {
            "text/plain": [
              "array(['E32', 'E34', 'E35', 'E36', 'E37', 'E38', 'E39', 'E40', 'E41',\n",
              "       'E42', 'E43', 'E44', 'E45', 'E46'], dtype=object)"
            ]
          },
          "metadata": {},
          "execution_count": 46
        }
      ]
    },
    {
      "cell_type": "code",
      "source": [
        "len(eeg.Subject.unique())"
      ],
      "metadata": {
        "id": "ExbUkq_-WNf9",
        "outputId": "f2e5b61e-8d80-46aa-d4cb-155b21ca9a42",
        "colab": {
          "base_uri": "https://localhost:8080/"
        }
      },
      "execution_count": 48,
      "outputs": [
        {
          "output_type": "execute_result",
          "data": {
            "text/plain": [
              "14"
            ]
          },
          "metadata": {},
          "execution_count": 48
        }
      ]
    },
    {
      "cell_type": "code",
      "source": [
        "eeg_ = eeg[[\n",
        "    'block', 'StimulusCategory', 'ReactionTime',\n",
        "       'Resp', 'RespCorrect', 'stimulusSounds_idx',\n",
        "       'ProbeCategory', 'probeSound_idx',\n",
        "       'Trial', 'Subject', 'stimulusSounds_name', 'probeSound_name'\n",
        "]]"
      ],
      "metadata": {
        "id": "lWt9sfQIWKF1"
      },
      "execution_count": 49,
      "outputs": []
    },
    {
      "cell_type": "markdown",
      "source": [
        "Getting rid of additional lists containing lists"
      ],
      "metadata": {
        "id": "b-CeaAGuWRAF"
      }
    },
    {
      "cell_type": "code",
      "source": [
        "block = eeg_.block.values\n",
        "new_block = []\n",
        "for i in block:\n",
        "  while type(i) is np.ndarray:\n",
        "    i = i[0]\n",
        "  new_block.append(i)"
      ],
      "metadata": {
        "id": "jg7wxjdxWNiM"
      },
      "execution_count": 50,
      "outputs": []
    },
    {
      "cell_type": "code",
      "source": [
        "stim_cat = eeg_.StimulusCategory.values\n",
        "new_stim = []\n",
        "for i in stim_cat:\n",
        "  if 'environment' in i:\n",
        "    new_stim.append('environment')\n",
        "  elif 'nonwords' in i:\n",
        "    new_stim.append('nonwords')\n",
        "  elif 'words' in i:\n",
        "    new_stim.append('words')"
      ],
      "metadata": {
        "id": "6nxrRdonWNkc"
      },
      "execution_count": 51,
      "outputs": []
    },
    {
      "cell_type": "code",
      "source": [
        "rt = eeg_.ReactionTime.values\n",
        "new_rt = []\n",
        "for i in rt:\n",
        "  while type(i) is np.ndarray:\n",
        "    i = i[0]\n",
        "  new_rt.append(i)"
      ],
      "metadata": {
        "id": "IhSi3WnLWWPV"
      },
      "execution_count": 52,
      "outputs": []
    },
    {
      "cell_type": "code",
      "source": [
        "acc = eeg_.RespCorrect.values\n",
        "new_acc = []\n",
        "for i in acc:\n",
        "  while type(i) is np.ndarray:\n",
        "    i = i[0]\n",
        "  new_acc.append(i)"
      ],
      "metadata": {
        "id": "MuDuNjJUWNmt"
      },
      "execution_count": 53,
      "outputs": []
    },
    {
      "cell_type": "code",
      "source": [
        "resp = eeg_.Resp.values\n",
        "new_resp = []\n",
        "for i in resp:\n",
        "  while type(i) is np.ndarray:\n",
        "    i = i[0]\n",
        "  new_resp.append(i)"
      ],
      "metadata": {
        "id": "-oL5z10jWafF"
      },
      "execution_count": 54,
      "outputs": []
    },
    {
      "cell_type": "code",
      "source": [
        "probe = eeg_.ProbeCategory.values\n",
        "new_probe = []\n",
        "for i in probe:\n",
        "  while type(i) is np.ndarray:\n",
        "    i = i[0]\n",
        "  new_probe.append(i)"
      ],
      "metadata": {
        "id": "M6vWFDx8WddM"
      },
      "execution_count": 55,
      "outputs": []
    },
    {
      "cell_type": "code",
      "source": [
        "probe_idx = eeg_.probeSound_idx.values\n",
        "new_probe_idx = []\n",
        "for i in probe_idx:\n",
        "  while type(i) is np.ndarray:\n",
        "    i = i[0]\n",
        "  new_probe_idx.append(i)"
      ],
      "metadata": {
        "id": "iy2udWp4Wdfb"
      },
      "execution_count": 56,
      "outputs": []
    },
    {
      "cell_type": "code",
      "source": [
        "stim_idx = eeg_.stimulusSounds_idx.values\n",
        "new_stim_idx = []\n",
        "for i in stim_idx:\n",
        "  new_i = i[0][0].tolist()\n",
        "  element = []\n",
        "  for j in new_i:\n",
        "    element.append(j[0])\n",
        "  new_stim_idx.append(element)"
      ],
      "metadata": {
        "id": "KMtTk9VeWdhz"
      },
      "execution_count": 57,
      "outputs": []
    },
    {
      "cell_type": "code",
      "source": [
        "eeg_['block'] = new_block\n",
        "eeg_['StimulusCategory'] = new_stim\n",
        "eeg_['ReactionTime'] = new_rt\n",
        "eeg_['RespCorrect'] = new_acc\n",
        "eeg_['Resp'] = new_resp\n",
        "eeg_['ProbeCategory'] = new_probe\n",
        "eeg_['probeSound_idx'] = new_probe_idx\n",
        "eeg_['stimulusSounds_idx'] = new_stim_idx"
      ],
      "metadata": {
        "id": "k3FOqiJYWhg0",
        "outputId": "a7fd3d88-af38-4800-b9fc-c54bbbc74c7a",
        "colab": {
          "base_uri": "https://localhost:8080/"
        }
      },
      "execution_count": 58,
      "outputs": [
        {
          "output_type": "stream",
          "name": "stderr",
          "text": [
            "<ipython-input-58-ea534a877bb7>:1: SettingWithCopyWarning: \n",
            "A value is trying to be set on a copy of a slice from a DataFrame.\n",
            "Try using .loc[row_indexer,col_indexer] = value instead\n",
            "\n",
            "See the caveats in the documentation: https://pandas.pydata.org/pandas-docs/stable/user_guide/indexing.html#returning-a-view-versus-a-copy\n",
            "  eeg_['block'] = new_block\n",
            "<ipython-input-58-ea534a877bb7>:2: SettingWithCopyWarning: \n",
            "A value is trying to be set on a copy of a slice from a DataFrame.\n",
            "Try using .loc[row_indexer,col_indexer] = value instead\n",
            "\n",
            "See the caveats in the documentation: https://pandas.pydata.org/pandas-docs/stable/user_guide/indexing.html#returning-a-view-versus-a-copy\n",
            "  eeg_['StimulusCategory'] = new_stim\n",
            "<ipython-input-58-ea534a877bb7>:3: SettingWithCopyWarning: \n",
            "A value is trying to be set on a copy of a slice from a DataFrame.\n",
            "Try using .loc[row_indexer,col_indexer] = value instead\n",
            "\n",
            "See the caveats in the documentation: https://pandas.pydata.org/pandas-docs/stable/user_guide/indexing.html#returning-a-view-versus-a-copy\n",
            "  eeg_['ReactionTime'] = new_rt\n",
            "<ipython-input-58-ea534a877bb7>:4: SettingWithCopyWarning: \n",
            "A value is trying to be set on a copy of a slice from a DataFrame.\n",
            "Try using .loc[row_indexer,col_indexer] = value instead\n",
            "\n",
            "See the caveats in the documentation: https://pandas.pydata.org/pandas-docs/stable/user_guide/indexing.html#returning-a-view-versus-a-copy\n",
            "  eeg_['RespCorrect'] = new_acc\n",
            "<ipython-input-58-ea534a877bb7>:5: SettingWithCopyWarning: \n",
            "A value is trying to be set on a copy of a slice from a DataFrame.\n",
            "Try using .loc[row_indexer,col_indexer] = value instead\n",
            "\n",
            "See the caveats in the documentation: https://pandas.pydata.org/pandas-docs/stable/user_guide/indexing.html#returning-a-view-versus-a-copy\n",
            "  eeg_['Resp'] = new_resp\n",
            "<ipython-input-58-ea534a877bb7>:6: SettingWithCopyWarning: \n",
            "A value is trying to be set on a copy of a slice from a DataFrame.\n",
            "Try using .loc[row_indexer,col_indexer] = value instead\n",
            "\n",
            "See the caveats in the documentation: https://pandas.pydata.org/pandas-docs/stable/user_guide/indexing.html#returning-a-view-versus-a-copy\n",
            "  eeg_['ProbeCategory'] = new_probe\n",
            "<ipython-input-58-ea534a877bb7>:7: SettingWithCopyWarning: \n",
            "A value is trying to be set on a copy of a slice from a DataFrame.\n",
            "Try using .loc[row_indexer,col_indexer] = value instead\n",
            "\n",
            "See the caveats in the documentation: https://pandas.pydata.org/pandas-docs/stable/user_guide/indexing.html#returning-a-view-versus-a-copy\n",
            "  eeg_['probeSound_idx'] = new_probe_idx\n",
            "<ipython-input-58-ea534a877bb7>:8: SettingWithCopyWarning: \n",
            "A value is trying to be set on a copy of a slice from a DataFrame.\n",
            "Try using .loc[row_indexer,col_indexer] = value instead\n",
            "\n",
            "See the caveats in the documentation: https://pandas.pydata.org/pandas-docs/stable/user_guide/indexing.html#returning-a-view-versus-a-copy\n",
            "  eeg_['stimulusSounds_idx'] = new_stim_idx\n"
          ]
        }
      ]
    },
    {
      "cell_type": "code",
      "source": [
        "length = []\n",
        "for i in eeg_.stimulusSounds_idx.values:\n",
        "  if len(i) not in length:\n",
        "    length.append(len(i))\n",
        "print(length)"
      ],
      "metadata": {
        "id": "G4_mN3dAWj1V",
        "outputId": "cad76065-dc80-4a1c-f424-b0e47ef29be6",
        "colab": {
          "base_uri": "https://localhost:8080/"
        }
      },
      "execution_count": 59,
      "outputs": [
        {
          "output_type": "stream",
          "name": "stdout",
          "text": [
            "[3, 7, 9, 5]\n"
          ]
        }
      ]
    },
    {
      "cell_type": "code",
      "source": [
        "length = []\n",
        "for i in eeg_.stimulusSounds_idx.values:\n",
        "  length.append(len(i))\n",
        "eeg_['Length'] = length"
      ],
      "metadata": {
        "id": "OrtdvxaPWj98",
        "outputId": "fdaa7a84-2752-49b0-9bb8-02888ed70d1d",
        "colab": {
          "base_uri": "https://localhost:8080/"
        }
      },
      "execution_count": 60,
      "outputs": [
        {
          "output_type": "stream",
          "name": "stderr",
          "text": [
            "<ipython-input-60-d50296b58efb>:4: SettingWithCopyWarning: \n",
            "A value is trying to be set on a copy of a slice from a DataFrame.\n",
            "Try using .loc[row_indexer,col_indexer] = value instead\n",
            "\n",
            "See the caveats in the documentation: https://pandas.pydata.org/pandas-docs/stable/user_guide/indexing.html#returning-a-view-versus-a-copy\n",
            "  eeg_['Length'] = length\n"
          ]
        }
      ]
    },
    {
      "cell_type": "code",
      "source": [
        "words = []\n",
        "nonwords = []\n",
        "environment = []\n",
        "for i in eeg_.StimulusCategory.values:\n",
        "  if i == 'nonwords':\n",
        "    words.append(0)\n",
        "    nonwords.append(1)\n",
        "    environment.append(0)\n",
        "  elif i == 'words':\n",
        "    words.append(1)\n",
        "    nonwords.append(0)\n",
        "    environment.append(0)\n",
        "  elif i == 'environment':\n",
        "    words.append(0)\n",
        "    nonwords.append(0)\n",
        "    environment.append(1)"
      ],
      "metadata": {
        "id": "msUsBDxGWlPE"
      },
      "execution_count": 61,
      "outputs": []
    },
    {
      "cell_type": "code",
      "source": [
        "eeg_['Words'] = words\n",
        "eeg_['Nonwords'] = nonwords\n",
        "eeg_['Environment'] = environment"
      ],
      "metadata": {
        "id": "VpBlzVF0Wmkc",
        "outputId": "720525ce-729d-4deb-c2bb-2f0da3ec081a",
        "colab": {
          "base_uri": "https://localhost:8080/"
        }
      },
      "execution_count": 62,
      "outputs": [
        {
          "output_type": "stream",
          "name": "stderr",
          "text": [
            "<ipython-input-62-3c31c9b484ea>:1: SettingWithCopyWarning: \n",
            "A value is trying to be set on a copy of a slice from a DataFrame.\n",
            "Try using .loc[row_indexer,col_indexer] = value instead\n",
            "\n",
            "See the caveats in the documentation: https://pandas.pydata.org/pandas-docs/stable/user_guide/indexing.html#returning-a-view-versus-a-copy\n",
            "  eeg_['Words'] = words\n",
            "<ipython-input-62-3c31c9b484ea>:2: SettingWithCopyWarning: \n",
            "A value is trying to be set on a copy of a slice from a DataFrame.\n",
            "Try using .loc[row_indexer,col_indexer] = value instead\n",
            "\n",
            "See the caveats in the documentation: https://pandas.pydata.org/pandas-docs/stable/user_guide/indexing.html#returning-a-view-versus-a-copy\n",
            "  eeg_['Nonwords'] = nonwords\n",
            "<ipython-input-62-3c31c9b484ea>:3: SettingWithCopyWarning: \n",
            "A value is trying to be set on a copy of a slice from a DataFrame.\n",
            "Try using .loc[row_indexer,col_indexer] = value instead\n",
            "\n",
            "See the caveats in the documentation: https://pandas.pydata.org/pandas-docs/stable/user_guide/indexing.html#returning-a-view-versus-a-copy\n",
            "  eeg_['Environment'] = environment\n"
          ]
        }
      ]
    },
    {
      "cell_type": "code",
      "source": [
        "probe_names = eeg_.probeSound_name.values\n",
        "new_probe_names = []\n",
        "for name in probe_names:\n",
        "  name = name[0][0][0]\n",
        "  new_probe_names.append(name)"
      ],
      "metadata": {
        "id": "-8aj5vtHWqjT"
      },
      "execution_count": 63,
      "outputs": []
    },
    {
      "cell_type": "code",
      "source": [
        "stimulus_names = eeg_.stimulusSounds_name.values\n",
        "new_stim_names = []\n",
        "for name in stimulus_names:\n",
        "  name = name[0][0]\n",
        "  new_name = []\n",
        "  for j in name:\n",
        "    new_name.append(j[0][0])\n",
        "  new_stim_names.append(new_name)"
      ],
      "metadata": {
        "id": "fdDosPjjdgTa"
      },
      "execution_count": 64,
      "outputs": []
    },
    {
      "cell_type": "code",
      "source": [
        "new_new_stim_names = []\n",
        "for element in new_stim_names:\n",
        "  new_element = []\n",
        "  for name in element:\n",
        "    new_element.append(name[:-4])\n",
        "  new_new_stim_names.append(new_element)"
      ],
      "metadata": {
        "id": "b7dytnJRjHLH"
      },
      "execution_count": 65,
      "outputs": []
    },
    {
      "cell_type": "code",
      "source": [
        "new_new_probe_names = []\n",
        "for i in new_probe_names:\n",
        "  new_new_probe_names.append(i[:-4])"
      ],
      "metadata": {
        "id": "iP9FYg-vjNwH"
      },
      "execution_count": 66,
      "outputs": []
    },
    {
      "cell_type": "code",
      "source": [
        "eeg_['stimulusSounds_name'] = new_new_stim_names\n",
        "eeg_['probeSound_name'] = new_new_probe_names"
      ],
      "metadata": {
        "id": "a-lsps3_WuCj",
        "outputId": "22e739f4-f0ce-46a7-930e-5ef0df663e75",
        "colab": {
          "base_uri": "https://localhost:8080/"
        }
      },
      "execution_count": 67,
      "outputs": [
        {
          "output_type": "stream",
          "name": "stderr",
          "text": [
            "<ipython-input-67-a747f04adf7e>:1: SettingWithCopyWarning: \n",
            "A value is trying to be set on a copy of a slice from a DataFrame.\n",
            "Try using .loc[row_indexer,col_indexer] = value instead\n",
            "\n",
            "See the caveats in the documentation: https://pandas.pydata.org/pandas-docs/stable/user_guide/indexing.html#returning-a-view-versus-a-copy\n",
            "  eeg_['stimulusSounds_name'] = new_new_stim_names\n",
            "<ipython-input-67-a747f04adf7e>:2: SettingWithCopyWarning: \n",
            "A value is trying to be set on a copy of a slice from a DataFrame.\n",
            "Try using .loc[row_indexer,col_indexer] = value instead\n",
            "\n",
            "See the caveats in the documentation: https://pandas.pydata.org/pandas-docs/stable/user_guide/indexing.html#returning-a-view-versus-a-copy\n",
            "  eeg_['probeSound_name'] = new_new_probe_names\n"
          ]
        }
      ]
    },
    {
      "cell_type": "markdown",
      "source": [
        "**Adding frequency and imaginabilty scores**"
      ],
      "metadata": {
        "id": "1o0b794bWx6j"
      }
    },
    {
      "cell_type": "code",
      "source": [
        "category = eeg_.StimulusCategory.values.tolist()\n",
        "probe = eeg_.probeSound_name.values\n",
        "stimuli = eeg_.stimulusSounds_name.values\n",
        "standard = all_stim[all_stim['Category'] == 'word']['Stimulus'].values.tolist()\n",
        "standard_freq = all_stim[all_stim['Category'] == 'word']['Frequency'].values.tolist()\n",
        "standard_imag = all_stim[all_stim['Category'] == 'word']['Imaginability'].values.tolist()\n",
        "\n",
        "stim_freq = []\n",
        "stim_imag = []\n",
        "probe_freq = []\n",
        "probe_imag = []\n",
        "\n",
        "for i in range(0, eeg_.shape[0]):\n",
        "  if category[i] == 'words':\n",
        "    for name in standard:\n",
        "      if probe[i] == name:\n",
        "        freq = standard_freq[standard.index(name)]\n",
        "        imag = standard_imag[standard.index(name)]\n",
        "        probe_freq.append(freq)\n",
        "        probe_imag.append(imag)\n",
        "\n",
        "    values_freq = []\n",
        "    values_imag = []      \n",
        "    for lis in stimuli[i]:\n",
        "      for name in standard:\n",
        "        if lis == name:\n",
        "          freq = standard_freq[standard.index(name)]\n",
        "          imag = standard_imag[standard.index(name)]\n",
        "          values_freq.append(freq)\n",
        "          values_imag.append(imag)\n",
        "    stim_freq.append(values_freq)\n",
        "    stim_imag.append(values_imag)\n",
        "  \n",
        "  else:\n",
        "    stim_freq.append(np.nan)\n",
        "    stim_imag.append(np.nan)\n",
        "    probe_freq.append(np.nan)\n",
        "    probe_imag.append(np.nan)"
      ],
      "metadata": {
        "id": "HFlzddZvWwbE"
      },
      "execution_count": 68,
      "outputs": []
    },
    {
      "cell_type": "code",
      "source": [
        "print(eeg_.shape)\n",
        "print(len(stim_freq))\n",
        "print(len(stim_imag))\n",
        "print(len(probe_freq))\n",
        "print(len(probe_imag))"
      ],
      "metadata": {
        "id": "jztwIV7BW0Mz",
        "outputId": "b0ac4f09-2141-4505-fe94-f73f1e9cf7c2",
        "colab": {
          "base_uri": "https://localhost:8080/"
        }
      },
      "execution_count": 69,
      "outputs": [
        {
          "output_type": "stream",
          "name": "stdout",
          "text": [
            "(2992, 16)\n",
            "2992\n",
            "2992\n",
            "2992\n",
            "2992\n"
          ]
        }
      ]
    },
    {
      "cell_type": "code",
      "source": [
        "eeg_['ProbeFreq'] = probe_freq\n",
        "eeg_['ProbeImag'] = probe_imag\n",
        "eeg_['StimFreq'] = stim_freq\n",
        "eeg_['StimImag'] = stim_imag"
      ],
      "metadata": {
        "id": "uNiFGOeVW1lF",
        "outputId": "e3a8dcdf-e8bf-4304-8bd6-0be56f23a179",
        "colab": {
          "base_uri": "https://localhost:8080/"
        }
      },
      "execution_count": 70,
      "outputs": [
        {
          "output_type": "stream",
          "name": "stderr",
          "text": [
            "<ipython-input-70-c1691c97d5de>:1: SettingWithCopyWarning: \n",
            "A value is trying to be set on a copy of a slice from a DataFrame.\n",
            "Try using .loc[row_indexer,col_indexer] = value instead\n",
            "\n",
            "See the caveats in the documentation: https://pandas.pydata.org/pandas-docs/stable/user_guide/indexing.html#returning-a-view-versus-a-copy\n",
            "  eeg_['ProbeFreq'] = probe_freq\n",
            "<ipython-input-70-c1691c97d5de>:2: SettingWithCopyWarning: \n",
            "A value is trying to be set on a copy of a slice from a DataFrame.\n",
            "Try using .loc[row_indexer,col_indexer] = value instead\n",
            "\n",
            "See the caveats in the documentation: https://pandas.pydata.org/pandas-docs/stable/user_guide/indexing.html#returning-a-view-versus-a-copy\n",
            "  eeg_['ProbeImag'] = probe_imag\n",
            "<ipython-input-70-c1691c97d5de>:3: SettingWithCopyWarning: \n",
            "A value is trying to be set on a copy of a slice from a DataFrame.\n",
            "Try using .loc[row_indexer,col_indexer] = value instead\n",
            "\n",
            "See the caveats in the documentation: https://pandas.pydata.org/pandas-docs/stable/user_guide/indexing.html#returning-a-view-versus-a-copy\n",
            "  eeg_['StimFreq'] = stim_freq\n",
            "<ipython-input-70-c1691c97d5de>:4: SettingWithCopyWarning: \n",
            "A value is trying to be set on a copy of a slice from a DataFrame.\n",
            "Try using .loc[row_indexer,col_indexer] = value instead\n",
            "\n",
            "See the caveats in the documentation: https://pandas.pydata.org/pandas-docs/stable/user_guide/indexing.html#returning-a-view-versus-a-copy\n",
            "  eeg_['StimImag'] = stim_imag\n"
          ]
        }
      ]
    },
    {
      "cell_type": "code",
      "source": [
        "# saving the file\n",
        "eeg_.to_csv(\n",
        "    Path(working_path).joinpath('eeg_envir_processed.csv')\n",
        ")"
      ],
      "metadata": {
        "id": "I7HqA22bl9X4"
      },
      "execution_count": null,
      "outputs": []
    }
  ]
}