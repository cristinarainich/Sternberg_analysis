{
  "nbformat": 4,
  "nbformat_minor": 0,
  "metadata": {
    "colab": {
      "name": "Environmental. Dataframes.ipynb",
      "provenance": [],
      "toc_visible": true,
      "authorship_tag": "ABX9TyMMC84WnXCHFhTbANK/FeBj",
      "include_colab_link": true
    },
    "kernelspec": {
      "name": "python3",
      "display_name": "Python 3"
    },
    "language_info": {
      "name": "python"
    }
  },
  "cells": [
    {
      "cell_type": "markdown",
      "metadata": {
        "id": "view-in-github",
        "colab_type": "text"
      },
      "source": [
        "<a href=\"https://colab.research.google.com/github/cristinarainich/Sternberg_analysis/blob/main/Environmental.%20Dataframes.ipynb\" target=\"_parent\"><img src=\"https://colab.research.google.com/assets/colab-badge.svg\" alt=\"Open In Colab\"/></a>"
      ]
    },
    {
      "cell_type": "markdown",
      "source": [
        "## Imports"
      ],
      "metadata": {
        "id": "YpvNzPralrdX"
      }
    },
    {
      "cell_type": "code",
      "execution_count": 1,
      "metadata": {
        "id": "3h5n2BsXgd_A"
      },
      "outputs": [],
      "source": [
        "import pandas as pd\n",
        "import numpy as np\n",
        "import pylab as pl\n",
        "import scipy.io\n",
        "from pathlib import Path"
      ]
    },
    {
      "cell_type": "code",
      "source": [
        "from google.colab import drive\n",
        "drive.mount('/content/gdrive')"
      ],
      "metadata": {
        "colab": {
          "base_uri": "https://localhost:8080/"
        },
        "id": "I5Vp26ukgrGq",
        "outputId": "82f1c19a-3e31-4ffa-c45d-4de6df34376b"
      },
      "execution_count": 2,
      "outputs": [
        {
          "output_type": "stream",
          "name": "stdout",
          "text": [
            "Mounted at /content/gdrive\n"
          ]
        }
      ]
    },
    {
      "cell_type": "code",
      "source": [
        "working_path = Path('/content/gdrive/MyDrive/CoganLab/Environmental')"
      ],
      "metadata": {
        "id": "XSxCJCVjgtfi"
      },
      "execution_count": 3,
      "outputs": []
    },
    {
      "cell_type": "code",
      "source": [
        "!ls /content/gdrive/MyDrive/CoganLab/Environmental"
      ],
      "metadata": {
        "id": "Ean4VEuNJXzv",
        "outputId": "7bfe9cc3-90c5-4237-e327-2c30cba421b0",
        "colab": {
          "base_uri": "https://localhost:8080/"
        }
      },
      "execution_count": 4,
      "outputs": [
        {
          "output_type": "stream",
          "name": "stdout",
          "text": [
            " D29_Block_1_TrialData.mat\t 'D77_Block_1_TrialData (1).mat'\n",
            " D64_Block_1_TrialData.mat\t  eeg_envir.csv\n",
            " D65_Block_1_TrialData_1.mat\t  Environmental_Subject.mat\n",
            " D65_Block_1_TrialData.mat\t  healthy\n",
            "'D71_Block_1_TrialData (1).mat'   ieeg_envir.csv\n",
            "'D73_Block_1_TrialData (2).mat'   stimuli\n"
          ]
        }
      ]
    },
    {
      "cell_type": "code",
      "source": [
        "# Patients\n",
        "ieeg = scipy.io.loadmat(\n",
        "    working_path.joinpath('Environmental_Subject.mat')\n",
        "    )\n",
        "\n",
        "subj1 = scipy.io.loadmat(\n",
        "    working_path.joinpath('D65_Block_1_TrialData.mat')\n",
        "    )\n",
        "\n",
        "subj65 = scipy.io.loadmat(\n",
        "    working_path.joinpath('D65_Block_1_TrialData_1.mat')\n",
        "    )\n",
        "\n",
        "subj64 = scipy.io.loadmat(\n",
        "    working_path.joinpath('D64_Block_1_TrialData.mat')\n",
        ")\n",
        "subj73 = scipy.io.loadmat(\n",
        "    working_path.joinpath('D73_Block_1_TrialData (2).mat')\n",
        "    )\n",
        "subj77 = scipy.io.loadmat(\n",
        "    working_path.joinpath('D77_Block_1_TrialData (1).mat')\n",
        "    )"
      ],
      "metadata": {
        "id": "F_VMS1EkgvK5"
      },
      "execution_count": 5,
      "outputs": []
    },
    {
      "cell_type": "code",
      "source": [
        "working_path = Path('/content/gdrive/MyDrive/CoganLab/Environmental/healthy')"
      ],
      "metadata": {
        "id": "O0-zz-NsewOV"
      },
      "execution_count": 6,
      "outputs": []
    },
    {
      "cell_type": "code",
      "source": [
        "# healthy\n",
        "files = [] \n",
        "begin = 'E'\n",
        "end = '_Block_1_TrialData.mat'\n",
        "files.append(begin + '32' + end)\n",
        "for i in range(34, 47):\n",
        "  files.append(begin + str(i) + end)"
      ],
      "metadata": {
        "id": "-d_XluCJXidr"
      },
      "execution_count": 7,
      "outputs": []
    },
    {
      "cell_type": "code",
      "source": [
        "files[0]"
      ],
      "metadata": {
        "colab": {
          "base_uri": "https://localhost:8080/",
          "height": 35
        },
        "id": "SIN8V10Ie6gM",
        "outputId": "441cff81-62a2-4635-bc81-5f6647ddf75c"
      },
      "execution_count": 8,
      "outputs": [
        {
          "output_type": "execute_result",
          "data": {
            "text/plain": [
              "'E32_Block_1_TrialData.mat'"
            ],
            "application/vnd.google.colaboratory.intrinsic+json": {
              "type": "string"
            }
          },
          "metadata": {},
          "execution_count": 8
        }
      ]
    },
    {
      "cell_type": "code",
      "source": [
        "eeg = []\n",
        "for i in files:\n",
        "  subset = scipy.io.loadmat(\n",
        "      working_path.joinpath(i)\n",
        "  )\n",
        "  eeg.append(subset)"
      ],
      "metadata": {
        "id": "vOupvS0MYjbt"
      },
      "execution_count": 9,
      "outputs": []
    },
    {
      "cell_type": "markdown",
      "source": [
        "#Working with stimuli"
      ],
      "metadata": {
        "id": "4TXoMEgdW9cj"
      }
    },
    {
      "cell_type": "code",
      "source": [
        "working_path = Path('/content/gdrive/MyDrive/CoganLab/Environmental/stimuli')"
      ],
      "metadata": {
        "id": "9N5rDPdvW_Nb"
      },
      "execution_count": 144,
      "outputs": []
    },
    {
      "cell_type": "code",
      "source": [
        "!ls /content/gdrive/MyDrive/CoganLab/Environmental/stimuli"
      ],
      "metadata": {
        "id": "JpqQTpHkXBcz",
        "outputId": "f08ea301-3d04-4893-dd55-dd021b90e6c6",
        "colab": {
          "base_uri": "https://localhost:8080/"
        }
      },
      "execution_count": 145,
      "outputs": [
        {
          "output_type": "stream",
          "name": "stdout",
          "text": [
            "imaginability.txt\t proposed_nw.mat\t proposed_w3.mat  untrn_w.mat\n",
            "proposed_nw3_global.mat  proposed_w2.mat\t proposed_w.mat\n",
            "proposed_nw3.mat\t proposed_w3_global.mat  untrn_nw.mat\n"
          ]
        }
      ]
    },
    {
      "cell_type": "code",
      "source": [
        "stimuli_words = scipy.io.loadmat(\n",
        "    working_path.joinpath('proposed_w3.mat')\n",
        ")"
      ],
      "metadata": {
        "id": "xeu87X-LXBfK"
      },
      "execution_count": 146,
      "outputs": []
    },
    {
      "cell_type": "code",
      "source": [
        "columns = stimuli_words['proposed_w'].dtype.names\n",
        "stim_words = pd.DataFrame(columns=columns)\n",
        "for i in range(0, stimuli_words['proposed_w'].shape[1]):\n",
        "  values = []\n",
        "  subset = stimuli_words['proposed_w'][0][i]\n",
        "  for name in columns:\n",
        "    values.append(subset[name])\n",
        "  stim_words.loc[len(stim_words.index)] = values"
      ],
      "metadata": {
        "id": "R39wSkRRXBhl"
      },
      "execution_count": 147,
      "outputs": []
    },
    {
      "cell_type": "code",
      "source": [
        "stimuli = []\n",
        "for i in stim_words.Word.values:\n",
        "  stimuli.append(i[0])\n",
        "\n",
        "freq = []\n",
        "for i in stim_words.SFreq.values:\n",
        "  freq.append(i[0][0])\n",
        "\n",
        "imagine = []\n",
        "for i in stim_words.imaginability.values:\n",
        "  imagine.append(i[0][0])\n",
        "\n",
        "category = []\n",
        "for i in range(0, 24):\n",
        "  category.append('word')"
      ],
      "metadata": {
        "id": "Wjp4axIDXBjy"
      },
      "execution_count": 148,
      "outputs": []
    },
    {
      "cell_type": "code",
      "source": [
        "columns = ['Category', 'Stimulus', 'Frequency', 'Imaginability']\n",
        "words = pd.DataFrame(columns=columns)\n",
        "words['Category'] = category\n",
        "words['Stimulus'] = stimuli\n",
        "words['Frequency'] = freq\n",
        "words['Imaginability'] = imagine"
      ],
      "metadata": {
        "id": "BEYWzNOLXGhC"
      },
      "execution_count": 149,
      "outputs": []
    },
    {
      "cell_type": "code",
      "source": [
        "stimuli_nonwords = scipy.io.loadmat(\n",
        "    working_path.joinpath('proposed_nw3.mat')\n",
        ")"
      ],
      "metadata": {
        "id": "7JwhTUOnXHwC"
      },
      "execution_count": 150,
      "outputs": []
    },
    {
      "cell_type": "code",
      "source": [
        "columns = stimuli_nonwords['proposed_nw'].dtype.names\n",
        "stim_nonwords = pd.DataFrame(columns=columns)\n",
        "for i in range(0, stimuli_nonwords['proposed_nw'].shape[1]):\n",
        "  values = []\n",
        "  subset = stimuli_nonwords['proposed_nw'][0][i]\n",
        "  for name in columns:\n",
        "    values.append(subset[name])\n",
        "  stim_nonwords.loc[len(stim_nonwords.index)] = values"
      ],
      "metadata": {
        "id": "S1RxZF_BXI8K"
      },
      "execution_count": 151,
      "outputs": []
    },
    {
      "cell_type": "code",
      "source": [
        "stimuli = []\n",
        "for i in stim_nonwords.Word.values:\n",
        "  stimuli.append(i[0])\n",
        "\n",
        "freq = []\n",
        "for i in stim_nonwords.SFreq.values:\n",
        "  freq.append(i[0][0])\n",
        "\n",
        "category = []\n",
        "for i in range(0, 24):\n",
        "  category.append('nonword')"
      ],
      "metadata": {
        "id": "xdlJwCTfXI-6"
      },
      "execution_count": 152,
      "outputs": []
    },
    {
      "cell_type": "code",
      "source": [
        "columns = ['Category', 'Stimulus', 'Frequency', 'Imaginability']\n",
        "nonwords = pd.DataFrame(columns=columns)\n",
        "nonwords['Category'] = category\n",
        "nonwords['Stimulus'] = stimuli\n",
        "nonwords['Frequency'] = freq\n",
        "nonwords['Imaginability'] = np.nan"
      ],
      "metadata": {
        "id": "QGVe-GMOXMFi"
      },
      "execution_count": 153,
      "outputs": []
    },
    {
      "cell_type": "code",
      "source": [
        "all_stim = pd.concat([words, nonwords])"
      ],
      "metadata": {
        "id": "79WXJ8YbXNvi"
      },
      "execution_count": 154,
      "outputs": []
    },
    {
      "cell_type": "markdown",
      "source": [
        "# iEEG dataset"
      ],
      "metadata": {
        "id": "HWwi_enRmivH"
      }
    },
    {
      "cell_type": "code",
      "source": [
        "data_ieeg = ieeg['Subject']\n",
        "print('Number of subjects in EEG dataset is', data_ieeg.shape[1])"
      ],
      "metadata": {
        "colab": {
          "base_uri": "https://localhost:8080/"
        },
        "id": "dCpYgP4ZJxcy",
        "outputId": "6cb76283-1f23-421f-da01-04d37306bf2b"
      },
      "execution_count": null,
      "outputs": [
        {
          "output_type": "stream",
          "name": "stdout",
          "text": [
            "Number of subjects in EEG dataset is 19\n"
          ]
        }
      ]
    },
    {
      "cell_type": "code",
      "source": [
        "subjects_ieeg = [] # subject numbers\n",
        "for i in data_ieeg['Name'][0]:\n",
        "  subjects_ieeg.append(i[0])\n",
        "print(subjects_ieeg)"
      ],
      "metadata": {
        "id": "JjFdOE5WJyIR",
        "colab": {
          "base_uri": "https://localhost:8080/"
        },
        "outputId": "8c05fcfa-b3d8-4045-ecf9-f8be80a73859"
      },
      "execution_count": null,
      "outputs": [
        {
          "output_type": "stream",
          "name": "stdout",
          "text": [
            "['D27', 'D28', 'D30', 'D31', 'D32', 'D35', 'D37', 'D38', 'D39', 'D41', 'D42', 'D47', 'D53', 'D54', 'D55', 'D57', 'D63', 'D69', 'D71']\n"
          ]
        }
      ]
    },
    {
      "cell_type": "code",
      "source": [
        "columns = []\n",
        "for i in range(0, data_ieeg.shape[1]):\n",
        "  actual = data_ieeg[0][i]['trialInfo'][0][0].dtype.names\n",
        "  for name in actual:\n",
        "    if name not in columns:\n",
        "      columns.append(name)"
      ],
      "metadata": {
        "id": "czxi7jh-wS7V"
      },
      "execution_count": null,
      "outputs": []
    },
    {
      "cell_type": "code",
      "source": [
        "def get_to_df(data):\n",
        "  df = pd.DataFrame(columns=columns)\n",
        "  df['Trial'] = np.nan\n",
        "  df['Subject'] = np.nan\n",
        "\n",
        "  for i in range(0, data.shape[1]):\n",
        "    # for each subject\n",
        "    subset = data[0][i]\n",
        "    subject = subset['Name'][0]\n",
        "    print(subset['Task'])\n",
        "    print(subject)\n",
        "    for trial in range(0, subset['trialInfo'].shape[1]):\n",
        "      # for each trial\n",
        "      sub = subset['trialInfo'][0][trial]\n",
        "      dtype = sub.dtype.names\n",
        "      values = []\n",
        "      for name in columns:\n",
        "        if name in dtype:\n",
        "          values.append(sub[name])\n",
        "        else:\n",
        "          values.append(np.nan)\n",
        "      values.append(str(trial)) # adding a trial number\n",
        "      values.append(subject)\n",
        "      df.loc[len(df.index)] = values\n",
        "  return df"
      ],
      "metadata": {
        "id": "WKEnfX2zmrDX"
      },
      "execution_count": null,
      "outputs": []
    },
    {
      "cell_type": "code",
      "source": [
        "ieeg = get_to_df(data_ieeg)"
      ],
      "metadata": {
        "colab": {
          "base_uri": "https://localhost:8080/"
        },
        "id": "lgJnrW6Ru58L",
        "outputId": "e0c2e876-1890-4a4b-dcc6-1021fd442720"
      },
      "execution_count": null,
      "outputs": [
        {
          "output_type": "stream",
          "name": "stdout",
          "text": [
            "['Environmental_Sternberg']\n",
            "D27\n",
            "['Environmental_Sternberg']\n",
            "D28\n",
            "['Environmental_Sternberg']\n",
            "D30\n",
            "['Environmental_Sternberg']\n",
            "D31\n",
            "['Environmental_Sternberg']\n",
            "D32\n",
            "['Environmental_Sternberg']\n",
            "D35\n",
            "['Environmental_Sternberg']\n",
            "D37\n",
            "['Environmental_Sternberg']\n",
            "D38\n",
            "['Environmental_Sternberg']\n",
            "D39\n",
            "['Environmental_Sternberg']\n",
            "D41\n",
            "['Environmental_Sternberg']\n",
            "D42\n",
            "['Environmental_Sternberg']\n",
            "D47\n",
            "['Environmental_Sternberg']\n",
            "D53\n",
            "['Environmental_Sternberg']\n",
            "D54\n",
            "['Environmental_Sternberg']\n",
            "D55\n",
            "['Environmental_Sternberg']\n",
            "D57\n",
            "['Environmental_Sternberg']\n",
            "D63\n",
            "['Environmental_Sternberg']\n",
            "D69\n",
            "[]\n",
            "D71\n"
          ]
        }
      ]
    },
    {
      "cell_type": "code",
      "source": [
        "ieeg.groupby(['Subject'])['Trial'].count()"
      ],
      "metadata": {
        "id": "u7wopW06Kz2X",
        "outputId": "52b7f37f-55c4-45d1-a853-5f6e2e97139e",
        "colab": {
          "base_uri": "https://localhost:8080/"
        }
      },
      "execution_count": null,
      "outputs": [
        {
          "output_type": "execute_result",
          "data": {
            "text/plain": [
              "Subject\n",
              "D27    160\n",
              "D28    120\n",
              "D30    168\n",
              "D31    168\n",
              "D32    168\n",
              "D35    168\n",
              "D37    168\n",
              "D38    160\n",
              "D39    168\n",
              "D41    168\n",
              "D42    168\n",
              "D47    168\n",
              "D53    168\n",
              "D54    168\n",
              "D55    168\n",
              "D57    168\n",
              "D63    168\n",
              "D69    168\n",
              "D71    168\n",
              "Name: Trial, dtype: int64"
            ]
          },
          "metadata": {},
          "execution_count": 10
        }
      ]
    },
    {
      "cell_type": "code",
      "source": [
        "# adding subjects D64\n",
        "df_64 = pd.DataFrame(columns=columns)\n",
        "df_64['Trial'] = np.nan\n",
        "df_64['Subject'] = np.nan\n",
        "for trial in range(0, subj2['trialInfo'].shape[1]):\n",
        "  # for each trial\n",
        "  values = []\n",
        "  subset = subj2['trialInfo'][0][trial]\n",
        "  dtype = subset.dtype.names\n",
        "  for name in columns:\n",
        "    if name in dtype:\n",
        "      values.append(subset[name])\n",
        "    else:\n",
        "      values.append(np.nan)\n",
        "  values.append(str(trial)) # adding a trial number\n",
        "  values.append('D64')\n",
        "  df_64.loc[len(df_64.index)] = values"
      ],
      "metadata": {
        "id": "yfyxCD_o5aSp"
      },
      "execution_count": null,
      "outputs": []
    },
    {
      "cell_type": "code",
      "source": [
        "# adding subjects D65\n",
        "df_65 = pd.DataFrame(columns=columns)\n",
        "df_65['Trial'] = np.nan\n",
        "df_65['Subject'] = np.nan\n",
        "for trial in range(0, subj1['trialInfo'].shape[1]):\n",
        "  # for each trial\n",
        "  values = []\n",
        "  subset = subj2['trialInfo'][0][trial]\n",
        "  dtype = subset.dtype.names\n",
        "  for name in columns:\n",
        "    if name in dtype:\n",
        "      values.append(subset[name])\n",
        "    else:\n",
        "      values.append(np.nan)\n",
        "  values.append(str(trial)) # adding a trial number\n",
        "  values.append('D65')\n",
        "  df_65.loc[len(df_65.index)] = values\n",
        "  i = 96\n",
        "for trial in range(0, subj1_1['trialInfo'].shape[1]):\n",
        "  # for each trial\n",
        "  values = []\n",
        "  subset = subj2['trialInfo'][0][trial]\n",
        "  dtype = subset.dtype.names\n",
        "  for name in columns:\n",
        "    if name in dtype:\n",
        "      values.append(subset[name])\n",
        "    else:\n",
        "      values.append(np.nan)\n",
        "  values.append(str(i)) # adding a trial number\n",
        "  values.append('D65')\n",
        "  i += 1\n",
        "  df_65.loc[len(df_65.index)] = values"
      ],
      "metadata": {
        "id": "cUsYed4q7Y4k"
      },
      "execution_count": null,
      "outputs": []
    },
    {
      "cell_type": "code",
      "source": [
        "ieeg = pd.concat([ieeg, df_64])\n",
        "ieeg = pd.concat([ieeg, df_65])"
      ],
      "metadata": {
        "id": "6Zhiczksm_Oa"
      },
      "execution_count": null,
      "outputs": []
    },
    {
      "cell_type": "code",
      "source": [
        "# adding subject 73\n",
        "df_73 = pd.DataFrame(columns=columns)\n",
        "df_73['Trial'] = np.nan\n",
        "df_73['Subject'] = np.nan\n",
        "for trial in range(0, subj73['trialInfo'].shape[1]):\n",
        "  # for each trial\n",
        "  values = []\n",
        "  subset = subj73['trialInfo'][0][trial]\n",
        "  dtype = subset.dtype.names\n",
        "  for name in columns:\n",
        "    if name in dtype:\n",
        "      values.append(subset[name])\n",
        "    else:\n",
        "      values.append(np.nan)\n",
        "  values.append(str(trial)) # adding a trial number\n",
        "  values.append('D73')\n",
        "  df_73.loc[len(df_73.index)] = values"
      ],
      "metadata": {
        "id": "RFJAOBZ5Jijr"
      },
      "execution_count": null,
      "outputs": []
    },
    {
      "cell_type": "code",
      "source": [
        "# adding subject 77\n",
        "df_77 = pd.DataFrame(columns=columns)\n",
        "df_77['Trial'] = np.nan\n",
        "df_77['Subject'] = np.nan\n",
        "for trial in range(0, subj77['trialInfo'].shape[1]):\n",
        "  # for each trial\n",
        "  values = []\n",
        "  subset = subj77['trialInfo'][0][trial]\n",
        "  dtype = subset.dtype.names\n",
        "  for name in columns:\n",
        "    if name in dtype:\n",
        "      values.append(subset[name])\n",
        "    else:\n",
        "      values.append(np.nan)\n",
        "  values.append(str(trial)) # adding a trial number\n",
        "  values.append('D77')\n",
        "  df_77.loc[len(df_77.index)] = values"
      ],
      "metadata": {
        "id": "A2K9bUd_Jkl1"
      },
      "execution_count": null,
      "outputs": []
    },
    {
      "cell_type": "code",
      "source": [
        "ieeg = pd.concat([ieeg, df_73])\n",
        "ieeg = pd.concat([ieeg, df_77])"
      ],
      "metadata": {
        "id": "rJXPZt0wJ6yh"
      },
      "execution_count": null,
      "outputs": []
    },
    {
      "cell_type": "code",
      "source": [
        "ieeg.groupby(['Subject'])['Trial'].count()"
      ],
      "metadata": {
        "colab": {
          "base_uri": "https://localhost:8080/"
        },
        "id": "bKrqsbG0m5Oo",
        "outputId": "93d3ad7e-de0e-47a9-84f0-3d81f377c2c2"
      },
      "execution_count": null,
      "outputs": [
        {
          "output_type": "execute_result",
          "data": {
            "text/plain": [
              "Subject\n",
              "D27    160\n",
              "D28    120\n",
              "D30    168\n",
              "D31    168\n",
              "D32    168\n",
              "D35    168\n",
              "D37    168\n",
              "D38    160\n",
              "D39    168\n",
              "D41    168\n",
              "D42    168\n",
              "D47    168\n",
              "D53    168\n",
              "D54    168\n",
              "D55    168\n",
              "D57    168\n",
              "D63    168\n",
              "D64    168\n",
              "D65    168\n",
              "D69    168\n",
              "D71    168\n",
              "D73    168\n",
              "D77    168\n",
              "Name: Trial, dtype: int64"
            ]
          },
          "metadata": {},
          "execution_count": 19
        }
      ]
    },
    {
      "cell_type": "markdown",
      "source": [
        "# EEG dataset"
      ],
      "metadata": {
        "id": "df3nNGE2gsJ5"
      }
    },
    {
      "cell_type": "code",
      "source": [
        "subjects = []\n",
        "for i in files:\n",
        "  subjects.append(i[:3])"
      ],
      "metadata": {
        "id": "d8218jDljnpn"
      },
      "execution_count": 10,
      "outputs": []
    },
    {
      "cell_type": "code",
      "source": [
        "columns = []\n",
        "for subject in eeg:\n",
        "  # for each subject\n",
        "  actual = subject['trialInfo'][0][0].dtype.names\n",
        "  for name in actual:\n",
        "    if name not in columns:\n",
        "      columns.append(name)"
      ],
      "metadata": {
        "id": "v1WkEI1thpyC"
      },
      "execution_count": 11,
      "outputs": []
    },
    {
      "cell_type": "code",
      "source": [
        "df_ = pd.DataFrame(columns=columns)\n",
        "df_['Trial'] = np.nan\n",
        "df_['Subject'] = np.nan\n",
        "for subject in eeg:\n",
        "  for trial in range(0, subject['trialInfo'].shape[1]):\n",
        "    # for each trial\n",
        "    values = []\n",
        "    subset = subject['trialInfo'][0][trial]\n",
        "    dtype = subset.dtype.names\n",
        "    for name in columns:\n",
        "      if name in dtype:\n",
        "        values.append(subset[name])\n",
        "      else:\n",
        "        print('check')\n",
        "        values.append(np.nan)\n",
        "    values.append(str(trial))\n",
        "    values.append(subjects[eeg.index(subject)])\n",
        "    df_.loc[len(df_.index)] = values"
      ],
      "metadata": {
        "id": "MKfDSgYNhfmc"
      },
      "execution_count": 12,
      "outputs": []
    },
    {
      "cell_type": "code",
      "source": [
        "eeg = df_.copy()"
      ],
      "metadata": {
        "id": "rHNN0svMif0U"
      },
      "execution_count": 13,
      "outputs": []
    },
    {
      "cell_type": "code",
      "source": [
        "eeg.groupby(['Subject'])['Trial'].count()"
      ],
      "metadata": {
        "colab": {
          "base_uri": "https://localhost:8080/"
        },
        "id": "USSdTDoskujK",
        "outputId": "ada3a602-5d2b-4fa6-b1d3-b3fb4f3543df"
      },
      "execution_count": 14,
      "outputs": [
        {
          "output_type": "execute_result",
          "data": {
            "text/plain": [
              "Subject\n",
              "E32    216\n",
              "E34    216\n",
              "E35    216\n",
              "E36    216\n",
              "E37    216\n",
              "E38    216\n",
              "E39    216\n",
              "E40    184\n",
              "E41    216\n",
              "E42    216\n",
              "E43    216\n",
              "E44    216\n",
              "E45    216\n",
              "E46    216\n",
              "Name: Trial, dtype: int64"
            ]
          },
          "metadata": {},
          "execution_count": 14
        }
      ]
    },
    {
      "cell_type": "markdown",
      "source": [
        "#Preprocessing EEG"
      ],
      "metadata": {
        "id": "xWJEpfDOWBX-"
      }
    },
    {
      "cell_type": "code",
      "source": [
        "eeg.Subject.unique()"
      ],
      "metadata": {
        "id": "U39iGHv8WEAH",
        "outputId": "437e3591-516c-4374-8990-3e5162a9ac20",
        "colab": {
          "base_uri": "https://localhost:8080/"
        }
      },
      "execution_count": 15,
      "outputs": [
        {
          "output_type": "execute_result",
          "data": {
            "text/plain": [
              "array(['E32', 'E34', 'E35', 'E36', 'E37', 'E38', 'E39', 'E40', 'E41',\n",
              "       'E42', 'E43', 'E44', 'E45', 'E46'], dtype=object)"
            ]
          },
          "metadata": {},
          "execution_count": 15
        }
      ]
    },
    {
      "cell_type": "code",
      "source": [
        "eeg_ = eeg[[\n",
        "    'block', 'StimulusCategory', 'ReactionTime',\n",
        "       'Resp', 'RespCorrect', 'stimulusSounds_idx',\n",
        "       'ProbeCategory', 'probeSound_idx',\n",
        "       'Trial', 'Subject', 'stimulusSounds_name', 'probeSound_name'\n",
        "]]"
      ],
      "metadata": {
        "id": "lWt9sfQIWKF1"
      },
      "execution_count": 72,
      "outputs": []
    },
    {
      "cell_type": "code",
      "source": [
        "len(eeg.Subject.unique())"
      ],
      "metadata": {
        "id": "ExbUkq_-WNf9",
        "outputId": "d2e59810-0290-4df8-aabc-043581fc481a",
        "colab": {
          "base_uri": "https://localhost:8080/"
        }
      },
      "execution_count": 17,
      "outputs": [
        {
          "output_type": "execute_result",
          "data": {
            "text/plain": [
              "14"
            ]
          },
          "metadata": {},
          "execution_count": 17
        }
      ]
    },
    {
      "cell_type": "markdown",
      "source": [
        "Getting rid of additional lists containing lists"
      ],
      "metadata": {
        "id": "b-CeaAGuWRAF"
      }
    },
    {
      "cell_type": "code",
      "source": [
        "block = eeg_.block.values\n",
        "new_block = []\n",
        "for i in block:\n",
        "  while type(i) is np.ndarray:\n",
        "    i = i[0]\n",
        "  new_block.append(i)"
      ],
      "metadata": {
        "id": "jg7wxjdxWNiM"
      },
      "execution_count": 74,
      "outputs": []
    },
    {
      "cell_type": "code",
      "source": [
        "stim_cat = eeg_.StimulusCategory.values\n",
        "new_stim = []\n",
        "for i in stim_cat:\n",
        "  if 'environment' in i:\n",
        "    new_stim.append('environment')\n",
        "  elif 'nonwords' in i:\n",
        "    new_stim.append('nonwords')\n",
        "  elif 'words' in i:\n",
        "    new_stim.append('words')"
      ],
      "metadata": {
        "id": "6nxrRdonWNkc"
      },
      "execution_count": 75,
      "outputs": []
    },
    {
      "cell_type": "code",
      "source": [
        "rt = eeg_.ReactionTime.values\n",
        "new_rt = []\n",
        "for i in rt:\n",
        "  while type(i) is np.ndarray:\n",
        "    i = i[0]\n",
        "  new_rt.append(i)"
      ],
      "metadata": {
        "id": "IhSi3WnLWWPV"
      },
      "execution_count": 76,
      "outputs": []
    },
    {
      "cell_type": "code",
      "source": [
        "acc = eeg_.RespCorrect.values\n",
        "new_acc = []\n",
        "for i in acc:\n",
        "  while type(i) is np.ndarray:\n",
        "    i = i[0]\n",
        "  new_acc.append(i)"
      ],
      "metadata": {
        "id": "MuDuNjJUWNmt"
      },
      "execution_count": 77,
      "outputs": []
    },
    {
      "cell_type": "code",
      "source": [
        "resp = eeg_.Resp.values\n",
        "new_resp = []\n",
        "for i in resp:\n",
        "  while type(i) is np.ndarray:\n",
        "    i = i[0]\n",
        "  new_resp.append(i)"
      ],
      "metadata": {
        "id": "-oL5z10jWafF"
      },
      "execution_count": 78,
      "outputs": []
    },
    {
      "cell_type": "code",
      "source": [
        "probe = eeg_.ProbeCategory.values\n",
        "new_probe = []\n",
        "for i in probe:\n",
        "  while type(i) is np.ndarray:\n",
        "    i = i[0]\n",
        "  new_probe.append(i)"
      ],
      "metadata": {
        "id": "M6vWFDx8WddM"
      },
      "execution_count": 79,
      "outputs": []
    },
    {
      "cell_type": "code",
      "source": [
        "probe_idx = eeg_.probeSound_idx.values\n",
        "new_probe_idx = []\n",
        "for i in probe_idx:\n",
        "  while type(i) is np.ndarray:\n",
        "    i = i[0]\n",
        "  new_probe_idx.append(i)"
      ],
      "metadata": {
        "id": "iy2udWp4Wdfb"
      },
      "execution_count": 80,
      "outputs": []
    },
    {
      "cell_type": "code",
      "source": [
        "stim_idx = eeg_.stimulusSounds_idx.values\n",
        "new_stim_idx = []\n",
        "for i in stim_idx:\n",
        "  new_i = i[0][0].tolist()\n",
        "  element = []\n",
        "  for j in new_i:\n",
        "    element.append(j[0])\n",
        "  new_stim_idx.append(element)"
      ],
      "metadata": {
        "id": "KMtTk9VeWdhz"
      },
      "execution_count": 100,
      "outputs": []
    },
    {
      "cell_type": "code",
      "source": [
        "eeg_['block'] = new_block\n",
        "eeg_['StimulusCategory'] = new_stim\n",
        "eeg_['ReactionTime'] = new_rt\n",
        "eeg_['RespCorrect'] = new_acc\n",
        "eeg_['Resp'] = new_resp\n",
        "eeg_['ProbeCategory'] = new_probe\n",
        "eeg_['probeSound_idx'] = new_probe_idx\n",
        "eeg_['stimulusSounds_idx'] = new_stim_idx"
      ],
      "metadata": {
        "id": "k3FOqiJYWhg0",
        "outputId": "1afc3d0a-b58f-4f0a-c901-48b133c1da02",
        "colab": {
          "base_uri": "https://localhost:8080/"
        }
      },
      "execution_count": 102,
      "outputs": [
        {
          "output_type": "stream",
          "name": "stderr",
          "text": [
            "<ipython-input-102-ea534a877bb7>:1: SettingWithCopyWarning: \n",
            "A value is trying to be set on a copy of a slice from a DataFrame.\n",
            "Try using .loc[row_indexer,col_indexer] = value instead\n",
            "\n",
            "See the caveats in the documentation: https://pandas.pydata.org/pandas-docs/stable/user_guide/indexing.html#returning-a-view-versus-a-copy\n",
            "  eeg_['block'] = new_block\n",
            "<ipython-input-102-ea534a877bb7>:2: SettingWithCopyWarning: \n",
            "A value is trying to be set on a copy of a slice from a DataFrame.\n",
            "Try using .loc[row_indexer,col_indexer] = value instead\n",
            "\n",
            "See the caveats in the documentation: https://pandas.pydata.org/pandas-docs/stable/user_guide/indexing.html#returning-a-view-versus-a-copy\n",
            "  eeg_['StimulusCategory'] = new_stim\n",
            "<ipython-input-102-ea534a877bb7>:3: SettingWithCopyWarning: \n",
            "A value is trying to be set on a copy of a slice from a DataFrame.\n",
            "Try using .loc[row_indexer,col_indexer] = value instead\n",
            "\n",
            "See the caveats in the documentation: https://pandas.pydata.org/pandas-docs/stable/user_guide/indexing.html#returning-a-view-versus-a-copy\n",
            "  eeg_['ReactionTime'] = new_rt\n",
            "<ipython-input-102-ea534a877bb7>:4: SettingWithCopyWarning: \n",
            "A value is trying to be set on a copy of a slice from a DataFrame.\n",
            "Try using .loc[row_indexer,col_indexer] = value instead\n",
            "\n",
            "See the caveats in the documentation: https://pandas.pydata.org/pandas-docs/stable/user_guide/indexing.html#returning-a-view-versus-a-copy\n",
            "  eeg_['RespCorrect'] = new_acc\n",
            "<ipython-input-102-ea534a877bb7>:5: SettingWithCopyWarning: \n",
            "A value is trying to be set on a copy of a slice from a DataFrame.\n",
            "Try using .loc[row_indexer,col_indexer] = value instead\n",
            "\n",
            "See the caveats in the documentation: https://pandas.pydata.org/pandas-docs/stable/user_guide/indexing.html#returning-a-view-versus-a-copy\n",
            "  eeg_['Resp'] = new_resp\n",
            "<ipython-input-102-ea534a877bb7>:6: SettingWithCopyWarning: \n",
            "A value is trying to be set on a copy of a slice from a DataFrame.\n",
            "Try using .loc[row_indexer,col_indexer] = value instead\n",
            "\n",
            "See the caveats in the documentation: https://pandas.pydata.org/pandas-docs/stable/user_guide/indexing.html#returning-a-view-versus-a-copy\n",
            "  eeg_['ProbeCategory'] = new_probe\n",
            "<ipython-input-102-ea534a877bb7>:7: SettingWithCopyWarning: \n",
            "A value is trying to be set on a copy of a slice from a DataFrame.\n",
            "Try using .loc[row_indexer,col_indexer] = value instead\n",
            "\n",
            "See the caveats in the documentation: https://pandas.pydata.org/pandas-docs/stable/user_guide/indexing.html#returning-a-view-versus-a-copy\n",
            "  eeg_['probeSound_idx'] = new_probe_idx\n",
            "<ipython-input-102-ea534a877bb7>:8: SettingWithCopyWarning: \n",
            "A value is trying to be set on a copy of a slice from a DataFrame.\n",
            "Try using .loc[row_indexer,col_indexer] = value instead\n",
            "\n",
            "See the caveats in the documentation: https://pandas.pydata.org/pandas-docs/stable/user_guide/indexing.html#returning-a-view-versus-a-copy\n",
            "  eeg_['stimulusSounds_idx'] = new_stim_idx\n"
          ]
        }
      ]
    },
    {
      "cell_type": "code",
      "source": [
        "length = []\n",
        "for i in eeg_.stimulusSounds_idx.values:\n",
        "  if len(i) not in length:\n",
        "    length.append(len(i))\n",
        "print(length)"
      ],
      "metadata": {
        "id": "G4_mN3dAWj1V",
        "outputId": "fc05a143-f8ef-4997-b959-ab18c26ca63a",
        "colab": {
          "base_uri": "https://localhost:8080/"
        }
      },
      "execution_count": 104,
      "outputs": [
        {
          "output_type": "stream",
          "name": "stdout",
          "text": [
            "[3, 7, 9, 5]\n"
          ]
        }
      ]
    },
    {
      "cell_type": "code",
      "source": [
        "length = []\n",
        "for i in eeg_.stimulusSounds_idx.values:\n",
        "  length.append(len(i))\n",
        "eeg_['Length'] = length"
      ],
      "metadata": {
        "id": "OrtdvxaPWj98",
        "outputId": "a4074bdf-a6ca-4f86-fc08-22b942c78e05",
        "colab": {
          "base_uri": "https://localhost:8080/"
        }
      },
      "execution_count": 105,
      "outputs": [
        {
          "output_type": "stream",
          "name": "stderr",
          "text": [
            "<ipython-input-105-d50296b58efb>:4: SettingWithCopyWarning: \n",
            "A value is trying to be set on a copy of a slice from a DataFrame.\n",
            "Try using .loc[row_indexer,col_indexer] = value instead\n",
            "\n",
            "See the caveats in the documentation: https://pandas.pydata.org/pandas-docs/stable/user_guide/indexing.html#returning-a-view-versus-a-copy\n",
            "  eeg_['Length'] = length\n"
          ]
        }
      ]
    },
    {
      "cell_type": "code",
      "source": [
        "words = []\n",
        "nonwords = []\n",
        "environment = []\n",
        "for i in eeg_.StimulusCategory.values:\n",
        "  if i == 'nonwords':\n",
        "    words.append(0)\n",
        "    nonwords.append(1)\n",
        "    environment.append(0)\n",
        "  elif i == 'words':\n",
        "    words.append(1)\n",
        "    nonwords.append(0)\n",
        "    environment.append(0)\n",
        "  elif i == 'environment':\n",
        "    words.append(0)\n",
        "    nonwords.append(0)\n",
        "    environment.append(1)"
      ],
      "metadata": {
        "id": "msUsBDxGWlPE"
      },
      "execution_count": 106,
      "outputs": []
    },
    {
      "cell_type": "code",
      "source": [
        "eeg_['Words'] = words\n",
        "eeg_['Nonwords'] = nonwords\n",
        "eeg_['Environment'] = environment"
      ],
      "metadata": {
        "id": "VpBlzVF0Wmkc",
        "outputId": "463841a8-2672-4621-94e7-ea133b860908",
        "colab": {
          "base_uri": "https://localhost:8080/"
        }
      },
      "execution_count": 107,
      "outputs": [
        {
          "output_type": "stream",
          "name": "stderr",
          "text": [
            "<ipython-input-107-3c31c9b484ea>:1: SettingWithCopyWarning: \n",
            "A value is trying to be set on a copy of a slice from a DataFrame.\n",
            "Try using .loc[row_indexer,col_indexer] = value instead\n",
            "\n",
            "See the caveats in the documentation: https://pandas.pydata.org/pandas-docs/stable/user_guide/indexing.html#returning-a-view-versus-a-copy\n",
            "  eeg_['Words'] = words\n",
            "<ipython-input-107-3c31c9b484ea>:2: SettingWithCopyWarning: \n",
            "A value is trying to be set on a copy of a slice from a DataFrame.\n",
            "Try using .loc[row_indexer,col_indexer] = value instead\n",
            "\n",
            "See the caveats in the documentation: https://pandas.pydata.org/pandas-docs/stable/user_guide/indexing.html#returning-a-view-versus-a-copy\n",
            "  eeg_['Nonwords'] = nonwords\n",
            "<ipython-input-107-3c31c9b484ea>:3: SettingWithCopyWarning: \n",
            "A value is trying to be set on a copy of a slice from a DataFrame.\n",
            "Try using .loc[row_indexer,col_indexer] = value instead\n",
            "\n",
            "See the caveats in the documentation: https://pandas.pydata.org/pandas-docs/stable/user_guide/indexing.html#returning-a-view-versus-a-copy\n",
            "  eeg_['Environment'] = environment\n"
          ]
        }
      ]
    },
    {
      "cell_type": "code",
      "source": [
        "probe_names = eeg_.probeSound_name.values\n",
        "new_probe_names = []\n",
        "for name in probe_names:\n",
        "  name = name[0][0][0]\n",
        "  new_probe_names.append(name)"
      ],
      "metadata": {
        "id": "-8aj5vtHWqjT"
      },
      "execution_count": 130,
      "outputs": []
    },
    {
      "cell_type": "code",
      "source": [
        "stimulus_names = eeg_.stimulusSounds_name.values\n",
        "new_stim_names = []\n",
        "for name in stimulus_names:\n",
        "  name = name[0][0]\n",
        "  new_name = []\n",
        "  for j in name:\n",
        "    new_name.append(j[0][0])\n",
        "  new_stim_names.append(new_name)"
      ],
      "metadata": {
        "id": "fdDosPjjdgTa"
      },
      "execution_count": 140,
      "outputs": []
    },
    {
      "cell_type": "code",
      "source": [
        "new_new_stim_names = []\n",
        "for element in new_stim_names:\n",
        "  new_element = []\n",
        "  for name in element:\n",
        "    new_element.append(name[:-4])\n",
        "  new_new_stim_names.append(new_element)"
      ],
      "metadata": {
        "id": "b7dytnJRjHLH"
      },
      "execution_count": 195,
      "outputs": []
    },
    {
      "cell_type": "code",
      "source": [
        "new_new_probe_names = []\n",
        "for i in new_probe_names:\n",
        "  new_new_probe_names.append(i[:-4])"
      ],
      "metadata": {
        "id": "iP9FYg-vjNwH"
      },
      "execution_count": 192,
      "outputs": []
    },
    {
      "cell_type": "code",
      "source": [
        "eeg_['stimulusSounds_name'] = new_new_stim_names\n",
        "eeg_['probeSound_name'] = new_new_probe_names"
      ],
      "metadata": {
        "id": "a-lsps3_WuCj",
        "outputId": "0da4c00b-bd0b-46e2-8206-966e587f1be9",
        "colab": {
          "base_uri": "https://localhost:8080/"
        }
      },
      "execution_count": 197,
      "outputs": [
        {
          "output_type": "stream",
          "name": "stderr",
          "text": [
            "<ipython-input-197-a747f04adf7e>:1: SettingWithCopyWarning: \n",
            "A value is trying to be set on a copy of a slice from a DataFrame.\n",
            "Try using .loc[row_indexer,col_indexer] = value instead\n",
            "\n",
            "See the caveats in the documentation: https://pandas.pydata.org/pandas-docs/stable/user_guide/indexing.html#returning-a-view-versus-a-copy\n",
            "  eeg_['stimulusSounds_name'] = new_new_stim_names\n",
            "<ipython-input-197-a747f04adf7e>:2: SettingWithCopyWarning: \n",
            "A value is trying to be set on a copy of a slice from a DataFrame.\n",
            "Try using .loc[row_indexer,col_indexer] = value instead\n",
            "\n",
            "See the caveats in the documentation: https://pandas.pydata.org/pandas-docs/stable/user_guide/indexing.html#returning-a-view-versus-a-copy\n",
            "  eeg_['probeSound_name'] = new_new_probe_names\n"
          ]
        }
      ]
    },
    {
      "cell_type": "markdown",
      "source": [
        "**Adding frequency and imaginabilty scores**"
      ],
      "metadata": {
        "id": "1o0b794bWx6j"
      }
    },
    {
      "cell_type": "code",
      "source": [
        "category = eeg_.StimulusCategory.values.tolist()\n",
        "probe = eeg_.probeSound_name.values\n",
        "stimuli = eeg_.stimulusSounds_name.values\n",
        "standard = all_stim[all_stim['Category'] == 'word']['Stimulus'].values.tolist()\n",
        "standard_freq = all_stim[all_stim['Category'] == 'word']['Frequency'].values.tolist()\n",
        "standard_imag = all_stim[all_stim['Category'] == 'word']['Imaginability'].values.tolist()\n",
        "\n",
        "stim_freq = []\n",
        "stim_imag = []\n",
        "probe_freq = []\n",
        "probe_imag = []\n",
        "\n",
        "for i in range(0, eeg_.shape[0]):\n",
        "  if category[i] == 'words':\n",
        "    for name in standard:\n",
        "      if probe[i] == name:\n",
        "        freq = standard_freq[standard.index(name)]\n",
        "        imag = standard_imag[standard.index(name)]\n",
        "        probe_freq.append(freq)\n",
        "        probe_imag.append(imag)\n",
        "\n",
        "    values_freq = []\n",
        "    values_imag = []      \n",
        "    for lis in stimuli[i]:\n",
        "      for name in standard:\n",
        "        if lis == name:\n",
        "          freq = standard_freq[standard.index(name)]\n",
        "          imag = standard_imag[standard.index(name)]\n",
        "          values_freq.append(freq)\n",
        "          values_imag.append(imag)\n",
        "    stim_freq.append(values_freq)\n",
        "    stim_imag.append(values_imag)\n",
        "  \n",
        "  else:\n",
        "    stim_freq.append(np.nan)\n",
        "    stim_imag.append(np.nan)\n",
        "    probe_freq.append(np.nan)\n",
        "    probe_imag.append(np.nan)"
      ],
      "metadata": {
        "id": "HFlzddZvWwbE"
      },
      "execution_count": 209,
      "outputs": []
    },
    {
      "cell_type": "code",
      "source": [
        "print(eeg_.shape)\n",
        "print(len(stim_freq))\n",
        "print(len(stim_imag))\n",
        "print(len(probe_freq))\n",
        "print(len(probe_imag))"
      ],
      "metadata": {
        "id": "jztwIV7BW0Mz",
        "outputId": "38a82945-30b0-44e2-fc02-1b4a7a5558a8",
        "colab": {
          "base_uri": "https://localhost:8080/"
        }
      },
      "execution_count": 210,
      "outputs": [
        {
          "output_type": "stream",
          "name": "stdout",
          "text": [
            "(2992, 16)\n",
            "2992\n",
            "2992\n",
            "2992\n",
            "2992\n"
          ]
        }
      ]
    },
    {
      "cell_type": "code",
      "source": [
        "eeg_['ProbeFreq'] = probe_freq\n",
        "eeg_['ProbeImag'] = probe_imag\n",
        "eeg_['StimFreq'] = stim_freq\n",
        "eeg_['StimImag'] = stim_imag"
      ],
      "metadata": {
        "id": "uNiFGOeVW1lF",
        "outputId": "6868e1e4-7ae4-422d-a731-e4decb43b7d9",
        "colab": {
          "base_uri": "https://localhost:8080/"
        }
      },
      "execution_count": 211,
      "outputs": [
        {
          "output_type": "stream",
          "name": "stderr",
          "text": [
            "<ipython-input-211-c1691c97d5de>:1: SettingWithCopyWarning: \n",
            "A value is trying to be set on a copy of a slice from a DataFrame.\n",
            "Try using .loc[row_indexer,col_indexer] = value instead\n",
            "\n",
            "See the caveats in the documentation: https://pandas.pydata.org/pandas-docs/stable/user_guide/indexing.html#returning-a-view-versus-a-copy\n",
            "  eeg_['ProbeFreq'] = probe_freq\n",
            "<ipython-input-211-c1691c97d5de>:2: SettingWithCopyWarning: \n",
            "A value is trying to be set on a copy of a slice from a DataFrame.\n",
            "Try using .loc[row_indexer,col_indexer] = value instead\n",
            "\n",
            "See the caveats in the documentation: https://pandas.pydata.org/pandas-docs/stable/user_guide/indexing.html#returning-a-view-versus-a-copy\n",
            "  eeg_['ProbeImag'] = probe_imag\n",
            "<ipython-input-211-c1691c97d5de>:3: SettingWithCopyWarning: \n",
            "A value is trying to be set on a copy of a slice from a DataFrame.\n",
            "Try using .loc[row_indexer,col_indexer] = value instead\n",
            "\n",
            "See the caveats in the documentation: https://pandas.pydata.org/pandas-docs/stable/user_guide/indexing.html#returning-a-view-versus-a-copy\n",
            "  eeg_['StimFreq'] = stim_freq\n",
            "<ipython-input-211-c1691c97d5de>:4: SettingWithCopyWarning: \n",
            "A value is trying to be set on a copy of a slice from a DataFrame.\n",
            "Try using .loc[row_indexer,col_indexer] = value instead\n",
            "\n",
            "See the caveats in the documentation: https://pandas.pydata.org/pandas-docs/stable/user_guide/indexing.html#returning-a-view-versus-a-copy\n",
            "  eeg_['StimImag'] = stim_imag\n"
          ]
        }
      ]
    },
    {
      "cell_type": "markdown",
      "source": [
        "# Saving files"
      ],
      "metadata": {
        "id": "Of1M-DAPkUah"
      }
    },
    {
      "cell_type": "code",
      "source": [
        "working_path = "
      ],
      "metadata": {
        "colab": {
          "base_uri": "https://localhost:8080/"
        },
        "id": "-R9ewgY8lIc8",
        "outputId": "50286a51-dd5c-4659-d43e-d580f6e581b5"
      },
      "execution_count": 213,
      "outputs": [
        {
          "output_type": "execute_result",
          "data": {
            "text/plain": [
              "PosixPath('/content/gdrive/MyDrive/CoganLab/Environmental/stimuli')"
            ]
          },
          "metadata": {},
          "execution_count": 213
        }
      ]
    },
    {
      "cell_type": "code",
      "source": [
        "eeg.to_csv(\n",
        "    Path(working_path).joinpath('eeg_envir.csv')\n",
        ")"
      ],
      "metadata": {
        "id": "cF56EQyrkVfO"
      },
      "execution_count": null,
      "outputs": []
    },
    {
      "cell_type": "code",
      "source": [
        "ieeg.to_csv(\n",
        "    Path(working_path).joinpath('ieeg_envir.csv')\n",
        ")"
      ],
      "metadata": {
        "id": "U0Ofc31Dc-VY"
      },
      "execution_count": null,
      "outputs": []
    },
    {
      "cell_type": "code",
      "source": [],
      "metadata": {
        "id": "sR4jUigHdBYW"
      },
      "execution_count": null,
      "outputs": []
    }
  ]
}