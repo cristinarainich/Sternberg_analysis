{
  "nbformat": 4,
  "nbformat_minor": 0,
  "metadata": {
    "colab": {
      "name": "Environmental. Dataframes.ipynb",
      "provenance": [],
      "toc_visible": true,
      "authorship_tag": "ABX9TyNohQgmDutWbYxKzkwdAu4K",
      "include_colab_link": true
    },
    "kernelspec": {
      "name": "python3",
      "display_name": "Python 3"
    },
    "language_info": {
      "name": "python"
    }
  },
  "cells": [
    {
      "cell_type": "markdown",
      "metadata": {
        "id": "view-in-github",
        "colab_type": "text"
      },
      "source": [
        "<a href=\"https://colab.research.google.com/github/cristinarainich/Sternberg_analysis/blob/main/Environmental.%20Dataframes.ipynb\" target=\"_parent\"><img src=\"https://colab.research.google.com/assets/colab-badge.svg\" alt=\"Open In Colab\"/></a>"
      ]
    },
    {
      "cell_type": "markdown",
      "source": [
        "## Imports"
      ],
      "metadata": {
        "id": "YpvNzPralrdX"
      }
    },
    {
      "cell_type": "markdown",
      "source": [
        "Updated 17/05 12:59"
      ],
      "metadata": {
        "id": "fRRNc9hozjsq"
      }
    },
    {
      "cell_type": "code",
      "execution_count": 165,
      "metadata": {
        "id": "3h5n2BsXgd_A"
      },
      "outputs": [],
      "source": [
        "import pandas as pd\n",
        "import numpy as np\n",
        "import pylab as pl\n",
        "import scipy.io\n",
        "from pathlib import Path"
      ]
    },
    {
      "cell_type": "code",
      "source": [
        "from google.colab import drive\n",
        "drive.mount('/content/gdrive')"
      ],
      "metadata": {
        "colab": {
          "base_uri": "https://localhost:8080/"
        },
        "id": "I5Vp26ukgrGq",
        "outputId": "b387ff3c-c31c-4ea7-929a-50a05c1d02e6"
      },
      "execution_count": 1,
      "outputs": [
        {
          "output_type": "stream",
          "name": "stdout",
          "text": [
            "Mounted at /content/gdrive\n"
          ]
        }
      ]
    },
    {
      "cell_type": "code",
      "source": [
        "working_path = Path('/content/gdrive/MyDrive/CoganLab/Environmental')"
      ],
      "metadata": {
        "id": "XSxCJCVjgtfi"
      },
      "execution_count": 3,
      "outputs": []
    },
    {
      "cell_type": "code",
      "source": [
        "!ls /content/gdrive/MyDrive/CoganLab/Environmental"
      ],
      "metadata": {
        "id": "Ean4VEuNJXzv",
        "outputId": "7a1291ed-3757-4101-ed07-936175f95c20",
        "colab": {
          "base_uri": "https://localhost:8080/"
        }
      },
      "execution_count": 163,
      "outputs": [
        {
          "output_type": "stream",
          "name": "stdout",
          "text": [
            " D29_Block_1_TrialData.mat\t  D85_Block_1_TrialData.mat\n",
            " D64_Block_1_TrialData.mat\t  D86_Block_1_TrialData.mat\n",
            " D65_Block_1_TrialData_1.mat\t  D87_Block_1_TrialData.mat\n",
            " D65_Block_1_TrialData.mat\t  eeg_envir.csv\n",
            "'D71_Block_1_TrialData (1).mat'   eeg_envir_processed.csv\n",
            "'D73_Block_1_TrialData (2).mat'   Environmental_Subject.mat\n",
            "'D77_Block_1_TrialData (1).mat'   healthy\n",
            " D80_Block_1_TrialData.mat\t  ieeg_envir.csv\n",
            " D81_Block_1_TrialData.mat\t  ieeg_envir_processed.csv\n",
            " D84_Block_1_TrialData.mat\t  stimuli\n"
          ]
        }
      ]
    },
    {
      "cell_type": "code",
      "source": [
        "# Patients\n",
        "ieeg = scipy.io.loadmat(\n",
        "    working_path.joinpath('Environmental_Subject.mat')\n",
        "    )\n",
        "\n",
        "subj1 = scipy.io.loadmat(\n",
        "    working_path.joinpath('D65_Block_1_TrialData.mat')\n",
        "    )\n",
        "\n",
        "subj65 = scipy.io.loadmat(\n",
        "    working_path.joinpath('D65_Block_1_TrialData_1.mat')\n",
        "    )\n",
        "\n",
        "subj64 = scipy.io.loadmat(\n",
        "    working_path.joinpath('D64_Block_1_TrialData.mat')\n",
        ")\n",
        "subj73 = scipy.io.loadmat(\n",
        "    working_path.joinpath('D73_Block_1_TrialData (2).mat')\n",
        "    )\n",
        "subj77 = scipy.io.loadmat(\n",
        "    working_path.joinpath('D77_Block_1_TrialData (1).mat')\n",
        "    )\n",
        "subj80 = scipy.io.loadmat(\n",
        "    working_path.joinpath('D80_Block_1_TrialData.mat')\n",
        "    )\n",
        "subj81 = scipy.io.loadmat(\n",
        "    working_path.joinpath('D81_Block_1_TrialData.mat')\n",
        "    )\n",
        "subj84 = scipy.io.loadmat(\n",
        "    working_path.joinpath('D84_Block_1_TrialData.mat')\n",
        "    )\n",
        "subj85 = scipy.io.loadmat(\n",
        "    working_path.joinpath('D85_Block_1_TrialData.mat')\n",
        "    )\n",
        "subj86 = scipy.io.loadmat(\n",
        "    working_path.joinpath('D86_Block_1_TrialData.mat')\n",
        "    )\n",
        "subj87 = scipy.io.loadmat(\n",
        "    working_path.joinpath('D87_Block_1_TrialData.mat')\n",
        "    )\n"
      ],
      "metadata": {
        "id": "F_VMS1EkgvK5",
        "outputId": "947c5643-3012-42ea-d2e9-43ddea99acd2",
        "colab": {
          "base_uri": "https://localhost:8080/",
          "height": 454
        }
      },
      "execution_count": 166,
      "outputs": [
        {
          "output_type": "error",
          "ename": "OSError",
          "evalue": "ignored",
          "traceback": [
            "\u001b[0;31m---------------------------------------------------------------------------\u001b[0m",
            "\u001b[0;31mFileNotFoundError\u001b[0m                         Traceback (most recent call last)",
            "\u001b[0;32m/usr/local/lib/python3.10/dist-packages/scipy/io/matlab/_mio.py\u001b[0m in \u001b[0;36m_open_file\u001b[0;34m(file_like, appendmat, mode)\u001b[0m\n\u001b[1;32m     38\u001b[0m     \u001b[0;32mtry\u001b[0m\u001b[0;34m:\u001b[0m\u001b[0;34m\u001b[0m\u001b[0;34m\u001b[0m\u001b[0m\n\u001b[0;32m---> 39\u001b[0;31m         \u001b[0;32mreturn\u001b[0m \u001b[0mopen\u001b[0m\u001b[0;34m(\u001b[0m\u001b[0mfile_like\u001b[0m\u001b[0;34m,\u001b[0m \u001b[0mmode\u001b[0m\u001b[0;34m)\u001b[0m\u001b[0;34m,\u001b[0m \u001b[0;32mTrue\u001b[0m\u001b[0;34m\u001b[0m\u001b[0;34m\u001b[0m\u001b[0m\n\u001b[0m\u001b[1;32m     40\u001b[0m     \u001b[0;32mexcept\u001b[0m \u001b[0mOSError\u001b[0m \u001b[0;32mas\u001b[0m \u001b[0me\u001b[0m\u001b[0;34m:\u001b[0m\u001b[0;34m\u001b[0m\u001b[0;34m\u001b[0m\u001b[0m\n",
            "\u001b[0;31mFileNotFoundError\u001b[0m: [Errno 2] No such file or directory: '/content/gdrive/MyDrive/CoganLab/Environmental/stimuli/Environmental_Subject.mat'",
            "\nThe above exception was the direct cause of the following exception:\n",
            "\u001b[0;31mOSError\u001b[0m                                   Traceback (most recent call last)",
            "\u001b[0;32m<ipython-input-166-de093b3e1ec5>\u001b[0m in \u001b[0;36m<cell line: 2>\u001b[0;34m()\u001b[0m\n\u001b[1;32m      1\u001b[0m \u001b[0;31m# Patients\u001b[0m\u001b[0;34m\u001b[0m\u001b[0;34m\u001b[0m\u001b[0m\n\u001b[0;32m----> 2\u001b[0;31m ieeg = scipy.io.loadmat(\n\u001b[0m\u001b[1;32m      3\u001b[0m     \u001b[0mworking_path\u001b[0m\u001b[0;34m.\u001b[0m\u001b[0mjoinpath\u001b[0m\u001b[0;34m(\u001b[0m\u001b[0;34m'Environmental_Subject.mat'\u001b[0m\u001b[0;34m)\u001b[0m\u001b[0;34m\u001b[0m\u001b[0;34m\u001b[0m\u001b[0m\n\u001b[1;32m      4\u001b[0m     )\n\u001b[1;32m      5\u001b[0m \u001b[0;34m\u001b[0m\u001b[0m\n",
            "\u001b[0;32m/usr/local/lib/python3.10/dist-packages/scipy/io/matlab/_mio.py\u001b[0m in \u001b[0;36mloadmat\u001b[0;34m(file_name, mdict, appendmat, **kwargs)\u001b[0m\n\u001b[1;32m    223\u001b[0m     \"\"\"\n\u001b[1;32m    224\u001b[0m     \u001b[0mvariable_names\u001b[0m \u001b[0;34m=\u001b[0m \u001b[0mkwargs\u001b[0m\u001b[0;34m.\u001b[0m\u001b[0mpop\u001b[0m\u001b[0;34m(\u001b[0m\u001b[0;34m'variable_names'\u001b[0m\u001b[0;34m,\u001b[0m \u001b[0;32mNone\u001b[0m\u001b[0;34m)\u001b[0m\u001b[0;34m\u001b[0m\u001b[0;34m\u001b[0m\u001b[0m\n\u001b[0;32m--> 225\u001b[0;31m     \u001b[0;32mwith\u001b[0m \u001b[0m_open_file_context\u001b[0m\u001b[0;34m(\u001b[0m\u001b[0mfile_name\u001b[0m\u001b[0;34m,\u001b[0m \u001b[0mappendmat\u001b[0m\u001b[0;34m)\u001b[0m \u001b[0;32mas\u001b[0m \u001b[0mf\u001b[0m\u001b[0;34m:\u001b[0m\u001b[0;34m\u001b[0m\u001b[0;34m\u001b[0m\u001b[0m\n\u001b[0m\u001b[1;32m    226\u001b[0m         \u001b[0mMR\u001b[0m\u001b[0;34m,\u001b[0m \u001b[0m_\u001b[0m \u001b[0;34m=\u001b[0m \u001b[0mmat_reader_factory\u001b[0m\u001b[0;34m(\u001b[0m\u001b[0mf\u001b[0m\u001b[0;34m,\u001b[0m \u001b[0;34m**\u001b[0m\u001b[0mkwargs\u001b[0m\u001b[0;34m)\u001b[0m\u001b[0;34m\u001b[0m\u001b[0;34m\u001b[0m\u001b[0m\n\u001b[1;32m    227\u001b[0m         \u001b[0mmatfile_dict\u001b[0m \u001b[0;34m=\u001b[0m \u001b[0mMR\u001b[0m\u001b[0;34m.\u001b[0m\u001b[0mget_variables\u001b[0m\u001b[0;34m(\u001b[0m\u001b[0mvariable_names\u001b[0m\u001b[0;34m)\u001b[0m\u001b[0;34m\u001b[0m\u001b[0;34m\u001b[0m\u001b[0m\n",
            "\u001b[0;32m/usr/lib/python3.10/contextlib.py\u001b[0m in \u001b[0;36m__enter__\u001b[0;34m(self)\u001b[0m\n\u001b[1;32m    133\u001b[0m         \u001b[0;32mdel\u001b[0m \u001b[0mself\u001b[0m\u001b[0;34m.\u001b[0m\u001b[0margs\u001b[0m\u001b[0;34m,\u001b[0m \u001b[0mself\u001b[0m\u001b[0;34m.\u001b[0m\u001b[0mkwds\u001b[0m\u001b[0;34m,\u001b[0m \u001b[0mself\u001b[0m\u001b[0;34m.\u001b[0m\u001b[0mfunc\u001b[0m\u001b[0;34m\u001b[0m\u001b[0;34m\u001b[0m\u001b[0m\n\u001b[1;32m    134\u001b[0m         \u001b[0;32mtry\u001b[0m\u001b[0;34m:\u001b[0m\u001b[0;34m\u001b[0m\u001b[0;34m\u001b[0m\u001b[0m\n\u001b[0;32m--> 135\u001b[0;31m             \u001b[0;32mreturn\u001b[0m \u001b[0mnext\u001b[0m\u001b[0;34m(\u001b[0m\u001b[0mself\u001b[0m\u001b[0;34m.\u001b[0m\u001b[0mgen\u001b[0m\u001b[0;34m)\u001b[0m\u001b[0;34m\u001b[0m\u001b[0;34m\u001b[0m\u001b[0m\n\u001b[0m\u001b[1;32m    136\u001b[0m         \u001b[0;32mexcept\u001b[0m \u001b[0mStopIteration\u001b[0m\u001b[0;34m:\u001b[0m\u001b[0;34m\u001b[0m\u001b[0;34m\u001b[0m\u001b[0m\n\u001b[1;32m    137\u001b[0m             \u001b[0;32mraise\u001b[0m \u001b[0mRuntimeError\u001b[0m\u001b[0;34m(\u001b[0m\u001b[0;34m\"generator didn't yield\"\u001b[0m\u001b[0;34m)\u001b[0m \u001b[0;32mfrom\u001b[0m \u001b[0;32mNone\u001b[0m\u001b[0;34m\u001b[0m\u001b[0;34m\u001b[0m\u001b[0m\n",
            "\u001b[0;32m/usr/local/lib/python3.10/dist-packages/scipy/io/matlab/_mio.py\u001b[0m in \u001b[0;36m_open_file_context\u001b[0;34m(file_like, appendmat, mode)\u001b[0m\n\u001b[1;32m     15\u001b[0m \u001b[0;34m@\u001b[0m\u001b[0mcontextmanager\u001b[0m\u001b[0;34m\u001b[0m\u001b[0;34m\u001b[0m\u001b[0m\n\u001b[1;32m     16\u001b[0m \u001b[0;32mdef\u001b[0m \u001b[0m_open_file_context\u001b[0m\u001b[0;34m(\u001b[0m\u001b[0mfile_like\u001b[0m\u001b[0;34m,\u001b[0m \u001b[0mappendmat\u001b[0m\u001b[0;34m,\u001b[0m \u001b[0mmode\u001b[0m\u001b[0;34m=\u001b[0m\u001b[0;34m'rb'\u001b[0m\u001b[0;34m)\u001b[0m\u001b[0;34m:\u001b[0m\u001b[0;34m\u001b[0m\u001b[0;34m\u001b[0m\u001b[0m\n\u001b[0;32m---> 17\u001b[0;31m     \u001b[0mf\u001b[0m\u001b[0;34m,\u001b[0m \u001b[0mopened\u001b[0m \u001b[0;34m=\u001b[0m \u001b[0m_open_file\u001b[0m\u001b[0;34m(\u001b[0m\u001b[0mfile_like\u001b[0m\u001b[0;34m,\u001b[0m \u001b[0mappendmat\u001b[0m\u001b[0;34m,\u001b[0m \u001b[0mmode\u001b[0m\u001b[0;34m)\u001b[0m\u001b[0;34m\u001b[0m\u001b[0;34m\u001b[0m\u001b[0m\n\u001b[0m\u001b[1;32m     18\u001b[0m     \u001b[0;32mtry\u001b[0m\u001b[0;34m:\u001b[0m\u001b[0;34m\u001b[0m\u001b[0;34m\u001b[0m\u001b[0m\n\u001b[1;32m     19\u001b[0m         \u001b[0;32myield\u001b[0m \u001b[0mf\u001b[0m\u001b[0;34m\u001b[0m\u001b[0;34m\u001b[0m\u001b[0m\n",
            "\u001b[0;32m/usr/local/lib/python3.10/dist-packages/scipy/io/matlab/_mio.py\u001b[0m in \u001b[0;36m_open_file\u001b[0;34m(file_like, appendmat, mode)\u001b[0m\n\u001b[1;32m     45\u001b[0m             \u001b[0;32mreturn\u001b[0m \u001b[0mopen\u001b[0m\u001b[0;34m(\u001b[0m\u001b[0mfile_like\u001b[0m\u001b[0;34m,\u001b[0m \u001b[0mmode\u001b[0m\u001b[0;34m)\u001b[0m\u001b[0;34m,\u001b[0m \u001b[0;32mTrue\u001b[0m\u001b[0;34m\u001b[0m\u001b[0;34m\u001b[0m\u001b[0m\n\u001b[1;32m     46\u001b[0m         \u001b[0;32melse\u001b[0m\u001b[0;34m:\u001b[0m\u001b[0;34m\u001b[0m\u001b[0;34m\u001b[0m\u001b[0m\n\u001b[0;32m---> 47\u001b[0;31m             raise OSError(\n\u001b[0m\u001b[1;32m     48\u001b[0m                 \u001b[0;34m'Reader needs file name or open file-like object'\u001b[0m\u001b[0;34m\u001b[0m\u001b[0;34m\u001b[0m\u001b[0m\n\u001b[1;32m     49\u001b[0m             ) from e\n",
            "\u001b[0;31mOSError\u001b[0m: Reader needs file name or open file-like object"
          ]
        }
      ]
    },
    {
      "cell_type": "code",
      "source": [
        "working_path = Path('/content/gdrive/MyDrive/CoganLab/Environmental/healthy')"
      ],
      "metadata": {
        "id": "O0-zz-NsewOV"
      },
      "execution_count": 6,
      "outputs": []
    },
    {
      "cell_type": "code",
      "source": [
        "# healthy\n",
        "files = [] \n",
        "begin = 'E'\n",
        "end = '_Block_1_TrialData.mat'\n",
        "files.append(begin + '32' + end)\n",
        "for i in range(34, 47):\n",
        "  files.append(begin + str(i) + end)"
      ],
      "metadata": {
        "id": "-d_XluCJXidr"
      },
      "execution_count": 7,
      "outputs": []
    },
    {
      "cell_type": "code",
      "source": [
        "files[0]"
      ],
      "metadata": {
        "colab": {
          "base_uri": "https://localhost:8080/",
          "height": 36
        },
        "id": "SIN8V10Ie6gM",
        "outputId": "1a53968a-969f-409b-ae74-9666425ee148"
      },
      "execution_count": 8,
      "outputs": [
        {
          "output_type": "execute_result",
          "data": {
            "text/plain": [
              "'E32_Block_1_TrialData.mat'"
            ],
            "application/vnd.google.colaboratory.intrinsic+json": {
              "type": "string"
            }
          },
          "metadata": {},
          "execution_count": 8
        }
      ]
    },
    {
      "cell_type": "code",
      "source": [
        "eeg = []\n",
        "for i in files:\n",
        "  subset = scipy.io.loadmat(\n",
        "      working_path.joinpath(i)\n",
        "  )\n",
        "  eeg.append(subset)"
      ],
      "metadata": {
        "id": "vOupvS0MYjbt"
      },
      "execution_count": 9,
      "outputs": []
    },
    {
      "cell_type": "markdown",
      "source": [
        "#Working with stimuli"
      ],
      "metadata": {
        "id": "4TXoMEgdW9cj"
      }
    },
    {
      "cell_type": "code",
      "source": [
        "working_path = Path('/content/gdrive/MyDrive/CoganLab/Environmental/stimuli')"
      ],
      "metadata": {
        "id": "9N5rDPdvW_Nb"
      },
      "execution_count": 47,
      "outputs": []
    },
    {
      "cell_type": "code",
      "source": [
        "!ls /content/gdrive/MyDrive/CoganLab/Environmental/stimuli"
      ],
      "metadata": {
        "id": "JpqQTpHkXBcz",
        "outputId": "32926b82-6c65-441e-fff9-7308cc4db2af",
        "colab": {
          "base_uri": "https://localhost:8080/"
        }
      },
      "execution_count": 48,
      "outputs": [
        {
          "output_type": "stream",
          "name": "stdout",
          "text": [
            "ieeg_envir.csv\t\t proposed_nw3.mat  proposed_w3_global.mat  untrn_nw.mat\n",
            "imaginability.txt\t proposed_nw.mat   proposed_w3.mat\t   untrn_w.mat\n",
            "proposed_nw3_global.mat  proposed_w2.mat   proposed_w.mat\n"
          ]
        }
      ]
    },
    {
      "cell_type": "code",
      "source": [
        "stimuli_words = scipy.io.loadmat(\n",
        "    working_path.joinpath('proposed_w3.mat')\n",
        ")"
      ],
      "metadata": {
        "id": "xeu87X-LXBfK"
      },
      "execution_count": 49,
      "outputs": []
    },
    {
      "cell_type": "code",
      "source": [
        "columns = stimuli_words['proposed_w'].dtype.names\n",
        "stim_words = pd.DataFrame(columns=columns)\n",
        "for i in range(0, stimuli_words['proposed_w'].shape[1]):\n",
        "  values = []\n",
        "  subset = stimuli_words['proposed_w'][0][i]\n",
        "  for name in columns:\n",
        "    values.append(subset[name])\n",
        "  stim_words.loc[len(stim_words.index)] = values"
      ],
      "metadata": {
        "id": "R39wSkRRXBhl"
      },
      "execution_count": 50,
      "outputs": []
    },
    {
      "cell_type": "code",
      "source": [
        "stimuli = []\n",
        "for i in stim_words.Word.values:\n",
        "  stimuli.append(i[0])\n",
        "\n",
        "freq = []\n",
        "for i in stim_words.SFreq.values:\n",
        "  freq.append(i[0][0])\n",
        "\n",
        "imagine = []\n",
        "for i in stim_words.imaginability.values:\n",
        "  imagine.append(i[0][0])\n",
        "\n",
        "category = []\n",
        "for i in range(0, 24):\n",
        "  category.append('word')"
      ],
      "metadata": {
        "id": "Wjp4axIDXBjy"
      },
      "execution_count": 51,
      "outputs": []
    },
    {
      "cell_type": "code",
      "source": [
        "columns = ['Category', 'Stimulus', 'Frequency', 'Imaginability']\n",
        "words = pd.DataFrame(columns=columns)\n",
        "words['Category'] = category\n",
        "words['Stimulus'] = stimuli\n",
        "words['Frequency'] = freq\n",
        "words['Imaginability'] = imagine"
      ],
      "metadata": {
        "id": "BEYWzNOLXGhC"
      },
      "execution_count": 52,
      "outputs": []
    },
    {
      "cell_type": "code",
      "source": [
        "stimuli_nonwords = scipy.io.loadmat(\n",
        "    working_path.joinpath('proposed_nw3.mat')\n",
        ")"
      ],
      "metadata": {
        "id": "7JwhTUOnXHwC"
      },
      "execution_count": 53,
      "outputs": []
    },
    {
      "cell_type": "code",
      "source": [
        "columns = stimuli_nonwords['proposed_nw'].dtype.names\n",
        "stim_nonwords = pd.DataFrame(columns=columns)\n",
        "for i in range(0, stimuli_nonwords['proposed_nw'].shape[1]):\n",
        "  values = []\n",
        "  subset = stimuli_nonwords['proposed_nw'][0][i]\n",
        "  for name in columns:\n",
        "    values.append(subset[name])\n",
        "  stim_nonwords.loc[len(stim_nonwords.index)] = values"
      ],
      "metadata": {
        "id": "S1RxZF_BXI8K"
      },
      "execution_count": 54,
      "outputs": []
    },
    {
      "cell_type": "code",
      "source": [
        "stimuli = []\n",
        "for i in stim_nonwords.Word.values:\n",
        "  stimuli.append(i[0])\n",
        "\n",
        "freq = []\n",
        "for i in stim_nonwords.SFreq.values:\n",
        "  freq.append(i[0][0])\n",
        "\n",
        "category = []\n",
        "for i in range(0, 24):\n",
        "  category.append('nonword')"
      ],
      "metadata": {
        "id": "xdlJwCTfXI-6"
      },
      "execution_count": 55,
      "outputs": []
    },
    {
      "cell_type": "code",
      "source": [
        "columns = ['Category', 'Stimulus', 'Frequency', 'Imaginability']\n",
        "nonwords = pd.DataFrame(columns=columns)\n",
        "nonwords['Category'] = category\n",
        "nonwords['Stimulus'] = stimuli\n",
        "nonwords['Frequency'] = freq\n",
        "nonwords['Imaginability'] = np.nan"
      ],
      "metadata": {
        "id": "QGVe-GMOXMFi"
      },
      "execution_count": 56,
      "outputs": []
    },
    {
      "cell_type": "code",
      "source": [
        "all_stim = pd.concat([words, nonwords])"
      ],
      "metadata": {
        "id": "79WXJ8YbXNvi"
      },
      "execution_count": 57,
      "outputs": []
    },
    {
      "cell_type": "markdown",
      "source": [
        "# iEEG dataset"
      ],
      "metadata": {
        "id": "HWwi_enRmivH"
      }
    },
    {
      "cell_type": "code",
      "source": [
        "data_ieeg = ieeg['Subject']\n",
        "print('Number of subjects in iEEG dataset is', data_ieeg.shape[1])"
      ],
      "metadata": {
        "colab": {
          "base_uri": "https://localhost:8080/"
        },
        "id": "dCpYgP4ZJxcy",
        "outputId": "9d711291-cc45-489a-b8ee-b1fd2ac982d5"
      },
      "execution_count": 10,
      "outputs": [
        {
          "output_type": "stream",
          "name": "stdout",
          "text": [
            "Number of subjects in iEEG dataset is 19\n"
          ]
        }
      ]
    },
    {
      "cell_type": "code",
      "source": [
        "subjects_ieeg = [] # subject numbers\n",
        "for i in data_ieeg['Name'][0]:\n",
        "  subjects_ieeg.append(i[0])\n",
        "print(subjects_ieeg)"
      ],
      "metadata": {
        "id": "JjFdOE5WJyIR",
        "colab": {
          "base_uri": "https://localhost:8080/"
        },
        "outputId": "71bc4dfc-3fad-4e74-a2f4-c0dbde87f076"
      },
      "execution_count": 11,
      "outputs": [
        {
          "output_type": "stream",
          "name": "stdout",
          "text": [
            "['D27', 'D28', 'D30', 'D31', 'D32', 'D35', 'D37', 'D38', 'D39', 'D41', 'D42', 'D47', 'D53', 'D54', 'D55', 'D57', 'D63', 'D69', 'D71']\n"
          ]
        }
      ]
    },
    {
      "cell_type": "code",
      "source": [
        "columns = []\n",
        "for i in range(0, data_ieeg.shape[1]):\n",
        "  actual = data_ieeg[0][i]['trialInfo'][0][0].dtype.names\n",
        "  for name in actual:\n",
        "    if name not in columns:\n",
        "      columns.append(name)"
      ],
      "metadata": {
        "id": "czxi7jh-wS7V"
      },
      "execution_count": 12,
      "outputs": []
    },
    {
      "cell_type": "code",
      "source": [
        "def get_to_df(data):\n",
        "  df = pd.DataFrame(columns=columns)\n",
        "  df['Trial'] = np.nan\n",
        "  df['Subject'] = np.nan\n",
        "\n",
        "  for i in range(0, data.shape[1]):\n",
        "    # for each subject\n",
        "    subset = data[0][i]\n",
        "    subject = subset['Name'][0]\n",
        "    print(subset['Task'])\n",
        "    print(subject)\n",
        "    for trial in range(0, subset['trialInfo'].shape[1]):\n",
        "      # for each trial\n",
        "      sub = subset['trialInfo'][0][trial]\n",
        "      dtype = sub.dtype.names\n",
        "      values = []\n",
        "      for name in columns:\n",
        "        if name in dtype:\n",
        "          values.append(sub[name])\n",
        "        else:\n",
        "          values.append(np.nan)\n",
        "      values.append(str(trial)) # adding a trial number\n",
        "      values.append(subject)\n",
        "      df.loc[len(df.index)] = values\n",
        "  return df"
      ],
      "metadata": {
        "id": "WKEnfX2zmrDX"
      },
      "execution_count": 13,
      "outputs": []
    },
    {
      "cell_type": "code",
      "source": [
        "ieeg = get_to_df(data_ieeg)"
      ],
      "metadata": {
        "colab": {
          "base_uri": "https://localhost:8080/"
        },
        "id": "lgJnrW6Ru58L",
        "outputId": "39b10f94-b9a9-40af-b394-6f3ba2ad3641"
      },
      "execution_count": 14,
      "outputs": [
        {
          "output_type": "stream",
          "name": "stdout",
          "text": [
            "['Environmental_Sternberg']\n",
            "D27\n",
            "['Environmental_Sternberg']\n",
            "D28\n",
            "['Environmental_Sternberg']\n",
            "D30\n",
            "['Environmental_Sternberg']\n",
            "D31\n",
            "['Environmental_Sternberg']\n",
            "D32\n",
            "['Environmental_Sternberg']\n",
            "D35\n",
            "['Environmental_Sternberg']\n",
            "D37\n",
            "['Environmental_Sternberg']\n",
            "D38\n",
            "['Environmental_Sternberg']\n",
            "D39\n",
            "['Environmental_Sternberg']\n",
            "D41\n",
            "['Environmental_Sternberg']\n",
            "D42\n",
            "['Environmental_Sternberg']\n",
            "D47\n",
            "['Environmental_Sternberg']\n",
            "D53\n",
            "['Environmental_Sternberg']\n",
            "D54\n",
            "['Environmental_Sternberg']\n",
            "D55\n",
            "['Environmental_Sternberg']\n",
            "D57\n",
            "['Environmental_Sternberg']\n",
            "D63\n",
            "['Environmental_Sternberg']\n",
            "D69\n",
            "[]\n",
            "D71\n"
          ]
        }
      ]
    },
    {
      "cell_type": "code",
      "source": [
        "# adding subjects D64\n",
        "df_64 = pd.DataFrame(columns=columns)\n",
        "df_64['Trial'] = np.nan\n",
        "df_64['Subject'] = np.nan\n",
        "for trial in range(0, subj64['trialInfo'].shape[1]):\n",
        "  # for each trial\n",
        "  values = []\n",
        "  subset = subj64['trialInfo'][0][trial]\n",
        "  dtype = subset.dtype.names\n",
        "  for name in columns:\n",
        "    if name in dtype:\n",
        "      values.append(subset[name])\n",
        "    else:\n",
        "      values.append(np.nan)\n",
        "  values.append(str(trial)) # adding a trial number\n",
        "  values.append('D64')\n",
        "  df_64.loc[len(df_64.index)] = values"
      ],
      "metadata": {
        "id": "yfyxCD_o5aSp"
      },
      "execution_count": 15,
      "outputs": []
    },
    {
      "cell_type": "code",
      "source": [
        "# adding subjects D65\n",
        "df_65 = pd.DataFrame(columns=columns)\n",
        "df_65['Trial'] = np.nan\n",
        "df_65['Subject'] = np.nan\n",
        "for trial in range(0, subj1['trialInfo'].shape[1]):\n",
        "  # for each trial\n",
        "  values = []\n",
        "  subset = subj1['trialInfo'][0][trial]\n",
        "  dtype = subset.dtype.names\n",
        "  for name in columns:\n",
        "    if name in dtype:\n",
        "      values.append(subset[name])\n",
        "    else:\n",
        "      values.append(np.nan)\n",
        "  values.append(str(trial)) # adding a trial number\n",
        "  values.append('D65')\n",
        "  df_65.loc[len(df_65.index)] = values\n",
        "  i = 96\n",
        "for trial in range(0, subj65['trialInfo'].shape[1]):\n",
        "  # for each trial\n",
        "  values = []\n",
        "  subset = subj65['trialInfo'][0][trial]\n",
        "  dtype = subset.dtype.names\n",
        "  for name in columns:\n",
        "    if name in dtype:\n",
        "      values.append(subset[name])\n",
        "    else:\n",
        "      values.append(np.nan)\n",
        "  values.append(str(i)) # adding a trial number\n",
        "  values.append('D65')\n",
        "  i += 1\n",
        "  df_65.loc[len(df_65.index)] = values"
      ],
      "metadata": {
        "id": "cUsYed4q7Y4k"
      },
      "execution_count": 16,
      "outputs": []
    },
    {
      "cell_type": "code",
      "source": [
        "ieeg = pd.concat([ieeg, df_64])\n",
        "ieeg = pd.concat([ieeg, df_65])"
      ],
      "metadata": {
        "id": "6Zhiczksm_Oa"
      },
      "execution_count": 17,
      "outputs": []
    },
    {
      "cell_type": "code",
      "source": [
        "# adding subject 73\n",
        "df_73 = pd.DataFrame(columns=columns)\n",
        "df_73['Trial'] = np.nan\n",
        "df_73['Subject'] = np.nan\n",
        "for trial in range(0, subj73['trialInfo'].shape[1]):\n",
        "  # for each trial\n",
        "  values = []\n",
        "  subset = subj73['trialInfo'][0][trial]\n",
        "  dtype = subset.dtype.names\n",
        "  for name in columns:\n",
        "    if name in dtype:\n",
        "      values.append(subset[name])\n",
        "    else:\n",
        "      values.append(np.nan)\n",
        "  values.append(str(trial)) # adding a trial number\n",
        "  values.append('D73')\n",
        "  df_73.loc[len(df_73.index)] = values"
      ],
      "metadata": {
        "id": "RFJAOBZ5Jijr"
      },
      "execution_count": 18,
      "outputs": []
    },
    {
      "cell_type": "code",
      "source": [
        "# adding subject 77\n",
        "df_77 = pd.DataFrame(columns=columns)\n",
        "df_77['Trial'] = np.nan\n",
        "df_77['Subject'] = np.nan\n",
        "for trial in range(0, subj77['trialInfo'].shape[1]):\n",
        "  # for each trial\n",
        "  values = []\n",
        "  subset = subj77['trialInfo'][0][trial]\n",
        "  dtype = subset.dtype.names\n",
        "  for name in columns:\n",
        "    if name in dtype:\n",
        "      values.append(subset[name])\n",
        "    else:\n",
        "      values.append(np.nan)\n",
        "  values.append(str(trial)) # adding a trial number\n",
        "  values.append('D77')\n",
        "  df_77.loc[len(df_77.index)] = values"
      ],
      "metadata": {
        "id": "A2K9bUd_Jkl1"
      },
      "execution_count": 19,
      "outputs": []
    },
    {
      "cell_type": "code",
      "source": [
        "ieeg = pd.concat([ieeg, df_73])\n",
        "ieeg = pd.concat([ieeg, df_77])"
      ],
      "metadata": {
        "id": "rJXPZt0wJ6yh"
      },
      "execution_count": 20,
      "outputs": []
    },
    {
      "cell_type": "code",
      "source": [
        "ieeg.groupby(['Subject'])['Trial'].count()"
      ],
      "metadata": {
        "colab": {
          "base_uri": "https://localhost:8080/"
        },
        "id": "bKrqsbG0m5Oo",
        "outputId": "c15b7731-b396-4d93-af31-c18f9742ef09"
      },
      "execution_count": 21,
      "outputs": [
        {
          "output_type": "execute_result",
          "data": {
            "text/plain": [
              "Subject\n",
              "D27    160\n",
              "D28    120\n",
              "D30    168\n",
              "D31    168\n",
              "D32    168\n",
              "D35    168\n",
              "D37    168\n",
              "D38    160\n",
              "D39    168\n",
              "D41    168\n",
              "D42    168\n",
              "D47    168\n",
              "D53    168\n",
              "D54    168\n",
              "D55    168\n",
              "D57    168\n",
              "D63    168\n",
              "D64    168\n",
              "D65    168\n",
              "D69    168\n",
              "D71    168\n",
              "D73    168\n",
              "D77    168\n",
              "Name: Trial, dtype: int64"
            ]
          },
          "metadata": {},
          "execution_count": 21
        }
      ]
    },
    {
      "cell_type": "code",
      "source": [
        "# saving ieeg dataset\n",
        "working_path = Path('/content/gdrive/MyDrive/CoganLab/Environmental')\n",
        "ieeg.to_csv(\n",
        "    Path(working_path).joinpath('ieeg_envir.csv')\n",
        ")"
      ],
      "metadata": {
        "id": "RFxIg5Mti16Q"
      },
      "execution_count": 22,
      "outputs": []
    },
    {
      "cell_type": "markdown",
      "source": [
        "# Preprocessing of iEEG dataset"
      ],
      "metadata": {
        "id": "SJe2YeU3i4vA"
      }
    },
    {
      "cell_type": "code",
      "source": [
        "ieeg = pd.read_csv(\n",
        "    working_path.joinpath('ieeg_envir.csv')\n",
        "    )"
      ],
      "metadata": {
        "id": "ta-Fpn3pi9II"
      },
      "execution_count": null,
      "outputs": []
    },
    {
      "cell_type": "code",
      "source": [
        "ieeg_alter = pd.read_csv(\n",
        "    working_path.joinpath('ieeg_envir_processed.csv')\n",
        "    )"
      ],
      "metadata": {
        "id": "-0se8zpzmoQ4"
      },
      "execution_count": 23,
      "outputs": []
    },
    {
      "cell_type": "code",
      "source": [
        "ieeg_alter = ieeg_alter.drop('Unnamed: 0', axis=1)"
      ],
      "metadata": {
        "id": "LV4CxD1sm0Jf"
      },
      "execution_count": 24,
      "outputs": []
    },
    {
      "cell_type": "code",
      "source": [
        "ieeg.Subject.unique()"
      ],
      "metadata": {
        "id": "ZcPS6oEomJDB",
        "outputId": "c8af7e59-77a3-422b-9ebf-29e3ae22f649",
        "colab": {
          "base_uri": "https://localhost:8080/"
        }
      },
      "execution_count": 25,
      "outputs": [
        {
          "output_type": "execute_result",
          "data": {
            "text/plain": [
              "array(['D27', 'D28', 'D30', 'D31', 'D32', 'D35', 'D37', 'D38', 'D39',\n",
              "       'D41', 'D42', 'D47', 'D53', 'D54', 'D55', 'D57', 'D63', 'D69',\n",
              "       'D71', 'D64', 'D65', 'D73', 'D77'], dtype=object)"
            ]
          },
          "metadata": {},
          "execution_count": 25
        }
      ]
    },
    {
      "cell_type": "code",
      "source": [
        "ieeg_ = ieeg[['block', 'ProbeType', 'StimlusCategory',\n",
        "       'ReactionTime', 'Resp', 'RespCorrect', 'Omission',\n",
        "       'stimulusSounds_idx', 'stimulusSounds_name', 'ProbeCategory', 'probeSound_idx',\n",
        "       'probeSound_name', 'StimulusCategory', 'Trial',\n",
        "       'Subject']]"
      ],
      "metadata": {
        "id": "_EGtPfoqm_a_"
      },
      "execution_count": 87,
      "outputs": []
    },
    {
      "cell_type": "code",
      "source": [
        "# looks like D27 performed Neighbourhood here\n",
        "# let's exclude them\n",
        "ieeg_ = ieeg_[ieeg_['Subject'] != 'D27']"
      ],
      "metadata": {
        "id": "NI_nJMkbte9V"
      },
      "execution_count": 88,
      "outputs": []
    },
    {
      "cell_type": "code",
      "source": [
        "ieeg_ = ieeg_.drop(['Omission', 'ProbeType'], axis=1)"
      ],
      "metadata": {
        "id": "PuXihCvYt3mr"
      },
      "execution_count": 89,
      "outputs": []
    },
    {
      "cell_type": "code",
      "source": [
        "# working on the columns to make them more convinient to use\n",
        "block = ieeg_.block.values\n",
        "new_block = []\n",
        "for i in block:\n",
        "  while type(i) is np.ndarray:\n",
        "    i = i[0]\n",
        "  new_block.append(i)"
      ],
      "metadata": {
        "id": "gFOIOerGuao2"
      },
      "execution_count": 91,
      "outputs": []
    },
    {
      "cell_type": "code",
      "source": [
        "rt = ieeg_.ReactionTime.values\n",
        "new_rt = []\n",
        "for i in rt:\n",
        "  while type(i) is np.ndarray:\n",
        "    i = i[0]\n",
        "  new_rt.append(i)"
      ],
      "metadata": {
        "id": "VD7CpZ3AuraG"
      },
      "execution_count": 92,
      "outputs": []
    },
    {
      "cell_type": "code",
      "source": [
        "acc = ieeg_.RespCorrect.values\n",
        "new_acc = []\n",
        "for i in acc:\n",
        "  while type(i) is np.ndarray:\n",
        "    i = i[0]\n",
        "  new_acc.append(i)"
      ],
      "metadata": {
        "id": "1SklYD0lvaYe"
      },
      "execution_count": 93,
      "outputs": []
    },
    {
      "cell_type": "code",
      "source": [
        "resp = ieeg_.Resp.values\n",
        "new_resp = []\n",
        "for i in resp:\n",
        "  while type(i) is np.ndarray:\n",
        "    i = i[0]\n",
        "  new_resp.append(i)"
      ],
      "metadata": {
        "id": "4ryfJAVVvun9"
      },
      "execution_count": 94,
      "outputs": []
    },
    {
      "cell_type": "code",
      "source": [
        "probe = ieeg_.ProbeCategory.values\n",
        "new_probe = []\n",
        "for i in probe:\n",
        "  while type(i) is np.ndarray:\n",
        "    i = i[0]\n",
        "  new_probe.append(i)"
      ],
      "metadata": {
        "id": "zsWDIlAiv11t"
      },
      "execution_count": 95,
      "outputs": []
    },
    {
      "cell_type": "code",
      "source": [
        "probe_idx = ieeg_.probeSound_idx.values\n",
        "new_probe_idx = []\n",
        "for i in probe_idx:\n",
        "  while type(i) is np.ndarray:\n",
        "    i = i[0]\n",
        "  new_probe_idx.append(i)"
      ],
      "metadata": {
        "id": "408-8UxUwDNB"
      },
      "execution_count": 96,
      "outputs": []
    },
    {
      "cell_type": "code",
      "source": [
        "stim_idx = ieeg_.stimulusSounds_idx.values\n",
        "new_stim_idx = []\n",
        "for i in stim_idx:\n",
        "  new_i = i[0][0].tolist()\n",
        "  element = []\n",
        "  for j in new_i:\n",
        "    element.append(j[0])\n",
        "  new_stim_idx.append(element)"
      ],
      "metadata": {
        "id": "d-LuQ6iwwKBC"
      },
      "execution_count": 97,
      "outputs": []
    },
    {
      "cell_type": "code",
      "source": [
        "probe_name = ieeg_.probeSound_name.values\n",
        "new_probe_name = []\n",
        "for i in probe_name:\n",
        "  while type(i) is np.ndarray:\n",
        "    i = i[0]\n",
        "  new_probe_name.append(i)"
      ],
      "metadata": {
        "id": "jHYghYY6yC0f"
      },
      "execution_count": 98,
      "outputs": []
    },
    {
      "cell_type": "code",
      "source": [
        "stim_name = ieeg_.stimulusSounds_name.values\n",
        "new_stim_name = []\n",
        "for i in stim_name:\n",
        "  new_i = i[0][0].tolist()\n",
        "  element = []\n",
        "  for j in new_i:\n",
        "    new_j = j[0][0]\n",
        "    if type(new_j) is np.str_:\n",
        "      element.append(new_j)\n",
        "    else: \n",
        "      element.append(new_j[0])\n",
        "  new_stim_name.append(element)"
      ],
      "metadata": {
        "id": "s-SNSqUhx64H"
      },
      "execution_count": 131,
      "outputs": []
    },
    {
      "cell_type": "code",
      "source": [
        "stim1 = ieeg_.StimlusCategory.values\n",
        "stim2 = ieeg_.StimulusCategory.values\n",
        "new_stim = []\n",
        "for i in range(0, ieeg_.shape[0]):\n",
        "  if type(stim1[i]) is np.ndarray:\n",
        "    element = stim1[i][0][0][0]\n",
        "    new_stim.append(element)\n",
        "  elif type(stim2[i]) is np.ndarray:\n",
        "    element = stim2[i][0][0][0]\n",
        "    new_stim.append(element)\n",
        "  else:\n",
        "    print(stim1[i], stim2[i])\n",
        "    break"
      ],
      "metadata": {
        "id": "rZljVc4AzSti"
      },
      "execution_count": 134,
      "outputs": []
    },
    {
      "cell_type": "code",
      "source": [
        "ieeg_['block'] = new_block\n",
        "ieeg_['ReactionTime'] = new_rt\n",
        "ieeg_['RespCorrect'] = new_acc\n",
        "ieeg_['Resp'] = new_resp\n",
        "ieeg_['ProbeCategory'] = new_probe\n",
        "ieeg_['probeSound_idx'] = new_probe_idx\n",
        "ieeg_['stimulusSounds_idx'] = new_stim_idx\n",
        "ieeg_['probeSound_name'] = new_probe_name\n",
        "ieeg_['stimulusSounds_name'] = new_stim_name\n",
        "ieeg_['StimulusCategory'] = new_stim\n",
        "ieeg_ = ieeg_.drop('StimlusCategory', axis=1)"
      ],
      "metadata": {
        "id": "9q_ZIgM0zQd6"
      },
      "execution_count": 135,
      "outputs": []
    },
    {
      "cell_type": "code",
      "source": [
        "length = []\n",
        "for i in ieeg_.stimulusSounds_idx.values:\n",
        "  if len(i) not in length:\n",
        "    length.append(len(i))\n",
        "print(length)"
      ],
      "metadata": {
        "id": "jutG_uG2uyGW",
        "outputId": "a7a60eeb-8bb1-4686-c39a-62d4c42467a7",
        "colab": {
          "base_uri": "https://localhost:8080/"
        }
      },
      "execution_count": 136,
      "outputs": [
        {
          "output_type": "stream",
          "name": "stdout",
          "text": [
            "[3, 7, 9, 5]\n"
          ]
        }
      ]
    },
    {
      "cell_type": "code",
      "source": [
        "length = []\n",
        "for i in ieeg_.stimulusSounds_idx.values:\n",
        "  length.append(len(i))\n",
        "ieeg_['Length'] = length"
      ],
      "metadata": {
        "id": "wE4oJND2bO-i"
      },
      "execution_count": 137,
      "outputs": []
    },
    {
      "cell_type": "code",
      "source": [
        "words = []\n",
        "nonwords = []\n",
        "environment = []\n",
        "for i in ieeg_.StimulusCategory.values:\n",
        "  if i == 'nonwords':\n",
        "    words.append(0)\n",
        "    nonwords.append(1)\n",
        "    environment.append(0)\n",
        "  elif i == 'words':\n",
        "    words.append(1)\n",
        "    nonwords.append(0)\n",
        "    environment.append(0)\n",
        "  elif i == 'environment':\n",
        "    words.append(0)\n",
        "    nonwords.append(0)\n",
        "    environment.append(1)"
      ],
      "metadata": {
        "id": "d7mhMiHCbPAf"
      },
      "execution_count": 138,
      "outputs": []
    },
    {
      "cell_type": "code",
      "source": [
        "ieeg_['Words'] = words\n",
        "ieeg_['Nonwords'] = nonwords\n",
        "ieeg_['Environment'] = environment"
      ],
      "metadata": {
        "id": "33LjtxPPbPEj"
      },
      "execution_count": 139,
      "outputs": []
    },
    {
      "cell_type": "code",
      "source": [
        "ieeg_.groupby(['Subject'])['RespCorrect'].mean()"
      ],
      "metadata": {
        "id": "9OBrS4nVQjOe",
        "outputId": "52d04b10-b56d-469a-fc0d-4d26597e9b5a",
        "colab": {
          "base_uri": "https://localhost:8080/"
        }
      },
      "execution_count": 140,
      "outputs": [
        {
          "output_type": "execute_result",
          "data": {
            "text/plain": [
              "Subject\n",
              "D28    0.750000\n",
              "D30    0.785714\n",
              "D31    0.815476\n",
              "D32    0.779762\n",
              "D35    0.833333\n",
              "D37    0.672619\n",
              "D38    0.800000\n",
              "D39    0.755952\n",
              "D41    0.428571\n",
              "D42    0.875000\n",
              "D47    0.791667\n",
              "D53    0.851190\n",
              "D54    0.488095\n",
              "D55    0.839286\n",
              "D57    0.880952\n",
              "D63    0.738095\n",
              "D64    0.803571\n",
              "D65    0.642857\n",
              "D69    0.732143\n",
              "D71    0.821429\n",
              "D73    0.773810\n",
              "D77    0.779762\n",
              "Name: RespCorrect, dtype: float64"
            ]
          },
          "metadata": {},
          "execution_count": 140
        }
      ]
    },
    {
      "cell_type": "code",
      "source": [
        "# it looks like D28 has the very weird categories and sounds recorded\n",
        "ieeg_ = ieeg_[ieeg_['Subject'] != 'D28']\n",
        "ieeg_ = ieeg_[ieeg_['Subject'] != 'D30']\n",
        "ieeg_ = ieeg_[ieeg_['Subject'] != 'D31']\n",
        "ieeg_ = ieeg_[ieeg_['Subject'] != 'D37']\n",
        "ieeg_ = ieeg_[ieeg_['Subject'] != 'D41']\n",
        "ieeg_ = ieeg_[ieeg_['Subject'] != 'D54']\n",
        "ieeg_ = ieeg_[ieeg_['Subject'] != 'D65']"
      ],
      "metadata": {
        "id": "LyX5DA2DPvU2"
      },
      "execution_count": 141,
      "outputs": []
    },
    {
      "cell_type": "code",
      "source": [
        "new_stim = []\n",
        "for i in all_stim.Stimulus.values:\n",
        "  new_stim.append(i + '.wav')\n",
        "all_stim['Stimulus'] = new_stim"
      ],
      "metadata": {
        "id": "JLVyev92VX_L"
      },
      "execution_count": 155,
      "outputs": []
    },
    {
      "cell_type": "code",
      "source": [
        "category = ieeg_.StimulusCategory.values.tolist()\n",
        "probe = ieeg_.probeSound_name.values\n",
        "stimuli = ieeg_.stimulusSounds_name.values\n",
        "standard = all_stim[all_stim['Category'] == 'word']['Stimulus'].values.tolist()\n",
        "standard_freq = all_stim[all_stim['Category'] == 'word']['Frequency'].values.tolist()\n",
        "standard_imag = all_stim[all_stim['Category'] == 'word']['Imaginability'].values.tolist()\n",
        "\n",
        "\n",
        "stim_freq = []\n",
        "stim_imag = []\n",
        "probe_freq = []\n",
        "probe_imag = []\n",
        "\n",
        "for i in range(0, ieeg_.shape[0]):\n",
        "  if category[i] == 'words':\n",
        "    for name in standard:\n",
        "      if probe[i] == name:\n",
        "        freq = standard_freq[standard.index(name)]\n",
        "        imag = standard_imag[standard.index(name)]\n",
        "        probe_freq.append(freq)\n",
        "        probe_imag.append(imag)\n",
        "\n",
        "    values_freq = []\n",
        "    values_imag = []      \n",
        "    for lis in stimuli[i]:\n",
        "      for name in standard:\n",
        "        if lis == name:\n",
        "          freq = standard_freq[standard.index(name)]\n",
        "          imag = standard_imag[standard.index(name)]\n",
        "          values_freq.append(freq)\n",
        "          values_imag.append(imag)\n",
        "    stim_freq.append(values_freq)\n",
        "    stim_imag.append(values_imag)\n",
        "  \n",
        "  else:\n",
        "    stim_freq.append(np.nan)\n",
        "    stim_imag.append(np.nan)\n",
        "    probe_freq.append(np.nan)\n",
        "    probe_imag.append(np.nan)"
      ],
      "metadata": {
        "id": "Q6-jO_KTbWGS"
      },
      "execution_count": 158,
      "outputs": []
    },
    {
      "cell_type": "code",
      "source": [
        "print(ieeg_.shape)\n",
        "print(len(stim_freq))\n",
        "print(len(stim_imag))\n",
        "print(len(probe_freq))\n",
        "print(len(probe_imag))"
      ],
      "metadata": {
        "id": "6DoL907EPJ0m",
        "outputId": "3749e520-31ad-454d-f2bd-1ad03220056f",
        "colab": {
          "base_uri": "https://localhost:8080/"
        }
      },
      "execution_count": 159,
      "outputs": [
        {
          "output_type": "stream",
          "name": "stdout",
          "text": [
            "(2512, 16)\n",
            "2512\n",
            "2512\n",
            "2512\n",
            "2512\n"
          ]
        }
      ]
    },
    {
      "cell_type": "code",
      "source": [
        "ieeg_['ProbeFreq'] = probe_freq\n",
        "ieeg_['ProbeImag'] = probe_imag\n",
        "ieeg_['StimFreq'] = stim_freq\n",
        "ieeg_['StimImag'] = stim_imag"
      ],
      "metadata": {
        "id": "GFteuOALPDMf"
      },
      "execution_count": 160,
      "outputs": []
    },
    {
      "cell_type": "code",
      "source": [
        "ieeg_.to_csv(\n",
        "    Path(working_path).joinpath('ieeg_envir_processed.csv')\n",
        ")"
      ],
      "metadata": {
        "id": "1EZBCIRgV-Lx"
      },
      "execution_count": null,
      "outputs": []
    },
    {
      "cell_type": "markdown",
      "source": [
        "# EEG dataset"
      ],
      "metadata": {
        "id": "df3nNGE2gsJ5"
      }
    },
    {
      "cell_type": "code",
      "source": [
        "subjects = []\n",
        "for i in files:\n",
        "  subjects.append(i[:3])"
      ],
      "metadata": {
        "id": "d8218jDljnpn"
      },
      "execution_count": null,
      "outputs": []
    },
    {
      "cell_type": "code",
      "source": [
        "columns = []\n",
        "for subject in eeg:\n",
        "  # for each subject\n",
        "  actual = subject['trialInfo'][0][0].dtype.names\n",
        "  for name in actual:\n",
        "    if name not in columns:\n",
        "      columns.append(name)"
      ],
      "metadata": {
        "id": "v1WkEI1thpyC"
      },
      "execution_count": null,
      "outputs": []
    },
    {
      "cell_type": "code",
      "source": [
        "df_ = pd.DataFrame(columns=columns)\n",
        "df_['Trial'] = np.nan\n",
        "df_['Subject'] = np.nan\n",
        "for subject in eeg:\n",
        "  for trial in range(0, subject['trialInfo'].shape[1]):\n",
        "    # for each trial\n",
        "    values = []\n",
        "    subset = subject['trialInfo'][0][trial]\n",
        "    dtype = subset.dtype.names\n",
        "    for name in columns:\n",
        "      if name in dtype:\n",
        "        values.append(subset[name])\n",
        "      else:\n",
        "        print('check')\n",
        "        values.append(np.nan)\n",
        "    values.append(str(trial))\n",
        "    values.append(subjects[eeg.index(subject)])\n",
        "    df_.loc[len(df_.index)] = values"
      ],
      "metadata": {
        "id": "MKfDSgYNhfmc"
      },
      "execution_count": null,
      "outputs": []
    },
    {
      "cell_type": "code",
      "source": [
        "eeg = df_.copy()"
      ],
      "metadata": {
        "id": "rHNN0svMif0U"
      },
      "execution_count": null,
      "outputs": []
    },
    {
      "cell_type": "code",
      "source": [
        "eeg.groupby(['Subject'])['Trial'].count()"
      ],
      "metadata": {
        "colab": {
          "base_uri": "https://localhost:8080/"
        },
        "id": "USSdTDoskujK",
        "outputId": "0ab67b3b-25a8-47c5-d6b2-e670e09646ca"
      },
      "execution_count": null,
      "outputs": [
        {
          "output_type": "execute_result",
          "data": {
            "text/plain": [
              "Subject\n",
              "E32    216\n",
              "E34    216\n",
              "E35    216\n",
              "E36    216\n",
              "E37    216\n",
              "E38    216\n",
              "E39    216\n",
              "E40    184\n",
              "E41    216\n",
              "E42    216\n",
              "E43    216\n",
              "E44    216\n",
              "E45    216\n",
              "E46    216\n",
              "Name: Trial, dtype: int64"
            ]
          },
          "metadata": {},
          "execution_count": 44
        }
      ]
    },
    {
      "cell_type": "code",
      "source": [
        "# saving eeg file \n",
        "eeg.to_csv(\n",
        "    Path(working_path).joinpath('eeg_envir.csv')\n",
        ")"
      ],
      "metadata": {
        "id": "PlyCOaq7jQFg"
      },
      "execution_count": null,
      "outputs": []
    },
    {
      "cell_type": "markdown",
      "source": [
        "#Preprocessing of EEG dataset"
      ],
      "metadata": {
        "id": "xWJEpfDOWBX-"
      }
    },
    {
      "cell_type": "code",
      "source": [
        "eeg = pd.read_csv(\n",
        "    working_path.joinpath('eeg_envir.csv')\n",
        "    )"
      ],
      "metadata": {
        "id": "ASN5PhIbjoGY"
      },
      "execution_count": null,
      "outputs": []
    },
    {
      "cell_type": "code",
      "source": [
        "eeg.Subject.unique()"
      ],
      "metadata": {
        "id": "U39iGHv8WEAH",
        "outputId": "b9c054de-b486-49f5-b3f1-a2bf76051826",
        "colab": {
          "base_uri": "https://localhost:8080/"
        }
      },
      "execution_count": null,
      "outputs": [
        {
          "output_type": "execute_result",
          "data": {
            "text/plain": [
              "array(['E32', 'E34', 'E35', 'E36', 'E37', 'E38', 'E39', 'E40', 'E41',\n",
              "       'E42', 'E43', 'E44', 'E45', 'E46'], dtype=object)"
            ]
          },
          "metadata": {},
          "execution_count": 46
        }
      ]
    },
    {
      "cell_type": "code",
      "source": [
        "len(eeg.Subject.unique())"
      ],
      "metadata": {
        "id": "ExbUkq_-WNf9",
        "outputId": "f2e5b61e-8d80-46aa-d4cb-155b21ca9a42",
        "colab": {
          "base_uri": "https://localhost:8080/"
        }
      },
      "execution_count": null,
      "outputs": [
        {
          "output_type": "execute_result",
          "data": {
            "text/plain": [
              "14"
            ]
          },
          "metadata": {},
          "execution_count": 48
        }
      ]
    },
    {
      "cell_type": "code",
      "source": [
        "eeg_ = eeg[[\n",
        "    'block', 'StimulusCategory', 'ReactionTime',\n",
        "       'Resp', 'RespCorrect', 'stimulusSounds_idx',\n",
        "       'ProbeCategory', 'probeSound_idx',\n",
        "       'Trial', 'Subject', 'stimulusSounds_name', 'probeSound_name'\n",
        "]]"
      ],
      "metadata": {
        "id": "lWt9sfQIWKF1"
      },
      "execution_count": null,
      "outputs": []
    },
    {
      "cell_type": "markdown",
      "source": [
        "Getting rid of additional lists containing lists"
      ],
      "metadata": {
        "id": "b-CeaAGuWRAF"
      }
    },
    {
      "cell_type": "code",
      "source": [
        "block = eeg_.block.values\n",
        "new_block = []\n",
        "for i in block:\n",
        "  while type(i) is np.ndarray:\n",
        "    i = i[0]\n",
        "  new_block.append(i)"
      ],
      "metadata": {
        "id": "jg7wxjdxWNiM"
      },
      "execution_count": null,
      "outputs": []
    },
    {
      "cell_type": "code",
      "source": [
        "stim_cat = eeg_.StimulusCategory.values\n",
        "new_stim = []\n",
        "for i in stim_cat:\n",
        "  if 'environment' in i:\n",
        "    new_stim.append('environment')\n",
        "  elif 'nonwords' in i:\n",
        "    new_stim.append('nonwords')\n",
        "  elif 'words' in i:\n",
        "    new_stim.append('words')"
      ],
      "metadata": {
        "id": "6nxrRdonWNkc"
      },
      "execution_count": null,
      "outputs": []
    },
    {
      "cell_type": "code",
      "source": [
        "rt = eeg_.ReactionTime.values\n",
        "new_rt = []\n",
        "for i in rt:\n",
        "  while type(i) is np.ndarray:\n",
        "    i = i[0]\n",
        "  new_rt.append(i)"
      ],
      "metadata": {
        "id": "IhSi3WnLWWPV"
      },
      "execution_count": null,
      "outputs": []
    },
    {
      "cell_type": "code",
      "source": [
        "acc = eeg_.RespCorrect.values\n",
        "new_acc = []\n",
        "for i in acc:\n",
        "  while type(i) is np.ndarray:\n",
        "    i = i[0]\n",
        "  new_acc.append(i)"
      ],
      "metadata": {
        "id": "MuDuNjJUWNmt"
      },
      "execution_count": null,
      "outputs": []
    },
    {
      "cell_type": "code",
      "source": [
        "resp = eeg_.Resp.values\n",
        "new_resp = []\n",
        "for i in resp:\n",
        "  while type(i) is np.ndarray:\n",
        "    i = i[0]\n",
        "  new_resp.append(i)"
      ],
      "metadata": {
        "id": "-oL5z10jWafF"
      },
      "execution_count": null,
      "outputs": []
    },
    {
      "cell_type": "code",
      "source": [
        "probe = eeg_.ProbeCategory.values\n",
        "new_probe = []\n",
        "for i in probe:\n",
        "  while type(i) is np.ndarray:\n",
        "    i = i[0]\n",
        "  new_probe.append(i)"
      ],
      "metadata": {
        "id": "M6vWFDx8WddM"
      },
      "execution_count": null,
      "outputs": []
    },
    {
      "cell_type": "code",
      "source": [
        "probe_idx = eeg_.probeSound_idx.values\n",
        "new_probe_idx = []\n",
        "for i in probe_idx:\n",
        "  while type(i) is np.ndarray:\n",
        "    i = i[0]\n",
        "  new_probe_idx.append(i)"
      ],
      "metadata": {
        "id": "iy2udWp4Wdfb"
      },
      "execution_count": null,
      "outputs": []
    },
    {
      "cell_type": "code",
      "source": [
        "stim_idx = eeg_.stimulusSounds_idx.values\n",
        "new_stim_idx = []\n",
        "for i in stim_idx:\n",
        "  new_i = i[0][0].tolist()\n",
        "  element = []\n",
        "  for j in new_i:\n",
        "    element.append(j[0])\n",
        "  new_stim_idx.append(element)"
      ],
      "metadata": {
        "id": "KMtTk9VeWdhz"
      },
      "execution_count": null,
      "outputs": []
    },
    {
      "cell_type": "code",
      "source": [
        "eeg_['block'] = new_block\n",
        "eeg_['StimulusCategory'] = new_stim\n",
        "eeg_['ReactionTime'] = new_rt\n",
        "eeg_['RespCorrect'] = new_acc\n",
        "eeg_['Resp'] = new_resp\n",
        "eeg_['ProbeCategory'] = new_probe\n",
        "eeg_['probeSound_idx'] = new_probe_idx\n",
        "eeg_['stimulusSounds_idx'] = new_stim_idx"
      ],
      "metadata": {
        "id": "k3FOqiJYWhg0",
        "outputId": "a7fd3d88-af38-4800-b9fc-c54bbbc74c7a",
        "colab": {
          "base_uri": "https://localhost:8080/"
        }
      },
      "execution_count": null,
      "outputs": [
        {
          "output_type": "stream",
          "name": "stderr",
          "text": [
            "<ipython-input-58-ea534a877bb7>:1: SettingWithCopyWarning: \n",
            "A value is trying to be set on a copy of a slice from a DataFrame.\n",
            "Try using .loc[row_indexer,col_indexer] = value instead\n",
            "\n",
            "See the caveats in the documentation: https://pandas.pydata.org/pandas-docs/stable/user_guide/indexing.html#returning-a-view-versus-a-copy\n",
            "  eeg_['block'] = new_block\n",
            "<ipython-input-58-ea534a877bb7>:2: SettingWithCopyWarning: \n",
            "A value is trying to be set on a copy of a slice from a DataFrame.\n",
            "Try using .loc[row_indexer,col_indexer] = value instead\n",
            "\n",
            "See the caveats in the documentation: https://pandas.pydata.org/pandas-docs/stable/user_guide/indexing.html#returning-a-view-versus-a-copy\n",
            "  eeg_['StimulusCategory'] = new_stim\n",
            "<ipython-input-58-ea534a877bb7>:3: SettingWithCopyWarning: \n",
            "A value is trying to be set on a copy of a slice from a DataFrame.\n",
            "Try using .loc[row_indexer,col_indexer] = value instead\n",
            "\n",
            "See the caveats in the documentation: https://pandas.pydata.org/pandas-docs/stable/user_guide/indexing.html#returning-a-view-versus-a-copy\n",
            "  eeg_['ReactionTime'] = new_rt\n",
            "<ipython-input-58-ea534a877bb7>:4: SettingWithCopyWarning: \n",
            "A value is trying to be set on a copy of a slice from a DataFrame.\n",
            "Try using .loc[row_indexer,col_indexer] = value instead\n",
            "\n",
            "See the caveats in the documentation: https://pandas.pydata.org/pandas-docs/stable/user_guide/indexing.html#returning-a-view-versus-a-copy\n",
            "  eeg_['RespCorrect'] = new_acc\n",
            "<ipython-input-58-ea534a877bb7>:5: SettingWithCopyWarning: \n",
            "A value is trying to be set on a copy of a slice from a DataFrame.\n",
            "Try using .loc[row_indexer,col_indexer] = value instead\n",
            "\n",
            "See the caveats in the documentation: https://pandas.pydata.org/pandas-docs/stable/user_guide/indexing.html#returning-a-view-versus-a-copy\n",
            "  eeg_['Resp'] = new_resp\n",
            "<ipython-input-58-ea534a877bb7>:6: SettingWithCopyWarning: \n",
            "A value is trying to be set on a copy of a slice from a DataFrame.\n",
            "Try using .loc[row_indexer,col_indexer] = value instead\n",
            "\n",
            "See the caveats in the documentation: https://pandas.pydata.org/pandas-docs/stable/user_guide/indexing.html#returning-a-view-versus-a-copy\n",
            "  eeg_['ProbeCategory'] = new_probe\n",
            "<ipython-input-58-ea534a877bb7>:7: SettingWithCopyWarning: \n",
            "A value is trying to be set on a copy of a slice from a DataFrame.\n",
            "Try using .loc[row_indexer,col_indexer] = value instead\n",
            "\n",
            "See the caveats in the documentation: https://pandas.pydata.org/pandas-docs/stable/user_guide/indexing.html#returning-a-view-versus-a-copy\n",
            "  eeg_['probeSound_idx'] = new_probe_idx\n",
            "<ipython-input-58-ea534a877bb7>:8: SettingWithCopyWarning: \n",
            "A value is trying to be set on a copy of a slice from a DataFrame.\n",
            "Try using .loc[row_indexer,col_indexer] = value instead\n",
            "\n",
            "See the caveats in the documentation: https://pandas.pydata.org/pandas-docs/stable/user_guide/indexing.html#returning-a-view-versus-a-copy\n",
            "  eeg_['stimulusSounds_idx'] = new_stim_idx\n"
          ]
        }
      ]
    },
    {
      "cell_type": "code",
      "source": [
        "length = []\n",
        "for i in eeg_.stimulusSounds_idx.values:\n",
        "  if len(i) not in length:\n",
        "    length.append(len(i))\n",
        "print(length)"
      ],
      "metadata": {
        "id": "G4_mN3dAWj1V",
        "outputId": "cad76065-dc80-4a1c-f424-b0e47ef29be6",
        "colab": {
          "base_uri": "https://localhost:8080/"
        }
      },
      "execution_count": null,
      "outputs": [
        {
          "output_type": "stream",
          "name": "stdout",
          "text": [
            "[3, 7, 9, 5]\n"
          ]
        }
      ]
    },
    {
      "cell_type": "code",
      "source": [
        "length = []\n",
        "for i in eeg_.stimulusSounds_idx.values:\n",
        "  length.append(len(i))\n",
        "eeg_['Length'] = length"
      ],
      "metadata": {
        "id": "OrtdvxaPWj98",
        "outputId": "fdaa7a84-2752-49b0-9bb8-02888ed70d1d",
        "colab": {
          "base_uri": "https://localhost:8080/"
        }
      },
      "execution_count": null,
      "outputs": [
        {
          "output_type": "stream",
          "name": "stderr",
          "text": [
            "<ipython-input-60-d50296b58efb>:4: SettingWithCopyWarning: \n",
            "A value is trying to be set on a copy of a slice from a DataFrame.\n",
            "Try using .loc[row_indexer,col_indexer] = value instead\n",
            "\n",
            "See the caveats in the documentation: https://pandas.pydata.org/pandas-docs/stable/user_guide/indexing.html#returning-a-view-versus-a-copy\n",
            "  eeg_['Length'] = length\n"
          ]
        }
      ]
    },
    {
      "cell_type": "code",
      "source": [
        "words = []\n",
        "nonwords = []\n",
        "environment = []\n",
        "for i in eeg_.StimulusCategory.values:\n",
        "  if i == 'nonwords':\n",
        "    words.append(0)\n",
        "    nonwords.append(1)\n",
        "    environment.append(0)\n",
        "  elif i == 'words':\n",
        "    words.append(1)\n",
        "    nonwords.append(0)\n",
        "    environment.append(0)\n",
        "  elif i == 'environment':\n",
        "    words.append(0)\n",
        "    nonwords.append(0)\n",
        "    environment.append(1)"
      ],
      "metadata": {
        "id": "msUsBDxGWlPE"
      },
      "execution_count": null,
      "outputs": []
    },
    {
      "cell_type": "code",
      "source": [
        "eeg_['Words'] = words\n",
        "eeg_['Nonwords'] = nonwords\n",
        "eeg_['Environment'] = environment"
      ],
      "metadata": {
        "id": "VpBlzVF0Wmkc",
        "outputId": "720525ce-729d-4deb-c2bb-2f0da3ec081a",
        "colab": {
          "base_uri": "https://localhost:8080/"
        }
      },
      "execution_count": null,
      "outputs": [
        {
          "output_type": "stream",
          "name": "stderr",
          "text": [
            "<ipython-input-62-3c31c9b484ea>:1: SettingWithCopyWarning: \n",
            "A value is trying to be set on a copy of a slice from a DataFrame.\n",
            "Try using .loc[row_indexer,col_indexer] = value instead\n",
            "\n",
            "See the caveats in the documentation: https://pandas.pydata.org/pandas-docs/stable/user_guide/indexing.html#returning-a-view-versus-a-copy\n",
            "  eeg_['Words'] = words\n",
            "<ipython-input-62-3c31c9b484ea>:2: SettingWithCopyWarning: \n",
            "A value is trying to be set on a copy of a slice from a DataFrame.\n",
            "Try using .loc[row_indexer,col_indexer] = value instead\n",
            "\n",
            "See the caveats in the documentation: https://pandas.pydata.org/pandas-docs/stable/user_guide/indexing.html#returning-a-view-versus-a-copy\n",
            "  eeg_['Nonwords'] = nonwords\n",
            "<ipython-input-62-3c31c9b484ea>:3: SettingWithCopyWarning: \n",
            "A value is trying to be set on a copy of a slice from a DataFrame.\n",
            "Try using .loc[row_indexer,col_indexer] = value instead\n",
            "\n",
            "See the caveats in the documentation: https://pandas.pydata.org/pandas-docs/stable/user_guide/indexing.html#returning-a-view-versus-a-copy\n",
            "  eeg_['Environment'] = environment\n"
          ]
        }
      ]
    },
    {
      "cell_type": "code",
      "source": [
        "probe_names = eeg_.probeSound_name.values\n",
        "new_probe_names = []\n",
        "for name in probe_names:\n",
        "  name = name[0][0][0]\n",
        "  new_probe_names.append(name)"
      ],
      "metadata": {
        "id": "-8aj5vtHWqjT"
      },
      "execution_count": null,
      "outputs": []
    },
    {
      "cell_type": "code",
      "source": [
        "stimulus_names = eeg_.stimulusSounds_name.values\n",
        "new_stim_names = []\n",
        "for name in stimulus_names:\n",
        "  name = name[0][0]\n",
        "  new_name = []\n",
        "  for j in name:\n",
        "    new_name.append(j[0][0])\n",
        "  new_stim_names.append(new_name)"
      ],
      "metadata": {
        "id": "fdDosPjjdgTa"
      },
      "execution_count": null,
      "outputs": []
    },
    {
      "cell_type": "code",
      "source": [
        "new_new_stim_names = []\n",
        "for element in new_stim_names:\n",
        "  new_element = []\n",
        "  for name in element:\n",
        "    new_element.append(name[:-4])\n",
        "  new_new_stim_names.append(new_element)"
      ],
      "metadata": {
        "id": "b7dytnJRjHLH"
      },
      "execution_count": null,
      "outputs": []
    },
    {
      "cell_type": "code",
      "source": [
        "new_new_probe_names = []\n",
        "for i in new_probe_names:\n",
        "  new_new_probe_names.append(i[:-4])"
      ],
      "metadata": {
        "id": "iP9FYg-vjNwH"
      },
      "execution_count": null,
      "outputs": []
    },
    {
      "cell_type": "code",
      "source": [
        "eeg_['stimulusSounds_name'] = new_new_stim_names\n",
        "eeg_['probeSound_name'] = new_new_probe_names"
      ],
      "metadata": {
        "id": "a-lsps3_WuCj",
        "outputId": "22e739f4-f0ce-46a7-930e-5ef0df663e75",
        "colab": {
          "base_uri": "https://localhost:8080/"
        }
      },
      "execution_count": null,
      "outputs": [
        {
          "output_type": "stream",
          "name": "stderr",
          "text": [
            "<ipython-input-67-a747f04adf7e>:1: SettingWithCopyWarning: \n",
            "A value is trying to be set on a copy of a slice from a DataFrame.\n",
            "Try using .loc[row_indexer,col_indexer] = value instead\n",
            "\n",
            "See the caveats in the documentation: https://pandas.pydata.org/pandas-docs/stable/user_guide/indexing.html#returning-a-view-versus-a-copy\n",
            "  eeg_['stimulusSounds_name'] = new_new_stim_names\n",
            "<ipython-input-67-a747f04adf7e>:2: SettingWithCopyWarning: \n",
            "A value is trying to be set on a copy of a slice from a DataFrame.\n",
            "Try using .loc[row_indexer,col_indexer] = value instead\n",
            "\n",
            "See the caveats in the documentation: https://pandas.pydata.org/pandas-docs/stable/user_guide/indexing.html#returning-a-view-versus-a-copy\n",
            "  eeg_['probeSound_name'] = new_new_probe_names\n"
          ]
        }
      ]
    },
    {
      "cell_type": "markdown",
      "source": [
        "**Adding frequency and imaginabilty scores**"
      ],
      "metadata": {
        "id": "1o0b794bWx6j"
      }
    },
    {
      "cell_type": "code",
      "source": [
        "category = eeg_.StimulusCategory.values.tolist()\n",
        "probe = eeg_.probeSound_name.values\n",
        "stimuli = eeg_.stimulusSounds_name.values\n",
        "standard = all_stim[all_stim['Category'] == 'word']['Stimulus'].values.tolist()\n",
        "standard_freq = all_stim[all_stim['Category'] == 'word']['Frequency'].values.tolist()\n",
        "standard_imag = all_stim[all_stim['Category'] == 'word']['Imaginability'].values.tolist()\n",
        "\n",
        "stim_freq = []\n",
        "stim_imag = []\n",
        "probe_freq = []\n",
        "probe_imag = []\n",
        "\n",
        "for i in range(0, eeg_.shape[0]):\n",
        "  if category[i] == 'words':\n",
        "    for name in standard:\n",
        "      if probe[i] == name:\n",
        "        freq = standard_freq[standard.index(name)]\n",
        "        imag = standard_imag[standard.index(name)]\n",
        "        probe_freq.append(freq)\n",
        "        probe_imag.append(imag)\n",
        "\n",
        "    values_freq = []\n",
        "    values_imag = []      \n",
        "    for lis in stimuli[i]:\n",
        "      for name in standard:\n",
        "        if lis == name:\n",
        "          freq = standard_freq[standard.index(name)]\n",
        "          imag = standard_imag[standard.index(name)]\n",
        "          values_freq.append(freq)\n",
        "          values_imag.append(imag)\n",
        "    stim_freq.append(values_freq)\n",
        "    stim_imag.append(values_imag)\n",
        "  \n",
        "  else:\n",
        "    stim_freq.append(np.nan)\n",
        "    stim_imag.append(np.nan)\n",
        "    probe_freq.append(np.nan)\n",
        "    probe_imag.append(np.nan)"
      ],
      "metadata": {
        "id": "HFlzddZvWwbE"
      },
      "execution_count": null,
      "outputs": []
    },
    {
      "cell_type": "code",
      "source": [
        "print(eeg_.shape)\n",
        "print(len(stim_freq))\n",
        "print(len(stim_imag))\n",
        "print(len(probe_freq))\n",
        "print(len(probe_imag))"
      ],
      "metadata": {
        "id": "jztwIV7BW0Mz",
        "outputId": "b0ac4f09-2141-4505-fe94-f73f1e9cf7c2",
        "colab": {
          "base_uri": "https://localhost:8080/"
        }
      },
      "execution_count": null,
      "outputs": [
        {
          "output_type": "stream",
          "name": "stdout",
          "text": [
            "(2992, 16)\n",
            "2992\n",
            "2992\n",
            "2992\n",
            "2992\n"
          ]
        }
      ]
    },
    {
      "cell_type": "code",
      "source": [
        "eeg_['ProbeFreq'] = probe_freq\n",
        "eeg_['ProbeImag'] = probe_imag\n",
        "eeg_['StimFreq'] = stim_freq\n",
        "eeg_['StimImag'] = stim_imag"
      ],
      "metadata": {
        "id": "uNiFGOeVW1lF",
        "outputId": "e3a8dcdf-e8bf-4304-8bd6-0be56f23a179",
        "colab": {
          "base_uri": "https://localhost:8080/"
        }
      },
      "execution_count": null,
      "outputs": [
        {
          "output_type": "stream",
          "name": "stderr",
          "text": [
            "<ipython-input-70-c1691c97d5de>:1: SettingWithCopyWarning: \n",
            "A value is trying to be set on a copy of a slice from a DataFrame.\n",
            "Try using .loc[row_indexer,col_indexer] = value instead\n",
            "\n",
            "See the caveats in the documentation: https://pandas.pydata.org/pandas-docs/stable/user_guide/indexing.html#returning-a-view-versus-a-copy\n",
            "  eeg_['ProbeFreq'] = probe_freq\n",
            "<ipython-input-70-c1691c97d5de>:2: SettingWithCopyWarning: \n",
            "A value is trying to be set on a copy of a slice from a DataFrame.\n",
            "Try using .loc[row_indexer,col_indexer] = value instead\n",
            "\n",
            "See the caveats in the documentation: https://pandas.pydata.org/pandas-docs/stable/user_guide/indexing.html#returning-a-view-versus-a-copy\n",
            "  eeg_['ProbeImag'] = probe_imag\n",
            "<ipython-input-70-c1691c97d5de>:3: SettingWithCopyWarning: \n",
            "A value is trying to be set on a copy of a slice from a DataFrame.\n",
            "Try using .loc[row_indexer,col_indexer] = value instead\n",
            "\n",
            "See the caveats in the documentation: https://pandas.pydata.org/pandas-docs/stable/user_guide/indexing.html#returning-a-view-versus-a-copy\n",
            "  eeg_['StimFreq'] = stim_freq\n",
            "<ipython-input-70-c1691c97d5de>:4: SettingWithCopyWarning: \n",
            "A value is trying to be set on a copy of a slice from a DataFrame.\n",
            "Try using .loc[row_indexer,col_indexer] = value instead\n",
            "\n",
            "See the caveats in the documentation: https://pandas.pydata.org/pandas-docs/stable/user_guide/indexing.html#returning-a-view-versus-a-copy\n",
            "  eeg_['StimImag'] = stim_imag\n"
          ]
        }
      ]
    },
    {
      "cell_type": "code",
      "source": [
        "# saving the file\n",
        "eeg_.to_csv(\n",
        "    Path(working_path).joinpath('eeg_envir_processed.csv')\n",
        ")"
      ],
      "metadata": {
        "id": "I7HqA22bl9X4"
      },
      "execution_count": null,
      "outputs": []
    }
  ]
}